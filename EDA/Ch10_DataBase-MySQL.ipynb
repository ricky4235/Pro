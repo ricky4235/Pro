{
 "cells": [
  {
   "cell_type": "markdown",
   "metadata": {},
   "source": [
    "http://www.runoob.com/python3/python3-mysql.html"
   ]
  },
  {
   "cell_type": "markdown",
   "metadata": {},
   "source": [
    "前面的文章里寫的爬蟲都是直接把爬取的數據列印出來。在實際的應用中，當然不能這麼做，我們需要將數據存儲起來。<br>\n",
    "存儲數據的方式有很多中，比如存儲在文本文件中，或者是存儲在資料庫中。<br>\n",
    "為了使用數據的便捷性，我們選擇將數據存儲在資料庫中。<br>\n",
    "資料庫主流的兩種類型為：SQL（關係型資料庫）和NoSQL（非關係型資料庫）"
   ]
  },
  {
   "cell_type": "markdown",
   "metadata": {},
   "source": [
    "# 關於SQL"
   ]
  },
  {
   "cell_type": "markdown",
   "metadata": {},
   "source": [
    "SQL 是 Structured Query Language 的簡寫，也就是『結構化的查詢語言』<br>\n",
    "以檔案為基礎（File-based）的小型簡易資料庫（例如 DBASE、FoxPro、Access資料庫等），<br>\n",
    "以主從架構（Client-Server）為基礎的中大型資料庫（例如 甲骨文的 Oracle、Microsoft 的 SQL Server、IBM 的 DB2 等）<br>\n",
    "\n",
    "請不要把 Microsoft SQL Server 與 SQL 搞混了，前者是 Microsoft 資料庫產品的名稱，<br>\n",
    "只是眾多資料庫系統中的一種（名字當中故意取個SQL）；後者則是程式與資料庫之間溝通的語言。<br>\n",
    "\n",
    "也不要把 SQL 與一般的程式語言（如 VB、C++、Pascal 等）混為一談，後者指的是開發程式用的語言，與前者的性質及功能不同。"
   ]
  },
  {
   "cell_type": "markdown",
   "metadata": {},
   "source": [
    "# 0.安裝MySQL"
   ]
  },
  {
   "cell_type": "code",
   "execution_count": null,
   "metadata": {},
   "outputs": [],
   "source": [
    "pip install pymysql"
   ]
  },
  {
   "cell_type": "markdown",
   "metadata": {},
   "source": [
    "# 1.連線資料庫"
   ]
  },
  {
   "cell_type": "code",
   "execution_count": 32,
   "metadata": {},
   "outputs": [
    {
     "name": "stdout",
     "output_type": "stream",
     "text": [
      "Database version : 8.0.18 \n"
     ]
    }
   ],
   "source": [
    "import pymysql\n",
    "\n",
    "# 打開數據庫連接\n",
    "db = pymysql.connect(\"localhost\", \"root\", \"admin\", charset=\"utf8\")\n",
    "\n",
    "# 使用 cursor() 方法創建一個游標對象 cursor\n",
    "cursor = db.cursor()\n",
    "\n",
    "# 使用 execute() 方法執行 SQL 查詢\n",
    "cursor.execute(\"SELECT VERSION()\")\n",
    "\n",
    "# 使用 fetchone() 方法獲取單條數據.\n",
    "data = cursor.fetchone()\n",
    "\n",
    "#舊式的字串格式化方法是使用 % 運算子，前面放置輸出的文字樣板，後面放置要安插的資料，%s\t以 str()函數輸出文字。\n",
    "print (\"Database version : %s \" % data) \n",
    "\n",
    "# 關閉數據庫連接\n",
    "db.close()"
   ]
  },
  {
   "cell_type": "markdown",
   "metadata": {},
   "source": [
    "# 2.創建資料表"
   ]
  },
  {
   "cell_type": "code",
   "execution_count": 37,
   "metadata": {},
   "outputs": [
    {
     "name": "stderr",
     "output_type": "stream",
     "text": [
      "C:\\Users\\11004076\\Anaconda3\\lib\\site-packages\\pymysql\\cursors.py:170: Warning: (1051, \"Unknown table 'addressbook.employee'\")\n",
      "  result = self._query(query)\n"
     ]
    }
   ],
   "source": [
    "import pymysql\n",
    "\n",
    "# 打開數據庫連接\n",
    "db = pymysql.connect(\"localhost\", \"root\", \"admin\",\"addressbook\" )\n",
    "\n",
    "# 使用 cursor() 方法創建一個游標對象 cursor\n",
    "cursor = db.cursor()\n",
    "\n",
    "# 使用 execute() 方法執行 SQL，如果表存在則刪除\n",
    "cursor.execute(\"DROP TABLE IF EXISTS EMPLOYEE\")\n",
    "\n",
    "# 使用預處理語句創建表\n",
    "sql = \"\"\"CREATE TABLE EMPLOYEE (\n",
    "         FIRST_NAME CHAR(20) NOT NULL,\n",
    "         LAST_NAME CHAR(20),\n",
    "         AGE INT,\n",
    "         SEX CHAR(1),\n",
    "         INCOME FLOAT )\"\"\"\n",
    "\n",
    "cursor.execute(sql)\n",
    "\n",
    "# 關閉數據庫連接\n",
    "db.close()"
   ]
  },
  {
   "cell_type": "markdown",
   "metadata": {},
   "source": [
    "# 3.插入(新增)資料"
   ]
  },
  {
   "cell_type": "code",
   "execution_count": 50,
   "metadata": {},
   "outputs": [],
   "source": [
    "import pymysql\n",
    "\n",
    "# 打開數據庫連接\n",
    "db = pymysql.connect(\"localhost\", \"root\", \"admin\",\"addressbook\", charset=\"utf8\")\n",
    "\n",
    "# 使用cursor()方法獲取操作游標\n",
    "cursor = db.cursor()\n",
    "\n",
    "# SQL 插入語句\n",
    "sql = \"\"\"INSERT INTO EMPLOYEE(FIRST_NAME, LAST_NAME, AGE, SEX, INCOME)\n",
    "         VALUES ('Mac', 'Mohan', 20, 'M', 2000)\"\"\"\n",
    "try:\n",
    "# 執行sql語句\n",
    "    cursor.execute(sql)\n",
    "# 提交到數據庫執行\n",
    "    db.commit()\n",
    "except:\n",
    "# 如果發生錯誤則回滾\n",
    "    db.rollback()\n",
    "\n",
    "# 關閉數據庫連接\n",
    "db.close()"
   ]
  },
  {
   "cell_type": "markdown",
   "metadata": {},
   "source": [
    "# 4.查詢資料\n",
    "fetchone(): 該方法獲取下一個查詢結果集。結果集是一個對象<br>\n",
    "fetchall(): 接收全部的返回結果行。<br>\n",
    "rowcount: 這是一個只讀屬性，並返回執行execute()方法後影響的行數。<br>"
   ]
  },
  {
   "cell_type": "code",
   "execution_count": 65,
   "metadata": {},
   "outputs": [
    {
     "name": "stdout",
     "output_type": "stream",
     "text": [
      "Error: unable to fetch data\n"
     ]
    }
   ],
   "source": [
    "import pymysql\n",
    "\n",
    "# 打開數據庫連接\n",
    "db = pymysql.connect(\"localhost\", \"root\", \"admin\",\"addressbook\", charset=\"utf8\")\n",
    "\n",
    "# 使用cursor()方法獲取操作游標\n",
    "cursor = db.cursor()\n",
    "\n",
    "# SQL 查詢語句\n",
    "sql = \"SELECT * FROM EMPLOYEE \\\n",
    "       WHERE INCOME > %s\" % (1000)\n",
    "try:\n",
    "    # 執行SQL語句\n",
    "    cursor.execute(sql)\n",
    "    # 獲取所有記錄列表\n",
    "    results = cursor.fetchall()\n",
    "    for row in results:\n",
    "        fname = row[0]\n",
    "        lname = row[1]\n",
    "        age = row[2]\n",
    "        sex = row[3]\n",
    "        income = row[4]\n",
    "        # 打印結果\n",
    "        print (\"fname=%s,lname=%s,age=%s,sex=%s,income=%s\" % \\\n",
    "        (fname, lname, age, sex, income ))\n",
    "except:\n",
    "    print (\"Error: unable to fetch data\")\n",
    "# 關閉數據庫連接\n",
    "db.close()"
   ]
  },
  {
   "cell_type": "markdown",
   "metadata": {},
   "source": [
    "# 5.更新資料庫"
   ]
  },
  {
   "cell_type": "code",
   "execution_count": null,
   "metadata": {},
   "outputs": [],
   "source": [
    "#!/usr/bin/python3\n",
    " \n",
    "import pymysql\n",
    " \n",
    "# 打開數據庫連接\n",
    "db = pymysql.connect(\"localhost\",\"testuser\",\"test123\",\"TESTDB\" )\n",
    " \n",
    "# 使用cursor()方法獲取操作游標\n",
    "cursor = db.cursor()\n",
    " \n",
    "# SQL 更新語句\n",
    "sql = \"UPDATE EMPLOYEE SET AGE = AGE + 1 WHERE SEX = '%c'\" % ('M')\n",
    "try:\n",
    "   # 執行SQL語句\n",
    "   cursor.execute(sql)\n",
    "   # 提交到數據庫執行\n",
    "   db.commit()\n",
    "except:\n",
    "   # 發生錯誤時回滾\n",
    "   db.rollback()\n",
    " \n",
    "# 關閉數據庫連接\n",
    "db.close()"
   ]
  },
  {
   "cell_type": "markdown",
   "metadata": {},
   "source": [
    "# 6.刪除資料"
   ]
  },
  {
   "cell_type": "code",
   "execution_count": null,
   "metadata": {},
   "outputs": [],
   "source": [
    "#!/usr/bin/python3\n",
    " \n",
    "import pymysql\n",
    " \n",
    "# 打開數據庫連接\n",
    "db = pymysql.connect(\"localhost\",\"testuser\",\"test123\",\"TESTDB\" )\n",
    " \n",
    "# 使用cursor()方法獲取操作游標\n",
    "cursor = db.cursor()\n",
    " \n",
    "# SQL 刪除語句\n",
    "#刪除操作用於刪除數據表中的數據，以下實例演示了刪除數據表 EMPLOYEE 中 AGE 大於 20 的所有數據：\n",
    "sql = \"DELETE FROM EMPLOYEE WHERE AGE > %s\" % (20)\n",
    "try:\n",
    "   # 執行SQL語句\n",
    "   cursor.execute(sql)\n",
    "   # 提交修改\n",
    "   db.commit()\n",
    "except:\n",
    "   # 發生錯誤時回滾\n",
    "   db.rollback()\n",
    " \n",
    "# 關閉連接\n",
    "db.close()"
   ]
  },
  {
   "cell_type": "markdown",
   "metadata": {},
   "source": [
    "# 7.執行事務"
   ]
  },
  {
   "cell_type": "code",
   "execution_count": null,
   "metadata": {},
   "outputs": [],
   "source": [
    "# SQL刪除記錄語句\n",
    "sql = \"DELETE FROM EMPLOYEE WHERE AGE > %s\" % (20)\n",
    "try:\n",
    "   # 執行SQL語句\n",
    "   cursor.execute(sql)\n",
    "   # 向數據庫提交\n",
    "   db.commit()\n",
    "except:\n",
    "   # 發生錯誤時回滾\n",
    "   db.rollback()"
   ]
  },
  {
   "cell_type": "markdown",
   "metadata": {},
   "source": [
    "# 10-1 Python 字串處理\n",
    "通常從網路擷取的資料大多有多餘字元(多餘空白和新行字元)、不一致的格式、不同斷行、拼字錯誤和資料遺失等問題。<br>\n",
    "再存入資料檔案前，需要先用Python字串函數和正規表達式來執行資料清理。"
   ]
  },
  {
   "cell_type": "code",
   "execution_count": 1,
   "metadata": {
    "scrolled": true
   },
   "outputs": [
    {
     "name": "stdout",
     "output_type": "stream",
     "text": [
      "學習Python語言程式設計\n",
      "Hello World!\n",
      "ch1 = A\n",
      "name1 = \n",
      "name2 = 陳會安\n"
     ]
    }
   ],
   "source": [
    "#Ch10_1_1\n",
    "str1 = \"學習Python語言程式設計\" \n",
    "str2 = 'Hello World!'\n",
    "ch1 = \"A\"\n",
    "name1 = str()\n",
    "name2 = str(\"陳會安\")\n",
    "\n",
    "print(str1)\n",
    "print(str2)\n",
    "print(\"ch1 = \" + ch1)\n",
    "print(\"name1 = \" + name1)\n",
    "print(\"name2 = \" + name2)"
   ]
  },
  {
   "cell_type": "code",
   "execution_count": 2,
   "metadata": {},
   "outputs": [
    {
     "name": "stdout",
     "output_type": "stream",
     "text": [
      "H\n",
      "e\n",
      "l\n",
      "l\n",
      "o\n"
     ]
    }
   ],
   "source": [
    "#Ch10_1_1a\n",
    "str3 = 'Hello' \n",
    "\n",
    "for e in str3:\n",
    "    print(e)\n"
   ]
  },
  {
   "cell_type": "code",
   "execution_count": 3,
   "metadata": {},
   "outputs": [
    {
     "name": "stdout",
     "output_type": "stream",
     "text": [
      "len(str1) = 12\n",
      "max(str1) = 'r'\n",
      "min(str1) = ' '\n"
     ]
    }
   ],
   "source": [
    "#Ch10_1_2\n",
    "str1 = 'Hello World!' \n",
    "\n",
    "print(\"len(str1) = \" + str(len(str1)))\n",
    "print(\"max(str1) = '\" + max(str1) + \"'\")\n",
    "print(\"min(str1) = '\" + min(str1) + \"'\")\n"
   ]
  },
  {
   "cell_type": "code",
   "execution_count": 4,
   "metadata": {
    "scrolled": true
   },
   "outputs": [
    {
     "name": "stdout",
     "output_type": "stream",
     "text": [
      "str1 = welcome to python\n",
      "str1.isalnum() = False\n",
      "str1.isalpha() = False\n",
      "str1.isdigit() = False\n",
      "\"1000\".isdigit() = True\n",
      "str1.isidentifier() = False\n",
      "str1.islower() = True\n",
      "str1.isupper() = False\n",
      "\"   \".isspace() = True\n"
     ]
    }
   ],
   "source": [
    "#Ch10_1_2a\n",
    "str1 = 'welcome to python' \n",
    "\n",
    "print(\"str1 = \" + str1)\n",
    "b = str1.isalnum()\n",
    "print(\"str1.isalnum() = \" + str(b))\n",
    "b = str1.isalpha()\n",
    "print(\"str1.isalpha() = \" + str(b))\n",
    "b = str1.isdigit()\n",
    "print(\"str1.isdigit() = \" + str(b))\n",
    "b = \"1000\".isdigit()\n",
    "print('\"1000\".isdigit() = ' + str(b))\n",
    "b = str1.isidentifier()\n",
    "print(\"str1.isidentifier() = \" + str(b))\n",
    "b = str1.islower()\n",
    "print(\"str1.islower() = \" + str(b))\n",
    "b = str1.isupper()\n",
    "print(\"str1.isupper() = \" + str(b))\n",
    "b = \"   \".isspace()\n",
    "print('\"   \".isspace() = ' + str(b))\n"
   ]
  },
  {
   "cell_type": "code",
   "execution_count": 5,
   "metadata": {},
   "outputs": [
    {
     "name": "stdout",
     "output_type": "stream",
     "text": [
      "str1 = welcome to python\n",
      "str1.endswith('thon') = True\n",
      "str1.startswith('hello') = False\n",
      "str1.count('o') = 3\n",
      "str1.find('come') = 3\n",
      "str1.find('become') = -1\n",
      "str1.find('o') = 4\n",
      "str1.find('e') = 1\n",
      "str1.rfind('o') = 15\n",
      "str1.rfind('e') = 6\n"
     ]
    }
   ],
   "source": [
    "#Ch10_1_2b\n",
    "str1 = 'welcome to python' \n",
    "\n",
    "print(\"str1 = \" + str1)\n",
    "b = str1.endswith('thon')\n",
    "print(\"str1.endswith('thon') = \" + str(b))\n",
    "b = str1.startswith('hello')\n",
    "print(\"str1.startswith('hello') = \" + str(b))\n",
    "b = str1.count('o')\n",
    "print(\"str1.count('o') = \" + str(b))\n",
    "b = str1.find('come')\n",
    "print(\"str1.find('come') = \" + str(b))\n",
    "b = str1.find('become')\n",
    "print(\"str1.find('become') = \" + str(b))\n",
    "b = str1.find('o')\n",
    "print(\"str1.find('o') = \" + str(b))\n",
    "b = str1.find('e')\n",
    "print(\"str1.find('e') = \" + str(b))\n",
    "b = str1.rfind('o')\n",
    "print(\"str1.rfind('o') = \" + str(b))\n",
    "b = str1.rfind('e')\n",
    "print(\"str1.rfind('e') = \" + str(b))\n"
   ]
  },
  {
   "cell_type": "code",
   "execution_count": 6,
   "metadata": {},
   "outputs": [
    {
     "name": "stdout",
     "output_type": "stream",
     "text": [
      "str1 = welcome to python\n",
      "str2 = Welcome to Python\n",
      "str3 = This is a test.\n",
      "str1.capitalize() = Welcome to python\n",
      "str2.lower() = welcome to python\n",
      "str1.upper() = WELCOME TO PYTHON\n",
      "str1.title() = Welcome To Python\n",
      "str2.swapcase() = wELCOME TO pYTHON\n",
      "str3.replace('is', 'was') = Thwas was a test.\n"
     ]
    }
   ],
   "source": [
    "#Ch10_1_2c\n",
    "str1 = 'welcome to python' \n",
    "\n",
    "print(\"str1 = \" + str1)\n",
    "str2 = 'Welcome to Python'\n",
    "print(\"str2 = \" + str2)\n",
    "str3 = 'This is a test.'\n",
    "print(\"str3 = \" + str3)\n",
    "s = str1.capitalize()\n",
    "print(\"str1.capitalize() = \" + s)\n",
    "s = str2.lower()\n",
    "print(\"str2.lower() = \" + s)\n",
    "s = str1.upper()\n",
    "print(\"str1.upper() = \" + s)\n",
    "s = str1.title()\n",
    "print(\"str1.title() = \" + s)\n",
    "s = str2.swapcase()\n",
    "print(\"str2.swapcase() = \" + s)\n",
    "s = str3.replace('is', 'was')\n",
    "print(\"str3.replace('is', 'was') = \" + s)\n"
   ]
  },
  {
   "cell_type": "code",
   "execution_count": 7,
   "metadata": {},
   "outputs": [
    {
     "name": "stdout",
     "output_type": "stream",
     "text": [
      "H\n",
      "e\n",
      "o\n",
      "l\n"
     ]
    }
   ],
   "source": [
    "#Ch10_1_3\n",
    "str1 = 'Hello' \n",
    "\n",
    "print(str1[0])   # H\n",
    "print(str1[1])   # e\n",
    "print(str1[-1])  # o\n",
    "print(str1[-2])  # l\n",
    "\n"
   ]
  },
  {
   "cell_type": "code",
   "execution_count": 8,
   "metadata": {},
   "outputs": [
    {
     "name": "stdout",
     "output_type": "stream",
     "text": [
      "str1 = Hello World!\n",
      "str1[1:3] = el\n",
      "str1[1:5] = ello\n",
      "str1[:7] = Hello W\n",
      "str1[4:] = o World!\n",
      "str1[1:-1] = ello World\n",
      "str1[6:-2] = Worl\n"
     ]
    }
   ],
   "source": [
    "#Ch10_1_3a\n",
    "str1 = 'Hello World!' \n",
    "\n",
    "print(\"str1 = \" + str1)\n",
    "s = str1[1:3]\n",
    "print(\"str1[1:3] = \" + s)\n",
    "s = str1[1:5]\n",
    "print(\"str1[1:5] = \" + s)\n",
    "s = str1[:7]\n",
    "print(\"str1[:7] = \" + s)\n",
    "s = str1[4:]\n",
    "print(\"str1[4:] = \" + s)\n",
    "s = str1[1:-1]\n",
    "print(\"str1[1:-1] = \" + s)\n",
    "s = str1[6:-2]\n",
    "print(\"str1[6:-2] = \" + s)\n",
    "\n"
   ]
  },
  {
   "cell_type": "code",
   "execution_count": 9,
   "metadata": {},
   "outputs": [
    {
     "name": "stdout",
     "output_type": "stream",
     "text": [
      "['This', 'is', 'a', 'book.']\n",
      "['Tom', 'Bob', 'Mary', 'Joe']\n",
      "['23', '12', '45', '56']\n",
      "['23', '12', '45', '56']\n"
     ]
    }
   ],
   "source": [
    "#Ch10_1_4\n",
    "str1 = \"This is a book.\" \n",
    "list1 = str1.split()\n",
    "print(list1)\n",
    "str2 = \"Tom,Bob,Mary,Joe\"\n",
    "list2 = str2.split(\",\")\n",
    "print(list2)\n",
    "str3 = \"23\\n12\\n45\\n56\"\n",
    "list3 = str3.splitlines()\n",
    "print(list3)\n",
    "str4 = \"23\\n12\\n45\\n56\"\n",
    "list4 = str4.split(\"\\n\")\n",
    "print(list4)\n"
   ]
  },
  {
   "cell_type": "code",
   "execution_count": 10,
   "metadata": {},
   "outputs": [
    {
     "name": "stdout",
     "output_type": "stream",
     "text": [
      "This-is-a-book.\n"
     ]
    }
   ],
   "source": [
    "#Ch10_1_4a\n",
    "str1 = \"-\"\n",
    "list1 = ['This', 'is', 'a', 'book.']\n",
    "print(str1.join(list1))\n",
    "\n"
   ]
  },
  {
   "cell_type": "markdown",
   "metadata": {},
   "source": [
    "# 10-2 資料清理"
   ]
  },
  {
   "cell_type": "code",
   "execution_count": 11,
   "metadata": {},
   "outputs": [
    {
     "name": "stdout",
     "output_type": "stream",
     "text": [
      "['Python', 'is', 'a', 'programming', 'language', 'that', 'lets', 'you', 'work', 'quickly', 'and', 'integrate', 'systems', 'more', 'effectively.']\n",
      "Python,is,a,programming,language,that,lets,you,work,quickly,and,integrate,systems,more,effectively.\n"
     ]
    }
   ],
   "source": [
    "#Ch10_2_1\n",
    "str1 = \"\"\"Python is a programming language that lets you work quickly\n",
    "and integrate systems more effectively.\"\"\"\n",
    "\n",
    "list1 = str1.split() #將空白字元分割成清單\n",
    "print(list1)\n",
    "\n",
    "str2 = \",\".join(list1) #使用\"，\"作為連接字元，結合成CSV字串\n",
    "print(str2) \n"
   ]
  },
  {
   "cell_type": "code",
   "execution_count": 12,
   "metadata": {},
   "outputs": [
    {
     "name": "stdout",
     "output_type": "stream",
     "text": [
      "'  Python is a programming language.   '\n",
      "'Python is a programming language.'\n"
     ]
    }
   ],
   "source": [
    "#Ch10_2_1a\n",
    "str1 = \"  Python is a \\nprogramming language.\\n\\r   \"\n",
    "\n",
    "str2 = str1.replace(\"\\n\", \"\").replace(\"\\r\", \"\")  #刪除不需要的字元\n",
    "print(\"'\" + str2 + \"'\")\n",
    "print(\"'\" + str2.strip() + \"'\")\n",
    "\n"
   ]
  },
  {
   "cell_type": "code",
   "execution_count": 13,
   "metadata": {},
   "outputs": [
    {
     "name": "stdout",
     "output_type": "stream",
     "text": [
      "!\"#$%&'()*+,-./:;<=>?@[\\]^_`{|}~\n",
      "Python\n",
      "is\n",
      "a\n",
      "programming\n",
      "language\n"
     ]
    }
   ],
   "source": [
    "#Ch10_2_1b\n",
    "import string\n",
    "\n",
    "str1 = \"#$%^Python -is- *a* $%programming_ language.$\"\n",
    "\n",
    "print(string.punctuation) #取得所有標點符號字元\n",
    "list1 = str1.split(\" \") #使用split()函數以空白字元分割字串\n",
    "for item in list1:\n",
    "    print(item.strip(string.punctuation)) #一一刪除個項目中的標點符號\n"
   ]
  },
  {
   "cell_type": "code",
   "execution_count": 14,
   "metadata": {},
   "outputs": [
    {
     "name": "stdout",
     "output_type": "stream",
     "text": [
      "http://example.com/test\n",
      "http://example.com/word\n",
      "http://example.com/media/ex.jpg\n",
      "http://example.com/index.html\n"
     ]
    }
   ],
   "source": [
    "#Ch10_2_1c:處理URL網址\n",
    "baseUrl = \"http://example.com\"\n",
    "list1 = [\"http://www.example.com/test\", \"http://example.com/word\",\n",
    "         \"media/ex.jpg\", \"http://www.example.com/index.html\"]\n",
    "\n",
    "def getUrl(baseUrl, source):\n",
    "    if source.startswith(\"http://www.\"):\n",
    "        url = \"http://\" + source[11:]\n",
    "    elif source.startswith(\"http://\"):\n",
    "        url = source\n",
    "    elif source.startswith(\"www\"):\n",
    "        url = source[4:]\n",
    "        url = \"http://\" + source\n",
    "    else:\n",
    "        url = baseUrl + \"/\" + source\n",
    "        \n",
    "    if baseUrl not in url:\n",
    "        return None\n",
    "    return url\n",
    "\n",
    "for item in list1:\n",
    "    print(getUrl(baseUrl, item))\n"
   ]
  },
  {
   "cell_type": "code",
   "execution_count": 15,
   "metadata": {},
   "outputs": [
    {
     "name": "stdout",
     "output_type": "stream",
     "text": [
      "'Python'\n",
      "'is a'\n",
      "'programming'\n",
      "'language.'\n"
     ]
    }
   ],
   "source": [
    "#Ch10_2_2:刪除不需要的字元\n",
    "import re\n",
    "\n",
    "str1 = \"  Python, is   a, \\nprogramming, \\n\\nlanguage.\\n\\r   \"\n",
    "\n",
    "list1 = str1.split(\",\")\n",
    "for item in list1:\n",
    "    item = re.sub(r\"\\n+\", \"\", item)\n",
    "    item = re.sub(r\" +\", \" \", item)\n",
    "    item = item.strip()\n",
    "    print(\"'\" + item + \"'\")\n",
    "    "
   ]
  },
  {
   "cell_type": "code",
   "execution_count": 16,
   "metadata": {},
   "outputs": [
    {
     "name": "stdout",
     "output_type": "stream",
     "text": [
      "0938-111-4567 \n",
      "09381114567\n"
     ]
    }
   ],
   "source": [
    "#Ch10_2_2a:處理電話號碼字串\n",
    "import re\n",
    "\n",
    "phone = \"0938-111-4567 # Pyhone Number\"\n",
    "\n",
    "num = re.sub(r\"#.*$\", \"\", phone)\n",
    "print(num)\n",
    "num = re.sub(r\"\\D\", \"\", phone)\n",
    "print(num)\n"
   ]
  },
  {
   "cell_type": "code",
   "execution_count": 17,
   "metadata": {
    "scrolled": true
   },
   "outputs": [
    {
     "name": "stdout",
     "output_type": "stream",
     "text": [
      "/\n",
      "/\n",
      "/path/\n",
      "/path/\n",
      "/path/\n",
      "/path/\n",
      "/path/\n"
     ]
    }
   ],
   "source": [
    "#Ch10_2_2b:處理路徑字串\n",
    "import re\n",
    "\n",
    "list1 = [\"\", \"/\", \"path/\", \"/path\", \"/path/\", \"//path/\", \"/path///\"]\n",
    "\n",
    "def getPath(path):\n",
    "    if path:\n",
    "        if path[0] != \"/\":\n",
    "            path = \"/\" + path\n",
    "        if path[-1] != \"/\":\n",
    "            path = path + \"/\"\n",
    "        path = re.sub(r\"/{2,}\", \"/\", path)\n",
    "    else:\n",
    "        path = \"/\"\n",
    "        \n",
    "    return path\n",
    "\n",
    "for item in list1:\n",
    "    item = getPath(item)\n",
    "    print(item)\n",
    "\n"
   ]
  },
  {
   "cell_type": "markdown",
   "metadata": {},
   "source": [
    "# 10-5 將資料存入MySQL資料庫"
   ]
  },
  {
   "cell_type": "code",
   "execution_count": 9,
   "metadata": {},
   "outputs": [
    {
     "name": "stdout",
     "output_type": "stream",
     "text": [
      "D0001 Access入門與實作\n",
      "P0001 資料結構 - 使用C語言\n",
      "P0002 Java程式設計入門與實作\n",
      "P0003 Scratch+fChart程式邏輯訓練\n",
      "W0001 PHP與MySQL入門與實作\n",
      "W0002 jQuery Mobile與Bootstrap網頁設計\n",
      "P0004 Python程式設計\n",
      "P0005 Node.js程式設計\n"
     ]
    }
   ],
   "source": [
    "#Ch10_5:查詢MySQL資料庫\n",
    "import pymysql\n",
    "\n",
    "# 建立資料庫連接\n",
    "db = pymysql.connect(\"localhost\", \"root\", \"admin\", \"mybooks\", charset=\"utf8\")\n",
    "cursor = db.cursor()  # 建立cursor(游標)物件\n",
    "# 執行SQL指令SELECT\n",
    "cursor.execute(\"SELECT * FROM books\")\n",
    "data = cursor.fetchall()   # 取出所有記錄\n",
    "# 取出查詢結果的每一筆記錄\n",
    "for row in data:\n",
    "    print(row[0], row[1])\n",
    "db.close()  # 關閉資料庫連接"
   ]
  },
  {
   "cell_type": "code",
   "execution_count": 3,
   "metadata": {},
   "outputs": [
    {
     "name": "stdout",
     "output_type": "stream",
     "text": [
      "INSERT INTO books (id,title,author,price,category,pubdate)\n",
      "         VALUES ('P0004','Python程式設計','陳會安',550,'程式設計','2018-01-01')\n",
      "新增一筆記錄...\n"
     ]
    }
   ],
   "source": [
    "#Ch10_5a:將CSV資料存入MySQL資料庫\n",
    "import pymysql\n",
    "\n",
    "book = \"P0004,Python程式設計,陳會安,550,程式設計,2018-01-01\"\n",
    "f = book.split(\",\")  #以\",\"分隔字串\n",
    "\n",
    "# 建立資料庫連接\n",
    "db = pymysql.connect(\"localhost\", \"root\", \"admin\", \"mybooks\", charset=\"utf8\")\n",
    "cursor = db.cursor()  # 建立cursor物件\n",
    "# 建立SQL指令INSERT字串\n",
    "sql = \"\"\"INSERT INTO books (id,title,author,price,category,pubdate)\n",
    "         VALUES ('{0}','{1}','{2}',{3},'{4}','{5}')\"\"\"\n",
    "sql = sql.format(f[0], f[1], f[2], f[3], f[4], f[5])\n",
    "print(sql)\n",
    "try:\n",
    "    cursor.execute(sql)   # 執行SQL指令\n",
    "    db.commit() # 確認交易\n",
    "    print(\"新增一筆記錄...\")\n",
    "except:\n",
    "    db.rollback() # 回復交易 \n",
    "    print(\"新增記錄失敗...\")\n",
    "db.close()  # 關閉資料庫連接\n",
    "\n"
   ]
  },
  {
   "cell_type": "code",
   "execution_count": 66,
   "metadata": {},
   "outputs": [
    {
     "name": "stdout",
     "output_type": "stream",
     "text": [
      "INSERT INTO books (id,title,author,price,category,pubdate)\n",
      "         VALUES ('P0005','Node.js程式設計','陳會安',650,'程式設計','2018-02-01')\n",
      "新增記錄失敗...\n"
     ]
    }
   ],
   "source": [
    "#Ch10_5b:將JSON資料存入MySQL資料庫\n",
    "import pymysql\n",
    "\n",
    "d = {\n",
    "   \"id\": \"P0005\",\n",
    "   \"title\": \"Node.js程式設計\",\n",
    "   \"author\": \"陳會安\",\n",
    "   \"price\": 650,\n",
    "   \"cat\": \"程式設計\",\n",
    "   \"date\": \"2018-02-01\"\n",
    "}\n",
    "\n",
    "# 建立資料庫連接\n",
    "db = pymysql.connect(\"localhost\", \"root\", \"admin\", \"mybooks\", charset=\"utf8\")\n",
    "cursor = db.cursor()  # 建立cursor物件\n",
    "# 建立SQL指令INSERT字串\n",
    "sql = \"\"\"INSERT INTO books (id,title,author,price,category,pubdate)\n",
    "         VALUES ('{0}','{1}','{2}',{3},'{4}','{5}')\"\"\"\n",
    "sql = sql.format(d['id'],d['title'],d['author'],d['price'],d['cat'],d['date'])\n",
    "print(sql)\n",
    "try:\n",
    "    cursor.execute(sql)   # 執行SQL指令\n",
    "    db.commit() # 確認交易\n",
    "    print(\"新增一筆記錄...\")\n",
    "except:\n",
    "    db.rollback() # 回復交易 \n",
    "    print(\"新增記錄失敗...\")\n",
    "db.close()  # 關閉資料庫連接"
   ]
  },
  {
   "cell_type": "markdown",
   "metadata": {},
   "source": [
    "# 10-6 將Scrapy爬取的資料存入MySQL資料庫"
   ]
  },
  {
   "cell_type": "code",
   "execution_count": null,
   "metadata": {},
   "outputs": [],
   "source": [
    "#Ch10_6(專案)-爬蟲主體-spiders/quotes.py\n",
    "import scrapy\n",
    "from Ch10_6.items import QuoteItem\n",
    "\n",
    "class QuotesSpider(scrapy.Spider):\n",
    "    name = 'quotes'\n",
    "    allowed_domains = ['quotes.toscrape.com']\n",
    "    start_urls = ['http://quotes.toscrape.com/']\n",
    "\n",
    "    def parse(self, response):\n",
    "        for quote in response.css(\"div.quote\"):\n",
    "            item = QuoteItem()\n",
    "            item[\"quote\"] = quote.css(\"span.text::text\").extract_first()\n",
    "            item[\"author\"] = quote.xpath(\".//small/text()\").extract_first()\n",
    "            yield item\n",
    "            \n",
    "        nextPg = response.xpath(\"//li[@class='next']/a/@href\").extract_first()\n",
    "        if nextPg is not None:\n",
    "            nextPg = response.urljoin(nextPg)\n",
    "            yield scrapy.Request(nextPg, callback=self.parse)"
   ]
  },
  {
   "cell_type": "code",
   "execution_count": null,
   "metadata": {},
   "outputs": [],
   "source": [
    "#Ch10_6(專案)-items.py\n",
    "import scrapy\n",
    "\n",
    "class QuoteItem(scrapy.Item):\n",
    "    # 定義Item的欄位\n",
    "    quote = scrapy.Field()\n",
    "    author = scrapy.Field()\n"
   ]
  },
  {
   "cell_type": "code",
   "execution_count": null,
   "metadata": {},
   "outputs": [],
   "source": [
    "#Ch10_6(專案)-pipelines.py\n",
    "import pymysql\n",
    "import datetime\n",
    "\n",
    "class MysqlPipeline(object):\n",
    "    def __init__(self):\n",
    "        self.db = pymysql.connect(\"localhost\",\"root\",\"\",\"myquotes\",\n",
    "                                  charset=\"utf8\")\n",
    "        \n",
    "    def open_spider(self, spider):    \n",
    "        self.cursor = self.db.cursor();  # 建立cursor物件\n",
    "        \n",
    "    def process_item(self, item, spider):\n",
    "        # 建立SQL指令INSERT字串\n",
    "        sql = \"\"\"INSERT INTO quotes(quote,author,createDate)\n",
    "                 VALUE(%s,%s,%s)\"\"\"\n",
    "        try:\n",
    "            self.cursor.execute(sql,\n",
    "                (item[\"quote\"],\n",
    "                 item[\"author\"],\n",
    "                 datetime.datetime.now()\n",
    "                         .strftime('%Y-%m-%d %H:%M:%S')\n",
    "                 ))   # 執行SQL指令\n",
    "            self.db.commit()   # 確認交易\n",
    "        except Exception as err:\n",
    "            self.db.rollback() # 回復交易 \n",
    "            print(\"錯誤! 插入記錄錯誤...\", err)\n",
    "        return item\n",
    "\n",
    "    def close_spider(self, spider):            \n",
    "        self.db.close()  # 關閉資料庫連接"
   ]
  },
  {
   "cell_type": "code",
   "execution_count": null,
   "metadata": {},
   "outputs": [],
   "source": [
    "#Ch10_6(專案)-settings.py\n",
    "BOT_NAME = 'Ch10_6'\n",
    "\n",
    "SPIDER_MODULES = ['Ch10_6.spiders']\n",
    "NEWSPIDER_MODULE = 'Ch10_6.spiders'\n",
    "\n",
    "FEED_FORMAT = \"csv\"\n",
    "FEED_URI = \"quotes.csv\"\n",
    "FEED_EXPORT_ENCODING = \"utf-8\"\n",
    "# Crawl responsibly by identifying yourself (and your website) on the user-agent\n",
    "#USER_AGENT = 'Ch10_6 (+http://www.yourdomain.com)'\n",
    "\n",
    "# Obey robots.txt rules\n",
    "ROBOTSTXT_OBEY = True\n",
    "\n",
    "\n",
    "ITEM_PIPELINES = {\n",
    "    'Ch10_6.pipelines.MysqlPipeline': 300,\n",
    "}"
   ]
  }
 ],
 "metadata": {
  "kernelspec": {
   "display_name": "Python 3",
   "language": "python",
   "name": "python3"
  },
  "language_info": {
   "codemirror_mode": {
    "name": "ipython",
    "version": 3
   },
   "file_extension": ".py",
   "mimetype": "text/x-python",
   "name": "python",
   "nbconvert_exporter": "python",
   "pygments_lexer": "ipython3",
   "version": "3.7.1"
  }
 },
 "nbformat": 4,
 "nbformat_minor": 2
}
