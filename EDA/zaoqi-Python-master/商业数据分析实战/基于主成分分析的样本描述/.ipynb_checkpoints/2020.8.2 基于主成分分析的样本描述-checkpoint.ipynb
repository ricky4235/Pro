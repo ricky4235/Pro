{
 "cells": [
  {
   "cell_type": "code",
   "execution_count": 1,
   "metadata": {},
   "outputs": [],
   "source": [
    "import pandas as pd\n",
    "import numpy as np\n",
    "import matplotlib.pyplot as plt\n",
    "plt.style.use('seaborn-whitegrid')\n",
    "plt.rc('font', **{'family': 'Microsoft YaHei, SimHei'})  # 设置中文字体的支持\n",
    "plt.rcParams['axes.unicode_minus'] = False\n",
    "# 解决保存图像是负号'-'显示为方块的问题"
   ]
  },
  {
   "cell_type": "markdown",
   "metadata": {},
   "source": [
    "## 数据探索"
   ]
  },
  {
   "cell_type": "code",
   "execution_count": 2,
   "metadata": {},
   "outputs": [
    {
     "data": {
      "text/html": [
       "<div>\n",
       "<style scoped>\n",
       "    .dataframe tbody tr th:only-of-type {\n",
       "        vertical-align: middle;\n",
       "    }\n",
       "\n",
       "    .dataframe tbody tr th {\n",
       "        vertical-align: top;\n",
       "    }\n",
       "\n",
       "    .dataframe thead th {\n",
       "        text-align: right;\n",
       "    }\n",
       "</style>\n",
       "<table border=\"1\" class=\"dataframe\">\n",
       "  <thead>\n",
       "    <tr style=\"text-align: right;\">\n",
       "      <th></th>\n",
       "      <th>area</th>\n",
       "      <th>GDP</th>\n",
       "      <th>人均GDP</th>\n",
       "      <th>工业增加值</th>\n",
       "      <th>第三产业增加值</th>\n",
       "      <th>固定资产投资</th>\n",
       "      <th>基本建设投资</th>\n",
       "      <th>社会消费品零售总额</th>\n",
       "      <th>海关出口总额</th>\n",
       "      <th>地方财政收入</th>\n",
       "    </tr>\n",
       "  </thead>\n",
       "  <tbody>\n",
       "    <tr>\n",
       "      <th>0</th>\n",
       "      <td>山东</td>\n",
       "      <td>10550.0</td>\n",
       "      <td>11643</td>\n",
       "      <td>3502.5</td>\n",
       "      <td>3851.0</td>\n",
       "      <td>2288.7</td>\n",
       "      <td>1070.7</td>\n",
       "      <td>3181.9</td>\n",
       "      <td>211.1</td>\n",
       "      <td>610.2</td>\n",
       "    </tr>\n",
       "    <tr>\n",
       "      <th>1</th>\n",
       "      <td>河北</td>\n",
       "      <td>6076.6</td>\n",
       "      <td>9047</td>\n",
       "      <td>1406.7</td>\n",
       "      <td>2092.6</td>\n",
       "      <td>1161.6</td>\n",
       "      <td>597.1</td>\n",
       "      <td>1968.3</td>\n",
       "      <td>45.9</td>\n",
       "      <td>302.3</td>\n",
       "    </tr>\n",
       "    <tr>\n",
       "      <th>2</th>\n",
       "      <td>天津</td>\n",
       "      <td>2022.6</td>\n",
       "      <td>22068</td>\n",
       "      <td>822.8</td>\n",
       "      <td>960.0</td>\n",
       "      <td>703.7</td>\n",
       "      <td>361.9</td>\n",
       "      <td>941.4</td>\n",
       "      <td>115.7</td>\n",
       "      <td>171.8</td>\n",
       "    </tr>\n",
       "    <tr>\n",
       "      <th>3</th>\n",
       "      <td>江苏</td>\n",
       "      <td>10636.3</td>\n",
       "      <td>14397</td>\n",
       "      <td>3536.3</td>\n",
       "      <td>3967.2</td>\n",
       "      <td>2320.0</td>\n",
       "      <td>1141.3</td>\n",
       "      <td>3215.8</td>\n",
       "      <td>384.7</td>\n",
       "      <td>643.7</td>\n",
       "    </tr>\n",
       "    <tr>\n",
       "      <th>4</th>\n",
       "      <td>上海</td>\n",
       "      <td>5408.8</td>\n",
       "      <td>40627</td>\n",
       "      <td>2196.2</td>\n",
       "      <td>2755.8</td>\n",
       "      <td>1970.2</td>\n",
       "      <td>779.3</td>\n",
       "      <td>2035.2</td>\n",
       "      <td>320.5</td>\n",
       "      <td>709.0</td>\n",
       "    </tr>\n",
       "    <tr>\n",
       "      <th>5</th>\n",
       "      <td>浙江</td>\n",
       "      <td>7670.0</td>\n",
       "      <td>16570</td>\n",
       "      <td>2356.5</td>\n",
       "      <td>3065.0</td>\n",
       "      <td>2296.6</td>\n",
       "      <td>1180.6</td>\n",
       "      <td>2877.5</td>\n",
       "      <td>294.2</td>\n",
       "      <td>566.9</td>\n",
       "    </tr>\n",
       "    <tr>\n",
       "      <th>6</th>\n",
       "      <td>福建</td>\n",
       "      <td>4682.0</td>\n",
       "      <td>13510</td>\n",
       "      <td>1047.1</td>\n",
       "      <td>1859.0</td>\n",
       "      <td>964.5</td>\n",
       "      <td>397.9</td>\n",
       "      <td>1663.3</td>\n",
       "      <td>173.7</td>\n",
       "      <td>272.9</td>\n",
       "    </tr>\n",
       "    <tr>\n",
       "      <th>7</th>\n",
       "      <td>广东</td>\n",
       "      <td>11769.7</td>\n",
       "      <td>15030</td>\n",
       "      <td>4224.6</td>\n",
       "      <td>4793.6</td>\n",
       "      <td>3022.9</td>\n",
       "      <td>1275.5</td>\n",
       "      <td>5013.6</td>\n",
       "      <td>1843.7</td>\n",
       "      <td>1201.6</td>\n",
       "    </tr>\n",
       "    <tr>\n",
       "      <th>8</th>\n",
       "      <td>广西</td>\n",
       "      <td>2455.4</td>\n",
       "      <td>5062</td>\n",
       "      <td>367.0</td>\n",
       "      <td>995.7</td>\n",
       "      <td>542.2</td>\n",
       "      <td>352.7</td>\n",
       "      <td>1025.5</td>\n",
       "      <td>15.1</td>\n",
       "      <td>186.7</td>\n",
       "    </tr>\n",
       "  </tbody>\n",
       "</table>\n",
       "</div>"
      ],
      "text/plain": [
       "  area      GDP  人均GDP   工业增加值  第三产业增加值  固定资产投资  基本建设投资  社会消费品零售总额  海关出口总额  \\\n",
       "0   山东  10550.0  11643  3502.5   3851.0  2288.7  1070.7     3181.9   211.1   \n",
       "1   河北   6076.6   9047  1406.7   2092.6  1161.6   597.1     1968.3    45.9   \n",
       "2   天津   2022.6  22068   822.8    960.0   703.7   361.9      941.4   115.7   \n",
       "3   江苏  10636.3  14397  3536.3   3967.2  2320.0  1141.3     3215.8   384.7   \n",
       "4   上海   5408.8  40627  2196.2   2755.8  1970.2   779.3     2035.2   320.5   \n",
       "5   浙江   7670.0  16570  2356.5   3065.0  2296.6  1180.6     2877.5   294.2   \n",
       "6   福建   4682.0  13510  1047.1   1859.0   964.5   397.9     1663.3   173.7   \n",
       "7   广东  11769.7  15030  4224.6   4793.6  3022.9  1275.5     5013.6  1843.7   \n",
       "8   广西   2455.4   5062   367.0    995.7   542.2   352.7     1025.5    15.1   \n",
       "\n",
       "   地方财政收入  \n",
       "0   610.2  \n",
       "1   302.3  \n",
       "2   171.8  \n",
       "3   643.7  \n",
       "4   709.0  \n",
       "5   566.9  \n",
       "6   272.9  \n",
       "7  1201.6  \n",
       "8   186.7  "
      ]
     },
     "execution_count": 2,
     "metadata": {},
     "output_type": "execute_result"
    }
   ],
   "source": [
    "df = pd.read_csv('城市经济.csv')\n",
    "df"
   ]
  },
  {
   "cell_type": "code",
   "execution_count": 3,
   "metadata": {},
   "outputs": [],
   "source": [
    "import seaborn as sns\n",
    "sns.set(font='SimHei')  # 解决Seaborn中文显示问题，"
   ]
  },
  {
   "cell_type": "code",
   "execution_count": 4,
   "metadata": {},
   "outputs": [
    {
     "data": {
      "text/plain": [
       "<matplotlib.axes._subplots.AxesSubplot at 0x295782780f0>"
      ]
     },
     "execution_count": 4,
     "metadata": {},
     "output_type": "execute_result"
    },
    {
     "data": {
      "image/png": "[encoded data removed]",
      "text/plain": [
       "<Figure size 576x432 with 2 Axes>"
      ]
     },
     "metadata": {},
     "output_type": "display_data"
    }
   ],
   "source": [
    "plt.figure(figsize=(8, 6))\n",
    "sns.heatmap(data=df.corr(), annot=True) # annot=True: 显示数字\n",
    "# 变量间呈现较高的相关性，需要进行变量压缩"
   ]
  },
  {
   "cell_type": "markdown",
   "metadata": {},
   "source": [
    "## PCA 建模"
   ]
  },
  {
   "cell_type": "markdown",
   "metadata": {},
   "source": [
    "### 数据标准化\n",
    "使用中心标准化，即将变量都转化成 z 分数的形式，避免量纲问题对压缩造成影响"
   ]
  },
  {
   "cell_type": "code",
   "execution_count": 5,
   "metadata": {},
   "outputs": [],
   "source": [
    "from sklearn.preprocessing import scale\n",
    "data = df.drop(columns='area') # 丢弃无用的类别变量\n",
    "data = scale(data)"
   ]
  },
  {
   "cell_type": "markdown",
   "metadata": {},
   "source": [
    "### 初步建模"
   ]
  },
  {
   "cell_type": "code",
   "execution_count": 6,
   "metadata": {},
   "outputs": [
    {
     "data": {
      "text/plain": [
       "PCA(n_components=9)"
      ]
     },
     "execution_count": 6,
     "metadata": {},
     "output_type": "execute_result"
    }
   ],
   "source": [
    "from sklearn.decomposition import PCA\n",
    "\n",
    "# 说明：\n",
    "## 1. 第一次的 n_components 参数最好设置得大一些（保留的主成份）\n",
    "## 2. 观察 explained_variance_ratio_ 取值变化，即每个主成分能够解释原始数据变异的百分比\n",
    "pca = PCA(n_components=len(data)) # 直接与变量个数相同的主成分\n",
    "pca.fit(data)"
   ]
  },
  {
   "cell_type": "markdown",
   "metadata": {},
   "source": [
    "## 结果分析"
   ]
  },
  {
   "cell_type": "markdown",
   "metadata": {},
   "source": [
    "### 累积解释变异程度"
   ]
  },
  {
   "cell_type": "code",
   "execution_count": 7,
   "metadata": {},
   "outputs": [
    {
     "data": {
      "text/plain": [
       "array([8.01228521e-01, 1.22511074e-01, 6.21541492e-02, 9.94725332e-03,\n",
       "       2.46475660e-03, 1.34733699e-03, 2.11552456e-04, 1.35356084e-04,\n",
       "       1.72250209e-35])"
      ]
     },
     "execution_count": 7,
     "metadata": {},
     "output_type": "execute_result"
    }
   ],
   "source": [
    "# 累积解释变异程度\n",
    "pca.explained_variance_ratio_"
   ]
  },
  {
   "cell_type": "code",
   "execution_count": 8,
   "metadata": {},
   "outputs": [
    {
     "data": {
      "image/png": "[encoded data removed]",
      "text/plain": [
       "<Figure size 432x288 with 1 Axes>"
      ]
     },
     "metadata": {},
     "output_type": "display_data"
    }
   ],
   "source": [
    "plt.plot(np.cumsum(pca.explained_variance_ratio_), linewidth=3)\n",
    "plt.xlabel('成份数')\n",
    "plt.ylabel('累积解释方差'); plt.grid(True)"
   ]
  },
  {
   "cell_type": "markdown",
   "metadata": {},
   "source": [
    "### 重新建模"
   ]
  },
  {
   "cell_type": "code",
   "execution_count": 9,
   "metadata": {},
   "outputs": [
    {
     "data": {
      "text/plain": [
       "array([0.80122852, 0.12251107])"
      ]
     },
     "execution_count": 9,
     "metadata": {},
     "output_type": "execute_result"
    }
   ],
   "source": [
    "# 可知两个主成分就已经足够了\n",
    "pca = PCA(n_components=2) # 直接与变量个数相同的主成分\n",
    "pca.fit(data)\n",
    "\n",
    "pca.explained_variance_ratio_"
   ]
  },
  {
   "cell_type": "code",
   "execution_count": 10,
   "metadata": {
    "scrolled": true
   },
   "outputs": [
    {
     "name": "stdout",
     "output_type": "stream",
     "text": [
      "原始数据集规模:    (9, 9)\n",
      "降维后的数据集规模: (9, 2)\n"
     ]
    }
   ],
   "source": [
    "new_data = pca.fit_transform(data) #  fit_transform 表示将生成降维后的数据\n",
    "# 查看规模差别\n",
    "print(\"原始数据集规模:   \", data.shape)\n",
    "print(\"降维后的数据集规模:\", new_data.shape)\n",
    "# 9 个变量压缩成两个主成分"
   ]
  },
  {
   "cell_type": "markdown",
   "metadata": {},
   "source": [
    "### 主成分中各变量的权重分析"
   ]
  },
  {
   "cell_type": "code",
   "execution_count": 11,
   "metadata": {},
   "outputs": [
    {
     "data": {
      "text/html": [
       "<div>\n",
       "<style scoped>\n",
       "    .dataframe tbody tr th:only-of-type {\n",
       "        vertical-align: middle;\n",
       "    }\n",
       "\n",
       "    .dataframe tbody tr th {\n",
       "        vertical-align: top;\n",
       "    }\n",
       "\n",
       "    .dataframe thead th {\n",
       "        text-align: right;\n",
       "    }\n",
       "</style>\n",
       "<table border=\"1\" class=\"dataframe\">\n",
       "  <thead>\n",
       "    <tr style=\"text-align: right;\">\n",
       "      <th></th>\n",
       "      <th>pca_1</th>\n",
       "      <th>pca_2</th>\n",
       "    </tr>\n",
       "  </thead>\n",
       "  <tbody>\n",
       "    <tr>\n",
       "      <th>GDP</th>\n",
       "      <td>0.353645</td>\n",
       "      <td>-0.211802</td>\n",
       "    </tr>\n",
       "    <tr>\n",
       "      <th>人均GDP</th>\n",
       "      <td>0.034093</td>\n",
       "      <td>0.942455</td>\n",
       "    </tr>\n",
       "    <tr>\n",
       "      <th>工业增加值</th>\n",
       "      <td>0.364282</td>\n",
       "      <td>-0.013027</td>\n",
       "    </tr>\n",
       "    <tr>\n",
       "      <th>第三产业增加值</th>\n",
       "      <td>0.367803</td>\n",
       "      <td>-0.040553</td>\n",
       "    </tr>\n",
       "    <tr>\n",
       "      <th>固定资产投资</th>\n",
       "      <td>0.365715</td>\n",
       "      <td>0.098109</td>\n",
       "    </tr>\n",
       "    <tr>\n",
       "      <th>基本建设投资</th>\n",
       "      <td>0.352785</td>\n",
       "      <td>-0.032065</td>\n",
       "    </tr>\n",
       "    <tr>\n",
       "      <th>社会消费品零售总额</th>\n",
       "      <td>0.366340</td>\n",
       "      <td>-0.123313</td>\n",
       "    </tr>\n",
       "    <tr>\n",
       "      <th>海关出口总额</th>\n",
       "      <td>0.295610</td>\n",
       "      <td>0.051071</td>\n",
       "    </tr>\n",
       "    <tr>\n",
       "      <th>地方财政收入</th>\n",
       "      <td>0.354963</td>\n",
       "      <td>0.191407</td>\n",
       "    </tr>\n",
       "  </tbody>\n",
       "</table>\n",
       "</div>"
      ],
      "text/plain": [
       "              pca_1     pca_2\n",
       "GDP        0.353645 -0.211802\n",
       "人均GDP      0.034093  0.942455\n",
       "工业增加值      0.364282 -0.013027\n",
       "第三产业增加值    0.367803 -0.040553\n",
       "固定资产投资     0.365715  0.098109\n",
       "基本建设投资     0.352785 -0.032065\n",
       "社会消费品零售总额  0.366340 -0.123313\n",
       "海关出口总额     0.295610  0.051071\n",
       "地方财政收入     0.354963  0.191407"
      ]
     },
     "execution_count": 11,
     "metadata": {},
     "output_type": "execute_result"
    }
   ],
   "source": [
    "# 两个主成分与 9 个变量的系数关系\n",
    "results = pd.DataFrame(pca.components_).T\n",
    "results.columns = ['pca_1', 'pca_2']\n",
    "results.index = df.drop(columns='area').columns\n",
    "results"
   ]
  },
  {
   "cell_type": "markdown",
   "metadata": {},
   "source": [
    "    1. 主成分1几乎不受 data 的第二个自变量 ‘人均GDP’ 的影响，0.034，其他自变量对其影响程度都差不多\n",
    "    \n",
    "    2. 主成分2受 data 的第二个自变量 ‘人均GDP’ 影响最大，达到了 0.94"
   ]
  },
  {
   "cell_type": "markdown",
   "metadata": {},
   "source": [
    "## 结果描述\n",
    "目前我们把 9 个自变量压缩成了 2 个主成分，每个主成分受哪些变量的影响也有了了解\n",
    "\n",
    "虽然得到的主成分都没有什么意义，但我们是否可以通过变量们对主成分的影响程度\n",
    "\n",
    "来为生成的两个主成分命名呢？\n",
    "\n",
    "\n",
    "答案：\n",
    "    \n",
    "    第一个主成分在表达经济总量的指标上的权重相当，可命名为 “经济总量水平”\n",
    "    而第二个主成分只在人均GDP上权重很高，可命名为 “人均水平”\n",
    "    \n",
    "###### 重点！\n",
    "给两个主成分“命名”是对降维后的数据进行，\n",
    "\n",
    "而不是 pca.components_ 打印出来的个变量在成份上的权重"
   ]
  },
  {
   "cell_type": "code",
   "execution_count": 12,
   "metadata": {},
   "outputs": [
    {
     "data": {
      "text/html": [
       "<div>\n",
       "<style scoped>\n",
       "    .dataframe tbody tr th:only-of-type {\n",
       "        vertical-align: middle;\n",
       "    }\n",
       "\n",
       "    .dataframe tbody tr th {\n",
       "        vertical-align: top;\n",
       "    }\n",
       "\n",
       "    .dataframe thead th {\n",
       "        text-align: right;\n",
       "    }\n",
       "</style>\n",
       "<table border=\"1\" class=\"dataframe\">\n",
       "  <thead>\n",
       "    <tr style=\"text-align: right;\">\n",
       "      <th></th>\n",
       "      <th>pca_1</th>\n",
       "      <th>pca_2</th>\n",
       "    </tr>\n",
       "  </thead>\n",
       "  <tbody>\n",
       "    <tr>\n",
       "      <th>0</th>\n",
       "      <td>0.353645</td>\n",
       "      <td>-0.211802</td>\n",
       "    </tr>\n",
       "    <tr>\n",
       "      <th>1</th>\n",
       "      <td>0.034093</td>\n",
       "      <td>0.942455</td>\n",
       "    </tr>\n",
       "    <tr>\n",
       "      <th>2</th>\n",
       "      <td>0.364282</td>\n",
       "      <td>-0.013027</td>\n",
       "    </tr>\n",
       "    <tr>\n",
       "      <th>3</th>\n",
       "      <td>0.367803</td>\n",
       "      <td>-0.040553</td>\n",
       "    </tr>\n",
       "    <tr>\n",
       "      <th>4</th>\n",
       "      <td>0.365715</td>\n",
       "      <td>0.098109</td>\n",
       "    </tr>\n",
       "    <tr>\n",
       "      <th>5</th>\n",
       "      <td>0.352785</td>\n",
       "      <td>-0.032065</td>\n",
       "    </tr>\n",
       "    <tr>\n",
       "      <th>6</th>\n",
       "      <td>0.366340</td>\n",
       "      <td>-0.123313</td>\n",
       "    </tr>\n",
       "    <tr>\n",
       "      <th>7</th>\n",
       "      <td>0.295610</td>\n",
       "      <td>0.051071</td>\n",
       "    </tr>\n",
       "    <tr>\n",
       "      <th>8</th>\n",
       "      <td>0.354963</td>\n",
       "      <td>0.191407</td>\n",
       "    </tr>\n",
       "  </tbody>\n",
       "</table>\n",
       "</div>"
      ],
      "text/plain": [
       "      pca_1     pca_2\n",
       "0  0.353645 -0.211802\n",
       "1  0.034093  0.942455\n",
       "2  0.364282 -0.013027\n",
       "3  0.367803 -0.040553\n",
       "4  0.365715  0.098109\n",
       "5  0.352785 -0.032065\n",
       "6  0.366340 -0.123313\n",
       "7  0.295610  0.051071\n",
       "8  0.354963  0.191407"
      ]
     },
     "execution_count": 12,
     "metadata": {},
     "output_type": "execute_result"
    }
   ],
   "source": [
    "# 重建索引，让主成分的数据框的索引与最初的数据表的索引一样\n",
    "results = results.reset_index().drop(columns='index')\n",
    "results"
   ]
  },
  {
   "cell_type": "code",
   "execution_count": 13,
   "metadata": {},
   "outputs": [
    {
     "data": {
      "text/html": [
       "<div>\n",
       "<style scoped>\n",
       "    .dataframe tbody tr th:only-of-type {\n",
       "        vertical-align: middle;\n",
       "    }\n",
       "\n",
       "    .dataframe tbody tr th {\n",
       "        vertical-align: top;\n",
       "    }\n",
       "\n",
       "    .dataframe thead th {\n",
       "        text-align: right;\n",
       "    }\n",
       "</style>\n",
       "<table border=\"1\" class=\"dataframe\">\n",
       "  <thead>\n",
       "    <tr style=\"text-align: right;\">\n",
       "      <th></th>\n",
       "      <th>area</th>\n",
       "      <th>GDP</th>\n",
       "      <th>人均GDP</th>\n",
       "      <th>工业增加值</th>\n",
       "      <th>第三产业增加值</th>\n",
       "      <th>固定资产投资</th>\n",
       "      <th>基本建设投资</th>\n",
       "      <th>社会消费品零售总额</th>\n",
       "      <th>海关出口总额</th>\n",
       "      <th>地方财政收入</th>\n",
       "      <th>经济总量水平</th>\n",
       "      <th>人均水平</th>\n",
       "    </tr>\n",
       "  </thead>\n",
       "  <tbody>\n",
       "    <tr>\n",
       "      <th>0</th>\n",
       "      <td>山东</td>\n",
       "      <td>10550.0</td>\n",
       "      <td>11643</td>\n",
       "      <td>3502.5</td>\n",
       "      <td>3851.0</td>\n",
       "      <td>2288.7</td>\n",
       "      <td>1070.7</td>\n",
       "      <td>3181.9</td>\n",
       "      <td>211.1</td>\n",
       "      <td>610.2</td>\n",
       "      <td>1.860242</td>\n",
       "      <td>-0.742343</td>\n",
       "    </tr>\n",
       "    <tr>\n",
       "      <th>1</th>\n",
       "      <td>河北</td>\n",
       "      <td>6076.6</td>\n",
       "      <td>9047</td>\n",
       "      <td>1406.7</td>\n",
       "      <td>2092.6</td>\n",
       "      <td>1161.6</td>\n",
       "      <td>597.1</td>\n",
       "      <td>1968.3</td>\n",
       "      <td>45.9</td>\n",
       "      <td>302.3</td>\n",
       "      <td>-1.501490</td>\n",
       "      <td>-0.812491</td>\n",
       "    </tr>\n",
       "    <tr>\n",
       "      <th>2</th>\n",
       "      <td>天津</td>\n",
       "      <td>2022.6</td>\n",
       "      <td>22068</td>\n",
       "      <td>822.8</td>\n",
       "      <td>960.0</td>\n",
       "      <td>703.7</td>\n",
       "      <td>361.9</td>\n",
       "      <td>941.4</td>\n",
       "      <td>115.7</td>\n",
       "      <td>171.8</td>\n",
       "      <td>-3.230442</td>\n",
       "      <td>0.752090</td>\n",
       "    </tr>\n",
       "    <tr>\n",
       "      <th>3</th>\n",
       "      <td>江苏</td>\n",
       "      <td>10636.3</td>\n",
       "      <td>14397</td>\n",
       "      <td>3536.3</td>\n",
       "      <td>3967.2</td>\n",
       "      <td>2320.0</td>\n",
       "      <td>1141.3</td>\n",
       "      <td>3215.8</td>\n",
       "      <td>384.7</td>\n",
       "      <td>643.7</td>\n",
       "      <td>2.150940</td>\n",
       "      <td>-0.451596</td>\n",
       "    </tr>\n",
       "    <tr>\n",
       "      <th>4</th>\n",
       "      <td>上海</td>\n",
       "      <td>5408.8</td>\n",
       "      <td>40627</td>\n",
       "      <td>2196.2</td>\n",
       "      <td>2755.8</td>\n",
       "      <td>1970.2</td>\n",
       "      <td>779.3</td>\n",
       "      <td>2035.2</td>\n",
       "      <td>320.5</td>\n",
       "      <td>709.0</td>\n",
       "      <td>0.134468</td>\n",
       "      <td>2.634167</td>\n",
       "    </tr>\n",
       "    <tr>\n",
       "      <th>5</th>\n",
       "      <td>浙江</td>\n",
       "      <td>7670.0</td>\n",
       "      <td>16570</td>\n",
       "      <td>2356.5</td>\n",
       "      <td>3065.0</td>\n",
       "      <td>2296.6</td>\n",
       "      <td>1180.6</td>\n",
       "      <td>2877.5</td>\n",
       "      <td>294.2</td>\n",
       "      <td>566.9</td>\n",
       "      <td>1.039212</td>\n",
       "      <td>-0.040699</td>\n",
       "    </tr>\n",
       "    <tr>\n",
       "      <th>6</th>\n",
       "      <td>福建</td>\n",
       "      <td>4682.0</td>\n",
       "      <td>13510</td>\n",
       "      <td>1047.1</td>\n",
       "      <td>1859.0</td>\n",
       "      <td>964.5</td>\n",
       "      <td>397.9</td>\n",
       "      <td>1663.3</td>\n",
       "      <td>173.7</td>\n",
       "      <td>272.9</td>\n",
       "      <td>-2.140110</td>\n",
       "      <td>-0.258758</td>\n",
       "    </tr>\n",
       "    <tr>\n",
       "      <th>7</th>\n",
       "      <td>广东</td>\n",
       "      <td>11769.7</td>\n",
       "      <td>15030</td>\n",
       "      <td>4224.6</td>\n",
       "      <td>4793.6</td>\n",
       "      <td>3022.9</td>\n",
       "      <td>1275.5</td>\n",
       "      <td>5013.6</td>\n",
       "      <td>1843.7</td>\n",
       "      <td>1201.6</td>\n",
       "      <td>5.145964</td>\n",
       "      <td>-0.120924</td>\n",
       "    </tr>\n",
       "    <tr>\n",
       "      <th>8</th>\n",
       "      <td>广西</td>\n",
       "      <td>2455.4</td>\n",
       "      <td>5062</td>\n",
       "      <td>367.0</td>\n",
       "      <td>995.7</td>\n",
       "      <td>542.2</td>\n",
       "      <td>352.7</td>\n",
       "      <td>1025.5</td>\n",
       "      <td>15.1</td>\n",
       "      <td>186.7</td>\n",
       "      <td>-3.458783</td>\n",
       "      <td>-0.959445</td>\n",
       "    </tr>\n",
       "  </tbody>\n",
       "</table>\n",
       "</div>"
      ],
      "text/plain": [
       "  area      GDP  人均GDP   工业增加值  第三产业增加值  固定资产投资  基本建设投资  社会消费品零售总额  海关出口总额  \\\n",
       "0   山东  10550.0  11643  3502.5   3851.0  2288.7  1070.7     3181.9   211.1   \n",
       "1   河北   6076.6   9047  1406.7   2092.6  1161.6   597.1     1968.3    45.9   \n",
       "2   天津   2022.6  22068   822.8    960.0   703.7   361.9      941.4   115.7   \n",
       "3   江苏  10636.3  14397  3536.3   3967.2  2320.0  1141.3     3215.8   384.7   \n",
       "4   上海   5408.8  40627  2196.2   2755.8  1970.2   779.3     2035.2   320.5   \n",
       "5   浙江   7670.0  16570  2356.5   3065.0  2296.6  1180.6     2877.5   294.2   \n",
       "6   福建   4682.0  13510  1047.1   1859.0   964.5   397.9     1663.3   173.7   \n",
       "7   广东  11769.7  15030  4224.6   4793.6  3022.9  1275.5     5013.6  1843.7   \n",
       "8   广西   2455.4   5062   367.0    995.7   542.2   352.7     1025.5    15.1   \n",
       "\n",
       "   地方财政收入    经济总量水平      人均水平  \n",
       "0   610.2  1.860242 -0.742343  \n",
       "1   302.3 -1.501490 -0.812491  \n",
       "2   171.8 -3.230442  0.752090  \n",
       "3   643.7  2.150940 -0.451596  \n",
       "4   709.0  0.134468  2.634167  \n",
       "5   566.9  1.039212 -0.040699  \n",
       "6   272.9 -2.140110 -0.258758  \n",
       "7  1201.6  5.145964 -0.120924  \n",
       "8   186.7 -3.458783 -0.959445  "
      ]
     },
     "execution_count": 13,
     "metadata": {},
     "output_type": "execute_result"
    }
   ],
   "source": [
    "new_data = pca.fit_transform(data) #  fit_transform 表示将生成降维后的数据\n",
    "results = df.join(pd.DataFrame(new_data, \n",
    "                        columns=['经济总量水平', '人均水平'])) # 与原来的数据拼接\n",
    "results"
   ]
  },
  {
   "cell_type": "code",
   "execution_count": 14,
   "metadata": {},
   "outputs": [
    {
     "data": {
      "text/plain": [
       "<matplotlib.collections.LineCollection at 0x2957e6bb160>"
      ]
     },
     "execution_count": 14,
     "metadata": {},
     "output_type": "execute_result"
    },
    {
     "data": {
      "image/png": "[encoded data removed]",
      "text/plain": [
       "<Figure size 720x576 with 1 Axes>"
      ]
     },
     "metadata": {},
     "output_type": "display_data"
    }
   ],
   "source": [
    "plt.figure(figsize=(10, 8))\n",
    "# 基础散点图\n",
    "x, y = results['经济总量水平'], results['人均水平']\n",
    "label = results['area']\n",
    "plt.scatter(x, y)\n",
    "plt.xlabel('经济总量水平'); plt.ylabel('人均水平')\n",
    "\n",
    "# 对散点图中的每一个点进行文字标注\n",
    " ## 固定代码，无需深究，拿来即用\n",
    "for a,b,l in zip(x,y,label):\n",
    "    plt.text(a, b+0.1, '%s.' % l, ha='center', va= 'bottom',fontsize=14)\n",
    "\n",
    "# 添加两条竖线\n",
    "plt.vlines(x=results['经济总量水平'].mean(), \n",
    "           ymin=-1.5, ymax=3, colors='red')\n",
    "plt.hlines(y=results['人均水平'].mean(), \n",
    "           xmin=-4, xmax=6, colors='red')"
   ]
  },
  {
   "cell_type": "markdown",
   "metadata": {},
   "source": [
    "- 广西，河北，福建三地的人均水平和经济总量水平都偏低\n",
    "- 上海的人均经济水平很高，但经济总量水平缺只是略优于均值一点点\n",
    "- 广东的人均经济水平稍次于均值，但经济总量水平很高\n",
    "- ...."
   ]
  },
  {
   "cell_type": "code",
   "execution_count": null,
   "metadata": {},
   "outputs": [],
   "source": []
  }
 ],
 "metadata": {
  "kernelspec": {
   "display_name": "Python 3",
   "language": "python",
   "name": "python3"
  },
  "language_info": {
   "codemirror_mode": {
    "name": "ipython",
    "version": 3
   },
   "file_extension": ".py",
   "mimetype": "text/x-python",
   "name": "python",
   "nbconvert_exporter": "python",
   "pygments_lexer": "ipython3",
   "version": "3.7.1"
  },
  "latex_envs": {
   "LaTeX_envs_menu_present": true,
   "autoclose": false,
   "autocomplete": true,
   "bibliofile": "biblio.bib",
   "cite_by": "apalike",
   "current_citInitial": 1,
   "eqLabelWithNumbers": true,
   "eqNumInitial": 1,
   "hotkeys": {
    "equation": "Ctrl-E",
    "itemize": "Ctrl-I"
   },
   "labels_anchors": false,
   "latex_user_defs": false,
   "report_style_numbering": false,
   "user_envs_cfg": false
  },
  "toc": {
   "base_numbering": 1,
   "nav_menu": {},
   "number_sections": true,
   "sideBar": true,
   "skip_h1_title": false,
   "title_cell": "Table of Contents",
   "title_sidebar": "Contents",
   "toc_cell": false,
   "toc_position": {},
   "toc_section_display": true,
   "toc_window_display": false
  },
  "varInspector": {
   "cols": {
    "lenName": 16,
    "lenType": 16,
    "lenVar": 40
   },
   "kernels_config": {
    "python": {
     "delete_cmd_postfix": "",
     "delete_cmd_prefix": "del ",
     "library": "var_list.py",
     "varRefreshCmd": "print(var_dic_list())"
    },
    "r": {
     "delete_cmd_postfix": ") ",
     "delete_cmd_prefix": "rm(",
     "library": "var_list.r",
     "varRefreshCmd": "cat(var_dic_list()) "
    }
   },
   "types_to_exclude": [
    "module",
    "function",
    "builtin_function_or_method",
    "instance",
    "_Feature"
   ],
   "window_display": false
  }
 },
 "nbformat": 4,
 "nbformat_minor": 2
}
