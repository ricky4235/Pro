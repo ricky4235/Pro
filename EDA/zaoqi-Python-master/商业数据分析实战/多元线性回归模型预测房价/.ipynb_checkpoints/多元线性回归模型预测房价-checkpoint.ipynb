{
 "cells": [
  {
   "cell_type": "markdown",
   "metadata": {},
   "source": [
    "## 基础包与数据导入"
   ]
  },
  {
   "cell_type": "code",
   "execution_count": 1,
   "metadata": {},
   "outputs": [],
   "source": [
    "import pandas as pd\n",
    "import numpy as np\n",
    "import seaborn as sns\n",
    "import matplotlib.pyplot as plt"
   ]
  },
  {
   "cell_type": "code",
   "execution_count": 2,
   "metadata": {},
   "outputs": [
    {
     "name": "stdout",
     "output_type": "stream",
     "text": [
      "<class 'pandas.core.frame.DataFrame'>\n",
      "RangeIndex: 6028 entries, 0 to 6027\n",
      "Data columns (total 7 columns):\n",
      "house_id        6028 non-null int64\n",
      "neighborhood    6028 non-null object\n",
      "area            6028 non-null int64\n",
      "bedrooms        6028 non-null int64\n",
      "bathrooms       6028 non-null int64\n",
      "style           6028 non-null object\n",
      "price           6028 non-null int64\n",
      "dtypes: int64(5), object(2)\n",
      "memory usage: 329.7+ KB\n"
     ]
    },
    {
     "data": {
      "text/html": [
       "<div>\n",
       "<style scoped>\n",
       "    .dataframe tbody tr th:only-of-type {\n",
       "        vertical-align: middle;\n",
       "    }\n",
       "\n",
       "    .dataframe tbody tr th {\n",
       "        vertical-align: top;\n",
       "    }\n",
       "\n",
       "    .dataframe thead th {\n",
       "        text-align: right;\n",
       "    }\n",
       "</style>\n",
       "<table border=\"1\" class=\"dataframe\">\n",
       "  <thead>\n",
       "    <tr style=\"text-align: right;\">\n",
       "      <th></th>\n",
       "      <th>house_id</th>\n",
       "      <th>neighborhood</th>\n",
       "      <th>area</th>\n",
       "      <th>bedrooms</th>\n",
       "      <th>bathrooms</th>\n",
       "      <th>style</th>\n",
       "      <th>price</th>\n",
       "    </tr>\n",
       "  </thead>\n",
       "  <tbody>\n",
       "    <tr>\n",
       "      <th>0</th>\n",
       "      <td>1112</td>\n",
       "      <td>B</td>\n",
       "      <td>1188</td>\n",
       "      <td>3</td>\n",
       "      <td>2</td>\n",
       "      <td>ranch</td>\n",
       "      <td>598291</td>\n",
       "    </tr>\n",
       "    <tr>\n",
       "      <th>1</th>\n",
       "      <td>491</td>\n",
       "      <td>B</td>\n",
       "      <td>3512</td>\n",
       "      <td>5</td>\n",
       "      <td>3</td>\n",
       "      <td>victorian</td>\n",
       "      <td>1744259</td>\n",
       "    </tr>\n",
       "    <tr>\n",
       "      <th>2</th>\n",
       "      <td>5952</td>\n",
       "      <td>B</td>\n",
       "      <td>1134</td>\n",
       "      <td>3</td>\n",
       "      <td>2</td>\n",
       "      <td>ranch</td>\n",
       "      <td>571669</td>\n",
       "    </tr>\n",
       "    <tr>\n",
       "      <th>3</th>\n",
       "      <td>3525</td>\n",
       "      <td>A</td>\n",
       "      <td>1940</td>\n",
       "      <td>4</td>\n",
       "      <td>2</td>\n",
       "      <td>ranch</td>\n",
       "      <td>493675</td>\n",
       "    </tr>\n",
       "    <tr>\n",
       "      <th>4</th>\n",
       "      <td>5108</td>\n",
       "      <td>B</td>\n",
       "      <td>2208</td>\n",
       "      <td>6</td>\n",
       "      <td>4</td>\n",
       "      <td>victorian</td>\n",
       "      <td>1101539</td>\n",
       "    </tr>\n",
       "  </tbody>\n",
       "</table>\n",
       "</div>"
      ],
      "text/plain": [
       "   house_id neighborhood  area  bedrooms  bathrooms      style    price\n",
       "0      1112            B  1188         3          2      ranch   598291\n",
       "1       491            B  3512         5          3  victorian  1744259\n",
       "2      5952            B  1134         3          2      ranch   571669\n",
       "3      3525            A  1940         4          2      ranch   493675\n",
       "4      5108            B  2208         6          4  victorian  1101539"
      ]
     },
     "execution_count": 2,
     "metadata": {},
     "output_type": "execute_result"
    }
   ],
   "source": [
    "df = pd.read_csv('house_prices.csv')\n",
    "df.info(); df.head()"
   ]
  },
  {
   "cell_type": "code",
   "execution_count": null,
   "metadata": {},
   "outputs": [],
   "source": []
  },
  {
   "cell_type": "markdown",
   "metadata": {},
   "source": [
    "## 变量探索\n",
    "数据质量和整洁度都还不错，毕竟是经过基础评估与清洗的数据"
   ]
  },
  {
   "cell_type": "code",
   "execution_count": 3,
   "metadata": {},
   "outputs": [
    {
     "name": "stdout",
     "output_type": "stream",
     "text": [
      "neighborhood :\n",
      "                 B     A     C\n",
      "value_counts  2427  1876  1725\n",
      "===================================\n",
      "style :\n",
      "              victorian  ranch  lodge\n",
      "value_counts       2997   1802   1229\n",
      "===================================\n"
     ]
    }
   ],
   "source": [
    "# 类别变量，又称为名义变量，nominal variables\n",
    "nominal_vars = ['neighborhood', 'style']\n",
    "\n",
    "for each in nominal_vars:\n",
    "    print(each, ':')\n",
    "    print(df[each].agg(['value_counts']).T)\n",
    "    # 直接 .value_counts().T 无法实现下面的效果\n",
    "     ## 必须得 agg，而且里面的中括号 [] 也不能少\n",
    "    print('='*35)\n",
    "    # 发现各类别的数量也都还可以，为下面的方差分析做准备"
   ]
  },
  {
   "cell_type": "code",
   "execution_count": 4,
   "metadata": {},
   "outputs": [],
   "source": [
    "# 热力图 \n",
    "def heatmap(data, method='pearson', camp='RdYlGn', figsize=(10 ,8)):\n",
    "    \"\"\"\n",
    "    data: 整份数据\n",
    "    method：默认为 pearson 系数\n",
    "    camp：默认为：RdYlGn-红黄蓝；YlGnBu-黄绿蓝；Blues/Greens 也是不错的选择\n",
    "    figsize: 默认为 10，8\n",
    "    \"\"\"\n",
    "    ## 消除斜对角颜色重复的色块\n",
    "    #     mask = np.zeros_like(df2.corr())\n",
    "    #     mask[np.tril_indices_from(mask)] = True\n",
    "    plt.figure(figsize=figsize, dpi= 80)\n",
    "    sns.heatmap(data.corr(method=method), \\\n",
    "                xticklabels=data.corr(method=method).columns, \\\n",
    "                yticklabels=data.corr(method=method).columns, cmap=camp, \\\n",
    "                center=0, annot=True)\n",
    "    # 要想实现只是留下对角线一半的效果，括号内的参数可以加上 mask=mask"
   ]
  },
  {
   "cell_type": "code",
   "execution_count": 7,
   "metadata": {},
   "outputs": [
    {
     "data": {
      "image/png": "[encoded data removed]",
      "text/plain": [
       "<Figure size 480x400 with 2 Axes>"
      ]
     },
     "metadata": {
      "needs_background": "light"
     },
     "output_type": "display_data"
    }
   ],
   "source": [
    "# 通过热力图可以看出 area，bedrooms，bathrooms 等变量与房屋价格 price 的关系都还比较强\n",
    " ## 所以值得放入模型，但分类变量 style 与 neighborhood 两者与 price 的关系未知\n",
    "heatmap(data=df, figsize=(6,5))"
   ]
  },
  {
   "cell_type": "code",
   "execution_count": 8,
   "metadata": {},
   "outputs": [],
   "source": [
    "# 刚才的探索我们发现，style 与 neighborhood 的类别都是三类，\n",
    " ## 如果只是两类的话我们可以进行卡方检验，所以这里我们使用方差分析\n",
    "    \n",
    "## 利用回归模型中的方差分析\n",
    "## 只有 statsmodels 有方差分析库\n",
    "## 从线性回归结果中提取方差分析结果\n",
    "import statsmodels.api as sm\n",
    "from statsmodels.formula.api import ols # ols 为建立线性回归模型的统计学库\n",
    "from statsmodels.stats.anova import anova_lm"
   ]
  },
  {
   "cell_type": "markdown",
   "metadata": {},
   "source": [
    "插播一条样本量和置信水平 α_level 的注意点（置信水平 α 的选择经验）\n",
    "\n",
    "    样本量            α-level\n",
    "    ≤ 100              10%\n",
    "    100 ＜ n ≤ 500      5%\n",
    "    500 ＜ n ≤ 1000     1%\n",
    "    n ＞ 2000          千分之一\n",
    "    \n",
    "样本量过大，α-level 就没什么意义了。\n",
    "\n",
    "数据量很大时，p 值就没用了，样本量通常不超过 5000，\n",
    "\n",
    "为了证明两变量间的关系是稳定的，样本量要控制好。"
   ]
  },
  {
   "cell_type": "code",
   "execution_count": 9,
   "metadata": {},
   "outputs": [
    {
     "data": {
      "text/html": [
       "<div>\n",
       "<style scoped>\n",
       "    .dataframe tbody tr th:only-of-type {\n",
       "        vertical-align: middle;\n",
       "    }\n",
       "\n",
       "    .dataframe tbody tr th {\n",
       "        vertical-align: top;\n",
       "    }\n",
       "\n",
       "    .dataframe thead th {\n",
       "        text-align: right;\n",
       "    }\n",
       "</style>\n",
       "<table border=\"1\" class=\"dataframe\">\n",
       "  <thead>\n",
       "    <tr style=\"text-align: right;\">\n",
       "      <th></th>\n",
       "      <th>df</th>\n",
       "      <th>sum_sq</th>\n",
       "      <th>mean_sq</th>\n",
       "      <th>F</th>\n",
       "      <th>PR(&gt;F)</th>\n",
       "    </tr>\n",
       "  </thead>\n",
       "  <tbody>\n",
       "    <tr>\n",
       "      <th>C(neighborhood)</th>\n",
       "      <td>2.0</td>\n",
       "      <td>3.783209e+13</td>\n",
       "      <td>1.891605e+13</td>\n",
       "      <td>153.563336</td>\n",
       "      <td>1.685424e-54</td>\n",
       "    </tr>\n",
       "    <tr>\n",
       "      <th>C(style)</th>\n",
       "      <td>2.0</td>\n",
       "      <td>5.861148e+13</td>\n",
       "      <td>2.930574e+13</td>\n",
       "      <td>237.908463</td>\n",
       "      <td>1.198166e-76</td>\n",
       "    </tr>\n",
       "    <tr>\n",
       "      <th>Residual</th>\n",
       "      <td>595.0</td>\n",
       "      <td>7.329254e+13</td>\n",
       "      <td>1.231807e+11</td>\n",
       "      <td>NaN</td>\n",
       "      <td>NaN</td>\n",
       "    </tr>\n",
       "  </tbody>\n",
       "</table>\n",
       "</div>"
      ],
      "text/plain": [
       "                    df        sum_sq       mean_sq           F        PR(>F)\n",
       "C(neighborhood)    2.0  3.783209e+13  1.891605e+13  153.563336  1.685424e-54\n",
       "C(style)           2.0  5.861148e+13  2.930574e+13  237.908463  1.198166e-76\n",
       "Residual         595.0  7.329254e+13  1.231807e+11         NaN           NaN"
      ]
     },
     "execution_count": 9,
     "metadata": {},
     "output_type": "execute_result"
    }
   ],
   "source": [
    "# 数据集样本数量：6028，这里随机选择 600 条，如果希望分层抽样，可参考文章：\n",
    "df = df.copy().sample(600)\n",
    "\n",
    "# C 表示告诉 Python 这是分类变量，否则 Python 会当成连续变量使用\n",
    "## 这里直接使用方差分析对所有分类变量进行检验\n",
    "## 下面几行代码便是使用统计学库进行方差分析的标准姿势\n",
    "lm = ols('price ~ C(neighborhood) + C(style)', data=df).fit()\n",
    "anova_lm(lm)\n",
    "\n",
    "# Residual 行表示模型不能解释的组内的，其他的是能解释的组间的\n",
    "# df: 自由度（n-1）- 分类变量中的类别个数减1\n",
    "# sum_sq: 总平方和（SSM），residual行的 sum_eq: SSE\n",
    "# mean_sq: msm, residual行的 mean_sq: mse\n",
    "# F：F 统计量，查看卡方分布表即可\n",
    "# PR(>F): P 值\n",
    "\n",
    "# 反复刷新几次，发现都很显著，所以这两个变量也挺值得放入模型中"
   ]
  },
  {
   "cell_type": "code",
   "execution_count": null,
   "metadata": {},
   "outputs": [],
   "source": []
  },
  {
   "cell_type": "markdown",
   "metadata": {},
   "source": [
    "## 多元线性回归建模"
   ]
  },
  {
   "cell_type": "code",
   "execution_count": 14,
   "metadata": {},
   "outputs": [
    {
     "data": {
      "text/html": [
       "<table class=\"simpletable\">\n",
       "<caption>OLS Regression Results</caption>\n",
       "<tr>\n",
       "  <th>Dep. Variable:</th>          <td>price</td>      <th>  R-squared:         </th> <td>   0.680</td> \n",
       "</tr>\n",
       "<tr>\n",
       "  <th>Model:</th>                   <td>OLS</td>       <th>  Adj. R-squared:    </th> <td>   0.678</td> \n",
       "</tr>\n",
       "<tr>\n",
       "  <th>Method:</th>             <td>Least Squares</td>  <th>  F-statistic:       </th> <td>   421.6</td> \n",
       "</tr>\n",
       "<tr>\n",
       "  <th>Date:</th>             <td>Wed, 01 Jul 2020</td> <th>  Prob (F-statistic):</th> <td>7.30e-147</td>\n",
       "</tr>\n",
       "<tr>\n",
       "  <th>Time:</th>                 <td>01:56:25</td>     <th>  Log-Likelihood:    </th> <td> -8420.3</td> \n",
       "</tr>\n",
       "<tr>\n",
       "  <th>No. Observations:</th>      <td>   600</td>      <th>  AIC:               </th> <td>1.685e+04</td>\n",
       "</tr>\n",
       "<tr>\n",
       "  <th>Df Residuals:</th>          <td>   596</td>      <th>  BIC:               </th> <td>1.687e+04</td>\n",
       "</tr>\n",
       "<tr>\n",
       "  <th>Df Model:</th>              <td>     3</td>      <th>                     </th>     <td> </td>    \n",
       "</tr>\n",
       "<tr>\n",
       "  <th>Covariance Type:</th>      <td>nonrobust</td>    <th>                     </th>     <td> </td>    \n",
       "</tr>\n",
       "</table>\n",
       "<table class=\"simpletable\">\n",
       "<tr>\n",
       "      <td></td>         <th>coef</th>     <th>std err</th>      <th>t</th>      <th>P>|t|</th>  <th>[0.025</th>    <th>0.975]</th>  \n",
       "</tr>\n",
       "<tr>\n",
       "  <th>Intercept</th> <td> 5619.4288</td> <td> 3.24e+04</td> <td>    0.174</td> <td> 0.862</td> <td> -5.8e+04</td> <td> 6.92e+04</td>\n",
       "</tr>\n",
       "<tr>\n",
       "  <th>area</th>      <td>  314.1341</td> <td>   21.622</td> <td>   14.528</td> <td> 0.000</td> <td>  271.669</td> <td>  356.599</td>\n",
       "</tr>\n",
       "<tr>\n",
       "  <th>bedrooms</th>  <td>-5248.5264</td> <td> 3.21e+04</td> <td>   -0.163</td> <td> 0.870</td> <td>-6.83e+04</td> <td> 5.78e+04</td>\n",
       "</tr>\n",
       "<tr>\n",
       "  <th>bathrooms</th> <td> 4.164e+04</td> <td> 4.64e+04</td> <td>    0.898</td> <td> 0.370</td> <td>-4.95e+04</td> <td> 1.33e+05</td>\n",
       "</tr>\n",
       "</table>\n",
       "<table class=\"simpletable\">\n",
       "<tr>\n",
       "  <th>Omnibus:</th>       <td>41.088</td> <th>  Durbin-Watson:     </th> <td>   2.118</td>\n",
       "</tr>\n",
       "<tr>\n",
       "  <th>Prob(Omnibus):</th> <td> 0.000</td> <th>  Jarque-Bera (JB):  </th> <td>  48.489</td>\n",
       "</tr>\n",
       "<tr>\n",
       "  <th>Skew:</th>          <td> 0.694</td> <th>  Prob(JB):          </th> <td>2.96e-11</td>\n",
       "</tr>\n",
       "<tr>\n",
       "  <th>Kurtosis:</th>      <td> 2.879</td> <th>  Cond. No.          </th> <td>1.19e+04</td>\n",
       "</tr>\n",
       "</table><br/><br/>Warnings:<br/>[1] Standard Errors assume that the covariance matrix of the errors is correctly specified.<br/>[2] The condition number is large, 1.19e+04. This might indicate that there are<br/>strong multicollinearity or other numerical problems."
      ],
      "text/plain": [
       "<class 'statsmodels.iolib.summary.Summary'>\n",
       "\"\"\"\n",
       "                            OLS Regression Results                            \n",
       "==============================================================================\n",
       "Dep. Variable:                  price   R-squared:                       0.680\n",
       "Model:                            OLS   Adj. R-squared:                  0.678\n",
       "Method:                 Least Squares   F-statistic:                     421.6\n",
       "Date:                Wed, 01 Jul 2020   Prob (F-statistic):          7.30e-147\n",
       "Time:                        01:56:25   Log-Likelihood:                -8420.3\n",
       "No. Observations:                 600   AIC:                         1.685e+04\n",
       "Df Residuals:                     596   BIC:                         1.687e+04\n",
       "Df Model:                           3                                         \n",
       "Covariance Type:            nonrobust                                         \n",
       "==============================================================================\n",
       "                 coef    std err          t      P>|t|      [0.025      0.975]\n",
       "------------------------------------------------------------------------------\n",
       "Intercept   5619.4288   3.24e+04      0.174      0.862    -5.8e+04    6.92e+04\n",
       "area         314.1341     21.622     14.528      0.000     271.669     356.599\n",
       "bedrooms   -5248.5264   3.21e+04     -0.163      0.870   -6.83e+04    5.78e+04\n",
       "bathrooms   4.164e+04   4.64e+04      0.898      0.370   -4.95e+04    1.33e+05\n",
       "==============================================================================\n",
       "Omnibus:                       41.088   Durbin-Watson:                   2.118\n",
       "Prob(Omnibus):                  0.000   Jarque-Bera (JB):               48.489\n",
       "Skew:                           0.694   Prob(JB):                     2.96e-11\n",
       "Kurtosis:                       2.879   Cond. No.                     1.19e+04\n",
       "==============================================================================\n",
       "\n",
       "Warnings:\n",
       "[1] Standard Errors assume that the covariance matrix of the errors is correctly specified.\n",
       "[2] The condition number is large, 1.19e+04. This might indicate that there are\n",
       "strong multicollinearity or other numerical problems.\n",
       "\"\"\""
      ]
     },
     "execution_count": 14,
     "metadata": {},
     "output_type": "execute_result"
    }
   ],
   "source": [
    "from statsmodels.formula.api import ols\n",
    "\n",
    "lm = ols('price ~ area + bedrooms + bathrooms', data=df).fit()\n",
    "lm.summary()"
   ]
  },
  {
   "cell_type": "code",
   "execution_count": null,
   "metadata": {},
   "outputs": [],
   "source": []
  },
  {
   "cell_type": "markdown",
   "metadata": {},
   "source": [
    "## 模型优化\n",
    "发现精度还不够高，这里通过添加虚拟变量与使用方差膨胀因子检测多元共线性的方式来提升模型精度"
   ]
  },
  {
   "cell_type": "code",
   "execution_count": 12,
   "metadata": {},
   "outputs": [
    {
     "data": {
      "text/html": [
       "<div>\n",
       "<style scoped>\n",
       "    .dataframe tbody tr th:only-of-type {\n",
       "        vertical-align: middle;\n",
       "    }\n",
       "\n",
       "    .dataframe tbody tr th {\n",
       "        vertical-align: top;\n",
       "    }\n",
       "\n",
       "    .dataframe thead th {\n",
       "        text-align: right;\n",
       "    }\n",
       "</style>\n",
       "<table border=\"1\" class=\"dataframe\">\n",
       "  <thead>\n",
       "    <tr style=\"text-align: right;\">\n",
       "      <th></th>\n",
       "      <th>A</th>\n",
       "      <th>B</th>\n",
       "    </tr>\n",
       "  </thead>\n",
       "  <tbody>\n",
       "    <tr>\n",
       "      <th>2253</th>\n",
       "      <td>1</td>\n",
       "      <td>0</td>\n",
       "    </tr>\n",
       "  </tbody>\n",
       "</table>\n",
       "</div>"
      ],
      "text/plain": [
       "      A  B\n",
       "2253  1  0"
      ]
     },
     "execution_count": 12,
     "metadata": {},
     "output_type": "execute_result"
    }
   ],
   "source": [
    "# 设置虚拟变量\n",
    "# 以名义变量 neighborhood 街区为例\n",
    "nominal_data = df['neighborhood']\n",
    "\n",
    "# 设置虚拟变量\n",
    "dummies = pd.get_dummies(nominal_data)\n",
    "dummies.sample()  # pandas 会自动帮你命名\n",
    "\n",
    "# 每个名义变量生成的虚拟变量中，需要各丢弃一个，这里以丢弃C为例\n",
    "dummies.drop(columns=['C'], inplace=True)\n",
    "dummies.sample()"
   ]
  },
  {
   "cell_type": "code",
   "execution_count": 13,
   "metadata": {},
   "outputs": [
    {
     "data": {
      "text/html": [
       "<div>\n",
       "<style scoped>\n",
       "    .dataframe tbody tr th:only-of-type {\n",
       "        vertical-align: middle;\n",
       "    }\n",
       "\n",
       "    .dataframe tbody tr th {\n",
       "        vertical-align: top;\n",
       "    }\n",
       "\n",
       "    .dataframe thead th {\n",
       "        text-align: right;\n",
       "    }\n",
       "</style>\n",
       "<table border=\"1\" class=\"dataframe\">\n",
       "  <thead>\n",
       "    <tr style=\"text-align: right;\">\n",
       "      <th></th>\n",
       "      <th>house_id</th>\n",
       "      <th>neighborhood</th>\n",
       "      <th>area</th>\n",
       "      <th>bedrooms</th>\n",
       "      <th>bathrooms</th>\n",
       "      <th>style</th>\n",
       "      <th>price</th>\n",
       "      <th>A</th>\n",
       "      <th>B</th>\n",
       "    </tr>\n",
       "  </thead>\n",
       "  <tbody>\n",
       "    <tr>\n",
       "      <th>1797</th>\n",
       "      <td>5306</td>\n",
       "      <td>A</td>\n",
       "      <td>812</td>\n",
       "      <td>0</td>\n",
       "      <td>0</td>\n",
       "      <td>lodge</td>\n",
       "      <td>213459</td>\n",
       "      <td>1</td>\n",
       "      <td>0</td>\n",
       "    </tr>\n",
       "    <tr>\n",
       "      <th>3725</th>\n",
       "      <td>4370</td>\n",
       "      <td>C</td>\n",
       "      <td>1770</td>\n",
       "      <td>4</td>\n",
       "      <td>2</td>\n",
       "      <td>ranch</td>\n",
       "      <td>451515</td>\n",
       "      <td>0</td>\n",
       "      <td>0</td>\n",
       "    </tr>\n",
       "    <tr>\n",
       "      <th>3246</th>\n",
       "      <td>1033</td>\n",
       "      <td>A</td>\n",
       "      <td>3035</td>\n",
       "      <td>6</td>\n",
       "      <td>4</td>\n",
       "      <td>victorian</td>\n",
       "      <td>765539</td>\n",
       "      <td>1</td>\n",
       "      <td>0</td>\n",
       "    </tr>\n",
       "  </tbody>\n",
       "</table>\n",
       "</div>"
      ],
      "text/plain": [
       "      house_id neighborhood  area  bedrooms  bathrooms      style   price  A  \\\n",
       "1797      5306            A   812         0          0      lodge  213459  1   \n",
       "3725      4370            C  1770         4          2      ranch  451515  0   \n",
       "3246      1033            A  3035         6          4  victorian  765539  1   \n",
       "\n",
       "      B  \n",
       "1797  0  \n",
       "3725  0  \n",
       "3246  0  "
      ]
     },
     "execution_count": 13,
     "metadata": {},
     "output_type": "execute_result"
    }
   ],
   "source": [
    "# 将结果与原数据集拼接\n",
    "results = pd.concat(objs=[df, dummies], axis='columns')  # 按照列来合并\n",
    "results.sample(3)\n",
    "# 对名义变量 style 的处理可自行尝试"
   ]
  },
  {
   "cell_type": "code",
   "execution_count": 15,
   "metadata": {},
   "outputs": [
    {
     "data": {
      "text/html": [
       "<table class=\"simpletable\">\n",
       "<caption>OLS Regression Results</caption>\n",
       "<tr>\n",
       "  <th>Dep. Variable:</th>          <td>price</td>      <th>  R-squared:         </th> <td>   0.917</td> \n",
       "</tr>\n",
       "<tr>\n",
       "  <th>Model:</th>                   <td>OLS</td>       <th>  Adj. R-squared:    </th> <td>   0.916</td> \n",
       "</tr>\n",
       "<tr>\n",
       "  <th>Method:</th>             <td>Least Squares</td>  <th>  F-statistic:       </th> <td>   1310.</td> \n",
       "</tr>\n",
       "<tr>\n",
       "  <th>Date:</th>             <td>Wed, 01 Jul 2020</td> <th>  Prob (F-statistic):</th> <td>4.94e-318</td>\n",
       "</tr>\n",
       "<tr>\n",
       "  <th>Time:</th>                 <td>01:56:58</td>     <th>  Log-Likelihood:    </th> <td> -8015.6</td> \n",
       "</tr>\n",
       "<tr>\n",
       "  <th>No. Observations:</th>      <td>   600</td>      <th>  AIC:               </th> <td>1.604e+04</td>\n",
       "</tr>\n",
       "<tr>\n",
       "  <th>Df Residuals:</th>          <td>   594</td>      <th>  BIC:               </th> <td>1.607e+04</td>\n",
       "</tr>\n",
       "<tr>\n",
       "  <th>Df Model:</th>              <td>     5</td>      <th>                     </th>     <td> </td>    \n",
       "</tr>\n",
       "<tr>\n",
       "  <th>Covariance Type:</th>      <td>nonrobust</td>    <th>                     </th>     <td> </td>    \n",
       "</tr>\n",
       "</table>\n",
       "<table class=\"simpletable\">\n",
       "<tr>\n",
       "      <td></td>         <th>coef</th>     <th>std err</th>      <th>t</th>      <th>P>|t|</th>  <th>[0.025</th>    <th>0.975]</th>  \n",
       "</tr>\n",
       "<tr>\n",
       "  <th>Intercept</th> <td>-1.989e+05</td> <td> 1.91e+04</td> <td>  -10.409</td> <td> 0.000</td> <td>-2.36e+05</td> <td>-1.61e+05</td>\n",
       "</tr>\n",
       "<tr>\n",
       "  <th>area</th>      <td>  347.3181</td> <td>   11.110</td> <td>   31.261</td> <td> 0.000</td> <td>  325.498</td> <td>  369.138</td>\n",
       "</tr>\n",
       "<tr>\n",
       "  <th>bedrooms</th>  <td> 1.114e+04</td> <td> 1.64e+04</td> <td>    0.679</td> <td> 0.497</td> <td>-2.11e+04</td> <td> 4.33e+04</td>\n",
       "</tr>\n",
       "<tr>\n",
       "  <th>bathrooms</th> <td> -1.65e+04</td> <td> 2.37e+04</td> <td>   -0.696</td> <td> 0.487</td> <td>-6.31e+04</td> <td> 3.01e+04</td>\n",
       "</tr>\n",
       "<tr>\n",
       "  <th>A</th>         <td>-2.535e+04</td> <td> 1.63e+04</td> <td>   -1.556</td> <td> 0.120</td> <td>-5.73e+04</td> <td> 6641.583</td>\n",
       "</tr>\n",
       "<tr>\n",
       "  <th>B</th>         <td> 5.182e+05</td> <td> 1.55e+04</td> <td>   33.535</td> <td> 0.000</td> <td> 4.88e+05</td> <td> 5.49e+05</td>\n",
       "</tr>\n",
       "</table>\n",
       "<table class=\"simpletable\">\n",
       "<tr>\n",
       "  <th>Omnibus:</th>       <td>32.404</td> <th>  Durbin-Watson:     </th> <td>   1.960</td>\n",
       "</tr>\n",
       "<tr>\n",
       "  <th>Prob(Omnibus):</th> <td> 0.000</td> <th>  Jarque-Bera (JB):  </th> <td>  44.693</td>\n",
       "</tr>\n",
       "<tr>\n",
       "  <th>Skew:</th>          <td> 0.457</td> <th>  Prob(JB):          </th> <td>1.97e-10</td>\n",
       "</tr>\n",
       "<tr>\n",
       "  <th>Kurtosis:</th>      <td> 3.976</td> <th>  Cond. No.          </th> <td>1.21e+04</td>\n",
       "</tr>\n",
       "</table><br/><br/>Warnings:<br/>[1] Standard Errors assume that the covariance matrix of the errors is correctly specified.<br/>[2] The condition number is large, 1.21e+04. This might indicate that there are<br/>strong multicollinearity or other numerical problems."
      ],
      "text/plain": [
       "<class 'statsmodels.iolib.summary.Summary'>\n",
       "\"\"\"\n",
       "                            OLS Regression Results                            \n",
       "==============================================================================\n",
       "Dep. Variable:                  price   R-squared:                       0.917\n",
       "Model:                            OLS   Adj. R-squared:                  0.916\n",
       "Method:                 Least Squares   F-statistic:                     1310.\n",
       "Date:                Wed, 01 Jul 2020   Prob (F-statistic):          4.94e-318\n",
       "Time:                        01:56:58   Log-Likelihood:                -8015.6\n",
       "No. Observations:                 600   AIC:                         1.604e+04\n",
       "Df Residuals:                     594   BIC:                         1.607e+04\n",
       "Df Model:                           5                                         \n",
       "Covariance Type:            nonrobust                                         \n",
       "==============================================================================\n",
       "                 coef    std err          t      P>|t|      [0.025      0.975]\n",
       "------------------------------------------------------------------------------\n",
       "Intercept  -1.989e+05   1.91e+04    -10.409      0.000   -2.36e+05   -1.61e+05\n",
       "area         347.3181     11.110     31.261      0.000     325.498     369.138\n",
       "bedrooms    1.114e+04   1.64e+04      0.679      0.497   -2.11e+04    4.33e+04\n",
       "bathrooms   -1.65e+04   2.37e+04     -0.696      0.487   -6.31e+04    3.01e+04\n",
       "A          -2.535e+04   1.63e+04     -1.556      0.120   -5.73e+04    6641.583\n",
       "B           5.182e+05   1.55e+04     33.535      0.000    4.88e+05    5.49e+05\n",
       "==============================================================================\n",
       "Omnibus:                       32.404   Durbin-Watson:                   1.960\n",
       "Prob(Omnibus):                  0.000   Jarque-Bera (JB):               44.693\n",
       "Skew:                           0.457   Prob(JB):                     1.97e-10\n",
       "Kurtosis:                       3.976   Cond. No.                     1.21e+04\n",
       "==============================================================================\n",
       "\n",
       "Warnings:\n",
       "[1] Standard Errors assume that the covariance matrix of the errors is correctly specified.\n",
       "[2] The condition number is large, 1.21e+04. This might indicate that there are\n",
       "strong multicollinearity or other numerical problems.\n",
       "\"\"\""
      ]
     },
     "execution_count": 15,
     "metadata": {},
     "output_type": "execute_result"
    }
   ],
   "source": [
    "# 再次建模\n",
    "lm = ols('price ~ area + bedrooms + bathrooms + A + B', data=results).fit()\n",
    "lm.summary()"
   ]
  },
  {
   "cell_type": "code",
   "execution_count": 16,
   "metadata": {},
   "outputs": [],
   "source": [
    "# 模型末尾提示可能存在多元共线性，需要处理一下"
   ]
  },
  {
   "cell_type": "code",
   "execution_count": 17,
   "metadata": {},
   "outputs": [],
   "source": [
    "# 自定义方差膨胀因子的检测公式\n",
    "def vif(df, col_i):\n",
    "    \"\"\"\n",
    "    df: 整份数据\n",
    "    col_i：被检测的列名\n",
    "    \"\"\"\n",
    "    cols = list(df.columns)\n",
    "    cols.remove(col_i)\n",
    "    cols_noti = cols\n",
    "    formula = col_i + '~' + '+'.join(cols_noti)\n",
    "    r2 = ols(formula, df).fit().rsquared\n",
    "    return 1. / (1. - r2)"
   ]
  },
  {
   "cell_type": "code",
   "execution_count": 19,
   "metadata": {},
   "outputs": [
    {
     "name": "stdout",
     "output_type": "stream",
     "text": [
      "area \t 5.107868214175136\n",
      "bedrooms \t 21.10313675002999\n",
      "bathrooms \t 20.40342309177548\n",
      "A \t 1.4543177529320659\n",
      "B \t 1.4411499419523033\n"
     ]
    }
   ],
   "source": [
    "test_data = results[['area', 'bedrooms', 'bathrooms', 'A', 'B']]\n",
    "for i in test_data.columns:\n",
    "    print(i, '\\t', vif(df=test_data, col_i=i))\n",
    "# 发现 bedrooms 和 bathrooms 存在强相关性，可能这两个变量是解释同一个问题"
   ]
  },
  {
   "cell_type": "code",
   "execution_count": 22,
   "metadata": {},
   "outputs": [
    {
     "data": {
      "text/html": [
       "<table class=\"simpletable\">\n",
       "<caption>OLS Regression Results</caption>\n",
       "<tr>\n",
       "  <th>Dep. Variable:</th>          <td>price</td>      <th>  R-squared:         </th> <td>   0.917</td> \n",
       "</tr>\n",
       "<tr>\n",
       "  <th>Model:</th>                   <td>OLS</td>       <th>  Adj. R-squared:    </th> <td>   0.916</td> \n",
       "</tr>\n",
       "<tr>\n",
       "  <th>Method:</th>             <td>Least Squares</td>  <th>  F-statistic:       </th> <td>   1639.</td> \n",
       "</tr>\n",
       "<tr>\n",
       "  <th>Date:</th>             <td>Wed, 01 Jul 2020</td> <th>  Prob (F-statistic):</th> <td>1.44e-319</td>\n",
       "</tr>\n",
       "<tr>\n",
       "  <th>Time:</th>                 <td>01:59:14</td>     <th>  Log-Likelihood:    </th> <td> -8015.9</td> \n",
       "</tr>\n",
       "<tr>\n",
       "  <th>No. Observations:</th>      <td>   600</td>      <th>  AIC:               </th> <td>1.604e+04</td>\n",
       "</tr>\n",
       "<tr>\n",
       "  <th>Df Residuals:</th>          <td>   595</td>      <th>  BIC:               </th> <td>1.606e+04</td>\n",
       "</tr>\n",
       "<tr>\n",
       "  <th>Df Model:</th>              <td>     4</td>      <th>                     </th>     <td> </td>    \n",
       "</tr>\n",
       "<tr>\n",
       "  <th>Covariance Type:</th>      <td>nonrobust</td>    <th>                     </th>     <td> </td>    \n",
       "</tr>\n",
       "</table>\n",
       "<table class=\"simpletable\">\n",
       "<tr>\n",
       "      <td></td>         <th>coef</th>     <th>std err</th>      <th>t</th>      <th>P>|t|</th>  <th>[0.025</th>    <th>0.975]</th>  \n",
       "</tr>\n",
       "<tr>\n",
       "  <th>Intercept</th> <td>-1.919e+05</td> <td> 1.61e+04</td> <td>  -11.919</td> <td> 0.000</td> <td>-2.23e+05</td> <td> -1.6e+05</td>\n",
       "</tr>\n",
       "<tr>\n",
       "  <th>area</th>      <td>  349.2697</td> <td>   10.727</td> <td>   32.559</td> <td> 0.000</td> <td>  328.202</td> <td>  370.338</td>\n",
       "</tr>\n",
       "<tr>\n",
       "  <th>bathrooms</th> <td>-2388.5200</td> <td> 1.14e+04</td> <td>   -0.209</td> <td> 0.835</td> <td>-2.48e+04</td> <td> 2.01e+04</td>\n",
       "</tr>\n",
       "<tr>\n",
       "  <th>A</th>         <td>-2.538e+04</td> <td> 1.63e+04</td> <td>   -1.559</td> <td> 0.120</td> <td>-5.74e+04</td> <td> 6593.472</td>\n",
       "</tr>\n",
       "<tr>\n",
       "  <th>B</th>         <td> 5.179e+05</td> <td> 1.54e+04</td> <td>   33.543</td> <td> 0.000</td> <td> 4.88e+05</td> <td> 5.48e+05</td>\n",
       "</tr>\n",
       "</table>\n",
       "<table class=\"simpletable\">\n",
       "<tr>\n",
       "  <th>Omnibus:</th>       <td>30.175</td> <th>  Durbin-Watson:     </th> <td>   1.960</td>\n",
       "</tr>\n",
       "<tr>\n",
       "  <th>Prob(Omnibus):</th> <td> 0.000</td> <th>  Jarque-Bera (JB):  </th> <td>  40.986</td>\n",
       "</tr>\n",
       "<tr>\n",
       "  <th>Skew:</th>          <td> 0.438</td> <th>  Prob(JB):          </th> <td>1.26e-09</td>\n",
       "</tr>\n",
       "<tr>\n",
       "  <th>Kurtosis:</th>      <td> 3.934</td> <th>  Cond. No.          </th> <td>9.20e+03</td>\n",
       "</tr>\n",
       "</table><br/><br/>Warnings:<br/>[1] Standard Errors assume that the covariance matrix of the errors is correctly specified.<br/>[2] The condition number is large, 9.2e+03. This might indicate that there are<br/>strong multicollinearity or other numerical problems."
      ],
      "text/plain": [
       "<class 'statsmodels.iolib.summary.Summary'>\n",
       "\"\"\"\n",
       "                            OLS Regression Results                            \n",
       "==============================================================================\n",
       "Dep. Variable:                  price   R-squared:                       0.917\n",
       "Model:                            OLS   Adj. R-squared:                  0.916\n",
       "Method:                 Least Squares   F-statistic:                     1639.\n",
       "Date:                Wed, 01 Jul 2020   Prob (F-statistic):          1.44e-319\n",
       "Time:                        01:59:14   Log-Likelihood:                -8015.9\n",
       "No. Observations:                 600   AIC:                         1.604e+04\n",
       "Df Residuals:                     595   BIC:                         1.606e+04\n",
       "Df Model:                           4                                         \n",
       "Covariance Type:            nonrobust                                         \n",
       "==============================================================================\n",
       "                 coef    std err          t      P>|t|      [0.025      0.975]\n",
       "------------------------------------------------------------------------------\n",
       "Intercept  -1.919e+05   1.61e+04    -11.919      0.000   -2.23e+05    -1.6e+05\n",
       "area         349.2697     10.727     32.559      0.000     328.202     370.338\n",
       "bathrooms  -2388.5200   1.14e+04     -0.209      0.835   -2.48e+04    2.01e+04\n",
       "A          -2.538e+04   1.63e+04     -1.559      0.120   -5.74e+04    6593.472\n",
       "B           5.179e+05   1.54e+04     33.543      0.000    4.88e+05    5.48e+05\n",
       "==============================================================================\n",
       "Omnibus:                       30.175   Durbin-Watson:                   1.960\n",
       "Prob(Omnibus):                  0.000   Jarque-Bera (JB):               40.986\n",
       "Skew:                           0.438   Prob(JB):                     1.26e-09\n",
       "Kurtosis:                       3.934   Cond. No.                     9.20e+03\n",
       "==============================================================================\n",
       "\n",
       "Warnings:\n",
       "[1] Standard Errors assume that the covariance matrix of the errors is correctly specified.\n",
       "[2] The condition number is large, 9.2e+03. This might indicate that there are\n",
       "strong multicollinearity or other numerical problems.\n",
       "\"\"\""
      ]
     },
     "execution_count": 22,
     "metadata": {},
     "output_type": "execute_result"
    }
   ],
   "source": [
    "# 果然，bedrooms 和 bathrooms 这两个变量的方差膨胀因子较高，\n",
    " # 也印证了方差膨胀因子大多成对出现的原则，这里我们丢弃膨胀因子较大的 bedrooms 即可\n",
    "lm = ols(formula='price ~ area + bathrooms + A + B', data=results).fit()\n",
    "lm.summary()"
   ]
  },
  {
   "cell_type": "code",
   "execution_count": 23,
   "metadata": {},
   "outputs": [
    {
     "name": "stdout",
     "output_type": "stream",
     "text": [
      "area \t 4.6919801219379025\n",
      "bathrooms \t 4.6919801219379025\n"
     ]
    }
   ],
   "source": [
    "# 再次进行多元共线性检测\n",
    "test_data = df[['area', 'bathrooms']]\n",
    "for i in test_data.columns:\n",
    "    print(i, '\\t', vif(df=test_data, col_i=i))"
   ]
  },
  {
   "cell_type": "code",
   "execution_count": 24,
   "metadata": {},
   "outputs": [],
   "source": [
    "# 精度没变，但具体问题还是需要结合具体业务来分析"
   ]
  }
 ],
 "metadata": {
  "kernelspec": {
   "display_name": "Python 3",
   "language": "python",
   "name": "python3"
  },
  "language_info": {
   "codemirror_mode": {
    "name": "ipython",
    "version": 3
   },
   "file_extension": ".py",
   "mimetype": "text/x-python",
   "name": "python",
   "nbconvert_exporter": "python",
   "pygments_lexer": "ipython3",
   "version": "3.7.3"
  },
  "latex_envs": {
   "LaTeX_envs_menu_present": true,
   "autoclose": false,
   "autocomplete": true,
   "bibliofile": "biblio.bib",
   "cite_by": "apalike",
   "current_citInitial": 1,
   "eqLabelWithNumbers": true,
   "eqNumInitial": 1,
   "hotkeys": {
    "equation": "Ctrl-E",
    "itemize": "Ctrl-I"
   },
   "labels_anchors": false,
   "latex_user_defs": false,
   "report_style_numbering": false,
   "user_envs_cfg": false
  },
  "toc": {
   "base_numbering": 1,
   "nav_menu": {},
   "number_sections": true,
   "sideBar": true,
   "skip_h1_title": false,
   "title_cell": "Table of Contents",
   "title_sidebar": "Contents",
   "toc_cell": false,
   "toc_position": {},
   "toc_section_display": true,
   "toc_window_display": false
  },
  "varInspector": {
   "cols": {
    "lenName": 16,
    "lenType": 16,
    "lenVar": 40
   },
   "kernels_config": {
    "python": {
     "delete_cmd_postfix": "",
     "delete_cmd_prefix": "del ",
     "library": "var_list.py",
     "varRefreshCmd": "print(var_dic_list())"
    },
    "r": {
     "delete_cmd_postfix": ") ",
     "delete_cmd_prefix": "rm(",
     "library": "var_list.r",
     "varRefreshCmd": "cat(var_dic_list()) "
    }
   },
   "types_to_exclude": [
    "module",
    "function",
    "builtin_function_or_method",
    "instance",
    "_Feature"
   ],
   "window_display": false
  }
 },
 "nbformat": 4,
 "nbformat_minor": 2
}
