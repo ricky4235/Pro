{
 "cells": [
  {
   "cell_type": "code",
   "execution_count": null,
   "metadata": {},
   "outputs": [],
   "source": [
    "Ch12_Pandas"
   ]
  },
  {
   "cell_type": "markdown",
   "metadata": {},
   "source": [
    "https://oranwind.org/python-pandas-ji-chu-jiao-xue/\n",
    "    \n",
    "https://medium.com/datainpoint/%E5%BE%9E-pandas-%E9%96%8B%E5%A7%8B-python-%E8%88%87%E8%B3%87%E6%96%99%E7%A7%91%E5%AD%B8%E4%B9%8B%E6%97%85-8dee36796d4a\n",
    "    \n",
    "https://medium.com/jameslearningnote/%E8%B3%87%E6%96%99%E5%88%86%E6%9E%90-%E6%A9%9F%E5%99%A8%E5%AD%B8%E7%BF%92-%E7%AC%AC2-3%E8%AC%9B-pandas-%E5%9F%BA%E6%9C%ACfunction%E4%BB%8B%E7%B4%B9-series-dataframe-selection-grouping-447a3fa90b60"
   ]
  },
  {
   "cell_type": "markdown",
   "metadata": {},
   "source": [
    "在介紹Pandas之前有許多書籍會提到Numpy，主要原因是因為Pandas背後的數值型態都是Numpy，<br>\n",
    "Numpy的資料結構可以幫助Pandas在執行運算上更有效率以及更省記憶體。<br>\n",
    "\n",
    "舉例來說Python的內建資料結構list可以塞好幾種不同type的資料進去，如下圖所示，這個list裡面的資料有string, int, float，<br>\n",
    "但對於機器來說，要提升效能或是提升記憶體省用效率最好有一致的型別會比較好。"
   ]
  },
  {
   "cell_type": "code",
   "execution_count": 43,
   "metadata": {},
   "outputs": [
    {
     "data": {
      "text/plain": [
       "['1', 2, 3.0, 4, 5]"
      ]
     },
     "execution_count": 43,
     "metadata": {},
     "output_type": "execute_result"
    }
   ],
   "source": [
    "list = [\"1\",2,3.,4,5]\n",
    "list"
   ]
  },
  {
   "cell_type": "code",
   "execution_count": 46,
   "metadata": {
    "scrolled": false
   },
   "outputs": [
    {
     "data": {
      "text/plain": [
       "array(['1', '2', '3.0', '4', '5'], dtype='<U3')"
      ]
     },
     "execution_count": 46,
     "metadata": {},
     "output_type": "execute_result"
    }
   ],
   "source": [
    "#當使用numpy的array資料結構會強迫把裡面的資料都轉成同一型態\n",
    "np.array(list)"
   ]
  },
  {
   "cell_type": "markdown",
   "metadata": {},
   "source": [
    "# Numpy介紹\n",
    "https://medium.com/python4u/hello-numpy-b5ebe67a1ada <br>\n",
    "NumPy是Python在進行科學運算時，一個非常基礎的Package，同時也是非常核心的library，它具有下列幾個重要特色：<br>\n",
    "* 提供非常高效能的多維陣列(multi-dimensional array)數學函式庫<br>\n",
    "* 可整合C/C++及Fortran的程式碼<br>\n",
    "* 方便有用的線性代數(Linear Algebra)及傅立葉轉換(Fourier Transform)能力<br>\n",
    "* 利用NumPy Array替代Python List<br>\n",
    "* 可定義任意的數據型態(Data Type)，使得能輕易及無縫的與多種資料庫整合<br>\n",
    "\n",
    "在邁向資料科學(Data Science)、機器學習(Machine Learning)、深度學習(Deep Learning)及人工智慧(Artificial Intelligence)的路上，<br>\n",
    "Python還有許許多多有趣好玩的套件(例如：Pandas、SciPy、Sympy、Matplotlib、Scikit-learn 等），<br>\n",
    "這些與資料科學相關的重要套件幾乎都是架構在 Numpy基礎上做應用，因此學會NumPy對後續的學習及理解將會有很大的幫助。<br>"
   ]
  },
  {
   "cell_type": "markdown",
   "metadata": {},
   "source": [
    "# NumPy Array\n",
    "學習資料科學(Data Science)或機器學習(Machine Learning)時，利用NumPy在陣列的操作是非常重要，<br>\n",
    "其主要功能都架構在多重維度(N-dimensional array)的 ndarray上，ndarray是一個可以裝載相同類型資料的多維容器，<br>\n",
    "維度的大小及資料類型分別由shape及dtype來定義。通常我們會稱一維陣列為向量(vector)，二維陣列為矩陣(matrix)，<br>\n",
    "未來在機器學習系列文章中會再仔細介紹此一部分。而一維陣列到多維陣列的各軸向(axis)可參考下圖，對於後續學習幫助很大。<br>"
   ]
  },
  {
   "cell_type": "markdown",
   "metadata": {},
   "source": [
    "![Image of Yaktocat](https://miro.medium.com/max/1698/0*oh7hF_yEMu8Phmpj.png)"
   ]
  },
  {
   "cell_type": "markdown",
   "metadata": {},
   "source": [
    "所以要使用pandas的時候，基本上除了載入pandas之外也會同時載入numpy，因為很常會使用到numpy<br>\n",
    "所以開頭起手式會輸入以下兩行，as 後面是表示前面套件的縮寫，你也可以叫別的名字，<br>\n",
    "但是pd跟np已經是整個圈子慣用的寫法，如果你寫其他的縮寫他人會看不懂<br>"
   ]
  },
  {
   "cell_type": "code",
   "execution_count": 1,
   "metadata": {},
   "outputs": [],
   "source": [
    "import pandas as pd\n",
    "import numpy as np"
   ]
  },
  {
   "cell_type": "markdown",
   "metadata": {},
   "source": [
    "# Pandas 介紹\n",
    "pandas 取名自 pan(el)-da(ta)-s，也與套件主要提供的三個資料結構：Panel、DataFrame 與 Series 相呼應<br>\n",
    "有別於R的 dplyr、ggplot2 等 Tidyverse 套件各司其職的分工，pandas 自己就能處理載入、整理與視覺化等常見的資料應用。<br>\n",
    "簡易使用的資料格式(Data Frame)讓使用者可以快速操作及分析資料，主要特色描述如下：<br>\n",
    "在異質數據的讀取、轉換和處理上，都讓分析人員更容易處理，例如：從列欄試算表中找到想要的值。<br>\n",
    "透過載入至 Pandas 的資料結構物件後，可以透過結構化物件所提供的方法，來快速地進行資料的前處理，如資料補值，空值去除或取代等。<br>\n",
    "更多的輸入來源及輸出整合性，例如：可以從資料庫讀取資料進入 Dataframe，也可將處理完的資料存回資料庫。<br>"
   ]
  },
  {
   "cell_type": "markdown",
   "metadata": {},
   "source": [
    "# Pandas 提供的資料結構\n",
    "1. Series欄位(一維度)：用來處理時間序列相關的資料(如感測器資料等)，主要為建立索引的一維陣列。<br>\n",
    "          資料可以的類型如下：array, dictionary, 單一資料\n",
    "    \n",
    "2. DataFrame表格（二維度）：DataFrame 用來處理結構化(Table like)的資料，有列索引與欄標籤的二維資料集，<br>\n",
    "             可以透過 Dictionary 或是 Array 來建立，但也可以利用外部的資料來讀取後來建立，例如： CSV 檔案、資料庫等等。\n",
    "    \n",
    "3. Panel三維表格(除了特殊需求之外少使用)：用來處理有資料及索引、列索引與欄標籤的三維資料集，能儲存多個 DataFrame 資料結構。<br>"
   ]
  },
  {
   "cell_type": "markdown",
   "metadata": {},
   "source": [
    "Series 還可以再拆分為 index 與 values 兩個部分，其中 values 就是一個 Numpy 的 ndarray：<br>\n",
    "如此一來就順利掌握住這些資料結構的關係；一個 DataFrame 可以解構為多個 Series，一個 Series 可以再解構為 ndarray，<br>\n",
    "ndarray 可以再解構取得之中的數字、布林或文字。"
   ]
  },
  {
   "cell_type": "code",
   "execution_count": 9,
   "metadata": {},
   "outputs": [
    {
     "name": "stdout",
     "output_type": "stream",
     "text": [
      "['Afghanistan' 'Afghanistan' 'Afghanistan' ... 'Zimbabwe' 'Zimbabwe'\n",
      " 'Zimbabwe']\n",
      "<class 'list'>\n",
      "<class 'numpy.ndarray'>\n",
      "<class 'pandas.core.indexes.range.RangeIndex'>\n"
     ]
    }
   ],
   "source": [
    "print(country.values)\n",
    "print(type(['country']))\n",
    "print(type(country.values))  #values 就是 Numpy 的 ndarray\n",
    "print(type(country.index))"
   ]
  },
  {
   "cell_type": "markdown",
   "metadata": {},
   "source": [
    "### 1. Series"
   ]
  },
  {
   "cell_type": "code",
   "execution_count": 3,
   "metadata": {
    "scrolled": false
   },
   "outputs": [
    {
     "name": "stdout",
     "output_type": "stream",
     "text": [
      "<class 'pandas.core.series.Series'>\n"
     ]
    },
    {
     "data": {
      "text/plain": [
       "0     1.0\n",
       "1     3.0\n",
       "2     6.0\n",
       "3     NaN\n",
       "4    44.0\n",
       "5     1.0\n",
       "dtype: float64"
      ]
     },
     "execution_count": 3,
     "metadata": {},
     "output_type": "execute_result"
    }
   ],
   "source": [
    "#利用pd.Series函式參數放入list即可創建一個簡單的series，使用type就可以看到s1是屬於pandas的series，\n",
    "s1 = pd.Series([1, 3, 6, np.nan, 44, 1])\n",
    "print(type(s1))\n",
    "s1"
   ]
  },
  {
   "cell_type": "code",
   "execution_count": 50,
   "metadata": {
    "scrolled": true
   },
   "outputs": [
    {
     "name": "stdout",
     "output_type": "stream",
     "text": [
      "<class 'pandas.core.series.Series'>\n"
     ]
    },
    {
     "data": {
      "text/plain": [
       "a    1\n",
       "b    2\n",
       "c    3\n",
       "dtype: int64"
      ]
     },
     "execution_count": 50,
     "metadata": {},
     "output_type": "execute_result"
    }
   ],
   "source": [
    "#如果不指定index預設會是0,1,2,3,4…，要指定index的方式也很簡單，就在參數那邊多輸入一個list給index參數\n",
    "s2 = pd.Series([1,2,3],index=['a','b','c'])\n",
    "print(type(s2))\n",
    "s2"
   ]
  },
  {
   "cell_type": "code",
   "execution_count": 37,
   "metadata": {
    "scrolled": true
   },
   "outputs": [
    {
     "name": "stdout",
     "output_type": "stream",
     "text": [
      "0       BMW\n",
      "1      BENZ\n",
      "2    Toyota\n",
      "3    Nissan\n",
      "4     Lexus\n",
      "dtype: object\n"
     ]
    }
   ],
   "source": [
    "#資料為 Array\n",
    "import pandas as pd  # 引用套件並縮寫為 pd\n",
    "\n",
    "cars = [\"BMW\", \"BENZ\", \"Toyota\", \"Nissan\", \"Lexus\"]\n",
    "\n",
    "select = pd.Series(cars)  \n",
    "print(select) "
   ]
  },
  {
   "cell_type": "code",
   "execution_count": 38,
   "metadata": {},
   "outputs": [
    {
     "name": "stdout",
     "output_type": "stream",
     "text": [
      "Taipei\n",
      "=====\n",
      "1\n",
      "=====\n",
      "factory    Taipei\n",
      "sensor2         2\n",
      "sensor4         4\n",
      "dtype: object\n",
      "=====\n",
      "factory    Taipei\n",
      "sensor1         1\n",
      "sensor3         3\n",
      "dtype: object\n"
     ]
    }
   ],
   "source": [
    "#資料為 Dictionary\n",
    "import pandas as pd\n",
    "\n",
    "dict = {  \n",
    "    \"factory\": \"Taipei\",\n",
    "    \"sensor1\": \"1\",\n",
    "    \"sensor2\": \"2\",\n",
    "    \"sensor3\": \"3\",\n",
    "    \"sensor4\": \"4\",\n",
    "    \"sensor5\": \"5\"\n",
    "}\n",
    "\n",
    "select = pd.Series(dict, index = dict.keys()) # 排序與原 dict 相同  \n",
    "print(select[0])  \n",
    "print(\"=====\")  \n",
    "print(select['sensor1'])  \n",
    "print(\"=====\")  \n",
    "print(select[[0, 2, 4]])  \n",
    "print(\"=====\")  \n",
    "print(select[['factory', 'sensor1', 'sensor3']])  "
   ]
  },
  {
   "cell_type": "code",
   "execution_count": 39,
   "metadata": {
    "scrolled": true
   },
   "outputs": [
    {
     "name": "stdout",
     "output_type": "stream",
     "text": [
      "0    BENZ\n",
      "1    BENZ\n",
      "2    BENZ\n",
      "dtype: object\n"
     ]
    }
   ],
   "source": [
    "#資料為單一資料\n",
    "import pandas as pd\n",
    "\n",
    "cars = \"BENZ\"  \n",
    "select = pd.Series(cars, index = range(3))  \n",
    "print(select) "
   ]
  },
  {
   "cell_type": "markdown",
   "metadata": {},
   "source": [
    "### 2.DataFrame"
   ]
  },
  {
   "cell_type": "code",
   "execution_count": 11,
   "metadata": {},
   "outputs": [
    {
     "name": "stdout",
     "output_type": "stream",
     "text": [
      "<class 'pandas.core.frame.DataFrame'>\n"
     ]
    },
    {
     "data": {
      "text/html": [
       "<div>\n",
       "<style scoped>\n",
       "    .dataframe tbody tr th:only-of-type {\n",
       "        vertical-align: middle;\n",
       "    }\n",
       "\n",
       "    .dataframe tbody tr th {\n",
       "        vertical-align: top;\n",
       "    }\n",
       "\n",
       "    .dataframe thead th {\n",
       "        text-align: right;\n",
       "    }\n",
       "</style>\n",
       "<table border=\"1\" class=\"dataframe\">\n",
       "  <thead>\n",
       "    <tr style=\"text-align: right;\">\n",
       "      <th></th>\n",
       "      <th>a</th>\n",
       "      <th>b</th>\n",
       "      <th>c</th>\n",
       "      <th>d</th>\n",
       "    </tr>\n",
       "  </thead>\n",
       "  <tbody>\n",
       "    <tr>\n",
       "      <th>1</th>\n",
       "      <td>0.206038</td>\n",
       "      <td>0.273467</td>\n",
       "      <td>0.247583</td>\n",
       "      <td>-1.187506</td>\n",
       "    </tr>\n",
       "    <tr>\n",
       "      <th>2</th>\n",
       "      <td>-0.219606</td>\n",
       "      <td>0.037402</td>\n",
       "      <td>1.728510</td>\n",
       "      <td>-1.092153</td>\n",
       "    </tr>\n",
       "    <tr>\n",
       "      <th>3</th>\n",
       "      <td>0.352035</td>\n",
       "      <td>-1.097323</td>\n",
       "      <td>-1.098208</td>\n",
       "      <td>-0.204315</td>\n",
       "    </tr>\n",
       "    <tr>\n",
       "      <th>4</th>\n",
       "      <td>0.199098</td>\n",
       "      <td>0.051510</td>\n",
       "      <td>-0.012887</td>\n",
       "      <td>-0.376205</td>\n",
       "    </tr>\n",
       "    <tr>\n",
       "      <th>5</th>\n",
       "      <td>-2.083033</td>\n",
       "      <td>0.059284</td>\n",
       "      <td>-1.047297</td>\n",
       "      <td>-0.485727</td>\n",
       "    </tr>\n",
       "    <tr>\n",
       "      <th>6</th>\n",
       "      <td>2.010290</td>\n",
       "      <td>-0.680539</td>\n",
       "      <td>0.142769</td>\n",
       "      <td>-0.910141</td>\n",
       "    </tr>\n",
       "  </tbody>\n",
       "</table>\n",
       "</div>"
      ],
      "text/plain": [
       "          a         b         c         d\n",
       "1  0.206038  0.273467  0.247583 -1.187506\n",
       "2 -0.219606  0.037402  1.728510 -1.092153\n",
       "3  0.352035 -1.097323 -1.098208 -0.204315\n",
       "4  0.199098  0.051510 -0.012887 -0.376205\n",
       "5 -2.083033  0.059284 -1.047297 -0.485727\n",
       "6  2.010290 -0.680539  0.142769 -0.910141"
      ]
     },
     "execution_count": 11,
     "metadata": {},
     "output_type": "execute_result"
    }
   ],
   "source": [
    "#利用pd.DataFrame函式創立dataframe，裡面的資料是用np.random.randn產生出一個6*4大小數值為標準常態分佈，並命名欄位名稱依序為a, b, c, d\n",
    "df = pd.DataFrame(np.random.randn(6,4),columns=['a','b','c','d'], index=[1,2,3,4,5,6])\n",
    "print(type(df))\n",
    "df"
   ]
  },
  {
   "cell_type": "code",
   "execution_count": 12,
   "metadata": {},
   "outputs": [
    {
     "name": "stdout",
     "output_type": "stream",
     "text": [
      "    groups  num\n",
      "0   Movies   46\n",
      "1   Sports    8\n",
      "2   Coding   12\n",
      "3  Fishing   12\n",
      "4  Dancing    6\n",
      "5  cooking   58\n",
      "<class 'pandas.core.frame.DataFrame'>\n"
     ]
    }
   ],
   "source": [
    "#資料為 Dictionary\n",
    "import pandas as pd # 引用套件並縮寫為 pd\n",
    "\n",
    "groups = [\"Movies\", \"Sports\", \"Coding\", \"Fishing\", \"Dancing\", \"cooking\"]  \n",
    "num = [46, 8, 12, 12, 6, 58]\n",
    "\n",
    "dict = {\"groups\": groups,  \n",
    "        \"num\": num\n",
    "       }\n",
    "\n",
    "select_df = pd.DataFrame(dict)\n",
    "\n",
    "print(select_df) # 看看資料框的外觀 \n",
    "print(type(select_df))"
   ]
  },
  {
   "cell_type": "code",
   "execution_count": 15,
   "metadata": {
    "scrolled": false
   },
   "outputs": [
    {
     "name": "stdout",
     "output_type": "stream",
     "text": [
      "[46  8 12 12  6 58]\n",
      "<class 'numpy.ndarray'>\n"
     ]
    }
   ],
   "source": [
    "# 資料為 Array\n",
    "\n",
    "num = [46, 8, 12, 12, 6, 58]\n",
    "num = np.array(num)\n",
    "print(num)\n",
    "print(type(num))"
   ]
  },
  {
   "cell_type": "markdown",
   "metadata": {},
   "source": [
    "### 3.Panel"
   ]
  },
  {
   "cell_type": "code",
   "execution_count": 34,
   "metadata": {
    "scrolled": true
   },
   "outputs": [
    {
     "name": "stderr",
     "output_type": "stream",
     "text": [
      "C:\\Users\\11004076\\Anaconda3\\lib\\site-packages\\IPython\\core\\interactiveshell.py:3267: FutureWarning: \n",
      "Panel is deprecated and will be removed in a future version.\n",
      "The recommended way to represent these types of 3-dimensional data are with a MultiIndex on a DataFrame, via the Panel.to_frame() method\n",
      "Alternatively, you can use the xarray package http://xarray.pydata.org/en/stable/.\n",
      "Pandas provides a `.to_xarray()` method to help automate this conversion.\n",
      "\n",
      "  exec(code_obj, self.user_global_ns, self.user_ns)\n"
     ]
    },
    {
     "data": {
      "text/plain": [
       "<class 'pandas.core.panel.Panel'>\n",
       "Dimensions: 12 (items) x 142 (major_axis) x 7 (minor_axis)\n",
       "Items axis: 1952 to 2007\n",
       "Major_axis axis: 0 to 141\n",
       "Minor_axis axis: country to country_abb"
      ]
     },
     "execution_count": 34,
     "metadata": {},
     "output_type": "execute_result"
    }
   ],
   "source": [
    "#Panel 則是能儲存多個 DataFrame 資料結構，例如可以將原本的 gapminder 依照年份拆開，\n",
    "#一個年份的資料用一個 DataFrame 儲存，然後將 12 個 DataFrame 都儲存到一個 Panel 物件之中\n",
    "df_grouped = gapminder.groupby(['year'])\n",
    "df_dict = {}\n",
    "for i in range(1952, 2011, 5):\n",
    "    df_dict[i] = df_grouped.get_group(i).reset_index(drop = True)\n",
    "gapminder_panel = pd.Panel(df_dict)\n",
    "gapminder_panel"
   ]
  },
  {
   "cell_type": "markdown",
   "metadata": {},
   "source": [
    "# 資料載入\n",
    "pandas 可以支援多種文字、二進位檔案與資料庫的資料載入，常見的 txt、csv、excel 試算表、MySQL 或 PostgreSQL 都難不倒"
   ]
  },
  {
   "cell_type": "code",
   "execution_count": 5,
   "metadata": {
    "scrolled": true
   },
   "outputs": [
    {
     "name": "stdout",
     "output_type": "stream",
     "text": [
      "<class 'pandas.core.frame.DataFrame'>\n"
     ]
    },
    {
     "data": {
      "text/html": [
       "<div>\n",
       "<style scoped>\n",
       "    .dataframe tbody tr th:only-of-type {\n",
       "        vertical-align: middle;\n",
       "    }\n",
       "\n",
       "    .dataframe tbody tr th {\n",
       "        vertical-align: top;\n",
       "    }\n",
       "\n",
       "    .dataframe thead th {\n",
       "        text-align: right;\n",
       "    }\n",
       "</style>\n",
       "<table border=\"1\" class=\"dataframe\">\n",
       "  <thead>\n",
       "    <tr style=\"text-align: right;\">\n",
       "      <th></th>\n",
       "      <th>country</th>\n",
       "      <th>continent</th>\n",
       "      <th>year</th>\n",
       "      <th>lifeExp</th>\n",
       "      <th>pop</th>\n",
       "      <th>gdpPercap</th>\n",
       "    </tr>\n",
       "  </thead>\n",
       "  <tbody>\n",
       "    <tr>\n",
       "      <th>0</th>\n",
       "      <td>Afghanistan</td>\n",
       "      <td>Asia</td>\n",
       "      <td>1952</td>\n",
       "      <td>28.801</td>\n",
       "      <td>8425333</td>\n",
       "      <td>779.445314</td>\n",
       "    </tr>\n",
       "    <tr>\n",
       "      <th>1</th>\n",
       "      <td>Afghanistan</td>\n",
       "      <td>Asia</td>\n",
       "      <td>1957</td>\n",
       "      <td>30.332</td>\n",
       "      <td>9240934</td>\n",
       "      <td>820.853030</td>\n",
       "    </tr>\n",
       "    <tr>\n",
       "      <th>2</th>\n",
       "      <td>Afghanistan</td>\n",
       "      <td>Asia</td>\n",
       "      <td>1962</td>\n",
       "      <td>31.997</td>\n",
       "      <td>10267083</td>\n",
       "      <td>853.100710</td>\n",
       "    </tr>\n",
       "    <tr>\n",
       "      <th>3</th>\n",
       "      <td>Afghanistan</td>\n",
       "      <td>Asia</td>\n",
       "      <td>1967</td>\n",
       "      <td>34.020</td>\n",
       "      <td>11537966</td>\n",
       "      <td>836.197138</td>\n",
       "    </tr>\n",
       "    <tr>\n",
       "      <th>4</th>\n",
       "      <td>Afghanistan</td>\n",
       "      <td>Asia</td>\n",
       "      <td>1972</td>\n",
       "      <td>36.088</td>\n",
       "      <td>13079460</td>\n",
       "      <td>739.981106</td>\n",
       "    </tr>\n",
       "  </tbody>\n",
       "</table>\n",
       "</div>"
      ],
      "text/plain": [
       "       country continent  year  lifeExp       pop   gdpPercap\n",
       "0  Afghanistan      Asia  1952   28.801   8425333  779.445314\n",
       "1  Afghanistan      Asia  1957   30.332   9240934  820.853030\n",
       "2  Afghanistan      Asia  1962   31.997  10267083  853.100710\n",
       "3  Afghanistan      Asia  1967   34.020  11537966  836.197138\n",
       "4  Afghanistan      Asia  1972   36.088  13079460  739.981106"
      ]
     },
     "execution_count": 5,
     "metadata": {},
     "output_type": "execute_result"
    }
   ],
   "source": [
    "import pandas as pd\n",
    "# 讀入 csv 文字檔\n",
    "csv_file = \"https://storage.googleapis.com/learn_pd_like_tidyverse/gapminder.csv\"\n",
    "gapminder = pd.read_csv(csv_file)\n",
    "print(type(gapminder))\n",
    "gapminder.head()"
   ]
  },
  {
   "cell_type": "code",
   "execution_count": 6,
   "metadata": {},
   "outputs": [
    {
     "name": "stdout",
     "output_type": "stream",
     "text": [
      "<class 'pandas.core.frame.DataFrame'>\n"
     ]
    },
    {
     "data": {
      "text/html": [
       "<div>\n",
       "<style scoped>\n",
       "    .dataframe tbody tr th:only-of-type {\n",
       "        vertical-align: middle;\n",
       "    }\n",
       "\n",
       "    .dataframe tbody tr th {\n",
       "        vertical-align: top;\n",
       "    }\n",
       "\n",
       "    .dataframe thead th {\n",
       "        text-align: right;\n",
       "    }\n",
       "</style>\n",
       "<table border=\"1\" class=\"dataframe\">\n",
       "  <thead>\n",
       "    <tr style=\"text-align: right;\">\n",
       "      <th></th>\n",
       "      <th>country</th>\n",
       "      <th>continent</th>\n",
       "      <th>year</th>\n",
       "      <th>lifeExp</th>\n",
       "      <th>pop</th>\n",
       "      <th>gdpPercap</th>\n",
       "    </tr>\n",
       "  </thead>\n",
       "  <tbody>\n",
       "    <tr>\n",
       "      <th>0</th>\n",
       "      <td>Afghanistan</td>\n",
       "      <td>Asia</td>\n",
       "      <td>1952</td>\n",
       "      <td>28.801</td>\n",
       "      <td>8425333</td>\n",
       "      <td>779.445314</td>\n",
       "    </tr>\n",
       "    <tr>\n",
       "      <th>1</th>\n",
       "      <td>Afghanistan</td>\n",
       "      <td>Asia</td>\n",
       "      <td>1957</td>\n",
       "      <td>30.332</td>\n",
       "      <td>9240934</td>\n",
       "      <td>820.853030</td>\n",
       "    </tr>\n",
       "    <tr>\n",
       "      <th>2</th>\n",
       "      <td>Afghanistan</td>\n",
       "      <td>Asia</td>\n",
       "      <td>1962</td>\n",
       "      <td>31.997</td>\n",
       "      <td>10267083</td>\n",
       "      <td>853.100710</td>\n",
       "    </tr>\n",
       "    <tr>\n",
       "      <th>3</th>\n",
       "      <td>Afghanistan</td>\n",
       "      <td>Asia</td>\n",
       "      <td>1967</td>\n",
       "      <td>34.020</td>\n",
       "      <td>11537966</td>\n",
       "      <td>836.197138</td>\n",
       "    </tr>\n",
       "    <tr>\n",
       "      <th>4</th>\n",
       "      <td>Afghanistan</td>\n",
       "      <td>Asia</td>\n",
       "      <td>1972</td>\n",
       "      <td>36.088</td>\n",
       "      <td>13079460</td>\n",
       "      <td>739.981106</td>\n",
       "    </tr>\n",
       "  </tbody>\n",
       "</table>\n",
       "</div>"
      ],
      "text/plain": [
       "       country continent  year  lifeExp       pop   gdpPercap\n",
       "0  Afghanistan      Asia  1952   28.801   8425333  779.445314\n",
       "1  Afghanistan      Asia  1957   30.332   9240934  820.853030\n",
       "2  Afghanistan      Asia  1962   31.997  10267083  853.100710\n",
       "3  Afghanistan      Asia  1967   34.020  11537966  836.197138\n",
       "4  Afghanistan      Asia  1972   36.088  13079460  739.981106"
      ]
     },
     "execution_count": 6,
     "metadata": {},
     "output_type": "execute_result"
    }
   ],
   "source": [
    "# 讀入 excel 試算表\n",
    "xlsx_file = \"https://storage.googleapis.com/learn_pd_like_tidyverse/gapminder.xlsx\"\n",
    "gapminder = pd.read_excel(xlsx_file)\n",
    "print(type(gapminder))\n",
    "gapminder.head()"
   ]
  },
  {
   "cell_type": "markdown",
   "metadata": {},
   "source": [
    "# DataFrame 的操作\n",
    "pandas 有一些好用的屬性與方法可以快速暸解一個 DataFrame 的外觀與內容：<br>\n",
    "* df.shape：這個 DataFrame 有幾列有幾欄<br>\n",
    "* df.columns：這個 DataFrame 的變數資訊<br>\n",
    "* df.index：這個 DataFrame 的列索引資訊<br>\n",
    "* df.info()：關於 DataFrame 的詳細資訊<br>\n",
    "* df.describe()：關於 DataFrame 各數值變數的描述統計"
   ]
  },
  {
   "cell_type": "code",
   "execution_count": 3,
   "metadata": {},
   "outputs": [
    {
     "data": {
      "text/plain": [
       "(1704, 6)"
      ]
     },
     "execution_count": 3,
     "metadata": {},
     "output_type": "execute_result"
    }
   ],
   "source": [
    "gapminder.shape"
   ]
  },
  {
   "cell_type": "code",
   "execution_count": 4,
   "metadata": {},
   "outputs": [
    {
     "data": {
      "text/plain": [
       "Index(['country', 'continent', 'year', 'lifeExp', 'pop', 'gdpPercap'], dtype='object')"
      ]
     },
     "execution_count": 4,
     "metadata": {},
     "output_type": "execute_result"
    }
   ],
   "source": [
    "gapminder.columns"
   ]
  },
  {
   "cell_type": "code",
   "execution_count": 17,
   "metadata": {},
   "outputs": [
    {
     "name": "stdout",
     "output_type": "stream",
     "text": [
      "RangeIndex(start=0, stop=1704, step=1)\n",
      "<class 'pandas.core.indexes.range.RangeIndex'>\n"
     ]
    }
   ],
   "source": [
    "gapminder.index\n",
    "print(gapminder.index)\n",
    "print(type(gapminder.index))"
   ]
  },
  {
   "cell_type": "code",
   "execution_count": 6,
   "metadata": {},
   "outputs": [
    {
     "name": "stdout",
     "output_type": "stream",
     "text": [
      "<class 'pandas.core.frame.DataFrame'>\n",
      "RangeIndex: 1704 entries, 0 to 1703\n",
      "Data columns (total 6 columns):\n",
      "country      1704 non-null object\n",
      "continent    1704 non-null object\n",
      "year         1704 non-null int64\n",
      "lifeExp      1704 non-null float64\n",
      "pop          1704 non-null int64\n",
      "gdpPercap    1704 non-null float64\n",
      "dtypes: float64(2), int64(2), object(2)\n",
      "memory usage: 80.0+ KB\n"
     ]
    }
   ],
   "source": [
    "gapminder.info()"
   ]
  },
  {
   "cell_type": "code",
   "execution_count": 7,
   "metadata": {
    "scrolled": true
   },
   "outputs": [
    {
     "data": {
      "text/html": [
       "<div>\n",
       "<style scoped>\n",
       "    .dataframe tbody tr th:only-of-type {\n",
       "        vertical-align: middle;\n",
       "    }\n",
       "\n",
       "    .dataframe tbody tr th {\n",
       "        vertical-align: top;\n",
       "    }\n",
       "\n",
       "    .dataframe thead th {\n",
       "        text-align: right;\n",
       "    }\n",
       "</style>\n",
       "<table border=\"1\" class=\"dataframe\">\n",
       "  <thead>\n",
       "    <tr style=\"text-align: right;\">\n",
       "      <th></th>\n",
       "      <th>year</th>\n",
       "      <th>lifeExp</th>\n",
       "      <th>pop</th>\n",
       "      <th>gdpPercap</th>\n",
       "    </tr>\n",
       "  </thead>\n",
       "  <tbody>\n",
       "    <tr>\n",
       "      <th>count</th>\n",
       "      <td>1704.00000</td>\n",
       "      <td>1704.000000</td>\n",
       "      <td>1.704000e+03</td>\n",
       "      <td>1704.000000</td>\n",
       "    </tr>\n",
       "    <tr>\n",
       "      <th>mean</th>\n",
       "      <td>1979.50000</td>\n",
       "      <td>59.474439</td>\n",
       "      <td>2.960121e+07</td>\n",
       "      <td>7215.327081</td>\n",
       "    </tr>\n",
       "    <tr>\n",
       "      <th>std</th>\n",
       "      <td>17.26533</td>\n",
       "      <td>12.917107</td>\n",
       "      <td>1.061579e+08</td>\n",
       "      <td>9857.454543</td>\n",
       "    </tr>\n",
       "    <tr>\n",
       "      <th>min</th>\n",
       "      <td>1952.00000</td>\n",
       "      <td>23.599000</td>\n",
       "      <td>6.001100e+04</td>\n",
       "      <td>241.165876</td>\n",
       "    </tr>\n",
       "    <tr>\n",
       "      <th>25%</th>\n",
       "      <td>1965.75000</td>\n",
       "      <td>48.198000</td>\n",
       "      <td>2.793664e+06</td>\n",
       "      <td>1202.060309</td>\n",
       "    </tr>\n",
       "    <tr>\n",
       "      <th>50%</th>\n",
       "      <td>1979.50000</td>\n",
       "      <td>60.712500</td>\n",
       "      <td>7.023596e+06</td>\n",
       "      <td>3531.846988</td>\n",
       "    </tr>\n",
       "    <tr>\n",
       "      <th>75%</th>\n",
       "      <td>1993.25000</td>\n",
       "      <td>70.845500</td>\n",
       "      <td>1.958522e+07</td>\n",
       "      <td>9325.462346</td>\n",
       "    </tr>\n",
       "    <tr>\n",
       "      <th>max</th>\n",
       "      <td>2007.00000</td>\n",
       "      <td>82.603000</td>\n",
       "      <td>1.318683e+09</td>\n",
       "      <td>113523.132900</td>\n",
       "    </tr>\n",
       "  </tbody>\n",
       "</table>\n",
       "</div>"
      ],
      "text/plain": [
       "             year      lifeExp           pop      gdpPercap\n",
       "count  1704.00000  1704.000000  1.704000e+03    1704.000000\n",
       "mean   1979.50000    59.474439  2.960121e+07    7215.327081\n",
       "std      17.26533    12.917107  1.061579e+08    9857.454543\n",
       "min    1952.00000    23.599000  6.001100e+04     241.165876\n",
       "25%    1965.75000    48.198000  2.793664e+06    1202.060309\n",
       "50%    1979.50000    60.712500  7.023596e+06    3531.846988\n",
       "75%    1993.25000    70.845500  1.958522e+07    9325.462346\n",
       "max    2007.00000    82.603000  1.318683e+09  113523.132900"
      ]
     },
     "execution_count": 7,
     "metadata": {},
     "output_type": "execute_result"
    }
   ],
   "source": [
    "gapminder.describe()"
   ]
  },
  {
   "cell_type": "markdown",
   "metadata": {},
   "source": [
    "# Dataframe中索引(ix,.iloc,.loc的使用以及區别)"
   ]
  },
  {
   "cell_type": "code",
   "execution_count": 10,
   "metadata": {},
   "outputs": [
    {
     "data": {
      "text/html": [
       "<div>\n",
       "<style scoped>\n",
       "    .dataframe tbody tr th:only-of-type {\n",
       "        vertical-align: middle;\n",
       "    }\n",
       "\n",
       "    .dataframe tbody tr th {\n",
       "        vertical-align: top;\n",
       "    }\n",
       "\n",
       "    .dataframe thead th {\n",
       "        text-align: right;\n",
       "    }\n",
       "</style>\n",
       "<table border=\"1\" class=\"dataframe\">\n",
       "  <thead>\n",
       "    <tr style=\"text-align: right;\">\n",
       "      <th></th>\n",
       "      <th>A</th>\n",
       "      <th>B</th>\n",
       "      <th>C</th>\n",
       "    </tr>\n",
       "  </thead>\n",
       "  <tbody>\n",
       "    <tr>\n",
       "      <th>a</th>\n",
       "      <td>1</td>\n",
       "      <td>4</td>\n",
       "      <td>7</td>\n",
       "    </tr>\n",
       "    <tr>\n",
       "      <th>b</th>\n",
       "      <td>2</td>\n",
       "      <td>5</td>\n",
       "      <td>8</td>\n",
       "    </tr>\n",
       "    <tr>\n",
       "      <th>c</th>\n",
       "      <td>3</td>\n",
       "      <td>6</td>\n",
       "      <td>9</td>\n",
       "    </tr>\n",
       "  </tbody>\n",
       "</table>\n",
       "</div>"
      ],
      "text/plain": [
       "   A  B  C\n",
       "a  1  4  7\n",
       "b  2  5  8\n",
       "c  3  6  9"
      ]
     },
     "execution_count": 10,
     "metadata": {},
     "output_type": "execute_result"
    }
   ],
   "source": [
    "import pandas as pd\n",
    "data = pd.DataFrame({'A':[1,2,3],'B':[4,5,6],'C':[7,8,9]},index=[\"a\",\"b\",\"c\"])\n",
    "data"
   ]
  },
  {
   "cell_type": "markdown",
   "metadata": {},
   "source": [
    "### .loc 的使用\n",
    ".loc[],中括號裡面是先行後列，以逗號分割，行和列分別是行標籤和列標籤，比如我要得到數字5，那麼就就是："
   ]
  },
  {
   "cell_type": "code",
   "execution_count": 11,
   "metadata": {},
   "outputs": [
    {
     "data": {
      "text/plain": [
       "5"
      ]
     },
     "execution_count": 11,
     "metadata": {},
     "output_type": "execute_result"
    }
   ],
   "source": [
    "data.loc[\"b\",\"B\"]"
   ]
  },
  {
   "cell_type": "markdown",
   "metadata": {},
   "source": [
    "上面只是選擇某一個值，那麼如果我要選擇一個區域呢，比如我要選擇5，8 ，6，9，那麼可以這樣做："
   ]
  },
  {
   "cell_type": "code",
   "execution_count": 12,
   "metadata": {
    "scrolled": true
   },
   "outputs": [
    {
     "data": {
      "text/html": [
       "<div>\n",
       "<style scoped>\n",
       "    .dataframe tbody tr th:only-of-type {\n",
       "        vertical-align: middle;\n",
       "    }\n",
       "\n",
       "    .dataframe tbody tr th {\n",
       "        vertical-align: top;\n",
       "    }\n",
       "\n",
       "    .dataframe thead th {\n",
       "        text-align: right;\n",
       "    }\n",
       "</style>\n",
       "<table border=\"1\" class=\"dataframe\">\n",
       "  <thead>\n",
       "    <tr style=\"text-align: right;\">\n",
       "      <th></th>\n",
       "      <th>B</th>\n",
       "      <th>C</th>\n",
       "    </tr>\n",
       "  </thead>\n",
       "  <tbody>\n",
       "    <tr>\n",
       "      <th>b</th>\n",
       "      <td>5</td>\n",
       "      <td>8</td>\n",
       "    </tr>\n",
       "    <tr>\n",
       "      <th>c</th>\n",
       "      <td>6</td>\n",
       "      <td>9</td>\n",
       "    </tr>\n",
       "  </tbody>\n",
       "</table>\n",
       "</div>"
      ],
      "text/plain": [
       "   B  C\n",
       "b  5  8\n",
       "c  6  9"
      ]
     },
     "execution_count": 12,
     "metadata": {},
     "output_type": "execute_result"
    }
   ],
   "source": [
    "data.loc['b':'c','B':'C']"
   ]
  },
  {
   "cell_type": "markdown",
   "metadata": {},
   "source": [
    "### .iloc的使用\n",
    ".iloc[]與loc一樣，中括號裡面也是先行後列，行列標籤用逗號分割，與loc不同的之處是，<br>\n",
    ".iloc 是根據行數與列數來索引的，比如上面提到的得到數字5，那麼用iloc來表示就是data.iloc[1,1],<br>\n",
    "因為5是第2行第2列，注意索引從0開始的，同理4就是data.iloc[0,1]，同樣如果我們需要選擇一個區域，<br>\n",
    "比如我要選擇5，8，6，9，那麼用,iloc來選擇就是<br>"
   ]
  },
  {
   "cell_type": "code",
   "execution_count": 13,
   "metadata": {},
   "outputs": [
    {
     "data": {
      "text/html": [
       "<div>\n",
       "<style scoped>\n",
       "    .dataframe tbody tr th:only-of-type {\n",
       "        vertical-align: middle;\n",
       "    }\n",
       "\n",
       "    .dataframe tbody tr th {\n",
       "        vertical-align: top;\n",
       "    }\n",
       "\n",
       "    .dataframe thead th {\n",
       "        text-align: right;\n",
       "    }\n",
       "</style>\n",
       "<table border=\"1\" class=\"dataframe\">\n",
       "  <thead>\n",
       "    <tr style=\"text-align: right;\">\n",
       "      <th></th>\n",
       "      <th>B</th>\n",
       "      <th>C</th>\n",
       "    </tr>\n",
       "  </thead>\n",
       "  <tbody>\n",
       "    <tr>\n",
       "      <th>b</th>\n",
       "      <td>5</td>\n",
       "      <td>8</td>\n",
       "    </tr>\n",
       "    <tr>\n",
       "      <th>c</th>\n",
       "      <td>6</td>\n",
       "      <td>9</td>\n",
       "    </tr>\n",
       "  </tbody>\n",
       "</table>\n",
       "</div>"
      ],
      "text/plain": [
       "   B  C\n",
       "b  5  8\n",
       "c  6  9"
      ]
     },
     "execution_count": 13,
     "metadata": {},
     "output_type": "execute_result"
    }
   ],
   "source": [
    "data.iloc[1:3,1:3]"
   ]
  },
  {
   "cell_type": "markdown",
   "metadata": {},
   "source": [
    "### .ix的使用\n",
    "上面兩種用法他都可以，它既可以根據行列標籤又可以根據行列數，比如拿到5"
   ]
  },
  {
   "cell_type": "code",
   "execution_count": 15,
   "metadata": {
    "scrolled": true
   },
   "outputs": [
    {
     "name": "stderr",
     "output_type": "stream",
     "text": [
      "C:\\Users\\11004076\\Anaconda3\\lib\\site-packages\\ipykernel_launcher.py:1: FutureWarning: \n",
      ".ix is deprecated. Please use\n",
      ".loc for label based indexing or\n",
      ".iloc for positional indexing\n",
      "\n",
      "See the documentation here:\n",
      "http://pandas.pydata.org/pandas-docs/stable/user_guide/indexing.html#ix-indexer-is-deprecated\n",
      "  \"\"\"Entry point for launching an IPython kernel.\n"
     ]
    },
    {
     "data": {
      "text/plain": [
       "5"
      ]
     },
     "execution_count": 15,
     "metadata": {},
     "output_type": "execute_result"
    }
   ],
   "source": [
    "data.ix[1,1]\n",
    "data.ix[\"b\",\"B\"]"
   ]
  },
  {
   "cell_type": "markdown",
   "metadata": {},
   "source": [
    "上面兩種做法都可以的，同理選擇一個區域"
   ]
  },
  {
   "cell_type": "code",
   "execution_count": 16,
   "metadata": {},
   "outputs": [
    {
     "name": "stderr",
     "output_type": "stream",
     "text": [
      "C:\\Users\\11004076\\Anaconda3\\lib\\site-packages\\ipykernel_launcher.py:1: FutureWarning: \n",
      ".ix is deprecated. Please use\n",
      ".loc for label based indexing or\n",
      ".iloc for positional indexing\n",
      "\n",
      "See the documentation here:\n",
      "http://pandas.pydata.org/pandas-docs/stable/user_guide/indexing.html#ix-indexer-is-deprecated\n",
      "  \"\"\"Entry point for launching an IPython kernel.\n",
      "C:\\Users\\11004076\\Anaconda3\\lib\\site-packages\\pandas\\core\\indexing.py:822: FutureWarning: \n",
      ".ix is deprecated. Please use\n",
      ".loc for label based indexing or\n",
      ".iloc for positional indexing\n",
      "\n",
      "See the documentation here:\n",
      "http://pandas.pydata.org/pandas-docs/stable/user_guide/indexing.html#ix-indexer-is-deprecated\n",
      "  retval = getattr(retval, self.name)._getitem_axis(key, axis=i)\n",
      "C:\\Users\\11004076\\Anaconda3\\lib\\site-packages\\ipykernel_launcher.py:2: FutureWarning: \n",
      ".ix is deprecated. Please use\n",
      ".loc for label based indexing or\n",
      ".iloc for positional indexing\n",
      "\n",
      "See the documentation here:\n",
      "http://pandas.pydata.org/pandas-docs/stable/user_guide/indexing.html#ix-indexer-is-deprecated\n",
      "  \n"
     ]
    },
    {
     "data": {
      "text/html": [
       "<div>\n",
       "<style scoped>\n",
       "    .dataframe tbody tr th:only-of-type {\n",
       "        vertical-align: middle;\n",
       "    }\n",
       "\n",
       "    .dataframe tbody tr th {\n",
       "        vertical-align: top;\n",
       "    }\n",
       "\n",
       "    .dataframe thead th {\n",
       "        text-align: right;\n",
       "    }\n",
       "</style>\n",
       "<table border=\"1\" class=\"dataframe\">\n",
       "  <thead>\n",
       "    <tr style=\"text-align: right;\">\n",
       "      <th></th>\n",
       "      <th>B</th>\n",
       "      <th>C</th>\n",
       "    </tr>\n",
       "  </thead>\n",
       "  <tbody>\n",
       "    <tr>\n",
       "      <th>b</th>\n",
       "      <td>5</td>\n",
       "      <td>8</td>\n",
       "    </tr>\n",
       "    <tr>\n",
       "      <th>c</th>\n",
       "      <td>6</td>\n",
       "      <td>9</td>\n",
       "    </tr>\n",
       "  </tbody>\n",
       "</table>\n",
       "</div>"
      ],
      "text/plain": [
       "   B  C\n",
       "b  5  8\n",
       "c  6  9"
      ]
     },
     "execution_count": 16,
     "metadata": {},
     "output_type": "execute_result"
    }
   ],
   "source": [
    "data.ix[1:3,1:3]\n",
    "data.ix['b':'c','B':'C']"
   ]
  },
  {
   "cell_type": "markdown",
   "metadata": {},
   "source": [
    "# 資料整理\n",
    "R語言的資料處理器dplyr 的基本功能是六個能與 SQL 查詢語法相互呼應的函數：<br>\n",
    "+ filter( ) 函數：SQL 查詢中的 where 描述<br>\n",
    "+ select( ) 函數：SQL 查詢中的 select 描述<br>\n",
    "+ mutate( ) 函數：SQL 查詢中的衍生欄位描述<br>\n",
    "+ arrange( ) 函數：SQL 查詢中的 order by 描述<br>\n",
    "+ summarise( ) 函數：SQL 查詢中的聚合函數描述<br>\n",
    "+ group_by( ) 函數：SQL 查詢中的 group by 描述<br>"
   ]
  },
  {
   "cell_type": "markdown",
   "metadata": {},
   "source": [
    "## filter( ) / where"
   ]
  },
  {
   "cell_type": "code",
   "execution_count": 64,
   "metadata": {
    "scrolled": false
   },
   "outputs": [
    {
     "data": {
      "text/html": [
       "<div>\n",
       "<style scoped>\n",
       "    .dataframe tbody tr th:only-of-type {\n",
       "        vertical-align: middle;\n",
       "    }\n",
       "\n",
       "    .dataframe tbody tr th {\n",
       "        vertical-align: top;\n",
       "    }\n",
       "\n",
       "    .dataframe thead th {\n",
       "        text-align: right;\n",
       "    }\n",
       "</style>\n",
       "<table border=\"1\" class=\"dataframe\">\n",
       "  <thead>\n",
       "    <tr style=\"text-align: right;\">\n",
       "      <th></th>\n",
       "      <th>country</th>\n",
       "      <th>continent</th>\n",
       "      <th>year</th>\n",
       "      <th>lifeExp</th>\n",
       "      <th>pop</th>\n",
       "      <th>gdpPercap</th>\n",
       "      <th>country_abb</th>\n",
       "    </tr>\n",
       "  </thead>\n",
       "  <tbody>\n",
       "    <tr>\n",
       "      <th>1500</th>\n",
       "      <td>Taiwan</td>\n",
       "      <td>Asia</td>\n",
       "      <td>1952</td>\n",
       "      <td>58.50</td>\n",
       "      <td>8550362</td>\n",
       "      <td>1206.947913</td>\n",
       "      <td>Tai</td>\n",
       "    </tr>\n",
       "    <tr>\n",
       "      <th>1501</th>\n",
       "      <td>Taiwan</td>\n",
       "      <td>Asia</td>\n",
       "      <td>1957</td>\n",
       "      <td>62.40</td>\n",
       "      <td>10164215</td>\n",
       "      <td>1507.861290</td>\n",
       "      <td>Tai</td>\n",
       "    </tr>\n",
       "    <tr>\n",
       "      <th>1502</th>\n",
       "      <td>Taiwan</td>\n",
       "      <td>Asia</td>\n",
       "      <td>1962</td>\n",
       "      <td>65.20</td>\n",
       "      <td>11918938</td>\n",
       "      <td>1822.879028</td>\n",
       "      <td>Tai</td>\n",
       "    </tr>\n",
       "    <tr>\n",
       "      <th>1503</th>\n",
       "      <td>Taiwan</td>\n",
       "      <td>Asia</td>\n",
       "      <td>1967</td>\n",
       "      <td>67.50</td>\n",
       "      <td>13648692</td>\n",
       "      <td>2643.858681</td>\n",
       "      <td>Tai</td>\n",
       "    </tr>\n",
       "    <tr>\n",
       "      <th>1504</th>\n",
       "      <td>Taiwan</td>\n",
       "      <td>Asia</td>\n",
       "      <td>1972</td>\n",
       "      <td>69.39</td>\n",
       "      <td>15226039</td>\n",
       "      <td>4062.523897</td>\n",
       "      <td>Tai</td>\n",
       "    </tr>\n",
       "    <tr>\n",
       "      <th>1505</th>\n",
       "      <td>Taiwan</td>\n",
       "      <td>Asia</td>\n",
       "      <td>1977</td>\n",
       "      <td>70.59</td>\n",
       "      <td>16785196</td>\n",
       "      <td>5596.519826</td>\n",
       "      <td>Tai</td>\n",
       "    </tr>\n",
       "    <tr>\n",
       "      <th>1506</th>\n",
       "      <td>Taiwan</td>\n",
       "      <td>Asia</td>\n",
       "      <td>1982</td>\n",
       "      <td>72.16</td>\n",
       "      <td>18501390</td>\n",
       "      <td>7426.354774</td>\n",
       "      <td>Tai</td>\n",
       "    </tr>\n",
       "    <tr>\n",
       "      <th>1507</th>\n",
       "      <td>Taiwan</td>\n",
       "      <td>Asia</td>\n",
       "      <td>1987</td>\n",
       "      <td>73.40</td>\n",
       "      <td>19757799</td>\n",
       "      <td>11054.561750</td>\n",
       "      <td>Tai</td>\n",
       "    </tr>\n",
       "    <tr>\n",
       "      <th>1508</th>\n",
       "      <td>Taiwan</td>\n",
       "      <td>Asia</td>\n",
       "      <td>1992</td>\n",
       "      <td>74.26</td>\n",
       "      <td>20686918</td>\n",
       "      <td>15215.657900</td>\n",
       "      <td>Tai</td>\n",
       "    </tr>\n",
       "    <tr>\n",
       "      <th>1509</th>\n",
       "      <td>Taiwan</td>\n",
       "      <td>Asia</td>\n",
       "      <td>1997</td>\n",
       "      <td>75.25</td>\n",
       "      <td>21628605</td>\n",
       "      <td>20206.820980</td>\n",
       "      <td>Tai</td>\n",
       "    </tr>\n",
       "    <tr>\n",
       "      <th>1510</th>\n",
       "      <td>Taiwan</td>\n",
       "      <td>Asia</td>\n",
       "      <td>2002</td>\n",
       "      <td>76.99</td>\n",
       "      <td>22454239</td>\n",
       "      <td>23235.423290</td>\n",
       "      <td>Tai</td>\n",
       "    </tr>\n",
       "    <tr>\n",
       "      <th>1511</th>\n",
       "      <td>Taiwan</td>\n",
       "      <td>Asia</td>\n",
       "      <td>2007</td>\n",
       "      <td>78.40</td>\n",
       "      <td>23174294</td>\n",
       "      <td>28718.276840</td>\n",
       "      <td>Tai</td>\n",
       "    </tr>\n",
       "  </tbody>\n",
       "</table>\n",
       "</div>"
      ],
      "text/plain": [
       "     country continent  year  lifeExp       pop     gdpPercap country_abb\n",
       "1500  Taiwan      Asia  1952    58.50   8550362   1206.947913         Tai\n",
       "1501  Taiwan      Asia  1957    62.40  10164215   1507.861290         Tai\n",
       "1502  Taiwan      Asia  1962    65.20  11918938   1822.879028         Tai\n",
       "1503  Taiwan      Asia  1967    67.50  13648692   2643.858681         Tai\n",
       "1504  Taiwan      Asia  1972    69.39  15226039   4062.523897         Tai\n",
       "1505  Taiwan      Asia  1977    70.59  16785196   5596.519826         Tai\n",
       "1506  Taiwan      Asia  1982    72.16  18501390   7426.354774         Tai\n",
       "1507  Taiwan      Asia  1987    73.40  19757799  11054.561750         Tai\n",
       "1508  Taiwan      Asia  1992    74.26  20686918  15215.657900         Tai\n",
       "1509  Taiwan      Asia  1997    75.25  21628605  20206.820980         Tai\n",
       "1510  Taiwan      Asia  2002    76.99  22454239  23235.423290         Tai\n",
       "1511  Taiwan      Asia  2007    78.40  23174294  28718.276840         Tai"
      ]
     },
     "execution_count": 64,
     "metadata": {},
     "output_type": "execute_result"
    }
   ],
   "source": [
    "#撰寫布林判斷條件將符合條件的觀測值從資料框中篩選出，實踐 filter() / where函數的功能，例如選出臺灣：\n",
    "gapminder[gapminder['country'] == 'Taiwan']"
   ]
  },
  {
   "cell_type": "code",
   "execution_count": 8,
   "metadata": {
    "scrolled": true
   },
   "outputs": [
    {
     "data": {
      "text/html": [
       "<div>\n",
       "<style scoped>\n",
       "    .dataframe tbody tr th:only-of-type {\n",
       "        vertical-align: middle;\n",
       "    }\n",
       "\n",
       "    .dataframe tbody tr th {\n",
       "        vertical-align: top;\n",
       "    }\n",
       "\n",
       "    .dataframe thead th {\n",
       "        text-align: right;\n",
       "    }\n",
       "</style>\n",
       "<table border=\"1\" class=\"dataframe\">\n",
       "  <thead>\n",
       "    <tr style=\"text-align: right;\">\n",
       "      <th></th>\n",
       "      <th>country</th>\n",
       "      <th>continent</th>\n",
       "      <th>year</th>\n",
       "      <th>lifeExp</th>\n",
       "      <th>pop</th>\n",
       "      <th>gdpPercap</th>\n",
       "    </tr>\n",
       "  </thead>\n",
       "  <tbody>\n",
       "    <tr>\n",
       "      <th>11</th>\n",
       "      <td>Afghanistan</td>\n",
       "      <td>Asia</td>\n",
       "      <td>2007</td>\n",
       "      <td>43.828</td>\n",
       "      <td>31889923</td>\n",
       "      <td>974.580338</td>\n",
       "    </tr>\n",
       "    <tr>\n",
       "      <th>95</th>\n",
       "      <td>Bahrain</td>\n",
       "      <td>Asia</td>\n",
       "      <td>2007</td>\n",
       "      <td>75.635</td>\n",
       "      <td>708573</td>\n",
       "      <td>29796.048340</td>\n",
       "    </tr>\n",
       "    <tr>\n",
       "      <th>107</th>\n",
       "      <td>Bangladesh</td>\n",
       "      <td>Asia</td>\n",
       "      <td>2007</td>\n",
       "      <td>64.062</td>\n",
       "      <td>150448339</td>\n",
       "      <td>1391.253792</td>\n",
       "    </tr>\n",
       "    <tr>\n",
       "      <th>227</th>\n",
       "      <td>Cambodia</td>\n",
       "      <td>Asia</td>\n",
       "      <td>2007</td>\n",
       "      <td>59.723</td>\n",
       "      <td>14131858</td>\n",
       "      <td>1713.778686</td>\n",
       "    </tr>\n",
       "    <tr>\n",
       "      <th>299</th>\n",
       "      <td>China</td>\n",
       "      <td>Asia</td>\n",
       "      <td>2007</td>\n",
       "      <td>72.961</td>\n",
       "      <td>1318683096</td>\n",
       "      <td>4959.114854</td>\n",
       "    </tr>\n",
       "    <tr>\n",
       "      <th>671</th>\n",
       "      <td>Hong Kong, China</td>\n",
       "      <td>Asia</td>\n",
       "      <td>2007</td>\n",
       "      <td>82.208</td>\n",
       "      <td>6980412</td>\n",
       "      <td>39724.978670</td>\n",
       "    </tr>\n",
       "    <tr>\n",
       "      <th>707</th>\n",
       "      <td>India</td>\n",
       "      <td>Asia</td>\n",
       "      <td>2007</td>\n",
       "      <td>64.698</td>\n",
       "      <td>1110396331</td>\n",
       "      <td>2452.210407</td>\n",
       "    </tr>\n",
       "    <tr>\n",
       "      <th>719</th>\n",
       "      <td>Indonesia</td>\n",
       "      <td>Asia</td>\n",
       "      <td>2007</td>\n",
       "      <td>70.650</td>\n",
       "      <td>223547000</td>\n",
       "      <td>3540.651564</td>\n",
       "    </tr>\n",
       "    <tr>\n",
       "      <th>731</th>\n",
       "      <td>Iran</td>\n",
       "      <td>Asia</td>\n",
       "      <td>2007</td>\n",
       "      <td>70.964</td>\n",
       "      <td>69453570</td>\n",
       "      <td>11605.714490</td>\n",
       "    </tr>\n",
       "    <tr>\n",
       "      <th>743</th>\n",
       "      <td>Iraq</td>\n",
       "      <td>Asia</td>\n",
       "      <td>2007</td>\n",
       "      <td>59.545</td>\n",
       "      <td>27499638</td>\n",
       "      <td>4471.061906</td>\n",
       "    </tr>\n",
       "    <tr>\n",
       "      <th>767</th>\n",
       "      <td>Israel</td>\n",
       "      <td>Asia</td>\n",
       "      <td>2007</td>\n",
       "      <td>80.745</td>\n",
       "      <td>6426679</td>\n",
       "      <td>25523.277100</td>\n",
       "    </tr>\n",
       "    <tr>\n",
       "      <th>803</th>\n",
       "      <td>Japan</td>\n",
       "      <td>Asia</td>\n",
       "      <td>2007</td>\n",
       "      <td>82.603</td>\n",
       "      <td>127467972</td>\n",
       "      <td>31656.068060</td>\n",
       "    </tr>\n",
       "    <tr>\n",
       "      <th>815</th>\n",
       "      <td>Jordan</td>\n",
       "      <td>Asia</td>\n",
       "      <td>2007</td>\n",
       "      <td>72.535</td>\n",
       "      <td>6053193</td>\n",
       "      <td>4519.461171</td>\n",
       "    </tr>\n",
       "    <tr>\n",
       "      <th>839</th>\n",
       "      <td>Korea, Dem. Rep.</td>\n",
       "      <td>Asia</td>\n",
       "      <td>2007</td>\n",
       "      <td>67.297</td>\n",
       "      <td>23301725</td>\n",
       "      <td>1593.065480</td>\n",
       "    </tr>\n",
       "    <tr>\n",
       "      <th>851</th>\n",
       "      <td>Korea, Rep.</td>\n",
       "      <td>Asia</td>\n",
       "      <td>2007</td>\n",
       "      <td>78.623</td>\n",
       "      <td>49044790</td>\n",
       "      <td>23348.139730</td>\n",
       "    </tr>\n",
       "    <tr>\n",
       "      <th>863</th>\n",
       "      <td>Kuwait</td>\n",
       "      <td>Asia</td>\n",
       "      <td>2007</td>\n",
       "      <td>77.588</td>\n",
       "      <td>2505559</td>\n",
       "      <td>47306.989780</td>\n",
       "    </tr>\n",
       "    <tr>\n",
       "      <th>875</th>\n",
       "      <td>Lebanon</td>\n",
       "      <td>Asia</td>\n",
       "      <td>2007</td>\n",
       "      <td>71.993</td>\n",
       "      <td>3921278</td>\n",
       "      <td>10461.058680</td>\n",
       "    </tr>\n",
       "    <tr>\n",
       "      <th>947</th>\n",
       "      <td>Malaysia</td>\n",
       "      <td>Asia</td>\n",
       "      <td>2007</td>\n",
       "      <td>74.241</td>\n",
       "      <td>24821286</td>\n",
       "      <td>12451.655800</td>\n",
       "    </tr>\n",
       "    <tr>\n",
       "      <th>1007</th>\n",
       "      <td>Mongolia</td>\n",
       "      <td>Asia</td>\n",
       "      <td>2007</td>\n",
       "      <td>66.803</td>\n",
       "      <td>2874127</td>\n",
       "      <td>3095.772271</td>\n",
       "    </tr>\n",
       "    <tr>\n",
       "      <th>1055</th>\n",
       "      <td>Myanmar</td>\n",
       "      <td>Asia</td>\n",
       "      <td>2007</td>\n",
       "      <td>62.069</td>\n",
       "      <td>47761980</td>\n",
       "      <td>944.000000</td>\n",
       "    </tr>\n",
       "    <tr>\n",
       "      <th>1079</th>\n",
       "      <td>Nepal</td>\n",
       "      <td>Asia</td>\n",
       "      <td>2007</td>\n",
       "      <td>63.785</td>\n",
       "      <td>28901790</td>\n",
       "      <td>1091.359778</td>\n",
       "    </tr>\n",
       "    <tr>\n",
       "      <th>1163</th>\n",
       "      <td>Oman</td>\n",
       "      <td>Asia</td>\n",
       "      <td>2007</td>\n",
       "      <td>75.640</td>\n",
       "      <td>3204897</td>\n",
       "      <td>22316.192870</td>\n",
       "    </tr>\n",
       "    <tr>\n",
       "      <th>1175</th>\n",
       "      <td>Pakistan</td>\n",
       "      <td>Asia</td>\n",
       "      <td>2007</td>\n",
       "      <td>65.483</td>\n",
       "      <td>169270617</td>\n",
       "      <td>2605.947580</td>\n",
       "    </tr>\n",
       "    <tr>\n",
       "      <th>1223</th>\n",
       "      <td>Philippines</td>\n",
       "      <td>Asia</td>\n",
       "      <td>2007</td>\n",
       "      <td>71.688</td>\n",
       "      <td>91077287</td>\n",
       "      <td>3190.481016</td>\n",
       "    </tr>\n",
       "    <tr>\n",
       "      <th>1319</th>\n",
       "      <td>Saudi Arabia</td>\n",
       "      <td>Asia</td>\n",
       "      <td>2007</td>\n",
       "      <td>72.777</td>\n",
       "      <td>27601038</td>\n",
       "      <td>21654.831940</td>\n",
       "    </tr>\n",
       "    <tr>\n",
       "      <th>1367</th>\n",
       "      <td>Singapore</td>\n",
       "      <td>Asia</td>\n",
       "      <td>2007</td>\n",
       "      <td>79.972</td>\n",
       "      <td>4553009</td>\n",
       "      <td>47143.179640</td>\n",
       "    </tr>\n",
       "    <tr>\n",
       "      <th>1439</th>\n",
       "      <td>Sri Lanka</td>\n",
       "      <td>Asia</td>\n",
       "      <td>2007</td>\n",
       "      <td>72.396</td>\n",
       "      <td>20378239</td>\n",
       "      <td>3970.095407</td>\n",
       "    </tr>\n",
       "    <tr>\n",
       "      <th>1499</th>\n",
       "      <td>Syria</td>\n",
       "      <td>Asia</td>\n",
       "      <td>2007</td>\n",
       "      <td>74.143</td>\n",
       "      <td>19314747</td>\n",
       "      <td>4184.548089</td>\n",
       "    </tr>\n",
       "    <tr>\n",
       "      <th>1511</th>\n",
       "      <td>Taiwan</td>\n",
       "      <td>Asia</td>\n",
       "      <td>2007</td>\n",
       "      <td>78.400</td>\n",
       "      <td>23174294</td>\n",
       "      <td>28718.276840</td>\n",
       "    </tr>\n",
       "    <tr>\n",
       "      <th>1535</th>\n",
       "      <td>Thailand</td>\n",
       "      <td>Asia</td>\n",
       "      <td>2007</td>\n",
       "      <td>70.616</td>\n",
       "      <td>65068149</td>\n",
       "      <td>7458.396327</td>\n",
       "    </tr>\n",
       "    <tr>\n",
       "      <th>1655</th>\n",
       "      <td>Vietnam</td>\n",
       "      <td>Asia</td>\n",
       "      <td>2007</td>\n",
       "      <td>74.249</td>\n",
       "      <td>85262356</td>\n",
       "      <td>2441.576404</td>\n",
       "    </tr>\n",
       "    <tr>\n",
       "      <th>1667</th>\n",
       "      <td>West Bank and Gaza</td>\n",
       "      <td>Asia</td>\n",
       "      <td>2007</td>\n",
       "      <td>73.422</td>\n",
       "      <td>4018332</td>\n",
       "      <td>3025.349798</td>\n",
       "    </tr>\n",
       "    <tr>\n",
       "      <th>1679</th>\n",
       "      <td>Yemen, Rep.</td>\n",
       "      <td>Asia</td>\n",
       "      <td>2007</td>\n",
       "      <td>62.698</td>\n",
       "      <td>22211743</td>\n",
       "      <td>2280.769906</td>\n",
       "    </tr>\n",
       "  </tbody>\n",
       "</table>\n",
       "</div>"
      ],
      "text/plain": [
       "                 country continent  year  lifeExp         pop     gdpPercap\n",
       "11           Afghanistan      Asia  2007   43.828    31889923    974.580338\n",
       "95               Bahrain      Asia  2007   75.635      708573  29796.048340\n",
       "107           Bangladesh      Asia  2007   64.062   150448339   1391.253792\n",
       "227             Cambodia      Asia  2007   59.723    14131858   1713.778686\n",
       "299                China      Asia  2007   72.961  1318683096   4959.114854\n",
       "671     Hong Kong, China      Asia  2007   82.208     6980412  39724.978670\n",
       "707                India      Asia  2007   64.698  1110396331   2452.210407\n",
       "719            Indonesia      Asia  2007   70.650   223547000   3540.651564\n",
       "731                 Iran      Asia  2007   70.964    69453570  11605.714490\n",
       "743                 Iraq      Asia  2007   59.545    27499638   4471.061906\n",
       "767               Israel      Asia  2007   80.745     6426679  25523.277100\n",
       "803                Japan      Asia  2007   82.603   127467972  31656.068060\n",
       "815               Jordan      Asia  2007   72.535     6053193   4519.461171\n",
       "839     Korea, Dem. Rep.      Asia  2007   67.297    23301725   1593.065480\n",
       "851          Korea, Rep.      Asia  2007   78.623    49044790  23348.139730\n",
       "863               Kuwait      Asia  2007   77.588     2505559  47306.989780\n",
       "875              Lebanon      Asia  2007   71.993     3921278  10461.058680\n",
       "947             Malaysia      Asia  2007   74.241    24821286  12451.655800\n",
       "1007            Mongolia      Asia  2007   66.803     2874127   3095.772271\n",
       "1055             Myanmar      Asia  2007   62.069    47761980    944.000000\n",
       "1079               Nepal      Asia  2007   63.785    28901790   1091.359778\n",
       "1163                Oman      Asia  2007   75.640     3204897  22316.192870\n",
       "1175            Pakistan      Asia  2007   65.483   169270617   2605.947580\n",
       "1223         Philippines      Asia  2007   71.688    91077287   3190.481016\n",
       "1319        Saudi Arabia      Asia  2007   72.777    27601038  21654.831940\n",
       "1367           Singapore      Asia  2007   79.972     4553009  47143.179640\n",
       "1439           Sri Lanka      Asia  2007   72.396    20378239   3970.095407\n",
       "1499               Syria      Asia  2007   74.143    19314747   4184.548089\n",
       "1511              Taiwan      Asia  2007   78.400    23174294  28718.276840\n",
       "1535            Thailand      Asia  2007   70.616    65068149   7458.396327\n",
       "1655             Vietnam      Asia  2007   74.249    85262356   2441.576404\n",
       "1667  West Bank and Gaza      Asia  2007   73.422     4018332   3025.349798\n",
       "1679         Yemen, Rep.      Asia  2007   62.698    22211743   2280.769906"
      ]
     },
     "execution_count": 8,
     "metadata": {},
     "output_type": "execute_result"
    }
   ],
   "source": [
    "#如果有多個條件，可以使用 | 或 & 符號連結，例如選出 2007 年的亞洲國家：\n",
    "gapminder[(gapminder['year'] == 2007) & (gapminder['continent'] == 'Asia')]"
   ]
  },
  {
   "cell_type": "markdown",
   "metadata": {},
   "source": [
    "## select( )"
   ]
  },
  {
   "cell_type": "code",
   "execution_count": 14,
   "metadata": {
    "scrolled": true
   },
   "outputs": [
    {
     "data": {
      "text/html": [
       "<div>\n",
       "<style scoped>\n",
       "    .dataframe tbody tr th:only-of-type {\n",
       "        vertical-align: middle;\n",
       "    }\n",
       "\n",
       "    .dataframe tbody tr th {\n",
       "        vertical-align: top;\n",
       "    }\n",
       "\n",
       "    .dataframe thead th {\n",
       "        text-align: right;\n",
       "    }\n",
       "</style>\n",
       "<table border=\"1\" class=\"dataframe\">\n",
       "  <thead>\n",
       "    <tr style=\"text-align: right;\">\n",
       "      <th></th>\n",
       "      <th>country</th>\n",
       "      <th>continent</th>\n",
       "    </tr>\n",
       "  </thead>\n",
       "  <tbody>\n",
       "    <tr>\n",
       "      <th>0</th>\n",
       "      <td>Afghanistan</td>\n",
       "      <td>Asia</td>\n",
       "    </tr>\n",
       "    <tr>\n",
       "      <th>1</th>\n",
       "      <td>Afghanistan</td>\n",
       "      <td>Asia</td>\n",
       "    </tr>\n",
       "    <tr>\n",
       "      <th>2</th>\n",
       "      <td>Afghanistan</td>\n",
       "      <td>Asia</td>\n",
       "    </tr>\n",
       "    <tr>\n",
       "      <th>3</th>\n",
       "      <td>Afghanistan</td>\n",
       "      <td>Asia</td>\n",
       "    </tr>\n",
       "    <tr>\n",
       "      <th>4</th>\n",
       "      <td>Afghanistan</td>\n",
       "      <td>Asia</td>\n",
       "    </tr>\n",
       "    <tr>\n",
       "      <th>5</th>\n",
       "      <td>Afghanistan</td>\n",
       "      <td>Asia</td>\n",
       "    </tr>\n",
       "    <tr>\n",
       "      <th>6</th>\n",
       "      <td>Afghanistan</td>\n",
       "      <td>Asia</td>\n",
       "    </tr>\n",
       "    <tr>\n",
       "      <th>7</th>\n",
       "      <td>Afghanistan</td>\n",
       "      <td>Asia</td>\n",
       "    </tr>\n",
       "    <tr>\n",
       "      <th>8</th>\n",
       "      <td>Afghanistan</td>\n",
       "      <td>Asia</td>\n",
       "    </tr>\n",
       "    <tr>\n",
       "      <th>9</th>\n",
       "      <td>Afghanistan</td>\n",
       "      <td>Asia</td>\n",
       "    </tr>\n",
       "    <tr>\n",
       "      <th>10</th>\n",
       "      <td>Afghanistan</td>\n",
       "      <td>Asia</td>\n",
       "    </tr>\n",
       "    <tr>\n",
       "      <th>11</th>\n",
       "      <td>Afghanistan</td>\n",
       "      <td>Asia</td>\n",
       "    </tr>\n",
       "    <tr>\n",
       "      <th>12</th>\n",
       "      <td>Albania</td>\n",
       "      <td>Europe</td>\n",
       "    </tr>\n",
       "    <tr>\n",
       "      <th>13</th>\n",
       "      <td>Albania</td>\n",
       "      <td>Europe</td>\n",
       "    </tr>\n",
       "    <tr>\n",
       "      <th>14</th>\n",
       "      <td>Albania</td>\n",
       "      <td>Europe</td>\n",
       "    </tr>\n",
       "    <tr>\n",
       "      <th>15</th>\n",
       "      <td>Albania</td>\n",
       "      <td>Europe</td>\n",
       "    </tr>\n",
       "    <tr>\n",
       "      <th>16</th>\n",
       "      <td>Albania</td>\n",
       "      <td>Europe</td>\n",
       "    </tr>\n",
       "    <tr>\n",
       "      <th>17</th>\n",
       "      <td>Albania</td>\n",
       "      <td>Europe</td>\n",
       "    </tr>\n",
       "    <tr>\n",
       "      <th>18</th>\n",
       "      <td>Albania</td>\n",
       "      <td>Europe</td>\n",
       "    </tr>\n",
       "    <tr>\n",
       "      <th>19</th>\n",
       "      <td>Albania</td>\n",
       "      <td>Europe</td>\n",
       "    </tr>\n",
       "    <tr>\n",
       "      <th>20</th>\n",
       "      <td>Albania</td>\n",
       "      <td>Europe</td>\n",
       "    </tr>\n",
       "    <tr>\n",
       "      <th>21</th>\n",
       "      <td>Albania</td>\n",
       "      <td>Europe</td>\n",
       "    </tr>\n",
       "    <tr>\n",
       "      <th>22</th>\n",
       "      <td>Albania</td>\n",
       "      <td>Europe</td>\n",
       "    </tr>\n",
       "    <tr>\n",
       "      <th>23</th>\n",
       "      <td>Albania</td>\n",
       "      <td>Europe</td>\n",
       "    </tr>\n",
       "    <tr>\n",
       "      <th>24</th>\n",
       "      <td>Algeria</td>\n",
       "      <td>Africa</td>\n",
       "    </tr>\n",
       "    <tr>\n",
       "      <th>25</th>\n",
       "      <td>Algeria</td>\n",
       "      <td>Africa</td>\n",
       "    </tr>\n",
       "    <tr>\n",
       "      <th>26</th>\n",
       "      <td>Algeria</td>\n",
       "      <td>Africa</td>\n",
       "    </tr>\n",
       "    <tr>\n",
       "      <th>27</th>\n",
       "      <td>Algeria</td>\n",
       "      <td>Africa</td>\n",
       "    </tr>\n",
       "    <tr>\n",
       "      <th>28</th>\n",
       "      <td>Algeria</td>\n",
       "      <td>Africa</td>\n",
       "    </tr>\n",
       "    <tr>\n",
       "      <th>29</th>\n",
       "      <td>Algeria</td>\n",
       "      <td>Africa</td>\n",
       "    </tr>\n",
       "    <tr>\n",
       "      <th>...</th>\n",
       "      <td>...</td>\n",
       "      <td>...</td>\n",
       "    </tr>\n",
       "    <tr>\n",
       "      <th>1674</th>\n",
       "      <td>Yemen, Rep.</td>\n",
       "      <td>Asia</td>\n",
       "    </tr>\n",
       "    <tr>\n",
       "      <th>1675</th>\n",
       "      <td>Yemen, Rep.</td>\n",
       "      <td>Asia</td>\n",
       "    </tr>\n",
       "    <tr>\n",
       "      <th>1676</th>\n",
       "      <td>Yemen, Rep.</td>\n",
       "      <td>Asia</td>\n",
       "    </tr>\n",
       "    <tr>\n",
       "      <th>1677</th>\n",
       "      <td>Yemen, Rep.</td>\n",
       "      <td>Asia</td>\n",
       "    </tr>\n",
       "    <tr>\n",
       "      <th>1678</th>\n",
       "      <td>Yemen, Rep.</td>\n",
       "      <td>Asia</td>\n",
       "    </tr>\n",
       "    <tr>\n",
       "      <th>1679</th>\n",
       "      <td>Yemen, Rep.</td>\n",
       "      <td>Asia</td>\n",
       "    </tr>\n",
       "    <tr>\n",
       "      <th>1680</th>\n",
       "      <td>Zambia</td>\n",
       "      <td>Africa</td>\n",
       "    </tr>\n",
       "    <tr>\n",
       "      <th>1681</th>\n",
       "      <td>Zambia</td>\n",
       "      <td>Africa</td>\n",
       "    </tr>\n",
       "    <tr>\n",
       "      <th>1682</th>\n",
       "      <td>Zambia</td>\n",
       "      <td>Africa</td>\n",
       "    </tr>\n",
       "    <tr>\n",
       "      <th>1683</th>\n",
       "      <td>Zambia</td>\n",
       "      <td>Africa</td>\n",
       "    </tr>\n",
       "    <tr>\n",
       "      <th>1684</th>\n",
       "      <td>Zambia</td>\n",
       "      <td>Africa</td>\n",
       "    </tr>\n",
       "    <tr>\n",
       "      <th>1685</th>\n",
       "      <td>Zambia</td>\n",
       "      <td>Africa</td>\n",
       "    </tr>\n",
       "    <tr>\n",
       "      <th>1686</th>\n",
       "      <td>Zambia</td>\n",
       "      <td>Africa</td>\n",
       "    </tr>\n",
       "    <tr>\n",
       "      <th>1687</th>\n",
       "      <td>Zambia</td>\n",
       "      <td>Africa</td>\n",
       "    </tr>\n",
       "    <tr>\n",
       "      <th>1688</th>\n",
       "      <td>Zambia</td>\n",
       "      <td>Africa</td>\n",
       "    </tr>\n",
       "    <tr>\n",
       "      <th>1689</th>\n",
       "      <td>Zambia</td>\n",
       "      <td>Africa</td>\n",
       "    </tr>\n",
       "    <tr>\n",
       "      <th>1690</th>\n",
       "      <td>Zambia</td>\n",
       "      <td>Africa</td>\n",
       "    </tr>\n",
       "    <tr>\n",
       "      <th>1691</th>\n",
       "      <td>Zambia</td>\n",
       "      <td>Africa</td>\n",
       "    </tr>\n",
       "    <tr>\n",
       "      <th>1692</th>\n",
       "      <td>Zimbabwe</td>\n",
       "      <td>Africa</td>\n",
       "    </tr>\n",
       "    <tr>\n",
       "      <th>1693</th>\n",
       "      <td>Zimbabwe</td>\n",
       "      <td>Africa</td>\n",
       "    </tr>\n",
       "    <tr>\n",
       "      <th>1694</th>\n",
       "      <td>Zimbabwe</td>\n",
       "      <td>Africa</td>\n",
       "    </tr>\n",
       "    <tr>\n",
       "      <th>1695</th>\n",
       "      <td>Zimbabwe</td>\n",
       "      <td>Africa</td>\n",
       "    </tr>\n",
       "    <tr>\n",
       "      <th>1696</th>\n",
       "      <td>Zimbabwe</td>\n",
       "      <td>Africa</td>\n",
       "    </tr>\n",
       "    <tr>\n",
       "      <th>1697</th>\n",
       "      <td>Zimbabwe</td>\n",
       "      <td>Africa</td>\n",
       "    </tr>\n",
       "    <tr>\n",
       "      <th>1698</th>\n",
       "      <td>Zimbabwe</td>\n",
       "      <td>Africa</td>\n",
       "    </tr>\n",
       "    <tr>\n",
       "      <th>1699</th>\n",
       "      <td>Zimbabwe</td>\n",
       "      <td>Africa</td>\n",
       "    </tr>\n",
       "    <tr>\n",
       "      <th>1700</th>\n",
       "      <td>Zimbabwe</td>\n",
       "      <td>Africa</td>\n",
       "    </tr>\n",
       "    <tr>\n",
       "      <th>1701</th>\n",
       "      <td>Zimbabwe</td>\n",
       "      <td>Africa</td>\n",
       "    </tr>\n",
       "    <tr>\n",
       "      <th>1702</th>\n",
       "      <td>Zimbabwe</td>\n",
       "      <td>Africa</td>\n",
       "    </tr>\n",
       "    <tr>\n",
       "      <th>1703</th>\n",
       "      <td>Zimbabwe</td>\n",
       "      <td>Africa</td>\n",
       "    </tr>\n",
       "  </tbody>\n",
       "</table>\n",
       "<p>1704 rows × 2 columns</p>\n",
       "</div>"
      ],
      "text/plain": [
       "          country continent\n",
       "0     Afghanistan      Asia\n",
       "1     Afghanistan      Asia\n",
       "2     Afghanistan      Asia\n",
       "3     Afghanistan      Asia\n",
       "4     Afghanistan      Asia\n",
       "5     Afghanistan      Asia\n",
       "6     Afghanistan      Asia\n",
       "7     Afghanistan      Asia\n",
       "8     Afghanistan      Asia\n",
       "9     Afghanistan      Asia\n",
       "10    Afghanistan      Asia\n",
       "11    Afghanistan      Asia\n",
       "12        Albania    Europe\n",
       "13        Albania    Europe\n",
       "14        Albania    Europe\n",
       "15        Albania    Europe\n",
       "16        Albania    Europe\n",
       "17        Albania    Europe\n",
       "18        Albania    Europe\n",
       "19        Albania    Europe\n",
       "20        Albania    Europe\n",
       "21        Albania    Europe\n",
       "22        Albania    Europe\n",
       "23        Albania    Europe\n",
       "24        Algeria    Africa\n",
       "25        Algeria    Africa\n",
       "26        Algeria    Africa\n",
       "27        Algeria    Africa\n",
       "28        Algeria    Africa\n",
       "29        Algeria    Africa\n",
       "...           ...       ...\n",
       "1674  Yemen, Rep.      Asia\n",
       "1675  Yemen, Rep.      Asia\n",
       "1676  Yemen, Rep.      Asia\n",
       "1677  Yemen, Rep.      Asia\n",
       "1678  Yemen, Rep.      Asia\n",
       "1679  Yemen, Rep.      Asia\n",
       "1680       Zambia    Africa\n",
       "1681       Zambia    Africa\n",
       "1682       Zambia    Africa\n",
       "1683       Zambia    Africa\n",
       "1684       Zambia    Africa\n",
       "1685       Zambia    Africa\n",
       "1686       Zambia    Africa\n",
       "1687       Zambia    Africa\n",
       "1688       Zambia    Africa\n",
       "1689       Zambia    Africa\n",
       "1690       Zambia    Africa\n",
       "1691       Zambia    Africa\n",
       "1692     Zimbabwe    Africa\n",
       "1693     Zimbabwe    Africa\n",
       "1694     Zimbabwe    Africa\n",
       "1695     Zimbabwe    Africa\n",
       "1696     Zimbabwe    Africa\n",
       "1697     Zimbabwe    Africa\n",
       "1698     Zimbabwe    Africa\n",
       "1699     Zimbabwe    Africa\n",
       "1700     Zimbabwe    Africa\n",
       "1701     Zimbabwe    Africa\n",
       "1702     Zimbabwe    Africa\n",
       "1703     Zimbabwe    Africa\n",
       "\n",
       "[1704 rows x 2 columns]"
      ]
     },
     "execution_count": 14,
     "metadata": {},
     "output_type": "execute_result"
    }
   ],
   "source": [
    "#用 list 標註變數名稱可以將變數從資料框中選出，實踐 select() 函數的功能，例如選出 country 與 continent 變數\n",
    "gapminder[['country', 'continent']]"
   ]
  },
  {
   "cell_type": "code",
   "execution_count": 8,
   "metadata": {},
   "outputs": [
    {
     "name": "stdout",
     "output_type": "stream",
     "text": [
      "<class 'pandas.core.series.Series'>\n"
     ]
    }
   ],
   "source": [
    "#如果只選一個變數且沒有以 list 標註，同樣能選出變數，但是型別會變為 Series：\n",
    "country = gapminder['country']\n",
    "print(type(country))"
   ]
  },
  {
   "cell_type": "markdown",
   "metadata": {},
   "source": [
    "## mutate( ) 衍生函數"
   ]
  },
  {
   "cell_type": "code",
   "execution_count": 9,
   "metadata": {
    "scrolled": true
   },
   "outputs": [
    {
     "data": {
      "text/html": [
       "<div>\n",
       "<style scoped>\n",
       "    .dataframe tbody tr th:only-of-type {\n",
       "        vertical-align: middle;\n",
       "    }\n",
       "\n",
       "    .dataframe tbody tr th {\n",
       "        vertical-align: top;\n",
       "    }\n",
       "\n",
       "    .dataframe thead th {\n",
       "        text-align: right;\n",
       "    }\n",
       "</style>\n",
       "<table border=\"1\" class=\"dataframe\">\n",
       "  <thead>\n",
       "    <tr style=\"text-align: right;\">\n",
       "      <th></th>\n",
       "      <th>country</th>\n",
       "      <th>continent</th>\n",
       "      <th>year</th>\n",
       "      <th>lifeExp</th>\n",
       "      <th>pop</th>\n",
       "      <th>gdpPercap</th>\n",
       "      <th>country_abb</th>\n",
       "    </tr>\n",
       "  </thead>\n",
       "  <tbody>\n",
       "    <tr>\n",
       "      <th>0</th>\n",
       "      <td>Afghanistan</td>\n",
       "      <td>Asia</td>\n",
       "      <td>1952</td>\n",
       "      <td>28.801</td>\n",
       "      <td>8425333</td>\n",
       "      <td>779.445314</td>\n",
       "      <td>Afg</td>\n",
       "    </tr>\n",
       "    <tr>\n",
       "      <th>1</th>\n",
       "      <td>Afghanistan</td>\n",
       "      <td>Asia</td>\n",
       "      <td>1957</td>\n",
       "      <td>30.332</td>\n",
       "      <td>9240934</td>\n",
       "      <td>820.853030</td>\n",
       "      <td>Afg</td>\n",
       "    </tr>\n",
       "    <tr>\n",
       "      <th>2</th>\n",
       "      <td>Afghanistan</td>\n",
       "      <td>Asia</td>\n",
       "      <td>1962</td>\n",
       "      <td>31.997</td>\n",
       "      <td>10267083</td>\n",
       "      <td>853.100710</td>\n",
       "      <td>Afg</td>\n",
       "    </tr>\n",
       "    <tr>\n",
       "      <th>3</th>\n",
       "      <td>Afghanistan</td>\n",
       "      <td>Asia</td>\n",
       "      <td>1967</td>\n",
       "      <td>34.020</td>\n",
       "      <td>11537966</td>\n",
       "      <td>836.197138</td>\n",
       "      <td>Afg</td>\n",
       "    </tr>\n",
       "    <tr>\n",
       "      <th>4</th>\n",
       "      <td>Afghanistan</td>\n",
       "      <td>Asia</td>\n",
       "      <td>1972</td>\n",
       "      <td>36.088</td>\n",
       "      <td>13079460</td>\n",
       "      <td>739.981106</td>\n",
       "      <td>Afg</td>\n",
       "    </tr>\n",
       "    <tr>\n",
       "      <th>...</th>\n",
       "      <td>...</td>\n",
       "      <td>...</td>\n",
       "      <td>...</td>\n",
       "      <td>...</td>\n",
       "      <td>...</td>\n",
       "      <td>...</td>\n",
       "      <td>...</td>\n",
       "    </tr>\n",
       "    <tr>\n",
       "      <th>1699</th>\n",
       "      <td>Zimbabwe</td>\n",
       "      <td>Africa</td>\n",
       "      <td>1987</td>\n",
       "      <td>62.351</td>\n",
       "      <td>9216418</td>\n",
       "      <td>706.157306</td>\n",
       "      <td>Zim</td>\n",
       "    </tr>\n",
       "    <tr>\n",
       "      <th>1700</th>\n",
       "      <td>Zimbabwe</td>\n",
       "      <td>Africa</td>\n",
       "      <td>1992</td>\n",
       "      <td>60.377</td>\n",
       "      <td>10704340</td>\n",
       "      <td>693.420786</td>\n",
       "      <td>Zim</td>\n",
       "    </tr>\n",
       "    <tr>\n",
       "      <th>1701</th>\n",
       "      <td>Zimbabwe</td>\n",
       "      <td>Africa</td>\n",
       "      <td>1997</td>\n",
       "      <td>46.809</td>\n",
       "      <td>11404948</td>\n",
       "      <td>792.449960</td>\n",
       "      <td>Zim</td>\n",
       "    </tr>\n",
       "    <tr>\n",
       "      <th>1702</th>\n",
       "      <td>Zimbabwe</td>\n",
       "      <td>Africa</td>\n",
       "      <td>2002</td>\n",
       "      <td>39.989</td>\n",
       "      <td>11926563</td>\n",
       "      <td>672.038623</td>\n",
       "      <td>Zim</td>\n",
       "    </tr>\n",
       "    <tr>\n",
       "      <th>1703</th>\n",
       "      <td>Zimbabwe</td>\n",
       "      <td>Africa</td>\n",
       "      <td>2007</td>\n",
       "      <td>43.487</td>\n",
       "      <td>12311143</td>\n",
       "      <td>469.709298</td>\n",
       "      <td>Zim</td>\n",
       "    </tr>\n",
       "  </tbody>\n",
       "</table>\n",
       "<p>1704 rows × 7 columns</p>\n",
       "</div>"
      ],
      "text/plain": [
       "          country continent  year  lifeExp       pop   gdpPercap country_abb\n",
       "0     Afghanistan      Asia  1952   28.801   8425333  779.445314         Afg\n",
       "1     Afghanistan      Asia  1957   30.332   9240934  820.853030         Afg\n",
       "2     Afghanistan      Asia  1962   31.997  10267083  853.100710         Afg\n",
       "3     Afghanistan      Asia  1967   34.020  11537966  836.197138         Afg\n",
       "4     Afghanistan      Asia  1972   36.088  13079460  739.981106         Afg\n",
       "...           ...       ...   ...      ...       ...         ...         ...\n",
       "1699     Zimbabwe    Africa  1987   62.351   9216418  706.157306         Zim\n",
       "1700     Zimbabwe    Africa  1992   60.377  10704340  693.420786         Zim\n",
       "1701     Zimbabwe    Africa  1997   46.809  11404948  792.449960         Zim\n",
       "1702     Zimbabwe    Africa  2002   39.989  11926563  672.038623         Zim\n",
       "1703     Zimbabwe    Africa  2007   43.487  12311143  469.709298         Zim\n",
       "\n",
       "[1704 rows x 7 columns]"
      ]
     },
     "execution_count": 9,
     "metadata": {},
     "output_type": "execute_result"
    }
   ],
   "source": [
    "#直接撰寫衍生公式並為變數命名即可實踐 mutate() 函數衍生欄位的功能，搭配 apply() 與 lambda 函數將公式應用到每一個觀測值，\n",
    "#例如新增一個 country_abb 變數擷取原本 country 變數的前三個英文字母：\n",
    "\n",
    "gapminder['country_abb'] = gapminder['country'].apply(lambda x: x[:3])\n",
    "gapminder"
   ]
  },
  {
   "cell_type": "markdown",
   "metadata": {},
   "source": [
    "## 聚合函數"
   ]
  },
  {
   "cell_type": "code",
   "execution_count": 17,
   "metadata": {},
   "outputs": [
    {
     "data": {
      "text/plain": [
       "pop    6251013179\n",
       "dtype: int64"
      ]
     },
     "execution_count": 17,
     "metadata": {},
     "output_type": "execute_result"
    }
   ],
   "source": [
    "#呼叫 DataFrame 不同的聚合函數針對欄位計算，實踐 summarise() 函數的功能，例如計算 2007 年全球人口總數：\n",
    "gapminder[gapminder['year'] == 2007][['pop']].sum()"
   ]
  },
  {
   "cell_type": "code",
   "execution_count": 18,
   "metadata": {
    "scrolled": true
   },
   "outputs": [
    {
     "data": {
      "text/plain": [
       "lifeExp         67.007423\n",
       "gdpPercap    11680.071820\n",
       "dtype: float64"
      ]
     },
     "execution_count": 18,
     "metadata": {},
     "output_type": "execute_result"
    }
   ],
   "source": [
    "#或者計算 2007 年全球的平均壽命、平均財富：\n",
    "gapminder[gapminder['year'] == 2007][['lifeExp', 'gdpPercap']].mean()"
   ]
  },
  {
   "cell_type": "code",
   "execution_count": 19,
   "metadata": {},
   "outputs": [
    {
     "data": {
      "text/plain": [
       "continent\n",
       "Africa       929539692\n",
       "Americas     898871184\n",
       "Asia        3811953827\n",
       "Europe       586098529\n",
       "Oceania       24549947\n",
       "Name: pop, dtype: int64"
      ]
     },
     "execution_count": 19,
     "metadata": {},
     "output_type": "execute_result"
    }
   ],
   "source": [
    "#最後是呼叫 DataFrame 的 groupby 方法實踐 group_by() 函數的功能，例如計算 2007 年各洲人口總數：\n",
    "gapminder[gapminder['year'] == 2007].groupby(by = 'continent')['pop'].sum()"
   ]
  },
  {
   "cell_type": "code",
   "execution_count": 20,
   "metadata": {},
   "outputs": [
    {
     "data": {
      "text/html": [
       "<div>\n",
       "<style scoped>\n",
       "    .dataframe tbody tr th:only-of-type {\n",
       "        vertical-align: middle;\n",
       "    }\n",
       "\n",
       "    .dataframe tbody tr th {\n",
       "        vertical-align: top;\n",
       "    }\n",
       "\n",
       "    .dataframe thead th {\n",
       "        text-align: right;\n",
       "    }\n",
       "</style>\n",
       "<table border=\"1\" class=\"dataframe\">\n",
       "  <thead>\n",
       "    <tr style=\"text-align: right;\">\n",
       "      <th></th>\n",
       "      <th>lifeExp</th>\n",
       "      <th>gdpPercap</th>\n",
       "    </tr>\n",
       "    <tr>\n",
       "      <th>continent</th>\n",
       "      <th></th>\n",
       "      <th></th>\n",
       "    </tr>\n",
       "  </thead>\n",
       "  <tbody>\n",
       "    <tr>\n",
       "      <th>Africa</th>\n",
       "      <td>54.806038</td>\n",
       "      <td>3089.032605</td>\n",
       "    </tr>\n",
       "    <tr>\n",
       "      <th>Americas</th>\n",
       "      <td>73.608120</td>\n",
       "      <td>11003.031625</td>\n",
       "    </tr>\n",
       "    <tr>\n",
       "      <th>Asia</th>\n",
       "      <td>70.728485</td>\n",
       "      <td>12473.026870</td>\n",
       "    </tr>\n",
       "    <tr>\n",
       "      <th>Europe</th>\n",
       "      <td>77.648600</td>\n",
       "      <td>25054.481636</td>\n",
       "    </tr>\n",
       "    <tr>\n",
       "      <th>Oceania</th>\n",
       "      <td>80.719500</td>\n",
       "      <td>29810.188275</td>\n",
       "    </tr>\n",
       "  </tbody>\n",
       "</table>\n",
       "</div>"
      ],
      "text/plain": [
       "             lifeExp     gdpPercap\n",
       "continent                         \n",
       "Africa     54.806038   3089.032605\n",
       "Americas   73.608120  11003.031625\n",
       "Asia       70.728485  12473.026870\n",
       "Europe     77.648600  25054.481636\n",
       "Oceania    80.719500  29810.188275"
      ]
     },
     "execution_count": 20,
     "metadata": {},
     "output_type": "execute_result"
    }
   ],
   "source": [
    "#或者計算 2007 年各洲平均壽命、平均財富：\n",
    "gapminder[gapminder['year'] == 2007].groupby(by = 'continent')[['lifeExp', 'gdpPercap']].mean()"
   ]
  },
  {
   "cell_type": "code",
   "execution_count": 21,
   "metadata": {},
   "outputs": [
    {
     "name": "stdout",
     "output_type": "stream",
     "text": [
      "總和:  50440465801\n",
      "平均:  29601212.324530516\n",
      "最大:  1318683096\n",
      "最小:  60011\n",
      "計數:  1704\n",
      "標準差:  106157896.7439147\n",
      "變異數:  1.1269499041091654e+16\n",
      "25%:  2793664.0\n",
      "50%:  7023595.5\n",
      "75%:  19585221.75\n"
     ]
    }
   ],
   "source": [
    "print(\"總和: \", gapminder[\"pop\"].sum())\n",
    "print(\"平均: \", gapminder[\"pop\"].mean())\n",
    "print(\"最大: \", gapminder[\"pop\"].max())\n",
    "print(\"最小: \", gapminder[\"pop\"].min())\n",
    "print(\"計數: \", gapminder[\"pop\"].count())\n",
    "print(\"標準差: \", gapminder[\"pop\"].std())\n",
    "print(\"變異數: \", gapminder[\"pop\"].var())\n",
    "print(\"25%: \", gapminder[\"pop\"].quantile(q=0.25))\n",
    "print(\"50%: \", gapminder[\"pop\"].quantile(q=0.5))\n",
    "print(\"75%: \", gapminder[\"pop\"].quantile(q=0.75))"
   ]
  },
  {
   "cell_type": "markdown",
   "metadata": {},
   "source": [
    "# pandas.DataFrame合計行和列"
   ]
  },
  {
   "cell_type": "code",
   "execution_count": 3,
   "metadata": {},
   "outputs": [],
   "source": [
    "from pandas import DataFrame\n",
    "\n",
    "import pandas as pd\n",
    "\n",
    "import numpy as np"
   ]
  },
  {
   "cell_type": "code",
   "execution_count": 44,
   "metadata": {
    "scrolled": false
   },
   "outputs": [
    {
     "data": {
      "text/html": [
       "<div>\n",
       "<style scoped>\n",
       "    .dataframe tbody tr th:only-of-type {\n",
       "        vertical-align: middle;\n",
       "    }\n",
       "\n",
       "    .dataframe tbody tr th {\n",
       "        vertical-align: top;\n",
       "    }\n",
       "\n",
       "    .dataframe thead th {\n",
       "        text-align: right;\n",
       "    }\n",
       "</style>\n",
       "<table border=\"1\" class=\"dataframe\">\n",
       "  <thead>\n",
       "    <tr style=\"text-align: right;\">\n",
       "      <th></th>\n",
       "      <th>A</th>\n",
       "      <th>B</th>\n",
       "      <th>C</th>\n",
       "      <th>D</th>\n",
       "      <th>E</th>\n",
       "    </tr>\n",
       "  </thead>\n",
       "  <tbody>\n",
       "    <tr>\n",
       "      <th>0</th>\n",
       "      <td>-0.582414</td>\n",
       "      <td>0.648835</td>\n",
       "      <td>0.565880</td>\n",
       "      <td>-0.439979</td>\n",
       "      <td>1.215076</td>\n",
       "    </tr>\n",
       "    <tr>\n",
       "      <th>1</th>\n",
       "      <td>0.788291</td>\n",
       "      <td>1.328260</td>\n",
       "      <td>1.362211</td>\n",
       "      <td>2.249131</td>\n",
       "      <td>-1.580368</td>\n",
       "    </tr>\n",
       "    <tr>\n",
       "      <th>2</th>\n",
       "      <td>0.992644</td>\n",
       "      <td>0.853227</td>\n",
       "      <td>-0.240069</td>\n",
       "      <td>-1.016928</td>\n",
       "      <td>-0.439680</td>\n",
       "    </tr>\n",
       "    <tr>\n",
       "      <th>3</th>\n",
       "      <td>0.180200</td>\n",
       "      <td>-1.403818</td>\n",
       "      <td>1.628424</td>\n",
       "      <td>1.939777</td>\n",
       "      <td>0.456991</td>\n",
       "    </tr>\n",
       "  </tbody>\n",
       "</table>\n",
       "</div>"
      ],
      "text/plain": [
       "          A         B         C         D         E\n",
       "0 -0.582414  0.648835  0.565880 -0.439979  1.215076\n",
       "1  0.788291  1.328260  1.362211  2.249131 -1.580368\n",
       "2  0.992644  0.853227 -0.240069 -1.016928 -0.439680\n",
       "3  0.180200 -1.403818  1.628424  1.939777  0.456991"
      ]
     },
     "execution_count": 44,
     "metadata": {},
     "output_type": "execute_result"
    }
   ],
   "source": [
    "dfr = DataFrame(np.random.randn(4, 5), columns=['A', 'B', 'C', 'D', 'E'])\n",
    "dfr"
   ]
  },
  {
   "cell_type": "markdown",
   "metadata": {},
   "source": [
    "### 列合計"
   ]
  },
  {
   "cell_type": "code",
   "execution_count": 45,
   "metadata": {},
   "outputs": [],
   "source": [
    "#法一\n",
    "dfr['Col_sum'] = dfr.apply(lambda x: x.sum(), axis=1)"
   ]
  },
  {
   "cell_type": "code",
   "execution_count": 46,
   "metadata": {},
   "outputs": [],
   "source": [
    "#法二\n",
    "dfr['Col_sum_2']=dfr['A']+dfr['B']+dfr['C']+dfr['D']+dfr['E']"
   ]
  },
  {
   "cell_type": "markdown",
   "metadata": {},
   "source": [
    "### 欄合計\n",
    "因為loc是先列後欄，所以只要.loc就可以選到列"
   ]
  },
  {
   "cell_type": "code",
   "execution_count": 55,
   "metadata": {},
   "outputs": [
    {
     "data": {
      "text/plain": [
       "-0.5824142081697943"
      ]
     },
     "execution_count": 55,
     "metadata": {},
     "output_type": "execute_result"
    }
   ],
   "source": [
    "dfr.loc[0,'A']"
   ]
  },
  {
   "cell_type": "code",
   "execution_count": 56,
   "metadata": {
    "scrolled": true
   },
   "outputs": [
    {
     "data": {
      "text/plain": [
       "A           -0.582414\n",
       "B            0.648835\n",
       "C            0.565880\n",
       "D           -0.439979\n",
       "E            1.215076\n",
       "Col_sum      1.407398\n",
       "Col_sum_2    1.407398\n",
       "Name: 0, dtype: float64"
      ]
     },
     "execution_count": 56,
     "metadata": {},
     "output_type": "execute_result"
    }
   ],
   "source": [
    "dfr.loc[0]"
   ]
  },
  {
   "cell_type": "code",
   "execution_count": 47,
   "metadata": {},
   "outputs": [],
   "source": [
    "#法一\n",
    "dfr.loc['Row_sum'] = dfr.apply(lambda x: x.sum())"
   ]
  },
  {
   "cell_type": "code",
   "execution_count": 48,
   "metadata": {},
   "outputs": [],
   "source": [
    "#法二\n",
    "dfr.loc['Row_sum_2']=dfr.loc[0]+dfr.loc[1]+dfr.loc[2]+dfr.loc[3]"
   ]
  },
  {
   "cell_type": "code",
   "execution_count": 49,
   "metadata": {
    "scrolled": true
   },
   "outputs": [
    {
     "data": {
      "text/html": [
       "<div>\n",
       "<style scoped>\n",
       "    .dataframe tbody tr th:only-of-type {\n",
       "        vertical-align: middle;\n",
       "    }\n",
       "\n",
       "    .dataframe tbody tr th {\n",
       "        vertical-align: top;\n",
       "    }\n",
       "\n",
       "    .dataframe thead th {\n",
       "        text-align: right;\n",
       "    }\n",
       "</style>\n",
       "<table border=\"1\" class=\"dataframe\">\n",
       "  <thead>\n",
       "    <tr style=\"text-align: right;\">\n",
       "      <th></th>\n",
       "      <th>A</th>\n",
       "      <th>B</th>\n",
       "      <th>C</th>\n",
       "      <th>D</th>\n",
       "      <th>E</th>\n",
       "      <th>Col_sum</th>\n",
       "      <th>Col_sum_2</th>\n",
       "    </tr>\n",
       "  </thead>\n",
       "  <tbody>\n",
       "    <tr>\n",
       "      <th>0</th>\n",
       "      <td>-0.582414</td>\n",
       "      <td>0.648835</td>\n",
       "      <td>0.565880</td>\n",
       "      <td>-0.439979</td>\n",
       "      <td>1.215076</td>\n",
       "      <td>1.407398</td>\n",
       "      <td>1.407398</td>\n",
       "    </tr>\n",
       "    <tr>\n",
       "      <th>1</th>\n",
       "      <td>0.788291</td>\n",
       "      <td>1.328260</td>\n",
       "      <td>1.362211</td>\n",
       "      <td>2.249131</td>\n",
       "      <td>-1.580368</td>\n",
       "      <td>4.147525</td>\n",
       "      <td>4.147525</td>\n",
       "    </tr>\n",
       "    <tr>\n",
       "      <th>2</th>\n",
       "      <td>0.992644</td>\n",
       "      <td>0.853227</td>\n",
       "      <td>-0.240069</td>\n",
       "      <td>-1.016928</td>\n",
       "      <td>-0.439680</td>\n",
       "      <td>0.149194</td>\n",
       "      <td>0.149194</td>\n",
       "    </tr>\n",
       "    <tr>\n",
       "      <th>3</th>\n",
       "      <td>0.180200</td>\n",
       "      <td>-1.403818</td>\n",
       "      <td>1.628424</td>\n",
       "      <td>1.939777</td>\n",
       "      <td>0.456991</td>\n",
       "      <td>2.801574</td>\n",
       "      <td>2.801574</td>\n",
       "    </tr>\n",
       "    <tr>\n",
       "      <th>Row_sum</th>\n",
       "      <td>1.378721</td>\n",
       "      <td>1.426503</td>\n",
       "      <td>3.316447</td>\n",
       "      <td>2.732001</td>\n",
       "      <td>-0.347981</td>\n",
       "      <td>8.505692</td>\n",
       "      <td>8.505692</td>\n",
       "    </tr>\n",
       "    <tr>\n",
       "      <th>Row_sum_2</th>\n",
       "      <td>1.378721</td>\n",
       "      <td>1.426503</td>\n",
       "      <td>3.316447</td>\n",
       "      <td>2.732001</td>\n",
       "      <td>-0.347981</td>\n",
       "      <td>8.505692</td>\n",
       "      <td>8.505692</td>\n",
       "    </tr>\n",
       "  </tbody>\n",
       "</table>\n",
       "</div>"
      ],
      "text/plain": [
       "                  A         B         C         D         E   Col_sum  \\\n",
       "0         -0.582414  0.648835  0.565880 -0.439979  1.215076  1.407398   \n",
       "1          0.788291  1.328260  1.362211  2.249131 -1.580368  4.147525   \n",
       "2          0.992644  0.853227 -0.240069 -1.016928 -0.439680  0.149194   \n",
       "3          0.180200 -1.403818  1.628424  1.939777  0.456991  2.801574   \n",
       "Row_sum    1.378721  1.426503  3.316447  2.732001 -0.347981  8.505692   \n",
       "Row_sum_2  1.378721  1.426503  3.316447  2.732001 -0.347981  8.505692   \n",
       "\n",
       "           Col_sum_2  \n",
       "0           1.407398  \n",
       "1           4.147525  \n",
       "2           0.149194  \n",
       "3           2.801574  \n",
       "Row_sum     8.505692  \n",
       "Row_sum_2   8.505692  "
      ]
     },
     "execution_count": 49,
     "metadata": {},
     "output_type": "execute_result"
    }
   ],
   "source": [
    "dfr"
   ]
  },
  {
   "cell_type": "markdown",
   "metadata": {},
   "source": [
    "# Pandas.DataFrame刪除行和列\n",
    "用法：DataFrame.drop(labels=None,axis=0, index=None, columns=None, inplace=False)<br>\n",
    "* labels就是要刪除的行列的名字，用列表給定\n",
    "* axis默認為0(指刪除列)，因此刪除columns時要指定axis=1；\n",
    "* index直接指定要刪除的行\n",
    "* columns直接指定要刪除的列\n",
    "* inplace =False，默認該刪除操作不改變原數據，而是返回一個執行刪除操作後的新dataframe；\n",
    "* inplace=True，則會直接在原數據上進行刪除操作，刪除後無法返回。\n",
    "\n",
    "\n",
    "因此，刪除行列有兩種方式：\n",
    "1. labels=None,axis=0的組合\n",
    "2. index或columns直接指定要刪除的行或列"
   ]
  },
  {
   "cell_type": "code",
   "execution_count": 57,
   "metadata": {
    "scrolled": true
   },
   "outputs": [
    {
     "data": {
      "text/html": [
       "<div>\n",
       "<style scoped>\n",
       "    .dataframe tbody tr th:only-of-type {\n",
       "        vertical-align: middle;\n",
       "    }\n",
       "\n",
       "    .dataframe tbody tr th {\n",
       "        vertical-align: top;\n",
       "    }\n",
       "\n",
       "    .dataframe thead th {\n",
       "        text-align: right;\n",
       "    }\n",
       "</style>\n",
       "<table border=\"1\" class=\"dataframe\">\n",
       "  <thead>\n",
       "    <tr style=\"text-align: right;\">\n",
       "      <th></th>\n",
       "      <th>A</th>\n",
       "      <th>B</th>\n",
       "      <th>C</th>\n",
       "      <th>D</th>\n",
       "      <th>E</th>\n",
       "      <th>Row_sum</th>\n",
       "      <th>Col_sum</th>\n",
       "      <th>t</th>\n",
       "      <th>TT</th>\n",
       "      <th>G</th>\n",
       "      <th>RowSum</th>\n",
       "    </tr>\n",
       "  </thead>\n",
       "  <tbody>\n",
       "    <tr>\n",
       "      <th>0</th>\n",
       "      <td>0.741114</td>\n",
       "      <td>-0.032373</td>\n",
       "      <td>1.100899</td>\n",
       "      <td>0.720669</td>\n",
       "      <td>0.797529</td>\n",
       "      <td>NaN</td>\n",
       "      <td>3.327839</td>\n",
       "      <td>NaN</td>\n",
       "      <td>6.655678</td>\n",
       "      <td>3.327839</td>\n",
       "      <td>NaN</td>\n",
       "    </tr>\n",
       "    <tr>\n",
       "      <th>1</th>\n",
       "      <td>0.363085</td>\n",
       "      <td>-1.924903</td>\n",
       "      <td>0.169792</td>\n",
       "      <td>-0.727625</td>\n",
       "      <td>1.747441</td>\n",
       "      <td>NaN</td>\n",
       "      <td>-0.372210</td>\n",
       "      <td>NaN</td>\n",
       "      <td>-0.744419</td>\n",
       "      <td>-0.372210</td>\n",
       "      <td>NaN</td>\n",
       "    </tr>\n",
       "    <tr>\n",
       "      <th>2</th>\n",
       "      <td>-1.126732</td>\n",
       "      <td>-1.680391</td>\n",
       "      <td>0.173988</td>\n",
       "      <td>-0.685267</td>\n",
       "      <td>0.092790</td>\n",
       "      <td>NaN</td>\n",
       "      <td>-3.225612</td>\n",
       "      <td>NaN</td>\n",
       "      <td>-6.451223</td>\n",
       "      <td>-3.225612</td>\n",
       "      <td>NaN</td>\n",
       "    </tr>\n",
       "    <tr>\n",
       "      <th>3</th>\n",
       "      <td>1.745525</td>\n",
       "      <td>-0.839345</td>\n",
       "      <td>-0.170223</td>\n",
       "      <td>0.566030</td>\n",
       "      <td>-1.027439</td>\n",
       "      <td>NaN</td>\n",
       "      <td>0.274547</td>\n",
       "      <td>NaN</td>\n",
       "      <td>0.549093</td>\n",
       "      <td>0.274547</td>\n",
       "      <td>NaN</td>\n",
       "    </tr>\n",
       "    <tr>\n",
       "      <th>Row_sumS</th>\n",
       "      <td>41.351819</td>\n",
       "      <td>-107.448276</td>\n",
       "      <td>30.586925</td>\n",
       "      <td>-3.028617</td>\n",
       "      <td>38.647686</td>\n",
       "      <td>0.0</td>\n",
       "      <td>0.109538</td>\n",
       "      <td>NaN</td>\n",
       "      <td>0.219076</td>\n",
       "      <td>0.109538</td>\n",
       "      <td>NaN</td>\n",
       "    </tr>\n",
       "    <tr>\n",
       "      <th>Row_sumSSSS</th>\n",
       "      <td>3.445985</td>\n",
       "      <td>-8.954023</td>\n",
       "      <td>2.548910</td>\n",
       "      <td>-0.252385</td>\n",
       "      <td>3.220641</td>\n",
       "      <td>NaN</td>\n",
       "      <td>0.009128</td>\n",
       "      <td>NaN</td>\n",
       "      <td>0.018256</td>\n",
       "      <td>0.009128</td>\n",
       "      <td>NaN</td>\n",
       "    </tr>\n",
       "    <tr>\n",
       "      <th>Ro</th>\n",
       "      <td>6.891970</td>\n",
       "      <td>-17.908046</td>\n",
       "      <td>5.097821</td>\n",
       "      <td>-0.504770</td>\n",
       "      <td>6.441281</td>\n",
       "      <td>NaN</td>\n",
       "      <td>0.018256</td>\n",
       "      <td>NaN</td>\n",
       "      <td>0.036513</td>\n",
       "      <td>0.018256</td>\n",
       "      <td>NaN</td>\n",
       "    </tr>\n",
       "    <tr>\n",
       "      <th>Row_sum</th>\n",
       "      <td>537.573649</td>\n",
       "      <td>-1396.827583</td>\n",
       "      <td>397.630031</td>\n",
       "      <td>-39.372027</td>\n",
       "      <td>502.419922</td>\n",
       "      <td>0.0</td>\n",
       "      <td>1.423992</td>\n",
       "      <td>0.0</td>\n",
       "      <td>2.847984</td>\n",
       "      <td>1.423992</td>\n",
       "      <td>NaN</td>\n",
       "    </tr>\n",
       "    <tr>\n",
       "      <th>欄總和</th>\n",
       "      <td>134.393412</td>\n",
       "      <td>-349.206896</td>\n",
       "      <td>99.407508</td>\n",
       "      <td>-9.843007</td>\n",
       "      <td>125.604981</td>\n",
       "      <td>0.0</td>\n",
       "      <td>0.355998</td>\n",
       "      <td>NaN</td>\n",
       "      <td>0.711996</td>\n",
       "      <td>0.355998</td>\n",
       "      <td>NaN</td>\n",
       "    </tr>\n",
       "    <tr>\n",
       "      <th>rs</th>\n",
       "      <td>268.786825</td>\n",
       "      <td>-698.413792</td>\n",
       "      <td>198.815016</td>\n",
       "      <td>-19.686014</td>\n",
       "      <td>251.209961</td>\n",
       "      <td>0.0</td>\n",
       "      <td>0.711996</td>\n",
       "      <td>NaN</td>\n",
       "      <td>1.423992</td>\n",
       "      <td>0.711996</td>\n",
       "      <td>NaN</td>\n",
       "    </tr>\n",
       "    <tr>\n",
       "      <th>RowSum</th>\n",
       "      <td>1.722992</td>\n",
       "      <td>-4.477011</td>\n",
       "      <td>1.274455</td>\n",
       "      <td>-0.126192</td>\n",
       "      <td>1.610320</td>\n",
       "      <td>NaN</td>\n",
       "      <td>0.004564</td>\n",
       "      <td>NaN</td>\n",
       "      <td>0.009128</td>\n",
       "      <td>0.004564</td>\n",
       "      <td>NaN</td>\n",
       "    </tr>\n",
       "  </tbody>\n",
       "</table>\n",
       "</div>"
      ],
      "text/plain": [
       "                      A            B           C          D           E  \\\n",
       "0              0.741114    -0.032373    1.100899   0.720669    0.797529   \n",
       "1              0.363085    -1.924903    0.169792  -0.727625    1.747441   \n",
       "2             -1.126732    -1.680391    0.173988  -0.685267    0.092790   \n",
       "3              1.745525    -0.839345   -0.170223   0.566030   -1.027439   \n",
       "Row_sumS      41.351819  -107.448276   30.586925  -3.028617   38.647686   \n",
       "Row_sumSSSS    3.445985    -8.954023    2.548910  -0.252385    3.220641   \n",
       "Ro             6.891970   -17.908046    5.097821  -0.504770    6.441281   \n",
       "Row_sum      537.573649 -1396.827583  397.630031 -39.372027  502.419922   \n",
       "欄總和          134.393412  -349.206896   99.407508  -9.843007  125.604981   \n",
       "rs           268.786825  -698.413792  198.815016 -19.686014  251.209961   \n",
       "RowSum         1.722992    -4.477011    1.274455  -0.126192    1.610320   \n",
       "\n",
       "             Row_sum   Col_sum    t        TT         G  RowSum  \n",
       "0                NaN  3.327839  NaN  6.655678  3.327839     NaN  \n",
       "1                NaN -0.372210  NaN -0.744419 -0.372210     NaN  \n",
       "2                NaN -3.225612  NaN -6.451223 -3.225612     NaN  \n",
       "3                NaN  0.274547  NaN  0.549093  0.274547     NaN  \n",
       "Row_sumS         0.0  0.109538  NaN  0.219076  0.109538     NaN  \n",
       "Row_sumSSSS      NaN  0.009128  NaN  0.018256  0.009128     NaN  \n",
       "Ro               NaN  0.018256  NaN  0.036513  0.018256     NaN  \n",
       "Row_sum          0.0  1.423992  0.0  2.847984  1.423992     NaN  \n",
       "欄總和              0.0  0.355998  NaN  0.711996  0.355998     NaN  \n",
       "rs               0.0  0.711996  NaN  1.423992  0.711996     NaN  \n",
       "RowSum           NaN  0.004564  NaN  0.009128  0.004564     NaN  "
      ]
     },
     "execution_count": 57,
     "metadata": {},
     "output_type": "execute_result"
    }
   ],
   "source": [
    "df"
   ]
  },
  {
   "cell_type": "markdown",
   "metadata": {},
   "source": [
    "### 刪除行"
   ]
  },
  {
   "cell_type": "code",
   "execution_count": 68,
   "metadata": {},
   "outputs": [
    {
     "data": {
      "text/html": [
       "<div>\n",
       "<style scoped>\n",
       "    .dataframe tbody tr th:only-of-type {\n",
       "        vertical-align: middle;\n",
       "    }\n",
       "\n",
       "    .dataframe tbody tr th {\n",
       "        vertical-align: top;\n",
       "    }\n",
       "\n",
       "    .dataframe thead th {\n",
       "        text-align: right;\n",
       "    }\n",
       "</style>\n",
       "<table border=\"1\" class=\"dataframe\">\n",
       "  <thead>\n",
       "    <tr style=\"text-align: right;\">\n",
       "      <th></th>\n",
       "      <th>A</th>\n",
       "      <th>B</th>\n",
       "      <th>C</th>\n",
       "      <th>D</th>\n",
       "      <th>E</th>\n",
       "      <th>Row_sum</th>\n",
       "      <th>Col_sum</th>\n",
       "      <th>t</th>\n",
       "      <th>TT</th>\n",
       "    </tr>\n",
       "  </thead>\n",
       "  <tbody>\n",
       "    <tr>\n",
       "      <th>0</th>\n",
       "      <td>0.741114</td>\n",
       "      <td>-0.032373</td>\n",
       "      <td>1.100899</td>\n",
       "      <td>0.720669</td>\n",
       "      <td>0.797529</td>\n",
       "      <td>NaN</td>\n",
       "      <td>3.327839</td>\n",
       "      <td>NaN</td>\n",
       "      <td>6.655678</td>\n",
       "    </tr>\n",
       "    <tr>\n",
       "      <th>1</th>\n",
       "      <td>0.363085</td>\n",
       "      <td>-1.924903</td>\n",
       "      <td>0.169792</td>\n",
       "      <td>-0.727625</td>\n",
       "      <td>1.747441</td>\n",
       "      <td>NaN</td>\n",
       "      <td>-0.372210</td>\n",
       "      <td>NaN</td>\n",
       "      <td>-0.744419</td>\n",
       "    </tr>\n",
       "    <tr>\n",
       "      <th>2</th>\n",
       "      <td>-1.126732</td>\n",
       "      <td>-1.680391</td>\n",
       "      <td>0.173988</td>\n",
       "      <td>-0.685267</td>\n",
       "      <td>0.092790</td>\n",
       "      <td>NaN</td>\n",
       "      <td>-3.225612</td>\n",
       "      <td>NaN</td>\n",
       "      <td>-6.451223</td>\n",
       "    </tr>\n",
       "    <tr>\n",
       "      <th>3</th>\n",
       "      <td>1.745525</td>\n",
       "      <td>-0.839345</td>\n",
       "      <td>-0.170223</td>\n",
       "      <td>0.566030</td>\n",
       "      <td>-1.027439</td>\n",
       "      <td>NaN</td>\n",
       "      <td>0.274547</td>\n",
       "      <td>NaN</td>\n",
       "      <td>0.549093</td>\n",
       "    </tr>\n",
       "    <tr>\n",
       "      <th>Row_sumS</th>\n",
       "      <td>41.351819</td>\n",
       "      <td>-107.448276</td>\n",
       "      <td>30.586925</td>\n",
       "      <td>-3.028617</td>\n",
       "      <td>38.647686</td>\n",
       "      <td>0.0</td>\n",
       "      <td>0.109538</td>\n",
       "      <td>NaN</td>\n",
       "      <td>0.219076</td>\n",
       "    </tr>\n",
       "    <tr>\n",
       "      <th>Row_sumSSSS</th>\n",
       "      <td>3.445985</td>\n",
       "      <td>-8.954023</td>\n",
       "      <td>2.548910</td>\n",
       "      <td>-0.252385</td>\n",
       "      <td>3.220641</td>\n",
       "      <td>NaN</td>\n",
       "      <td>0.009128</td>\n",
       "      <td>NaN</td>\n",
       "      <td>0.018256</td>\n",
       "    </tr>\n",
       "    <tr>\n",
       "      <th>Ro</th>\n",
       "      <td>6.891970</td>\n",
       "      <td>-17.908046</td>\n",
       "      <td>5.097821</td>\n",
       "      <td>-0.504770</td>\n",
       "      <td>6.441281</td>\n",
       "      <td>NaN</td>\n",
       "      <td>0.018256</td>\n",
       "      <td>NaN</td>\n",
       "      <td>0.036513</td>\n",
       "    </tr>\n",
       "    <tr>\n",
       "      <th>Row_sum</th>\n",
       "      <td>537.573649</td>\n",
       "      <td>-1396.827583</td>\n",
       "      <td>397.630031</td>\n",
       "      <td>-39.372027</td>\n",
       "      <td>502.419922</td>\n",
       "      <td>0.0</td>\n",
       "      <td>1.423992</td>\n",
       "      <td>0.0</td>\n",
       "      <td>2.847984</td>\n",
       "    </tr>\n",
       "    <tr>\n",
       "      <th>欄總和</th>\n",
       "      <td>134.393412</td>\n",
       "      <td>-349.206896</td>\n",
       "      <td>99.407508</td>\n",
       "      <td>-9.843007</td>\n",
       "      <td>125.604981</td>\n",
       "      <td>0.0</td>\n",
       "      <td>0.355998</td>\n",
       "      <td>NaN</td>\n",
       "      <td>0.711996</td>\n",
       "    </tr>\n",
       "    <tr>\n",
       "      <th>rs</th>\n",
       "      <td>268.786825</td>\n",
       "      <td>-698.413792</td>\n",
       "      <td>198.815016</td>\n",
       "      <td>-19.686014</td>\n",
       "      <td>251.209961</td>\n",
       "      <td>0.0</td>\n",
       "      <td>0.711996</td>\n",
       "      <td>NaN</td>\n",
       "      <td>1.423992</td>\n",
       "    </tr>\n",
       "    <tr>\n",
       "      <th>RowSum</th>\n",
       "      <td>1.722992</td>\n",
       "      <td>-4.477011</td>\n",
       "      <td>1.274455</td>\n",
       "      <td>-0.126192</td>\n",
       "      <td>1.610320</td>\n",
       "      <td>NaN</td>\n",
       "      <td>0.004564</td>\n",
       "      <td>NaN</td>\n",
       "      <td>0.009128</td>\n",
       "    </tr>\n",
       "  </tbody>\n",
       "</table>\n",
       "</div>"
      ],
      "text/plain": [
       "                      A            B           C          D           E  \\\n",
       "0              0.741114    -0.032373    1.100899   0.720669    0.797529   \n",
       "1              0.363085    -1.924903    0.169792  -0.727625    1.747441   \n",
       "2             -1.126732    -1.680391    0.173988  -0.685267    0.092790   \n",
       "3              1.745525    -0.839345   -0.170223   0.566030   -1.027439   \n",
       "Row_sumS      41.351819  -107.448276   30.586925  -3.028617   38.647686   \n",
       "Row_sumSSSS    3.445985    -8.954023    2.548910  -0.252385    3.220641   \n",
       "Ro             6.891970   -17.908046    5.097821  -0.504770    6.441281   \n",
       "Row_sum      537.573649 -1396.827583  397.630031 -39.372027  502.419922   \n",
       "欄總和          134.393412  -349.206896   99.407508  -9.843007  125.604981   \n",
       "rs           268.786825  -698.413792  198.815016 -19.686014  251.209961   \n",
       "RowSum         1.722992    -4.477011    1.274455  -0.126192    1.610320   \n",
       "\n",
       "             Row_sum   Col_sum    t        TT  \n",
       "0                NaN  3.327839  NaN  6.655678  \n",
       "1                NaN -0.372210  NaN -0.744419  \n",
       "2                NaN -3.225612  NaN -6.451223  \n",
       "3                NaN  0.274547  NaN  0.549093  \n",
       "Row_sumS         0.0  0.109538  NaN  0.219076  \n",
       "Row_sumSSSS      NaN  0.009128  NaN  0.018256  \n",
       "Ro               NaN  0.018256  NaN  0.036513  \n",
       "Row_sum          0.0  1.423992  0.0  2.847984  \n",
       "欄總和              0.0  0.355998  NaN  0.711996  \n",
       "rs               0.0  0.711996  NaN  1.423992  \n",
       "RowSum           NaN  0.004564  NaN  0.009128  "
      ]
     },
     "execution_count": 68,
     "metadata": {},
     "output_type": "execute_result"
    }
   ],
   "source": [
    "#法一\n",
    "df.drop(['G', 'RowSum'], axis=1)\n",
    "# 第一種方法下刪除column一定要指定axis=1,否則會報錯\n",
    "# KeyError: \"['G'] not found in axis\""
   ]
  },
  {
   "cell_type": "code",
   "execution_count": 66,
   "metadata": {},
   "outputs": [
    {
     "data": {
      "text/html": [
       "<div>\n",
       "<style scoped>\n",
       "    .dataframe tbody tr th:only-of-type {\n",
       "        vertical-align: middle;\n",
       "    }\n",
       "\n",
       "    .dataframe tbody tr th {\n",
       "        vertical-align: top;\n",
       "    }\n",
       "\n",
       "    .dataframe thead th {\n",
       "        text-align: right;\n",
       "    }\n",
       "</style>\n",
       "<table border=\"1\" class=\"dataframe\">\n",
       "  <thead>\n",
       "    <tr style=\"text-align: right;\">\n",
       "      <th></th>\n",
       "      <th>A</th>\n",
       "      <th>B</th>\n",
       "      <th>C</th>\n",
       "      <th>D</th>\n",
       "      <th>E</th>\n",
       "      <th>Row_sum</th>\n",
       "      <th>Col_sum</th>\n",
       "      <th>t</th>\n",
       "      <th>TT</th>\n",
       "    </tr>\n",
       "  </thead>\n",
       "  <tbody>\n",
       "    <tr>\n",
       "      <th>0</th>\n",
       "      <td>0.741114</td>\n",
       "      <td>-0.032373</td>\n",
       "      <td>1.100899</td>\n",
       "      <td>0.720669</td>\n",
       "      <td>0.797529</td>\n",
       "      <td>NaN</td>\n",
       "      <td>3.327839</td>\n",
       "      <td>NaN</td>\n",
       "      <td>6.655678</td>\n",
       "    </tr>\n",
       "    <tr>\n",
       "      <th>1</th>\n",
       "      <td>0.363085</td>\n",
       "      <td>-1.924903</td>\n",
       "      <td>0.169792</td>\n",
       "      <td>-0.727625</td>\n",
       "      <td>1.747441</td>\n",
       "      <td>NaN</td>\n",
       "      <td>-0.372210</td>\n",
       "      <td>NaN</td>\n",
       "      <td>-0.744419</td>\n",
       "    </tr>\n",
       "    <tr>\n",
       "      <th>2</th>\n",
       "      <td>-1.126732</td>\n",
       "      <td>-1.680391</td>\n",
       "      <td>0.173988</td>\n",
       "      <td>-0.685267</td>\n",
       "      <td>0.092790</td>\n",
       "      <td>NaN</td>\n",
       "      <td>-3.225612</td>\n",
       "      <td>NaN</td>\n",
       "      <td>-6.451223</td>\n",
       "    </tr>\n",
       "    <tr>\n",
       "      <th>3</th>\n",
       "      <td>1.745525</td>\n",
       "      <td>-0.839345</td>\n",
       "      <td>-0.170223</td>\n",
       "      <td>0.566030</td>\n",
       "      <td>-1.027439</td>\n",
       "      <td>NaN</td>\n",
       "      <td>0.274547</td>\n",
       "      <td>NaN</td>\n",
       "      <td>0.549093</td>\n",
       "    </tr>\n",
       "    <tr>\n",
       "      <th>Row_sumS</th>\n",
       "      <td>41.351819</td>\n",
       "      <td>-107.448276</td>\n",
       "      <td>30.586925</td>\n",
       "      <td>-3.028617</td>\n",
       "      <td>38.647686</td>\n",
       "      <td>0.0</td>\n",
       "      <td>0.109538</td>\n",
       "      <td>NaN</td>\n",
       "      <td>0.219076</td>\n",
       "    </tr>\n",
       "    <tr>\n",
       "      <th>Row_sumSSSS</th>\n",
       "      <td>3.445985</td>\n",
       "      <td>-8.954023</td>\n",
       "      <td>2.548910</td>\n",
       "      <td>-0.252385</td>\n",
       "      <td>3.220641</td>\n",
       "      <td>NaN</td>\n",
       "      <td>0.009128</td>\n",
       "      <td>NaN</td>\n",
       "      <td>0.018256</td>\n",
       "    </tr>\n",
       "    <tr>\n",
       "      <th>Ro</th>\n",
       "      <td>6.891970</td>\n",
       "      <td>-17.908046</td>\n",
       "      <td>5.097821</td>\n",
       "      <td>-0.504770</td>\n",
       "      <td>6.441281</td>\n",
       "      <td>NaN</td>\n",
       "      <td>0.018256</td>\n",
       "      <td>NaN</td>\n",
       "      <td>0.036513</td>\n",
       "    </tr>\n",
       "    <tr>\n",
       "      <th>Row_sum</th>\n",
       "      <td>537.573649</td>\n",
       "      <td>-1396.827583</td>\n",
       "      <td>397.630031</td>\n",
       "      <td>-39.372027</td>\n",
       "      <td>502.419922</td>\n",
       "      <td>0.0</td>\n",
       "      <td>1.423992</td>\n",
       "      <td>0.0</td>\n",
       "      <td>2.847984</td>\n",
       "    </tr>\n",
       "    <tr>\n",
       "      <th>欄總和</th>\n",
       "      <td>134.393412</td>\n",
       "      <td>-349.206896</td>\n",
       "      <td>99.407508</td>\n",
       "      <td>-9.843007</td>\n",
       "      <td>125.604981</td>\n",
       "      <td>0.0</td>\n",
       "      <td>0.355998</td>\n",
       "      <td>NaN</td>\n",
       "      <td>0.711996</td>\n",
       "    </tr>\n",
       "    <tr>\n",
       "      <th>rs</th>\n",
       "      <td>268.786825</td>\n",
       "      <td>-698.413792</td>\n",
       "      <td>198.815016</td>\n",
       "      <td>-19.686014</td>\n",
       "      <td>251.209961</td>\n",
       "      <td>0.0</td>\n",
       "      <td>0.711996</td>\n",
       "      <td>NaN</td>\n",
       "      <td>1.423992</td>\n",
       "    </tr>\n",
       "    <tr>\n",
       "      <th>RowSum</th>\n",
       "      <td>1.722992</td>\n",
       "      <td>-4.477011</td>\n",
       "      <td>1.274455</td>\n",
       "      <td>-0.126192</td>\n",
       "      <td>1.610320</td>\n",
       "      <td>NaN</td>\n",
       "      <td>0.004564</td>\n",
       "      <td>NaN</td>\n",
       "      <td>0.009128</td>\n",
       "    </tr>\n",
       "  </tbody>\n",
       "</table>\n",
       "</div>"
      ],
      "text/plain": [
       "                      A            B           C          D           E  \\\n",
       "0              0.741114    -0.032373    1.100899   0.720669    0.797529   \n",
       "1              0.363085    -1.924903    0.169792  -0.727625    1.747441   \n",
       "2             -1.126732    -1.680391    0.173988  -0.685267    0.092790   \n",
       "3              1.745525    -0.839345   -0.170223   0.566030   -1.027439   \n",
       "Row_sumS      41.351819  -107.448276   30.586925  -3.028617   38.647686   \n",
       "Row_sumSSSS    3.445985    -8.954023    2.548910  -0.252385    3.220641   \n",
       "Ro             6.891970   -17.908046    5.097821  -0.504770    6.441281   \n",
       "Row_sum      537.573649 -1396.827583  397.630031 -39.372027  502.419922   \n",
       "欄總和          134.393412  -349.206896   99.407508  -9.843007  125.604981   \n",
       "rs           268.786825  -698.413792  198.815016 -19.686014  251.209961   \n",
       "RowSum         1.722992    -4.477011    1.274455  -0.126192    1.610320   \n",
       "\n",
       "             Row_sum   Col_sum    t        TT  \n",
       "0                NaN  3.327839  NaN  6.655678  \n",
       "1                NaN -0.372210  NaN -0.744419  \n",
       "2                NaN -3.225612  NaN -6.451223  \n",
       "3                NaN  0.274547  NaN  0.549093  \n",
       "Row_sumS         0.0  0.109538  NaN  0.219076  \n",
       "Row_sumSSSS      NaN  0.009128  NaN  0.018256  \n",
       "Ro               NaN  0.018256  NaN  0.036513  \n",
       "Row_sum          0.0  1.423992  0.0  2.847984  \n",
       "欄總和              0.0  0.355998  NaN  0.711996  \n",
       "rs               0.0  0.711996  NaN  1.423992  \n",
       "RowSum           NaN  0.004564  NaN  0.009128  "
      ]
     },
     "execution_count": 66,
     "metadata": {},
     "output_type": "execute_result"
    }
   ],
   "source": [
    "#法二\n",
    "df.drop(columns=['G', 'RowSum'])"
   ]
  },
  {
   "cell_type": "markdown",
   "metadata": {},
   "source": [
    "### 刪除列"
   ]
  },
  {
   "cell_type": "code",
   "execution_count": 74,
   "metadata": {},
   "outputs": [
    {
     "data": {
      "text/html": [
       "<div>\n",
       "<style scoped>\n",
       "    .dataframe tbody tr th:only-of-type {\n",
       "        vertical-align: middle;\n",
       "    }\n",
       "\n",
       "    .dataframe tbody tr th {\n",
       "        vertical-align: top;\n",
       "    }\n",
       "\n",
       "    .dataframe thead th {\n",
       "        text-align: right;\n",
       "    }\n",
       "</style>\n",
       "<table border=\"1\" class=\"dataframe\">\n",
       "  <thead>\n",
       "    <tr style=\"text-align: right;\">\n",
       "      <th></th>\n",
       "      <th>A</th>\n",
       "      <th>B</th>\n",
       "      <th>C</th>\n",
       "      <th>D</th>\n",
       "      <th>E</th>\n",
       "      <th>Row_sum</th>\n",
       "      <th>Col_sum</th>\n",
       "      <th>t</th>\n",
       "      <th>TT</th>\n",
       "      <th>G</th>\n",
       "      <th>RowSum</th>\n",
       "    </tr>\n",
       "  </thead>\n",
       "  <tbody>\n",
       "    <tr>\n",
       "      <th>0</th>\n",
       "      <td>0.741114</td>\n",
       "      <td>-0.032373</td>\n",
       "      <td>1.100899</td>\n",
       "      <td>0.720669</td>\n",
       "      <td>0.797529</td>\n",
       "      <td>NaN</td>\n",
       "      <td>3.327839</td>\n",
       "      <td>NaN</td>\n",
       "      <td>6.655678</td>\n",
       "      <td>3.327839</td>\n",
       "      <td>NaN</td>\n",
       "    </tr>\n",
       "    <tr>\n",
       "      <th>1</th>\n",
       "      <td>0.363085</td>\n",
       "      <td>-1.924903</td>\n",
       "      <td>0.169792</td>\n",
       "      <td>-0.727625</td>\n",
       "      <td>1.747441</td>\n",
       "      <td>NaN</td>\n",
       "      <td>-0.372210</td>\n",
       "      <td>NaN</td>\n",
       "      <td>-0.744419</td>\n",
       "      <td>-0.372210</td>\n",
       "      <td>NaN</td>\n",
       "    </tr>\n",
       "    <tr>\n",
       "      <th>2</th>\n",
       "      <td>-1.126732</td>\n",
       "      <td>-1.680391</td>\n",
       "      <td>0.173988</td>\n",
       "      <td>-0.685267</td>\n",
       "      <td>0.092790</td>\n",
       "      <td>NaN</td>\n",
       "      <td>-3.225612</td>\n",
       "      <td>NaN</td>\n",
       "      <td>-6.451223</td>\n",
       "      <td>-3.225612</td>\n",
       "      <td>NaN</td>\n",
       "    </tr>\n",
       "    <tr>\n",
       "      <th>3</th>\n",
       "      <td>1.745525</td>\n",
       "      <td>-0.839345</td>\n",
       "      <td>-0.170223</td>\n",
       "      <td>0.566030</td>\n",
       "      <td>-1.027439</td>\n",
       "      <td>NaN</td>\n",
       "      <td>0.274547</td>\n",
       "      <td>NaN</td>\n",
       "      <td>0.549093</td>\n",
       "      <td>0.274547</td>\n",
       "      <td>NaN</td>\n",
       "    </tr>\n",
       "    <tr>\n",
       "      <th>Row_sumS</th>\n",
       "      <td>41.351819</td>\n",
       "      <td>-107.448276</td>\n",
       "      <td>30.586925</td>\n",
       "      <td>-3.028617</td>\n",
       "      <td>38.647686</td>\n",
       "      <td>0.0</td>\n",
       "      <td>0.109538</td>\n",
       "      <td>NaN</td>\n",
       "      <td>0.219076</td>\n",
       "      <td>0.109538</td>\n",
       "      <td>NaN</td>\n",
       "    </tr>\n",
       "    <tr>\n",
       "      <th>Row_sumSSSS</th>\n",
       "      <td>3.445985</td>\n",
       "      <td>-8.954023</td>\n",
       "      <td>2.548910</td>\n",
       "      <td>-0.252385</td>\n",
       "      <td>3.220641</td>\n",
       "      <td>NaN</td>\n",
       "      <td>0.009128</td>\n",
       "      <td>NaN</td>\n",
       "      <td>0.018256</td>\n",
       "      <td>0.009128</td>\n",
       "      <td>NaN</td>\n",
       "    </tr>\n",
       "    <tr>\n",
       "      <th>Ro</th>\n",
       "      <td>6.891970</td>\n",
       "      <td>-17.908046</td>\n",
       "      <td>5.097821</td>\n",
       "      <td>-0.504770</td>\n",
       "      <td>6.441281</td>\n",
       "      <td>NaN</td>\n",
       "      <td>0.018256</td>\n",
       "      <td>NaN</td>\n",
       "      <td>0.036513</td>\n",
       "      <td>0.018256</td>\n",
       "      <td>NaN</td>\n",
       "    </tr>\n",
       "    <tr>\n",
       "      <th>Row_sum</th>\n",
       "      <td>537.573649</td>\n",
       "      <td>-1396.827583</td>\n",
       "      <td>397.630031</td>\n",
       "      <td>-39.372027</td>\n",
       "      <td>502.419922</td>\n",
       "      <td>0.0</td>\n",
       "      <td>1.423992</td>\n",
       "      <td>0.0</td>\n",
       "      <td>2.847984</td>\n",
       "      <td>1.423992</td>\n",
       "      <td>NaN</td>\n",
       "    </tr>\n",
       "    <tr>\n",
       "      <th>欄總和</th>\n",
       "      <td>134.393412</td>\n",
       "      <td>-349.206896</td>\n",
       "      <td>99.407508</td>\n",
       "      <td>-9.843007</td>\n",
       "      <td>125.604981</td>\n",
       "      <td>0.0</td>\n",
       "      <td>0.355998</td>\n",
       "      <td>NaN</td>\n",
       "      <td>0.711996</td>\n",
       "      <td>0.355998</td>\n",
       "      <td>NaN</td>\n",
       "    </tr>\n",
       "  </tbody>\n",
       "</table>\n",
       "</div>"
      ],
      "text/plain": [
       "                      A            B           C          D           E  \\\n",
       "0              0.741114    -0.032373    1.100899   0.720669    0.797529   \n",
       "1              0.363085    -1.924903    0.169792  -0.727625    1.747441   \n",
       "2             -1.126732    -1.680391    0.173988  -0.685267    0.092790   \n",
       "3              1.745525    -0.839345   -0.170223   0.566030   -1.027439   \n",
       "Row_sumS      41.351819  -107.448276   30.586925  -3.028617   38.647686   \n",
       "Row_sumSSSS    3.445985    -8.954023    2.548910  -0.252385    3.220641   \n",
       "Ro             6.891970   -17.908046    5.097821  -0.504770    6.441281   \n",
       "Row_sum      537.573649 -1396.827583  397.630031 -39.372027  502.419922   \n",
       "欄總和          134.393412  -349.206896   99.407508  -9.843007  125.604981   \n",
       "\n",
       "             Row_sum   Col_sum    t        TT         G  RowSum  \n",
       "0                NaN  3.327839  NaN  6.655678  3.327839     NaN  \n",
       "1                NaN -0.372210  NaN -0.744419 -0.372210     NaN  \n",
       "2                NaN -3.225612  NaN -6.451223 -3.225612     NaN  \n",
       "3                NaN  0.274547  NaN  0.549093  0.274547     NaN  \n",
       "Row_sumS         0.0  0.109538  NaN  0.219076  0.109538     NaN  \n",
       "Row_sumSSSS      NaN  0.009128  NaN  0.018256  0.009128     NaN  \n",
       "Ro               NaN  0.018256  NaN  0.036513  0.018256     NaN  \n",
       "Row_sum          0.0  1.423992  0.0  2.847984  1.423992     NaN  \n",
       "欄總和              0.0  0.355998  NaN  0.711996  0.355998     NaN  "
      ]
     },
     "execution_count": 74,
     "metadata": {},
     "output_type": "execute_result"
    }
   ],
   "source": [
    "#法一\n",
    "df.drop(['rs', 'RowSum'])"
   ]
  },
  {
   "cell_type": "code",
   "execution_count": 77,
   "metadata": {},
   "outputs": [
    {
     "data": {
      "text/html": [
       "<div>\n",
       "<style scoped>\n",
       "    .dataframe tbody tr th:only-of-type {\n",
       "        vertical-align: middle;\n",
       "    }\n",
       "\n",
       "    .dataframe tbody tr th {\n",
       "        vertical-align: top;\n",
       "    }\n",
       "\n",
       "    .dataframe thead th {\n",
       "        text-align: right;\n",
       "    }\n",
       "</style>\n",
       "<table border=\"1\" class=\"dataframe\">\n",
       "  <thead>\n",
       "    <tr style=\"text-align: right;\">\n",
       "      <th></th>\n",
       "      <th>A</th>\n",
       "      <th>B</th>\n",
       "      <th>C</th>\n",
       "      <th>D</th>\n",
       "      <th>E</th>\n",
       "      <th>Row_sum</th>\n",
       "      <th>Col_sum</th>\n",
       "      <th>t</th>\n",
       "      <th>TT</th>\n",
       "      <th>G</th>\n",
       "      <th>RowSum</th>\n",
       "    </tr>\n",
       "  </thead>\n",
       "  <tbody>\n",
       "    <tr>\n",
       "      <th>0</th>\n",
       "      <td>0.741114</td>\n",
       "      <td>-0.032373</td>\n",
       "      <td>1.100899</td>\n",
       "      <td>0.720669</td>\n",
       "      <td>0.797529</td>\n",
       "      <td>NaN</td>\n",
       "      <td>3.327839</td>\n",
       "      <td>NaN</td>\n",
       "      <td>6.655678</td>\n",
       "      <td>3.327839</td>\n",
       "      <td>NaN</td>\n",
       "    </tr>\n",
       "    <tr>\n",
       "      <th>1</th>\n",
       "      <td>0.363085</td>\n",
       "      <td>-1.924903</td>\n",
       "      <td>0.169792</td>\n",
       "      <td>-0.727625</td>\n",
       "      <td>1.747441</td>\n",
       "      <td>NaN</td>\n",
       "      <td>-0.372210</td>\n",
       "      <td>NaN</td>\n",
       "      <td>-0.744419</td>\n",
       "      <td>-0.372210</td>\n",
       "      <td>NaN</td>\n",
       "    </tr>\n",
       "    <tr>\n",
       "      <th>2</th>\n",
       "      <td>-1.126732</td>\n",
       "      <td>-1.680391</td>\n",
       "      <td>0.173988</td>\n",
       "      <td>-0.685267</td>\n",
       "      <td>0.092790</td>\n",
       "      <td>NaN</td>\n",
       "      <td>-3.225612</td>\n",
       "      <td>NaN</td>\n",
       "      <td>-6.451223</td>\n",
       "      <td>-3.225612</td>\n",
       "      <td>NaN</td>\n",
       "    </tr>\n",
       "    <tr>\n",
       "      <th>3</th>\n",
       "      <td>1.745525</td>\n",
       "      <td>-0.839345</td>\n",
       "      <td>-0.170223</td>\n",
       "      <td>0.566030</td>\n",
       "      <td>-1.027439</td>\n",
       "      <td>NaN</td>\n",
       "      <td>0.274547</td>\n",
       "      <td>NaN</td>\n",
       "      <td>0.549093</td>\n",
       "      <td>0.274547</td>\n",
       "      <td>NaN</td>\n",
       "    </tr>\n",
       "    <tr>\n",
       "      <th>Row_sumS</th>\n",
       "      <td>41.351819</td>\n",
       "      <td>-107.448276</td>\n",
       "      <td>30.586925</td>\n",
       "      <td>-3.028617</td>\n",
       "      <td>38.647686</td>\n",
       "      <td>0.0</td>\n",
       "      <td>0.109538</td>\n",
       "      <td>NaN</td>\n",
       "      <td>0.219076</td>\n",
       "      <td>0.109538</td>\n",
       "      <td>NaN</td>\n",
       "    </tr>\n",
       "    <tr>\n",
       "      <th>Row_sumSSSS</th>\n",
       "      <td>3.445985</td>\n",
       "      <td>-8.954023</td>\n",
       "      <td>2.548910</td>\n",
       "      <td>-0.252385</td>\n",
       "      <td>3.220641</td>\n",
       "      <td>NaN</td>\n",
       "      <td>0.009128</td>\n",
       "      <td>NaN</td>\n",
       "      <td>0.018256</td>\n",
       "      <td>0.009128</td>\n",
       "      <td>NaN</td>\n",
       "    </tr>\n",
       "    <tr>\n",
       "      <th>Ro</th>\n",
       "      <td>6.891970</td>\n",
       "      <td>-17.908046</td>\n",
       "      <td>5.097821</td>\n",
       "      <td>-0.504770</td>\n",
       "      <td>6.441281</td>\n",
       "      <td>NaN</td>\n",
       "      <td>0.018256</td>\n",
       "      <td>NaN</td>\n",
       "      <td>0.036513</td>\n",
       "      <td>0.018256</td>\n",
       "      <td>NaN</td>\n",
       "    </tr>\n",
       "    <tr>\n",
       "      <th>Row_sum</th>\n",
       "      <td>537.573649</td>\n",
       "      <td>-1396.827583</td>\n",
       "      <td>397.630031</td>\n",
       "      <td>-39.372027</td>\n",
       "      <td>502.419922</td>\n",
       "      <td>0.0</td>\n",
       "      <td>1.423992</td>\n",
       "      <td>0.0</td>\n",
       "      <td>2.847984</td>\n",
       "      <td>1.423992</td>\n",
       "      <td>NaN</td>\n",
       "    </tr>\n",
       "    <tr>\n",
       "      <th>欄總和</th>\n",
       "      <td>134.393412</td>\n",
       "      <td>-349.206896</td>\n",
       "      <td>99.407508</td>\n",
       "      <td>-9.843007</td>\n",
       "      <td>125.604981</td>\n",
       "      <td>0.0</td>\n",
       "      <td>0.355998</td>\n",
       "      <td>NaN</td>\n",
       "      <td>0.711996</td>\n",
       "      <td>0.355998</td>\n",
       "      <td>NaN</td>\n",
       "    </tr>\n",
       "  </tbody>\n",
       "</table>\n",
       "</div>"
      ],
      "text/plain": [
       "                      A            B           C          D           E  \\\n",
       "0              0.741114    -0.032373    1.100899   0.720669    0.797529   \n",
       "1              0.363085    -1.924903    0.169792  -0.727625    1.747441   \n",
       "2             -1.126732    -1.680391    0.173988  -0.685267    0.092790   \n",
       "3              1.745525    -0.839345   -0.170223   0.566030   -1.027439   \n",
       "Row_sumS      41.351819  -107.448276   30.586925  -3.028617   38.647686   \n",
       "Row_sumSSSS    3.445985    -8.954023    2.548910  -0.252385    3.220641   \n",
       "Ro             6.891970   -17.908046    5.097821  -0.504770    6.441281   \n",
       "Row_sum      537.573649 -1396.827583  397.630031 -39.372027  502.419922   \n",
       "欄總和          134.393412  -349.206896   99.407508  -9.843007  125.604981   \n",
       "\n",
       "             Row_sum   Col_sum    t        TT         G  RowSum  \n",
       "0                NaN  3.327839  NaN  6.655678  3.327839     NaN  \n",
       "1                NaN -0.372210  NaN -0.744419 -0.372210     NaN  \n",
       "2                NaN -3.225612  NaN -6.451223 -3.225612     NaN  \n",
       "3                NaN  0.274547  NaN  0.549093  0.274547     NaN  \n",
       "Row_sumS         0.0  0.109538  NaN  0.219076  0.109538     NaN  \n",
       "Row_sumSSSS      NaN  0.009128  NaN  0.018256  0.009128     NaN  \n",
       "Ro               NaN  0.018256  NaN  0.036513  0.018256     NaN  \n",
       "Row_sum          0.0  1.423992  0.0  2.847984  1.423992     NaN  \n",
       "欄總和              0.0  0.355998  NaN  0.711996  0.355998     NaN  "
      ]
     },
     "execution_count": 77,
     "metadata": {},
     "output_type": "execute_result"
    }
   ],
   "source": [
    "#法二\n",
    "df.drop(index=['rs', 'RowSum'])"
   ]
  },
  {
   "cell_type": "code",
   "execution_count": null,
   "metadata": {},
   "outputs": [],
   "source": []
  },
  {
   "cell_type": "markdown",
   "metadata": {},
   "source": [
    "# pivot_table : pandas的樞紐分析"
   ]
  },
  {
   "cell_type": "markdown",
   "metadata": {},
   "source": [
    "### pivot_table vs. groupby\n",
    "你應該理解了pivot_table的用法？是不是在哪見過？對，Groupby！"
   ]
  },
  {
   "cell_type": "code",
   "execution_count": null,
   "metadata": {},
   "outputs": [],
   "source": [
    "df.pivot_table(index=[字段1],values=[字段2],aggfunc=[函数],fill_value=0)\n",
    "df.groupby([字段1])[字段2].agg(函数).fillna(0)"
   ]
  },
  {
   "cell_type": "markdown",
   "metadata": {},
   "source": [
    "上面兩個函數完全等價，pivot_table彷彿是加入了columns與margin功能的groupby函數，比groupby更加靈活。"
   ]
  },
  {
   "cell_type": "code",
   "execution_count": null,
   "metadata": {},
   "outputs": [],
   "source": [
    "df[ (df['Year']==2019) ].pivot_table(    #前面可以加篩選(excel樞紐的左上)\n",
    "               columns = ['LargeCat'],   #欄變數(excel樞紐的右上)\n",
    "               index = ['Department','Country'],  #列變數(excel樞紐的左下)\n",
    "               values = ['Quantity Shipped','Foreign Extended Price'],\n",
    "               aggfunc=np.sum,\n",
    "               margins=True,  #添加所有行/列小計/總計\n",
    "               margins_name='Total', #當margins=True時，更改欄位名稱，默認為All\n",
    "               fill_value=0,  #用\"某值\"填滿遺漏值\n",
    "               dropna=True)  #丟棄NA值"
   ]
  },
  {
   "cell_type": "markdown",
   "metadata": {},
   "source": [
    "# 資料視覺化\n",
    "Python 視覺化的基石是 Matplotlib 套件的 pyplot，她的繪圖哲學是將圖形的元素，例如座標軸、線、點或者文字用不同的方法一一拼湊起來，<br>\n",
    "優點是繪圖的彈性非常高，缺點則是對於初學者的門檻略高。為了解決這個問題，pandas 套件將 matplotlib.pyplot 的基礎圖形包裝起來成為一個方法，<br>\n",
    "讓使用者只要呼叫 df.plot() 就能夠便利地繪圖，可以選擇的圖形種類相當豐富，只要指定 kind = 參數即可：<br>\n",
    "* 'line': 線圖（預設）<br>\n",
    "* 'bar': 垂直長條圖<br>\n",
    "* 'barh': 水平長條圖<br>\n",
    "* 'hist': 直方圖<br>\n",
    "* 'box': 盒鬚圖<br>\n",
    "* 'scatter': 散佈圖<br>\n",
    "* 'hexbin': hexbin plot<br>\n",
    "* …etc.<br>\n",
    "在作圖之前我們載入 matplotlib.pyplot 與 seaborn，前者是繪圖的基礎套件，後者是讓圖形的樣式美觀："
   ]
  },
  {
   "cell_type": "code",
   "execution_count": 21,
   "metadata": {},
   "outputs": [],
   "source": [
    "import matplotlib.pyplot as plt\n",
    "import seaborn as sns"
   ]
  },
  {
   "cell_type": "markdown",
   "metadata": {},
   "source": [
    "### 視覺化時間與數值：線圖"
   ]
  },
  {
   "cell_type": "code",
   "execution_count": 28,
   "metadata": {
    "scrolled": true
   },
   "outputs": [
    {
     "ename": "NameError",
     "evalue": "name 'plt' is not defined",
     "output_type": "error",
     "traceback": [
      "\u001b[1;31m---------------------------------------------------------------------------\u001b[0m",
      "\u001b[1;31mNameError\u001b[0m                                 Traceback (most recent call last)",
      "\u001b[1;32m<ipython-input-28-767cfec89d15>\u001b[0m in \u001b[0;36m<module>\u001b[1;34m\u001b[0m\n\u001b[0;32m      3\u001b[0m \u001b[0mgapminder_twn\u001b[0m\u001b[1;33m[\u001b[0m\u001b[1;33m[\u001b[0m\u001b[1;34m'year'\u001b[0m\u001b[1;33m,\u001b[0m \u001b[1;34m'pop'\u001b[0m\u001b[1;33m]\u001b[0m\u001b[1;33m]\u001b[0m\u001b[1;33m.\u001b[0m\u001b[0mplot\u001b[0m\u001b[1;33m(\u001b[0m\u001b[0mkind\u001b[0m \u001b[1;33m=\u001b[0m \u001b[1;34m'line'\u001b[0m\u001b[1;33m,\u001b[0m \u001b[0mx\u001b[0m \u001b[1;33m=\u001b[0m \u001b[1;34m'year'\u001b[0m\u001b[1;33m,\u001b[0m \u001b[0my\u001b[0m \u001b[1;33m=\u001b[0m \u001b[1;34m'pop'\u001b[0m\u001b[1;33m,\u001b[0m \u001b[0mtitle\u001b[0m \u001b[1;33m=\u001b[0m \u001b[1;34m'Pop vs. Year in Taiwan'\u001b[0m\u001b[1;33m,\u001b[0m \u001b[0mlegend\u001b[0m \u001b[1;33m=\u001b[0m \u001b[1;32mFalse\u001b[0m\u001b[1;33m)\u001b[0m\u001b[1;33m\u001b[0m\u001b[1;33m\u001b[0m\u001b[0m\n\u001b[0;32m      4\u001b[0m \u001b[1;33m\u001b[0m\u001b[0m\n\u001b[1;32m----> 5\u001b[1;33m \u001b[0mplt\u001b[0m\u001b[1;33m.\u001b[0m\u001b[0mshow\u001b[0m\u001b[1;33m(\u001b[0m\u001b[1;33m)\u001b[0m\u001b[1;33m\u001b[0m\u001b[1;33m\u001b[0m\u001b[0m\n\u001b[0m",
      "\u001b[1;31mNameError\u001b[0m: name 'plt' is not defined"
     ]
    },
    {
     "data": {
      "image/png": "[encoded data removed]",
      "text/plain": [
       "<Figure size 432x288 with 1 Axes>"
      ]
     },
     "metadata": {
      "needs_background": "light"
     },
     "output_type": "display_data"
    }
   ],
   "source": [
    "#將臺灣資料篩選出來並繪製從 1952 年至 2007 年的人口變化：\n",
    "gapminder_twn = gapminder[gapminder['country'] == 'Taiwan']\n",
    "gapminder_twn[['year', 'pop']].plot(kind = 'line', x = 'year', y = 'pop', title = 'Pop vs. Year in Taiwan', legend = False)\n",
    "\n",
    "plt.show()"
   ]
  },
  {
   "cell_type": "code",
   "execution_count": 23,
   "metadata": {},
   "outputs": [
    {
     "data": {
      "image/png": "[encoded data removed]",
      "text/plain": [
       "<Figure size 432x288 with 1 Axes>"
      ]
     },
     "metadata": {
      "needs_background": "light"
     },
     "output_type": "display_data"
    }
   ],
   "source": [
    "#或者將中國、日本、南韓與臺灣資料篩選出來並繪製從 1952 年至 2007 年的平均壽命變化：\n",
    "gapminder_northasia = gapminder.loc[gapminder['country'].isin(['China', 'Japan', 'Korea, Rep.', 'Taiwan'])]\n",
    "gapminder_northasia_pivot = gapminder_northasia.pivot_table(values = 'lifeExp', columns = 'country', index = 'year')\n",
    "gapminder_northasia_pivot.plot(title = 'Life Expectancies in North Asia')\n",
    "plt.show()"
   ]
  },
  {
   "cell_type": "markdown",
   "metadata": {},
   "source": [
    "### 視覺化數值的分佈：直方圖\n",
    "* 直方圖histogram：以長條狀的圖表達數量的統計圖型，長條間有連在一起\n",
    "* 連續資料就是像年紀啦身高啦這種，有連續性的資料，就要用直方圖表達（黏在一起黏在一起\n",
    "* 直方的寬度有意義"
   ]
  },
  {
   "cell_type": "code",
   "execution_count": 24,
   "metadata": {},
   "outputs": [
    {
     "data": {
      "image/png": "[encoded data removed]",
      "text/plain": [
       "<Figure size 432x288 with 4 Axes>"
      ]
     },
     "metadata": {
      "needs_background": "light"
     },
     "output_type": "display_data"
    }
   ],
   "source": [
    "#將 2007 年資料篩選出來並以三個子圖（subplots）繪製人口數、平均壽命與人均所得的直方圖：\n",
    "gapminder_2007 = gapminder[gapminder['year'] == 2007]\n",
    "gapminder_2007[['pop', 'gdpPercap', 'lifeExp']].hist(bins = 15)\n",
    "plt.show()"
   ]
  },
  {
   "cell_type": "code",
   "execution_count": 25,
   "metadata": {},
   "outputs": [
    {
     "data": {
      "image/png": "[encoded data removed]",
      "text/plain": [
       "<Figure size 432x288 with 1 Axes>"
      ]
     },
     "metadata": {
      "needs_background": "light"
     },
     "output_type": "display_data"
    }
   ],
   "source": [
    "#或者繪製人均所得的直方圖：\n",
    "gapminder_2007[['gdpPercap']].plot(kind = 'hist', title = 'GDP Per Capita in 2007', legend = False, bins = 15)\n",
    "plt.show()"
   ]
  },
  {
   "cell_type": "code",
   "execution_count": 26,
   "metadata": {},
   "outputs": [
    {
     "data": {
      "image/png": "[encoded data removed]",
      "text/plain": [
       "<Figure size 432x288 with 1 Axes>"
      ]
     },
     "metadata": {
      "needs_background": "light"
     },
     "output_type": "display_data"
    }
   ],
   "source": [
    "#或者將人均所得直方圖依照不同洲別以不同顏色繪製：\n",
    "gapminder_continent_pivot = gapminder_2007.pivot_table(values = 'gdpPercap', columns = 'continent', index = 'country')\n",
    "gapminder_continent_pivot.plot(kind = 'hist', alpha=0.5, bins = 20, title = 'GDP Per Capita by Continent')\n",
    "plt.show()"
   ]
  },
  {
   "cell_type": "markdown",
   "metadata": {},
   "source": [
    "### 盒鬚圖"
   ]
  },
  {
   "cell_type": "code",
   "execution_count": 27,
   "metadata": {},
   "outputs": [
    {
     "data": {
      "image/png": "[encoded data removed]",
      "text/plain": [
       "<Figure size 432x288 with 1 Axes>"
      ]
     },
     "metadata": {
      "needs_background": "light"
     },
     "output_type": "display_data"
    }
   ],
   "source": [
    "#或者依照不同洲別，將人均所得以盒鬚圖繪製：\n",
    "gapminder_continent_pivot.plot(kind = 'box', title = 'GDP Per Capita by Continent')\n",
    "plt.show()"
   ]
  },
  {
   "cell_type": "markdown",
   "metadata": {},
   "source": [
    "### 視覺化相關性：散佈圖、hexbin plot"
   ]
  },
  {
   "cell_type": "code",
   "execution_count": 28,
   "metadata": {
    "scrolled": true
   },
   "outputs": [
    {
     "data": {
      "image/png": "[encoded data removed]",
      "text/plain": [
       "<Figure size 432x288 with 1 Axes>"
      ]
     },
     "metadata": {
      "needs_background": "light"
     },
     "output_type": "display_data"
    }
   ],
   "source": [
    "#繪製 2007 年各國人均所得與平均壽命的散佈圖：\n",
    "gapminder_2007.plot(kind = 'scatter', x = 'gdpPercap', y = 'lifeExp', title = 'Wealth vs. Health in 2007')\n",
    "plt.show()"
   ]
  },
  {
   "cell_type": "code",
   "execution_count": 29,
   "metadata": {},
   "outputs": [
    {
     "data": {
      "image/png": "[encoded data removed]",
      "text/plain": [
       "<Figure size 432x288 with 2 Axes>"
      ]
     },
     "metadata": {
      "needs_background": "light"
     },
     "output_type": "display_data"
    }
   ],
   "source": [
    "#或改以 hexbin plot 呈現：\n",
    "gapminder_2007.plot(kind = 'hexbin', x = 'gdpPercap', y = 'lifeExp', title = 'Wealth vs. Health in 2007', gridsize = 20)\n",
    "plt.show()"
   ]
  },
  {
   "cell_type": "markdown",
   "metadata": {},
   "source": [
    "### 視覺化排名：直條圖(長條圖)\n",
    "* 直條圖bar chart ：以長條狀的圖表達數量的統計圖型，長條間沒有連在一起。\n",
    "* 直條圖通常用來表示不連續資料，每一條長條之間沒有什麼連續、順序性\n",
    "* 直條的寬度不具意義"
   ]
  },
  {
   "cell_type": "code",
   "execution_count": 30,
   "metadata": {},
   "outputs": [
    {
     "data": {
      "image/png": "[encoded data removed]",
      "text/plain": [
       "<Figure size 432x288 with 1 Axes>"
      ]
     },
     "metadata": {
      "needs_background": "light"
     },
     "output_type": "display_data"
    }
   ],
   "source": [
    "#繪製 2007 年各洲的人口總數：\n",
    "summarized_df = gapminder[gapminder['year'] == 2007].groupby(by = 'continent')['pop'].sum()\n",
    "summarized_df.plot(kind = 'bar', rot = 0)\n",
    "plt.show()"
   ]
  },
  {
   "cell_type": "code",
   "execution_count": 31,
   "metadata": {
    "scrolled": false
   },
   "outputs": [
    {
     "data": {
      "image/png": "[encoded data removed]",
      "text/plain": [
       "<Figure size 432x288 with 2 Axes>"
      ]
     },
     "metadata": {
      "needs_background": "light"
     },
     "output_type": "display_data"
    }
   ],
   "source": [
    "#或者繪製 2007 年各洲平均壽命、平均財富：\n",
    "summarized_df = gapminder[gapminder['year'] == 2007].groupby(by = 'continent')[['lifeExp', 'gdpPercap']].mean()\n",
    "summarized_df.plot(kind = 'barh', subplots = True, layout = (1, 2), sharex = False, sharey = True, legend = False)\n",
    "plt.show()"
   ]
  }
 ],
 "metadata": {
  "kernelspec": {
   "display_name": "Python 3",
   "language": "python",
   "name": "python3"
  },
  "language_info": {
   "codemirror_mode": {
    "name": "ipython",
    "version": 3
   },
   "file_extension": ".py",
   "mimetype": "text/x-python",
   "name": "python",
   "nbconvert_exporter": "python",
   "pygments_lexer": "ipython3",
   "version": "3.7.1"
  }
 },
 "nbformat": 4,
 "nbformat_minor": 2
}
