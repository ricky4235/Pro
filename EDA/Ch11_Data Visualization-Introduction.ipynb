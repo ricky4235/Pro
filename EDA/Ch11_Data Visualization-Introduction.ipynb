{
 "cells": [
  {
   "cell_type": "markdown",
   "metadata": {},
   "source": [
    "https://medium.com/jameslearningnote/%E8%B3%87%E6%96%99%E5%88%86%E6%9E%90-%E6%A9%9F%E5%99%A8%E5%AD%B8%E7%BF%92-%E7%AC%AC2-5%E8%AC%9B-%E8%B3%87%E6%96%99%E8%A6%96%E8%A6%BA%E5%8C%96-matplotlib-seaborn-plotly-75cd353d6d3f"
   ]
  },
  {
   "cell_type": "markdown",
   "metadata": {},
   "source": [
    "# Python資料視覺化主要有三大套件：\n",
    "1. Matplotlib\n",
    "2. Seaborn\n",
    "3. Plotly\n",
    "\n",
    "其他還有像是Bokeh, ggplot…十幾種Python視覺化套件，以及更進階的BI Tool(Tableau, Spotfire, MicroStrategy)。<br>\n",
    "如果你去大公司上班，ex: 台積電, Yahoo…都會購買這些要價不菲的BI Tool，對於資料處理&視覺化功能有更豐富的運用。<br>\n",
    "    但對於一般使用者只要先掌握上述三個就夠了。今天就要來介紹一下這三種視覺化套件<br>"
   ]
  },
  {
   "cell_type": "markdown",
   "metadata": {},
   "source": [
    "# 1. Matplotlib(之後簡稱Matplot)\n",
    "優點：\n",
    "* 相較於其他視覺化套件，matplot算是最歷史悠久，因此有很多的教學文章或是範例可參考\n",
    "* 畫圖功能最齊全，基本上沒什麼圖表畫不出來的\n",
    "\n",
    "缺點:\n",
    "* 圖表不好看(舊版的matplot很醜，但新版的matplot其實也算好看，尤其在style功能出來之後可以自行切換圖表的風格)\n",
    "* 畫圖指令複雜"
   ]
  },
  {
   "cell_type": "code",
   "execution_count": null,
   "metadata": {},
   "outputs": [],
   "source": [
    "在jupyter按下tab+shift顯示出的plt.plot用法"
   ]
  },
  {
   "cell_type": "code",
   "execution_count": null,
   "metadata": {},
   "outputs": [],
   "source": [
    "如果不想要每次在jupyter notebook顯示都寫.show()，可以在jupyter notebook加上%matplotlib inline"
   ]
  },
  {
   "cell_type": "markdown",
   "metadata": {},
   "source": [
    "### Matplot與Pandas的整合\n",
    "以往我們用matplot畫圖需要將pandas資料丟進matplot畫圖，不過因為現在pandas有整合matplot，<br>\n",
    "所以可以在pandas的DataFrame下直接畫圖，使用起來更方便，可以再少寫一點程式碼。<br>"
   ]
  },
  {
   "cell_type": "markdown",
   "metadata": {},
   "source": [
    "更多的畫圖例子可參考：https://matplotlib.org/gallery/index.html"
   ]
  },
  {
   "cell_type": "markdown",
   "metadata": {},
   "source": [
    "# 2. Seaborn\n",
    "Seaborn是在Matplot的基礎上實作更高階的視覺化API，可以讓畫圖變得更方便、容易。<br>\n",
    "我自己覺得Matplot跟Seaborn的關係就像是Tensorflow跟Keras。<br>"
   ]
  },
  {
   "cell_type": "markdown",
   "metadata": {},
   "source": [
    "優點：\n",
    "* 畫圖指令非常簡單\n",
    "* 圖案好看\n",
    "\n",
    "缺點：\n",
    "* 雖然99%的使用上都沒問題，但有些進階的圖案很難畫或是沒辦法畫（可用matplot互補）"
   ]
  },
  {
   "cell_type": "markdown",
   "metadata": {},
   "source": [
    "# 3. Plotly\n",
    "個人非常喜愛的一個視覺化工具，可以從官網看到各大公司也都有使用Plotly，像是Google, P&G…\n",
    "優點：\n",
    "* 好看的各種視覺化圖表(個人覺得很美)\n",
    "* 互動化的介面\n",
    "* 功能非常齊全，還可建立Dashboard，算是半個BI的tool了，可以跟Tableau, Spotfire, MicroStrategy這些BI Tool比\n",
    "* 有點圖表版的github的味道，你可以即時套用別人做好的視覺化圖案\n",
    "\n",
    "缺點：\n",
    "* 使用起來稍微有點複雜\n",
    "* 不是完全Opensource，企業版要付錢\n",
    "* 比較吃電腦資源\n",
    "\n",
    "plotly一開始設計有分online跟offline，online的話你可以直接連到plotly背後的服務直接套用一些好看的圖表，<br>\n",
    "或是丟到server分享給別人，但一般使用offline就足夠了。"
   ]
  },
  {
   "cell_type": "markdown",
   "metadata": {},
   "source": [
    "另外由於Plotly並沒有在Anaconda裡面，所以在先下pip install plotly進行安裝喔"
   ]
  },
  {
   "cell_type": "code",
   "execution_count": null,
   "metadata": {},
   "outputs": [],
   "source": []
  }
 ],
 "metadata": {
  "kernelspec": {
   "display_name": "Python 3",
   "language": "python",
   "name": "python3"
  },
  "language_info": {
   "codemirror_mode": {
    "name": "ipython",
    "version": 3
   },
   "file_extension": ".py",
   "mimetype": "text/x-python",
   "name": "python",
   "nbconvert_exporter": "python",
   "pygments_lexer": "ipython3",
   "version": "3.7.1"
  }
 },
 "nbformat": 4,
 "nbformat_minor": 2
}
