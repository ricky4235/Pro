{
 "cells": [
  {
   "cell_type": "code",
   "execution_count": null,
   "metadata": {},
   "outputs": [],
   "source": [
    "Ch12_Pandas"
   ]
  },
  {
   "cell_type": "markdown",
   "metadata": {},
   "source": [
    "https://oranwind.org/python-pandas-ji-chu-jiao-xue/\n",
    "    \n",
    "https://medium.com/datainpoint/%E5%BE%9E-pandas-%E9%96%8B%E5%A7%8B-python-%E8%88%87%E8%B3%87%E6%96%99%E7%A7%91%E5%AD%B8%E4%B9%8B%E6%97%85-8dee36796d4a\n",
    "    \n",
    "https://medium.com/jameslearningnote/%E8%B3%87%E6%96%99%E5%88%86%E6%9E%90-%E6%A9%9F%E5%99%A8%E5%AD%B8%E7%BF%92-%E7%AC%AC2-3%E8%AC%9B-pandas-%E5%9F%BA%E6%9C%ACfunction%E4%BB%8B%E7%B4%B9-series-dataframe-selection-grouping-447a3fa90b60"
   ]
  },
  {
   "cell_type": "markdown",
   "metadata": {},
   "source": [
    "在介紹Pandas之前有許多書籍會提到Numpy，主要原因是因為Pandas背後的數值型態都是Numpy，<br>\n",
    "Numpy的資料結構可以幫助Pandas在執行運算上更有效率以及更省記憶體。<br>\n",
    "\n",
    "舉例來說Python的內建資料結構list可以塞好幾種不同type的資料進去，如下圖所示，這個list裡面的資料有string, int, float，<br>\n",
    "但對於機器來說，要提升效能或是提升記憶體省用效率最好有一致的型別會比較好。"
   ]
  },
  {
   "cell_type": "code",
   "execution_count": 43,
   "metadata": {},
   "outputs": [
    {
     "data": {
      "text/plain": [
       "['1', 2, 3.0, 4, 5]"
      ]
     },
     "execution_count": 43,
     "metadata": {},
     "output_type": "execute_result"
    }
   ],
   "source": [
    "list = [\"1\",2,3.,4,5]\n",
    "list"
   ]
  },
  {
   "cell_type": "code",
   "execution_count": 46,
   "metadata": {
    "scrolled": false
   },
   "outputs": [
    {
     "data": {
      "text/plain": [
       "array(['1', '2', '3.0', '4', '5'], dtype='<U3')"
      ]
     },
     "execution_count": 46,
     "metadata": {},
     "output_type": "execute_result"
    }
   ],
   "source": [
    "#當使用numpy的array資料結構會強迫把裡面的資料都轉成同一型態\n",
    "np.array(list)"
   ]
  },
  {
   "cell_type": "markdown",
   "metadata": {},
   "source": [
    "# Numpy介紹\n",
    "https://medium.com/python4u/hello-numpy-b5ebe67a1ada <br>\n",
    "NumPy是Python在進行科學運算時，一個非常基礎的Package，同時也是非常核心的library，它具有下列幾個重要特色：<br>\n",
    "* 提供非常高效能的多維陣列(multi-dimensional array)數學函式庫<br>\n",
    "* 可整合C/C++及Fortran的程式碼<br>\n",
    "* 方便有用的線性代數(Linear Algebra)及傅立葉轉換(Fourier Transform)能力<br>\n",
    "* 利用NumPy Array替代Python List<br>\n",
    "* 可定義任意的數據型態(Data Type)，使得能輕易及無縫的與多種資料庫整合<br>\n",
    "\n",
    "在邁向資料科學(Data Science)、機器學習(Machine Learning)、深度學習(Deep Learning)及人工智慧(Artificial Intelligence)的路上，<br>\n",
    "Python還有許許多多有趣好玩的套件(例如：Pandas、SciPy、Sympy、Matplotlib、Scikit-learn 等），<br>\n",
    "這些與資料科學相關的重要套件幾乎都是架構在 Numpy基礎上做應用，因此學會NumPy對後續的學習及理解將會有很大的幫助。<br>"
   ]
  },
  {
   "cell_type": "markdown",
   "metadata": {},
   "source": [
    "# NumPy Array\n",
    "學習資料科學(Data Science)或機器學習(Machine Learning)時，利用NumPy在陣列的操作是非常重要，<br>\n",
    "其主要功能都架構在多重維度(N-dimensional array)的 ndarray上，ndarray是一個可以裝載相同類型資料的多維容器，<br>\n",
    "維度的大小及資料類型分別由shape及dtype來定義。通常我們會稱一維陣列為向量(vector)，二維陣列為矩陣(matrix)，<br>\n",
    "未來在機器學習系列文章中會再仔細介紹此一部分。而一維陣列到多維陣列的各軸向(axis)可參考下圖，對於後續學習幫助很大。<br>"
   ]
  },
  {
   "cell_type": "markdown",
   "metadata": {},
   "source": [
    "![Image of Yaktocat](https://miro.medium.com/max/1698/0*oh7hF_yEMu8Phmpj.png)"
   ]
  },
  {
   "cell_type": "markdown",
   "metadata": {},
   "source": [
    "所以要使用pandas的時候，基本上除了載入pandas之外也會同時載入numpy，因為很常會使用到numpy<br>\n",
    "所以開頭起手式會輸入以下兩行，as 後面是表示前面套件的縮寫，你也可以叫別的名字，<br>\n",
    "但是pd跟np已經是整個圈子慣用的寫法，如果你寫其他的縮寫他人會看不懂<br>"
   ]
  },
  {
   "cell_type": "code",
   "execution_count": 1,
   "metadata": {},
   "outputs": [],
   "source": [
    "import pandas as pd\n",
    "import numpy as np"
   ]
  },
  {
   "cell_type": "markdown",
   "metadata": {},
   "source": [
    "# Pandas 介紹\n",
    "pandas 取名自 pan(el)-da(ta)-s，也與套件主要提供的三個資料結構：Panel、DataFrame 與 Series 相呼應<br>\n",
    "有別於R的 dplyr、ggplot2 等 Tidyverse 套件各司其職的分工，pandas 自己就能處理載入、整理與視覺化等常見的資料應用。<br>\n",
    "簡易使用的資料格式(Data Frame)讓使用者可以快速操作及分析資料，主要特色描述如下：<br>\n",
    "在異質數據的讀取、轉換和處理上，都讓分析人員更容易處理，例如：從列欄試算表中找到想要的值。<br>\n",
    "透過載入至 Pandas 的資料結構物件後，可以透過結構化物件所提供的方法，來快速地進行資料的前處理，如資料補值，空值去除或取代等。<br>\n",
    "更多的輸入來源及輸出整合性，例如：可以從資料庫讀取資料進入 Dataframe，也可將處理完的資料存回資料庫。<br>"
   ]
  },
  {
   "cell_type": "markdown",
   "metadata": {},
   "source": [
    "# Pandas 提供的資料結構\n",
    "1. Series欄位(一維度)：用來處理時間序列相關的資料(如感測器資料等)，主要為建立索引的一維陣列。<br>\n",
    "          資料可以的類型如下：array, dictionary, 單一資料\n",
    "    \n",
    "2. DataFrame表格（二維度）：DataFrame 用來處理結構化(Table like)的資料，有列索引與欄標籤的二維資料集，<br>\n",
    "             可以透過 Dictionary 或是 Array 來建立，但也可以利用外部的資料來讀取後來建立，例如： CSV 檔案、資料庫等等。\n",
    "    \n",
    "3. Panel三維表格(除了特殊需求之外少使用)：用來處理有資料及索引、列索引與欄標籤的三維資料集，能儲存多個 DataFrame 資料結構。<br>"
   ]
  },
  {
   "cell_type": "markdown",
   "metadata": {},
   "source": [
    "Series 還可以再拆分為 index 與 values 兩個部分，其中 values 就是一個 Numpy 的 ndarray：<br>\n",
    "如此一來就順利掌握住這些資料結構的關係；一個 DataFrame 可以解構為多個 Series，一個 Series 可以再解構為 ndarray，<br>\n",
    "ndarray 可以再解構取得之中的數字、布林或文字。"
   ]
  },
  {
   "cell_type": "code",
   "execution_count": 9,
   "metadata": {},
   "outputs": [
    {
     "name": "stdout",
     "output_type": "stream",
     "text": [
      "['Afghanistan' 'Afghanistan' 'Afghanistan' ... 'Zimbabwe' 'Zimbabwe'\n",
      " 'Zimbabwe']\n",
      "<class 'list'>\n",
      "<class 'numpy.ndarray'>\n",
      "<class 'pandas.core.indexes.range.RangeIndex'>\n"
     ]
    }
   ],
   "source": [
    "print(country.values)\n",
    "print(type(['country']))\n",
    "print(type(country.values))  #values 就是 Numpy 的 ndarray\n",
    "print(type(country.index))"
   ]
  },
  {
   "cell_type": "markdown",
   "metadata": {},
   "source": [
    "### 1. Series"
   ]
  },
  {
   "cell_type": "code",
   "execution_count": 3,
   "metadata": {
    "scrolled": false
   },
   "outputs": [
    {
     "name": "stdout",
     "output_type": "stream",
     "text": [
      "<class 'pandas.core.series.Series'>\n"
     ]
    },
    {
     "data": {
      "text/plain": [
       "0     1.0\n",
       "1     3.0\n",
       "2     6.0\n",
       "3     NaN\n",
       "4    44.0\n",
       "5     1.0\n",
       "dtype: float64"
      ]
     },
     "execution_count": 3,
     "metadata": {},
     "output_type": "execute_result"
    }
   ],
   "source": [
    "#利用pd.Series函式參數放入list即可創建一個簡單的series，使用type就可以看到s1是屬於pandas的series，\n",
    "s1 = pd.Series([1, 3, 6, np.nan, 44, 1])\n",
    "print(type(s1))\n",
    "s1"
   ]
  },
  {
   "cell_type": "code",
   "execution_count": 50,
   "metadata": {
    "scrolled": true
   },
   "outputs": [
    {
     "name": "stdout",
     "output_type": "stream",
     "text": [
      "<class 'pandas.core.series.Series'>\n"
     ]
    },
    {
     "data": {
      "text/plain": [
       "a    1\n",
       "b    2\n",
       "c    3\n",
       "dtype: int64"
      ]
     },
     "execution_count": 50,
     "metadata": {},
     "output_type": "execute_result"
    }
   ],
   "source": [
    "#如果不指定index預設會是0,1,2,3,4…，要指定index的方式也很簡單，就在參數那邊多輸入一個list給index參數\n",
    "s2 = pd.Series([1,2,3],index=['a','b','c'])\n",
    "print(type(s2))\n",
    "s2"
   ]
  },
  {
   "cell_type": "code",
   "execution_count": 37,
   "metadata": {
    "scrolled": true
   },
   "outputs": [
    {
     "name": "stdout",
     "output_type": "stream",
     "text": [
      "0       BMW\n",
      "1      BENZ\n",
      "2    Toyota\n",
      "3    Nissan\n",
      "4     Lexus\n",
      "dtype: object\n"
     ]
    }
   ],
   "source": [
    "#資料為 Array\n",
    "import pandas as pd  # 引用套件並縮寫為 pd\n",
    "\n",
    "cars = [\"BMW\", \"BENZ\", \"Toyota\", \"Nissan\", \"Lexus\"]\n",
    "\n",
    "select = pd.Series(cars)  \n",
    "print(select) "
   ]
  },
  {
   "cell_type": "code",
   "execution_count": 38,
   "metadata": {},
   "outputs": [
    {
     "name": "stdout",
     "output_type": "stream",
     "text": [
      "Taipei\n",
      "=====\n",
      "1\n",
      "=====\n",
      "factory    Taipei\n",
      "sensor2         2\n",
      "sensor4         4\n",
      "dtype: object\n",
      "=====\n",
      "factory    Taipei\n",
      "sensor1         1\n",
      "sensor3         3\n",
      "dtype: object\n"
     ]
    }
   ],
   "source": [
    "#資料為 Dictionary\n",
    "import pandas as pd\n",
    "\n",
    "dict = {  \n",
    "    \"factory\": \"Taipei\",\n",
    "    \"sensor1\": \"1\",\n",
    "    \"sensor2\": \"2\",\n",
    "    \"sensor3\": \"3\",\n",
    "    \"sensor4\": \"4\",\n",
    "    \"sensor5\": \"5\"\n",
    "}\n",
    "\n",
    "select = pd.Series(dict, index = dict.keys()) # 排序與原 dict 相同  \n",
    "print(select[0])  \n",
    "print(\"=====\")  \n",
    "print(select['sensor1'])  \n",
    "print(\"=====\")  \n",
    "print(select[[0, 2, 4]])  \n",
    "print(\"=====\")  \n",
    "print(select[['factory', 'sensor1', 'sensor3']])  "
   ]
  },
  {
   "cell_type": "code",
   "execution_count": 39,
   "metadata": {
    "scrolled": true
   },
   "outputs": [
    {
     "name": "stdout",
     "output_type": "stream",
     "text": [
      "0    BENZ\n",
      "1    BENZ\n",
      "2    BENZ\n",
      "dtype: object\n"
     ]
    }
   ],
   "source": [
    "#資料為單一資料\n",
    "import pandas as pd\n",
    "\n",
    "cars = \"BENZ\"  \n",
    "select = pd.Series(cars, index = range(3))  \n",
    "print(select) "
   ]
  },
  {
   "cell_type": "markdown",
   "metadata": {},
   "source": [
    "### 2.DataFrame"
   ]
  },
  {
   "cell_type": "code",
   "execution_count": 11,
   "metadata": {},
   "outputs": [
    {
     "name": "stdout",
     "output_type": "stream",
     "text": [
      "<class 'pandas.core.frame.DataFrame'>\n"
     ]
    },
    {
     "data": {
      "text/html": [
       "<div>\n",
       "<style scoped>\n",
       "    .dataframe tbody tr th:only-of-type {\n",
       "        vertical-align: middle;\n",
       "    }\n",
       "\n",
       "    .dataframe tbody tr th {\n",
       "        vertical-align: top;\n",
       "    }\n",
       "\n",
       "    .dataframe thead th {\n",
       "        text-align: right;\n",
       "    }\n",
       "</style>\n",
       "<table border=\"1\" class=\"dataframe\">\n",
       "  <thead>\n",
       "    <tr style=\"text-align: right;\">\n",
       "      <th></th>\n",
       "      <th>a</th>\n",
       "      <th>b</th>\n",
       "      <th>c</th>\n",
       "      <th>d</th>\n",
       "    </tr>\n",
       "  </thead>\n",
       "  <tbody>\n",
       "    <tr>\n",
       "      <th>1</th>\n",
       "      <td>0.206038</td>\n",
       "      <td>0.273467</td>\n",
       "      <td>0.247583</td>\n",
       "      <td>-1.187506</td>\n",
       "    </tr>\n",
       "    <tr>\n",
       "      <th>2</th>\n",
       "      <td>-0.219606</td>\n",
       "      <td>0.037402</td>\n",
       "      <td>1.728510</td>\n",
       "      <td>-1.092153</td>\n",
       "    </tr>\n",
       "    <tr>\n",
       "      <th>3</th>\n",
       "      <td>0.352035</td>\n",
       "      <td>-1.097323</td>\n",
       "      <td>-1.098208</td>\n",
       "      <td>-0.204315</td>\n",
       "    </tr>\n",
       "    <tr>\n",
       "      <th>4</th>\n",
       "      <td>0.199098</td>\n",
       "      <td>0.051510</td>\n",
       "      <td>-0.012887</td>\n",
       "      <td>-0.376205</td>\n",
       "    </tr>\n",
       "    <tr>\n",
       "      <th>5</th>\n",
       "      <td>-2.083033</td>\n",
       "      <td>0.059284</td>\n",
       "      <td>-1.047297</td>\n",
       "      <td>-0.485727</td>\n",
       "    </tr>\n",
       "    <tr>\n",
       "      <th>6</th>\n",
       "      <td>2.010290</td>\n",
       "      <td>-0.680539</td>\n",
       "      <td>0.142769</td>\n",
       "      <td>-0.910141</td>\n",
       "    </tr>\n",
       "  </tbody>\n",
       "</table>\n",
       "</div>"
      ],
      "text/plain": [
       "          a         b         c         d\n",
       "1  0.206038  0.273467  0.247583 -1.187506\n",
       "2 -0.219606  0.037402  1.728510 -1.092153\n",
       "3  0.352035 -1.097323 -1.098208 -0.204315\n",
       "4  0.199098  0.051510 -0.012887 -0.376205\n",
       "5 -2.083033  0.059284 -1.047297 -0.485727\n",
       "6  2.010290 -0.680539  0.142769 -0.910141"
      ]
     },
     "execution_count": 11,
     "metadata": {},
     "output_type": "execute_result"
    }
   ],
   "source": [
    "#利用pd.DataFrame函式創立dataframe，裡面的資料是用np.random.randn產生出一個6*4大小數值為標準常態分佈，並命名欄位名稱依序為a, b, c, d\n",
    "df = pd.DataFrame(np.random.randn(6,4),columns=['a','b','c','d'], index=[1,2,3,4,5,6])\n",
    "print(type(df))\n",
    "df"
   ]
  },
  {
   "cell_type": "code",
   "execution_count": 12,
   "metadata": {},
   "outputs": [
    {
     "name": "stdout",
     "output_type": "stream",
     "text": [
      "    groups  num\n",
      "0   Movies   46\n",
      "1   Sports    8\n",
      "2   Coding   12\n",
      "3  Fishing   12\n",
      "4  Dancing    6\n",
      "5  cooking   58\n",
      "<class 'pandas.core.frame.DataFrame'>\n"
     ]
    }
   ],
   "source": [
    "#資料為 Dictionary\n",
    "import pandas as pd # 引用套件並縮寫為 pd\n",
    "\n",
    "groups = [\"Movies\", \"Sports\", \"Coding\", \"Fishing\", \"Dancing\", \"cooking\"]  \n",
    "num = [46, 8, 12, 12, 6, 58]\n",
    "\n",
    "dict = {\"groups\": groups,  \n",
    "        \"num\": num\n",
    "       }\n",
    "\n",
    "select_df = pd.DataFrame(dict)\n",
    "\n",
    "print(select_df) # 看看資料框的外觀 \n",
    "print(type(select_df))"
   ]
  },
  {
   "cell_type": "code",
   "execution_count": 15,
   "metadata": {
    "scrolled": false
   },
   "outputs": [
    {
     "name": "stdout",
     "output_type": "stream",
     "text": [
      "[46  8 12 12  6 58]\n",
      "<class 'numpy.ndarray'>\n"
     ]
    }
   ],
   "source": [
    "# 資料為 Array\n",
    "\n",
    "num = [46, 8, 12, 12, 6, 58]\n",
    "num = np.array(num)\n",
    "print(num)\n",
    "print(type(num))"
   ]
  },
  {
   "cell_type": "markdown",
   "metadata": {},
   "source": [
    "### 3.Panel"
   ]
  },
  {
   "cell_type": "code",
   "execution_count": 34,
   "metadata": {
    "scrolled": true
   },
   "outputs": [
    {
     "name": "stderr",
     "output_type": "stream",
     "text": [
      "C:\\Users\\11004076\\Anaconda3\\lib\\site-packages\\IPython\\core\\interactiveshell.py:3267: FutureWarning: \n",
      "Panel is deprecated and will be removed in a future version.\n",
      "The recommended way to represent these types of 3-dimensional data are with a MultiIndex on a DataFrame, via the Panel.to_frame() method\n",
      "Alternatively, you can use the xarray package http://xarray.pydata.org/en/stable/.\n",
      "Pandas provides a `.to_xarray()` method to help automate this conversion.\n",
      "\n",
      "  exec(code_obj, self.user_global_ns, self.user_ns)\n"
     ]
    },
    {
     "data": {
      "text/plain": [
       "<class 'pandas.core.panel.Panel'>\n",
       "Dimensions: 12 (items) x 142 (major_axis) x 7 (minor_axis)\n",
       "Items axis: 1952 to 2007\n",
       "Major_axis axis: 0 to 141\n",
       "Minor_axis axis: country to country_abb"
      ]
     },
     "execution_count": 34,
     "metadata": {},
     "output_type": "execute_result"
    }
   ],
   "source": [
    "#Panel 則是能儲存多個 DataFrame 資料結構，例如可以將原本的 gapminder 依照年份拆開，\n",
    "#一個年份的資料用一個 DataFrame 儲存，然後將 12 個 DataFrame 都儲存到一個 Panel 物件之中\n",
    "df_grouped = gapminder.groupby(['year'])\n",
    "df_dict = {}\n",
    "for i in range(1952, 2011, 5):\n",
    "    df_dict[i] = df_grouped.get_group(i).reset_index(drop = True)\n",
    "gapminder_panel = pd.Panel(df_dict)\n",
    "gapminder_panel"
   ]
  }
 ],
 "metadata": {
  "kernelspec": {
   "display_name": "Python 3",
   "language": "python",
   "name": "python3"
  },
  "language_info": {
   "codemirror_mode": {
    "name": "ipython",
    "version": 3
   },
   "file_extension": ".py",
   "mimetype": "text/x-python",
   "name": "python",
   "nbconvert_exporter": "python",
   "pygments_lexer": "ipython3",
   "version": "3.7.1"
  }
 },
 "nbformat": 4,
 "nbformat_minor": 2
}
