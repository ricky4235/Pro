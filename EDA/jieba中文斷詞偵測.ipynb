{
 "cells": [
  {
   "cell_type": "code",
   "execution_count": null,
   "metadata": {},
   "outputs": [],
   "source": [
    "jieba中文斷詞偵測"
   ]
  },
  {
   "cell_type": "code",
   "execution_count": 12,
   "metadata": {
    "scrolled": true
   },
   "outputs": [
    {
     "name": "stdout",
     "output_type": "stream",
     "text": [
      "Collecting jieba\n",
      "  Downloading https://files.pythonhosted.org/packages/c6/cb/18eeb235f833b726522d7ebed54f2278ce28ba9438e3135ab0278d9792a2/jieba-0.42.1.tar.gz (19.2MB)\n",
      "Building wheels for collected packages: jieba\n",
      "  Running setup.py bdist_wheel for jieba: started\n",
      "  Running setup.py bdist_wheel for jieba: finished with status 'done'\n",
      "  Stored in directory: C:\\Users\\11004076\\AppData\\Local\\pip\\Cache\\wheels\\af\\e4\\8e\\5fdd61a6b45032936b8f9ae2044ab33e61577950ce8e0dec29\n",
      "Successfully built jieba\n",
      "Installing collected packages: jieba\n",
      "Successfully installed jieba-0.42.1\n"
     ]
    }
   ],
   "source": [
    "!pip install jieba"
   ]
  },
  {
   "cell_type": "code",
   "execution_count": null,
   "metadata": {},
   "outputs": [],
   "source": [
    "一定要新詞偵測嗎?"
   ]
  },
  {
   "cell_type": "code",
   "execution_count": null,
   "metadata": {},
   "outputs": [],
   "source": [
    "在做文字探勘的分析時，首先的任務就是需要將非結構化的文字資料整理成結構化的形態，\n",
    "其中英文因為有空格作為字跟字之間的界限，因此可以很輕鬆的進行斷字。\n",
    "在中文的文章中雖然有標點符號可以切分成不同的句子，但句子內並沒有空格能把句子斷成不同的詞，因此怎麼把句子斷成詞就是一門很大的學問。\n",
    "\n",
    "Jieba 就是幫我們把句子斷詞的套件，而斷詞的方法是透過事先定義的詞典來匹配文章，\n",
    "因此詞典的好壞很直接的影響了斷詞的成果，我們就直接來看看 Jieba 預設的斷詞結果吧!"
   ]
  },
  {
   "cell_type": "code",
   "execution_count": 13,
   "metadata": {},
   "outputs": [
    {
     "name": "stderr",
     "output_type": "stream",
     "text": [
      "Building prefix dict from the default dictionary ...\n",
      "Dumping model to file cache C:\\Users\\11004076\\AppData\\Local\\Temp\\jieba.cache\n",
      "Loading model cost 0.813 seconds.\n",
      "Prefix dict has been built successfully.\n"
     ]
    },
    {
     "data": {
      "text/plain": [
       "'蔡 / 英文 / 強調 / ， / 希望 / 其他 / 產業 / 也 / 能 / 台積 / 電一樣 / ， / 把 / 台灣 / 當作 / 研發 / 與 / 生產 / 的 / 基地'"
      ]
     },
     "execution_count": 13,
     "metadata": {},
     "output_type": "execute_result"
    }
   ],
   "source": [
    "import jieba\n",
    "sent = '蔡英文強調，希望其他產業也能台積電一樣，把台灣當作研發與生產的基地'\n",
    "' / '.join(jieba.lcut(sent))"
   ]
  },
  {
   "cell_type": "code",
   "execution_count": null,
   "metadata": {},
   "outputs": [],
   "source": [
    "如上所示，原本是「蔡英文」被誤斷成「蔡」和「英文」，可想而知，\n",
    "這會讓我們在後續的分析成果中出現英文時沒辦法區辨出到底指的是語言的「英文」，還是總統的蔡「英文」。\n",
    "同樣的「台積電」也被斷成了「台積」和「電一樣」(?)\n",
    "\n",
    "我們再多看幾個例子就會發現，斷詞的結果仍有許多可以再改善的地方"
   ]
  },
  {
   "cell_type": "code",
   "execution_count": 14,
   "metadata": {},
   "outputs": [
    {
     "data": {
      "text/plain": [
       "'法人 / 預期 / ， / 本季 / 台積 / 電營 / 運表現 / 可望 / 淡季 / 不淡 / ， / 預估 / 比 / 去年 / 第四季 / 的 / 營收 / 高峰 / 季減 / 在 / 5% / 以內 / 。'"
      ]
     },
     "execution_count": 14,
     "metadata": {},
     "output_type": "execute_result"
    }
   ],
   "source": [
    "sent = '法人預期，本季台積電營運表現可望淡季不淡，預估比去年第四季的營收高峰季減在5%以內。'\n",
    "' / '.join(jieba.lcut(sent))"
   ]
  },
  {
   "cell_type": "code",
   "execution_count": 15,
   "metadata": {},
   "outputs": [
    {
     "data": {
      "text/plain": [
       "'法人 / 預估 / 台積 / 公司 / 今年 / 營運將 / 呈現 / 高成 / 長 / ， / 營收 / 將年 / 成長 / 15% / 至 / 20% / ， / 並續 / 創歷史 / 新高 / 紀錄 / 。'"
      ]
     },
     "execution_count": 15,
     "metadata": {},
     "output_type": "execute_result"
    }
   ],
   "source": [
    "sent = '法人預估台積公司今年營運將呈現高成長，營收將年成長15%至20%，並續創歷史新高紀錄。'\n",
    "' / '.join(jieba.lcut(sent))"
   ]
  }
 ],
 "metadata": {
  "kernelspec": {
   "display_name": "Python 3",
   "language": "python",
   "name": "python3"
  },
  "language_info": {
   "codemirror_mode": {
    "name": "ipython",
    "version": 3
   },
   "file_extension": ".py",
   "mimetype": "text/x-python",
   "name": "python",
   "nbconvert_exporter": "python",
   "pygments_lexer": "ipython3",
   "version": "3.7.1"
  }
 },
 "nbformat": 4,
 "nbformat_minor": 2
}
