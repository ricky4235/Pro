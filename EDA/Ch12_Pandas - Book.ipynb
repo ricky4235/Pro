{
 "cells": [
  {
   "cell_type": "code",
   "execution_count": null,
   "metadata": {},
   "outputs": [],
   "source": [
    "Ch12_Pandas - Book"
   ]
  },
  {
   "cell_type": "code",
   "execution_count": 1,
   "metadata": {},
   "outputs": [
    {
     "name": "stdout",
     "output_type": "stream",
     "text": [
      "0    12\n",
      "1    29\n",
      "2    72\n",
      "3     4\n",
      "4     8\n",
      "5    10\n",
      "dtype: int64\n"
     ]
    },
    {
     "data": {
      "text/plain": [
       "pandas.core.series.Series"
      ]
     },
     "execution_count": 1,
     "metadata": {},
     "output_type": "execute_result"
    }
   ],
   "source": [
    "#Ch12_1_2\n",
    "import pandas as pd\n",
    "\n",
    "s = pd.Series([12, 29, 72,4, 8, 10]) \n",
    "print(s) \n",
    "type(s)"
   ]
  },
  {
   "cell_type": "code",
   "execution_count": 10,
   "metadata": {},
   "outputs": [
    {
     "name": "stdout",
     "output_type": "stream",
     "text": [
      "蘋果    15\n",
      "橘子    33\n",
      "梨子    45\n",
      "櫻桃    55\n",
      "dtype: int64\n",
      "Index(['蘋果', '橘子', '梨子', '櫻桃'], dtype='object')\n",
      "<class 'pandas.core.indexes.base.Index'>\n",
      "[15 33 45 55]\n",
      "<class 'numpy.ndarray'>\n"
     ]
    }
   ],
   "source": [
    "#Ch12_1_2a\n",
    "import pandas as pd\n",
    "\n",
    "fruits = [\"蘋果\", \"橘子\", \"梨子\", \"櫻桃\"]\n",
    "quantities = [15, 33, 45, 55]\n",
    "s = pd.Series(quantities, index=fruits) \n",
    "print(s)\n",
    "print(s.index)\n",
    "print(type(s.index))\n",
    "print(s.values)\n",
    "print(type(s.values))"
   ]
  },
  {
   "cell_type": "code",
   "execution_count": 4,
   "metadata": {},
   "outputs": [
    {
     "name": "stdout",
     "output_type": "stream",
     "text": [
      "橘子= 33\n",
      "-------\n",
      "橘子    33\n",
      "梨子    45\n",
      "櫻桃    55\n",
      "dtype: int64\n",
      "-------\n",
      "蘋果     51\n",
      "橘子    105\n",
      "梨子    141\n",
      "櫻桃    171\n",
      "dtype: int64\n"
     ]
    }
   ],
   "source": [
    "#Ch12_1_2b\n",
    "import pandas as pd\n",
    "\n",
    "fruits = [\"蘋果\", \"橘子\", \"梨子\", \"櫻桃\"]\n",
    "s = pd.Series([15, 33, 45, 55], index=fruits) \n",
    "print(\"橘子=\", s[\"橘子\"])\n",
    "print('-------')\n",
    "print(s[[\"橘子\",\"梨子\",\"櫻桃\"]])\n",
    "print('-------')\n",
    "print((s+2)*3)"
   ]
  },
  {
   "cell_type": "code",
   "execution_count": 5,
   "metadata": {},
   "outputs": [
    {
     "name": "stdout",
     "output_type": "stream",
     "text": [
      "   分類   商店      價格\n",
      "0  居家  家樂福   11.42\n",
      "1  居家  大潤發   23.50\n",
      "2  娛樂  家樂福   19.99\n",
      "3  娛樂  全聯超   15.95\n",
      "4  科技  大潤發   55.75\n",
      "5  科技  家樂福  111.55\n"
     ]
    }
   ],
   "source": [
    "#Ch12_2_1\n",
    "import pandas as pd\n",
    "\n",
    "products = {\"分類\": [\"居家\",\"居家\",\"娛樂\",\"娛樂\",\"科技\",\"科技\"],\n",
    "            \"商店\": [\"家樂福\",\"大潤發\",\"家樂福\",\"全聯超\",\"大潤發\",\"家樂福\"],\n",
    "            \"價格\": [11.42,23.50,19.99,15.95,55.75,111.55]}\n",
    "     \n",
    "df = pd.DataFrame(products) \n",
    "print(df)\n",
    "df.to_html(\"Ch12_2_1.html\")"
   ]
  },
  {
   "cell_type": "code",
   "execution_count": 6,
   "metadata": {},
   "outputs": [
    {
     "name": "stdout",
     "output_type": "stream",
     "text": [
      "   分類   商店      價格\n",
      "A  居家  家樂福   11.42\n",
      "B  居家  大潤發   23.50\n",
      "C  娛樂  家樂福   19.99\n",
      "D  娛樂  全聯超   15.95\n",
      "E  科技  大潤發   55.75\n",
      "F  科技  家樂福  111.55\n",
      "   分類   商店      價格\n",
      "A  居家  家樂福   11.42\n",
      "B  居家  大潤發   23.50\n",
      "C  娛樂  家樂福   19.99\n",
      "D  娛樂  全聯超   15.95\n",
      "E  科技  大潤發   55.75\n",
      "F  科技  家樂福  111.55\n"
     ]
    }
   ],
   "source": [
    "#Ch12_2_1a\n",
    "import pandas as pd\n",
    "\n",
    "products = {\"分類\": [\"居家\",\"居家\",\"娛樂\",\"娛樂\",\"科技\",\"科技\"],\n",
    "            \"商店\": [\"家樂福\",\"大潤發\",\"家樂福\",\"全聯超\",\"大潤發\",\"家樂福\"],\n",
    "            \"價格\": [11.42,23.50,19.99,15.95,55.75,111.55]}\n",
    "\n",
    "ordinals =[\"A\", \"B\", \"C\", \"D\", \"E\", \"F\"]  \n",
    "\n",
    "df = pd.DataFrame(products, index=ordinals)\n",
    "print(df)\n",
    "df.to_html(\"Ch12_2_1a.html\")\n",
    "\n",
    "df2 = pd.DataFrame(products)\n",
    "df2.index = ordinals\n",
    "print(df2) "
   ]
  },
  {
   "cell_type": "code",
   "execution_count": 7,
   "metadata": {},
   "outputs": [
    {
     "name": "stdout",
     "output_type": "stream",
     "text": [
      "   分類   商店      價格\n",
      "A  居家  家樂福   11.42\n",
      "B  居家  大潤發   23.50\n",
      "C  娛樂  家樂福   19.99\n",
      "D  娛樂  全聯超   15.95\n",
      "E  科技  大潤發   55.75\n",
      "F  科技  家樂福  111.55\n"
     ]
    }
   ],
   "source": [
    "#Ch12_2_1b\n",
    "import pandas as pd\n",
    "\n",
    "products = {\"分類\": [\"居家\",\"居家\",\"娛樂\",\"娛樂\",\"科技\",\"科技\"],\n",
    "            \"商店\": [\"家樂福\",\"大潤發\",\"家樂福\",\"全聯超\",\"大潤發\",\"家樂福\"],\n",
    "            \"價格\": [11.42,23.50,19.99,15.95,55.75,111.55]}\n",
    "\n",
    "ordinals =[\"A\", \"B\", \"C\", \"D\", \"E\", \"F\"]  \n",
    "         \n",
    "df = pd.DataFrame(products, \n",
    "                  columns = [\"分類\", \"商店\", \"價格\"],\n",
    "                  index=ordinals) \n",
    "print(df)\n",
    "df.to_html(\"Ch12_2_1b.html\")  "
   ]
  },
  {
   "cell_type": "code",
   "execution_count": 8,
   "metadata": {},
   "outputs": [
    {
     "name": "stdout",
     "output_type": "stream",
     "text": [
      "     商店      價格\n",
      "居家  家樂福   11.42\n",
      "居家  大潤發   23.50\n",
      "娛樂  家樂福   19.99\n",
      "娛樂  全聯超   15.95\n",
      "科技  大潤發   55.75\n",
      "科技  家樂福  111.55\n"
     ]
    }
   ],
   "source": [
    "#Ch12_2_1c\n",
    "import pandas as pd\n",
    "\n",
    "products = {\"分類\": [\"居家\",\"居家\",\"娛樂\",\"娛樂\",\"科技\",\"科技\"],\n",
    "            \"商店\": [\"家樂福\",\"大潤發\",\"家樂福\",\"全聯超\",\"大潤發\",\"家樂福\"],\n",
    "            \"價格\": [11.42,23.50,19.99,15.95,55.75,111.55]}\n",
    "         \n",
    "df = pd.DataFrame(products, \n",
    "                  columns = [\"商店\", \"價格\"],\n",
    "                  index = products[\"分類\"]) \n",
    "print(df) \n",
    "df.to_html(\"Ch12_2_1c.html\")"
   ]
  },
  {
   "cell_type": "code",
   "execution_count": 9,
   "metadata": {},
   "outputs": [
    {
     "name": "stdout",
     "output_type": "stream",
     "text": [
      "       居家    居家     娛樂     娛樂     科技      科技\n",
      "商店    家樂福   大潤發    家樂福    全聯超    大潤發     家樂福\n",
      "價格  11.42  23.5  19.99  15.95  55.75  111.55\n"
     ]
    }
   ],
   "source": [
    "#Ch12_2_1d\n",
    "import pandas as pd\n",
    "\n",
    "products = {\"分類\": [\"居家\",\"居家\",\"娛樂\",\"娛樂\",\"科技\",\"科技\"],\n",
    "            \"商店\": [\"家樂福\",\"大潤發\",\"家樂福\",\"全聯超\",\"大潤發\",\"家樂福\"],\n",
    "            \"價格\": [11.42,23.50,19.99,15.95,55.75,111.55]}\n",
    "\n",
    "ordinals =[\"A\", \"B\", \"C\", \"D\", \"E\", \"F\"]        \n",
    "\n",
    "df = pd.DataFrame(products, \n",
    "                  columns = [\"商店\", \"價格\"],\n",
    "                  index = products[\"分類\"]) \n",
    "print(df.T) \n",
    "df.T.to_html(\"Ch12_2_1d.html\")"
   ]
  },
  {
   "cell_type": "code",
   "execution_count": 11,
   "metadata": {},
   "outputs": [],
   "source": [
    "#Ch12_2_2\n",
    "import pandas as pd\n",
    "\n",
    "products = {\"分類\": [\"居家\",\"居家\",\"娛樂\",\"娛樂\",\"科技\",\"科技\"],\n",
    "            \"商店\": [\"家樂福\",\"大潤發\",\"家樂福\",\"全聯超\",\"大潤發\",\"家樂福\"],\n",
    "            \"價格\": [11.42,23.50,19.99,15.95,55.75,111.55]}\n",
    "\n",
    "df = pd.DataFrame(products, \n",
    "                  columns = [\"分類\", \"商店\", \"價格\"]) \n",
    "\n",
    "df.to_csv(\"products.csv\", index=False, encoding=\"utf8\")\n",
    "df.to_json(\"products.json\")"
   ]
  },
  {
   "cell_type": "code",
   "execution_count": 12,
   "metadata": {
    "scrolled": false
   },
   "outputs": [
    {
     "name": "stdout",
     "output_type": "stream",
     "text": [
      "   分類   商店      價格\n",
      "0  居家  家樂福   11.42\n",
      "1  居家  大潤發   23.50\n",
      "2  娛樂  家樂福   19.99\n",
      "3  娛樂  全聯超   15.95\n",
      "4  科技  大潤發   55.75\n",
      "5  科技  家樂福  111.55\n",
      "   分類   商店      價格\n",
      "0  居家  家樂福   11.42\n",
      "1  居家  大潤發   23.50\n",
      "2  娛樂  家樂福   19.99\n",
      "3  娛樂  全聯超   15.95\n",
      "4  科技  大潤發   55.75\n",
      "5  科技  家樂福  111.55\n"
     ]
    }
   ],
   "source": [
    "#Ch12_2_2a\n",
    "import pandas as pd\n",
    "\n",
    "# 匯入CSV格式的檔案\n",
    "df = pd.read_csv(\"products.csv\", encoding=\"utf8\")\n",
    "print(df)\n",
    "df.to_html(\"Ch12_2_2a_01.html\")\n",
    "# 匯入JSON格式的檔案\n",
    "df2 = pd.read_json(\"products.json\")\n",
    "print(df2)\n",
    "df.to_html(\"Ch12_2_2a_02.html\")"
   ]
  },
  {
   "cell_type": "code",
   "execution_count": 13,
   "metadata": {},
   "outputs": [
    {
     "name": "stdout",
     "output_type": "stream",
     "text": [
      "     商店      價格\n",
      "分類             \n",
      "居家  家樂福   11.42\n",
      "居家  大潤發   23.50\n",
      "娛樂  家樂福   19.99\n",
      "娛樂  全聯超   15.95\n",
      "科技  大潤發   55.75\n",
      "科技  家樂福  111.55\n"
     ]
    }
   ],
   "source": [
    "#Ch12_2_2b\n",
    "import pandas as pd\n",
    "\n",
    "# 匯入CSV格式的檔案\n",
    "df = pd.read_csv(\"products.csv\", index_col=0, encoding=\"utf8\")\n",
    "print(df)\n",
    "df.to_html(\"Ch12_2_2b.html\")\n"
   ]
  },
  {
   "cell_type": "code",
   "execution_count": 1,
   "metadata": {
    "scrolled": true
   },
   "outputs": [
    {
     "name": "stdout",
     "output_type": "stream",
     "text": [
      "      id                 title author  price category     pubdate\n",
      "0  D0001           Access入門與實作    陳會安  450.0      資料庫  2016-06-01\n",
      "1  P0001          資料結構 - 使用C語言    陳會安  520.0     資料結構  2016-04-01\n",
      "2  P0002         Java程式設計入門與實作    陳會安  550.0     程式設計  2017-07-01\n",
      "3  P0003  Scratch+fChart程式邏輯訓練    陳會安  350.0     程式設計  2017-04-01\n",
      "4  W0001        PHP與MySQL入門與實作    陳會安  550.0     網頁設計  2016-09-01\n"
     ]
    }
   ],
   "source": [
    "#Ch12_2_2c\n",
    "import pandas as pd\n",
    "import pymysql\n",
    "\n",
    "# 建立資料庫連接\n",
    "db = pymysql.connect(\"localhost\", \"root\", \"\", \"mybooks\", charset=\"utf8\")\n",
    "# SQL指令SELECT\n",
    "sql = \"SELECT * FROM books\"\n",
    "# 從資料庫匯入資料\n",
    "df = pd.read_sql(sql, db)\n",
    "print(df.head())\n",
    "df.to_html(\"Ch12_2_2c.html\")\n",
    "db.close()  # 關閉資料庫連接"
   ]
  },
  {
   "cell_type": "code",
   "execution_count": null,
   "metadata": {},
   "outputs": [],
   "source": [
    "#Ch12_2_2d\n",
    "import pandas as pd\n",
    " \n",
    "\n",
    "products = {\"分類\": [\"居家\",\"居家\",\"娛樂\",\"娛樂\",\"科技\",\"科技\"],\n",
    "            \"商店\": [\"家樂福\",\"大潤發\",\"家樂福\",\"全聯超\",\"大潤發\",\"家樂福\"],\n",
    "            \"價格\": [11.42,23.50,19.99,15.95,55.75,111.55]}\n",
    "     \n",
    "df = pd.DataFrame(products) \n",
    "print(df)\n",
    "df.to_html(\"Ch12_2_2d.html\")\n",
    "\n",
    "from sqlalchemy import create_engine \n",
    "\n",
    "# 建立資料庫引擎\n",
    "db = create_engine('mysql+pymysql://root@localhost:3306/mybooks?charset=utf8')  \n",
    "# 將DataFrame匯出至資料庫\n",
    "df.to_sql(\"products\", db, if_exists=\"replace\")\n"
   ]
  },
  {
   "cell_type": "code",
   "execution_count": 15,
   "metadata": {},
   "outputs": [
    {
     "name": "stdout",
     "output_type": "stream",
     "text": [
      "   分類   商店     價格\n",
      "0  居家  家樂福  11.42\n",
      "1  居家  大潤發  23.50\n",
      "2  娛樂  家樂福  19.99\n",
      "3  娛樂  全聯超  15.95\n",
      "4  科技  大潤發  55.75\n",
      "   分類   商店     價格\n",
      "0  居家  家樂福  11.42\n",
      "1  居家  大潤發  23.50\n",
      "2  娛樂  家樂福  19.99\n"
     ]
    }
   ],
   "source": [
    "#Ch12_2_3\n",
    "import pandas as pd\n",
    "\n",
    "df = pd.read_csv(\"products.csv\", encoding=\"utf8\")\n",
    "\n",
    "print(df.head()) \n",
    "print(df.head(3))\n",
    "df.head().to_html(\"Ch12_2_3_01.html\")\n",
    "df.head(3).to_html(\"Ch12_2_3_02.html\")"
   ]
  },
  {
   "cell_type": "code",
   "execution_count": 16,
   "metadata": {},
   "outputs": [
    {
     "name": "stdout",
     "output_type": "stream",
     "text": [
      "   分類   商店      價格\n",
      "1  居家  大潤發   23.50\n",
      "2  娛樂  家樂福   19.99\n",
      "3  娛樂  全聯超   15.95\n",
      "4  科技  大潤發   55.75\n",
      "5  科技  家樂福  111.55\n",
      "   分類   商店      價格\n",
      "3  娛樂  全聯超   15.95\n",
      "4  科技  大潤發   55.75\n",
      "5  科技  家樂福  111.55\n"
     ]
    }
   ],
   "source": [
    "#Ch12_2_3a\n",
    "import pandas as pd\n",
    "\n",
    "df = pd.read_csv(\"products.csv\", encoding=\"utf8\")\n",
    "\n",
    "print(df.tail())\n",
    "print(df.tail(3)) \n",
    "\n",
    "df.tail().to_html(\"Ch12_2_3a_01.html\")\n",
    "df.tail(3).to_html(\"Ch12_2_3a_02.html\") "
   ]
  },
  {
   "cell_type": "code",
   "execution_count": 17,
   "metadata": {},
   "outputs": [
    {
     "name": "stdout",
     "output_type": "stream",
     "text": [
      "  type name  price\n",
      "0   居家  家樂福  11.42\n",
      "1   居家  大潤發  23.50\n",
      "2   娛樂  家樂福  19.99\n"
     ]
    }
   ],
   "source": [
    "#Ch12_2_3b\n",
    "import pandas as pd\n",
    "\n",
    "df = pd.read_csv(\"products.csv\", encoding=\"utf8\")\n",
    "\n",
    "df.columns = [\"type\", \"name\", \"price\"]\n",
    "print(df.head(3)) \n",
    "df.head(3).to_html(\"Ch12_2_3b.html\")"
   ]
  },
  {
   "cell_type": "code",
   "execution_count": 18,
   "metadata": {},
   "outputs": [
    {
     "name": "stdout",
     "output_type": "stream",
     "text": [
      "RangeIndex(start=0, stop=6, step=1)\n",
      "Index(['分類', '商店', '價格'], dtype='object')\n",
      "[['居家' '家樂福' 11.42]\n",
      " ['居家' '大潤發' 23.5]\n",
      " ['娛樂' '家樂福' 19.99]\n",
      " ['娛樂' '全聯超' 15.95]\n",
      " ['科技' '大潤發' 55.75]\n",
      " ['科技' '家樂福' 111.55]]\n"
     ]
    }
   ],
   "source": [
    "#Ch12_2_3c\n",
    "import pandas as pd\n",
    "\n",
    "df = pd.read_csv(\"products.csv\", encoding=\"utf8\")\n",
    "\n",
    "print(df.index)\n",
    "print(df.columns)\n",
    "print(df.values)  "
   ]
  },
  {
   "cell_type": "code",
   "execution_count": 23,
   "metadata": {},
   "outputs": [
    {
     "name": "stdout",
     "output_type": "stream",
     "text": [
      "資料數=  6\n",
      "--------\n",
      "形狀=  (6, 3)\n",
      "<class 'pandas.core.frame.DataFrame'>\n",
      "RangeIndex: 6 entries, 0 to 5\n",
      "Data columns (total 3 columns):\n",
      "分類    6 non-null object\n",
      "商店    6 non-null object\n",
      "價格    6 non-null float64\n",
      "dtypes: float64(1), object(2)\n",
      "memory usage: 224.0+ bytes\n"
     ]
    }
   ],
   "source": [
    "#Ch12_2_3d\n",
    "import pandas as pd\n",
    "\n",
    "df = pd.read_csv(\"products.csv\", encoding=\"utf8\")\n",
    "\n",
    "print(\"資料數= \", len(df))\n",
    "print('--------')\n",
    "print(\"形狀= \", df.shape)  \n",
    "df.info()"
   ]
  },
  {
   "cell_type": "code",
   "execution_count": 21,
   "metadata": {},
   "outputs": [
    {
     "name": "stdout",
     "output_type": "stream",
     "text": [
      "0 居家 家樂福 11.42\n",
      "1 居家 大潤發 23.5\n",
      "2 娛樂 家樂福 19.99\n",
      "3 娛樂 全聯超 15.95\n",
      "4 科技 大潤發 55.75\n",
      "5 科技 家樂福 111.55\n"
     ]
    }
   ],
   "source": [
    "#Ch12_2_4\n",
    "import pandas as pd\n",
    "\n",
    "df = pd.read_csv(\"products.csv\", encoding=\"utf8\")\n",
    "\n",
    "for index, row in df.iterrows() :\n",
    "    print(index, row[\"分類\"], row[\"商店\"], row[\"價格\"])"
   ]
  },
  {
   "cell_type": "code",
   "execution_count": 22,
   "metadata": {},
   "outputs": [
    {
     "name": "stdout",
     "output_type": "stream",
     "text": [
      "     商店     價格\n",
      "分類            \n",
      "居家  家樂福  11.42\n",
      "居家  大潤發  23.50\n",
      "娛樂  家樂福  19.99\n",
      "娛樂  全聯超  15.95\n",
      "科技  大潤發  55.75\n",
      "   分類   商店     價格\n",
      "0  居家  家樂福  11.42\n",
      "1  居家  大潤發  23.50\n",
      "2  娛樂  家樂福  19.99\n",
      "3  娛樂  全聯超  15.95\n",
      "4  科技  大潤發  55.75\n"
     ]
    }
   ],
   "source": [
    "#Ch12_2_5\n",
    "import pandas as pd\n",
    "\n",
    "df = pd.read_csv(\"products.csv\", encoding=\"utf8\")\n",
    "\n",
    "df2 = df.set_index(\"分類\")\n",
    "print(df2.head())\n",
    "df2.head().to_html(\"Ch12_2_5_01.html\")\n",
    "\n",
    "df3 = df2.reset_index()\n",
    "print(df3.head())\n",
    "df3.head().to_html(\"Ch12_2_5_02.html\")\n",
    "\n"
   ]
  },
  {
   "cell_type": "code",
   "execution_count": 24,
   "metadata": {},
   "outputs": [
    {
     "name": "stdout",
     "output_type": "stream",
     "text": [
      "            價格\n",
      "分類 商店         \n",
      "科技 家樂福  111.55\n",
      "   大潤發   55.75\n",
      "居家 家樂福   11.42\n",
      "   大潤發   23.50\n",
      "娛樂 家樂福   19.99\n",
      "   全聯超   15.95\n"
     ]
    }
   ],
   "source": [
    "#Ch12_2_5a\n",
    "import pandas as pd\n",
    "\n",
    "df = pd.read_csv(\"products.csv\", encoding=\"utf8\")\n",
    "\n",
    "df2 = df.set_index([\"分類\", \"商店\"])\n",
    "df2.sort_index(ascending=False, inplace=True)\n",
    "print(df2)\n",
    "df2.to_html(\"Ch12_2_5a.html\")"
   ]
  },
  {
   "cell_type": "code",
   "execution_count": 25,
   "metadata": {},
   "outputs": [
    {
     "name": "stdout",
     "output_type": "stream",
     "text": [
      "A    11.42\n",
      "B    23.50\n",
      "C    19.99\n",
      "Name: price, dtype: float64\n",
      "  type name\n",
      "A   居家  家樂福\n",
      "B   居家  大潤發\n",
      "C   娛樂  家樂福\n",
      "A    11.42\n",
      "B    23.50\n",
      "C    19.99\n",
      "Name: price, dtype: float64\n"
     ]
    }
   ],
   "source": [
    "#Ch12_3_1\n",
    "import pandas as pd\n",
    "\n",
    "df = pd.read_csv(\"products.csv\", encoding=\"utf8\")\n",
    "\n",
    "df.columns = [\"type\", \"name\", \"price\"]\n",
    "ordinals = [\"A\", \"B\", \"C\", \"D\", \"E\", \"F\"]\n",
    "df.index = ordinals\n",
    "\n",
    "print(df[\"price\"].head(3))\n",
    "print(df[[\"type\",\"name\"]].head(3))\n",
    "df[[\"type\",\"name\"]].head(3).to_html(\"Ch12_3_1.html\")\n",
    "\n",
    "print(df.price.head(3))   # 使用屬性方式\n"
   ]
  },
  {
   "cell_type": "code",
   "execution_count": 26,
   "metadata": {},
   "outputs": [
    {
     "name": "stdout",
     "output_type": "stream",
     "text": [
      "  type name  price\n",
      "A   居家  家樂福  11.42\n",
      "B   居家  大潤發  23.50\n",
      "C   娛樂  家樂福  19.99\n",
      "  type name  price\n",
      "C   娛樂  家樂福  19.99\n",
      "D   娛樂  全聯超  15.95\n",
      "E   科技  大潤發  55.75\n"
     ]
    }
   ],
   "source": [
    "#Ch12_3_1a\n",
    "import pandas as pd\n",
    "\n",
    "df = pd.read_csv(\"products.csv\", encoding=\"utf8\")\n",
    "\n",
    "df.columns = [\"type\", \"name\", \"price\"]\n",
    "ordinals = [\"A\", \"B\", \"C\", \"D\", \"E\", \"F\"]\n",
    "df.index = ordinals\n",
    "\n",
    "print(df[0:3])     # 不含 3\n",
    "print(df[\"C\":\"E\"]) # 含 \"E\"\n",
    "df[0:3].to_html(\"Ch12_3_1a_01.html\")\n",
    "df[\"C\":\"E\"].to_html(\"Ch12_3_1a_02.html\")"
   ]
  },
  {
   "cell_type": "code",
   "execution_count": 27,
   "metadata": {},
   "outputs": [
    {
     "name": "stdout",
     "output_type": "stream",
     "text": [
      "type       居家\n",
      "name      大潤發\n",
      "price    23.5\n",
      "Name: B, dtype: object\n",
      "<class 'pandas.core.series.Series'>\n",
      "  name   price\n",
      "A  家樂福   11.42\n",
      "B  大潤發   23.50\n",
      "C  家樂福   19.99\n",
      "D  全聯超   15.95\n",
      "E  大潤發   55.75\n",
      "F  家樂福  111.55\n",
      "  name   price\n",
      "C  家樂福   19.99\n",
      "F  家樂福  111.55\n",
      "  name  price\n",
      "C  家樂福  19.99\n",
      "D  全聯超  15.95\n",
      "E  大潤發  55.75\n",
      "name       家樂福\n",
      "price    19.99\n",
      "Name: C, dtype: object\n",
      "家樂福\n",
      "<class 'str'>\n",
      "11.42\n",
      "<class 'numpy.float64'>\n",
      "家樂福\n",
      "11.42\n"
     ]
    }
   ],
   "source": [
    "#Ch12_3_1b\n",
    "import pandas as pd\n",
    "\n",
    "df = pd.read_csv(\"products.csv\", encoding=\"utf8\")\n",
    "\n",
    "df.columns = [\"type\", \"name\", \"price\"]\n",
    "ordinals = [\"A\", \"B\", \"C\", \"D\", \"E\", \"F\"]\n",
    "df.index = ordinals\n",
    "\n",
    "print(df.loc[ordinals[1]])\n",
    "print(type(df.loc[ordinals[1]]))\n",
    "print(df.loc[:,[\"name\",\"price\"]])\n",
    "print(df.loc[[\"C\",\"F\"], [\"name\",\"price\"]])\n",
    "\n",
    "df.loc[:,[\"name\",\"price\"]].to_html(\"Ch12_3_1b_01.html\")\n",
    "df.loc[[\"C\",\"F\"], [\"name\",\"price\"]].to_html(\"Ch12_3_1b_02.html\")\n",
    "\n",
    "print(df.loc[\"C\":\"E\", [\"name\",\"price\"]])\n",
    "print(df.loc[\"C\", [\"name\",\"price\"]])\n",
    "\n",
    "df.loc[\"C\":\"E\", [\"name\",\"price\"]].to_html(\"Ch12_3_1b_03.html\")\n",
    "# 取得單一純量值\n",
    "print(df.loc[ordinals[0], \"name\"])\n",
    "print(type(df.loc[ordinals[0],\"name\"]))\n",
    "print(df.loc[\"A\", \"price\"])\n",
    "print(type(df.loc[\"A\", \"price\"]))\n",
    "\n",
    "print(df.loc[ordinals[0]][\"name\"])\n",
    "print(df.loc[\"A\"][\"price\"])\n"
   ]
  },
  {
   "cell_type": "code",
   "execution_count": 28,
   "metadata": {},
   "outputs": [
    {
     "name": "stdout",
     "output_type": "stream",
     "text": [
      "type        娛樂\n",
      "name       全聯超\n",
      "price    15.95\n",
      "Name: D, dtype: object\n",
      "  name  price\n",
      "D  全聯超  15.95\n",
      "E  大潤發  55.75\n",
      "  type name  price\n",
      "B   居家  大潤發  23.50\n",
      "C   娛樂  家樂福  19.99\n",
      "  name   price\n",
      "A  家樂福   11.42\n",
      "B  大潤發   23.50\n",
      "C  家樂福   19.99\n",
      "D  全聯超   15.95\n",
      "E  大潤發   55.75\n",
      "F  家樂福  111.55\n",
      "  type  price\n",
      "B   居家  23.50\n",
      "C   娛樂  19.99\n",
      "E   科技  55.75\n",
      "大潤發\n",
      "大潤發\n"
     ]
    }
   ],
   "source": [
    "#Ch12_3_1c\n",
    "import pandas as pd\n",
    "\n",
    "\n",
    "df = pd.read_csv(\"products.csv\", encoding=\"utf8\")\n",
    "\n",
    "df.columns = [\"type\", \"name\", \"price\"]\n",
    "ordinals = [\"A\", \"B\", \"C\", \"D\", \"E\", \"F\"]\n",
    "df.index = ordinals\n",
    "\n",
    "print(df.iloc[3])          # 第 4 筆\n",
    "print(df.iloc[3:5, 1:3])   # 切割\n",
    "print(df.iloc[1:3, :])     # 切割列\n",
    "print(df.iloc[:, 1:3])     # 切割欄\n",
    "\n",
    "df.iloc[3:5, 1:3].to_html(\"Ch12_3_1c_01.html\")\n",
    "df.iloc[1:3, :].to_html(\"Ch12_3_1c_02.html\")\n",
    "df.iloc[:, 1:3].to_html(\"Ch12_3_1c_03.html\")\n",
    "\n",
    "print(df.iloc[[1,2,4], [0,2]])   # 索引清單\n",
    "df.iloc[[1,2,4], [0,2]].to_html(\"Ch12_3_1c_04.html\")\n",
    "# 取得單一純量值\n",
    "print(df.iloc[1,1])\n",
    "print(df.iat[1,1])\n"
   ]
  },
  {
   "cell_type": "code",
   "execution_count": 29,
   "metadata": {},
   "outputs": [
    {
     "name": "stdout",
     "output_type": "stream",
     "text": [
      "  type name   price\n",
      "B   居家  大潤發   23.50\n",
      "E   科技  大潤發   55.75\n",
      "F   科技  家樂福  111.55\n",
      "  type name   price\n",
      "A   居家  家樂福   11.42\n",
      "B   居家  大潤發   23.50\n",
      "E   科技  大潤發   55.75\n",
      "F   科技  家樂福  111.55\n"
     ]
    }
   ],
   "source": [
    "#Ch12_3_2\n",
    "import pandas as pd\n",
    "\n",
    "df = pd.read_csv(\"products.csv\", encoding=\"utf8\")\n",
    "\n",
    "df.columns = [\"type\", \"name\", \"price\"]\n",
    "ordinals = [\"A\", \"B\", \"C\", \"D\", \"E\", \"F\"]\n",
    "df.index = ordinals\n",
    "\n",
    "print(df[df.price > 20])\n",
    "df[df.price > 20].to_html(\"Ch12_3_2_01.html\")\n",
    "\n",
    "print(df[df[\"type\"].isin([\"科技\",\"居家\"])])\n",
    "df[df[\"type\"].isin([\"科技\",\"居家\"])].to_html(\"Ch12_3_2_02.html\")\n"
   ]
  },
  {
   "cell_type": "code",
   "execution_count": 30,
   "metadata": {},
   "outputs": [
    {
     "name": "stdout",
     "output_type": "stream",
     "text": [
      "  type name  price\n",
      "B   居家  大潤發  23.50\n",
      "C   娛樂  家樂福  19.99\n",
      "D   娛樂  全聯超  15.95\n",
      "  type name   price\n",
      "E   科技  大潤發   55.75\n",
      "F   科技  家樂福  111.55\n",
      "G   科學  全聯超   28.50\n"
     ]
    }
   ],
   "source": [
    "#Ch12_3_2a\n",
    "import pandas as pd\n",
    "\n",
    "df = pd.read_csv(\"products.csv\", encoding=\"utf8\")\n",
    "\n",
    "df.columns = [\"type\", \"name\", \"price\"]\n",
    "ordinals = [\"A\", \"B\", \"C\", \"D\", \"E\", \"F\"]\n",
    "df.index = ordinals\n",
    "\n",
    "print(df[(df.price > 15) & (df.price < 25)])\n",
    "df[(df.price > 15) & (df.price < 25)].to_html(\"Ch12_3_2a_01.html\")\n",
    "\n",
    "df.loc[\"G\"] = [\"科學\", \"全聯超\", 28.5]\n",
    "print(df[df[\"type\"].str.startswith(\"科\")])\n",
    "df[df[\"type\"].str.startswith(\"科\")].to_html(\"Ch12_3_2a_02.html\")\n"
   ]
  },
  {
   "cell_type": "code",
   "execution_count": 31,
   "metadata": {},
   "outputs": [
    {
     "name": "stdout",
     "output_type": "stream",
     "text": [
      "       type name\n",
      "price           \n",
      "11.42    居家  家樂福\n",
      "23.50    居家  大潤發\n",
      "19.99    娛樂  家樂福\n",
      "15.95    娛樂  全聯超\n",
      "55.75    科技  大潤發\n",
      "111.55   科技  家樂福\n",
      "       type name\n",
      "price           \n",
      "111.55   科技  家樂福\n",
      "55.75    科技  大潤發\n",
      "23.50    居家  大潤發\n",
      "19.99    娛樂  家樂福\n",
      "15.95    娛樂  全聯超\n",
      "11.42    居家  家樂福\n"
     ]
    }
   ],
   "source": [
    "#Ch12_3_3\n",
    "import pandas as pd\n",
    "\n",
    "df = pd.read_csv(\"products.csv\", encoding=\"utf8\")\n",
    "\n",
    "df.columns = [\"type\", \"name\", \"price\"]\n",
    "ordinals = [\"A\", \"B\", \"C\", \"D\", \"E\", \"F\"]\n",
    "df.index = ordinals\n",
    "\n",
    "df2 = df.set_index(\"price\")\n",
    "print(df2)\n",
    "df2.to_html(\"Ch12_3_3_01.html\")\n",
    "\n",
    "df2.sort_index(ascending=False, inplace=True)\n",
    "print(df2)\n",
    "df2.to_html(\"Ch12_3_3_02.html\")"
   ]
  },
  {
   "cell_type": "code",
   "execution_count": 32,
   "metadata": {},
   "outputs": [
    {
     "name": "stdout",
     "output_type": "stream",
     "text": [
      "  type name   price\n",
      "F   科技  家樂福  111.55\n",
      "E   科技  大潤發   55.75\n",
      "B   居家  大潤發   23.50\n",
      "C   娛樂  家樂福   19.99\n",
      "D   娛樂  全聯超   15.95\n",
      "A   居家  家樂福   11.42\n",
      "  type name   price\n",
      "D   娛樂  全聯超   15.95\n",
      "C   娛樂  家樂福   19.99\n",
      "A   居家  家樂福   11.42\n",
      "B   居家  大潤發   23.50\n",
      "E   科技  大潤發   55.75\n",
      "F   科技  家樂福  111.55\n"
     ]
    }
   ],
   "source": [
    "#Ch12_3_3a\n",
    "import pandas as pd\n",
    "\n",
    "df = pd.read_csv(\"products.csv\", encoding=\"utf8\")\n",
    "\n",
    "df.columns = [\"type\", \"name\", \"price\"]\n",
    "ordinals = [\"A\", \"B\", \"C\", \"D\", \"E\", \"F\"]\n",
    "df.index = ordinals\n",
    "\n",
    "df2 = df.sort_values(\"price\", ascending=False)\n",
    "print(df2)\n",
    "df2.to_html(\"Ch12_3_3a_01.html\")\n",
    "\n",
    "df.sort_values([\"type\",\"price\"], inplace=True)\n",
    "print(df)\n",
    "df.to_html(\"Ch12_3_3a_02.html\")"
   ]
  },
  {
   "cell_type": "code",
   "execution_count": 33,
   "metadata": {},
   "outputs": [
    {
     "name": "stdout",
     "output_type": "stream",
     "text": [
      "  type name  price\n",
      "A   居家  家樂福  11.42\n",
      "B   居家  大潤發  23.50\n",
      "11.42\n",
      "23.5\n",
      "  type name  price\n",
      "A   居家  家樂福   21.6\n",
      "B   居家  大潤發   46.3\n"
     ]
    }
   ],
   "source": [
    "#Ch12_4_1\n",
    "import pandas as pd\n",
    "\n",
    "df = pd.read_csv(\"products.csv\", encoding=\"utf8\")\n",
    "\n",
    "df.columns = [\"type\", \"name\", \"price\"]\n",
    "ordinals = [\"A\", \"B\", \"C\", \"D\", \"E\", \"F\"]\n",
    "df.index = ordinals\n",
    "\n",
    "print(df.head(2))\n",
    "# 取得與更新單一純量值\n",
    "print(df.loc[ordinals[0], \"price\"])\n",
    "df.loc[ordinals[0], \"price\"] = 21.6\n",
    "print(df.iloc[1,2])\n",
    "df.iloc[1,2] = 46.3\n",
    "print(df.head(2))\n",
    "df.head(2).to_html(\"Ch12_4_1.html\")"
   ]
  },
  {
   "cell_type": "code",
   "execution_count": 34,
   "metadata": {},
   "outputs": [
    {
     "name": "stdout",
     "output_type": "stream",
     "text": [
      "  type name  price\n",
      "A   居家  家樂福  11.42\n",
      "B   居家  大潤發  23.50\n",
      "C   娛樂  家樂福  19.99\n",
      "type       居家\n",
      "name      大潤發\n",
      "price    23.5\n",
      "Name: B, dtype: object\n",
      "  type name  price\n",
      "A   居家  家樂福  11.42\n",
      "B   居家  家樂福  30.40\n",
      "C   娛樂  家樂福  19.99\n"
     ]
    }
   ],
   "source": [
    "#Ch12_4_1a\n",
    "import pandas as pd\n",
    "\n",
    "df = pd.read_csv(\"products.csv\", encoding=\"utf8\")\n",
    "\n",
    "df.columns = [\"type\", \"name\", \"price\"]\n",
    "ordinals = [\"A\", \"B\", \"C\", \"D\", \"E\", \"F\"]\n",
    "df.index = ordinals\n",
    "\n",
    "print(df.head(3))\n",
    "# 取得與更新單筆記錄\n",
    "print(df.loc[ordinals[1]])\n",
    "s = [\"居家\", \"家樂福\", 30.4] \n",
    "df.loc[ordinals[1]] = s\n",
    "print(df.head(3))\n",
    "df.head(3).to_html(\"Ch12_4_1a.html\")"
   ]
  },
  {
   "cell_type": "code",
   "execution_count": 35,
   "metadata": {},
   "outputs": [
    {
     "name": "stdout",
     "output_type": "stream",
     "text": [
      "  type name   price\n",
      "A   居家  家樂福   11.42\n",
      "B   居家  大潤發   23.50\n",
      "C   娛樂  家樂福   19.99\n",
      "D   娛樂  全聯超   15.95\n",
      "E   科技  大潤發   55.75\n",
      "F   科技  家樂福  111.55\n",
      "A     11.42\n",
      "B     23.50\n",
      "C     19.99\n",
      "D     15.95\n",
      "E     55.75\n",
      "F    111.55\n",
      "Name: price, dtype: float64\n",
      "  type name  price\n",
      "A   居家  家樂福   23.4\n",
      "B   居家  大潤發   56.7\n",
      "C   娛樂  家樂福   12.1\n",
      "D   娛樂  全聯超   90.5\n",
      "E   科技  大潤發   11.2\n"
     ]
    }
   ],
   "source": [
    "#Ch12_4_1b\n",
    "import pandas as pd\n",
    "\n",
    "df = pd.read_csv(\"products.csv\", encoding=\"utf8\")\n",
    "\n",
    "df.columns = [\"type\", \"name\", \"price\"]\n",
    "ordinals = [\"A\", \"B\", \"C\", \"D\", \"E\", \"F\"]\n",
    "df.index = ordinals\n",
    "\n",
    "\n",
    "print(df)\n",
    "# 取得與更新整個欄位\n",
    "print(df.loc[:, \"price\"])\n",
    "df.loc[:, \"price\"] = [23.4, 56.7, 12.1, 90.5, 11.2, 34.1]\n",
    "print(df.head())\n",
    "df.head().to_html(\"Ch12_4_1b.html\")\n"
   ]
  },
  {
   "cell_type": "code",
   "execution_count": 36,
   "metadata": {},
   "outputs": [
    {
     "name": "stdout",
     "output_type": "stream",
     "text": [
      "     0    1    2\n",
      "0  814   67  326\n",
      "1  190  453  594\n",
      "       0   1      2\n",
      "0  814.0 NaN    NaN\n",
      "1    NaN NaN  594.0\n",
      "     0    1    2\n",
      "0  714   67  326\n",
      "1  190  453  494\n"
     ]
    }
   ],
   "source": [
    "#Ch12_4_1c\n",
    "import pandas as pd\n",
    "import random\n",
    "\n",
    "df = pd.DataFrame([random.sample(range(0,1000), 3),\n",
    "                   random.sample(range(0,1000), 3)])\n",
    "print(df)\n",
    "df.to_html(\"Ch12_4_1c_01.html\")\n",
    "# 取得與更新整個DataFrame\n",
    "print(df[df > 500])\n",
    "df[df > 500].to_html(\"Ch12_4_1c_02.html\")\n",
    "df[df > 500] = df - 100\n",
    "print(df)\n",
    "df.to_html(\"Ch12_4_1c_03.html\")"
   ]
  },
  {
   "cell_type": "code",
   "execution_count": 37,
   "metadata": {},
   "outputs": [
    {
     "name": "stdout",
     "output_type": "stream",
     "text": [
      "  type name  price\n",
      "A   居家  家樂福  11.42\n",
      "B   居家  大潤發  23.50\n",
      "C   娛樂  家樂福  19.99\n",
      "11.42\n",
      "23.5\n",
      "  type name  price\n",
      "A   居家  家樂福    NaN\n",
      "B   居家  大潤發    NaN\n",
      "C   娛樂  家樂福  19.99\n"
     ]
    }
   ],
   "source": [
    "#Ch12_4_2\n",
    "import pandas as pd\n",
    "\n",
    "df = pd.read_csv(\"products.csv\", encoding=\"utf8\")\n",
    "\n",
    "df.columns = [\"type\", \"name\", \"price\"]\n",
    "ordinals = [\"A\", \"B\", \"C\", \"D\", \"E\", \"F\"]\n",
    "df.index = ordinals\n",
    "\n",
    "print(df.head(3))\n",
    "# 刪除純量值\n",
    "print(df.loc[ordinals[0], \"price\"])\n",
    "df.loc[ordinals[0], \"price\"] = None\n",
    "print(df.iloc[1,2])\n",
    "df.iloc[1,2] = None\n",
    "print(df.head(3))\n",
    "df.head(3).to_html(\"Ch12_4_2.html\")"
   ]
  },
  {
   "cell_type": "code",
   "execution_count": 38,
   "metadata": {},
   "outputs": [
    {
     "name": "stdout",
     "output_type": "stream",
     "text": [
      "  type name  price\n",
      "A   居家  家樂福  11.42\n",
      "B   居家  大潤發  23.50\n",
      "C   娛樂  家樂福  19.99\n",
      "D   娛樂  全聯超  15.95\n",
      "E   科技  大潤發  55.75\n",
      "  type name   price\n",
      "A   居家  家樂福   11.42\n",
      "C   娛樂  家樂福   19.99\n",
      "E   科技  大潤發   55.75\n",
      "F   科技  家樂福  111.55\n",
      "  type name   price\n",
      "A   居家  家樂福   11.42\n",
      "B   居家  大潤發   23.50\n",
      "E   科技  大潤發   55.75\n",
      "F   科技  家樂福  111.55\n"
     ]
    }
   ],
   "source": [
    "#Ch12_4_2a\n",
    "import pandas as pd\n",
    "\n",
    "df = pd.read_csv(\"products.csv\", encoding=\"utf8\")\n",
    "\n",
    "df.columns = [\"type\", \"name\", \"price\"]\n",
    "ordinals = [\"A\", \"B\", \"C\", \"D\", \"E\", \"F\"]\n",
    "df.index = ordinals\n",
    "\n",
    "print(df.head())\n",
    "# 刪除記錄\n",
    "df2 = df.drop([\"B\", \"D\"])    # 2,4 筆\n",
    "print(df2.head())\n",
    "df2.head().to_html(\"Ch12_4_2a_01.html\")\n",
    "df.drop(df.index[[2,3]], inplace=True) # 3,4 筆\n",
    "print(df.head())\n",
    "df.head().to_html(\"Ch12_4_2a_02.html\")"
   ]
  },
  {
   "cell_type": "code",
   "execution_count": 39,
   "metadata": {},
   "outputs": [
    {
     "name": "stdout",
     "output_type": "stream",
     "text": [
      "  type name  price\n",
      "A   居家  家樂福  11.42\n",
      "B   居家  大潤發  23.50\n",
      "C   娛樂  家樂福  19.99\n",
      "  type name\n",
      "A   居家  家樂福\n",
      "B   居家  大潤發\n",
      "C   娛樂  家樂福\n"
     ]
    }
   ],
   "source": [
    "#Ch12_4_2b\n",
    "import pandas as pd\n",
    "\n",
    "df = pd.read_csv(\"products.csv\", encoding=\"utf8\")\n",
    "\n",
    "df.columns = [\"type\", \"name\", \"price\"]\n",
    "ordinals = [\"A\", \"B\", \"C\", \"D\", \"E\", \"F\"]\n",
    "df.index = ordinals\n",
    "\n",
    "print(df.head(3))\n",
    "# 刪除欄位\n",
    "df2 = df.drop([\"price\"], axis=1)\n",
    "print(df2.head(3))\n",
    "df2.head(3).to_html(\"Ch12_4_2b.html\")"
   ]
  },
  {
   "cell_type": "code",
   "execution_count": 40,
   "metadata": {},
   "outputs": [
    {
     "name": "stdout",
     "output_type": "stream",
     "text": [
      "  type name   price\n",
      "D   娛樂  全聯超   15.95\n",
      "E   科技  大潤發   55.75\n",
      "F   科技  家樂福  111.55\n",
      "  type name   price\n",
      "E   科技  大潤發   55.75\n",
      "F   科技  家樂福  111.55\n",
      "G   科學  全聯超   28.50\n",
      "  type name   price\n",
      "5   科技  家樂福  111.55\n",
      "6   科學  全聯超   28.50\n",
      "7   科學  大潤發   79.20\n"
     ]
    }
   ],
   "source": [
    "#Ch12_4_3\n",
    "import pandas as pd\n",
    "\n",
    "df = pd.read_csv(\"products.csv\", encoding=\"utf8\")\n",
    "\n",
    "df.columns = [\"type\", \"name\", \"price\"]\n",
    "ordinals = [\"A\", \"B\", \"C\", \"D\", \"E\", \"F\"]\n",
    "df.index = ordinals\n",
    "\n",
    "print(df.tail(3))\n",
    "# 新增記錄\n",
    "df.loc[\"G\"] = [\"科學\", \"全聯超\", 28.5]\n",
    "print(df.tail(3))\n",
    "df.tail(3).to_html(\"Ch12_4_3_01.html\")\n",
    "s = pd.Series({\"type\":\"科學\",\"name\":\"大潤發\",\"price\":79.2})\n",
    "df2 = df.append(s, ignore_index=True)\n",
    "print(df2.tail(3))\n",
    "df2.tail(3).to_html(\"Ch12_4_3_02.html\")"
   ]
  },
  {
   "cell_type": "code",
   "execution_count": 41,
   "metadata": {},
   "outputs": [
    {
     "name": "stdout",
     "output_type": "stream",
     "text": [
      "  type name  price  sales\n",
      "A   居家  家樂福  11.42  124.5\n",
      "B   居家  大潤發  23.50  227.5\n",
      "C   娛樂  家樂福  19.99  156.7\n",
      "D   娛樂  全聯超  15.95  435.6\n",
      "E   科技  大潤發  55.75  333.7\n",
      "  type name  price  sales city\n",
      "A   居家  家樂福  11.42  124.5   台北\n",
      "B   居家  大潤發  23.50  227.5   新竹\n",
      "C   娛樂  家樂福  19.99  156.7   台北\n",
      "D   娛樂  全聯超  15.95  435.6   台中\n",
      "E   科技  大潤發  55.75  333.7   新北\n"
     ]
    }
   ],
   "source": [
    "#Ch12_4_3a\n",
    "import pandas as pd\n",
    "\n",
    "df = pd.read_csv(\"products.csv\", encoding=\"utf8\")\n",
    "\n",
    "df.columns = [\"type\", \"name\", \"price\"]\n",
    "ordinals = [\"A\", \"B\", \"C\", \"D\", \"E\", \"F\"]\n",
    "df.index = ordinals\n",
    "\n",
    "df[\"sales\"] = [124.5,227.5,156.7,435.6,333.7,259.8] \n",
    "print(df.head())\n",
    "df.head().to_html(\"Ch12_4_3a_01.html\")\n",
    "df.loc[:,\"city\"] = [\"台北\",\"新竹\",\"台北\",\"台中\",\"新北\",\"高雄\"]\n",
    "print(df.head())\n",
    "df.head().to_html(\"Ch12_4_3a_02.html\")"
   ]
  },
  {
   "cell_type": "code",
   "execution_count": 42,
   "metadata": {},
   "outputs": [
    {
     "name": "stdout",
     "output_type": "stream",
     "text": [
      "  type name price\n",
      "A  NaN  NaN   NaN\n",
      "B  NaN  NaN   NaN\n",
      "C  NaN  NaN   NaN\n",
      "D  NaN  NaN   NaN\n",
      "E  NaN  NaN   NaN\n",
      "F  NaN  NaN   NaN\n",
      "  type name   price\n",
      "A   居家  家樂福   11.42\n",
      "B   居家  大潤發   23.50\n",
      "C   娛樂  家樂福   19.99\n",
      "D   娛樂  全聯超   15.95\n",
      "E   科技  大潤發   55.75\n",
      "F   科技  家樂福  111.55\n"
     ]
    }
   ],
   "source": [
    "#Ch12_4_4\n",
    "import pandas as pd\n",
    "\n",
    "df = pd.read_csv(\"products.csv\", encoding=\"utf8\")\n",
    "\n",
    "df.columns = [\"type\", \"name\", \"price\"]\n",
    "ordinals = [\"A\", \"B\", \"C\", \"D\", \"E\", \"F\"]\n",
    "df.index = ordinals\n",
    "\n",
    "columns = [\"type\", \"name\", \"price\"]\n",
    "# 建立空的DataFrame物件\n",
    "df_empty = pd.DataFrame(None, index=ordinals, columns=columns)\n",
    "print(df_empty)\n",
    "# 複製DataFrame物件\n",
    "df_copy = df.copy()\n",
    "print(df_copy)"
   ]
  },
  {
   "cell_type": "code",
   "execution_count": 43,
   "metadata": {},
   "outputs": [
    {
     "ename": "FileNotFoundError",
     "evalue": "File b'products2.csv' does not exist",
     "output_type": "error",
     "traceback": [
      "\u001b[1;31m---------------------------------------------------------------------------\u001b[0m",
      "\u001b[1;31mFileNotFoundError\u001b[0m                         Traceback (most recent call last)",
      "\u001b[1;32m<ipython-input-43-9e8a66d507c6>\u001b[0m in \u001b[0;36m<module>\u001b[1;34m\u001b[0m\n\u001b[0;32m      7\u001b[0m \u001b[0mdf\u001b[0m\u001b[1;33m.\u001b[0m\u001b[0mcolumns\u001b[0m \u001b[1;33m=\u001b[0m \u001b[0mcolumns\u001b[0m\u001b[1;33m\u001b[0m\u001b[1;33m\u001b[0m\u001b[0m\n\u001b[0;32m      8\u001b[0m \u001b[1;33m\u001b[0m\u001b[0m\n\u001b[1;32m----> 9\u001b[1;33m \u001b[0mdf2\u001b[0m \u001b[1;33m=\u001b[0m \u001b[0mpd\u001b[0m\u001b[1;33m.\u001b[0m\u001b[0mread_csv\u001b[0m\u001b[1;33m(\u001b[0m\u001b[1;34m\"products2.csv\"\u001b[0m\u001b[1;33m,\u001b[0m \u001b[0mencoding\u001b[0m\u001b[1;33m=\u001b[0m\u001b[1;34m\"utf8\"\u001b[0m\u001b[1;33m)\u001b[0m\u001b[1;33m\u001b[0m\u001b[1;33m\u001b[0m\u001b[0m\n\u001b[0m\u001b[0;32m     10\u001b[0m \u001b[0mdf2\u001b[0m\u001b[1;33m.\u001b[0m\u001b[0mindex\u001b[0m \u001b[1;33m=\u001b[0m \u001b[1;33m[\u001b[0m\u001b[1;34m\"A\"\u001b[0m\u001b[1;33m,\u001b[0m\u001b[1;34m\"B\"\u001b[0m\u001b[1;33m,\u001b[0m\u001b[1;34m\"C\"\u001b[0m\u001b[1;33m]\u001b[0m\u001b[1;33m\u001b[0m\u001b[1;33m\u001b[0m\u001b[0m\n\u001b[0;32m     11\u001b[0m \u001b[0mdf2\u001b[0m\u001b[1;33m.\u001b[0m\u001b[0mcolumns\u001b[0m \u001b[1;33m=\u001b[0m \u001b[0mcolumns\u001b[0m\u001b[1;33m\u001b[0m\u001b[1;33m\u001b[0m\u001b[0m\n",
      "\u001b[1;32m~\\Anaconda3\\lib\\site-packages\\pandas\\io\\parsers.py\u001b[0m in \u001b[0;36mparser_f\u001b[1;34m(filepath_or_buffer, sep, delimiter, header, names, index_col, usecols, squeeze, prefix, mangle_dupe_cols, dtype, engine, converters, true_values, false_values, skipinitialspace, skiprows, nrows, na_values, keep_default_na, na_filter, verbose, skip_blank_lines, parse_dates, infer_datetime_format, keep_date_col, date_parser, dayfirst, iterator, chunksize, compression, thousands, decimal, lineterminator, quotechar, quoting, escapechar, comment, encoding, dialect, tupleize_cols, error_bad_lines, warn_bad_lines, skipfooter, doublequote, delim_whitespace, low_memory, memory_map, float_precision)\u001b[0m\n\u001b[0;32m    676\u001b[0m                     skip_blank_lines=skip_blank_lines)\n\u001b[0;32m    677\u001b[0m \u001b[1;33m\u001b[0m\u001b[0m\n\u001b[1;32m--> 678\u001b[1;33m         \u001b[1;32mreturn\u001b[0m \u001b[0m_read\u001b[0m\u001b[1;33m(\u001b[0m\u001b[0mfilepath_or_buffer\u001b[0m\u001b[1;33m,\u001b[0m \u001b[0mkwds\u001b[0m\u001b[1;33m)\u001b[0m\u001b[1;33m\u001b[0m\u001b[1;33m\u001b[0m\u001b[0m\n\u001b[0m\u001b[0;32m    679\u001b[0m \u001b[1;33m\u001b[0m\u001b[0m\n\u001b[0;32m    680\u001b[0m     \u001b[0mparser_f\u001b[0m\u001b[1;33m.\u001b[0m\u001b[0m__name__\u001b[0m \u001b[1;33m=\u001b[0m \u001b[0mname\u001b[0m\u001b[1;33m\u001b[0m\u001b[1;33m\u001b[0m\u001b[0m\n",
      "\u001b[1;32m~\\Anaconda3\\lib\\site-packages\\pandas\\io\\parsers.py\u001b[0m in \u001b[0;36m_read\u001b[1;34m(filepath_or_buffer, kwds)\u001b[0m\n\u001b[0;32m    438\u001b[0m \u001b[1;33m\u001b[0m\u001b[0m\n\u001b[0;32m    439\u001b[0m     \u001b[1;31m# Create the parser.\u001b[0m\u001b[1;33m\u001b[0m\u001b[1;33m\u001b[0m\u001b[1;33m\u001b[0m\u001b[0m\n\u001b[1;32m--> 440\u001b[1;33m     \u001b[0mparser\u001b[0m \u001b[1;33m=\u001b[0m \u001b[0mTextFileReader\u001b[0m\u001b[1;33m(\u001b[0m\u001b[0mfilepath_or_buffer\u001b[0m\u001b[1;33m,\u001b[0m \u001b[1;33m**\u001b[0m\u001b[0mkwds\u001b[0m\u001b[1;33m)\u001b[0m\u001b[1;33m\u001b[0m\u001b[1;33m\u001b[0m\u001b[0m\n\u001b[0m\u001b[0;32m    441\u001b[0m \u001b[1;33m\u001b[0m\u001b[0m\n\u001b[0;32m    442\u001b[0m     \u001b[1;32mif\u001b[0m \u001b[0mchunksize\u001b[0m \u001b[1;32mor\u001b[0m \u001b[0miterator\u001b[0m\u001b[1;33m:\u001b[0m\u001b[1;33m\u001b[0m\u001b[1;33m\u001b[0m\u001b[0m\n",
      "\u001b[1;32m~\\Anaconda3\\lib\\site-packages\\pandas\\io\\parsers.py\u001b[0m in \u001b[0;36m__init__\u001b[1;34m(self, f, engine, **kwds)\u001b[0m\n\u001b[0;32m    785\u001b[0m             \u001b[0mself\u001b[0m\u001b[1;33m.\u001b[0m\u001b[0moptions\u001b[0m\u001b[1;33m[\u001b[0m\u001b[1;34m'has_index_names'\u001b[0m\u001b[1;33m]\u001b[0m \u001b[1;33m=\u001b[0m \u001b[0mkwds\u001b[0m\u001b[1;33m[\u001b[0m\u001b[1;34m'has_index_names'\u001b[0m\u001b[1;33m]\u001b[0m\u001b[1;33m\u001b[0m\u001b[1;33m\u001b[0m\u001b[0m\n\u001b[0;32m    786\u001b[0m \u001b[1;33m\u001b[0m\u001b[0m\n\u001b[1;32m--> 787\u001b[1;33m         \u001b[0mself\u001b[0m\u001b[1;33m.\u001b[0m\u001b[0m_make_engine\u001b[0m\u001b[1;33m(\u001b[0m\u001b[0mself\u001b[0m\u001b[1;33m.\u001b[0m\u001b[0mengine\u001b[0m\u001b[1;33m)\u001b[0m\u001b[1;33m\u001b[0m\u001b[1;33m\u001b[0m\u001b[0m\n\u001b[0m\u001b[0;32m    788\u001b[0m \u001b[1;33m\u001b[0m\u001b[0m\n\u001b[0;32m    789\u001b[0m     \u001b[1;32mdef\u001b[0m \u001b[0mclose\u001b[0m\u001b[1;33m(\u001b[0m\u001b[0mself\u001b[0m\u001b[1;33m)\u001b[0m\u001b[1;33m:\u001b[0m\u001b[1;33m\u001b[0m\u001b[1;33m\u001b[0m\u001b[0m\n",
      "\u001b[1;32m~\\Anaconda3\\lib\\site-packages\\pandas\\io\\parsers.py\u001b[0m in \u001b[0;36m_make_engine\u001b[1;34m(self, engine)\u001b[0m\n\u001b[0;32m   1012\u001b[0m     \u001b[1;32mdef\u001b[0m \u001b[0m_make_engine\u001b[0m\u001b[1;33m(\u001b[0m\u001b[0mself\u001b[0m\u001b[1;33m,\u001b[0m \u001b[0mengine\u001b[0m\u001b[1;33m=\u001b[0m\u001b[1;34m'c'\u001b[0m\u001b[1;33m)\u001b[0m\u001b[1;33m:\u001b[0m\u001b[1;33m\u001b[0m\u001b[1;33m\u001b[0m\u001b[0m\n\u001b[0;32m   1013\u001b[0m         \u001b[1;32mif\u001b[0m \u001b[0mengine\u001b[0m \u001b[1;33m==\u001b[0m \u001b[1;34m'c'\u001b[0m\u001b[1;33m:\u001b[0m\u001b[1;33m\u001b[0m\u001b[1;33m\u001b[0m\u001b[0m\n\u001b[1;32m-> 1014\u001b[1;33m             \u001b[0mself\u001b[0m\u001b[1;33m.\u001b[0m\u001b[0m_engine\u001b[0m \u001b[1;33m=\u001b[0m \u001b[0mCParserWrapper\u001b[0m\u001b[1;33m(\u001b[0m\u001b[0mself\u001b[0m\u001b[1;33m.\u001b[0m\u001b[0mf\u001b[0m\u001b[1;33m,\u001b[0m \u001b[1;33m**\u001b[0m\u001b[0mself\u001b[0m\u001b[1;33m.\u001b[0m\u001b[0moptions\u001b[0m\u001b[1;33m)\u001b[0m\u001b[1;33m\u001b[0m\u001b[1;33m\u001b[0m\u001b[0m\n\u001b[0m\u001b[0;32m   1015\u001b[0m         \u001b[1;32melse\u001b[0m\u001b[1;33m:\u001b[0m\u001b[1;33m\u001b[0m\u001b[1;33m\u001b[0m\u001b[0m\n\u001b[0;32m   1016\u001b[0m             \u001b[1;32mif\u001b[0m \u001b[0mengine\u001b[0m \u001b[1;33m==\u001b[0m \u001b[1;34m'python'\u001b[0m\u001b[1;33m:\u001b[0m\u001b[1;33m\u001b[0m\u001b[1;33m\u001b[0m\u001b[0m\n",
      "\u001b[1;32m~\\Anaconda3\\lib\\site-packages\\pandas\\io\\parsers.py\u001b[0m in \u001b[0;36m__init__\u001b[1;34m(self, src, **kwds)\u001b[0m\n\u001b[0;32m   1706\u001b[0m         \u001b[0mkwds\u001b[0m\u001b[1;33m[\u001b[0m\u001b[1;34m'usecols'\u001b[0m\u001b[1;33m]\u001b[0m \u001b[1;33m=\u001b[0m \u001b[0mself\u001b[0m\u001b[1;33m.\u001b[0m\u001b[0musecols\u001b[0m\u001b[1;33m\u001b[0m\u001b[1;33m\u001b[0m\u001b[0m\n\u001b[0;32m   1707\u001b[0m \u001b[1;33m\u001b[0m\u001b[0m\n\u001b[1;32m-> 1708\u001b[1;33m         \u001b[0mself\u001b[0m\u001b[1;33m.\u001b[0m\u001b[0m_reader\u001b[0m \u001b[1;33m=\u001b[0m \u001b[0mparsers\u001b[0m\u001b[1;33m.\u001b[0m\u001b[0mTextReader\u001b[0m\u001b[1;33m(\u001b[0m\u001b[0msrc\u001b[0m\u001b[1;33m,\u001b[0m \u001b[1;33m**\u001b[0m\u001b[0mkwds\u001b[0m\u001b[1;33m)\u001b[0m\u001b[1;33m\u001b[0m\u001b[1;33m\u001b[0m\u001b[0m\n\u001b[0m\u001b[0;32m   1709\u001b[0m \u001b[1;33m\u001b[0m\u001b[0m\n\u001b[0;32m   1710\u001b[0m         \u001b[0mpassed_names\u001b[0m \u001b[1;33m=\u001b[0m \u001b[0mself\u001b[0m\u001b[1;33m.\u001b[0m\u001b[0mnames\u001b[0m \u001b[1;32mis\u001b[0m \u001b[1;32mNone\u001b[0m\u001b[1;33m\u001b[0m\u001b[1;33m\u001b[0m\u001b[0m\n",
      "\u001b[1;32mpandas\\_libs\\parsers.pyx\u001b[0m in \u001b[0;36mpandas._libs.parsers.TextReader.__cinit__\u001b[1;34m()\u001b[0m\n",
      "\u001b[1;32mpandas\\_libs\\parsers.pyx\u001b[0m in \u001b[0;36mpandas._libs.parsers.TextReader._setup_parser_source\u001b[1;34m()\u001b[0m\n",
      "\u001b[1;31mFileNotFoundError\u001b[0m: File b'products2.csv' does not exist"
     ]
    }
   ],
   "source": [
    "#Ch12_4_4a\n",
    "import pandas as pd\n",
    "\n",
    "df = pd.read_csv(\"products.csv\", encoding=\"utf8\")\n",
    "columns = [\"type\", \"name\", \"price\"]\n",
    "df.index = [\"A\", \"B\", \"C\", \"D\", \"E\", \"F\"]\n",
    "df.columns = columns\n",
    "\n",
    "df2 = pd.read_csv(\"products2.csv\", encoding=\"utf8\")\n",
    "df2.index = [\"A\",\"B\",\"C\"]\n",
    "df2.columns = columns\n",
    " \n",
    "print(df)\n",
    "print(df2)\n",
    "df.to_html(\"Ch12_4_4a_01.html\")\n",
    "df2.to_html(\"Ch12_4_4a_02.html\")\n",
    "  \n",
    "df3 = pd.concat([df,df2])  \n",
    "print(df3)\n",
    "df3.to_html(\"Ch12_4_4a_03.html\")\n",
    "\n",
    "df4 = pd.concat([df,df2], ignore_index=True)\n",
    "print(df4) \n",
    "df4.to_html(\"Ch12_4_4a_04.html\") \n",
    "df4.to_csv(\"products3.csv\")"
   ]
  },
  {
   "cell_type": "code",
   "execution_count": 44,
   "metadata": {},
   "outputs": [
    {
     "ename": "FileNotFoundError",
     "evalue": "File b'types.csv' does not exist",
     "output_type": "error",
     "traceback": [
      "\u001b[1;31m---------------------------------------------------------------------------\u001b[0m",
      "\u001b[1;31mFileNotFoundError\u001b[0m                         Traceback (most recent call last)",
      "\u001b[1;32m<ipython-input-44-1e12ad7b44c6>\u001b[0m in \u001b[0;36m<module>\u001b[1;34m\u001b[0m\n\u001b[0;32m      6\u001b[0m \u001b[0mdf\u001b[0m\u001b[1;33m.\u001b[0m\u001b[0mcolumns\u001b[0m \u001b[1;33m=\u001b[0m \u001b[1;33m[\u001b[0m\u001b[1;34m\"type\"\u001b[0m\u001b[1;33m,\u001b[0m \u001b[1;34m\"name\"\u001b[0m\u001b[1;33m,\u001b[0m \u001b[1;34m\"price\"\u001b[0m\u001b[1;33m]\u001b[0m\u001b[1;33m\u001b[0m\u001b[1;33m\u001b[0m\u001b[0m\n\u001b[0;32m      7\u001b[0m \u001b[1;33m\u001b[0m\u001b[0m\n\u001b[1;32m----> 8\u001b[1;33m \u001b[0mdf2\u001b[0m \u001b[1;33m=\u001b[0m \u001b[0mpd\u001b[0m\u001b[1;33m.\u001b[0m\u001b[0mread_csv\u001b[0m\u001b[1;33m(\u001b[0m\u001b[1;34m\"types.csv\"\u001b[0m\u001b[1;33m,\u001b[0m \u001b[0mencoding\u001b[0m\u001b[1;33m=\u001b[0m\u001b[1;34m\"utf8\"\u001b[0m\u001b[1;33m)\u001b[0m\u001b[1;33m\u001b[0m\u001b[1;33m\u001b[0m\u001b[0m\n\u001b[0m\u001b[0;32m      9\u001b[0m \u001b[0mdf2\u001b[0m\u001b[1;33m.\u001b[0m\u001b[0mindex\u001b[0m \u001b[1;33m=\u001b[0m \u001b[1;33m[\u001b[0m\u001b[1;34m\"A\"\u001b[0m\u001b[1;33m,\u001b[0m\u001b[1;34m\"B\"\u001b[0m\u001b[1;33m,\u001b[0m\u001b[1;34m\"C\"\u001b[0m\u001b[1;33m,\u001b[0m\u001b[1;34m\"D\"\u001b[0m\u001b[1;33m]\u001b[0m\u001b[1;33m\u001b[0m\u001b[1;33m\u001b[0m\u001b[0m\n\u001b[0;32m     10\u001b[0m \u001b[0mdf2\u001b[0m\u001b[1;33m.\u001b[0m\u001b[0mcolumns\u001b[0m \u001b[1;33m=\u001b[0m \u001b[1;33m[\u001b[0m\u001b[1;34m\"type\"\u001b[0m\u001b[1;33m,\u001b[0m \u001b[1;34m\"num\"\u001b[0m\u001b[1;33m]\u001b[0m\u001b[1;33m\u001b[0m\u001b[1;33m\u001b[0m\u001b[0m\n",
      "\u001b[1;32m~\\Anaconda3\\lib\\site-packages\\pandas\\io\\parsers.py\u001b[0m in \u001b[0;36mparser_f\u001b[1;34m(filepath_or_buffer, sep, delimiter, header, names, index_col, usecols, squeeze, prefix, mangle_dupe_cols, dtype, engine, converters, true_values, false_values, skipinitialspace, skiprows, nrows, na_values, keep_default_na, na_filter, verbose, skip_blank_lines, parse_dates, infer_datetime_format, keep_date_col, date_parser, dayfirst, iterator, chunksize, compression, thousands, decimal, lineterminator, quotechar, quoting, escapechar, comment, encoding, dialect, tupleize_cols, error_bad_lines, warn_bad_lines, skipfooter, doublequote, delim_whitespace, low_memory, memory_map, float_precision)\u001b[0m\n\u001b[0;32m    676\u001b[0m                     skip_blank_lines=skip_blank_lines)\n\u001b[0;32m    677\u001b[0m \u001b[1;33m\u001b[0m\u001b[0m\n\u001b[1;32m--> 678\u001b[1;33m         \u001b[1;32mreturn\u001b[0m \u001b[0m_read\u001b[0m\u001b[1;33m(\u001b[0m\u001b[0mfilepath_or_buffer\u001b[0m\u001b[1;33m,\u001b[0m \u001b[0mkwds\u001b[0m\u001b[1;33m)\u001b[0m\u001b[1;33m\u001b[0m\u001b[1;33m\u001b[0m\u001b[0m\n\u001b[0m\u001b[0;32m    679\u001b[0m \u001b[1;33m\u001b[0m\u001b[0m\n\u001b[0;32m    680\u001b[0m     \u001b[0mparser_f\u001b[0m\u001b[1;33m.\u001b[0m\u001b[0m__name__\u001b[0m \u001b[1;33m=\u001b[0m \u001b[0mname\u001b[0m\u001b[1;33m\u001b[0m\u001b[1;33m\u001b[0m\u001b[0m\n",
      "\u001b[1;32m~\\Anaconda3\\lib\\site-packages\\pandas\\io\\parsers.py\u001b[0m in \u001b[0;36m_read\u001b[1;34m(filepath_or_buffer, kwds)\u001b[0m\n\u001b[0;32m    438\u001b[0m \u001b[1;33m\u001b[0m\u001b[0m\n\u001b[0;32m    439\u001b[0m     \u001b[1;31m# Create the parser.\u001b[0m\u001b[1;33m\u001b[0m\u001b[1;33m\u001b[0m\u001b[1;33m\u001b[0m\u001b[0m\n\u001b[1;32m--> 440\u001b[1;33m     \u001b[0mparser\u001b[0m \u001b[1;33m=\u001b[0m \u001b[0mTextFileReader\u001b[0m\u001b[1;33m(\u001b[0m\u001b[0mfilepath_or_buffer\u001b[0m\u001b[1;33m,\u001b[0m \u001b[1;33m**\u001b[0m\u001b[0mkwds\u001b[0m\u001b[1;33m)\u001b[0m\u001b[1;33m\u001b[0m\u001b[1;33m\u001b[0m\u001b[0m\n\u001b[0m\u001b[0;32m    441\u001b[0m \u001b[1;33m\u001b[0m\u001b[0m\n\u001b[0;32m    442\u001b[0m     \u001b[1;32mif\u001b[0m \u001b[0mchunksize\u001b[0m \u001b[1;32mor\u001b[0m \u001b[0miterator\u001b[0m\u001b[1;33m:\u001b[0m\u001b[1;33m\u001b[0m\u001b[1;33m\u001b[0m\u001b[0m\n",
      "\u001b[1;32m~\\Anaconda3\\lib\\site-packages\\pandas\\io\\parsers.py\u001b[0m in \u001b[0;36m__init__\u001b[1;34m(self, f, engine, **kwds)\u001b[0m\n\u001b[0;32m    785\u001b[0m             \u001b[0mself\u001b[0m\u001b[1;33m.\u001b[0m\u001b[0moptions\u001b[0m\u001b[1;33m[\u001b[0m\u001b[1;34m'has_index_names'\u001b[0m\u001b[1;33m]\u001b[0m \u001b[1;33m=\u001b[0m \u001b[0mkwds\u001b[0m\u001b[1;33m[\u001b[0m\u001b[1;34m'has_index_names'\u001b[0m\u001b[1;33m]\u001b[0m\u001b[1;33m\u001b[0m\u001b[1;33m\u001b[0m\u001b[0m\n\u001b[0;32m    786\u001b[0m \u001b[1;33m\u001b[0m\u001b[0m\n\u001b[1;32m--> 787\u001b[1;33m         \u001b[0mself\u001b[0m\u001b[1;33m.\u001b[0m\u001b[0m_make_engine\u001b[0m\u001b[1;33m(\u001b[0m\u001b[0mself\u001b[0m\u001b[1;33m.\u001b[0m\u001b[0mengine\u001b[0m\u001b[1;33m)\u001b[0m\u001b[1;33m\u001b[0m\u001b[1;33m\u001b[0m\u001b[0m\n\u001b[0m\u001b[0;32m    788\u001b[0m \u001b[1;33m\u001b[0m\u001b[0m\n\u001b[0;32m    789\u001b[0m     \u001b[1;32mdef\u001b[0m \u001b[0mclose\u001b[0m\u001b[1;33m(\u001b[0m\u001b[0mself\u001b[0m\u001b[1;33m)\u001b[0m\u001b[1;33m:\u001b[0m\u001b[1;33m\u001b[0m\u001b[1;33m\u001b[0m\u001b[0m\n",
      "\u001b[1;32m~\\Anaconda3\\lib\\site-packages\\pandas\\io\\parsers.py\u001b[0m in \u001b[0;36m_make_engine\u001b[1;34m(self, engine)\u001b[0m\n\u001b[0;32m   1012\u001b[0m     \u001b[1;32mdef\u001b[0m \u001b[0m_make_engine\u001b[0m\u001b[1;33m(\u001b[0m\u001b[0mself\u001b[0m\u001b[1;33m,\u001b[0m \u001b[0mengine\u001b[0m\u001b[1;33m=\u001b[0m\u001b[1;34m'c'\u001b[0m\u001b[1;33m)\u001b[0m\u001b[1;33m:\u001b[0m\u001b[1;33m\u001b[0m\u001b[1;33m\u001b[0m\u001b[0m\n\u001b[0;32m   1013\u001b[0m         \u001b[1;32mif\u001b[0m \u001b[0mengine\u001b[0m \u001b[1;33m==\u001b[0m \u001b[1;34m'c'\u001b[0m\u001b[1;33m:\u001b[0m\u001b[1;33m\u001b[0m\u001b[1;33m\u001b[0m\u001b[0m\n\u001b[1;32m-> 1014\u001b[1;33m             \u001b[0mself\u001b[0m\u001b[1;33m.\u001b[0m\u001b[0m_engine\u001b[0m \u001b[1;33m=\u001b[0m \u001b[0mCParserWrapper\u001b[0m\u001b[1;33m(\u001b[0m\u001b[0mself\u001b[0m\u001b[1;33m.\u001b[0m\u001b[0mf\u001b[0m\u001b[1;33m,\u001b[0m \u001b[1;33m**\u001b[0m\u001b[0mself\u001b[0m\u001b[1;33m.\u001b[0m\u001b[0moptions\u001b[0m\u001b[1;33m)\u001b[0m\u001b[1;33m\u001b[0m\u001b[1;33m\u001b[0m\u001b[0m\n\u001b[0m\u001b[0;32m   1015\u001b[0m         \u001b[1;32melse\u001b[0m\u001b[1;33m:\u001b[0m\u001b[1;33m\u001b[0m\u001b[1;33m\u001b[0m\u001b[0m\n\u001b[0;32m   1016\u001b[0m             \u001b[1;32mif\u001b[0m \u001b[0mengine\u001b[0m \u001b[1;33m==\u001b[0m \u001b[1;34m'python'\u001b[0m\u001b[1;33m:\u001b[0m\u001b[1;33m\u001b[0m\u001b[1;33m\u001b[0m\u001b[0m\n",
      "\u001b[1;32m~\\Anaconda3\\lib\\site-packages\\pandas\\io\\parsers.py\u001b[0m in \u001b[0;36m__init__\u001b[1;34m(self, src, **kwds)\u001b[0m\n\u001b[0;32m   1706\u001b[0m         \u001b[0mkwds\u001b[0m\u001b[1;33m[\u001b[0m\u001b[1;34m'usecols'\u001b[0m\u001b[1;33m]\u001b[0m \u001b[1;33m=\u001b[0m \u001b[0mself\u001b[0m\u001b[1;33m.\u001b[0m\u001b[0musecols\u001b[0m\u001b[1;33m\u001b[0m\u001b[1;33m\u001b[0m\u001b[0m\n\u001b[0;32m   1707\u001b[0m \u001b[1;33m\u001b[0m\u001b[0m\n\u001b[1;32m-> 1708\u001b[1;33m         \u001b[0mself\u001b[0m\u001b[1;33m.\u001b[0m\u001b[0m_reader\u001b[0m \u001b[1;33m=\u001b[0m \u001b[0mparsers\u001b[0m\u001b[1;33m.\u001b[0m\u001b[0mTextReader\u001b[0m\u001b[1;33m(\u001b[0m\u001b[0msrc\u001b[0m\u001b[1;33m,\u001b[0m \u001b[1;33m**\u001b[0m\u001b[0mkwds\u001b[0m\u001b[1;33m)\u001b[0m\u001b[1;33m\u001b[0m\u001b[1;33m\u001b[0m\u001b[0m\n\u001b[0m\u001b[0;32m   1709\u001b[0m \u001b[1;33m\u001b[0m\u001b[0m\n\u001b[0;32m   1710\u001b[0m         \u001b[0mpassed_names\u001b[0m \u001b[1;33m=\u001b[0m \u001b[0mself\u001b[0m\u001b[1;33m.\u001b[0m\u001b[0mnames\u001b[0m \u001b[1;32mis\u001b[0m \u001b[1;32mNone\u001b[0m\u001b[1;33m\u001b[0m\u001b[1;33m\u001b[0m\u001b[0m\n",
      "\u001b[1;32mpandas\\_libs\\parsers.pyx\u001b[0m in \u001b[0;36mpandas._libs.parsers.TextReader.__cinit__\u001b[1;34m()\u001b[0m\n",
      "\u001b[1;32mpandas\\_libs\\parsers.pyx\u001b[0m in \u001b[0;36mpandas._libs.parsers.TextReader._setup_parser_source\u001b[1;34m()\u001b[0m\n",
      "\u001b[1;31mFileNotFoundError\u001b[0m: File b'types.csv' does not exist"
     ]
    }
   ],
   "source": [
    "#Ch12_4_4b\n",
    "import pandas as pd\n",
    "\n",
    "df = pd.read_csv(\"products.csv\", encoding=\"utf8\")\n",
    "df.index = [\"A\", \"B\", \"C\", \"D\", \"E\", \"F\"]\n",
    "df.columns = [\"type\", \"name\", \"price\"]\n",
    "\n",
    "df2 = pd.read_csv(\"types.csv\", encoding=\"utf8\")\n",
    "df2.index = [\"A\",\"B\",\"C\",\"D\"]\n",
    "df2.columns = [\"type\", \"num\"]\n",
    " \n",
    "print(df)\n",
    "print(df2)\n",
    "df.to_html(\"Ch12_4_4b_01.html\")\n",
    "df2.to_html(\"Ch12_4_4b_02.html\")\n",
    "\n",
    "df3 = pd.merge(df, df2)\n",
    "print(df3)\n",
    "df3.to_html(\"Ch12_4_4b_03.html\")\n",
    "\n",
    "df4 = pd.merge(df2, df)\n",
    "print(df4)\n",
    "df4.to_html(\"Ch12_4_4b_04.html\")\n",
    "\n",
    "df5 = pd.merge(df2, df, how='left')\n",
    "print(df5)\n",
    "df5.to_html(\"Ch12_4_4b_05.html\")"
   ]
  },
  {
   "cell_type": "code",
   "execution_count": 45,
   "metadata": {},
   "outputs": [
    {
     "ename": "FileNotFoundError",
     "evalue": "File b'products3.csv' does not exist",
     "output_type": "error",
     "traceback": [
      "\u001b[1;31m---------------------------------------------------------------------------\u001b[0m",
      "\u001b[1;31mFileNotFoundError\u001b[0m                         Traceback (most recent call last)",
      "\u001b[1;32m<ipython-input-45-315321fa8acf>\u001b[0m in \u001b[0;36m<module>\u001b[1;34m\u001b[0m\n\u001b[0;32m      2\u001b[0m \u001b[1;32mimport\u001b[0m \u001b[0mpandas\u001b[0m \u001b[1;32mas\u001b[0m \u001b[0mpd\u001b[0m\u001b[1;33m\u001b[0m\u001b[1;33m\u001b[0m\u001b[0m\n\u001b[0;32m      3\u001b[0m \u001b[1;33m\u001b[0m\u001b[0m\n\u001b[1;32m----> 4\u001b[1;33m \u001b[0mdf\u001b[0m \u001b[1;33m=\u001b[0m \u001b[0mpd\u001b[0m\u001b[1;33m.\u001b[0m\u001b[0mread_csv\u001b[0m\u001b[1;33m(\u001b[0m\u001b[1;34m\"products3.csv\"\u001b[0m\u001b[1;33m,\u001b[0m \u001b[0mencoding\u001b[0m\u001b[1;33m=\u001b[0m\u001b[1;34m\"utf8\"\u001b[0m\u001b[1;33m)\u001b[0m\u001b[1;33m\u001b[0m\u001b[1;33m\u001b[0m\u001b[0m\n\u001b[0m\u001b[0;32m      5\u001b[0m \u001b[0mdf\u001b[0m\u001b[1;33m.\u001b[0m\u001b[0mindex\u001b[0m \u001b[1;33m=\u001b[0m \u001b[1;33m[\u001b[0m\u001b[1;34m\"A\"\u001b[0m\u001b[1;33m,\u001b[0m\u001b[1;34m\"B\"\u001b[0m\u001b[1;33m,\u001b[0m\u001b[1;34m\"C\"\u001b[0m\u001b[1;33m,\u001b[0m\u001b[1;34m\"D\"\u001b[0m\u001b[1;33m,\u001b[0m\u001b[1;34m\"E\"\u001b[0m\u001b[1;33m,\u001b[0m\u001b[1;34m\"F\"\u001b[0m\u001b[1;33m,\u001b[0m\u001b[1;34m\"G\"\u001b[0m\u001b[1;33m,\u001b[0m\u001b[1;34m\"H\"\u001b[0m\u001b[1;33m,\u001b[0m\u001b[1;34m\"I\"\u001b[0m\u001b[1;33m]\u001b[0m\u001b[1;33m\u001b[0m\u001b[1;33m\u001b[0m\u001b[0m\n\u001b[0;32m      6\u001b[0m \u001b[0mdf\u001b[0m\u001b[1;33m.\u001b[0m\u001b[0mcolumns\u001b[0m \u001b[1;33m=\u001b[0m \u001b[1;33m[\u001b[0m\u001b[1;34m\"type\"\u001b[0m\u001b[1;33m,\u001b[0m \u001b[1;34m\"name\"\u001b[0m\u001b[1;33m,\u001b[0m \u001b[1;34m\"price\"\u001b[0m\u001b[1;33m]\u001b[0m\u001b[1;33m\u001b[0m\u001b[1;33m\u001b[0m\u001b[0m\n",
      "\u001b[1;32m~\\Anaconda3\\lib\\site-packages\\pandas\\io\\parsers.py\u001b[0m in \u001b[0;36mparser_f\u001b[1;34m(filepath_or_buffer, sep, delimiter, header, names, index_col, usecols, squeeze, prefix, mangle_dupe_cols, dtype, engine, converters, true_values, false_values, skipinitialspace, skiprows, nrows, na_values, keep_default_na, na_filter, verbose, skip_blank_lines, parse_dates, infer_datetime_format, keep_date_col, date_parser, dayfirst, iterator, chunksize, compression, thousands, decimal, lineterminator, quotechar, quoting, escapechar, comment, encoding, dialect, tupleize_cols, error_bad_lines, warn_bad_lines, skipfooter, doublequote, delim_whitespace, low_memory, memory_map, float_precision)\u001b[0m\n\u001b[0;32m    676\u001b[0m                     skip_blank_lines=skip_blank_lines)\n\u001b[0;32m    677\u001b[0m \u001b[1;33m\u001b[0m\u001b[0m\n\u001b[1;32m--> 678\u001b[1;33m         \u001b[1;32mreturn\u001b[0m \u001b[0m_read\u001b[0m\u001b[1;33m(\u001b[0m\u001b[0mfilepath_or_buffer\u001b[0m\u001b[1;33m,\u001b[0m \u001b[0mkwds\u001b[0m\u001b[1;33m)\u001b[0m\u001b[1;33m\u001b[0m\u001b[1;33m\u001b[0m\u001b[0m\n\u001b[0m\u001b[0;32m    679\u001b[0m \u001b[1;33m\u001b[0m\u001b[0m\n\u001b[0;32m    680\u001b[0m     \u001b[0mparser_f\u001b[0m\u001b[1;33m.\u001b[0m\u001b[0m__name__\u001b[0m \u001b[1;33m=\u001b[0m \u001b[0mname\u001b[0m\u001b[1;33m\u001b[0m\u001b[1;33m\u001b[0m\u001b[0m\n",
      "\u001b[1;32m~\\Anaconda3\\lib\\site-packages\\pandas\\io\\parsers.py\u001b[0m in \u001b[0;36m_read\u001b[1;34m(filepath_or_buffer, kwds)\u001b[0m\n\u001b[0;32m    438\u001b[0m \u001b[1;33m\u001b[0m\u001b[0m\n\u001b[0;32m    439\u001b[0m     \u001b[1;31m# Create the parser.\u001b[0m\u001b[1;33m\u001b[0m\u001b[1;33m\u001b[0m\u001b[1;33m\u001b[0m\u001b[0m\n\u001b[1;32m--> 440\u001b[1;33m     \u001b[0mparser\u001b[0m \u001b[1;33m=\u001b[0m \u001b[0mTextFileReader\u001b[0m\u001b[1;33m(\u001b[0m\u001b[0mfilepath_or_buffer\u001b[0m\u001b[1;33m,\u001b[0m \u001b[1;33m**\u001b[0m\u001b[0mkwds\u001b[0m\u001b[1;33m)\u001b[0m\u001b[1;33m\u001b[0m\u001b[1;33m\u001b[0m\u001b[0m\n\u001b[0m\u001b[0;32m    441\u001b[0m \u001b[1;33m\u001b[0m\u001b[0m\n\u001b[0;32m    442\u001b[0m     \u001b[1;32mif\u001b[0m \u001b[0mchunksize\u001b[0m \u001b[1;32mor\u001b[0m \u001b[0miterator\u001b[0m\u001b[1;33m:\u001b[0m\u001b[1;33m\u001b[0m\u001b[1;33m\u001b[0m\u001b[0m\n",
      "\u001b[1;32m~\\Anaconda3\\lib\\site-packages\\pandas\\io\\parsers.py\u001b[0m in \u001b[0;36m__init__\u001b[1;34m(self, f, engine, **kwds)\u001b[0m\n\u001b[0;32m    785\u001b[0m             \u001b[0mself\u001b[0m\u001b[1;33m.\u001b[0m\u001b[0moptions\u001b[0m\u001b[1;33m[\u001b[0m\u001b[1;34m'has_index_names'\u001b[0m\u001b[1;33m]\u001b[0m \u001b[1;33m=\u001b[0m \u001b[0mkwds\u001b[0m\u001b[1;33m[\u001b[0m\u001b[1;34m'has_index_names'\u001b[0m\u001b[1;33m]\u001b[0m\u001b[1;33m\u001b[0m\u001b[1;33m\u001b[0m\u001b[0m\n\u001b[0;32m    786\u001b[0m \u001b[1;33m\u001b[0m\u001b[0m\n\u001b[1;32m--> 787\u001b[1;33m         \u001b[0mself\u001b[0m\u001b[1;33m.\u001b[0m\u001b[0m_make_engine\u001b[0m\u001b[1;33m(\u001b[0m\u001b[0mself\u001b[0m\u001b[1;33m.\u001b[0m\u001b[0mengine\u001b[0m\u001b[1;33m)\u001b[0m\u001b[1;33m\u001b[0m\u001b[1;33m\u001b[0m\u001b[0m\n\u001b[0m\u001b[0;32m    788\u001b[0m \u001b[1;33m\u001b[0m\u001b[0m\n\u001b[0;32m    789\u001b[0m     \u001b[1;32mdef\u001b[0m \u001b[0mclose\u001b[0m\u001b[1;33m(\u001b[0m\u001b[0mself\u001b[0m\u001b[1;33m)\u001b[0m\u001b[1;33m:\u001b[0m\u001b[1;33m\u001b[0m\u001b[1;33m\u001b[0m\u001b[0m\n",
      "\u001b[1;32m~\\Anaconda3\\lib\\site-packages\\pandas\\io\\parsers.py\u001b[0m in \u001b[0;36m_make_engine\u001b[1;34m(self, engine)\u001b[0m\n\u001b[0;32m   1012\u001b[0m     \u001b[1;32mdef\u001b[0m \u001b[0m_make_engine\u001b[0m\u001b[1;33m(\u001b[0m\u001b[0mself\u001b[0m\u001b[1;33m,\u001b[0m \u001b[0mengine\u001b[0m\u001b[1;33m=\u001b[0m\u001b[1;34m'c'\u001b[0m\u001b[1;33m)\u001b[0m\u001b[1;33m:\u001b[0m\u001b[1;33m\u001b[0m\u001b[1;33m\u001b[0m\u001b[0m\n\u001b[0;32m   1013\u001b[0m         \u001b[1;32mif\u001b[0m \u001b[0mengine\u001b[0m \u001b[1;33m==\u001b[0m \u001b[1;34m'c'\u001b[0m\u001b[1;33m:\u001b[0m\u001b[1;33m\u001b[0m\u001b[1;33m\u001b[0m\u001b[0m\n\u001b[1;32m-> 1014\u001b[1;33m             \u001b[0mself\u001b[0m\u001b[1;33m.\u001b[0m\u001b[0m_engine\u001b[0m \u001b[1;33m=\u001b[0m \u001b[0mCParserWrapper\u001b[0m\u001b[1;33m(\u001b[0m\u001b[0mself\u001b[0m\u001b[1;33m.\u001b[0m\u001b[0mf\u001b[0m\u001b[1;33m,\u001b[0m \u001b[1;33m**\u001b[0m\u001b[0mself\u001b[0m\u001b[1;33m.\u001b[0m\u001b[0moptions\u001b[0m\u001b[1;33m)\u001b[0m\u001b[1;33m\u001b[0m\u001b[1;33m\u001b[0m\u001b[0m\n\u001b[0m\u001b[0;32m   1015\u001b[0m         \u001b[1;32melse\u001b[0m\u001b[1;33m:\u001b[0m\u001b[1;33m\u001b[0m\u001b[1;33m\u001b[0m\u001b[0m\n\u001b[0;32m   1016\u001b[0m             \u001b[1;32mif\u001b[0m \u001b[0mengine\u001b[0m \u001b[1;33m==\u001b[0m \u001b[1;34m'python'\u001b[0m\u001b[1;33m:\u001b[0m\u001b[1;33m\u001b[0m\u001b[1;33m\u001b[0m\u001b[0m\n",
      "\u001b[1;32m~\\Anaconda3\\lib\\site-packages\\pandas\\io\\parsers.py\u001b[0m in \u001b[0;36m__init__\u001b[1;34m(self, src, **kwds)\u001b[0m\n\u001b[0;32m   1706\u001b[0m         \u001b[0mkwds\u001b[0m\u001b[1;33m[\u001b[0m\u001b[1;34m'usecols'\u001b[0m\u001b[1;33m]\u001b[0m \u001b[1;33m=\u001b[0m \u001b[0mself\u001b[0m\u001b[1;33m.\u001b[0m\u001b[0musecols\u001b[0m\u001b[1;33m\u001b[0m\u001b[1;33m\u001b[0m\u001b[0m\n\u001b[0;32m   1707\u001b[0m \u001b[1;33m\u001b[0m\u001b[0m\n\u001b[1;32m-> 1708\u001b[1;33m         \u001b[0mself\u001b[0m\u001b[1;33m.\u001b[0m\u001b[0m_reader\u001b[0m \u001b[1;33m=\u001b[0m \u001b[0mparsers\u001b[0m\u001b[1;33m.\u001b[0m\u001b[0mTextReader\u001b[0m\u001b[1;33m(\u001b[0m\u001b[0msrc\u001b[0m\u001b[1;33m,\u001b[0m \u001b[1;33m**\u001b[0m\u001b[0mkwds\u001b[0m\u001b[1;33m)\u001b[0m\u001b[1;33m\u001b[0m\u001b[1;33m\u001b[0m\u001b[0m\n\u001b[0m\u001b[0;32m   1709\u001b[0m \u001b[1;33m\u001b[0m\u001b[0m\n\u001b[0;32m   1710\u001b[0m         \u001b[0mpassed_names\u001b[0m \u001b[1;33m=\u001b[0m \u001b[0mself\u001b[0m\u001b[1;33m.\u001b[0m\u001b[0mnames\u001b[0m \u001b[1;32mis\u001b[0m \u001b[1;32mNone\u001b[0m\u001b[1;33m\u001b[0m\u001b[1;33m\u001b[0m\u001b[0m\n",
      "\u001b[1;32mpandas\\_libs\\parsers.pyx\u001b[0m in \u001b[0;36mpandas._libs.parsers.TextReader.__cinit__\u001b[1;34m()\u001b[0m\n",
      "\u001b[1;32mpandas\\_libs\\parsers.pyx\u001b[0m in \u001b[0;36mpandas._libs.parsers.TextReader._setup_parser_source\u001b[1;34m()\u001b[0m\n",
      "\u001b[1;31mFileNotFoundError\u001b[0m: File b'products3.csv' does not exist"
     ]
    }
   ],
   "source": [
    "#Ch12_5_1\n",
    "import pandas as pd\n",
    "\n",
    "df = pd.read_csv(\"products3.csv\", encoding=\"utf8\")\n",
    "df.index = [\"A\",\"B\",\"C\",\"D\",\"E\",\"F\",\"G\",\"H\",\"I\"]\n",
    "df.columns = [\"type\", \"name\", \"price\"]\n",
    "\n",
    "print(df)\n",
    "df.to_html(\"Ch12_5_1_01.html\")\n",
    "\n",
    "print(df.groupby(\"type\").sum())\n",
    "df.groupby(\"type\").sum().to_html(\"Ch12_5_1_02.html\")\n",
    "print(df.groupby([\"type\",\"name\"]).mean())\n",
    "df.groupby([\"type\",\"name\"]).mean().to_html(\"Ch12_5_1_03.html\")"
   ]
  },
  {
   "cell_type": "code",
   "execution_count": 46,
   "metadata": {},
   "outputs": [
    {
     "name": "stdout",
     "output_type": "stream",
     "text": [
      "name    全聯超    大潤發     家樂福\n",
      "type                      \n",
      "娛樂    15.95    NaN   19.99\n",
      "居家      NaN  23.50   11.42\n",
      "科技      NaN  55.75  111.55\n"
     ]
    }
   ],
   "source": [
    "#Ch12_5_2\n",
    "import pandas as pd\n",
    "\n",
    "df = pd.read_csv(\"products.csv\", encoding=\"utf8\")\n",
    "\n",
    "df.columns = [\"type\", \"name\", \"price\"]\n",
    "ordinals = [\"A\", \"B\", \"C\", \"D\", \"E\", \"F\"]\n",
    "df.index = ordinals\n",
    "\n",
    "# 呼叫 pivot_table() 方法\n",
    "pivot_products = df.pivot_table(index='type',\n",
    "                                columns='name',\n",
    "                                values='price')\n",
    "print(pivot_products)\n",
    "pivot_products.to_html(\"Ch12_5_2.html\")"
   ]
  },
  {
   "cell_type": "code",
   "execution_count": 47,
   "metadata": {},
   "outputs": [
    {
     "name": "stdout",
     "output_type": "stream",
     "text": [
      "A     22.84\n",
      "B     47.00\n",
      "C     39.98\n",
      "D     31.90\n",
      "E    111.50\n",
      "F    223.10\n",
      "Name: price, dtype: float64\n"
     ]
    }
   ],
   "source": [
    "#Ch12_5_3\n",
    "import pandas as pd\n",
    "\n",
    "df = pd.read_csv(\"products.csv\", encoding=\"utf8\")\n",
    "\n",
    "df.columns = [\"type\", \"name\", \"price\"]\n",
    "ordinals = [\"A\", \"B\", \"C\", \"D\", \"E\", \"F\"]\n",
    "df.index = ordinals\n",
    "\n",
    "def double(x):\n",
    "    return x*2\n",
    "\n",
    "df2 = df[\"price\"].apply(double)\n",
    "print(df2)"
   ]
  },
  {
   "cell_type": "code",
   "execution_count": 48,
   "metadata": {},
   "outputs": [
    {
     "name": "stdout",
     "output_type": "stream",
     "text": [
      "A     22.84\n",
      "B     47.00\n",
      "C     39.98\n",
      "D     31.90\n",
      "E    111.50\n",
      "F    223.10\n",
      "Name: price, dtype: float64\n"
     ]
    }
   ],
   "source": [
    "#Ch12_5_3a\n",
    "import pandas as pd\n",
    "\n",
    "df = pd.read_csv(\"products.csv\", encoding=\"utf8\")\n",
    "\n",
    "df.columns = [\"type\", \"name\", \"price\"]\n",
    "ordinals = [\"A\", \"B\", \"C\", \"D\", \"E\", \"F\"]\n",
    "df.index = ordinals\n",
    "\n",
    "df2 = df[\"price\"].apply(lambda x: x*2)\n",
    "print(df2)\n"
   ]
  },
  {
   "cell_type": "code",
   "execution_count": 49,
   "metadata": {},
   "outputs": [
    {
     "ename": "FileNotFoundError",
     "evalue": "File b'products3.csv' does not exist",
     "output_type": "error",
     "traceback": [
      "\u001b[1;31m---------------------------------------------------------------------------\u001b[0m",
      "\u001b[1;31mFileNotFoundError\u001b[0m                         Traceback (most recent call last)",
      "\u001b[1;32m<ipython-input-49-11404074150d>\u001b[0m in \u001b[0;36m<module>\u001b[1;34m\u001b[0m\n\u001b[0;32m      2\u001b[0m \u001b[1;32mimport\u001b[0m \u001b[0mpandas\u001b[0m \u001b[1;32mas\u001b[0m \u001b[0mpd\u001b[0m\u001b[1;33m\u001b[0m\u001b[1;33m\u001b[0m\u001b[0m\n\u001b[0;32m      3\u001b[0m \u001b[1;33m\u001b[0m\u001b[0m\n\u001b[1;32m----> 4\u001b[1;33m \u001b[0mdf\u001b[0m \u001b[1;33m=\u001b[0m \u001b[0mpd\u001b[0m\u001b[1;33m.\u001b[0m\u001b[0mread_csv\u001b[0m\u001b[1;33m(\u001b[0m\u001b[1;34m\"products3.csv\"\u001b[0m\u001b[1;33m,\u001b[0m \u001b[0mencoding\u001b[0m\u001b[1;33m=\u001b[0m\u001b[1;34m\"utf8\"\u001b[0m\u001b[1;33m)\u001b[0m\u001b[1;33m\u001b[0m\u001b[1;33m\u001b[0m\u001b[0m\n\u001b[0m\u001b[0;32m      5\u001b[0m \u001b[0mdf\u001b[0m\u001b[1;33m.\u001b[0m\u001b[0mindex\u001b[0m \u001b[1;33m=\u001b[0m \u001b[1;33m[\u001b[0m\u001b[1;34m\"A\"\u001b[0m\u001b[1;33m,\u001b[0m\u001b[1;34m\"B\"\u001b[0m\u001b[1;33m,\u001b[0m\u001b[1;34m\"C\"\u001b[0m\u001b[1;33m,\u001b[0m\u001b[1;34m\"D\"\u001b[0m\u001b[1;33m,\u001b[0m\u001b[1;34m\"E\"\u001b[0m\u001b[1;33m,\u001b[0m\u001b[1;34m\"F\"\u001b[0m\u001b[1;33m,\u001b[0m\u001b[1;34m\"G\"\u001b[0m\u001b[1;33m,\u001b[0m\u001b[1;34m\"H\"\u001b[0m\u001b[1;33m,\u001b[0m\u001b[1;34m\"I\"\u001b[0m\u001b[1;33m]\u001b[0m\u001b[1;33m\u001b[0m\u001b[1;33m\u001b[0m\u001b[0m\n\u001b[0;32m      6\u001b[0m \u001b[0mdf\u001b[0m\u001b[1;33m.\u001b[0m\u001b[0mcolumns\u001b[0m \u001b[1;33m=\u001b[0m \u001b[1;33m[\u001b[0m\u001b[1;34m\"type\"\u001b[0m\u001b[1;33m,\u001b[0m \u001b[1;34m\"name\"\u001b[0m\u001b[1;33m,\u001b[0m \u001b[1;34m\"price\"\u001b[0m\u001b[1;33m]\u001b[0m\u001b[1;33m\u001b[0m\u001b[1;33m\u001b[0m\u001b[0m\n",
      "\u001b[1;32m~\\Anaconda3\\lib\\site-packages\\pandas\\io\\parsers.py\u001b[0m in \u001b[0;36mparser_f\u001b[1;34m(filepath_or_buffer, sep, delimiter, header, names, index_col, usecols, squeeze, prefix, mangle_dupe_cols, dtype, engine, converters, true_values, false_values, skipinitialspace, skiprows, nrows, na_values, keep_default_na, na_filter, verbose, skip_blank_lines, parse_dates, infer_datetime_format, keep_date_col, date_parser, dayfirst, iterator, chunksize, compression, thousands, decimal, lineterminator, quotechar, quoting, escapechar, comment, encoding, dialect, tupleize_cols, error_bad_lines, warn_bad_lines, skipfooter, doublequote, delim_whitespace, low_memory, memory_map, float_precision)\u001b[0m\n\u001b[0;32m    676\u001b[0m                     skip_blank_lines=skip_blank_lines)\n\u001b[0;32m    677\u001b[0m \u001b[1;33m\u001b[0m\u001b[0m\n\u001b[1;32m--> 678\u001b[1;33m         \u001b[1;32mreturn\u001b[0m \u001b[0m_read\u001b[0m\u001b[1;33m(\u001b[0m\u001b[0mfilepath_or_buffer\u001b[0m\u001b[1;33m,\u001b[0m \u001b[0mkwds\u001b[0m\u001b[1;33m)\u001b[0m\u001b[1;33m\u001b[0m\u001b[1;33m\u001b[0m\u001b[0m\n\u001b[0m\u001b[0;32m    679\u001b[0m \u001b[1;33m\u001b[0m\u001b[0m\n\u001b[0;32m    680\u001b[0m     \u001b[0mparser_f\u001b[0m\u001b[1;33m.\u001b[0m\u001b[0m__name__\u001b[0m \u001b[1;33m=\u001b[0m \u001b[0mname\u001b[0m\u001b[1;33m\u001b[0m\u001b[1;33m\u001b[0m\u001b[0m\n",
      "\u001b[1;32m~\\Anaconda3\\lib\\site-packages\\pandas\\io\\parsers.py\u001b[0m in \u001b[0;36m_read\u001b[1;34m(filepath_or_buffer, kwds)\u001b[0m\n\u001b[0;32m    438\u001b[0m \u001b[1;33m\u001b[0m\u001b[0m\n\u001b[0;32m    439\u001b[0m     \u001b[1;31m# Create the parser.\u001b[0m\u001b[1;33m\u001b[0m\u001b[1;33m\u001b[0m\u001b[1;33m\u001b[0m\u001b[0m\n\u001b[1;32m--> 440\u001b[1;33m     \u001b[0mparser\u001b[0m \u001b[1;33m=\u001b[0m \u001b[0mTextFileReader\u001b[0m\u001b[1;33m(\u001b[0m\u001b[0mfilepath_or_buffer\u001b[0m\u001b[1;33m,\u001b[0m \u001b[1;33m**\u001b[0m\u001b[0mkwds\u001b[0m\u001b[1;33m)\u001b[0m\u001b[1;33m\u001b[0m\u001b[1;33m\u001b[0m\u001b[0m\n\u001b[0m\u001b[0;32m    441\u001b[0m \u001b[1;33m\u001b[0m\u001b[0m\n\u001b[0;32m    442\u001b[0m     \u001b[1;32mif\u001b[0m \u001b[0mchunksize\u001b[0m \u001b[1;32mor\u001b[0m \u001b[0miterator\u001b[0m\u001b[1;33m:\u001b[0m\u001b[1;33m\u001b[0m\u001b[1;33m\u001b[0m\u001b[0m\n",
      "\u001b[1;32m~\\Anaconda3\\lib\\site-packages\\pandas\\io\\parsers.py\u001b[0m in \u001b[0;36m__init__\u001b[1;34m(self, f, engine, **kwds)\u001b[0m\n\u001b[0;32m    785\u001b[0m             \u001b[0mself\u001b[0m\u001b[1;33m.\u001b[0m\u001b[0moptions\u001b[0m\u001b[1;33m[\u001b[0m\u001b[1;34m'has_index_names'\u001b[0m\u001b[1;33m]\u001b[0m \u001b[1;33m=\u001b[0m \u001b[0mkwds\u001b[0m\u001b[1;33m[\u001b[0m\u001b[1;34m'has_index_names'\u001b[0m\u001b[1;33m]\u001b[0m\u001b[1;33m\u001b[0m\u001b[1;33m\u001b[0m\u001b[0m\n\u001b[0;32m    786\u001b[0m \u001b[1;33m\u001b[0m\u001b[0m\n\u001b[1;32m--> 787\u001b[1;33m         \u001b[0mself\u001b[0m\u001b[1;33m.\u001b[0m\u001b[0m_make_engine\u001b[0m\u001b[1;33m(\u001b[0m\u001b[0mself\u001b[0m\u001b[1;33m.\u001b[0m\u001b[0mengine\u001b[0m\u001b[1;33m)\u001b[0m\u001b[1;33m\u001b[0m\u001b[1;33m\u001b[0m\u001b[0m\n\u001b[0m\u001b[0;32m    788\u001b[0m \u001b[1;33m\u001b[0m\u001b[0m\n\u001b[0;32m    789\u001b[0m     \u001b[1;32mdef\u001b[0m \u001b[0mclose\u001b[0m\u001b[1;33m(\u001b[0m\u001b[0mself\u001b[0m\u001b[1;33m)\u001b[0m\u001b[1;33m:\u001b[0m\u001b[1;33m\u001b[0m\u001b[1;33m\u001b[0m\u001b[0m\n",
      "\u001b[1;32m~\\Anaconda3\\lib\\site-packages\\pandas\\io\\parsers.py\u001b[0m in \u001b[0;36m_make_engine\u001b[1;34m(self, engine)\u001b[0m\n\u001b[0;32m   1012\u001b[0m     \u001b[1;32mdef\u001b[0m \u001b[0m_make_engine\u001b[0m\u001b[1;33m(\u001b[0m\u001b[0mself\u001b[0m\u001b[1;33m,\u001b[0m \u001b[0mengine\u001b[0m\u001b[1;33m=\u001b[0m\u001b[1;34m'c'\u001b[0m\u001b[1;33m)\u001b[0m\u001b[1;33m:\u001b[0m\u001b[1;33m\u001b[0m\u001b[1;33m\u001b[0m\u001b[0m\n\u001b[0;32m   1013\u001b[0m         \u001b[1;32mif\u001b[0m \u001b[0mengine\u001b[0m \u001b[1;33m==\u001b[0m \u001b[1;34m'c'\u001b[0m\u001b[1;33m:\u001b[0m\u001b[1;33m\u001b[0m\u001b[1;33m\u001b[0m\u001b[0m\n\u001b[1;32m-> 1014\u001b[1;33m             \u001b[0mself\u001b[0m\u001b[1;33m.\u001b[0m\u001b[0m_engine\u001b[0m \u001b[1;33m=\u001b[0m \u001b[0mCParserWrapper\u001b[0m\u001b[1;33m(\u001b[0m\u001b[0mself\u001b[0m\u001b[1;33m.\u001b[0m\u001b[0mf\u001b[0m\u001b[1;33m,\u001b[0m \u001b[1;33m**\u001b[0m\u001b[0mself\u001b[0m\u001b[1;33m.\u001b[0m\u001b[0moptions\u001b[0m\u001b[1;33m)\u001b[0m\u001b[1;33m\u001b[0m\u001b[1;33m\u001b[0m\u001b[0m\n\u001b[0m\u001b[0;32m   1015\u001b[0m         \u001b[1;32melse\u001b[0m\u001b[1;33m:\u001b[0m\u001b[1;33m\u001b[0m\u001b[1;33m\u001b[0m\u001b[0m\n\u001b[0;32m   1016\u001b[0m             \u001b[1;32mif\u001b[0m \u001b[0mengine\u001b[0m \u001b[1;33m==\u001b[0m \u001b[1;34m'python'\u001b[0m\u001b[1;33m:\u001b[0m\u001b[1;33m\u001b[0m\u001b[1;33m\u001b[0m\u001b[0m\n",
      "\u001b[1;32m~\\Anaconda3\\lib\\site-packages\\pandas\\io\\parsers.py\u001b[0m in \u001b[0;36m__init__\u001b[1;34m(self, src, **kwds)\u001b[0m\n\u001b[0;32m   1706\u001b[0m         \u001b[0mkwds\u001b[0m\u001b[1;33m[\u001b[0m\u001b[1;34m'usecols'\u001b[0m\u001b[1;33m]\u001b[0m \u001b[1;33m=\u001b[0m \u001b[0mself\u001b[0m\u001b[1;33m.\u001b[0m\u001b[0musecols\u001b[0m\u001b[1;33m\u001b[0m\u001b[1;33m\u001b[0m\u001b[0m\n\u001b[0;32m   1707\u001b[0m \u001b[1;33m\u001b[0m\u001b[0m\n\u001b[1;32m-> 1708\u001b[1;33m         \u001b[0mself\u001b[0m\u001b[1;33m.\u001b[0m\u001b[0m_reader\u001b[0m \u001b[1;33m=\u001b[0m \u001b[0mparsers\u001b[0m\u001b[1;33m.\u001b[0m\u001b[0mTextReader\u001b[0m\u001b[1;33m(\u001b[0m\u001b[0msrc\u001b[0m\u001b[1;33m,\u001b[0m \u001b[1;33m**\u001b[0m\u001b[0mkwds\u001b[0m\u001b[1;33m)\u001b[0m\u001b[1;33m\u001b[0m\u001b[1;33m\u001b[0m\u001b[0m\n\u001b[0m\u001b[0;32m   1709\u001b[0m \u001b[1;33m\u001b[0m\u001b[0m\n\u001b[0;32m   1710\u001b[0m         \u001b[0mpassed_names\u001b[0m \u001b[1;33m=\u001b[0m \u001b[0mself\u001b[0m\u001b[1;33m.\u001b[0m\u001b[0mnames\u001b[0m \u001b[1;32mis\u001b[0m \u001b[1;32mNone\u001b[0m\u001b[1;33m\u001b[0m\u001b[1;33m\u001b[0m\u001b[0m\n",
      "\u001b[1;32mpandas\\_libs\\parsers.pyx\u001b[0m in \u001b[0;36mpandas._libs.parsers.TextReader.__cinit__\u001b[1;34m()\u001b[0m\n",
      "\u001b[1;32mpandas\\_libs\\parsers.pyx\u001b[0m in \u001b[0;36mpandas._libs.parsers.TextReader._setup_parser_source\u001b[1;34m()\u001b[0m\n",
      "\u001b[1;31mFileNotFoundError\u001b[0m: File b'products3.csv' does not exist"
     ]
    }
   ],
   "source": [
    "#Ch12_5_4\n",
    "import pandas as pd\n",
    "\n",
    "df = pd.read_csv(\"products3.csv\", encoding=\"utf8\")\n",
    "df.index = [\"A\",\"B\",\"C\",\"D\",\"E\",\"F\",\"G\",\"H\",\"I\"]\n",
    "df.columns = [\"type\", \"name\", \"price\"]\n",
    "\n",
    "print(df[\"price\"].describe())"
   ]
  },
  {
   "cell_type": "code",
   "execution_count": 50,
   "metadata": {},
   "outputs": [
    {
     "ename": "FileNotFoundError",
     "evalue": "File b'products3.csv' does not exist",
     "output_type": "error",
     "traceback": [
      "\u001b[1;31m---------------------------------------------------------------------------\u001b[0m",
      "\u001b[1;31mFileNotFoundError\u001b[0m                         Traceback (most recent call last)",
      "\u001b[1;32m<ipython-input-50-d7e018191bb3>\u001b[0m in \u001b[0;36m<module>\u001b[1;34m\u001b[0m\n\u001b[0;32m      2\u001b[0m \u001b[1;32mimport\u001b[0m \u001b[0mpandas\u001b[0m \u001b[1;32mas\u001b[0m \u001b[0mpd\u001b[0m\u001b[1;33m\u001b[0m\u001b[1;33m\u001b[0m\u001b[0m\n\u001b[0;32m      3\u001b[0m \u001b[1;33m\u001b[0m\u001b[0m\n\u001b[1;32m----> 4\u001b[1;33m \u001b[0mdf\u001b[0m \u001b[1;33m=\u001b[0m \u001b[0mpd\u001b[0m\u001b[1;33m.\u001b[0m\u001b[0mread_csv\u001b[0m\u001b[1;33m(\u001b[0m\u001b[1;34m\"products3.csv\"\u001b[0m\u001b[1;33m,\u001b[0m \u001b[0mencoding\u001b[0m\u001b[1;33m=\u001b[0m\u001b[1;34m\"utf8\"\u001b[0m\u001b[1;33m)\u001b[0m\u001b[1;33m\u001b[0m\u001b[1;33m\u001b[0m\u001b[0m\n\u001b[0m\u001b[0;32m      5\u001b[0m \u001b[0mdf\u001b[0m\u001b[1;33m.\u001b[0m\u001b[0mindex\u001b[0m \u001b[1;33m=\u001b[0m \u001b[1;33m[\u001b[0m\u001b[1;34m\"A\"\u001b[0m\u001b[1;33m,\u001b[0m\u001b[1;34m\"B\"\u001b[0m\u001b[1;33m,\u001b[0m\u001b[1;34m\"C\"\u001b[0m\u001b[1;33m,\u001b[0m\u001b[1;34m\"D\"\u001b[0m\u001b[1;33m,\u001b[0m\u001b[1;34m\"E\"\u001b[0m\u001b[1;33m,\u001b[0m\u001b[1;34m\"F\"\u001b[0m\u001b[1;33m,\u001b[0m\u001b[1;34m\"G\"\u001b[0m\u001b[1;33m,\u001b[0m\u001b[1;34m\"H\"\u001b[0m\u001b[1;33m,\u001b[0m\u001b[1;34m\"I\"\u001b[0m\u001b[1;33m]\u001b[0m\u001b[1;33m\u001b[0m\u001b[1;33m\u001b[0m\u001b[0m\n\u001b[0;32m      6\u001b[0m \u001b[0mdf\u001b[0m\u001b[1;33m.\u001b[0m\u001b[0mcolumns\u001b[0m \u001b[1;33m=\u001b[0m \u001b[1;33m[\u001b[0m\u001b[1;34m\"type\"\u001b[0m\u001b[1;33m,\u001b[0m \u001b[1;34m\"name\"\u001b[0m\u001b[1;33m,\u001b[0m \u001b[1;34m\"price\"\u001b[0m\u001b[1;33m]\u001b[0m\u001b[1;33m\u001b[0m\u001b[1;33m\u001b[0m\u001b[0m\n",
      "\u001b[1;32m~\\Anaconda3\\lib\\site-packages\\pandas\\io\\parsers.py\u001b[0m in \u001b[0;36mparser_f\u001b[1;34m(filepath_or_buffer, sep, delimiter, header, names, index_col, usecols, squeeze, prefix, mangle_dupe_cols, dtype, engine, converters, true_values, false_values, skipinitialspace, skiprows, nrows, na_values, keep_default_na, na_filter, verbose, skip_blank_lines, parse_dates, infer_datetime_format, keep_date_col, date_parser, dayfirst, iterator, chunksize, compression, thousands, decimal, lineterminator, quotechar, quoting, escapechar, comment, encoding, dialect, tupleize_cols, error_bad_lines, warn_bad_lines, skipfooter, doublequote, delim_whitespace, low_memory, memory_map, float_precision)\u001b[0m\n\u001b[0;32m    676\u001b[0m                     skip_blank_lines=skip_blank_lines)\n\u001b[0;32m    677\u001b[0m \u001b[1;33m\u001b[0m\u001b[0m\n\u001b[1;32m--> 678\u001b[1;33m         \u001b[1;32mreturn\u001b[0m \u001b[0m_read\u001b[0m\u001b[1;33m(\u001b[0m\u001b[0mfilepath_or_buffer\u001b[0m\u001b[1;33m,\u001b[0m \u001b[0mkwds\u001b[0m\u001b[1;33m)\u001b[0m\u001b[1;33m\u001b[0m\u001b[1;33m\u001b[0m\u001b[0m\n\u001b[0m\u001b[0;32m    679\u001b[0m \u001b[1;33m\u001b[0m\u001b[0m\n\u001b[0;32m    680\u001b[0m     \u001b[0mparser_f\u001b[0m\u001b[1;33m.\u001b[0m\u001b[0m__name__\u001b[0m \u001b[1;33m=\u001b[0m \u001b[0mname\u001b[0m\u001b[1;33m\u001b[0m\u001b[1;33m\u001b[0m\u001b[0m\n",
      "\u001b[1;32m~\\Anaconda3\\lib\\site-packages\\pandas\\io\\parsers.py\u001b[0m in \u001b[0;36m_read\u001b[1;34m(filepath_or_buffer, kwds)\u001b[0m\n\u001b[0;32m    438\u001b[0m \u001b[1;33m\u001b[0m\u001b[0m\n\u001b[0;32m    439\u001b[0m     \u001b[1;31m# Create the parser.\u001b[0m\u001b[1;33m\u001b[0m\u001b[1;33m\u001b[0m\u001b[1;33m\u001b[0m\u001b[0m\n\u001b[1;32m--> 440\u001b[1;33m     \u001b[0mparser\u001b[0m \u001b[1;33m=\u001b[0m \u001b[0mTextFileReader\u001b[0m\u001b[1;33m(\u001b[0m\u001b[0mfilepath_or_buffer\u001b[0m\u001b[1;33m,\u001b[0m \u001b[1;33m**\u001b[0m\u001b[0mkwds\u001b[0m\u001b[1;33m)\u001b[0m\u001b[1;33m\u001b[0m\u001b[1;33m\u001b[0m\u001b[0m\n\u001b[0m\u001b[0;32m    441\u001b[0m \u001b[1;33m\u001b[0m\u001b[0m\n\u001b[0;32m    442\u001b[0m     \u001b[1;32mif\u001b[0m \u001b[0mchunksize\u001b[0m \u001b[1;32mor\u001b[0m \u001b[0miterator\u001b[0m\u001b[1;33m:\u001b[0m\u001b[1;33m\u001b[0m\u001b[1;33m\u001b[0m\u001b[0m\n",
      "\u001b[1;32m~\\Anaconda3\\lib\\site-packages\\pandas\\io\\parsers.py\u001b[0m in \u001b[0;36m__init__\u001b[1;34m(self, f, engine, **kwds)\u001b[0m\n\u001b[0;32m    785\u001b[0m             \u001b[0mself\u001b[0m\u001b[1;33m.\u001b[0m\u001b[0moptions\u001b[0m\u001b[1;33m[\u001b[0m\u001b[1;34m'has_index_names'\u001b[0m\u001b[1;33m]\u001b[0m \u001b[1;33m=\u001b[0m \u001b[0mkwds\u001b[0m\u001b[1;33m[\u001b[0m\u001b[1;34m'has_index_names'\u001b[0m\u001b[1;33m]\u001b[0m\u001b[1;33m\u001b[0m\u001b[1;33m\u001b[0m\u001b[0m\n\u001b[0;32m    786\u001b[0m \u001b[1;33m\u001b[0m\u001b[0m\n\u001b[1;32m--> 787\u001b[1;33m         \u001b[0mself\u001b[0m\u001b[1;33m.\u001b[0m\u001b[0m_make_engine\u001b[0m\u001b[1;33m(\u001b[0m\u001b[0mself\u001b[0m\u001b[1;33m.\u001b[0m\u001b[0mengine\u001b[0m\u001b[1;33m)\u001b[0m\u001b[1;33m\u001b[0m\u001b[1;33m\u001b[0m\u001b[0m\n\u001b[0m\u001b[0;32m    788\u001b[0m \u001b[1;33m\u001b[0m\u001b[0m\n\u001b[0;32m    789\u001b[0m     \u001b[1;32mdef\u001b[0m \u001b[0mclose\u001b[0m\u001b[1;33m(\u001b[0m\u001b[0mself\u001b[0m\u001b[1;33m)\u001b[0m\u001b[1;33m:\u001b[0m\u001b[1;33m\u001b[0m\u001b[1;33m\u001b[0m\u001b[0m\n",
      "\u001b[1;32m~\\Anaconda3\\lib\\site-packages\\pandas\\io\\parsers.py\u001b[0m in \u001b[0;36m_make_engine\u001b[1;34m(self, engine)\u001b[0m\n\u001b[0;32m   1012\u001b[0m     \u001b[1;32mdef\u001b[0m \u001b[0m_make_engine\u001b[0m\u001b[1;33m(\u001b[0m\u001b[0mself\u001b[0m\u001b[1;33m,\u001b[0m \u001b[0mengine\u001b[0m\u001b[1;33m=\u001b[0m\u001b[1;34m'c'\u001b[0m\u001b[1;33m)\u001b[0m\u001b[1;33m:\u001b[0m\u001b[1;33m\u001b[0m\u001b[1;33m\u001b[0m\u001b[0m\n\u001b[0;32m   1013\u001b[0m         \u001b[1;32mif\u001b[0m \u001b[0mengine\u001b[0m \u001b[1;33m==\u001b[0m \u001b[1;34m'c'\u001b[0m\u001b[1;33m:\u001b[0m\u001b[1;33m\u001b[0m\u001b[1;33m\u001b[0m\u001b[0m\n\u001b[1;32m-> 1014\u001b[1;33m             \u001b[0mself\u001b[0m\u001b[1;33m.\u001b[0m\u001b[0m_engine\u001b[0m \u001b[1;33m=\u001b[0m \u001b[0mCParserWrapper\u001b[0m\u001b[1;33m(\u001b[0m\u001b[0mself\u001b[0m\u001b[1;33m.\u001b[0m\u001b[0mf\u001b[0m\u001b[1;33m,\u001b[0m \u001b[1;33m**\u001b[0m\u001b[0mself\u001b[0m\u001b[1;33m.\u001b[0m\u001b[0moptions\u001b[0m\u001b[1;33m)\u001b[0m\u001b[1;33m\u001b[0m\u001b[1;33m\u001b[0m\u001b[0m\n\u001b[0m\u001b[0;32m   1015\u001b[0m         \u001b[1;32melse\u001b[0m\u001b[1;33m:\u001b[0m\u001b[1;33m\u001b[0m\u001b[1;33m\u001b[0m\u001b[0m\n\u001b[0;32m   1016\u001b[0m             \u001b[1;32mif\u001b[0m \u001b[0mengine\u001b[0m \u001b[1;33m==\u001b[0m \u001b[1;34m'python'\u001b[0m\u001b[1;33m:\u001b[0m\u001b[1;33m\u001b[0m\u001b[1;33m\u001b[0m\u001b[0m\n",
      "\u001b[1;32m~\\Anaconda3\\lib\\site-packages\\pandas\\io\\parsers.py\u001b[0m in \u001b[0;36m__init__\u001b[1;34m(self, src, **kwds)\u001b[0m\n\u001b[0;32m   1706\u001b[0m         \u001b[0mkwds\u001b[0m\u001b[1;33m[\u001b[0m\u001b[1;34m'usecols'\u001b[0m\u001b[1;33m]\u001b[0m \u001b[1;33m=\u001b[0m \u001b[0mself\u001b[0m\u001b[1;33m.\u001b[0m\u001b[0musecols\u001b[0m\u001b[1;33m\u001b[0m\u001b[1;33m\u001b[0m\u001b[0m\n\u001b[0;32m   1707\u001b[0m \u001b[1;33m\u001b[0m\u001b[0m\n\u001b[1;32m-> 1708\u001b[1;33m         \u001b[0mself\u001b[0m\u001b[1;33m.\u001b[0m\u001b[0m_reader\u001b[0m \u001b[1;33m=\u001b[0m \u001b[0mparsers\u001b[0m\u001b[1;33m.\u001b[0m\u001b[0mTextReader\u001b[0m\u001b[1;33m(\u001b[0m\u001b[0msrc\u001b[0m\u001b[1;33m,\u001b[0m \u001b[1;33m**\u001b[0m\u001b[0mkwds\u001b[0m\u001b[1;33m)\u001b[0m\u001b[1;33m\u001b[0m\u001b[1;33m\u001b[0m\u001b[0m\n\u001b[0m\u001b[0;32m   1709\u001b[0m \u001b[1;33m\u001b[0m\u001b[0m\n\u001b[0;32m   1710\u001b[0m         \u001b[0mpassed_names\u001b[0m \u001b[1;33m=\u001b[0m \u001b[0mself\u001b[0m\u001b[1;33m.\u001b[0m\u001b[0mnames\u001b[0m \u001b[1;32mis\u001b[0m \u001b[1;32mNone\u001b[0m\u001b[1;33m\u001b[0m\u001b[1;33m\u001b[0m\u001b[0m\n",
      "\u001b[1;32mpandas\\_libs\\parsers.pyx\u001b[0m in \u001b[0;36mpandas._libs.parsers.TextReader.__cinit__\u001b[1;34m()\u001b[0m\n",
      "\u001b[1;32mpandas\\_libs\\parsers.pyx\u001b[0m in \u001b[0;36mpandas._libs.parsers.TextReader._setup_parser_source\u001b[1;34m()\u001b[0m\n",
      "\u001b[1;31mFileNotFoundError\u001b[0m: File b'products3.csv' does not exist"
     ]
    }
   ],
   "source": [
    "#Ch12_5_4a\n",
    "import pandas as pd\n",
    "\n",
    "df = pd.read_csv(\"products3.csv\", encoding=\"utf8\")\n",
    "df.index = [\"A\",\"B\",\"C\",\"D\",\"E\",\"F\",\"G\",\"H\",\"I\"]\n",
    "df.columns = [\"type\", \"name\", \"price\"]\n",
    "\n",
    "print(\"總和: \", df[\"price\"].sum())\n",
    "print(\"平均: \", df[\"price\"].mean())\n",
    "print(\"最大: \", df[\"price\"].max())\n",
    "print(\"最小: \", df[\"price\"].min())\n",
    "print(\"計數: \", df[\"price\"].count())\n",
    "print(\"標準差: \", df[\"price\"].std())\n",
    "print(\"變異數: \", df[\"price\"].var())\n",
    "print(\"25%: \", df[\"price\"].quantile(q=0.25))\n",
    "print(\"50%: \", df[\"price\"].quantile(q=0.5))\n",
    "print(\"75%: \", df[\"price\"].quantile(q=0.75))\n"
   ]
  },
  {
   "cell_type": "code",
   "execution_count": 51,
   "metadata": {},
   "outputs": [
    {
     "ename": "FileNotFoundError",
     "evalue": "File b'missing_data.csv' does not exist",
     "output_type": "error",
     "traceback": [
      "\u001b[1;31m---------------------------------------------------------------------------\u001b[0m",
      "\u001b[1;31mFileNotFoundError\u001b[0m                         Traceback (most recent call last)",
      "\u001b[1;32m<ipython-input-51-4a12008fe357>\u001b[0m in \u001b[0;36m<module>\u001b[1;34m\u001b[0m\n\u001b[0;32m      2\u001b[0m \u001b[1;32mimport\u001b[0m \u001b[0mpandas\u001b[0m \u001b[1;32mas\u001b[0m \u001b[0mpd\u001b[0m\u001b[1;33m\u001b[0m\u001b[1;33m\u001b[0m\u001b[0m\n\u001b[0;32m      3\u001b[0m \u001b[1;33m\u001b[0m\u001b[0m\n\u001b[1;32m----> 4\u001b[1;33m \u001b[0mdf\u001b[0m \u001b[1;33m=\u001b[0m \u001b[0mpd\u001b[0m\u001b[1;33m.\u001b[0m\u001b[0mread_csv\u001b[0m\u001b[1;33m(\u001b[0m\u001b[1;34m\"missing_data.csv\"\u001b[0m\u001b[1;33m)\u001b[0m\u001b[1;33m\u001b[0m\u001b[1;33m\u001b[0m\u001b[0m\n\u001b[0m\u001b[0;32m      5\u001b[0m \u001b[0mprint\u001b[0m\u001b[1;33m(\u001b[0m\u001b[0mdf\u001b[0m\u001b[1;33m)\u001b[0m\u001b[1;33m\u001b[0m\u001b[1;33m\u001b[0m\u001b[0m\n\u001b[0;32m      6\u001b[0m \u001b[0mdf\u001b[0m\u001b[1;33m.\u001b[0m\u001b[0mto_html\u001b[0m\u001b[1;33m(\u001b[0m\u001b[1;34m\"Ch12_6_1.html\"\u001b[0m\u001b[1;33m)\u001b[0m\u001b[1;33m\u001b[0m\u001b[1;33m\u001b[0m\u001b[0m\n",
      "\u001b[1;32m~\\Anaconda3\\lib\\site-packages\\pandas\\io\\parsers.py\u001b[0m in \u001b[0;36mparser_f\u001b[1;34m(filepath_or_buffer, sep, delimiter, header, names, index_col, usecols, squeeze, prefix, mangle_dupe_cols, dtype, engine, converters, true_values, false_values, skipinitialspace, skiprows, nrows, na_values, keep_default_na, na_filter, verbose, skip_blank_lines, parse_dates, infer_datetime_format, keep_date_col, date_parser, dayfirst, iterator, chunksize, compression, thousands, decimal, lineterminator, quotechar, quoting, escapechar, comment, encoding, dialect, tupleize_cols, error_bad_lines, warn_bad_lines, skipfooter, doublequote, delim_whitespace, low_memory, memory_map, float_precision)\u001b[0m\n\u001b[0;32m    676\u001b[0m                     skip_blank_lines=skip_blank_lines)\n\u001b[0;32m    677\u001b[0m \u001b[1;33m\u001b[0m\u001b[0m\n\u001b[1;32m--> 678\u001b[1;33m         \u001b[1;32mreturn\u001b[0m \u001b[0m_read\u001b[0m\u001b[1;33m(\u001b[0m\u001b[0mfilepath_or_buffer\u001b[0m\u001b[1;33m,\u001b[0m \u001b[0mkwds\u001b[0m\u001b[1;33m)\u001b[0m\u001b[1;33m\u001b[0m\u001b[1;33m\u001b[0m\u001b[0m\n\u001b[0m\u001b[0;32m    679\u001b[0m \u001b[1;33m\u001b[0m\u001b[0m\n\u001b[0;32m    680\u001b[0m     \u001b[0mparser_f\u001b[0m\u001b[1;33m.\u001b[0m\u001b[0m__name__\u001b[0m \u001b[1;33m=\u001b[0m \u001b[0mname\u001b[0m\u001b[1;33m\u001b[0m\u001b[1;33m\u001b[0m\u001b[0m\n",
      "\u001b[1;32m~\\Anaconda3\\lib\\site-packages\\pandas\\io\\parsers.py\u001b[0m in \u001b[0;36m_read\u001b[1;34m(filepath_or_buffer, kwds)\u001b[0m\n\u001b[0;32m    438\u001b[0m \u001b[1;33m\u001b[0m\u001b[0m\n\u001b[0;32m    439\u001b[0m     \u001b[1;31m# Create the parser.\u001b[0m\u001b[1;33m\u001b[0m\u001b[1;33m\u001b[0m\u001b[1;33m\u001b[0m\u001b[0m\n\u001b[1;32m--> 440\u001b[1;33m     \u001b[0mparser\u001b[0m \u001b[1;33m=\u001b[0m \u001b[0mTextFileReader\u001b[0m\u001b[1;33m(\u001b[0m\u001b[0mfilepath_or_buffer\u001b[0m\u001b[1;33m,\u001b[0m \u001b[1;33m**\u001b[0m\u001b[0mkwds\u001b[0m\u001b[1;33m)\u001b[0m\u001b[1;33m\u001b[0m\u001b[1;33m\u001b[0m\u001b[0m\n\u001b[0m\u001b[0;32m    441\u001b[0m \u001b[1;33m\u001b[0m\u001b[0m\n\u001b[0;32m    442\u001b[0m     \u001b[1;32mif\u001b[0m \u001b[0mchunksize\u001b[0m \u001b[1;32mor\u001b[0m \u001b[0miterator\u001b[0m\u001b[1;33m:\u001b[0m\u001b[1;33m\u001b[0m\u001b[1;33m\u001b[0m\u001b[0m\n",
      "\u001b[1;32m~\\Anaconda3\\lib\\site-packages\\pandas\\io\\parsers.py\u001b[0m in \u001b[0;36m__init__\u001b[1;34m(self, f, engine, **kwds)\u001b[0m\n\u001b[0;32m    785\u001b[0m             \u001b[0mself\u001b[0m\u001b[1;33m.\u001b[0m\u001b[0moptions\u001b[0m\u001b[1;33m[\u001b[0m\u001b[1;34m'has_index_names'\u001b[0m\u001b[1;33m]\u001b[0m \u001b[1;33m=\u001b[0m \u001b[0mkwds\u001b[0m\u001b[1;33m[\u001b[0m\u001b[1;34m'has_index_names'\u001b[0m\u001b[1;33m]\u001b[0m\u001b[1;33m\u001b[0m\u001b[1;33m\u001b[0m\u001b[0m\n\u001b[0;32m    786\u001b[0m \u001b[1;33m\u001b[0m\u001b[0m\n\u001b[1;32m--> 787\u001b[1;33m         \u001b[0mself\u001b[0m\u001b[1;33m.\u001b[0m\u001b[0m_make_engine\u001b[0m\u001b[1;33m(\u001b[0m\u001b[0mself\u001b[0m\u001b[1;33m.\u001b[0m\u001b[0mengine\u001b[0m\u001b[1;33m)\u001b[0m\u001b[1;33m\u001b[0m\u001b[1;33m\u001b[0m\u001b[0m\n\u001b[0m\u001b[0;32m    788\u001b[0m \u001b[1;33m\u001b[0m\u001b[0m\n\u001b[0;32m    789\u001b[0m     \u001b[1;32mdef\u001b[0m \u001b[0mclose\u001b[0m\u001b[1;33m(\u001b[0m\u001b[0mself\u001b[0m\u001b[1;33m)\u001b[0m\u001b[1;33m:\u001b[0m\u001b[1;33m\u001b[0m\u001b[1;33m\u001b[0m\u001b[0m\n",
      "\u001b[1;32m~\\Anaconda3\\lib\\site-packages\\pandas\\io\\parsers.py\u001b[0m in \u001b[0;36m_make_engine\u001b[1;34m(self, engine)\u001b[0m\n\u001b[0;32m   1012\u001b[0m     \u001b[1;32mdef\u001b[0m \u001b[0m_make_engine\u001b[0m\u001b[1;33m(\u001b[0m\u001b[0mself\u001b[0m\u001b[1;33m,\u001b[0m \u001b[0mengine\u001b[0m\u001b[1;33m=\u001b[0m\u001b[1;34m'c'\u001b[0m\u001b[1;33m)\u001b[0m\u001b[1;33m:\u001b[0m\u001b[1;33m\u001b[0m\u001b[1;33m\u001b[0m\u001b[0m\n\u001b[0;32m   1013\u001b[0m         \u001b[1;32mif\u001b[0m \u001b[0mengine\u001b[0m \u001b[1;33m==\u001b[0m \u001b[1;34m'c'\u001b[0m\u001b[1;33m:\u001b[0m\u001b[1;33m\u001b[0m\u001b[1;33m\u001b[0m\u001b[0m\n\u001b[1;32m-> 1014\u001b[1;33m             \u001b[0mself\u001b[0m\u001b[1;33m.\u001b[0m\u001b[0m_engine\u001b[0m \u001b[1;33m=\u001b[0m \u001b[0mCParserWrapper\u001b[0m\u001b[1;33m(\u001b[0m\u001b[0mself\u001b[0m\u001b[1;33m.\u001b[0m\u001b[0mf\u001b[0m\u001b[1;33m,\u001b[0m \u001b[1;33m**\u001b[0m\u001b[0mself\u001b[0m\u001b[1;33m.\u001b[0m\u001b[0moptions\u001b[0m\u001b[1;33m)\u001b[0m\u001b[1;33m\u001b[0m\u001b[1;33m\u001b[0m\u001b[0m\n\u001b[0m\u001b[0;32m   1015\u001b[0m         \u001b[1;32melse\u001b[0m\u001b[1;33m:\u001b[0m\u001b[1;33m\u001b[0m\u001b[1;33m\u001b[0m\u001b[0m\n\u001b[0;32m   1016\u001b[0m             \u001b[1;32mif\u001b[0m \u001b[0mengine\u001b[0m \u001b[1;33m==\u001b[0m \u001b[1;34m'python'\u001b[0m\u001b[1;33m:\u001b[0m\u001b[1;33m\u001b[0m\u001b[1;33m\u001b[0m\u001b[0m\n",
      "\u001b[1;32m~\\Anaconda3\\lib\\site-packages\\pandas\\io\\parsers.py\u001b[0m in \u001b[0;36m__init__\u001b[1;34m(self, src, **kwds)\u001b[0m\n\u001b[0;32m   1706\u001b[0m         \u001b[0mkwds\u001b[0m\u001b[1;33m[\u001b[0m\u001b[1;34m'usecols'\u001b[0m\u001b[1;33m]\u001b[0m \u001b[1;33m=\u001b[0m \u001b[0mself\u001b[0m\u001b[1;33m.\u001b[0m\u001b[0musecols\u001b[0m\u001b[1;33m\u001b[0m\u001b[1;33m\u001b[0m\u001b[0m\n\u001b[0;32m   1707\u001b[0m \u001b[1;33m\u001b[0m\u001b[0m\n\u001b[1;32m-> 1708\u001b[1;33m         \u001b[0mself\u001b[0m\u001b[1;33m.\u001b[0m\u001b[0m_reader\u001b[0m \u001b[1;33m=\u001b[0m \u001b[0mparsers\u001b[0m\u001b[1;33m.\u001b[0m\u001b[0mTextReader\u001b[0m\u001b[1;33m(\u001b[0m\u001b[0msrc\u001b[0m\u001b[1;33m,\u001b[0m \u001b[1;33m**\u001b[0m\u001b[0mkwds\u001b[0m\u001b[1;33m)\u001b[0m\u001b[1;33m\u001b[0m\u001b[1;33m\u001b[0m\u001b[0m\n\u001b[0m\u001b[0;32m   1709\u001b[0m \u001b[1;33m\u001b[0m\u001b[0m\n\u001b[0;32m   1710\u001b[0m         \u001b[0mpassed_names\u001b[0m \u001b[1;33m=\u001b[0m \u001b[0mself\u001b[0m\u001b[1;33m.\u001b[0m\u001b[0mnames\u001b[0m \u001b[1;32mis\u001b[0m \u001b[1;32mNone\u001b[0m\u001b[1;33m\u001b[0m\u001b[1;33m\u001b[0m\u001b[0m\n",
      "\u001b[1;32mpandas\\_libs\\parsers.pyx\u001b[0m in \u001b[0;36mpandas._libs.parsers.TextReader.__cinit__\u001b[1;34m()\u001b[0m\n",
      "\u001b[1;32mpandas\\_libs\\parsers.pyx\u001b[0m in \u001b[0;36mpandas._libs.parsers.TextReader._setup_parser_source\u001b[1;34m()\u001b[0m\n",
      "\u001b[1;31mFileNotFoundError\u001b[0m: File b'missing_data.csv' does not exist"
     ]
    }
   ],
   "source": [
    "#Ch12_6_1\n",
    "import pandas as pd\n",
    "\n",
    "df = pd.read_csv(\"missing_data.csv\")\n",
    "print(df)\n",
    "df.to_html(\"Ch12_6_1.html\")"
   ]
  },
  {
   "cell_type": "code",
   "execution_count": null,
   "metadata": {},
   "outputs": [],
   "source": [
    "#Ch12_6_1a\n",
    "import pandas as pd\n",
    "\n",
    "df = pd.read_csv(\"missing_data.csv\")\n",
    "print(df)\n",
    "df.info()\n"
   ]
  },
  {
   "cell_type": "code",
   "execution_count": null,
   "metadata": {},
   "outputs": [],
   "source": [
    "#Ch12_6_1b\n",
    "import pandas as pd\n",
    "\n",
    "df = pd.read_csv(\"missing_data.csv\")\n",
    "# 刪除所有 NaN 的記錄\n",
    "df1 = df.dropna()\n",
    "print(df1)\n",
    "df1.to_html(\"Ch12_6_1b_01.html\")\n",
    "\n",
    "df2 = df.dropna(how=\"any\")\n",
    "print(df2)\n",
    "df2.to_html(\"Ch12_6_1b_02.html\")\n",
    "\n",
    "df3 = df.dropna(how=\"all\")\n",
    "print(df3)\n",
    "df3.to_html(\"Ch12_6_1b_03.html\")\n",
    "\n",
    "df4 = df.dropna(subset=[\"COL_B\", \"COL_C\"])\n",
    "print(df4)\n",
    "df4.to_html(\"Ch12_6_1b_04.html\")"
   ]
  },
  {
   "cell_type": "code",
   "execution_count": null,
   "metadata": {},
   "outputs": [],
   "source": [
    "#Ch12_6_1c\n",
    "import pandas as pd\n",
    "\n",
    "df = pd.read_csv(\"missing_data.csv\")\n",
    "# 填補遺失資料\n",
    "df1 = df.fillna(value=1)\n",
    "print(df1)\n",
    "df1.to_html(\"Ch12_6_1c_01.html\")\n",
    "\n",
    "df[\"COL_B\"] = df[\"COL_B\"].fillna(df[\"COL_B\"].mean())\n",
    "print(df)\n",
    "df.to_html(\"Ch12_6_1c_02.html\")\n",
    "\n",
    "df[\"COL_C\"] = df[\"COL_C\"].fillna(df[\"COL_C\"].median())\n",
    "print(df)\n",
    "df.to_html(\"Ch12_6_1c_03.html\")\n"
   ]
  },
  {
   "cell_type": "code",
   "execution_count": null,
   "metadata": {},
   "outputs": [],
   "source": [
    "#Ch12_6_2\n",
    "import pandas as pd\n",
    "\n",
    "df = pd.read_csv(\"duplicated_data.csv\")\n",
    "print(df)\n",
    "df.to_html(\"Ch12_6_2.html\")\n"
   ]
  },
  {
   "cell_type": "code",
   "execution_count": null,
   "metadata": {},
   "outputs": [],
   "source": [
    "#Ch12_6_2a\n",
    "import pandas as pd\n",
    "\n",
    "df = pd.read_csv(\"duplicated_data.csv\")\n",
    "\n",
    "df1 = df.drop_duplicates()\n",
    "print(df1)\n",
    "df1.to_html(\"Ch12_6_2a.html\") \n"
   ]
  },
  {
   "cell_type": "code",
   "execution_count": null,
   "metadata": {},
   "outputs": [],
   "source": [
    "#Ch12_6_2b\n",
    "import pandas as pd\n",
    "\n",
    "df = pd.read_csv(\"duplicated_data.csv\")\n",
    "\n",
    "df1 = df.drop_duplicates(\"COL_B\")\n",
    "print(df1)\n",
    "df1.to_html(\"Ch12_6_2b_01.html\") \n",
    "\n",
    "df2 = df.drop_duplicates(\"COL_B\", keep=\"last\")\n",
    "print(df2)\n",
    "df2.to_html(\"Ch12_6_2b_02.html\") \n",
    "\n",
    "df3 = df.drop_duplicates(\"COL_B\", keep=False)\n",
    "print(df3)\n",
    "df3.to_html(\"Ch12_6_2b_03.html\") "
   ]
  },
  {
   "cell_type": "code",
   "execution_count": null,
   "metadata": {},
   "outputs": [],
   "source": [
    "#Ch12_6_3\n",
    "import pandas as pd\n",
    "\n",
    "df = pd.read_csv(\"categorical_data.csv\")\n",
    "print(df)\n",
    "df.to_html(\"Ch12_6_3_01.html\")\n",
    "\n",
    "size_mapping = {\"XXL\": 5,\n",
    "                \"XL\": 4,\n",
    "                \"L\": 3,\n",
    "                \"M\": 2,\n",
    "                \"S\": 1,\n",
    "                \"XS\": 0}\n",
    "\n",
    "df[\"Size\"] = df[\"Size\"].map(size_mapping)\n",
    "print(df)\n",
    "df.to_html(\"Ch12_6_3_02.html\")"
   ]
  }
 ],
 "metadata": {
  "kernelspec": {
   "display_name": "Python 3",
   "language": "python",
   "name": "python3"
  },
  "language_info": {
   "codemirror_mode": {
    "name": "ipython",
    "version": 3
   },
   "file_extension": ".py",
   "mimetype": "text/x-python",
   "name": "python",
   "nbconvert_exporter": "python",
   "pygments_lexer": "ipython3",
   "version": "3.7.1"
  }
 },
 "nbformat": 4,
 "nbformat_minor": 2
}
