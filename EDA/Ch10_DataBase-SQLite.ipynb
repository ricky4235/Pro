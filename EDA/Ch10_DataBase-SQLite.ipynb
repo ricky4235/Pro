{
 "cells": [
  {
   "cell_type": "markdown",
   "metadata": {},
   "source": [
    "# SQLite\n",
    "SQLite 是為了不需要管理即可操作程序的輕量化的SQL數據庫引擎"
   ]
  },
  {
   "cell_type": "markdown",
   "metadata": {},
   "source": [
    "* 不需要一個單獨的服務器進程或操作的系統（無服務器的）。\n",
    "* SQLite 不需要配置，這意味著不需要安裝或管理。\n",
    "* 一個完整的SQLite 數據庫是存儲在一個單一的跨平台的磁盤文件。\n",
    "* SQLite 是非常小的，是輕量級的，完全配置時小於400KiB，省略可選功能配置時小於250KiB。\n",
    "* SQLite 是自給自足的，這意味著不需要任何外部的依賴。\n",
    "* SQLite 事務是完全兼容ACID 的，允許從多個進程或線程安全訪問。\n",
    "* SQLite 支持SQL92（SQL2）標準的大多數查詢語言的功能。\n",
    "* SQLite 使用ANSI-C 編寫的，並提供了簡單和易於使用的API。\n",
    "* SQLite 可在UNIX（Linux, Mac OS-X, Android, iOS）和Windows（Win32, WinCE, WinRT）中運行。"
   ]
  },
  {
   "cell_type": "code",
   "execution_count": null,
   "metadata": {},
   "outputs": [],
   "source": [
    "sqlite3 可以與Python sqlite3 模塊集成\n",
    "\n",
    "要使用sqlite3模塊，必須首先創建一個連接對象，表示數據庫中，然後可以選擇創建遊標對象，\n",
    "這將幫助在執行的所有SQL語句。\n",
    "\n",
    "Python sqlite3 模塊API\n",
    "以下是重要的sqlite3模塊程序，它可以足夠Python程序SQLite數據庫操作工作。\n",
    "如果要尋找一個更複雜的應用程序，那麼你可以看看成的Python sqlite3 模塊的官方文檔。"
   ]
  },
  {
   "cell_type": "markdown",
   "metadata": {},
   "source": [
    "### 連接到數據庫\n",
    "Python代碼顯示了如何連接到一個現有的數據庫。如果數據庫不存在，那麼它就會被創建，終於將返回一個數據庫對象。"
   ]
  },
  {
   "cell_type": "code",
   "execution_count": 6,
   "metadata": {},
   "outputs": [],
   "source": [
    "import sqlite3\n",
    "\n",
    "conn = sqlite3.connect('test.db')"
   ]
  },
  {
   "cell_type": "code",
   "execution_count": null,
   "metadata": {},
   "outputs": [],
   "source": [
    "在這裡，您還可以提供特殊的名字 :memory: 在RAM中創建一個數據庫的數據庫名稱。\n",
    "現在，讓我們運行上面的程序在當前目錄中創建數據庫test.db。按要求，你可以改變路徑。\n",
    "上麵的代碼在sqlite.py文件並執行它，如下圖所示。如果數據庫創建成功，那麼它會給以下消息："
   ]
  },
  {
   "cell_type": "code",
   "execution_count": null,
   "metadata": {},
   "outputs": [],
   "source": [
    "$chmod +x sqlite.py\n",
    "$./sqlite.py\n",
    "Open database successfully"
   ]
  },
  {
   "cell_type": "markdown",
   "metadata": {},
   "source": [
    "### CREATE 操作\n",
    "以下Python程序將使用以前創建的數據庫中創建一個表："
   ]
  },
  {
   "cell_type": "code",
   "execution_count": 11,
   "metadata": {},
   "outputs": [
    {
     "name": "stdout",
     "output_type": "stream",
     "text": [
      "Opened database successfully\n",
      "Table created successfully\n"
     ]
    }
   ],
   "source": [
    "import sqlite3\n",
    "\n",
    "conn = sqlite3.connect(r'C:\\Users\\11004076\\Documents\\SQL Scripts\\sqlite\\test1.db')\n",
    "print(\"Opened database successfully\");\n",
    "\n",
    "#創建表COMPANYtest.db\n",
    "conn.execute('''CREATE TABLE COMPANY  \n",
    "       (ID INT PRIMARY KEY     NOT NULL,\n",
    "       NAME           TEXT    NOT NULL,\n",
    "       AGE            INT     NOT NULL,\n",
    "       ADDRESS        CHAR(50),\n",
    "       SALARY         REAL);''')\n",
    "print(\"Table created successfully\");\n",
    "\n",
    "conn.close()"
   ]
  },
  {
   "cell_type": "markdown",
   "metadata": {},
   "source": [
    "### INSERT 操作\n",
    "一次只能執行一個語句(一個；)\n",
    "(\\)是Python中換行繼續字元\n",
    "跑第二次會Error是因為有設定PRIMARY KEY，不能重複值"
   ]
  },
  {
   "cell_type": "code",
   "execution_count": 23,
   "metadata": {},
   "outputs": [
    {
     "name": "stdout",
     "output_type": "stream",
     "text": [
      "Opened database successfully\n"
     ]
    },
    {
     "ename": "IntegrityError",
     "evalue": "UNIQUE constraint failed: COMPANY.ID",
     "output_type": "error",
     "traceback": [
      "\u001b[1;31m---------------------------------------------------------------------------\u001b[0m",
      "\u001b[1;31mIntegrityError\u001b[0m                            Traceback (most recent call last)",
      "\u001b[1;32m<ipython-input-23-c3e4127a166a>\u001b[0m in \u001b[0;36m<module>\u001b[1;34m\u001b[0m\n\u001b[0;32m      6\u001b[0m \u001b[1;33m\u001b[0m\u001b[0m\n\u001b[0;32m      7\u001b[0m conn.execute(\"INSERT INTO COMPANY (ID,NAME,AGE,ADDRESS,SALARY) \\\n\u001b[1;32m----> 8\u001b[1;33m               VALUES (1, 'Paul', 32, 'California', 20000.00 )\");\n\u001b[0m\u001b[0;32m      9\u001b[0m \u001b[1;33m\u001b[0m\u001b[0m\n\u001b[0;32m     10\u001b[0m conn.execute(\"INSERT INTO COMPANY (ID,NAME,AGE,ADDRESS,SALARY) \\\n",
      "\u001b[1;31mIntegrityError\u001b[0m: UNIQUE constraint failed: COMPANY.ID"
     ]
    }
   ],
   "source": [
    "import sqlite3\n",
    "\n",
    "conn = sqlite3.connect(r'C:\\Users\\11004076\\Documents\\SQL Scripts\\sqlite\\test1.db')\n",
    "print(\"Opened database successfully\");\n",
    "\n",
    "\n",
    "conn.execute(\"INSERT INTO COMPANY (ID,NAME,AGE,ADDRESS,SALARY) \\\n",
    "              VALUES (1, 'Paul', 32, 'California', 20000.00 )\");\n",
    "\n",
    "conn.execute(\"INSERT INTO COMPANY (ID,NAME,AGE,ADDRESS,SALARY) \\\n",
    "              VALUES (2, 'Allen', 25, 'Texas', 15000.00 )\");\n",
    "\n",
    "conn.execute(\"INSERT INTO COMPANY (ID,NAME,AGE,ADDRESS,SALARY) \\\n",
    "              VALUES (3, 'Teddy', 23, 'Norway', 20000.00 )\");\n",
    "\n",
    "conn.execute(\"INSERT INTO COMPANY (ID,NAME,AGE,ADDRESS,SALARY) \\\n",
    "              VALUES (4, 'Mark', 25, 'Rich-Mond ', 65000.00 )\");\n",
    "\n",
    "\n",
    "conn.commit()\n",
    "print(\"Records created successfully\");\n",
    "conn.close()"
   ]
  },
  {
   "cell_type": "code",
   "execution_count": 35,
   "metadata": {},
   "outputs": [
    {
     "name": "stdout",
     "output_type": "stream",
     "text": [
      "Opened database successfully\n",
      "ID =  1\n",
      "NAME =  Paul\n",
      "ADDRESS =  California\n",
      "SALARY =  20000.0\n",
      "ID =  2\n",
      "NAME =  Allen\n",
      "ADDRESS =  Texas\n",
      "SALARY =  15000.0\n",
      "ID =  3\n",
      "NAME =  Teddy\n",
      "ADDRESS =  Norway\n",
      "SALARY =  20000.0\n",
      "ID =  4\n",
      "NAME =  Mark\n",
      "ADDRESS =  Rich-Mond \n",
      "SALARY =  65000.0\n",
      "Operation done successfully\n"
     ]
    }
   ],
   "source": [
    "import sqlite3\n",
    "\n",
    "conn = sqlite3.connect(r'C:\\Users\\11004076\\Documents\\SQL Scripts\\sqlite\\test1.db')\n",
    "print(\"Opened database successfully\");\n",
    "\n",
    "cursor = conn.execute(\"SELECT id, name, address, salary  from COMPANY\")\n",
    "for row in cursor:\n",
    "   print(\"ID = \", row[0])\n",
    "   print(\"NAME = \", row[1])\n",
    "   print(\"ADDRESS = \", row[2])\n",
    "   print(\"SALARY = \", row[3])\n",
    "\n",
    "print(\"Operation done successfully\");\n",
    "conn.close()"
   ]
  },
  {
   "cell_type": "markdown",
   "metadata": {},
   "source": [
    "### UPDATE 操作\n",
    "Python代碼顯示如何，我們可以使用UPDATE語句來更新任何記錄，然後獲取並顯示更新的記錄，從COMPANY 表："
   ]
  },
  {
   "cell_type": "code",
   "execution_count": 39,
   "metadata": {},
   "outputs": [
    {
     "name": "stdout",
     "output_type": "stream",
     "text": [
      "Opened database successfully\n",
      "Total number of rows updated : 1\n",
      "ID =  1\n",
      "NAME =  Paul\n",
      "ADDRESS =  California\n",
      "SALARY =  25000.0\n",
      "ID =  2\n",
      "NAME =  Allen\n",
      "ADDRESS =  Texas\n",
      "SALARY =  15000.0\n",
      "ID =  3\n",
      "NAME =  Teddy\n",
      "ADDRESS =  Norway\n",
      "SALARY =  20000.0\n",
      "ID =  4\n",
      "NAME =  Mark\n",
      "ADDRESS =  Rich-Mond \n",
      "SALARY =  65000.0\n",
      "Operation done successfully\n"
     ]
    }
   ],
   "source": [
    "import sqlite3\n",
    "\n",
    "conn = sqlite3.connect(r'C:\\Users\\11004076\\Documents\\SQL Scripts\\sqlite\\test1.db')\n",
    "print(\"Opened database successfully\");\n",
    "\n",
    "conn.execute(\"UPDATE COMPANY set SALARY = 25000.00 where ID=1\")  #ID=1的SALARY改25000\n",
    "conn.commit\n",
    "print(\"Total number of rows updated :\", conn.total_changes)\n",
    "\n",
    "cursor = conn.execute(\"SELECT id, name, address, salary  from COMPANY\")\n",
    "for row in cursor:\n",
    "   print(\"ID = \", row[0])\n",
    "   print(\"NAME = \", row[1])\n",
    "   print(\"ADDRESS = \", row[2])\n",
    "   print(\"SALARY = \", row[3])\n",
    "\n",
    "print(\"Operation done successfully\");\n",
    "conn.close()"
   ]
  },
  {
   "cell_type": "markdown",
   "metadata": {},
   "source": [
    "### DELETE 操作\n",
    "Python代碼顯示了如何我們可以使用DELETE語句刪除任何記錄，然後獲取並顯示剩餘的記錄COMPANY 表："
   ]
  },
  {
   "cell_type": "code",
   "execution_count": 41,
   "metadata": {
    "scrolled": true
   },
   "outputs": [
    {
     "name": "stdout",
     "output_type": "stream",
     "text": [
      "Opened database successfully\n",
      "Total number of rows deleted : 1\n",
      "ID =  1\n",
      "NAME =  Paul\n",
      "ADDRESS =  California\n",
      "SALARY =  20000.0\n",
      "ID =  3\n",
      "NAME =  Teddy\n",
      "ADDRESS =  Norway\n",
      "SALARY =  20000.0\n",
      "ID =  4\n",
      "NAME =  Mark\n",
      "ADDRESS =  Rich-Mond \n",
      "SALARY =  65000.0\n",
      "Operation done successfully\n"
     ]
    }
   ],
   "source": [
    "import sqlite3\n",
    "\n",
    "conn = sqlite3.connect(r'C:\\Users\\11004076\\Documents\\SQL Scripts\\sqlite\\test1.db')\n",
    "print(\"Opened database successfully\");\n",
    "\n",
    "conn.execute(\"DELETE from COMPANY where ID=2;\")  #刪除ID=2的資料\n",
    "conn.commit\n",
    "print(\"Total number of rows deleted :\", conn.total_changes)\n",
    "\n",
    "cursor = conn.execute(\"SELECT id, name, address, salary  from COMPANY\")\n",
    "for row in cursor:\n",
    "   print(\"ID = \", row[0])\n",
    "   print(\"NAME = \", row[1])\n",
    "   print(\"ADDRESS = \", row[2])\n",
    "   print(\"SALARY = \", row[3])\n",
    "\n",
    "print(\"Operation done successfully\");\n",
    "conn.close()"
   ]
  },
  {
   "cell_type": "markdown",
   "metadata": {},
   "source": [
    "# Excel/CSV匯入SQLite"
   ]
  },
  {
   "cell_type": "markdown",
   "metadata": {},
   "source": [
    "先將Excel轉成CSV，因為SQLite只有匯入csv選項，但直接匯入會碰到中文變亂碼問題，"
   ]
  },
  {
   "cell_type": "markdown",
   "metadata": {},
   "source": [
    "### 中文亂碼原因\n",
    "由於sqlite數據庫使用的是UTF-8編碼方式，而傳入的字符串是ASCII編碼或Unicode編碼，導致字符串格式錯誤。"
   ]
  },
  {
   "cell_type": "markdown",
   "metadata": {},
   "source": [
    "### 解決方案\n",
    "先將匯入前的資料轉換成UTF-8編碼\n",
    "\n",
    "步驟：\n",
    "1. 先檢查CSV檔案有無逗號，如果有要先取代掉，不取代掉順序會亂掉(因為多了逗號分隔)\n",
    "2. 開啟一個記事本(.text檔)，將csv檔案拖移拉入記事本\n",
    "3. 另存新檔，重點是右下角的編碼要改為UTF-8\n",
    "4. 就能直接用sqlite匯入csv了"
   ]
  },
  {
   "cell_type": "markdown",
   "metadata": {},
   "source": [
    "# 爬蟲存入SQLite範例\n",
    "這裡會延續前一小節的ezprice爬蟲的內容. 有時候, 你可能不喜歡CSV檔案, 而比較喜歡把資料存到DB裡面, 這時候就可以考慮採用以下這隻爬蟲的做法. 這隻爬蟲會把前一小節產生的csv檔案當作輸入, 並把當中的資料讀出來並且儲存到資料庫裡面. 這邊使用SQLite作為範例資料庫."
   ]
  },
  {
   "cell_type": "code",
   "execution_count": null,
   "metadata": {},
   "outputs": [],
   "source": [
    "from ch5.domain.item import Item\n",
    "import sqlite3\n",
    "import csv\n",
    "\n",
    "\n",
    "DB_NAME = 'db.sqlite'\n",
    "DROP_TABLE_COMMAND = 'DROP TABLE %s'\n",
    "CHECK_TABLE_COMMAND = 'SELECT name FROM sqlite_master WHERE type=\\'table\\' AND name=\\'%s\\';'\n",
    "FETCH_ALL_RECORD_COMMAND = 'SELECT * FROM %s;'\n",
    "\n",
    "\n",
    "def connect_db(db_file):\n",
    "    return sqlite3.connect(db_file)\n",
    "\n",
    "\n",
    "def execute_command(connection, sql_cmd):\n",
    "    cursor = connection.cursor()\n",
    "    cursor.execute(sql_cmd)\n",
    "    connection.commit()\n",
    "\n",
    "\n",
    "def table_exists(connection, table_name):\n",
    "    cursor = connection.cursor()\n",
    "    cursor.execute(CHECK_TABLE_COMMAND % table_name)\n",
    "    result = cursor.fetchone()\n",
    "    if result is None:\n",
    "        return False\n",
    "    else:\n",
    "        return True\n",
    "\n",
    "\n",
    "def create_table(connection, table_name):\n",
    "    create_table_cmd = 'CREATE TABLE %s (id INTEGER PRIMARY KEY AUTOINCREMENT, item TEXT, price INTEGER, shop TEXT)' % table_name\n",
    "    if not table_exists(connection, table_name):\n",
    "        print('Table \\'%s\\' does not exist, creating...' % table_name)\n",
    "        execute_command(connection, create_table_cmd)\n",
    "        print('Table \\'%s\\' created.' % table_name)\n",
    "    else:\n",
    "        execute_command(connection, DROP_TABLE_COMMAND % table_name)\n",
    "        print('Table \\'%s\\' already exists, initializing...' % table_name)\n",
    "        execute_command(connection, create_table_cmd)\n",
    "        print('Table \\'%s\\' created.' % table_name)\n",
    "\n",
    "\n",
    "def insert_data(connection, table_name, item):\n",
    "    insert_record_cmd = 'INSERT INTO %s (item, price, shop) VALUES (\"%s\", %d, \"%s\")' % (table_name, item.name, item.price, item.shop)\n",
    "    execute_command(connection, insert_record_cmd)\n",
    "\n",
    "\n",
    "def update_data(connection, table_name):\n",
    "    update_record_cmd = 'UPDATE %s SET shop = \"udn買東西2\" where shop=\"udn買東西\"' % table_name\n",
    "    execute_command(connection, update_record_cmd)\n",
    "\n",
    "\n",
    "def insert_bulk_record(connection, table_name, input_file):\n",
    "    with open(input_file, 'r', encoding='UTF-8') as file:\n",
    "        reader = csv.DictReader(file)\n",
    "        for row in reader:\n",
    "            insert_record_cmd = 'INSERT INTO %s (item, price, shop) VALUES (\"%s\", \"%s\", \"%s\")' % (table_name, row['Item'], row['Price'], row['Store'])\n",
    "            execute_command(connection, insert_record_cmd)\n",
    "\n",
    "\n",
    "def fetch_all_record_from_db(connection, sql_cmd):\n",
    "    cursor = connection.cursor()\n",
    "    cursor.execute(sql_cmd)\n",
    "    rows = cursor.fetchall()\n",
    "    for row in rows:\n",
    "        print(row)\n",
    "\n",
    "\n",
    "def main():\n",
    "    connection = connect_db(DB_NAME)\n",
    "    table_name = 'record'\n",
    "    input_file = 'ezprice.csv'\n",
    "    item = Item('嚕嚕抱枕', 999, '嚕嚕小朋友')\n",
    "    try:\n",
    "        create_table(connection, table_name)\n",
    "        insert_data(connection, table_name, item)\n",
    "        insert_bulk_record(connection, table_name, input_file)\n",
    "        update_data(connection, table_name)\n",
    "        fetch_all_record_from_db(connection, FETCH_ALL_RECORD_COMMAND % table_name)\n",
    "        connection.close()\n",
    "    except Exception as exception:\n",
    "        print('Encounter some exceptions while executing DB tasks, close the connection...')\n",
    "        print('Exception message: ' + exception.__str__())\n",
    "        connection.close()\n",
    "\n",
    "if __name__ == '__main__':\n",
    "    main()"
   ]
  }
 ],
 "metadata": {
  "kernelspec": {
   "display_name": "Python 3",
   "language": "python",
   "name": "python3"
  },
  "language_info": {
   "codemirror_mode": {
    "name": "ipython",
    "version": 3
   },
   "file_extension": ".py",
   "mimetype": "text/x-python",
   "name": "python",
   "nbconvert_exporter": "python",
   "pygments_lexer": "ipython3",
   "version": "3.7.1"
  }
 },
 "nbformat": 4,
 "nbformat_minor": 2
}
