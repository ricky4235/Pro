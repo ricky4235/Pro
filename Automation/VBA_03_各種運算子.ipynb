{
 "cells": [
  {
   "cell_type": "code",
   "execution_count": null,
   "metadata": {},
   "outputs": [],
   "source": [
    "VBA_3_各種運算子"
   ]
  },
  {
   "cell_type": "code",
   "execution_count": null,
   "metadata": {},
   "outputs": [],
   "source": [
    "算術運算子\n",
    "下列是 VBA 中的算術運算子。\n",
    "\n",
    "運算子\t說明\t優先順序\n",
    "^\t冪運算（次方）\t1\n",
    "*\t乘法\t2\n",
    "/\t除法\t2\n",
    "\\\t整數除法\t3\n",
    "Mod\t餘數\t4\n",
    "+\t加法\t5\n",
    "-\t減法\t5\n",
    "\n",
    "以下是數學運算的範例：\n",
    "\n",
    "Dim a, b As Integer, c As Double\n",
    "a = 5\n",
    "b = 10\n",
    "\n",
    "c = a + b    ' 加法\n",
    "c = a - b    ' 減法\n",
    "c = a * b    ' 乘法\n",
    "c = b / a    ' 除法\n",
    "c = b Mod a  ' 餘數\n",
    "c = b ^ a    ' 次方"
   ]
  },
  {
   "cell_type": "code",
   "execution_count": null,
   "metadata": {},
   "outputs": [],
   "source": [
    "字串運算\n",
    "用於字串的運算子只有一個。\n",
    "\n",
    "運算子\t說明\n",
    "&\t串接兩個字串\n",
    "這是連接兩個字串的範例：\n",
    "\n",
    "Dim text1 As String, text2 As String\n",
    "text1 = \"Hi\"\n",
    "text2 = \"G. T. Wang\"\n",
    "MsgBox text1 & \" \" & text2"
   ]
  },
  {
   "cell_type": "code",
   "execution_count": null,
   "metadata": {},
   "outputs": [],
   "source": [
    "比較運算子\n",
    "比較運算子（comparison operators）可用於比較兩個數值或字串變數，傳回布林值（True 或 False），\n",
    "以下是常見的比較運算子。\n",
    "\n",
    "運算子\t說明\n",
    "=\t等於\n",
    "<>\t不等於\n",
    "<\t小於\n",
    ">\t大於\n",
    "<=\t小於或等於\n",
    ">=\t大於或等於"
   ]
  },
  {
   "cell_type": "code",
   "execution_count": null,
   "metadata": {},
   "outputs": [],
   "source": [
    "邏輯與位元運算子\n",
    "邏輯與位元運算子適用於各種邏輯變數之間的運算，亦可用於位元（bitwise）運算。\n",
    "\n",
    "運算子\t說明\n",
    "And\tAND 運算\n",
    "Or\tOR 運算\n",
    "Not\tNOT 運算\n",
    "Xor\tXOR 運算\n",
    "這是 And 邏輯運算的一個範例：\n",
    "\n",
    "Dim a, b, c As Integer\n",
    "Dim x, y As Boolean\n",
    "a = 10\n",
    "b = 8\n",
    "c = 6\n",
    "x = a > b And b > c  ' 結果為 True\n",
    "y = b > a And b > c  ' 結果為 False\n",
    "MsgBox \"x is \" & x & \", y is \" & y\n",
    "若將各種不同的運算子混合在一起運算時，執行的先後順序就要注意，\n",
    "像邏輯與位元運算子低於比較運算子，所以這裡的判斷式在執行時，\n",
    "會先執行前後的比較大小運算，然後再執行 And 運算，\n",
    "完整的運算子優先順序資料請參考 Operator Precedence in Visual Basic。\n",
    "\n",
    "同樣的 And 運算子也可以用於位元運算：\n",
    "\n",
    "Dim a, b, c, x, y, z As Integer\n",
    "a = 10\n",
    "b = 8\n",
    "c = 6\n",
    "x = (a And b)  ' 結果為 8\n",
    "y = (a And c)  ' 結果為 2\n",
    "z = (b And c)  ' 結果為 0\n",
    "MsgBox \"x = \" & x & \", y = \" & y & \", z = \" & z\n",
    "位元運算就是指每個位元獨立做運算，以這裡的 a And b 來說，a 的值以二進位表示的話是 1010，\n",
    "而 b 以二進位表示則為 1000，所以兩個值做完 And 運算之後，\n",
    "就會是二進位的 1000，也就是十進位的 8，其餘以此類推。"
   ]
  }
 ],
 "metadata": {
  "kernelspec": {
   "display_name": "Python 3",
   "language": "python",
   "name": "python3"
  },
  "language_info": {
   "codemirror_mode": {
    "name": "ipython",
    "version": 3
   },
   "file_extension": ".py",
   "mimetype": "text/x-python",
   "name": "python",
   "nbconvert_exporter": "python",
   "pygments_lexer": "ipython3",
   "version": "3.7.1"
  }
 },
 "nbformat": 4,
 "nbformat_minor": 2
}
