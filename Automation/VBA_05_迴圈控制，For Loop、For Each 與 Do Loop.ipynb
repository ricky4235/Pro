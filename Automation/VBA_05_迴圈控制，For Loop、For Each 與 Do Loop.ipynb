{
 "cells": [
  {
   "cell_type": "code",
   "execution_count": null,
   "metadata": {},
   "outputs": [],
   "source": [
    "VBA_5_迴圈控制，For Loop、For Each 與 Do Loop"
   ]
  },
  {
   "cell_type": "code",
   "execution_count": null,
   "metadata": {},
   "outputs": [],
   "source": [
    "在 Excel VBA 中的迴圈主要可分為 For Loop、For Each 與 Do Loop 這幾種，\n",
    "不同的迴圈適用於不同類型的問題，以下是各種 VBA 迴圈的語法教學。"
   ]
  },
  {
   "cell_type": "code",
   "execution_count": null,
   "metadata": {},
   "outputs": [],
   "source": [
    "# For Loop 迴圈\n",
    "For Loop 迴圈主要用於已知重複次數的問題，也就是在執行迴圈之前，就已經事先知道要迭代幾次。\n",
    "\n",
    "形式：For 迭代變數 = 開始值 To 結束值"
   ]
  },
  {
   "cell_type": "code",
   "execution_count": null,
   "metadata": {},
   "outputs": [],
   "source": [
    "Next 迭代變數：\n",
    "在 For Loop 迴圈執行時，迭代變數會從開始值不斷遞增至結束值，每次遞增時都會執行一次運算內容。"
   ]
  },
  {
   "cell_type": "code",
   "execution_count": null,
   "metadata": {},
   "outputs": [],
   "source": [
    "以下是一個計算從 1 到 10 總和的範例：\n",
    "\n",
    "Dim i, s As Integer\n",
    "s = 0\n",
    "For i = 1 To 10\n",
    "  s = s + i\n",
    "Next i  # i 就是迭代變數\n",
    "MsgBox \"s = \" & s\n",
    "\n",
    "直到 i 遞增到 10 並執行完該次迭代之後，才會跳出 For Loop 迴圈。\n",
    "整個程式執行完之後，就會把 1 到 10 的總和算出來："
   ]
  },
  {
   "cell_type": "code",
   "execution_count": null,
   "metadata": {},
   "outputs": [],
   "source": [
    "Exit For 中斷迴圈"
   ]
  },
  {
   "cell_type": "code",
   "execution_count": null,
   "metadata": {},
   "outputs": [],
   "source": [
    "Dim i, s As Integer\n",
    "s = 0\n",
    "For i = 1 To 10\n",
    "  s = s + i\n",
    "  If i >= 4 Then\n",
    "    Exit For ' 中斷迴圈\n",
    "  End If\n",
    "Next i\n",
    "MsgBox \"s = \" & s\n",
    "\n",
    "在這個範例中，我們在 For Loop 迴圈當中加入了一個 If Then 條件判斷式，\n",
    "當 i 大於或等於 4 的時候，就跳出迴圈，所以最後我們會得到從 1 加到 4 的總和："
   ]
  },
  {
   "cell_type": "code",
   "execution_count": null,
   "metadata": {},
   "outputs": [],
   "source": [
    "# For Each 迴圈\n",
    "For Each 迴圈是 For Loop 迴圈的另外一種精簡寫法，兩者功能差不多，\n",
    "只是在某些狀況下使用 For Each 迴圈會比較方便。\n",
    "\n",
    "一般若要使用 For Loop 迴圈對陣列中的每個元素逐一處理時，必須明確指定開始與結束的索引值，\n",
    "再以索引值取出陣列中的元素做進一步的運算，而 For Each 迴圈則是可以自動將陣列中的元素逐一取出，\n",
    "放進迴圈的迭代變數中處理，這樣的寫法會比 For Loop 更精簡。\n",
    "\n",
    "形式：For Each 迭代變數 In 陣列"
   ]
  },
  {
   "cell_type": "code",
   "execution_count": null,
   "metadata": {},
   "outputs": [],
   "source": [
    "Dim wSheet As Worksheet\n",
    "For Each wSheet In Worksheets\n",
    "  MsgBox \"找到工作表: \" & wSheet.Name\n",
    "Next wSheet\n",
    "\n",
    "這個 For Each 迴圈會將 Worksheets 中的每一個元素逐一取出，儲存在 wSheet 變數中，並且執行迭代的內容。\n",
    "這個例子會將 Excel 中的每一張工作表取出來，呼叫 MsgBox 輸出每一張工作表的名子，\n",
    "也就是說 Excel 中的工作表有幾張，這個迴圈就會執行幾次。\n"
   ]
  },
  {
   "cell_type": "code",
   "execution_count": null,
   "metadata": {},
   "outputs": [],
   "source": [
    "# Do Loop 迴圈\n",
    "Do Loop 迴圈可以重複執行某一段程式碼，直到指定的條件判斷式成立或是不成立的時候，\n",
    "才停止迴圈的執行，而這類的迴圈有好幾種不同的型式，使用者可以依照需求選擇適合的寫法。"
   ]
  },
  {
   "cell_type": "code",
   "execution_count": null,
   "metadata": {},
   "outputs": [],
   "source": [
    "# Do While Loop 迴圈\n",
    "Do While Loop 迴圈可以在每一次迭代時，檢查一個指定的條件判斷式，\n",
    "如果成立的話（判斷為 True）就會繼續執行，而如果條件不成立（判斷為 False）的話，就會中止迴圈。\n",
    "\n",
    "方式：\n",
    "    Do While 條件判斷式\n",
    "    運算內容\n",
    "    Loop"
   ]
  },
  {
   "cell_type": "code",
   "execution_count": null,
   "metadata": {},
   "outputs": [],
   "source": [
    "Dim i, s As Integer\n",
    "s = 0\n",
    "i = 1\n",
    "Do While i <= 10\n",
    "  s = s + i\n",
    "  i = i + 1\n",
    "Loop\n",
    "MsgBox \"s = \" & s\n",
    "\n",
    "在這個例子中，一開始先初始化兩個變數，s 變數用於儲存總和值，而 i 則是用於每次迭代的變數，\n",
    "迴圈執行時會先判斷 i 是否小於或等於 10，如果條件成立則執行迴圈的內容，一直重複執行直到 i 大於 10 為止，\n",
    "所以最後得到的 s 就是 1 到 10 的加總數值。"
   ]
  },
  {
   "cell_type": "code",
   "execution_count": null,
   "metadata": {},
   "outputs": [],
   "source": [
    "While 的條件判斷式也可以放在迴圈結尾處，這樣的話迴圈在執行時就會先執行第一次的迭代，\n",
    "執行完第一次之後才判斷是否要繼續執行下一次的迭代，如果條件成立則繼續執行，\n",
    "若不成立就立刻中止迴圈，這樣的寫法只是檢查條件判斷式的時機不同，觀念上大同小異。\n",
    "\n",
    "Do\n",
    "運算內容\n",
    "Loop While 條件判斷式\n",
    "以下是一個簡單的範例。\n",
    "\n",
    "Dim i, s As Integer\n",
    "s = 0\n",
    "i = 1\n",
    "Do\n",
    "  s = s + i\n",
    "  i = i + 1\n",
    "Loop While i <= 10\n",
    "MsgBox \"s = \" & s"
   ]
  },
  {
   "cell_type": "code",
   "execution_count": null,
   "metadata": {},
   "outputs": [],
   "source": [
    "# Do Until Loop 迴圈\n",
    "Do Until Loop 迴圈與 Do While Loop 迴圈在條件的判斷上剛好相反，\n",
    "Do Until Loop 迴圈會在指定條件不成立（判斷為 False）時繼續執行，\n",
    "當判斷條件成立時（判斷為 True）則終止迴圈。\n",
    "\n",
    "方式：\n",
    "    Do Until 條件判斷式\n",
    "    運算內容\n",
    "    Loop"
   ]
  },
  {
   "cell_type": "code",
   "execution_count": null,
   "metadata": {},
   "outputs": [],
   "source": [
    "Dim i, s As Integer\n",
    "s = 0\n",
    "i = 1\n",
    "Do Until i > 10\n",
    "  s = s + i\n",
    "  i = i + 1\n",
    "Loop\n",
    "MsgBox \"s = \" & s"
   ]
  },
  {
   "cell_type": "code",
   "execution_count": null,
   "metadata": {},
   "outputs": [],
   "source": [
    "Do Until Loop 迴圈也可以將條件判斷式放在迴圈的最後面，這跟上面 Do While Loop 迴圈也很類似。\n",
    "\n",
    "Do\n",
    "運算內容\n",
    "Loop Until 條件判斷式\n",
    "以下是一個簡單的範例。\n",
    "\n",
    "Dim i, s As Integer\n",
    "s = 0\n",
    "i = 1\n",
    "Do\n",
    "  s = s + i\n",
    "  i = i + 1\n",
    "Loop Until i > 10\n",
    "MsgBox \"s = \" & s"
   ]
  },
  {
   "cell_type": "code",
   "execution_count": null,
   "metadata": {},
   "outputs": [],
   "source": [
    "Exit Do 中斷迴圈\n",
    "如果要在 Do Loop 迴圈執行到一半時終止迴圈的執行，可以在迴圈中加入 Exit Do，以下是一個範例："
   ]
  },
  {
   "cell_type": "code",
   "execution_count": null,
   "metadata": {},
   "outputs": [],
   "source": [
    "Dim i, s As Integer\n",
    "s = 0\n",
    "i = 1\n",
    "Do Until i > 10\n",
    "  s = s + i\n",
    "  i = i + 1\n",
    "  If i > 4 Then\n",
    "    Exit Do ' 中斷迴圈\n",
    "  End If\n",
    "Loop\n",
    "MsgBox \"s = \" & s\n",
    "在這個例子中，我們在迴圈之中加入一個 If 判斷式，讓程式在 i 大於 4 的時候就執行 Exit Do 跳出迴圈，\n",
    "所以這個程式最後所得到的結果就是從 1 到 4 的總和。\n"
   ]
  },
  {
   "cell_type": "code",
   "execution_count": null,
   "metadata": {},
   "outputs": [],
   "source": [
    "應用範例\n",
    "迭代 Excel 工作表\n",
    "此範例示範如何結合 For Loop 迴圈與 Cells 函數（Cells 函數的用法請參考活頁簿、工作表與儲存格），\n",
    "自動迭代處理 Excel 工作表內的資料：\n",
    "\n",
    "Dim i, j As Integer\n",
    "For i = 1 To 3\n",
    "  For j = 1 To 3\n",
    "    MsgBox (\"(\" & i & \",\" & j & \") = \" & Cells(i, j))\n",
    "  Next j\n",
    "Next i"
   ]
  }
 ],
 "metadata": {
  "kernelspec": {
   "display_name": "Python 3",
   "language": "python",
   "name": "python3"
  },
  "language_info": {
   "codemirror_mode": {
    "name": "ipython",
    "version": 3
   },
   "file_extension": ".py",
   "mimetype": "text/x-python",
   "name": "python",
   "nbconvert_exporter": "python",
   "pygments_lexer": "ipython3",
   "version": "3.7.1"
  }
 },
 "nbformat": 4,
 "nbformat_minor": 2
}
