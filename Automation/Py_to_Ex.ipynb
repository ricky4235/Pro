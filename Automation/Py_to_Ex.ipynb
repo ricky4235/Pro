{
 "cells": [
  {
   "cell_type": "code",
   "execution_count": null,
   "metadata": {},
   "outputs": [],
   "source": [
    "Python處理Excel擁有眾多的庫，使用它們我們就直接能批量處理Excel標的。使用的比較多的有：\n",
    "xlwings\n",
    "openpyxl\n",
    "pandas\n",
    "win32com\n",
    "xlsxwriter\n",
    "DataNitro\n",
    "xlutils\n",
    "由於設計目的不同，每個模塊通常著重於某一方面功能，各有所長。"
   ]
  },
  {
   "cell_type": "code",
   "execution_count": null,
   "metadata": {},
   "outputs": [],
   "source": [
    "xlwings\n",
    "可結合 VBA 實現對 Excel 編程，強大的數據輸入分析能力，同時擁有豐富的接口，\n",
    "結合 pandas/numpy/matplotlib 輕鬆應對 Excel 數據處理工作。"
   ]
  },
  {
   "cell_type": "code",
   "execution_count": null,
   "metadata": {},
   "outputs": [],
   "source": [
    "openpyxl\n",
    "簡單易用，功能廣泛，單元格格式/圖片/表格/公式/篩選/批註/文件保護等等功能應有盡有，\n",
    "圖表功能是其一大亮點，缺點是對 VBA 支持的不夠好。"
   ]
  },
  {
   "cell_type": "code",
   "execution_count": null,
   "metadata": {},
   "outputs": [],
   "source": [
    "pandas\n",
    "數據處理是 pandas 的立身之本，Excel 作為 pandas 輸入/輸出數據的容器。"
   ]
  },
  {
   "cell_type": "code",
   "execution_count": null,
   "metadata": {},
   "outputs": [],
   "source": [
    "win32com\n",
    "從命名上就可以看出，這是一個處理 windows 應用的擴展，Excel 只是該庫能實現的一小部分功能。\n",
    "該庫還支持 office 的眾多操作。需要注意的是，該庫不單獨存在，可通過安裝 pypiwin32 或者 pywin32 獲取。\n",
    "win32模塊不僅可以操作Excel，還可以操作其他一眾windows的軟件。"
   ]
  },
  {
   "cell_type": "code",
   "execution_count": null,
   "metadata": {},
   "outputs": [],
   "source": [
    "xlsxwriter\n",
    "擁有豐富的特性，支持圖片/表格/圖表/篩選/格式/公式等，功能與openpyxl相似，\n",
    "優點是相比 openpyxl 還支持 VBA 文件導入，迷你圖等功能，缺點是不能打開/修改已有文件，意味著使用 xlsxwriter 需要從零開始。"
   ]
  },
  {
   "cell_type": "code",
   "execution_count": null,
   "metadata": {},
   "outputs": [],
   "source": [
    "DataNitro\n",
    "作為插件內嵌到 Excel 中，可完全替代 VBA，在 Excel 中使用 python 腳本。\n",
    "既然被稱為 Excel 中的 python，協同其他 python 庫亦是小事一樁。然而，這是付費插件..."
   ]
  },
  {
   "cell_type": "code",
   "execution_count": null,
   "metadata": {},
   "outputs": [],
   "source": [
    "xlutils\n",
    "基於 xlrd/xlwt，老牌 python 包，算是該領域的先驅，功能特點中規中矩，比較大的缺點是僅支持老舊的xls 文件。"
   ]
  },
  {
   "cell_type": "code",
   "execution_count": null,
   "metadata": {},
   "outputs": [],
   "source": [
    "小結\n",
    "通過以上的分析，相信大家對幾個庫都有了簡單的了解。在編寫文章的過程中，筆者也在思考各個庫最適合的應用場景。\n",
    "不想使用 GUI 而又希望賦予 Excel 更多的功能，openpyxl 與 xlsxwriter，你可二者選其一；\n",
    "需要進行科學計算，處理大量數據，建議 pandas+xlsxwriter 或者 pandas+openpyxl；\n",
    "想要寫 Excel 腳本，會 Python 但不會 VBA 的同學，可考慮 xlwings 或 DataNitro；\n",
    "至於 win32com，不管是功能還是性能都很強大，有 windows 編程經驗的同學可以使用。\n",
    "不過它相當於是 windows COM 的封裝，自身並沒有很完善的文檔，新手使用起來略有些痛苦。\n",
    "你可根據自己的需求和生產環境，選擇合適的 Python-Excel 模塊。"
   ]
  },
  {
   "cell_type": "code",
   "execution_count": null,
   "metadata": {},
   "outputs": [],
   "source": []
  },
  {
   "cell_type": "markdown",
   "metadata": {},
   "source": [
    "https://www.pyxll.com/blog/tools-for-working-with-excel-and-python/"
   ]
  },
  {
   "cell_type": "code",
   "execution_count": null,
   "metadata": {},
   "outputs": [],
   "source": []
  },
  {
   "cell_type": "code",
   "execution_count": null,
   "metadata": {},
   "outputs": [],
   "source": []
  },
  {
   "cell_type": "code",
   "execution_count": null,
   "metadata": {},
   "outputs": [],
   "source": []
  },
  {
   "cell_type": "code",
   "execution_count": null,
   "metadata": {},
   "outputs": [],
   "source": []
  },
  {
   "cell_type": "code",
   "execution_count": null,
   "metadata": {},
   "outputs": [],
   "source": []
  },
  {
   "cell_type": "code",
   "execution_count": null,
   "metadata": {},
   "outputs": [],
   "source": []
  }
 ],
 "metadata": {
  "kernelspec": {
   "display_name": "Python 3",
   "language": "python",
   "name": "python3"
  },
  "language_info": {
   "codemirror_mode": {
    "name": "ipython",
    "version": 3
   },
   "file_extension": ".py",
   "mimetype": "text/x-python",
   "name": "python",
   "nbconvert_exporter": "python",
   "pygments_lexer": "ipython3",
   "version": "3.7.1"
  }
 },
 "nbformat": 4,
 "nbformat_minor": 2
}
