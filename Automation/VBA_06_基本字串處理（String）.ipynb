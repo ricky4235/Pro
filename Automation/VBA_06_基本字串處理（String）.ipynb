{
 "cells": [
  {
   "cell_type": "code",
   "execution_count": null,
   "metadata": {},
   "outputs": [],
   "source": [
    "VBA_06_基本字串處理（String）\n",
    "這裡將介紹 Excel VBA 中各種字串的操作方式與相關的功能函數，並且提供各式常見的使用範例程式碼。\n",
    "在使用 Excel VBA 處理資料時，通常除了數值的資料之外，文字的資料處理也是很常會遇到的工作，\n",
    "而相較於運算很單純的數值，文字的處理又更複雜了一些，例如轉換大小寫、取出部分的文字、比較或取代文字等，\n",
    "通常文字在處理時，都需要根據不同的問題來撰寫 VBA 程式碼"
   ]
  },
  {
   "cell_type": "code",
   "execution_count": null,
   "metadata": {},
   "outputs": [],
   "source": [
    "# 字串的宣告與定義\n",
    "VBA 中的 String 就是用來儲存字串（文字）的變數類型，其宣告與定義的方式跟一般的數值變數類似，\n",
    "而字串的內容在指定時要用雙引號包起來"
   ]
  },
  {
   "cell_type": "code",
   "execution_count": null,
   "metadata": {},
   "outputs": [],
   "source": [
    "Dim mystr As String\n",
    "mystr = \"This is a message!!!\"\n",
    "上面這兩行宣告了一個 mystr 字串變數，並且把該變數的內容設定為 This is a message!!!。\n",
    "\n",
    "另外我們也可以利用 String 函數來建立重複字元的字串，例如：\n",
    "\n",
    "Dim text1, text2 As String\n",
    "#String 第一個參數是指定要產生的字串長度，而第二個參數則是指定重複的字元，\n",
    "text1 = String(6, \"A\") ' 產生 AAAAAA\n",
    "\n",
    "#直接用 ASCII 的編碼指定，像這裡的 100 就是指 d 的 ASCII 編碼。\n",
    "text2 = String(3, 100) ' 產生 ddd"
   ]
  },
  {
   "cell_type": "code",
   "execution_count": null,
   "metadata": {},
   "outputs": [],
   "source": [
    "連接字串\n",
    "如果要將多個字串連接起來，可以使用 & 這個運算子，以下是將三個字串連接在一起的範例。\n",
    "\n",
    "Dim text1 As String, text2 As String\n",
    "text1 = \"Hello\"\n",
    "text2 = \"World\"\n",
    "\n",
    "' 使用 & 連接字串\n",
    "MsgBox text1 & \", \" & text2\n",
    "這裡我們定義了兩個字串變數 text1 與 text2，接著使用 & 把它們接在一起，\n",
    "並且在兩個英文單字之間加入一個逗號與空白。"
   ]
  },
  {
   "cell_type": "code",
   "execution_count": null,
   "metadata": {},
   "outputs": [],
   "source": [
    "字串長度\n",
    "在 VBA 中若要取得一個字串的長度，可以使用 Len 函數：\n",
    "\n",
    "MsgBox Len(\"Hello, world.\")\n",
    "Len 函數的參數只有一個字串變數，呼叫 Len 之後它就會傳回該字串的長度：\n",
    "\n",
    "Len 傳回的數值是一個整數，我們也可以把它儲存在變數中做其他的運算：\n",
    "Dim text As String\n",
    "text = \"Hello World\"\n",
    "\n",
    "Dim textLen As Integer\n",
    "textLen = Len(text)\n",
    "\n",
    "MsgBox \"textLen = \" & textLen"
   ]
  },
  {
   "cell_type": "code",
   "execution_count": null,
   "metadata": {},
   "outputs": [],
   "source": [
    "搜尋字串位置\n",
    "若要尋找一個字串中某個子字串的位置，可以使用 InStr 函數：\n",
    "\n",
    "Dim pos As Integer\n",
    "pos = InStr(\"Hello, world.\", \"world\")\n",
    "MsgBox \"pos = \" & pos  #結果為8\n",
    "InStr 第一個參數是放一個比較長的字串，而第二個參數則是放要搜尋的關鍵字，\n",
    "以這個例子來說它就會在 Hello, world. 這一個字串中尋找 world 出現的位置。"
   ]
  },
  {
   "cell_type": "code",
   "execution_count": null,
   "metadata": {},
   "outputs": [],
   "source": [
    "InStr 預設在搜尋時，英文的大小寫是視為不同的，若希望不分大小寫，可將比對方式參數設定為 vbTextCompare：\n",
    "\n",
    "Dim pos As Integer\n",
    "pos = InStr(1, \"Hello, World.\", \"world\", vbTextCompare)\n",
    "MsgBox \"pos = \" & pos\n",
    "這裡的第一個參數是用來指定搜尋的起始位置，在上面的範例中我們將這個參數省略掉了，\n",
    "在這裡使用比對方式參數時就要加進來，這樣執行之後 InStr 在比對字串時就會將英文字母的大小寫視為相同的。"
   ]
  },
  {
   "cell_type": "code",
   "execution_count": null,
   "metadata": {},
   "outputs": [],
   "source": [
    "如果想從字串的結尾處開始往左搜尋，則可改用 InStrRev：\n",
    "\n",
    "Dim pos As Integer\n",
    "pos = InStrRev(\"Hello, World.\", \"l\")\n",
    "MsgBox \"pos = \" & pos\n",
    "VBA 搜尋字串位置\n",
    "VBA 搜尋字串位置\n",
    "\n",
    "若要讓 InStrRev 搜尋時不分大小寫，可以這樣寫：\n",
    "\n",
    "Dim pos As Integer\n",
    "pos = InStrRev(\"Hello, WORLD.\", \"l\", -1, vbTextCompare)\n",
    "MsgBox \"pos = \" & pos\n",
    "第三個參數是搜尋起始點，預設值是 -1（從最右方開始搜尋），最後一個參數就是比對方式，用法同上。"
   ]
  },
  {
   "cell_type": "code",
   "execution_count": null,
   "metadata": {},
   "outputs": [],
   "source": [
    "# 取出子字串\n",
    "如果要從一段字串中取出部分的子字串，依據不同的狀況會有好幾種作法，以下是各種取出子字串的函數與用法。"
   ]
  },
  {
   "cell_type": "code",
   "execution_count": null,
   "metadata": {},
   "outputs": [],
   "source": [
    "開頭子字串\n",
    "如果想要取出一段文字中開頭的部分，可以使用 Left 函數：\n",
    "\n",
    "MsgBox Left(\"Hello, world.\", 5)\n",
    "Left 的意思就是從左邊開始擷取子字串的意思，第一個參數是完整的字串，\n",
    "而第二個參數則是要擷取的子字串長度，執行結果如下："
   ]
  },
  {
   "cell_type": "code",
   "execution_count": null,
   "metadata": {},
   "outputs": [],
   "source": [
    "結尾子字串\n",
    "如果想要取出一段文字中結尾的部分，可以使用 Right 函數，其用法跟 Left 類似，\n",
    "只是換成從右邊開始擷取子字串而已：\n",
    "\n",
    "MsgBox Right(\"Hello, world.\", 6)"
   ]
  },
  {
   "cell_type": "code",
   "execution_count": null,
   "metadata": {},
   "outputs": [],
   "source": [
    "任意位置子字串\n",
    "如果要擷取的子字串位置不在文字的兩端，而是在文字的中間，則可使用 Mid 函數：\n",
    "\n",
    "MsgBox Mid(\"This is a message.\", 6, 2)\n",
    "Mid 函數的第一個參數是完整的字串，第二個參數是要擷取的子字串位置（從左邊算起），\n",
    "而第三個參數則是要擷取的子字串長度，這個例子就會從 This is a message. \n",
    "這段文字的第 6 個字元開始擷取，取出 2 個字元，執行結果如下。\n",
    "\n",
    "如果使用 Mid 時不指定擷取的字串長度，則 Mid 就會從指定的位置開始擷取直到整個字串的結尾，例如：\n",
    "\n",
    "MsgBox Mid(\"This is a message.\", 6)"
   ]
  },
  {
   "cell_type": "code",
   "execution_count": null,
   "metadata": {},
   "outputs": [],
   "source": [
    "# 移除多餘的空白字元\n",
    "如果在字串中除了主要的文字資料之外，前方還包含了多餘的空白字元，\n",
    "這時候就可以使用 Trim 系列的函數將多餘的空白移除。"
   ]
  },
  {
   "cell_type": "code",
   "execution_count": null,
   "metadata": {},
   "outputs": [],
   "source": []
  },
  {
   "cell_type": "code",
   "execution_count": null,
   "metadata": {},
   "outputs": [],
   "source": [
    "移除開頭空白字元\n",
    "LTrim 函數可將字串左邊的空白移除：\n",
    "LTrim 會自動判斷字串開頭的空白字元長度，將左邊開頭所有的空白都刪除\n",
    "\n",
    "Dim mystr As String\n",
    "mystr = \"         Hello, world.\"\n",
    "MsgBox \"After LTrim : \" & LTrim(mystr)"
   ]
  },
  {
   "cell_type": "code",
   "execution_count": null,
   "metadata": {},
   "outputs": [],
   "source": [
    "移除結尾空白字元\n",
    "如果空白位於字串結尾處，則可使用 RTrim，其用法與 LTrim 類似：\n",
    "\n",
    "Dim mystr As String\n",
    "mystr = \"Hello, world.              \"\n",
    "MsgBox \"After RTrim : \" & RTrim(mystr)"
   ]
  },
  {
   "cell_type": "code",
   "execution_count": null,
   "metadata": {},
   "outputs": [],
   "source": [
    "移除開頭與結尾空白字元\n",
    "如果要同時將前後兩端的所有空白字元都刪除，可以使用 Trim 函數：\n",
    "\n",
    "Dim mystr As String\n",
    "mystr = \"       Hello, world.        \"\n",
    "MsgBox \"After Trim : \" & Trim(mystr)"
   ]
  },
  {
   "cell_type": "code",
   "execution_count": null,
   "metadata": {},
   "outputs": [],
   "source": [
    "產生空白字元\n",
    "如果需要特定長度的空白字串時，可以用 Space 來產生，例如：\n",
    "\n",
    "MsgBox (\"Hello,\" & Space(10) & \"world.\")"
   ]
  },
  {
   "cell_type": "code",
   "execution_count": null,
   "metadata": {},
   "outputs": [],
   "source": [
    "字串取代\n",
    "Replace 函數可以將字串中的指定的文字替換成其他的文字，這個函數的完整參數用法如下：\n",
    "\n",
    "Replace(字串, 搜尋文字, 替換文字[, 起始位置[, 替換次數[, 比對方式]]])\n",
    "最簡單的用法就是單純將字串中指定的文字替換掉：\n",
    "\n",
    "Dim mystr As String\n",
    "mystr = \"This is a message.\"\n",
    "newstr = Replace(mystr, \"message\", \"dog\")\n",
    "MsgBox \"After Replace : \" & newstr"
   ]
  },
  {
   "cell_type": "code",
   "execution_count": null,
   "metadata": {},
   "outputs": [],
   "source": [
    "如果指定要替換的文字在整個字串中有出現好多次，Replace 預設會全部替換掉：\n",
    "\n",
    "Dim mystr As String\n",
    "mystr = \"This is a message.\"\n",
    "newstr = Replace(mystr, \"is\", \"**\")\n",
    "MsgBox \"After Replace : \" & newstr\n",
    "這裡就會將字串中的兩個 is 都替換為 **，結果如下：\n",
    "\n",
    "如果只想要替換特定位置的文字，或是限制替換次數，可以搭配起始位置與替換次數兩個參數的方式來處理：\n",
    "\n",
    "Dim mystr As String\n",
    "mystr = \"This is a message.\"\n",
    "newstr = Replace(mystr, \"is\", \"**\", 1, 1)\n",
    "MsgBox \"After Replace : \" & newstr\n",
    "這樣 Replace 就會從字串的開頭開始搜尋，只替換第一個比對成功的文字。"
   ]
  },
  {
   "cell_type": "code",
   "execution_count": null,
   "metadata": {},
   "outputs": [],
   "source": [
    "如果要替換比較後面的文字，可以調整起始位置參數，不過 Replace 會自動將起始位置之前的文字截斷：\n",
    "\n",
    "Dim mystr As String\n",
    "mystr = \"This is a message.\"\n",
    "newstr = Replace(mystr, \"is\", \"**\", 5, 1)\n",
    "MsgBox \"After Replace : \" & newstr"
   ]
  },
  {
   "cell_type": "code",
   "execution_count": null,
   "metadata": {},
   "outputs": [],
   "source": [
    "在預設的狀況下 Replace 會將英文字母的大小寫視為不同的字串：\n",
    "\n",
    "Dim mystr As String\n",
    "mystr = \"This Is a Message.\"\n",
    "newstr = Replace(mystr, \"is\", \"**\")\n",
    "MsgBox \"After Replace : \" & newstr\n",
    "\n",
    "\n",
    "如果要讓 Replace 在比對時，不要區分英文字母的大小寫（大小寫視為相同），\n",
    "可以將比對方式參數指定為 vbTextCompare：\n",
    "\n",
    "Dim mystr As String\n",
    "mystr = \"This Is a Message.\"\n",
    "newstr = Replace(mystr, \"is\", \"**\", 1, -1, vbTextCompare)\n",
    "MsgBox \"After Replace : \" & newstr\n",
    "由於比對方式的參數是最後一個，所以在使用時要把前面的起始位置與替換次數兩個參數也都寫進去，\n",
    "這裡的替換次數設定為 -1 是代表不限制的意思，而比對方式預設值是 vbBinaryCompare（大小寫視為不同），\n",
    "這裡改為 vbTextCompare 之後，就可以同時比對字串中大寫與小寫的文字。"
   ]
  },
  {
   "cell_type": "code",
   "execution_count": null,
   "metadata": {},
   "outputs": [],
   "source": [
    "字串比較\n",
    "StrComp 可以比較不同字串之間的大小差異，在排序資料時常常會用到，其參數用法如下：\n",
    "\n",
    "StrComp(字串一, 字串二[, 比對方式])\n",
    "前兩個參數就是兩個要比較的字串，而第三個比對方式參數可用來指定是否區分大小寫，\n",
    "預設值是 vbBinaryCompare（大小寫視為不同），若設定為 vbTextCompare 則會將大小寫視為相同。\n",
    "\n",
    "而 StrComp 在比較兩個字串之後，會傳回不同的數值來代表不同的結果：\n",
    "\n",
    "狀況\tStrComp 傳回數值\n",
    "字串一 < 字串二\t-1\n",
    "字串一 = 字串二\t0\n",
    "字串一 > 字串二\t1\n",
    "以下是一些比較的範例：\n",
    "\n",
    "MsgBox StrComp(\"Hello\", \"Hello\") ' 結果為 0\n",
    "MsgBox StrComp(\"Hello\", \"HELLO\") ' 結果為 1\n",
    "MsgBox StrComp(\"Hello\", \"hello\") ' 結果為 -1\n",
    "MsgBox StrComp(\"Hello\", \"hello\", vbTextCompare) ' 結果為 0"
   ]
  },
  {
   "cell_type": "code",
   "execution_count": null,
   "metadata": {},
   "outputs": [],
   "source": [
    "字串反轉\n",
    "StrReverse 可將字串反轉：\n",
    "\n",
    "MsgBox StrReverse(\"Hello, world.\")"
   ]
  },
  {
   "cell_type": "code",
   "execution_count": null,
   "metadata": {},
   "outputs": [],
   "source": [
    "大小寫轉換\n",
    "UCase 與 LCase 可以將字串中的英文字母轉換為大寫或小寫：\n",
    "\n",
    "MsgBox UCase(\"Hello, world.\") ' HELLO, WORLD.\n",
    "MsgBox LCase(\"Hello, world.\") ' hello, world."
   ]
  },
  {
   "cell_type": "code",
   "execution_count": null,
   "metadata": {},
   "outputs": [],
   "source": [
    "常見範例"
   ]
  },
  {
   "cell_type": "code",
   "execution_count": null,
   "metadata": {},
   "outputs": [],
   "source": [
    "從學號產生 Email 位址\n",
    "假設我們在 Excel 檔有一系列的學號，而各個學生的 Email 位址都是依據學號來建立的。\n",
    "\n",
    "\n",
    "這樣我們就可以利用簡單的 VBA 程式將學號轉換成 Email 位址：\n",
    "\n",
    "Dim sid, email As String\n",
    "For i = 2 To 7\n",
    "  sid = Cells(i, 1)\n",
    "  email = sid & \"@your.domain.com\"\n",
    "  Cells(i, 2) = email\n",
    "Next i"
   ]
  },
  {
   "cell_type": "code",
   "execution_count": null,
   "metadata": {},
   "outputs": [],
   "source": [
    "從 Email 取出學號\n",
    "假設我們有一些固定格式的 Email 位址，而這些 Email 都是以一個英文字母 u 開頭，\n",
    "加上學生的學號組成的，實際資料如下：\n",
    "\n",
    "若要從中取出學號的部分（也就是數字的部分），可以這樣寫：\n",
    "\n",
    "Dim sid, email As String\n",
    "For i = 2 To 7\n",
    "  email = Cells(i, 1)\n",
    "  sid = Mid(email, 2, 7)\n",
    "  Cells(i, 2) = sid\n",
    "Next i"
   ]
  },
  {
   "cell_type": "code",
   "execution_count": null,
   "metadata": {},
   "outputs": [],
   "source": [
    "假設我要找出所有大安區信義路上房屋的平均單價，\n",
    "就可以使用一個 For 迴圈配合 InStr(尋找一個字串中某個子字串的位置) 來搜尋：\n",
    "\n",
    "這裡我們以一個 For 迴圈把每一筆房屋成交紀錄都跑過一次，把每一筆資料的門牌地址抓出來使用 InStr 比對，\n",
    "如果有包含大安區信義路 的字樣，就把該建物的單價記錄下來，最後即可求得整體的平均單價。\n",
    "\n",
    "Dim street, price As String\n",
    "Dim s As Double\n",
    "Dim cnt As Integer\n",
    "s = 0\n",
    "cnt = 0\n",
    "For i = 2 To 948\n",
    "  street = Cells(i, 2) ' 門牌\n",
    "\n",
    "  ' 檢查門牌是否包含「大安區信義路」\n",
    "  If InStr(street, \"大安區信義路\") > 0 Then\n",
    "\n",
    "    price = Cells(i, 5)    ' 單價\n",
    "    If Len(price) > 0 Then ' 跳過沒有單價的資料\n",
    "      cnt = cnt + 1        ' 計算建物總數\n",
    "      s = s + Val(price)   ' 計算建物單價總和  #Val 函數的用途是將字串資料轉換為數值\n",
    "    End If\n",
    "  End If\n",
    "Next i\n",
    "MsgBox \"建物總數 = \" & cnt & vbCrLf _  #vbCrLf 是指換行的意思\n",
    "  & \"平均單價 = \" & Round(s / cnt)"
   ]
  }
 ],
 "metadata": {
  "kernelspec": {
   "display_name": "Python 3",
   "language": "python",
   "name": "python3"
  },
  "language_info": {
   "codemirror_mode": {
    "name": "ipython",
    "version": 3
   },
   "file_extension": ".py",
   "mimetype": "text/x-python",
   "name": "python",
   "nbconvert_exporter": "python",
   "pygments_lexer": "ipython3",
   "version": "3.7.1"
  }
 },
 "nbformat": 4,
 "nbformat_minor": 2
}
