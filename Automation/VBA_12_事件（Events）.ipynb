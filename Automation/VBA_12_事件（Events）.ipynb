{
 "cells": [
  {
   "cell_type": "code",
   "execution_count": null,
   "metadata": {},
   "outputs": [],
   "source": [
    "VBA_12_事件（Events）"
   ]
  },
  {
   "cell_type": "code",
   "execution_count": null,
   "metadata": {},
   "outputs": [],
   "source": [
    "這裡介紹 Excel VBA 事件功能的使用方式，並提供基本的範例程式碼。\n",
    "\n",
    "當使用者在 Excel 中進行某些特定的操作時，就會觸發所謂的事件（events），\n",
    "例如當使用者選擇一張工作表時，就會觸發工作表選擇的事件，而像點選儲存格或儲存檔案等動作也都會觸發對應的事件。\n",
    "\n",
    "程式設計者可以靠著各種事件的的觸發來設計可以自動執行的 VBA 程式，例如在選擇工作表時，\n",
    "自動執行某些 VBA 程式等。以下介紹如何在 Excel VBA 中使用事件。"
   ]
  },
  {
   "cell_type": "code",
   "execution_count": null,
   "metadata": {},
   "outputs": [],
   "source": [
    "# 事件處理子程序\n",
    "我們可以針對不同的事件撰寫對應的處理子程序，也就是設定當事件發生時該執行的 VBA 程式，\n",
    "事件的處理子程序跟一般自訂的子程序差不多，只是事件的處理子程序有比較特殊的名稱，\n",
    "在對應的事件被觸發時，就會連帶自動執行。"
   ]
  },
  {
   "cell_type": "markdown",
   "metadata": {},
   "source": [
    "![Image of Yaktocat](https://blog.gtwang.org/wp-content/uploads/2017/07/excel-vba-events-20170726-4.png)"
   ]
  },
  {
   "cell_type": "markdown",
   "metadata": {},
   "source": [
    "# 常用事件"
   ]
  },
  {
   "cell_type": "markdown",
   "metadata": {},
   "source": [
    "### 儲存格變更事件"
   ]
  },
  {
   "cell_type": "markdown",
   "metadata": {},
   "source": [
    "##### Workbook"
   ]
  },
  {
   "cell_type": "code",
   "execution_count": null,
   "metadata": {},
   "outputs": [],
   "source": [
    "當任何的 Excel 儲存格內容有變動時，就會觸發活頁簿的 SheetChange 事件，\n",
    "我們可以用 Workbook_SheetChange 來處理：\n",
    "\n",
    "Private Sub Workbook_SheetChange(ByVal Sh As Object, ByVal Target As Range)\n",
    "  MsgBox \"儲存格 (\" & Target.Row & \",\" & Target.Column _\n",
    "    & \") 更新為 \" & Target.Value\n",
    "End Sub\n",
    "\n",
    "活頁簿的 Workbook_SheetChange 會接收任何工作表所觸發的 SheetChange 事件 ，\n",
    "如果要判斷是哪一張工作表所產生的事件，可以從 Workbook_SheetChange 子程序的第一個傳入參數來判斷。"
   ]
  },
  {
   "cell_type": "markdown",
   "metadata": {},
   "source": [
    "##### Worksheet"
   ]
  },
  {
   "cell_type": "code",
   "execution_count": null,
   "metadata": {},
   "outputs": [],
   "source": [
    "如果只要處理特定工作表中的儲存格變更事件，也可以把事件處理子程序寫在對應的工作表中，\n",
    "而工作表的儲存格變更事件是以 Worksheet_Change 來處理的，使用方式大同小異：\n",
    "\n",
    "Private Sub Worksheet_Change(ByVal Target As Range)\n",
    "  MsgBox \"儲存格 (\" & Target.Row & \",\" & Target.Column _\n",
    "    & \") 更新為 \" & Target.Value\n",
    "End Sub"
   ]
  },
  {
   "cell_type": "markdown",
   "metadata": {},
   "source": [
    "### 選擇儲存格事件"
   ]
  },
  {
   "cell_type": "code",
   "execution_count": null,
   "metadata": {},
   "outputs": [],
   "source": [
    "只要當工作表中選擇的儲存格範圍有改變時（用滑鼠或鍵盤等方式），\n",
    "就會觸發 SelectionChange 這個工作表的儲存格選擇變更事件，\n",
    "這個事件可以使用工作表的 Worksheet_SelectionChange 子程序來處理。\n",
    "\n",
    "Private Sub Worksheet_SelectionChange(ByVal Target As Range)\n",
    "  MsgBox \"選擇儲存格 (\" & Target.Row & \",\" & Target.Column & \")\"\n",
    "End Sub\n",
    "\n",
    "建立了這個工作表的選擇儲存格事件處理子程序之後，只要當工作表中選擇的儲存格範圍有改變，\n",
    "就會自動顯示目前選擇的儲存格資訊。"
   ]
  },
  {
   "cell_type": "markdown",
   "metadata": {},
   "source": [
    "### 點擊兩下儲存格事件"
   ]
  },
  {
   "cell_type": "code",
   "execution_count": null,
   "metadata": {},
   "outputs": [],
   "source": [
    "若使用滑鼠在 Excel 儲存格中連續點擊兩下，就會觸發 DoubleClick 事件，\n",
    "此事件可用 Worksheet_BeforeDoubleClick 來處理。\n",
    "\n",
    "Private Sub Worksheet_BeforeDoubleClick(ByVal Target As Range, Cancel As Boolean)\n",
    "  If (Target.Font.Color = vbBlack) Then\n",
    "    ' 把黑色文字改為紅色\n",
    "    Target.Font.Color = vbRed\n",
    "  Else\n",
    "    ' 把紅色文字改為黑色\n",
    "    Target.Font.Color = vbBlack\n",
    "  End If\n",
    "  ' 關閉 Excel 預設動作\n",
    "  Cancel = True\n",
    "End Sub\n",
    "\n",
    "Worksheet_BeforeDoubleClick 第一個傳入參數是點擊的儲存格，而第二個參數 Cancel 是一個布林值，\n",
    "代表是否要將 Excel 預設的動作關閉。\n",
    "\n",
    "這個例子是設計讓使用者在點擊儲存格之後，可讓儲存格的文字顏色在黑色與紅色之間切換，\n",
    "在預設的狀況下，當使用者連續點擊兩次儲存格時，會讓儲存格轉為編輯模式（就是出現游標，可以輸入文字的狀態），\n",
    "若不要讓儲存格轉為編輯模式，可將 Cancel 設為 True，這樣 Excel 就只會執行我們的 VBA 程式碼，\n",
    "而不會讓儲存格轉為編輯模式。\n",
    "\n",
    "執行之後，我們只要在儲存格上面點兩下，它的文字就會變成紅色，再點兩下的話又會變回黑色。"
   ]
  },
  {
   "cell_type": "markdown",
   "metadata": {},
   "source": [
    "### 應用範例：標示選擇的儲存格\n",
    "這個範例是透過改變背景顏色的方式，將目前作用中的儲存格位置標示出來，清楚顯示儲存格的行與列。"
   ]
  },
  {
   "cell_type": "code",
   "execution_count": null,
   "metadata": {},
   "outputs": [],
   "source": [
    "Private Sub Worksheet_SelectionChange(ByVal Target As Range)\n",
    "  Dim rowNumberValue As Integer, columnNumberValue As Integer\n",
    "  Dim i As Integer, j As Integer\n",
    "\n",
    "  ' 清除所有儲存格的背景顏色\n",
    "  Cells.Interior.ColorIndex = 0\n",
    "\n",
    "  ' 取得目前作用中的儲存格\n",
    "  rowNumberValue = ActiveCell.Row\n",
    "  columnNumberValue = ActiveCell.Column\n",
    "\n",
    "  ' 以背景顏色標示儲存格\n",
    "  For i = 1 To rowNumberValue\n",
    "    Cells(i, columnNumberValue).Interior.ColorIndex = 37\n",
    "  Next i\n",
    "  For j = 1 To columnNumberValue\n",
    "    Cells(rowNumberValue, j).Interior.ColorIndex = 37\n",
    "  Next j\n",
    "End Sub\n",
    "\n",
    "這樣在點選儲存格之後，就會自動以背景顏色標示儲存格的位置。"
   ]
  },
  {
   "cell_type": "code",
   "execution_count": null,
   "metadata": {},
   "outputs": [],
   "source": []
  },
  {
   "cell_type": "code",
   "execution_count": null,
   "metadata": {},
   "outputs": [],
   "source": []
  }
 ],
 "metadata": {
  "kernelspec": {
   "display_name": "Python 3",
   "language": "python",
   "name": "python3"
  },
  "language_info": {
   "codemirror_mode": {
    "name": "ipython",
    "version": 3
   },
   "file_extension": ".py",
   "mimetype": "text/x-python",
   "name": "python",
   "nbconvert_exporter": "python",
   "pygments_lexer": "ipython3",
   "version": "3.7.1"
  }
 },
 "nbformat": 4,
 "nbformat_minor": 2
}
