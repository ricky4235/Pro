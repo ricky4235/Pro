{
 "cells": [
  {
   "cell_type": "code",
   "execution_count": null,
   "metadata": {},
   "outputs": [],
   "source": [
    "# VBA_02_變數的宣告、定義與操作\n",
    "\n",
    "這裡介紹如何在 Excel VBA 中宣告、初始化與操作各種變數。\n",
    "一般在程式設計上，變數在使用前都要經過宣告（declare）與定義（define）兩個步驟，\n",
    "宣告就是讓電腦知道我們要使用變數，而定義則是將變數的內容指定為一個特定的值，\n",
    "在 Excel VBA 中也是一樣有這些步驟。"
   ]
  },
  {
   "cell_type": "code",
   "execution_count": null,
   "metadata": {},
   "outputs": [],
   "source": [
    "# 宣告與初始化變數\n",
    "變數宣告是使用 Dim 與 As 兩個關鍵字，分別指定變數名稱以及變數的類型，\n",
    "Excel VBA 中的變數類型有好多種，完整的變數類型列表請參考 MSDN 網頁。"
   ]
  },
  {
   "cell_type": "code",
   "execution_count": null,
   "metadata": {},
   "outputs": [],
   "source": [
    "#整數\n",
    "Dim x As Integer  #這樣就會建立一個變數 x，不過這時候該變數並沒有儲存任何的資料，\n",
    "\n",
    "#若要設定變數一開始的值，就要對變數進行定義，而定義變數的語法很單純，只是使用簡單的等號而已：\n",
    "x = 5  #這樣就可以將變數 x 指定成 5\n",
    "Range(\"A1\").Value = x"
   ]
  },
  {
   "cell_type": "code",
   "execution_count": null,
   "metadata": {},
   "outputs": [],
   "source": [
    "#這是浮點數的例子：\n",
    "Dim x As Double\n",
    "x = 5.5\n",
    "MsgBox \"value is \" & x"
   ]
  },
  {
   "cell_type": "code",
   "execution_count": null,
   "metadata": {},
   "outputs": [],
   "source": [
    "#布林值：\n",
    "Dim x As Boolean\n",
    "x = True\n",
    "MsgBox \"value is \" & x"
   ]
  },
  {
   "cell_type": "code",
   "execution_count": null,
   "metadata": {},
   "outputs": [],
   "source": [
    "#字串：\n",
    "Dim x As String\n",
    "x = \"G.T.Wang\"\n",
    "MsgBox \"My name is \" & x"
   ]
  },
  {
   "cell_type": "code",
   "execution_count": null,
   "metadata": {},
   "outputs": [],
   "source": [
    "#萬用類型變數\n",
    "上面介紹的那些是屬於一般性的變數類型，而 VBA 中種特殊的萬用類型變數，\n",
    "也就是一種可以儲存任何資料的類型，其稱為 Variant，其使用方式與一般的類型類似：\n",
    "\n",
    "Dim x As Variant\n",
    "x = \"G.T.Wang\"\n",
    "MsgBox \"My name is \" & x\n",
    "x = 123\n",
    "MsgBox \"The value is \" & x\n",
    "宣告為 Variant 的變數可以儲存任何類型的資料。\n",
    "\n",
    "如果在宣告變數時不指定變數類型，則 VBA 預設會將變數視為 Variant 類型，所以這兩種寫法的效果是相同的。\n",
    "\n",
    "Dim x As Variant\n",
    "Dim x ' 預設為 Variant\n",
    "Variant 類型的變數通常可用於從 Excel 儲存格中讀取使用者輸入的資料，\n",
    "由於使用者輸入的資料變異性很大，可能會是任何類型，所以直接使用 Variant 來儲存會比較方便。\n",
    "\n",
    "雖然 Variant 非常方便，但它的缺點就是程式執行效能較差，所以除非必要，\n",
    "在一般的情況下還是使用固定的變數類型較佳。"
   ]
  },
  {
   "cell_type": "code",
   "execution_count": null,
   "metadata": {},
   "outputs": [],
   "source": [
    "#未經宣告的變數\n",
    "Excel VBA 也允許使用者省略變數宣告，所以其實未經宣告也可以直接定義變數：\n",
    "\n",
    "MyVar = 35\n",
    "未經宣告的變數預設會是 Variant 萬用類型。\n",
    "\n",
    "雖然不宣告就使用變數非常方便，但明確宣告變數可以讓程式執行效率較好，\n",
    "而且比較不容易因為打錯字造成 bugs，所以建議在寫程式時都明確加入變數宣告。\n",
    "如果想避免自己在寫程式時，不小心在沒有宣告的情況下就使用變數，或是有宣告變數，\n",
    "但是在使用時打錯又沒發現，可以在程式碼的開頭加上：\n",
    "\n",
    "Option Explicit ' 強迫變數宣告\n",
    "\n",
    "Sub Hello()\n",
    "  Dim MyVar As Integer\n",
    "  MyVar = 10\n",
    "  MyInt = 10 ' 未宣告\n",
    "End Sub\n",
    "這樣只要遇到變數未宣告就使用的狀況，編譯時就會出現錯誤訊息："
   ]
  },
  {
   "cell_type": "code",
   "execution_count": null,
   "metadata": {},
   "outputs": [],
   "source": [
    "# 變數範圍"
   ]
  },
  {
   "cell_type": "code",
   "execution_count": null,
   "metadata": {},
   "outputs": [],
   "source": [
    "### 區域變數\n",
    "在一般的 Sub 副程式中宣告的變數，其範圍僅限於該副程式，也就是所謂的區域變數："
   ]
  },
  {
   "cell_type": "code",
   "execution_count": null,
   "metadata": {},
   "outputs": [],
   "source": [
    "Sub Hello1()\n",
    "  Dim MyVar As Integer  #區域變數\n",
    "  MyVar = 12\n",
    "  MsgBox MyVar\n",
    "End Sub\n",
    "\n",
    "Sub Hello2()\n",
    "  Dim MyVar As Integer  #區域變數\n",
    "  MyVar = 34\n",
    "  MsgBox MyVar\n",
    "End Sub"
   ]
  },
  {
   "cell_type": "code",
   "execution_count": null,
   "metadata": {},
   "outputs": [],
   "source": [
    "### 模組層級變數\n",
    "若希望一個變數可以在整個模組內的副程式中使用，則可將變數宣告於副程式之外，建立模組層級的變數："
   ]
  },
  {
   "cell_type": "code",
   "execution_count": null,
   "metadata": {},
   "outputs": [],
   "source": [
    "Dim MyVar As Integer  #模組層級變數\n",
    "\n",
    "Sub Hello1()\n",
    "  MyVar = 12\n",
    "  MsgBox MyVar\n",
    "End Sub\n",
    "\n",
    "Sub Hello2()\n",
    "  MsgBox MyVar\n",
    "End Sub\n",
    "\n",
    "這樣一來，在 Hello1 執行完之後，再繼續執行 Hello2 時，\n",
    "其所取得的 MyVar 變數值就會是 Hello1 中所設定的 12。"
   ]
  },
  {
   "cell_type": "code",
   "execution_count": null,
   "metadata": {},
   "outputs": [],
   "source": [
    "### 公開（public）的變數\n",
    "若要在其他模組之內也可以存取，就必須將變數宣告為公開（public）的變數，\n",
    "宣告方式是將 Dim 改為 Public。\n",
    "\n",
    "假設應用程式中有兩個模組，分別為 Module1 與 Module2，而我們想要在 Module1 中宣告一個 MyVar 變數，\n",
    "並且讓這個變數在 Module2 模組中也可以使用，則 Module1 會是這樣寫："
   ]
  },
  {
   "cell_type": "code",
   "execution_count": null,
   "metadata": {},
   "outputs": [],
   "source": [
    "Public MyVar As Integer\n",
    "\n",
    "Sub Hello1()\n",
    "  MyVar = 12\n",
    "  MsgBox MyVar\n",
    "End Sub\n",
    "Module2 則為：\n",
    "\n",
    "Sub Hello2()\n",
    "  MsgBox MyVar\n",
    "End Sub\n",
    "這樣 Module1 與 Module2 兩個模組就可以同時存取 MyVar 這個變數的內容了。"
   ]
  },
  {
   "cell_type": "code",
   "execution_count": null,
   "metadata": {},
   "outputs": [],
   "source": [
    "### 常數\n",
    "如果希望變數的內容在程式的執行過程中都是固定的，不會不小心被更改，可以把這種固定的變數加上 Const，宣告為常數"
   ]
  },
  {
   "cell_type": "code",
   "execution_count": null,
   "metadata": {},
   "outputs": [],
   "source": [
    "Const MyInteger As Integer = 42\n",
    "這樣一來 MyInteger 這個整數就是一個不變的常數，無法被更改。\n",
    "\n",
    "各種類型的變數都可以宣告為常數，用法都類似：\n",
    "\n",
    "Const myDate As Date = #2/2/2020#\n",
    "Const myDay As String = \"Sunday\""
   ]
  }
 ],
 "metadata": {
  "kernelspec": {
   "display_name": "Python 3",
   "language": "python",
   "name": "python3"
  },
  "language_info": {
   "codemirror_mode": {
    "name": "ipython",
    "version": 3
   },
   "file_extension": ".py",
   "mimetype": "text/x-python",
   "name": "python",
   "nbconvert_exporter": "python",
   "pygments_lexer": "ipython3",
   "version": "3.7.1"
  }
 },
 "nbformat": 4,
 "nbformat_minor": 2
}
