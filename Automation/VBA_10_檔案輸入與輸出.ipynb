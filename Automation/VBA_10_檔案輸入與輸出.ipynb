{
 "cells": [
  {
   "cell_type": "code",
   "execution_count": null,
   "metadata": {},
   "outputs": [],
   "source": [
    "VBA_10_檔案輸入與輸出"
   ]
  },
  {
   "cell_type": "code",
   "execution_count": null,
   "metadata": {},
   "outputs": [],
   "source": [
    "這裡介紹如何在 Excel VBA 中讀取與寫入文字檔，並提供基本的參考範例。\n",
    "\n",
    "通常 Excel VBA 程式都會從 Excel 表格中取得資料，經過處理之後再送回 Excel 表格中，\n",
    "但有些時候我們也會需要直接從外部的文字檔讀取資料，或是將處理完的資料儲存至外部的文字檔中，\n",
    "以下是 Excel VBA 中檔案讀取與寫入的教學。"
   ]
  },
  {
   "cell_type": "code",
   "execution_count": null,
   "metadata": {},
   "outputs": [],
   "source": [
    "# 讀取外部文字檔\n",
    "\n",
    "若要在 VBA 中讀取外部的文字檔，可以使用 Open 來開啟檔案，其語法為：\n",
    "\n",
    "Open 檔案位置 For Input As 檔案代碼\n",
    "檔案位置就是檔案在硬碟中的路徑，VBA 在開啟檔案之後，會使用檔案代碼來辨識檔案，\n",
    "每個已開啟的檔案都會對應一個不重複的檔案代碼，例如 #1、#2 等，編號可以不連續，但不可以重複。\n",
    "\n",
    "開啟檔案之後，通常我們會使用迴圈的方式來讀取整個檔案內容，每次以 Line 讀取一行資料，\n",
    "然後藉由 EOF（end of file）來判斷檔案是否已經讀取到結尾，如果讀取至結尾則跳出迴圈。\n",
    "\n",
    "在檔案開啟之後，後續所有的檔案讀取以及判斷檔案結尾等動作，都會使用檔案代碼的方式來指定檔案。"
   ]
  },
  {
   "cell_type": "code",
   "execution_count": null,
   "metadata": {},
   "outputs": [],
   "source": [
    "Dim FilePath As String\n",
    "\n",
    "' 文字檔案位置\n",
    "FilePath = \"C:\\Users\\11004076\\Downloads\\dk.txt\"\n",
    "\n",
    "' 開啟 FilePath 文字檔，使用編號 #1 檔案代碼(若要開啟多個檔案時，可自行變更每個檔案的代碼，例如 #2、#3 等)\n",
    "Open FilePath For Input As #1\n",
    "\n",
    "' 執行迴圈，直到編號 #1 檔案遇到結尾為止\n",
    "Do Until EOF(1)\n",
    "\n",
    "  ' 從編號 #1 檔案讀取一行資料，這一行資料儲存在 LineFromFile 這個變數當中\n",
    "  Line Input #1, LineFromFile\n",
    "\n",
    "  ' 輸出一行資料\n",
    "  MsgBox (LineFromFile)\n",
    "\n",
    "Loop\n",
    "\n",
    "' 關閉編號 #1 檔案\n",
    "Close #1"
   ]
  },
  {
   "cell_type": "code",
   "execution_count": null,
   "metadata": {},
   "outputs": [],
   "source": [
    "# 寫入外部文字檔\n",
    "若要將資料寫入外部的文字檔，一開始也是使用 Open 開啟檔案：\n",
    "\n",
    "Open 檔案位置 For Output As 檔案代碼\n",
    "這個語法跟之前讀檔的語法類似，只是把開檔的模式改為 Output，檔案位置就填入要寫入的檔案路徑，\n",
    "而檔案代碼也是自己取一個不重複的數字即可。開啟檔案之後，即可使用 Print 函數將指定的資料寫入檔案中。"
   ]
  },
  {
   "cell_type": "code",
   "execution_count": null,
   "metadata": {},
   "outputs": [],
   "source": [
    "Dim OutputFilePath As String\n",
    "Dim Content As String\n",
    "\n",
    "' 文字檔案位置\n",
    "OutputFilePath = \"C:\\Users\\11004076\\Downloads\\dk.txt\"\n",
    "\n",
    "' 開啟 OutputFilePath 文字檔，使用編號 #2 檔案代碼\n",
    "Open OutputFilePath For Output As #2\n",
    "\n",
    "' 要寫入檔案的內容\n",
    "Content = \"This is a test.\"\n",
    "\n",
    "' 以 Print將 Content 的內容寫入編號 #2 的檔案\n",
    "Print #2, Content\n",
    "\n",
    "' 關閉編號 #2 檔案\n",
    "Close #2"
   ]
  },
  {
   "cell_type": "code",
   "execution_count": null,
   "metadata": {},
   "outputs": [],
   "source": [
    "寫入檔案的內容\n",
    "\n",
    "如果呼叫 Print 時，省略要寫入的資料，就會寫入空白行至檔案中：\n",
    "更多 Print 的範例，可以參考 MSDN 的說明文件。\n",
    "\n",
    "' 寫入空白行\n",
    "Print #2,\n",
    "若要拼湊多個變數，產生想要的排版格式，可以使用分號將多個資料串起來：\n",
    "\n",
    "' 以空白分隔\n",
    "Print #2, \"Hello\"; \" \"; \"World\"\n",
    "\n",
    "' 以 5 個空白分隔\n",
    "Print #2, \"Hello\"; Spc(5); \"World\"\n",
    "\n",
    "Dim MyBool As Boolean\n",
    "MyBool = True\n",
    "' 輸出字串與布林變數\n",
    "Print #2, \"The \"; MyBool; \" is a Boolean value.\"\n",
    "\n",
    "Dim MyInt As Integer\n",
    "MyInt = 123\n",
    "' 輸出字串與整數變數\n",
    "Print #2, \"The\"; MyInt; \"is a Integer value.\"\n",
    "這是寫入的檔案內容："
   ]
  },
  {
   "cell_type": "code",
   "execution_count": null,
   "metadata": {},
   "outputs": [],
   "source": [
    "除了使用 Print 之外，還有一個 Write 也可以寫入檔案，它會自動將文字的內容加上雙引號，\n",
    "並以逗號分隔多個輸入變數，以下是一個範例（將上面 Print 的位置直接替換成 Write 即可）：\n",
    "\n",
    "' 以逗號分隔，寫入檔案\n",
    "Write #2, \"Hello, World\", 123\n",
    "Write 在寫入檔案時，會將幾種 VBA 變數轉換為特殊的格式，\n",
    "例如 True 就會轉為 #TRUE#，詳細的說明請參考 MSDN 的說明文件。"
   ]
  },
  {
   "cell_type": "code",
   "execution_count": null,
   "metadata": {},
   "outputs": [],
   "source": [
    "附加方式寫入檔案(避免被覆蓋)\n",
    "當我們用 Output 模式寫入一個已經存在的檔案時，如果檔案中存在有舊的內容的話，\n",
    "在寫入之後就會將舊的內容覆蓋掉，若想要保留舊資料，並增加一些內容接在原本資料的後方，\n",
    "就可以用附加的方式（append）寫入檔案，最典型的使用情境就是將程式輸出訊息寫入記錄檔。\n",
    "\n",
    "若要以附加方式寫入檔案，只要將開檔的模式改為 Append 即可，以下是一個簡單的範例："
   ]
  },
  {
   "cell_type": "code",
   "execution_count": null,
   "metadata": {},
   "outputs": [],
   "source": [
    "Dim OutputFilePath As String\n",
    "Dim Content As String\n",
    "\n",
    "OutputFilePath = \"C:\\ExcelDemo\\demo_output.txt\"\n",
    "\n",
    "' 建立文字檔\n",
    "Open OutputFilePath For Output As #2\n",
    "Content = \"This is a test.\"\n",
    "Print #2, Content\n",
    "Close #2\n",
    "\n",
    "' 附加方式寫入檔案\n",
    "Open OutputFilePath For Append As #3\n",
    "Content = \"This is another test.\"\n",
    "Print #3, Content\n",
    "Close #3"
   ]
  },
  {
   "cell_type": "code",
   "execution_count": null,
   "metadata": {},
   "outputs": [],
   "source": [
    "寫入檔案的內容\n",
    "\n",
    "VBA 的開檔模式除了 Input、Output 與 Append 之外，還有用於二進位檔案的 Binary 模式，\n",
    "以及用於隨機存取的 Random 模式，不過另外這兩種一般人比較少用，就不介紹了，有興趣的人請參考 MSDN 的說明。"
   ]
  },
  {
   "cell_type": "code",
   "execution_count": null,
   "metadata": {},
   "outputs": [],
   "source": [
    "自動選擇檔案代碼\n",
    "如果要使用程式自動開啟多個檔案，不想使用手動指定檔案代碼的話，\n",
    "可以使用 FreeFile 這個函數自動取得可用的檔案代碼，以下是一個簡單的使用範例："
   ]
  },
  {
   "cell_type": "code",
   "execution_count": null,
   "metadata": {},
   "outputs": [],
   "source": [
    "這個範例會自動寫入五個檔案，程式設計者不需要檢查可用的檔案代碼，在較複雜的程式中，\n",
    "建議使用這種方式，可以避免不小心造成檔案代碼衝突的問題。\n",
    "\n",
    "Dim FileCount As Integer\n",
    "Dim FileNumber As Integer\n",
    "Dim FileName As String\n",
    "\n",
    " ' 使用迴圈自動寫入 5 個檔案\n",
    "For FileCount = 1 To 5\n",
    "\n",
    "  ' 自動取得檔案代碼\n",
    "  FileNumber = FreeFile()\n",
    "\n",
    "  ' 檔案名稱\n",
    "  FileName = \"C:\\Users\\11004076\\Downloads\\ex\" & FileCount & \".xls\"\n",
    "\n",
    "  ' 開啟檔案\n",
    "  Open FileName For Output As #FileNumber\n",
    "\n",
    "  ' 寫入檔案\n",
    "  Print #FileNumber, \"Hello, World\"\n",
    "\n",
    "  ' 關閉檔案\n",
    "  Close #FileNumber\n",
    "\n",
    "Next FileCount"
   ]
  },
  {
   "cell_type": "code",
   "execution_count": null,
   "metadata": {},
   "outputs": [],
   "source": [
    "應用範例：將目前開啟的 Excel 表格的資料寫入新的 CSV 檔的範例"
   ]
  },
  {
   "cell_type": "code",
   "execution_count": null,
   "metadata": {},
   "outputs": [],
   "source": [
    "Dim ColNum As Integer\n",
    "Dim Line As String\n",
    "Dim LineValues() As Variant\n",
    "Dim OutputFileNum As Integer\n",
    "Dim PathName As String\n",
    "Dim RowNum As Integer\n",
    "Dim SheetValues() As Variant\n",
    "\n",
    "' 取得目前 Excel 檔的儲存路徑\n",
    "PathName = Application.ActiveWorkbook.Path\n",
    "\n",
    "' 自動取得檔案代碼\n",
    "OutputFileNum = FreeFile\n",
    "\n",
    "' 在同樣路徑下，開啟一個 demo_output.csv 檔\n",
    "Open PathName & \"\\demo_output.csv\" For Output As #OutputFileNum\n",
    "\n",
    "' 取得 Excel 表格內的資料\n",
    "SheetValues = Sheets(\"工作表1\").Range(\"A1:C6\").Value\n",
    "\n",
    "' 動態調整陣列大小\n",
    "ReDim LineValues(1 To 3)\n",
    "\n",
    "For RowNum = 1 To 5\n",
    "  For ColNum = 1 To 3\n",
    "    ' 把 Excel 資料表的一列資料放進陣列中\n",
    "    LineValues(ColNum) = SheetValues(RowNum, ColNum)\n",
    "  Next\n",
    "\n",
    "  ' 將陣列中的資料以逗號連接起來\n",
    "  Line = Join(LineValues, \",\")\n",
    "\n",
    "  ' 將 CSV 資料寫入檔案\n",
    "  Print #OutputFileNum, Line\n",
    "Next\n",
    "\n",
    "' 關閉檔案\n",
    "Close #OutputFileNum\n",
    "\n",
    "產生的 CSV 檔若用記事本開啟，即可看到其原始的資料\n",
    "而若使用 Excel 來開啟 CSV 檔，就會直接以表格的方式呈現"
   ]
  },
  {
   "cell_type": "code",
   "execution_count": null,
   "metadata": {},
   "outputs": [],
   "source": []
  }
 ],
 "metadata": {
  "kernelspec": {
   "display_name": "Python 3",
   "language": "python",
   "name": "python3"
  },
  "language_info": {
   "codemirror_mode": {
    "name": "ipython",
    "version": 3
   },
   "file_extension": ".py",
   "mimetype": "text/x-python",
   "name": "python",
   "nbconvert_exporter": "python",
   "pygments_lexer": "ipython3",
   "version": "3.7.1"
  }
 },
 "nbformat": 4,
 "nbformat_minor": 2
}
