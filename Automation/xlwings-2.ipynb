{
 "cells": [
  {
   "cell_type": "code",
   "execution_count": 2,
   "metadata": {},
   "outputs": [
    {
     "data": {
      "text/plain": [
       "<Book [Book1]>"
      ]
     },
     "execution_count": 2,
     "metadata": {},
     "output_type": "execute_result"
    }
   ],
   "source": [
    "app = xw.App(10559)  # or something like xw.apps[10559] for existing apps, get the available PIDs via xw.apps.keys()\n",
    "app.books['Book1']"
   ]
  },
  {
   "cell_type": "code",
   "execution_count": 5,
   "metadata": {},
   "outputs": [],
   "source": [
    "import xlwings as xw\n",
    "\n",
    "#開啟現有活頁簿\n",
    "wb = xw.Book(r'C:\\Users\\11004076\\Documents\\Python Scripts\\4_Automation\\Book1.xlsx')\n",
    "\n",
    "#Excel索引行為(1起始)，標上''內的部分為Excel直觀法\n",
    "sht = wb.sheets['Sheet1']\n",
    "    #單格\n",
    "sht.cells(2,'A').value = 'f'\n",
    "sht.cells(5,1).value = 5  #(5,1)沒錯\n",
    "sht.range('C2').value = 'He'\n",
    "sht.range(10,1).value = 8\n",
    "\n",
    "    #範圍\n",
    "sht.range('A17:C20').value = 8\n",
    "sht.range((22,1), (23,3)).value = 9\n",
    "sht.range(sht.range('A17'), sht.range('C20')).value = 9\n",
    "sht.range('O:P').value = 0\n",
    "sht.range('17:20').value = 1\n",
    "\n",
    "\n",
    "#Python索引行為(0起始)，標上''內的部分為Excel直觀法\n",
    "sht3 = wb.sheets['Sheet3']\n",
    "\n",
    "    #單格\n",
    "sht3['A2'].value = 'A2'\n",
    "sht3[5, 1].value = 5  #為(6,2)\n",
    "\n",
    "    #範圍\n",
    "sht3['C1:D5'].value = 15\n",
    "sht3['C:D'].value = 'CD'\n",
    "sht3[12:13, :10].value = 0\n",
    "sht3[1:3, :].value = 3\n",
    "sht3[8:10, 8:10].value = 'X'"
   ]
  },
  {
   "cell_type": "code",
   "execution_count": null,
   "metadata": {},
   "outputs": [],
   "source": [
    "引用當前sheet上的單元格\n",
    "rng=xw.Range('A1')  #注意Range首字母大寫\n",
    "其中需要注意的是單元格的完全引用路徑是：\n",
    "xw.apps[0].books[0].sheets[0].range('A1')  #第一個Excel程序的第一個工作薄的第一張sheet的第一個單元格"
   ]
  },
  {
   "cell_type": "code",
   "execution_count": 121,
   "metadata": {},
   "outputs": [
    {
     "data": {
      "text/plain": [
       "[[1.0, 1.0, 2.0],\n",
       " ['f', None, 'He'],\n",
       " [2.0, None, None],\n",
       " [datetime.datetime(2000, 1, 1, 0, 0), None, None],\n",
       " [5.0, None, None],\n",
       " [1.0, 2.0, 3.0]]"
      ]
     },
     "execution_count": 121,
     "metadata": {},
     "output_type": "execute_result"
    }
   ],
   "source": [
    "rng1 =sht.range('A1').options(expand='table').value\n",
    "rng1"
   ]
  },
  {
   "cell_type": "code",
   "execution_count": 122,
   "metadata": {},
   "outputs": [
    {
     "data": {
      "text/html": [
       "<div>\n",
       "<style scoped>\n",
       "    .dataframe tbody tr th:only-of-type {\n",
       "        vertical-align: middle;\n",
       "    }\n",
       "\n",
       "    .dataframe tbody tr th {\n",
       "        vertical-align: top;\n",
       "    }\n",
       "\n",
       "    .dataframe thead th {\n",
       "        text-align: right;\n",
       "    }\n",
       "</style>\n",
       "<table border=\"1\" class=\"dataframe\">\n",
       "  <thead>\n",
       "    <tr style=\"text-align: right;\">\n",
       "      <th></th>\n",
       "      <th>0</th>\n",
       "      <th>1</th>\n",
       "      <th>2</th>\n",
       "    </tr>\n",
       "  </thead>\n",
       "  <tbody>\n",
       "    <tr>\n",
       "      <th>0</th>\n",
       "      <td>1</td>\n",
       "      <td>1.0</td>\n",
       "      <td>2</td>\n",
       "    </tr>\n",
       "    <tr>\n",
       "      <th>1</th>\n",
       "      <td>f</td>\n",
       "      <td>NaN</td>\n",
       "      <td>He</td>\n",
       "    </tr>\n",
       "    <tr>\n",
       "      <th>2</th>\n",
       "      <td>2</td>\n",
       "      <td>NaN</td>\n",
       "      <td>None</td>\n",
       "    </tr>\n",
       "    <tr>\n",
       "      <th>3</th>\n",
       "      <td>2000-01-01 00:00:00</td>\n",
       "      <td>NaN</td>\n",
       "      <td>None</td>\n",
       "    </tr>\n",
       "    <tr>\n",
       "      <th>4</th>\n",
       "      <td>5</td>\n",
       "      <td>NaN</td>\n",
       "      <td>None</td>\n",
       "    </tr>\n",
       "    <tr>\n",
       "      <th>5</th>\n",
       "      <td>1</td>\n",
       "      <td>2.0</td>\n",
       "      <td>3</td>\n",
       "    </tr>\n",
       "  </tbody>\n",
       "</table>\n",
       "</div>"
      ],
      "text/plain": [
       "                     0    1     2\n",
       "0                    1  1.0     2\n",
       "1                    f  NaN    He\n",
       "2                    2  NaN  None\n",
       "3  2000-01-01 00:00:00  NaN  None\n",
       "4                    5  NaN  None\n",
       "5                    1  2.0     3"
      ]
     },
     "execution_count": 122,
     "metadata": {},
     "output_type": "execute_result"
    }
   ],
   "source": [
    "#轉換成DataFrame顯示\n",
    "import pandas as pd\n",
    "df_rng1 = pd.DataFrame(rng1)\n",
    "df_rng1"
   ]
  },
  {
   "cell_type": "code",
   "execution_count": 189,
   "metadata": {},
   "outputs": [],
   "source": [
    "#格式化條件\n",
    "sht.range('A17:A20').color = (255, 0, 0)\n",
    "sht.range('B17:B20').color = (0, 255, 0)\n",
    "sht.range('C17:C20').color = (0, 0, 255)"
   ]
  },
  {
   "cell_type": "code",
   "execution_count": null,
   "metadata": {},
   "outputs": [],
   "source": []
  },
  {
   "cell_type": "code",
   "execution_count": null,
   "metadata": {},
   "outputs": [],
   "source": [
    "常用函數和方法"
   ]
  },
  {
   "cell_type": "code",
   "execution_count": 6,
   "metadata": {
    "scrolled": true
   },
   "outputs": [
    {
     "name": "stdout",
     "output_type": "stream",
     "text": [
      "C:\\Users\\11004076\\Documents\\Python Scripts\\4_Automation\\Book1.xlsx\n",
      "Book1.xlsx\n"
     ]
    }
   ],
   "source": [
    "#Book 工作簿常用的api\n",
    "wb=xw.books['Book1']\n",
    "wb.activate()  #激活為當前工作簿\n",
    "wb.fullname    #返回工作簿的絕對路徑\n",
    "wb.name        #返回工作簿的名稱\n",
    "wb.save(path=None)   #保存工作簿，默認路徑為工作簿原路徑，若未保存則為腳本所在的路徑\n",
    "wb. close()   #關閉工作簿"
   ]
  },
  {
   "cell_type": "markdown",
   "metadata": {},
   "source": [
    "# books 工作簿集合的api"
   ]
  },
  {
   "cell_type": "code",
   "execution_count": null,
   "metadata": {},
   "outputs": [],
   "source": [
    "xw.books.add()  # 新建工作簿\n",
    "xw.books.active   # 引用當前活動工作簿\n",
    "\n",
    "sheets 工作表的集合\n",
    "xw.sheets.add(name=None,before=None,after=None)  # 新建工作表\n",
    "xw.sheets.active  # 引用當前活動sheet"
   ]
  },
  {
   "cell_type": "markdown",
   "metadata": {},
   "source": [
    "# sheet 常用的api"
   ]
  },
  {
   "cell_type": "code",
   "execution_count": 14,
   "metadata": {},
   "outputs": [
    {
     "data": {
      "text/plain": [
       "<bound method Sheet.delete of <Sheet [Book1.xlsx]Sheet4>>"
      ]
     },
     "execution_count": 14,
     "metadata": {},
     "output_type": "execute_result"
    }
   ],
   "source": [
    "sht3=xw.books['Book1'].sheets['Sheet3']  # 引用某指定sheet\n",
    "sht3.activate()   # 激活sheet為正在使用中的工作表\n",
    "#sht3.clear()  # 清除sheet的內容和格式\n",
    "sht3.clear_contents()  # 清除sheet的內容(但保留格式)\n",
    "sht3.name  # 獲取sheet的名稱\n",
    "sht3.name = \"aa\" #變更表名\n",
    "sht3.delete  # 刪除sheet"
   ]
  },
  {
   "cell_type": "markdown",
   "metadata": {},
   "source": [
    "# range常用的api"
   ]
  },
  {
   "cell_type": "code",
   "execution_count": 94,
   "metadata": {},
   "outputs": [],
   "source": [
    "rng=xw.Range('A1') # 引用當前活動工作表的單元格"
   ]
  },
  {
   "cell_type": "markdown",
   "metadata": {},
   "source": [
    "### 位址"
   ]
  },
  {
   "cell_type": "code",
   "execution_count": null,
   "metadata": {},
   "outputs": [],
   "source": [
    "rng.sheet  # 返回range所在的sheet\n",
    "rng.address   # 取得當前range的位址\n",
    "rng.get_address()   # 取得當前range的位址\n",
    "rng.get_address(row_absolute=True, column_absolute=True,include_sheetname=False, external=False)  # 獲得單元格的絕對地址\n",
    "rng.current_region  # 返回current_region  #<Range [Book1.xlsx]Sheet3!$A$1>"
   ]
  },
  {
   "cell_type": "code",
   "execution_count": null,
   "metadata": {},
   "outputs": [],
   "source": [
    "#get_address例子\n",
    "print( ws.range(\"O2\").get_address(0,0) )\n",
    "print( ws.range(\"O2\").get_address(0,0,0,0) )\n",
    "print( ws.range(\"O2\").get_address(1,0,0,0) )\n",
    "print( ws.range(\"O2\").get_address(0,1,0,0) )\n",
    "print( ws.range(\"O2\").get_address(1,1,0,0) )\n",
    "print( ws.range(\"O2\").get_address(1,1,1,0) )\n",
    "print( ws.range(\"O2\").get_address(1,1,1,1) )\n",
    "print( ws.range(\"O2\").get_address(0,0)[0] )\n",
    "print( ws.range(\"O2\").get_address(0,0)[1] )\n",
    "print( ws.range(\"O12\").get_address(0,0)[1:] )"
   ]
  },
  {
   "cell_type": "markdown",
   "metadata": {},
   "source": [
    "### 清除"
   ]
  },
  {
   "cell_type": "code",
   "execution_count": null,
   "metadata": {},
   "outputs": [],
   "source": [
    "rng.clear_contents()  # 清除range的內容\n",
    "rng.clear()   # 清除格式和內容"
   ]
  },
  {
   "cell_type": "markdown",
   "metadata": {},
   "source": [
    "### 顏色"
   ]
  },
  {
   "cell_type": "code",
   "execution_count": null,
   "metadata": {},
   "outputs": [],
   "source": [
    "rng.color  # 取得range的背景色,以元組形式返回RGB值\n",
    "rng.color=(255,255,0)  # 設置range的顏色\n",
    "rng.color=None  # 清除range的背景色"
   ]
  },
  {
   "cell_type": "markdown",
   "metadata": {},
   "source": [
    "### 行列"
   ]
  },
  {
   "cell_type": "code",
   "execution_count": null,
   "metadata": {},
   "outputs": [],
   "source": [
    "rng.row   # range的第一行行標         #1\n",
    "rng.rows  #返回range的所有行                                           #RangeRows(<Range [Book1.xlsx]Sheet3!$A$1>)\n",
    "rng.rows[0]   # range的第一行                                          #<Range [Book1.xlsx]Sheet3!$A$1>\n",
    "rng.rows.count  # range的總行數\n",
    "rng.columns  # 返回range的所有列                                       #RangeColumns(<Range [Book1.xlsx]Sheet3!$A$1>)\n",
    "rng.columns[0]   # 返回range的第一列                                   #<Range [Book1.xlsx]Sheet3!$A$1>\n",
    "rng.columns.count  # 返回range的列數  #1\n",
    "rng.column   # 獲得range的第一列列標  #1\n",
    "rng.count  # 返回range中單元格的計數  #1\n",
    "rng.shape  # 返回range的行數和列數\n",
    "rng.shape[0]  # 返回range的列數\n",
    "rng.shape[1]  # 返回range的行數(欄位數)\n",
    "rng.get_address(0,0)[0]  # 返回range的行數(欄位數)\n",
    "rng.get_address(0,0)[1]  # 返回range的列數"
   ]
  },
  {
   "cell_type": "markdown",
   "metadata": {},
   "source": [
    "### 長寬"
   ]
  },
  {
   "cell_type": "code",
   "execution_count": null,
   "metadata": {},
   "outputs": [],
   "source": [
    "rng.column_width  # 獲得列寬(都一樣才會顯示，有不同的話顯示None)\n",
    "rng.width  # 返回range的總寬度\n",
    "rng.row_height  # 行的高度，所有行一樣高返回行高，不一樣返回None\n",
    "rng.height  # 行的高度，所有行一樣高返回行高，不一樣返回None\n",
    "rng.autofit()  #範圍內所有range的大小自適應\n",
    "rng.columns.autofit()  #範圍內所有列寬度自適應\n",
    "rng.rows.autofit()  # 範圍內所有行寬度自適應"
   ]
  },
  {
   "cell_type": "markdown",
   "metadata": {},
   "source": [
    "### 公式"
   ]
  },
  {
   "cell_type": "code",
   "execution_count": null,
   "metadata": {},
   "outputs": [],
   "source": [
    "rng.formula='=SUM(B1:B5)'  # 獲取公式或者輸入公式\n",
    "rng.formula='=AVERAGE(B1:B5)'  # 獲取公式或者輸入公式\n",
    "rng.formula_array  # 數組公式"
   ]
  },
  {
   "cell_type": "markdown",
   "metadata": {},
   "source": [
    "### 超鏈接"
   ]
  },
  {
   "cell_type": "code",
   "execution_count": null,
   "metadata": {},
   "outputs": [],
   "source": [
    "rng.add_hyperlink(r'www.google.com','Google','提示：點擊即鏈接到Google')   # 加入超鏈接\n",
    "rng.hyperlink  # 獲得range的超鏈接        #'http://www.google.com/'"
   ]
  },
  {
   "cell_type": "markdown",
   "metadata": {},
   "source": [
    "### 移動到"
   ]
  },
  {
   "cell_type": "code",
   "execution_count": null,
   "metadata": {},
   "outputs": [],
   "source": [
    "rng.end('down')  # 返回ctrl+(↓)的儲存格       #<Range [Book1.xlsx]Sheet3!$A$1048576>\n",
    "rng.end('right') # 返回ctrl+(→)的儲存格       #<Range [Book1.xlsx]Sheet3!$XFD$1>\n",
    "rng.end('left')  # 返回ctrl+(←)的儲存格       #<Range [Book1.xlsx]Sheet3!$A$1>\n",
    "\n",
    "rng.last_cell    # 獲得range中右下角最後一個單元格                        #<Range [Book1.xlsx]Sheet3!$A$1>\n",
    "\n",
    "rng.offset(row_offset=1,column_offset=0)                              # range平移  #<Range [Book1.xlsx]Sheet3!$A$2>"
   ]
  },
  {
   "cell_type": "markdown",
   "metadata": {},
   "source": [
    "### 擴張"
   ]
  },
  {
   "cell_type": "code",
   "execution_count": null,
   "metadata": {},
   "outputs": [],
   "source": [
    "rng=xw.Range('A1:G9')\n",
    "\n",
    "#等同在Excel選取位置按ctrl+shift+(→)+(↓)後的範圍\n",
    "rng.expand('table')  # or just .expand()    #<Range [Book1.xlsx]Sheet3!$A$1:$G$9>\n",
    "rng.options(expand='table') #同上           #<Range [Book1.xlsx]Sheet3!$A$1:$G$9>\n",
    "\n",
    "rng.resize(row_size=5,column_size=2)  #range進行resize改變range的大小  #<Range [Book1.xlsx]Sheet3!$A$1:$B$5>"
   ]
  }
 ],
 "metadata": {
  "kernelspec": {
   "display_name": "Python 3",
   "language": "python",
   "name": "python3"
  },
  "language_info": {
   "codemirror_mode": {
    "name": "ipython",
    "version": 3
   },
   "file_extension": ".py",
   "mimetype": "text/x-python",
   "name": "python",
   "nbconvert_exporter": "python",
   "pygments_lexer": "ipython3",
   "version": "3.7.1"
  }
 },
 "nbformat": 4,
 "nbformat_minor": 2
}
