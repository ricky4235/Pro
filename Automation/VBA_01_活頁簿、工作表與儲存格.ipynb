{
 "cells": [
  {
   "cell_type": "code",
   "execution_count": null,
   "metadata": {},
   "outputs": [],
   "source": [
    "# VBA_01_活頁簿、工作表與儲存格"
   ]
  },
  {
   "cell_type": "code",
   "execution_count": null,
   "metadata": {},
   "outputs": [],
   "source": [
    "新增一個副程式（Sub），把這一行指令放在裡面來執行："
   ]
  },
  {
   "cell_type": "code",
   "execution_count": null,
   "metadata": {},
   "outputs": [],
   "source": [
    "這裡介紹如何使用 Excel VBA 來控制活頁簿、工作表與儲存格的資料，用程式自動產生表格。\n",
    "\n",
    "在開始之前，請先設定好 Excel VBA 的開發環境，啟用開發人員工具，並且開啟 Excel VBA 的程式編輯視窗。"
   ]
  },
  {
   "cell_type": "markdown",
   "metadata": {},
   "source": [
    "# 儲存格\n",
    "首先我們介紹如何在 VBA 中控制 Excel 的儲存格。"
   ]
  },
  {
   "cell_type": "markdown",
   "metadata": {},
   "source": [
    "## Range 物件\n",
    "在 VBA 中我們可以透過 Range 物件來選取並操作儲存格，\n",
    "這個物件是 Excel VBA 最重要的物件之一，使用頻率相當高，以下是各種使用方式。"
   ]
  },
  {
   "cell_type": "code",
   "execution_count": null,
   "metadata": {},
   "outputs": [],
   "source": [
    "Range(\"A1\")\n",
    "#Range 物件的第一個參數放置儲存格的位置，這樣就可以將這個位置的儲存格抓出來，"
   ]
  },
  {
   "cell_type": "code",
   "execution_count": null,
   "metadata": {},
   "outputs": [],
   "source": [
    "### Value 屬性\n",
    "Range(\"A1\").Value = \"Hello\"     #將目前工作表的 A1 儲存格的內容設為 Hello\n",
    "Range(\"A1\").Value               #得到儲存格的內容\n",
    "Range(\"A1\").Value = \"Hello2\"    #指定成新的資料就可以更新儲存格內容\n",
    "Range(\"A1:A4\").Value = 5        #範圍指定\n",
    "Range(\"A1:A2,B3:C4\").Value = 10 #一次使用多個範圍來指定\n",
    "Range(\"MyCell\").Value = 123     #處理自訂名稱的儲存格"
   ]
  },
  {
   "cell_type": "markdown",
   "metadata": {},
   "source": [
    "## Cells 物件\n",
    "除了 Range 之外，Cells 也是一個可以用來操作儲存格的物件，其功能跟 Range 都差不多，\n",
    "只不過它是使用行與列的編號來指定儲存格，這種指定方式在撰寫自動化程式時會比較好用。"
   ]
  },
  {
   "cell_type": "code",
   "execution_count": null,
   "metadata": {},
   "outputs": [],
   "source": [
    "Cells(1, 1).Value = 23  #第一行第一列的儲存格內容指定為 23\n",
    "Range(Cells(1, 1), Cells(4, 2)).Value = 13  #指定範圍，可以使用兩個 Cells 配合 Range"
   ]
  },
  {
   "cell_type": "markdown",
   "metadata": {},
   "source": [
    "### Select 屬性"
   ]
  },
  {
   "cell_type": "code",
   "execution_count": null,
   "metadata": {},
   "outputs": [],
   "source": [
    "呼叫 Select 可以選取這些儲存格：\n",
    "Range(Cells(1, 1), Cells(4, 2)).Select  #儲存格就會變成選取的狀態\n",
    "Rows(3).Select   #選擇整個行（row），可以使用 Rows 並指定行的編號\n",
    "Columns(2).Select  #選擇整個列（Columns）"
   ]
  },
  {
   "cell_type": "markdown",
   "metadata": {},
   "source": [
    "## 複製與貼上\n",
    "Excel VBA 也可以使用程式自動進行複製與貼上的動作，假設原本的 Excel 資料是這樣："
   ]
  },
  {
   "cell_type": "code",
   "execution_count": null,
   "metadata": {},
   "outputs": [],
   "source": [
    "Range(\"A1:A2\").Select  #先使用 Select 將要複製的範圍選取起來\n",
    "\n",
    "當這些儲存格被選取之後，在 VBA 中就可以透過 Selection 物件來取得這些被選取的儲存格，\n",
    "\n",
    "Selection.Copy  #接著就使用 Selection 物件的 Copy，將選取的儲存格複製起來\n",
    "\n",
    "Range(\"C3\").Select  #複製好資料之後，接著再選擇要貼上的位置：\n",
    "\n",
    "ActiveSheet.Paste  #呼叫 ActiveSheet 的 Paste 將資料貼上去"
   ]
  },
  {
   "cell_type": "markdown",
   "metadata": {},
   "source": [
    "## 清除儲存格"
   ]
  },
  {
   "cell_type": "code",
   "execution_count": null,
   "metadata": {},
   "outputs": [],
   "source": [
    "Range(\"A1:A2\").ClearContents  #若要清除儲存格中的資料，可以使用 ClearContents\n",
    "\n",
    "Range(\"A1\").Value = \"\"  #或是直接將儲存格的內容指定為空字串亦可"
   ]
  },
  {
   "cell_type": "markdown",
   "metadata": {},
   "source": [
    "# 工作表：Worksheets 物件"
   ]
  },
  {
   "cell_type": "code",
   "execution_count": null,
   "metadata": {},
   "outputs": [],
   "source": [
    "#如果要對多張 Excel 工作表進行操作，可以使用 Worksheets 物件加上工作表的名稱來指定工作表：\n",
    "Worksheets(\"工作表1\").Range(\"A1\").Value = \"工作表1的A1\"\n",
    "Worksheets(\"工作表2\").Range(\"A1\").Value = \"工作表2的A1\"\n",
    "\n",
    "#Worksheets 物件也可以使用工作表的順序來指定工作表：\n",
    "\n",
    "Worksheets(1).Range(\"A1\").Value = \"工作表1的A1\"\n",
    "Worksheets(2).Range(\"A1\").Value = \"工作表2的A1\"\n",
    "#上面這兩行的作用會跟之前使用工作表名稱的方式相同。\n",
    "\n",
    "Worksheets.Add  #新增一個工作表，預設會放在第一個位置，我們可以：\n",
    "\n",
    "Worksheets(1).Name = \"新的工作表\"  #使用它的 Name 屬性來改變他的名稱\n",
    "\n",
    "MsgBox Worksheets.Count     #計算目前工作表的數量  \n",
    "                            #MsgBox 可以跳出一個視窗顯示簡單的訊息"
   ]
  },
  {
   "cell_type": "markdown",
   "metadata": {},
   "source": [
    "# 活頁簿\n",
    "VBA 的 Workbooks 物件代表 Excel 目前開啟的活頁簿，如果需要在程式中同時處理多本活頁簿的資料時，<br>\n",
    "就會需要用到它。例如要把活頁簿1中的第一張工作表的 A1 儲存格內容設定為 Hello，則執行："
   ]
  },
  {
   "cell_type": "code",
   "execution_count": null,
   "metadata": {},
   "outputs": [],
   "source": [
    "#這個用法跟之前工作表與儲存格的操作類似，只是在前面多加了一個 Workbooks 物件來指定活頁簿而已。\n",
    "Workbooks(\"活頁簿1\").Worksheets(1).Range(\"A1\").Value = \"Hello\"\n",
    "\n",
    "#同樣地 Workbooks 除了用名稱指定之外，也可以使用活頁簿的編號：\n",
    "Workbooks(1).Worksheets(1).Range(\"A1\").Value = \"Hello\"\n",
    "\n",
    "#若要查看目前的活頁簿數量，則可使用 Workbooks 的 Count：\n",
    "MsgBox Workbooks.Count\n",
    "\n",
    "#活頁簿的名稱可以從 Name 取得：\n",
    "MsgBox Workbooks(1).Name\n",
    "\n",
    "#如果要開啟活頁簿（開啟 Excel 檔），可以使用 Open：\n",
    "Workbooks.Open \"C:\\VBA\\demo.xlsx\"\n",
    "\n",
    "#若要儲存活頁簿（儲存 Excel 檔），則可使用 Save：\n",
    "Workbooks(\"demo\").Save\n",
    "\n",
    "#若要將活頁簿另存新檔，則可使用 SaveAs：\n",
    "Workbooks(\"demo\").SaveAs \"C:\\VBA\\another.xlsx\"\n",
    "\n",
    "#Activate 可以指定當前活頁簿：\n",
    "Workbooks(\"demo\").Activate\n",
    "\n",
    "#若要關閉活頁簿，則可使用 Close：\n",
    "Workbooks(\"demo\").Close\n",
    "\n",
    "#如果要關閉所有的活頁簿，但留下主視窗，則可執行：\n",
    "Workbooks.Close\n",
    "\n",
    "#若要關閉整個 Excel，可以執行：\n",
    "Application.Quit\n"
   ]
  },
  {
   "cell_type": "code",
   "execution_count": null,
   "metadata": {},
   "outputs": [],
   "source": [
    "最後補充一個小技巧，在撰寫完一個副程式（Sub）時，通常都會需要馬上執行，測試看看執行的結果如何。\n",
    "在工具列上有一個執行的按鈕，按下去就可以執行，而這時候如果游標沒有在任何一個副程式之內，\n",
    "那麼在按下執行按鈕時，就會跳出一個選擇視窗，詢問要執行的副程式，這樣會比較浪費時間。\n",
    "\n",
    "如果想要加入開發的速度、節省時間，可以將滑鼠的游標放在要執行的副程式之內，然後按下執行的按鈕，\n",
    "這樣就可以馬上執行該副程式，在開發程式時會比較有效率。"
   ]
  },
  {
   "cell_type": "code",
   "execution_count": null,
   "metadata": {},
   "outputs": [],
   "source": []
  },
  {
   "cell_type": "code",
   "execution_count": null,
   "metadata": {},
   "outputs": [],
   "source": []
  }
 ],
 "metadata": {
  "kernelspec": {
   "display_name": "Python 3",
   "language": "python",
   "name": "python3"
  },
  "language_info": {
   "codemirror_mode": {
    "name": "ipython",
    "version": 3
   },
   "file_extension": ".py",
   "mimetype": "text/x-python",
   "name": "python",
   "nbconvert_exporter": "python",
   "pygments_lexer": "ipython3",
   "version": "3.7.1"
  }
 },
 "nbformat": 4,
 "nbformat_minor": 2
}
