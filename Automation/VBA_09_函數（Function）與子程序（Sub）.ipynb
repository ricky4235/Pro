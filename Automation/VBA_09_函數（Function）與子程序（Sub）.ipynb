{
 "cells": [
  {
   "cell_type": "code",
   "execution_count": null,
   "metadata": {},
   "outputs": [],
   "source": [
    "VBA_9_函數（Function）與子程序（Sub）"
   ]
  },
  {
   "cell_type": "code",
   "execution_count": null,
   "metadata": {},
   "outputs": [],
   "source": [
    "這裡介紹 Excel VBA 的函數（Function）與子程序（Sub）使用方法，並且提供許多實用的參考範例。\n",
    "\n",
    " \n",
    "一般的程式語言都會有自訂函數的功能，讓程式設計者可以將會重複使用的程式碼編寫成函數，方便未來使用。\n",
    "\n",
    "VBA 的自訂函數有分為兩種：\n",
    "\n",
    "    函數（Function）：\n",
    "    VBA 的 Function 就像一般程式語言的函數，可傳入各種參數，進行自訂的運算，並將計算結果傳回。\n",
    "    \n",
    "    子程序（Sub）：\n",
    "    VBA 的 Sub 與 Function 類似，可傳入各種參數並進行運算，但是沒有傳回值（沒有辦法傳回計算結果）。\n",
    "    以下介紹函數（Function）與子程序（Sub）的語法。"
   ]
  },
  {
   "cell_type": "markdown",
   "metadata": {},
   "source": [
    "# 子程序（Sub）\n",
    "事實上我們在一開始學習 VBA 的程式設計時，就已經使用過子程序了，以下是一個最簡單的 Hello World 子程序範例程式碼："
   ]
  },
  {
   "cell_type": "code",
   "execution_count": null,
   "metadata": {},
   "outputs": [],
   "source": [
    "Sub Hello()\n",
    "  MsgBox (\"Hello, world!\")\n",
    "End Sub\n",
    "子程序是以 Sub 這個關鍵字加上一個子程序名稱開始的，子程序名稱後方會接著一對小括號，\n",
    "小括號內部會放置傳入的參數（這個例子中沒有任何傳入參數），而最後面的 End Sub 就是子程序的結尾，\n",
    "中間的部分就是子程序的程式內容。\n",
    "\n",
    "這我們裡定義了一個名稱為 Hello 的子程序，其內容就是一行 MsgBox 輸出訊息指令。\n",
    "當我們呼叫這個 Hello 子程序時，就會執行裡面的程式碼，在前面的 VBA 教學中，\n",
    "我們都是透過這種沒有任何輸入參數的子程序來執行自己的 VBA 巨集程式。"
   ]
  },
  {
   "cell_type": "code",
   "execution_count": null,
   "metadata": {},
   "outputs": [],
   "source": [
    "輸入參數\n",
    "我們可以自己定義可接受各種輸入參數的子程序：\n",
    "\n",
    "' 自行定義的子程序\n",
    "Sub mySub(x As Integer, y As Integer)\n",
    "  MsgBox (\"x + y = \" & x + y)\n",
    "End Sub\n",
    "這個 mySub 子程序可以接受兩個整數參數，在計算這兩個數的總和之後，再用 MsgBox 輸出結果。\n",
    "\n",
    "其他類型的參數用法也都類似，例如：Double、String 等，請依據資料特性自行選擇適合的參數類型。"
   ]
  },
  {
   "cell_type": "code",
   "execution_count": null,
   "metadata": {},
   "outputs": [],
   "source": [
    "定義好這個子程序之後，就可以在程式的其他地方使用它，呼叫子程序時只要直接輸入子程序，\n",
    "再依序加上逗點分隔的輸入參數即可：\n",
    "\n",
    "Sub hello()\n",
    "  ' 呼叫 mySub 子程序\n",
    "  mySub 1, 2  #顯示 x + y =3\n",
    "End Sub\n",
    "\n",
    "在執行時，我們會先呼叫 hello 這個子程序，接著它會呼叫 mySub 子程序，\n",
    "並將要計算的兩個數值資料也傳遞進去，進行運算後再將結果顯示出來。"
   ]
  },
  {
   "cell_type": "code",
   "execution_count": null,
   "metadata": {},
   "outputs": [],
   "source": [
    "預設參數值\n",
    "在定義子程序（Sub）的參數時，我們可以透過 Optional 這個關鍵字將某些參數設定為選擇性的，並且加上參數的預設值：\n",
    "\n",
    "' 自行定義的子程序\n",
    "Sub mySub2(Optional x As Integer = 3, Optional y As Integer = 4)\n",
    "  MsgBox (\"x + y = \" & x + y)\n",
    "End Sub\n",
    "這樣在呼叫這個子程序時就可以省略這些選擇性的參數，讓它自動使用預設值，只在需要更動預設值的時候才加上該參數：\n",
    "\n",
    "Sub hello()\n",
    "  ' 計算 3 + 4\n",
    "  mySub2\n",
    "\n",
    "  ' 計算 1 + 4\n",
    "  mySub2 1\n",
    "\n",
    "  ' 計算 1 + 2\n",
    "  mySub2 1, 2\n",
    "End Sub"
   ]
  },
  {
   "cell_type": "code",
   "execution_count": null,
   "metadata": {},
   "outputs": [],
   "source": [
    "傳值與傳參考呼叫\n",
    "在預設的情況下，如果我們在子程序改變的傳入參數的值，原來的值也會跟著改變，請看以下的範例：\n",
    "\n",
    "' 自行定義的子程序\n",
    "Sub mySub3(x As Integer)\n",
    "  x = x + 1\n",
    "End Sub\n",
    "這裡我們在自行定義的子程序中將傳入的 x 值加上 1，然後我們在呼叫這個子程序之後，檢查一下原來的數值：\n",
    "\n",
    "Sub Hello()\n",
    "  Dim val As Integer\n",
    "  val = 5\n",
    "  mySub3 val\n",
    "  MsgBox val\n",
    "End Sub\n",
    "執行之後，會發現到原來的 val 變數值也跟著加上 1 了。\n",
    "會有這樣的結果是因為 VBA 子程序預設的呼叫方式是傳參考呼叫（call by reference），\n",
    "簡單來說就好像把這裡的 val 變數直接拿進 mySub3 子程序中使用，所以 mySub3 中的 x 其實就是 val，\n",
    "而改變了 x 的值就等於是改變了 val 變數。"
   ]
  },
  {
   "cell_type": "code",
   "execution_count": null,
   "metadata": {},
   "outputs": [],
   "source": [
    "如果不想要讓子程序去改變原本的變數值，可以改用傳值呼叫（call by value）的方式來定義子程序的參數：\n",
    "\n",
    "' 傳值呼叫的子程序\n",
    "Sub mySub3(ByVal x As Integer)\n",
    "  x = x + 1\n",
    "End Sub\n",
    "使用方式都一樣，只不過使用傳值呼叫的參數就不會影響到原來的變數：\n",
    "\n",
    "\n",
    "執行結果\n",
    "\n",
    "傳值呼叫就好像把原來的 val 複製一份，再放進 mySub3 中的 x，所以這時候不管 x 怎麼改變，val 都不會有影響。\n",
    "\n",
    "如果不指定參數使用何種傳遞方式，VBA 預設會使用傳參考的方式傳涮，\n",
    "而如果想要讓程式碼更清楚，可以使用傳參考呼叫的標準寫法：\n",
    "\n",
    "' 傳參考呼叫的子程序\n",
    "Sub mySub3(ByRef x As Integer)\n",
    "  x = x + 1\n",
    "End Sub"
   ]
  },
  {
   "cell_type": "markdown",
   "metadata": {},
   "source": [
    "# 函數（Function）\n",
    "VBA 的函數（Function）跟子程序（Sub）類似，比較不一樣的地方是函數在執行完之後會有一個傳回值，而子程序則沒有，以下是一個簡單的函數範例："
   ]
  },
  {
   "cell_type": "code",
   "execution_count": null,
   "metadata": {},
   "outputs": [],
   "source": [
    "' 自行定義的函數\n",
    "Function myFun(x As Integer, y As Integer) As Integer\n",
    "  myFun = x + y\n",
    "End Function\n",
    "\n",
    "函數的定義方式與子程序類似，其以 Function 開頭，接著是函數名稱與傳入參數，\n",
    "而最後還要加上一個函數傳回值的型態，以這個例子來說就是最後一個 As Integer。\n",
    "最後一行 End Function 就是函數的結尾。\n",
    "\n",
    "在函數的程式碼內容上，比較要注意的就是傳回值的寫法，VBA 的函數中會有一個與函數同名稱的變數，\n",
    "以這個例子來說就是 myFun，函數執行完成後，就會把這個變數的內容當成函數的傳回值，傳回呼叫此函數的位置。\n",
    "\n",
    "這裡定義的 myFun 函數會接受 x 與 y 兩個整數，傳回兩個整數加起來之後的總和，以下是呼叫這個函數的範例程式碼：\n",
    "\n",
    "Sub Hello()\n",
    "  Dim a As Integer\n",
    "  a = myFun(3, 4)\n",
    "  MsgBox a\n",
    "End Sub"
   ]
  },
  {
   "cell_type": "code",
   "execution_count": null,
   "metadata": {},
   "outputs": [],
   "source": [
    "Excel 使用 VBA 函數\n",
    "VBA 的函數定義好之後，除了可以在一般的 VBA 程式碼中呼叫之外，也可以直接在 Excel 中使用，\n",
    "其使用方式就跟一般的 Excel 函數一樣，在儲存格中輸入等於，再加上自訂的函數名稱以及輸入的資料："
   ]
  },
  {
   "cell_type": "code",
   "execution_count": null,
   "metadata": {},
   "outputs": [],
   "source": [
    "預設參數值\n",
    "函數的預設參數值用法與子程序相同，同樣都是使用 Optional，以下是一個簡單的範例：\n",
    "\n",
    "' 自行定義的函數\n",
    "Function myFun2(Optional x As Integer = 3, Optional y As Integer = 4) As Integer\n",
    "  myFun = x + y\n",
    "End Function\n",
    "以下是呼叫此函數的範例：\n",
    "\n",
    "' 呼叫自行定義的函數\n",
    "Sub Hello()\n",
    "  Dim a As Integer\n",
    "\n",
    "  ' 計算 3 + 4\n",
    "  a = myFun2()\n",
    "  MsgBox a\n",
    "\n",
    "  ' 計算 20 + 4\n",
    "  a = myFun2(20)\n",
    "  MsgBox a\n",
    "\n",
    "  ' 計算 20 + 40\n",
    "  a = myFun2(20, 40)\n",
    "  MsgBox a\n",
    "End Sub"
   ]
  },
  {
   "cell_type": "code",
   "execution_count": null,
   "metadata": {},
   "outputs": [],
   "source": [
    "傳值與傳參考呼叫\n",
    "VBA 函數的傳值與傳參考呼叫原則與子程序相同，以下是函數的傳值與傳參考呼叫範例：\n",
    "\n",
    "' 傳參考函數(預設)\n",
    "Function myFun3(ByRef x As Integer) As Integer\n",
    "  x = x + 1\n",
    "  myFun3 = x\n",
    "End Function\n",
    "\n",
    "' 傳值函數\n",
    "Function myFun4(ByVal x As Integer) As Integer\n",
    "  x = x + 1\n",
    "  myFun4 = x\n",
    "End Function\n",
    "以下是呼叫 myFun3 與 myFun4 兩個函數的範例：\n",
    "\n",
    "Sub Hello()\n",
    "  Dim a As Integer, b As Integer\n",
    "\n",
    "  a = 5\n",
    "  b = myFun3(a)\n",
    "  MsgBox a  #結果為6\n",
    "\n",
    "  a = 5\n",
    "  b = myFun4(a)\n",
    "  MsgBox a  #結果為5\n",
    "\n",
    "End Sub\n",
    "在預設的情況下，VBA 函數都會以傳參考的方式傳遞參數。"
   ]
  },
  {
   "cell_type": "code",
   "execution_count": null,
   "metadata": {},
   "outputs": [],
   "source": [
    "應用範例：偶數加總\n",
    "這是一個可以將 Excel 特定範圍內的偶數篩選出來，並計算總和的函數：\n",
    "\n",
    "Function SumEvenNumbers(r As Range) As Integer\n",
    "  Dim c As Range\n",
    "  SumEvenNumbers = 0\n",
    "  ' 將範圍內的每一個儲存格資料取出\n",
    "  For Each c In r\n",
    "    ' 檢查是否為偶數\n",
    "    If c.Value Mod 2 = 0 Then\n",
    "      ' 將偶數加總起來\n",
    "      SumEvenNumbers = SumEvenNumbers + c.Value\n",
    "    End If\n",
    "  Next c\n",
    "End Function\n",
    "定義好之後，就可以在 Excel 中使用：\n",
    "\n",
    "\n",
    "Excel 加總特定範圍內的偶數\n",
    "\n",
    "這樣就可以計算範圍內的所有偶數總和。"
   ]
  },
  {
   "cell_type": "code",
   "execution_count": null,
   "metadata": {},
   "outputs": [],
   "source": [
    "應用範例：奇數加總\n",
    "Function SumOddNumbers(r As Range) As Integer\n",
    "  Dim c As Range\n",
    "  SumOddNumbers = 0\n",
    " \n",
    "  For Each c In r\n",
    "\n",
    "    If c.Value Mod 2 <> 0 Then\n",
    "\n",
    "      SumOddNumbers = SumOddNumbers + c.Value\n",
    "    End If\n",
    "    \n",
    "  Next c\n",
    "  \n",
    "End Function"
   ]
  }
 ],
 "metadata": {
  "kernelspec": {
   "display_name": "Python 3",
   "language": "python",
   "name": "python3"
  },
  "language_info": {
   "codemirror_mode": {
    "name": "ipython",
    "version": 3
   },
   "file_extension": ".py",
   "mimetype": "text/x-python",
   "name": "python",
   "nbconvert_exporter": "python",
   "pygments_lexer": "ipython3",
   "version": "3.7.1"
  }
 },
 "nbformat": 4,
 "nbformat_minor": 2
}
