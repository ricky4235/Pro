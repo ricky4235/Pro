{
 "cells": [
  {
   "cell_type": "code",
   "execution_count": 15,
   "metadata": {
    "scrolled": true
   },
   "outputs": [
    {
     "data": {
      "text/html": [
       "<div>\n",
       "<style scoped>\n",
       "    .dataframe tbody tr th:only-of-type {\n",
       "        vertical-align: middle;\n",
       "    }\n",
       "\n",
       "    .dataframe tbody tr th {\n",
       "        vertical-align: top;\n",
       "    }\n",
       "\n",
       "    .dataframe thead th {\n",
       "        text-align: right;\n",
       "    }\n",
       "</style>\n",
       "<table border=\"1\" class=\"dataframe\">\n",
       "  <thead>\n",
       "    <tr style=\"text-align: right;\">\n",
       "      <th></th>\n",
       "      <th>進銷存</th>\n",
       "      <th>2nd Item Number</th>\n",
       "      <th>Qty</th>\n",
       "      <th>LargeCat</th>\n",
       "      <th>MediumCat</th>\n",
       "      <th>Sls CD4 Desc#</th>\n",
       "      <th>Product Desc#</th>\n",
       "      <th>Year</th>\n",
       "      <th>Month</th>\n",
       "    </tr>\n",
       "  </thead>\n",
       "  <tbody>\n",
       "    <tr>\n",
       "      <th>1</th>\n",
       "      <td>進貨量</td>\n",
       "      <td>3.22002e+10</td>\n",
       "      <td>100</td>\n",
       "      <td>Web Cam</td>\n",
       "      <td>Web Cam</td>\n",
       "      <td>FaceCam 1000X V2</td>\n",
       "      <td>RS,FACECAM 1000X V2</td>\n",
       "      <td>2019</td>\n",
       "      <td>2</td>\n",
       "    </tr>\n",
       "    <tr>\n",
       "      <th>2</th>\n",
       "      <td>進貨量</td>\n",
       "      <td>3.22002e+10</td>\n",
       "      <td>100</td>\n",
       "      <td>Web Cam</td>\n",
       "      <td>Web Cam</td>\n",
       "      <td>FaceCam 1000X V2</td>\n",
       "      <td>RS,FACECAM 1000X V2</td>\n",
       "      <td>2019</td>\n",
       "      <td>7</td>\n",
       "    </tr>\n",
       "    <tr>\n",
       "      <th>3</th>\n",
       "      <td>進貨量</td>\n",
       "      <td>3.22002e+10</td>\n",
       "      <td>100</td>\n",
       "      <td>Web Cam</td>\n",
       "      <td>Web Cam</td>\n",
       "      <td>FaceCam 1000X V2</td>\n",
       "      <td>RS,FACECAM 1000X V2</td>\n",
       "      <td>2019</td>\n",
       "      <td>10</td>\n",
       "    </tr>\n",
       "    <tr>\n",
       "      <th>4</th>\n",
       "      <td>進貨量</td>\n",
       "      <td>3.22002e+10</td>\n",
       "      <td>100</td>\n",
       "      <td>Web Cam</td>\n",
       "      <td>Web Cam</td>\n",
       "      <td>FaceCam 1000X V2</td>\n",
       "      <td>RS,FACECAM 1000X V2</td>\n",
       "      <td>2019</td>\n",
       "      <td>11</td>\n",
       "    </tr>\n",
       "    <tr>\n",
       "      <th>5</th>\n",
       "      <td>進貨量</td>\n",
       "      <td>3.22002e+10</td>\n",
       "      <td>100</td>\n",
       "      <td>Web Cam</td>\n",
       "      <td>Web Cam</td>\n",
       "      <td>FaceCam 1000X V2</td>\n",
       "      <td>RS,FACECAM 1000X V2</td>\n",
       "      <td>2019</td>\n",
       "      <td>12</td>\n",
       "    </tr>\n",
       "  </tbody>\n",
       "</table>\n",
       "</div>"
      ],
      "text/plain": [
       "0  進銷存 2nd Item Number  Qty LargeCat MediumCat     Sls CD4 Desc#  \\\n",
       "1  進貨量     3.22002e+10  100  Web Cam   Web Cam  FaceCam 1000X V2   \n",
       "2  進貨量     3.22002e+10  100  Web Cam   Web Cam  FaceCam 1000X V2   \n",
       "3  進貨量     3.22002e+10  100  Web Cam   Web Cam  FaceCam 1000X V2   \n",
       "4  進貨量     3.22002e+10  100  Web Cam   Web Cam  FaceCam 1000X V2   \n",
       "5  進貨量     3.22002e+10  100  Web Cam   Web Cam  FaceCam 1000X V2   \n",
       "\n",
       "0        Product Desc#  Year Month  \n",
       "1  RS,FACECAM 1000X V2  2019     2  \n",
       "2  RS,FACECAM 1000X V2  2019     7  \n",
       "3  RS,FACECAM 1000X V2  2019    10  \n",
       "4  RS,FACECAM 1000X V2  2019    11  \n",
       "5  RS,FACECAM 1000X V2  2019    12  "
      ]
     },
     "execution_count": 15,
     "metadata": {},
     "output_type": "execute_result"
    }
   ],
   "source": [
    "import xlwings as xw\n",
    "import pandas as pd\n",
    "import numpy as np\n",
    "\n",
    "wb = xw.Book(r'C:\\Users\\11004076\\Documents\\Python Scripts\\4_Automation\\20200324-進銷存-SF4_Vietnam_Silicom.xlsx')\n",
    "sht = wb.sheets['raw']\n",
    "raw = sht.range('A1').expand('table')\n",
    "\n",
    "df = pd.DataFrame(raw.value)\n",
    "df.columns = df.loc[0] #將欄位名稱和第0列一樣\n",
    "df.drop(0, axis = 0, inplace=True)  #再將多餘的第0列丟掉\n",
    "df.head()"
   ]
  },
  {
   "cell_type": "code",
   "execution_count": null,
   "metadata": {},
   "outputs": [],
   "source": [
    "https://docs.microsoft.com/zh-tw/office/vba/api/overview/excel"
   ]
  },
  {
   "cell_type": "code",
   "execution_count": null,
   "metadata": {},
   "outputs": [],
   "source": [
    "並不是所有的Excel功能都可以作為一個本地xlwings特性來使用。有時我們必須找到變通辦法來做我們想做的事。\n",
    "幸運的是，xlwings讓這一切變得非常簡單。來自官方文檔中「缺失的特性」一節:\n",
    "\n",
    "解決方案:\n",
    "    本質上，xlwings只是一個圍繞Windows平台上的pywin32和Mac平台上的appscript的靈活的包裝器。\n",
    "    你可以通過調用其api屬性來訪問底層對象。底層對象將使用pywin32語法(感覺很像VBA)\n",
    "    和appscript語法(感覺不像VBA)為您提供幾乎所有可以用VBA做的事情。\n",
    "    但是除了看起來很醜之外，請記住它使您的代碼平台變成特定的(!)。\n",
    "    Excel Visual Basic for Applications是對各種現有Excel對象的一個詳細解釋。"
   ]
  },
  {
   "cell_type": "markdown",
   "metadata": {},
   "source": [
    "# 在Python中調用vba函數\n",
    "xlwings的靈魂就是能夠調用vba的api，excel的函數都可以被調用。<br>\n",
    "這是它優於其它同類包的關鍵。所以xlwings有個及其強大的函數庫做支撐。"
   ]
  },
  {
   "cell_type": "code",
   "execution_count": null,
   "metadata": {},
   "outputs": [],
   "source": [
    "調用規則：sht.range('A1:A5').api.函數名稱()"
   ]
  },
  {
   "cell_type": "code",
   "execution_count": 2,
   "metadata": {},
   "outputs": [
    {
     "data": {
      "text/plain": [
       "<xlwings._xlwindows.COMRetryObjectWrapper at 0x8cee908>"
      ]
     },
     "execution_count": 2,
     "metadata": {},
     "output_type": "execute_result"
    }
   ],
   "source": [
    "sht.api"
   ]
  },
  {
   "cell_type": "code",
   "execution_count": null,
   "metadata": {},
   "outputs": [],
   "source": [
    "sht = xw.Book().sheets[0]\n",
    ">>> sht.api\n",
    "<COMObject <unknown>>  # Windows/pywin32\n",
    "app(pid=2319).workbooks['Workbook1'].worksheets[1]  # Mac/appscript"
   ]
  },
  {
   "cell_type": "code",
   "execution_count": null,
   "metadata": {},
   "outputs": [],
   "source": [
    "## Range物件"
   ]
  },
  {
   "cell_type": "code",
   "execution_count": null,
   "metadata": {},
   "outputs": [],
   "source": [
    "### 排序(Sort)\n",
    "https://docs.microsoft.com/zh-tw/office/vba/api/excel.range.sort"
   ]
  },
  {
   "cell_type": "code",
   "execution_count": 3,
   "metadata": {
    "scrolled": true
   },
   "outputs": [
    {
     "data": {
      "text/plain": [
       "True"
      ]
     },
     "execution_count": 3,
     "metadata": {},
     "output_type": "execute_result"
    }
   ],
   "source": [
    "sht.range('A2:I1234').api.Sort(Key1=sht.range(\"D2\").api, Order1=2,  #1:升序，2:降序\n",
    "                               Key2=sht.range(\"E2\").api, Order2=2,\n",
    "                               Key3=sht.range(\"C2\").api, Order3=1,\n",
    "                               Header=\"xlYes\") "
   ]
  },
  {
   "cell_type": "code",
   "execution_count": null,
   "metadata": {},
   "outputs": [],
   "source": [
    "### 合併儲存格(merge)"
   ]
  },
  {
   "cell_type": "code",
   "execution_count": 5,
   "metadata": {},
   "outputs": [],
   "source": [
    "sht.range('K2:M3').api.merge()"
   ]
  },
  {
   "cell_type": "code",
   "execution_count": null,
   "metadata": {},
   "outputs": [],
   "source": [
    "### 取消合併儲存格(unMerge)"
   ]
  },
  {
   "cell_type": "code",
   "execution_count": 30,
   "metadata": {},
   "outputs": [],
   "source": [
    "sht.range('K2:M3').api.unmerge()"
   ]
  },
  {
   "cell_type": "code",
   "execution_count": null,
   "metadata": {},
   "outputs": [],
   "source": [
    "## CellFormat物件"
   ]
  },
  {
   "cell_type": "code",
   "execution_count": null,
   "metadata": {},
   "outputs": [],
   "source": [
    "### 自動換行(WrapText)"
   ]
  },
  {
   "cell_type": "code",
   "execution_count": 5,
   "metadata": {},
   "outputs": [],
   "source": [
    "# Windows\n",
    "sht.range('B1').api.WrapText = True\n",
    "\n",
    "# Mac\n",
    "#sht.range('A1').api.wrap_text.set(True)"
   ]
  },
  {
   "cell_type": "code",
   "execution_count": null,
   "metadata": {},
   "outputs": [],
   "source": [
    "## Font 物件"
   ]
  },
  {
   "cell_type": "code",
   "execution_count": 19,
   "metadata": {},
   "outputs": [],
   "source": [
    "#修改單元格屬性：如顏色，字體，大小等\n",
    "sht.range('A1').api.Font.Name = 'Times New Roman' #設置字體\n",
    "sht.range('B1').api.Font.Size = 15   # 設置字號為15\n",
    "sht.range('C1').api.Font.Bold = True # 加粗\n",
    "sht.range('D1').api.Font.Color = 0x0000ff #設置為紅色RGB(255,0,0)\n",
    "sht.range('E1').api.Font.FontStyle = \"Bold Italic\"  #會傳回或設定的字型樣式，設定為粗體和斜體。\n",
    "sht.range('F1').api.Font.Italic = True #斜體\n",
    "sht.range('F1').api.Font.Strikethrough = True #刪除線\n",
    "sht.range('F1').api.Font.Subscript = True #下標\n",
    "sht.range('G1').api.Font.Superscript = True #上標\n",
    "sht.range('G1').api.Font.Underline = True #底線\n"
   ]
  },
  {
   "cell_type": "code",
   "execution_count": 21,
   "metadata": {},
   "outputs": [
    {
     "data": {
      "text/plain": [
       "'粗斜體'"
      ]
     },
     "execution_count": 21,
     "metadata": {},
     "output_type": "execute_result"
    }
   ],
   "source": [
    "sht.range('E1').api.Font.FontStyle"
   ]
  },
  {
   "cell_type": "code",
   "execution_count": 22,
   "metadata": {
    "scrolled": true
   },
   "outputs": [
    {
     "data": {
      "text/plain": [
       "15.0"
      ]
     },
     "execution_count": 22,
     "metadata": {},
     "output_type": "execute_result"
    }
   ],
   "source": [
    "sht.range('B1').api.Font.Size"
   ]
  },
  {
   "cell_type": "markdown",
   "metadata": {},
   "source": [
    "### 選擇樞紐標籤並刷新數據"
   ]
  },
  {
   "cell_type": "code",
   "execution_count": null,
   "metadata": {},
   "outputs": [],
   "source": [
    "wb.sheets['pv'].select()\n",
    "wb.api.ActiveSheet.PivotTables(\"樞紐分析表1\").PivotCache().refresh()"
   ]
  }
 ],
 "metadata": {
  "kernelspec": {
   "display_name": "Python 3",
   "language": "python",
   "name": "python3"
  },
  "language_info": {
   "codemirror_mode": {
    "name": "ipython",
    "version": 3
   },
   "file_extension": ".py",
   "mimetype": "text/x-python",
   "name": "python",
   "nbconvert_exporter": "python",
   "pygments_lexer": "ipython3",
   "version": "3.7.1"
  }
 },
 "nbformat": 4,
 "nbformat_minor": 2
}
