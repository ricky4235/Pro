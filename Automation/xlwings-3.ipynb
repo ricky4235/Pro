{
 "cells": [
  {
   "cell_type": "code",
   "execution_count": null,
   "metadata": {},
   "outputs": [],
   "source": [
    "中文：https://twgreatdaily.com/w4bYyG0BMH2_cNUgurKB.html\n",
    "英文原文：https://www.dataquest.io/blog/python-excel-xlwings-tutorial/"
   ]
  },
  {
   "cell_type": "code",
   "execution_count": 1,
   "metadata": {},
   "outputs": [
    {
     "data": {
      "text/html": [
       "<div>\n",
       "<style scoped>\n",
       "    .dataframe tbody tr th:only-of-type {\n",
       "        vertical-align: middle;\n",
       "    }\n",
       "\n",
       "    .dataframe tbody tr th {\n",
       "        vertical-align: top;\n",
       "    }\n",
       "\n",
       "    .dataframe thead th {\n",
       "        text-align: right;\n",
       "    }\n",
       "</style>\n",
       "<table border=\"1\" class=\"dataframe\">\n",
       "  <thead>\n",
       "    <tr style=\"text-align: right;\">\n",
       "      <th></th>\n",
       "      <th>進銷存</th>\n",
       "      <th>2nd Item Number</th>\n",
       "      <th>Qty</th>\n",
       "      <th>LargeCat</th>\n",
       "      <th>MediumCat</th>\n",
       "      <th>Sls CD4 Desc#</th>\n",
       "      <th>Product Desc#</th>\n",
       "      <th>Year</th>\n",
       "      <th>Month</th>\n",
       "      <th>Unnamed: 9</th>\n",
       "      <th>進貨量</th>\n",
       "      <th>銷貨量</th>\n",
       "      <th>存貨量</th>\n",
       "    </tr>\n",
       "  </thead>\n",
       "  <tbody>\n",
       "    <tr>\n",
       "      <th>856</th>\n",
       "      <td>存貨量</td>\n",
       "      <td>31731063101</td>\n",
       "      <td>0.0</td>\n",
       "      <td>Speaker</td>\n",
       "      <td>2.0 Speaker</td>\n",
       "      <td>SP-HF160</td>\n",
       "      <td>RS,SP-HF160,USB,WOOD</td>\n",
       "      <td>2020</td>\n",
       "      <td>2</td>\n",
       "      <td>NaN</td>\n",
       "      <td>NaN</td>\n",
       "      <td>NaN</td>\n",
       "      <td>NaN</td>\n",
       "    </tr>\n",
       "    <tr>\n",
       "      <th>439</th>\n",
       "      <td>存貨量</td>\n",
       "      <td>31030114109</td>\n",
       "      <td>354.0</td>\n",
       "      <td>Mouse</td>\n",
       "      <td>Wireless Mouse</td>\n",
       "      <td>NX-7010</td>\n",
       "      <td>RS,NX-7010,USB,TURQUOISE,BLIS!</td>\n",
       "      <td>2019</td>\n",
       "      <td>9</td>\n",
       "      <td>NaN</td>\n",
       "      <td>NaN</td>\n",
       "      <td>NaN</td>\n",
       "      <td>NaN</td>\n",
       "    </tr>\n",
       "    <tr>\n",
       "      <th>326</th>\n",
       "      <td>存貨量</td>\n",
       "      <td>31010116103</td>\n",
       "      <td>700.0</td>\n",
       "      <td>Mouse</td>\n",
       "      <td>Wired Mouse</td>\n",
       "      <td>DX-110</td>\n",
       "      <td>RS,DX-110,USB,BLUE,G5</td>\n",
       "      <td>2019</td>\n",
       "      <td>3</td>\n",
       "      <td>NaN</td>\n",
       "      <td>NaN</td>\n",
       "      <td>NaN</td>\n",
       "      <td>NaN</td>\n",
       "    </tr>\n",
       "    <tr>\n",
       "      <th>615</th>\n",
       "      <td>存貨量</td>\n",
       "      <td>31730007401</td>\n",
       "      <td>0.0</td>\n",
       "      <td>Speaker</td>\n",
       "      <td>BT Speaker</td>\n",
       "      <td>SP-906BT PLUS-LI</td>\n",
       "      <td>RS,SP-906BT PLUS,R2,Blue,!</td>\n",
       "      <td>2019</td>\n",
       "      <td>11</td>\n",
       "      <td>NaN</td>\n",
       "      <td>NaN</td>\n",
       "      <td>NaN</td>\n",
       "      <td>NaN</td>\n",
       "    </tr>\n",
       "    <tr>\n",
       "      <th>808</th>\n",
       "      <td>存貨量</td>\n",
       "      <td>31010116102</td>\n",
       "      <td>724.0</td>\n",
       "      <td>Mouse</td>\n",
       "      <td>Wired Mouse</td>\n",
       "      <td>DX-110</td>\n",
       "      <td>RS,DX-110,USB,WHITE,G5</td>\n",
       "      <td>2020</td>\n",
       "      <td>2</td>\n",
       "      <td>NaN</td>\n",
       "      <td>NaN</td>\n",
       "      <td>NaN</td>\n",
       "      <td>NaN</td>\n",
       "    </tr>\n",
       "  </tbody>\n",
       "</table>\n",
       "</div>"
      ],
      "text/plain": [
       "     進銷存  2nd Item Number    Qty LargeCat       MediumCat     Sls CD4 Desc#  \\\n",
       "856  存貨量      31731063101    0.0  Speaker     2.0 Speaker          SP-HF160   \n",
       "439  存貨量      31030114109  354.0    Mouse  Wireless Mouse           NX-7010   \n",
       "326  存貨量      31010116103  700.0    Mouse     Wired Mouse            DX-110   \n",
       "615  存貨量      31730007401    0.0  Speaker      BT Speaker  SP-906BT PLUS-LI   \n",
       "808  存貨量      31010116102  724.0    Mouse     Wired Mouse            DX-110   \n",
       "\n",
       "                      Product Desc#  Year  Month  Unnamed: 9  進貨量  銷貨量  存貨量  \n",
       "856            RS,SP-HF160,USB,WOOD  2020      2         NaN  NaN  NaN  NaN  \n",
       "439  RS,NX-7010,USB,TURQUOISE,BLIS!  2019      9         NaN  NaN  NaN  NaN  \n",
       "326           RS,DX-110,USB,BLUE,G5  2019      3         NaN  NaN  NaN  NaN  \n",
       "615      RS,SP-906BT PLUS,R2,Blue,!  2019     11         NaN  NaN  NaN  NaN  \n",
       "808          RS,DX-110,USB,WHITE,G5  2020      2         NaN  NaN  NaN  NaN  "
      ]
     },
     "execution_count": 1,
     "metadata": {},
     "output_type": "execute_result"
    }
   ],
   "source": [
    "import xlwings as xw\n",
    "import pandas as pd\n",
    "\n",
    "df = pd.read_excel(r'C:\\Users\\11004076\\Documents\\Python Scripts\\4_Automation\\20200324-進銷存-SF4_Vietnam_Silicom.xlsx',\n",
    "                  sheet_name = 'raw')\n",
    "df.sample(5)"
   ]
  },
  {
   "cell_type": "code",
   "execution_count": 2,
   "metadata": {},
   "outputs": [],
   "source": [
    "wb = xw.Book()\n",
    "sht = wb.sheets[0]\n",
    "sht.name = '進銷存'  #改表名\n",
    "sht.range(\"A1\").value = df  #將df的值貼過來這個新的表(但直接貼會帶有索引)"
   ]
  },
  {
   "cell_type": "code",
   "execution_count": 5,
   "metadata": {},
   "outputs": [],
   "source": [
    "sht.clear_contents()   #清除此工作表的內容(重做一次)\n",
    "sht.range(\"A1\").options(index=False).value = df  #並複製不帶索引的數據"
   ]
  },
  {
   "cell_type": "markdown",
   "metadata": {},
   "source": [
    "### 取得列行"
   ]
  },
  {
   "cell_type": "code",
   "execution_count": null,
   "metadata": {},
   "outputs": [],
   "source": [
    "能夠知道我們的表在哪裡結束是很有用的。更具體地說，我們需要包含了數據的最後一行。為此，我們可以使用end方法和Range對象的row屬性。\n",
    "\n",
    "不出所料，row方法會返回Range對象的row。\n",
    "\n",
    "方法end接受一個方向(「up」(或1)、「right」(或2)、「left」(或3)、「down」(或4))作為參數，並返回另一個range對象。\n",
    "它模仿Excel中常見的CTRL+Shift+箭頭動作。"
   ]
  },
  {
   "cell_type": "code",
   "execution_count": 14,
   "metadata": {},
   "outputs": [
    {
     "data": {
      "text/plain": [
       "9"
      ]
     },
     "execution_count": 14,
     "metadata": {},
     "output_type": "execute_result"
    }
   ],
   "source": [
    "sht.range(\"G9\").row  #row方法會返回Range對象的row。"
   ]
  },
  {
   "cell_type": "code",
   "execution_count": 7,
   "metadata": {},
   "outputs": [
    {
     "data": {
      "text/plain": [
       "1234"
      ]
     },
     "execution_count": 7,
     "metadata": {},
     "output_type": "execute_result"
    }
   ],
   "source": [
    "down_row =sht.range(\"A1\").end('down').row  #最下面那列是excel的第幾列\n",
    "down_row"
   ]
  },
  {
   "cell_type": "code",
   "execution_count": 28,
   "metadata": {
    "scrolled": true
   },
   "outputs": [
    {
     "data": {
      "text/plain": [
       "(1233, 13)"
      ]
     },
     "execution_count": 28,
     "metadata": {},
     "output_type": "execute_result"
    }
   ],
   "source": [
    "df.shape  #Dataframe中的列數"
   ]
  },
  {
   "cell_type": "code",
   "execution_count": null,
   "metadata": {},
   "outputs": [],
   "source": [
    "並不是所有的Excel功能都可以作為一個本地xlwings特性來使用。有時我們必須找到變通辦法來做我們想做的事。\n",
    "幸運的是，xlwings讓這一切變得非常簡單。來自官方文檔中「缺失的特性」一節:\n",
    "\n",
    "解決方案:\n",
    "    本質上，xlwings只是一個圍繞Windows平台上的pywin32和Mac平台上的appscript的靈活的包裝器。\n",
    "    你可以通過調用其api屬性來訪問底層對象。底層對象將使用pywin32語法(感覺很像VBA)和appscript語法(感覺不像VBA)\n",
    "    為您提供幾乎所有可以用VBA做的事情。但是除了看起來很醜之外，請記住它使您的代碼平台變成特定的(!)。\n",
    "    Excel Visual Basic for Applications是對各種現有Excel對象的一個詳細解釋。\n",
    "\n",
    "排序就是xlwings中缺少的功能之一。您可能已經注意到，那些記錄是從最近到最遠的抽籤順序排列的。在接下來的幾個步驟中，我們將反轉順序。\n",
    "\n",
    "對象ws.range(「A2:N{row}」.format(row=last_row))是一個Range對象。將api屬性追加給它之後，\n",
    "會生成一個VBA Range對象，該對象反過來又可以訪問它的VBA特性。\n",
    "\n",
    "我們將使用這個VBA對象的Sort屬性。在它的最簡單的應用程式中，Sort接受兩個參數:\n",
    "對表排序所使用的列(作為一個VBA Range對象)和排序類型(無論希望按升序還是降序排序)。\n",
    "第二個參數的參數文檔可以在這裡看到。我們將按升序進行排序。"
   ]
  },
  {
   "cell_type": "markdown",
   "metadata": {},
   "source": [
    "### 排序"
   ]
  },
  {
   "cell_type": "code",
   "execution_count": 120,
   "metadata": {},
   "outputs": [
    {
     "data": {
      "text/plain": [
       "True"
      ]
     },
     "execution_count": 120,
     "metadata": {},
     "output_type": "execute_result"
    }
   ],
   "source": [
    "sht.range('A2').options(expand='table').api.Sort(Key1=sht.range(\"C:C\").api, Order2=0,  Header=\"xlNo\")  \n",
    "#依照C欄排序\n",
    "#Order1说明：1代表升序，2代表降序"
   ]
  },
  {
   "cell_type": "code",
   "execution_count": 69,
   "metadata": {
    "scrolled": true
   },
   "outputs": [
    {
     "data": {
      "text/plain": [
       "<Range [Book6]進銷存!$A$2>"
      ]
     },
     "execution_count": 69,
     "metadata": {},
     "output_type": "execute_result"
    }
   ],
   "source": [
    "sht.range('A2').options(expand='table')"
   ]
  },
  {
   "cell_type": "code",
   "execution_count": null,
   "metadata": {},
   "outputs": [],
   "source": [
    "sht.range('C2').api.Sort(Key1=sht.range(\"D2\").api, Order1=2,\n",
    "                         Key2=sht.range(\"E2\").api, Order2=2,\n",
    "                         Key3=sht.range(\"C2\").api, Order3=2,\n",
    "                         Header=\"xlYes\") \n",
    "#依照C欄排序\n",
    "#Order1说明：1代表升序，2代表降序"
   ]
  },
  {
   "cell_type": "code",
   "execution_count": 121,
   "metadata": {},
   "outputs": [
    {
     "data": {
      "text/plain": [
       "True"
      ]
     },
     "execution_count": 121,
     "metadata": {},
     "output_type": "execute_result"
    }
   ],
   "source": [
    "#排序\n",
    "sht.range('C2').api.Sort(Key1=sht.range(\"C2\").api, Order1=2)"
   ]
  },
  {
   "cell_type": "code",
   "execution_count": 107,
   "metadata": {
    "scrolled": true
   },
   "outputs": [
    {
     "data": {
      "text/plain": [
       "True"
      ]
     },
     "execution_count": 107,
     "metadata": {},
     "output_type": "execute_result"
    }
   ],
   "source": [
    "sht.range('A2:I1234').api.Sort(Key1=sht.range(\"C2\").api, Order1=2,\n",
    "                         Key2=sht.range(\"D2\").api, Order2=1,\n",
    "                         Key3=sht.range(\"E2\").api, Order3=1,\n",
    "                         Header=\"xlYes\") "
   ]
  },
  {
   "cell_type": "code",
   "execution_count": null,
   "metadata": {},
   "outputs": [],
   "source": []
  },
  {
   "cell_type": "code",
   "execution_count": null,
   "metadata": {},
   "outputs": [],
   "source": [
    "DA"
   ]
  },
  {
   "cell_type": "markdown",
   "metadata": {},
   "source": [
    "# 公式下拉\n",
    "在第一個單元格中插入公式後，在常規的Excel工作流中，第二個特性是通過表的末尾自動填充其餘單元格。"
   ]
  },
  {
   "cell_type": "markdown",
   "metadata": {},
   "source": [
    "### 法一：用迴圈\n",
    "缺點：1.要到哪一列得自己設定 2.公式不會留著會被貼上值"
   ]
  },
  {
   "cell_type": "code",
   "execution_count": 21,
   "metadata": {},
   "outputs": [],
   "source": [
    "import xlwings as xw\n",
    "\n",
    "wb = xw.Book(r'C:\\Users\\11004076\\Documents\\Python Scripts\\4_Automation\\Book1.xlsx')\n",
    "sheet1 = wb.sheets['Sheet1']\n",
    "\n",
    "for i in range(3, 100):   \n",
    "    price_today = sheet1.cells(i, \"B\").value  # 到 B 欄截取今日收盤價\n",
    "    price_yesterday = sheet1.cells(i-1, \"B\").value  # 到 B 欄截取迭代到的上一個 row, 也就是昨日收盤價\n",
    "    daily_return = (price_today - price_yesterday) / price_yesterday  # 算出該筆資料的日報酬率了   \n",
    "    sheet1.cells(i, \"C\").value = daily_return   # 最後再將算出的日報酬率寫入同一列，欄為 C 的儲存格"
   ]
  },
  {
   "cell_type": "markdown",
   "metadata": {},
   "source": [
    "### 法二：Autofill\n",
    "在第一個單元格中插入公式後，在常規的Excel工作流中，第二個特性是通過表的末尾自動填充其餘單元格。\n",
    "Autofill是VBA Range對象的一個方法。它接受兩個參數，即一個將目標單元格作為參數的VBA Range對象和填充類型。\n",
    "我們感興趣的是枚舉為0的默認值。"
   ]
  },
  {
   "cell_type": "code",
   "execution_count": 7,
   "metadata": {},
   "outputs": [
    {
     "data": {
      "text/plain": [
       "True"
      ]
     },
     "execution_count": 7,
     "metadata": {},
     "output_type": "execute_result"
    }
   ],
   "source": [
    "import xlwings as xw\n",
    "\n",
    "wb = xw.Book(r'C:\\Users\\11004076\\Documents\\Python Scripts\\4_Automation\\Book1.xlsx')\n",
    "sheet2 = wb.sheets['Sheet2']\n",
    "\n",
    "sheet2.range(\"C3\").value = \"=(B3-B2)/B2\"\n",
    "\n",
    "sheet2.range(\"C3\").api.AutoFill(\n",
    "    sheet2.range(\"C3:C{row}\".format(row=sheet2.range(\"B1\").end('down').row)).api,\n",
    "    0\n",
    ")"
   ]
  },
  {
   "cell_type": "markdown",
   "metadata": {},
   "source": [
    "# 實例:Euromillions Data"
   ]
  },
  {
   "cell_type": "code",
   "execution_count": 21,
   "metadata": {},
   "outputs": [
    {
     "data": {
      "text/html": [
       "<div>\n",
       "<style scoped>\n",
       "    .dataframe tbody tr th:only-of-type {\n",
       "        vertical-align: middle;\n",
       "    }\n",
       "\n",
       "    .dataframe tbody tr th {\n",
       "        vertical-align: top;\n",
       "    }\n",
       "\n",
       "    .dataframe thead th {\n",
       "        text-align: right;\n",
       "    }\n",
       "</style>\n",
       "<table border=\"1\" class=\"dataframe\">\n",
       "  <thead>\n",
       "    <tr style=\"text-align: right;\">\n",
       "      <th></th>\n",
       "      <th>No.</th>\n",
       "      <th>Day</th>\n",
       "      <th>DD</th>\n",
       "      <th>MMM</th>\n",
       "      <th>YYYY</th>\n",
       "      <th>N1</th>\n",
       "      <th>N2</th>\n",
       "      <th>N3</th>\n",
       "      <th>N4</th>\n",
       "      <th>N5</th>\n",
       "      <th>L1</th>\n",
       "      <th>L2</th>\n",
       "      <th>Jackpot</th>\n",
       "      <th>Wins</th>\n",
       "    </tr>\n",
       "  </thead>\n",
       "  <tbody>\n",
       "    <tr>\n",
       "      <th>942</th>\n",
       "      <td>310</td>\n",
       "      <td>Fri</td>\n",
       "      <td>15</td>\n",
       "      <td>Jan</td>\n",
       "      <td>2010</td>\n",
       "      <td>49</td>\n",
       "      <td>50</td>\n",
       "      <td>26</td>\n",
       "      <td>29</td>\n",
       "      <td>11</td>\n",
       "      <td>4</td>\n",
       "      <td>7</td>\n",
       "      <td>26151124</td>\n",
       "      <td>2</td>\n",
       "    </tr>\n",
       "    <tr>\n",
       "      <th>1033</th>\n",
       "      <td>219</td>\n",
       "      <td>Fri</td>\n",
       "      <td>18</td>\n",
       "      <td>Apr</td>\n",
       "      <td>2008</td>\n",
       "      <td>27</td>\n",
       "      <td>6</td>\n",
       "      <td>7</td>\n",
       "      <td>50</td>\n",
       "      <td>3</td>\n",
       "      <td>5</td>\n",
       "      <td>9</td>\n",
       "      <td>46291408</td>\n",
       "      <td>1</td>\n",
       "    </tr>\n",
       "    <tr>\n",
       "      <th>1205</th>\n",
       "      <td>47</td>\n",
       "      <td>Fri</td>\n",
       "      <td>31</td>\n",
       "      <td>Dec</td>\n",
       "      <td>2004</td>\n",
       "      <td>8</td>\n",
       "      <td>7</td>\n",
       "      <td>47</td>\n",
       "      <td>25</td>\n",
       "      <td>24</td>\n",
       "      <td>8</td>\n",
       "      <td>9</td>\n",
       "      <td>7074000</td>\n",
       "      <td>0</td>\n",
       "    </tr>\n",
       "    <tr>\n",
       "      <th>57</th>\n",
       "      <td>1195</td>\n",
       "      <td>Tue</td>\n",
       "      <td>5</td>\n",
       "      <td>Mar</td>\n",
       "      <td>2019</td>\n",
       "      <td>16</td>\n",
       "      <td>10</td>\n",
       "      <td>46</td>\n",
       "      <td>39</td>\n",
       "      <td>6</td>\n",
       "      <td>8</td>\n",
       "      <td>11</td>\n",
       "      <td>43294160</td>\n",
       "      <td>0</td>\n",
       "    </tr>\n",
       "    <tr>\n",
       "      <th>957</th>\n",
       "      <td>295</td>\n",
       "      <td>Fri</td>\n",
       "      <td>2</td>\n",
       "      <td>Oct</td>\n",
       "      <td>2009</td>\n",
       "      <td>44</td>\n",
       "      <td>29</td>\n",
       "      <td>24</td>\n",
       "      <td>23</td>\n",
       "      <td>22</td>\n",
       "      <td>5</td>\n",
       "      <td>1</td>\n",
       "      <td>13764000</td>\n",
       "      <td>0</td>\n",
       "    </tr>\n",
       "  </tbody>\n",
       "</table>\n",
       "</div>"
      ],
      "text/plain": [
       "       No.   Day  DD  MMM  YYYY   N1  N2  N3  N4  N5  L1  L2    Jackpot  \\\n",
       "942    310   Fri  15  Jan  2010   49  50  26  29  11   4   7   26151124   \n",
       "1033   219   Fri  18  Apr  2008   27   6   7  50   3   5   9   46291408   \n",
       "1205    47   Fri  31  Dec  2004    8   7  47  25  24   8   9    7074000   \n",
       "57    1195   Tue   5  Mar  2019   16  10  46  39   6   8  11   43294160   \n",
       "957    295   Fri   2  Oct  2009   44  29  24  23  22   5   1   13764000   \n",
       "\n",
       "         Wins  \n",
       "942         2  \n",
       "1033        1  \n",
       "1205        0  \n",
       "57          0  \n",
       "957         0  "
      ]
     },
     "execution_count": 21,
     "metadata": {},
     "output_type": "execute_result"
    }
   ],
   "source": [
    "import pandas as pd\n",
    "import xlwings as xw\n",
    "df = pd.read_csv('euromillions.csv')\n",
    "df.sample(5)"
   ]
  },
  {
   "cell_type": "code",
   "execution_count": 2,
   "metadata": {},
   "outputs": [],
   "source": [
    "wb = xw.Book()\n",
    "ws = wb.sheets[\"Sheet1\"]\n",
    "ws.name = \"EuroMillions\"  #改表名\n",
    "ws.range(\"A1\").options(index=False).value = df  #將df的資料複製到\"A1\"不帶索引的數據"
   ]
  },
  {
   "cell_type": "code",
   "execution_count": 8,
   "metadata": {
    "scrolled": true
   },
   "outputs": [
    {
     "name": "stdout",
     "output_type": "stream",
     "text": [
      "The last row is 1253.\n",
      "The DataFrame df has 1252 rows.\n"
     ]
    }
   ],
   "source": [
    "last_row = ws.range(1,1).end('down').row\n",
    "print(\"The last row is {row}.\".format(row=last_row))\n",
    "\n",
    "df.shape  #(1252, 14)\n",
    "df.shape[0]   #1252 df中的列數(不含標題，所以會比上法少1)\n",
    "df.shape[1]   #14   df中的欄數\n",
    "print(\"The DataFrame df has {rows} rows.\".format(rows=df.shape[0]))"
   ]
  },
  {
   "cell_type": "markdown",
   "metadata": {},
   "source": [
    "### 排序"
   ]
  },
  {
   "cell_type": "code",
   "execution_count": 9,
   "metadata": {},
   "outputs": [
    {
     "data": {
      "text/plain": [
       "True"
      ]
     },
     "execution_count": 9,
     "metadata": {},
     "output_type": "execute_result"
    }
   ],
   "source": [
    "#照A欄排序(升序)\n",
    "ws.range(\n",
    "\"A2:N{row}\".format(row=last_row)\n",
    ").api.Sort(Key1=ws.range(\"A:A\").api, Order1=1)"
   ]
  },
  {
   "cell_type": "code",
   "execution_count": 10,
   "metadata": {},
   "outputs": [],
   "source": [
    "ws.range(\"O1\").value = \"Date\"\n",
    "ws.range(\"O2\").value = \"=C2&D2&RIGHT(E2, 2)\" #寫入excel公式"
   ]
  },
  {
   "cell_type": "markdown",
   "metadata": {},
   "source": [
    "### 公式向下填滿"
   ]
  },
  {
   "cell_type": "code",
   "execution_count": 11,
   "metadata": {},
   "outputs": [
    {
     "data": {
      "text/plain": [
       "True"
      ]
     },
     "execution_count": 11,
     "metadata": {},
     "output_type": "execute_result"
    }
   ],
   "source": [
    "\n",
    "ws.range(\"O2\").api.AutoFill(\n",
    "ws.range(\"O2:O{row}\".format(row=last_row)).api,\n",
    "0\n",
    ")"
   ]
  },
  {
   "cell_type": "code",
   "execution_count": null,
   "metadata": {},
   "outputs": [],
   "source": [
    "我們還可以使用所需填充類型的命名形式。為此，我們需要從模塊xlwings.constants中檢索它，該模塊包含大多數VBA屬性的枚舉參數的命名版本。\n",
    "您可以經常通過列印dir(AutoFillType)來檢查可用的屬性。"
   ]
  },
  {
   "cell_type": "code",
   "execution_count": 23,
   "metadata": {
    "collapsed": true
   },
   "outputs": [
    {
     "data": {
      "text/plain": [
       "['__class__',\n",
       " '__delattr__',\n",
       " '__dict__',\n",
       " '__dir__',\n",
       " '__doc__',\n",
       " '__eq__',\n",
       " '__format__',\n",
       " '__ge__',\n",
       " '__getattribute__',\n",
       " '__gt__',\n",
       " '__hash__',\n",
       " '__init__',\n",
       " '__init_subclass__',\n",
       " '__le__',\n",
       " '__lt__',\n",
       " '__module__',\n",
       " '__ne__',\n",
       " '__new__',\n",
       " '__reduce__',\n",
       " '__reduce_ex__',\n",
       " '__repr__',\n",
       " '__setattr__',\n",
       " '__sizeof__',\n",
       " '__str__',\n",
       " '__subclasshook__',\n",
       " '__weakref__',\n",
       " 'xlFillCopy',\n",
       " 'xlFillDays',\n",
       " 'xlFillDefault',\n",
       " 'xlFillFormats',\n",
       " 'xlFillMonths',\n",
       " 'xlFillSeries',\n",
       " 'xlFillValues',\n",
       " 'xlFillWeekdays',\n",
       " 'xlFillYears',\n",
       " 'xlGrowthTrend',\n",
       " 'xlLinearTrend']"
      ]
     },
     "execution_count": 23,
     "metadata": {},
     "output_type": "execute_result"
    }
   ],
   "source": [
    "dir(AutoFillType)"
   ]
  },
  {
   "cell_type": "code",
   "execution_count": null,
   "metadata": {},
   "outputs": [],
   "source": [
    "我們在上面所做的也可以通過下面的代碼片段來實現。"
   ]
  },
  {
   "cell_type": "code",
   "execution_count": 24,
   "metadata": {
    "scrolled": false
   },
   "outputs": [
    {
     "data": {
      "text/plain": [
       "True"
      ]
     },
     "execution_count": 24,
     "metadata": {},
     "output_type": "execute_result"
    }
   ],
   "source": [
    "#公式向下填滿\n",
    "from xlwings.constants import AutoFillType\n",
    "ws.range(\"O2\").api.AutoFill(\n",
    "ws.range(\"O2:O{row}\".format(row=last_row)).api,\n",
    "    AutoFillType.xlFillDefault\n",
    ")"
   ]
  },
  {
   "cell_type": "markdown",
   "metadata": {},
   "source": [
    "### get_address\n",
    "get_address的Range方法。它接受四個布林參數並返回一個字符串，<br>\n",
    "該字符串標識不同詳細級別的範圍。"
   ]
  },
  {
   "cell_type": "code",
   "execution_count": 65,
   "metadata": {},
   "outputs": [
    {
     "name": "stdout",
     "output_type": "stream",
     "text": [
      "O2\n",
      "O2\n",
      "O$2\n",
      "$O2\n",
      "$O$2\n",
      "EuroMillions!$O$2\n",
      "[Book1]EuroMillions!$O$2\n",
      "O\n",
      "2\n",
      "12\n"
     ]
    }
   ],
   "source": [
    "print( ws.range(\"O2\").get_address(0,0) )\n",
    "print( ws.range(\"O2\").get_address(0,0,0,0) )\n",
    "print( ws.range(\"O2\").get_address(1,0,0,0) )\n",
    "print( ws.range(\"O2\").get_address(0,1,0,0) )\n",
    "print( ws.range(\"O2\").get_address(1,1,0,0) )\n",
    "print( ws.range(\"O2\").get_address(1,1,1,0) )\n",
    "print( ws.range(\"O2\").get_address(1,1,1,1) )\n",
    "print( ws.range(\"O2\").get_address(0,0)[0] )\n",
    "print( ws.range(\"O2\").get_address(0,0)[1] )\n",
    "print( ws.range(\"O12\").get_address(0,0)[1:] )"
   ]
  },
  {
   "cell_type": "markdown",
   "metadata": {},
   "source": [
    "### 自行定義autofill函數\n",
    "由於我們將經常使用這個操作，我們將創建一個向下填滿函數，給定:<br>\n",
    "(一個工作表，要被填滿的儲存格，一個需要填充的末尾行)"
   ]
  },
  {
   "cell_type": "code",
   "execution_count": 60,
   "metadata": {},
   "outputs": [],
   "source": [
    "def autofill(worksheet, cell, last_row):\n",
    "   rg_cell = worksheet.range(cell)\n",
    "   to_fill = \"{col}{top_row}:{col}{last_row}\".format(\n",
    "      col=rg_cell.get_address(0,0)[0],  #取得欄位的英文(ex:A欄的\"A\")\n",
    "      top_row=rg_cell.row,  #取得輸入儲存格(cell)的列數\n",
    "      last_row=last_row  #自行輸入的數值\n",
    "   )\n",
    "   rg_cell.api.Autofill(worksheet.range(to_fill).api, 0)"
   ]
  },
  {
   "cell_type": "markdown",
   "metadata": {},
   "source": [
    "### 貼上值\n",
    "為了避免Excel進行不必要的計算，我們將貼上值替換剛才插入到列O中的公式。<br>\n",
    "由於直接貼上會是水平放置，需要改成垂直放置，使用transpose=True"
   ]
  },
  {
   "cell_type": "code",
   "execution_count": 61,
   "metadata": {},
   "outputs": [],
   "source": [
    "ws.range('O2').options(transpose=True).value = ws.range('O2:O{row}'.format(row=last_row)).value"
   ]
  },
  {
   "cell_type": "code",
   "execution_count": null,
   "metadata": {},
   "outputs": [],
   "source": [
    "貼上值後，我們可以刪除列C到E，也不會更動公式。"
   ]
  },
  {
   "cell_type": "code",
   "execution_count": 62,
   "metadata": {
    "scrolled": true
   },
   "outputs": [
    {
     "data": {
      "text/plain": [
       "True"
      ]
     },
     "execution_count": 62,
     "metadata": {},
     "output_type": "execute_result"
    }
   ],
   "source": [
    "ws.range('C:E').api.Delete()"
   ]
  },
  {
   "cell_type": "markdown",
   "metadata": {},
   "source": [
    "### 刪除不需要的資料"
   ]
  },
  {
   "cell_type": "code",
   "execution_count": null,
   "metadata": {},
   "outputs": [],
   "source": [
    "EuroMillions格式多年來經歷了一些溫和的修改，最後一次修改是在2016年9月24日。\n",
    "\n",
    "從2016年9月24日起，幸運星的數量從11個數字變為12個數字。為了進行有意義的分析，我們只考慮在最後修改之後進行的抽獎。\n",
    "下一個代碼片段將查找修改之前的最後一次抽獎，並將其命名為to_delete。"
   ]
  },
  {
   "cell_type": "code",
   "execution_count": 92,
   "metadata": {},
   "outputs": [],
   "source": [
    "import datetime\n",
    "\n",
    "for day in ws.range('L2:L{}'.format(last_row)):  #一個一個檢查日期\n",
    "    if day.value > datetime.datetime(2016, 9, 24, 0, 0): #是否在更改規則之前\n",
    "        to_delete = int(day.get_address(0, 0)[1:])-1  #我們想要的列是前一列，因此減去1        \n",
    "        break  # leave the for cycle"
   ]
  },
  {
   "cell_type": "code",
   "execution_count": 93,
   "metadata": {},
   "outputs": [
    {
     "data": {
      "text/plain": [
       "941"
      ]
     },
     "execution_count": 93,
     "metadata": {},
     "output_type": "execute_result"
    }
   ],
   "source": [
    "to_delete  #No.照排序，940後的日期大於2016/9/24"
   ]
  },
  {
   "cell_type": "code",
   "execution_count": null,
   "metadata": {},
   "outputs": [],
   "source": [
    "我們現在可以刪除從第一次抽獎到to_delete的每一行。"
   ]
  },
  {
   "cell_type": "code",
   "execution_count": 94,
   "metadata": {},
   "outputs": [
    {
     "data": {
      "text/plain": [
       "True"
      ]
     },
     "execution_count": 94,
     "metadata": {},
     "output_type": "execute_result"
    }
   ],
   "source": [
    "ws.range('2:{}'.format(to_delete)).api.Delete()"
   ]
  },
  {
   "cell_type": "markdown",
   "metadata": {},
   "source": [
    "### 格式化"
   ]
  },
  {
   "cell_type": "markdown",
   "metadata": {},
   "source": [
    "#### 將第一行的字體設置為粗體。"
   ]
  },
  {
   "cell_type": "code",
   "execution_count": 95,
   "metadata": {},
   "outputs": [],
   "source": [
    "ws.range('1:1').api.Font.Bold = True"
   ]
  },
  {
   "cell_type": "markdown",
   "metadata": {},
   "source": [
    "#### 自訂數值格式"
   ]
  },
  {
   "cell_type": "code",
   "execution_count": 96,
   "metadata": {},
   "outputs": [],
   "source": [
    "ws.range('J:J').number_format = \"#!.0,萬\""
   ]
  },
  {
   "cell_type": "markdown",
   "metadata": {},
   "source": [
    "#### 框線"
   ]
  },
  {
   "cell_type": "code",
   "execution_count": 97,
   "metadata": {},
   "outputs": [],
   "source": [
    "last_column = ws.range(1,1).end('right').get_address(0,0)[0]  #作為後續工作的輔助步驟，我們將找到與最後一列數據對應的字母。 #L\n",
    "\n",
    "ws.range('A1:{}1'.format(last_column)).api.Borders(9).LineStyle = -4119  #一個雙邊邊框(行樣式-4119，對齊方式9)。"
   ]
  },
  {
   "cell_type": "markdown",
   "metadata": {},
   "source": [
    "#### 自動調整長寬"
   ]
  },
  {
   "cell_type": "code",
   "execution_count": 99,
   "metadata": {},
   "outputs": [],
   "source": [
    "ws.autofit()  #現在讓我們對行和列進行自動調整。\n",
    "\n",
    "#哎呦!這看起來有點壓扁了"
   ]
  },
  {
   "cell_type": "code",
   "execution_count": 100,
   "metadata": {},
   "outputs": [],
   "source": [
    "#讓我們設置所有列的寬度為J列的寬度，這似乎是最大的值。\n",
    "ws.range('A:L').api.ColumnWidth = ws.range('J:J').api.ColumnWidth"
   ]
  },
  {
   "cell_type": "markdown",
   "metadata": {},
   "source": [
    "### 建新工作表"
   ]
  },
  {
   "cell_type": "code",
   "execution_count": null,
   "metadata": {},
   "outputs": [],
   "source": [
    "讓我們add一個名為Frequencies的新空白工作表，並將其分配給Python變量frequencies。"
   ]
  },
  {
   "cell_type": "code",
   "execution_count": 101,
   "metadata": {},
   "outputs": [],
   "source": [
    "wb.sheets.add('Frequencies')\n",
    "frequencies = wb.sheets['Frequencies']"
   ]
  },
  {
   "cell_type": "code",
   "execution_count": null,
   "metadata": {},
   "outputs": [],
   "source": [
    "我們將在這個工作表中填入我們剛剛在EuroMillions工作表中處理過的數據集中每個數字和每個幸運星的絕對頻率。"
   ]
  },
  {
   "cell_type": "code",
   "execution_count": 102,
   "metadata": {},
   "outputs": [],
   "source": [
    "frequencies.range('A1').value = 'Number'   # 加欄名\n",
    "frequencies.range('A2:A51').value = '=ROW()-1'  #公式:當前列數-1→製造序列"
   ]
  },
  {
   "cell_type": "code",
   "execution_count": null,
   "metadata": {},
   "outputs": [],
   "source": [
    "下面，我們將為單元格B1中的頻率插入一個header，在單元格B2中，我們將輸入一個公式，計算A2中的值在C2:G201範圍內出現的次數。\n",
    "換句話說，我們將計算1在N1-N5列中出現的次數。在此之後，我們將自動填充B列上的其餘單元格，以對它們各自的行執行相同的操作。"
   ]
  },
  {
   "cell_type": "code",
   "execution_count": 103,
   "metadata": {},
   "outputs": [],
   "source": [
    "frequencies.range('B1').value = 'Frequency'  # 加欄名\n",
    "frequencies.range('B2').value = '=COUNTIF(Euromillions!$C$2:$G$201,Frequencies!A2)'\n",
    "autofill(frequencies, 'B2', 51)  #向下填滿公式:前面的def function"
   ]
  },
  {
   "cell_type": "code",
   "execution_count": null,
   "metadata": {},
   "outputs": [],
   "source": [
    "我們對幸運星也執行同樣的操作:"
   ]
  },
  {
   "cell_type": "code",
   "execution_count": 104,
   "metadata": {},
   "outputs": [],
   "source": [
    "frequencies.range('D1').value = 'Lucky Star'\n",
    "frequencies.range('E1').value = 'Frequency'\n",
    "frequencies.range('D2:D13').value = '=ROW()-1'\n",
    "frequencies.range('E2').value = '=COUNTIF(EuroMillions!$H$2:$I$201,Frequencies!D2)'\n",
    "autofill(frequencies, 'E2', 13)\n",
    "frequencies.autofit()"
   ]
  },
  {
   "cell_type": "markdown",
   "metadata": {},
   "source": [
    "### 圖表"
   ]
  },
  {
   "cell_type": "code",
   "execution_count": null,
   "metadata": {},
   "outputs": [],
   "source": [
    "創建一個名為Graphs的工作表。"
   ]
  },
  {
   "cell_type": "code",
   "execution_count": 105,
   "metadata": {},
   "outputs": [],
   "source": [
    "wb.sheets.add('Graphs')\n",
    "graphs = wb.sheets['Graphs']"
   ]
  },
  {
   "cell_type": "code",
   "execution_count": null,
   "metadata": {},
   "outputs": [],
   "source": [
    "創建一個Chart對象。這只會產生一個空白的白框，我們稍後會用這個方框來圖表化我們的數據。"
   ]
  },
  {
   "cell_type": "code",
   "execution_count": 106,
   "metadata": {},
   "outputs": [],
   "source": [
    "nr_freq = xw.Chart()"
   ]
  },
  {
   "cell_type": "code",
   "execution_count": 107,
   "metadata": {},
   "outputs": [],
   "source": [
    "nr_freq.name = 'Number Frequencies'   #我們可以像name工作表一樣來命名圖表\n",
    "nr_freq.set_source_data(frequencies.range('Frequencies!B1:B51'))  \n",
    "#方法set_source_data允許我們通過傳入一個範圍對象來定義我們圖表的數據源。\n",
    "#Excel將嘗試猜測x軸應該是什麼"
   ]
  },
  {
   "cell_type": "code",
   "execution_count": 109,
   "metadata": {},
   "outputs": [],
   "source": [
    "#設定X軸數列\n",
    "nr_freq.api[1].SeriesCollection(1).XValues = '=Frequencies!A2:A51'"
   ]
  },
  {
   "cell_type": "code",
   "execution_count": 110,
   "metadata": {},
   "outputs": [],
   "source": [
    "nr_freq.chart_type = 'column_clustered'  #Excel非常擅長猜測用戶想要什麼樣的圖表，但是為了防止它猜錯，我們將強制它成為柱狀圖。"
   ]
  },
  {
   "cell_type": "code",
   "execution_count": 121,
   "metadata": {},
   "outputs": [],
   "source": [
    "#現在我們將定義圖表的高度和寬度。度量單位為points。\n",
    "nr_freq.height = 250\n",
    "nr_freq.width = 750"
   ]
  },
  {
   "cell_type": "code",
   "execution_count": 113,
   "metadata": {},
   "outputs": [],
   "source": [
    "nr_freq.api[1].SetElement(2)  # 設置圖表上方的標題\n",
    "nr_freq.api[1].ChartTitle.Text = 'Number Frequencies'"
   ]
  },
  {
   "cell_type": "code",
   "execution_count": 114,
   "metadata": {},
   "outputs": [],
   "source": [
    "nr_freq.api[1].HasLegend = 0  #使用HasLegend屬性刪除圖例。"
   ]
  },
  {
   "cell_type": "code",
   "execution_count": null,
   "metadata": {},
   "outputs": [],
   "source": [
    "我們將xlCategory類別作為參數1傳入給Axes方法，並將TickLabelSpacing屬性設置為1，這確保了圖表軸上的每個元素都被顯示。"
   ]
  },
  {
   "cell_type": "code",
   "execution_count": 115,
   "metadata": {},
   "outputs": [],
   "source": [
    "nr_freq.api[1].Axes(1).TickLabelSpacing = 1"
   ]
  },
  {
   "cell_type": "code",
   "execution_count": null,
   "metadata": {},
   "outputs": [],
   "source": [
    "為了完成對這個圖表的格式化，我們通過"
   ]
  },
  {
   "cell_type": "code",
   "execution_count": 116,
   "metadata": {},
   "outputs": [],
   "source": [
    "graphs.shapes.api('Number Frequencies').Line.Visible = 0  #將Line對象的Visible屬性設置為0來刪除邊線。"
   ]
  },
  {
   "cell_type": "code",
   "execution_count": null,
   "metadata": {},
   "outputs": [],
   "source": [
    "下面我們對幸運星也做了幾乎同樣的事情。"
   ]
  },
  {
   "cell_type": "code",
   "execution_count": 117,
   "metadata": {},
   "outputs": [],
   "source": [
    "ls_freq = xw.Chart()\n",
    "ls_freq.top = 250\n",
    "ls_freq.name = 'Lucky Star Frequencies'\n",
    "ls_freq.set_source_data(frequencies.range('Frequencies!E1:E13'))\n",
    "ls_freq.api[1].SeriesCollection(1).XValues = '=Frequencies!D2:D13' \n",
    "ls_freq.chart_type = 'column_clustered'\n",
    "ls_freq.height = 250\n",
    "ls_freq.width = 750\n",
    "ls_freq.api[1].SetElement(2)\n",
    "ls_freq.api[1].ChartTitle.Text = 'Lucky Star Frequencies'\n",
    "ls_freq.api[1].HasLegend = 0\n",
    "ls_freq.api[1].Axes(1).TickLabelSpacing = 1\n",
    "graphs.shapes.api('Lucky Star Frequencies').Line.Visible = 0"
   ]
  },
  {
   "cell_type": "code",
   "execution_count": null,
   "metadata": {},
   "outputs": [],
   "source": [
    "最後，我們創建了一個顯示jackpot演變的時間序列圖。"
   ]
  },
  {
   "cell_type": "code",
   "execution_count": 118,
   "metadata": {},
   "outputs": [],
   "source": [
    "jackpot = xw.Chart()\n",
    "jackpot.top = 500\n",
    "jackpot.name = 'Jackpot'\n",
    "last_row = ws.range(1,1).end('down').row\n",
    "jackpot.set_source_data(ws.range('Euromillions!J2:J{}'.format(last_row)))\n",
    "#jackpot.api[1].FullSeriesCollection(1).XValues= 'Euromillions!L2:L{}'.format(last_row)   #這串會Error\n",
    "jackpot.chart_type = 'line'\n",
    "jackpot.height = 250\n",
    "jackpot.width = 750\n",
    "jackpot.api[1].SetElement(2)\n",
    "jackpot.api[1].ChartTitle.Text = 'Jackpot'\n",
    "jackpot.api[1].HasLegend = 0\n",
    "graphs.shapes.api('Jackpot').Line.Visible = 0"
   ]
  },
  {
   "cell_type": "code",
   "execution_count": null,
   "metadata": {},
   "outputs": [],
   "source": [
    "我們通過將TickLabels的NumberForma屬性設置為期望的外觀來修復垂直軸「labels」的格式。"
   ]
  },
  {
   "cell_type": "code",
   "execution_count": 119,
   "metadata": {},
   "outputs": [],
   "source": [
    "jackpot.api[1].Axes(2).TickLabels.NumberFormat = \"#,萬\""
   ]
  }
 ],
 "metadata": {
  "kernelspec": {
   "display_name": "Python 3",
   "language": "python",
   "name": "python3"
  },
  "language_info": {
   "codemirror_mode": {
    "name": "ipython",
    "version": 3
   },
   "file_extension": ".py",
   "mimetype": "text/x-python",
   "name": "python",
   "nbconvert_exporter": "python",
   "pygments_lexer": "ipython3",
   "version": "3.7.1"
  }
 },
 "nbformat": 4,
 "nbformat_minor": 2
}
