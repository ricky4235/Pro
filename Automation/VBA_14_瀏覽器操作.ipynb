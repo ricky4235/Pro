{
 "cells": [
  {
   "cell_type": "code",
   "execution_count": null,
   "metadata": {},
   "outputs": [],
   "source": [
    "VBA_14_瀏覽器操作"
   ]
  },
  {
   "cell_type": "code",
   "execution_count": null,
   "metadata": {},
   "outputs": [],
   "source": [
    "excel VBA調用瀏覽器打開指定網頁的幾種方法"
   ]
  },
  {
   "cell_type": "code",
   "execution_count": null,
   "metadata": {},
   "outputs": [],
   "source": [
    "方法一：用“FollowHyperlink”方法："
   ]
  },
  {
   "cell_type": "code",
   "execution_count": null,
   "metadata": {},
   "outputs": [],
   "source": [
    "Sub OpenWebPage2()\n",
    "ActiveWorkbook.FollowHyperlink Address:=\"http://172.16.252.22:8083/jde/E1Menu.maf?jdeowpBackButtonProtect=PROTECTED\", NewWindow:=True\n",
    "'注意網址中要包含“http://”\n",
    "End Sub"
   ]
  },
  {
   "cell_type": "code",
   "execution_count": null,
   "metadata": {},
   "outputs": [],
   "source": [
    "方法二：用“InternetExplorer”對象"
   ]
  },
  {
   "cell_type": "code",
   "execution_count": null,
   "metadata": {},
   "outputs": [],
   "source": [
    "Sub OpenWebPage3()\n",
    "Dim IE As Object\n",
    "Set IE = CreateObject(\"InternetExplorer.Application\")\n",
    "IE.Visible = True\n",
    "IE.Navigate (\"http://172.16.252.22:8083/jde/E1Menu.maf?jdeowpBackButtonProtect=PROTECTED\")\n",
    "End Sub"
   ]
  },
  {
   "cell_type": "code",
   "execution_count": null,
   "metadata": {},
   "outputs": [],
   "source": [
    "方法三: 用Shell語句\n",
    "\n",
    "'這個方法可以用指定的瀏覽器打開某個網頁。例如調用IE打開網址“www.zhixing123.cn”"
   ]
  },
  {
   "cell_type": "code",
   "execution_count": null,
   "metadata": {},
   "outputs": [],
   "source": [
    "Sub OpenWebPage4()\n",
    "Dim url As String\n",
    "url = \"http://172.16.252.22:8083/jde/E1Menu.maf?jdeowpBackButtonProtect=PROTECTED\"\n",
    "Shell \"C:\\Program Files (x86)\\Internet Explorer\\IEXPLORE.EXE \" & url, vbNormalFocus\n",
    "\n",
    "\n",
    "End Sub"
   ]
  },
  {
   "cell_type": "code",
   "execution_count": null,
   "metadata": {},
   "outputs": [],
   "source": []
  },
  {
   "cell_type": "code",
   "execution_count": null,
   "metadata": {},
   "outputs": [],
   "source": []
  },
  {
   "cell_type": "code",
   "execution_count": null,
   "metadata": {},
   "outputs": [],
   "source": []
  }
 ],
 "metadata": {
  "kernelspec": {
   "display_name": "Python 3",
   "language": "python",
   "name": "python3"
  },
  "language_info": {
   "codemirror_mode": {
    "name": "ipython",
    "version": 3
   },
   "file_extension": ".py",
   "mimetype": "text/x-python",
   "name": "python",
   "nbconvert_exporter": "python",
   "pygments_lexer": "ipython3",
   "version": "3.7.1"
  }
 },
 "nbformat": 4,
 "nbformat_minor": 2
}
