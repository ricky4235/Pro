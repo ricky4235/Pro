{
 "cells": [
  {
   "cell_type": "code",
   "execution_count": null,
   "metadata": {},
   "outputs": [],
   "source": [
    "VBA_13_錄製巨集"
   ]
  },
  {
   "cell_type": "code",
   "execution_count": null,
   "metadata": {},
   "outputs": [],
   "source": [
    "本篇介紹如何使用 Excel 的錄製巨集功能，將使用者的操作錄起來，自動產生 VBA 的指令稿。\n",
    "\n",
    "在 Excel 使用 VBA 開發自動化的程式時，難免會若遇到某些動作不知道該怎麼用 VBA 來撰寫，\n",
    "傳統的作法當然就是去翻官方的 API 文件，看看自己想要使用的功能是不是有出現在 API 中，\n",
    "但是這種做法是最標準的，但是卻很花力氣、更會浪費許多時間。\n",
    "\n",
    " \n",
    "其實 Excel 本身就有內建非常好用的「錄製巨集」功能，它可以將使用者在 Excel 中的任何動作都記錄下來，\n",
    "然後自動產生可重複使用的 VBA 的程式碼，善用這個功能可以大幅降低 VBA 程式設計者的負擔，\n",
    "也可以讓開發者輕易發掘各種意想不到的 VBA 撰寫方式，以下是 Excel 錄製巨集功能的使用方式。"
   ]
  },
  {
   "cell_type": "code",
   "execution_count": null,
   "metadata": {},
   "outputs": [],
   "source": [
    "Excel 錄製巨集\n",
    "Excel 的「錄製巨集」其實是一個功能強大，而且也很常被使用的工具（如果會用的話），\n",
    "所以 Excel 在視窗的左下角特別放置了一個錄製巨集按鈕，只不過可能很多人都沒注意到它。\n",
    "而在開發人員工具列中，也有一個同樣的錄製巨集按鈕，在使用時要按哪一個都可以。\n",
    "當我們想要錄製一連串繁雜的操作，或是想要產生一些不知道怎麼寫 VBA 程式的動作時，\n",
    "都可以使用錄製巨集功能，以下我們示範錄製巨集的操作步驟。"
   ]
  },
  {
   "cell_type": "code",
   "execution_count": null,
   "metadata": {},
   "outputs": [],
   "source": [
    "錄製變更日期格式巨集\n",
    "這裡我們示範錄製一小段變更日期格式的巨集，將變更日期格式的動作記錄起來，方便套用至其他的儲存格上。"
   ]
  },
  {
   "cell_type": "code",
   "execution_count": null,
   "metadata": {},
   "outputs": [],
   "source": [
    "STEP 1\n",
    "請先選擇好要處理的資料，準備好之後，再按下「錄製巨集按鈕」。\n",
    "\n",
    "STEP 2\n",
    "在使用者按下錄製巨集按鈕之後，就會出現這樣的錄製巨集視窗，輸入巨集名稱後，按下「確定」即可開始錄製巨集。\n",
    "\n",
    "STEP 3\n",
    "接下來使用者在 Excel 中所有的操作都會被記錄下來\n",
    "\n",
    "STEP 4\n",
    "將所有要記錄的動作都操作一遍之後，就按下「停止錄製巨集」的按鈕。\n",
    "\n",
    "STEP 5\n",
    "在「開發人員」工具列中，點選「巨集」按鈕。\n",
    "\n",
    "STEP 6\n",
    "選擇剛剛錄製的巨集後，點選「編輯」。\n",
    "\n",
    "STEP 7\n",
    "打開 VBA 程式碼編輯器之後，就可以看到剛剛錄製下來的 VBA 程式碼了。\n",
    "\n",
    "當錄製好巨集之後，我們就可以參考其中的 VBA 程式碼，把它改成自己可以用的版本。"
   ]
  },
  {
   "cell_type": "code",
   "execution_count": null,
   "metadata": {},
   "outputs": [],
   "source": []
  }
 ],
 "metadata": {
  "kernelspec": {
   "display_name": "Python 3",
   "language": "python",
   "name": "python3"
  },
  "language_info": {
   "codemirror_mode": {
    "name": "ipython",
    "version": 3
   },
   "file_extension": ".py",
   "mimetype": "text/x-python",
   "name": "python",
   "nbconvert_exporter": "python",
   "pygments_lexer": "ipython3",
   "version": "3.7.1"
  }
 },
 "nbformat": 4,
 "nbformat_minor": 2
}
