{
 "cells": [
  {
   "cell_type": "code",
   "execution_count": null,
   "metadata": {},
   "outputs": [],
   "source": [
    "VBA_4_條件判斷式，If Then、Else 與 Select Case"
   ]
  },
  {
   "cell_type": "code",
   "execution_count": null,
   "metadata": {},
   "outputs": [],
   "source": [
    "# If Then 與 Else"
   ]
  },
  {
   "cell_type": "code",
   "execution_count": null,
   "metadata": {},
   "outputs": [],
   "source": [
    "如果我們看完天氣預報之後，以降雨機率 60% 作為標準，超過這個值我們就帶傘出門，\n",
    "我們的判斷邏輯就會像這樣：\n",
    "\n",
    "如果 降雨機率 > 60% 則：\n",
    "帶雨傘出門\n",
    "否則：\n",
    "不用帶雨傘出門\n",
    "\n",
    "用 If Then 與 Else 把這個判斷邏輯寫成程式：\n",
    "\n",
    "Dim rainProb As Double\n",
    "rainProb = 0.3 ' 降雨機率\n",
    "If rainProb > 0.6  Then\n",
    "  MsgBox \"帶雨傘出門\"\n",
    "Else\n",
    "  MsgBox \"不用帶雨傘出門\"\n",
    "End If"
   ]
  },
  {
   "cell_type": "code",
   "execution_count": null,
   "metadata": {},
   "outputs": [],
   "source": [
    "如果我們的條件判斷邏輯不是二選一的時候，狀況就會稍微複雜一些，例如：\n",
    "\n",
    "如果 降雨機率 > 70% 則：\n",
    "帶雨傘出門\n",
    "如果 30% < 降雨機率 ≤ 70%\n",
    "丟銅板決定要不要帶雨傘\n",
    "否則：\n",
    "不用帶雨傘出門\n",
    "這時候我們可以再加入 ElseIf 這個判斷式：\n",
    "\n",
    "Dim rainProb As Double\n",
    "rainProb = 0.3 ' 降雨機率\n",
    "If rainProb > 0.7 Then\n",
    "  MsgBox \"帶雨傘出門\"\n",
    "ElseIf rainProb > 0.3 Then\n",
    "  MsgBox \"丟銅板決定要不要帶雨傘\"\n",
    "Else\n",
    "  MsgBox \"不用帶雨傘出門\"\n",
    "End If\n",
    "\n",
    "If Then 的條件判斷式在執行時只會選擇第一個符合的條件來執行，而且在判斷條件時是有順序性的，\n",
    "以這個例子來說，首先會判斷第一個 If 條件是否成立，如果成立的話就會執行對應的動作，\n",
    "然後其他的 ElseIf 就不會再繼續判斷或執行了。\n",
    "\n",
    "而如果第一個 If 不成立的話，才會繼續判斷 ElseIf 的條件，所以在這裡的 ElseIf 的條件中，\n",
    "雖然我們的判斷邏輯是 30% < 降雨機率 ≤ 70%，不過因為這是在第一個 If 不成立的狀況下才會執行的判斷，\n",
    "所以這時候的 rainProb 一定是會小於或等於 0.7，因此在這裡我們只需要寫另外一邊的判斷條件就夠了。\n",
    "\n",
    "我們可以在 If Then 的條件判斷中加入多個 ElseIf，程式在執行時會依照順序一個接著一個檢查每一個條件，\n",
    "找到符合的條件就會執行對應的動作，如果找到最後都沒有任何一個條件符合，就會執行 Else 的對應動作。"
   ]
  },
  {
   "cell_type": "code",
   "execution_count": null,
   "metadata": {},
   "outputs": [],
   "source": [
    "如果在條件不成立的時候，不需要執行任何動作，就可以把 Else 拿掉：\n",
    "\n",
    "Dim x As Integer\n",
    "x = 8\n",
    "If x > 5 Then\n",
    "  MsgBox \"x is greater than 5\"\n",
    "End If"
   ]
  },
  {
   "cell_type": "code",
   "execution_count": null,
   "metadata": {},
   "outputs": [],
   "source": [
    "我們也可以將多組 If Then 的條件判斷式組合在一起，變成巢狀的判斷結構，處理更複雜的問題。\n",
    "\n",
    "Dim rainProb As Double, trans As String\n",
    "rainProb = 0.7 ' 降雨機率\n",
    "trans = \"騎車\" ' 交通方式\n",
    "\n",
    "If rainProb > 0.6 Then\n",
    "  If trans = \"走路\" Then\n",
    "    MsgBox \"帶雨傘出門\"\n",
    "  ElseIf trans = \"騎車\" Then\n",
    "    MsgBox \"穿雨衣出門\"\n",
    "  Else\n",
    "    MsgBox \"開車嗎?\"\n",
    "  End If\n",
    "Else\n",
    "  MsgBox \"什麼都不用帶\"\n",
    "End If"
   ]
  },
  {
   "cell_type": "code",
   "execution_count": null,
   "metadata": {},
   "outputs": [],
   "source": [
    "# Select Case\n",
    "Select Case 的作用與 If Then 類似，不過它可以在判斷條件很多的時候，讓程式碼更簡潔。"
   ]
  },
  {
   "cell_type": "code",
   "execution_count": null,
   "metadata": {},
   "outputs": [],
   "source": [
    "我們先來看一個 If Then 的例子：\n",
    "\n",
    "Dim x As Integer\n",
    "x = 7\n",
    "If x <= 5 Then\n",
    "  MsgBox \"Case 1\"\n",
    "ElseIf x = 6 Or x = 8 Then\n",
    "  MsgBox \"Case 2\"\n",
    "ElseIf x = 7 Or x = 9 Then\n",
    "  MsgBox \"Case 3\"\n",
    "ElseIf x = 10 Then\n",
    "  MsgBox \"Case 4\"\n",
    "Else\n",
    "  MsgBox \"Case 5\"\n",
    "End If\n",
    "\n",
    "\n",
    "由於這個例子的判斷條件比較繁複，所以使用 If Then 的方式撰寫會有很多的 ElseIf，\n",
    "這種狀況的話就可以用 Select Case 改寫，這樣程式碼可以變簡單一些：\n",
    "\n",
    "Dim x As Integer\n",
    "x = 7\n",
    "Select Case x\n",
    "Case Is <= 5\n",
    "  MsgBox \"Case 1\"\n",
    "Case 6, 8\n",
    "  MsgBox \"Case 2\"\n",
    "Case 7, 9\n",
    "  MsgBox \"Case 3\"\n",
    "Case 10\n",
    "  MsgBox \"Case 4\"\n",
    "Case Else\n",
    "  MsgBox \"Case 5\"\n",
    "End Select\n",
    "\n",
    "這段 Select Case 版本的程式碼與上面 If Then 版本的程式碼兩者寫法不同，但是作用卻是完全一樣的，\n",
    "所以程式設計者可以依照自己的喜好與需求來選擇使用哪一種寫法。\n",
    "\n",
    "\n",
    " \n"
   ]
  },
  {
   "cell_type": "code",
   "execution_count": null,
   "metadata": {},
   "outputs": [],
   "source": [
    "應用實例\n",
    "以下是在 Excel 中使用 VBA 條件判斷式的一些實際的範例程式。\n",
    "\n",
    "Dim weight, height, bmi As Double\n",
    "height = Range(\"A2\").Value / 100\n",
    "weight = Range(\"B2\").Value\n",
    "bmi = weight / height ^ 2\n",
    "Select Case bmi\n",
    "Case Is < 18.5\n",
    "  MsgBox \"BMI = \" & bmi & \"(體重過輕)\"\n",
    "Case Is < 24\n",
    "  MsgBox \"BMI = \" & bmi & \"(體重正常)\"\n",
    "Case Is < 27\n",
    "  MsgBox \"BMI = \" & bmi & \"(體重過重)\"\n",
    "Case Is < 30\n",
    "  MsgBox \"BMI = \" & bmi & \"(輕度肥胖)\"\n",
    "Case Is < 35\n",
    "  MsgBox \"BMI = \" & bmi & \"(中度肥胖)\"\n",
    "Case Else\n",
    "  MsgBox \"BMI = \" & bmi & \"(重度肥胖)\"\n",
    "End Select\n",
    "按照建立按鈕與巨集程式的方式，在 Excel 表格中建立一個按鈕，並且建立一個巨集函數，將上面的程式碼貼上去之後，\n",
    "就完成了一個 BMI 的計算工具了，只要輸入身高與體重之後，按下按鈕即可計算 BMI 值。"
   ]
  },
  {
   "cell_type": "code",
   "execution_count": null,
   "metadata": {},
   "outputs": [],
   "source": []
  },
  {
   "cell_type": "code",
   "execution_count": null,
   "metadata": {},
   "outputs": [],
   "source": []
  },
  {
   "cell_type": "code",
   "execution_count": null,
   "metadata": {},
   "outputs": [],
   "source": []
  },
  {
   "cell_type": "code",
   "execution_count": null,
   "metadata": {},
   "outputs": [],
   "source": []
  }
 ],
 "metadata": {
  "kernelspec": {
   "display_name": "Python 3",
   "language": "python",
   "name": "python3"
  },
  "language_info": {
   "codemirror_mode": {
    "name": "ipython",
    "version": 3
   },
   "file_extension": ".py",
   "mimetype": "text/x-python",
   "name": "python",
   "nbconvert_exporter": "python",
   "pygments_lexer": "ipython3",
   "version": "3.7.1"
  }
 },
 "nbformat": 4,
 "nbformat_minor": 2
}
