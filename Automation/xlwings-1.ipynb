{
 "cells": [
  {
   "cell_type": "code",
   "execution_count": null,
   "metadata": {},
   "outputs": [],
   "source": [
    "https://docs.xlwings.org/en/stable/syntax_overview.html\n",
    "https://medium.com/pyradise/%E7%95%B6%E5%A4%A7%E8%9F%92%E8%9B%87%E8%AA%9E%E8%A8%80%E9%81%87%E4%B8%8A%E8%80%81%E7%89%8C%E8%A9%A6%E7%AE%97%E8%A1%A8%E8%BB%9F%E9%AB%94-2-2e1e825b31fe"
   ]
  },
  {
   "cell_type": "markdown",
   "metadata": {},
   "source": [
    "python操作Excel的模塊，網上提到的模塊大致有：xlwings、xlrd、xlwt、openpyxl、pyxll等，他們提供的功能歸納起來有兩種：\n",
    "\n",
    "一、用python讀寫Excel文件，實際上就是讀寫有格式的文本文件，操作excel文件和操作text、csv文件沒有區別，Excel文件只是用來儲存數據。\n",
    "\n",
    "二、除了操作數據，還可以調整Excel文件的表格寬度、字體顏色等。\n",
    "另外需要提到的是用COM調用Excel的API操作Excel文檔也是可行的，相當麻煩基本和VBA沒有區別。"
   ]
  },
  {
   "cell_type": "markdown",
   "metadata": {},
   "source": [
    "xlwings的特色\n",
    "* xlwings能夠非常方便的讀寫Excel文件中的數據，並且能夠進行單元格格式的修改\n",
    "* 可以和matplotlib以及pa​​ndas無縫連接\n",
    "* 可以調用Excel文件中VBA寫好的程序，也可以讓VBA調用用Python寫的程序。\n",
    "* 開源免費，一直在更新"
   ]
  },
  {
   "cell_type": "markdown",
   "metadata": {},
   "source": [
    "![Image of Yaktocat](https://upload-images.jianshu.io/upload_images/2979196-4a2ab0baf9e26d67.png?imageMogr2/auto-orient/strip|imageView2/2/w/804/format/webp)"
   ]
  },
  {
   "cell_type": "code",
   "execution_count": null,
   "metadata": {},
   "outputs": [],
   "source": [
    "App相當於Excel程序，Book相當於工作簿。N個Excel程序則由apps表示，N個工作簿由books表示。"
   ]
  },
  {
   "cell_type": "code",
   "execution_count": null,
   "metadata": {},
   "outputs": [],
   "source": [
    "# openpyxl 的侷限\n",
    "就是無法寫入資料到一個正在被其他應用程式開啟的 Excel 檔。\n",
    "而用 VBA 語言為 Excel 寫程式的最大好處，就是程式執行完的結果會馬上呈現在 \n",
    "Excel 試算表上，這種方式會大幅增加開發者的效率。\n",
    "從這點來看，Python 若不能夠做到讓開發者有同樣的開發流程，只靠 openpyxl 套件現有的功能，\n",
    "要完全取代 VBA 語言的功能是很困難的。"
   ]
  },
  {
   "cell_type": "code",
   "execution_count": null,
   "metadata": {},
   "outputs": [],
   "source": [
    "# xlwings 套件\n",
    "這邊就來為各位介紹 xlwings，是筆者認為目前串接 Excel 最好用的 Python 套件：\n",
    "至於這個套件為何好用？\n",
    "1. 即使我沒有關掉 Excel 檔案，透過 xlwings ，我依然可以將值寫入到 Excel，\n",
    "   這種能夠即時把程式執行的結果顯示在 Excel 試算表的功能，可以大幅的提升我們的開發效率！\n",
    "2. 同時在函數的界面上非常接近 VBA，大幅降低了從 VBA 語言切換到 Python 的開發門檻！"
   ]
  },
  {
   "cell_type": "code",
   "execution_count": null,
   "metadata": {},
   "outputs": [],
   "source": [
    "# VBA 為 Excel 寫程式所需要的知識\n",
    "當需要用 VBA 選擇單一個儲存格進行操作時，通常都是以 Cells 函數進行，舉個簡單的例子，\n",
    "今天我若想用 VBA 把 “Hello World!” 字串寫入儲存格 A1，在實作上通常是使用一個叫做 Cells 的函數："
   ]
  },
  {
   "cell_type": "code",
   "execution_count": null,
   "metadata": {},
   "outputs": [],
   "source": [
    "Sub CellsExample()\n",
    "  '用法是 Cells(row的數值, column的數值)\n",
    "  'column (欄) 一般在 Excel 的表達方式是字母，若要轉成數字，就是看該欄是從左邊數起的第幾欄\n",
    "  '例： 若我今天需要將 A1 儲存格的值設定成 \"Hello World!\"\n",
    "  Cells(1, 1).Value = \"Hello World!\"\n",
    "End Sub"
   ]
  },
  {
   "cell_type": "code",
   "execution_count": null,
   "metadata": {},
   "outputs": [],
   "source": [
    "但是我們一般在表達 Excel 的儲存格時，都是以英文字母來表示欄，所以 Cells 函數也支援以下寫法："
   ]
  },
  {
   "cell_type": "code",
   "execution_count": null,
   "metadata": {},
   "outputs": [],
   "source": [
    "Sub CellsExample()\n",
    "  '直接以字串 \"A\" 表示想選擇的欄，相對直覺狠多\n",
    "  Cells(1, \"A\").Value = \"Hello World!\"\n",
    "End Sub"
   ]
  },
  {
   "cell_type": "code",
   "execution_count": null,
   "metadata": {},
   "outputs": [],
   "source": [
    "開啟活頁簿"
   ]
  },
  {
   "cell_type": "code",
   "execution_count": null,
   "metadata": {},
   "outputs": [],
   "source": [
    "import xlwings as xw   # 匯入 xlwings 套件\n",
    "\n",
    "#開新的活頁簿\n",
    "workbook = xw.Book()   # 讓 xlwings動態開啟一個新的Excel檔案，並將該檔案存入 workbook 變數\n",
    "workbook = xw.books.add()  #法二\n",
    "\n",
    "#開啟未儲存活頁簿\n",
    "xw.Book('Book')\n",
    "xw.books['Book1']   #法二\n",
    "\n",
    "#開啟現有活頁簿\n",
    "#在Windows上指定文件路徑時，您應該在字符串的r前面使用原始字符串，或者使用雙反斜杠，例如：C:\\\\path\\\\to\\\\file.xlsx。\n",
    "xw.Book(r'C:\\path\\to\\file.xlsx')   \n",
    "xw.books.open(r'C:\\path\\to\\file.xlsx')   #法二"
   ]
  },
  {
   "cell_type": "code",
   "execution_count": null,
   "metadata": {},
   "outputs": [],
   "source": [
    "索引順序的不同\n",
    "(圓括號)遵循Excel的行為 : 從1開始的索引  *range('A1')為excel行為，只能用(圓括號)\n",
    "[方括號]遵循Python的行為 :從0開始的索引/切片。"
   ]
  },
  {
   "cell_type": "code",
   "execution_count": null,
   "metadata": {},
   "outputs": [],
   "source": [
    "print(xw.books[1].sheets[0].range('A1'))\n",
    "print(xw.books(2).sheets(1).range('A1'))"
   ]
  },
  {
   "cell_type": "code",
   "execution_count": null,
   "metadata": {},
   "outputs": [],
   "source": [
    "#保存工作簿\n",
    "wb.save('example.xlsx')\n",
    "\n",
    "#退出工作簿（可省略）\n",
    "wb.close()\n",
    "\n",
    "#退出Excel\n",
    "app.quit()"
   ]
  },
  {
   "cell_type": "code",
   "execution_count": null,
   "metadata": {},
   "outputs": [],
   "source": [
    "# 範圍索引(Excel方式)\n",
    "A1表示法，Excel基於1的索引的元組，命名範圍或兩個Range對象實例化Range："
   ]
  },
  {
   "cell_type": "code",
   "execution_count": 7,
   "metadata": {},
   "outputs": [
    {
     "name": "stdout",
     "output_type": "stream",
     "text": [
      "<Range [Book1.xlsx]Sheet2!$A$1>\n",
      "<Range [Book1.xlsx]Sheet2!$A$1:$C$3>\n",
      "<Range [Book1.xlsx]Sheet2!$A$1>\n",
      "<Range [Book1.xlsx]Sheet2!$A$1:$C$3>\n",
      "<Range [Book1.xlsx]Sheet2!$A$1:$B$2>\n",
      "--------------------------------\n",
      "<Range [Book7]Sheet1!$A$1:$C$3>\n",
      "<Range [Book7]Sheet1!$A$1>\n",
      "<Range [Book7]Sheet1!$A$1:$C$3>\n",
      "<Range [Book7]Sheet1!$A$1:$B$2>\n"
     ]
    }
   ],
   "source": [
    "#未指定路徑的話，開啟的為現在開啟的活頁簿和Sheet\n",
    "\n",
    "print(xw.Range('A1')               )  #mac不支援英文寫法，只能用數字\n",
    "print(xw.Range('A1:C3')            )\n",
    "print(xw.Range((1,1))              )  #mac僅能用此方法\n",
    "print(xw.Range((1,1), (3,3))       )\n",
    "print(xw.Range(xw.Range('A1'), xw.Range('B2'))       )\n",
    "\n",
    "print(\"--------------------------------\")\n",
    "#大小寫的Range和range使用不同\n",
    "    #Range用在未指定路徑\n",
    "    #range需要指定範圍(工作表)\n",
    "s = xw.Book('Book7').sheets['Sheet1']\n",
    "print(s.range('A1:C3')            )\n",
    "print(s.range((1,1))              )\n",
    "print(s.range((1,1), (3,3))       )\n",
    "print(s.range(s.range('A1'), s.range('B2'))       )"
   ]
  },
  {
   "cell_type": "code",
   "execution_count": null,
   "metadata": {},
   "outputs": [],
   "source": [
    "# 範圍索引/切片(Python方式)\n",
    "範圍對象支持索引和切片，下面是一些示例："
   ]
  },
  {
   "cell_type": "code",
   "execution_count": 92,
   "metadata": {},
   "outputs": [
    {
     "name": "stdout",
     "output_type": "stream",
     "text": [
      "<Range [Book1]Sheet2!$A$1>\n",
      "<Range [Book1]Sheet2!$B$1>\n",
      "<Range [Book1]Sheet2!$D$1:$D$5>\n",
      "<Range [Book1]Sheet2!$B$2:$C$3>\n"
     ]
    }
   ],
   "source": [
    "rng = xw.Book('Book1').sheets[1].range('A1:D5')  #在此範圍中索引\n",
    "print(rng[0, 0])  \n",
    "print(rng[1]) \n",
    "print(rng[:, 3:])  #D欄\n",
    "print(rng[1:3, 1:3])"
   ]
  },
  {
   "cell_type": "code",
   "execution_count": 90,
   "metadata": {},
   "outputs": [
    {
     "name": "stdout",
     "output_type": "stream",
     "text": [
      "<Range [Book1]Sheet1!$A$1>\n",
      "<Range [Book1]Sheet1!$A$1:$B$5>\n",
      "<Range [Book1]Sheet1!$B$1>\n",
      "<Range [Book1]Sheet1!$A$1:$J$10>\n"
     ]
    }
   ],
   "source": [
    "sht = xw.Book('Book1').sheets['Sheet1']\n",
    "print(sht['A1'])\n",
    "print(sht['A1:B5'])\n",
    "print(sht[0, 1])\n",
    "print(sht[:10, :10])"
   ]
  },
  {
   "cell_type": "code",
   "execution_count": null,
   "metadata": {},
   "outputs": [],
   "source": [
    "# Single Cells"
   ]
  },
  {
   "cell_type": "code",
   "execution_count": null,
   "metadata": {},
   "outputs": [],
   "source": [
    "sht = xw.Book('Book3').sheets[0]\n",
    "\n",
    "sht.range('A1').value = 1\n",
    "sht.range(1,1).value = 1\n",
    "sht.cells(1,'A').value = 1\n",
    "sht.cells(1,1).value = 1\n",
    "\n",
    "sht.range('A2').value = 'Hello'\n",
    "sht.cells(2,'A').value = 'Hello'\n",
    "\n",
    "sht.range('A3').value is None\n",
    "sht.cells(3,'A').value is None\n",
    "\n",
    "import datetime as dt\n",
    "sht.range('A4').value = dt.datetime(2000, 1, 1)\n",
    "sht.cells(4,'A').value = dt.datetime(2000, 1, 1)"
   ]
  },
  {
   "cell_type": "code",
   "execution_count": null,
   "metadata": {},
   "outputs": [],
   "source": [
    "# List"
   ]
  },
  {
   "cell_type": "code",
   "execution_count": null,
   "metadata": {},
   "outputs": [],
   "source": [
    "### 一維列表：\n",
    "代表Excel中行或列的範圍將作為簡單列表返回，這意味著一旦它們在Python中，您就會丟失有關方向的信息。\n",
    "下面將向您展示如何保存方向信息："
   ]
  },
  {
   "cell_type": "code",
   "execution_count": 93,
   "metadata": {
    "scrolled": true
   },
   "outputs": [
    {
     "name": "stdout",
     "output_type": "stream",
     "text": [
      "[1.0, 2.0, 3.0, 4.0, 5.0]\n",
      "[1.0, 2.0, 3.0, 4.0, 5.0]\n"
     ]
    }
   ],
   "source": [
    "sht = xw.Book('Book1').sheets[1]\n",
    "\n",
    "sht.range('A1').value = [1, 2, 3, 4, 5]    # 行方向\n",
    "print(sht.range('A1:E1').value)\n",
    "\n",
    "sht.range('A1').value = [[1],[2],[3],[4],[5]]  # 列方向(巢狀列表)\n",
    "sht.range('A1').options(transpose=True).value = [1,2,3,4,5]  # 列方向(轉向法)\n",
    "print(sht.range('A1:A5').value)"
   ]
  },
  {
   "cell_type": "code",
   "execution_count": null,
   "metadata": {},
   "outputs": [],
   "source": [
    "### 二維列表：\n",
    "如果必須保留行或列的方向，在options中的ndim中進行設置=2(預設為1)，二維範圍自動作為巢狀列表返回。"
   ]
  },
  {
   "cell_type": "code",
   "execution_count": 96,
   "metadata": {},
   "outputs": [
    {
     "name": "stdout",
     "output_type": "stream",
     "text": [
      "[[1.0, 2.0, 3.0, 4.0, 5.0]]\n",
      "[[1.0], [2.0], [3.0], [4.0], [5.0]]\n"
     ]
    }
   ],
   "source": [
    "sht = xw.Book('Book1').sheets[1]\n",
    "print(sht.range('A1:E1').options(ndim=2).value)  # 行方向(巢狀列表)\n",
    "print(sht.range('A1:A5').options(ndim=2).value)  # 列方向(巢狀列表)"
   ]
  },
  {
   "cell_type": "code",
   "execution_count": 97,
   "metadata": {
    "scrolled": true
   },
   "outputs": [
    {
     "data": {
      "text/plain": [
       "[['Foo 1', 'Foo 2', 'Foo 3'], [10.0, 20.0, 30.0]]"
      ]
     },
     "execution_count": 97,
     "metadata": {},
     "output_type": "execute_result"
    }
   ],
   "source": [
    "#將列表分配（巢狀）列表到Excel中的範圍時，僅將\"左上方的單元格\"(起始格)指定為目標地址就足夠了。\n",
    "sht.range('A10').value = [['Foo 1', 'Foo 2', 'Foo 3'], [10, 20, 30]]\n",
    "sht.range((10,1),(11,3)).value"
   ]
  },
  {
   "cell_type": "code",
   "execution_count": null,
   "metadata": {},
   "outputs": [],
   "source": [
    "# Range expanding範圍擴大\n",
    "通過expand或options(expand=)來動態獲取Excel Ranges的擴展。\n",
    "以左上角單元格為基準，往連續的下面和右邊延伸。\n",
    "等同在Excel選取位置按ctrl+shift+(→)+(↓)後的範圍"
   ]
  },
  {
   "cell_type": "code",
   "execution_count": 108,
   "metadata": {},
   "outputs": [
    {
     "name": "stdout",
     "output_type": "stream",
     "text": [
      "rng1: [[1.0, 2.0], [3.0, 4.0]]\n",
      "rng2: [[1.0, 2.0], [3.0, 4.0]]\n",
      "rng1: [[1.0, 2.0], [3.0, 4.0]]\n",
      "rng2: [[1.0, 2.0], [3.0, 4.0], [5.0, 6.0]]\n"
     ]
    }
   ],
   "source": [
    "sht = xw.Book('Book1').sheets[2]\n",
    "sht.range('A1').value = [[1,2], [3,4]]\n",
    "rng1 = sht.range('A1').expand('table')  # or just .expand()\n",
    "rng2 = sht.range('A1').options(expand='table')\n",
    "print(\"rng1:\", rng1.value)\n",
    "print(\"rng2:\", rng2.value)\n",
    "sht.range('A3').value = [5, 6]\n",
    "print(\"rng1:\", rng1.value)\n",
    "print(\"rng2:\", rng2.value)\n",
    "#'table'擴展到'down'和'right'，其他可用選項分別可用於僅列或行擴展。"
   ]
  },
  {
   "cell_type": "code",
   "execution_count": 88,
   "metadata": {},
   "outputs": [
    {
     "name": "stdout",
     "output_type": "stream",
     "text": [
      "1048576\n",
      "8\n"
     ]
    },
    {
     "data": {
      "text/plain": [
       "[1.0, 5.0, 6.0, 7.0, 8.0, 'a', 'd', 'g']"
      ]
     },
     "execution_count": 88,
     "metadata": {},
     "output_type": "execute_result"
    }
   ],
   "source": [
    "#讀取excel的第一列怎麼做？\n",
    "sht = xw.Book('Book1').sheets[4]\n",
    "a = sht.range('a:a').value\n",
    "print(len(a))      #你將會得到一個1048576個元素的列表，也就是空值也包含進去了，所以這種方法不行\n",
    "\n",
    "#思路：先計算單元格的行數(前提是連續的單元格)\n",
    "rng = sht.range('a1').expand('table')\n",
    "nrows = rng.rows.count\n",
    "print(nrows)\n",
    "\n",
    "#接著就可以按準確範圍讀取了\n",
    "a = sht.range(f'a1:a{nrows}').value\n",
    "a"
   ]
  },
  {
   "cell_type": "code",
   "execution_count": 87,
   "metadata": {},
   "outputs": [
    {
     "name": "stdout",
     "output_type": "stream",
     "text": [
      "4\n",
      "[1.0, 2.0, 3.0, 4.0]\n"
     ]
    }
   ],
   "source": [
    "#同理選取一行的數據也一樣\n",
    "ncols = rng.columns.count\n",
    "print(ncols)\n",
    "\n",
    "#用切片\n",
    "fst_col = sht[0,:ncols].value\n",
    "print(fst_col)"
   ]
  },
  {
   "cell_type": "code",
   "execution_count": null,
   "metadata": {},
   "outputs": [],
   "source": [
    "# NumPy數組\n",
    "NumPy數組的工作類似於巢狀列表。但是，空單元格由nan代替 None。\n",
    "如果要讀取Range作為數組，請convert=np.array在options中進行設置："
   ]
  },
  {
   "cell_type": "code",
   "execution_count": 112,
   "metadata": {},
   "outputs": [
    {
     "name": "stdout",
     "output_type": "stream",
     "text": [
      "[[1.0, 0.0, 0.0], [0.0, 1.0, 0.0], [0.0, 0.0, 1.0]]\n",
      "[[1. 0. 0.]\n",
      " [0. 1. 0.]\n",
      " [0. 0. 1.]]\n"
     ]
    }
   ],
   "source": [
    "import numpy as np\n",
    "sht = xw.Book('Book1').sheets[3]\n",
    "sht.range('A1').value = np.eye(3)  #產生一組3*3，對角為1的矩陣\n",
    "print(sht.range('A1').options(expand='table').value)\n",
    "print(sht.range('A1').options(np.array, expand='table').value)  #NumPy數組"
   ]
  },
  {
   "cell_type": "code",
   "execution_count": null,
   "metadata": {},
   "outputs": [],
   "source": [
    "# Pandas DataFrames"
   ]
  },
  {
   "cell_type": "code",
   "execution_count": 113,
   "metadata": {
    "scrolled": true
   },
   "outputs": [
    {
     "data": {
      "text/html": [
       "<div>\n",
       "<style scoped>\n",
       "    .dataframe tbody tr th:only-of-type {\n",
       "        vertical-align: middle;\n",
       "    }\n",
       "\n",
       "    .dataframe tbody tr th {\n",
       "        vertical-align: top;\n",
       "    }\n",
       "\n",
       "    .dataframe thead th {\n",
       "        text-align: right;\n",
       "    }\n",
       "</style>\n",
       "<table border=\"1\" class=\"dataframe\">\n",
       "  <thead>\n",
       "    <tr style=\"text-align: right;\">\n",
       "      <th></th>\n",
       "      <th>one</th>\n",
       "      <th>two</th>\n",
       "    </tr>\n",
       "  </thead>\n",
       "  <tbody>\n",
       "    <tr>\n",
       "      <th>0</th>\n",
       "      <td>1.1</td>\n",
       "      <td>2.2</td>\n",
       "    </tr>\n",
       "    <tr>\n",
       "      <th>1</th>\n",
       "      <td>3.3</td>\n",
       "      <td>NaN</td>\n",
       "    </tr>\n",
       "  </tbody>\n",
       "</table>\n",
       "</div>"
      ],
      "text/plain": [
       "   one  two\n",
       "0  1.1  2.2\n",
       "1  3.3  NaN"
      ]
     },
     "execution_count": 113,
     "metadata": {},
     "output_type": "execute_result"
    }
   ],
   "source": [
    "import pandas as pd\n",
    "\n",
    "sht = xw.Book('Book1').sheets[0]\n",
    "df = pd.DataFrame([[1.1, 2.2], [3.3, None]], columns=['one', 'two'])\n",
    "df"
   ]
  },
  {
   "cell_type": "code",
   "execution_count": 114,
   "metadata": {},
   "outputs": [
    {
     "name": "stdout",
     "output_type": "stream",
     "text": [
      "     one  two\n",
      "0.0  1.1  2.2\n",
      "1.0  3.3  NaN\n"
     ]
    }
   ],
   "source": [
    "sht.range('A1').value = df  #將df寫入excel(A1起始)\n",
    "print(sht.range('A1:C3').options(pd.DataFrame).value)\n",
    "\n",
    "sht.range('A5').options(index=False).value = df  #將df寫入excel(取消索引)\n",
    "sht.range('A9').options(index=False, header=False).value = df #將df寫入excel(取消索引、取消欄列名稱)"
   ]
  },
  {
   "cell_type": "code",
   "execution_count": null,
   "metadata": {},
   "outputs": [],
   "source": [
    "# Pandas Series"
   ]
  },
  {
   "cell_type": "code",
   "execution_count": null,
   "metadata": {},
   "outputs": [],
   "source": [
    "import pandas as pd\n",
    "import numpy as np\n",
    "sht = xw.Book('Book1').sheets[2]\n",
    "s = pd.Series([1.1, 3.3, 5., np.nan, 6., 8.], name='myseries')\n",
    "s"
   ]
  },
  {
   "cell_type": "code",
   "execution_count": 116,
   "metadata": {},
   "outputs": [
    {
     "data": {
      "text/plain": [
       "0.0    1.1\n",
       "1.0    3.3\n",
       "2.0    5.0\n",
       "3.0    NaN\n",
       "4.0    6.0\n",
       "5.0    8.0\n",
       "Name: myseries, dtype: float64"
      ]
     },
     "execution_count": 116,
     "metadata": {},
     "output_type": "execute_result"
    }
   ],
   "source": [
    "sht.range('A5').value = s   #將df寫入excel(A1起始)\n",
    "sht.range('A5:B11').options(pd.Series).value"
   ]
  },
  {
   "cell_type": "code",
   "execution_count": null,
   "metadata": {},
   "outputs": [],
   "source": [
    "在將列表，NumPy數組或Pandas DataFrame寫入Excel時，只需指定左上角的單元格，\n",
    "例如： sht.range('A1').value = np.eye(10)"
   ]
  },
  {
   "cell_type": "code",
   "execution_count": null,
   "metadata": {},
   "outputs": [],
   "source": [
    "# Matplotlib \n",
    "使用pictures.add()，可以輕鬆地將Matplotlib圖貼上為Excel中的圖片。"
   ]
  },
  {
   "cell_type": "code",
   "execution_count": 14,
   "metadata": {
    "scrolled": false
   },
   "outputs": [
    {
     "data": {
      "text/plain": [
       "<Picture 'MyPlot' in <Sheet [Book1]Sheet1>>"
      ]
     },
     "execution_count": 14,
     "metadata": {},
     "output_type": "execute_result"
    },
    {
     "data": {
      "image/png": "[encoded data removed]",
      "text/plain": [
       "<Figure size 432x288 with 1 Axes>"
      ]
     },
     "metadata": {
      "needs_background": "light"
     },
     "output_type": "display_data"
    }
   ],
   "source": [
    "import matplotlib.pyplot as plt\n",
    "import xlwings as xw\n",
    "\n",
    "fig = plt.figure()\n",
    "plt.plot([1, 2, 3])\n",
    "\n",
    "sht = xw.Book('Book1').sheets[0]\n",
    "sht.pictures.add(fig, name='MyPlot', update=True)"
   ]
  },
  {
   "cell_type": "code",
   "execution_count": 31,
   "metadata": {},
   "outputs": [
    {
     "data": {
      "text/plain": [
       "<Picture 'MyPlot' in <Sheet [Book1]Sheet5>>"
      ]
     },
     "execution_count": 31,
     "metadata": {},
     "output_type": "execute_result"
    }
   ],
   "source": [
    "#圖片貼上位置\n",
    "sht = xw.Book('Book1').sheets[4]\n",
    "sht.pictures.add(fig, name='MyPlot', update=True,\n",
    "                 left=sht.range('B3').left, top=sht.range('B3').top)  "
   ]
  },
  {
   "cell_type": "code",
   "execution_count": 27,
   "metadata": {},
   "outputs": [],
   "source": [
    "#調整圖片長寬\n",
    "plot = sht.pictures.add(fig, name='MyPlot', update=True)\n",
    "plot.height = 100\n",
    "plot.width = 200"
   ]
  },
  {
   "cell_type": "code",
   "execution_count": 48,
   "metadata": {
    "scrolled": false
   },
   "outputs": [
    {
     "name": "stdout",
     "output_type": "stream",
     "text": [
      "[1.0, 2.0, 3.0, 4.0]\n",
      "1.0\n",
      "<class 'float'>\n",
      "2.0\n",
      "<class 'float'>\n",
      "3.0\n",
      "<class 'float'>\n",
      "4.0\n",
      "<class 'float'>\n"
     ]
    }
   ],
   "source": [
    "#返回的值是列表形式，多行多列為二維列表，但有一點要注意，返回的數值默認是浮點數\n",
    "a = sht.range('a1:d1').value\n",
    "print(a)\n",
    "for i in a:\n",
    "  print(i)\n",
    "  print(type(i))"
   ]
  }
 ],
 "metadata": {
  "kernelspec": {
   "display_name": "Python 3",
   "language": "python",
   "name": "python3"
  },
  "language_info": {
   "codemirror_mode": {
    "name": "ipython",
    "version": 3
   },
   "file_extension": ".py",
   "mimetype": "text/x-python",
   "name": "python",
   "nbconvert_exporter": "python",
   "pygments_lexer": "ipython3",
   "version": "3.7.1"
  }
 },
 "nbformat": 4,
 "nbformat_minor": 2
}
