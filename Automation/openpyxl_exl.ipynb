{
 "cells": [
  {
   "cell_type": "code",
   "execution_count": null,
   "metadata": {},
   "outputs": [],
   "source": [
    "### 使用OpenPyXL打開Excel文檔"
   ]
  },
  {
   "cell_type": "code",
   "execution_count": null,
   "metadata": {},
   "outputs": [],
   "source": [
    "導入openpyxl模塊後，就可以使用openpyxl.load_workbook（）函數。在交互式外殼中輸入以下內容："
   ]
  },
  {
   "cell_type": "code",
   "execution_count": 2,
   "metadata": {},
   "outputs": [
    {
     "ename": "FileNotFoundError",
     "evalue": "[Errno 2] No such file or directory: 'example.xlsx'",
     "output_type": "error",
     "traceback": [
      "\u001b[1;31m---------------------------------------------------------------------------\u001b[0m",
      "\u001b[1;31mFileNotFoundError\u001b[0m                         Traceback (most recent call last)",
      "\u001b[1;32m<ipython-input-2-d504248b1c17>\u001b[0m in \u001b[0;36m<module>\u001b[1;34m\u001b[0m\n\u001b[0;32m      1\u001b[0m \u001b[1;32mimport\u001b[0m \u001b[0mopenpyxl\u001b[0m\u001b[1;33m\u001b[0m\u001b[1;33m\u001b[0m\u001b[0m\n\u001b[1;32m----> 2\u001b[1;33m \u001b[0mwb\u001b[0m \u001b[1;33m=\u001b[0m \u001b[0mopenpyxl\u001b[0m\u001b[1;33m.\u001b[0m\u001b[0mload_workbook\u001b[0m\u001b[1;33m(\u001b[0m\u001b[1;34m'example.xlsx'\u001b[0m\u001b[1;33m)\u001b[0m\u001b[1;33m\u001b[0m\u001b[1;33m\u001b[0m\u001b[0m\n\u001b[0m\u001b[0;32m      3\u001b[0m \u001b[0mtype\u001b[0m\u001b[1;33m(\u001b[0m\u001b[0mwb\u001b[0m\u001b[1;33m)\u001b[0m \u001b[1;31m#<class 'openpyxl.workbook.workbook.Workbook'>\u001b[0m\u001b[1;33m\u001b[0m\u001b[1;33m\u001b[0m\u001b[0m\n",
      "\u001b[1;32m~\\Anaconda3\\lib\\site-packages\\openpyxl\\reader\\excel.py\u001b[0m in \u001b[0;36mload_workbook\u001b[1;34m(filename, read_only, keep_vba, data_only, guess_types, keep_links)\u001b[0m\n\u001b[0;32m    172\u001b[0m \u001b[1;33m\u001b[0m\u001b[0m\n\u001b[0;32m    173\u001b[0m     \"\"\"\n\u001b[1;32m--> 174\u001b[1;33m     \u001b[0marchive\u001b[0m \u001b[1;33m=\u001b[0m \u001b[0m_validate_archive\u001b[0m\u001b[1;33m(\u001b[0m\u001b[0mfilename\u001b[0m\u001b[1;33m)\u001b[0m\u001b[1;33m\u001b[0m\u001b[1;33m\u001b[0m\u001b[0m\n\u001b[0m\u001b[0;32m    175\u001b[0m \u001b[1;33m\u001b[0m\u001b[0m\n\u001b[0;32m    176\u001b[0m     \u001b[0msrc\u001b[0m \u001b[1;33m=\u001b[0m \u001b[0marchive\u001b[0m\u001b[1;33m.\u001b[0m\u001b[0mread\u001b[0m\u001b[1;33m(\u001b[0m\u001b[0mARC_CONTENT_TYPES\u001b[0m\u001b[1;33m)\u001b[0m\u001b[1;33m\u001b[0m\u001b[1;33m\u001b[0m\u001b[0m\n",
      "\u001b[1;32m~\\Anaconda3\\lib\\site-packages\\openpyxl\\reader\\excel.py\u001b[0m in \u001b[0;36m_validate_archive\u001b[1;34m(filename)\u001b[0m\n\u001b[0;32m    119\u001b[0m \u001b[1;33m\u001b[0m\u001b[0m\n\u001b[0;32m    120\u001b[0m     \u001b[1;32mtry\u001b[0m\u001b[1;33m:\u001b[0m\u001b[1;33m\u001b[0m\u001b[1;33m\u001b[0m\u001b[0m\n\u001b[1;32m--> 121\u001b[1;33m         \u001b[0marchive\u001b[0m \u001b[1;33m=\u001b[0m \u001b[0mZipFile\u001b[0m\u001b[1;33m(\u001b[0m\u001b[0mfilename\u001b[0m\u001b[1;33m,\u001b[0m \u001b[1;34m'r'\u001b[0m\u001b[1;33m,\u001b[0m \u001b[0mZIP_DEFLATED\u001b[0m\u001b[1;33m)\u001b[0m\u001b[1;33m\u001b[0m\u001b[1;33m\u001b[0m\u001b[0m\n\u001b[0m\u001b[0;32m    122\u001b[0m     \u001b[1;32mexcept\u001b[0m \u001b[0mBadZipfile\u001b[0m\u001b[1;33m:\u001b[0m\u001b[1;33m\u001b[0m\u001b[1;33m\u001b[0m\u001b[0m\n\u001b[0;32m    123\u001b[0m         \u001b[0mf\u001b[0m \u001b[1;33m=\u001b[0m \u001b[0mrepair_central_directory\u001b[0m\u001b[1;33m(\u001b[0m\u001b[0mfilename\u001b[0m\u001b[1;33m,\u001b[0m \u001b[0mis_file_like\u001b[0m\u001b[1;33m)\u001b[0m\u001b[1;33m\u001b[0m\u001b[1;33m\u001b[0m\u001b[0m\n",
      "\u001b[1;32m~\\Anaconda3\\lib\\zipfile.py\u001b[0m in \u001b[0;36m__init__\u001b[1;34m(self, file, mode, compression, allowZip64, compresslevel)\u001b[0m\n\u001b[0;32m   1202\u001b[0m             \u001b[1;32mwhile\u001b[0m \u001b[1;32mTrue\u001b[0m\u001b[1;33m:\u001b[0m\u001b[1;33m\u001b[0m\u001b[1;33m\u001b[0m\u001b[0m\n\u001b[0;32m   1203\u001b[0m                 \u001b[1;32mtry\u001b[0m\u001b[1;33m:\u001b[0m\u001b[1;33m\u001b[0m\u001b[1;33m\u001b[0m\u001b[0m\n\u001b[1;32m-> 1204\u001b[1;33m                     \u001b[0mself\u001b[0m\u001b[1;33m.\u001b[0m\u001b[0mfp\u001b[0m \u001b[1;33m=\u001b[0m \u001b[0mio\u001b[0m\u001b[1;33m.\u001b[0m\u001b[0mopen\u001b[0m\u001b[1;33m(\u001b[0m\u001b[0mfile\u001b[0m\u001b[1;33m,\u001b[0m \u001b[0mfilemode\u001b[0m\u001b[1;33m)\u001b[0m\u001b[1;33m\u001b[0m\u001b[1;33m\u001b[0m\u001b[0m\n\u001b[0m\u001b[0;32m   1205\u001b[0m                 \u001b[1;32mexcept\u001b[0m \u001b[0mOSError\u001b[0m\u001b[1;33m:\u001b[0m\u001b[1;33m\u001b[0m\u001b[1;33m\u001b[0m\u001b[0m\n\u001b[0;32m   1206\u001b[0m                     \u001b[1;32mif\u001b[0m \u001b[0mfilemode\u001b[0m \u001b[1;32min\u001b[0m \u001b[0mmodeDict\u001b[0m\u001b[1;33m:\u001b[0m\u001b[1;33m\u001b[0m\u001b[1;33m\u001b[0m\u001b[0m\n",
      "\u001b[1;31mFileNotFoundError\u001b[0m: [Errno 2] No such file or directory: 'example.xlsx'"
     ]
    }
   ],
   "source": [
    "import openpyxl\n",
    "wb = openpyxl.load_workbook('example.xlsx')\n",
    "type(wb) #<class 'openpyxl.workbook.workbook.Workbook'>"
   ]
  },
  {
   "cell_type": "code",
   "execution_count": null,
   "metadata": {},
   "outputs": [],
   "source": [
    "所述openpyxl.load_workbook（）函數將在文件名，並返回值的工作簿的數據類型。此Workbook對象代表Excel文件，有點類似於File對象代表打開的文本文件的方式。\n",
    "\n",
    "請記住，example.xlsx必須位於當前工作目錄中才能使用。您可以通過導入os並使用os.getcwd（）來找出當前的工作目錄，也可以使用os.chdir（）來更改當前的工作目錄。"
   ]
  },
  {
   "cell_type": "code",
   "execution_count": null,
   "metadata": {},
   "outputs": [],
   "source": [
    "從工作簿中獲取工作表"
   ]
  },
  {
   "cell_type": "code",
   "execution_count": null,
   "metadata": {},
   "outputs": [],
   "source": [
    "您可以通過訪問sheetnames屬性來獲取工作簿中所有工作表名稱的列表。在交互式外殼中輸入以下內容："
   ]
  },
  {
   "cell_type": "code",
   "execution_count": null,
   "metadata": {},
   "outputs": [],
   "source": [
    ">>> import openpyxl\n",
    ">>> wb = openpyxl.load_workbook('example.xlsx')\n",
    ">>> wb.sheetnames # The workbook's sheets' names.\n",
    "['Sheet1', 'Sheet2', 'Sheet3']\n",
    ">>> sheet = wb['Sheet3'] # Get a sheet from the workbook.\n",
    ">>> sheet\n",
    "<Worksheet \"Sheet3\">\n",
    ">>> type(sheet)\n",
    "<class 'openpyxl.worksheet.worksheet.Worksheet'>\n",
    ">>> sheet.title # Get the sheet's title as a string.\n",
    "'Sheet3'\n",
    ">>> anotherSheet = wb.active # Get the active sheet.\n",
    ">>> anotherSheet\n",
    "<Worksheet \"Sheet1\">"
   ]
  },
  {
   "cell_type": "code",
   "execution_count": null,
   "metadata": {},
   "outputs": [],
   "source": [
    "每個工作表都由一個工作表對象表示，您可以通過將方括號與工作表名稱字符串（如字典鍵）一起使用來獲得該對象。最後，您可以使用Workbook對象的active屬性來獲取工作簿的活動工作表。活動工作表是在Excel中打開工作簿時位於最上面的工作表。一旦有了Worksheet對象，就可以從title屬性獲得其名稱。"
   ]
  },
  {
   "cell_type": "code",
   "execution_count": null,
   "metadata": {},
   "outputs": [],
   "source": [
    "從工作表中獲取單元格"
   ]
  },
  {
   "cell_type": "code",
   "execution_count": null,
   "metadata": {},
   "outputs": [],
   "source": [
    "一旦有了工作表對象，就可以按其名稱訪問單元對象。在交互式外殼中輸入以下內容："
   ]
  },
  {
   "cell_type": "code",
   "execution_count": null,
   "metadata": {},
   "outputs": [],
   "source": [
    ">>> import openpyxl\n",
    ">>> wb = openpyxl.load_workbook('example.xlsx')\n",
    ">>> sheet = wb['Sheet1'] # Get a sheet from the workbook.\n",
    ">>> sheet['A1'] # Get a cell from the sheet.\n",
    "<Cell 'Sheet1'.A1>\n",
    ">>> sheet['A1'].value # Get the value from the cell.\n",
    "datetime.datetime(2015, 4, 5, 13, 34, 2)\n",
    ">>> c = sheet['B1'] # Get another cell from the sheet.\n",
    ">>> c.value\n",
    "'Apples'\n",
    ">>> # Get the row, column, and value from the cell.\n",
    ">>> 'Row %s, Column %s is %s' % (c.row, c.column, c.value)\n",
    "'Row 1, Column B is Apples'\n",
    ">>> 'Cell %s is %s' % (c.coordinate, c.value)\n",
    "'Cell B1 is Apples'\n",
    ">>> sheet['C1'].value\n",
    "73"
   ]
  },
  {
   "cell_type": "code",
   "execution_count": null,
   "metadata": {},
   "outputs": [],
   "source": [
    "所述細胞對象具有值包含，勿庸置疑，存儲在該單元格的值屬性。單元格對像還具有提供單元格位置信息的row，column和坐標屬性。\n",
    "\n",
    "在這裡，訪問單元格B1的Cell對象的value屬性會給我們字符串'Apples'。的行屬性給我們的整數1時，列屬性為我們提供了“B” ，並且坐標屬性給出我們'B1' 。\n",
    "\n",
    "OpenPyXL將自動解釋A列中的日期，並將其作為datetime值而不是字符串返回。的日期時間數據類型在進一步說明第17章。\n",
    "\n",
    "用字母指定一列可能很難編程，特別是因為在Z列之後，這些列以兩個字母開頭：AA，AB，AC等。另外，您還可以使用工作表的cell（）方法並為其行和列關鍵字參數傳遞整數來獲取一個單元格。第一個行或列的整數是1，而不是0。通過輸入以下內容，繼續交互式外殼程序示例："
   ]
  },
  {
   "cell_type": "code",
   "execution_count": null,
   "metadata": {},
   "outputs": [],
   "source": [
    ">>> sheet.cell(row=1, column=2)\n",
    "<Cell 'Sheet1'.B1>\n",
    ">>> sheet.cell(row=1, column=2).value\n",
    "'Apples'\n",
    ">>> for i in range(1, 8, 2): # Go through every other row:\n",
    "...     print(i, sheet.cell(row=i, column=2).value)\n",
    "...\n",
    "1 Apples\n",
    "3 Pears\n",
    "5 Apples\n",
    "7 Strawberries"
   ]
  },
  {
   "cell_type": "code",
   "execution_count": null,
   "metadata": {},
   "outputs": [],
   "source": [
    "如您所見，使用工作表的cell（）方法並向其傳遞row = 1和column = 2會為您獲得單元格B1的Cell對象，就像指定sheet ['B1']一樣。然後，使用cell（）方法及其關鍵字參數，可以編寫一個for循環以打印一系列單元格的值。\n",
    "\n",
    "假設您要向下瀏覽B列，並在每個單元格中使用奇數行號打印該值。通過為range（）函數的“ step”參數傳遞2，可以從第二行（在本例中為所有奇數行）獲取單元格。的用於循環的我變量被傳遞的行關鍵字參數到細胞（）方法，而2總是被傳為列關鍵字參數。請注意，將傳遞整數2而不是字符串'B'。\n",
    "\n",
    "您可以使用Worksheet對象的max_row和max_column屬性確定工作表的大小。在交互式外殼中輸入以下內容："
   ]
  },
  {
   "cell_type": "code",
   "execution_count": null,
   "metadata": {},
   "outputs": [],
   "source": [
    ">>> import openpyxl\n",
    ">>> wb = openpyxl.load_workbook('example.xlsx')\n",
    ">>> sheet = wb['Sheet1']\n",
    ">>> sheet.max_row # Get the highest row number.\n",
    "7\n",
    ">>> sheet.max_column # Get the highest column number.\n",
    "3"
   ]
  },
  {
   "cell_type": "code",
   "execution_count": null,
   "metadata": {},
   "outputs": [],
   "source": [
    "請注意，max_column屬性是整數，而不是Excel中顯示的字母。"
   ]
  },
  {
   "cell_type": "code",
   "execution_count": null,
   "metadata": {},
   "outputs": [],
   "source": [
    "在列字母和數字之間轉換"
   ]
  },
  {
   "cell_type": "code",
   "execution_count": null,
   "metadata": {},
   "outputs": [],
   "source": [
    "要將字母轉換為數字，請調用openpyxl.utils.column_index_from_string（）函數。要將數字轉換為字母，請調用openpyxl.utils.get_column_letter（）函數。在交互式外殼中輸入以下內容："
   ]
  },
  {
   "cell_type": "code",
   "execution_count": null,
   "metadata": {},
   "outputs": [],
   "source": [
    ">>> import openpyxl\n",
    ">>> from openpyxl.utils import get_column_letter, column_index_from_string\n",
    ">>> get_column_letter(1) # Translate column 1 to a letter.\n",
    "'A'\n",
    ">>> get_column_letter(2)\n",
    "'B'\n",
    ">>> get_column_letter(27)\n",
    "'AA'\n",
    ">>> get_column_letter(900)\n",
    "'AHP'\n",
    ">>> wb = openpyxl.load_workbook('example.xlsx')\n",
    ">>> sheet = wb['Sheet1']\n",
    ">>> get_column_letter(sheet.max_column)\n",
    "'C'\n",
    ">>> column_index_from_string('A') # Get A's number.\n",
    "1\n",
    ">>> column_index_from_string('AA')\n",
    "27"
   ]
  },
  {
   "cell_type": "code",
   "execution_count": null,
   "metadata": {},
   "outputs": [],
   "source": [
    "從openpyxl.utils模塊導入這兩個函數後，可以調用get_column_letter（）並將其傳遞給27這樣的整數，以找出第27列的字母名稱。函數column_index_string（）的作用相反：您將列的字母名稱傳遞給它，然後它告訴您該列的編號。您無需加載工作簿即可使用這些功能。如果需要，您可以加載工作簿，獲取Worksheet對象，並使用max_column之類的Worksheet屬性獲取整數。然後，您可以將該整數傳遞給get_column_letter（）。"
   ]
  },
  {
   "cell_type": "code",
   "execution_count": null,
   "metadata": {},
   "outputs": [],
   "source": [
    "從工作表獲取行和列"
   ]
  },
  {
   "cell_type": "code",
   "execution_count": null,
   "metadata": {},
   "outputs": [],
   "source": [
    "您可以對工作表對象進行切片，以獲取電子表格的行，列或矩形區域中的所有單元格對象。然後，您可以遍歷切片中的所有單元格。在交互式外殼中輸入以下內容："
   ]
  },
  {
   "cell_type": "code",
   "execution_count": null,
   "metadata": {},
   "outputs": [],
   "source": [
    " >>> import openpyxl\n",
    "   >>> wb = openpyxl.load_workbook('example.xlsx')\n",
    "   >>> sheet = wb['Sheet1']\n",
    "   >>> tuple(sheet['A1':'C3']) # Get all cells from A1 to C3.\n",
    "   ((<Cell 'Sheet1'.A1>, <Cell 'Sheet1'.B1>, <Cell 'Sheet1'.C1>), (<Cell\n",
    "   'Sheet1'.A2>, <Cell 'Sheet1'.B2>, <Cell 'Sheet1'.C2>), (<Cell 'Sheet1'.A3>,\n",
    "   <Cell 'Sheet1'.B3>, <Cell 'Sheet1'.C3>))\n",
    "➊ >>> for rowOfCellObjects in sheet['A1':'C3']:\n",
    "➋ ...     for cellObj in rowOfCellObjects:\n",
    "   ...         print(cellObj.coordinate, cellObj.value)\n",
    "   ...     print('--- END OF ROW ---')"
   ]
  },
  {
   "cell_type": "code",
   "execution_count": null,
   "metadata": {},
   "outputs": [],
   "source": [
    "在這裡，我們指定要在從A1到C3的矩形區域中使用Cell對象，並獲得一個Generator對象，其中包含該區域中的Cell對象。為了幫助我們可視化此Generator對象，我們可以在其上使用tuple（）在一個元組中顯示其Cell對象。\n",
    "\n",
    "該元組包含三個元組：每行一個，從所需區域的頂部到底部。這三個內部元組中的每個元組都在所需區域的一行中（從最左側的單元格到右側）包含Cell對象。因此，總的來說，我們的工作表切片包含從A1到C3區域中的所有Cell對象，從左上角的單元格到右下角的單元格結束。\n",
    "\n",
    "要打印該區域中每個單元格的值，我們使用兩個for循環。外部for循環遍歷切片➊中的每一行。然後，對於每一行，嵌套的循環經過該行中每個單元➋。\n",
    "\n",
    "要訪問特定行或列中單元格的值，您還可以使用工作表對象的“ 行和列”屬性。在使用方括號和索引之前，必須使用list（）函數將這些屬性轉換為列表。在交互式外殼中輸入以下內容："
   ]
  },
  {
   "cell_type": "code",
   "execution_count": null,
   "metadata": {},
   "outputs": [],
   "source": [
    ">>> import openpyxl\n",
    ">>> wb = openpyxl.load_workbook('example.xlsx')\n",
    ">>> sheet = wb.active\n",
    ">>> list(sheet.columns)[1] # Get second column's cells.\n",
    "(<Cell 'Sheet1'.B1>, <Cell 'Sheet1'.B2>, <Cell 'Sheet1'.B3>, <Cell 'Sheet1'.\n",
    "B4>, <Cell 'Sheet1'.B5>, <Cell 'Sheet1'.B6>, <Cell 'Sheet1'.B7>)\n",
    ">>> for cellObj in list(sheet.columns)[1]:\n",
    "        print(cellObj.value)"
   ]
  },
  {
   "cell_type": "code",
   "execution_count": null,
   "metadata": {},
   "outputs": [],
   "source": [
    "在工作表對像上使用rows屬性將為您提供一個元組。這些內部元組中的每個元組都代表一行，並在該行中包含Cell對象。的列屬性也給你的元組的元組，其中每個含有內的元組的細胞中的特定對象柱。例如.xlsx，因為有7行和3列，所以row給我們一個7個元組的元組（每個包含3個Cell對象），而column給我們一個3個元組的元組（每個包含7個Cell對象）。\n",
    "\n",
    "要訪問一個特定的元組，您可以通過較大元組中的索引來引用它。例如，要獲取表示列B的元組，請使用list（sheet.columns）[1]。要獲取包含A列中Cell對象的元組，可以使用list（sheet.columns）[0]。一旦具有代表一行或一列的元組，就可以遍歷其Cell對象並打印其值。"
   ]
  },
  {
   "cell_type": "code",
   "execution_count": null,
   "metadata": {},
   "outputs": [],
   "source": [
    "工作簿，工作表，單元格"
   ]
  },
  {
   "cell_type": "code",
   "execution_count": null,
   "metadata": {},
   "outputs": [],
   "source": [
    "快速回顧一下，以下是從電子表格文件中讀取單元格所涉及的所有函數，方法和數據類型的摘要：\n",
    "\n",
    "導入openpyxl模塊。\n",
    "調用openpyxl.load_workbook（）函數。\n",
    "獲取一個工作簿對象。\n",
    "使用active或sheetnames屬性。\n",
    "獲取一個工作表對象。\n",
    "使用帶有行和列關鍵字參數的索引或cell（）工作表方法。\n",
    "獲取一個Cell對象。\n",
    "讀取單元格對象的value屬性。"
   ]
  },
  {
   "cell_type": "code",
   "execution_count": null,
   "metadata": {},
   "outputs": [],
   "source": [
    "項目：從電子表格讀取數據"
   ]
  },
  {
   "cell_type": "code",
   "execution_count": null,
   "metadata": {},
   "outputs": [],
   "source": [
    "假設您有一個來自2010年美國人口普查數據的電子表格，並且您要完成無聊的任務，即遍歷數千行以計算每個縣的總人口和普查區域數。（普查區只是為普查目的定義的地理區域。）每一行代表一個普查區。我們將電子表格文件命名為censuspopdata.xlsx，您可以從https://nostarch.com/automatestuff2/下載。其內容如圖13-2所示。"
   ]
  },
  {
   "cell_type": "code",
   "execution_count": null,
   "metadata": {},
   "outputs": [],
   "source": [
    "選擇單元格。即使只花幾秒鐘來手工計算一個縣的人口，整個電子表格也要花幾個小時。\n",
    "\n",
    "在此項目中，您將編寫一個腳本，該腳本可以從人口普查電子表格文件中讀取並在幾秒鐘內計算每個縣的統計信息。\n",
    "\n",
    "這是您的程序執行的操作：\n",
    "\n",
    "從Excel電子表格中讀取數據\n",
    "計算每個縣的人口普查區數量\n",
    "計算每個縣的總人口\n",
    "打印結果\n",
    "這意味著您的代碼將需要執行以下操作：\n",
    "\n",
    "使用openpyxl模塊打開並讀取Excel文檔的單元格。\n",
    "計算所有區域和人口數據並將其存儲在數據結構中。\n",
    "使用pprint模塊將數據結構寫入擴展名為.py的文本文件。"
   ]
  },
  {
   "cell_type": "code",
   "execution_count": null,
   "metadata": {},
   "outputs": [],
   "source": [
    "第1步：讀取電子表格數據"
   ]
  },
  {
   "cell_type": "code",
   "execution_count": null,
   "metadata": {},
   "outputs": [],
   "source": [
    "一個人口普查區域的數據。列是區域編號（A），州縮寫（B），縣名（C）和區域人口（D）。\n",
    "\n",
    "打開一個新的文件編輯器選項卡，然後輸入以下代碼。將文件另存為readCensusExcel.py。"
   ]
  },
  {
   "cell_type": "code",
   "execution_count": null,
   "metadata": {},
   "outputs": [],
   "source": [
    " #! python3\n",
    "   # readCensusExcel.py - Tabulates population and number of census tracts for\n",
    "   # each county.\n",
    "\n",
    "➊ import openpyxl, pprint\n",
    "   print('Opening workbook...')\n",
    "➋ wb = openpyxl.load_workbook('censuspopdata.xlsx')\n",
    "➌ sheet = wb['Population by Census Tract']\n",
    "   countyData = {}\n",
    "\n",
    "   # TODO: Fill in countyData with each county's population and tracts.\n",
    "   print('Reading rows...')\n",
    "➍ for row in range(2, sheet.max_row + 1):\n",
    "       # Each row in the spreadsheet has data for one census tract.\n",
    "       state  = sheet['B' + str(row)].value\n",
    "       county = sheet['C' + str(row)].value\n",
    "       pop    = sheet['D' + str(row)].value\n",
    "\n",
    "# TODO: Open a new text file and write the contents of countyData to it."
   ]
  },
  {
   "cell_type": "code",
   "execution_count": null,
   "metadata": {},
   "outputs": [],
   "source": [
    "此代碼將導入openpyxl模塊以及用於打印最終縣數據➊的pprint模塊。然後，它會打開censuspopdata.xlsx文件➋，得到與普查數據的工作表➌，並開始遍歷其行➍。\n",
    "\n",
    "請注意，您還創建了一個名為countyData的變量，該變量將包含您為每個縣計算的人口和道數。但是，在將任何內容存儲在其中之前，您應該確定要如何構造其中的數據。"
   ]
  },
  {
   "cell_type": "code",
   "execution_count": null,
   "metadata": {},
   "outputs": [],
   "source": [
    "步驟2：填充數據結構"
   ]
  },
  {
   "cell_type": "code",
   "execution_count": null,
   "metadata": {},
   "outputs": [],
   "source": [
    "存儲在countyData中的數據結構將是一個以狀態縮寫為鍵的字典。每個州的縮寫將映射到另一個詞典，其關鍵字是該州縣名的字符串。每個縣名將依次映射到只有兩個鍵的字典，即“域”和“流行”。這些關鍵字映射到該縣的人口普查區域和人口數量。例如，該詞典將類似於以下內容："
   ]
  },
  {
   "cell_type": "code",
   "execution_count": null,
   "metadata": {},
   "outputs": [],
   "source": [
    "{'AK': {'Aleutians East': {'pop': 3141, 'tracts': 1},\n",
    "        'Aleutians West': {'pop': 5561, 'tracts': 2},\n",
    "        'Anchorage': {'pop': 291826, 'tracts': 55},\n",
    "        'Bethel': {'pop': 17013, 'tracts': 3},\n",
    "        'Bristol Bay': {'pop': 997, 'tracts': 1},"
   ]
  },
  {
   "cell_type": "code",
   "execution_count": null,
   "metadata": {},
   "outputs": [],
   "source": [
    "如果先前的字典存儲在countyData中，則以下表達式的計算方式如下："
   ]
  },
  {
   "cell_type": "code",
   "execution_count": null,
   "metadata": {},
   "outputs": [],
   "source": [
    ">>> countyData['AK']['Anchorage']['pop']\n",
    "291826\n",
    ">>> countyData['AK']['Anchorage']['tracts']\n",
    "55"
   ]
  },
  {
   "cell_type": "code",
   "execution_count": null,
   "metadata": {},
   "outputs": [],
   "source": [
    "一般來說，countryData字典的鍵如下所示："
   ]
  },
  {
   "cell_type": "code",
   "execution_count": null,
   "metadata": {},
   "outputs": [],
   "source": [
    "countyData[state abbrev][county]['tracts']\n",
    "countyData[state abbrev][county]['pop']"
   ]
  },
  {
   "cell_type": "code",
   "execution_count": null,
   "metadata": {},
   "outputs": [],
   "source": [
    "既然知道了CountyData的結構，就可以編寫將郡數據填充到其中的代碼。將以下代碼添加到程序的底部："
   ]
  },
  {
   "cell_type": "code",
   "execution_count": null,
   "metadata": {},
   "outputs": [],
   "source": [
    "#! python 3\n",
    "# readCensusExcel.py - Tabulates population and number of census tracts for\n",
    "# each county.\n",
    "\n",
    "--snip--\n",
    "\n",
    "for row in range(2, sheet.max_row + 1):\n",
    "     # Each row in the spreadsheet has data for one census tract.\n",
    "     state  = sheet['B' + str(row)].value\n",
    "     county = sheet['C' + str(row)].value\n",
    "     pop    = sheet['D' + str(row)].value\n",
    "\n",
    "     # Make sure the key for this state exists.\n",
    "  ➊ countyData.setdefault(state, {})\n",
    "     # Make sure the key for this county in this state exists.\n",
    "  ➋ countyData[state].setdefault(county, {'tracts': 0, 'pop': 0})\n",
    "\n",
    "     # Each row represents one census tract, so increment by one.\n",
    "  ➌ countyData[state][county]['tracts'] += 1\n",
    "     # Increase the county pop by the pop in this census tract.\n",
    "  ➍ countyData[state][county]['pop'] += int(pop)\n",
    "\n",
    "# TODO: Open a new text file and write the contents of countyData to it."
   ]
  },
  {
   "cell_type": "code",
   "execution_count": null,
   "metadata": {},
   "outputs": [],
   "source": [
    "代碼的最後兩行執行實際的計算工作，遞增值大片 ➌和保值增值的流行 ➍上的每一次迭代當前全縣的循環。\n",
    "\n",
    "那裡有其他代碼，因為您不能添加縣字典作為州縮寫鍵的值，除非該鍵本身存在於countyData中。（也就是說，如果' AK'鍵尚不存在，則CountyData ['AK'] ['Anchorage'] ['tracts] + = 1將導致錯誤。）確保狀態縮寫鍵存在於您的數據結構，如果狀態➊不存在，則需要調用setdefault（）方法來設置一個值。\n",
    "\n",
    "就像countyData詞典需要一個字典作為每個州縮寫鍵的值一樣，這些詞典中的每一個字典都需要自己的字典作為每個縣縮寫➋的值。並且每個這些反過來字典將需要鑰匙'大片'和'流行'，與整數值開始0。（如果您不了解字典的結構，請回顧本節開頭的示例字典。）\n",
    "\n",
    "由於setdefault（）在鍵已經存在的情況下不會執行任何操作，因此可以在for循環的每次迭代中調用它而不會出現問題。"
   ]
  },
  {
   "cell_type": "code",
   "execution_count": null,
   "metadata": {},
   "outputs": [],
   "source": [
    "步驟3：將結果寫入文件"
   ]
  },
  {
   "cell_type": "code",
   "execution_count": null,
   "metadata": {},
   "outputs": [],
   "source": [
    "在之後的循環已經結束時，countyData字典將包含所有的縣和國家鍵控人口和道信息。此時，您可以編寫更多代碼以將其寫入文本文件或另一個Excel電子表格。現在，讓我們僅使用pprint.pformat（）函數將countyData字典值作為大字符串寫入名為census2010.py的文件中。將以下代碼添加到程序的底部（確保不縮進以使它保持在for循環之外）："
   ]
  },
  {
   "cell_type": "code",
   "execution_count": null,
   "metadata": {},
   "outputs": [],
   "source": [
    "#! python 3\n",
    "# readCensusExcel.py - Tabulates population and number of census tracts for\n",
    "# each county.\n",
    "\n",
    "--snip--\n",
    "\n",
    "for row in range(2, sheet.max_row + 1):\n",
    "--snip--\n",
    "\n",
    "# Open a new text file and write the contents of countyData to it.\n",
    "print('Writing results...')\n",
    "resultFile = open('census2010.py', 'w')\n",
    "resultFile.write('allData = ' + pprint.pformat(countyData))\n",
    "resultFile.close()\n",
    "print('Done.')"
   ]
  },
  {
   "cell_type": "code",
   "execution_count": null,
   "metadata": {},
   "outputs": [],
   "source": [
    "所述pprint.pformat（）函數產生一個字符串，它本身被格式化為有效Python代碼。通過將其輸出到名為census2010.py的文本文件，您已經從Python程序生成了一個Python程序！這似乎很複雜，但是好處是您現在可以像其他任何Python模塊一樣導入census2010.py。在交互式外殼中，將當前工作目錄更改為包含新創建的census2010.py文件的文件夾，然後將其導入："
   ]
  },
  {
   "cell_type": "code",
   "execution_count": null,
   "metadata": {},
   "outputs": [],
   "source": [
    ">>> import os\n",
    "\n",
    ">>> import census2010\n",
    ">>> census2010.allData['AK']['Anchorage']\n",
    "{'pop': 291826, 'tracts': 55}\n",
    ">>> anchoragePop = census2010.allData['AK']['Anchorage']['pop']\n",
    ">>> print('The 2010 population of Anchorage was ' + str(anchoragePop))\n",
    "The 2010 population of Anchorage was 291826"
   ]
  },
  {
   "cell_type": "code",
   "execution_count": null,
   "metadata": {},
   "outputs": [],
   "source": [
    "該readCensusExcel.py計劃是一次性的代碼：一旦你它的結果保存到census2010.py，你將不需要再次運行該程序。只要需要縣數據，就可以運行import census2010。\n",
    "\n",
    "手工計算這些數據將花費數小時；這個程序在幾秒鐘內完成了。使用OpenPyXL，可以輕鬆提取保存到Excel電子表格中的信息並對其進行計算。您可以從https://nostarch.com/automatestuff2/下載完整程序。"
   ]
  },
  {
   "cell_type": "code",
   "execution_count": null,
   "metadata": {},
   "outputs": [],
   "source": [
    "類似程序的想法"
   ]
  },
  {
   "cell_type": "code",
   "execution_count": null,
   "metadata": {},
   "outputs": [],
   "source": [
    "許多企業和辦公室使用Excel來存儲各種類型的數據，並且電子表格會變得龐大且笨重，這並不罕見。解析Excel電子表格的任何程序都具有類似的結構：它將加載電子表格文件，準備一些變量或數據結構，然後循環遍歷電子表格中的每一行。這樣的程序可以執行以下操作：\n",
    "\n",
    "比較電子表格中多行數據。\n",
    "打開多個Excel文件並比較電子表格之間的數據。\n",
    "檢查電子表格是否在任何單元格中具有空白行或無效數據，並警告用戶是否這樣做。\n",
    "從電子表格中讀取數據，並將其用作Python程序的輸入。"
   ]
  },
  {
   "cell_type": "code",
   "execution_count": null,
   "metadata": {},
   "outputs": [],
   "source": [
    "編寫Excel文檔"
   ]
  },
  {
   "cell_type": "code",
   "execution_count": null,
   "metadata": {},
   "outputs": [],
   "source": [
    "OpenPyXL還提供了寫入數據的方式，這意味著您的程序可以創建和編輯電子表格文件。使用Python，創建包含數千行數據的電子表格非常簡單。"
   ]
  },
  {
   "cell_type": "code",
   "execution_count": null,
   "metadata": {},
   "outputs": [],
   "source": [
    "創建和保存Excel文檔"
   ]
  },
  {
   "cell_type": "code",
   "execution_count": null,
   "metadata": {},
   "outputs": [],
   "source": [
    "調用openpyxl.Workbook（）函數來創建一個新的空白Workbook對象。在交互式外殼中輸入以下內容："
   ]
  },
  {
   "cell_type": "code",
   "execution_count": null,
   "metadata": {},
   "outputs": [],
   "source": [
    ">>> import openpyxl\n",
    ">>> wb = openpyxl.Workbook() # Create a blank workbook.\n",
    ">>> wb.sheetnames # It starts with one sheet.\n",
    "['Sheet']\n",
    ">>> sheet = wb.active\n",
    ">>> sheet.title\n",
    "'Sheet'\n",
    ">>> sheet.title = 'Spam Bacon Eggs Sheet' # Change title.\n",
    ">>> wb.sheetnames\n",
    "['Spam Bacon Eggs Sheet']"
   ]
  },
  {
   "cell_type": "code",
   "execution_count": null,
   "metadata": {},
   "outputs": [],
   "source": [
    "該工作簿將從一個名為Sheet的工作表開始。您可以通過在工作表的title屬性中存儲新字符串來更改工作表的名稱。\n",
    "\n",
    "每次修改Workbook對像或其工作表和單元格時，電子表格文件都不會保存，除非您調用save（）工作簿方法。將以下內容輸入到交互式外殼程序中（在當前工作目錄中帶有example.xlsx）："
   ]
  },
  {
   "cell_type": "code",
   "execution_count": null,
   "metadata": {},
   "outputs": [],
   "source": [
    ">>> import openpyxl\n",
    ">>> wb = openpyxl.load_workbook('example.xlsx')\n",
    ">>> sheet = wb.active\n",
    ">>> sheet.title = 'Spam Spam Spam'\n",
    ">>> wb.save('example_copy.xlsx') # Save the workbook."
   ]
  },
  {
   "cell_type": "code",
   "execution_count": null,
   "metadata": {},
   "outputs": [],
   "source": [
    "在這裡，我們更改工作表的名稱。為了保存更改，我們將文件名作為字符串傳遞給save（）方法。傳遞與原始文件名不同的文件名，例如'example_copy.xlsx'，將所做的更改保存到電子表格的副本中。\n",
    "\n",
    "每當您編輯從文件加載的電子表格時，都應始終將編輯後的新電子表格保存到與原始文件不同的文件名。這樣，您仍然可以使用原始電子表格文件，以防代碼中的錯誤導致新的保存文件中的數據不正確或損壞。"
   ]
  },
  {
   "cell_type": "code",
   "execution_count": null,
   "metadata": {},
   "outputs": [],
   "source": [
    "創建和刪除工作表"
   ]
  },
  {
   "cell_type": "code",
   "execution_count": null,
   "metadata": {},
   "outputs": [],
   "source": [
    "可以使用create_sheet（）方法和del運算符在工作簿中添加和刪除工作表。在交互式外殼中輸入以下內容："
   ]
  },
  {
   "cell_type": "code",
   "execution_count": null,
   "metadata": {},
   "outputs": [],
   "source": [
    ">>> import openpyxl\n",
    ">>> wb = openpyxl.Workbook()\n",
    ">>> wb.sheetnames\n",
    "['Sheet']\n",
    ">>> wb.create_sheet() # Add a new sheet.\n",
    "<Worksheet \"Sheet1\">\n",
    ">>> wb.sheetnames\n",
    "['Sheet', 'Sheet1']\n",
    ">>> # Create a new sheet at index 0.\n",
    ">>> wb.create_sheet(index=0, title='First Sheet')\n",
    "<Worksheet \"First Sheet\">\n",
    ">>> wb.sheetnames\n",
    "['First Sheet', 'Sheet', 'Sheet1']\n",
    ">>> wb.create_sheet(index=2, title='Middle Sheet')\n",
    "<Worksheet \"Middle Sheet\">\n",
    ">>> wb.sheetnames\n",
    "['First Sheet', 'Sheet', 'Middle Sheet', 'Sheet1']"
   ]
  },
  {
   "cell_type": "code",
   "execution_count": null,
   "metadata": {},
   "outputs": [],
   "source": [
    "所述create_sheet（）方法返回一個新的工作表對象命名表X，默認被設置為最後一個薄片的工作簿。（可選）可以使用index和title關鍵字參數指定新工作表的索引和名稱。\n",
    "\n",
    "輸入以下內容，以繼續前面的示例："
   ]
  },
  {
   "cell_type": "code",
   "execution_count": null,
   "metadata": {},
   "outputs": [],
   "source": [
    ">>> wb.sheetnames\n",
    "['First Sheet', 'Sheet', 'Middle Sheet', 'Sheet1']\n",
    ">>> del wb['Middle Sheet']\n",
    ">>> del wb['Sheet1']\n",
    ">>> wb.sheetnames\n",
    "['First Sheet', 'Sheet']"
   ]
  },
  {
   "cell_type": "code",
   "execution_count": null,
   "metadata": {},
   "outputs": [],
   "source": [
    "您可以使用del運算符從工作簿中刪除工作表，就像您可以使用它從字典中刪除鍵/值對一樣。\n",
    "\n",
    "在向工作簿中添加工作表或從工作簿中刪除工作表之後，切記調用save（）方法來保存更改。"
   ]
  },
  {
   "cell_type": "code",
   "execution_count": null,
   "metadata": {},
   "outputs": [],
   "source": [
    "將值寫入單元格"
   ]
  },
  {
   "cell_type": "code",
   "execution_count": null,
   "metadata": {},
   "outputs": [],
   "source": [
    "將值寫入單元格就像將值寫入字典中的鍵一樣。將其輸入到交互式外殼中："
   ]
  },
  {
   "cell_type": "code",
   "execution_count": null,
   "metadata": {},
   "outputs": [],
   "source": [
    ">>> import openpyxl\n",
    ">>> wb = openpyxl.Workbook()\n",
    ">>> sheet = wb['Sheet']\n",
    ">>> sheet['A1'] = 'Hello, world!' # Edit the cell's value.\n",
    ">>> sheet['A1'].value\n",
    "'Hello, world!'"
   ]
  },
  {
   "cell_type": "code",
   "execution_count": null,
   "metadata": {},
   "outputs": [],
   "source": [
    "如果將單元格的坐標作為字符串，則可以像在工作表對像上的字典鍵一樣使用它來指定要寫入的單元格。"
   ]
  },
  {
   "cell_type": "code",
   "execution_count": null,
   "metadata": {},
   "outputs": [],
   "source": [
    "項目：更新電子表格"
   ]
  },
  {
   "cell_type": "code",
   "execution_count": null,
   "metadata": {},
   "outputs": [],
   "source": [
    "在此項目中，您將編寫一個程序來更新農產品銷售電子表格中的單元格。您的程序將瀏覽電子表格，查找特定種類的產品，並更新其價格。從https://nostarch.com/automatestuff2/下載此電子表格。圖13-3顯示了電子表格的外觀。"
   ]
  },
  {
   "cell_type": "code",
   "execution_count": null,
   "metadata": {},
   "outputs": [],
   "source": [
    "每行代表一個單獨的銷售。列是已售產品的類型（A），每磅產品的成本（B），已售磅數（C）和銷售總收入（D）。TOTAL列設置為Excel公式= ROUND（B3 * C3，2），該公式將每磅成本乘以出售的磅數並將結果四捨五入到最接近的美分。使用此公式，如果B列或C列發生更改，則TOTAL列中的單元格將自動更新。\n",
    "\n",
    "現在想像一下，大蒜，芹菜和檸檬的價格輸入錯誤，讓您無聊的任務是遍歷該電子表格中的數千行以更新每磅大蒜，芹菜和檸檬的成本。您無法簡單地找到並替換價格，因為您可能不想以其他價格錯誤地“更正”其他商品。對於數千行，這需要手動完成幾個小時。但是您可以編寫一個可以在幾秒鐘內完成此操作的程序。\n",
    "\n",
    "您的程序執行以下操作：\n",
    "\n",
    "遍歷所有行\n",
    "如果該行用於大蒜，芹菜或檸檬，請更改價格\n",
    "這意味著您的代碼將需要執行以下操作：\n",
    "\n",
    "打開電子表格文件。\n",
    "對於每一行，檢查A列中的值是Celery，Garlic還是Lemon。\n",
    "如果是，請更新B列中的價格。\n",
    "將電子表格保存到新文件（以防萬一，您不會丟失舊電子表格）。"
   ]
  },
  {
   "cell_type": "code",
   "execution_count": null,
   "metadata": {},
   "outputs": [],
   "source": [
    "步驟1：使用更新信息設置數據結構"
   ]
  },
  {
   "cell_type": "code",
   "execution_count": null,
   "metadata": {},
   "outputs": [],
   "source": [
    "您需要更新的價格如下：\n",
    "\n",
    "芹菜1.19\n",
    "\n",
    "大蒜3.07\n",
    "\n",
    "檸檬1.27\n",
    "\n",
    "您可以這樣編寫代碼："
   ]
  },
  {
   "cell_type": "code",
   "execution_count": null,
   "metadata": {},
   "outputs": [],
   "source": [
    "if produceName == 'Celery':\n",
    "    cellObj = 1.19\n",
    "if produceName == 'Garlic':\n",
    "    cellObj = 3.07\n",
    "if produceName == 'Lemon':\n",
    "    cellObj = 1.27"
   ]
  },
  {
   "cell_type": "code",
   "execution_count": null,
   "metadata": {},
   "outputs": [],
   "source": [
    "像這樣對生產和更新的價格數據進行硬編碼有點不好。如果您需要使用不同的價格或不同的產品再次更新電子表格，則必須更改很多代碼。每次更改代碼時，您都有引入錯誤的風險。\n",
    "\n",
    "更為靈活的解決方案是將更正後的價格信息存儲在字典中，並編寫代碼以使用此數據結構。在新的文件編輯器選項卡中，輸入以下代碼："
   ]
  },
  {
   "cell_type": "code",
   "execution_count": null,
   "metadata": {},
   "outputs": [],
   "source": [
    "#! python3\n",
    "# updateProduce.py - Corrects costs in produce sales spreadsheet.\n",
    "\n",
    "import openpyxl\n",
    "\n",
    "wb = openpyxl.load_workbook('produceSales.xlsx')\n",
    "sheet = wb['Sheet']\n",
    "\n",
    "# The produce types and their updated prices\n",
    "PRICE_UPDATES = {'Garlic': 3.07,\n",
    "                 'Celery': 1.19,\n",
    "                 'Lemon': 1.27}\n",
    "\n",
    "# TODO: Loop through the rows and update the prices."
   ]
  },
  {
   "cell_type": "code",
   "execution_count": null,
   "metadata": {},
   "outputs": [],
   "source": [
    "將其另存為updateProduce.py。如果您需要再次更新電子表格，則只需更新PRICE_UPDATES詞典，而無需更新任何其他代碼。"
   ]
  },
  {
   "cell_type": "code",
   "execution_count": null,
   "metadata": {},
   "outputs": [],
   "source": [
    "步驟2：檢查所有行並更新不正確的價格"
   ]
  },
  {
   "cell_type": "code",
   "execution_count": null,
   "metadata": {},
   "outputs": [],
   "source": [
    "程序的下一部分將遍歷電子表格中的所有行。將以下代碼添加到updateProduce.py的底部："
   ]
  },
  {
   "cell_type": "code",
   "execution_count": null,
   "metadata": {},
   "outputs": [],
   "source": [
    "#! python3\n",
    "   # updateProduce.py - Corrects costs in produce sales spreadsheet.\n",
    "\n",
    "   --snip--\n",
    "\n",
    "   # Loop through the rows and update the prices.\n",
    "➊ for rowNum in range(2, sheet.max_row):    # skip the first row\n",
    "    ➋ produceName = sheet.cell(row=rowNum, column=1).value\n",
    "    ➌ if produceName in PRICE_UPDATES:\n",
    "          sheet.cell(row=rowNum, column=2).value = PRICE_UPDATES[produceName]\n",
    "\n",
    "➍ wb.save('updatedProduceSales.xlsx')"
   ]
  },
  {
   "cell_type": "code",
   "execution_count": null,
   "metadata": {},
   "outputs": [],
   "source": [
    "因為第1行只是標題➊，所以我們遍歷了從第2行開始的行。在第1列的單元（即，列A）將被存儲在變量produceName ➋。如果在PRICE_UPDATES字典➌ 中將ProduceName作為鍵存在，那麼您知道這是一行，必須對其價格進行更正。正確的價格將在PRICE_UPDATES [produceName]中。\n",
    "\n",
    "請注意，使用PRICE_UPDATES使代碼更乾淨。對於每種類型的農產品要更新，只需要一個if語句，而不是諸如produceName =='Garlic'：這樣的代碼。並且由於代碼使用PRICE_UPDATES字典，而不是將產品名稱和更新的成本硬編碼到for循環中，因此，如果產品銷售電子表格需要進行其他更改，則僅修改PRICE_UPDATES字典，而不修改代碼。\n",
    "\n",
    "通過整個電子表格，並會進行更改後，代碼保存工作簿對象updatedProduceSales.xlsx ➍。它不會覆蓋舊的電子表格，以防萬一您的程序中有錯誤並且更新的電子表格是錯誤的。在檢查更新的電子表格看起來正確之後，您可以刪除舊的電子表格。\n",
    "\n",
    "您可以從https://nostarch.com/automatestuff2/下載該程序的完整源代碼。"
   ]
  },
  {
   "cell_type": "code",
   "execution_count": null,
   "metadata": {},
   "outputs": [],
   "source": [
    "類似程序的想法"
   ]
  },
  {
   "cell_type": "code",
   "execution_count": null,
   "metadata": {},
   "outputs": [],
   "source": [
    "由於許多辦公室工作人員一直在使用Excel電子表格，因此可以自動編輯和寫入Excel文件的程序非常有用。這樣的程序可以執行以下操作：\n",
    "\n",
    "從一個電子表格中讀取數據，並將其寫入其他電子表格的一部分。\n",
    "從網站，文本文件或剪貼板中讀取數據，並將其寫入電子表格。\n",
    "自動“清除”電子表格中的數據。例如，它可以使用正則表達式來讀取多種格式的電話號碼，並將其編輯為單一的標準格式。"
   ]
  },
  {
   "cell_type": "code",
   "execution_count": null,
   "metadata": {},
   "outputs": [],
   "source": [
    "設置單元格的字體樣式"
   ]
  },
  {
   "cell_type": "code",
   "execution_count": null,
   "metadata": {},
   "outputs": [],
   "source": [
    "設置某些單元格，行或列的樣式可以幫助您強調電子表格中的重要區域。例如，在農產品電子表格中，您的程序可以將粗體文本應用於馬鈴薯，大蒜和歐洲防風草行。或者，您可能想用每磅成本大於5美元的斜體顯示每行。手動設置大型電子表格的各個部分很麻煩，但是您的程序可以立即完成。\n",
    "\n",
    "要自定義單元格中的字體樣式，重要的是，從openpyxl.styles模塊導入Font（）函數。"
   ]
  },
  {
   "cell_type": "code",
   "execution_count": null,
   "metadata": {},
   "outputs": [],
   "source": [
    "from openpyxl.styles import Font"
   ]
  },
  {
   "cell_type": "code",
   "execution_count": null,
   "metadata": {},
   "outputs": [],
   "source": [
    "這使您可以鍵入Font（）而不是openpyxl.styles.Font（）。（請參閱第47頁的 “ 導入模塊 ” 以查看這種類型的導入語句。）\n",
    "\n",
    "這是一個示例，該示例創建一個新工作簿並將單元格A1設置為24點斜體字體。在交互式外殼中輸入以下內容："
   ]
  },
  {
   "cell_type": "code",
   "execution_count": null,
   "metadata": {},
   "outputs": [],
   "source": [
    " >>> import openpyxl\n",
    "  >>> from openpyxl.styles import Font\n",
    "  >>> wb = openpyxl.Workbook()\n",
    "  >>> sheet = wb['Sheet']\n",
    "➊ >>> italic24Font = Font(size=24, italic=True) # Create a font.\n",
    "➋ >>> sheet['A1'].font = italic24Font # Apply the font to A1.\n",
    "  >>> sheet['A1'] = 'Hello, world!'\n",
    "  >>> wb.save('styles.xlsx')"
   ]
  },
  {
   "cell_type": "code",
   "execution_count": null,
   "metadata": {},
   "outputs": [],
   "source": [
    "在這個例子中，字體（大小= 24，斜體= TRUE）返回一個字體對象，該對象被存儲在italic24Font ➊。Font（）的關鍵字參數，size和italic可以配置Font對象的樣式信息。並且，當為sheet ['A1']。font分配了italic24Font對象➋時，所有字體樣式信息都將應用於單元格A1。"
   ]
  },
  {
   "cell_type": "code",
   "execution_count": null,
   "metadata": {},
   "outputs": [],
   "source": [
    "字體對象"
   ]
  },
  {
   "cell_type": "code",
   "execution_count": null,
   "metadata": {},
   "outputs": [],
   "source": [
    "要設置字體屬性，請將關鍵字參數傳遞給Font（）。表13-2顯示了Font（）函數的可能關鍵字參數。"
   ]
  },
  {
   "cell_type": "code",
   "execution_count": null,
   "metadata": {},
   "outputs": [],
   "source": [
    "您可以調用Font（）創建一個Font對象並將該Font對象存儲在變量中。然後，您將該變量分配給Cell對象的font屬性。例如，此代碼創建各種字體樣式："
   ]
  },
  {
   "cell_type": "code",
   "execution_count": null,
   "metadata": {},
   "outputs": [],
   "source": [
    ">>> import openpyxl\n",
    ">>> from openpyxl.styles import Font\n",
    ">>> wb = openpyxl.Workbook()\n",
    ">>> sheet = wb['Sheet']\n",
    "\n",
    ">>> fontObj1 = Font(name='Times New Roman', bold=True)\n",
    ">>> sheet['A1'].font = fontObj1\n",
    ">>> sheet['A1'] = 'Bold Times New Roman'\n",
    "\n",
    ">>> fontObj2 = Font(size=24, italic=True)\n",
    ">>> sheet['B3'].font = fontObj2\n",
    ">>> sheet['B3'] = '24 pt Italic'\n",
    "\n",
    ">>> wb.save('styles.xlsx')"
   ]
  },
  {
   "cell_type": "code",
   "execution_count": null,
   "metadata": {},
   "outputs": [],
   "source": [
    "在這裡，我們將Font對象存儲在fontObj1中，然後將A1 Cell對象的font屬性設置為fontObj1。我們使用另一個Font對象重複此過程以設置第二個單元格的字體。運行此代碼後，電子表格中A1和B3單元格的樣式將設置為自定義字體樣式，如圖13-4所示。"
   ]
  },
  {
   "cell_type": "code",
   "execution_count": null,
   "metadata": {},
   "outputs": [],
   "source": [
    "對於單元格A1，我們將字體名稱設置為'Times New Roman'，並將粗體設置為true，因此我們的文本以粗體Times New Roman顯示。我們沒有指定大小，因此使用了openpyxl默認值11。在單元格B3中，我們的文本為斜體，大小為24；我們沒有指定字體名稱，因此使用了openpyxl默認值Calibri。"
   ]
  },
  {
   "cell_type": "code",
   "execution_count": null,
   "metadata": {},
   "outputs": [],
   "source": [
    "公式"
   ]
  },
  {
   "cell_type": "code",
   "execution_count": null,
   "metadata": {},
   "outputs": [],
   "source": [
    "以等號開頭的Excel公式可以將單元格配置為包含從其他單元格計算出的值。在本節中，您將使用openpyxl模塊以編程方式將公式添加到單元格，就像任何常規值一樣。例如："
   ]
  },
  {
   "cell_type": "code",
   "execution_count": null,
   "metadata": {},
   "outputs": [],
   "source": [
    ">>> sheet['B9'] = '=SUM(B1:B8)'"
   ]
  },
  {
   "cell_type": "code",
   "execution_count": null,
   "metadata": {},
   "outputs": [],
   "source": [
    "這會將= SUM（B1：B8）存儲為單元格B9中的值。這會將B9單元格設置為一個公式，該公式計算單元格B1至B8中的值之和。您可以在圖13-5中看到這一點。"
   ]
  },
  {
   "cell_type": "code",
   "execution_count": null,
   "metadata": {},
   "outputs": [],
   "source": [
    "Excel公式的設置與單元格中的其他任何文本值一樣。在交互式外殼中輸入以下內容："
   ]
  },
  {
   "cell_type": "code",
   "execution_count": null,
   "metadata": {},
   "outputs": [],
   "source": [
    ">>> import openpyxl\n",
    ">>> wb = openpyxl.Workbook()\n",
    ">>> sheet = wb.active\n",
    ">>> sheet['A1'] = 200\n",
    ">>> sheet['A2'] = 300\n",
    ">>> sheet['A3'] = '=SUM(A1:A2)' # Set the formula.\n",
    ">>> wb.save('writeFormula.xlsx')"
   ]
  },
  {
   "cell_type": "code",
   "execution_count": null,
   "metadata": {},
   "outputs": [],
   "source": [
    "A1和A2中的單元格分別設置為200和300。單元格A3中的值設置為一個將A1和A2中的值相加的公式。在Excel中打開電子表格後，A3將其值顯示為500。\n",
    "\n",
    "Excel公式為電子表格提供了一定程度的可編程性，但對於復雜的任務可能很快變得難以管理。例如，即使您對Excel公式非常熟悉，嘗試破譯= IFERROR（TRIM（IF（LEN（LEN（VLOOKUP（F7，Sheet2！$ A $ 1：$ B $ 10000，2，FALSE）））還是很頭疼。> 0，SUBSTITUTE（VLOOKUP（F7，Sheet2！$ A $ 1：$ B $ 10000，2，FALSE），“”，“”），“”）），“”）實際上起作用。Python代碼更具可讀性。"
   ]
  },
  {
   "cell_type": "code",
   "execution_count": null,
   "metadata": {},
   "outputs": [],
   "source": [
    "調整行和列"
   ]
  },
  {
   "cell_type": "code",
   "execution_count": null,
   "metadata": {},
   "outputs": [],
   "source": [
    "在Excel中，調整行和列的大小就像單擊並拖動行或列標題的邊緣一樣容易。但是如果您需要設置一行或列的大小（基於其單元格的內容），或者如果您想在大量電子表格文件中設置大小，編寫Python程序來執行此操作會更快。\n",
    "\n",
    "行和列也可以完全從視圖中隱藏。或者可以將它們“凍結”在適當的位置，以使它們始終在屏幕上可見，並在打印電子表格時出現在每個頁面上（這對於標題很方便）。"
   ]
  },
  {
   "cell_type": "code",
   "execution_count": null,
   "metadata": {},
   "outputs": [],
   "source": [
    "設置行高和列寬"
   ]
  },
  {
   "cell_type": "code",
   "execution_count": null,
   "metadata": {},
   "outputs": [],
   "source": [
    "工作表對象具有控制行高和列寬的row_dimensions和column_dimensions屬性。將其輸入到交互式外殼中："
   ]
  },
  {
   "cell_type": "code",
   "execution_count": null,
   "metadata": {},
   "outputs": [],
   "source": [
    ">>> import openpyxl\n",
    ">>> wb = openpyxl.Workbook()\n",
    ">>> sheet = wb.active\n",
    ">>> sheet['A1'] = 'Tall row'\n",
    ">>> sheet['B2'] = 'Wide column'\n",
    ">>> # Set the height and width:\n",
    ">>> sheet.row_dimensions[1].height = 70\n",
    ">>> sheet.column_dimensions['B'].width = 20\n",
    ">>> wb.save('dimensions.xlsx')"
   ]
  },
  {
   "cell_type": "code",
   "execution_count": null,
   "metadata": {},
   "outputs": [],
   "source": [
    "工作表的row_dimensions和column_dimensions是類似字典的值；row_dimensions包含RowDimension對象，column_dimensions包含ColumnDimension對象。在row_dimensions中，您可以使用行號（在本例中為1或2）訪問對象之一。在column_dimensions中，可以使用列的字母（在本例中為A或B）訪問對象之一。\n",
    "\n",
    "該dimensions.xlsx電子表格看起來像圖13-6。"
   ]
  },
  {
   "cell_type": "code",
   "execution_count": null,
   "metadata": {},
   "outputs": [],
   "source": [
    "一旦有了RowDimension對象，就可以設置其高度。一旦有了ColumnDimension對象，就可以設置其寬度。行高可以設置為0到409之間的整數或浮點值。該值表示以點為單位的高度，其中一個點等於1/72英寸。默認行高是12.75。列寬可以設置為0到255之間的整數或浮點值。此值表示可以在單元格中顯示的默認字體大小（11磅）處的字符數。默認列寬為8.43個字符。寬度為0的列或高度為0的行 對用戶隱藏。"
   ]
  },
  {
   "cell_type": "code",
   "execution_count": null,
   "metadata": {},
   "outputs": [],
   "source": [
    "合併和合併單元格"
   ]
  },
  {
   "cell_type": "code",
   "execution_count": null,
   "metadata": {},
   "outputs": [],
   "source": [
    "可以使用merge_cells（）工作表方法將矩形區域的單元格合併為單個單元格。在交互式外殼中輸入以下內容："
   ]
  },
  {
   "cell_type": "code",
   "execution_count": null,
   "metadata": {},
   "outputs": [],
   "source": [
    ">>> import openpyxl\n",
    ">>> wb = openpyxl.Workbook()\n",
    ">>> sheet = wb.active\n",
    ">>> sheet.merge_cells('A1:D3') # Merge all these cells.\n",
    ">>> sheet['A1'] = 'Twelve cells merged together.'\n",
    ">>> sheet.merge_cells('C5:D5') # Merge these two cells.\n",
    ">>> sheet['C5'] = 'Two merged cells.'\n",
    ">>> wb.save('merged.xlsx')"
   ]
  },
  {
   "cell_type": "code",
   "execution_count": null,
   "metadata": {},
   "outputs": [],
   "source": [
    "merge_cells（）的參數是要合併的矩形區域的左上和右下單元格的單個字符串：“ A1：D3”將12個單元格合併為一個單元格。要設置這些合併單元格的值，只需設置合併組左上角單元格的值。\n",
    "\n",
    "運行此代碼時，merged.xlsx將如圖13-7所示。"
   ]
  },
  {
   "cell_type": "code",
   "execution_count": null,
   "metadata": {},
   "outputs": [],
   "source": [
    "要取消合併單元格，請調用unmerge_cells（）工作表方法。將其輸入到交互式外殼中："
   ]
  },
  {
   "cell_type": "code",
   "execution_count": null,
   "metadata": {},
   "outputs": [],
   "source": [
    ">>> import openpyxl\n",
    ">>> wb = openpyxl.load_workbook('merged.xlsx')\n",
    ">>> sheet = wb.active\n",
    ">>> sheet.unmerge_cells('A1:D3') # Split these cells up.\n",
    ">>> sheet.unmerge_cells('C5:D5')\n",
    ">>> wb.save('merged.xlsx')"
   ]
  },
  {
   "cell_type": "code",
   "execution_count": null,
   "metadata": {},
   "outputs": [],
   "source": [
    "如果保存所做的更改，然後查看電子表格，您會發現合併的單元格已恢復為單個單元格。"
   ]
  },
  {
   "cell_type": "code",
   "execution_count": null,
   "metadata": {},
   "outputs": [],
   "source": [
    "冷凍窗格"
   ]
  },
  {
   "cell_type": "code",
   "execution_count": null,
   "metadata": {},
   "outputs": [],
   "source": [
    "對於太大而無法一次顯示的電子表格，“凍結”屏幕上的幾行頂行或最左列會很有幫助。例如，凍結的列標題或行標題始終對用戶可見，即使他們在電子表格中滾動。這些稱為凍結窗格。在OpenPyXL中，每個工作表對像都有一個Frozen_panes屬性，可以將其設置為Cell對像或單元格坐標的字符串。請注意，此單元格上方的所有行和左側的所有列將被凍結，但是單元格本身的行和列將不會被凍結。\n",
    "\n",
    "要取消凍結所有窗格，請將freeze_panes設置為None或'A1'。表13-3顯示了對於freeze_panes的某些示例設置將凍結的行和列。"
   ]
  },
  {
   "cell_type": "code",
   "execution_count": null,
   "metadata": {},
   "outputs": [],
   "source": [
    "確保您具有https://nostarch.com/automatestuff2/中的農產品銷售電子表格。然後將以下內容輸入到交互式外殼程序中："
   ]
  },
  {
   "cell_type": "code",
   "execution_count": null,
   "metadata": {},
   "outputs": [],
   "source": [
    ">>> import openpyxl\n",
    ">>> wb = openpyxl.load_workbook('produceSales.xlsx')\n",
    ">>> sheet = wb.active\n",
    ">>> sheet.freeze_panes = 'A2' # Freeze the rows above A2.\n",
    ">>> wb.save('freezeExample.xlsx')"
   ]
  },
  {
   "cell_type": "code",
   "execution_count": null,
   "metadata": {},
   "outputs": [],
   "source": [
    "如果將freeze_panes屬性設置為'A2'，則無論用戶在電子表格中的何處滾動，第1行將始終可見。您可以在圖13-8中看到這一點。"
   ]
  },
  {
   "cell_type": "code",
   "execution_count": null,
   "metadata": {},
   "outputs": [],
   "source": [
    "圖表"
   ]
  },
  {
   "cell_type": "code",
   "execution_count": null,
   "metadata": {},
   "outputs": [],
   "source": [
    "OpenPyXL支持使用工作表單元格中的數據創建條形圖，折線圖，散點圖和餅圖。要製作圖表，您需要執行以下操作：\n",
    "\n",
    "從單元格的矩形選擇中創建參考對象。\n",
    "通過傳入Reference對象來創建Series對象。\n",
    "創建一個Chart對象。\n",
    "將系列對象追加到圖表對象。\n",
    "將Chart對象添加到Worksheet對象，可以選擇指定哪個單元格應該在圖表的左上角。\n",
    "該參考對象需要一些解釋。您可以通過調用openpyxl.chart.Reference（）函數並傳遞三個參數來創建參考對象：\n",
    "\n",
    "包含圖表數據的工作表對象。\n",
    "兩個整數的元組，表示包含圖表數據的單元格的矩形選擇的左上角單元格：元組中的第一個整數是行，第二個是列。注意1是第一行，而不是0。\n",
    "兩個整數的元組，表示包含圖表數據的單元格的矩形選擇的右下角單元格：元組中的第一個整數是行，第二個是列。\n",
    "圖13-9顯示了一些示例坐標參數。"
   ]
  },
  {
   "cell_type": "code",
   "execution_count": null,
   "metadata": {},
   "outputs": [],
   "source": [
    "輸入以下交互式外殼示例，以創建條形圖並將其添加到電子表格中："
   ]
  },
  {
   "cell_type": "code",
   "execution_count": null,
   "metadata": {},
   "outputs": [],
   "source": [
    ">>> import openpyxl\n",
    ">>> wb = openpyxl.Workbook()\n",
    ">>> sheet = wb.active\n",
    ">>> for i in range(1, 11): # create some data in column A\n",
    "...     sheet['A' + str(i)] = i\n",
    "...\n",
    ">>> refObj = openpyxl.chart.Reference(sheet, min_col=1, min_row=1, max_col=1,\n",
    "max_row=10)\n",
    ">>> seriesObj = openpyxl.chart.Series(refObj, title='First series')\n",
    "\n",
    ">>> chartObj = openpyxl.chart.BarChart()\n",
    ">>> chartObj.title = 'My Chart'\n",
    ">>> chartObj.append(seriesObj)\n",
    "\n",
    ">>> sheet.add_chart(chartObj, 'C5')\n",
    ">>> wb.save('sampleChart.xlsx')"
   ]
  },
  {
   "cell_type": "code",
   "execution_count": null,
   "metadata": {},
   "outputs": [],
   "source": [
    "這將產生一個如圖13-10所示的電子表格。"
   ]
  },
  {
   "cell_type": "code",
   "execution_count": null,
   "metadata": {},
   "outputs": [],
   "source": [
    "我們通過調用openpyxl.chart.BarChart（）創建了條形圖。您還可以通過調用openpyxl.charts.LineChart（），openpyxl.chart.ScatterChart（）和openpyxl.chart.PieChart（）來創建折線圖，散點圖和餅圖。"
   ]
  },
  {
   "cell_type": "code",
   "execution_count": null,
   "metadata": {},
   "outputs": [],
   "source": [
    "摘要"
   ]
  },
  {
   "cell_type": "code",
   "execution_count": null,
   "metadata": {},
   "outputs": [],
   "source": [
    "通常，處理信息的難點不是處理本身，而是簡單地為程序獲取正確格式的數據。但是，一旦將電子表格加載到Python中，就可以比手工操作更快地提取和處理其數據。\n",
    "\n",
    "您也可以生成電子表格作為程序的輸出。因此，如果同事需要將您的文本文件或數千個銷售聯繫人的PDF轉移到電子表格文件中，則無需繁瑣地將它們全部複製並粘貼到Excel中。\n",
    "\n",
    "配備了openpyxl模塊和一些編程知識，您甚至可以輕鬆處理最大的電子表格。\n",
    "\n",
    "在下一章中，我們將介紹如何使用Python與另一個電子表格程序進行交互：流行的在線Google表格應用程序。"
   ]
  }
 ],
 "metadata": {
  "kernelspec": {
   "display_name": "Python 3",
   "language": "python",
   "name": "python3"
  },
  "language_info": {
   "codemirror_mode": {
    "name": "ipython",
    "version": 3
   },
   "file_extension": ".py",
   "mimetype": "text/x-python",
   "name": "python",
   "nbconvert_exporter": "python",
   "pygments_lexer": "ipython3",
   "version": "3.7.1"
  }
 },
 "nbformat": 4,
 "nbformat_minor": 2
}
