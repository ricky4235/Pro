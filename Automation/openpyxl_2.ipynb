{
 "cells": [
  {
   "cell_type": "markdown",
   "metadata": {},
   "source": [
    "https://medium.com/pyradise/%E7%95%B6%E5%A4%A7%E8%9F%92%E8%9B%87%E8%AA%9E%E8%A8%80%E9%81%87%E4%B8%8A%E8%80%81%E7%89%8C%E8%A9%A6%E7%AE%97%E8%A1%A8%E8%BB%9F%E9%AB%94-fc7947792000"
   ]
  },
  {
   "cell_type": "code",
   "execution_count": null,
   "metadata": {},
   "outputs": [],
   "source": [
    "這邊就先和大家分享一個在 Python 社群裡處理 Excel 常用的套件：openpyxl"
   ]
  },
  {
   "cell_type": "code",
   "execution_count": null,
   "metadata": {},
   "outputs": [],
   "source": [
    "Hello World\n",
    "接下來就來用 Python 與 openpyxl 寫一個簡單的 Hello World 吧，\n",
    "這邊請先下載我爲各位讀者准備的範例 Excel 檔案"
   ]
  },
  {
   "cell_type": "code",
   "execution_count": 8,
   "metadata": {},
   "outputs": [],
   "source": [
    "import openpyxl\n",
    "import os\n",
    "# os.chdir 是 python 切換到電腦指定路徑的方法\n",
    "os.chdir(r\"C:\\Users\\11004076\\Documents\\Python Scripts\\4_Automation\")\n",
    "\n",
    "workbook = openpyxl.load_workbook('Book1.xlsx')  # 開啓名爲 “Book1” 的 excel 檔案，存入 workbook 這個變數中\n",
    "\n",
    "sheet = workbook['Sheet1']   # 從 workbook 中開啓一個名爲 'Sheet1' 的工作表，存入 sheet 變數\n",
    "\n",
    "sheet.cell(row=1, column=1).value = \"Hello World!\"  # 把 “Hello World!” 這個字串賦值到 row 為 1, column 為 1 的,也就是儲存格 A1\n",
    "# 存檔\n",
    "workbook.save('Book1.xlsx')"
   ]
  },
  {
   "cell_type": "code",
   "execution_count": null,
   "metadata": {},
   "outputs": [],
   "source": [
    " "
   ]
  },
  {
   "cell_type": "code",
   "execution_count": null,
   "metadata": {},
   "outputs": [],
   "source": [
    "再C3儲存格計算成長率=(B3-B2)/B2，並往下計算(Excel“往下拉”功能)"
   ]
  },
  {
   "cell_type": "code",
   "execution_count": 5,
   "metadata": {},
   "outputs": [],
   "source": [
    "import openpyxl\n",
    "import os\n",
    "# os.chdir 是 python 切換到電腦指定路徑的方法\n",
    "os.chdir(r\"C:\\Users\\11004076\\Documents\\Python Scripts\\4_Automation\")\n",
    "workbook = openpyxl.load_workbook('Book1.xlsx')\n",
    "# 從 workbook 中開啓一個名爲 2330 的工作表，存入 sheet 變數\n",
    "sheet = workbook['Sheet2']\n",
    "# 從第三列開始 (我們的日報酬率至少需要兩天的資料，因此從第二天開始算)，到第 99 列\n",
    "for i in range(3, 100):\n",
    "    price_today = sheet.cell(row=i, column=2).value  # 截取 column 值為 2，也就是欄為 B 的儲存格\n",
    "    price_yesterday = sheet.cell(row=i-1, column=2).value  # 截取column值為2(也就是欄為B的儲存格)但是上一列，也就是昨天的收盤價\n",
    "    daily_return = (price_today - price_yesterday) / price_yesterday  # 截取出兩者後，就可以算出該筆資料的日報酬率了\n",
    "    # 最後再將算出的日報酬率寫入同一列，但是 column 值為 3 的儲存格 (也就是欄為 C 的儲存格)\n",
    "    sheet.cell(row=i, column=3).value = daily_return\n",
    "\n",
    "# 存檔\n",
    "workbook.save('Book1.xlsx')"
   ]
  },
  {
   "cell_type": "code",
   "execution_count": null,
   "metadata": {},
   "outputs": [],
   "source": []
  },
  {
   "cell_type": "code",
   "execution_count": null,
   "metadata": {},
   "outputs": [],
   "source": [
    "https://zhuanlan.zhihu.com/p/51292549"
   ]
  },
  {
   "cell_type": "code",
   "execution_count": null,
   "metadata": {},
   "outputs": [],
   "source": [
    "最近一直在做項目裡的自動化的工作，為了是從繁瑣重複的勞動中掙脫出來，把精力用在數據分析上。\n",
    "自動化方面python是在好不過了，不過既然要提交報表， 就不免要美觀什麼的。\n",
    "pandas雖然很強大，但是無法對Excel完全操作，現學vba有點來不及。於是就找到這個openpyxl包，\n",
    "用python來修改Excel，礙於水平有限，琢磨了兩天，踩了不少坑，好在完成了自動化工作\n",
    "（以後起碼多出來幾個小時，美滋滋）。\n",
    "\n",
    "在這裡寫下這兩天的筆記和踩得坑，方面小伙伴躲坑，也供自己日後查閱。如有問題，還請見諒並指出，多謝。"
   ]
  },
  {
   "cell_type": "code",
   "execution_count": 11,
   "metadata": {},
   "outputs": [],
   "source": [
    "from openpyxl import load_workbook\n",
    "from openpyxl.styles import colors, Font, Fill, NamedStyle\n",
    "from openpyxl.styles import PatternFill, Border, Side, Alignment\n",
    "\n",
    "# 加载文件\n",
    "wb = load_workbook('Book1.xlsx')"
   ]
  },
  {
   "cell_type": "code",
   "execution_count": null,
   "metadata": {},
   "outputs": [],
   "source": [
    "workbook： 工作簿，一個excel文件包含多個sheet。\n",
    "worksheet：工作表，一個workbook有多個，表名識別，如“sheet1”,“sheet2”等。\n",
    "cell： 單元格，存儲數據對象\n",
    "文章所用表格為："
   ]
  },
  {
   "cell_type": "code",
   "execution_count": null,
   "metadata": {},
   "outputs": [],
   "source": [
    "### 操作sheet"
   ]
  },
  {
   "cell_type": "code",
   "execution_count": 13,
   "metadata": {},
   "outputs": [
    {
     "name": "stdout",
     "output_type": "stream",
     "text": [
      "输出文件所有工作表名：\n",
      " ['Sheet1', 'Sheet2', 'Sheet3']\n",
      "True\n"
     ]
    }
   ],
   "source": [
    "# 读取sheetname\n",
    "print('输出文件所有工作表名：\\n', wb.sheetnames)\n",
    "ws = wb['Sheet1']\n",
    "\n",
    "# 或者不知道名字时\n",
    "sheet_names = wb.sheetnames   # 返回一个列表\n",
    "ws2 = wb[sheet_names[0]]    # index为0为第一张表\n",
    "print(ws is ws2)    # 两者是一样的"
   ]
  },
  {
   "cell_type": "code",
   "execution_count": 16,
   "metadata": {},
   "outputs": [
    {
     "name": "stdout",
     "output_type": "stream",
     "text": [
      "修改sheetname：\n",
      " ['5a_', 'Sheet2', 'Sheet3']\n"
     ]
    }
   ],
   "source": [
    "# 修改sheetname\n",
    "\n",
    "ws.title = '5a_'\n",
    "print('修改sheetname：\\n', wb.sheetnames)\n",
    "workbook.save('Book1.xlsx')"
   ]
  },
  {
   "cell_type": "code",
   "execution_count": 17,
   "metadata": {},
   "outputs": [
    {
     "name": "stdout",
     "output_type": "stream",
     "text": [
      "创建新的sheet:\n",
      " ['newsheet', '5a_', 'Sheet2', 'Sheet3', 'Sheet']\n"
     ]
    }
   ],
   "source": [
    "# 创建新的sheet\n",
    "# 创建的新表必须要赋值给一个对象，不然只有名字但是没有实际的新表\n",
    "\n",
    "ws4 = wb.create_sheet(index=0, title='newsheet')\n",
    "# 什么参数都不写的话，默认插入到最后一个位置且名字为sheet,sheet1...按照顺序排列\n",
    "\n",
    "ws5 = wb.create_sheet()\n",
    "print('创建新的sheet:\\n', wb.sheetnames)"
   ]
  },
  {
   "cell_type": "code",
   "execution_count": 18,
   "metadata": {},
   "outputs": [
    {
     "name": "stdout",
     "output_type": "stream",
     "text": [
      "删除sheet：\n",
      " ['5a_', 'Sheet2', 'Sheet3', 'Sheet']\n"
     ]
    }
   ],
   "source": [
    "# 删除sheet\n",
    "wb.remove(ws4)  # 这里只能写worksheet对象，不能写sheetname\n",
    "print('删除sheet：\\n', wb.sheetnames)"
   ]
  },
  {
   "cell_type": "code",
   "execution_count": 19,
   "metadata": {},
   "outputs": [
    {
     "name": "stdout",
     "output_type": "stream",
     "text": [
      "最大列数为： 3\n",
      "最大行数为： 317\n"
     ]
    }
   ],
   "source": [
    "# 修改sheet选项卡背景色，默认为白色，设置为RRGGBB模式\n",
    "ws.sheet_properties.tabColor = \"FFA500\"\n",
    "\n",
    "# 读取有效区域\n",
    "\n",
    "print('最大列数为：', ws.max_column)\n",
    "print('最大行数为：', ws.max_row)"
   ]
  },
  {
   "cell_type": "code",
   "execution_count": null,
   "metadata": {},
   "outputs": [],
   "source": [
    "# 插入行和列\n",
    "ws.insert_rows(1)  # 在第一行插入一行\n",
    "ws.insert_cols(2, 4)  # 从第二列开始插入四列\n",
    "\n",
    "# 删除行和列\n",
    "ws.delete_cols(6, 3)  # 从第六列（F列）开始，删除3列即（F:H）\n",
    "ws.delete_rows(3)   # 删除第三行"
   ]
  },
  {
   "cell_type": "code",
   "execution_count": null,
   "metadata": {},
   "outputs": [],
   "source": [
    "### 單元格操作"
   ]
  },
  {
   "cell_type": "code",
   "execution_count": 20,
   "metadata": {},
   "outputs": [
    {
     "name": "stdout",
     "output_type": "stream",
     "text": [
      "<Cell '5a_'.A1> <Cell '5a_'.B1>\n",
      "Hello World! $\n"
     ]
    }
   ],
   "source": [
    "# 读取\n",
    "c = ws['A1']\n",
    "c1 = ws.cell(row=1, column=2)\n",
    "print(c, c1)\n",
    "print(c.value, c1.value)"
   ]
  },
  {
   "cell_type": "code",
   "execution_count": 21,
   "metadata": {},
   "outputs": [
    {
     "name": "stdout",
     "output_type": "stream",
     "text": [
      "景区名称 省份\n"
     ]
    }
   ],
   "source": [
    "# 修改\n",
    "ws['A1'] = '景区名称'\n",
    "ws.cell(1, 2).value = '省份'\n",
    "print(c.value, c1.value)"
   ]
  },
  {
   "cell_type": "code",
   "execution_count": 22,
   "metadata": {},
   "outputs": [
    {
     "name": "stdout",
     "output_type": "stream",
     "text": [
      "<class 'tuple'>\n",
      "<Cell '5a_'.A10>\n",
      "<Cell '5a_'.B10>\n",
      "<Cell '5a_'.C10>\n",
      "<Cell '5a_'.D10>\n"
     ]
    }
   ],
   "source": [
    "# 读取多个单元格\n",
    "\n",
    "cell_range = ws['A1':'D5']\n",
    "colC = ws['C']\n",
    "col_range = ws['C:D']\n",
    "row10 = ws[10]\n",
    "row_range = ws[5:10]\n",
    "# 其返回的结果都是一个包含单元格的元组\n",
    "print(type(cell_range))\n",
    "for i in row10:\n",
    "    print(i)    # row10只有有效单元格"
   ]
  },
  {
   "cell_type": "code",
   "execution_count": 23,
   "metadata": {},
   "outputs": [
    {
     "name": "stdout",
     "output_type": "stream",
     "text": [
      "<Cell '5a_'.A1>\n",
      "<Cell '5a_'.B1>\n",
      "<Cell '5a_'.A2>\n",
      "<Cell '5a_'.B2>\n",
      "<Cell '5a_'.A3>\n",
      "<Cell '5a_'.B3>\n"
     ]
    }
   ],
   "source": [
    "# 按照行列操作\n",
    "for row in ws.iter_rows(min_row=1, max_row=3,\n",
    "                        min_col=1, max_col=2):\n",
    "    for cell in row:\n",
    "        print(cell)\n",
    "# 也可以用worksheet.iter_col(),用法都一样"
   ]
  },
  {
   "cell_type": "code",
   "execution_count": 26,
   "metadata": {},
   "outputs": [],
   "source": [
    "# 合并单元格\n",
    "ws.merge_cells('F1:G1')\n",
    "ws['F1'] = '合并两个单元格'\n",
    "# 或者\n",
    "ws.merge_cells(start_row=2, start_column=6, end_row=3, end_column=8)\n",
    "ws.cell(2, 6).value = '合并三个单元格'\n",
    "\n",
    "# 取消合并单元格\n",
    "#ws.unmerge_cells('F1:G1')\n",
    "# 或者\n",
    "#ws.unmerge_cells(start_row=2, start_column=6, end_row=3, end_column=8)\n",
    "\n",
    "wb.save('Book1.xlsx')\n",
    "# 保存之前的操作,保存文件时，文件必须是关闭的！！！"
   ]
  },
  {
   "cell_type": "code",
   "execution_count": null,
   "metadata": {},
   "outputs": [],
   "source": [
    "注意！！！，openpyxl對Excel的修改並不像是xlwings包一樣是實時的，他的修改是暂时保存在内存中的，所以當後面的修改例如我接下來要在第一行插入新的一行做標題，那麼當我對新的A1單元格操作的時候，還在內存中的原A1(現在是A2)的單元格原有的修改就會被覆蓋。所以要先保存，或者從一開始就計劃好更改操作避免這樣的事情發生。（別問我怎麼知道的，都是淚o(╥﹏╥)o）"
   ]
  },
  {
   "cell_type": "code",
   "execution_count": null,
   "metadata": {},
   "outputs": [],
   "source": [
    "樣式修改"
   ]
  },
  {
   "cell_type": "code",
   "execution_count": null,
   "metadata": {},
   "outputs": [],
   "source": [
    "單個單元格樣式"
   ]
  },
  {
   "cell_type": "code",
   "execution_count": null,
   "metadata": {},
   "outputs": [],
   "source": [
    "wb = load_workbook('./5a.xlsx')    # 读取修改后的文件\n",
    "ws = wb['5a_']\n",
    "# 我们来设置一个表头\n",
    "ws.insert_rows(1)    # 在第一行插入新的一行\n",
    "ws.merge_cells('A1:E1')  # 合并单元格\n",
    "a1 = ws['A1']\n",
    "ws['A1'] = '5A级风景区名单'\n",
    "\n",
    "# 设置字体\n",
    "ft = Font(name='微软雅黑', color='000000', size=15, b=True)\n",
    "\"\"\"\n",
    "name:字体名称\n",
    "color:颜色通常是RGB或aRGB十六进制值\n",
    "b(bold):加粗（bool）\n",
    "i(italic):倾斜(bool)\n",
    "shadow：阴影（bool）\n",
    "underline：下划线（‘doubleAccounting’, ‘single’, ‘double’, ‘singleAccounting’）\n",
    "charset:字符集(int)\n",
    "strike:删除线(bool)\n",
    "\"\"\"\n",
    "a1.font = ft\n",
    "\n",
    "# 设置文本对齐\n",
    "\n",
    "ali = Alignment(horizontal='center', vertical='center')\n",
    "\"\"\"\n",
    "horizontal:水平对齐('centerContinuous', 'general', 'distributed',\n",
    "                    'left', 'fill', 'center', 'justify', 'right')\n",
    "vertical:垂直对齐（'distributed', 'top', 'center', 'justify', 'bottom'）\n",
    "\n",
    "\"\"\"\n",
    "a1.alignment = ali\n",
    "\n",
    "# 设置图案填充\n",
    "\n",
    "fill = PatternFill('solid', fgColor='FFA500')\n",
    "# 颜色一般使用十六进制RGB\n",
    "# 'solid'是图案填充类型，详细可查阅文档\n",
    "\n",
    "a1.fill = fill"
   ]
  },
  {
   "cell_type": "code",
   "execution_count": null,
   "metadata": {},
   "outputs": [],
   "source": [
    "# 设置边框\n",
    "bian = Side(style='medium', color='000000')    # 设置边框样式\n",
    "\"\"\"\n",
    "style:边框线的风格{'dotted','slantDashDot','dashDot','hair','mediumDashDot',\n",
    "        'dashed','mediumDashed','thick','dashDotDot','medium',\n",
    "        'double','thin','mediumDashDotDot'}\n",
    "\"\"\"\n",
    "\n",
    "border = Border(top=bian, bottom=bian, left=bian, right=bian)\n",
    "\"\"\"\n",
    "top（上）,bottom（下）,left（左）,right（右）:必须是 Side类型\n",
    "diagonal: 斜线 side类型 \n",
    "diagonalDownd: 右斜线 bool\n",
    "diagonalDown: 左斜线 bool\n",
    "\"\"\"\n",
    "\n",
    "# a1.border = border\n",
    "for item in ws['A1:E1'][0]:   # 去元组中的每一个cell更改样式\n",
    "    item.border = border\n",
    "\n",
    "wb.save('./5a.xlsx')  # 保存更改"
   ]
  },
  {
   "cell_type": "code",
   "execution_count": null,
   "metadata": {},
   "outputs": [],
   "source": [
    "再次注意！！！：\n",
    "\n",
    "不能使用a1.border = border，否則只會如下圖情況，B1：E1單元格沒有線。我個人認為是因為線框涉及到相鄰單元格邊框的改動所以需要單獨對每個單元格修改才行。\n",
    "不能使用ws['A1:E1'].border = border,由前面的內容可知，openpyxl的多個單元格其實是一個元組，而元組是沒有style的方法的,所以必須一個一個改！！其實官方有其他辦法，後面講。\n"
   ]
  },
  {
   "cell_type": "code",
   "execution_count": null,
   "metadata": {},
   "outputs": [],
   "source": [
    "按列或行設置樣式"
   ]
  },
  {
   "cell_type": "code",
   "execution_count": null,
   "metadata": {},
   "outputs": [],
   "source": [
    "# 现在我们对整个表进行设置\n",
    "\n",
    "# 读取\n",
    "wb = load_workbook('./5a.xlsx')\n",
    "ws = wb['5a_']\n",
    "\n",
    "# 读取数据表格范围\n",
    "rows = ws.max_row\n",
    "cols = ws.max_column\n",
    "\n",
    "# 字体\n",
    "font1 = Font(name='微软雅黑', size=11, b=True)\n",
    "font2 = Font(name='微软雅黑', size=11)\n",
    "\n",
    "# 边框\n",
    "line_t = Side(style='thin', color='000000')  # 细边框\n",
    "line_m = Side(style='medium', color='000000')  # 粗边框\n",
    "border1 = Border(top=line_m, bottom=line_t, left=line_t, right=line_t)\n",
    "# 与标题相邻的边设置与标题一样\n",
    "border2 = Border(top=line_t, bottom=line_t, left=line_t, right=line_t)\n",
    "\n",
    "# 填充\n",
    "fill = PatternFill('solid', fgColor='CFCFCF')"
   ]
  },
  {
   "cell_type": "code",
   "execution_count": null,
   "metadata": {},
   "outputs": [],
   "source": [
    "# 对齐\n",
    "alignment = Alignment(horizontal='center', vertical='center')\n",
    "\n",
    "# 将样式打包命名\n",
    "sty1 = NamedStyle(name='sty1', font=font1, fill=fill,\n",
    "                  border=border1, alignment=alignment)\n",
    "sty2 = NamedStyle(name='sty2', font=font2, border=border2, alignment=alignment)\n",
    "\n",
    "for r in range(2, rows+1):\n",
    "    for c in range(1, cols):\n",
    "        if r == 2:\n",
    "            ws.cell(r, c).style = sty1\n",
    "        else:\n",
    "            ws.cell(r, c).style = sty2\n",
    "\n",
    "wb.save('./5a.xlsx')"
   ]
  },
  {
   "cell_type": "code",
   "execution_count": null,
   "metadata": {},
   "outputs": [],
   "source": [
    "對於，設置標題樣式，其實官方也給出了一個自定義函數 ,設定範圍後，範圍內的單元格都會合併，並且應用樣式，就像是單個cell一樣。在這裡就不多贅述了，有興趣的可以看看。很實用。\n",
    "\n",
    "openpyxl同樣支持與pandas協同作業，而且支持插入表格，設置函數等操作。日後會整理成筆記發出來。"
   ]
  },
  {
   "cell_type": "code",
   "execution_count": null,
   "metadata": {},
   "outputs": [],
   "source": []
  },
  {
   "cell_type": "code",
   "execution_count": null,
   "metadata": {},
   "outputs": [],
   "source": [
    "https://hackmd.io/@alexhtwen/H1bROhAob?type=view"
   ]
  },
  {
   "cell_type": "code",
   "execution_count": null,
   "metadata": {},
   "outputs": [],
   "source": [
    "讀取檔案內容(含格式)"
   ]
  },
  {
   "cell_type": "code",
   "execution_count": null,
   "metadata": {},
   "outputs": [],
   "source": [
    "讀取Excel檔案，社大課程只教讀取檔案的內容(資料)，一般網站的教學也是這樣。但單單讀取資料並不能滿足我的求知欲。特地花些時間研究測試，找出在讀取內容之外，也可以讀取大部分格式(style)的方法。"
   ]
  },
  {
   "cell_type": "code",
   "execution_count": null,
   "metadata": {},
   "outputs": [],
   "source": [
    "這裡的「格式」是指工作表名稱標籤的顏色以及儲存格的各項格式，如數值、對齊方式、字型、外框、保護等。\n",
    "說「大部分」而非「全部」，是由於部分格式例如原儲存格的長寬等未能讀取。努力中…"
   ]
  },
  {
   "cell_type": "code",
   "execution_count": null,
   "metadata": {},
   "outputs": [],
   "source": [
    "以下是欲讀取的Excel檔案擷圖以及讀取檔案內容/格式的程式源碼。這個範例Excel檔有四個工作表，為節省篇幅，僅貼第一個工作表的擷圖。程式則讀取所有工作表。"
   ]
  },
  {
   "cell_type": "code",
   "execution_count": null,
   "metadata": {},
   "outputs": [],
   "source": [
    "# -*- coding: utf-8 -*-\n",
    "\"\"\"\n",
    "Excel(Xlsx)檔案讀取練習。\n",
    "\"\"\"\n",
    "import sys\n",
    "from openpyxl import load_workbook\n",
    "from copy import copy\n",
    "\n",
    "\"\"\"\n",
    "名    稱：storeXlsxContent()\n",
    "功    能：將Excel檔案(副檔名xlsx)的資料/格式讀出並儲存於list中。\n",
    "傳入參數：\n",
    "  str inFile: 欲讀取的檔案檔名(可含路徑)字串。\n",
    "  bool dataOnly: 是否儲存cell的值而非公式。True表存值，False表存公式。預設存公式。\n",
    "  bool isStoreStyle: 是否儲存各工作表及儲存格格式。True表儲存，False不存。預設不存。\n",
    "傳 回 值：\n",
    "  list wbContent。這個list內容為從檔案讀取到的資料及(如有)其格式，wsContent規格為：\n",
    "    . 每個元素都是tuple，代表一張worksheet「工作表」。\n",
    "    . 每張工作表tuple的元素固定為3個dict's，分別為：  \n",
    "      . dict 0: 六個keys。第一為工作表名稱('wsName')，第二個以後分別是'wsSheetFormat',\n",
    "                'wsSheetProperties', 'wsSheetState', 'wsViews'和'wsSortState'，\n",
    "                記錄該工作表整體的屬性、格式、狀態等等。\n",
    "      . dict 1: 每個cell(儲存格)的資料。keys是cell的名稱，如 'A1', 'C3'等，value則是\n",
    "                該cell的資料，即內容。\n",
    "      . dict 2: 每個cell的格式。keys是cell的名稱，如 'A1', 'C3'等，value則是該cell\n",
    "                的格式。格式冗長複雜，我一時間難以消化搞懂。反正還原時copy過去就是。\n",
    "\"\"\"\n",
    "def storeXlsxContent(inFile, dataOnly=False, isStoreStyle=False):\n",
    "    # . dataOnly是控制「僅儲存各cells的值」或「存其公式」(如有)的flag。\n",
    "    # . True表示cells如有公式，僅存由公式計算出來的值而不存公式本身。False則表示須存公式。\n",
    "    # . openpyxl好像只在load_workbook()函式提供這個選項，所以存值或存公式的是屬於整個\n",
    "    #   workbook層次，無法做到不同cells有不同的選擇。如有此需要，請開兩個wb's，一存值\n",
    "    #   一存公式，視需要靈活運用。例如：\n",
    "    #     wbValue = load_workbook(inFile, data_only=True)\n",
    "    #     wbFomula = load_workbook(inFile, data_only=False)\n",
    "    wb = load_workbook(inFile, data_only=dataOnly)\n",
    "    wbContent = []      # wbContent是將要傳回的list。\n",
    "    # 取得一個list，其內容為工作表名稱字串。\n",
    "    wsNames = wb.get_sheet_names()\n",
    "\n",
    "    for wsName in wsNames:      # wsNames是個list。\n",
    "        # 利用工作表名稱(wsName)來載入實際的工作表(ws)。\n",
    "        ws = wb.get_sheet_by_name(wsName)\n",
    "\n",
    "        if isStoreStyle:\n",
    "            sheetFormat = ws.sheet_format\n",
    "            sheetProperties = ws.sheet_properties\n",
    "            sheetState = ws.sheet_state\n",
    "            views = ws.views\n",
    "            sortState = ws.sort_state \n",
    "        else:\n",
    "            sheetFormat = None\n",
    "            sheetProperties = None\n",
    "            sheetState = None\n",
    "            views = None\n",
    "            sortState = None\n",
    "        # . wbContent這個list的規格是：每一個元素都是tuple，代表一張工作表。\n",
    "        #   每張工作表tuple的元素固定為3個dict's。\n",
    "        # . 按照以上規格，在list中先append一個tuple，再在tuple內放3個dict's。目前\n",
    "        #   僅在第一個dict(dict 0)存入資料(工作表的整體資訊)，其餘兩個暫時空置。\n",
    "        wbContent.append(({'wsName':wsName, \n",
    "                           'wsSheetFormat':sheetFormat, \n",
    "                           'wsSheetProperties':sheetProperties, \n",
    "                           'wsSheetState':sheetState, \n",
    "                           'wsViews':views, \n",
    "                           'wsSortState':sortState}, {}, {})) \n",
    "        wsID = len(wbContent) - 1   # 工作表編號(從0起)。\n",
    "        # 剖析這個工作表。\n",
    "        for row in ws.rows:     # 表內逐列處理。\n",
    "            for cell in row:        # 列內逐cell處理。\n",
    "                # 檢查cell的內容，有資料(非None)才存入wbContent的dict 1中。\n",
    "                if cell.value != None:\n",
    "                    wbContent[wsID][1].update({(cell.column + str(cell.row)):\n",
    "                                                cell.value})\n",
    "                # isStoreStyle為True(即「要讀取並儲存格式」)時，再檢查該儲存格實際上\n",
    "                # 有無設定「格式」(style)。有設定格式，就存入wbContent的dict 2中。\n",
    "                if isStoreStyle and cell.has_style:\n",
    "                    wbContent[wsID][2].update({(cell.column + str(cell.row)):\n",
    "                        getStyle(cell)})  \n",
    "\n",
    "    return wbContent\n",
    "\n",
    "\n",
    "\"\"\"\n",
    "名    稱：getStyle()\n",
    "功    能：取得cell儲存格的格式。\n",
    "傳入參數：\n",
    "    cell: 儲存格，型態為 <class 'openpyxl.cell.cell.Cell'>。\n",
    "    bool font=True: 是否擷取 font。\n",
    "    bool border=True: 是否擷取 border。\n",
    "    bool fill=True: 是否擷取 fill。\n",
    "    bool number_format=True: 是否擷取 number_format=True。\n",
    "    bool protection=True: 是否擷取 protection。\n",
    "    bool alignment=True 是否擷取 alignment。\n",
    "傳 回 值：dict style。keys為'font', 'border'...等儲存格格式。\n",
    "\"\"\"\n",
    "def getStyle(cell, font=True, border=True, \n",
    "             fill=True, number_format=True, \n",
    "             protection=True, alignment=True):\n",
    "    style = {}\n",
    "    if font:\n",
    "        style['font'] = cell.font\n",
    "    if border:\n",
    "        style['border'] = cell.border\n",
    "    if fill:\n",
    "        style['fill'] = cell.fill\n",
    "    if number_format:\n",
    "        style['number_format'] = cell.number_format\n",
    "    if protection:\n",
    "        style['protection'] = cell.protection\n",
    "    if alignment:\n",
    "        style['alignment'] = cell.alignment\n",
    "    return style\n",
    "\n",
    "\n",
    "# 請先確認在下列路徑有此xlsx檔案，或自行修改路徑和檔名。\n",
    "content1 = storeXlsxContent('D:\\\\Python\\\\粵語長片.xlsx', isStoreStyle=True)"
   ]
  },
  {
   "cell_type": "code",
   "execution_count": null,
   "metadata": {},
   "outputs": [],
   "source": [
    "寫入檔案(含格式)"
   ]
  },
  {
   "cell_type": "code",
   "execution_count": null,
   "metadata": {},
   "outputs": [],
   "source": [
    "成功讀出內容及格式後，該測試寫入到另一個Excel檔案了。以下是寫入檔案的程式源碼。這個程式完全沒有修改原Excel檔的內容和格式，是「保持原貎」重建。當然這只是練習。如果真要原封不動還原，乾脆用拷貝檔案就好，程式源碼大概只需一行，既快又保證完全一樣。實務上很可能會做些改變，也許更改工作表名稱，或者修改、新增、刪除某些儲存格的內容，又或者只寫入部分內容。修改內容的程式碼我放在後面再介紹。\n",
    "\n",
    "另外，我建議如果要修改content list，最好改「資料」就好，list中的「格式」很複雜，改錯了怕會當機。"
   ]
  },
  {
   "cell_type": "code",
   "execution_count": null,
   "metadata": {},
   "outputs": [],
   "source": [
    "以下的code snippet實際上是接續上面的程式碼。"
   ]
  },
  {
   "cell_type": "code",
   "execution_count": null,
   "metadata": {},
   "outputs": [],
   "source": [
    "\"\"\"\n",
    "Excel(Xlsx)檔案寫入練習。\n",
    "\"\"\"\n",
    "\n",
    "\"\"\"\n",
    "名    稱：WriteContent2Xlsx()\n",
    "功    能：將之前用storeXlsxContent()函式讀取某xlsx檔而產生，或自行製造的來源list\n",
    "　    　　(內有資料/格式)寫入到指定的xlsx檔。\n",
    "傳入參數：\n",
    "  str outFile: 欲寫入的檔名(可含路徑)字串。\n",
    "  list wbContent: 存放Excel資料/格式的list，就是寫入的資料來源。\n",
    "  bool isRestoreStyle: \n",
    "    . 存檔時是否還原工作表及各儲存格的格式。True要還原，False不用還原。\n",
    "    . 如果選擇還原，wbContent當初必須有儲存格式。如當初未存格式，當然無法還原，不過程式\n",
    "      不會當機，目前版本也不產生警告訊息。\n",
    "傳 回 值：無。\n",
    "\"\"\"\n",
    "def WriteContent2Xlsx(outFile, wbContent, isRestoreStyle=False):\n",
    "    from openpyxl import Workbook\n",
    "    from copy import copy\n",
    "    wb = Workbook()\n",
    "    wb.remove_sheet(wb.active)  # 先刪除預設的那個sheet(因為要用自己的)。\n",
    "\n",
    "    # 第一層：restore工作表的整體資訊。\n",
    "    for wsID in range(len(wbContent)):\n",
    "        # 產生工作表。名稱不用預設，而使用在list上記錄的工作表名。\n",
    "        ws = wb.create_sheet(title=wbContent[wsID][0]['wsName'])\n",
    "        if isRestoreStyle:\n",
    "            # list內tuple的dict 0有'wsViews'這個key，而且其value不是None，\n",
    "            # 才要restore回去。實際上用copy()來restore。以下幾個if's同理。\n",
    "            if 'wsViews' in wbContent[wsID][0] \\\n",
    "                    and wbContent[wsID][0]['wsViews'] != None:\n",
    "                ws.views = copy(wbContent[wsID][0]['wsViews'])\n",
    "            if 'wsSheetProperties' in wbContent[wsID][0] \\\n",
    "                    and wbContent[wsID][0]['wsSheetProperties'] != None:\n",
    "                ws.sheet_properties = copy(wbContent[wsID][0]['wsSheetProperties'])\n",
    "            if 'wsSheetFormat' in wbContent[wsID][0] \\\n",
    "                    and wbContent[wsID][0]['wsSheetFormat'] != None:\n",
    "                ws.sheet_format = copy(wbContent[wsID][0]['wsSheetFormat'])\n",
    "            if 'wsSheetState' in wbContent[wsID][0] \\\n",
    "                    and wbContent[wsID][0]['wsSheetState'] != None:\n",
    "                ws.sheet_state = copy(wbContent[wsID][0]['wsSheetState'])\n",
    "            if 'wsSortState' in wbContent[wsID][0] \\\n",
    "                    and wbContent[wsID][0]['wsSortState'] != None:\n",
    "                ws.sort_state = copy(wbContent[wsID][0]['wsSortState'])\n",
    "        \n",
    "        # 第二層：restore工作表中的cells。\n",
    "        # restore data。先檢查這個工作表tuple是否最少有2個 dict's，確定OK後才\n",
    "        # restore資料。檢查的原因是怕自行製造的wbContent可能沒有dict 1 和 dict 2。\n",
    "        if len(wbContent[wsID]) >= 2:\n",
    "            for key, value in wbContent[wsID][1].items():\n",
    "                ws[key] = value\n",
    "        # restore style。同樣道理，先檢查一下是否有dict 2。\n",
    "        if isRestoreStyle and len(wbContent[wsID]) >= 3:\n",
    "            for key, style in wbContent[wsID][2].items():\n",
    "                restoreCellStyle(ws[key], style)\n",
    "\n",
    "    wb.save(outFile)    # 存檔。\n",
    "\n",
    "\n",
    "\"\"\"\n",
    "名    稱：restoreCellStyle()\n",
    "功    能：還原儲存格的格式。\n",
    "傳入參數：\n",
    "    cell: 儲存格，型態為 <class 'openpyxl.cell.cell.Cell'>。\n",
    "    dict style: 儲存格格式。\n",
    "傳 回 值：無。\n",
    "\"\"\"\n",
    "def restoreCellStyle(cell, style):\n",
    "    if 'font' in style and style['font'] != None:\n",
    "        cell.font = copy(style['font'])\n",
    "    if 'border' in style and style['border'] != None:\n",
    "        cell.border = copy(style['border'])\n",
    "    if 'fill' in style and style['fill'] != None:\n",
    "        cell.fill = copy(style['fill'])\n",
    "    if 'number_format' in style and style['number_format'] != None:\n",
    "        cell.number_format = copy(style['number_format'])\n",
    "    if 'protection' in style and style['protection'] != None:\n",
    "        cell.protection = copy(style['protection'])\n",
    "    if 'alignment' in style and style['alignment'] != None:\n",
    "        cell.alignment = copy(style['alignment'])\n",
    "\n",
    "\n",
    "# 這裡的content1就是前面storeXlsxContent()傳回，存放資料/格式的那個list。\n",
    "WriteContent2Xlsx(r'D:\\Python\\New粵語長片.xlsx', content1, isRestoreStyle=True)"
   ]
  },
  {
   "cell_type": "code",
   "execution_count": null,
   "metadata": {},
   "outputs": [],
   "source": [
    "寫入的Excel檔的第一個工作表擷圖如下，內容及格式都和原檔相同："
   ]
  },
  {
   "cell_type": "code",
   "execution_count": null,
   "metadata": {},
   "outputs": [],
   "source": [
    "其實要使用WriteContent2Xlsx()函式寫入檔案，不一定要先從某個Excel檔讀取內容。只要自行製造一個符合規格的wsContent list就行。以下是示範的code snippet。這段code只寫入資料，格式過於複雜，暫不考慮。"
   ]
  },
  {
   "cell_type": "code",
   "execution_count": null,
   "metadata": {},
   "outputs": [],
   "source": [
    "content = [({'wsName':'First Sheet'},{'A1':23.4,'B1':56.9,'C1':'=SUM(A1:B1)'}), \n",
    "            ({'wsName':'第二工作表'},{'A1':'台北市','B2':'文山','C3':'社大'}, {})]\n",
    "WriteContent2Xlsx('D:\\\\Python\\\\MyTest.xlsx', content, isRestoreStyle=False)"
   ]
  },
  {
   "cell_type": "code",
   "execution_count": null,
   "metadata": {},
   "outputs": [],
   "source": [
    "以上code snippet造了一個叫做content的list，放入兩個tuple’s，代表兩個工作表。\n",
    "\n",
    "第一個工作表tuple放兩個dict’s，第一個dict定義工作表名稱，第二個記錄欲寫入的儲存格名稱及內容。因不寫入格式，可以不必放置第三個dict：\n",
    "\n",
    "({‘wsName’: ‘First Sheet’}, {‘A1’: 23.4, ‘B1’: 56.9, ‘C1’: ‘=SUM(A1:B1)’})\n",
    "\n",
    "第二個工作表tuple示範用三個dict’s。因不寫入格式，第三個dict其實是家徒二壁({})，空空如也，和第一個工作表省略第三個dict的作法效果相同：\n",
    "\n",
    "({‘wsName’: ‘第二工作表’}, {‘A1’: ‘台北市’, ‘B2’: ‘文山’, ‘C3’: ‘社大’}, {})\n",
    "\n",
    "製造出來的MyTest.xlsx長這樣："
   ]
  },
  {
   "cell_type": "code",
   "execution_count": null,
   "metadata": {},
   "outputs": [],
   "source": [
    "修改儲存格內容及格式"
   ]
  },
  {
   "cell_type": "code",
   "execution_count": null,
   "metadata": {},
   "outputs": [],
   "source": [
    "以上介紹了讀取檔案內容/格式及將之寫入其他檔案。但如果只是想修改一下檔案的部分內容/格式，又當如何處理呢？\n",
    "\n",
    "openpyxl並沒有提供直接修改檔案的功能。要修改，採用的也是上面的讀檔及寫檔程序，只不過讀和寫同一個檔案吧了。\n",
    "\n",
    "以下是code snippet："
   ]
  },
  {
   "cell_type": "code",
   "execution_count": null,
   "metadata": {},
   "outputs": [],
   "source": [
    "# -*- coding: utf-8 -*-\n",
    "from openpyxl import load_workbook\n",
    "\n",
    "file = 'd:\\\\Python\\\\MyTest.xlsx'\n",
    "wb = load_workbook(file)\n",
    "c = wb['第二工作表']['B2']\n",
    "c.value = '士林'\n",
    "wb.save(file)"
   ]
  },
  {
   "cell_type": "code",
   "execution_count": null,
   "metadata": {},
   "outputs": [],
   "source": [
    "修改前的「第二工作表」內容是："
   ]
  },
  {
   "cell_type": "code",
   "execution_count": null,
   "metadata": {},
   "outputs": [],
   "source": [
    "以下code snippet修改儲存格的格式。可以修改現有檔案，也可以在寫入資料到新檔時一道設定格式："
   ]
  },
  {
   "cell_type": "code",
   "execution_count": null,
   "metadata": {},
   "outputs": [],
   "source": [
    "# -*- coding: utf-8 -*-\n",
    "from openpyxl import load_workbook\n",
    "from openpyxl.styles import Font\n",
    "from openpyxl.styles import Alignment\n",
    "\n",
    "file = 'd:\\\\Python\\\\MyTest.xlsx'\n",
    "wb = load_workbook(file)\n",
    "\n",
    "# 字型、顏色等。\n",
    "fontCity = Font(name='華康龍門石碑', size=20, bold=True, italic=False, \n",
    "                vertAlign=None, underline='double', strike=False, \n",
    "                color='006400')\n",
    "# 對齊方式。\n",
    "alignmentCity = Alignment(horizontal='center', vertical='center')\n",
    "\n",
    "fontDist = Font(name='文鼎特明', size=16, bold=False, italic=True, \n",
    "                vertAlign='baseline', underline='none', strike=False, \n",
    "                color='8A2BE2')\n",
    "alignmentDist = Alignment(horizontal='left', vertical='top')\n",
    "\n",
    "city = wb['第二工作表']['A1']\n",
    "city.font = fontCity\n",
    "city.alignment = alignmentCity\n",
    "\n",
    "dist = wb['第二工作表']['B2']\n",
    "dist.font = fontDist\n",
    "dist.alignment = alignmentDist\n",
    "\n",
    "wb.save(file)"
   ]
  },
  {
   "cell_type": "code",
   "execution_count": null,
   "metadata": {},
   "outputs": [],
   "source": [
    "改變儲存格字型、顏色、對齊方式之後工作表長相如下："
   ]
  }
 ],
 "metadata": {
  "kernelspec": {
   "display_name": "Python 3",
   "language": "python",
   "name": "python3"
  },
  "language_info": {
   "codemirror_mode": {
    "name": "ipython",
    "version": 3
   },
   "file_extension": ".py",
   "mimetype": "text/x-python",
   "name": "python",
   "nbconvert_exporter": "python",
   "pygments_lexer": "ipython3",
   "version": "3.7.1"
  }
 },
 "nbformat": 4,
 "nbformat_minor": 2
}
