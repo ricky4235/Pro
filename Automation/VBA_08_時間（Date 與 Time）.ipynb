{
 "cells": [
  {
   "cell_type": "code",
   "execution_count": null,
   "metadata": {},
   "outputs": [],
   "source": [
    "VBA_8_時間（Date 與 Time）"
   ]
  },
  {
   "cell_type": "code",
   "execution_count": null,
   "metadata": {},
   "outputs": [],
   "source": [
    "這裡介紹 Excel VBA 的時間變數與相關函數的用法，並且提供許多實用的參考範例。\n",
    "\n",
    "日期與時間是一種比較特別，但是也時常會被使用到的資料類型，\n",
    "在 VBA 中我們可以使用 Date 這種特殊的變數類型來儲存日期與時間的資料，\n",
    "同時 VBA 中也內建了許多用來處理日期與時間的工具函數，以下是在 VBA 的使用日期與時間相關變數與函數的教學。"
   ]
  },
  {
   "cell_type": "code",
   "execution_count": null,
   "metadata": {},
   "outputs": [],
   "source": [
    "初始化日期與時間\n",
    "VBA 的 Date 變數是一種專門用來儲存日期與時間的變數，我們可以使用 DateValue 來設定日期：\n",
    "\n",
    "' 宣告一個 Date 變數\n",
    "Dim d As Date\n",
    "\n",
    "' 設定日期\n",
    "d = DateValue(\"Jun 19, 2017\")\n",
    "\n",
    "' 輸出日期\n",
    "MsgBox (\"Date: \" & d)"
   ]
  },
  {
   "cell_type": "code",
   "execution_count": null,
   "metadata": {},
   "outputs": [],
   "source": [
    "VBA 日期處理\n",
    "\n",
    "DateValue 可接受的日期格式有好多種，以下是一些常見的格式範例：\n",
    "  \n",
    "' 各種設定日期的方式\n",
    "d = DateValue(\"2017/01/19\")\n",
    "d = DateValue(\"2017-01-19\")\n",
    "d = DateValue(\"19-JAN\")\n",
    "d = DateValue(\"19-JAN-2017\")\n",
    "d = DateValue(\"01/19/2017\")\n",
    "也可以直接用一般的字串直接指定：\n",
    "\n",
    "d = \"Jun 19, 2017\""
   ]
  },
  {
   "cell_type": "code",
   "execution_count": null,
   "metadata": {},
   "outputs": [],
   "source": [
    "DateSerial 可以接受數值的年、月、日，建立日期變數：\n",
    "\n",
    "Dim d As Date\n",
    "d = DateSerial(2016, 5, 10)\n",
    "MsgBox (d)"
   ]
  },
  {
   "cell_type": "code",
   "execution_count": null,
   "metadata": {},
   "outputs": [],
   "source": [
    "時間的設定則可使用 TimeValue 與 TimeSerial 函數：\n",
    "\n",
    "Dim t As Date\n",
    "t = TimeValue(\"20:15\")\n",
    "MsgBox (t)\n",
    "\n",
    "t = TimeSerial(20, 15, 20)\n",
    "MsgBox (t)"
   ]
  },
  {
   "cell_type": "code",
   "execution_count": null,
   "metadata": {},
   "outputs": [],
   "source": [
    "CDate 函數可以初始化日期與時間：\n",
    "\n",
    "Dim d As Date\n",
    "\n",
    "' 設定日期與時間\n",
    "d = CDate(\"15/08/2013 8:25:00 PM\")\n",
    "MsgBox (d)\n",
    "\n",
    "或是使用一般的字串也可以：\n",
    "\n",
    "' 設定日期與時間\n",
    "d = \"15/08/2013 8:25:00 PM\"\n",
    "MsgBox (d)"
   ]
  },
  {
   "cell_type": "code",
   "execution_count": null,
   "metadata": {},
   "outputs": [],
   "source": [
    "現在日期與時間\n",
    "Date 函數可以取得系統上現在的日期，Time 函數會傳回系統目前的時間，\n",
    "而 Now 函數則會傳回系統上目前的日期與時間：\n",
    "\n",
    "Dim d As Date\n",
    "\n",
    "' 現在日期\n",
    "d = Date\n",
    "MsgBox (\"現在是：\" & d)\n",
    "\n",
    "' 現在時間\n",
    "d = Time()\n",
    "MsgBox (\"現在是：\" & d)\n",
    "\n",
    "' 現在日期與時間\n",
    "d = Now()\n",
    "MsgBox (\"現在是：\" & d)"
   ]
  },
  {
   "cell_type": "code",
   "execution_count": null,
   "metadata": {},
   "outputs": [],
   "source": [
    "Timer 函數可以傳回從當天 12:00 AM 到目前的秒數，精確度可以到千分之一秒：\n",
    "\n",
    "MsgBox (\"Timer is: \" & Timer())\n"
   ]
  },
  {
   "cell_type": "code",
   "execution_count": null,
   "metadata": {},
   "outputs": [],
   "source": [
    "判斷是否為日期與時間\n",
    "IsDate 函數可以判斷輸入的資料是否為合法的日期或時間：\n",
    "\n",
    "MsgBox (IsDate(\"2017/5/21\"))  ' True\n",
    "\n",
    "MsgBox (IsDate(\"123456789\"))   ' False"
   ]
  },
  {
   "cell_type": "code",
   "execution_count": null,
   "metadata": {},
   "outputs": [],
   "source": [
    "日期與時間的運算\n",
    "DateAdd 可以計算日期或時間的加法運算，算出某段時間之後的時間點：\n",
    "\n",
    "Dim d As Date\n",
    "\n",
    "d = \"01-Jan-2013\"\n",
    "MsgBox (\"一年後：\" & DateAdd(\"yyyy\", 1, d))\n",
    "MsgBox (\"一季後：\" & DateAdd(\"q\", 1, d))\n",
    "MsgBox (\"一月後：\" & DateAdd(\"m\", 1, d))\n",
    "MsgBox (\"一天後：\" & DateAdd(\"d\", 1, d))\n",
    "MsgBox (\"一週後：\" & DateAdd(\"ww\", 1, d))\n",
    "\n",
    "d = \"01-Jan-2013 12:00:00\"\n",
    "MsgBox (\"一小時後：\" & DateAdd(\"h\", 1, d))\n",
    "MsgBox (\"一分鐘後：\" & DateAdd(\"n\", 1, d))\n",
    "MsgBox (\"一秒鐘後：\" & DateAdd(\"s\", 1, d))\n"
   ]
  },
  {
   "cell_type": "code",
   "execution_count": null,
   "metadata": {},
   "outputs": [],
   "source": [
    "以加法配合負數，即可進行日期與時間的減法運算，算出某段時間之前的時間點：\n",
    "\n",
    "Dim d As Date\n",
    "\n",
    "d = \"01-Jan-2013\"\n",
    "MsgBox (\"一年前：\" & DateAdd(\"yyyy\", -1, d))\n",
    "MsgBox (\"一季前：\" & DateAdd(\"q\", -1, d))\n",
    "MsgBox (\"一月前：\" & DateAdd(\"m\", -1, d))\n",
    "MsgBox (\"一天前：\" & DateAdd(\"d\", -1, d))\n",
    "MsgBox (\"一週前：\" & DateAdd(\"ww\", -1, d))\n",
    "\n",
    "d = \"01-Jan-2013 12:00:00\"\n",
    "MsgBox (\"一小時前：\" & DateAdd(\"h\", -1, d))\n",
    "MsgBox (\"一分鐘前：\" & DateAdd(\"n\", -1, d))\n",
    "MsgBox (\"一秒鐘前：\" & DateAdd(\"s\", -1, d))"
   ]
  },
  {
   "cell_type": "code",
   "execution_count": null,
   "metadata": {},
   "outputs": [],
   "source": [
    "如果要計算兩個時間點之間的時間間隔，可以使用 DateDiff 函數：\n",
    "\n",
    "Dim d1, d2 As Date\n",
    "d1 = \"2017/10/02\"\n",
    "d2 = \"2018/11/14\"\n",
    "\n",
    "MsgBox (\"相差年: \" & DateDiff(\"yyyy\", d1, d2))\n",
    "MsgBox (\"相差季: \" & DateDiff(\"q\", d1, d2))\n",
    "MsgBox (\"相差月: \" & DateDiff(\"m\", d1, d2))\n",
    "MsgBox (\"相差日: \" & DateDiff(\"d\", d1, d2))\n",
    "MsgBox (\"相差週: \" & DateDiff(\"ww\", d1, d2))\n",
    "\n",
    "d1 = \"01-Jan-09 00:00:00\"\n",
    "d2 = \"01-Jan-10 23:59:00\"\n",
    "MsgBox (\"相差小時: \" & DateDiff(\"h\", d1, d2))\n",
    "MsgBox (\"相差分鐘: \" & DateDiff(\"n\", d1, d2))\n",
    "MsgBox (\"相差秒鐘 : \" & DateDiff(\"s\", d1, d2))"
   ]
  },
  {
   "cell_type": "code",
   "execution_count": null,
   "metadata": {},
   "outputs": [],
   "source": [
    "日期與時間的輸出\n",
    "取出部分日期或時間\n",
    "我們可以使用 Year、Month、Day 與 Weekday 來判斷日期的年、月、日與星期幾：\n",
    "\n",
    "Dim d As Date\n",
    "d = Date\n",
    "\n",
    "' 取出年、月、日、星期\n",
    "MsgBox (\"年: \" & Year(d))\n",
    "MsgBox (\"月: \" & Month(d))\n",
    "MsgBox (\"日: \" & Day(d))\n",
    "MsgBox (\"星期: \" & Weekday(d))"
   ]
  },
  {
   "cell_type": "code",
   "execution_count": null,
   "metadata": {},
   "outputs": [],
   "source": [
    "Weekday 預設會傳回 1 到 7 的整數，分別代表星期日到星期六，如果要取得星期名稱，可再使用 WeekdayName 轉換：\n",
    "\n",
    "Dim d As Date\n",
    "Dim wdn As String\n",
    "d = Date\n",
    "\n",
    "' 星期名稱\n",
    "wdn = WeekdayName(Weekday(d))\n",
    "\n",
    "' 輸出\n",
    "MsgBox (wdn)"
   ]
  },
  {
   "cell_type": "code",
   "execution_count": null,
   "metadata": {},
   "outputs": [],
   "source": [
    "星期名稱\n",
    "\n",
    "月份名稱也是用類似的方式，使用 MonthName 函數轉換：\n",
    "\n",
    "Dim d As Date\n",
    "Dim mn As String\n",
    "d = Date\n",
    "\n",
    "' 月份名稱\n",
    "mn = MonthName(Month(d))\n",
    "\n",
    "' 輸出\n",
    "MsgBox (mn)"
   ]
  },
  {
   "cell_type": "code",
   "execution_count": null,
   "metadata": {},
   "outputs": [],
   "source": [
    "月份名稱\n",
    "\n",
    "時間的部分可以使用 Hour、Minute 與 Second，用法也都類似：\n",
    "\n",
    "MsgBox (\"時：\" & Hour(Now))\n",
    "MsgBox (\"分：\" & Minute(Now))\n",
    "MsgBox (\"秒：\" & Second(Now))"
   ]
  },
  {
   "cell_type": "code",
   "execution_count": null,
   "metadata": {},
   "outputs": [],
   "source": [
    "DatePart 是一個可以依照指定的樣板輸出日期各個部份的多功能函數：\n",
    "\n",
    "MsgBox (\"年：\" & DatePart(\"yyyy\", Now))\n",
    "MsgBox (\"月：\" & DatePart(\"m\", Now))\n",
    "MsgBox (\"日：\" & DatePart(\"d\", Now))\n",
    "MsgBox (\"星期：\" & DatePart(\"w\", Now))\n",
    "MsgBox (\"週數：\" & DatePart(\"ww\", Now))\n",
    "MsgBox (\"季：\" & DatePart(\"q\", Now))\n",
    "MsgBox (\"時：\" & DatePart(\"h\", Now))\n",
    "MsgBox (\"分：\" & DatePart(\"n\", Now))\n",
    "MsgBox (\"秒：\" & DatePart(\"s\", Now))"
   ]
  },
  {
   "cell_type": "code",
   "execution_count": null,
   "metadata": {},
   "outputs": [],
   "source": [
    "輸出格式\n",
    "FormatDateTime 可依據指定的格式輸出日期與時間，可用的輸出格式如下：\n",
    "\n",
    "格式代碼\t說明\n",
    "0 或 vbGeneralDate\t完整格式（預設值）\n",
    "1 或 vbLongDate\t完整日期\n",
    "2 或 vbShortDate\t簡短日期\n",
    "3 或 vbLongTime\t完整時間\n",
    "4 或 vbShortTime\t簡短時間\n",
    "以下是各種使用範例：\n",
    "\n",
    "Dim d As Date\n",
    "d = (\"2013-08-15 20:25\")\n",
    "\n",
    "' 2013/8/15 下午 08:25:00\n",
    "MsgBox (FormatDateTime(d))\n",
    "MsgBox (FormatDateTime(d, 0))\n",
    "MsgBox (FormatDateTime(d, vbGeneralDate))\n",
    "\n",
    "' 2013年8月15日\n",
    "MsgBox (FormatDateTime(d, 1))\n",
    "MsgBox (FormatDateTime(d, vbLongDate))\n",
    "\n",
    "' 2013/8/15\n",
    "MsgBox (FormatDateTime(d, 2))\n",
    "MsgBox (FormatDateTime(d, vbShortDate))\n",
    "\n",
    "' 下午 08:25:00\n",
    "MsgBox (FormatDateTime(d, 3))\n",
    "MsgBox (FormatDateTime(d, vbLongTime))\n",
    "\n",
    "' 20:25\n",
    "MsgBox (FormatDateTime(d, 4))\n",
    "MsgBox (FormatDateTime(d, vbShortTime))"
   ]
  }
 ],
 "metadata": {
  "kernelspec": {
   "display_name": "Python 3",
   "language": "python",
   "name": "python3"
  },
  "language_info": {
   "codemirror_mode": {
    "name": "ipython",
    "version": 3
   },
   "file_extension": ".py",
   "mimetype": "text/x-python",
   "name": "python",
   "nbconvert_exporter": "python",
   "pygments_lexer": "ipython3",
   "version": "3.7.1"
  }
 },
 "nbformat": 4,
 "nbformat_minor": 2
}
