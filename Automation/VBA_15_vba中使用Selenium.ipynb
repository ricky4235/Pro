{
 "cells": [
  {
   "cell_type": "code",
   "execution_count": null,
   "metadata": {},
   "outputs": [],
   "source": [
    " VBA_15_vba中使用Selenium"
   ]
  },
  {
   "cell_type": "code",
   "execution_count": null,
   "metadata": {},
   "outputs": [],
   "source": [
    "Public BOT As New WebDriver\n",
    "\n",
    "Sub test()\n",
    "\n",
    "BOT.Start \"chrome\", \"http://www.google.com.tw\"\n",
    "BOT.Get \"/\"\n",
    "\n",
    "End Sub"
   ]
  },
  {
   "cell_type": "code",
   "execution_count": null,
   "metadata": {},
   "outputs": [],
   "source": [
    "一、概念\n",
    "什麼是selenium就是可以用代碼來操控各主流瀏覽器：IE、Chrome、Firefox、Edge、Opera、PhantomJS。\n",
    "操控是什麼意思？就是用vba來幫你們在瀏覽器中完成點擊、輸入等操作。是不是很神奇！！！\n",
    "用vba來控制chrome，完成網抓、報表填製、批量審批業務等等。。。。。你可以想到的所有的重複性工作。\n",
    "\n",
    "二、如何開始\n",
    "需要安裝兩種東西：selenium封裝器、瀏覽器。\n",
    "共享下載地址：https://pan.baidu.com/s/1L95GTY4yZWo5zMtuerZhnA 提取碼：so6s\n",
    "1 、selenium封裝器。\n",
    "      這個封裝器是一個叫florentbr的老外寫的開源項目，他把selenium封裝成了window下的com庫，\n",
    "    這樣我們就能使用vba來使用他了。不過他只更新到了2016年，所有對應的瀏覽器驅動不是很新。\n",
    "    他最大的貢獻就是在於把原來java、c#、python才能玩的東西給大家做成了VBA玩家也能玩的東西了。\n",
    "在下載好我的共享的文件後如下\n",
    "點擊SeleniumBasic-2.0.9.0。點下一步安裝就行了，僅注意這一步的安裝選項：\n",
    "最後一個是firefox錄製宏的插件，其它的是瀏覽器，自己行選擇\n",
    "2 、瀏覽器。\n",
    "     我找了很久才匹配上兩種瀏覽器的版本：Chrome_Google_v49.0.2623.112、\n",
    "    Firefox Setup 39.0 為什麼要匹配呢？》因為selenium控制瀏覽器需各種瀏覽器的各種驅動，\n",
    "    florentbr已經給封裝到了SeleniumBasic-2.0.9.0封裝器中，安裝時就給安裝上了。\n",
    "    你可以在安裝文件中發現這些驅動器如圖：\n",
    "安裝谷歌V49或是火狐39版本瀏覽器，我在共享中已分享，點擊安裝即可\n",
    "\n",
    "三、在vba中開始第一個Selenium的程序\n",
    "示例1\n",
    "打開VBE，工具—引用—點擊Selenium Type Library"
   ]
  },
  {
   "cell_type": "code",
   "execution_count": null,
   "metadata": {},
   "outputs": [],
   "source": [
    "然後輸入以下VBA代碼\n",
    "Sub 示例1()\n",
    "    Dim cd As New ChromeDriver\n",
    "    cd.Start\n",
    "    cd.Get \"https://www.baidu.com\"\n",
    "    cd.TakeScreenshot.ToExcel Range(\"A1\")\n",
    "    Stop '這裡可以看一下打開的網頁\n",
    "    cd.Quit\n",
    "End Sub\n",
    "運行效果"
   ]
  },
  {
   "cell_type": "code",
   "execution_count": null,
   "metadata": {},
   "outputs": [],
   "source": [
    "代碼解釋：第一句是新建一個谷歌的驅動、第二句是打開瀏覽器、第三句是打開的瀏覽器截圖到range(“A1”)\n",
    "\n",
    "四、網抓示例\n",
    "示例2：要抓取的網站excelhome首頁目錄數據，權當一個入門級示例。當時網站數據如下"
   ]
  },
  {
   "cell_type": "code",
   "execution_count": null,
   "metadata": {},
   "outputs": [],
   "source": [
    "代碼\n",
    "Sub 示例2()\n",
    "    Dim cd As New ChromeDriver\n",
    "    cd.Start\n",
    "    cd.Get \"http://www.excelhome.net/\"\n",
    "    cd.FindElementByClass(\"menu\").FindElementsByTag(\"a\").Text.ToExcel Sheet2.Range(\"A1\"), \"excelHome首頁目錄\", True\n",
    "    cd.Quit\n",
    "End Sub\n",
    "代碼的解釋\n",
    "第一句：創建了一個驅動\n",
    "第二句：開啟谷歌瀏覽器\n",
    "第三句：跳轉到excelhome首頁\n",
    "第四句：通過驅動查找樣式名為“menu”的第一個元素，然後通過查找到的元素在他的子元素中查找a標籤的元素，最後把查找到的所有元素的text通過toExcel方法存入到sheet2的range(“A1”)中去。\n",
    "其中ToExcel參數說明：第一個參數為目標區域即targetRange;\n",
    "第二個參數為給此text數據組取一個標題名稱;第三個參數為是否清除以前目標區域的數據，我這裡是清除。\n",
    "以上看不懂不要緊，我後面會把重要的幫助文檔內容翻譯出來以供大家理解和參考。\n",
    "示例3\n",
    "抓取Office/Excel 2007/10/03行業應用交流與培訓中的數據。此數據為一個table表的數據，具備典型的抓取特點。\n",
    "地址：http://club.excelhome.net/forum.php"
   ]
  },
  {
   "cell_type": "code",
   "execution_count": null,
   "metadata": {},
   "outputs": [],
   "source": [
    "代碼\n",
    "Sub 示例3()\n",
    "    Dim cd As New ChromeDriver\n",
    "    cd.Start\n",
    "    cd.Get \"http://club.excelhome.net/forum.php\"\n",
    "    Dim wele As WebElement\n",
    "    Set wele = cd.FindElementByXPath(\"//h2[a='Office/Excel 2007/10/03行業應用交流與培訓']/following::table[1]\")\n",
    "    wele.AsTable.ToExcel Sheet2.Range(\"C1\"), True\n",
    "    Sheet2.Range(\"C:D\").EntireColumn.AutoFit\n",
    "    Sheet2.Range(\"A1:A2\").EntireRow.AutoFit\n",
    "End Sub\n",
    "代碼解釋\n",
    "第一句、第二句、第三句以前解釋過，不多說。\n",
    "第四句：定義一個網頁元素類\n",
    "第五句：通過xpath方式獲得2007/10/03行業應用交流與培訓' 那個table元素。Xpath用法查找h2標籤（條件包含一個a標籤，其text為“2007/10/03行業應用交流與培訓”），再路徑其h2同輩後續的第一個table標籤。\n",
    "第六句：轉換為table對象。用toexcel方法存放到sheet2的range(“c1”)中去。\n",
    "第七句、第八句、VBA 基本用法不解釋。\n",
    "總結 selenium網抓優點：用法簡單、應用範圍廣、適用性強、對於有些登錄驗證的網抓也可以通過打斷點的方式完成登錄，然後進入網站進行重複性工作。缺點：需要指定版本的瀏覽器、需要安裝selenium包裝器、對於定位元素對於普通VBA用戶學習成本較高。\n",
    "後續會重點對定位元素、框架、cookie進行講解釋。"
   ]
  },
  {
   "cell_type": "code",
   "execution_count": null,
   "metadata": {},
   "outputs": [],
   "source": [
    "五、填寫表單\n",
    "[size=18.6667px]表單填寫個經常做的網絡操作，這裡寫幾個例子進行演示說明，有input標籤的輸入有select標籤的選擇、鍵盤功能鍵的介紹。\n",
    "[size=18.6667px]\n",
    "示例5\n",
    "這裡進行註冊登錄表單的填寫\n",
    "http://club.excelhome.net/member.php?mod=join\n",
    "這裡僅是做一個表單填寫的演示。"
   ]
  },
  {
   "cell_type": "code",
   "execution_count": null,
   "metadata": {},
   "outputs": [],
   "source": [
    "代碼\n",
    "'excel 論壇註冊頁面表單填寫\n",
    "Sub 示例4()\n",
    "    Dim cd As New ChromeDriver\n",
    "    cd.Start\n",
    "    cd.Get \"http://club.excelhome.net/member.php?mod=join\"\n",
    "   cd.FindElementById(\"ehusername\").SendKeys \" 源理\"\n",
    "   cd.FindElementById(\"ehpassword\").SendKeys\"12345678QWERTY\"\n",
    "   cd.FindElementById(\"ehpassword2\").SendKeys\"12345678QWERTY\"\n",
    "   cd.FindElementById(\"ehemail\").SendKeys \"304013782@QQ.com\"\n",
    "   cd.FindElementById(\"invitecode\").SendKeys \"SendKeys\"\n",
    "   cd.FindElementById(\"realname\").SendKeys \" 江志\"\n",
    "   cd.FindElementById(\"mobile\").SendKeys \"15166668888\"\n",
    "    Stop ' 看看網頁上是不是填好了數據,\n",
    "    ' 當然現在所有註冊頁都有防我們這種惡意註冊的機制，行為驗證是我這種技術破不了的\n",
    "    cd.Quit\n",
    "EndSub\n",
    "代碼解釋\n",
    "第一、二、三句就不解釋了。\n",
    "第四句：驅動通過ID查到WebElement,當獲得到元素後向元素Sendkey(即鍵入)字符。\n",
    "後面代碼與第四句一樣。\n",
    "這裡重點說明一下Sendkey方法。\n",
    "WebElement.Sendkey( keysOrModifier, keys,)\n",
    "keysOrModifier ：字符串或是功能鍵。功能鍵是指ctrl、shift、小鍵盤+-*數字等等功能鍵。調用Keys. Fields 使用。\n",
    "Keys ：字符串。\n",
    "示例：sendKeys Keys.Control, \"s\" '即模擬鍵盤輸入ctrl+s。\n",
    "Keys. Fields  "
   ]
  },
  {
   "cell_type": "code",
   "execution_count": null,
   "metadata": {},
   "outputs": [],
   "source": [
    "示例5\n",
    "在http://club.excelhome.net/forum-2-1.html中搜索“Selenium”"
   ]
  },
  {
   "cell_type": "code",
   "execution_count": null,
   "metadata": {},
   "outputs": [],
   "source": [
    "代碼\n",
    "Sub 示例5()\n",
    "    Dim cd As New ChromeDriver\n",
    "    cd.Start\n",
    "    cd.Get \"http://club.excelhome.net/forum.php\"\n",
    "    Dim keys As New keys\n",
    "    cd.FindElementById(\"bdcs-search-form-input\").SendKeys(\"Selenium\").SendKeys keys.Enter\n",
    "    Stop\n",
    "    cd.Quit\n",
    "End Sub\n",
    "\n",
    "代碼解釋\n",
    "最重要的是第四句：通過id查找到搜索輸入框元素，調用SendKeys方法向其輸入“Selenium”，並在返回的輸入框元素中發一個回車鍵\n",
    "\n",
    "示例6\n",
    "對下拉列錶框進行輸入值。選中兩個select標籤的值，分別雙色球、18001。網址: http://kaijiang.500.com/?0_ala_baidu"
   ]
  },
  {
   "cell_type": "code",
   "execution_count": null,
   "metadata": {},
   "outputs": [],
   "source": [
    "代碼：\n",
    "Sub 示例6()\n",
    "    Dim cd As New ChromeDriver\n",
    "    cd.Start\n",
    "    cd.Get \"http://kaijiang.500.com/?0_ala_baidu\"\n",
    "    cd.FindElementById(\"lotTypeSelect\").AsSelect.SelectByText \" 雙色球\"\n",
    "    cd.Wait 1000\n",
    "    cd.FindElementById(\"selectLotQuery\").AsSelect.SelectByText \"18001\"\n",
    "    Stop\n",
    "    cd.Quit\n",
    "End Sub\n",
    "\n",
    "關鍵代碼解釋\n",
    "第四句：通過ID獲得彩票類型的select選擇框,調用ASSelect方法轉換成SelectEelemet類，之後調用SelectEelemet類的SelectByText方法選中雙色球選項。\n",
    "第五句：由於後面的期數框的數據是異步請求，所以需要等一定時間。當然這不是最優的代碼，wait方法可以改進。\n",
    "第六句和第四句意思一樣。"
   ]
  },
  {
   "cell_type": "code",
   "execution_count": null,
   "metadata": {},
   "outputs": [],
   "source": []
  },
  {
   "cell_type": "code",
   "execution_count": null,
   "metadata": {},
   "outputs": [],
   "source": []
  },
  {
   "cell_type": "code",
   "execution_count": null,
   "metadata": {},
   "outputs": [],
   "source": []
  },
  {
   "cell_type": "code",
   "execution_count": null,
   "metadata": {},
   "outputs": [],
   "source": []
  },
  {
   "cell_type": "code",
   "execution_count": null,
   "metadata": {},
   "outputs": [],
   "source": []
  }
 ],
 "metadata": {
  "kernelspec": {
   "display_name": "Python 3",
   "language": "python",
   "name": "python3"
  },
  "language_info": {
   "codemirror_mode": {
    "name": "ipython",
    "version": 3
   },
   "file_extension": ".py",
   "mimetype": "text/x-python",
   "name": "python",
   "nbconvert_exporter": "python",
   "pygments_lexer": "ipython3",
   "version": "3.7.1"
  }
 },
 "nbformat": 4,
 "nbformat_minor": 2
}
