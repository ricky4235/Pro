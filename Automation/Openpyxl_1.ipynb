{
 "cells": [
  {
   "cell_type": "code",
   "execution_count": null,
   "metadata": {},
   "outputs": [],
   "source": [
    "https://www.happycoder.org/2018/09/27/python-automation-programming-how-to-use-python-manipulate-excel-spreadsheet/"
   ]
  },
  {
   "cell_type": "code",
   "execution_count": null,
   "metadata": {},
   "outputs": [],
   "source": [
    "在正式開始使用 Python 程式來操作 Excel 試算表前我們先來了解 Excel 常見名詞。\n",
    "試算表文件稱作活頁簿（workbook），而活頁簿我們會存在 .xlsx 的副檔名檔案中\n",
    "（若是比較舊版的 Excel 有可能會有其他 .xls 等檔名）。\n",
    "在每個活頁簿可以有多個工作表（worksheet），一般就是我們工作填寫資料的區域，多個資料表使用 tab 來進行區隔，\n",
    "正在使用的資料表（active worksheet）稱為使用中工作表。\n",
    "每個工作表中直的是欄（column）從和橫的是列（row）。\n",
    "在指定的欄和列的區域是儲存格（cell），也就是我們輸入資料的地方。\n",
    "一格格儲存格的網格和內含的資料就組成一份工作表。"
   ]
  },
  {
   "cell_type": "code",
   "execution_count": null,
   "metadata": {},
   "outputs": [],
   "source": [
    "# 讀取 Excel 檔案"
   ]
  },
  {
   "cell_type": "code",
   "execution_count": null,
   "metadata": {},
   "outputs": [],
   "source": [
    "1. 使用 Openpyxl 開啟 Excel 檔案（可以從這邊下載範例 Excel 資料檔案），\n",
    "下載後檔名改為 sample.xlsx，並放到和 jupyter Notebook 同樣位置的資料夾下："
   ]
  },
  {
   "cell_type": "code",
   "execution_count": 2,
   "metadata": {},
   "outputs": [
    {
     "name": "stdout",
     "output_type": "stream",
     "text": [
      "['進銷存(總表)', '進銷存(圖)', 'pv', 'pv (2)', 'raw', 'vGoods', 'sq']\n"
     ]
    }
   ],
   "source": [
    " from openpyxl import load_workbook\n",
    "\n",
    " wb = load_workbook('20200324-進銷存-SF4_Vietnam_Silicom.xlsx')\n",
    " print(wb.sheetnames)"
   ]
  },
  {
   "cell_type": "code",
   "execution_count": null,
   "metadata": {},
   "outputs": [],
   "source": [
    "執行後可以讀取活頁簿物件（類似讀取檔案）並印出這個範例檔案的工作表名稱："
   ]
  },
  {
   "cell_type": "code",
   "execution_count": 3,
   "metadata": {},
   "outputs": [
    {
     "data": {
      "text/plain": [
       "['進銷存(總表)']"
      ]
     },
     "execution_count": 3,
     "metadata": {},
     "output_type": "execute_result"
    }
   ],
   "source": [
    "ws = ['進銷存(總表)']\n",
    "ws"
   ]
  },
  {
   "cell_type": "code",
   "execution_count": null,
   "metadata": {},
   "outputs": [],
   "source": [
    "2. 從工作表中取得儲存格（取得 A1 儲存格資料）"
   ]
  },
  {
   "cell_type": "code",
   "execution_count": 20,
   "metadata": {},
   "outputs": [
    {
     "ename": "TypeError",
     "evalue": "list indices must be integers or slices, not str",
     "output_type": "error",
     "traceback": [
      "\u001b[1;31m---------------------------------------------------------------------------\u001b[0m",
      "\u001b[1;31mTypeError\u001b[0m                                 Traceback (most recent call last)",
      "\u001b[1;32m<ipython-input-20-aafcb493d149>\u001b[0m in \u001b[0;36m<module>\u001b[1;34m\u001b[0m\n\u001b[1;32m----> 1\u001b[1;33m \u001b[1;33m[\u001b[0m\u001b[1;34m'進銷存(總表)'\u001b[0m\u001b[1;33m]\u001b[0m\u001b[1;33m[\u001b[0m\u001b[1;34m'C2'\u001b[0m\u001b[1;33m]\u001b[0m\u001b[1;33m.\u001b[0m\u001b[0mvalue\u001b[0m\u001b[1;33m\u001b[0m\u001b[1;33m\u001b[0m\u001b[0m\n\u001b[0m",
      "\u001b[1;31mTypeError\u001b[0m: list indices must be integers or slices, not str"
     ]
    }
   ],
   "source": [
    "['進銷存(總表)']['C2'].value"
   ]
  },
  {
   "cell_type": "code",
   "execution_count": null,
   "metadata": {},
   "outputs": [],
   "source": [
    "3. 從工作表中取得欄和列"
   ]
  },
  {
   "cell_type": "code",
   "execution_count": 7,
   "metadata": {},
   "outputs": [
    {
     "ename": "IndentationError",
     "evalue": "unexpected indent (<ipython-input-7-40a173a03297>, line 2)",
     "output_type": "error",
     "traceback": [
      "\u001b[1;36m  File \u001b[1;32m\"<ipython-input-7-40a173a03297>\"\u001b[1;36m, line \u001b[1;32m2\u001b[0m\n\u001b[1;33m    for row in ws.rows:\u001b[0m\n\u001b[1;37m    ^\u001b[0m\n\u001b[1;31mIndentationError\u001b[0m\u001b[1;31m:\u001b[0m unexpected indent\n"
     ]
    }
   ],
   "source": [
    "#列出每一欄的值\n",
    " for row in ws.rows:\n",
    "     for cell in row:\n",
    "         print(cell.value)"
   ]
  },
  {
   "cell_type": "code",
   "execution_count": null,
   "metadata": {},
   "outputs": [],
   "source": [
    "# 列出每一列的值\n",
    " for column in ws.columns:\n",
    "     for cell in column:\n",
    "         print(cell.value)"
   ]
  },
  {
   "cell_type": "code",
   "execution_count": null,
   "metadata": {},
   "outputs": [],
   "source": [
    "# 寫入 Excel 檔案"
   ]
  },
  {
   "cell_type": "code",
   "execution_count": null,
   "metadata": {},
   "outputs": [],
   "source": [
    "1. 創建並儲存 Excel 檔案"
   ]
  },
  {
   "cell_type": "code",
   "execution_count": 8,
   "metadata": {},
   "outputs": [],
   "source": [
    " from openpyxl import Workbook\n",
    "\n",
    " # 創建一個空白活頁簿物件\n",
    " wb = Workbook()"
   ]
  },
  {
   "cell_type": "code",
   "execution_count": null,
   "metadata": {},
   "outputs": [],
   "source": [
    "2. 建立工作表"
   ]
  },
  {
   "cell_type": "code",
   "execution_count": 9,
   "metadata": {},
   "outputs": [],
   "source": [
    " # 選取正在工作中的表單\n",
    " ws = wb.active"
   ]
  },
  {
   "cell_type": "code",
   "execution_count": null,
   "metadata": {},
   "outputs": [],
   "source": [
    "3. 將值寫入儲存格內"
   ]
  },
  {
   "cell_type": "code",
   "execution_count": 10,
   "metadata": {},
   "outputs": [],
   "source": [
    " # 指定值給 A1 儲存格\n",
    " ws['A1'] = '我是儲存格'\n",
    "\n",
    " # 向下新增一列並連續插入值\n",
    " ws.append([1, 2, 3])\n",
    " ws.append([3, 2, 1])"
   ]
  },
  {
   "cell_type": "code",
   "execution_count": null,
   "metadata": {},
   "outputs": [],
   "source": [
    "4. 儲存檔案"
   ]
  },
  {
   "cell_type": "code",
   "execution_count": 16,
   "metadata": {},
   "outputs": [],
   "source": [
    " # 儲存成 create_sample.xlsx 檔案\n",
    " wb.save('create_sample.xlsx')"
   ]
  },
  {
   "cell_type": "code",
   "execution_count": 15,
   "metadata": {},
   "outputs": [],
   "source": [
    " ws.append([3, 2, 3])"
   ]
  },
  {
   "cell_type": "code",
   "execution_count": null,
   "metadata": {},
   "outputs": [],
   "source": []
  },
  {
   "cell_type": "code",
   "execution_count": null,
   "metadata": {},
   "outputs": [],
   "source": [
    "http://liyangliang.me/posts/2013/02/using-openpyxl-to-read-and-write-xlsx-files/"
   ]
  },
  {
   "cell_type": "code",
   "execution_count": null,
   "metadata": {},
   "outputs": [],
   "source": [
    "用openpyxl 處理xlsx 文件"
   ]
  },
  {
   "cell_type": "code",
   "execution_count": null,
   "metadata": {},
   "outputs": [],
   "source": [
    "久違的圖書館~~雖然剛開學，圖書館裡已經有不少同學在看書自習了，學校的氛圍就是不一樣，\n",
    "在安靜的環境和熟悉的書香中，很容易就靜下心來。OK，下面進入正題。\n",
    "\n",
    "openpyxl是一個用來處理excel文件的python代碼庫。Python有一些內置的功能相似的代碼庫，\n",
    "不過我都沒用過，而且好像都有不少局限性。openpyxl用起來還是挺簡單的，對照文檔就可以解決一些基本需求，\n",
    "比如常見的都寫操作。不過有一個前提，它只能用來處理Excel 2007及以上版本的excel文件，\n",
    "也就是.xlsx/.xlsm格式的表格文件。順便提一下，xls和xlsx是兩種完全不同的格式，\n",
    "其本質的差別相比字面的區別要多很多。xls的核心結構是複合文檔類型的結構，而xlsx的核心結構是XML類型的結構，\n",
    "採用的是基於XML的壓縮方式，使其占用的空間更小。xlsx中最後一個x的意義就在於此。"
   ]
  },
  {
   "cell_type": "code",
   "execution_count": null,
   "metadata": {},
   "outputs": [],
   "source": [
    "1. 安裝"
   ]
  },
  {
   "cell_type": "code",
   "execution_count": null,
   "metadata": {},
   "outputs": [],
   "source": [
    "2. 讀"
   ]
  },
  {
   "cell_type": "code",
   "execution_count": 28,
   "metadata": {},
   "outputs": [
    {
     "name": "stderr",
     "output_type": "stream",
     "text": [
      "C:\\Users\\11004076\\Anaconda3\\lib\\site-packages\\ipykernel_launcher.py:5: DeprecationWarning: Call to deprecated function get_sheet_names (Use wb.sheetnames).\n",
      "  \"\"\"\n",
      "C:\\Users\\11004076\\Anaconda3\\lib\\site-packages\\ipykernel_launcher.py:7: DeprecationWarning: Call to deprecated function get_sheet_by_name (Use wb[sheetname]).\n",
      "  import sys\n"
     ]
    }
   ],
   "source": [
    "from openpyxl import load_workbook\n",
    " \n",
    "wb = load_workbook(filename=r'20200324-進銷存-SF4_Vietnam_Silicom.xlsx')\n",
    " \n",
    "sheets = wb.get_sheet_names()   # 获取所有表格(worksheet)的名字\n",
    "sheet0 = sheets[0]  # 第一个表格的名称\n",
    "ws = wb.get_sheet_by_name('進銷存(總表)') # 获取特定的 worksheet\n",
    " \n",
    "# 获取表格所有行和列，两者都是可迭代的\n",
    "rows = ws.rows\n",
    "columns = ws.columns\n",
    " \n",
    "# 行迭代\n",
    "content = []\n",
    "for row in rows:\n",
    "    line = [col.value for col in row]\n",
    "    content.append(line)\n",
    "\n",
    "# 通過做標讀取值\n",
    "#print(ws.cell('B12').value)    # B 表示列，12 表示行\n",
    "ws.cell(row=1, column=1).value = 12"
   ]
  },
  {
   "cell_type": "code",
   "execution_count": null,
   "metadata": {},
   "outputs": [],
   "source": [
    "當調用get_sheet_by_name('sheet_name')方法獲取表格時，如果名字為sheet_name的表格不存在，不會報錯或拋出異常，而只是返回None."
   ]
  },
  {
   "cell_type": "code",
   "execution_count": null,
   "metadata": {},
   "outputs": [],
   "source": [
    "3. 寫"
   ]
  },
  {
   "cell_type": "code",
   "execution_count": 31,
   "metadata": {},
   "outputs": [
    {
     "name": "stdout",
     "output_type": "stream",
     "text": [
      "Sheet\n"
     ]
    },
    {
     "name": "stderr",
     "output_type": "stream",
     "text": [
      "C:\\Users\\11004076\\Anaconda3\\lib\\site-packages\\ipykernel_launcher.py:6: DeprecationWarning: Call to deprecated function get_active_sheet (Use the .active property).\n",
      "  \n"
     ]
    }
   ],
   "source": [
    "from openpyxl import Workbook\n",
    " \n",
    "# 在内存中创建一个workbook对象，而且会至少创建一个 worksheet\n",
    "wb = Workbook()\n",
    " \n",
    "ws = wb.get_active_sheet()\n",
    "print(ws.title)\n",
    "ws.title = 'New Title'  # 设置worksheet的标题\n",
    " \n",
    "# 设置单元格的值\n",
    "#ws.cell('D3').value = 4\n",
    "ws.cell(row=3, column=1).value = 6\n",
    " \n",
    "new_ws = wb.create_sheet(title='new_sheet')\n",
    "for row in range(1, 100):\n",
    "    for col in range(1, 10):\n",
    "        new_ws.cell(row=row, column=col).value = row+col\n",
    " \n",
    "# 最后一定要保存！\n",
    "wb.save(filename='new_file.xlsx')"
   ]
  },
  {
   "cell_type": "code",
   "execution_count": 35,
   "metadata": {},
   "outputs": [
    {
     "ename": "TypeError",
     "evalue": "cell() missing 1 required positional argument: 'column'",
     "output_type": "error",
     "traceback": [
      "\u001b[1;31m---------------------------------------------------------------------------\u001b[0m",
      "\u001b[1;31mTypeError\u001b[0m                                 Traceback (most recent call last)",
      "\u001b[1;32m<ipython-input-35-89c776def6ff>\u001b[0m in \u001b[0;36m<module>\u001b[1;34m\u001b[0m\n\u001b[1;32m----> 1\u001b[1;33m \u001b[0mws\u001b[0m\u001b[1;33m.\u001b[0m\u001b[0mcell\u001b[0m\u001b[1;33m(\u001b[0m\u001b[1;34m\"3D\"\u001b[0m\u001b[1;33m)\u001b[0m\u001b[1;33m.\u001b[0m\u001b[0mvalue\u001b[0m \u001b[1;33m=\u001b[0m \u001b[1;36m4\u001b[0m\u001b[1;33m\u001b[0m\u001b[1;33m\u001b[0m\u001b[0m\n\u001b[0m",
      "\u001b[1;31mTypeError\u001b[0m: cell() missing 1 required positional argument: 'column'"
     ]
    }
   ],
   "source": [
    "ws.cell(\"3D\").value = 4"
   ]
  },
  {
   "cell_type": "code",
   "execution_count": null,
   "metadata": {},
   "outputs": [],
   "source": [
    "4. 文檔"
   ]
  }
 ],
 "metadata": {
  "kernelspec": {
   "display_name": "Python 3",
   "language": "python",
   "name": "python3"
  },
  "language_info": {
   "codemirror_mode": {
    "name": "ipython",
    "version": 3
   },
   "file_extension": ".py",
   "mimetype": "text/x-python",
   "name": "python",
   "nbconvert_exporter": "python",
   "pygments_lexer": "ipython3",
   "version": "3.7.1"
  }
 },
 "nbformat": 4,
 "nbformat_minor": 2
}
