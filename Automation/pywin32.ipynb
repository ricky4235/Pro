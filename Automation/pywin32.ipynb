{
 "cells": [
  {
   "cell_type": "markdown",
   "metadata": {},
   "source": [
    "# 介紹"
   ]
  },
  {
   "cell_type": "markdown",
   "metadata": {},
   "source": [
    "Python有許多用於處理Excel文件的選項（熊貓，openpyxL，xlsxwriter等）。但是，還有另一個選項可以直接與Windows OS程序的功能結合使用，稱為“ Python for Windows擴展”，也稱為pywin32。使用此軟件包，您可以輕鬆訪問Window的組件對像模型（COM）並通過Python控制Microsoft應用程序。"
   ]
  },
  {
   "cell_type": "markdown",
   "metadata": {},
   "source": [
    "### 什麼是COM？"
   ]
  },
  {
   "cell_type": "markdown",
   "metadata": {},
   "source": [
    "Microsoft組件對像模型（COM）是一個與平台無關的分佈式面向對象的系統，用於創建可以交互的二進制軟件組件。COM是Microsoft的OLE（複合文檔），ActiveX（支持Internet的組件）以及其他使我們能夠從另一個程序控制Windows應用程序的基礎技術。\n",
    "\n",
    "通過使用該技術，pywin32允許我們與COM對象進行交互，並且幾乎可以執行Microsoft應用程序可以使用某些Python代碼執行的所有操作"
   ]
  },
  {
   "cell_type": "code",
   "execution_count": null,
   "metadata": {},
   "outputs": [],
   "source": [
    "https://officeguide.cc/python-control-excel-using-pywin32-tutorial/"
   ]
  },
  {
   "cell_type": "code",
   "execution_count": null,
   "metadata": {},
   "outputs": [],
   "source": [
    "如果想在 Windows 中使用 Python 程式操控 Excel，可以使用 pywin32 這個 Python 模組，使用前先依照步驟安裝 pywin32 模組。\n",
    "win32模塊不僅可以操作Excel，還可以操作其他一眾windows的軟件。"
   ]
  },
  {
   "cell_type": "code",
   "execution_count": null,
   "metadata": {},
   "outputs": [],
   "source": [
    "# 新增 Excel 檔案\n",
    "以下這個範例是使用 Python 操控 Excel，新增一個 Excel 活頁簿，並將資料寫入工作表，最後存檔離開。"
   ]
  },
  {
   "cell_type": "code",
   "execution_count": 1,
   "metadata": {},
   "outputs": [],
   "source": [
    "import win32com.client\n",
    "\n",
    "# 取得 Excel COMObject\n",
    "excel = win32com.client.Dispatch('Excel.Application')\n",
    "\n",
    "# 顯示視窗\n",
    "excel.Visible = True\n",
    "\n",
    "# 新增新的活頁簿\n",
    "newBook = excel.Workbooks.Add()\n",
    "\n",
    "# 取得目前的工作表\n",
    "sheet = newBook.ActiveSheet\n",
    "\n",
    "# 寫入資料\n",
    "sheet.Cells(1, 1).Value = \"Hello!\"\n",
    "sheet.Cells(1, 2).Value = \"Excel.\""
   ]
  },
  {
   "cell_type": "code",
   "execution_count": 10,
   "metadata": {},
   "outputs": [],
   "source": [
    "# 儲存檔案\n",
    "newBook.SaveAs(r'C:\\Users\\11004076\\Documents\\Python Scripts\\4_Automation\\demo2.xlsx')\n",
    "\n",
    "# 關閉活頁簿\n",
    "newBook.Close()\n",
    "\n",
    "# 離開 Excel\n",
    "excel.Application.Quit()"
   ]
  },
  {
   "cell_type": "code",
   "execution_count": null,
   "metadata": {},
   "outputs": [],
   "source": [
    "# 開啟現有 Excel"
   ]
  },
  {
   "cell_type": "code",
   "execution_count": 1,
   "metadata": {},
   "outputs": [],
   "source": [
    "import win32com.client as win32\n",
    "\n",
    "# 取得 Excel COMObject\n",
    "excel = win32.Dispatch('Excel.Application')\n",
    "\n",
    "# 顯示視窗\n",
    "excel.Visible = True\n",
    "\n",
    "# 開啟現有 Excel\n",
    "myBook = excel.Workbooks.Open(r'C:\\Users\\11004076\\Documents\\Python Scripts\\4_Automation\\demo2.xlsx')\n",
    "\n",
    "# 取得指定的工作表（可用索引或名稱）\n",
    "sheet = myBook.Worksheets(1)\n",
    "#sheet = myBook.Worksheets(\"我的工作表\")"
   ]
  },
  {
   "cell_type": "code",
   "execution_count": null,
   "metadata": {},
   "outputs": [],
   "source": [
    "# 編輯 Excel 檔案"
   ]
  },
  {
   "cell_type": "code",
   "execution_count": null,
   "metadata": {},
   "outputs": [],
   "source": [
    "### Font 物件\n",
    "以下是使用 Python 開啟上一個範例產生的 Excel 檔案，更改內容、文字顏色、字體的範例："
   ]
  },
  {
   "cell_type": "code",
   "execution_count": 14,
   "metadata": {},
   "outputs": [],
   "source": [
    "# 讀取資料\n",
    "content = sheet.Cells(1, 1).Value\n",
    "#print(content)\n",
    "\n",
    "# 寫入資料\n",
    "sheet.Range(\"A1:C3\").Value = [[\"A1\", \"a2\", 13],[\"B1\", \"b2\", \"B3\"],[\"C1\", 32, 33]]\n",
    "\n",
    "# 將文字設定為綠色\n",
    "sheet.Cells(1, 1).Font.Color = 0x00FF00\n",
    "sheet.Cells(3,2).Font.Color = -16776961\n",
    "\n",
    "#設定代表字型色彩的 Variant 值\n",
    "sheet.Range(\"A2\").Font.ColorIndex = 3\n",
    "\n",
    "# 將文字設定為粗體\n",
    "sheet.Cells(3, 1).Font.Bold = True\n",
    "\n",
    "# 設定文字字型\n",
    "sheet.Cells(2, 1).Font.Name = \"微軟正黑體\"\n",
    "\n",
    "# 設定文字大小\n",
    "sheet.Cells(2, 2).Font.Size = 18\n",
    "\n",
    "# 刪除線\n",
    "sheet.Cells(2, 3).Font.Strikethrough = True\n",
    "\n",
    "#下標字元\n",
    "sheet.Cells(3, 1).Font.Subscript = True\n",
    "\n",
    "#上標字元\n",
    "sheet.Cells(3, 2).Font.Superscript = True\n",
    "\n",
    "#斜體\n",
    "sheet.Range(\"C3\").Font.Italic = True\n",
    "\n",
    "#下底線\n",
    "sheet.Range(\"C3\").Font.Underline  = True\n"
   ]
  },
  {
   "cell_type": "markdown",
   "metadata": {},
   "source": [
    "### Range 物件"
   ]
  },
  {
   "cell_type": "code",
   "execution_count": 11,
   "metadata": {},
   "outputs": [],
   "source": [
    "# Offset 移動\n",
    "sheet.Cells(1,1).Offset(2,4).Value = \"Cell D2\"\n",
    "\n",
    "#合併儲存格\n",
    "sheet.Range(\"C5:D6\").MergeCells = True\n",
    "\n",
    "# 自動換行\n",
    "sheet.Range(\"B2\").WrapText = True\n",
    "\n",
    "#傳回指定物件的父物件。 唯讀。\n",
    "sheet.Range(\"B2\").Parent\n",
    "\n",
    "#填滿色彩\n",
    "sheet.Range(\"A5\").Interior.Color  = 0x00FF00\n",
    "\n",
    "#自訂數值格式\n",
    "sheet.Range(\"C1\").NumberFormat = \"$###,##0.00\""
   ]
  },
  {
   "cell_type": "code",
   "execution_count": 5,
   "metadata": {},
   "outputs": [
    {
     "data": {
      "text/plain": [
       "(('A1', 'a2', 13.0), ('B1', 'b2', 'B3'), ('C1', 32.0, 33.0))"
      ]
     },
     "execution_count": 5,
     "metadata": {},
     "output_type": "execute_result"
    }
   ],
   "source": [
    "sheet.Range(sheet.Cells(1,1),sheet.Cells(3,3)).Value # 嵌套的列表"
   ]
  },
  {
   "cell_type": "code",
   "execution_count": 10,
   "metadata": {},
   "outputs": [],
   "source": [
    "# 返回或設置指定對象的水平對齊方式    靠右\n",
    "sheet.Range(\"A1:A5\").HorizontalAlignment = win32.constants.xlRight  \n",
    "\n",
    "# 返回或設置指定對象的垂直對齊方式  居中\n",
    "sheet.Rows(1).VerticalAlignment = win32.constants.xlCenter    "
   ]
  },
  {
   "cell_type": "code",
   "execution_count": 16,
   "metadata": {},
   "outputs": [
    {
     "data": {
      "text/plain": [
       "'$2:$2'"
      ]
     },
     "execution_count": 16,
     "metadata": {},
     "output_type": "execute_result"
    }
   ],
   "source": [
    "sheet.Rows(12).Value = 12 # 整行\n",
    "sheet.Range('E2').EntireColumn.Address    # $E:$E 整列\n",
    "sheet.Range('E2').EntireRow.Address       # $2:$2 整行"
   ]
  },
  {
   "cell_type": "code",
   "execution_count": 118,
   "metadata": {},
   "outputs": [],
   "source": [
    "#框線  https://docs.microsoft.com/zh-tw/office/vba/api/excel.borders\n",
    "sheet.Range(\"B2\").Borders(9).LineStyle = -4118\n",
    "sheet.Range(\"B2\").Borders(9).ColorIndex = -4105\n",
    "\n",
    "sheet.Range(\"C2\").Borders(5).LineStyle = 1\n",
    "#https://docs.microsoft.com/zh-tw/office/vba/api/excel.xlbordersindex\n",
    "#https://docs.microsoft.com/zh-tw/office/vba/api/excel.xllinestyle\n",
    "\n",
    "sheet.Range(\"C2\").Borders(5).Color = 0x00FF00"
   ]
  },
  {
   "cell_type": "code",
   "execution_count": 26,
   "metadata": {},
   "outputs": [
    {
     "data": {
      "text/plain": [
       "'$D$2'"
      ]
     },
     "execution_count": 26,
     "metadata": {},
     "output_type": "execute_result"
    }
   ],
   "source": [
    "#End\n",
    "# 函數意義及方向同VBA： xlToLeft/ xlUp / xlToRight/ xlDown\n",
    "sheet.Cells(1,1).End(win32.constants.xlDown).Offset(6,6).Value = 66\n",
    "sheet.Rows(2).End(win32.constants.xlToRight).Address  #第二列最右邊有值的儲存格"
   ]
  },
  {
   "cell_type": "code",
   "execution_count": 24,
   "metadata": {},
   "outputs": [
    {
     "data": {
      "text/plain": [
       "'$B$2:$B$6'"
      ]
     },
     "execution_count": 24,
     "metadata": {},
     "output_type": "execute_result"
    }
   ],
   "source": [
    "# Intersect     # (同工作表中的)參數的重疊區域\n",
    "excel.Application.Intersect(sheet.Range('A1:B6'),sheet.Range('B2:F9')).Address"
   ]
  },
  {
   "cell_type": "code",
   "execution_count": null,
   "metadata": {},
   "outputs": [],
   "source": [
    "Add a Worksheet"
   ]
  },
  {
   "cell_type": "code",
   "execution_count": 36,
   "metadata": {},
   "outputs": [],
   "source": [
    "import win32com.client as win32\n",
    "excel = win32.gencache.EnsureDispatch('Excel.Application')\n",
    "excel.Visible = True\n",
    "wb = excel.Workbooks.Open(r'C:\\Users\\11004076\\Documents\\Python Scripts\\4_Automation\\demo2.xlsx')\n",
    "ws = wb.Worksheets.Add()\n",
    "ws.Name = \"新表\"\n",
    "wb.SaveAs(r'C:\\Users\\11004076\\Documents\\Python Scripts\\4_Automation\\demo2.xlsx')\n",
    "excel.Application.Quit()"
   ]
  },
  {
   "cell_type": "code",
   "execution_count": null,
   "metadata": {},
   "outputs": [],
   "source": [
    "Autofill Cell Contents"
   ]
  },
  {
   "cell_type": "code",
   "execution_count": 60,
   "metadata": {},
   "outputs": [
    {
     "data": {
      "text/plain": [
       "True"
      ]
     },
     "execution_count": 60,
     "metadata": {},
     "output_type": "execute_result"
    }
   ],
   "source": [
    "sheet.Range(\"E1\").Value = 1\n",
    "sheet.Range(\"E2\").Value = 2\n",
    "sheet.Range(\"E1:E2\").AutoFill(sheet.Range(\"E1:E10\"),win32.constants.xlFillDefault)"
   ]
  },
  {
   "cell_type": "code",
   "execution_count": null,
   "metadata": {},
   "outputs": [],
   "source": [
    "Cell Color"
   ]
  },
  {
   "cell_type": "code",
   "execution_count": 62,
   "metadata": {},
   "outputs": [],
   "source": [
    "for i in range (1,30):\n",
    "    sheet.Cells(i,6).Value = i\n",
    "    sheet.Cells(i,6).Interior.ColorIndex = i"
   ]
  },
  {
   "cell_type": "code",
   "execution_count": null,
   "metadata": {},
   "outputs": [],
   "source": [
    "Column Formatting"
   ]
  },
  {
   "cell_type": "code",
   "execution_count": 63,
   "metadata": {},
   "outputs": [],
   "source": [
    "sheet.Columns(1).ColumnWidth = 1\n",
    "sheet.Range(\"B:B\").ColumnWidth = 27"
   ]
  },
  {
   "cell_type": "code",
   "execution_count": null,
   "metadata": {},
   "outputs": [],
   "source": [
    "Format Worksheet Cells"
   ]
  },
  {
   "cell_type": "code",
   "execution_count": 64,
   "metadata": {},
   "outputs": [
    {
     "data": {
      "text/plain": [
       "True"
      ]
     },
     "execution_count": 64,
     "metadata": {},
     "output_type": "execute_result"
    }
   ],
   "source": [
    "sht2 = myBook.Worksheets(2)\n",
    "\n",
    "#enumerate是內建函數，將其組成一個索引序列，利用它可以同時獲得索引和值\n",
    "for i,font in enumerate([\"Arial\",\"Courier New\",\"Garamond\",\"Georgia\",\"Verdana\"]):\n",
    "    sht2.Range(sht2.Cells(i+1,1),sht2.Cells(i+1,2)).Value = [font,i+i] #在(1,1)和(1,2)代入第一個font=\"Arial\",0....以此類推\n",
    "    sht2.Range(sht2.Cells(i+1,1),sht2.Cells(i+1,2)).Font.Name = font  #\n",
    "    sht2.Range(sht2.Cells(i+1,1),sht2.Cells(i+1,2)).Font.Size = 12+i  #字型大小+1\n",
    "\n",
    "sht2.Range(\"A1:A5\").HorizontalAlignment = win32.constants.xlRight  #水平對齊+靠右對齊\n",
    "sht2.Range(\"B1:B5\").NumberFormat = \"$###,##0.00\"\n",
    "sht2.Columns.AutoFit()  #自動調整欄寬"
   ]
  },
  {
   "cell_type": "code",
   "execution_count": null,
   "metadata": {},
   "outputs": [],
   "source": [
    "Setting Row Height"
   ]
  },
  {
   "cell_type": "code",
   "execution_count": 65,
   "metadata": {},
   "outputs": [],
   "source": [
    "sht3 = myBook.Worksheets(3)\n",
    "\n",
    "sht3.Range(\"A1:A2\").Value = \"1 line\"\n",
    "sht3.Range(\"B1:B2\").Value = \"Two\\nlines\"   #(\\n)為換行字元\n",
    "sht3.Range(\"C1:C2\").Value = \"Three\\nlines\\nhere\"\n",
    "sht3.Range(\"D1:D2\").Value = \"This\\nis\\nfour\\nlines\"\n",
    "sht3.Rows(1).RowHeight = 60\n",
    "sht3.Range(\"2:2\").RowHeight = 120\n",
    "sht3.Rows(1).VerticalAlignment = win32.constants.xlCenter  #垂直對齊\n",
    "sht3.Range(\"2:2\").VerticalAlignment = win32.constants.xlCenter  #垂直對齊"
   ]
  },
  {
   "cell_type": "code",
   "execution_count": null,
   "metadata": {},
   "outputs": [],
   "source": [
    "sht.Range('A2:J10').Formula = \"=row()*column()\" # 公式"
   ]
  },
  {
   "cell_type": "code",
   "execution_count": null,
   "metadata": {},
   "outputs": [],
   "source": [
    "Copying Data from Worksheet to Worksheet"
   ]
  },
  {
   "cell_type": "code",
   "execution_count": 28,
   "metadata": {},
   "outputs": [],
   "source": [
    "# 將\"新表\"中A1:C3的數據複製到myBook中所有工作表的相同位置\n",
    "myBook.Worksheets.FillAcrossSheets(myBook.Worksheets(\"新表\").Range(\"A1:C3\"))        \n",
    "\n",
    "# FillAcrossSheets：將單元格區域複製到集合中所有其他工作表的同一位置\n",
    "# 還有一可選參數,指定如何複製區域:\n",
    "# xlFillWithAlldefault/xlFillWithContents/xlFillWithFormats(詳VBA)"
   ]
  },
  {
   "cell_type": "code",
   "execution_count": null,
   "metadata": {},
   "outputs": [],
   "source": [
    "# 複製工作表\n",
    "sheet.Copy(None,sheet)  # 參數：Copy(Before,After)"
   ]
  },
  {
   "cell_type": "code",
   "execution_count": 33,
   "metadata": {},
   "outputs": [
    {
     "data": {
      "text/plain": [
       "True"
      ]
     },
     "execution_count": 33,
     "metadata": {},
     "output_type": "execute_result"
    }
   ],
   "source": [
    "# 將已用區域的第一行數據複製到從F2開始的單元格區域(自動擴展)\n",
    "sheet.UsedRange.Range(\"A1:C3\").Copy(sheet.Range('G9'))"
   ]
  },
  {
   "cell_type": "code",
   "execution_count": 37,
   "metadata": {},
   "outputs": [],
   "source": [
    "# 同一行賦值\n",
    "sheet.Range(\"A13:K13\").Value = [i for i in range(1,11)]"
   ]
  },
  {
   "cell_type": "code",
   "execution_count": 41,
   "metadata": {},
   "outputs": [],
   "source": [
    "# VBA中的轉置函數\n",
    "func = excel.Application.WorksheetFunction.Transpose  \n",
    "\n",
    "# 同一列賦值 變爲多行一列\n",
    "sheet.Range(\"B2:B11\").Value = list(zip([i for i in range(1,11)]))\n",
    "\n",
    "# 同上\n",
    "sheet.Range(\"E2:E11\").Value = func([i for i in range(1,11)])\n",
    "\n",
    "# 同一行賦值 將列中的值倒置\n",
    "sheet.Range('f1:h1').Value = func(sheet.Range('b3:b5').Value)"
   ]
  },
  {
   "cell_type": "code",
   "execution_count": 42,
   "metadata": {},
   "outputs": [],
   "source": [
    "# 多維 對 多維\n",
    "sheet.Range(\"B2:E4\").Value = sheet.Range(\"B6:E8\").Value"
   ]
  },
  {
   "cell_type": "code",
   "execution_count": null,
   "metadata": {},
   "outputs": [],
   "source": [
    "https://jpereiran.github.io/articles/2019/06/14/Excel-automation-with-pywin32.html"
   ]
  },
  {
   "cell_type": "code",
   "execution_count": null,
   "metadata": {},
   "outputs": [],
   "source": [
    "開啟檔案\n",
    "為了從Excel文件中獲取數據，我們需要打開它們。為此，我們需要激活該應用程序，然後使其在所需路徑下打開文件："
   ]
  },
  {
   "cell_type": "code",
   "execution_count": null,
   "metadata": {},
   "outputs": [],
   "source": [
    "import win32com.client\n",
    "import sys, io\n",
    "\n",
    "# Open up Excel and make it visible (actually you don't need to make it visible)\n",
    "excel = win32com.client.Dispatch('Excel.Application')\n",
    "excel.Visible = True\n",
    "\n",
    "# Redirect the stdout to a file  將標準輸出重定向到文件\n",
    "orig_stdout = sys.stdout #標準輸出\n",
    "bk = io.open(\"Answers_Report.txt\", mode=\"w\", encoding=\"utf-8\")\n",
    "sys.stdout = bk\n",
    "\n",
    "# Select a file and open it\n",
    "file = \"path_of_file\"\n",
    "wb_data = excel.Workbooks.Open(file)\n",
    "\n",
    "# Get the answers to the Q1A and write them into the summary file\n",
    "mission=wb_data.Worksheets(\"1ayb_MisiónyVisiónFutura\").Range(\"C6\")\n",
    "vision =wb_data.Worksheets(\"1ayb_MisiónyVisiónFutura\").Range(\"C7\")\n",
    "print(\"Question 1A\")\n",
    "print(\"Mission:\",mission)\n",
    "print(\"Vision:\" ,vision)\n",
    "print()\n",
    "\n",
    "# Get the answers to the Q1B and write them into the summary file\n",
    "oe1=wb_data.Worksheets(\"1ayb_MisiónyVisiónFutura\").Range(\"C14\")\n",
    "ju1=wb_data.Worksheets(\"1ayb_MisiónyVisiónFutura\").Range(\"D14\")\n",
    "oe2=wb_data.Worksheets(\"1ayb_MisiónyVisiónFutura\").Range(\"C15\")\n",
    "ju2=wb_data.Worksheets(\"1ayb_MisiónyVisiónFutura\").Range(\"D15\")\n",
    "print(\"Question 1B\")\n",
    "print(\"OEN1:\",oe1, \"- JUSTIF:\",ju1)\n",
    "print(\"OEN2:\",oe2, \"- JUSTIF:\",ju2)\n",
    "print()\n",
    "    \n",
    "# Close the file without saving\n",
    "wb_data.Close(True)\n",
    "\n",
    "# Closing Excel and restoring the stdout\n",
    "sys.stdout = orig_stdout\n",
    "bk.close()\n",
    "excel.Quit()"
   ]
  },
  {
   "cell_type": "code",
   "execution_count": null,
   "metadata": {},
   "outputs": [],
   "source": [
    "# FormatConditions: 條件格式 參見VBA"
   ]
  },
  {
   "cell_type": "code",
   "execution_count": 43,
   "metadata": {},
   "outputs": [
    {
     "data": {
      "text/plain": [
       "<win32com.gen_py.Microsoft Excel 12.0 Object Library.ColorScale instance at 0x138383936>"
      ]
     },
     "execution_count": 43,
     "metadata": {},
     "output_type": "execute_result"
    }
   ],
   "source": [
    "sheet.Range(\"B2:B4\").Select()\n",
    "# 添加三色度漸變刻度 二色度參數爲2\n",
    "excel.Selection.FormatConditions.AddColorScale(ColorScaleType = 3)"
   ]
  },
  {
   "cell_type": "code",
   "execution_count": 47,
   "metadata": {},
   "outputs": [],
   "source": [
    "rng = sheet.Range(\"E2:E4\")\n",
    "CON = win32.constants\n",
    "\n",
    "# sht/wb 無FormatConditions屬性\n",
    "rng.FormatConditions.Add(win32.constants.xlCellValue,win32.constants.xlEqual,'5')  # 值等於5\n",
    "    \n",
    "# 給前面新建的添加格式 前面新建的在最末\n",
    "rng.FormatConditions(rng.FormatConditions.Count).Interior.ColorIndex = 3"
   ]
  },
  {
   "cell_type": "code",
   "execution_count": 49,
   "metadata": {},
   "outputs": [],
   "source": [
    "fmt = rng.FormatConditions.Add(win32.constants.xlCellValue,win32.constants.xlEqual,'6') #值等於6\n",
    "fmt.Interior.ColorIndex = 3     \n",
    "excel.Selection.FormatConditions(excel.Selection.FormatConditions.Count).SetFirstPriority()"
   ]
  },
  {
   "cell_type": "code",
   "execution_count": null,
   "metadata": {},
   "outputs": [],
   "source": [
    "# AddComment 添加批註\n",
    "sht.Cells(1).AddComment(\"abc\")      # 同一地址不能重複添加\n",
    "sht.Cells(1).Comment.Visible = True # 批註顯示或隱藏\n",
    "sht.Cells(1).Comment.Text('ppp')    # 更改批註內容\n",
    "sht.Cells(1).Comment.Delete()       # 刪除"
   ]
  },
  {
   "cell_type": "code",
   "execution_count": 53,
   "metadata": {},
   "outputs": [],
   "source": [
    "# AutoFilter 自動篩選\n",
    "\n",
    "sheet.UsedRange.Columns(5).AutoFilter(1,\"=C\")\n",
    "sheet.AutoFilterMode = False  # 去掉原來的篩選"
   ]
  },
  {
   "cell_type": "code",
   "execution_count": null,
   "metadata": {},
   "outputs": [],
   "source": [
    "# PageSetup 頁面設置\n",
    "pgs = sheet.PageSetup\n",
    "pgs.Zoom = 150  # 縮放比例 10--400% 之間\n",
    "pgs.PrintArea = sht.UsedRange.Address  # 打印區域\n",
    "pgs.Orientation = win32.constants.xlLandscape  \n",
    "    # 橫向打印  縱向爲：xlPortrait\n",
    "sheet.PrintPreview(True) # 打印預覽"
   ]
  }
 ],
 "metadata": {
  "kernelspec": {
   "display_name": "Python 3",
   "language": "python",
   "name": "python3"
  },
  "language_info": {
   "codemirror_mode": {
    "name": "ipython",
    "version": 3
   },
   "file_extension": ".py",
   "mimetype": "text/x-python",
   "name": "python",
   "nbconvert_exporter": "python",
   "pygments_lexer": "ipython3",
   "version": "3.7.1"
  }
 },
 "nbformat": 4,
 "nbformat_minor": 2
}
