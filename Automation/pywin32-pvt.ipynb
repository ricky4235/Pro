{
 "cells": [
  {
   "cell_type": "code",
   "execution_count": null,
   "metadata": {},
   "outputs": [],
   "source": [
    "# 建立樞紐分析表\n",
    "https://www.yinglinglow.com/blog/2018/04/29/xlwings-pivot-table"
   ]
  },
  {
   "cell_type": "code",
   "execution_count": null,
   "metadata": {},
   "outputs": [],
   "source": [
    "VBA寫法： https://docs.microsoft.com/zh-tw/office/vba/api/excel.pivotcaches.create\n",
    "ActiveWorkbook.PivotCaches.Create(SourceType:=xlExternal, SourceData:=ActiveWorkbook.Connections(\"Target Connection Name\"), _ \n",
    "Version:=xlPivotTableVersion15).CreatePivotChart(ChartDestination:=\"Sheet1\").Select"
   ]
  },
  {
   "cell_type": "code",
   "execution_count": 6,
   "metadata": {
    "scrolled": true
   },
   "outputs": [],
   "source": [
    "import win32com.client\n",
    "Excel   = win32com.client.gencache.EnsureDispatch('Excel.Application') \n",
    "# Excel = win32com.client.Dispatch('Excel.Application')\n",
    "\n",
    "win32c = win32com.client.constants\n",
    "\n",
    "wb = Excel.Workbooks.Add()\n",
    "Sheet1 = wb.Worksheets(\"Sheet1\")\n",
    "\n",
    "TestData = [['Country','Name','Gender','Sign','Amount'],\n",
    "             ['CH','Max' ,'M','Plus',123.4567],\n",
    "             ['CH','Max' ,'M','Minus',-23.4567],\n",
    "             ['CH','Max' ,'M','Plus',12.2314],\n",
    "             ['CH','Max' ,'M','Minus',-2.2314],\n",
    "             ['CH','Sam' ,'M','Plus',453.7685],\n",
    "             ['CH','Sam' ,'M','Minus',-53.7685],\n",
    "             ['CH','Sara','F','Plus',777.666],\n",
    "             ['CH','Sara','F','Minus',-77.666],\n",
    "             ['DE','Hans','M','Plus',345.088],\n",
    "             ['DE','Hans','M','Minus',-45.088],\n",
    "             ['DE','Paul','M','Plus',222.455],\n",
    "             ['DE','Paul','M','Minus',-22.455]]\n",
    "\n",
    "for i, TestDataRow in enumerate(TestData):\n",
    "    for j, TestDataItem in enumerate(TestDataRow):\n",
    "        Sheet1.Cells(i+2,j+4).Value = TestDataItem\n",
    "\n",
    "cl1 = Sheet1.Cells(2,4)  #最左上格\n",
    "cl2 = Sheet1.Cells(2+len(TestData)-1,4+len(TestData[0])-1)  #最右下格\n",
    "PivotSourceRange = Sheet1.Range(cl1,cl2)  #左上~右下:要樞紐的全範圍\n",
    "\n",
    "PivotSourceRange.Select()\n",
    "\n",
    "Sheet2 = wb.Worksheets(2)\n",
    "cl3=Sheet2.Cells(4,1)\n",
    "PivotTargetRange=  Sheet2.Range(cl3,cl3)\n",
    "PivotTableName = 'ReportPivotTable'\n",
    "\n",
    "#建立樞紐分析表時，一定會有一個樞紐分析快取(Pivot Cache)的記憶體配置\n",
    "#https://docs.microsoft.com/zh-tw/office/vba/api/excel.pivotcaches.create\n",
    "PivotCache = wb.PivotCaches().Create(SourceType=win32c.xlDatabase, SourceData=PivotSourceRange)\n",
    "\n",
    "#在快取之下才能建立樞紐分析表\n",
    "#https://docs.microsoft.com/zh-tw/office/vba/api/excel.pivotcache.createpivottable\n",
    "PivotTable = PivotCache.CreatePivotTable(TableDestination=PivotTargetRange, TableName=PivotTableName)\n",
    "\n",
    "#欄位設定(PivotField物件):Excel中選擇要新增到樞紐報表的位置動作\n",
    "    #Orientation(定位):顯示欄位要放在樞紐的位置  https://docs.microsoft.com/zh-tw/office/vba/api/excel.pivotfield.orientation\n",
    "    #Position(位置):同一Orientation(定位)下欄位的先後順序  https://docs.microsoft.com/zh-tw/office/vba/api/excel.pivotfield.position\n",
    "    #CurrentPage(當前頁面):報表篩選(左上)中進行篩選  https://docs.microsoft.com/zh-tw/office/vba/api/excel.pivotfield.currentpage\n",
    "    #Subtotals(小計):傳回或設定與指定欄位一同顯示的小計。 僅對非資料欄位有效  https://docs.microsoft.com/zh-tw/office/vba/api/excel.pivotfield.subtotals\n",
    "PivotTable.PivotFields('Name').Orientation = win32c.xlRowField  #'Name'定位在列標籤(左下)\n",
    "PivotTable.PivotFields('Name').Position = 1   #在列標籤(左下)的第一位置(1為最先，無0)\n",
    "\n",
    "PivotTable.PivotFields('Gender').Orientation = win32c.xlPageField  #'Gender'定位在報表篩選(左上)\n",
    "PivotTable.PivotFields('Gender').Position = 1 #在列標籤(左上)的第一位置(1為最先，無0)\n",
    "PivotTable.PivotFields('Gender').CurrentPage = 'M'  #報表篩選(左上)中進行篩選\n",
    "\n",
    "PivotTable.PivotFields('Country').Orientation = win32c.xlColumnField  #'Country'定位在欄標籤(右上)\n",
    "PivotTable.PivotFields('Country').Position = 1  #在欄標籤(右上)的第一位置(1為最先，無0)\n",
    "PivotTable.PivotFields('Country').Subtotals = [False, False, False, False, False, False, False, False, False, False, False, False]\n",
    "PivotTable.PivotFields('Sign').Orientation = win32c.xlColumnField    #'Sign'定位在欄標籤(右上)\n",
    "PivotTable.PivotFields('Sign').Position = 2     #在欄標籤(右上)的第二位置(1為最先，無0)\n",
    "\n",
    "\n",
    "DataField = PivotTable.AddDataField(PivotTable.PivotFields('Amount'))  #加總區(右下)的值設定為'Amount'\n",
    "DataField.NumberFormat = '0.00'  #加總區(右下)的值欄位設定格式\n",
    " \n",
    "Excel.Visible = 1\n",
    "\n",
    "#wb.SaveAs('ranges_and_offsets.xlsx')\n",
    "#Excel.Application.Quit()"
   ]
  },
  {
   "cell_type": "code",
   "execution_count": 5,
   "metadata": {
    "scrolled": true
   },
   "outputs": [
    {
     "name": "stdout",
     "output_type": "stream",
     "text": [
      "0 ['Country', 'Name', 'Gender', 'Sign', 'Amount']\n",
      "1 ['CH', 'Max', 'M', 'Plus', 123.4567]\n",
      "2 ['CH', 'Max', 'M', 'Minus', -23.4567]\n",
      "3 ['CH', 'Max', 'M', 'Plus', 12.2314]\n",
      "4 ['CH', 'Max', 'M', 'Minus', -2.2314]\n",
      "5 ['CH', 'Sam', 'M', 'Plus', 453.7685]\n",
      "6 ['CH', 'Sam', 'M', 'Minus', -53.7685]\n",
      "7 ['CH', 'Sara', 'F', 'Plus', 777.666]\n",
      "8 ['CH', 'Sara', 'F', 'Minus', -77.666]\n",
      "9 ['DE', 'Hans', 'M', 'Plus', 345.088]\n",
      "10 ['DE', 'Hans', 'M', 'Minus', -45.088]\n",
      "11 ['DE', 'Paul', 'M', 'Plus', 222.455]\n",
      "12 ['DE', 'Paul', 'M', 'Minus', -22.455]\n"
     ]
    }
   ],
   "source": [
    "for i, TestDataRow in enumerate(TestData):\n",
    "    print(i, TestDataRow)"
   ]
  },
  {
   "cell_type": "code",
   "execution_count": 6,
   "metadata": {
    "scrolled": false
   },
   "outputs": [
    {
     "name": "stdout",
     "output_type": "stream",
     "text": [
      "0 DE\n",
      "1 Paul\n",
      "2 M\n",
      "3 Minus\n",
      "4 -22.455\n"
     ]
    }
   ],
   "source": [
    "for j, TestDataItem in enumerate(TestDataRow):\n",
    "    print(j, TestDataItem)"
   ]
  },
  {
   "cell_type": "code",
   "execution_count": 7,
   "metadata": {},
   "outputs": [],
   "source": [
    "Sheet2 = wb.Worksheets(\"Sheet2\")"
   ]
  },
  {
   "cell_type": "code",
   "execution_count": 15,
   "metadata": {},
   "outputs": [
    {
     "data": {
      "text/plain": [
       "'ReportPivotTable'"
      ]
     },
     "execution_count": 15,
     "metadata": {},
     "output_type": "execute_result"
    }
   ],
   "source": [
    "#包含指定之範圍儲存格的樞紐分析報表\n",
    "Sheet2.Range(\"A2\").PivotTable.Name"
   ]
  },
  {
   "cell_type": "code",
   "execution_count": 22,
   "metadata": {},
   "outputs": [
    {
     "data": {
      "text/plain": [
       "<win32com.gen_py.Microsoft Excel 12.0 Object Library.PivotCell instance at 0x92700568>"
      ]
     },
     "execution_count": 22,
     "metadata": {},
     "output_type": "execute_result"
    }
   ],
   "source": [
    "#樞紐分析表報表中的儲存格\n",
    "Sheet2.Range(\"D5\").PivotCell"
   ]
  },
  {
   "cell_type": "code",
   "execution_count": 16,
   "metadata": {
    "scrolled": false
   },
   "outputs": [
    {
     "data": {
      "text/plain": [
       "'Country'"
      ]
     },
     "execution_count": 16,
     "metadata": {},
     "output_type": "execute_result"
    }
   ],
   "source": [
    "#代表包含指定之範圍左上角儲存格的樞紐分析表欄位。\n",
    "Sheet2.Range(\"D5\").PivotField.Name"
   ]
  },
  {
   "cell_type": "code",
   "execution_count": null,
   "metadata": {},
   "outputs": [],
   "source": []
  },
  {
   "cell_type": "code",
   "execution_count": 18,
   "metadata": {},
   "outputs": [],
   "source": [
    "import win32com.client\n",
    "Excel   = win32com.client.gencache.EnsureDispatch('Excel.Application') \n",
    "# Excel = win32com.client.Dispatch('Excel.Application')\n",
    "\n",
    "win32c = win32com.client.constants\n",
    "\n",
    "Excel.Visible = 1\n",
    "\n",
    "wb = Excel.Workbooks.Open(r'C:\\Users\\11004076\\Documents\\Python Scripts\\4_Automation\\20200324-進銷存-SF4_Vietnam_Silicom.xlsx')  #開啟現有活頁簿\n",
    "Sheet1 = wb.Worksheets(\"raw\")\n",
    "\n",
    "PivotSourceRange = Sheet1.Range(\"A1:I1234\")\n",
    "\n",
    "Sheet2 = wb.Worksheets(\"pvt\")\n",
    "PivotTargetRange=  Sheet2.Range(\"C5\")\n",
    "PivotTableName = 'ReportPivotTable'"
   ]
  },
  {
   "cell_type": "code",
   "execution_count": 19,
   "metadata": {
    "scrolled": true
   },
   "outputs": [],
   "source": [
    "#建立樞紐分析表時，一定會有一個樞紐分析快取(Pivot Cache)的記憶體配置\n",
    "PivotCache = wb.PivotCaches().Create(SourceType=win32c.xlDatabase, SourceData=PivotSourceRange)\n",
    "\n",
    "#在快取之下才能建立樞紐分析表\n",
    "PivotTable = PivotCache.CreatePivotTable(TableDestination=PivotTargetRange, TableName=PivotTableName)\n",
    "\n",
    "#欄位設定(PivotField物件):Excel中選擇要新增到樞紐報表的位置動作\n",
    "PivotTable.PivotFields('MediumCat').Orientation = win32c.xlRowField\n",
    "PivotTable.PivotFields('MediumCat').Position = 1\n",
    "PivotTable.PivotFields('Sls CD4 Desc#').Orientation = win32c.xlRowField\n",
    "PivotTable.PivotFields('Sls CD4 Desc#').Position = 2\n",
    "PivotTable.PivotFields('2nd Item Number').Orientation = win32c.xlRowField\n",
    "PivotTable.PivotFields('2nd Item Number').Position = 3\n",
    "PivotTable.PivotFields('Product Desc#').Orientation = win32c.xlRowField\n",
    "PivotTable.PivotFields('Product Desc#').Position = 4\n",
    "\n",
    "PivotTable.PivotFields('ISS').Orientation = win32c.xlColumnField\n",
    "PivotTable.PivotFields('ISS').Position = 1\n",
    "PivotTable.PivotFields('ISS').Subtotals = [False, False, False, False, False, False, False, False, False, False, False, False]\n",
    "PivotTable.PivotFields('Year').Orientation = win32c.xlColumnField\n",
    "PivotTable.PivotFields('Year').Position = 2\n",
    "PivotTable.PivotFields('Month').Orientation = win32c.xlColumnField\n",
    "PivotTable.PivotFields('Month').Position = 3\n",
    "PivotTable.PivotFields('Month').Subtotals = [False, False, False, False, False, False, False, False, False, False, False, False]\n",
    "\n",
    "DataField = PivotTable.AddDataField(PivotTable.PivotFields('Qty'))\n",
    "#DataField = PivotTable.PivotFields('Qty').Orientation = win32c.xlDataField\n",
    "DataField.NumberFormat = '0.00'\n",
    "\n",
    "PivotTable.PivotFields('LargeCat').Orientation = win32c.xlPageField\n",
    "PivotTable.PivotFields('LargeCat').Position = 1\n",
    "PivotTable.PivotFields('LargeCat').CurrentPage = 'Mouse'\n",
    "\n",
    "#wb.SaveAs('ranges_and_offsets.xlsx')\n",
    "#Excel.Application.Quit()\n"
   ]
  }
 ],
 "metadata": {
  "kernelspec": {
   "display_name": "Python 3",
   "language": "python",
   "name": "python3"
  },
  "language_info": {
   "codemirror_mode": {
    "name": "ipython",
    "version": 3
   },
   "file_extension": ".py",
   "mimetype": "text/x-python",
   "name": "python",
   "nbconvert_exporter": "python",
   "pygments_lexer": "ipython3",
   "version": "3.7.1"
  }
 },
 "nbformat": 4,
 "nbformat_minor": 2
}
