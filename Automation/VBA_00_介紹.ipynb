{
 "cells": [
  {
   "cell_type": "code",
   "execution_count": null,
   "metadata": {},
   "outputs": [],
   "source": [
    "# VBA_0_介紹"
   ]
  },
  {
   "cell_type": "code",
   "execution_count": null,
   "metadata": {},
   "outputs": [],
   "source": [
    "VBA的最大特色是提供多種「物件」，這些物件就是各軟體檔案格式的內容，\n",
    "例如在Excel的VBA內有Workbook(活頁簿)﹑Worksheet(工作表)；\n",
    "在Word內有Document(文件)等物件，每一物件都有數量不等的屬性及方法，觀念與VB中的控制項相同。"
   ]
  },
  {
   "cell_type": "code",
   "execution_count": null,
   "metadata": {},
   "outputs": [],
   "source": [
    "# 寫法"
   ]
  },
  {
   "cell_type": "code",
   "execution_count": null,
   "metadata": {},
   "outputs": [],
   "source": [
    "註解\n",
    "Excel VBA 的程式碼中，每一行單引號後方的文字都會被視為註解"
   ]
  },
  {
   "cell_type": "code",
   "execution_count": null,
   "metadata": {},
   "outputs": [],
   "source": [
    "' 這是註解\n",
    "MsgBox (\"Hello, world!\") ' 這也是註解"
   ]
  },
  {
   "cell_type": "code",
   "execution_count": null,
   "metadata": {},
   "outputs": [],
   "source": [
    "換行續寫\n",
    "一般來說 Excel VBA 的程式碼都是一行一個陳述式（statement），如果一行程式碼太長的時候，\n",
    "想要切成多行的話，行與行之間的結尾處要加上一個下底線"
   ]
  },
  {
   "cell_type": "code",
   "execution_count": null,
   "metadata": {},
   "outputs": [],
   "source": [
    "x = 1 + 2 + 3 + 4 + 5 + 6\n",
    "可以改寫為:\n",
    "\n",
    "x = 1 + 2 + 3 + _\n",
    "    4 + 5 + 6"
   ]
  },
  {
   "cell_type": "code",
   "execution_count": null,
   "metadata": {},
   "outputs": [],
   "source": [
    "而一般程式碼中多餘的空白並不會影響程式的執行，所以通常程式設計師都會使用空白稍微將程式碼排版一下，方便閱讀。"
   ]
  },
  {
   "cell_type": "code",
   "execution_count": null,
   "metadata": {},
   "outputs": [],
   "source": []
  },
  {
   "cell_type": "code",
   "execution_count": null,
   "metadata": {},
   "outputs": [],
   "source": [
    "建立按鈕與巨集程式"
   ]
  },
  {
   "cell_type": "code",
   "execution_count": null,
   "metadata": {},
   "outputs": [],
   "source": [
    "在 Excel 中我們透過 VBA 的巨集程式來讓一些動作自動化，若是常用的巨集程式，可以在 Excel 中建立一個自訂按鈕，當按下按鈕時就可以呼叫指定的巨集，以下是詳細的步驟教學。"
   ]
  },
  {
   "cell_type": "code",
   "execution_count": null,
   "metadata": {},
   "outputs": [],
   "source": [
    "STEP 1\n",
    "在「開發人員」籤頁中，點選「插入」，從表單控制項中選擇按鈕。\n",
    "STEP 2\n",
    "用滑鼠在 Excel 中拖曳出按鈕的大小。\n",
    "STEP 3\n",
    "新增一個巨集，當按鈕按下去的時候，就會自動呼叫這個巨集。\n",
    "STEP 4\n",
    "接著 Excel 會開啟巨集的編輯器，我們可以在這裡撰寫自己的巨集程式。"
   ]
  },
  {
   "cell_type": "code",
   "execution_count": null,
   "metadata": {},
   "outputs": [],
   "source": [
    "這裡我們在這個巨集程式中加入兩行："
   ]
  },
  {
   "cell_type": "code",
   "execution_count": null,
   "metadata": {},
   "outputs": [],
   "source": [
    "Range(\"A1\").Value = \"Wang\"  '第一行是在 A1 這個儲存格中填入 Wang 這個文字\n",
    "MsgBox \"Done！\"  '而第二行則是顯示一個跳出訊息視窗，貼上去之後，會像這樣。"
   ]
  },
  {
   "cell_type": "code",
   "execution_count": null,
   "metadata": {},
   "outputs": [],
   "source": [
    "STEP 5\n",
    "回到 Excel 的視窗，這時候我們就可以使用剛剛建立的按鈕與巨集了。"
   ]
  },
  {
   "cell_type": "code",
   "execution_count": null,
   "metadata": {},
   "outputs": [],
   "source": [
    "按下剛剛建立的按鈕，就會呼叫對應的巨集，在 A1 儲存格中填入文字，並跳出訊息視窗。"
   ]
  },
  {
   "cell_type": "code",
   "execution_count": null,
   "metadata": {},
   "outputs": [],
   "source": [
    "我們可以利用這樣的方式，在 Excel 表格中加入一些功能按鈕，將一些常用的動作自動化，\n",
    "這樣在使用上會更加方便，而且藉由這樣的使用介面，也可以很容易的將我們設計好的程式提供給不會寫程式的人使用。"
   ]
  },
  {
   "cell_type": "code",
   "execution_count": null,
   "metadata": {},
   "outputs": [],
   "source": []
  }
 ],
 "metadata": {
  "kernelspec": {
   "display_name": "Python 3",
   "language": "python",
   "name": "python3"
  },
  "language_info": {
   "codemirror_mode": {
    "name": "ipython",
    "version": 3
   },
   "file_extension": ".py",
   "mimetype": "text/x-python",
   "name": "python",
   "nbconvert_exporter": "python",
   "pygments_lexer": "ipython3",
   "version": "3.7.1"
  }
 },
 "nbformat": 4,
 "nbformat_minor": 2
}
