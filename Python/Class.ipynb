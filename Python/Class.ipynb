{
 "cells": [
  {
   "cell_type": "code",
   "execution_count": null,
   "metadata": {},
   "outputs": [],
   "source": [
    "class的概念是屬性集合(狗:名子、年齡)，而不是所有物(小明、手機)\n",
    "class跟def是組成模組功能的最低架構\n",
    "class類別，就是像一個模組，可以產出具有相似特性的實體(物件)\n",
    "也有人會說他像是一個蛋糕模子，可以一直套用 生產蛋糕"
   ]
  },
  {
   "cell_type": "code",
   "execution_count": 1,
   "metadata": {},
   "outputs": [
    {
     "name": "stdout",
     "output_type": "stream",
     "text": [
      "dog\n",
      "dog\n"
     ]
    }
   ],
   "source": [
    "class Animal():             #用Animal開啟一個類別名稱，通常會用首字大寫的單字\n",
    " def __init__(self, name):  #宣告類別的\"起手式\"，self是class本身 所以第一個不用更動，一般會拿來放基礎的屬性設定\n",
    "  self.name = name          #在這邊self.的設定 就代表你之後可以用的class屬性\n",
    "a = Animal(\"dog\")           #建立一個名叫dog的Animal實體(物件)\n",
    "print(a.name)\n",
    "print(Animal(\"dog\").name)"
   ]
  },
  {
   "cell_type": "code",
   "execution_count": 9,
   "metadata": {
    "scrolled": true
   },
   "outputs": [
    {
     "name": "stdout",
     "output_type": "stream",
     "text": [
      "70\n",
      "1500\n",
      "0\n"
     ]
    }
   ],
   "source": [
    "#存款與取款\n",
    "class Account:\n",
    "    def __init__(self, number, name):   #宣告類別的\"起手式\"，self是class(Account)本身\n",
    "        self.number = number\n",
    "        self.name = name\n",
    "        self.balance = 0\n",
    "        \n",
    "    def deposit(self, amount):  #存款動作: amount代表存入金額\n",
    "        if amount <= 0:\n",
    "            raise ValueError('must be positive')\n",
    "        self.balance += amount\n",
    "        \n",
    "    def withdraw(self, amount): #取款動作: amount代表取款金額\n",
    "        if amount <= self.balance:\n",
    "            self.balance -= amount\n",
    "        else:\n",
    "            raise RuntimeError('balance not enough')\n",
    "            \n",
    "acct1 = Account('123–456–789','Justin') #開一個帳戶\n",
    "acct1.deposit(100)\n",
    "acct1.withdraw(30)\n",
    "print(acct1.balance) #餘額是 70\n",
    "\n",
    "acct2 = Account('996-988-198','Tony')\n",
    "acct2.deposit(3000)\n",
    "acct2.withdraw(1500)\n",
    "print(acct2.balance)  #餘額是 1500\n",
    "\n",
    "acct3 = Account('999-999-999','Ricky')\n",
    "acct3.deposit(1500)\n",
    "acct3.withdraw(1500)\n",
    "print(acct3.balance)\n"
   ]
  },
  {
   "cell_type": "code",
   "execution_count": null,
   "metadata": {},
   "outputs": [],
   "source": []
  },
  {
   "cell_type": "code",
   "execution_count": null,
   "metadata": {},
   "outputs": [],
   "source": []
  }
 ],
 "metadata": {
  "kernelspec": {
   "display_name": "Python 3",
   "language": "python",
   "name": "python3"
  },
  "language_info": {
   "codemirror_mode": {
    "name": "ipython",
    "version": 3
   },
   "file_extension": ".py",
   "mimetype": "text/x-python",
   "name": "python",
   "nbconvert_exporter": "python",
   "pygments_lexer": "ipython3",
   "version": "3.7.1"
  }
 },
 "nbformat": 4,
 "nbformat_minor": 2
}
