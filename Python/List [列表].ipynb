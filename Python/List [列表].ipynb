{
 "cells": [
  {
   "cell_type": "code",
   "execution_count": 13,
   "metadata": {},
   "outputs": [
    {
     "name": "stdout",
     "output_type": "stream",
     "text": [
      "Lynn\n",
      "0.87\n",
      "1234\n",
      "True\n"
     ]
    }
   ],
   "source": [
    "a = ['Lynn', 0.87, 1234, True]\n",
    "for i in range(0,len(a)):\n",
    "    print(a[i])"
   ]
  },
  {
   "cell_type": "code",
   "execution_count": 72,
   "metadata": {},
   "outputs": [
    {
     "name": "stdout",
     "output_type": "stream",
     "text": [
      "Lynn\n",
      "0.87\n",
      "1234\n",
      "True\n"
     ]
    }
   ],
   "source": [
    "#更簡潔(還不太懂，暫時先別用)\n",
    "a = ['Lynn', 0.87, 1234, True]\n",
    "for i in a:\n",
    "    print(i)"
   ]
  },
  {
   "cell_type": "code",
   "execution_count": 83,
   "metadata": {},
   "outputs": [
    {
     "name": "stdout",
     "output_type": "stream",
     "text": [
      "1\n",
      "9\n",
      "25\n",
      "49\n",
      "81\n",
      "[1, 9, 25, 49, 81]\n"
     ]
    }
   ],
   "source": [
    "#對每一個元素都平方後印出來，且須將 a 也變成 [1, 9, 25, 49, 81]\n",
    "a = [1,3,5,7,9]\n",
    "for i in range(0,len(a)):\n",
    "    print(a[i]*a[i])\n",
    "    a[i] = a[i]*a[i]   #  \"=\"是賦值的意思\n",
    "print(a)"
   ]
  },
  {
   "cell_type": "code",
   "execution_count": 82,
   "metadata": {},
   "outputs": [
    {
     "name": "stdout",
     "output_type": "stream",
     "text": [
      "[1, 3, 5, 7, 9, 11]\n",
      "[1, 3, 5, 9, 7, 9, 11]\n",
      "[1, 3, 5, 9, 7, 9]\n",
      "[3, 5, 9, 7, 9]\n",
      "[3, 5, 7, 9]\n",
      "[]\n"
     ]
    }
   ],
   "source": [
    "#動態增加元素\n",
    "a = [1,3,5,7,9]\n",
    "\n",
    "a.append(11)  #把變數x塞到list的最後面\n",
    "print(a)\n",
    "\n",
    "a.insert(3, 9)  #把變數x塞到i這個位置上\n",
    "print(a)\n",
    "\n",
    "a.pop()  #把list的最後一格丟掉\n",
    "print(a)\n",
    "\n",
    "a.pop(0)  #把list的第i格丟掉\n",
    "print(a)\n",
    "\n",
    "a.remove(9)  #會把第一個出現的變數x拿掉\n",
    "print(a)\n",
    "\n",
    "a.clear()  #把list內的資料全部清光光\n",
    "print(a)"
   ]
  },
  {
   "cell_type": "code",
   "execution_count": 54,
   "metadata": {},
   "outputs": [
    {
     "name": "stdout",
     "output_type": "stream",
     "text": [
      "五次成績: 10 30 50 70 90 \n",
      "平均成績: 50.0\n",
      "新成績: 31.622776601683796 54.772255750516614 70.71067811865476 83.66600265340756 94.86832980505139 \n",
      "新平均成績: 67.12800858586283\n"
     ]
    }
   ],
   "source": [
    "#五次數學段考的成績分別為10、30、50、70、90分，算出平均後，老師發現大家考太爛、\n",
    "#只好將成績開根號再乘上10 (提示: 成績**0.5*10)，再算出一個新平均。\n",
    "#請印出: 1. 五次成績; 2. 平均成績; 3. 五次新成績; 4. 新分數的平均\n",
    "\n",
    "math_grades = [10,30,50,70,90]\n",
    "print('五次成績:', end=' ')   #列出項目名'五次成績:'，結尾不換行，改空白\n",
    "for grade in math_grades:\n",
    "    print(grade, end =' ')\n",
    "print(end='\\n')  #結尾換行\n",
    "\n",
    "average = sum(math_grades)/len(math_grades)\n",
    "print('平均成績:', average)\n",
    "\n",
    "print('新成績:', end=' ')\n",
    "for grade in range(0,len(math_grades)):\n",
    "    math_grades[grade] = math_grades[grade]**0.5*10\n",
    "    print(math_grades[grade], end=' ')\n",
    "\n",
    "print(end='\\n')\n",
    "new_average = sum(math_grades)/len(math_grades)\n",
    "print('新平均成績:', new_average)"
   ]
  },
  {
   "cell_type": "code",
   "execution_count": 80,
   "metadata": {},
   "outputs": [
    {
     "name": "stdout",
     "output_type": "stream",
     "text": [
      "[1, 2, 3, 4, 5]\n",
      "[7, 8, 9, 10]\n",
      "[1, 2, 3, 4, 5, 6, 7, 8, 9, 10]\n"
     ]
    }
   ],
   "source": [
    "#Slice語法：list[start: end]，start和end都可以省略不寫\n",
    "#start的預設為0，end的預設為len(list)\n",
    "\n",
    "a = [1,2,3,4,5,6,7,8,9,10]\n",
    "print(a[:5])     #[ :end]代表 0~end-1\n",
    "print(a[6:])\n",
    "print(a[:])"
   ]
  },
  {
   "cell_type": "code",
   "execution_count": null,
   "metadata": {},
   "outputs": [],
   "source": []
  }
 ],
 "metadata": {
  "kernelspec": {
   "display_name": "Python 3",
   "language": "python",
   "name": "python3"
  },
  "language_info": {
   "codemirror_mode": {
    "name": "ipython",
    "version": 3
   },
   "file_extension": ".py",
   "mimetype": "text/x-python",
   "name": "python",
   "nbconvert_exporter": "python",
   "pygments_lexer": "ipython3",
   "version": "3.7.1"
  }
 },
 "nbformat": 4,
 "nbformat_minor": 2
}
