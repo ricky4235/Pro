{
 "cells": [
  {
   "cell_type": "code",
   "execution_count": null,
   "metadata": {},
   "outputs": [],
   "source": [
    "python 的位运算符："
   ]
  },
  {
   "cell_type": "code",
   "execution_count": 8,
   "metadata": {},
   "outputs": [
    {
     "data": {
      "text/plain": [
       "324"
      ]
     },
     "execution_count": 8,
     "metadata": {},
     "output_type": "execute_result"
    }
   ],
   "source": [
    "a = 81\n",
    "b = 1\n",
    "(a & b)\n",
    "(a | b)\n",
    "(a ^ b)\n",
    "(~a)\n",
    "a << 2"
   ]
  },
  {
   "cell_type": "code",
   "execution_count": null,
   "metadata": {},
   "outputs": [],
   "source": [
    "(a & b)\n",
    "按位与运算符：参与运算的两个值，如果两个相应位都为 1，则该位的结果为 1，否则为 0 。\n",
    "输出结果 12 ，二进制解释： 0000 1100\n",
    "\n",
    "(a | b)\n",
    "按位或运算符：只要对应的二个二进位有一个为1时，结果位就为1。\n",
    "输出结果 61 ，二进制解释： 0011 1101\n",
    "\n",
    "(a ^ b)\n",
    "按位异或运算符：当两对应的二进位相异时，结果为 1\n",
    "输出结果 49 ，二进制解释： 0011 0001\n",
    "\n",
    "(~a )\n",
    "按位取反运算符：对数据的每个二进制位取反，即把 1 变为 0，把 0 变为 1 。~x 类似于 -x-1\n",
    "输出结果 -61 ，二进制解释： 1100 0011，在一个有符号二进制数的补码形式。\n",
    "\n",
    "a << 2\n",
    "左移动运算符：运算数的各二进位全部左移若干位，由 << 右边的数字指定了移动的位数，高位丢弃，低位补 0。\n",
    "输出结果 240 ，二进制解释： 1111 0000\n",
    "\n",
    "a >> 2\n",
    "右移动运算符：把 \">>\" 左边的运算数的各二进位全部右移若干位，>> 右边的数字指定了移动的位数\n",
    "输出结果 15 ，二进制解释： 0000 1111\n",
    "\n",
    "python 赋值运算符：\n",
    "\n",
    "*= 乘法赋值运算符 c *= a 等效于 c = c * a\n",
    "/= 除法赋值运算符 c /= a 等效于 c = c / a\n",
    "%= 取模赋值运算符 c %= a 等效于 c = c % a\n",
    "**= 幂赋值运算符 c **= a 等效于 c = c ** a\n",
    "//= 取整除赋值运算符 c //= a 等效于 c = c // a"
   ]
  }
 ],
 "metadata": {
  "kernelspec": {
   "display_name": "Python 3",
   "language": "python",
   "name": "python3"
  },
  "language_info": {
   "codemirror_mode": {
    "name": "ipython",
    "version": 3
   },
   "file_extension": ".py",
   "mimetype": "text/x-python",
   "name": "python",
   "nbconvert_exporter": "python",
   "pygments_lexer": "ipython3",
   "version": "3.7.1"
  }
 },
 "nbformat": 4,
 "nbformat_minor": 2
}
