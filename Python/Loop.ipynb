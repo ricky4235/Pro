{
 "cells": [
  {
   "cell_type": "markdown",
   "metadata": {},
   "source": [
    "# For loop : \n",
    "以固定數量的變數(ex:range())，作為控制條件的重點\n",
    "\n",
    "for [變數名稱] in range(範圍): "
   ]
  },
  {
   "cell_type": "markdown",
   "metadata": {},
   "source": [
    "### range(start, stop[, step])\n",
    "\n",
    "參數說明：\n",
    "\n",
    "* start: 計數從 start 開始。默認是從 0 開始。例如range（5）等價於range（0， 5）;\n",
    "* end: 計數到 end 結束，但不包括 end。例如：range（0， 5） 是[0, 1, 2, 3, 4]沒有5\n",
    "* step：步長，默認為1。例如：range（0， 5） 等價於 range(0, 5, 1)"
   ]
  },
  {
   "cell_type": "code",
   "execution_count": 3,
   "metadata": {},
   "outputs": [
    {
     "data": {
      "text/plain": [
       "range(0, 5)"
      ]
     },
     "execution_count": 3,
     "metadata": {},
     "output_type": "execute_result"
    }
   ],
   "source": [
    "range(5)"
   ]
  },
  {
   "cell_type": "code",
   "execution_count": 1,
   "metadata": {},
   "outputs": [
    {
     "name": "stdout",
     "output_type": "stream",
     "text": [
      "range(0, 5)\n",
      "[0, 1, 2, 3, 4]\n"
     ]
    }
   ],
   "source": [
    "r = range(5)\n",
    "print(r)\n",
    "print(list(r)) "
   ]
  },
  {
   "cell_type": "code",
   "execution_count": 2,
   "metadata": {
    "scrolled": true
   },
   "outputs": [
    {
     "name": "stdout",
     "output_type": "stream",
     "text": [
      "range(1, 5)\n",
      "[1, 2, 3, 4]\n"
     ]
    }
   ],
   "source": [
    "r = range(1, 5)\n",
    "print(r) \n",
    "print(list(r)) "
   ]
  },
  {
   "cell_type": "markdown",
   "metadata": {},
   "source": [
    "### range通常與for迴圈一起使用。"
   ]
  },
  {
   "cell_type": "code",
   "execution_count": 35,
   "metadata": {},
   "outputs": [
    {
     "name": "stdout",
     "output_type": "stream",
     "text": [
      "1,2,3,4,5,6,7,8,9,\n",
      "2,4,6,8,10,12,14,16,18,\n",
      "3,6,9,12,15,18,21,24,27,\n",
      "4,8,12,16,20,24,28,32,36,\n",
      "5,10,15,20,25,30,35,40,45,\n",
      "6,12,18,24,30,36,42,48,54,\n",
      "7,14,21,28,35,42,49,56,63,\n",
      "8,16,24,32,40,48,56,64,72,\n",
      "9,18,27,36,45,54,63,72,81,\n"
     ]
    }
   ],
   "source": [
    "#99乘法表\n",
    "for i in range(1,10):  #i位置為其中一個，range(1,10)位置為複數個\n",
    "                       #i無須賦值，在這個位置就代表為range(1,10)位置的其中一個\n",
    "    \n",
    "    for j in range(1,10):     \n",
    "        print(i*j, end=',')  #結尾不換行，改成','\n",
    "        \n",
    "    print(end='\\n')          #在j迴圈的縮排換行，表示i跑完9個就換行"
   ]
  },
  {
   "cell_type": "code",
   "execution_count": 1,
   "metadata": {
    "scrolled": true
   },
   "outputs": [
    {
     "name": "stdout",
     "output_type": "stream",
     "text": [
      "5\n",
      "Wrong\n",
      "6\n",
      "Wrong\n",
      "28\n",
      "Bingo!\n",
      "Game Over\n"
     ]
    }
   ],
   "source": [
    "#猜數字\n",
    "ans = 28 #答案\n",
    "for guessChance in range(0,3):  #range(0,3)為(0,1,2)共三次\n",
    "    guess = int(input())\n",
    "    if ans == guess:  # =:代表賦值；==:代表判斷是否相等，返回True or False\n",
    "        print('Bingo!')\n",
    "        break  #猜中離開迴圈\n",
    "    else:\n",
    "        print('Wrong') \n",
    "print('Game Over')  #猜中或答完三次Game Over"
   ]
  },
  {
   "cell_type": "code",
   "execution_count": null,
   "metadata": {},
   "outputs": [],
   "source": []
  },
  {
   "cell_type": "markdown",
   "metadata": {},
   "source": [
    "# While loop : \n",
    "以某個條件，作為控制條件的重點，當迴圈返回True繼續循環，直到返回False\n",
    "\n",
    "因為while本身就是依靠布林值判斷進入迴圈與否，故python的無窮迴圈通常用while做，\n",
    "在製造無窮迴圈時，特別注意需搭配限定條件使用(例如：if 跟 break)，不然電腦就會跑到停不下來\n",
    "\n",
    "+= : 直接進行+，會重新生成一個對象，而進行+=操作並不改變原來的對象，是在原來對象的基礎上進行操作，所以+=也稱為\"就地加， -= 同理。"
   ]
  },
  {
   "cell_type": "code",
   "execution_count": 10,
   "metadata": {},
   "outputs": [
    {
     "name": "stdout",
     "output_type": "stream",
     "text": [
      "0\n",
      "2\n",
      "4\n",
      "6\n",
      "8\n"
     ]
    }
   ],
   "source": [
    "#範例1：以控制變數(count)小於3，作為控制條件\n",
    "\n",
    "count = 0                 #初始值\n",
    "while count < 10:          #讓迴圈執行的條件，當不符合即停止\n",
    "         print(count)\n",
    "         count += 2       #更新值 (就地加) "
   ]
  },
  {
   "cell_type": "code",
   "execution_count": 11,
   "metadata": {},
   "outputs": [
    {
     "name": "stdout",
     "output_type": "stream",
     "text": [
      "0\n",
      "2\n",
      "4\n",
      "6\n",
      "8\n",
      "10\n"
     ]
    }
   ],
   "source": [
    "#範例2：以while等於True，作為控制條件，製造無窮迴圈，\n",
    "#特別注意需搭配限定條件使用(例如：if 跟 break)，不然電腦就會跑到停不下來\n",
    "\n",
    "count = 0                   #初始值\n",
    "while True:                 #無窮迴圈起手式  \n",
    "          print(count)\n",
    "          count += 2        #更新值 (就地加) ，每執行一次+2\n",
    "          if count > 10 :   #當count大於6時，迴圈結束\n",
    "                    break   #挑出迴圈"
   ]
  },
  {
   "cell_type": "code",
   "execution_count": 13,
   "metadata": {},
   "outputs": [
    {
     "name": "stdout",
     "output_type": "stream",
     "text": [
      "1 + 2 + 3 + ... + 98 + 99 + 100 = 5050\n"
     ]
    }
   ],
   "source": [
    "sum = 0         #初始值\n",
    "i = 1\n",
    "while i <= 100: #讓迴圈結束的條件\n",
    "    sum += i    #更新值 (就地加) ，每執行一次+i\n",
    "    i += 1\n",
    "  \n",
    "print(\"1 + 2 + 3 + ... + 98 + 99 + 100 =\", sum)"
   ]
  },
  {
   "cell_type": "code",
   "execution_count": 14,
   "metadata": {
    "scrolled": false
   },
   "outputs": [
    {
     "name": "stdout",
     "output_type": "stream",
     "text": [
      "1 2 3 4 5 6 7 8 9 \n",
      "2 4 6 8 10 12 14 16 18 \n",
      "3 6 9 12 15 18 21 24 27 \n",
      "4 8 12 16 20 24 28 32 36 \n",
      "5 10 15 20 25 30 35 40 45 \n",
      "6 12 18 24 30 36 42 48 54 \n",
      "7 14 21 28 35 42 49 56 63 \n",
      "8 16 24 32 40 48 56 64 72 \n",
      "9 18 27 36 45 54 63 72 81 \n"
     ]
    }
   ],
   "source": [
    "i = 1\n",
    "j = 1\n",
    "while i <= 9:      #外層循環9次\n",
    "    \n",
    "    while j <= 9:                      #內層循環9次\n",
    "        print(i * j, end = \" \")        #印出 i*j，內層不換行，以空白間隔\n",
    "        j += 1                         #i*1,i*2,i*3....,i*9，直到=9，跳出內層迴圈，需要在print之下，因為要先印出1，才接續+1\n",
    "        \n",
    "    i += 1         # i = 1,2,3,4,5,6,7,8,9 (也就是列數)\n",
    "    j = 1          # j在外層每次都改回1\n",
    "    print()"
   ]
  },
  {
   "cell_type": "code",
   "execution_count": 15,
   "metadata": {
    "scrolled": false
   },
   "outputs": [
    {
     "name": "stdout",
     "output_type": "stream",
     "text": [
      "1 2 3 5 6 7 8 9 \n",
      "2 4 6 10 12 14 16 18 \n",
      "3 6 9 15 18 21 24 27 \n",
      "4 8 12 20 24 28 32 36 \n"
     ]
    }
   ],
   "source": [
    "i = 1\n",
    "j = 1\n",
    "while i <= 9:\n",
    "    if i == 5:\n",
    "        break      #跳出迴圈，因此乘法表的5列不會被印出\n",
    "  \n",
    "    while j <= 9:\n",
    "        if j == 4:\n",
    "            j += 1\n",
    "            continue  #跳過迴圈這一輪的執行，因此乘法表的4欄不會被印出。\n",
    "          \n",
    "        print(i * j, end = \" \")\n",
    "        j += 1\n",
    "      \n",
    "    i += 1\n",
    "    j = 1\n",
    "    print()"
   ]
  },
  {
   "cell_type": "code",
   "execution_count": null,
   "metadata": {},
   "outputs": [],
   "source": []
  },
  {
   "cell_type": "markdown",
   "metadata": {},
   "source": [
    "總結，while的控制在一個條件成立；for的控制則在一個範圍之內。"
   ]
  },
  {
   "cell_type": "markdown",
   "metadata": {},
   "source": [
    "# 迴圈控制：break、continue、pass"
   ]
  },
  {
   "cell_type": "markdown",
   "metadata": {},
   "source": [
    "先來簡單敘述一下 Python 中 break、continue、pass 的區別：\n",
    "* break：強制跳出 ❮整個❯ 迴圈\n",
    "* continue：強制跳出 ❮本次❯ 迴圈，繼續進入下一圈\n",
    "* pass：不做任何事情，所有的程式都將繼續"
   ]
  },
  {
   "cell_type": "markdown",
   "metadata": {},
   "source": [
    "## break\n",
    "當偵測到字母 t 時，就會強制結束迴圈："
   ]
  },
  {
   "cell_type": "code",
   "execution_count": 1,
   "metadata": {},
   "outputs": [
    {
     "name": "stdout",
     "output_type": "stream",
     "text": [
      "c\n",
      "o\n",
      "n\n",
      "\n",
      "迴圈結束\n",
      "迴圈執行了 4 次\n"
     ]
    }
   ],
   "source": [
    "count=0\n",
    "for string in 'content':\n",
    "    count+=1\n",
    "    if string == 't':\n",
    "        break\n",
    "    print(string)\n",
    "    \n",
    "print('\\n迴圈結束')\n",
    "print('迴圈執行了 %d 次' %count)"
   ]
  },
  {
   "cell_type": "markdown",
   "metadata": {},
   "source": [
    "## continue\n",
    "當偵測到字母 t 時，會跳過本次迴圈剩下的程式碼 print(string)，但不會結束迴圈，仍然會進入下一圈繼續執行："
   ]
  },
  {
   "cell_type": "code",
   "execution_count": 2,
   "metadata": {},
   "outputs": [
    {
     "name": "stdout",
     "output_type": "stream",
     "text": [
      "c\n",
      "o\n",
      "n\n",
      "e\n",
      "n\n",
      "\n",
      "迴圈結束\n",
      "迴圈執行了 7 次\n"
     ]
    }
   ],
   "source": [
    "count=0\n",
    "for string in 'content':\n",
    "    count+=1\n",
    "    if string == 't':\n",
    "        continue\n",
    "    print(string)\n",
    "    \n",
    "print('\\n迴圈結束')\n",
    "print('迴圈執行了 %d 次' %count)"
   ]
  },
  {
   "cell_type": "markdown",
   "metadata": {},
   "source": [
    "## pass\n",
    "當偵測到字母 t 時，會忽略該條件，繼續像正常迴圈一樣運行程序："
   ]
  },
  {
   "cell_type": "code",
   "execution_count": 3,
   "metadata": {},
   "outputs": [
    {
     "name": "stdout",
     "output_type": "stream",
     "text": [
      "c\n",
      "o\n",
      "n\n",
      "t\n",
      "e\n",
      "n\n",
      "t\n",
      "\n",
      "迴圈結束\n",
      "迴圈執行了 7 次\n"
     ]
    }
   ],
   "source": [
    "count=0\n",
    "for string in 'content':\n",
    "    count+=1\n",
    "    if string == 't':\n",
    "        pass\n",
    "    print(string)\n",
    "    \n",
    "print('\\n迴圈結束')\n",
    "print('迴圈執行了 %d 次' %count)"
   ]
  },
  {
   "cell_type": "code",
   "execution_count": null,
   "metadata": {},
   "outputs": [],
   "source": [
    "在迴圈中使用 pass 語句，執行程式後，你會發現什麼事也沒做，完全不起任何作用，只是一個空運算而已，那問題就來了：\n",
    "如果什麼事都不做，就不用寫拉，那 pass 語句是要做什麼的？ ……\n",
    "其實有時候會有非寫不可的情況！！\n",
    "pass 就像是 To do 的概念，在寫程式的時候，有時候想的比實際寫出來的速度快，例如定義一個函數，但還沒有實作出來，\n",
    "空著內容不寫又會產生語法錯誤。這時就會使用 pass 來替代，當作是個指標，提醒自己之後要來完成。"
   ]
  },
  {
   "cell_type": "markdown",
   "metadata": {},
   "source": [
    "# 應用場景範例"
   ]
  },
  {
   "cell_type": "markdown",
   "metadata": {},
   "source": [
    "### 情境 1：過濾\n",
    "取出整數 { …, -2, -1, 0, 1, 2, … }，過濾掉非整數的值。<br>\n",
    "Note：利用 continue 告訴迴圈當 element 的 type 為非整數時，要跳出本次迴圈，繼續進入下一圈執行。"
   ]
  },
  {
   "cell_type": "code",
   "execution_count": 4,
   "metadata": {},
   "outputs": [
    {
     "data": {
      "text/plain": [
       "[0, 2, 3, 5, 8, 9, 10]"
      ]
     },
     "execution_count": 4,
     "metadata": {},
     "output_type": "execute_result"
    }
   ],
   "source": [
    "# 定義函數\n",
    "def filter_out_non_int(elements):\n",
    "    result = []\n",
    "    for element in elements:\n",
    "        if type(element) != int:\n",
    "            continue\n",
    "        result.append(element)\n",
    "        \n",
    "    return result\n",
    "# 呼叫函數\n",
    "filter_out_non_int([0, 'one', 2, 3, 'four', 5, 'six', 'seven', 8, 9, 10])"
   ]
  },
  {
   "cell_type": "markdown",
   "metadata": {},
   "source": [
    "### 情境 2：比對\n",
    "檢查 email 是否為公司官方信箱，如出現 hello、contact、sales、support、business、info 等關鍵字。<br>\n",
    "Note：利用 break 告訴迴圈當 email 字串中包含 email_out 列表 (List) 中的關鍵字時，要強制結束迴圈。"
   ]
  },
  {
   "cell_type": "code",
   "execution_count": 5,
   "metadata": {},
   "outputs": [
    {
     "name": "stdout",
     "output_type": "stream",
     "text": [
      "carol@gmail.com 為個人信箱\n",
      "Support@gmail.com 中包含 support 關鍵字，因此判斷為官方信箱\n"
     ]
    }
   ],
   "source": [
    "import re\n",
    "# 定義函數\n",
    "def detect_email(email):\n",
    "    email_out = ['hello','contact','sales','support','business','info']\n",
    "    for e_out in email_out:\n",
    "        pattern = re.compile('.*' + e_out + '.*')\n",
    "        r = re.match(pattern, email.lower())\n",
    "        if r is not None:\n",
    "            print('{} 中包含 {} 關鍵字，因此判斷為官方信箱'.format(email, e_out))\n",
    "            break\n",
    "    else:\n",
    "        print('{} 為個人信箱'.format(email))\n",
    "        \n",
    "# 呼叫函數\n",
    "detect_email('carol@gmail.com')\n",
    "detect_email('Support@gmail.com')"
   ]
  },
  {
   "cell_type": "markdown",
   "metadata": {},
   "source": [
    "### 情境 3：限制數量\n",
    "限制列表 (List) 儲存空間的長度。<br>\n",
    "Note：利用 break 告訴迴圈當 result 列表 (List) 中的元素數量超過 5 個時，必須停止繼續加總剩下的值，強制結束迴圈。<br>\n",
    "利用 continue 告訴迴圈當元素的 type 為字符串時，要跳出本次迴圈，繼續進入下一圈執行。"
   ]
  },
  {
   "cell_type": "code",
   "execution_count": 6,
   "metadata": {},
   "outputs": [
    {
     "data": {
      "text/plain": [
       "([7.5, 8, 4.75, 2, 8], 'sum = 30.25')"
      ]
     },
     "execution_count": 6,
     "metadata": {},
     "output_type": "execute_result"
    }
   ],
   "source": [
    "# 定義函數\n",
    "def number_sum_limit(nums, limit):\n",
    "    result = []\n",
    "    s = 0\n",
    "    for num in nums:\n",
    "        if len(result) == limit:\n",
    "            break\n",
    "        if type(num) == str:\n",
    "            continue\n",
    "        result.append(num)\n",
    "        s += num\n",
    "    \n",
    "    return result, 'sum = {}'.format(s)\n",
    "# 呼叫函數\n",
    "number_sum_limit(nums = [7.5, 8, 'aa', 4.75, 'bb', 2, 8, 5, 6], limit = 5)"
   ]
  },
  {
   "cell_type": "markdown",
   "metadata": {},
   "source": [
    "# 迴圈的外掛器\n",
    "外掛器，輔助迴圈的工具，這邊簡單帶到一些本人常用的"
   ]
  },
  {
   "cell_type": "markdown",
   "metadata": {},
   "source": [
    "### enumerate(列舉)\n",
    "* 迴圈的計數器，在每次的迴圈中，回傳目前的次數。可設定次數的起始值，預設為 0\n",
    "* 同時取得一個元素在一個 list 中的 index 與他的值。\n",
    "* 通常用在記錄目前進行的迴圈次數，配上總迴圈次數，可做為進度條使用。"
   ]
  },
  {
   "cell_type": "code",
   "execution_count": 1,
   "metadata": {},
   "outputs": [
    {
     "name": "stdout",
     "output_type": "stream",
     "text": [
      "0 Jam\n",
      "1 In the Closet\n",
      "2 Remember the Time\n",
      "3 Heal the World\n",
      "4 Black or White\n",
      "5 Who Is It\n",
      "6 Give In to Me\n",
      "7 Dangerous\n"
     ]
    }
   ],
   "source": [
    "dangerous = ['Jam', 'In the Closet', 'Remember the Time',\"Heal the World\",\"Black or White\",\"Who Is It\",\"Give In to Me\", \"Dangerous\"]\n",
    "for index, song in enumerate(dangerous):\n",
    "    print(index, song)"
   ]
  },
  {
   "cell_type": "code",
   "execution_count": 1,
   "metadata": {},
   "outputs": [
    {
     "name": "stdout",
     "output_type": "stream",
     "text": [
      "0 a\n",
      "1 b\n",
      "2 c\n",
      "3 d\n"
     ]
    }
   ],
   "source": [
    "#預設從 0 開始 index\n",
    "lst = ['a', 'b', 'c', 'd']\n",
    "for idx, element in enumerate(lst):\n",
    "    print(idx, element)"
   ]
  },
  {
   "cell_type": "code",
   "execution_count": 2,
   "metadata": {
    "scrolled": true
   },
   "outputs": [
    {
     "name": "stdout",
     "output_type": "stream",
     "text": [
      "1 a\n",
      "2 b\n",
      "3 c\n",
      "4 d\n"
     ]
    }
   ],
   "source": [
    "#可自行設定 index 的起始值\n",
    "lst = ['a', 'b', 'c', 'd']\n",
    "for idx, element in enumerate(lst, 1):\n",
    "     print(idx, element)"
   ]
  },
  {
   "cell_type": "markdown",
   "metadata": {},
   "source": [
    "### zip\n",
    "* 困擾在一次只能迴圈一個物件嗎？ 那 zip 就是最好的東西，協助你一次取多樣物件進入迴圈！\n",
    "* 會以最短的物件做為終止條件，不限兩個物件，可無限多個喔~"
   ]
  },
  {
   "cell_type": "code",
   "execution_count": 3,
   "metadata": {},
   "outputs": [
    {
     "name": "stdout",
     "output_type": "stream",
     "text": [
      "0 a\n",
      "1 b\n",
      "2 3\n"
     ]
    }
   ],
   "source": [
    "a = list(range(3))\n",
    "b = ['a', 'b', '3', 'c']\n",
    "for i, j in zip(a, b):\n",
    "     print(i, j)"
   ]
  },
  {
   "cell_type": "markdown",
   "metadata": {},
   "source": [
    "### 最簡易的 yield\n",
    "這一塊算是延伸迴圈的功能，或是該定義為 generator，一個不斷產出物件的產生器。通常自製的產生器，常使用 yield 做為回傳值，<br>\n",
    "但這篇不會講究太多，因為這塊可以延伸非常多的內容。\n",
    "* 透過 yield 來回傳數值，一次一個項目，當有需要時才開始準備下一項\n",
    "* 因有需要時才準備，所以可以減緩一次要做完的情況\n",
    "* 配合上參數及回傳值，可以客製化迴圈的次數"
   ]
  },
  {
   "cell_type": "code",
   "execution_count": 4,
   "metadata": {},
   "outputs": [
    {
     "name": "stdout",
     "output_type": "stream",
     "text": [
      "0\n",
      "1\n",
      "2\n",
      "3\n",
      "4\n"
     ]
    }
   ],
   "source": [
    "def func():\n",
    "    for i in range(5):\n",
    "        yield i\n",
    "for i in func():\n",
    "    print(i)"
   ]
  },
  {
   "cell_type": "code",
   "execution_count": 5,
   "metadata": {},
   "outputs": [
    {
     "name": "stdout",
     "output_type": "stream",
     "text": [
      "0\n",
      "1\n",
      "2\n"
     ]
    }
   ],
   "source": [
    "#簡單的客製化 yield function\n",
    "def func(n):\n",
    "    for i in range(n):\n",
    "        yield i\n",
    "\n",
    "for i in func(3):\n",
    "    print(i)"
   ]
  },
  {
   "cell_type": "code",
   "execution_count": null,
   "metadata": {},
   "outputs": [],
   "source": []
  }
 ],
 "metadata": {
  "kernelspec": {
   "display_name": "Python 3",
   "language": "python",
   "name": "python3"
  },
  "language_info": {
   "codemirror_mode": {
    "name": "ipython",
    "version": 3
   },
   "file_extension": ".py",
   "mimetype": "text/x-python",
   "name": "python",
   "nbconvert_exporter": "python",
   "pygments_lexer": "ipython3",
   "version": "3.7.1"
  }
 },
 "nbformat": 4,
 "nbformat_minor": 2
}
