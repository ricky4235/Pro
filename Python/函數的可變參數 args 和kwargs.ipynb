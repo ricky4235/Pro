{
 "cells": [
  {
   "cell_type": "markdown",
   "metadata": {},
   "source": [
    "https://clay-atlas.com/blog/2019/08/10/python-%E5%9F%BA%E6%9C%AC%E6%95%99%E5%AD%B8%E5%85%AB-function-%E9%A0%90%E8%A8%AD%E5%80%BC-args-kwargs/"
   ]
  },
  {
   "cell_type": "markdown",
   "metadata": {},
   "source": [
    "# python 函數的可變參數 ＊args 和 ＊＊kwargs"
   ]
  },
  {
   "cell_type": "markdown",
   "metadata": {},
   "source": [
    "一般函數的參數個數都是固定的，但如果遇到參數數量不固定的狀況，通常會將某些參數填上預設值，在 python function 可以支援兩種可變數量的參數 ＊args 和 ＊＊kwargs。"
   ]
  },
  {
   "cell_type": "markdown",
   "metadata": {},
   "source": [
    "以下例子中的 fun 雖然定義了三個參數，但是後面兩個填上預設值，呼叫該函數時，就可以忽略 b 與 c，直接使用預設值。"
   ]
  },
  {
   "cell_type": "code",
   "execution_count": 2,
   "metadata": {
    "scrolled": true
   },
   "outputs": [
    {
     "name": "stdout",
     "output_type": "stream",
     "text": [
      "a=1, b=2, c=3\n",
      "a=1, b=22, c=33\n"
     ]
    }
   ],
   "source": [
    "def fun(a,b=2,c=3):\n",
    "    print(\"a={}, b={}, c={}\".format(a,b,c))\n",
    "\n",
    "fun(1)\n",
    "\n",
    "fun(1,22,33)"
   ]
  },
  {
   "cell_type": "markdown",
   "metadata": {},
   "source": [
    "＊args是可變的positional arguments列表，＊＊kwargs是可變的keyword arguments列表。兩個可以同時使用，但在使用時，＊args必須在＊＊kwargs的前面，因為positional arguments，有位置順序的對應，必須位於keyword arguments之前。"
   ]
  },
  {
   "cell_type": "markdown",
   "metadata": {},
   "source": [
    "以下的例子，是定義 fun 有一個必要參數 a，以及可變的 ＊args"
   ]
  },
  {
   "cell_type": "code",
   "execution_count": 3,
   "metadata": {},
   "outputs": [
    {
     "name": "stdout",
     "output_type": "stream",
     "text": [
      "a=1\n",
      "Optional argument: 22\n",
      "Optional argument: 33\n"
     ]
    }
   ],
   "source": [
    "def fun(a, *args):\n",
    "    print(\"a={}\".format(a))\n",
    "    for arg in args:\n",
    "        print('Optional argument: {}'.format( arg ) )\n",
    "\n",
    "fun(1,22,33)"
   ]
  },
  {
   "cell_type": "markdown",
   "metadata": {},
   "source": [
    "如果同時加上 ＊＊kwargs"
   ]
  },
  {
   "cell_type": "code",
   "execution_count": 4,
   "metadata": {},
   "outputs": [
    {
     "name": "stdout",
     "output_type": "stream",
     "text": [
      "a=1\n",
      "Optional argument: 22\n",
      "Optional argument: 33\n",
      "Optional kwargs argument key: k1 value 44\n",
      "Optional kwargs argument key: k2 value 55\n"
     ]
    }
   ],
   "source": [
    "def fun(a, *args, **kwargs):\n",
    "    print(\"a={}\".format(a))\n",
    "    for arg in args:\n",
    "        print('Optional argument: {}'.format( arg ) )\n",
    "\n",
    "    for k, v in kwargs.items():\n",
    "        print('Optional kwargs argument key: {} value {}'.format(k, v))\n",
    "\n",
    "fun(1,22,33, k1=44, k2=55)"
   ]
  },
  {
   "cell_type": "markdown",
   "metadata": {},
   "source": [
    "除了在定義函數的部分，在呼叫函數時，也可以使用 ＊args 及 ＊＊kwargs"
   ]
  },
  {
   "cell_type": "code",
   "execution_count": 5,
   "metadata": {},
   "outputs": [
    {
     "name": "stdout",
     "output_type": "stream",
     "text": [
      "\n",
      "a=1\n",
      "Optional argument: 2\n",
      "Optional argument: 3\n",
      "Optional argument: 4\n",
      "\n",
      "a=1\n",
      "Optional kwargs argument key: k1 value 10\n",
      "Optional kwargs argument key: k2 value 11\n",
      "\n",
      "a=1\n",
      "Optional argument: 1\n",
      "Optional argument: 2\n",
      "Optional argument: 3\n",
      "Optional argument: 4\n",
      "Optional kwargs argument key: k1 value 10\n",
      "Optional kwargs argument key: k2 value 11\n"
     ]
    }
   ],
   "source": [
    "print(\"\")\n",
    "args = [1,2,3,4]\n",
    "fun(*args)\n",
    "\n",
    "print(\"\")\n",
    "kwargs = {'k1':10, 'k2':11}\n",
    "fun(1, **kwargs)\n",
    "\n",
    "print(\"\")\n",
    "fun(1, *args, **kwargs)"
   ]
  },
  {
   "cell_type": "code",
   "execution_count": null,
   "metadata": {},
   "outputs": [],
   "source": []
  }
 ],
 "metadata": {
  "kernelspec": {
   "display_name": "Python 3",
   "language": "python",
   "name": "python3"
  },
  "language_info": {
   "codemirror_mode": {
    "name": "ipython",
    "version": 3
   },
   "file_extension": ".py",
   "mimetype": "text/x-python",
   "name": "python",
   "nbconvert_exporter": "python",
   "pygments_lexer": "ipython3",
   "version": "3.7.1"
  }
 },
 "nbformat": 4,
 "nbformat_minor": 2
}
