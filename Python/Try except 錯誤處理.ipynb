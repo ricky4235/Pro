{
 "cells": [
  {
   "cell_type": "markdown",
   "metadata": {},
   "source": [
    "Python的錯誤處理是透過try-except語法，我們可以決定當錯誤發生時，相對應的處理是什麼。如果沒有錯誤處理，很容易因為錯誤而讓程式中斷。\n",
    "有了錯誤處理，就可以印出錯誤，可以將錯誤拋出，或是將錯誤訊息存入Log，都是不錯的處理方法，接著來看看Python如何利用try-except語法來處理例外。"
   ]
  },
  {
   "cell_type": "code",
   "execution_count": null,
   "metadata": {},
   "outputs": [],
   "source": [
    "try:\n",
    "    # 你要執行的程式\n",
    "except <錯誤類型>:\n",
    "    # 發生錯誤時要執行的程式\n",
    "    # except後若不接上任何例外型態，則表示捕捉所有例外，這包括了所有的系統例外，有時這並不是你想要的行為。"
   ]
  },
  {
   "cell_type": "markdown",
   "metadata": {},
   "source": [
    "### 沒有錯誤處理的情況："
   ]
  },
  {
   "cell_type": "code",
   "execution_count": 7,
   "metadata": {},
   "outputs": [
    {
     "name": "stdout",
     "output_type": "stream",
     "text": [
      "Start to parse......\n",
      "(parse_int) Try to parse :1\n",
      "Start to parse......\n",
      "(parse_int) Try to parse :Hello, World\n"
     ]
    },
    {
     "ename": "ValueError",
     "evalue": "invalid literal for int() with base 10: 'Hello, World'",
     "output_type": "error",
     "traceback": [
      "\u001b[1;31m---------------------------------------------------------------------------\u001b[0m",
      "\u001b[1;31mValueError\u001b[0m                                Traceback (most recent call last)",
      "\u001b[1;32m<ipython-input-7-56f3169b7469>\u001b[0m in \u001b[0;36m<module>\u001b[1;34m\u001b[0m\n\u001b[0;32m      7\u001b[0m     \u001b[0mprint\u001b[0m\u001b[1;33m(\u001b[0m\u001b[1;34m'Start to parse......'\u001b[0m\u001b[1;33m)\u001b[0m\u001b[1;33m\u001b[0m\u001b[1;33m\u001b[0m\u001b[0m\n\u001b[0;32m      8\u001b[0m     \u001b[0mparse_int\u001b[0m\u001b[1;33m(\u001b[0m\u001b[1;34m'1'\u001b[0m\u001b[1;33m)\u001b[0m\u001b[1;33m\u001b[0m\u001b[1;33m\u001b[0m\u001b[0m\n\u001b[1;32m----> 9\u001b[1;33m     \u001b[0mparse_int\u001b[0m\u001b[1;33m(\u001b[0m\u001b[1;34m'Hello, World'\u001b[0m\u001b[1;33m)\u001b[0m\u001b[1;33m\u001b[0m\u001b[1;33m\u001b[0m\u001b[0m\n\u001b[0m\u001b[0;32m     10\u001b[0m     \u001b[0mparse_int\u001b[0m\u001b[1;33m(\u001b[0m\u001b[1;34m'2'\u001b[0m\u001b[1;33m)\u001b[0m\u001b[1;33m\u001b[0m\u001b[1;33m\u001b[0m\u001b[0m\n\u001b[0;32m     11\u001b[0m     \u001b[0mprint\u001b[0m\u001b[1;33m(\u001b[0m\u001b[1;34m'Finshed....'\u001b[0m\u001b[1;33m)\u001b[0m\u001b[1;33m\u001b[0m\u001b[1;33m\u001b[0m\u001b[0m\n",
      "\u001b[1;32m<ipython-input-7-56f3169b7469>\u001b[0m in \u001b[0;36mparse_int\u001b[1;34m(word)\u001b[0m\n\u001b[0;32m      1\u001b[0m \u001b[1;32mdef\u001b[0m \u001b[0mparse_int\u001b[0m\u001b[1;33m(\u001b[0m\u001b[0mword\u001b[0m\u001b[1;33m)\u001b[0m\u001b[1;33m:\u001b[0m\u001b[1;33m\u001b[0m\u001b[1;33m\u001b[0m\u001b[0m\n\u001b[0;32m      2\u001b[0m     \u001b[0mprint\u001b[0m\u001b[1;33m(\u001b[0m\u001b[1;34m'(parse_int) Try to parse :'\u001b[0m\u001b[1;33m+\u001b[0m\u001b[0mword\u001b[0m\u001b[1;33m)\u001b[0m\u001b[1;33m\u001b[0m\u001b[1;33m\u001b[0m\u001b[0m\n\u001b[1;32m----> 3\u001b[1;33m     \u001b[0mi\u001b[0m \u001b[1;33m=\u001b[0m \u001b[0mint\u001b[0m\u001b[1;33m(\u001b[0m\u001b[0mword\u001b[0m\u001b[1;33m)\u001b[0m\u001b[1;33m\u001b[0m\u001b[1;33m\u001b[0m\u001b[0m\n\u001b[0m\u001b[0;32m      4\u001b[0m     \u001b[0mprint\u001b[0m\u001b[1;33m(\u001b[0m\u001b[1;34m'Start to parse......'\u001b[0m\u001b[1;33m)\u001b[0m\u001b[1;33m\u001b[0m\u001b[1;33m\u001b[0m\u001b[0m\n\u001b[0;32m      5\u001b[0m \u001b[1;33m\u001b[0m\u001b[0m\n",
      "\u001b[1;31mValueError\u001b[0m: invalid literal for int() with base 10: 'Hello, World'"
     ]
    }
   ],
   "source": [
    "def parse_int(word):\n",
    "    print('(parse_int) Try to parse :'+word)\n",
    "    i = int(word)\n",
    "    print('Start to parse......')\n",
    "\n",
    "if __name__ == '__main__':\n",
    "    print('Start to parse......')\n",
    "    parse_int('1')\n",
    "    parse_int('Hello, World')\n",
    "    parse_int('2')\n",
    "    print('Finshed....')\n",
    "    \n",
    "# 結果： 在處理int(‘Hello, World!’)時發生錯誤，所以程式中斷"
   ]
  },
  {
   "cell_type": "markdown",
   "metadata": {},
   "source": [
    "### parse_int方法加上try-except："
   ]
  },
  {
   "cell_type": "code",
   "execution_count": 8,
   "metadata": {},
   "outputs": [
    {
     "name": "stdout",
     "output_type": "stream",
     "text": [
      "Start to parse......\n",
      "(parse_int) Try to parse :1\n",
      "(parse_int) Try to parse :Hello, World\n",
      "invalid literal for int() with base 10: 'Hello, World'\n",
      "(parse_int) Try to parse :2\n",
      "Finshed....\n"
     ]
    }
   ],
   "source": [
    "def parse_int(word):\n",
    "    try:\n",
    "        print('(parse_int) Try to parse :'+word)\n",
    "        i = int(word)\n",
    "    except Exception as ee:  #印出錯誤\n",
    "        print(str(ee))\n",
    "\n",
    "if __name__ == '__main__':\n",
    "    print('Start to parse......')\n",
    "    parse_int('1')\n",
    "    parse_int('Hello, World')\n",
    "    parse_int('2')\n",
    "    print('Finshed....')\n",
    "    \n",
    "#結果： 在處理int(‘Hello, World!’)時發生錯誤，並印出錯誤，接著程式可以繼續執行parse_int(‘2’)"
   ]
  },
  {
   "cell_type": "markdown",
   "metadata": {},
   "source": [
    "### parse_int方法加上try-except，main function也加上try-except："
   ]
  },
  {
   "cell_type": "code",
   "execution_count": 3,
   "metadata": {},
   "outputs": [
    {
     "name": "stdout",
     "output_type": "stream",
     "text": [
      "Start to parse......\n",
      "(parse_int) Try to parse :1\n",
      "(parse_int) Try to parse :Hello, World\n",
      "parse_int: invalid literal for int() with base 10: 'Hello, World'\n",
      "(parse_int) Try to parse :2\n",
      "main: invalid literal for int() with base 10: 'Thank you.'\n"
     ]
    }
   ],
   "source": [
    "def parse_int(word):\n",
    "    try:\n",
    "        print('(parse_int) Try to parse :'+word)\n",
    "        i = int(word)\n",
    "    except Exception as ee:\n",
    "        print('parse_int: '+str(ee))\n",
    "\n",
    "if __name__ == '__main__':\n",
    "    try:\n",
    "        print('Start to parse......')\n",
    "        parse_int('1')\n",
    "        parse_int('Hello, World')\n",
    "        parse_int('2')\n",
    "        int('Thank you.')\n",
    "        print('Finshed....')\n",
    "    except Exception as ec:\n",
    "        print('main: '+str(ec))\n",
    "        \n",
    "# 結果： 在處理int(‘Hello, World!’)時發生錯誤，並執行parse_int的except，接著程式可以繼續執行。\n",
    "# 接著在int(‘Thank you.’)又發生錯誤，則是執行main function內的except方法"
   ]
  },
  {
   "cell_type": "markdown",
   "metadata": {},
   "source": [
    "### 在parse_int方法處理exception時，利用raise將錯誤往外拋"
   ]
  },
  {
   "cell_type": "code",
   "execution_count": 4,
   "metadata": {},
   "outputs": [
    {
     "name": "stdout",
     "output_type": "stream",
     "text": [
      "Start to parse......\n",
      "(parse_int) Try to parse :1\n",
      "(parse_int) Try to parse :Hello, World\n",
      "parse_int: invalid literal for int() with base 10: 'Hello, World'\n",
      "main: invalid literal for int() with base 10: 'Hello, World'\n"
     ]
    }
   ],
   "source": [
    "def parse_int(word):\n",
    "    try:\n",
    "        print('(parse_int) Try to parse :'+word)\n",
    "        i = int(word)\n",
    "    except Exception as ee:\n",
    "        print('parse_int: '+str(ee))\n",
    "        raise\n",
    "\n",
    "if __name__ == '__main__':\n",
    "    try:\n",
    "        print('Start to parse......')\n",
    "        parse_int('1')\n",
    "        parse_int('Hello, World')\n",
    "        parse_int('2')\n",
    "    except Exception as ec:\n",
    "        print('main: '+str(ec))\n",
    "        \n",
    "# 結果：在parse_int方法處理exception時，利用raise將錯誤往外拋，所以錯誤在main function的except又處理了一次"
   ]
  },
  {
   "cell_type": "code",
   "execution_count": null,
   "metadata": {},
   "outputs": [],
   "source": []
  },
  {
   "cell_type": "code",
   "execution_count": null,
   "metadata": {},
   "outputs": [],
   "source": []
  },
  {
   "cell_type": "code",
   "execution_count": null,
   "metadata": {},
   "outputs": [
    {
     "name": "stdout",
     "output_type": "stream",
     "text": [
      "#1 請輸入數字: +\n",
      "#1 你輸入的不是數字，請你再輸入一次！...\n"
     ]
    }
   ],
   "source": [
    "while True:\n",
    "    try:\n",
    "        x = int(input(\"#1 請輸入數字: \"))\n",
    "        print(\"#1 你剛才輸入的是:\", x)\n",
    "        break    # 跳出迴圈\n",
    "        \n",
    "    except ValueError:   # 數值錯誤\n",
    "        print(\"#1 你輸入的不是數字，請你再輸入一次！...\")"
   ]
  },
  {
   "cell_type": "code",
   "execution_count": null,
   "metadata": {},
   "outputs": [],
   "source": [
    "try:    \n",
    "    print(\"#2 {0}除以零！\".format(x/0))  # 故意除以零\n",
    "\n",
    "except ZeroDivisionError:  # 數值除以零的錯誤\n",
    "    print(\"#2 {0}不能除以零，誰都不行！\".format(x))"
   ]
  },
  {
   "cell_type": "code",
   "execution_count": null,
   "metadata": {},
   "outputs": [],
   "source": [
    "try:    \n",
    "    print(\"#3 兩數相乘: {0}\", x * magic_number) # 故意用了沒宣告過的變數『magic_number』\n",
    "\n",
    "except NameError:  # 變數未宣告的錯誤\n",
    "    print(\"#3 變數未宣告的錯誤！\")"
   ]
  },
  {
   "cell_type": "code",
   "execution_count": 11,
   "metadata": {},
   "outputs": [
    {
     "name": "stdout",
     "output_type": "stream",
     "text": [
      "Unexpected error: <class 'ZeroDivisionError'>\n"
     ]
    }
   ],
   "source": [
    "#無法確定會發生什麼錯誤時的做法，那就用except吧！\n",
    "try:\n",
    "    mm = 9 / 0\n",
    "except:\n",
    "    print(\"Unexpected error:\", sys.exc_info()[0]) #sys.exc_info()[0]就是用來取出except的錯誤訊息的方法"
   ]
  },
  {
   "cell_type": "code",
   "execution_count": 2,
   "metadata": {},
   "outputs": [
    {
     "ename": "NameError",
     "evalue": "name 'sys' is not defined",
     "output_type": "error",
     "traceback": [
      "\u001b[1;31m---------------------------------------------------------------------------\u001b[0m",
      "\u001b[1;31mZeroDivisionError\u001b[0m                         Traceback (most recent call last)",
      "\u001b[1;32m<ipython-input-2-a04cd8ee3bfd>\u001b[0m in \u001b[0;36m<module>\u001b[1;34m\u001b[0m\n\u001b[0;32m      2\u001b[0m \u001b[1;32mtry\u001b[0m\u001b[1;33m:\u001b[0m\u001b[1;33m\u001b[0m\u001b[1;33m\u001b[0m\u001b[0m\n\u001b[1;32m----> 3\u001b[1;33m     \u001b[0mmm\u001b[0m \u001b[1;33m=\u001b[0m \u001b[1;36m9\u001b[0m \u001b[1;33m/\u001b[0m \u001b[1;36m0\u001b[0m\u001b[1;33m\u001b[0m\u001b[1;33m\u001b[0m\u001b[0m\n\u001b[0m\u001b[0;32m      4\u001b[0m \u001b[1;32mexcept\u001b[0m\u001b[1;33m:\u001b[0m\u001b[1;33m\u001b[0m\u001b[1;33m\u001b[0m\u001b[0m\n",
      "\u001b[1;31mZeroDivisionError\u001b[0m: division by zero",
      "\nDuring handling of the above exception, another exception occurred:\n",
      "\u001b[1;31mNameError\u001b[0m                                 Traceback (most recent call last)",
      "\u001b[1;32m<ipython-input-2-a04cd8ee3bfd>\u001b[0m in \u001b[0;36m<module>\u001b[1;34m\u001b[0m\n\u001b[0;32m      3\u001b[0m     \u001b[0mmm\u001b[0m \u001b[1;33m=\u001b[0m \u001b[1;36m9\u001b[0m \u001b[1;33m/\u001b[0m \u001b[1;36m0\u001b[0m\u001b[1;33m\u001b[0m\u001b[1;33m\u001b[0m\u001b[0m\n\u001b[0;32m      4\u001b[0m \u001b[1;32mexcept\u001b[0m\u001b[1;33m:\u001b[0m\u001b[1;33m\u001b[0m\u001b[1;33m\u001b[0m\u001b[0m\n\u001b[1;32m----> 5\u001b[1;33m     \u001b[0mprint\u001b[0m\u001b[1;33m(\u001b[0m\u001b[1;34m\"Unexpected error:\"\u001b[0m\u001b[1;33m,\u001b[0m \u001b[0msys\u001b[0m\u001b[1;33m.\u001b[0m\u001b[0mexc_info\u001b[0m\u001b[1;33m(\u001b[0m\u001b[1;33m)\u001b[0m\u001b[1;33m[\u001b[0m\u001b[1;36m0\u001b[0m\u001b[1;33m]\u001b[0m\u001b[1;33m)\u001b[0m \u001b[1;31m#sys.exc_info()[0]就是用來取出except的錯誤訊息的方法\u001b[0m\u001b[1;33m\u001b[0m\u001b[1;33m\u001b[0m\u001b[0m\n\u001b[0m",
      "\u001b[1;31mNameError\u001b[0m: name 'sys' is not defined"
     ]
    }
   ],
   "source": [
    "#無法確定會發生什麼錯誤時的做法，那就用except吧！\n",
    "try:\n",
    "    mm = 9 / 0\n",
    "except:\n",
    "    print(\"Unexpected error:\", sys.exc_info()[0]) #sys.exc_info()[0]就是用來取出except的錯誤訊息的方法"
   ]
  },
  {
   "cell_type": "code",
   "execution_count": null,
   "metadata": {
    "scrolled": false
   },
   "outputs": [],
   "source": []
  },
  {
   "cell_type": "code",
   "execution_count": null,
   "metadata": {},
   "outputs": [],
   "source": []
  }
 ],
 "metadata": {
  "kernelspec": {
   "display_name": "Python 3",
   "language": "python",
   "name": "python3"
  },
  "language_info": {
   "codemirror_mode": {
    "name": "ipython",
    "version": 3
   },
   "file_extension": ".py",
   "mimetype": "text/x-python",
   "name": "python",
   "nbconvert_exporter": "python",
   "pygments_lexer": "ipython3",
   "version": "3.7.1"
  }
 },
 "nbformat": 4,
 "nbformat_minor": 2
}
