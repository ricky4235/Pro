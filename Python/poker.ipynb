{
 "cells": [
  {
   "cell_type": "markdown",
   "metadata": {},
   "source": [
    "## 模擬發牌程式"
   ]
  },
  {
   "cell_type": "markdown",
   "metadata": {},
   "source": [
    "52張撲克牌發個4個玩家，每人13張。\n",
    "要求：\n",
    "自動生成一幅撲克牌組；洗牌；發牌到玩家手中；將玩家手中撲克牌按花色大小整理好。"
   ]
  },
  {
   "cell_type": "markdown",
   "metadata": {},
   "source": [
    "### 法一："
   ]
  },
  {
   "cell_type": "code",
   "execution_count": 7,
   "metadata": {},
   "outputs": [
    {
     "name": "stdout",
     "output_type": "stream",
     "text": [
      "player1： [['♣', '2'], ['♣', '4'], ['♣', '5'], ['♣', '8'], ['♣', 'Q'], ['♥', '4'], ['♥', '6'], ['♥', '8'], ['♥', '9'], ['♦', '10'], ['♦', '7'], ['♦', 'K'], ['♦', 'Q']]\n",
      "player2： [['♠', '10'], ['♠', '4'], ['♠', '5'], ['♠', '6'], ['♠', '9'], ['♠', 'Q'], ['♥', '5'], ['♥', '7'], ['♥', 'J'], ['♦', '4'], ['♦', '5'], ['♦', '8'], ['♦', 'J']]\n",
      "player3： [['♠', '3'], ['♣', '10'], ['♣', '3'], ['♣', '6'], ['♣', '9'], ['♣', 'K'], ['♥', '2'], ['♥', '3'], ['♥', 'A'], ['♥', 'K'], ['♥', 'Q'], ['♦', '3'], ['♦', '9']]\n",
      "player4： [['♠', '2'], ['♠', '7'], ['♠', '8'], ['♠', 'A'], ['♠', 'J'], ['♠', 'K'], ['♣', '7'], ['♣', 'A'], ['♣', 'J'], ['♥', '10'], ['♦', '2'], ['♦', '6'], ['♦', 'A']]\n"
     ]
    }
   ],
   "source": [
    "import random\n",
    "import operator\n",
    "def auto():\n",
    "    pokers=[]\n",
    "    poker=[]\n",
    "    for i in ['♥','♠','♦','♣']:\n",
    "        for j in ['A','2','3','4','5','6','7','8','9','10','J','Q','K']:\n",
    "            poker.append(i)\n",
    "            poker.append(j)\n",
    "            pokers.append(poker)\n",
    "            poker=[]\n",
    "    return pokers\n",
    "poker=auto()\n",
    "random.shuffle(poker)\n",
    "li={}\n",
    "for k in ['player1','player2','player3','player4']:\n",
    "    b=random.sample(poker,13)\n",
    "    for s in b:\n",
    "        poker.remove(s)\n",
    "    li.setdefault(k,b)\n",
    "print('player1：',sorted(li['player1'],key=operator.itemgetter(0,1)))\n",
    "print('player2：',sorted(li['player2'],key=operator.itemgetter(0,1)))   \n",
    "print('player3：',sorted(li['player3'],key=operator.itemgetter(0,1)))\n",
    "print('player4：',sorted(li['player4'],key=operator.itemgetter(0,1)))\n"
   ]
  },
  {
   "cell_type": "markdown",
   "metadata": {},
   "source": [
    "### 法二："
   ]
  },
  {
   "cell_type": "code",
   "execution_count": 2,
   "metadata": {},
   "outputs": [
    {
     "name": "stdout",
     "output_type": "stream",
     "text": [
      "开始洗牌....\n",
      "开始给player1发牌：\n",
      "\n",
      "♣J , ♠6 , ♥6 , ♠3 , ♠2 , ♦6 , ♥Q , ♥5 , ♣8 , ♠A , ♦A , ♣7 , ♣3 , None\n",
      "开始给player2发牌：\n",
      "\n",
      "♥3 , ♣9 , ♠9 , ♠5 , ♠7 , ♠4 , ♦J , ♥9 , ♠J , ♣10 , ♠Q , ♥10 , ♦3 , None\n",
      "开始给player3发牌：\n",
      "\n",
      "♦10 , ♦7 , ♥4 , ♦9 , ♥K , ♦2 , ♦8 , ♦K , ♥J , ♥2 , ♣4 , ♠10 , ♦4 , None\n",
      "开始给player4发牌：\n",
      "\n",
      "♣Q , ♣5 , ♠8 , ♣A , ♥8 , ♦5 , ♦Q , ♥A , ♣2 , ♣6 , ♣K , ♥7 , ♠K , None\n",
      "player1的牌：\n",
      "\n",
      "♥5 , ♥6 , ♥Q , ♠A , ♠2 , ♠3 , ♠6 , ♦A , ♦6 , ♣3 , ♣7 , ♣8 , ♣J , None\n",
      "player2的牌：\n",
      "\n",
      "♥3 , ♥9 , ♥10 , ♠4 , ♠5 , ♠7 , ♠9 , ♠J , ♠Q , ♦3 , ♦J , ♣9 , ♣10 , None\n",
      "player3的牌：\n",
      "\n",
      "♥2 , ♥4 , ♥J , ♥K , ♠10 , ♦2 , ♦4 , ♦7 , ♦8 , ♦9 , ♦10 , ♦K , ♣4 , None\n",
      "player4的牌：\n",
      "\n",
      "♥A , ♥7 , ♥8 , ♠8 , ♠K , ♦5 , ♦Q , ♣A , ♣2 , ♣5 , ♣6 , ♣Q , ♣K , None\n"
     ]
    }
   ],
   "source": [
    "import random\n",
    "import time\n",
    "A=['♥','♠','♦','♣']\n",
    "B=['A','2','3','4','5','6','7','8','9','10','J','Q','K']\n",
    "poker=[]\n",
    "pokers=[]\n",
    "n=1\n",
    "for i in A:\n",
    "    for j in B:\n",
    "         pokers.append((n,(i+j)))\n",
    "         n=n+1\n",
    "print(\"开始洗牌....\")\n",
    "random.shuffle(pokers)\n",
    "def xipai(x):\n",
    "    for i in x:\n",
    "        pokers.remove(i)\n",
    "    return pokers\n",
    "def fapai(y):\n",
    "    for i in y:\n",
    "        print(i[1],',',end=\" \")\n",
    "def paixu(z):\n",
    "    for i in z:\n",
    "        print(i[1],',',end=\" \")\n",
    "time.sleep(3)\n",
    "a=random.sample(pokers,13) \n",
    "pokers=xipai(a)   \n",
    "print(\"开始给player1发牌：\\n\")\n",
    "print(fapai(a))\n",
    "b=random.sample(pokers,13) \n",
    "pokers=xipai(b)   \n",
    "print(\"开始给player2发牌：\\n\")\n",
    "print(fapai(b))\n",
    "c=random.sample(pokers,13) \n",
    "pokers=xipai(c)   \n",
    "print(\"开始给player3发牌：\\n\")\n",
    "print(fapai(c))\n",
    "d=random.sample(pokers,13) \n",
    "pokers=xipai(d)   \n",
    "print(\"开始给player4发牌：\\n\")\n",
    "print(fapai(d))\n",
    "\n",
    "a.sort()\n",
    "b.sort()\n",
    "c.sort()\n",
    "d.sort()\n",
    "\n",
    "time.sleep(3)\n",
    "print(\"player1的牌：\\n\")\n",
    "print(paixu(a))\n",
    "print(\"player2的牌：\\n\")\n",
    "print(paixu(b))\n",
    "print(\"player3的牌：\\n\")\n",
    "print(paixu(c))\n",
    "print(\"player4的牌：\\n\")\n",
    "print(paixu(d))"
   ]
  },
  {
   "cell_type": "code",
   "execution_count": null,
   "metadata": {},
   "outputs": [],
   "source": []
  }
 ],
 "metadata": {
  "kernelspec": {
   "display_name": "Python 3",
   "language": "python",
   "name": "python3"
  },
  "language_info": {
   "codemirror_mode": {
    "name": "ipython",
    "version": 3
   },
   "file_extension": ".py",
   "mimetype": "text/x-python",
   "name": "python",
   "nbconvert_exporter": "python",
   "pygments_lexer": "ipython3",
   "version": "3.7.1"
  }
 },
 "nbformat": 4,
 "nbformat_minor": 2
}
