{
 "cells": [
  {
   "cell_type": "code",
   "execution_count": null,
   "metadata": {},
   "outputs": [],
   "source": [
    "Python 中 dir()、help()的使用\n",
    "\n",
    "想要使用Python來編寫程式碼時，經常會選擇使用 Python 中的內建函數 （Built-in Functions）或是模組。\n",
    "如果遇到對一些函數、模組不清楚的情形，則可以通過 dir() 和 help() 查詢說明或屬性。"
   ]
  },
  {
   "cell_type": "code",
   "execution_count": null,
   "metadata": {},
   "outputs": [],
   "source": [
    "Python 內建函數 - dir()\n",
    "「dir()」的用途，是用於查詢物件的全部屬性。例如今天你想使用 dir() 函數用於查看物件「str」 的全部屬性，你就寫了：\n",
    "\n",
    ">>>print dir(str)\n",
    "執行結果如下：\n",
    "\n",
    "['__add__', '__class__', '__contains__', '__delattr__', '__dir__', '__doc__', '__eq__', \n",
    " '__format__', '__ge__', '__getattribute__', '__getitem__', '__getnewargs__', '__gt__', \n",
    " '__hash__', '__init__', '__init_subclass__', '__iter__', '__le__', '__len__', '__lt__', \n",
    " '__mod__', '__mul__', '__ne__', '__new__', '__reduce__', '__reduce_ex__', '__repr__', \n",
    " '__rmod__', '__rmul__', '__setattr__', '__sizeof__', '__str__', '__subclasshook__', \n",
    " 'capitalize', 'casefold', 'center', 'count', 'encode', 'endswith', 'expandtabs', 'find', \n",
    " 'format', 'format_map', 'index', 'isalnum', 'isalpha', 'isascii', 'isdecimal', 'isdigit', \n",
    " 'isidentifier', 'islower', 'isnumeric', 'isprintable', 'isspace', 'istitle', 'isupper', \n",
    " 'join', 'ljust', 'lower', 'lstrip', 'maketrans', 'partition', 'replace', 'rfind', 'rindex', \n",
    " 'rjust', 'rpartition', 'rsplit', 'rstrip', 'split', 'splitlines', 'startswith', 'strip', \n",
    " 'swapcase', 'title', 'translate', 'upper', 'zfill']\n",
    " \n",
    "\n",
    "如果現在dir() 的括弧內不帶任何參數物件，它的執行結果則會最大限度地顯示出當前範圍內的變數、方法和屬性列表。\n",
    "\n",
    "['__annotations__', '__builtins__', '__doc__', '__loader__', '__name__', '__package__', '__spec__']\n",
    " \n"
   ]
  },
  {
   "cell_type": "code",
   "execution_count": null,
   "metadata": {},
   "outputs": [],
   "source": [
    "Python 內建函數 - help()\n",
    " \n",
    "\n",
    "help(): 用於查看函式或模組用途的詳細說明。\n",
    "\n",
    " \n",
    "\n",
    "例如今天你想使用 help() 用於查看「dir」 的用途，你就寫了：\n",
    "\n",
    ">>>help(‘dir’)\n",
    "執行結果如下：\n",
    "\n",
    "Help on built-in function dir in module builtins:\n",
    "\n",
    "dir(…)\n",
    "    dir([object]) -> list of strings\n",
    "\n",
    "    If called without an argument, return the names in the current scope.\n",
    "    Else, return an alphabetized list of names comprising (some of) the attributes\n",
    "    of the given object, and of attributes reachable from it.\n",
    "    If the object supplies a method named __dir__, it will be used; otherwise\n",
    "    the default dir() logic is used and returns:\n",
    "      for a module object: the module’s attributes.\n",
    "      for a class object:  its attributes, and recursively the attributes\n",
    "        of its bases.\n",
    "      for any other object: its attributes, its class’s attributes, and\n",
    "        recursively the attributes of its class’s base classes."
   ]
  }
 ],
 "metadata": {
  "kernelspec": {
   "display_name": "Python 3",
   "language": "python",
   "name": "python3"
  },
  "language_info": {
   "codemirror_mode": {
    "name": "ipython",
    "version": 3
   },
   "file_extension": ".py",
   "mimetype": "text/x-python",
   "name": "python",
   "nbconvert_exporter": "python",
   "pygments_lexer": "ipython3",
   "version": "3.7.1"
  }
 },
 "nbformat": 4,
 "nbformat_minor": 2
}
