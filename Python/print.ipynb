{
 "cells": [
  {
   "cell_type": "code",
   "execution_count": 3,
   "metadata": {},
   "outputs": [
    {
     "name": "stdout",
     "output_type": "stream",
     "text": [
      "22 33 44\n",
      "22@33@44\n",
      "22.0@33.0@44.0\n",
      "22@33@44\n",
      "[22.0]@[33.0]@[44.0]\n",
      "{2: 2}@{3: 3}@{4: 4}\n"
     ]
    }
   ],
   "source": [
    "#變更分隔符號(sep)\n",
    "print(22,33,44)  #預設空白, sep=' '\n",
    "print(22, 33, 44, sep=\"@\")\n",
    "print(22.0, 33.0, 44.0, sep=\"@\")\n",
    "print(\"22\", \"33\", \"44\", sep=\"@\")\n",
    "print([22.0], [33.0], [44.0], sep=\"@\")\n",
    "print({2:2}, {3:3}, {4:4}, sep=\"@\")"
   ]
  },
  {
   "cell_type": "code",
   "execution_count": 17,
   "metadata": {},
   "outputs": [
    {
     "name": "stdout",
     "output_type": "stream",
     "text": [
      "1\n",
      "2\n",
      "3\n",
      "4\n",
      "\n",
      "1&2&3&4&\n",
      "2*3*4*5*\n",
      "3%4%5%6%\n",
      "4#5#6#7#\n",
      "5$6$7$8$\n"
     ]
    }
   ],
   "source": [
    "#變更結尾符號(end)\n",
    "for i in range(1, 5):\n",
    "    print(i)   #預設自動換行, end='\\n'\n",
    "print()\n",
    "\n",
    "for i in range(1, 5):\n",
    "    print(i, end=\"&\")  #不換行，改成\"&\"\n",
    "print()       #預設自動換行\n",
    "\n",
    "for j in range(2, 6):\n",
    "    print(j, end=\"*\")\n",
    "print()\n",
    " \n",
    "for k in range(3, 7):\n",
    "    print(k, end=\"%\")\n",
    "print()\n",
    " \n",
    "for l in range(4, 8):\n",
    "    print(l, end=\"#\")\n",
    "print()\n",
    " \n",
    "for m in range(5, 9):\n",
    "    print(m, end=\"$\")\n",
    "print()"
   ]
  },
  {
   "cell_type": "code",
   "execution_count": 10,
   "metadata": {},
   "outputs": [
    {
     "name": "stdout",
     "output_type": "stream",
     "text": [
      "\n"
     ]
    }
   ],
   "source": []
  },
  {
   "cell_type": "code",
   "execution_count": null,
   "metadata": {},
   "outputs": [],
   "source": []
  }
 ],
 "metadata": {
  "kernelspec": {
   "display_name": "Python 3",
   "language": "python",
   "name": "python3"
  },
  "language_info": {
   "codemirror_mode": {
    "name": "ipython",
    "version": 3
   },
   "file_extension": ".py",
   "mimetype": "text/x-python",
   "name": "python",
   "nbconvert_exporter": "python",
   "pygments_lexer": "ipython3",
   "version": "3.7.1"
  }
 },
 "nbformat": 4,
 "nbformat_minor": 2
}
