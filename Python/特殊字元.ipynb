{
 "cells": [
  {
   "cell_type": "markdown",
   "metadata": {},
   "source": [
    "### \\ : 換行繼續輸入"
   ]
  },
  {
   "cell_type": "code",
   "execution_count": 2,
   "metadata": {},
   "outputs": [
    {
     "data": {
      "text/plain": [
       "10"
      ]
     },
     "execution_count": 2,
     "metadata": {},
     "output_type": "execute_result"
    }
   ],
   "source": [
    "a = \\\n",
    "5+5\n",
    "a"
   ]
  },
  {
   "cell_type": "code",
   "execution_count": 3,
   "metadata": {},
   "outputs": [
    {
     "data": {
      "text/plain": [
       "10"
      ]
     },
     "execution_count": 3,
     "metadata": {},
     "output_type": "execute_result"
    }
   ],
   "source": [
    "a \\\n",
    "=5+5\n",
    "a"
   ]
  },
  {
   "cell_type": "code",
   "execution_count": 4,
   "metadata": {},
   "outputs": [
    {
     "name": "stdout",
     "output_type": "stream",
     "text": [
      "I'm Bob.\n",
      "What's your name?\n"
     ]
    }
   ],
   "source": [
    "print(\"I'm Bob.\\nWhat's your name?\")"
   ]
  },
  {
   "cell_type": "markdown",
   "metadata": {},
   "source": [
    "### \\t (製表符) : 作用是對齊表格的各列。"
   ]
  },
  {
   "cell_type": "code",
   "execution_count": 5,
   "metadata": {},
   "outputs": [
    {
     "name": "stdout",
     "output_type": "stream",
     "text": [
      "学号\t姓名\t语文\t数学\t英语\n",
      "2017001\t曹操\t99\t\t88\t\t0\n",
      "2017002\t周瑜\t92\t\t45\t\t93\n",
      "2017008\t黄盖\t77\t\t82\t\t100\n"
     ]
    }
   ],
   "source": [
    "print(\"学号\\t姓名\\t语文\\t数学\\t英语\")\n",
    "print(\"2017001\\t曹操\\t99\\t\\t88\\t\\t0\")\n",
    "print(\"2017002\\t周瑜\\t92\\t\\t45\\t\\t93\")\n",
    "print(\"2017008\\t黄盖\\t77\\t\\t82\\t\\t100\")"
   ]
  }
 ],
 "metadata": {
  "kernelspec": {
   "display_name": "Python 3",
   "language": "python",
   "name": "python3"
  },
  "language_info": {
   "codemirror_mode": {
    "name": "ipython",
    "version": 3
   },
   "file_extension": ".py",
   "mimetype": "text/x-python",
   "name": "python",
   "nbconvert_exporter": "python",
   "pygments_lexer": "ipython3",
   "version": "3.7.1"
  }
 },
 "nbformat": 4,
 "nbformat_minor": 2
}
