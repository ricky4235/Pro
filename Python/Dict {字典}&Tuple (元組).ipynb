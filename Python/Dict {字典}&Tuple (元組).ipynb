{
 "cells": [
  {
   "cell_type": "markdown",
   "metadata": {},
   "source": [
    "# Dict {字典}"
   ]
  },
  {
   "cell_type": "code",
   "execution_count": 8,
   "metadata": {},
   "outputs": [
    {
     "name": "stdout",
     "output_type": "stream",
     "text": [
      "{'one': 1, 'two': 2, 'three': 3}\n",
      "3\n"
     ]
    }
   ],
   "source": [
    "d = {'one':1,'two':2,'three':3}  \n",
    "print(d)  #dict在輸出時並不保證key的順序\n",
    "print(len(d))"
   ]
  },
  {
   "cell_type": "code",
   "execution_count": 20,
   "metadata": {},
   "outputs": [
    {
     "name": "stdout",
     "output_type": "stream",
     "text": [
      "{1: ['a', '9', 'k'], 'g': 293, 'p': 65}\n",
      "3\n",
      "['a', '9', 'k']\n",
      "{1: ['a', '9', 'k'], 'g': 8, 'p': 65}\n",
      "{1: ['a', '9', 'k'], 'g': 8, 'p': 65, 'gg': 99}\n"
     ]
    }
   ],
   "source": [
    "dd = {1:['a','9','k'],'g':293,'p':65}\n",
    "print(dd)\n",
    "print(len(dd))  #dict中有list長度會變成多少? dict的長度僅看key的數量\n",
    "print(dd[1])    #類似list可以用index來取值、比如list[index]，dict同樣能用key來取值\n",
    "dd['g'] = 8     #如果key已存在，會更新這組key\n",
    "print(dd)\n",
    "dd['gg'] = 99   #如果key不存在，會增加這組key\n",
    "print(dd)"
   ]
  },
  {
   "cell_type": "code",
   "execution_count": 34,
   "metadata": {
    "scrolled": true
   },
   "outputs": [
    {
     "name": "stdout",
     "output_type": "stream",
     "text": [
      "keep looking for...\n",
      "keep looking for...\n",
      "i got it! key= three\n"
     ]
    }
   ],
   "source": [
    "ddd = {'one':1,'two':2,'three':3,4:'four',5:'five'}\n",
    "target = 3\n",
    "for key in ddd:\n",
    "    if ddd[key] == target:\n",
    "        print('i got it! key=',key)\n",
    "        break\n",
    "    else:\n",
    "        print('keep looking for...')"
   ]
  },
  {
   "cell_type": "code",
   "execution_count": 38,
   "metadata": {},
   "outputs": [
    {
     "name": "stdout",
     "output_type": "stream",
     "text": [
      "True\n",
      "False\n",
      "True\n"
     ]
    }
   ],
   "source": [
    "#檢查dict中有沒有包含特定的key\n",
    "print('one' in ddd)\n",
    "print(1 in ddd)\n",
    "print(5 in ddd)"
   ]
  },
  {
   "cell_type": "code",
   "execution_count": 42,
   "metadata": {
    "scrolled": true
   },
   "outputs": [
    {
     "name": "stdout",
     "output_type": "stream",
     "text": [
      "1\n",
      "2\n",
      "找無\n"
     ]
    }
   ],
   "source": [
    "#把dict中相對應的資料取出\n",
    "print(ddd['one'])    #這個做法相對不安全，key如果不存在的話就會出現KeyError\n",
    "print(ddd.get('two','找無'))  #d.get(key, default_value): 是比較安全的作法，如果key不存在的話就會回傳 default_value \n",
    "print(ddd.get(2,'找無'))"
   ]
  },
  {
   "cell_type": "code",
   "execution_count": 1,
   "metadata": {},
   "outputs": [
    {
     "name": "stdout",
     "output_type": "stream",
     "text": [
      "歌手名: Jay\n",
      "成績: 100\n",
      "\n",
      "歌手名: Ed\n",
      "成績: 99\n",
      "\n",
      "歌手名: MJ116\n",
      "成績: 98\n",
      "\n",
      "{'Jay': 100, 'Ed': 99, 'MJ116': 98}\n",
      "查詢名: Jay\n",
      "100\n",
      "\n",
      "查詢名: JJ\n",
      "查無此人\n",
      "\n",
      "查詢名: Ed\n",
      "99\n",
      "\n"
     ]
    }
   ],
   "source": [
    "#dict輸入查詢\n",
    "competition = {}\n",
    "for judge in range(0,3):\n",
    "    name = input('歌手名: ')\n",
    "    grade = int(input('成績: '))\n",
    "    competition[name] = grade\n",
    "    print()\n",
    "print(competition)    #在此縮排表示，全部都Key完才print\n",
    "    \n",
    "for audience in range(0,3):\n",
    "    query = input('查詢名: ')\n",
    "    print(competition.get(query, '查無此人'))\n",
    "    print()"
   ]
  },
  {
   "cell_type": "code",
   "execution_count": 7,
   "metadata": {},
   "outputs": [
    {
     "name": "stdout",
     "output_type": "stream",
     "text": [
      "dict_keys(['one', 'two', 'three', 4, 5])\n",
      "dict_values([1, 2, 3, 'four', 'five'])\n",
      "dict_items([('one', 1), ('two', 2), ('three', 3), (4, 'four'), (5, 'five')])\n"
     ]
    }
   ],
   "source": [
    "ddd = {'one':1,'two':2,'three':3,4:'four',5:'five'}\n",
    "print(ddd.keys())\n",
    "print(ddd.values())\n",
    "print(ddd.items())"
   ]
  },
  {
   "cell_type": "code",
   "execution_count": null,
   "metadata": {},
   "outputs": [],
   "source": []
  },
  {
   "cell_type": "markdown",
   "metadata": {},
   "source": [
    "# Tuple (元組)"
   ]
  },
  {
   "cell_type": "code",
   "execution_count": null,
   "metadata": {},
   "outputs": [],
   "source": [
    "#Tuple類似於List的兄弟，比較大差別在於Tuple是宣告後不能修改、不能刪除。列表使用 []，而元組使用 ()\n",
    "#由於tuple的元素不可修改，結構簡單，因此此資料型態的大小比list來得小\n",
    "#所以在使用時，像是月份、星期等，或是不可修改的資料把其存成tuple資料型態，\n",
    "#可以避免不小心更改到元素值，同時也可以增加執行效能~~"
   ]
  }
 ],
 "metadata": {
  "kernelspec": {
   "display_name": "Python 3",
   "language": "python",
   "name": "python3"
  },
  "language_info": {
   "codemirror_mode": {
    "name": "ipython",
    "version": 3
   },
   "file_extension": ".py",
   "mimetype": "text/x-python",
   "name": "python",
   "nbconvert_exporter": "python",
   "pygments_lexer": "ipython3",
   "version": "3.7.1"
  }
 },
 "nbformat": 4,
 "nbformat_minor": 2
}
