{
 "cells": [
  {
   "cell_type": "markdown",
   "metadata": {},
   "source": [
    "# 變數、資料型別與運算子"
   ]
  },
  {
   "cell_type": "code",
   "execution_count": 20,
   "metadata": {},
   "outputs": [
    {
     "name": "stdout",
     "output_type": "stream",
     "text": [
      "成績 = 76\n",
      "身高 = 175.5\n",
      "體重 = 75.5\n",
      "------------------------------\n",
      "成績 = 76\n",
      "身高 = 175.5\n",
      "體重 = 75.5\n"
     ]
    }
   ],
   "source": [
    "#2_1 : 賦值(=)\n",
    "grade = 76\n",
    "height = 175.5\n",
    "weight = 75.5\n",
    "\n",
    "#要用\"+\"合併字串，要先讓彼此都為字串\n",
    "print(\"成績 = \" + str(grade))  \n",
    "print(\"身高 = \" + str(height))\n",
    "print(\"體重 = \" + str(weight))\n",
    "\n",
    "print(\"------------------------------\")\n",
    "\n",
    "print(\"成績 =\", grade)\n",
    "print(\"身高 =\", height)\n",
    "print(\"體重 =\", weight)"
   ]
  },
  {
   "cell_type": "code",
   "execution_count": 16,
   "metadata": {},
   "outputs": [
    {
     "name": "stdout",
     "output_type": "stream",
     "text": [
      "<class 'int'>\n",
      "5\n",
      "6\n",
      "4\n",
      "10\n",
      "2.5\n",
      "2\n",
      "1\n",
      "25\n",
      "6\n",
      "12\n",
      "6.0\n"
     ]
    }
   ],
   "source": [
    "#2_3 : 整數\n",
    "x = 5\n",
    "print(type(x)) # 顯示資料型態 \"<class 'int'>\"\n",
    "print(x)       # 顯示 \"5\"\n",
    "print(x + 1)   # 加法: 顯示 \"6\"\n",
    "print(x - 1)   # 減法: 顯示 \"4\"\n",
    "print(x * 2)   # 乘法: 顯示 \"10\"\n",
    "print(x / 2)   # 除法: 顯示 \"2.5\"\n",
    "print(x // 2)  # 整數除法: 顯示 \"2\"\n",
    "print(x % 2)   # 餘數: 顯示 \"2\"\n",
    "print(x ** 2)  # 指數: 顯示 \"25\"\n",
    "\n",
    "# python不需要先指定變數的型態，之後也可以任意轉換型態\n",
    "# python可以透過=,+=,-=,*=,/=直接賦值，也可同時給多個變數賦值\n",
    "x += 1\n",
    "print(x)  # 顯示 \"6\"\n",
    "x *= 2\n",
    "print(x)  # 顯示 \"12\"\n",
    "x /= 2\n",
    "print(x)  # 顯示 \"6\""
   ]
  },
  {
   "cell_type": "code",
   "execution_count": 17,
   "metadata": {},
   "outputs": [
    {
     "name": "stdout",
     "output_type": "stream",
     "text": [
      "<class 'float'>\n",
      "2.5 3.5 5.0 6.25\n"
     ]
    }
   ],
   "source": [
    "#2_3a : 浮點數\n",
    "y = 2.5\n",
    "print(type(y)) # 顯示 \"<class 'float'>\"\n",
    "print(y, y + 1, y * 2, y ** 2) # 顯示 \"2.5 3.5 5.0 6.25\""
   ]
  },
  {
   "cell_type": "code",
   "execution_count": 18,
   "metadata": {},
   "outputs": [
    {
     "name": "stdout",
     "output_type": "stream",
     "text": [
      "<class 'bool'>\n",
      "False\n",
      "True\n",
      "False\n"
     ]
    }
   ],
   "source": [
    "#2_3b : 布林值\n",
    "a = True\n",
    "b = False\n",
    "print(type(a)) # 顯示 \"<class 'bool'>\"\n",
    "print(a and b) # 邏輯AND: 顯示 \"False\"\n",
    "print(a or b)  # 邏輯OR: 顯示\"True\"\n",
    "print(not a)   # 邏輯NOT: 顯示 \"False\""
   ]
  },
  {
   "cell_type": "code",
   "execution_count": 19,
   "metadata": {},
   "outputs": [
    {
     "name": "stdout",
     "output_type": "stream",
     "text": [
      "False\n",
      "True\n",
      "False\n",
      "False\n",
      "True\n",
      "True\n"
     ]
    }
   ],
   "source": [
    "#2_3c : 邏輯值\n",
    "a = 3\n",
    "b = 4\n",
    "print(a == b)  # 相等: 顯示 \"False\"\n",
    "print(a != b)  # 不等: 顯示 \"True\"\n",
    "print(a > b)   # 大於: 顯示 \"False\"\n",
    "print(a >= b)  # 大於等於: 顯示 \"False\"\n",
    "print(a < b)   # 小於: 顯示 \"True\"\n",
    "print(a <= b)  # 小於等於: 顯示 \"True\""
   ]
  },
  {
   "cell_type": "code",
   "execution_count": 24,
   "metadata": {},
   "outputs": [
    {
     "name": "stdout",
     "output_type": "stream",
     "text": [
      "hello\n",
      "5\n",
      "hello python\n",
      "hello python 12\n"
     ]
    }
   ],
   "source": [
    "#2_3d : 字串\n",
    "str1 = 'hello'     # 使用單引號建立字串\n",
    "str2 = \"python\"    # 使用雙引號建立字串\n",
    "print(str1)        # 顯示 \"hello\"\n",
    "print(len(str1))   # 字串長度: 顯示 \"5\"\n",
    "str3 = str1 + ' ' + str2  # 字串連接\n",
    "print(str3)        # 顯示 \"hello python\"\n",
    "str4 = '%s %s %d' % (str1, str2, 12)  # 格式化字串(目前不重要，參閱 https://officeguide.cc/python-string-formatters-tutorial/)\n",
    "print(str4)        # 顯示 \"hello python 12\""
   ]
  },
  {
   "cell_type": "code",
   "execution_count": 25,
   "metadata": {},
   "outputs": [
    {
     "name": "stdout",
     "output_type": "stream",
     "text": [
      "Hello\n",
      "HELLO\n",
      "  hello\n",
      " hello \n",
      "heLLo\n",
      "python\n"
     ]
    }
   ],
   "source": [
    "#2_3e : 字元\n",
    "s = \"hello\"\n",
    "print(s.capitalize())  # 第1個字元大寫: 顯示 \"Hello\"\n",
    "print(s.upper())       # 全部轉成大寫: 顯示 \"HELLO\"\n",
    "print(s.rjust(7))      # 靠右對齊並填入空白字元: 顯示 \"  hello\"\n",
    "print(s.center(7))     # 置中顯示並填入空白字元: 顯示 \" hello \"\n",
    "print(s.replace('l', 'L'))  # 取代字串: 顯示 \"heLLo\"\n",
    "print('  python '.strip())  # 刪除空白字元: 顯示 \"python\""
   ]
  },
  {
   "cell_type": "markdown",
   "metadata": {},
   "source": [
    "# 流程控制"
   ]
  },
  {
   "cell_type": "code",
   "execution_count": 26,
   "metadata": {},
   "outputs": [
    {
     "name": "stdout",
     "output_type": "stream",
     "text": [
      "請輸入氣溫 => 10\n",
      "加件外套!\n",
      "今天氣溫 = 10\n"
     ]
    }
   ],
   "source": [
    "#3_1\n",
    "t = int(input(\"請輸入氣溫 => \"))\n",
    "if t < 20:\n",
    "    print(\"加件外套!\")\n",
    "print(\"今天氣溫 = \" + str(t))"
   ]
  },
  {
   "cell_type": "code",
   "execution_count": 27,
   "metadata": {},
   "outputs": [
    {
     "name": "stdout",
     "output_type": "stream",
     "text": [
      "請輸入成績 => 59\n",
      "成績不及格!\n"
     ]
    }
   ],
   "source": [
    "#3_1a\n",
    "s = int(input(\"請輸入成績 => \"))\n",
    "if s >= 60:\n",
    "    print(\"成績及格!\")\n",
    "else:\n",
    "    print(\"成績不及格!\")"
   ]
  },
  {
   "cell_type": "code",
   "execution_count": 28,
   "metadata": {},
   "outputs": [
    {
     "name": "stdout",
     "output_type": "stream",
     "text": [
      "請輸入年齡 => 66\n",
      "成年人\n"
     ]
    }
   ],
   "source": [
    "#3_1b\n",
    "a = int(input(\"請輸入年齡 => \"))\n",
    "if a < 13:\n",
    "    print(\"兒童\")\n",
    "elif a < 20:\n",
    "    print(\"青少年\")\n",
    "else:\n",
    "    print(\"成年人\")"
   ]
  },
  {
   "cell_type": "code",
   "execution_count": 29,
   "metadata": {},
   "outputs": [
    {
     "name": "stdout",
     "output_type": "stream",
     "text": [
      "輸入24小時制的小時數 => 3\n",
      "目前時間為 = 3\n"
     ]
    }
   ],
   "source": [
    "#3_1c\n",
    "h = int(input(\"輸入24小時制的小時數 => \"))\n",
    "h = h-12 if h >= 12 else h\n",
    "print(\"目前時間為 =\", h)"
   ]
  },
  {
   "cell_type": "code",
   "execution_count": 1,
   "metadata": {},
   "outputs": [
    {
     "name": "stdout",
     "output_type": "stream",
     "text": [
      "請輸入最大值 =>3\n",
      "總和 = 6\n"
     ]
    }
   ],
   "source": [
    "#3_2\n",
    "m = int(input(\"請輸入最大值 =>\"))\n",
    "s = 0\n",
    "for i in range(1, m + 1):\n",
    "    s = s + i\n",
    "print(\"總和 = \" + str(s))"
   ]
  },
  {
   "cell_type": "code",
   "execution_count": 31,
   "metadata": {},
   "outputs": [
    {
     "name": "stdout",
     "output_type": "stream",
     "text": [
      "請輸入階層數 =>5\n",
      "階層值! = 120\n"
     ]
    }
   ],
   "source": [
    "#3_2a\n",
    "m = int(input(\"請輸入階層數 =>\"))\n",
    "r = 1\n",
    "n = 1\n",
    "while n <= m:\n",
    "    r = r * n\n",
    "    n = n + 1\n",
    "print(\"階層值! = \" + str(r))"
   ]
  },
  {
   "cell_type": "markdown",
   "metadata": {},
   "source": [
    "# 函數、模組與套件"
   ]
  },
  {
   "cell_type": "code",
   "execution_count": 32,
   "metadata": {},
   "outputs": [
    {
     "name": "stdout",
     "output_type": "stream",
     "text": [
      "歡迎學習Python程式設計!\n",
      "華氏: 212.0\n",
      "合法!\n"
     ]
    }
   ],
   "source": [
    "#4_1\n",
    "def print_msg():\n",
    "    print(\"歡迎學習Python程式設計!\")\n",
    "\n",
    "def is_valid_num(no):\n",
    "    if no >= 0 and no <= 200.0:\n",
    "        return True\n",
    "    else:\n",
    "        return False\n",
    "\n",
    "def convert_to_f(c):\n",
    "    f = (9.0 * c) / 5.0 + 32.0\n",
    "    return f\n",
    "\n",
    "print_msg()\n",
    "c = 100\n",
    "f = convert_to_f(c)\n",
    "print(\"華氏: \" + str(f))\n",
    "if is_valid_num(c):\n",
    "    print(\"合法!\")\n",
    "else:\n",
    "    print(\"不合法\")"
   ]
  },
  {
   "cell_type": "code",
   "execution_count": 33,
   "metadata": {},
   "outputs": [
    {
     "name": "stdout",
     "output_type": "stream",
     "text": [
      "1~100亂數值: 13\n"
     ]
    }
   ],
   "source": [
    "#4_2\n",
    "import random\n",
    "\n",
    "target = random.randint(1, 100)\n",
    "print(\"1~100亂數值: \" + str(target))"
   ]
  },
  {
   "cell_type": "code",
   "execution_count": 34,
   "metadata": {},
   "outputs": [
    {
     "name": "stdout",
     "output_type": "stream",
     "text": [
      "1~100亂數值: 44\n"
     ]
    }
   ],
   "source": [
    "#4_2a\n",
    "import random as R\n",
    "\n",
    "target = R.randint(1, 100)\n",
    "print(\"1~100亂數值: \" + str(target))"
   ]
  },
  {
   "cell_type": "code",
   "execution_count": 35,
   "metadata": {},
   "outputs": [
    {
     "name": "stdout",
     "output_type": "stream",
     "text": [
      "<html><body><p>Hello World!</p></body></html>\n"
     ]
    }
   ],
   "source": [
    "#4_2b\n",
    "from bs4 import BeautifulSoup\n",
    "\n",
    "html_str = \"<p>Hello World!</p>\"\n",
    "soup = BeautifulSoup(html_str, \"lxml\")\n",
    "print(soup)"
   ]
  },
  {
   "cell_type": "markdown",
   "metadata": {},
   "source": [
    "# 容器型態(清單、字典、集合、元祖)"
   ]
  },
  {
   "cell_type": "code",
   "execution_count": 39,
   "metadata": {},
   "outputs": [
    {
     "name": "stdout",
     "output_type": "stream",
     "text": [
      "[6, 4, 5] 5\n",
      "5\n",
      "[6, 4, 'py']\n",
      "[6, 4, 'py', 'bar']\n",
      "bar [6, 4, 'py']\n"
     ]
    }
   ],
   "source": [
    "#5_1\n",
    "ls = [6, 4, 5]    # 建立清單\n",
    "print(ls, ls[2])  # 顯示 \"[6, 4, 5] 5\"\n",
    "print(ls[-1])     # 負索引從最後開始: 顯示 \"5\"\n",
    "ls[2] = \"py\"      # 指定字串型態的項目\n",
    "print(ls)         # 顯示 \"[6, 4, 'py']\"\n",
    "ls.append(\"bar\")  # 新增項目\n",
    "print(ls)         # 顯示 \"[6, 4, 'py', 'bar']\"\n",
    "ele = ls.pop()    # 取出最後(空白預設最後)項目\n",
    "print(ele, ls)    # 顯示 \"bar [6, 4, 'py']\""
   ]
  },
  {
   "cell_type": "code",
   "execution_count": 41,
   "metadata": {},
   "outputs": [
    {
     "name": "stdout",
     "output_type": "stream",
     "text": [
      "[0, 1, 2, 3, 4]\n",
      "[2, 3]\n",
      "[2, 3, 4]\n",
      "[0, 1]\n",
      "[0, 1, 2, 3, 4]\n",
      "[0, 1, 2, 3]\n",
      "[0, 1, 7, 8, 4]\n"
     ]
    }
   ],
   "source": [
    "#5_1a\n",
    "nums = list(range(5))  # 建立一序列的整數清單\n",
    "print(nums)            # 顯示 \"[0, 1, 2, 3, 4]\"\n",
    "print(nums[2:4])       # 切割索引2~4(不含4): 顯示 \"[2, 3]\"\n",
    "print(nums[2:])        # 切割索引從2至最後: 顯示 \"[2, 3, 4]\"\n",
    "print(nums[:2])        # 切割從開始至索引2(不含2): 顯示 \"[0, 1]\"\n",
    "print(nums[:])         # 切割整個清單: 顯示 \"[0, 1, 2, 3, 4]\"\n",
    "print(nums[:-1])       # 使用負索引切割: 顯示 \"[0, 1, 2, 3]\"\n",
    "nums[2:4] = [7, 8]     # 使用切割來指定子清單\n",
    "print(nums)            # 顯示 \"[0, 1, 7, 8, 4]\""
   ]
  },
  {
   "cell_type": "code",
   "execution_count": 42,
   "metadata": {},
   "outputs": [
    {
     "name": "stdout",
     "output_type": "stream",
     "text": [
      "cat\n",
      "dog\n",
      "bat\n"
     ]
    }
   ],
   "source": [
    "#5_1b\n",
    "animals = ['cat', 'dog', 'bat']\n",
    "for animal in animals:\n",
    "    print(animal)"
   ]
  },
  {
   "cell_type": "code",
   "execution_count": 43,
   "metadata": {},
   "outputs": [
    {
     "name": "stdout",
     "output_type": "stream",
     "text": [
      "0 cat\n",
      "1 dog\n",
      "2 bat\n"
     ]
    }
   ],
   "source": [
    "#5_1c\n",
    "animals = ['cat', 'dog', 'bat']\n",
    "for index, animal in enumerate(animals): #enumerate參數為可遍歷/可叠代的對象(如列表、字符串)，多用於在for循環中\n",
    "    print(index, animal)"
   ]
  },
  {
   "cell_type": "code",
   "execution_count": 44,
   "metadata": {},
   "outputs": [
    {
     "name": "stdout",
     "output_type": "stream",
     "text": [
      "[x for x in range(10)]\n",
      "[0, 1, 2, 3, 4, 5, 6, 7, 8, 9]\n",
      "[x+1 for x in range(10)]\n",
      "[1, 2, 3, 4, 5, 6, 7, 8, 9, 10]\n",
      "[x for x in range(10) if x%2==0]\n",
      "[0, 2, 4, 6, 8]\n",
      "[x*2 for x in range(10) if x%2==0]\n",
      "[0, 4, 8, 12, 16]\n"
     ]
    }
   ],
   "source": [
    "#5_1d\n",
    "list1 = [x for x in range(10)]\n",
    "print(\"[x for x in range(10)]\")\n",
    "print(str(list1))\n",
    "list2 = [x+1 for x in range(10)]\n",
    "print(\"[x+1 for x in range(10)]\")\n",
    "print(str(list2))\n",
    "list3 = [x for x in range(10) if x % 2 == 0]\n",
    "print(\"[x for x in range(10) if x%2==0]\")\n",
    "print(str(list3))\n",
    "list4 = [x*2 for x in range(10) if x % 2 == 0]\n",
    "print(\"[x*2 for x in range(10) if x%2==0]\")\n",
    "print(str(list4))"
   ]
  },
  {
   "cell_type": "code",
   "execution_count": 45,
   "metadata": {},
   "outputs": [
    {
     "name": "stdout",
     "output_type": "stream",
     "text": [
      "white\n",
      "True\n",
      "pink\n",
      "N/A\n",
      "pink\n",
      "N/A\n"
     ]
    }
   ],
   "source": [
    "#5_2\n",
    "d = {\"cat\": \"white\", \"dog\": \"black\"}  # 建立字典\n",
    "print(d[\"cat\"])       # 使用Key取得項目: 顯示 \"white\"\n",
    "print(\"cat\" in d)     # 是否有Key: 顯示 \"True\"\n",
    "d[\"pig\"] = \"pink\"     # 新增項目\n",
    "print(d[\"pig\"])       # 顯示 \"pink\"\n",
    "print(d.get(\"monkey\", \"N/A\"))  # 取出項目+預設值: 顯示 \"N/A\"\n",
    "print(d.get(\"pig\", \"N/A\"))     # 取出項目+預設值: 顯示 \"pink\"\n",
    "del d[\"pig\"]          # 使用Key刪除項目\n",
    "print(d.get(\"pig\", \"N/A\"))     # \"pig\"不存在: 顯示 \"N/A\""
   ]
  },
  {
   "cell_type": "code",
   "execution_count": 46,
   "metadata": {},
   "outputs": [
    {
     "name": "stdout",
     "output_type": "stream",
     "text": [
      "chicken 2\n",
      "dog 4\n",
      "cat 4\n",
      "spider 8\n"
     ]
    }
   ],
   "source": [
    "#5_2a\n",
    "d = {\"chicken\": 2, \"dog\": 4, \"cat\": 4, \"spider\": 8}\n",
    "for animal in d:\n",
    "    legs = d[animal]\n",
    "    print(animal, legs)"
   ]
  },
  {
   "cell_type": "code",
   "execution_count": 47,
   "metadata": {},
   "outputs": [
    {
     "name": "stdout",
     "output_type": "stream",
     "text": [
      "動物: chicken 有 2 隻腳\n",
      "動物: dog 有 4 隻腳\n",
      "動物: cat 有 4 隻腳\n",
      "動物: spider 有 8 隻腳\n"
     ]
    }
   ],
   "source": [
    "#5_2b\n",
    "d = {\"chicken\": 2, \"dog\": 4, \"cat\": 4, \"spider\": 8}\n",
    "for animal, legs in d.items():\n",
    "    print(\"動物: %s 有 %d 隻腳\" % (animal, legs))"
   ]
  },
  {
   "cell_type": "code",
   "execution_count": 48,
   "metadata": {},
   "outputs": [
    {
     "name": "stdout",
     "output_type": "stream",
     "text": [
      "{x:x*x for x in range(10)}\n",
      "{0: 0, 1: 1, 2: 4, 3: 9, 4: 16, 5: 25, 6: 36, 7: 49, 8: 64, 9: 81}\n",
      "{x:x*x for x in range(11) if x%2==1}\n",
      "{1: 1, 3: 9, 5: 25, 7: 49, 9: 81}\n"
     ]
    }
   ],
   "source": [
    "#5_2c\n",
    "d1 = {x:x*x for x in range(10)}\n",
    "print(\"{x:x*x for x in range(10)}\")\n",
    "print(str(d1))\n",
    "d2 = {x:x*x for x in range(10) if x % 2 == 1}\n",
    "print(\"{x:x*x for x in range(11) if x%2==1}\")\n",
    "print(str(d2))"
   ]
  },
  {
   "cell_type": "code",
   "execution_count": 49,
   "metadata": {},
   "outputs": [
    {
     "name": "stdout",
     "output_type": "stream",
     "text": [
      "True\n",
      "False\n",
      "True\n",
      "4\n",
      "4\n",
      "3\n"
     ]
    }
   ],
   "source": [
    "#5_3\n",
    "animals = {\"cat\", \"dog\", \"pig\"} # 建立集合\n",
    "print(\"cat\" in animals)   # 檢查是否有此元素: 顯示 \"True\"\n",
    "print(\"fish\" in animals)  # 顯示 \"False\"\n",
    "animals.add(\"fish\")       # 新增集合元素\n",
    "print(\"fish\" in animals)  # 顯示 \"True\"\n",
    "print(len(animals))       # 元素數: 顯示 \"4\"\n",
    "animals.add(\"cat\")        # 新增存在的元素\n",
    "print(len(animals))       # 顯示 \"4\"\n",
    "animals.remove('cat')     # 刪除集合元素\n",
    "print(len(animals))       # 顯示 \"3\""
   ]
  },
  {
   "cell_type": "code",
   "execution_count": 50,
   "metadata": {},
   "outputs": [
    {
     "name": "stdout",
     "output_type": "stream",
     "text": [
      "#1: pig\n",
      "#2: cat\n",
      "#3: fish\n",
      "#4: dog\n"
     ]
    }
   ],
   "source": [
    "#5_3a\n",
    "animals = {\"cat\", \"dog\", \"pig\", \"fish\"} # 建立集合\n",
    "for index, animal in enumerate(animals):\n",
    "    print('#%d: %s' % (index + 1, animal))"
   ]
  },
  {
   "cell_type": "code",
   "execution_count": 51,
   "metadata": {},
   "outputs": [
    {
     "name": "stdout",
     "output_type": "stream",
     "text": [
      "A = {1, 2, 3, 4, 5}\n",
      "B = {4, 5, 6, 7, 8}\n",
      "A & B = {4, 5}\n",
      "A.intersection(B) = {4, 5}\n",
      "A | B = {1, 2, 3, 4, 5, 6, 7, 8}\n",
      "A.union(B) = {1, 2, 3, 4, 5, 6, 7, 8}\n",
      "A - B = {1, 2, 3}\n",
      "A.difference(B) = {1, 2, 3}\n",
      "A ^ B = {1, 2, 3, 6, 7, 8}\n",
      "A.symmetric_difference(B) = {1, 2, 3, 6, 7, 8}\n"
     ]
    }
   ],
   "source": [
    "#5_3b\n",
    "A = {1, 2, 3, 4, 5}\n",
    "B = {4, 5, 6, 7, 8}\n",
    "print(\"A = \" + str(A))\n",
    "print(\"B = \" + str(B))\n",
    "# 交集\n",
    "C = A & B\n",
    "print(\"A & B = \" + str(C))\n",
    "C = A.intersection(B)\n",
    "print(\"A.intersection(B) = \" + str(C))\n",
    "# 聯集\n",
    "C = A | B\n",
    "print(\"A | B = \" + str(C))\n",
    "C = A.union(B)\n",
    "print(\"A.union(B) = \" + str(C))\n",
    "# 差集\n",
    "C = A - B\n",
    "print(\"A - B = \" + str(C))\n",
    "C = A.difference(B)\n",
    "print(\"A.difference(B) = \" + str(C))\n",
    "# 對稱差集\n",
    "C = A ^ B\n",
    "print(\"A ^ B = \" + str(C))\n",
    "C = A.symmetric_difference(B)\n",
    "print(\"A.symmetric_difference(B) = \" + str(C))"
   ]
  },
  {
   "cell_type": "code",
   "execution_count": 52,
   "metadata": {},
   "outputs": [
    {
     "name": "stdout",
     "output_type": "stream",
     "text": [
      "<class 'tuple'>\n",
      "(5, 6, 7, 8)\n",
      "5\n",
      "6\n",
      "8\n",
      "7\n",
      "5 6 7 8 "
     ]
    }
   ],
   "source": [
    "#5_4\n",
    "t = (5, 6, 7, 8)  # 建立元組\n",
    "print(type(t))    # 顯示 \"<class 'tuple'>\"\n",
    "print(t)          # 顯示 \"(5, 6, 7, 8)\"\n",
    "print(t[0])       # 顯示 \"5\"\n",
    "print(t[1])       # 顯示 \"6\"\n",
    "print(t[-1])      # 顯示 \"8\"\n",
    "print(t[-2])      # 顯示 \"7\"\n",
    "for ele in t:     # 走訪項目\n",
    "    print(ele, end=\" \")  # 顯示 \"5, 6, 7, 8\""
   ]
  },
  {
   "cell_type": "markdown",
   "metadata": {},
   "source": [
    "# 類別與物件"
   ]
  },
  {
   "cell_type": "code",
   "execution_count": 53,
   "metadata": {},
   "outputs": [
    {
     "name": "stdout",
     "output_type": "stream",
     "text": [
      "姓名 = 陳會安\n",
      "成績 = 85\n",
      "s1.whoami() = 陳會安\n",
      "s1.name = 陳會安\n",
      "s1.grade = 85\n"
     ]
    }
   ],
   "source": [
    "#6_1\n",
    "# 定義Student類別\n",
    "class Student:\n",
    "    # 建構子\n",
    "    def __init__(self, name, grade):\n",
    "        self.name = name\n",
    "        self.grade = grade\n",
    "    # 方法\n",
    "    def displayStudent(self):\n",
    "        print(\"姓名 = \" + self.name)\n",
    "        print(\"成績 = \" + str(self.grade))\n",
    "        \n",
    "    def whoami(self):\n",
    "        return self.name\n",
    "\n",
    "# 使用類別建立物件\n",
    "s1 = Student(\"陳會安\", 85)\n",
    "s1.displayStudent()  # 呼叫方法\n",
    "print(\"s1.whoami() = \" + s1.whoami())\n",
    "# 存取資料欄位\n",
    "print(\"s1.name = \" + s1.name)\n",
    "print(\"s1.grade = \" + str(s1.grade))"
   ]
  },
  {
   "cell_type": "code",
   "execution_count": 54,
   "metadata": {},
   "outputs": [
    {
     "name": "stdout",
     "output_type": "stream",
     "text": [
      "姓名 = 陳會安\n",
      "成績 = 85\n",
      "s1.name = 陳會安\n"
     ]
    }
   ],
   "source": [
    "#6_2\n",
    "# 定義Student類別\n",
    "class Student:\n",
    "    # 建構子\n",
    "    def __init__(self, name, grade):\n",
    "        self.name = name\n",
    "        self.__grade = grade\n",
    "    # 方法\n",
    "    def displayStudent(self):\n",
    "        print(\"姓名 = \" + self.name)\n",
    "        print(\"成績 = \" + str(self.__getGrade()))\n",
    "        \n",
    "    def __getGrade(self):\n",
    "        return self.__grade\n",
    "\n",
    "# 使用類別建立物件\n",
    "s1 = Student(\"陳會安\", 85)\n",
    "s1.displayStudent()  # 呼叫方法\n",
    "# print(\"s1.__getGrade() = \" + str(s1.__getGrade()))\n",
    "# 存取資料欄位\n",
    "print(\"s1.name = \" + s1.name)\n",
    "# print(s1.__grade)"
   ]
  },
  {
   "cell_type": "code",
   "execution_count": null,
   "metadata": {},
   "outputs": [],
   "source": []
  }
 ],
 "metadata": {
  "kernelspec": {
   "display_name": "Python 3",
   "language": "python",
   "name": "python3"
  },
  "language_info": {
   "codemirror_mode": {
    "name": "ipython",
    "version": 3
   },
   "file_extension": ".py",
   "mimetype": "text/x-python",
   "name": "python",
   "nbconvert_exporter": "python",
   "pygments_lexer": "ipython3",
   "version": "3.7.1"
  }
 },
 "nbformat": 4,
 "nbformat_minor": 2
}
