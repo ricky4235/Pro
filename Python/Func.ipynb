{
 "cells": [
  {
   "cell_type": "markdown",
   "metadata": {},
   "source": [
    "# Function (函式)-def&return"
   ]
  },
  {
   "cell_type": "code",
   "execution_count": 2,
   "metadata": {},
   "outputs": [
    {
     "data": {
      "text/plain": [
       "333"
      ]
     },
     "execution_count": 2,
     "metadata": {},
     "output_type": "execute_result"
    }
   ],
   "source": [
    "#函式（function）是重複使用的程式區塊，有輸入輸出。在 Python 中我們會使用 def 來自行定義函式\n",
    "def sum (x, y):\n",
    "    return x + y\n",
    "sum(111,222)"
   ]
  },
  {
   "cell_type": "code",
   "execution_count": 3,
   "metadata": {},
   "outputs": [],
   "source": [
    "#常見內建函式"
   ]
  },
  {
   "cell_type": "code",
   "execution_count": 6,
   "metadata": {},
   "outputs": [
    {
     "name": "stdout",
     "output_type": "stream",
     "text": [
      "True\n",
      "False\n",
      "True\n"
     ]
    }
   ],
   "source": [
    "#any(): 回傳布林值, 只要argument有一為真(True or 1), 即回傳True.\n",
    "a1 = (1,0,0,0)\n",
    "a2 = (0,0,0,0)\n",
    "a3 = (1,1,1,1)\n",
    "print(any(a1))\n",
    "print(any(a2))\n",
    "print(any(a3))"
   ]
  },
  {
   "cell_type": "code",
   "execution_count": 8,
   "metadata": {},
   "outputs": [
    {
     "name": "stdout",
     "output_type": "stream",
     "text": [
      "False\n",
      "False\n",
      "True\n"
     ]
    }
   ],
   "source": [
    "#all(): 回傳布林值, argument全為真(True or 1), 才回傳True.\n",
    "print(all(a1))\n",
    "print(all(a2))\n",
    "print(all(a3))"
   ]
  },
  {
   "cell_type": "code",
   "execution_count": 9,
   "metadata": {
    "scrolled": false
   },
   "outputs": [
    {
     "ename": "SyntaxError",
     "evalue": "illegal target for annotation (<ipython-input-9-ebe68d2bc595>, line 2)",
     "output_type": "error",
     "traceback": [
      "\u001b[1;36m  File \u001b[1;32m\"<ipython-input-9-ebe68d2bc595>\"\u001b[1;36m, line \u001b[1;32m2\u001b[0m\n\u001b[1;33m    bin(): 轉成二進位\u001b[0m\n\u001b[1;37m                ^\u001b[0m\n\u001b[1;31mSyntaxError\u001b[0m\u001b[1;31m:\u001b[0m illegal target for annotation\n"
     ]
    }
   ],
   "source": [
    "#型態轉換函數\n",
    "bin(): 轉成二進位\n",
    "bool(): 轉成布林值\n",
    "int(): 轉成整數\n",
    "str(): 轉成字串\n",
    "float(): 轉成浮點數\n",
    "list(): 轉成list\n",
    "tuple(): 轉成tuple\n",
    "dict(): 轉成dict"
   ]
  },
  {
   "cell_type": "code",
   "execution_count": 34,
   "metadata": {
    "scrolled": true
   },
   "outputs": [
    {
     "name": "stdout",
     "output_type": "stream",
     "text": [
      "[6, 12]\n"
     ]
    }
   ],
   "source": [
    "#filter(function,sequence): 將sequence中的每個元素，依次傳進function函式\n",
    "#（可以自定義，返回的結果是True或者False）篩選，\n",
    "#返回符合條件的元素，重組成一個String,List,Tuple等（跟sequence一樣）\n",
    "\n",
    "def func(x):\n",
    "    return x % 2 == 0 and x % 3 == 0\n",
    "newfunc = (filter(func, [3,6,8,12,15,21]))\n",
    "print(list(newfunc))"
   ]
  },
  {
   "cell_type": "code",
   "execution_count": 35,
   "metadata": {
    "scrolled": true
   },
   "outputs": [
    {
     "name": "stdout",
     "output_type": "stream",
     "text": [
      "[1, 3, 5, 7, 9]\n"
     ]
    }
   ],
   "source": [
    "def is_odd(n):\n",
    "    return n % 2 == 1\n",
    "newlist = filter(is_odd, [1, 2, 3, 4, 5, 6, 7, 8, 9, 10])\n",
    "print(list(newlist))"
   ]
  },
  {
   "cell_type": "code",
   "execution_count": 36,
   "metadata": {},
   "outputs": [
    {
     "name": "stdout",
     "output_type": "stream",
     "text": [
      "[2, 4, 6, 8, 10]\n"
     ]
    }
   ],
   "source": [
    "def is_even(v):\n",
    "    return v % 2 == 0\n",
    "newlist = filter(is_even, [1, 2, 3, 4, 5, 6, 7, 8, 9, 10])\n",
    "print(list(newlist))"
   ]
  },
  {
   "cell_type": "code",
   "execution_count": 3,
   "metadata": {},
   "outputs": [
    {
     "name": "stdout",
     "output_type": "stream",
     "text": [
      "[6, 12, 16, 24, 30, 42]\n"
     ]
    }
   ],
   "source": [
    "#map(functiom,sequence): 將sequence中的每個元素，依次傳進function函式\n",
    "#（可以自定義，返回的結果是數值）計算，\n",
    "#無論sequence是什麼型別，都返回List\n",
    "\n",
    "def func(x):\n",
    "  return x*2\n",
    "m = map(func,(3,6,8,12,15,21))\n",
    "print(list(m))"
   ]
  },
  {
   "cell_type": "code",
   "execution_count": 4,
   "metadata": {},
   "outputs": [
    {
     "name": "stdout",
     "output_type": "stream",
     "text": [
      "[9, 10, 7, 15]\n"
     ]
    }
   ],
   "source": [
    "def func(x,y):\n",
    "  return x+y\n",
    "seq1=[3,6,4,8]\n",
    "seq2=[6,4,3,7]\n",
    "mm = map(func,seq1,seq2)\n",
    "print(list(mm))"
   ]
  },
  {
   "cell_type": "code",
   "execution_count": 6,
   "metadata": {},
   "outputs": [
    {
     "ename": "NameError",
     "evalue": "name 'reduce' is not defined",
     "output_type": "error",
     "traceback": [
      "\u001b[1;31m---------------------------------------------------------------------------\u001b[0m",
      "\u001b[1;31mNameError\u001b[0m                                 Traceback (most recent call last)",
      "\u001b[1;32m<ipython-input-6-c3a0abccdbf6>\u001b[0m in \u001b[0;36m<module>\u001b[1;34m\u001b[0m\n\u001b[0;32m      4\u001b[0m \u001b[1;32mdef\u001b[0m \u001b[0madd\u001b[0m\u001b[1;33m(\u001b[0m\u001b[0mx\u001b[0m\u001b[1;33m,\u001b[0m\u001b[0my\u001b[0m\u001b[1;33m)\u001b[0m\u001b[1;33m:\u001b[0m\u001b[1;33m\u001b[0m\u001b[1;33m\u001b[0m\u001b[0m\n\u001b[0;32m      5\u001b[0m   \u001b[1;32mreturn\u001b[0m \u001b[0mx\u001b[0m\u001b[1;33m+\u001b[0m\u001b[0my\u001b[0m\u001b[1;33m\u001b[0m\u001b[1;33m\u001b[0m\u001b[0m\n\u001b[1;32m----> 6\u001b[1;33m \u001b[0mr\u001b[0m \u001b[1;33m=\u001b[0m \u001b[0mreduce\u001b[0m\u001b[1;33m(\u001b[0m\u001b[0madd\u001b[0m\u001b[1;33m,\u001b[0m\u001b[1;33m[\u001b[0m\u001b[1;36m3\u001b[0m\u001b[1;33m,\u001b[0m\u001b[1;36m6\u001b[0m\u001b[1;33m,\u001b[0m\u001b[1;36m4\u001b[0m\u001b[1;33m,\u001b[0m\u001b[1;36m8\u001b[0m\u001b[1;33m]\u001b[0m\u001b[1;33m)\u001b[0m\u001b[1;33m\u001b[0m\u001b[1;33m\u001b[0m\u001b[0m\n\u001b[0m\u001b[0;32m      7\u001b[0m \u001b[0mprint\u001b[0m\u001b[1;33m(\u001b[0m\u001b[0mr\u001b[0m\u001b[1;33m)\u001b[0m\u001b[1;33m\u001b[0m\u001b[1;33m\u001b[0m\u001b[0m\n",
      "\u001b[1;31mNameError\u001b[0m: name 'reduce' is not defined"
     ]
    }
   ],
   "source": [
    "#reduce(function, sequence, starting_value): \n",
    "#將sequence中的item順序迭代呼叫function，例如可以用來對List求和：\n",
    "\n",
    "def add(x,y):\n",
    "  return x+y\n",
    "r = reduce(add,[3,6,4,8])\n",
    "print(r)"
   ]
  },
  {
   "cell_type": "code",
   "execution_count": 1,
   "metadata": {
    "scrolled": true
   },
   "outputs": [
    {
     "ename": "NameError",
     "evalue": "name 'reduce' is not defined",
     "output_type": "error",
     "traceback": [
      "\u001b[1;31m---------------------------------------------------------------------------\u001b[0m",
      "\u001b[1;31mNameError\u001b[0m                                 Traceback (most recent call last)",
      "\u001b[1;32m<ipython-input-1-d944bf45a178>\u001b[0m in \u001b[0;36m<module>\u001b[1;34m\u001b[0m\n\u001b[0;32m      1\u001b[0m \u001b[1;32mdef\u001b[0m \u001b[0msubtract\u001b[0m\u001b[1;33m(\u001b[0m\u001b[0mx\u001b[0m\u001b[1;33m,\u001b[0m\u001b[0my\u001b[0m\u001b[1;33m)\u001b[0m\u001b[1;33m:\u001b[0m\u001b[1;33m\u001b[0m\u001b[1;33m\u001b[0m\u001b[0m\n\u001b[0;32m      2\u001b[0m   \u001b[1;32mreturn\u001b[0m \u001b[0mx\u001b[0m\u001b[1;33m-\u001b[0m\u001b[0my\u001b[0m\u001b[1;33m\u001b[0m\u001b[1;33m\u001b[0m\u001b[0m\n\u001b[1;32m----> 3\u001b[1;33m \u001b[0mreduce\u001b[0m\u001b[1;33m(\u001b[0m\u001b[0msubtract\u001b[0m\u001b[1;33m,\u001b[0m\u001b[1;33m[\u001b[0m\u001b[1;36m3\u001b[0m\u001b[1;33m,\u001b[0m\u001b[1;36m6\u001b[0m\u001b[1;33m,\u001b[0m\u001b[1;36m4\u001b[0m\u001b[1;33m]\u001b[0m\u001b[1;33m,\u001b[0m\u001b[1;36m20\u001b[0m\u001b[1;33m)\u001b[0m\u001b[1;33m\u001b[0m\u001b[1;33m\u001b[0m\u001b[0m\n\u001b[0m",
      "\u001b[1;31mNameError\u001b[0m: name 'reduce' is not defined"
     ]
    }
   ],
   "source": [
    "def subtract(x,y):\n",
    "  return x-y\n",
    "reduce(subtract,[3,6,4],20)"
   ]
  },
  {
   "cell_type": "code",
   "execution_count": 20,
   "metadata": {
    "scrolled": false
   },
   "outputs": [
    {
     "name": "stdout",
     "output_type": "stream",
     "text": [
      "6\n",
      "6\n"
     ]
    }
   ],
   "source": [
    "#lambda匿名函式: 簡易的 function define\n",
    "#用完即丟，不著痕跡。讓你實作出很簡單的 function(只處理一個運算式)\n",
    "#lambda param1, param2, ... : expression\n",
    "#其中的 expression不能放=等號。因為它就這麼簡單，別把它搞複雜化嘛~\n",
    "#其實就等於  def fun( param1, param2, ... ) :\n",
    "#               return expression\n",
    "#lambda 在某些方面而言確實是很好用，但是也不能濫用，否則可能造成程式的可讀性降低。\n",
    "\n",
    "def f(x, y, z):\n",
    "    return x + y + z\n",
    "print(f(1,2,3))\n",
    "\n",
    "ff = lambda x,y,z : x+y+z\n",
    "print(ff(1,2,3))"
   ]
  },
  {
   "cell_type": "code",
   "execution_count": 11,
   "metadata": {},
   "outputs": [
    {
     "name": "stdout",
     "output_type": "stream",
     "text": [
      "False\n",
      "True\n"
     ]
    }
   ],
   "source": [
    "f = lambda x: x > 10  #lambda 函數可以包含 if 語句\n",
    "\n",
    "print(f(2))\n",
    "print(f(12))"
   ]
  },
  {
   "cell_type": "code",
   "execution_count": 24,
   "metadata": {},
   "outputs": [
    {
     "name": "stdout",
     "output_type": "stream",
     "text": [
      "[1, 4, 9]\n"
     ]
    }
   ],
   "source": [
    "#也可以應用在 map 上\n",
    "my_list = [1, 2, 3]\n",
    "m = map( lambda i: i * i, my_list )\n",
    "print(list(m))"
   ]
  },
  {
   "cell_type": "markdown",
   "metadata": {},
   "source": [
    "# return 的用法"
   ]
  },
  {
   "cell_type": "markdown",
   "metadata": {},
   "source": [
    "return 語句就是將結果返回到調用該def的地方，並把程序的控制權一起返回\n",
    "\n",
    "程序運行到所遇到的第一個return即返回（退出def塊），不會再運行第二個return。"
   ]
  },
  {
   "cell_type": "code",
   "execution_count": 16,
   "metadata": {},
   "outputs": [
    {
     "name": "stdout",
     "output_type": "stream",
     "text": [
      "(3, 3)\n",
      "None\n"
     ]
    }
   ],
   "source": [
    "#要返回兩個數值，寫成一行即可：\n",
    "def a(x,y):\n",
    "     if x== y:\n",
    "         return x,y\n",
    "    \n",
    "print(a(3,3))\n",
    "print(a(1,3))"
   ]
  },
  {
   "cell_type": "code",
   "execution_count": null,
   "metadata": {},
   "outputs": [],
   "source": []
  },
  {
   "cell_type": "code",
   "execution_count": 20,
   "metadata": {},
   "outputs": [
    {
     "name": "stdout",
     "output_type": "stream",
     "text": [
      "9\n",
      "0\n"
     ]
    }
   ],
   "source": [
    "#但是也並不意味著一個函數中只能有一個return 語句，例如：\n",
    "def test_return(x):\n",
    "     if x > 0:\n",
    "         return x\n",
    "     else :\n",
    "         return 0\n",
    "    \n",
    "print(test_return(9))\n",
    "print(test_return(-1))"
   ]
  },
  {
   "cell_type": "code",
   "execution_count": 13,
   "metadata": {},
   "outputs": [
    {
     "name": "stdout",
     "output_type": "stream",
     "text": [
      "8\n",
      "None\n"
     ]
    }
   ],
   "source": [
    "#函數沒有return，默認return一個None 對象。\n",
    "def gcd(a,b):\n",
    "      if a%b== 0:\n",
    "          return b\n",
    "      else :\n",
    "         gcd(b,a %b)\n",
    "\n",
    "print(gcd(0, 8))\n",
    "print(gcd(4, 8))\n",
    "#分析：else 中沒有return 就沒有出口，這個程序是自己內部運行，程序沒有返回值，"
   ]
  },
  {
   "cell_type": "code",
   "execution_count": 43,
   "metadata": {},
   "outputs": [
    {
     "name": "stdout",
     "output_type": "stream",
     "text": [
      "3\n",
      "================\n",
      "None\n"
     ]
    }
   ],
   "source": [
    "#在交互模式下，return的結果會自動打印出來，而作為腳本單獨運行時則需要print函數才能顯示。\n",
    "x = 1 \n",
    "y = 2\n",
    "def add (x, y):\n",
    "    z = x + y\n",
    "    return z\n",
    "print(add(x,y))\n",
    "print(\"================\")\n",
    "\n",
    "x = 1 \n",
    "y = 2\n",
    "def add (x, y):\n",
    "    z = x + y\n",
    "\n",
    "print(add(x,y))"
   ]
  },
  {
   "cell_type": "code",
   "execution_count": 52,
   "metadata": {},
   "outputs": [
    {
     "name": "stdout",
     "output_type": "stream",
     "text": [
      "98\n",
      "99\n",
      "ok\n"
     ]
    }
   ],
   "source": [
    "#默認情況下，遇見return 函數就會返回給調用者，但是try，finally情況除外：\n",
    "def func():\n",
    "    try : \n",
    "        print(98)  \n",
    "        return  'ok'  #函數得到了一個返回值   \n",
    "    finally : # finally語句塊中的語句依然會執行   \n",
    "        print(99)  \n",
    "\n",
    "print(func())  "
   ]
  },
  {
   "cell_type": "code",
   "execution_count": 55,
   "metadata": {},
   "outputs": [
    {
     "name": "stdout",
     "output_type": "stream",
     "text": [
      "<class 'function'>\n",
      "45\n"
     ]
    }
   ],
   "source": [
    "#函數作為返回值返回:\n",
    "def lazy_sum(* args):\n",
    "    def sum():\n",
    "        x = 0 \n",
    "        for n in args:\n",
    "            x =x+ n\n",
    "        return x\n",
    "    return sum\n",
    "\n",
    "\n",
    "\n",
    "lazy_sum( 1 , 2 , 3 , 4 , 5 , 6 , 7 , 8 , 9 ) #這時候lazy_sum並沒有執行，而是返回一個指向求和的函數的函數名sum的內存地址。\n",
    "f =lazy_sum( 1 , 2 , 3 , 4 , 5 , 6 , 7 , 8 , 9 )\n",
    "print(type(f))\n",
    "print(f()) # 調用f()函數，才真正調用了sum 函數進行求和，\n",
    "#這其實就是閉包。"
   ]
  },
  {
   "cell_type": "code",
   "execution_count": 57,
   "metadata": {},
   "outputs": [
    {
     "name": "stdout",
     "output_type": "stream",
     "text": [
      "9\n",
      "9\n",
      "9\n"
     ]
    }
   ],
   "source": [
    "#返回一個函數列表：\n",
    "def count():\n",
    "    fs = []\n",
    "    for i in range( 1 , 4 ):\n",
    "        def f():\n",
    "            return i* i\n",
    "        fs.append(f)\n",
    "    return fs\n",
    "\n",
    "\n",
    "f1, f2, f3 = count()\n",
    "print(f1())\n",
    "print(f2())\n",
    "print(f3())"
   ]
  },
  {
   "cell_type": "code",
   "execution_count": null,
   "metadata": {},
   "outputs": [],
   "source": [
    "執行過程：\n",
    "當i=1,執行for循環，結果返回函數f的函數地址，存在列表fs中的第一個位置上。\n",
    "當i=2,由於fs列表中第一個元素所指的函數中的i是count函數的局部變量，i也指向了2；\n",
    "      然後執行for循環，結果返回函數f的函數地址，存在列表fs中的第二個位置上。\n",
    "當i=3,同理，在fs列表第一個和第二個元素所指的函數中的i變量指向了3；然後執行for循環，\n",
    "      結果返回函數f的函數地址，存在列表fs中的第三個位置上。\n",
    "所以在調用f1()的時候,函數中的i是指向3的：\n",
    "  f1(): \n",
    "     return 3*3 \n",
    "同理f2(), f3()結果都為9 \n",
    "閉包時牢記的一點就是：返回函數不要引用任何循環變量，或者後續會發生變化的變量。\n",
    "即包在裡面的函數（本例為f()），不要引用外部函數(本例為count())的任何循環變量\n",
    "\n",
    "如果一定要引入循環變量，方法是再創建一個函數，用該函數的參數綁定循環變量當前的值，\n",
    "無論該循環變量後續如何更改，已綁定到函數參數的值不變："
   ]
  },
  {
   "cell_type": "code",
   "execution_count": 60,
   "metadata": {},
   "outputs": [
    {
     "name": "stdout",
     "output_type": "stream",
     "text": [
      "1\n",
      "4\n",
      "9\n"
     ]
    }
   ],
   "source": [
    "def count():\n",
    "    fs = []\n",
    "    for i in range( 1 , 4 ):\n",
    "        def f(j):\n",
    "            def g():\n",
    "                return j* j\n",
    "            return g\n",
    "        fs.append(f(i))\n",
    "    return fs\n",
    "\n",
    "f1,f2,f3 = count()\n",
    "print(f1())\n",
    "print(f2())\n",
    "print(f3())"
   ]
  },
  {
   "cell_type": "code",
   "execution_count": null,
   "metadata": {},
   "outputs": [],
   "source": []
  },
  {
   "cell_type": "code",
   "execution_count": null,
   "metadata": {},
   "outputs": [],
   "source": []
  }
 ],
 "metadata": {
  "kernelspec": {
   "display_name": "Python 3",
   "language": "python",
   "name": "python3"
  },
  "language_info": {
   "codemirror_mode": {
    "name": "ipython",
    "version": 3
   },
   "file_extension": ".py",
   "mimetype": "text/x-python",
   "name": "python",
   "nbconvert_exporter": "python",
   "pygments_lexer": "ipython3",
   "version": "3.7.1"
  }
 },
 "nbformat": 4,
 "nbformat_minor": 2
}
