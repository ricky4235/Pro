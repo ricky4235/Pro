{
 "cells": [
  {
   "cell_type": "code",
   "execution_count": null,
   "metadata": {},
   "outputs": [],
   "source": [
    "String Processing"
   ]
  },
  {
   "cell_type": "code",
   "execution_count": null,
   "metadata": {},
   "outputs": [],
   "source": [
    "# 定義字串"
   ]
  },
  {
   "cell_type": "code",
   "execution_count": 57,
   "metadata": {},
   "outputs": [
    {
     "name": "stdout",
     "output_type": "stream",
     "text": [
      "           # 可用三重引號跨行定義字串\n",
      "abc\n",
      "xyz\n",
      "\n"
     ]
    }
   ],
   "source": [
    "x = \"abc\"         # 可用雙引號定義\n",
    "x = 'abc'         # 也可用單引號定義\n",
    "x = \"\"\"           # 可用三重引號跨行定義字串\n",
    "abc\n",
    "xyz\n",
    "\"\"\"\n",
    "\n",
    "print(x)"
   ]
  },
  {
   "cell_type": "code",
   "execution_count": 58,
   "metadata": {},
   "outputs": [
    {
     "data": {
      "text/plain": [
       "'           # 可用三重引號跨行定義字串\\nabc\\nxyz\\n'"
      ]
     },
     "execution_count": 58,
     "metadata": {},
     "output_type": "execute_result"
    }
   ],
   "source": [
    "x"
   ]
  },
  {
   "cell_type": "code",
   "execution_count": null,
   "metadata": {},
   "outputs": [],
   "source": [
    "# 產生字串"
   ]
  },
  {
   "cell_type": "code",
   "execution_count": 9,
   "metadata": {},
   "outputs": [
    {
     "name": "stdout",
     "output_type": "stream",
     "text": [
      "The value of pi is 3.14*2\n"
     ]
    }
   ],
   "source": [
    "pi=3.14\n",
    "x =\"*2\"\n",
    "str(pi)\n",
    "print(\"The value of pi is \" + str(pi)+str(x))"
   ]
  },
  {
   "cell_type": "code",
   "execution_count": null,
   "metadata": {},
   "outputs": [],
   "source": [
    "字串格式化:大小寫轉換"
   ]
  },
  {
   "cell_type": "code",
   "execution_count": 19,
   "metadata": {},
   "outputs": [
    {
     "name": "stdout",
     "output_type": "stream",
     "text": [
      "BHKLOY\n",
      "bhkloy\n",
      "Bhkloy\n",
      "Bhkloy\n",
      "BhKLOy\n"
     ]
    }
   ],
   "source": [
    "fox = \"bHkloY\"\n",
    "print(fox.upper()  )     #全部字元轉成大寫\n",
    "print(fox.lower()  )     #全部字元轉成小寫\n",
    "print(fox.title()    )   #首字轉成大寫\n",
    "print(fox.capitalize() )   #每個字詞的首字轉成大寫\n",
    "print(fox.swapcase() )  #將大小寫顛倒"
   ]
  },
  {
   "cell_type": "code",
   "execution_count": null,
   "metadata": {},
   "outputs": [],
   "source": [
    "字串格式化:新增和刪除空格"
   ]
  },
  {
   "cell_type": "code",
   "execution_count": 20,
   "metadata": {},
   "outputs": [
    {
     "data": {
      "text/plain": [
       "'0000000345'"
      ]
     },
     "execution_count": 20,
     "metadata": {},
     "output_type": "execute_result"
    }
   ],
   "source": [
    "line=\"      adf     \"  \n",
    "line.strip()       #刪除前後的空格\n",
    "line.rstrip()      #刪除右邊的空格\n",
    "line.lstrip()      #刪除左邊的空格\n",
    "     \n",
    "num=\"00000345\"\n",
    "num.strip(\"0\")     #刪除特定字元\n",
    "     \n",
    "line = \"this is the content\"\n",
    "line.center(30)      #產生一定數量的空格，並中心對齊一個給定的字串\n",
    "line.ljust(30)       #產生一定長度的空格並左對齊\n",
    "line.rjust(30)       #產生一定長度的空格並右對齊\n",
    "\"345\".rjust(10,\"0\")  #能以任意字元填充空格\n",
    "\"345\".zfill(10)      #在左邊填充一定數量的0"
   ]
  },
  {
   "cell_type": "code",
   "execution_count": null,
   "metadata": {},
   "outputs": [],
   "source": [
    "查詢字串"
   ]
  },
  {
   "cell_type": "code",
   "execution_count": 54,
   "metadata": {},
   "outputs": [
    {
     "name": "stdout",
     "output_type": "stream",
     "text": [
      "16\n",
      "16\n",
      "16\n",
      "True\n",
      "False\n"
     ]
    }
   ],
   "source": [
    "line = 'the quick brown fox jumped over a lazy dog'\n",
    "print(line.find('fox') )     #查詢子字串在字串中出現的索引，若搜尋不到子字串，會回傳-1\n",
    "print(line.index('fox') )    #查詢子字串在字串中出現的索引，若搜尋不到子字串，會回傳ValueError\n",
    "print(line.rfind('fox')  )   #從尾部往前查詢子字串在字串中出現的索引\n",
    "    \n",
    "print(line.endswith('dog') )         #檢查字串尾部的子字串\n",
    "print(line.startswith('fox') )      #檢查字串頭部的子字串"
   ]
  },
  {
   "cell_type": "code",
   "execution_count": null,
   "metadata": {},
   "outputs": [],
   "source": [
    "# 替換字串"
   ]
  },
  {
   "cell_type": "code",
   "execution_count": 23,
   "metadata": {},
   "outputs": [
    {
     "data": {
      "text/plain": [
       "'the quick red fox jumped over a lazy dog'"
      ]
     },
     "execution_count": 23,
     "metadata": {},
     "output_type": "execute_result"
    }
   ],
   "source": [
    "line.replace('brown','red')  #以第2個參數替換子字串"
   ]
  },
  {
   "cell_type": "code",
   "execution_count": null,
   "metadata": {},
   "outputs": [],
   "source": [
    "拆分和分割字串"
   ]
  },
  {
   "cell_type": "code",
   "execution_count": 59,
   "metadata": {},
   "outputs": [
    {
     "data": {
      "text/plain": [
       "('the quick brown ', 'fox', ' jumped over a lazy dog')"
      ]
     },
     "execution_count": 59,
     "metadata": {},
     "output_type": "execute_result"
    }
   ],
   "source": [
    "line.partition('fox')\n",
    "#partition()會回傳3個tuple，分別是:目標子字串之前的子字串、目標子字串、目標子字串之後的子字串"
   ]
  },
  {
   "cell_type": "code",
   "execution_count": 60,
   "metadata": {
    "scrolled": true
   },
   "outputs": [
    {
     "data": {
      "text/plain": [
       "('the quick brown ', 'fox', ' jumped over a lazy dog')"
      ]
     },
     "execution_count": 60,
     "metadata": {},
     "output_type": "execute_result"
    }
   ],
   "source": [
    "line.rpartition('fox') #rpartition()從右向左搜尋字串"
   ]
  },
  {
   "cell_type": "code",
   "execution_count": 61,
   "metadata": {
    "scrolled": true
   },
   "outputs": [
    {
     "data": {
      "text/plain": [
       "['the', 'quick', 'brown', 'fox', 'jumped', 'over', 'a', 'lazy', 'dog']"
      ]
     },
     "execution_count": 61,
     "metadata": {},
     "output_type": "execute_result"
    }
   ],
   "source": [
    "line.split()           #split()預設以空白作為分割依據，回傳所有單字"
   ]
  },
  {
   "cell_type": "code",
   "execution_count": 65,
   "metadata": {
    "scrolled": true
   },
   "outputs": [
    {
     "data": {
      "text/plain": [
       "['matsushima-ya', 'aah matsushima-ya', 'matsushima-ya']"
      ]
     },
     "execution_count": 65,
     "metadata": {},
     "output_type": "execute_result"
    }
   ],
   "source": [
    "haiku = \"\"\"matsushima-ya\n",
    "aah matsushima-ya\n",
    "matsushima-ya\"\"\"\n",
    "   \n",
    "haiku.splitlines()      #splitlines()對換行符號進行分割"
   ]
  },
  {
   "cell_type": "code",
   "execution_count": 64,
   "metadata": {},
   "outputs": [
    {
     "data": {
      "text/plain": [
       "'1--2--3'"
      ]
     },
     "execution_count": 64,
     "metadata": {},
     "output_type": "execute_result"
    }
   ],
   "source": [
    "'--'.join(['1', '2', '3'])   "
   ]
  },
  {
   "cell_type": "code",
   "execution_count": 66,
   "metadata": {},
   "outputs": [
    {
     "name": "stdout",
     "output_type": "stream",
     "text": [
      "matsushima-ya\n",
      "aah matsushima-ya\n",
      "matsushima-ya\n"
     ]
    }
   ],
   "source": [
    "#撤銷split()的結果，用分割依據再組成一個字串\n",
    "print(\"\\n\".join([haiku.splitlines()[0] , haiku.splitlines()[1],    #常見的用法是用換行符號還原成原字串\n",
    "haiku.splitlines()[2]]))"
   ]
  },
  {
   "cell_type": "code",
   "execution_count": 48,
   "metadata": {},
   "outputs": [
    {
     "data": {
      "text/plain": [
       "['商品編號：p090415882600', '店家貨號：72USGE0009', '購買人次：0', '銷售件數：0']"
      ]
     },
     "execution_count": 48,
     "metadata": {},
     "output_type": "execute_result"
    }
   ],
   "source": [
    "a = \"\"\"商品編號：p090415882600\n",
    "店家貨號：72USGE0009\n",
    "購買人次：0\n",
    "銷售件數：0\"\"\"\n",
    "a.splitlines()"
   ]
  },
  {
   "cell_type": "code",
   "execution_count": null,
   "metadata": {},
   "outputs": [],
   "source": [
    "str.split()"
   ]
  },
  {
   "cell_type": "code",
   "execution_count": null,
   "metadata": {},
   "outputs": [],
   "source": [
    "str.split(str=\"\", num=string.count(str))\n",
    "\n",
    "str-分隔符，默認為所有的空字符，包括空格，換行（\\ n），製表符（\\ t）等。\n",
    "num-分割次數。默認為-1，即分隔所有。"
   ]
  },
  {
   "cell_type": "code",
   "execution_count": null,
   "metadata": {},
   "outputs": [],
   "source": [
    "line = 'a+b+c+d'\n",
    "line.split('+')"
   ]
  },
  {
   "cell_type": "code",
   "execution_count": null,
   "metadata": {},
   "outputs": [],
   "source": [
    "# [-1]然後，該索引在position列出-1。這樣做將返回最後一項\n",
    "['a', 'b', 'c', 'd'][-1]"
   ]
  },
  {
   "cell_type": "code",
   "execution_count": 26,
   "metadata": {},
   "outputs": [
    {
     "ename": "NameError",
     "evalue": "name 'cmp' is not defined",
     "output_type": "error",
     "traceback": [
      "\u001b[1;31m---------------------------------------------------------------------------\u001b[0m",
      "\u001b[1;31mNameError\u001b[0m                                 Traceback (most recent call last)",
      "\u001b[1;32m<ipython-input-26-16f272a42ee1>\u001b[0m in \u001b[0;36m<module>\u001b[1;34m\u001b[0m\n\u001b[0;32m      2\u001b[0m \u001b[0msStr1\u001b[0m \u001b[1;33m=\u001b[0m \u001b[1;34m'strchr'\u001b[0m\u001b[1;33m\u001b[0m\u001b[1;33m\u001b[0m\u001b[0m\n\u001b[0;32m      3\u001b[0m \u001b[0msStr2\u001b[0m \u001b[1;33m=\u001b[0m \u001b[1;34m'strch'\u001b[0m\u001b[1;33m\u001b[0m\u001b[1;33m\u001b[0m\u001b[0m\n\u001b[1;32m----> 4\u001b[1;33m \u001b[0mprint\u001b[0m\u001b[1;33m(\u001b[0m\u001b[0mcmp\u001b[0m\u001b[1;33m(\u001b[0m\u001b[0msStr1\u001b[0m\u001b[1;33m,\u001b[0m\u001b[0msStr2\u001b[0m\u001b[1;33m)\u001b[0m\u001b[1;33m)\u001b[0m\u001b[1;33m\u001b[0m\u001b[1;33m\u001b[0m\u001b[0m\n\u001b[0m",
      "\u001b[1;31mNameError\u001b[0m: name 'cmp' is not defined"
     ]
    }
   ],
   "source": [
    "#strcmp(sStr1,sStr2)\n",
    "sStr1 = 'strchr'\n",
    "sStr2 = 'strch'\n",
    "print(cmp(sStr1,sStr2))"
   ]
  },
  {
   "cell_type": "code",
   "execution_count": null,
   "metadata": {},
   "outputs": [],
   "source": [
    "格式化字串"
   ]
  },
  {
   "cell_type": "code",
   "execution_count": null,
   "metadata": {},
   "outputs": [],
   "source": [
    "pi=3.14\n",
    "\"The value of pi is {}\".format(pi)      #以{}代表將要插入字串格式化後的值\n",
    "\"\"\"First letter: {0}. Last letter: {1}.\"\"\" .format('A', 'Z')\n",
    "#{}中設定數字代表要插入的參數的索引\n",
    "\"\"\"First letter: {first}. Last letter: {last}.\"\"\" .format(last='Z', first='A')\n",
    "#若{}中包括了一個字串，則可以名稱指定要插入的值\n",
    "\"pi = {0:.3f}\".format(pi)\n",
    "#數字的插入，0代表要插入的參數的索引，:代表後面要跟著格式化的程式碼，.3f代表需要的精度資訊，小數點後保留3位小數的浮點數"
   ]
  },
  {
   "cell_type": "markdown",
   "metadata": {},
   "source": [
    "# 字串格式化"
   ]
  },
  {
   "cell_type": "markdown",
   "metadata": {},
   "source": [
    "在 Python 中若要以特定的格式來輸出文字或數值，可以使用透過各種字串的格式化方法來處理，而 Python 字串格式化的方法有兩種，一種是類似 C 語言 printf 的語法，另外一種是後來發展的 format 語法，兩種都可以使用，以下是各種格式化的使用方式。"
   ]
  },
  {
   "cell_type": "markdown",
   "metadata": {},
   "source": [
    "## 基本字串格式化"
   ]
  },
  {
   "cell_type": "markdown",
   "metadata": {},
   "source": [
    "基本的字串格式化方法是使用 % 運算子，前面放置輸出的文字樣板，後面放置要安插的資料："
   ]
  },
  {
   "cell_type": "code",
   "execution_count": 2,
   "metadata": {
    "scrolled": true
   },
   "outputs": [
    {
     "name": "stdout",
     "output_type": "stream",
     "text": [
      "Hello, World!\n"
     ]
    }
   ],
   "source": [
    "# 字串格式化\n",
    "msg = 'Hello, %s!' % 'World'\n",
    "print(msg)"
   ]
  },
  {
   "cell_type": "markdown",
   "metadata": {},
   "source": [
    "文字樣板的語法就跟 C 語言的 printf 樣板類似，以下是常見的幾種格式："
   ]
  },
  {
   "cell_type": "code",
   "execution_count": null,
   "metadata": {},
   "outputs": [],
   "source": [
    "%s：以 str() 函數輸出文字。\n",
    "%f：以浮點數方式輸出數值。\n",
    "%d：以十進位整數方式輸出數值。\n",
    "%e、%E：以科學記號輸出數值。\n",
    "%o：以八進位整數方式輸出數值。\n",
    "%x、%X：以十六進位整數方式輸出數值。\n",
    "%c：以字元方式輸出。\n",
    "%r：以 repr() 函數輸出文字。\n",
    "%%：輸出 % 百分比符號。"
   ]
  },
  {
   "cell_type": "code",
   "execution_count": 3,
   "metadata": {},
   "outputs": [
    {
     "name": "stdout",
     "output_type": "stream",
     "text": [
      "Hello, World!\n"
     ]
    }
   ],
   "source": [
    "# 多組文字\n",
    "msg = '%s, %s!' % ('Hello', 'World')\n",
    "print(msg)"
   ]
  },
  {
   "cell_type": "code",
   "execution_count": 4,
   "metadata": {},
   "outputs": [
    {
     "name": "stdout",
     "output_type": "stream",
     "text": [
      "I am 5 years old.\n"
     ]
    }
   ],
   "source": [
    "# 整數\n",
    "msg = 'I am %d years old.' % 5\n",
    "print(msg)"
   ]
  },
  {
   "cell_type": "code",
   "execution_count": 5,
   "metadata": {},
   "outputs": [
    {
     "name": "stdout",
     "output_type": "stream",
     "text": [
      "James is 5 years old.\n"
     ]
    }
   ],
   "source": [
    "# 文字與整數\n",
    "msg = '%s is %d years old.' % (\"James\", 5)\n",
    "print(msg)"
   ]
  },
  {
   "cell_type": "markdown",
   "metadata": {},
   "source": [
    "除了類似 C 語言 printf 的用法之外，亦可使用新的 format 語法："
   ]
  },
  {
   "cell_type": "code",
   "execution_count": 6,
   "metadata": {},
   "outputs": [
    {
     "name": "stdout",
     "output_type": "stream",
     "text": [
      "Hello, World!\n"
     ]
    }
   ],
   "source": [
    "# 字串格式化\n",
    "msg = '{}, {}!'.format('Hello', 'World')\n",
    "print(msg)"
   ]
  },
  {
   "cell_type": "markdown",
   "metadata": {},
   "source": [
    "新的 format 語法可以在大括號中指定安插的參數，例如："
   ]
  },
  {
   "cell_type": "code",
   "execution_count": 7,
   "metadata": {},
   "outputs": [
    {
     "name": "stdout",
     "output_type": "stream",
     "text": [
      "World, Hello!\n"
     ]
    }
   ],
   "source": [
    "# 改變參數順序\n",
    "msg = '{1}, {0}!'.format('Hello', 'World')\n",
    "print(msg)"
   ]
  },
  {
   "cell_type": "markdown",
   "metadata": {},
   "source": [
    "在一般的狀況下，format 會自動處理各種類型的資料，不用像 C 語言的 printf 一樣個別指定樣板，統一使用 {} 即可："
   ]
  },
  {
   "cell_type": "code",
   "execution_count": 8,
   "metadata": {},
   "outputs": [
    {
     "name": "stdout",
     "output_type": "stream",
     "text": [
      "James is 5 years old.\n"
     ]
    }
   ],
   "source": [
    "# 文字與整數\n",
    "msg = '{} is {} years old.'.format(\"James\", 5)\n",
    "print(msg)"
   ]
  },
  {
   "cell_type": "code",
   "execution_count": 9,
   "metadata": {},
   "outputs": [
    {
     "name": "stdout",
     "output_type": "stream",
     "text": [
      "James is 5 years old.\n"
     ]
    }
   ],
   "source": [
    "# 明確指定資料類型\n",
    "msg = '{:s} is {:d} years old.'.format(\"James\", 5)\n",
    "print(msg)"
   ]
  },
  {
   "cell_type": "markdown",
   "metadata": {},
   "source": [
    "## 空間與對齊"
   ]
  },
  {
   "cell_type": "markdown",
   "metadata": {},
   "source": [
    "有時候在輸出資料時，為了要讓文字排版整齊，會固定資料輸出的寬度。只要在樣板上加上數字，即可指定輸出的寬度："
   ]
  },
  {
   "cell_type": "code",
   "execution_count": 10,
   "metadata": {},
   "outputs": [
    {
     "name": "stdout",
     "output_type": "stream",
     "text": [
      "(     Hello)\n"
     ]
    }
   ],
   "source": [
    "# 指定寬度\n",
    "msg = '(%10s)' % 'Hello'\n",
    "print(msg)"
   ]
  },
  {
   "cell_type": "code",
   "execution_count": 11,
   "metadata": {},
   "outputs": [
    {
     "name": "stdout",
     "output_type": "stream",
     "text": [
      "(Hello     )\n"
     ]
    }
   ],
   "source": [
    "# 靠左對齊(加上負號)\n",
    "msg = '(%-10s)' % 'Hello'\n",
    "print(msg)"
   ]
  },
  {
   "cell_type": "code",
   "execution_count": 12,
   "metadata": {},
   "outputs": [
    {
     "name": "stdout",
     "output_type": "stream",
     "text": [
      "(  12.346)\n"
     ]
    }
   ],
   "source": [
    "# 指定浮點數位數(總寬度.小數位數)\n",
    "msg = '(%8.3f)' % 12.3456\n",
    "print(msg)"
   ]
  },
  {
   "cell_type": "code",
   "execution_count": 14,
   "metadata": {},
   "outputs": [
    {
     "name": "stdout",
     "output_type": "stream",
     "text": [
      "(Hel)\n"
     ]
    }
   ],
   "source": [
    "# 文字長度上限(數字前方加上一個點)\n",
    "msg = '(%.3s)' % 'Hello'\n",
    "print(msg)"
   ]
  },
  {
   "cell_type": "markdown",
   "metadata": {},
   "source": [
    "以下是用新的 format 語法改寫的結果："
   ]
  },
  {
   "cell_type": "code",
   "execution_count": 15,
   "metadata": {},
   "outputs": [
    {
     "name": "stdout",
     "output_type": "stream",
     "text": [
      "(Hello     )\n"
     ]
    }
   ],
   "source": [
    "# 指定寬度\n",
    "msg = '({:10})'.format('Hello')\n",
    "print(msg)"
   ]
  },
  {
   "cell_type": "code",
   "execution_count": 16,
   "metadata": {},
   "outputs": [
    {
     "name": "stdout",
     "output_type": "stream",
     "text": [
      "(     Hello)\n"
     ]
    }
   ],
   "source": [
    "# 靠右對齊\n",
    "msg = '({:>10})'.format('Hello')\n",
    "print(msg)"
   ]
  },
  {
   "cell_type": "code",
   "execution_count": 17,
   "metadata": {},
   "outputs": [
    {
     "name": "stdout",
     "output_type": "stream",
     "text": [
      "(Hello     )\n"
     ]
    }
   ],
   "source": [
    "# 靠左對齊\n",
    "msg = '({:<10})'.format('Hello')\n",
    "print(msg)"
   ]
  },
  {
   "cell_type": "code",
   "execution_count": 18,
   "metadata": {},
   "outputs": [
    {
     "name": "stdout",
     "output_type": "stream",
     "text": [
      "(  Hello   )\n"
     ]
    }
   ],
   "source": [
    "# 置中對齊\n",
    "msg = '({:^10})'.format('Hello')\n",
    "print(msg)"
   ]
  },
  {
   "cell_type": "code",
   "execution_count": 19,
   "metadata": {},
   "outputs": [
    {
     "name": "stdout",
     "output_type": "stream",
     "text": [
      "(  12.346)\n"
     ]
    }
   ],
   "source": [
    "# 指定浮點數位數\n",
    "msg = '({:8.3f})'.format(12.3456)\n",
    "print(msg)"
   ]
  },
  {
   "cell_type": "code",
   "execution_count": 20,
   "metadata": {},
   "outputs": [
    {
     "name": "stdout",
     "output_type": "stream",
     "text": [
      "(Hel)\n"
     ]
    }
   ],
   "source": [
    "# 文字長度上限\n",
    "msg = '({:.3})'.format('Hello')\n",
    "print(msg)"
   ]
  },
  {
   "cell_type": "markdown",
   "metadata": {},
   "source": [
    "## 數值格式"
   ]
  },
  {
   "cell_type": "code",
   "execution_count": 21,
   "metadata": {},
   "outputs": [
    {
     "name": "stdout",
     "output_type": "stream",
     "text": [
      "003.14\n"
     ]
    }
   ],
   "source": [
    "# 空白補 0(若要讓數值前方的空白以 0 填補，可以在指定寬度時加上一個 0)\n",
    "msg = '%06.2f' % 3.14159\n",
    "print(msg)"
   ]
  },
  {
   "cell_type": "code",
   "execution_count": 22,
   "metadata": {},
   "outputs": [
    {
     "name": "stdout",
     "output_type": "stream",
     "text": [
      "+3.14, -3.14\n"
     ]
    }
   ],
   "source": [
    "# 加上正負號\n",
    "msg = '%+4.2f, %+4.2f' % (3.14, -3.14)\n",
    "print(msg)"
   ]
  },
  {
   "cell_type": "code",
   "execution_count": 23,
   "metadata": {},
   "outputs": [
    {
     "name": "stdout",
     "output_type": "stream",
     "text": [
      "( 3), (-3)\n"
     ]
    }
   ],
   "source": [
    "# 負數加負號，正數留空白\n",
    "msg = '(% d), (% d)' % (3, -3)\n",
    "print(msg)"
   ]
  },
  {
   "cell_type": "markdown",
   "metadata": {},
   "source": [
    "以下是 format 的寫法："
   ]
  },
  {
   "cell_type": "code",
   "execution_count": 24,
   "metadata": {},
   "outputs": [
    {
     "name": "stdout",
     "output_type": "stream",
     "text": [
      "003.14\n"
     ]
    }
   ],
   "source": [
    "# 空白補 0\n",
    "msg = '{:06.2f}'.format(3.14159)\n",
    "print(msg)"
   ]
  },
  {
   "cell_type": "code",
   "execution_count": 25,
   "metadata": {},
   "outputs": [
    {
     "name": "stdout",
     "output_type": "stream",
     "text": [
      "+3.14, -3.14\n"
     ]
    }
   ],
   "source": [
    "# 加上正負號\n",
    "msg = '{:+4.2f}, {:+4.2f}'.format(3.14, -3.14)\n",
    "print(msg)"
   ]
  },
  {
   "cell_type": "code",
   "execution_count": 26,
   "metadata": {},
   "outputs": [
    {
     "name": "stdout",
     "output_type": "stream",
     "text": [
      "( 3), (-3)\n"
     ]
    }
   ],
   "source": [
    "# 負數加負號，正數留空白\n",
    "msg = '({: d}), ({: d})'.format(3, -3)\n",
    "print(msg)"
   ]
  },
  {
   "cell_type": "markdown",
   "metadata": {},
   "source": [
    "## 字典與具名餐數"
   ]
  },
  {
   "cell_type": "code",
   "execution_count": 28,
   "metadata": {},
   "outputs": [
    {
     "name": "stdout",
     "output_type": "stream",
     "text": [
      "Hello, World!\n"
     ]
    }
   ],
   "source": [
    "# 使用字典\n",
    "data = {'first': 'Hello', 'last': 'World'}\n",
    "msg = '%(first)s, %(last)s!' % data\n",
    "print(msg)"
   ]
  },
  {
   "cell_type": "markdown",
   "metadata": {},
   "source": [
    "以下是 format 的寫法："
   ]
  },
  {
   "cell_type": "code",
   "execution_count": 29,
   "metadata": {},
   "outputs": [
    {
     "name": "stdout",
     "output_type": "stream",
     "text": [
      "Hello, World!\n"
     ]
    }
   ],
   "source": [
    "# 使用字典\n",
    "data = {'first': 'Hello', 'last': 'World'}\n",
    "msg = '{first}, {last}!'.format(**data)\n",
    "print(msg)"
   ]
  },
  {
   "cell_type": "markdown",
   "metadata": {},
   "source": [
    "format 亦可使用具名參數的方式指定："
   ]
  },
  {
   "cell_type": "code",
   "execution_count": 30,
   "metadata": {},
   "outputs": [
    {
     "name": "stdout",
     "output_type": "stream",
     "text": [
      "Hello, World!\n"
     ]
    }
   ],
   "source": [
    "# 使用具名參數\n",
    "msg = '{first}, {last}!'.format(first = 'Hello', last = 'World')\n",
    "print(msg)"
   ]
  },
  {
   "cell_type": "markdown",
   "metadata": {},
   "source": [
    "## 日期與時間"
   ]
  },
  {
   "cell_type": "markdown",
   "metadata": {},
   "source": [
    "format 亦可接受 datetime 物件，依照指定的樣板輸出日期與時間："
   ]
  },
  {
   "cell_type": "code",
   "execution_count": 33,
   "metadata": {},
   "outputs": [
    {
     "name": "stdout",
     "output_type": "stream",
     "text": [
      "2020-02-21 16:13\n"
     ]
    }
   ],
   "source": [
    "# 輸出日期與時間\n",
    "from datetime import datetime\n",
    "msg = '{:%Y-%m-%d %H:%M}'.format(datetime.today())\n",
    "print(msg)"
   ]
  },
  {
   "cell_type": "markdown",
   "metadata": {},
   "source": [
    "## 動態格式"
   ]
  },
  {
   "cell_type": "code",
   "execution_count": 34,
   "metadata": {},
   "outputs": [
    {
     "name": "stdout",
     "output_type": "stream",
     "text": [
      "Gib = 2.718\n"
     ]
    }
   ],
   "source": [
    "# 動態格式\n",
    "msg = '%.*s = %.*f' % (3, 'Gibberish', 3, 2.7182)\n",
    "print(msg)"
   ]
  },
  {
   "cell_type": "code",
   "execution_count": 35,
   "metadata": {},
   "outputs": [
    {
     "name": "stdout",
     "output_type": "stream",
     "text": [
      "Gib = 2.718\n"
     ]
    }
   ],
   "source": [
    "# 動態格式\n",
    "msg = '{:.{prec}} = {:.{prec}f}'.format('Gibberish', 2.7182, prec=3)\n",
    "print(msg)"
   ]
  },
  {
   "cell_type": "markdown",
   "metadata": {},
   "source": [
    "## 其他format例子"
   ]
  },
  {
   "cell_type": "code",
   "execution_count": null,
   "metadata": {},
   "outputs": [],
   "source": [
    "x = 1234.56789"
   ]
  },
  {
   "cell_type": "code",
   "execution_count": 17,
   "metadata": {},
   "outputs": [
    {
     "data": {
      "text/plain": [
       "'1234.57'"
      ]
     },
     "execution_count": 17,
     "metadata": {},
     "output_type": "execute_result"
    }
   ],
   "source": [
    "# Two decimal places of accuracy\n",
    "format(x, '0.2f') #無空格，小數保留2位\n",
    "'1234.57'"
   ]
  },
  {
   "cell_type": "code",
   "execution_count": 22,
   "metadata": {},
   "outputs": [
    {
     "data": {
      "text/plain": [
       "'    1234.6'"
      ]
     },
     "execution_count": 22,
     "metadata": {},
     "output_type": "execute_result"
    }
   ],
   "source": [
    "# Right justified in 10 chars, one-digit accuracy\n",
    "format(x, '>10.1f') #數字輸出靠右，總計長度為10，小數保留1位\n",
    "'    1234.6'"
   ]
  },
  {
   "cell_type": "code",
   "execution_count": 21,
   "metadata": {},
   "outputs": [
    {
     "data": {
      "text/plain": [
       "'1234.6    '"
      ]
     },
     "execution_count": 21,
     "metadata": {},
     "output_type": "execute_result"
    }
   ],
   "source": [
    "# Left justified\n",
    "format(x, '<10.1f') #數字輸出靠左，總計長度為10，小數保留1位\n",
    "'1234.6    '"
   ]
  },
  {
   "cell_type": "code",
   "execution_count": 20,
   "metadata": {},
   "outputs": [
    {
     "data": {
      "text/plain": [
       "'  1234.6  '"
      ]
     },
     "execution_count": 20,
     "metadata": {},
     "output_type": "execute_result"
    }
   ],
   "source": [
    "# Centered\n",
    "format(x, '^10.1f') #數字輸出靠中，小數保留2位\n",
    "'  1234.6  '"
   ]
  },
  {
   "cell_type": "code",
   "execution_count": 19,
   "metadata": {},
   "outputs": [
    {
     "data": {
      "text/plain": [
       "'1,234.56789'"
      ]
     },
     "execution_count": 19,
     "metadata": {},
     "output_type": "execute_result"
    }
   ],
   "source": [
    "# Inclusion of thousands separator\n",
    "format(x, ',') #指定逗號位數字的千分位分隔符\n",
    "'1,234.56789'"
   ]
  },
  {
   "cell_type": "code",
   "execution_count": 18,
   "metadata": {},
   "outputs": [
    {
     "data": {
      "text/plain": [
       "'1,234.6'"
      ]
     },
     "execution_count": 18,
     "metadata": {},
     "output_type": "execute_result"
    }
   ],
   "source": [
    "format(x, '0,.1f') #無佔位輸出，用逗號作為分隔符，保留1位小數\n",
    "'1,234.6'"
   ]
  },
  {
   "cell_type": "code",
   "execution_count": 1,
   "metadata": {},
   "outputs": [
    {
     "name": "stdout",
     "output_type": "stream",
     "text": [
      "12,345,678\n"
     ]
    }
   ],
   "source": [
    "a=\"{:,}\".format(12345678) \n",
    "print(a)"
   ]
  },
  {
   "cell_type": "code",
   "execution_count": 2,
   "metadata": {
    "scrolled": true
   },
   "outputs": [
    {
     "name": "stdout",
     "output_type": "stream",
     "text": [
      "20,003\n"
     ]
    }
   ],
   "source": [
    "import re  \n",
    "a = '20003'  \n",
    "result = re.sub(r\"(?<=\\d)(?=(?:\\d\\d\\d)+$)\", \",\", a)  \n",
    "print(result)"
   ]
  },
  {
   "cell_type": "markdown",
   "metadata": {},
   "source": [
    "# Pandas設置數字格式，整數、小數位數、百分號、千位分隔符"
   ]
  },
  {
   "cell_type": "code",
   "execution_count": 1,
   "metadata": {
    "scrolled": true
   },
   "outputs": [
    {
     "data": {
      "text/html": [
       "<div>\n",
       "<style scoped>\n",
       "    .dataframe tbody tr th:only-of-type {\n",
       "        vertical-align: middle;\n",
       "    }\n",
       "\n",
       "    .dataframe tbody tr th {\n",
       "        vertical-align: top;\n",
       "    }\n",
       "\n",
       "    .dataframe thead th {\n",
       "        text-align: right;\n",
       "    }\n",
       "</style>\n",
       "<table border=\"1\" class=\"dataframe\">\n",
       "  <thead>\n",
       "    <tr style=\"text-align: right;\">\n",
       "      <th></th>\n",
       "      <th>Order Number</th>\n",
       "      <th>Department</th>\n",
       "      <th>Continent</th>\n",
       "      <th>Country</th>\n",
       "      <th>Ship To Number</th>\n",
       "      <th>Ship_To AlphaName</th>\n",
       "      <th>Customer Number</th>\n",
       "      <th>Customer Name</th>\n",
       "      <th>LargeCat</th>\n",
       "      <th>MediumCat</th>\n",
       "      <th>...</th>\n",
       "      <th>Date G/L</th>\n",
       "      <th>Year</th>\n",
       "      <th>Month</th>\n",
       "      <th>Exchange Rate</th>\n",
       "      <th>Foreign Unit Price</th>\n",
       "      <th>Foreign Extended Price</th>\n",
       "      <th>Foreign Extended Cost</th>\n",
       "      <th>Foreign Ext# Margin</th>\n",
       "      <th>Quantity Shipped</th>\n",
       "      <th>Description</th>\n",
       "    </tr>\n",
       "  </thead>\n",
       "  <tbody>\n",
       "    <tr>\n",
       "      <th>0</th>\n",
       "      <td>19100043</td>\n",
       "      <td>SF5</td>\n",
       "      <td>非洲&amp;中東</td>\n",
       "      <td>United Arab Emirates (UAE)</td>\n",
       "      <td>100337</td>\n",
       "      <td>GENIUS COMPUTER TECHNOLOGY LTD</td>\n",
       "      <td>100337.0</td>\n",
       "      <td>GENIUS COMPUTER TECHNOLOGY LTD</td>\n",
       "      <td>Mouse</td>\n",
       "      <td>Wireless Mouse</td>\n",
       "      <td>...</td>\n",
       "      <td>2019-04-07</td>\n",
       "      <td>2019</td>\n",
       "      <td>4</td>\n",
       "      <td>30.765</td>\n",
       "      <td>4.9</td>\n",
       "      <td>490.0</td>\n",
       "      <td>366.20</td>\n",
       "      <td>123.80</td>\n",
       "      <td>100.0</td>\n",
       "      <td>OBM</td>\n",
       "    </tr>\n",
       "    <tr>\n",
       "      <th>1</th>\n",
       "      <td>19100043</td>\n",
       "      <td>SF5</td>\n",
       "      <td>非洲&amp;中東</td>\n",
       "      <td>United Arab Emirates (UAE)</td>\n",
       "      <td>100337</td>\n",
       "      <td>GENIUS COMPUTER TECHNOLOGY LTD</td>\n",
       "      <td>100337.0</td>\n",
       "      <td>GENIUS COMPUTER TECHNOLOGY LTD</td>\n",
       "      <td>Mouse</td>\n",
       "      <td>Wireless Mouse</td>\n",
       "      <td>...</td>\n",
       "      <td>2019-04-07</td>\n",
       "      <td>2019</td>\n",
       "      <td>4</td>\n",
       "      <td>30.765</td>\n",
       "      <td>4.9</td>\n",
       "      <td>490.0</td>\n",
       "      <td>366.31</td>\n",
       "      <td>123.69</td>\n",
       "      <td>100.0</td>\n",
       "      <td>OBM</td>\n",
       "    </tr>\n",
       "    <tr>\n",
       "      <th>2</th>\n",
       "      <td>19100043</td>\n",
       "      <td>SF5</td>\n",
       "      <td>非洲&amp;中東</td>\n",
       "      <td>United Arab Emirates (UAE)</td>\n",
       "      <td>100337</td>\n",
       "      <td>GENIUS COMPUTER TECHNOLOGY LTD</td>\n",
       "      <td>100337.0</td>\n",
       "      <td>GENIUS COMPUTER TECHNOLOGY LTD</td>\n",
       "      <td>Mouse</td>\n",
       "      <td>Wireless Mouse</td>\n",
       "      <td>...</td>\n",
       "      <td>2019-04-07</td>\n",
       "      <td>2019</td>\n",
       "      <td>4</td>\n",
       "      <td>30.765</td>\n",
       "      <td>4.9</td>\n",
       "      <td>490.0</td>\n",
       "      <td>366.18</td>\n",
       "      <td>123.82</td>\n",
       "      <td>100.0</td>\n",
       "      <td>OBM</td>\n",
       "    </tr>\n",
       "    <tr>\n",
       "      <th>3</th>\n",
       "      <td>19100043</td>\n",
       "      <td>SF5</td>\n",
       "      <td>非洲&amp;中東</td>\n",
       "      <td>United Arab Emirates (UAE)</td>\n",
       "      <td>100337</td>\n",
       "      <td>GENIUS COMPUTER TECHNOLOGY LTD</td>\n",
       "      <td>100337.0</td>\n",
       "      <td>GENIUS COMPUTER TECHNOLOGY LTD</td>\n",
       "      <td>Mouse</td>\n",
       "      <td>Wireless Mouse</td>\n",
       "      <td>...</td>\n",
       "      <td>2019-04-07</td>\n",
       "      <td>2019</td>\n",
       "      <td>4</td>\n",
       "      <td>30.765</td>\n",
       "      <td>3.9</td>\n",
       "      <td>19500.0</td>\n",
       "      <td>14171.00</td>\n",
       "      <td>5329.00</td>\n",
       "      <td>5000.0</td>\n",
       "      <td>OBM</td>\n",
       "    </tr>\n",
       "    <tr>\n",
       "      <th>4</th>\n",
       "      <td>19100043</td>\n",
       "      <td>SF5</td>\n",
       "      <td>非洲&amp;中東</td>\n",
       "      <td>United Arab Emirates (UAE)</td>\n",
       "      <td>100337</td>\n",
       "      <td>GENIUS COMPUTER TECHNOLOGY LTD</td>\n",
       "      <td>100337.0</td>\n",
       "      <td>GENIUS COMPUTER TECHNOLOGY LTD</td>\n",
       "      <td>Headset</td>\n",
       "      <td>Headset</td>\n",
       "      <td>...</td>\n",
       "      <td>2019-04-07</td>\n",
       "      <td>2019</td>\n",
       "      <td>4</td>\n",
       "      <td>30.765</td>\n",
       "      <td>2.1</td>\n",
       "      <td>2100.0</td>\n",
       "      <td>1470.00</td>\n",
       "      <td>630.00</td>\n",
       "      <td>1000.0</td>\n",
       "      <td>OBM</td>\n",
       "    </tr>\n",
       "    <tr>\n",
       "      <th>5</th>\n",
       "      <td>19100043</td>\n",
       "      <td>SF5</td>\n",
       "      <td>非洲&amp;中東</td>\n",
       "      <td>United Arab Emirates (UAE)</td>\n",
       "      <td>100337</td>\n",
       "      <td>GENIUS COMPUTER TECHNOLOGY LTD</td>\n",
       "      <td>100337.0</td>\n",
       "      <td>GENIUS COMPUTER TECHNOLOGY LTD</td>\n",
       "      <td>Headset</td>\n",
       "      <td>Headset</td>\n",
       "      <td>...</td>\n",
       "      <td>2019-04-07</td>\n",
       "      <td>2019</td>\n",
       "      <td>4</td>\n",
       "      <td>30.765</td>\n",
       "      <td>15.5</td>\n",
       "      <td>1550.0</td>\n",
       "      <td>647.59</td>\n",
       "      <td>902.41</td>\n",
       "      <td>100.0</td>\n",
       "      <td>OBM</td>\n",
       "    </tr>\n",
       "    <tr>\n",
       "      <th>6</th>\n",
       "      <td>19100043</td>\n",
       "      <td>SF5</td>\n",
       "      <td>非洲&amp;中東</td>\n",
       "      <td>United Arab Emirates (UAE)</td>\n",
       "      <td>100337</td>\n",
       "      <td>GENIUS COMPUTER TECHNOLOGY LTD</td>\n",
       "      <td>100337.0</td>\n",
       "      <td>GENIUS COMPUTER TECHNOLOGY LTD</td>\n",
       "      <td>Headset</td>\n",
       "      <td>Headset</td>\n",
       "      <td>...</td>\n",
       "      <td>2019-04-07</td>\n",
       "      <td>2019</td>\n",
       "      <td>4</td>\n",
       "      <td>30.765</td>\n",
       "      <td>15.5</td>\n",
       "      <td>1550.0</td>\n",
       "      <td>647.59</td>\n",
       "      <td>902.41</td>\n",
       "      <td>100.0</td>\n",
       "      <td>OBM</td>\n",
       "    </tr>\n",
       "    <tr>\n",
       "      <th>7</th>\n",
       "      <td>19100043</td>\n",
       "      <td>SF5</td>\n",
       "      <td>非洲&amp;中東</td>\n",
       "      <td>United Arab Emirates (UAE)</td>\n",
       "      <td>100337</td>\n",
       "      <td>GENIUS COMPUTER TECHNOLOGY LTD</td>\n",
       "      <td>100337.0</td>\n",
       "      <td>GENIUS COMPUTER TECHNOLOGY LTD</td>\n",
       "      <td>Speaker</td>\n",
       "      <td>2.0 Speaker</td>\n",
       "      <td>...</td>\n",
       "      <td>2019-04-07</td>\n",
       "      <td>2019</td>\n",
       "      <td>4</td>\n",
       "      <td>30.765</td>\n",
       "      <td>4.3</td>\n",
       "      <td>6020.0</td>\n",
       "      <td>3839.08</td>\n",
       "      <td>2180.92</td>\n",
       "      <td>1400.0</td>\n",
       "      <td>OBM</td>\n",
       "    </tr>\n",
       "    <tr>\n",
       "      <th>8</th>\n",
       "      <td>19100043</td>\n",
       "      <td>SF5</td>\n",
       "      <td>非洲&amp;中東</td>\n",
       "      <td>United Arab Emirates (UAE)</td>\n",
       "      <td>100337</td>\n",
       "      <td>GENIUS COMPUTER TECHNOLOGY LTD</td>\n",
       "      <td>100337.0</td>\n",
       "      <td>GENIUS COMPUTER TECHNOLOGY LTD</td>\n",
       "      <td>Speaker</td>\n",
       "      <td>2.0 Speaker</td>\n",
       "      <td>...</td>\n",
       "      <td>2019-04-07</td>\n",
       "      <td>2019</td>\n",
       "      <td>4</td>\n",
       "      <td>30.765</td>\n",
       "      <td>4.3</td>\n",
       "      <td>1720.0</td>\n",
       "      <td>1101.32</td>\n",
       "      <td>618.68</td>\n",
       "      <td>400.0</td>\n",
       "      <td>OBM</td>\n",
       "    </tr>\n",
       "    <tr>\n",
       "      <th>9</th>\n",
       "      <td>19100043</td>\n",
       "      <td>SF5</td>\n",
       "      <td>非洲&amp;中東</td>\n",
       "      <td>United Arab Emirates (UAE)</td>\n",
       "      <td>100337</td>\n",
       "      <td>GENIUS COMPUTER TECHNOLOGY LTD</td>\n",
       "      <td>100337.0</td>\n",
       "      <td>GENIUS COMPUTER TECHNOLOGY LTD</td>\n",
       "      <td>Speaker</td>\n",
       "      <td>2.0 Speaker</td>\n",
       "      <td>...</td>\n",
       "      <td>2019-04-07</td>\n",
       "      <td>2019</td>\n",
       "      <td>4</td>\n",
       "      <td>30.765</td>\n",
       "      <td>4.0</td>\n",
       "      <td>2400.0</td>\n",
       "      <td>1759.02</td>\n",
       "      <td>640.98</td>\n",
       "      <td>600.0</td>\n",
       "      <td>OBM</td>\n",
       "    </tr>\n",
       "  </tbody>\n",
       "</table>\n",
       "<p>10 rows × 28 columns</p>\n",
       "</div>"
      ],
      "text/plain": [
       "   Order Number Department Continent                     Country  \\\n",
       "0      19100043        SF5     非洲&中東  United Arab Emirates (UAE)   \n",
       "1      19100043        SF5     非洲&中東  United Arab Emirates (UAE)   \n",
       "2      19100043        SF5     非洲&中東  United Arab Emirates (UAE)   \n",
       "3      19100043        SF5     非洲&中東  United Arab Emirates (UAE)   \n",
       "4      19100043        SF5     非洲&中東  United Arab Emirates (UAE)   \n",
       "5      19100043        SF5     非洲&中東  United Arab Emirates (UAE)   \n",
       "6      19100043        SF5     非洲&中東  United Arab Emirates (UAE)   \n",
       "7      19100043        SF5     非洲&中東  United Arab Emirates (UAE)   \n",
       "8      19100043        SF5     非洲&中東  United Arab Emirates (UAE)   \n",
       "9      19100043        SF5     非洲&中東  United Arab Emirates (UAE)   \n",
       "\n",
       "   Ship To Number               Ship_To AlphaName  Customer Number  \\\n",
       "0          100337  GENIUS COMPUTER TECHNOLOGY LTD         100337.0   \n",
       "1          100337  GENIUS COMPUTER TECHNOLOGY LTD         100337.0   \n",
       "2          100337  GENIUS COMPUTER TECHNOLOGY LTD         100337.0   \n",
       "3          100337  GENIUS COMPUTER TECHNOLOGY LTD         100337.0   \n",
       "4          100337  GENIUS COMPUTER TECHNOLOGY LTD         100337.0   \n",
       "5          100337  GENIUS COMPUTER TECHNOLOGY LTD         100337.0   \n",
       "6          100337  GENIUS COMPUTER TECHNOLOGY LTD         100337.0   \n",
       "7          100337  GENIUS COMPUTER TECHNOLOGY LTD         100337.0   \n",
       "8          100337  GENIUS COMPUTER TECHNOLOGY LTD         100337.0   \n",
       "9          100337  GENIUS COMPUTER TECHNOLOGY LTD         100337.0   \n",
       "\n",
       "                    Customer Name LargeCat       MediumCat  ...   Date G/L  \\\n",
       "0  GENIUS COMPUTER TECHNOLOGY LTD    Mouse  Wireless Mouse  ... 2019-04-07   \n",
       "1  GENIUS COMPUTER TECHNOLOGY LTD    Mouse  Wireless Mouse  ... 2019-04-07   \n",
       "2  GENIUS COMPUTER TECHNOLOGY LTD    Mouse  Wireless Mouse  ... 2019-04-07   \n",
       "3  GENIUS COMPUTER TECHNOLOGY LTD    Mouse  Wireless Mouse  ... 2019-04-07   \n",
       "4  GENIUS COMPUTER TECHNOLOGY LTD  Headset         Headset  ... 2019-04-07   \n",
       "5  GENIUS COMPUTER TECHNOLOGY LTD  Headset         Headset  ... 2019-04-07   \n",
       "6  GENIUS COMPUTER TECHNOLOGY LTD  Headset         Headset  ... 2019-04-07   \n",
       "7  GENIUS COMPUTER TECHNOLOGY LTD  Speaker     2.0 Speaker  ... 2019-04-07   \n",
       "8  GENIUS COMPUTER TECHNOLOGY LTD  Speaker     2.0 Speaker  ... 2019-04-07   \n",
       "9  GENIUS COMPUTER TECHNOLOGY LTD  Speaker     2.0 Speaker  ... 2019-04-07   \n",
       "\n",
       "   Year Month Exchange Rate Foreign Unit Price Foreign Extended Price  \\\n",
       "0  2019     4        30.765                4.9                  490.0   \n",
       "1  2019     4        30.765                4.9                  490.0   \n",
       "2  2019     4        30.765                4.9                  490.0   \n",
       "3  2019     4        30.765                3.9                19500.0   \n",
       "4  2019     4        30.765                2.1                 2100.0   \n",
       "5  2019     4        30.765               15.5                 1550.0   \n",
       "6  2019     4        30.765               15.5                 1550.0   \n",
       "7  2019     4        30.765                4.3                 6020.0   \n",
       "8  2019     4        30.765                4.3                 1720.0   \n",
       "9  2019     4        30.765                4.0                 2400.0   \n",
       "\n",
       "  Foreign Extended Cost Foreign Ext# Margin Quantity Shipped  Description  \n",
       "0                366.20              123.80            100.0          OBM  \n",
       "1                366.31              123.69            100.0          OBM  \n",
       "2                366.18              123.82            100.0          OBM  \n",
       "3              14171.00             5329.00           5000.0          OBM  \n",
       "4               1470.00              630.00           1000.0          OBM  \n",
       "5                647.59              902.41            100.0          OBM  \n",
       "6                647.59              902.41            100.0          OBM  \n",
       "7               3839.08             2180.92           1400.0          OBM  \n",
       "8               1101.32              618.68            400.0          OBM  \n",
       "9               1759.02              640.98            600.0          OBM  \n",
       "\n",
       "[10 rows x 28 columns]"
      ]
     },
     "execution_count": 1,
     "metadata": {},
     "output_type": "execute_result"
    }
   ],
   "source": [
    "import pymysql\n",
    "import pandas as pd\n",
    "import numpy as np\n",
    "\n",
    "#資料載入\n",
    "conn = pymysql.connect(\"localhost\", \"root\", \"zx8212290\", \"genius_data\", charset=\"utf8\")\n",
    "sql = \"SELECT * FROM 歷史數據\"\n",
    "df = pd.read_sql(sql, conn)\n",
    "df.head(10)"
   ]
  },
  {
   "cell_type": "markdown",
   "metadata": {},
   "source": [
    "### 整數"
   ]
  },
  {
   "cell_type": "code",
   "execution_count": 2,
   "metadata": {},
   "outputs": [
    {
     "data": {
      "text/plain": [
       "0           100\n",
       "1           100\n",
       "2           100\n",
       "3          5000\n",
       "4          1000\n",
       "          ...  \n",
       "671303     5000\n",
       "671304    10216\n",
       "671305    14000\n",
       "671306    10000\n",
       "671307    10000\n",
       "Name: Quantity Shipped, Length: 671308, dtype: int32"
      ]
     },
     "execution_count": 2,
     "metadata": {},
     "output_type": "execute_result"
    }
   ],
   "source": [
    "df['Quantity Shipped'].astype(int)"
   ]
  },
  {
   "cell_type": "markdown",
   "metadata": {},
   "source": [
    "### 小數位數，四捨五入\n",
    "使用自定義函数可以做保留小數位數。<br>\n",
    "但是經過自定義函数處理過後的數據已經不再是float。如需後續計算的話需要先做變換。"
   ]
  },
  {
   "cell_type": "code",
   "execution_count": 62,
   "metadata": {},
   "outputs": [
    {
     "data": {
      "text/plain": [
       "0           100.0\n",
       "1           100.0\n",
       "2           100.0\n",
       "3          5000.0\n",
       "4          1000.0\n",
       "           ...   \n",
       "671303     5000.0\n",
       "671304    10216.0\n",
       "671305    14000.0\n",
       "671306    10000.0\n",
       "671307    10000.0\n",
       "Name: Quantity Shipped, Length: 671308, dtype: object"
      ]
     },
     "execution_count": 62,
     "metadata": {},
     "output_type": "execute_result"
    }
   ],
   "source": [
    "df['Quantity Shipped'].map(lambda x:('%.1f')%x)"
   ]
  },
  {
   "cell_type": "markdown",
   "metadata": {},
   "source": [
    "### 百分比\n",
    "這裡利用自定義函数將每個數字進行format格式處理，處理後數據從float格式轉換成了帶2位小數和百分號的對象。"
   ]
  },
  {
   "cell_type": "code",
   "execution_count": 47,
   "metadata": {},
   "outputs": [
    {
     "data": {
      "text/plain": [
       "0           10000.00%\n",
       "1           10000.00%\n",
       "2           10000.00%\n",
       "3          500000.00%\n",
       "4          100000.00%\n",
       "             ...     \n",
       "671303     500000.00%\n",
       "671304    1021600.00%\n",
       "671305    1400000.00%\n",
       "671306    1000000.00%\n",
       "671307    1000000.00%\n",
       "Name: Quantity Shipped, Length: 671308, dtype: object"
      ]
     },
     "execution_count": 47,
     "metadata": {},
     "output_type": "execute_result"
    }
   ],
   "source": [
    "df['Quantity Shipped'].map(lambda x:format(x,'.2%'))"
   ]
  },
  {
   "cell_type": "markdown",
   "metadata": {},
   "source": [
    "### 千位分隔符\n",
    "處理後依然是對象格式。設置千位分割符請小心操作，因為對電腦來說，這些已經不再是數字了，而是數字和逗號組成的字符串，要再變成數值型就麻煩了。"
   ]
  },
  {
   "cell_type": "code",
   "execution_count": 60,
   "metadata": {},
   "outputs": [
    {
     "data": {
      "text/plain": [
       "0            490.0\n",
       "1            490.0\n",
       "2            490.0\n",
       "3         19,500.0\n",
       "4          2,100.0\n",
       "            ...   \n",
       "671303    19,500.0\n",
       "671304    36,777.6\n",
       "671305    27,860.0\n",
       "671306    19,900.0\n",
       "671307    46,000.0\n",
       "Name: Foreign Extended Price, Length: 671308, dtype: object"
      ]
     },
     "execution_count": 60,
     "metadata": {},
     "output_type": "execute_result"
    }
   ],
   "source": [
    "#法一\n",
    "df['Foreign Extended Price'].map(lambda x:format(x,','))"
   ]
  },
  {
   "cell_type": "code",
   "execution_count": 72,
   "metadata": {},
   "outputs": [
    {
     "data": {
      "text/plain": [
       "0            490.0\n",
       "1            490.0\n",
       "2            490.0\n",
       "3         19,500.0\n",
       "4          2,100.0\n",
       "            ...   \n",
       "671303    19,500.0\n",
       "671304    36,777.6\n",
       "671305    27,860.0\n",
       "671306    19,900.0\n",
       "671307    46,000.0\n",
       "Name: Foreign Extended Price, Length: 671308, dtype: object"
      ]
     },
     "execution_count": 72,
     "metadata": {},
     "output_type": "execute_result"
    }
   ],
   "source": [
    "#法二\n",
    "df['Foreign Extended Price'].apply(\"{:,}\".format)"
   ]
  },
  {
   "cell_type": "markdown",
   "metadata": {},
   "source": [
    "### 整數&千分位"
   ]
  },
  {
   "cell_type": "code",
   "execution_count": 6,
   "metadata": {},
   "outputs": [
    {
     "data": {
      "text/plain": [
       "0            100\n",
       "1            100\n",
       "2            100\n",
       "3          5,000\n",
       "4          1,000\n",
       "           ...  \n",
       "671303     5,000\n",
       "671304    10,216\n",
       "671305    14,000\n",
       "671306    10,000\n",
       "671307    10,000\n",
       "Name: Quantity Shipped, Length: 671308, dtype: object"
      ]
     },
     "execution_count": 6,
     "metadata": {},
     "output_type": "execute_result"
    }
   ],
   "source": [
    "df['Quantity Shipped'].astype(int).map(lambda x:format(x,','))\n",
    "#df['Quantity Shipped'].astype(int).apply(\"{:,}\".format)\n",
    "#但type還是object，所以不能用來計算和做圖"
   ]
  },
  {
   "cell_type": "code",
   "execution_count": null,
   "metadata": {},
   "outputs": [],
   "source": []
  },
  {
   "cell_type": "code",
   "execution_count": null,
   "metadata": {},
   "outputs": [],
   "source": []
  },
  {
   "cell_type": "code",
   "execution_count": null,
   "metadata": {},
   "outputs": [],
   "source": []
  },
  {
   "cell_type": "code",
   "execution_count": null,
   "metadata": {},
   "outputs": [],
   "source": []
  },
  {
   "cell_type": "code",
   "execution_count": null,
   "metadata": {},
   "outputs": [],
   "source": []
  },
  {
   "cell_type": "code",
   "execution_count": null,
   "metadata": {},
   "outputs": [],
   "source": []
  },
  {
   "cell_type": "code",
   "execution_count": null,
   "metadata": {},
   "outputs": [],
   "source": []
  }
 ],
 "metadata": {
  "kernelspec": {
   "display_name": "Python 3",
   "language": "python",
   "name": "python3"
  },
  "language_info": {
   "codemirror_mode": {
    "name": "ipython",
    "version": 3
   },
   "file_extension": ".py",
   "mimetype": "text/x-python",
   "name": "python",
   "nbconvert_exporter": "python",
   "pygments_lexer": "ipython3",
   "version": "3.7.1"
  }
 },
 "nbformat": 4,
 "nbformat_minor": 2
}
