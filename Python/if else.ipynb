{
 "cells": [
  {
   "cell_type": "code",
   "execution_count": 4,
   "metadata": {},
   "outputs": [
    {
     "name": "stdout",
     "output_type": "stream",
     "text": [
      "go home\n"
     ]
    }
   ],
   "source": [
    "battery = 10\n",
    "if battery > 80:\n",
    "    print('go get pekemo')\n",
    "elif battery < 30:\n",
    "    print('go home')\n",
    "else:\n",
    "    print('take a break')"
   ]
  },
  {
   "cell_type": "code",
   "execution_count": 5,
   "metadata": {},
   "outputs": [
    {
     "name": "stdout",
     "output_type": "stream",
     "text": [
      "go charging\n"
     ]
    }
   ],
   "source": [
    "phone = 'iPhone'\n",
    "battery = 5\n",
    "if phone =='Note 7' and battery < 10:\n",
    "    print('explosion!')\n",
    "elif phone != 'Note 7' and battery < 10:\n",
    "    print('go charging')\n",
    "elif not phone == 'Note 7' or battery > 90:\n",
    "    print('safe')\n",
    "else:\n",
    "    print(\"i don't know\")"
   ]
  },
  {
   "cell_type": "code",
   "execution_count": null,
   "metadata": {},
   "outputs": [],
   "source": []
  }
 ],
 "metadata": {
  "kernelspec": {
   "display_name": "Python 3",
   "language": "python",
   "name": "python3"
  },
  "language_info": {
   "codemirror_mode": {
    "name": "ipython",
    "version": 3
   },
   "file_extension": ".py",
   "mimetype": "text/x-python",
   "name": "python",
   "nbconvert_exporter": "python",
   "pygments_lexer": "ipython3",
   "version": "3.7.1"
  }
 },
 "nbformat": 4,
 "nbformat_minor": 2
}
