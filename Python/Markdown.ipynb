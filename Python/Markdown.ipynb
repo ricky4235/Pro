{
 "cells": [
  {
   "cell_type": "markdown",
   "metadata": {},
   "source": [
    "# 標題階層一\n",
    "## 標題階層二\n",
    "### 標題階層三\n",
    "#### 標題階層四\n",
    "##### 標題階層五\n",
    "###### 標題階層六"
   ]
  },
  {
   "cell_type": "markdown",
   "metadata": {},
   "source": [
    "## 清單\n",
    "### 無順序的標點清單列表\n",
    "* 第 1 點\n",
    "    * 第 1-1 點\n",
    "    - 第 1-2 點\n",
    "    + 第 1-3 點\n",
    "- 第 2 點\n",
    "    * 第 2-1 點\n",
    "+ 第 3 點\n",
    "### 有順序的數字清單列表\n",
    "1. 第 1 點\n",
    "2. 第 2 點\n",
    "3. 第 3 點"
   ]
  },
  {
   "cell_type": "markdown",
   "metadata": {},
   "source": [
    "## 引用\n",
    "> Life was like a box of chocolates. You never know what you're gonna get."
   ]
  },
  {
   "cell_type": "markdown",
   "metadata": {},
   "source": [
    "## 數學方程式\n",
    "### 行內方程式\n",
    "這是行內方程式 $S(x) = ^1/_{1+e^{-x}}$\n",
    "### 方程式區塊\n",
    "這是方程式區塊：\n",
    "$$S(x) = \\frac{1}{1+e^{-x}}$$"
   ]
  },
  {
   "cell_type": "markdown",
   "metadata": {},
   "source": [
    "## 水平分隔線\n",
    "第一個水平分隔線：\n",
    "***\n",
    "第二個水平分隔線：\n",
    "---\n",
    "第三個水平分隔線：\n",
    "___"
   ]
  },
  {
   "cell_type": "markdown",
   "metadata": {},
   "source": [
    "# <mark>Markdown如何在jupyter notebook裏面改變字體、大小、顏色以及高亮<mark>＿"
   ]
  },
  {
   "cell_type": "markdown",
   "metadata": {},
   "source": [
    "## 改變字體顏色(color)"
   ]
  },
  {
   "cell_type": "code",
   "execution_count": null,
   "metadata": {},
   "outputs": [],
   "source": [
    "**<font color = red>紅色+加粗</font>**"
   ]
  },
  {
   "cell_type": "code",
   "execution_count": null,
   "metadata": {},
   "outputs": [],
   "source": [
    "*<font color = blue>藍色+斜體</font>*\n",
    "或\n",
    "_<font color = blue>藍色+斜體</font>_"
   ]
  },
  {
   "cell_type": "code",
   "execution_count": null,
   "metadata": {},
   "outputs": [],
   "source": [
    "***<font color=green>綠色+加粗+斜體</font>***\n",
    "或\n",
    "_**<font color=green>綠色+加粗+斜體</font>**_\n",
    "或\n",
    "___<font color=green>綠色+加粗+斜體</font>___"
   ]
  },
  {
   "cell_type": "markdown",
   "metadata": {},
   "source": [
    "## 改變字體(face)、大小(size)"
   ]
  },
  {
   "cell_type": "code",
   "execution_count": null,
   "metadata": {},
   "outputs": [],
   "source": [
    "<font color=steel size=5 face=雅黑>5號雅黑</font>"
   ]
  },
  {
   "cell_type": "markdown",
   "metadata": {},
   "source": [
    "## 文字進行高亮顯示"
   ]
  },
  {
   "cell_type": "markdown",
   "metadata": {},
   "source": [
    "通過<mark>標籤"
   ]
  },
  {
   "cell_type": "code",
   "execution_count": null,
   "metadata": {},
   "outputs": [],
   "source": [
    "<mark>黃色高亮<mark>"
   ]
  },
  {
   "cell_type": "markdown",
   "metadata": {},
   "source": [
    "改變高亮顏色"
   ]
  },
  {
   "cell_type": "code",
   "execution_count": null,
   "metadata": {},
   "outputs": [],
   "source": [
    "<mark style=background-color:red>改變高亮顏色</mark> "
   ]
  },
  {
   "cell_type": "markdown",
   "metadata": {},
   "source": [
    "疊加字體的變化"
   ]
  },
  {
   "cell_type": "code",
   "execution_count": null,
   "metadata": {},
   "outputs": [],
   "source": [
    "<mark><font color=red size=4 face=雅黑>疊加字體的變化<font><mark>＿"
   ]
  },
  {
   "cell_type": "markdown",
   "metadata": {},
   "source": [
    "# 插入圖片"
   ]
  },
  {
   "cell_type": "code",
   "execution_count": null,
   "metadata": {},
   "outputs": [],
   "source": [
    "本地檔案(與jupyter檔案同在一個根目錄中)"
   ]
  },
  {
   "cell_type": "code",
   "execution_count": 5,
   "metadata": {},
   "outputs": [
    {
     "data": {
      "text/html": [
       "<img src=\"5-2-2.png\", width=\"90%\">\n"
      ],
      "text/plain": [
       "<IPython.core.display.HTML object>"
      ]
     },
     "metadata": {},
     "output_type": "display_data"
    }
   ],
   "source": [
    "#此方法對應的是code模式\n",
    "%%html\n",
    "<img src=\"5-2-2.png\", width=\"90%\">"
   ]
  },
  {
   "cell_type": "code",
   "execution_count": null,
   "metadata": {},
   "outputs": [],
   "source": [
    "#此方法對應的是markdown模式\n",
    "![Image of Yaktocat](https://octodex.github.com/images/yaktocat.png)"
   ]
  },
  {
   "cell_type": "code",
   "execution_count": null,
   "metadata": {},
   "outputs": [],
   "source": [
    "![Image of Yaktocat](https://morvanzhou.github.io/static/results/scraping/5-2-2.png)"
   ]
  },
  {
   "cell_type": "code",
   "execution_count": null,
   "metadata": {},
   "outputs": [],
   "source": [
    "![Image of Yaktocat]()"
   ]
  }
 ],
 "metadata": {
  "kernelspec": {
   "display_name": "Python 3",
   "language": "python",
   "name": "python3"
  },
  "language_info": {
   "codemirror_mode": {
    "name": "ipython",
    "version": 3
   },
   "file_extension": ".py",
   "mimetype": "text/x-python",
   "name": "python",
   "nbconvert_exporter": "python",
   "pygments_lexer": "ipython3",
   "version": "3.7.1"
  }
 },
 "nbformat": 4,
 "nbformat_minor": 2
}
