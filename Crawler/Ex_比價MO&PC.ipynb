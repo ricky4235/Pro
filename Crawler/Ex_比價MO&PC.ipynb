{
 "cells": [
  {
   "cell_type": "code",
   "execution_count": null,
   "metadata": {},
   "outputs": [],
   "source": [
    "Ex_比價MO&PC"
   ]
  },
  {
   "cell_type": "markdown",
   "metadata": {},
   "source": [
    "# 比價爬蟲"
   ]
  },
  {
   "cell_type": "markdown",
   "metadata": {},
   "source": [
    "這邊會分成三部分:\n",
    "* A網站爬蟲\n",
    "* B網站爬蟲\n",
    "* 顯示資料的程式\n",
    "A網站的部分會是momo購物網, B網站是PChome 24h購物網, 而要比價的商品是iPhone 7 Plus 128G. 在搜集一定量資料後, 可以透過圖表觀察價格的變化."
   ]
  },
  {
   "cell_type": "markdown",
   "metadata": {},
   "source": [
    "### momo購物網爬蟲\n",
    "這邊是去爬momo購物網的行動版網頁, 要注意的地方是你必須附上User-Agent才可以."
   ]
  },
  {
   "cell_type": "code",
   "execution_count": 4,
   "metadata": {},
   "outputs": [
    {
     "name": "stdout",
     "output_type": "stream",
     "text": [
      "Python Tab\n"
     ]
    }
   ],
   "source": [
    "print ('%s %s'%('Python', 'Tab'))"
   ]
  },
  {
   "cell_type": "code",
   "execution_count": 10,
   "metadata": {},
   "outputs": [
    {
     "name": "stdout",
     "output_type": "stream",
     "text": [
      "Search item 'iPhone 11 Plus 128G' from momo...\n",
      "Search 11 records on 02-25\n",
      "{'name': '\\r\\n              【Apple 蘋果】iPhone 11 128G 6.1吋(犀牛盾耐衝殼組)\\r\\n            ', 'price': 27700, 'url': 'http://m.momoshop.com.tw//goods.momo?i_code=7024827&mdiv=searchEngine&oid=1_1&kw=iPhone 11 Plus 128G', 'img_url': 'https://img1.momoshop.com.tw/ecm/img/online/341/2020/01/14/144049056/2020011414404905601.png?t=20200221170650'}\n",
      "{'name': '\\r\\n              【Apple 蘋果】iPhone 11 128G 6.1吋(Beats urBeats3耳機組)\\r\\n            ', 'price': 28890, 'url': 'http://m.momoshop.com.tw//goods.momo?i_code=7024794&mdiv=searchEngine&oid=1_2&kw=iPhone 11 Plus 128G', 'img_url': 'https://img2.momoshop.com.tw/ecm/img/online/341/2020/01/14/144049056/2020011414404905601.png?t=20200221170650'}\n",
      "{'name': '\\r\\n              【PetAg 貝克】益菌多多粉PLUS 128g\\r\\n            ', 'price': 720, 'url': 'http://m.momoshop.com.tw//goods.momo?i_code=6444360&mdiv=searchEngine&oid=1_3&kw=iPhone 11 Plus 128G', 'img_url': 'https://img2.momoshop.com.tw/goodsimg/0006/444/360/6444360_L.jpg?t=1577126048'}\n",
      "{'name': '\\r\\n              【Apple 蘋果】福利品 iPhone 7 Plus 128G 5.5吋(全機原廠零件+安心保固一年+接近新品)\\r\\n            ', 'price': 14727, 'url': 'http://m.momoshop.com.tw//goods.momo?i_code=6261589&mdiv=searchEngine&oid=1_4&kw=iPhone 11 Plus 128G', 'img_url': 'https://img4.momoshop.com.tw/ecm/img/online/341/2020/01/14/144049056/2020011414404905601.png?t=20200221170650'}\n",
      "{'name': '\\r\\n              【APPLE】iPhone 7 Plus 128G 5.5吋智慧型手機\\r\\n            ', 'price': 16700, 'url': 'http://m.momoshop.com.tw//goods.momo?i_code=4591506&mdiv=searchEngine&oid=1_5&kw=iPhone 11 Plus 128G', 'img_url': 'https://img1.momoshop.com.tw/ecm/img/online/341/2020/01/14/144049056/2020011414404905601.png?t=20200221170650'}\n",
      "{'name': '\\r\\n              【Apple 蘋果】福利品 iPhone 7 Plus 128G 5.5吋智慧型手機(電池健康度98%無原廠盒無耳機)\\r\\n            ', 'price': 11051, 'url': 'http://m.momoshop.com.tw//goods.momo?i_code=6044933&mdiv=searchEngine&oid=1_6&kw=iPhone 11 Plus 128G', 'img_url': 'https://img4.momoshop.com.tw/ecm/img/online/341/2020/01/14/144049056/2020011414404905601.png?t=20200221170650'}\n",
      "{'name': '\\r\\n              【Apple 蘋果】iPhone 11 128G 6.1吋(Spigen晶透軟殼組)\\r\\n            ', 'price': 27800, 'url': 'http://m.momoshop.com.tw//goods.momo?i_code=7236412&mdiv=searchEngine&oid=1_7&kw=iPhone 11 Plus 128G', 'img_url': 'https://img2.momoshop.com.tw/ecm/img/online/341/2020/01/14/144049056/2020011414404905601.png?t=20200221170650'}\n",
      "{'name': '\\r\\n              【Apple 蘋果】iPhone 11 128G 6.1吋(30W快速充電組)\\r\\n            ', 'price': 27800, 'url': 'http://m.momoshop.com.tw//goods.momo?i_code=7398457&mdiv=searchEngine&oid=1_8&kw=iPhone 11 Plus 128G', 'img_url': 'https://img1.momoshop.com.tw/ecm/img/online/341/2020/01/14/144049056/2020011414404905601.png?t=20200221170650'}\n",
      "{'name': '\\r\\n              【Apple 蘋果】iPhone 11 128G 6.1吋(無線充電架組)\\r\\n            ', 'price': 27700, 'url': 'http://m.momoshop.com.tw//goods.momo?i_code=7440709&mdiv=searchEngine&oid=1_9&kw=iPhone 11 Plus 128G', 'img_url': 'https://img3.momoshop.com.tw/ecm/img/online/341/2020/01/14/144049056/2020011414404905601.png?t=20200221170650'}\n",
      "{'name': '\\r\\n              【Apple 蘋果】iPhone 11 128G 6.1吋(鋁合金軍規防摔殼組)\\r\\n            ', 'price': 27800, 'url': 'http://m.momoshop.com.tw//goods.momo?i_code=7239187&mdiv=searchEngine&oid=1_10&kw=iPhone 11 Plus 128G', 'img_url': 'https://img4.momoshop.com.tw/ecm/img/online/341/2020/01/14/144049056/2020011414404905601.png?t=20200221170650'}\n",
      "{'name': '\\r\\n              【Apple 蘋果】iPhone 11 128G 6.1吋(美國 Case●Mate防摔彩虹殼組)\\r\\n            ', 'price': 28200, 'url': 'http://m.momoshop.com.tw//goods.momo?i_code=7236336&mdiv=searchEngine&oid=1_11&kw=iPhone 11 Plus 128G', 'img_url': 'https://img1.momoshop.com.tw/ecm/img/online/341/2020/01/14/144049056/2020011414404905601.png?t=20200221170650'}\n"
     ]
    }
   ],
   "source": [
    "import urllib.parse\n",
    "import requests\n",
    "import time\n",
    "import json\n",
    "import os\n",
    "from bs4 import BeautifulSoup\n",
    "\n",
    "\n",
    "STORE = 'momo'\n",
    "MOMO_MOBILE_URL = 'http://m.momoshop.com.tw/'\n",
    "MOMO_QUERY_URL = MOMO_MOBILE_URL + 'mosearch/%s.html' #%s，表示格式化一個對象為字符\n",
    "USER_AGENT_VALUE = 'Mozilla/5.0 (Macintosh; Intel Mac OS X 10_12_5) AppleWebKit/537.36 (KHTML, like Gecko) Chrome/58.0.3029.110 Safari/537.36'\n",
    "\n",
    "\n",
    "def get_web_content(query):\n",
    "    encoded_query = urllib.parse.quote(query) #quote():對URL進行編碼(參見Ch00_URL)，也就是解析我們要查詢的關鍵字\n",
    "    query_url = MOMO_QUERY_URL % encoded_query  #搭配前面%s格式化\n",
    "    headers = {'User-Agent': USER_AGENT_VALUE}\n",
    "    resp = requests.get(query_url, headers=headers)\n",
    "    if not resp:\n",
    "        return []\n",
    "    resp.encoding = 'UTF-8'\n",
    "    return BeautifulSoup(resp.text, 'html.parser')\n",
    "\n",
    "\n",
    "def search_momo(query):\n",
    "    dom = get_web_content(query)\n",
    "    if dom:\n",
    "        items = []\n",
    "        for element in dom.find('article', 'prdListArea').ul.find_all('li'):\n",
    "            item_name = element.find('p', 'prdName').text\n",
    "            item_price = element.find('b', 'price').text.replace(',', '').replace('$', '')\n",
    "            if not item_price:\n",
    "                continue\n",
    "            item_price = int(item_price)\n",
    "            item_url = MOMO_MOBILE_URL + element.find('a')['href']\n",
    "            item_img_url = element.a.img['src']\n",
    "\n",
    "            item = {\n",
    "                'name': item_name,\n",
    "                'price': item_price,\n",
    "                'url': item_url,\n",
    "                'img_url': item_img_url\n",
    "            }\n",
    "\n",
    "            items.append(item)\n",
    "        return items\n",
    "\n",
    "\n",
    "def save_search_result(data):\n",
    "    with open(os.path.join('json', data['date'] + '-%s.json' % STORE), 'w', encoding='UTF-8') as file:\n",
    "        #函數 os.path.join()：將多個路徑組合後返回\n",
    "        json.dump(data, file, indent=2, ensure_ascii=False)\n",
    "        #'json\\\\02-21-momo.json'\n",
    "\n",
    "\n",
    "def main():\n",
    "    query_str = 'iPhone 11 Plus 128G'\n",
    "    items = search_momo(query_str)\n",
    "    today = time.strftime('%m-%d')\n",
    "    print('Search item \\'%s\\' from %s...' % (query_str, STORE))\n",
    "    print('Search %d records on %s' % (len(items), today))\n",
    "    for item in items:\n",
    "        print(item)\n",
    "    data = {\n",
    "        'date': today,\n",
    "        'store': STORE,\n",
    "        'items': items\n",
    "    }\n",
    "\n",
    "    save_search_result(data)\n",
    "\n",
    "\n",
    "if __name__ == '__main__':\n",
    "    main()"
   ]
  },
  {
   "cell_type": "markdown",
   "metadata": {},
   "source": [
    "### PChome 24h API爬蟲\n",
    "PChome 24h有提供API, 所以就不用爬網頁了."
   ]
  },
  {
   "cell_type": "code",
   "execution_count": 11,
   "metadata": {
    "scrolled": true
   },
   "outputs": [
    {
     "name": "stdout",
     "output_type": "stream",
     "text": [
      "Search item 'iphone 11 plus 128G' from pchome...\n",
      "Search 33 records on 02-25\n",
      "{'name': 'Apple iPhone 7 Plus (128G)', 'price': 16999, 'describe': '黑l玫瑰金★熱銷補貨到Apple iPhone 7 Plus (128G)\\\\r\\\\n#支援ip67防水 #升級固態式home鍵#雙鏡頭大光圈 #立體聲輸出 \\r\\n‧64 位元架構的 a10 fusion晶片\\r\\n‧嵌入式m10動作感應協同處理器\\r\\n‧5.5吋multi-touch的retina hd顯示器\\r\\n‧支援ip67防塵防水\\r\\n‧1200萬畫素廣角+長焦雙鏡頭 \\r\\n‧2倍光學變焦+10倍數位變焦雙鏡頭\\r\\n‧前鏡頭升級700萬畫素\\r\\n‧ios11作業系統\\r\\n\\r\\n  ◤相關注意◢\\r\\n  ★『由於本商品為特殊3c產品，商品經連上網路(含wifi)、登入apple id或連結上itunes後，此商品即被註冊並開始計算商品保固時間，且經註冊後此商品的保固日期即開始計算，無法還原！日後需辦理退貨時，經本公司確認，若此商品已被開啟保固時間，需要另外酌收額外的費用。在您還不確定是否要辦理退貨以前，請勿將此商品連上網路，避免在不經意的情況下開始保固時間。\\r\\n    主張七日鑑賞期者，猶豫期\"\"並非試用期\"\"，所以在尚未決定是否購買前，請保持原廠完整包裝及配件與其他贈品之完整性，若退貨商品本體刮痕或損壞，原廠外盒包裝損毀或商品缺件，將在您辦理退貨時，本公司將視毀損程度索賠，因無法復原新品保固狀態之折損費用。\\r\\n    您確認已閱讀前述說明並同意於此頁面下單視同同意本條款，不便之處敬請見諒謝謝。』\\r\\n\\r\\n*請注意黑色為霧面金屬黑!!', 'img_url': 'http://ec1img.pchome.com.tw//items/DYAJ86A900ADDZ1/000001_1574672173.jpg', 'url': 'http://24h.pchome.com.tw/prod/DYAJ86-A900ADDZ1'}\n",
      "{'name': 'Apple iPhone 7 Plus (128G)', 'price': 14990, 'describe': '★贈iPhone 7 plus 玻璃保貼、防摔空壓殼★Apple iPhone 7 Plus (128G)\\\\r\\\\n‧64 位元架構的 a10 fusion晶片\\r\\n‧嵌入式m10動作感應協同處理器\\r\\n‧4.7吋multi-touch的retina hd顯示器\\r\\n‧支援ip67防塵防水\\r\\n‧1200萬畫素相機|f 1.8光圈\\r\\n‧前鏡頭升級700萬畫素\\r\\n‧ios11作業系統\\r\\n\\r\\n  ◤相關注意◢\\r\\n  ★『由於本商品為特殊3c產品，商品經連上網路(含wifi)、登入apple id或連結上itunes後，\\r\\n    此商品即被註冊並開始計算商品保固時間，且經註冊後此商品的保固日期即開始計算，無法還原！日後需\\r\\n    辦理退貨時，經本公司確認，若此商品已被開啟保固時間，可能需要另外酌收額外的費用。在您還不確定\\r\\n    是否要辦理退貨以前，請勿將此商品連上網路，避免在不經意的情況下開始保固時間。\\r\\n    若主張七日鑑賞期，請您恢復商品原狀(※含包裝、配件等；產品一經註冊可能需要另外酌收額外的費用)\\r\\n    您確認已閱讀前述說明並同意於此頁面下單視同同意本條款，不便之處敬請見諒謝謝。』\\r\\n\\r\\n*請注意黑色為霧面金屬黑!!', 'img_url': 'http://ec1img.pchome.com.tw//items/DYAJ86A9009YPT5/000001_1578898992.jpg', 'url': 'http://24h.pchome.com.tw/prod/DYAJ86-A9009YPT5'}\n",
      "{'name': 'Apple iPhone 7 Plus (128G)', 'price': 14990, 'describe': '黑/金/玫瑰金★贈玻璃貼+空壓殼Apple iPhone 7 Plus (128G)\\\\r\\\\n#支援ip67防水 #升級固態式home鍵#雙鏡頭大光圈 #立體聲輸出 \\r\\n‧64 位元架構的 a10 fusion晶片\\r\\n‧嵌入式m10動作感應協同處理器\\r\\n‧5.5吋multi-touch的retina hd顯示器\\r\\n‧支援ip67防塵防水\\r\\n‧1200萬畫素廣角+長焦雙鏡頭 \\r\\n‧2倍光學變焦+10倍數位變焦雙鏡頭\\r\\n‧前鏡頭升級700萬畫素\\r\\n‧ios11作業系統\\r\\n\\r\\n  ◤相關注意◢\\r\\n  ★『由於本商品為特殊3c產品，商品經連上網路(含wifi)、登入apple id或連結上itunes後，此商品即被註冊並開始計算商品保固時間，且經註冊後此商品的保固日期即開始計算，無法還原！日後需辦理退貨時，經本公司確認，若此商品已被開啟保固時間，需要另外酌收額外的費用。在您還不確定是否要辦理退貨以前，請勿將此商品連上網路，避免在不經意的情況下開始保固時間。\\r\\n    主張七日鑑賞期者，猶豫期\"\"並非試用期\"\"，所以在尚未決定是否購買前，請保持原廠完整包裝及配件與其他贈品之完整性，若退貨商品本體刮痕或損壞，原廠外盒包裝損毀或商品缺件，將在您辦理退貨時，本公司將視毀損程度索賠，因無法復原新品保固狀態之折損費用。\\r\\n    您確認已閱讀前述說明並同意於此頁面下單視同同意本條款，不便之處敬請見諒謝謝。』\\r\\n\\r\\n*請注意黑色為霧面金屬黑!!', 'img_url': 'http://ec1img.pchome.com.tw//items/DYAJ86A900ACGW0/000001_1572924969.jpg', 'url': 'http://24h.pchome.com.tw/prod/DYAJ86-A900ACGW0'}\n",
      "{'name': 'Apple iPhone 7 Plus (128G)-玫瑰金(福利品)', 'price': 11000, 'describe': '福利品★拆封九成五新iPhone 7 Plus (128G)-玫瑰金 (2019)\\\\r\\\\n市價$24500．特價↘$１１０００\\r\\n現買現省$13500\\r\\n限量特殺～隨時回價～！！\\r\\n\\r\\n#支援ip67防水 #升級固態式home鍵#雙鏡頭大光圈 #立體聲輸出 \\r\\n‧64 位元架構的 a10 fusion晶片\\r\\n‧嵌入式m10動作感應協同處理器\\r\\n‧5.5吋multi-touch的retina hd顯示器\\r\\n‧支援ip67防塵防水\\r\\n‧1200萬畫素廣角+長焦雙鏡頭 \\r\\n‧2倍光學變焦+10倍數位變焦雙鏡頭\\r\\n‧前鏡頭升級700萬畫素\\r\\n‧ios11作業系統\\r\\n\\r\\n★點我購買iphone7 plus 精選配件：\\r\\n《★iphone原廠保護殼》\\r\\n《★iphone 7 plus 保護貼》\\r\\n\\r\\n\\r\\n◤ 相關注意 ◢\\r\\n  ★『福利品為非全新品，其來源可能是展示品、活動用品、消費者退換貨等已拆封產品。產品出貨前可能經過整新程序，包括功能檢測或替換零組件等，外觀上可能有些許刮傷，產品功能運作皆為正常，請務必確認為您可接受範圍，避免造成您的困擾。』', 'img_url': 'http://ec1img.pchome.com.tw//items/DYAJ8IA900A7E41/000001_1565923801.jpg', 'url': 'http://24h.pchome.com.tw/prod/DYAJ8I-A900A7E41'}\n",
      "{'name': 'Apple iPhone 8 (128G)-太空灰(MX162TA/A)', 'price': 12873, 'describe': '★福利品出清★Apple iPhone 8 (128G)\\\\r\\\\n請注意以下此商品相關資訊：1、此為拆封整新品且已重新包裝2、有些微刮傷，功能正常3、保固已啟用(保固時間依官網為主)4、商品實際序號與外盒不符實際序號：356392100710699外盒序號：356392102006658『左方商品圖僅為參考示意之用』，規格配件以實際出貨為主《本商品為福利品出清，恕無任何優惠、加購活動及贈品》\\r\\n‧ 4.7 吋 retina hd 顯示器具備 true tone\\r\\n‧ 全玻璃與鋁金屬機身設計\\r\\n‧ 防潑抗水與防塵功能\\r\\n‧ 1200 萬像素相機，有光學影像穩定功能 (ois)\\r\\n‧ 4k 影片拍攝(高達 60 fps)\\r\\n‧ 700 萬像素 facetime hd 相機\\r\\n‧ touch id，用於安全認證與 apple pay\\r\\n‧ a11 bionic智慧型手機晶片\\r\\n‧ 無線充電(可搭配qi充電器)\\r\\n\\r\\n◤法律聲明◢\\r\\n ★1.充電板另售。\\r\\n★2.iphone 8 與 iphone 8 plus 皆具備防潑抗水與防塵功能，並且已在受控管的實驗室環境條件下測試，達到 iec 60529 標準的 ip67 等級。防潑抗水與防塵功能非永久狀態，並可能隨日常使用造成的耗損而下降。\\r\\n請勿為潮濕的 iphone 充電；請參閱使用手冊了解清潔與乾燥處理說明。液體造成的損壞並不在保固範圍內。\\r\\n★3.顯示器尺寸為對角線長度。\\r\\n★4.facetime 通話需要收、發話雙方均使用具有 facetime 功能的裝置\\r\\n與wi-fi 連線。行動網路的適用情形視電信業者方案而定；數據服務可能須要付費。\\r\\n\\r\\n\\r\\n◤相關注意 ◢\\r\\n  ★『由於本商品為特殊3c產品，商品經連上網路(含wifi)、登入apple id或連結上itunes後，此商品即被註冊並開始計算商品保固時間，且經註冊後此商品的保固日期即開始計算，無法還原！日後需辦理退貨時，經本公司確認，若此商品已被開啟保固時間，可能需要另外酌收額外的費用。在您還不確定是否要辦理退貨以前，請勿將此商品連上網路，避免在不經意的情況下開始保固時間。若主張七日鑑賞期，請您恢復商品原狀(※含包裝、配件等；產品一經註冊可能需要另外酌收額外的費用)您確認已閱讀前述說明並同意於此頁面下單視同同意本條款，不便之處敬請見諒謝謝。』', 'img_url': 'http://ec1img.pchome.com.tw//items/DYAJ8PA900A8ZJ8/000001_1569989025.jpg', 'url': 'http://24h.pchome.com.tw/prod/DGAV0M-A900AERN0'}\n",
      "{'name': 'Apple iPhone 8 Plus (128G)-銀色(MX252TA/A)', 'price': 16308, 'describe': '★福利品出清★Apple iPhone 8 Plus (128G)\\\\r\\\\n請注意以下此商品相關資訊：1、此為拆封整新品且已重新包裝2、有些微刮傷，功能正常3、保固已啟用(保固時間依官網為主)4、商品實際序號與外盒不符實際序號：358629093280992外盒序號：358631093630549 『左方商品圖僅為參考示意之用』，規格配件以實際出貨為主《本商品為福利品出清，恕無任何優惠、加購活動及贈品》\\r\\n‧ 5.5 吋 retina hd 顯示器具備 true tone\\r\\n‧ 全玻璃與鋁金屬機身設計\\r\\n‧ 防潑抗水與防塵功能\\r\\n‧ 1200 萬像素雙鏡頭相機\\r\\n‧ 4k 影片拍攝功能 (高達 60 fps)\\r\\n‧ 700 萬像素 facetime hd 相機\\r\\n‧ touch id，用於安全認證與 apple pay\\r\\n‧ a11 bionic智慧型手機晶片\\r\\n‧ 無線充電 (可搭配 qi 充電器)\\r\\n\\r\\n◤法律聲明◢\\r\\n ★1.充電板另售。\\r\\n★2.iphone 8 與 iphone 8 plus 皆具備防潑抗水與防塵功能，並且已在受控管的實驗室環境條件下測試，達到 iec 60529 標準的 ip67 等級。防潑抗水與防塵功能非永久狀態，並可能隨日常使用造成的耗損而下降。\\r\\n請勿為潮濕的 iphone 充電；請參閱使用手冊了解清潔與乾燥處理說明。液體造成的損壞並不在保固範圍內。\\r\\n★3.顯示器尺寸為對角線長度。\\r\\n★4.facetime 通話需要收、發話雙方均使用具有 facetime 功能的裝置\\r\\n與wi-fi 連線。行動網路的適用情形視電信業者方案而定；數據服務可能須要付費。\\r\\n\\r\\n◤相關注意 ◢\\r\\n  ★『由於本商品為特殊3c產品，商品經連上網路(含wifi)、登入apple id或連結上itunes後，此商品即被註冊並開始計算商品保固時間，且經註冊後此商品的保固日期即開始計算，無法還原！日後需辦理退貨時，經本公司確認，若此商品已被開啟保固時間，可能需要另外酌收額外的費用。在您還不確定是否要辦理退貨以前，請勿將此商品連上網路，避免在不經意的情況下開始保固時間。若主張七日鑑賞期，請您恢復商品原狀(※含包裝、配件等；產品一經註冊可能需要另外酌收額外的費用)您確認已閱讀前述說明並同意於此頁面下單視同同意本條款，不便之處敬請見諒謝謝。』', 'img_url': 'http://ec1img.pchome.com.tw//items/DYAJ82A900A8ZM0/000001_1571104951.jpg', 'url': 'http://24h.pchome.com.tw/prod/DGAV0M-A900AH7PM'}\n",
      "{'name': 'Apple iPhone 8 Plus (128G)-金色(MX262TA/A)', 'price': 16308, 'describe': '★福利品出清★Apple iPhone 8 Plus (128G)\\\\r\\\\n請注意以下此商品相關資訊：1、此為拆封整新品，已重新包裝2、有些微刮傷，功能正常3、保固已啟用(保固時間依官網為主)『左方商品圖僅為參考示意之用』，規格配件以實際出貨為主《本商品為福利品出清，恕無任何優惠、加購活動及贈品》\\r\\n‧ 5.5 吋 retina hd 顯示器具備 true tone\\r\\n‧ 全玻璃與鋁金屬機身設計\\r\\n‧ 防潑抗水與防塵功能\\r\\n‧ 1200 萬像素雙鏡頭相機\\r\\n‧ 4k 影片拍攝功能 (高達 60 fps)\\r\\n‧ 700 萬像素 facetime hd 相機\\r\\n‧ touch id，用於安全認證與 apple pay\\r\\n‧ a11 bionic智慧型手機晶片\\r\\n‧ 無線充電 (可搭配 qi 充電器)\\r\\n\\r\\n◤法律聲明◢\\r\\n ★1.充電板另售。\\r\\n★2.iphone 8 與 iphone 8 plus 皆具備防潑抗水與防塵功能，並且已在受控管的實驗室環境條件下測試，達到 iec 60529 標準的 ip67 等級。防潑抗水與防塵功能非永久狀態，並可能隨日常使用造成的耗損而下降。\\r\\n請勿為潮濕的 iphone 充電；請參閱使用手冊了解清潔與乾燥處理說明。液體造成的損壞並不在保固範圍內。\\r\\n★3.顯示器尺寸為對角線長度。\\r\\n★4.facetime 通話需要收、發話雙方均使用具有 facetime 功能的裝置\\r\\n與wi-fi 連線。行動網路的適用情形視電信業者方案而定；數據服務可能須要付費。\\r\\n\\r\\n◤相關注意 ◢\\r\\n  ★『由於本商品為特殊3c產品，商品經連上網路(含wifi)、登入apple id或連結上itunes後，此商品即被註冊並開始計算商品保固時間，且經註冊後此商品的保固日期即開始計算，無法還原！日後需辦理退貨時，經本公司確認，若此商品已被開啟保固時間，可能需要另外酌收額外的費用。在您還不確定是否要辦理退貨以前，請勿將此商品連上網路，避免在不經意的情況下開始保固時間。若主張七日鑑賞期，請您恢復商品原狀(※含包裝、配件等；產品一經註冊可能需要另外酌收額外的費用)您確認已閱讀前述說明並同意於此頁面下單視同同意本條款，不便之處敬請見諒謝謝。』', 'img_url': 'http://ec1img.pchome.com.tw//items/DYAJ82A900A8ZKK/000001_1571104966.jpg', 'url': 'http://24h.pchome.com.tw/prod/DGAV0M-A900AH7OV'}\n",
      "{'name': 'Apple iPhone 8 (128G)-太空灰(MX162TA/A)', 'price': 12873, 'describe': '★福利品出清★Apple iPhone 8 (128G)\\\\r\\\\n請注意以下此商品相關資訊：1、此為拆封整新品且已重新包裝2、有些微刮傷，功能正常3、保固已啟用(保固時間依官網為主)4、商品實際序號與外盒不符實際序號：356392100452227外盒序號：356393102544581『左方商品圖僅為參考示意之用』，規格配件以實際出貨為主《本商品為福利品出清，恕無任何優惠、加購活動及贈品》\\r\\n‧ 4.7 吋 retina hd 顯示器具備 true tone\\r\\n‧ 全玻璃與鋁金屬機身設計\\r\\n‧ 防潑抗水與防塵功能\\r\\n‧ 1200 萬像素相機，有光學影像穩定功能 (ois)\\r\\n‧ 4k 影片拍攝(高達 60 fps)\\r\\n‧ 700 萬像素 facetime hd 相機\\r\\n‧ touch id，用於安全認證與 apple pay\\r\\n‧ a11 bionic智慧型手機晶片\\r\\n‧ 無線充電(可搭配qi充電器)\\r\\n\\r\\n◤法律聲明◢\\r\\n ★1.充電板另售。\\r\\n★2.iphone 8 與 iphone 8 plus 皆具備防潑抗水與防塵功能，並且已在受控管的實驗室環境條件下測試，達到 iec 60529 標準的 ip67 等級。防潑抗水與防塵功能非永久狀態，並可能隨日常使用造成的耗損而下降。\\r\\n請勿為潮濕的 iphone 充電；請參閱使用手冊了解清潔與乾燥處理說明。液體造成的損壞並不在保固範圍內。\\r\\n★3.顯示器尺寸為對角線長度。\\r\\n★4.facetime 通話需要收、發話雙方均使用具有 facetime 功能的裝置\\r\\n與wi-fi 連線。行動網路的適用情形視電信業者方案而定；數據服務可能須要付費。\\r\\n\\r\\n\\r\\n◤相關注意 ◢\\r\\n  ★『由於本商品為特殊3c產品，商品經連上網路(含wifi)、登入apple id或連結上itunes後，此商品即被註冊並開始計算商品保固時間，且經註冊後此商品的保固日期即開始計算，無法還原！日後需辦理退貨時，經本公司確認，若此商品已被開啟保固時間，可能需要另外酌收額外的費用。在您還不確定是否要辦理退貨以前，請勿將此商品連上網路，避免在不經意的情況下開始保固時間。若主張七日鑑賞期，請您恢復商品原狀(※含包裝、配件等；產品一經註冊可能需要另外酌收額外的費用)您確認已閱讀前述說明並同意於此頁面下單視同同意本條款，不便之處敬請見諒謝謝。』', 'img_url': 'http://ec1img.pchome.com.tw//items/DYAJ8PA900A8ZJ8/000001_1569989025.jpg', 'url': 'http://24h.pchome.com.tw/prod/DGAV0M-A900AERN1'}\n",
      "{'name': 'Apple iPhone 8 Plus (128G)-金色(MX262TA/A)', 'price': 18297, 'describe': '★福利品出清★Apple iPhone 8 Plus (128G)\\\\r\\\\n請注意以下此商品相關資訊：此為新品未經使用，可能會有外包裝受損、商品輕微刮傷等瑕疵，皆已整新並重新包裝『左方商品圖僅為參考示意之用』，規格配件以實際出貨為主《本商品為福利品出清，恕無任何優惠、加購活動及贈品》\\r\\n‧ 5.5 吋 retina hd 顯示器具備 true tone\\r\\n‧ 全玻璃與鋁金屬機身設計\\r\\n‧ 防潑抗水與防塵功能\\r\\n‧ 1200 萬像素雙鏡頭相機\\r\\n‧ 4k 影片拍攝功能 (高達 60 fps)\\r\\n‧ 700 萬像素 facetime hd 相機\\r\\n‧ touch id，用於安全認證與 apple pay\\r\\n‧ a11 bionic智慧型手機晶片\\r\\n‧ 無線充電 (可搭配 qi 充電器)\\r\\n\\r\\n◤法律聲明◢\\r\\n ★1.充電板另售。\\r\\n★2.iphone 8 與 iphone 8 plus 皆具備防潑抗水與防塵功能，並且已在受控管的實驗室環境條件下測試，達到 iec 60529 標準的 ip67 等級。防潑抗水與防塵功能非永久狀態，並可能隨日常使用造成的耗損而下降。\\r\\n請勿為潮濕的 iphone 充電；請參閱使用手冊了解清潔與乾燥處理說明。液體造成的損壞並不在保固範圍內。\\r\\n★3.顯示器尺寸為對角線長度。\\r\\n★4.facetime 通話需要收、發話雙方均使用具有 facetime 功能的裝置\\r\\n與wi-fi 連線。行動網路的適用情形視電信業者方案而定；數據服務可能須要付費。\\r\\n\\r\\n◤相關注意 ◢\\r\\n  ★『由於本商品為特殊3c產品，商品經連上網路(含wifi)、登入apple id或連結上itunes後，此商品即被註冊並開始計算商品保固時間，且經註冊後此商品的保固日期即開始計算，無法還原！日後需辦理退貨時，經本公司確認，若此商品已被開啟保固時間，可能需要另外酌收額外的費用。在您還不確定是否要辦理退貨以前，請勿將此商品連上網路，避免在不經意的情況下開始保固時間。若主張七日鑑賞期，請您恢復商品原狀(※含包裝、配件等；產品一經註冊可能需要另外酌收額外的費用)您確認已閱讀前述說明並同意於此頁面下單視同同意本條款，不便之處敬請見諒謝謝。』', 'img_url': 'http://ec1img.pchome.com.tw//items/DYAJ82A900A8ZKK/000001_1571104966.jpg', 'url': 'http://24h.pchome.com.tw/prod/DGAV0M-A900AH7Q0'}\n",
      "{'name': 'Apple iPhone 8 Plus (128G)-太空灰(MX242TA/A)', 'price': 18297, 'describe': '★福利品出清★Apple iPhone 8 Plus (128G)\\\\r\\\\n請注意以下此商品相關資訊：此為新品未經使用，可能會有外包裝受損、商品輕微刮傷等瑕疵，皆已整新並重新包裝『左方商品圖僅為參考示意之用』，規格配件以實際出貨為主《本商品為福利品出清，恕無任何優惠、加購活動及贈品》\\r\\n‧ 5.5 吋 retina hd 顯示器具備 true tone\\r\\n‧ 全玻璃與鋁金屬機身設計\\r\\n‧ 防潑抗水與防塵功能\\r\\n‧ 1200 萬像素雙鏡頭相機\\r\\n‧ 4k 影片拍攝功能 (高達 60 fps)\\r\\n‧ 700 萬像素 facetime hd 相機\\r\\n‧ touch id，用於安全認證與 apple pay\\r\\n‧ a11 bionic智慧型手機晶片\\r\\n‧ 無線充電 (可搭配 qi 充電器)\\r\\n\\r\\n◤法律聲明◢\\r\\n ★1.充電板另售。\\r\\n★2.iphone 8 與 iphone 8 plus 皆具備防潑抗水與防塵功能，並且已在受控管的實驗室環境條件下測試，達到 iec 60529 標準的 ip67 等級。防潑抗水與防塵功能非永久狀態，並可能隨日常使用造成的耗損而下降。\\r\\n請勿為潮濕的 iphone 充電；請參閱使用手冊了解清潔與乾燥處理說明。液體造成的損壞並不在保固範圍內。\\r\\n★3.顯示器尺寸為對角線長度。\\r\\n★4.facetime 通話需要收、發話雙方均使用具有 facetime 功能的裝置\\r\\n與wi-fi 連線。行動網路的適用情形視電信業者方案而定；數據服務可能須要付費。\\r\\n\\r\\n◤相關注意 ◢\\r\\n  ★『由於本商品為特殊3c產品，商品經連上網路(含wifi)、登入apple id或連結上itunes後，此商品即被註冊並開始計算商品保固時間，且經註冊後此商品的保固日期即開始計算，無法還原！日後需辦理退貨時，經本公司確認，若此商品已被開啟保固時間，可能需要另外酌收額外的費用。在您還不確定是否要辦理退貨以前，請勿將此商品連上網路，避免在不經意的情況下開始保固時間。若主張七日鑑賞期，請您恢復商品原狀(※含包裝、配件等；產品一經註冊可能需要另外酌收額外的費用)您確認已閱讀前述說明並同意於此頁面下單視同同意本條款，不便之處敬請見諒謝謝。』', 'img_url': 'http://ec1img.pchome.com.tw//items/DYAJ82A900A8ZM5/000001_1571104937.jpg', 'url': 'http://24h.pchome.com.tw/prod/DGAV0M-A900AH7PY'}\n",
      "{'name': 'Apple iPhone 8 (128G)-銀色(MX172TA/A)', 'price': 12873, 'describe': '★福利品出清★Apple iPhone 8 (128G)\\\\r\\\\n請注意以下此商品相關資訊：1、此為拆封整新品，已重新包裝2、有些微刮傷，功能正常3、保固已啟用(保固時間依官網為主)『左方商品圖僅為參考示意之用』，規格配件以實際出貨為主《本商品為福利品出清，恕無任何優惠、加購活動及贈品》\\r\\n‧ 4.7 吋 retina hd 顯示器具備 true tone\\r\\n‧ 全玻璃與鋁金屬機身設計\\r\\n‧ 防潑抗水與防塵功能\\r\\n‧ 1200 萬像素相機，有光學影像穩定功能 (ois)\\r\\n‧ 4k 影片拍攝(高達 60 fps)\\r\\n‧ 700 萬像素 facetime hd 相機\\r\\n‧ touch id，用於安全認證與 apple pay\\r\\n‧ a11 bionic智慧型手機晶片\\r\\n‧ 無線充電(可搭配qi充電器)\\r\\n\\r\\n◤法律聲明◢\\r\\n ★1.充電板另售。\\r\\n★2.iphone 8 與 iphone 8 plus 皆具備防潑抗水與防塵功能，並且已在受控管的實驗室環境條件下測試，達到 iec 60529 標準的 ip67 等級。防潑抗水與防塵功能非永久狀態，並可能隨日常使用造成的耗損而下降。\\r\\n請勿為潮濕的 iphone 充電；請參閱使用手冊了解清潔與乾燥處理說明。液體造成的損壞並不在保固範圍內。\\r\\n★3.顯示器尺寸為對角線長度。\\r\\n★4.facetime 通話需要收、發話雙方均使用具有 facetime 功能的裝置\\r\\n與wi-fi 連線。行動網路的適用情形視電信業者方案而定；數據服務可能須要付費。\\r\\n\\r\\n\\r\\n◤相關注意 ◢\\r\\n  ★『由於本商品為特殊3c產品，商品經連上網路(含wifi)、登入apple id或連結上itunes後，此商品即被註冊並開始計算商品保固時間，且經註冊後此商品的保固日期即開始計算，無法還原！日後需辦理退貨時，經本公司確認，若此商品已被開啟保固時間，可能需要另外酌收額外的費用。在您還不確定是否要辦理退貨以前，請勿將此商品連上網路，避免在不經意的情況下開始保固時間。若主張七日鑑賞期，請您恢復商品原狀(※含包裝、配件等；產品一經註冊可能需要另外酌收額外的費用)您確認已閱讀前述說明並同意於此頁面下單視同同意本條款，不便之處敬請見諒謝謝。』', 'img_url': 'http://ec1img.pchome.com.tw//items/DYAJ8PA900A8ZK8/000001_1569989013.jpg', 'url': 'http://24h.pchome.com.tw/prod/DGAV0M-A900AH7P2'}\n",
      "{'name': 'Apple iPhone 8 (128G)-太空灰(MX162TA/A)', 'price': 12873, 'describe': '★福利品出清★Apple iPhone 8 (128G)\\\\r\\\\n請注意以下此商品相關資訊：1、此為拆封整新品且已重新包裝2、有些微刮傷，功能正常3、保固已啟用(保固時間依官網為主)4、商品實際序號與外盒不符實際序號：356393100959625外盒序號：356392102418432『左方商品圖僅為參考示意之用』，規格配件以實際出貨為主《本商品為福利品出清，恕無任何優惠、加購活動及贈品》\\r\\n‧ 4.7 吋 retina hd 顯示器具備 true tone\\r\\n‧ 全玻璃與鋁金屬機身設計\\r\\n‧ 防潑抗水與防塵功能\\r\\n‧ 1200 萬像素相機，有光學影像穩定功能 (ois)\\r\\n‧ 4k 影片拍攝(高達 60 fps)\\r\\n‧ 700 萬像素 facetime hd 相機\\r\\n‧ touch id，用於安全認證與 apple pay\\r\\n‧ a11 bionic智慧型手機晶片\\r\\n‧ 無線充電(可搭配qi充電器)\\r\\n\\r\\n◤法律聲明◢\\r\\n ★1.充電板另售。\\r\\n★2.iphone 8 與 iphone 8 plus 皆具備防潑抗水與防塵功能，並且已在受控管的實驗室環境條件下測試，達到 iec 60529 標準的 ip67 等級。防潑抗水與防塵功能非永久狀態，並可能隨日常使用造成的耗損而下降。\\r\\n請勿為潮濕的 iphone 充電；請參閱使用手冊了解清潔與乾燥處理說明。液體造成的損壞並不在保固範圍內。\\r\\n★3.顯示器尺寸為對角線長度。\\r\\n★4.facetime 通話需要收、發話雙方均使用具有 facetime 功能的裝置\\r\\n與wi-fi 連線。行動網路的適用情形視電信業者方案而定；數據服務可能須要付費。\\r\\n\\r\\n\\r\\n◤相關注意 ◢\\r\\n  ★『由於本商品為特殊3c產品，商品經連上網路(含wifi)、登入apple id或連結上itunes後，此商品即被註冊並開始計算商品保固時間，且經註冊後此商品的保固日期即開始計算，無法還原！日後需辦理退貨時，經本公司確認，若此商品已被開啟保固時間，可能需要另外酌收額外的費用。在您還不確定是否要辦理退貨以前，請勿將此商品連上網路，避免在不經意的情況下開始保固時間。若主張七日鑑賞期，請您恢復商品原狀(※含包裝、配件等；產品一經註冊可能需要另外酌收額外的費用)您確認已閱讀前述說明並同意於此頁面下單視同同意本條款，不便之處敬請見諒謝謝。』', 'img_url': 'http://ec1img.pchome.com.tw//items/DYAJ8PA900A8ZJ8/000001_1569989025.jpg', 'url': 'http://24h.pchome.com.tw/prod/DGAV0M-A900AGT22'}\n",
      "{'name': 'Apple iPhone 7 Plus (128G)-金色(福利品)', 'price': 11000, 'describe': '福利品★拆封九成五新iPhone 7 Plus (128G)-金色 (2019)\\\\r\\\\n市價$24500．特價↘$１１０００\\r\\n現買現省$13500\\r\\n限量特殺～隨時回價～！！\\r\\n\\r\\n#支援ip67防水 #升級固態式home鍵#雙鏡頭大光圈 #立體聲輸出 \\r\\n‧64 位元架構的 a10 fusion晶片\\r\\n‧嵌入式m10動作感應協同處理器\\r\\n‧5.5吋multi-touch的retina hd顯示器\\r\\n‧支援ip67防塵防水\\r\\n‧1200萬畫素廣角+長焦雙鏡頭 \\r\\n‧2倍光學變焦+10倍數位變焦雙鏡頭\\r\\n‧前鏡頭升級700萬畫素\\r\\n‧ios11作業系統\\r\\n\\r\\n★點我購買iphone7 plus 精選配件：\\r\\n《★iphone原廠保護殼》\\r\\n《★iphone 7 plus 保護貼》\\r\\n\\r\\n\\r\\n◤ 相關注意 ◢\\r\\n  ★『福利品為非全新品，其來源可能是展示品、活動用品、消費者退換貨等已拆封產品。產品出貨前可能經過整新程序，包括功能檢測或替換零組件等，外觀上可能有些許刮傷，產品功能運作皆為正常，請務必確認為您可接受範圍，避免造成您的困擾。』', 'img_url': 'http://ec1img.pchome.com.tw//items/DYAJ8IA900A7E42/000001_1565923788.jpg', 'url': 'http://24h.pchome.com.tw/prod/DYAJ8I-A900A7E42'}\n",
      "{'name': 'Apple iPhone 8 Plus (128G)-銀色(MX252TA/A)', 'price': 18297, 'describe': '★福利品出清★Apple iPhone 8 Plus (128G)\\\\r\\\\n請注意以下此商品相關資訊：此為新品未經使用，背面左上有明顯刮傷，不影響使用，皆已整新並重新包裝『左方商品圖僅為參考示意之用』，規格配件以實際出貨為主《本商品為福利品出清，恕無任何優惠、加購活動及贈品》\\r\\n‧ 5.5 吋 retina hd 顯示器具備 true tone\\r\\n‧ 全玻璃與鋁金屬機身設計\\r\\n‧ 防潑抗水與防塵功能\\r\\n‧ 1200 萬像素雙鏡頭相機\\r\\n‧ 4k 影片拍攝功能 (高達 60 fps)\\r\\n‧ 700 萬像素 facetime hd 相機\\r\\n‧ touch id，用於安全認證與 apple pay\\r\\n‧ a11 bionic智慧型手機晶片\\r\\n‧ 無線充電 (可搭配 qi 充電器)\\r\\n\\r\\n◤法律聲明◢\\r\\n ★1.充電板另售。\\r\\n★2.iphone 8 與 iphone 8 plus 皆具備防潑抗水與防塵功能，並且已在受控管的實驗室環境條件下測試，達到 iec 60529 標準的 ip67 等級。防潑抗水與防塵功能非永久狀態，並可能隨日常使用造成的耗損而下降。\\r\\n請勿為潮濕的 iphone 充電；請參閱使用手冊了解清潔與乾燥處理說明。液體造成的損壞並不在保固範圍內。\\r\\n★3.顯示器尺寸為對角線長度。\\r\\n★4.facetime 通話需要收、發話雙方均使用具有 facetime 功能的裝置\\r\\n與wi-fi 連線。行動網路的適用情形視電信業者方案而定；數據服務可能須要付費。\\r\\n\\r\\n◤相關注意 ◢\\r\\n  ★『由於本商品為特殊3c產品，商品經連上網路(含wifi)、登入apple id或連結上itunes後，此商品即被註冊並開始計算商品保固時間，且經註冊後此商品的保固日期即開始計算，無法還原！日後需辦理退貨時，經本公司確認，若此商品已被開啟保固時間，可能需要另外酌收額外的費用。在您還不確定是否要辦理退貨以前，請勿將此商品連上網路，避免在不經意的情況下開始保固時間。若主張七日鑑賞期，請您恢復商品原狀(※含包裝、配件等；產品一經註冊可能需要另外酌收額外的費用)您確認已閱讀前述說明並同意於此頁面下單視同同意本條款，不便之處敬請見諒謝謝。』', 'img_url': 'http://ec1img.pchome.com.tw//items/DYAJ82A900A8ZM0/000001_1571104951.jpg', 'url': 'http://24h.pchome.com.tw/prod/DGAV0M-A900AFSD1'}\n",
      "{'name': 'Apple iPhone 8 Plus (128G)-太空灰(MX242TA/A)', 'price': 18297, 'describe': '★福利品出清★Apple iPhone 8 Plus (128G)\\\\r\\\\n請注意以下此商品相關資訊：此為新品未經使用，背面右側邊接縫明顯，不影響使用，皆已整新並重新包裝『左方商品圖僅為參考示意之用』，規格配件以實際出貨為主《本商品為福利品出清，恕無任何優惠、加購活動及贈品》\\r\\n‧ 5.5 吋 retina hd 顯示器具備 true tone\\r\\n‧ 全玻璃與鋁金屬機身設計\\r\\n‧ 防潑抗水與防塵功能\\r\\n‧ 1200 萬像素雙鏡頭相機\\r\\n‧ 4k 影片拍攝功能 (高達 60 fps)\\r\\n‧ 700 萬像素 facetime hd 相機\\r\\n‧ touch id，用於安全認證與 apple pay\\r\\n‧ a11 bionic智慧型手機晶片\\r\\n‧ 無線充電 (可搭配 qi 充電器)\\r\\n\\r\\n◤法律聲明◢\\r\\n ★1.充電板另售。\\r\\n★2.iphone 8 與 iphone 8 plus 皆具備防潑抗水與防塵功能，並且已在受控管的實驗室環境條件下測試，達到 iec 60529 標準的 ip67 等級。防潑抗水與防塵功能非永久狀態，並可能隨日常使用造成的耗損而下降。\\r\\n請勿為潮濕的 iphone 充電；請參閱使用手冊了解清潔與乾燥處理說明。液體造成的損壞並不在保固範圍內。\\r\\n★3.顯示器尺寸為對角線長度。\\r\\n★4.facetime 通話需要收、發話雙方均使用具有 facetime 功能的裝置\\r\\n與wi-fi 連線。行動網路的適用情形視電信業者方案而定；數據服務可能須要付費。\\r\\n\\r\\n◤相關注意 ◢\\r\\n  ★『由於本商品為特殊3c產品，商品經連上網路(含wifi)、登入apple id或連結上itunes後，此商品即被註冊並開始計算商品保固時間，且經註冊後此商品的保固日期即開始計算，無法還原！日後需辦理退貨時，經本公司確認，若此商品已被開啟保固時間，可能需要另外酌收額外的費用。在您還不確定是否要辦理退貨以前，請勿將此商品連上網路，避免在不經意的情況下開始保固時間。若主張七日鑑賞期，請您恢復商品原狀(※含包裝、配件等；產品一經註冊可能需要另外酌收額外的費用)您確認已閱讀前述說明並同意於此頁面下單視同同意本條款，不便之處敬請見諒謝謝。』', 'img_url': 'http://ec1img.pchome.com.tw//items/DYAJ82A900A8ZM5/000001_1571104937.jpg', 'url': 'http://24h.pchome.com.tw/prod/DGAV0M-A900AFSCY'}\n",
      "{'name': 'Apple iPhone 8 Plus (128G)-銀色(MX252TA/A)', 'price': 19888, 'describe': '銀色★送保殼+玻璃保貼Apple iPhone 8 Plus (128G)\\\\r\\\\n• 5.5 吋 retina hd 顯示器具備 true tone\\r\\n• 全玻璃與鋁金屬機身設計\\r\\n• 防潑抗水與防塵功能\\r\\n• 1200 萬像素雙鏡頭相機\\r\\n• 4k 影片拍攝功能 (高達 60 fps)\\r\\n• 700 萬像素 facetime hd 相機\\r\\n• touch id，用於安全認證與 apple pay\\r\\n• a11 bionic智慧型手機晶片\\r\\n• 無線充電 (可搭配 qi 充電器)\\r\\n\\r\\n館長小叮嚀：儲值購買最划算～\\r\\n↑2月儲值優惠活動，請點我\\r\\n\\r\\niphone碎屏險最低只要$680元起~\\r\\n購買手機後10日內可至顧客中心的訂單查詢點選訂單下方連結進行購買\\r\\n↑詳情請點圖片了解\\r\\n\\r\\n\\r\\n\\r\\n◤法律聲明◢\\r\\n ★1.充電板另售。\\r\\n★2.iphone 8 與 iphone 8 plus 皆具備防潑抗水與防塵功能，並且已在受控管的實驗室環境條件下測試，達到 iec 60529 標準的 ip67 等級。防潑抗水與防塵功能非永久狀態，並可能隨日常使用造成的耗損而下降。\\r\\n請勿為潮濕的 iphone 充電；請參閱使用手冊了解清潔與乾燥處理說明。液體造成的損壞並不在保固範圍內。\\r\\n★3.顯示器尺寸為對角線長度。\\r\\n★4.facetime 通話需要收、發話雙方均使用具有 facetime 功能的裝置\\r\\n與wi-fi 連線。行動網路的適用情形視電信業者方案而定；數據服務可能須要付費。\\r\\n\\r\\n◤相關注意 ◢\\r\\n  ★『由於本商品為特殊3c產品，商品經連上網路(含wifi)、登入apple id或連結上itunes後，此商品即被註冊並開始計算商品保固時間，且經註冊後此商品的保固日期即開始計算，無法還原！日後需辦理退貨時，經本公司確認，若此商品已被開啟保固時間，可能需要另外酌收額外的費用。在您還不確定是否要辦理退貨以前，請勿將此商品連上網路，避免在不經意的情況下開始保固時間。若主張七日鑑賞期，請您恢復商品原狀(※含包裝、配件等；產品一經註冊可能需要另外酌收額外的費用)您確認已閱讀前述說明並同意於此頁面下單視同同意本條款，不便之處敬請見諒謝謝。』', 'img_url': 'http://ec1img.pchome.com.tw//items/DYAJ821900AC5W2/000001_1581476325.jpg', 'url': 'http://24h.pchome.com.tw/prod/DYAJ82-1900AC5W2'}\n",
      "{'name': 'Apple iPhone 8 (128G)-金色(MX182TA/A)', 'price': 17900, 'describe': '金色★送傳輸線+保殼貼Apple iPhone 8 (128G)\\\\r\\\\n• 4.7 吋 retina hd 顯示器具備 true tone\\r\\n• 全玻璃與鋁金屬機身設計\\r\\n• 防潑抗水與防塵功能\\r\\n• 1200 萬像素相機，有光學影像穩定功能 (ois)\\r\\n• 4k 影片拍攝(高達 60 fps)\\r\\n• 700 萬像素 facetime hd 相機\\r\\n• touch id，用於安全認證與 apple pay\\r\\n• a11 bionic智慧型手機晶片\\r\\n• 無線充電(可搭配qi充電器)\\r\\n\\r\\niphone碎屏險最低只要$680元起~\\r\\n購買手機後10日內可至顧客中心的訂單查詢點選訂單下方連結進行購買\\r\\n↑詳情請點圖片了解\\r\\n\\r\\n◤法律聲明◢\\r\\n ★1.充電板另售。\\r\\n★2.iphone 8 與 iphone 8 plus 皆具備防潑抗水與防塵功能，並且已在受控管的實驗室環境條件下測試，達到 iec 60529 標準的 ip67 等級。防潑抗水與防塵功能非永久狀態，並可能隨日常使用造成的耗損而下降。\\r\\n請勿為潮濕的 iphone 充電；請參閱使用手冊了解清潔與乾燥處理說明。液體造成的損壞並不在保固範圍內。\\r\\n★3.顯示器尺寸為對角線長度。\\r\\n★4.facetime 通話需要收、發話雙方均使用具有 facetime 功能的裝置\\r\\n與wi-fi 連線。行動網路的適用情形視電信業者方案而定；數據服務可能須要付費。\\r\\n\\r\\n\\r\\n◤相關注意 ◢\\r\\n  ★『由於本商品為特殊3c產品，商品經連上網路(含wifi)、登入apple id或連結上itunes後，此商品即被註冊並開始計算商品保固時間，且經註冊後此商品的保固日期即開始計算，無法還原！日後需辦理退貨時，經本公司確認，若此商品已被開啟保固時間，可能需要另外酌收額外的費用。在您還不確定是否要辦理退貨以前，請勿將此商品連上網路，避免在不經意的情況下開始保固時間。若主張七日鑑賞期，請您恢復商品原狀(※含包裝、配件等；產品一經註冊可能需要另外酌收額外的費用)您確認已閱讀前述說明並同意於此頁面下單視同同意本條款，不便之處敬請見諒謝謝。』', 'img_url': 'http://ec1img.pchome.com.tw//items/DYAJ8P1900AA4X2/000001_1575022022.jpg', 'url': 'http://24h.pchome.com.tw/prod/DYAJ8P-1900AA4X2'}\n",
      "{'name': 'Apple iPhone 8 Plus (128G)-銀色(MX252TA/A)', 'price': 18888, 'describe': '銀色★狂降$3012Apple iPhone 8 Plus (128G)\\\\r\\\\n市價$21900．特價↘$１８８８８\\r\\n現買現省$3012\\r\\n限量特殺～隨時回價～！！\\r\\n\\r\\n• 5.5 吋 retina hd 顯示器具備 true tone\\r\\n• 全玻璃與鋁金屬機身設計\\r\\n• 防潑抗水與防塵功能\\r\\n• 1200 萬像素雙鏡頭相機\\r\\n• 4k 影片拍攝功能 (高達 60 fps)\\r\\n• 700 萬像素 facetime hd 相機\\r\\n• touch id，用於安全認證與 apple pay\\r\\n• a11 bionic智慧型手機晶片\\r\\n• 無線充電 (可搭配 qi 充電器)\\r\\n\\r\\n館長小叮嚀：儲值購買最划算～\\r\\n↑2月儲值優惠活動，請點我\\r\\n\\r\\niphone碎屏險最低只要$680元起~\\r\\n購買手機後10日內可至顧客中心的訂單查詢點選訂單下方連結進行購買\\r\\n↑詳情請點圖片了解\\r\\n\\r\\n\\r\\n\\r\\n◤法律聲明◢\\r\\n ★1.充電板另售。\\r\\n★2.iphone 8 與 iphone 8 plus 皆具備防潑抗水與防塵功能，並且已在受控管的實驗室環境條件下測試，達到 iec 60529 標準的 ip67 等級。防潑抗水與防塵功能非永久狀態，並可能隨日常使用造成的耗損而下降。\\r\\n請勿為潮濕的 iphone 充電；請參閱使用手冊了解清潔與乾燥處理說明。液體造成的損壞並不在保固範圍內。\\r\\n★3.顯示器尺寸為對角線長度。\\r\\n★4.facetime 通話需要收、發話雙方均使用具有 facetime 功能的裝置\\r\\n與wi-fi 連線。行動網路的適用情形視電信業者方案而定；數據服務可能須要付費。\\r\\n\\r\\n◤相關注意 ◢\\r\\n  ★『由於本商品為特殊3c產品，商品經連上網路(含wifi)、登入apple id或連結上itunes後，此商品即被註冊並開始計算商品保固時間，且經註冊後此商品的保固日期即開始計算，無法還原！日後需辦理退貨時，經本公司確認，若此商品已被開啟保固時間，可能需要另外酌收額外的費用。在您還不確定是否要辦理退貨以前，請勿將此商品連上網路，避免在不經意的情況下開始保固時間。若主張七日鑑賞期，請您恢復商品原狀(※含包裝、配件等；產品一經註冊可能需要另外酌收額外的費用)您確認已閱讀前述說明並同意於此頁面下單視同同意本條款，不便之處敬請見諒謝謝。』', 'img_url': 'http://ec1img.pchome.com.tw//items/DYAJCX1900AB2WP/000001_1580954587.jpg', 'url': 'http://24h.pchome.com.tw/prod/DYAJCX-1900AB2WP'}\n",
      "{'name': 'Apple iPhone 8 Plus (128G)-太空灰(MX242TA/A)', 'price': 18888, 'describe': '太空灰★狂降$3012Apple iPhone 8 Plus (128G)\\\\r\\\\n市價$21900．特價↘$１８８８８\\r\\n現買現省$3012\\r\\n限量特殺～隨時回價～！！\\r\\n\\r\\n• 5.5 吋 retina hd 顯示器具備 true tone\\r\\n• 全玻璃與鋁金屬機身設計\\r\\n• 防潑抗水與防塵功能\\r\\n• 1200 萬像素雙鏡頭相機\\r\\n• 4k 影片拍攝功能 (高達 60 fps)\\r\\n• 700 萬像素 facetime hd 相機\\r\\n• touch id，用於安全認證與 apple pay\\r\\n• a11 bionic智慧型手機晶片\\r\\n• 無線充電 (可搭配 qi 充電器)\\r\\n\\r\\n館長小叮嚀：儲值購買最划算～\\r\\n↑2月儲值優惠活動，請點我\\r\\n\\r\\niphone碎屏險最低只要$680元起~\\r\\n購買手機後10日內可至顧客中心的訂單查詢點選訂單下方連結進行購買\\r\\n↑詳情請點圖片了解\\r\\n\\r\\n\\r\\n\\r\\n◤法律聲明◢\\r\\n ★1.充電板另售。\\r\\n★2.iphone 8 與 iphone 8 plus 皆具備防潑抗水與防塵功能，並且已在受控管的實驗室環境條件下測試，達到 iec 60529 標準的 ip67 等級。防潑抗水與防塵功能非永久狀態，並可能隨日常使用造成的耗損而下降。\\r\\n請勿為潮濕的 iphone 充電；請參閱使用手冊了解清潔與乾燥處理說明。液體造成的損壞並不在保固範圍內。\\r\\n★3.顯示器尺寸為對角線長度。\\r\\n★4.facetime 通話需要收、發話雙方均使用具有 facetime 功能的裝置\\r\\n與wi-fi 連線。行動網路的適用情形視電信業者方案而定；數據服務可能須要付費。\\r\\n\\r\\n◤相關注意 ◢\\r\\n  ★『由於本商品為特殊3c產品，商品經連上網路(含wifi)、登入apple id或連結上itunes後，此商品即被註冊並開始計算商品保固時間，且經註冊後此商品的保固日期即開始計算，無法還原！日後需辦理退貨時，經本公司確認，若此商品已被開啟保固時間，可能需要另外酌收額外的費用。在您還不確定是否要辦理退貨以前，請勿將此商品連上網路，避免在不經意的情況下開始保固時間。若主張七日鑑賞期，請您恢復商品原狀(※含包裝、配件等；產品一經註冊可能需要另外酌收額外的費用)您確認已閱讀前述說明並同意於此頁面下單視同同意本條款，不便之處敬請見諒謝謝。』', 'img_url': 'http://ec1img.pchome.com.tw//items/DYAJCX1900AB2WM/000001_1580954597.jpg', 'url': 'http://24h.pchome.com.tw/prod/DYAJCX-1900AB2WM'}\n",
      "{'name': 'Apple iPhone 8 Plus (128G)-太空灰(MX242TA/A)', 'price': 19888, 'describe': '太空灰★送保殼+玻璃保貼Apple iPhone 8 Plus (128G)\\\\r\\\\n• 5.5 吋 retina hd 顯示器具備 true tone\\r\\n• 全玻璃與鋁金屬機身設計\\r\\n• 防潑抗水與防塵功能\\r\\n• 1200 萬像素雙鏡頭相機\\r\\n• 4k 影片拍攝功能 (高達 60 fps)\\r\\n• 700 萬像素 facetime hd 相機\\r\\n• touch id，用於安全認證與 apple pay\\r\\n• a11 bionic智慧型手機晶片\\r\\n• 無線充電 (可搭配 qi 充電器)\\r\\n\\r\\n館長小叮嚀：儲值購買最划算～\\r\\n↑2月儲值優惠活動，請點我\\r\\n\\r\\niphone碎屏險最低只要$680元起~\\r\\n購買手機後10日內可至顧客中心的訂單查詢點選訂單下方連結進行購買\\r\\n↑詳情請點圖片了解\\r\\n\\r\\n\\r\\n\\r\\n◤法律聲明◢\\r\\n ★1.充電板另售。\\r\\n★2.iphone 8 與 iphone 8 plus 皆具備防潑抗水與防塵功能，並且已在受控管的實驗室環境條件下測試，達到 iec 60529 標準的 ip67 等級。防潑抗水與防塵功能非永久狀態，並可能隨日常使用造成的耗損而下降。\\r\\n請勿為潮濕的 iphone 充電；請參閱使用手冊了解清潔與乾燥處理說明。液體造成的損壞並不在保固範圍內。\\r\\n★3.顯示器尺寸為對角線長度。\\r\\n★4.facetime 通話需要收、發話雙方均使用具有 facetime 功能的裝置\\r\\n與wi-fi 連線。行動網路的適用情形視電信業者方案而定；數據服務可能須要付費。\\r\\n\\r\\n◤相關注意 ◢\\r\\n  ★『由於本商品為特殊3c產品，商品經連上網路(含wifi)、登入apple id或連結上itunes後，此商品即被註冊並開始計算商品保固時間，且經註冊後此商品的保固日期即開始計算，無法還原！日後需辦理退貨時，經本公司確認，若此商品已被開啟保固時間，可能需要另外酌收額外的費用。在您還不確定是否要辦理退貨以前，請勿將此商品連上網路，避免在不經意的情況下開始保固時間。若主張七日鑑賞期，請您恢復商品原狀(※含包裝、配件等；產品一經註冊可能需要另外酌收額外的費用)您確認已閱讀前述說明並同意於此頁面下單視同同意本條款，不便之處敬請見諒謝謝。』', 'img_url': 'http://ec1img.pchome.com.tw//items/DYAJ821900AC5W1/000001_1581476347.jpg', 'url': 'http://24h.pchome.com.tw/prod/DYAJ82-1900AC5W1'}\n",
      "{'name': 'Apple iPhone 7 Plus (128G)', 'price': 15450, 'describe': '玫瑰金★狂降$4812Apple iPhone 7 Plus (128G)\\\\r\\\\n#支援ip67防水 #升級固態式home鍵#雙鏡頭大光圈 #立體聲輸出 \\r\\n‧64 位元架構的 a10 fusion晶片\\r\\n‧嵌入式m10動作感應協同處理器\\r\\n‧5.5吋multi-touch的retina hd顯示器\\r\\n‧支援ip67防塵防水\\r\\n‧1200萬畫素廣角+長焦雙鏡頭 \\r\\n‧2倍光學變焦+10倍數位變焦雙鏡頭\\r\\n‧前鏡頭升級700萬畫素\\r\\n‧ios11作業系統\\r\\n\\r\\n  ◤相關注意◢\\r\\n  ★『由於本商品為特殊3c產品，商品經連上網路(含wifi)、登入apple id或連結上itunes後，此商品即被註冊並開始計算商品保固時間，且經註冊後此商品的保固日期即開始計算，無法還原！日後需辦理退貨時，經本公司確認，若此商品已被開啟保固時間，需要另外酌收額外的費用。在您還不確定是否要辦理退貨以前，請勿將此商品連上網路，避免在不經意的情況下開始保固時間。\\r\\n    主張七日鑑賞期者，猶豫期\"\"並非試用期\"\"，所以在尚未決定是否購買前，請保持原廠完整包裝及配件與其他贈品之完整性，若退貨商品本體刮痕或損壞，原廠外盒包裝損毀或商品缺件，將在您辦理退貨時，本公司將視毀損程度索賠，因無法復原新品保固狀態之折損費用。\\r\\n    您確認已閱讀前述說明並同意於此頁面下單視同同意本條款，不便之處敬請見諒謝謝。』\\r\\n\\r\\n*請注意黑色為霧面金屬黑!!', 'img_url': 'http://ec1img.pchome.com.tw//items/DYAJ86A9009YYWU/000001_1563783985.jpg', 'url': 'http://24h.pchome.com.tw/prod/DYAJ86-A9009YYWU'}\n",
      "{'name': 'Apple iPhone 8 (128G)-銀色(MX172TA/A)', 'price': 17900, 'describe': '銀色★送傳輸線+保殼貼Apple iPhone 8 (128G)\\\\r\\\\n• 4.7 吋 retina hd 顯示器具備 true tone\\r\\n• 全玻璃與鋁金屬機身設計\\r\\n• 防潑抗水與防塵功能\\r\\n• 1200 萬像素相機，有光學影像穩定功能 (ois)\\r\\n• 4k 影片拍攝(高達 60 fps)\\r\\n• 700 萬像素 facetime hd 相機\\r\\n• touch id，用於安全認證與 apple pay\\r\\n• a11 bionic智慧型手機晶片\\r\\n• 無線充電(可搭配qi充電器)\\r\\n\\r\\niphone碎屏險最低只要$680元起~\\r\\n購買手機後10日內可至顧客中心的訂單查詢點選訂單下方連結進行購買\\r\\n↑詳情請點圖片了解\\r\\n\\r\\n◤法律聲明◢\\r\\n ★1.充電板另售。\\r\\n★2.iphone 8 與 iphone 8 plus 皆具備防潑抗水與防塵功能，並且已在受控管的實驗室環境條件下測試，達到 iec 60529 標準的 ip67 等級。防潑抗水與防塵功能非永久狀態，並可能隨日常使用造成的耗損而下降。\\r\\n請勿為潮濕的 iphone 充電；請參閱使用手冊了解清潔與乾燥處理說明。液體造成的損壞並不在保固範圍內。\\r\\n★3.顯示器尺寸為對角線長度。\\r\\n★4.facetime 通話需要收、發話雙方均使用具有 facetime 功能的裝置\\r\\n與wi-fi 連線。行動網路的適用情形視電信業者方案而定；數據服務可能須要付費。\\r\\n\\r\\n\\r\\n◤相關注意 ◢\\r\\n  ★『由於本商品為特殊3c產品，商品經連上網路(含wifi)、登入apple id或連結上itunes後，此商品即被註冊並開始計算商品保固時間，且經註冊後此商品的保固日期即開始計算，無法還原！日後需辦理退貨時，經本公司確認，若此商品已被開啟保固時間，可能需要另外酌收額外的費用。在您還不確定是否要辦理退貨以前，請勿將此商品連上網路，避免在不經意的情況下開始保固時間。若主張七日鑑賞期，請您恢復商品原狀(※含包裝、配件等；產品一經註冊可能需要另外酌收額外的費用)您確認已閱讀前述說明並同意於此頁面下單視同同意本條款，不便之處敬請見諒謝謝。』', 'img_url': 'http://ec1img.pchome.com.tw//items/DYAJ8P1900AA4X4/000001_1575021998.jpg', 'url': 'http://24h.pchome.com.tw/prod/DYAJ8P-1900AA4X4'}\n",
      "{'name': 'Apple iPhone 8 Plus (128G)-金色(MX262TA/A)', 'price': 19888, 'describe': '金色★送保殼+玻璃保貼Apple iPhone 8 Plus (128G)\\\\r\\\\n• 5.5 吋 retina hd 顯示器具備 true tone\\r\\n• 全玻璃與鋁金屬機身設計\\r\\n• 防潑抗水與防塵功能\\r\\n• 1200 萬像素雙鏡頭相機\\r\\n• 4k 影片拍攝功能 (高達 60 fps)\\r\\n• 700 萬像素 facetime hd 相機\\r\\n• touch id，用於安全認證與 apple pay\\r\\n• a11 bionic智慧型手機晶片\\r\\n• 無線充電 (可搭配 qi 充電器)\\r\\n\\r\\niphone碎屏險最低只要$680元起~\\r\\n購買手機後10日內可至顧客中心的訂單查詢點選訂單下方連結進行購買\\r\\n↑詳情請點圖片了解\\r\\n\\r\\n\\r\\n\\r\\n◤法律聲明◢\\r\\n ★1.充電板另售。\\r\\n★2.iphone 8 與 iphone 8 plus 皆具備防潑抗水與防塵功能，並且已在受控管的實驗室環境條件下測試，達到 iec 60529 標準的 ip67 等級。防潑抗水與防塵功能非永久狀態，並可能隨日常使用造成的耗損而下降。\\r\\n請勿為潮濕的 iphone 充電；請參閱使用手冊了解清潔與乾燥處理說明。液體造成的損壞並不在保固範圍內。\\r\\n★3.顯示器尺寸為對角線長度。\\r\\n★4.facetime 通話需要收、發話雙方均使用具有 facetime 功能的裝置\\r\\n與wi-fi 連線。行動網路的適用情形視電信業者方案而定；數據服務可能須要付費。\\r\\n\\r\\n◤相關注意 ◢\\r\\n  ★『由於本商品為特殊3c產品，商品經連上網路(含wifi)、登入apple id或連結上itunes後，此商品即被註冊並開始計算商品保固時間，且經註冊後此商品的保固日期即開始計算，無法還原！日後需辦理退貨時，經本公司確認，若此商品已被開啟保固時間，可能需要另外酌收額外的費用。在您還不確定是否要辦理退貨以前，請勿將此商品連上網路，避免在不經意的情況下開始保固時間。若主張七日鑑賞期，請您恢復商品原狀(※含包裝、配件等；產品一經註冊可能需要另外酌收額外的費用)您確認已閱讀前述說明並同意於此頁面下單視同同意本條款，不便之處敬請見諒謝謝。』', 'img_url': 'http://ec1img.pchome.com.tw//items/DYAJ821900AC5W5/000001_1581476306.jpg', 'url': 'http://24h.pchome.com.tw/prod/DYAJ82-1900AC5W5'}\n",
      "{'name': 'Apple iPhone 8 (128G)-太空灰(MX162TA/A)', 'price': 17900, 'describe': '太空灰★送傳輸線+保殼貼Apple iPhone 8 (128G)\\\\r\\\\n• 4.7 吋 retina hd 顯示器具備 true tone\\r\\n• 全玻璃與鋁金屬機身設計\\r\\n• 防潑抗水與防塵功能\\r\\n• 1200 萬像素相機，有光學影像穩定功能 (ois)\\r\\n• 4k 影片拍攝(高達 60 fps)\\r\\n• 700 萬像素 facetime hd 相機\\r\\n• touch id，用於安全認證與 apple pay\\r\\n• a11 bionic智慧型手機晶片\\r\\n• 無線充電(可搭配qi充電器)\\r\\n\\r\\niphone碎屏險最低只要$680元起~\\r\\n購買手機後10日內可至顧客中心的訂單查詢點選訂單下方連結進行購買\\r\\n↑詳情請點圖片了解\\r\\n\\r\\n◤法律聲明◢\\r\\n ★1.充電板另售。\\r\\n★2.iphone 8 與 iphone 8 plus 皆具備防潑抗水與防塵功能，並且已在受控管的實驗室環境條件下測試，達到 iec 60529 標準的 ip67 等級。防潑抗水與防塵功能非永久狀態，並可能隨日常使用造成的耗損而下降。\\r\\n請勿為潮濕的 iphone 充電；請參閱使用手冊了解清潔與乾燥處理說明。液體造成的損壞並不在保固範圍內。\\r\\n★3.顯示器尺寸為對角線長度。\\r\\n★4.facetime 通話需要收、發話雙方均使用具有 facetime 功能的裝置\\r\\n與wi-fi 連線。行動網路的適用情形視電信業者方案而定；數據服務可能須要付費。\\r\\n\\r\\n\\r\\n◤相關注意 ◢\\r\\n  ★『由於本商品為特殊3c產品，商品經連上網路(含wifi)、登入apple id或連結上itunes後，此商品即被註冊並開始計算商品保固時間，且經註冊後此商品的保固日期即開始計算，無法還原！日後需辦理退貨時，經本公司確認，若此商品已被開啟保固時間，可能需要另外酌收額外的費用。在您還不確定是否要辦理退貨以前，請勿將此商品連上網路，避免在不經意的情況下開始保固時間。若主張七日鑑賞期，請您恢復商品原狀(※含包裝、配件等；產品一經註冊可能需要另外酌收額外的費用)您確認已閱讀前述說明並同意於此頁面下單視同同意本條款，不便之處敬請見諒謝謝。』', 'img_url': 'http://ec1img.pchome.com.tw//items/DYAJ8P1900AA4WK/000001_1575022052.jpg', 'url': 'http://24h.pchome.com.tw/prod/DYAJ8P-1900AA4WK'}\n",
      "{'name': 'Apple iPhone 8 Plus (128G)', 'price': 19888, 'describe': '灰l金★送旅行套組+好禮任選Apple iPhone 8 Plus (128G)\\\\r\\\\n• 5.5 吋 retina hd 顯示器具備 true tone\\r\\n• 全玻璃與鋁金屬機身設計\\r\\n• 防潑抗水與防塵功能\\r\\n• 1200 萬像素雙鏡頭相機\\r\\n• 4k 影片拍攝功能 (高達 60 fps)\\r\\n• 700 萬像素 facetime hd 相機\\r\\n• touch id，用於安全認證與 apple pay\\r\\n• a11 bionic智慧型手機晶片\\r\\n• 無線充電 (可搭配 qi 充電器)\\r\\n\\t\\r\\n★點我購買iphone8 plus 精選配件：\\r\\n《★iphone原廠保護殼》\\r\\n《★iphone 8 plus保護貼》\\r\\n\\r\\n◤法律聲明◢\\r\\n ★1.充電板另售。\\r\\n★2.iphone 8 與 iphone 8 plus 皆具備防潑抗水與防塵功能，並且已在受控管的實驗室環境條件下測試，達到 iec 60529 標準的 ip67 等級。防潑抗水與防塵功能非永久狀態，並可能隨日常使用造成的耗損而下降。\\r\\n請勿為潮濕的 iphone 充電；請參閱使用手冊了解清潔與乾燥處理說明。液體造成的損壞並不在保固範圍內。\\r\\n★3.顯示器尺寸為對角線長度。\\r\\n★4.facetime 通話需要收、發話雙方均使用具有 facetime 功能的裝置\\r\\n與wi-fi 連線。行動網路的適用情形視電信業者方案而定；數據服務可能須要付費。\\r\\n\\r\\n◤相關注意 ◢\\r\\n  ★『由於本商品為特殊3c產品，商品經連上網路(含wifi)、登入apple id或連結上itunes後，此商品即被註冊並開始計算商品保固時間，且經註冊後此商品的保固日期即開始計算，無法還原！日後需辦理退貨時，經本公司確認，若此商品已被開啟保固時間，可能需要另外酌收額外的費用。在您還不確定是否要辦理退貨以前，請勿將此商品連上網路，避免在不經意的情況下開始保固時間。若主張七日鑑賞期，請您恢復商品原狀(※含包裝、配件等；產品一經註冊可能需要另外酌收額外的費用)您確認已閱讀前述說明並同意於此頁面下單視同同意本條款，不便之處敬請見諒謝謝。』', 'img_url': 'http://ec1img.pchome.com.tw//items/DYAJ82A900AI5CW/000001_1581664555.jpg', 'url': 'http://24h.pchome.com.tw/prod/DYAJ82-A900AI5CW'}\n",
      "{'name': 'Apple iPhone 7 Plus (128G)', 'price': 14880, 'describe': '★送旅行六件組+三合一傳輸線Apple iPhone 7 Plus (128G)\\\\r\\\\n#支援ip67防水 #升級固態式home鍵#雙鏡頭大光圈 #立體聲輸出 \\r\\n‧64 位元架構的 a10 fusion晶片\\r\\n‧嵌入式m10動作感應協同處理器\\r\\n‧5.5吋multi-touch的retina hd顯示器\\r\\n‧支援ip67防塵防水\\r\\n‧1200萬畫素廣角+長焦雙鏡頭 \\r\\n‧2倍光學變焦+10倍數位變焦雙鏡頭\\r\\n‧前鏡頭升級700萬畫素\\r\\n‧ios11作業系統 \\r\\n\\r\\n請注意黑色為霧面金屬黑!!\\r\\n\\r\\n 本商品享有apple公司保固條款，商品問題可洽詢蘋果授權維修中心\\r\\n所有故障或瑕疵均需送回原廠由技術部門檢測判定提供更換或是維修處置\\r\\n自購買日起 90 天享免額外付費的電話技術支援，及一年原廠保固\\r\\n>>消費者如購買拆封使用後對此商品有商品瑕疵、故障之疑慮，敬請自行洽詢蘋果授權維修中心；對此商品將不進行額外協助維修之服務，謝謝。\\r\\n\\r\\n◤相關注意◢\\r\\n  ★『由於本商品為特殊3c產品，商品經連上網路(含wifi)、登入apple id或連結上itunes後，此商品即被註冊並開始計算商品保固時間，且經註冊後此商品的保固日期即開始計算，無法還原！日後需辦理退貨時，經本公司確認，若此商品已被開啟保固時間，可能需要另外酌收額外的費用。在您還不確定是否要辦理退貨以前，請勿將此商品連上網路，避免在不經意的情況下開始保固時間。若主張七日鑑賞期，請您恢復商品原狀(※含包裝、配件等；產品一經註冊可能需要另外酌收額外的費用)您確認已閱讀前述說明並同意於此頁面下單視同同意本條款，不便之處敬請見諒謝謝。』', 'img_url': 'http://ec1img.pchome.com.tw//items/DYAJ86A9007JVZD/000001_1560146298.jpg', 'url': 'http://24h.pchome.com.tw/prod/DYAJ86-A9007JVZD'}\n",
      "{'name': 'iPhone 8 128G灰-2019(MX162TA/A)', 'price': 13288, 'describe': '全新品，僅外盒 or 封膜受損Apple iPhone 8 128GB\\\\r\\\\n若需維修，可洽全省遠傳直營門市\\r\\n僅原廠外盒 or 封膜些許受損 | 序號未登錄\\r\\n原廠配件齊全 | 商品保固一年\\r\\n\\r\\n◎ 採用 ios 11 作業系統\\r\\n◎ 4.7 吋 1 334 x 750pixels 解析度 ips 觸控螢幕(326ppi)\\r\\n◎ 內建 a11 bionic 六核cpu\\r\\n◎ 嵌入式 m11 動作感應協同處理器\\r\\n◎ 內建 128gb rom 儲存空間\\r\\n◎ 12mp畫素 isight 攝錄鏡頭、7mp畫素 facetime 前鏡頭\\r\\n◎ 4k 影片拍攝(高達 60 fps)\\r\\n◎ ip67 防水防塵   藍牙 5.0\\r\\n◎ 支援 touch id 指紋辨識\\r\\n\\r\\n◤相關注意◢\\r\\n★『由於本商品為特殊3c產品，商品經連上網路(含wifi)、登入apple id或連結上itunes後，\\r\\n此商品即被註冊並開始計算商品保固時間，且經註冊後此商品的保固日期即開始計算，無法還原！日後需\\r\\n辦理退貨時，經本公司確認，若此商品已被開啟保固時間，可能需要另外酌收額外的費用。在您還不確定\\r\\n是否要辦理退貨以前，請勿將此商品連上網路，避免在不經意的情況下開始保固時間。\\r\\n若主張七日鑑賞期，請您恢復商品原狀(※含包裝、配件等；產品一經註冊可能需要另外酌收額外的費用)\\r\\n您確認已閱讀前述說明並同意於此頁面下單視同同意本條款，不便之處敬請見諒謝謝。』\\r\\n\\r\\n★點我加購iphone 8 配件 \\r\\n《iphone 8-殼套》\\r\\n《iphone 8-保貼》', 'img_url': 'http://ec1img.pchome.com.tw//items/QAANNOA900AIFU9/000001_1582011551.jpg', 'url': 'http://24h.pchome.com.tw/prod/QAANNO-A900AIFU9'}\n",
      "{'name': 'Apple iPhone 7 Plus (128G)', 'price': 18999, 'describe': '★IPHONE 7 Plus 128G\\\\r\\\\n#支援ip67防水 #升級固態式home鍵\\r\\n#雙鏡頭大光圈 #立體聲輸出 \\r\\n‧64 位元架構的 a10 fusion晶片 \\r\\n‧嵌入式m10動作感應協同處理器 \\r\\n‧5.5吋multi-touch的retina hd顯示器 \\r\\n‧支援ip67防塵防水 \\r\\n‧1200萬畫素廣角+長焦雙鏡頭 \\r\\n‧2倍光學變焦+10倍數位變焦雙鏡頭 \\r\\n‧前鏡頭升級700萬畫素 \\r\\n‧ios11作業系統', 'img_url': 'http://ec1img.pchome.com.tw//items/QAANAKA900A56ZN/000001_1562829582.jpg', 'url': 'http://24h.pchome.com.tw/prod/QAANAK-A900A56ZN'}\n",
      "{'name': 'Apple iPhone 7 Plus (128G)', 'price': 14800, 'describe': 'Apple iPhone 7 Plus (128G)\\\\r\\\\n▼支援 90hz 螢幕更新率▼\\r\\n作業系統與版本 ios11\\r\\n處理器品牌 qualcomm\\r\\n處理器型號 snapdragon 855\\r\\n主螢幕尺寸 5.7 inch\\r\\n主相機畫素 1220 萬畫素\\r\\nram記憶體 6 gb\\r\\nrom儲存空間 128 gb\\r\\n電池容量 2800 mah\\r\\n\\r\\n★點我加購iphone 7 plus 配件 \\r\\n《iphone 7 plus系列-殼套》\\r\\n《iphone 7 plus系列-保貼》', 'img_url': 'http://ec1img.pchome.com.tw//items/QAANALA900AGBJI/000001_1578366608.jpg', 'url': 'http://24h.pchome.com.tw/prod/QAANAL-A900AGBJI'}\n",
      "{'name': 'Apple iPhone 7 Plus (128G)-金(MN4Q2TA/A)', 'price': 19900, 'describe': '【南紡購物中心】 Apple iPhone 7 Plus (128G)-金(MN4Q2TA/A)\\\\r\\\\n‧64 位元架構的 a10 fusion晶片&nbsp;‧嵌入式m10動作感應協同處理器&nbsp;‧5.5吋multi-touch的retina hd顯示器&nbsp;‧支援ip67防塵防水&nbsp;‧1200萬畫素廣角+長焦雙鏡頭&nbsp;‧2倍光學變焦+10倍數位變焦雙鏡頭&nbsp;‧前鏡頭升級700萬畫素&nbsp;‧ios11作業系統&nbsp;◤相關注意◢&nbsp;★『由於本商品為特殊3c產品，商品經連上網路(含wifi)、登入apple id或連結上itunes後，此商品即被註冊並開始計算商品保固時間，且經註冊後此商品的保固日期即開始計算，無法還原！日後需辦理退貨時，經本公司確認，若此商品已被開啟保固時間，可能需要另外酌收額外的費用。在您還不確定是否要辦理退貨以前，請勿將此商品連上網路，避免在不經意的情況下開始保固時間。若主張七日鑑賞期，請您恢復商品原狀(※含包裝、配件等；產品一經註冊可能需要另外酌收額外的費用)您確認已閱讀前述說明並同意於此頁面下單視同同意本條款，不便之處敬請見諒謝謝。』', 'img_url': 'http://ec1img.pchome.com.tw//items/QABB3MA9009Z9YV/000001_1556587794.jpg', 'url': 'http://24h.pchome.com.tw/prod/QABB3M-A9009Z9YV'}\n",
      "{'name': 'Apple iPhone 7 Plus (128G)-黑(MN4M2TA/A)', 'price': 19490, 'describe': '【南紡購物中心】 Apple iPhone 7 Plus (128G)-黑(MN4M2TA/A)\\\\r\\\\n‧64 位元架構的 a10 fusion晶片&nbsp;‧嵌入式m10動作感應協同處理器&nbsp;‧5.5吋multi-touch的retina hd顯示器&nbsp;‧支援ip67防塵防水&nbsp;‧1200萬畫素廣角+長焦雙鏡頭&nbsp;‧2倍光學變焦+10倍數位變焦雙鏡頭&nbsp;‧前鏡頭升級700萬畫素&nbsp;‧ios11作業系統&nbsp;◤相關注意◢&nbsp;★『由於本商品為特殊3c產品，商品經連上網路(含wifi)、登入apple id或連結上itunes後，此商品即被註冊並開始計算商品保固時間，且經註冊後此商品的保固日期即開始計算，無法還原！日後需辦理退貨時，經本公司確認，若此商品已被開啟保固時間，可能需要另外酌收額外的費用。在您還不確定是否要辦理退貨以前，請勿將此商品連上網路，避免在不經意的情況下開始保固時間。若主張七日鑑賞期，請您恢復商品原狀(※含包裝、配件等；產品一經註冊可能需要另外酌收額外的費用)您確認已閱讀前述說明並同意於此頁面下單視同同意本條款，不便之處敬請見諒謝謝。』', 'img_url': 'http://ec1img.pchome.com.tw//items/QABB3MA900A606A/000001_1563871310.jpg', 'url': 'http://24h.pchome.com.tw/prod/QABB3M-A900A606A'}\n",
      "{'name': 'Apple iPhone 7 Plus (128G)-銀(MN4P2TA/A)', 'price': 19900, 'describe': '【南紡購物中心】 Apple iPhone 7 Plus (128G)-銀(MN4P2TA/A)\\\\r\\\\n‧64 位元架構的 a10 fusion晶片&nbsp;‧嵌入式m10動作感應協同處理器&nbsp;‧5.5吋multi-touch的retina hd顯示器&nbsp;‧支援ip67防塵防水&nbsp;‧1200萬畫素廣角+長焦雙鏡頭&nbsp;‧2倍光學變焦+10倍數位變焦雙鏡頭&nbsp;‧前鏡頭升級700萬畫素&nbsp;‧ios11作業系統&nbsp;◤相關注意◢&nbsp;★『由於本商品為特殊3c產品，商品經連上網路(含wifi)、登入apple id或連結上itunes後，此商品即被註冊並開始計算商品保固時間，且經註冊後此商品的保固日期即開始計算，無法還原！日後需辦理退貨時，經本公司確認，若此商品已被開啟保固時間，可能需要另外酌收額外的費用。在您還不確定是否要辦理退貨以前，請勿將此商品連上網路，避免在不經意的情況下開始保固時間。若主張七日鑑賞期，請您恢復商品原狀(※含包裝、配件等；產品一經註冊可能需要另外酌收額外的費用)您確認已閱讀前述說明並同意於此頁面下單視同同意本條款，不便之處敬請見諒謝謝。』', 'img_url': 'http://ec1img.pchome.com.tw//items/QABB3MA9009Z9ZW/000001_1556587810.jpg', 'url': 'http://24h.pchome.com.tw/prod/QABB3M-A9009Z9ZW'}\n",
      "{'name': 'Apple iPhone 7 Plus (128G)-玫瑰金(MN4U2TA/A)', 'price': 19900, 'describe': '【南紡購物中心】 Apple iPhone 7 Plus (128G)-玫瑰金(MN4U2TA/A)\\\\r\\\\n‧64 位元架構的 a10 fusion晶片&nbsp;‧嵌入式m10動作感應協同處理器&nbsp;‧5.5吋multi-touch的retina hd顯示器&nbsp;‧支援ip67防塵防水&nbsp;‧1200萬畫素廣角+長焦雙鏡頭&nbsp;‧2倍光學變焦+10倍數位變焦雙鏡頭&nbsp;‧前鏡頭升級700萬畫素&nbsp;‧ios11作業系統&nbsp;◤相關注意◢&nbsp;★『由於本商品為特殊3c產品，商品經連上網路(含wifi)、登入apple id或連結上itunes後，此商品即被註冊並開始計算商品保固時間，且經註冊後此商品的保固日期即開始計算，無法還原！日後需辦理退貨時，經本公司確認，若此商品已被開啟保固時間，可能需要另外酌收額外的費用。在您還不確定是否要辦理退貨以前，請勿將此商品連上網路，避免在不經意的情況下開始保固時間。若主張七日鑑賞期，請您恢復商品原狀(※含包裝、配件等；產品一經註冊可能需要另外酌收額外的費用)您確認已閱讀前述說明並同意於此頁面下單視同同意本條款，不便之處敬請見諒謝謝。』', 'img_url': 'http://ec1img.pchome.com.tw//items/QABB3MA9009Z9YW/000001_1556587825.jpg', 'url': 'http://24h.pchome.com.tw/prod/QABB3M-A9009Z9YW'}\n"
     ]
    }
   ],
   "source": [
    "import html\n",
    "import urllib.parse\n",
    "import time\n",
    "import json\n",
    "import requests\n",
    "import os\n",
    "from requests.adapters import HTTPAdapter\n",
    "\n",
    "\n",
    "STORE = 'pchome'\n",
    "SESSION_TIMEOUT = 3\n",
    "SESSION_MAX_RETRIES = 3\n",
    "PCHOME_API_ENDPOINT = 'http://ecshweb.pchome.com.tw/search/v3.3/all/results?q=%s&sort=rnk&price=%s-%s' #all/results多這串就會找到API\n",
    "PCHOME_PRODUCT_URL_PREFIX = 'http://24h.pchome.com.tw/prod/'\n",
    "PCHOME_IMG_URL_PREFIX = 'http://ec1img.pchome.com.tw/'\n",
    "\n",
    "\n",
    "def get_web_content(query_url): #取得網站內容\n",
    "    session = requests.Session()\n",
    "    session.mount(query_url, HTTPAdapter(max_retries=SESSION_MAX_RETRIES))\n",
    "    try:\n",
    "        # The timeout unit is second.\n",
    "        resp = session.get(query_url, timeout=SESSION_TIMEOUT)\n",
    "    except requests.exceptions.RequestException as e:\n",
    "        print(e)\n",
    "        return None\n",
    "    return resp\n",
    "\n",
    "\n",
    "def collect_items(raw_data):  #商品資料\n",
    "    extracted_items = list()\n",
    "    raw_items = raw_data['prods']\n",
    "    for raw_item in raw_items:\n",
    "        try:\n",
    "            item = dict()\n",
    "            item['name'] = html.unescape(raw_item['name'])\n",
    "            item['price'] = int(raw_item['price'])\n",
    "            item['describe'] = raw_item['describe']\n",
    "            item['img_url'] = PCHOME_IMG_URL_PREFIX + raw_item['picB']\n",
    "            item['url'] = PCHOME_PRODUCT_URL_PREFIX + raw_item['Id']\n",
    "            extracted_items.append(item)\n",
    "        except Exception:\n",
    "            pass\n",
    "    return extracted_items\n",
    "\n",
    "\n",
    "def search_pchome(query, min_price, max_price):\n",
    "    query = urllib.parse.quote(query)\n",
    "    query_url = PCHOME_API_ENDPOINT % (query, str(min_price), str(max_price)) #字串格式化，讓輸入的\"iphone 7 128g plus\"進到網址理\n",
    "    resp = get_web_content(query_url)\n",
    "    if not resp:\n",
    "        return []\n",
    "\n",
    "    resp.encoding = 'UTF-8'\n",
    "    data = resp.json()\n",
    "    if data['prods'] is None:\n",
    "        return []\n",
    "\n",
    "    total_page_count = int(data['totalPage'])\n",
    "    if total_page_count == 1:\n",
    "        return collect_items(data)\n",
    "\n",
    "    urls = []\n",
    "    current_page = 1\n",
    "    while current_page <= total_page_count:\n",
    "        current_page_url = query_url + '&page=' + str(current_page)\n",
    "        urls.append(current_page_url)\n",
    "        current_page += 1\n",
    "\n",
    "    items = []\n",
    "    for url in urls:\n",
    "        resp = get_web_content(url)\n",
    "        if resp:\n",
    "            resp.encoding = 'UTF-8'\n",
    "            items += collect_items(resp.json())\n",
    "    return items\n",
    "\n",
    "\n",
    "def save_search_result(data): \n",
    "    with open(os.path.join('json', data['date'] + '-%s.json' % STORE), 'w', encoding='UTF-8') as file:\n",
    "        json.dump(data, file, indent=2, ensure_ascii=False)\n",
    "\n",
    "\n",
    "def main():\n",
    "    query_str = 'iphone 11 plus 128G'\n",
    "    min_price = 10000\n",
    "    max_price = 60000\n",
    "    items = search_pchome(query_str, min_price, max_price)\n",
    "    today = time.strftime('%m-%d')\n",
    "    print('Search item \\'%s\\' from %s...' % (query_str, STORE))\n",
    "    print('Search %d records on %s' % (len(items), today))\n",
    "    for item in items:\n",
    "        print(item)\n",
    "    data = {\n",
    "        'date': today,\n",
    "        'store': STORE,\n",
    "        'items': items\n",
    "    }\n",
    "\n",
    "    save_search_result(data)\n",
    "\n",
    "\n",
    "if __name__ == '__main__':\n",
    "    main()"
   ]
  },
  {
   "cell_type": "markdown",
   "metadata": {},
   "source": [
    "### 比價圖表程式\n",
    "搜集了一定數量的資料後, 就可以用圖表來展示結果了."
   ]
  },
  {
   "cell_type": "code",
   "execution_count": 22,
   "metadata": {},
   "outputs": [
    {
     "name": "stdout",
     "output_type": "stream",
     "text": [
      "momo\n",
      "02-25 21735\n",
      "pchome\n",
      "02-25 16785\n"
     ]
    },
    {
     "data": {
      "image/png": "[encoded data removed]",
      "text/plain": [
       "<Figure size 432x288 with 1 Axes>"
      ]
     },
     "metadata": {
      "needs_background": "light"
     },
     "output_type": "display_data"
    },
    {
     "name": "stdout",
     "output_type": "stream",
     "text": [
      "dict_keys(['02-25'])\n"
     ]
    }
   ],
   "source": [
    "import json\n",
    "import os\n",
    "from matplotlib import pyplot as plt\n",
    "\n",
    "\n",
    "def get_avg_price(json_data): #計算該商城此商品平均價格\n",
    "    sum = 0\n",
    "    for item in json_data:\n",
    "        sum += int(item['price'])\n",
    "    return sum/len(json_data) \n",
    "\n",
    "\n",
    "def main():\n",
    "    json_files = [f for f in os.listdir('json')\n",
    "                  if os.path.isfile(os.path.join('json', f)) and f.endswith('.json')]\n",
    "\n",
    "    avg_prices_momo = dict()\n",
    "    avg_prices_pchome = dict()\n",
    "\n",
    "    for json_file in json_files:\n",
    "        with open(os.path.join('json', json_file), 'r', encoding='UTF-8') as file:\n",
    "            data = json.load(file)\n",
    "            date = data['date']\n",
    "            if data['store'] == 'momo':\n",
    "                avg_prices_momo[date] = get_avg_price(data['items'])\n",
    "            elif data['store'] == 'pchome':\n",
    "                avg_prices_pchome[date] = get_avg_price(data['items'])\n",
    "\n",
    "    keys = avg_prices_momo.keys() #dict_keys(['02-25'])\n",
    "    dates = sorted(keys) #日期分組\n",
    "    print('momo')\n",
    "    for date in dates: #依照不同日期去計算當日momo商品平均價格\n",
    "        print(date, int(avg_prices_momo[date])) #列出[日期, 價格]，當累積多了就會變數列，用來做圖\n",
    "    print('pchome')\n",
    "    for date in dates: #依照不同日期去計算當日pc24商品平均價格\n",
    "        print(date, int(avg_prices_pchome[date]))\n",
    "\n",
    "    # x-axis\n",
    "    x = [int(i) for i in range(len(dates))]\n",
    "    plt.xticks(x, dates)  # 將 x-axis 用字串標註\n",
    "    price_momo = [avg_prices_momo[d] for d in dates]  # y1-axis\n",
    "    price_pchome = [avg_prices_pchome[d] for d in dates]  # y2-axis\n",
    "    plt.plot(x, price_momo, marker='o', linestyle='solid')\n",
    "    plt.plot(x, price_pchome, marker='o', linestyle='solid')\n",
    "    plt.legend(['momo', 'pchome'])\n",
    "    # specify values on ys\n",
    "    for a, b in zip(x, price_momo):\n",
    "        plt.text(a, b, str(int(b)))\n",
    "    for a, b in zip(x, price_pchome):\n",
    "        plt.text(a, b, str(int(b)))\n",
    "    plt.show()\n",
    "\n",
    "\n",
    "if __name__ == '__main__':\n",
    "    main()"
   ]
  },
  {
   "cell_type": "code",
   "execution_count": null,
   "metadata": {},
   "outputs": [],
   "source": []
  }
 ],
 "metadata": {
  "kernelspec": {
   "display_name": "Python 3",
   "language": "python",
   "name": "python3"
  },
  "language_info": {
   "codemirror_mode": {
    "name": "ipython",
    "version": 3
   },
   "file_extension": ".py",
   "mimetype": "text/x-python",
   "name": "python",
   "nbconvert_exporter": "python",
   "pygments_lexer": "ipython3",
   "version": "3.7.1"
  }
 },
 "nbformat": 4,
 "nbformat_minor": 2
}
