{
 "cells": [
  {
   "cell_type": "markdown",
   "metadata": {},
   "source": [
    "有些時候前面章節的方法可能都不管用, 或是因為你很懶, 看到要先去分析API或是網頁結構就懶了, 並希望爬蟲可以直接模擬你操作網頁的方式來爬資料, 這時候就可以採用這邊的方法了. 這種不去模擬瀏覽器取得資料, 而是直接使用瀏覽器的方式, 通常都會用到知名的瀏覽器自動化操作工具 --- Selenium.<br>\n",
    "<br>\n",
    "要在Python中使用Selenium, 除了要安裝selenium library之外(本書一開始的requirements.txt已經安裝好了), 還要去官網下載對應瀏覽器的webdriver(ChromeDriver). Webdriver除了官網上提供的, 也可以使用PhantomJS, 如此一來, 就可以在背景模仿瀏覽器的行為, 可以在一定程度上加快程式的速度.<br>\n",
    "<br>\n",
    "Selenium可以做到很多事情, 舉凡網頁元件的定位, 點擊按鈕, 選擇選單, 輸入文字等等...都可以透過程式化的方式做到."
   ]
  },
  {
   "cell_type": "markdown",
   "metadata": {},
   "source": [
    "### 台銀法拍屋資訊查詢"
   ]
  },
  {
   "cell_type": "code",
   "execution_count": null,
   "metadata": {},
   "outputs": [],
   "source": [
    "from bs4 import BeautifulSoup\n",
    "from selenium import webdriver\n",
    "from selenium.webdriver.support.ui import WebDriverWait\n",
    "from selenium.webdriver.support import expected_conditions\n",
    "from selenium.webdriver.common.by import By\n",
    "\n",
    "\n",
    "TW_BANK_HOUSE_URL = 'http://www.bot.com.tw/house/default.aspx'\n",
    "DRIVER_PATH = '../driver/'\n",
    "CHROME_DRIVER = 'chromedriver'\n",
    "PHANTOMJS_DRIVER = 'phantomjs'\n",
    "\n",
    "\n",
    "def get_selenium_driver(execute_core):\n",
    "    if execute_core == CHROME_DRIVER:\n",
    "        # The chrome driver will launch chrome browser in your computer.\n",
    "        return webdriver.Chrome(DRIVER_PATH + CHROME_DRIVER)\n",
    "    elif execute_core == PHANTOMJS_DRIVER:\n",
    "        # With PhantomJS, it will not trigger a real browser, instead, the crawler will run in background.\n",
    "        return webdriver.PhantomJS(DRIVER_PATH + PHANTOMJS_DRIVER)\n",
    "    else:\n",
    "        return None\n",
    "\n",
    "\n",
    "def init_selenium_driver(driver, url):\n",
    "    driver.maximize_window()\n",
    "    driver.set_page_load_timeout(60)\n",
    "    driver.get(url)\n",
    "    return driver\n",
    "\n",
    "\n",
    "def launch_driver(driver, from_date, to_date):\n",
    "    try:\n",
    "        # Target the date fields and input date values.\n",
    "        element = driver.find_element_by_id('fromdate_TextBox')\n",
    "        element.send_keys(from_date)\n",
    "        element = driver.find_element_by_id('todate_TextBox')\n",
    "        element.send_keys(to_date)\n",
    "\n",
    "        # Click the option list.\n",
    "        driver.find_element_by_id('purpose_DDL').click()\n",
    "\n",
    "        # Choose the specified option.\n",
    "        for option in driver.find_elements_by_tag_name('option'):\n",
    "            if option.text == '住宅':\n",
    "                option.click()\n",
    "\n",
    "        # Submit the form.\n",
    "        element = driver.find_element_by_id('Submit_Button').click()\n",
    "\n",
    "        # Wait until the result appear.\n",
    "        element = WebDriverWait(driver, 5).until(\n",
    "            expected_conditions.presence_of_element_located((By.ID, 'House_GridView'))\n",
    "        )\n",
    "\n",
    "        # page_source will return the current content shown on browser.\n",
    "        dom = BeautifulSoup(driver.page_source, 'html5lib')\n",
    "        table = dom.find(id='House_GridView')\n",
    "        for row in table.find_all('tr'):\n",
    "            print([s for s in row.stripped_strings])\n",
    "    finally:\n",
    "        # Close the browser and finish the webdriver process.\n",
    "        driver.quit()\n",
    "\n",
    "\n",
    "def main():\n",
    "    from_date = '1020101'\n",
    "    to_date = '1060101'\n",
    "    driver = get_selenium_driver(PHANTOMJS_DRIVER)\n",
    "    if driver:\n",
    "        driver = init_selenium_driver(driver, TW_BANK_HOUSE_URL)\n",
    "        launch_driver(driver, from_date, to_date)\n",
    "    else:\n",
    "        print('Driver not found.')\n",
    "\n",
    "\n",
    "if __name__ == '__main__':\n",
    "    main()"
   ]
  },
  {
   "cell_type": "code",
   "execution_count": null,
   "metadata": {},
   "outputs": [],
   "source": []
  },
  {
   "cell_type": "code",
   "execution_count": null,
   "metadata": {},
   "outputs": [],
   "source": []
  },
  {
   "cell_type": "code",
   "execution_count": null,
   "metadata": {},
   "outputs": [],
   "source": []
  }
 ],
 "metadata": {
  "kernelspec": {
   "display_name": "Python 3",
   "language": "python",
   "name": "python3"
  },
  "language_info": {
   "codemirror_mode": {
    "name": "ipython",
    "version": 3
   },
   "file_extension": ".py",
   "mimetype": "text/x-python",
   "name": "python",
   "nbconvert_exporter": "python",
   "pygments_lexer": "ipython3",
   "version": "3.7.1"
  }
 },
 "nbformat": 4,
 "nbformat_minor": 2
}
