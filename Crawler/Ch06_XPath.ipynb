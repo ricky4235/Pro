{
 "cells": [
  {
   "cell_type": "markdown",
   "metadata": {},
   "source": [
    "# 關於XPath\n",
    "XPath是一門語言<br>\n",
    "XPath可以在xml檔案中查詢資訊<br>\n",
    "XPath支援HTML<br>\n",
    "XPath通過元素和屬性進行導行<br>\n",
    "XPath比正規表達式厲害，簡單<br>"
   ]
  },
  {
   "cell_type": "markdown",
   "metadata": {},
   "source": [
    "# 表達式描述<br>\n",
    "* nodename：名稱選取此節點的所有子節點。<br>\n",
    "* /       ：從根節點選取。<br>\n",
    "* //      ：從匹配選擇的當前節點選擇文檔中的節點，而不考慮它們的位置。<br>\n",
    "* .       ：選取當前節點。<br>\n",
    "* ..      ：選取當前節點的父節點。<br>\n",
    "* @       ：選取屬性<br>"
   ]
  },
  {
   "cell_type": "code",
   "execution_count": 1,
   "metadata": {},
   "outputs": [
    {
     "name": "stdout",
     "output_type": "stream",
     "text": [
      "<Element html at 0x55ff868>\n",
      "<Element head at 0x5800bd8>\n",
      "<Element body at 0x5800b88>\n"
     ]
    }
   ],
   "source": [
    "#Ch6_2\n",
    "import requests\n",
    "from lxml import html \n",
    "\n",
    "r = requests.get(\"http://www.flag.com.tw/books/school_code_n_algo\")\n",
    "tree = html.fromstring(r.text)\n",
    "print(tree)\n",
    "\n",
    "for ele in tree.getchildren():\n",
    "    print(ele)"
   ]
  },
  {
   "cell_type": "code",
   "execution_count": 2,
   "metadata": {},
   "outputs": [
    {
     "name": "stdout",
     "output_type": "stream",
     "text": [
      "<Element img at 0x56f2228>\n",
      "img\n",
      "https://www.flag.com.tw/assets/img/bookpic/F9796.jpg\n",
      "<Element p at 0x58009a8>\n",
      "p\n",
      "超圖解 Python 程式設計入門\n"
     ]
    }
   ],
   "source": [
    "#Ch6_2a\n",
    "import requests\n",
    "from lxml import html \n",
    "\n",
    "r = requests.get(\"http://www.flag.com.tw/books/school_code_n_algo\")\n",
    "tree = html.fromstring(r.text)\n",
    "\n",
    "tag_img = tree.xpath(\"/html/body/section[2]/table/tr[2]/td[1]/a/img\")[0]\n",
    "print(tag_img)\n",
    "print(tag_img.tag)\n",
    "print(tag_img.attrib[\"src\"])\n",
    "\n",
    "tag_p = tree.xpath(\"/html/body/section[2]/table/tr[2]/td[1]/a/p\")[0]\n",
    "print(tag_p)\n",
    "print(tag_p.tag)\n",
    "print(tag_p.text_content())\n"
   ]
  },
  {
   "cell_type": "code",
   "execution_count": 3,
   "metadata": {},
   "outputs": [
    {
     "name": "stdout",
     "output_type": "stream",
     "text": [
      "<Element img at 0x5c84e08>\n",
      "img\n",
      "https://www.flag.com.tw/assets/img/bookpic/F9796.jpg\n",
      "<Element p at 0x5cbdd68>\n",
      "p\n",
      "超圖解 Python 程式設計入門\n"
     ]
    }
   ],
   "source": [
    "#Ch6_2b\n",
    "import requests\n",
    "from lxml import html \n",
    "\n",
    "r = requests.get(\"http://www.flag.com.tw/books/school_code_n_algo\")\n",
    "tree = html.fromstring(r.text)\n",
    "\n",
    "tag_img = tree.cssselect(\"body > section.allbooks > table > tr:nth-child(2) > td:nth-child(1) > a > img\")[0]\n",
    "print(tag_img)\n",
    "print(tag_img.tag)\n",
    "print(tag_img.attrib[\"src\"])\n",
    "\n",
    "tag_p = tree.cssselect(\"body > section.allbooks > table > tr:nth-child(2) > td:nth-child(1) > a > p\")[0]\n",
    "print(tag_p)\n",
    "print(tag_p.tag)\n",
    "print(tag_p.text_content())"
   ]
  },
  {
   "cell_type": "code",
   "execution_count": 4,
   "metadata": {},
   "outputs": [
    {
     "name": "stdout",
     "output_type": "stream",
     "text": [
      "img\n",
      "a\n",
      "p\n",
      "------------------\n",
      "p\n",
      "img\n"
     ]
    }
   ],
   "source": [
    "#Ch6_2c\n",
    "import requests\n",
    "from lxml import html \n",
    "\n",
    "r = requests.get(\"http://www.flag.com.tw/books/school_code_n_algo\")\n",
    "tree = html.fromstring(r.text)\n",
    "\n",
    "tag_img = tree.xpath(\"/html/body/section[2]/table/tr[2]/td[1]/a/img\")[0]\n",
    "print(tag_img.tag)\n",
    "print(tag_img.getparent().tag)\n",
    "print(tag_img.getnext().tag)\n",
    "print(\"------------------\")\n",
    "tag_p = tree.xpath(\"/html/body/section[2]/table/tr[2]/td[1]/a/p\")[0]\n",
    "print(tag_p.tag)\n",
    "print(tag_p.getprevious().tag)"
   ]
  },
  {
   "cell_type": "code",
   "execution_count": 5,
   "metadata": {},
   "outputs": [
    {
     "name": "stdout",
     "output_type": "stream",
     "text": [
      "img\n",
      "p\n"
     ]
    }
   ],
   "source": [
    "#Ch6_2d\n",
    "import requests\n",
    "from lxml import html \n",
    "\n",
    "r = requests.get(\"http://www.flag.com.tw/books/school_code_n_algo\")\n",
    "tree = html.fromstring(r.text)\n",
    "\n",
    "tag_img = tree.xpath(\"/html/body/section[2]/table/tr[2]/td[1]/a/img\")[0]\n",
    "\n",
    "for ele in tag_img.getparent().getchildren():\n",
    "    print(ele.tag)"
   ]
  },
  {
   "cell_type": "code",
   "execution_count": 6,
   "metadata": {},
   "outputs": [
    {
     "name": "stdout",
     "output_type": "stream",
     "text": [
      "這是第一條資訊\n",
      "這是第二條資訊\n",
      "這是第三條資訊\n",
      "http://jikexueyuan.com\n",
      "http://jikexueyuan.com/course/\n",
      "極客學院課程庫\n"
     ]
    }
   ],
   "source": [
    "'''網路範例1'''\n",
    "from lxml import etree   #要使用XPath就必須要在python中安裝lxml庫\n",
    "html = '''\n",
    "<!DOCTYPE html>\n",
    "<html>\n",
    "<head lang=\"en\">\n",
    "<meta charset=\"UTF-8\">\n",
    "<title>測試-常規用法</title>\n",
    "</head>\n",
    "<body>\n",
    "<div id=\"content\">\n",
    "<ul id=\"useful\">\n",
    "<li>這是第一條資訊</li>\n",
    "<li>這是第二條資訊</li>\n",
    "<li>這是第三條資訊</li>\n",
    "</ul>\n",
    "<ul id=\"useless\">\n",
    "<li>不需要的資訊1</li>\n",
    "<li>不需要的資訊2</li>\n",
    "<li>不需要的資訊3</li>\n",
    "</ul>\n",
    "<div id=\"url\">\n",
    "<a href=\"http://jikexueyuan.com\">極客學院</a>\n",
    "<a href=\"http://jikexueyuan.com/course/\" title=\"極客學院課程庫\">點我開啟課程庫</a>\n",
    "</div>\n",
    "</div>\n",
    "</body>\n",
    "</html>\n",
    "'''\n",
    "selector = etree.HTML(html)\n",
    "#提取文字\n",
    "content = selector.xpath('//ul[@id=\"useful\"]/li/text()')\n",
    "for each in content:\n",
    "    print(each)\n",
    "#提取屬性\n",
    "link = selector.xpath('//a/@href')\n",
    "for each in link:\n",
    "    print(each)\n",
    "title = selector.xpath('//a/@title')\n",
    "print(title[0])"
   ]
  },
  {
   "cell_type": "code",
   "execution_count": 7,
   "metadata": {},
   "outputs": [
    {
     "name": "stdout",
     "output_type": "stream",
     "text": [
      "需要的內容1\n",
      "需要的內容2\n",
      "需要的內容3\n",
      "\n",
      "我左青龍，\n",
      "\n",
      "\n",
      "龍頭在胸口。\n",
      "\n",
      "我左青龍，右白虎，上朱雀，下玄武。老牛在當中，龍頭在胸口。\n"
     ]
    }
   ],
   "source": [
    "'''網路範例2'''\n",
    "from lxml import etree\n",
    "html1 = '''\n",
    "<!DOCTYPE html>\n",
    "<html>\n",
    "<head lang=\"en\">\n",
    "<meta charset=\"UTF-8\">\n",
    "<title></title>\n",
    "</head>\n",
    "<body>\n",
    "<div id=\"test-1\">需要的內容1</div>\n",
    "<div id=\"test-2\">需要的內容2</div>\n",
    "<div id=\"testfault\">需要的內容3</div>\n",
    "</body>\n",
    "</html>\n",
    "'''\n",
    "html2 = '''\n",
    "<!DOCTYPE html>\n",
    "<html>\n",
    "<head lang=\"en\">\n",
    "<meta charset=\"UTF-8\">\n",
    "<title></title>\n",
    "</head>\n",
    "<body>\n",
    "<div id=\"test3\">\n",
    "我左青龍，\n",
    "<span id=\"tiger\">\n",
    "右白虎，\n",
    "<ul>上朱雀，\n",
    "<li>下玄武。</li>\n",
    "</ul>\n",
    "老牛在當中，\n",
    "</span>\n",
    "龍頭在胸口。\n",
    "</div>\n",
    "</body>\n",
    "</html>\n",
    "'''\n",
    "selector = etree.HTML(html1)\n",
    "content = selector.xpath('//div[starts-with(@id,\"test\")]/text()')\n",
    "for each in content:\n",
    "    print(each)\n",
    "selector = etree.HTML(html2)\n",
    "content_1 = selector.xpath('//div[@id=\"test3\"]/text()')\n",
    "for each in content_1:\n",
    "    print(each)\n",
    "data = selector.xpath('//div[@id=\"test3\"]')[0]\n",
    "info = data.xpath('string(.)')\n",
    "content_2 = info.replace('\\n','').replace(' ','')\n",
    "print(content_2)"
   ]
  },
  {
   "cell_type": "markdown",
   "metadata": {},
   "source": [
    "# 安裝與使用 Chrome 瀏覽器外掛：XPath Helper\n",
    "1. 前往 Chrome Web Store，點選外掛（Extensions）\n",
    "2. 搜尋 XPath Helper 並點選加入到 Chrome 瀏覽器\n",
    "3. 確認要加入 XPath Helper\n",
    "4. 完成安裝\n",
    "\n",
    "依照下列步驟使用 Chrome 瀏覽器外掛：XPath Helper。\n",
    "1. 點選 XPath Helper 的外掛圖示\n",
    "2. 按住 shift 鍵移動滑鼠到想要定位的元素\n",
    "3. 試著縮減 XPath，從最前面開始刪減，並留意 XPath Helper 介面左邊的 XPath 與右邊被定位到的資料，尋找一個最短仍可以正確對應的 XPath"
   ]
  },
  {
   "cell_type": "code",
   "execution_count": null,
   "metadata": {},
   "outputs": [],
   "source": []
  }
 ],
 "metadata": {
  "kernelspec": {
   "display_name": "Python 3",
   "language": "python",
   "name": "python3"
  },
  "language_info": {
   "codemirror_mode": {
    "name": "ipython",
    "version": 3
   },
   "file_extension": ".py",
   "mimetype": "text/x-python",
   "name": "python",
   "nbconvert_exporter": "python",
   "pygments_lexer": "ipython3",
   "version": "3.7.1"
  }
 },
 "nbformat": 4,
 "nbformat_minor": 2
}
