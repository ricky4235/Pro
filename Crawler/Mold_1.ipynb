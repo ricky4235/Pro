{
 "cells": [
  {
   "cell_type": "markdown",
   "metadata": {},
   "source": [
    "### 原始爬蟲"
   ]
  },
  {
   "cell_type": "code",
   "execution_count": 17,
   "metadata": {},
   "outputs": [
    {
     "name": "stdout",
     "output_type": "stream",
     "text": [
      "200\n",
      "<!DOCTYPE html>\n",
      "<html lang=\"en\">\n",
      "  <head>\n",
      "    <meta charset=\"utf-8\">\n",
      "    <meta http-equiv=\"X-UA-Compatible\" content=\"IE=edge\">\n",
      "    <meta name=\"viewport\" content=\"width=device-width, initial-scale=1\">\n",
      "    <!-- The above 3 meta tags *must* come first in the head; any other head content must come *after* these tags -->\n",
      "    <meta name=\"description\" content=\"\">\n",
      "    <meta name=\"author\" content=\"\">\n",
      "    \n",
      "    <title>Pycone 松果城市</title>\n",
      "\n",
      "    <!-- Bootstrap core CSS -->\n",
      "    <link href=\"bootstrap.min.css\" rel=\"stylesheet\">\n",
      "\n",
      "    <!-- IE10 viewport hack for Surface/desktop Windows 8 bug -->\n",
      "    <link href=\"http://getbootstrap.com/assets/css/ie10-viewport-bug-workaround.css\" rel=\"stylesheet\">\n",
      "\n",
      "    <!-- Custom styles for this template -->\n",
      "    <link href=\"http://getbootstrap.com/examples/sticky-footer/sticky-footer.css\" rel=\"stylesheet\">\n",
      "\n",
      "    <!-- Just for debugging purposes. Don't actually copy these 2 lines! -->\n",
      "    <!--[if lt IE 9]><script src=\"../../assets/js/ie8-responsive-file-warning.js\"></script><![endif]-->\n",
      "    <script src=\"http://getbootstrap.com/assets/js/ie-emulation-modes-warning.js\"></script>\n",
      "\n",
      "    <!-- HTML5 shim and Respond.js for IE8 support of HTML5 elements and media queries -->\n",
      "    <!--[if lt IE 9]>\n",
      "      <script src=\"https://oss.maxcdn.com/html5shiv/3.7.3/html5shiv.min.js\"></script>\n",
      "      <script src=\"https://oss.maxcdn.com/respond/1.4.2/respond.min.js\"></script>\n",
      "    <![endif]-->\n",
      "  </head>\n",
      "\n",
      "  <body>\n",
      "\n",
      "    <!-- Begin page content -->\n",
      "    <div class=\"container\">\n",
      "      <div class=\"page-header\">\n",
      "        <h1>歡迎來到 Pycone 松果城市！</h1>\n",
      "      </div>\n",
      "      <p class=\"lead\">Python是非常強的的程式語言, 簡潔友好的語法特別容易上手, 又有許多第三方函式庫的支援。Python是完全物件導向的語言, 有益於減少程式碼的重複性。Python的設計哲學是優雅, 明確, 簡單。 Python的設計風格, 使其成為易讀, 易維護且具有廣泛用途的程式語言。Python的應用範圍相當廣泛, 例如web後端開發, 機器學習, 資料分析, 自然語言處理, 網頁爬蟲與遊戲等等。如果自己常常翻閱書籍卻無法掌握重點, 上網收集資料卻覺得太過片段, 想要自己動手寫寫看卻不知道如何開始。 這們課會從最基本的環境架設開始教起, 讓所有同學都可以深入淺出一窺Python的奧妙,更透過實務專題練習的方式,使學生可以應用課堂所學來完成一個Python軟體。</p>\n",
      "      <p><a href=\"http://www.pycone.com/\">了解更多</a></p>\n",
      "    </div>\n",
      "\n",
      "    <footer class=\"footer\">\n",
      "      <div class=\"container\">\n",
      "        <p class=\"text-muted\">Pycone (c) 2017</p>\n",
      "      </div>\n",
      "    </footer>\n",
      "\n",
      "\n",
      "    <!-- IE10 viewport hack for Surface/desktop Windows 8 bug -->\n",
      "    <script src=\"http://getbootstrap.com/assets/js/ie10-viewport-bug-workaround.js\"></script>\n",
      "  </body>\n",
      "</html>\n",
      "\n",
      "<!DOCTYPE html>\n",
      "\n",
      "<html lang=\"en\">\n",
      "<head>\n",
      "<meta charset=\"utf-8\"/>\n",
      "<meta content=\"IE=edge\" http-equiv=\"X-UA-Compatible\"/>\n",
      "<meta content=\"width=device-width, initial-scale=1\" name=\"viewport\"/>\n",
      "<!-- The above 3 meta tags *must* come first in the head; any other head content must come *after* these tags -->\n",
      "<meta content=\"\" name=\"description\"/>\n",
      "<meta content=\"\" name=\"author\"/>\n",
      "<title>Pycone 松果城市</title>\n",
      "<!-- Bootstrap core CSS -->\n",
      "<link href=\"bootstrap.min.css\" rel=\"stylesheet\"/>\n",
      "<!-- IE10 viewport hack for Surface/desktop Windows 8 bug -->\n",
      "<link href=\"http://getbootstrap.com/assets/css/ie10-viewport-bug-workaround.css\" rel=\"stylesheet\"/>\n",
      "<!-- Custom styles for this template -->\n",
      "<link href=\"http://getbootstrap.com/examples/sticky-footer/sticky-footer.css\" rel=\"stylesheet\"/>\n",
      "<!-- Just for debugging purposes. Don't actually copy these 2 lines! -->\n",
      "<!--[if lt IE 9]><script src=\"../../assets/js/ie8-responsive-file-warning.js\"></script><![endif]-->\n",
      "<script src=\"http://getbootstrap.com/assets/js/ie-emulation-modes-warning.js\"></script>\n",
      "<!-- HTML5 shim and Respond.js for IE8 support of HTML5 elements and media queries -->\n",
      "<!--[if lt IE 9]>\n",
      "      <script src=\"https://oss.maxcdn.com/html5shiv/3.7.3/html5shiv.min.js\"></script>\n",
      "      <script src=\"https://oss.maxcdn.com/respond/1.4.2/respond.min.js\"></script>\n",
      "    <![endif]-->\n",
      "</head>\n",
      "<body>\n",
      "<!-- Begin page content -->\n",
      "<div class=\"container\">\n",
      "<div class=\"page-header\">\n",
      "<h1>歡迎來到 Pycone 松果城市！</h1>\n",
      "</div>\n",
      "<p class=\"lead\">Python是非常強的的程式語言, 簡潔友好的語法特別容易上手, 又有許多第三方函式庫的支援。Python是完全物件導向的語言, 有益於減少程式碼的重複性。Python的設計哲學是優雅, 明確, 簡單。 Python的設計風格, 使其成為易讀, 易維護且具有廣泛用途的程式語言。Python的應用範圍相當廣泛, 例如web後端開發, 機器學習, 資料分析, 自然語言處理, 網頁爬蟲與遊戲等等。如果自己常常翻閱書籍卻無法掌握重點, 上網收集資料卻覺得太過片段, 想要自己動手寫寫看卻不知道如何開始。 這們課會從最基本的環境架設開始教起, 讓所有同學都可以深入淺出一窺Python的奧妙,更透過實務專題練習的方式,使學生可以應用課堂所學來完成一個Python軟體。</p>\n",
      "<p><a href=\"http://www.pycone.com/\">了解更多</a></p>\n",
      "</div>\n",
      "<footer class=\"footer\">\n",
      "<div class=\"container\">\n",
      "<p class=\"text-muted\">Pycone (c) 2017</p>\n",
      "</div>\n",
      "</footer>\n",
      "<!-- IE10 viewport hack for Surface/desktop Windows 8 bug -->\n",
      "<script src=\"http://getbootstrap.com/assets/js/ie10-viewport-bug-workaround.js\"></script>\n",
      "</body>\n",
      "</html>\n",
      "\n",
      "<h1>歡迎來到 Pycone 松果城市！</h1>\n",
      "歡迎來到 Pycone 松果城市！\n",
      "h2 tag not found!\n"
     ]
    }
   ],
   "source": [
    "import requests\n",
    "from bs4 import BeautifulSoup\n",
    "\n",
    "#函式（function）是重複使用的程式區塊，有輸入輸出。在 Python 中我們會使用 def 來自行定義函式\n",
    "def main():  \n",
    "    # 利用try,except處理例外情形\n",
    "    try:\n",
    "        resp = requests.get('http://blog.castman.net/web-crawler-tutorial/ch1/connect.html')  # 將請求而來的資料儲存在resp變數\n",
    "    except:\n",
    "        resp = None\n",
    "\n",
    "    if resp and resp.status_code == 200:  # 檢查是否為有效網址\n",
    "        print(resp.status_code)\n",
    "        print(resp.text)\n",
    "        soup = BeautifulSoup(resp.text, 'html.parser') \n",
    "        print(soup)\n",
    "        \n",
    "        # 透過.find()搜尋tag,同時以try,except避免搜尋不存在的tag而發生錯誤\n",
    "        try:\n",
    "            h1 = soup.find('h1')\n",
    "        except:\n",
    "            h1 = None\n",
    "        if h1:\n",
    "            print(soup.find('h1'))  #<h1>歡迎來到 Pycone 松果城市！</h1>\n",
    "            print(soup.find('h1').text)  #歡迎來到 Pycone 松果城市！\n",
    "        \n",
    "        try:\n",
    "            h2 = soup.find('h2')\n",
    "        except:\n",
    "            h2 = None\n",
    "        if h2:\n",
    "            print(soup.find('h2').text)\n",
    "        else:\n",
    "            print('h2 tag not found!')  #h2 tag not found\n",
    "\n",
    "#爬蟲主程式\n",
    "if __name__ == '__main__':  #當被匯入時不執行的段落\n",
    "    main()"
   ]
  },
  {
   "cell_type": "code",
   "execution_count": null,
   "metadata": {},
   "outputs": [],
   "source": [
    "try:\n",
    "    # 你要執行的程式\n",
    "except <錯誤類型>:\n",
    "    # 發生錯誤時要執行的程式"
   ]
  },
  {
   "cell_type": "code",
   "execution_count": null,
   "metadata": {},
   "outputs": [],
   "source": [
    "if __name__ == '__main__': 意思"
   ]
  },
  {
   "cell_type": "code",
   "execution_count": null,
   "metadata": {},
   "outputs": [],
   "source": [
    "__name__ 是「當前模組名稱」，可以用來分辨程式是被直接\"執行\"還是被\"匯入\"的，當模組被直接執行時模組名為 __main__ 。\n",
    "\n",
    "這句話的意思就是，當模組被直接\"執行\"時，之下的程式\"將被執行\"，\n",
    "當模組是被\"匯入\"時，程式碼塊\"不被執行\"。\n",
    "是因為程式在匯入時都會重覆執行匯入的程式，但加入這段就可以避免某些段落被重覆執行。"
   ]
  },
  {
   "cell_type": "markdown",
   "metadata": {},
   "source": [
    "### 幫爬蟲裝煞車\n",
    "爬蟲也是程式, 所以它是很笨的, 只會按照人寫的腳本去行動, 因此在寫爬蟲的時候要記得去處理可能發生的例外情形, 不然你的蟲爬沒幾下就可能會罷工或是做出預料之外的行為."
   ]
  },
  {
   "cell_type": "code",
   "execution_count": 22,
   "metadata": {
    "scrolled": true
   },
   "outputs": [
    {
     "name": "stdout",
     "output_type": "stream",
     "text": [
      "h1: 歡迎來到 Pycone 松果城市！\n",
      "p: Python是非常強的的程式語言, 簡潔友好的語法特別容易上手, 又有許多第三方函式庫的支援。Python是完全物件導向的語言, 有益於減少程式碼的重複性。Python的設計哲學是優雅, 明確, 簡單。 Python的設計風格, 使其成為易讀, 易維護且具有廣泛用途的程式語言。Python的應用範圍相當廣泛, 例如web後端開發, 機器學習, 資料分析, 自然語言處理, 網頁爬蟲與遊戲等等。如果自己常常翻閱書籍卻無法掌握重點, 上網收集資料卻覺得太過片段, 想要自己動手寫寫看卻不知道如何開始。 這們課會從最基本的環境架設開始教起, 讓所有同學都可以深入淺出一窺Python的奧妙,更透過實務專題練習的方式,使學生可以應用課堂所學來完成一個Python軟體。\n"
     ]
    }
   ],
   "source": [
    "import requests\n",
    "from bs4 import BeautifulSoup\n",
    "\n",
    "\n",
    "def main():\n",
    "    url = 'http://blog.castman.net/web-crawler-tutorial/ch1/connect.html'\n",
    "\n",
    "    h1 = get_header_text(url, 'h1')\n",
    "    if h1:\n",
    "        print('h1: ' + h1)\n",
    "\n",
    "    h2 = get_header_text(url, 'h2')\n",
    "    if h2:\n",
    "        print('h2: ' + h2)\n",
    "\n",
    "    p = get_header_text(url, 'p')\n",
    "    if p:\n",
    "        print('p: ' + p)\n",
    "\n",
    "\n",
    "def get_header_text(url, header_tag):  #前面用到\n",
    "    try:\n",
    "        resp = requests.get(url)\n",
    "        if resp.status_code == 200:\n",
    "            soup = BeautifulSoup(resp.text, 'html.parser')\n",
    "            return soup.find(header_tag).text\n",
    "    except Exception as exception:\n",
    "        return None\n",
    "\n",
    "\n",
    "if __name__ == '__main__':\n",
    "    main()"
   ]
  },
  {
   "cell_type": "markdown",
   "metadata": {},
   "source": [
    "在get_header_text中, 會把取得response的過程放在try...except區塊之中, 所以爬蟲如果無法正常取得response的時候, 就會回傳None, 而後續處理的程式也會知道這時候沒東西, 就不進行任何處理了."
   ]
  },
  {
   "cell_type": "code",
   "execution_count": null,
   "metadata": {},
   "outputs": [],
   "source": []
  },
  {
   "cell_type": "code",
   "execution_count": null,
   "metadata": {},
   "outputs": [],
   "source": []
  }
 ],
 "metadata": {
  "kernelspec": {
   "display_name": "Python 3",
   "language": "python",
   "name": "python3"
  },
  "language_info": {
   "codemirror_mode": {
    "name": "ipython",
    "version": 3
   },
   "file_extension": ".py",
   "mimetype": "text/x-python",
   "name": "python",
   "nbconvert_exporter": "python",
   "pygments_lexer": "ipython3",
   "version": "3.7.1"
  }
 },
 "nbformat": 4,
 "nbformat_minor": 2
}
