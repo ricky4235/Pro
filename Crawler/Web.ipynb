{
 "cells": [
  {
   "cell_type": "code",
   "execution_count": null,
   "metadata": {},
   "outputs": [],
   "source": [
    "網頁是由HTML、CSS、JavaScript所組成\n",
    "沒概念也不用緊張，想像你眼前有個漂亮的玻璃展示櫃，裡面按照一定距離排列了許多公仔，每個公仔各自被展示燈所照著。\n",
    "而櫃子旁的牆壁上，有三個開關，旁邊分別寫著HTML、CSS、JavaScript，而我們可以試著切換JavaScript的開關，看所要觀察的對象，燈是否熄滅了。"
   ]
  },
  {
   "cell_type": "code",
   "execution_count": null,
   "metadata": {},
   "outputs": [],
   "source": [
    "燈熄滅就表示，不打開JavaScript開關，我們就無法觀察到這個物件。\n",
    "\n",
    "推薦使用Chrome套件：Quick Javascript Switcher，安裝完成後右上角會出現圖示。"
   ]
  },
  {
   "cell_type": "code",
   "execution_count": null,
   "metadata": {},
   "outputs": [],
   "source": [
    "以PChome線上購物為例，搜尋iPhone後的商品列表，每個標題都有「iPhone」關鍵字；但是如果以爬蟲的視角，\n",
    "在網頁原始碼中，用搜尋是找不到「iPhnoe」關鍵字的。\n",
    "\n",
    "原因在於該網頁的完整呈現，需要開啟開關。\n",
    "\n",
    "下列短片中，可以看到我關閉後，商品標題就消失了：\n",
    "所以我們要考慮所要抓取的內容是否使用了JavaScript渲染，決定對應的方式。"
   ]
  },
  {
   "cell_type": "code",
   "execution_count": null,
   "metadata": {},
   "outputs": [],
   "source": [
    "如果你想要自已動手寫一個簡單的網站介面（例如：自己的履歷網站），需要先學會的技能是 HTML，再來是 CSS。\n",
    "如果要在靜態網站上加點動畫或互動功能，才會需要用到 JavaScript (JS)。\n",
    "而寫前端網頁會主要用到的這三個工具，有些人會稱之為「前端三本柱」。"
   ]
  },
  {
   "cell_type": "code",
   "execution_count": null,
   "metadata": {},
   "outputs": [],
   "source": [
    "HTML 正確來說是「標籤語言 (Markup Language)」，是用來描述網站的架構、資訊。\n",
    "而 CSS 則是一種「樣式表 (StyleSheet)」，用來控制網站顯示的樣式，包含字型、顏色、背景等等。\n",
    "粗淺簡單的理解可以先把 HTML 想成網站的骨架、CSS 則是網站的整體外型（身高體重、皮膚顏色等）。"
   ]
  },
  {
   "cell_type": "code",
   "execution_count": null,
   "metadata": {},
   "outputs": [],
   "source": [
    "學會 HTML 與 CSS 後，就可以做出一個簡單的網站，甚至可以用 CSS 加上一些簡單的動畫以及與滑鼠動作的反應。\n",
    "但當我們要更深入做一個動態網站，處理網頁上所有可能的動作、或是做出更細節的動畫時，我們就需要 JavaScript 登場。\n",
    "（關於 CSS 和 JavaScript 實作的動畫詳細比較，你可以參考這篇文章）"
   ]
  },
  {
   "cell_type": "code",
   "execution_count": null,
   "metadata": {},
   "outputs": [],
   "source": [
    "嚴格來說，JavaScript 才是寫網頁需要的第一個程式語言。\n",
    "JS 可以用來處理網站上需要邏輯判斷的功能，像是隨著使用者的行為動態載入網頁的不同內容。\n",
    "簡單來說，像現在你在閱讀的這個頁面，反白文字會出現回應，按旁邊的 clap 數字就會 +1，\n",
    "這些就是需要 JS 的地方了。在下面，我們來詳細一點的認識 JavaScript。"
   ]
  },
  {
   "cell_type": "code",
   "execution_count": null,
   "metadata": {},
   "outputs": [],
   "source": [
    "PHP\n",
    "使用者多，算是最普及的後端語言\n",
    "簡單易學，但因一些古老的設計飽受批評\n",
    "網站範例：Facebook、Wordpress\n",
    "Java\n",
    "老牌語言，國內外工作需求穩定，應用層面廣\n",
    "開發相較起來較慢，沒那麼適合新手\n",
    "網站範例：Linkedin、Amazon\n",
    "Ruby\n",
    "開發快速，國內外很多 bootcamp 都以此語言教後端\n",
    "適不適合新手學飽受爭議，爭議的部分可以參考這篇\n",
    "網站範例：Airbnb、Twitter\n",
    "Python\n",
    "語法簡單易學，數據分析與資料探勘相關應用多\n",
    "單獨使用 Python 相較起來運行性能較差\n",
    "網站範例：Instagram、Reddit\n",
    "JavaScript (Node.js)\n",
    "前端後端都可用 JS，高併發的情況執行效率極高\n",
    "不適合 CPU 密集的應用\n",
    "網站範例：Yahoo、Walmart\n",
    "Go\n",
    "Google 力推，有很完善的標準庫，效能佳\n",
    "目前學習資源較少\n",
    "網站範例：Google、Youtube"
   ]
  }
 ],
 "metadata": {
  "kernelspec": {
   "display_name": "Python 3",
   "language": "python",
   "name": "python3"
  },
  "language_info": {
   "codemirror_mode": {
    "name": "ipython",
    "version": 3
   },
   "file_extension": ".py",
   "mimetype": "text/x-python",
   "name": "python",
   "nbconvert_exporter": "python",
   "pygments_lexer": "ipython3",
   "version": "3.7.1"
  }
 },
 "nbformat": 4,
 "nbformat_minor": 2
}
