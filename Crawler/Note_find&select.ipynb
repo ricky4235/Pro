{
 "cells": [
  {
   "cell_type": "code",
   "execution_count": null,
   "metadata": {},
   "outputs": [],
   "source": [
    "Note_find&select"
   ]
  },
  {
   "cell_type": "code",
   "execution_count": 20,
   "metadata": {},
   "outputs": [],
   "source": [
    "html_doc = \"\"\"\n",
    "<html>\n",
    "  <head>\n",
    "    <title>我是網頁標題</title>\n",
    "    <style>\n",
    "    .large {\n",
    "      color:blue;\n",
    "      text-align: center;\n",
    "    }\n",
    "    </style>\n",
    "  </head>\n",
    "  <body>\n",
    "    <h1 class=\"large\" style=\"g\">我是變色且置中的抬頭</h1>\n",
    "    <p id=\"p1\">我是段落一</p>\n",
    "    <p id=\"p2\">我是段落二</p>\n",
    "    <p id=\"p3\" style=\"x\">我是段落三</p>\n",
    "    <p id=\"p3\" style=\"y\">我是段落三</p>\n",
    "    <div><a href='http://blog.castman.net' style=\"font-size:200%;\">我是放大的超連結</a></div>\n",
    "    <meta name=\"title\" content=\"Genius Gx Gaming Mice M6-400 (31040062101)\">\n",
    "    <meta property=\"og:title\" content=\"【SAMPO 聲寶】一級能效6公升三機一體空氣清淨除濕機(AD-WB712T)\">\n",
    "  </body>\n",
    "</html>\n",
    "\"\"\""
   ]
  },
  {
   "cell_type": "markdown",
   "metadata": {},
   "source": [
    "### HTML meta 標籤\n",
    "* 可以用來提供網頁內容的資訊給瀏覽器或是搜尋引擎，例如網頁內容的描述、網頁重要關鍵字、網頁編碼等都是常用 meta 來標示的網頁資訊，\n",
    "* 另外還有網頁作者、網頁發佈時間、所使用的編輯器等較不重要的資訊，也可以透過 META TAG 來標示，\n",
    "* META 的功能僅是用來註明這些網頁資訊，且提供給瀏覽器或是搜尋引擎，並非是要給寫給瀏覽網頁的＂人＂看的內容。\n",
    "* 直接用google的select選取網頁範圍不會對應到meta標籤，需自行搜尋meta或貼上文字查找"
   ]
  },
  {
   "cell_type": "code",
   "execution_count": 21,
   "metadata": {
    "scrolled": true
   },
   "outputs": [
    {
     "name": "stdout",
     "output_type": "stream",
     "text": [
      "\n",
      "<html>\n",
      "<head>\n",
      "<title>我是網頁標題</title>\n",
      "<style>\n",
      "    .large {\n",
      "      color:blue;\n",
      "      text-align: center;\n",
      "    }\n",
      "    </style>\n",
      "</head>\n",
      "<body>\n",
      "<h1 class=\"large\" style=\"g\">我是變色且置中的抬頭</h1>\n",
      "<p id=\"p1\">我是段落一</p>\n",
      "<p id=\"p2\">我是段落二</p>\n",
      "<p id=\"p3\" style=\"x\">我是段落三</p>\n",
      "<p id=\"p3\" style=\"y\">我是段落三</p>\n",
      "<div><a href=\"http://blog.castman.net\" style=\"font-size:200%;\">我是放大的超連結</a></div>\n",
      "<meta content=\"Genius Gx Gaming Mice M6-400 (31040062101)\" name=\"title\"/>\n",
      "<meta content=\"【SAMPO 聲寶】一級能效6公升三機一體空氣清淨除濕機(AD-WB712T)\" property=\"og:title\"/>\n",
      "</body>\n",
      "</html>\n",
      "\n"
     ]
    }
   ],
   "source": [
    "from bs4 import BeautifulSoup\n",
    "soup = BeautifulSoup(html_doc, 'html.parser')\n",
    "print(soup)"
   ]
  },
  {
   "cell_type": "code",
   "execution_count": 42,
   "metadata": {},
   "outputs": [
    {
     "name": "stdout",
     "output_type": "stream",
     "text": [
      "first line\n",
      "555\n",
      "     \r",
      "vvv\n"
     ]
    }
   ],
   "source": [
    "print(\"first line\\n555\\n     \\rvvv\")"
   ]
  },
  {
   "cell_type": "code",
   "execution_count": 44,
   "metadata": {},
   "outputs": [
    {
     "name": "stdout",
     "output_type": "stream",
     "text": [
      "first line\n",
      "555\n",
      "    .\r",
      "vvv\n"
     ]
    }
   ],
   "source": [
    "print(\"first line\\n555\\n    .\\rvvv\")"
   ]
  },
  {
   "cell_type": "markdown",
   "metadata": {},
   "source": [
    "# find() & find_all()\n",
    "* 較直觀，不太需要記規則\n",
    "* 第一個引數通常是'tag'名稱(也可以省略直接跳到'attrs'，但要標明'attrs')。\n",
    "* 第二個引數可以直接使用'{attrs+大括號}'或只用'{大括號}'去定位區塊，若未指明attrs就代表class名稱"
   ]
  },
  {
   "cell_type": "code",
   "execution_count": 29,
   "metadata": {
    "scrolled": true
   },
   "outputs": [
    {
     "name": "stdout",
     "output_type": "stream",
     "text": [
      "[<h1 class=\"large\" style=\"g\">我是變色且置中的抬頭</h1>]\n",
      "[<h1 class=\"large\" style=\"g\">我是變色且置中的抬頭</h1>]\n",
      "[<h1 class=\"large\" style=\"g\">我是變色且置中的抬頭</h1>]\n",
      "[<h1 class=\"large\" style=\"g\">我是變色且置中的抬頭</h1>]\n"
     ]
    }
   ],
   "source": [
    "print(soup.find_all('h1', 'large'))  #('tag', 'attrs') 若未指明attrs就代表class名稱\n",
    "print(soup.find_all(class_='large')) #省略tag，但要標明attrs\n",
    "print(soup.find_all('h1', class_='large')) #attrs中，只有class_要加底線\"_\"\n",
    "print(soup.find_all('h1', style=\"g\")) #attrs查詢"
   ]
  },
  {
   "cell_type": "code",
   "execution_count": 30,
   "metadata": {},
   "outputs": [
    {
     "name": "stdout",
     "output_type": "stream",
     "text": [
      "[<h1 class=\"large\" style=\"g\">我是變色且置中的抬頭</h1>]\n",
      "[<h1 class=\"large\" style=\"g\">我是變色且置中的抬頭</h1>]\n",
      "[<h1 class=\"large\" style=\"g\">我是變色且置中的抬頭</h1>]\n"
     ]
    }
   ],
   "source": [
    "print(soup.find_all('h1', attrs={\"class\":\"large\"})) #完整寫法\n",
    "print(soup.find_all('h1', attrs={\"class\":\"large\", \"style\":\"g\"})) #若要查找兩種attrs時，需用完整寫法\n",
    "print(soup.find_all('h1', {\"class\":\"large\", \"style\":\"g\"}))  #省略 attrs="
   ]
  },
  {
   "cell_type": "markdown",
   "metadata": {},
   "source": [
    "# select() & select_one()\n",
    "較精簡、但要記一點規則，<br>\n",
    "其實用google的SelectorGadget就夠了，規則大至看得懂及可<br>\n",
    "基礎規則：<br>\n",
    "\".\"代表class屬性、\"#\"代表id屬性、\">\"代表父~子標籤、\"空格\"代表前者之下的標籤、\"[]\"中標明屬性<br>"
   ]
  },
  {
   "cell_type": "code",
   "execution_count": 9,
   "metadata": {
    "scrolled": true
   },
   "outputs": [
    {
     "name": "stdout",
     "output_type": "stream",
     "text": [
      "[<p id=\"p1\">我是段落一</p>, <p id=\"p2\">我是段落二</p>, <p id=\"p3\" style=\"x\">我是段落三</p>, <p id=\"p3\" style=\"y\">我是段落三</p>]\n",
      "[<h1 class=\"large\" style=\"g\">我是變色且置中的抬頭</h1>]\n",
      "[<h1 class=\"large\" style=\"g\">我是變色且置中的抬頭</h1>]\n",
      "[<p id=\"p1\">我是段落一</p>]\n",
      "[<p id=\"p1\">我是段落一</p>, <p id=\"p2\">我是段落二</p>, <p id=\"p3\" style=\"x\">我是段落三</p>, <p id=\"p3\" style=\"y\">我是段落三</p>]\n",
      "[<p id=\"p1\">我是段落一</p>, <p id=\"p2\">我是段落二</p>, <p id=\"p3\" style=\"x\">我是段落三</p>, <p id=\"p3\" style=\"y\">我是段落三</p>]\n",
      "[<h1 class=\"large\" style=\"g\">我是變色且置中的抬頭</h1>]\n"
     ]
    }
   ],
   "source": [
    "#print(soup.select('*'))        #選擇所有標籤：*\n",
    "print(soup.select('p'))         #選擇<p>標籤\n",
    "print(soup.select('.large'))    #選擇所有class ='large'的元素\n",
    "print(soup.select('h1.large'))  #選擇 class='large' 的<h1>標籤\n",
    "print(soup.select('#p1'))       #選擇 id ='p1'的<div>標籤\n",
    "print(soup.select('body > p'))  #選擇父元素為<body>標籤的所有<p>子標籤：body > p\n",
    "print(soup.select('body p'))    #選擇<body>標籤內部的所有<p>標籤：一個空白\n",
    "print(soup.select(\"h1[class='large']\")) #選擇標題屬性為'large'的所有<'h1'>標籤，兩重引號的話要用雙引號包單引號"
   ]
  },
  {
   "cell_type": "markdown",
   "metadata": {},
   "source": [
    "### 通過標籤名查找(找所有:find_all&select)：返回列表"
   ]
  },
  {
   "cell_type": "code",
   "execution_count": 26,
   "metadata": {
    "scrolled": false
   },
   "outputs": [
    {
     "name": "stdout",
     "output_type": "stream",
     "text": [
      "[<p id=\"p1\">我是段落一</p>, <p id=\"p2\" style=\"\">我是段落二</p>, <p id=\"p3\" style=\"\">我是段落三</p>]\n",
      "[<p id=\"p1\">我是段落一</p>, <p id=\"p2\" style=\"\">我是段落二</p>, <p id=\"p3\" style=\"\">我是段落三</p>]\n"
     ]
    }
   ],
   "source": [
    "print(soup.find_all('p'))\n",
    "print(soup.select('p'))"
   ]
  },
  {
   "cell_type": "markdown",
   "metadata": {},
   "source": [
    "### 通過標籤名查找(找一個，只會顯示第一項:find&select_one)："
   ]
  },
  {
   "cell_type": "code",
   "execution_count": 11,
   "metadata": {},
   "outputs": [
    {
     "name": "stdout",
     "output_type": "stream",
     "text": [
      "<p id=\"p1\">我是段落一</p>\n",
      "<p id=\"p1\">我是段落一</p>\n",
      "<p id=\"p1\">我是段落一</p>\n"
     ]
    }
   ],
   "source": [
    "print(soup.find('p'))\n",
    "print(soup.select_one('p'))\n",
    "print(soup.select('p')[0])   #後面加[0]代表只找第一個，等同為select_one"
   ]
  },
  {
   "cell_type": "markdown",
   "metadata": {},
   "source": [
    "### 有同樣標籤名時，可以選擇要查找第幾項(找一個，只會顯示第N項:find&select_one)："
   ]
  },
  {
   "cell_type": "code",
   "execution_count": 67,
   "metadata": {},
   "outputs": [
    {
     "name": "stdout",
     "output_type": "stream",
     "text": [
      "<p id=\"p3\" style=\"x\">我是段落三</p>\n",
      "<p id=\"p2\">我是段落二</p>\n"
     ]
    }
   ],
   "source": [
    "print(soup.find_all('p')[2])\n",
    "print(soup.select('p')[1])  #後面加[0]代表只找第一個，等同為select_one"
   ]
  },
  {
   "cell_type": "markdown",
   "metadata": {},
   "source": [
    "### 通過類名查找："
   ]
  },
  {
   "cell_type": "code",
   "execution_count": 37,
   "metadata": {},
   "outputs": [
    {
     "name": "stdout",
     "output_type": "stream",
     "text": [
      "[<h1 class=\"large\">我是變色且置中的抬頭</h1>]\n",
      "[<h1 class=\"large\">我是變色且置中的抬頭</h1>]\n"
     ]
    }
   ],
   "source": [
    "print(soup.find_all(class_='large'))  \n",
    "print(soup.select('.large'))   #\".\"代表class屬性"
   ]
  },
  {
   "cell_type": "markdown",
   "metadata": {},
   "source": [
    "### 通過 id 名查找："
   ]
  },
  {
   "cell_type": "code",
   "execution_count": 12,
   "metadata": {
    "scrolled": true
   },
   "outputs": [
    {
     "name": "stdout",
     "output_type": "stream",
     "text": [
      "[<p id=\"p2\" style=\"\">我是段落二</p>]\n",
      "[<p id=\"p2\" style=\"\">我是段落二</p>]\n"
     ]
    }
   ],
   "source": [
    "print(soup.find_all(id='p2'))\n",
    "print(soup.select('#p2'))  #\"#\"代表id屬性"
   ]
  },
  {
   "cell_type": "markdown",
   "metadata": {},
   "source": [
    "### 組合查找："
   ]
  },
  {
   "cell_type": "code",
   "execution_count": 71,
   "metadata": {},
   "outputs": [
    {
     "name": "stdout",
     "output_type": "stream",
     "text": [
      "[<p id=\"p2\">我是段落二</p>]\n",
      "[<p id=\"p2\">我是段落二</p>]\n"
     ]
    }
   ],
   "source": [
    "print(soup.find_all('p', id='p2'))\n",
    "print(soup.select('p' '#p2'))   #二者需要用\"空格\"分開(注意:這的空格並不代表'p'在'#p2'之上，只是要組合，所以兩者都有'引號')"
   ]
  },
  {
   "cell_type": "markdown",
   "metadata": {},
   "source": [
    "### 屬性查找："
   ]
  },
  {
   "cell_type": "code",
   "execution_count": 68,
   "metadata": {},
   "outputs": [
    {
     "name": "stdout",
     "output_type": "stream",
     "text": [
      "[<a href=\"http://blog.castman.net\" style=\"font-size:200%;\">我是放大的超連結</a>]\n",
      "[<a href=\"http://blog.castman.net\" style=\"font-size:200%;\">我是放大的超連結</a>]\n"
     ]
    }
   ],
   "source": [
    "print(soup.find_all('a', attrs={\"href\":\"http://blog.castman.net\"}))\n",
    "print(soup.select('a[href=\"http://blog.castman.net\"]')) #注意屬性和標籤屬於同一節點，所以中間不能加空格，否則會無法匹配到。\n",
    "print(soup.select('div a[href=\"http://blog.castman.net\"]')) #同樣，屬性仍然可以與上述查找方式組合，不在同一節點的空格隔開，同一節點的不加空格"
   ]
  },
  {
   "cell_type": "markdown",
   "metadata": {},
   "source": [
    "# 獲取內容："
   ]
  },
  {
   "cell_type": "markdown",
   "metadata": {},
   "source": [
    "### 獲取標籤中的內容\n",
    "* 包在標籤內的內容<p id=\"p1\">我是內容</p>\n",
    "* 標籤內容有子標籤時，string屬性無法成功取得標籤內容，需要使用text屬性或get_text()函數"
   ]
  },
  {
   "cell_type": "code",
   "execution_count": 24,
   "metadata": {},
   "outputs": [
    {
     "data": {
      "text/plain": [
       "<body>\n",
       "<h1 class=\"large\" style=\"g\">我是變色且置中的抬頭</h1>\n",
       "<p id=\"p1\">我是段落一</p>\n",
       "<p id=\"p2\">我是段落二</p>\n",
       "<p id=\"p3\" style=\"x\">我是段落三</p>\n",
       "<p id=\"p3\" style=\"y\">我是段落三</p>\n",
       "<div><a href=\"http://blog.castman.net\" style=\"font-size:200%;\">我是放大的超連結</a></div>\n",
       "</body>"
      ]
     },
     "execution_count": 24,
     "metadata": {},
     "output_type": "execute_result"
    }
   ],
   "source": [
    "soup.select_one('body')"
   ]
  },
  {
   "cell_type": "code",
   "execution_count": 73,
   "metadata": {
    "scrolled": false
   },
   "outputs": [
    {
     "name": "stdout",
     "output_type": "stream",
     "text": [
      "\n",
      "我是變色且置中的抬頭\n",
      "我是段落一\n",
      "我是段落二\n",
      "我是段落三\n",
      "我是段落三\n",
      "我是放大的超連結\n",
      "\n"
     ]
    }
   ],
   "source": [
    "print(soup.select_one('body').text)"
   ]
  },
  {
   "cell_type": "code",
   "execution_count": 74,
   "metadata": {
    "scrolled": true
   },
   "outputs": [
    {
     "name": "stdout",
     "output_type": "stream",
     "text": [
      "\n",
      "我是變色且置中的抬頭\n",
      "我是段落一\n",
      "我是段落二\n",
      "我是段落三\n",
      "我是段落三\n",
      "我是放大的超連結\n",
      "\n"
     ]
    }
   ],
   "source": [
    "print(soup.select_one('body').get_text())"
   ]
  },
  {
   "cell_type": "markdown",
   "metadata": {},
   "source": [
    "### 獲取屬性中的內容：用'[中括號]'"
   ]
  },
  {
   "cell_type": "code",
   "execution_count": 32,
   "metadata": {},
   "outputs": [
    {
     "name": "stdout",
     "output_type": "stream",
     "text": [
      "Genius Gx Gaming Mice M6-400 (31040062101)\n",
      "【SAMPO 聲寶】一級能效6公升三機一體空氣清淨除濕機(AD-WB712T)\n"
     ]
    }
   ],
   "source": [
    "print(soup.find('meta',{\"name\":\"title\"})['content'])\n",
    "print(soup.find('meta',{'property':'og:title'})['content'])"
   ]
  },
  {
   "cell_type": "markdown",
   "metadata": {},
   "source": [
    "### 獲取href內容："
   ]
  },
  {
   "cell_type": "code",
   "execution_count": 16,
   "metadata": {},
   "outputs": [
    {
     "name": "stdout",
     "output_type": "stream",
     "text": [
      "http://blog.castman.net\n"
     ]
    }
   ],
   "source": [
    "print(soup.find(\"a\").get('href'))"
   ]
  },
  {
   "cell_type": "markdown",
   "metadata": {},
   "source": [
    "### 向下走訪：\n",
    "爬蟲時向下最常用，其他走訪參閱\"Ch05-2_走訪HTML網頁\""
   ]
  },
  {
   "cell_type": "code",
   "execution_count": 94,
   "metadata": {},
   "outputs": [
    {
     "name": "stdout",
     "output_type": "stream",
     "text": [
      "<h1 class=\"large\" style=\"g\">我是變色且置中的抬頭</h1>\n"
     ]
    }
   ],
   "source": [
    "print(soup.html.body.h1)   #使用子標籤名稱向下走訪"
   ]
  },
  {
   "cell_type": "code",
   "execution_count": 99,
   "metadata": {},
   "outputs": [
    {
     "name": "stdout",
     "output_type": "stream",
     "text": [
      "h1\n"
     ]
    }
   ],
   "source": [
    "print(soup.html.body.h1.name)  #顯示標籤名稱"
   ]
  },
  {
   "cell_type": "code",
   "execution_count": 96,
   "metadata": {},
   "outputs": [
    {
     "name": "stdout",
     "output_type": "stream",
     "text": [
      "g\n"
     ]
    }
   ],
   "source": [
    "print(soup.html.body.h1[\"style\"])  #顯示屬性名稱"
   ]
  },
  {
   "cell_type": "code",
   "execution_count": 98,
   "metadata": {},
   "outputs": [
    {
     "name": "stdout",
     "output_type": "stream",
     "text": [
      "['\\n', <h1 class=\"large\" style=\"g\">我是變色且置中的抬頭</h1>, '\\n', <p id=\"p1\">我是段落一</p>, '\\n', <p id=\"p2\">我是段落二</p>, '\\n', <p id=\"p3\" style=\"x\">我是段落三</p>, '\\n', <p id=\"p3\" style=\"y\">我是段落三</p>, '\\n', <div><a href=\"http://blog.castman.net\" style=\"font-size:200%;\">我是放大的超連結</a></div>, '\\n']\n"
     ]
    }
   ],
   "source": [
    "print(soup.html.body.contents)  #contents屬性：取得所有子標籤"
   ]
  },
  {
   "cell_type": "code",
   "execution_count": null,
   "metadata": {},
   "outputs": [],
   "source": []
  }
 ],
 "metadata": {
  "kernelspec": {
   "display_name": "Python 3",
   "language": "python",
   "name": "python3"
  },
  "language_info": {
   "codemirror_mode": {
    "name": "ipython",
    "version": 3
   },
   "file_extension": ".py",
   "mimetype": "text/x-python",
   "name": "python",
   "nbconvert_exporter": "python",
   "pygments_lexer": "ipython3",
   "version": "3.7.1"
  }
 },
 "nbformat": 4,
 "nbformat_minor": 2
}
