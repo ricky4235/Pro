{
 "cells": [
  {
   "cell_type": "code",
   "execution_count": null,
   "metadata": {},
   "outputs": [],
   "source": [
    "Ch05-2_走訪HTML網頁"
   ]
  },
  {
   "cell_type": "markdown",
   "metadata": {},
   "source": [
    "再學會find()和select()來搜尋和定位HTML網頁後，可以透過走訪的方式來定位和取出所需資料"
   ]
  },
  {
   "cell_type": "code",
   "execution_count": null,
   "metadata": {},
   "outputs": [],
   "source": [
    "用Beautiful Soup就是將所有HTML標籤建立成Tag物件(bs4.element.Tag)\n",
    "文字內容是建立成NavigableString物件，\n",
    "但是文字編排的HTML標籤大多有空白字元和新行字元(\\n)\n",
    "上述結果理論上只有三個標籤(bs4.element.Tag)\n",
    "其他NavigableString物件是位在<li>標籤前後的空白字元和新行字元(\\n)\n",
    "可以用下述方法把它過濾掉"
   ]
  },
  {
   "cell_type": "code",
   "execution_count": 5,
   "metadata": {
    "scrolled": true
   },
   "outputs": [
    {
     "name": "stdout",
     "output_type": "stream",
     "text": [
      "<!DOCTYPE html>\n",
      "<html lang=\"big5\">\n",
      " <head>\n",
      "  <meta charset=\"utf-8\"/>\n",
      "  <title>\n",
      "   測試資料擷取的HTML網頁\n",
      "  </title>\n",
      " </head>\n",
      " <body>\n",
      "  <div class=\"surveys\" id=\"surveys\">\n",
      "   <div class=\"survey\" id=\"q1\">\n",
      "    <p class=\"question\">\n",
      "     <a href=\"http://example.com/q1\">\n",
      "      請問你的性別?\n",
      "     </a>\n",
      "    </p>\n",
      "    <ul class=\"answer\">\n",
      "     <li class=\"response\">\n",
      "      男-\n",
      "      <span>\n",
      "       10\n",
      "      </span>\n",
      "     </li>\n",
      "     <li class=\"response selected\">\n",
      "      女-\n",
      "      <span>\n",
      "       20\n",
      "      </span>\n",
      "     </li>\n",
      "    </ul>\n",
      "   </div>\n",
      "   <div class=\"survey\" id=\"q2\">\n",
      "    <p class=\"question\">\n",
      "     <a href=\"http://example.com/q2\">\n",
      "      請問你是否喜歡偵探小說?\n",
      "     </a>\n",
      "    </p>\n",
      "    <ul class=\"answer\">\n",
      "     <li class=\"response\">\n",
      "      喜歡-\n",
      "      <span>\n",
      "       40\n",
      "      </span>\n",
      "     </li>\n",
      "     <li class=\"response selected\">\n",
      "      普通-\n",
      "      <span>\n",
      "       20\n",
      "      </span>\n",
      "     </li>\n",
      "     <li class=\"response\">\n",
      "      不喜歡-\n",
      "      <span>\n",
      "       0\n",
      "      </span>\n",
      "     </li>\n",
      "    </ul>\n",
      "   </div>\n",
      "   <div class=\"survey\" id=\"q3\">\n",
      "    <p class=\"question\">\n",
      "     <a href=\"http://example.com/q3\">\n",
      "      請問你是否會程式設計?\n",
      "     </a>\n",
      "    </p>\n",
      "    <ul class=\"answer\">\n",
      "     <li class=\"response selected\">\n",
      "      會-\n",
      "      <span>\n",
      "       30\n",
      "      </span>\n",
      "     </li>\n",
      "     <li class=\"response\">\n",
      "      不會-\n",
      "      <span>\n",
      "       6\n",
      "      </span>\n",
      "     </li>\n",
      "    </ul>\n",
      "   </div>\n",
      "  </div>\n",
      "  <div class=\"emails\" id=\"emails\">\n",
      "   <div class=\"question\">\n",
      "    電子郵件清單資訊:\n",
      "   </div>\n",
      "   abc@example.com\n",
      "   <div class=\"survey\" data-custom=\"important\">\n",
      "    def@example.com\n",
      "   </div>\n",
      "   <span class=\"survey\" id=\"email\">\n",
      "    ghi@example.com\n",
      "   </span>\n",
      "  </div>\n",
      " </body>\n",
      "</html>\n"
     ]
    }
   ],
   "source": [
    "#Ch5_1\n",
    "from bs4 import BeautifulSoup \n",
    "\n",
    "with open(\"Example.html\", \"r\", encoding=\"utf8\") as fp:\n",
    "    soup = BeautifulSoup(fp, \"lxml\")\n",
    "print(soup.prettify())"
   ]
  },
  {
   "cell_type": "code",
   "execution_count": 36,
   "metadata": {
    "scrolled": false
   },
   "outputs": [
    {
     "name": "stdout",
     "output_type": "stream",
     "text": [
      "\n",
      "\n",
      "<class 'bs4.element.NavigableString'>\n",
      "<li class=\"response\">喜歡-<span>40</span></li>\n",
      "<class 'bs4.element.Tag'>\n",
      "\n",
      "\n",
      "<class 'bs4.element.NavigableString'>\n",
      "<li class=\"response selected\">普通-<span>20</span></li>\n",
      "<class 'bs4.element.Tag'>\n",
      "\n",
      "\n",
      "<class 'bs4.element.NavigableString'>\n",
      "<li class=\"response\">不喜歡-<span>0</span></li>\n",
      "<class 'bs4.element.Tag'>\n",
      "\n",
      "\n",
      "<class 'bs4.element.NavigableString'>\n"
     ]
    }
   ],
   "source": [
    "# 使用childen屬性取得子標籤\n",
    "tag_div = soup.select(\"#q2\") # 找到第2題(找id，前面加\"#\")\n",
    "tag_ul = tag_div[0].ul       # 走訪到之下的<ul>   #注意select和find_all返回的是列表，所以要加[0]\n",
    "for child in tag_ul.children:  #迴圈走訪所有子標籤\n",
    "    print(child)\n",
    "    print(type(child))"
   ]
  },
  {
   "cell_type": "code",
   "execution_count": 12,
   "metadata": {},
   "outputs": [
    {
     "name": "stdout",
     "output_type": "stream",
     "text": [
      "li\n",
      "li\n",
      "li\n"
     ]
    }
   ],
   "source": [
    "#Ch5_1a\n",
    "from bs4 import BeautifulSoup\n",
    "from bs4.element import NavigableString  #匯入NavigableString物件\n",
    "\n",
    "with open(\"Example.html\", \"r\", encoding=\"utf8\") as fp:\n",
    "    soup = BeautifulSoup(fp, \"lxml\")\n",
    "# 使用childen屬性取得子標籤\n",
    "tag_div = soup.select(\"#q2\") # 找到第2題\n",
    "tag_ul = tag_div[0].ul       # 走訪到之下的<ul>\n",
    "for child in tag_ul.children:\n",
    "    if not isinstance(child, NavigableString): #假如不是NavigableString物件\n",
    "        print(child.name) #顯示標籤名稱<li>"
   ]
  },
  {
   "cell_type": "code",
   "execution_count": null,
   "metadata": {},
   "outputs": [],
   "source": []
  },
  {
   "cell_type": "markdown",
   "metadata": {},
   "source": [
    "# 向下走訪"
   ]
  },
  {
   "cell_type": "markdown",
   "metadata": {},
   "source": [
    "### 使用子標籤名稱向下走訪"
   ]
  },
  {
   "cell_type": "code",
   "execution_count": 35,
   "metadata": {},
   "outputs": [
    {
     "name": "stdout",
     "output_type": "stream",
     "text": [
      "測試資料擷取的HTML網頁\n",
      "utf-8\n",
      "請問你的性別?\n"
     ]
    }
   ],
   "source": [
    "from bs4 import BeautifulSoup\n",
    "from bs4.element import NavigableString  #匯入NavigableString物件\n",
    "\n",
    "with open(\"Example.html\", \"r\", encoding=\"utf8\") as fp:\n",
    "    soup = BeautifulSoup(fp, \"lxml\")\n",
    "    print(soup.html.head.title.string) #取出<title>標籤內容\n",
    "    print(soup.html.head.meta[\"charset\"]) #取出<meta>標籤的屬性值\n",
    "    print(soup.html.body.div.div.p.a.string) #取得第一個<div>下的第一個<div>標籤，注意！使用向下走訪，無法走訪第二個<div>標籤"
   ]
  },
  {
   "cell_type": "code",
   "execution_count": 4,
   "metadata": {
    "scrolled": true
   },
   "outputs": [
    {
     "name": "stdout",
     "output_type": "stream",
     "text": [
      "測試資料擷取的HTML網頁\n",
      "utf-8\n",
      "請問你的性別?\n"
     ]
    }
   ],
   "source": [
    "#Ch5_2_1\n",
    "from bs4 import BeautifulSoup \n",
    "\n",
    "with open(\"Example.html\", \"r\", encoding=\"utf8\") as fp:\n",
    "    soup = BeautifulSoup(fp, \"lxml\")\n",
    "# 使用屬性向下走訪\n",
    "print(soup.html.head.title.string)\n",
    "print(soup.html.head.meta[\"charset\"])\n",
    "# 使用div屬性取得第1個<div>標籤\n",
    "print(soup.html.body.div.div.p.a.string)\n"
   ]
  },
  {
   "cell_type": "markdown",
   "metadata": {},
   "source": [
    "### contents屬性：取得所有子標籤\n",
    "傳回的是子標籤清單"
   ]
  },
  {
   "cell_type": "code",
   "execution_count": 5,
   "metadata": {
    "scrolled": true
   },
   "outputs": [
    {
     "name": "stdout",
     "output_type": "stream",
     "text": [
      "40\n",
      "20\n",
      "0\n"
     ]
    }
   ],
   "source": [
    "#Ch5_2_1a\n",
    "from bs4 import BeautifulSoup\n",
    "from bs4.element import NavigableString \n",
    "\n",
    "with open(\"Example.html\", \"r\", encoding=\"utf8\") as fp:\n",
    "    soup = BeautifulSoup(fp, \"lxml\")\n",
    "# 使用屬性取得所有子標籤\n",
    "tag_div = soup.select(\"#q2\") # 找到第2題\n",
    "tag_ul = tag_div[0].ul       # 走訪到之下的<ul>\n",
    "for child in tag_ul.contents:\n",
    "    if not isinstance(child, NavigableString):\n",
    "        print(child.span.string)"
   ]
  },
  {
   "cell_type": "markdown",
   "metadata": {},
   "source": [
    "### children屬性：取得所有子標籤\n",
    "BeautifulSoup的children和contents基本上是相同的，只是傳回的不是清單，而是清單產生器，類似for迴圈的range()函數，<br>\n",
    "因為li標籤的內容是混合內容，擁有文字內容和span子標籤，我們準備取出li標籤的文字內容"
   ]
  },
  {
   "cell_type": "code",
   "execution_count": 1,
   "metadata": {
    "scrolled": true
   },
   "outputs": [
    {
     "name": "stdout",
     "output_type": "stream",
     "text": [
      "li\n",
      "喜歡-\n",
      "span 40\n",
      "li\n",
      "普通-\n",
      "span 20\n",
      "li\n",
      "不喜歡-\n",
      "span 0\n"
     ]
    }
   ],
   "source": [
    "#Ch5_2_1b\n",
    "from bs4 import BeautifulSoup\n",
    "from bs4.element import NavigableString \n",
    "\n",
    "with open(\"Example.html\", \"r\", encoding=\"utf8\") as fp:\n",
    "    soup = BeautifulSoup(fp, \"lxml\")\n",
    "# 使用屬性取得所有子標籤\n",
    "tag_div = soup.select(\"#q2\") # 找到第2題\n",
    "tag_ul = tag_div[0].ul       # 走訪到之下的<ul>            \n",
    "for child in tag_ul.children:\n",
    "    if not isinstance(child, NavigableString):  #第一層走訪children屬性取得子標籤的清單產生器\n",
    "        print(child.name)\n",
    "        for tag in child:\n",
    "            if not isinstance(tag, NavigableString): #第二層判斷是否為NavigableString，若不是，即<li>標籤\n",
    "                print(tag.name, tag.string) #若是，就顯示標簽名稱和內容\n",
    "            else:\n",
    "                print(tag.replace('\\n', ''))  #是NavigableString就取代新行文字(\\n)"
   ]
  },
  {
   "cell_type": "markdown",
   "metadata": {},
   "source": [
    "### descendants屬性：取得所有子\"孫\"標籤"
   ]
  },
  {
   "cell_type": "code",
   "execution_count": 7,
   "metadata": {},
   "outputs": [
    {
     "name": "stdout",
     "output_type": "stream",
     "text": [
      "li\n",
      "span\n",
      "li\n",
      "span\n",
      "li\n",
      "span\n"
     ]
    }
   ],
   "source": [
    "#Ch5_2_1c\n",
    "from bs4 import BeautifulSoup \n",
    "from bs4.element import NavigableString\n",
    "\n",
    "with open(\"Example.html\", \"r\", encoding=\"utf8\") as fp:\n",
    "    soup = BeautifulSoup(fp, \"lxml\")\n",
    "# 使用屬性取得所有子孫標籤\n",
    "tag_div = soup.select(\"#q2\") # 找到第2題\n",
    "tag_ul = tag_div[0].ul       # 走訪到之下的<ul>            \n",
    "for child in tag_ul.descendants:\n",
    "    if not isinstance(child, NavigableString):\n",
    "        print(child.name)"
   ]
  },
  {
   "cell_type": "code",
   "execution_count": 8,
   "metadata": {},
   "outputs": [
    {
     "name": "stdout",
     "output_type": "stream",
     "text": [
      "\n",
      "喜歡-\n",
      "40\n",
      "\n",
      "普通-\n",
      "20\n",
      "\n",
      "不喜歡-\n",
      "0\n",
      "\n"
     ]
    }
   ],
   "source": [
    "#Ch5_2_1d\n",
    "from bs4 import BeautifulSoup \n",
    "\n",
    "with open(\"Example.html\", \"r\", encoding=\"utf8\") as fp:\n",
    "    soup = BeautifulSoup(fp, \"lxml\")\n",
    "# 使用屬性取得所有子孫的文字內容\n",
    "tag_div = soup.select(\"#q2\") # 找到第2題\n",
    "tag_ul = tag_div[0].ul       # 走訪到之下的<ul>\n",
    "for string in tag_ul.strings:\n",
    "    print(string.replace('\\n', ''))\n",
    "\n",
    "#執行結果有三列是空白列，因為有3個NavigableString物件是<li>標籤前的空白和新行字元"
   ]
  },
  {
   "cell_type": "markdown",
   "metadata": {},
   "source": [
    "# 向上走訪"
   ]
  },
  {
   "cell_type": "markdown",
   "metadata": {},
   "source": [
    "### parent屬性和find_parent()函數：走訪父標籤"
   ]
  },
  {
   "cell_type": "code",
   "execution_count": 9,
   "metadata": {
    "scrolled": true
   },
   "outputs": [
    {
     "name": "stdout",
     "output_type": "stream",
     "text": [
      "div\n",
      "div\n"
     ]
    }
   ],
   "source": [
    "#Ch5_2_2\n",
    "from bs4 import BeautifulSoup \n",
    "\n",
    "with open(\"Example.html\", \"r\", encoding=\"utf8\") as fp:\n",
    "    soup = BeautifulSoup(fp, \"lxml\")\n",
    "tag_div = soup.select(\"#q2\") # 找到第2題\n",
    "tag_ul = tag_div[0].ul       # 走訪到之下的<ul>\n",
    "# 使用屬性取得父標籤\n",
    "print(tag_ul.parent.name)\n",
    "# 使用函數取得父標籤\n",
    "print(tag_ul.find_parent().name)"
   ]
  },
  {
   "cell_type": "markdown",
   "metadata": {},
   "source": [
    "### parents屬性和find_parents()函數：走訪所有在上層的祖先標籤"
   ]
  },
  {
   "cell_type": "code",
   "execution_count": 10,
   "metadata": {},
   "outputs": [
    {
     "name": "stdout",
     "output_type": "stream",
     "text": [
      "div\n",
      "div\n",
      "body\n",
      "html\n",
      "[document]\n",
      "div\n",
      "div\n",
      "body\n",
      "html\n",
      "[document]\n"
     ]
    }
   ],
   "source": [
    "#Ch5_2_2a\n",
    "from bs4 import BeautifulSoup\n",
    "\n",
    "with open(\"Example.html\", \"r\", encoding=\"utf8\") as fp:\n",
    "    soup = BeautifulSoup(fp, \"lxml\")\n",
    "tag_div = soup.select(\"#q2\") # 找到第2題\n",
    "tag_ul = tag_div[0].ul       # 走訪到之下的<ul>\n",
    "# 使用屬性取得所有祖先標籤\n",
    "for tag in tag_ul.parents:\n",
    "    print(tag.name)\n",
    "# 使用函數取得所有祖先標籤\n",
    "for tag in tag_ul.find_parents():\n",
    "    print(tag.name)"
   ]
  },
  {
   "cell_type": "markdown",
   "metadata": {},
   "source": [
    "# 向左右走訪"
   ]
  },
  {
   "cell_type": "markdown",
   "metadata": {},
   "source": [
    "### next_sibling屬性和find_next_sibling()函數：走訪下一個兄弟標籤，或是加s走訪所有兄弟標籤\n",
    "* next_sibling屬性：不會自動跳過NavigableString物件\n",
    "* find_next_sibling()函數：會自動跳過NavigableString物件"
   ]
  },
  {
   "cell_type": "code",
   "execution_count": 1,
   "metadata": {},
   "outputs": [
    {
     "name": "stdout",
     "output_type": "stream",
     "text": [
      "<li class=\"response\">喜歡-<span>40</span></li>\n",
      "<li class=\"response selected\">普通-<span>20</span></li>\n",
      "<li class=\"response\">不喜歡-<span>0</span></li>\n",
      "---------------------------------------\n",
      "li 20\n",
      "li 0\n"
     ]
    }
   ],
   "source": [
    "#Ch5_2_3\n",
    "from bs4 import BeautifulSoup \n",
    "\n",
    "with open(\"Example.html\", \"r\", encoding=\"utf8\") as fp:\n",
    "    soup = BeautifulSoup(fp, \"lxml\")\n",
    "tag_div = soup.select(\"#q2\") # 找到第2題\n",
    "first_li = tag_div[0].ul.li  # 第1個<li>\n",
    "print(first_li)\n",
    "# 使用next_sibling屬性取得下一個兄弟標籤\n",
    "second_li = first_li.next_sibling.next_sibling  #往下兩次，因為之間有多的NavigableString\n",
    "print(second_li)\n",
    "# 呼叫next_sibling()函數取得下一個兄弟標籤\n",
    "third_li = second_li.find_next_sibling()\n",
    "print(third_li)\n",
    "print(\"---------------------------------------\")\n",
    "# 呼叫next_siblings()函數取得\"所有\"兄弟標籤\n",
    "for tag in first_li.find_next_siblings():\n",
    "    print(tag.name, tag.span.string)"
   ]
  },
  {
   "cell_type": "markdown",
   "metadata": {},
   "source": [
    "### previous_sibling屬性和find_previous_sibling()函數：走訪前一個兄弟標籤，或是加s走訪所有兄弟標籤\n",
    "* previous_sibling屬性：不會自動跳過NavigableString物件\n",
    "* find_previous_sibling()函數：會自動跳過NavigableString物件"
   ]
  },
  {
   "cell_type": "code",
   "execution_count": 12,
   "metadata": {},
   "outputs": [
    {
     "name": "stdout",
     "output_type": "stream",
     "text": [
      "<li class=\"response\">不喜歡-<span>0</span></li>\n",
      "<li class=\"response selected\">普通-<span>20</span></li>\n",
      "<li class=\"response\">喜歡-<span>40</span></li>\n",
      "---------------------------------------\n",
      "li 20\n",
      "li 40\n"
     ]
    }
   ],
   "source": [
    "#Ch5_2_3a\n",
    "from bs4 import BeautifulSoup \n",
    "\n",
    "with open(\"Example.html\", \"r\", encoding=\"utf8\") as fp:\n",
    "    soup = BeautifulSoup(fp, \"lxml\")\n",
    "tag_div = soup.select(\"#q2\") # 找到第2題\n",
    "tag_li = tag_div[0].ul.li  # 第1個<li>\n",
    "third_li = tag_li.find_next_sibling().find_next_sibling() \n",
    "print(third_li)\n",
    "# 使用previous_sibling屬性取得前一個兄弟標籤\n",
    "second_li = third_li.previous_sibling.previous_sibling  #往前兩次，因為之間有多的NavigableString\n",
    "print(second_li)\n",
    "# 呼叫previous_sibling()函數取得前一個兄弟標籤\n",
    "first_li = second_li.find_previous_sibling()\n",
    "print(first_li)\n",
    "print(\"---------------------------------------\")\n",
    "# 呼叫previous_siblings()函數取得所有兄弟標籤\n",
    "for tag in third_li.find_previous_siblings():\n",
    "    print(tag.name, tag.span.string)"
   ]
  },
  {
   "cell_type": "code",
   "execution_count": null,
   "metadata": {},
   "outputs": [],
   "source": [
    "next_element屬性：走訪前一個元素\n",
    "next_elements屬性：走訪所有的前一個元素\n",
    "previous_element屬性：走訪下一個元素\n",
    "previous_elements屬性：走訪所有的下一個元素"
   ]
  },
  {
   "cell_type": "code",
   "execution_count": 13,
   "metadata": {},
   "outputs": [
    {
     "name": "stdout",
     "output_type": "stream",
     "text": [
      "<class 'bs4.element.Tag'> html\n",
      "<class 'bs4.element.Tag'> head\n",
      "<class 'bs4.element.Tag'> title\n",
      "<class 'bs4.element.Tag'> meta\n"
     ]
    }
   ],
   "source": [
    "#Ch5_2_4\n",
    "from bs4 import BeautifulSoup \n",
    "\n",
    "with open(\"Example.html\", \"r\", encoding=\"utf8\") as fp:\n",
    "    soup = BeautifulSoup(fp, \"lxml\")\n",
    "tag_html = soup.html # 找到第<html>標籤\n",
    "print(type(tag_html), tag_html.name)\n",
    "tag_next = tag_html.next_element.next_element  #往下兩次，因為之間有多的NavigableString\n",
    "print(type(tag_next), tag_next.name)\n",
    "tag_title = soup.title # 找到第<title>標籤\n",
    "print(type(tag_title), tag_title.name)\n",
    "tag_previous = tag_title.previous_element.previous_element\n",
    "print(type(tag_previous), tag_previous.name)"
   ]
  },
  {
   "cell_type": "code",
   "execution_count": null,
   "metadata": {},
   "outputs": [],
   "source": [
    "#Ch5_2_4a\n",
    "from bs4 import BeautifulSoup \n",
    "from bs4.element import NavigableString\n",
    "\n",
    "with open(\"Example.html\", \"r\", encoding=\"utf8\") as fp:\n",
    "    soup = BeautifulSoup(fp, \"lxml\")    \n",
    "tag_div = soup.find(id = \"emails\")\n",
    "for element in tag_div.next_elements:\n",
    "    if not isinstance(element, NavigableString):\n",
    "        print(element.name)\n",
    "   "
   ]
  },
  {
   "cell_type": "code",
   "execution_count": 14,
   "metadata": {
    "scrolled": true
   },
   "outputs": [
    {
     "name": "stdout",
     "output_type": "stream",
     "text": [
      "div\n",
      "body\n",
      "title\n",
      "meta\n",
      "head\n",
      "html\n"
     ]
    }
   ],
   "source": [
    "#Ch5_2_4b\n",
    "from bs4 import BeautifulSoup  \n",
    "from bs4.element import NavigableString\n",
    "\n",
    "with open(\"Example.html\", \"r\", encoding=\"utf8\") as fp:\n",
    "    soup = BeautifulSoup(fp, \"lxml\")    \n",
    "tag_div = soup.find(id=\"q1\")\n",
    "for element in tag_div.previous_elements:\n",
    "    if not isinstance(element, NavigableString):\n",
    "        print(element.name)\n",
    "   "
   ]
  },
  {
   "cell_type": "code",
   "execution_count": null,
   "metadata": {},
   "outputs": [],
   "source": []
  }
 ],
 "metadata": {
  "kernelspec": {
   "display_name": "Python 3",
   "language": "python",
   "name": "python3"
  },
  "language_info": {
   "codemirror_mode": {
    "name": "ipython",
    "version": 3
   },
   "file_extension": ".py",
   "mimetype": "text/x-python",
   "name": "python",
   "nbconvert_exporter": "python",
   "pygments_lexer": "ipython3",
   "version": "3.7.1"
  }
 },
 "nbformat": 4,
 "nbformat_minor": 2
}
