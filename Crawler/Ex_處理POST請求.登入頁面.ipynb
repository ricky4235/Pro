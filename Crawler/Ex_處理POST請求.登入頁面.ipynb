{
 "cells": [
  {
   "cell_type": "markdown",
   "metadata": {},
   "source": [
    "在前面的章節裡, 基本上都是透過HTTP GET就可以達到我們想要的功能了, 但如果今天有些資料是要透過HTTP POST才能取得的話該怎麼辦呢? 通常這種類型的請求都是要傳送form data至server端的, 接下來的範例就會示範如何使用post來取得資料."
   ]
  },
  {
   "cell_type": "markdown",
   "metadata": {},
   "source": [
    "### 空氣品質監測網\n",
    "這個網站可以讓我們根據選擇的地區看到空氣品質數據, 不過基於安全上的考量, 其對POST請求有一些特殊的限制, 就是除了跟查詢有關的表單資料外, 還要另外送出其他值: __VIEWSTATE, __EVENTVALIDATION以及__VIEWSTATEGENERATOR. 這些額外的值都可以透過GET請求空氣品質監測網得到的response中獲得."
   ]
  },
  {
   "cell_type": "code",
   "execution_count": 2,
   "metadata": {},
   "outputs": [],
   "source": [
    "import requests\n",
    "from bs4 import BeautifulSoup\n",
    "\n",
    "\n",
    "EPA_TAQM_URL = 'http://taqm.epa.gov.tw/taqm/tw/HourlyData.aspx'\n",
    "\n",
    "\n",
    "def generate_query_form_data(start_date, end_date):\n",
    "    resp = requests.get(EPA_TAQM_URL)\n",
    "    dom = BeautifulSoup(resp.text, 'html5lib')\n",
    "    view_state = dom.find(id='__VIEWSTATE')['value']\n",
    "    event_validation = dom.find(id='__EVENTVALIDATION')['value']\n",
    "    viewstate_generator = dom.find(id='__VIEWSTATEGENERATOR')['value']\n",
    "    # In all the ctlxx$[var_name], the xx will change dynamically,\n",
    "    # need to check the value before craw the web.\n",
    "    # TODO: Refactor it to collect the xx value dynamically.\n",
    "    form_data = {\n",
    "        '__VIEWSTATE': view_state,\n",
    "        '__EVENTVALIDATION': event_validation,\n",
    "        '__VIEWSTATEGENERATOR': viewstate_generator,\n",
    "        'ctl09$lbSite': '56',\n",
    "        'ctl09$lbParam': '4',\n",
    "        'ctl09$txtDateS': start_date,\n",
    "        'ctl09$txtDateE': end_date,\n",
    "        'ctl09$btnQuery': '查詢即時值'\n",
    "    }\n",
    "    return form_data\n",
    "\n",
    "\n",
    "def get_web_content(start_date, end_date):\n",
    "    form_data = generate_query_form_data(start_date, end_date)\n",
    "    if form_data:\n",
    "        resp = requests.post(EPA_TAQM_URL, data=form_data)\n",
    "        dom = BeautifulSoup(resp.text, 'html5lib')\n",
    "        return dom\n",
    "    else:\n",
    "        return None\n",
    "\n",
    "\n",
    "def main():\n",
    "    start_date = '2017/05/20'\n",
    "    end_date = '2017/05/22'\n",
    "    dom = get_web_content(start_date, end_date)\n",
    "    if dom:\n",
    "        for table in dom.find_all('table', 'TABLE_G'):\n",
    "            print([s for s in table.stripped_strings])\n",
    "\n",
    "\n",
    "if __name__ == '__main__':\n",
    "    main()"
   ]
  },
  {
   "cell_type": "code",
   "execution_count": null,
   "metadata": {},
   "outputs": [],
   "source": []
  }
 ],
 "metadata": {
  "kernelspec": {
   "display_name": "Python 3",
   "language": "python",
   "name": "python3"
  },
  "language_info": {
   "codemirror_mode": {
    "name": "ipython",
    "version": 3
   },
   "file_extension": ".py",
   "mimetype": "text/x-python",
   "name": "python",
   "nbconvert_exporter": "python",
   "pygments_lexer": "ipython3",
   "version": "3.7.1"
  }
 },
 "nbformat": 4,
 "nbformat_minor": 2
}
