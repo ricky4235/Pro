{
 "cells": [
  {
   "cell_type": "code",
   "execution_count": 1,
   "metadata": {},
   "outputs": [],
   "source": [
    "html_doc = \"\"\"\n",
    "<html>\n",
    "  <head>\n",
    "    <title>我是網頁標題</title>\n",
    "    <style>\n",
    "    .large {\n",
    "      color:blue;\n",
    "      text-align: center;\n",
    "    }\n",
    "    </style>\n",
    "  </head>\n",
    "  <body>\n",
    "    <h1 class=\"large\">我是變色且置中的抬頭</h1>\n",
    "    <p id=\"p1\">我是段落一</p>\n",
    "    <p id=\"p2\" style=\"\">我是段落二</p>\n",
    "    <div><a href='http://blog.castman.net' style=\"font-size:200%;\">我是放大的超連結</a></div>\n",
    "  </body>\n",
    "</html>\n",
    "\"\"\""
   ]
  },
  {
   "cell_type": "markdown",
   "metadata": {},
   "source": [
    "先創建一個 BeautifulSoup 物件，將網頁讀入"
   ]
  },
  {
   "cell_type": "code",
   "execution_count": 4,
   "metadata": {},
   "outputs": [
    {
     "name": "stdout",
     "output_type": "stream",
     "text": [
      "\n",
      "<html>\n",
      "<head>\n",
      "<title>我是網頁標題</title>\n",
      "<style>\n",
      "    .large {\n",
      "      color:blue;\n",
      "      text-align: center;\n",
      "    }\n",
      "    </style>\n",
      "</head>\n",
      "<body>\n",
      "<h1 class=\"large\">我是變色且置中的抬頭</h1>\n",
      "<p id=\"p1\">我是段落一</p>\n",
      "<p id=\"p2\" style=\"\">我是段落二</p>\n",
      "<div><a href=\"http://blog.castman.net\" style=\"font-size:200%;\">我是放大的超連結</a></div>\n",
      "</body>\n",
      "</html>\n",
      "\n"
     ]
    }
   ],
   "source": [
    "from bs4 import BeautifulSoup\n",
    "soup = BeautifulSoup(html_doc, 'html.parser')\n",
    "print(soup)"
   ]
  },
  {
   "cell_type": "markdown",
   "metadata": {},
   "source": [
    "# find(name, attribute, recursive, text) 只能找單一元素，且為第一個出現的\n",
    "name:標籤名。<br>\n",
    "attribute:屬性。<br>\n",
    "recursive(遞迴):True-會搜尋包含所有子孫標籤；False-搜尋只限下一層子標籤，不包含再下一層的孫標籤。<br>\n",
    "text:指定搜尋的標籤字串內容。"
   ]
  },
  {
   "cell_type": "markdown",
   "metadata": {},
   "source": [
    "第一個引數通常是'tag'名稱，也可以省略直接跳到'attrs'。"
   ]
  },
  {
   "cell_type": "markdown",
   "metadata": {},
   "source": [
    "第二個引數可以直接使用'attrs'去定位區塊，若未指明attrs就代表class名稱"
   ]
  },
  {
   "cell_type": "code",
   "execution_count": 21,
   "metadata": {
    "scrolled": true
   },
   "outputs": [
    {
     "name": "stdout",
     "output_type": "stream",
     "text": [
      "<p id=\"p1\">我是段落一</p>\n",
      "<p id=\"p2\" style=\"\">我是段落二</p>\n",
      "<p id=\"p2\" style=\"\">我是段落二</p>\n",
      "<h1 class=\"large\">我是變色且置中的抬頭</h1>\n",
      "<h1 class=\"large\">我是變色且置中的抬頭</h1>\n",
      "['large']\n"
     ]
    }
   ],
   "source": [
    "print(soup.find('p'))            # 回傳第一個被 <p> </p> 所包圍的區塊\n",
    "\n",
    "print(soup.find('p', id='p2'))   # 回傳第一個被 <p> </p> 所包圍的區塊且 id=\"p2\"\n",
    "\n",
    "print(soup.find(id='p2'))        # 回傳第一個 id=\"p2\" 的區塊\n",
    "\n",
    "print(soup.find('h1', class_='large'))  # 找尋第一個 <h1> 區塊且 class=\"large\"(且class_要加底線)\n",
    "\n",
    "print(soup.find('h1', 'large'))  # 找尋第一個 <h1> 區塊且 class=\"large\" (第二個引數若未指明屬性就代表 class 名稱)\n",
    "\n",
    "print(soup.find('h1')['class']) "
   ]
  },
  {
   "cell_type": "code",
   "execution_count": 5,
   "metadata": {
    "scrolled": true
   },
   "outputs": [
    {
     "name": "stdout",
     "output_type": "stream",
     "text": [
      "http://blog.castman.net font-size:200%; 我是放大的超連結\n",
      "http://blog.castman.net\n",
      "http://blog.castman.net\n",
      "http://blog.castman.net\n"
     ]
    }
   ],
   "source": [
    "a = soup.find('a')\n",
    "print(a['href'], a['style'], a.text)\n",
    "print(soup.find('a')['href'])\n",
    "\n",
    "b = soup.find('a')['href']\n",
    "print(b)\n",
    "\n",
    "print(soup.find('a')['href'])"
   ]
  },
  {
   "cell_type": "code",
   "execution_count": 35,
   "metadata": {},
   "outputs": [
    {
     "name": "stdout",
     "output_type": "stream",
     "text": [
      "['large']\n"
     ]
    }
   ],
   "source": [
    "print(soup.find('h1')['class'])  # 因為 class 可以有多個值，故回傳 list"
   ]
  },
  {
   "cell_type": "code",
   "execution_count": 6,
   "metadata": {
    "scrolled": true
   },
   "outputs": [
    {
     "ename": "KeyError",
     "evalue": "'style'",
     "output_type": "error",
     "traceback": [
      "\u001b[1;31m---------------------------------------------------------------------------\u001b[0m",
      "\u001b[1;31mKeyError\u001b[0m                                  Traceback (most recent call last)",
      "\u001b[1;32m<ipython-input-6-91a0dabe7b24>\u001b[0m in \u001b[0;36m<module>\u001b[1;34m\u001b[0m\n\u001b[1;32m----> 1\u001b[1;33m \u001b[0mprint\u001b[0m\u001b[1;33m(\u001b[0m\u001b[0msoup\u001b[0m\u001b[1;33m.\u001b[0m\u001b[0mfind\u001b[0m\u001b[1;33m(\u001b[0m\u001b[0mid\u001b[0m\u001b[1;33m=\u001b[0m\u001b[1;34m'p1'\u001b[0m\u001b[1;33m)\u001b[0m\u001b[1;33m[\u001b[0m\u001b[1;34m'style'\u001b[0m\u001b[1;33m]\u001b[0m\u001b[1;33m)\u001b[0m      \u001b[1;31m# 會出現錯誤訊息, 因為 <p id=\"p1\"> 沒有 style 屬性\u001b[0m\u001b[1;33m\u001b[0m\u001b[1;33m\u001b[0m\u001b[0m\n\u001b[0m",
      "\u001b[1;32m~\\Anaconda3\\lib\\site-packages\\bs4\\element.py\u001b[0m in \u001b[0;36m__getitem__\u001b[1;34m(self, key)\u001b[0m\n\u001b[0;32m   1069\u001b[0m         \"\"\"tag[key] returns the value of the 'key' attribute for the tag,\n\u001b[0;32m   1070\u001b[0m         and throws an exception if it's not there.\"\"\"\n\u001b[1;32m-> 1071\u001b[1;33m         \u001b[1;32mreturn\u001b[0m \u001b[0mself\u001b[0m\u001b[1;33m.\u001b[0m\u001b[0mattrs\u001b[0m\u001b[1;33m[\u001b[0m\u001b[0mkey\u001b[0m\u001b[1;33m]\u001b[0m\u001b[1;33m\u001b[0m\u001b[1;33m\u001b[0m\u001b[0m\n\u001b[0m\u001b[0;32m   1072\u001b[0m \u001b[1;33m\u001b[0m\u001b[0m\n\u001b[0;32m   1073\u001b[0m     \u001b[1;32mdef\u001b[0m \u001b[0m__iter__\u001b[0m\u001b[1;33m(\u001b[0m\u001b[0mself\u001b[0m\u001b[1;33m)\u001b[0m\u001b[1;33m:\u001b[0m\u001b[1;33m\u001b[0m\u001b[1;33m\u001b[0m\u001b[0m\n",
      "\u001b[1;31mKeyError\u001b[0m: 'style'"
     ]
    }
   ],
   "source": [
    "print(soup.find(id='p1')['style'])      # 會出現錯誤訊息, 因為 <p id=\"p1\"> 沒有 style 屬性"
   ]
  },
  {
   "cell_type": "markdown",
   "metadata": {},
   "source": [
    "如果你要取得的屬性不存在，直接使用屬性名稱會出現錯誤訊息，因此若你不確定屬性是否存在，可以改用 get() 方法"
   ]
  },
  {
   "cell_type": "code",
   "execution_count": 27,
   "metadata": {},
   "outputs": [
    {
     "name": "stdout",
     "output_type": "stream",
     "text": [
      "None\n"
     ]
    }
   ],
   "source": [
    "print(soup.find(id='p1').get('style'))  # 不確定屬性是否存在，可以改用 get() 方法"
   ]
  },
  {
   "cell_type": "code",
   "execution_count": 24,
   "metadata": {},
   "outputs": [
    {
     "name": "stdout",
     "output_type": "stream",
     "text": [
      "我是放大的超連結\n",
      "我是放大的超連結\n",
      "我是放大的超連結\n"
     ]
    }
   ],
   "source": [
    "tag_a = soup.find(\"a\") \n",
    "print(tag_a.string)\n",
    "# 呼叫多次find()方法\n",
    "tag_div = soup.find(name=\"div\")\n",
    "tag_a = tag_div.find(name=\"a\")\n",
    "print(tag_div.a.string)\n",
    "print(tag_a.string)"
   ]
  },
  {
   "cell_type": "code",
   "execution_count": 25,
   "metadata": {},
   "outputs": [
    {
     "name": "stdout",
     "output_type": "stream",
     "text": [
      "我是放大的超連結\n"
     ]
    }
   ],
   "source": [
    "# 使用id屬性搜尋<div>標籤\n",
    "tag_p = soup.find(id=\"p2\")\n",
    "tag_a = tag_div.find(\"a\") \n",
    "print(tag_a.string)"
   ]
  },
  {
   "cell_type": "markdown",
   "metadata": {},
   "source": [
    "# find_all(name, attribute, recursive, text, limit) <br>找所有元素，回傳符合內容成1個List\n",
    "limit:指定搜尋到符合HTML標籤的最大值，find()函數就是limit為1的find_all()"
   ]
  },
  {
   "cell_type": "code",
   "execution_count": 28,
   "metadata": {
    "scrolled": true
   },
   "outputs": [
    {
     "name": "stdout",
     "output_type": "stream",
     "text": [
      "[<p id=\"p1\">我是段落一</p>, <p id=\"p2\" style=\"\">我是段落二</p>]\n",
      "[<p id=\"p1\">我是段落一</p>]\n",
      "[]\n",
      "[<p id=\"p1\">我是段落一</p>, <p id=\"p2\" style=\"\">我是段落二</p>]\n"
     ]
    }
   ],
   "source": [
    "print(soup.find_all('p'))        # 回傳所有被 <p> </p> 所包圍的區塊\n",
    "print(soup.find_all('p',limit=1)) #只回傳前1個標籤\n",
    "print(soup.find_all('p',text='我是段落二')) #用string來找\n",
    "print(soup.find_all('p',text=['我是段落一','我是段落二'])) #用string來找"
   ]
  },
  {
   "cell_type": "code",
   "execution_count": 31,
   "metadata": {},
   "outputs": [
    {
     "name": "stdout",
     "output_type": "stream",
     "text": [
      "[<p id=\"p1\">我是段落一</p>, <p id=\"p2\" style=\"\">我是段落二</p>, <a href=\"http://blog.castman.net\" style=\"font-size:200%;\">我是放大的超連結</a>]\n"
     ]
    }
   ],
   "source": [
    "tags = soup.find_all([\"a\", \"p\"])\n",
    "print(tags)"
   ]
  },
  {
   "cell_type": "code",
   "execution_count": 16,
   "metadata": {
    "scrolled": false
   },
   "outputs": [
    {
     "name": "stdout",
     "output_type": "stream",
     "text": [
      "p1 我是段落一 p1 p1 p1 p1\n",
      "p2 我是段落二 p2 p2 p2 p2\n",
      "http://blog.castman.net font-size:200%; 我是放大的超連結\n",
      "['large']\n"
     ]
    }
   ],
   "source": [
    "paragraphs = soup.find_all('p')\n",
    "for p in paragraphs:\n",
    "    print(p['id'], p.text,p['id'],p['id'],p['id'],p['id'])  #id的屬性+<p>標籤的string+id的屬性(重複*4)"
   ]
  },
  {
   "cell_type": "markdown",
   "metadata": {},
   "source": [
    "如果你要取得的屬性不存在，直接使用屬性名稱會出現錯誤訊息，因此若你不確定屬性是否存在，可以改用 get() 方法"
   ]
  },
  {
   "cell_type": "code",
   "execution_count": 1,
   "metadata": {},
   "outputs": [
    {
     "name": "stdout",
     "output_type": "stream",
     "text": [
      "請問你的性別?\n",
      "請問你的性別?\n",
      "請問你的性別?\n"
     ]
    }
   ],
   "source": [
    "#Ch3_4_1\n",
    "from bs4 import BeautifulSoup \n",
    "\n",
    "with open(\"Example.html\", \"r\", encoding=\"utf8\") as fp:\n",
    "    soup = BeautifulSoup(fp, \"lxml\")\n",
    "# 搜尋<a>標籤\n",
    "tag_a = soup.find(\"a\") \n",
    "print(tag_a.string)\n",
    "# 呼叫多次find()方法\n",
    "tag_p = soup.find(name=\"p\")\n",
    "tag_a = tag_p.find(name=\"a\")\n",
    "print(tag_p.a.string)\n",
    "print(tag_a.string)\n",
    "\n",
    "\n"
   ]
  },
  {
   "cell_type": "code",
   "execution_count": 2,
   "metadata": {},
   "outputs": [
    {
     "name": "stdout",
     "output_type": "stream",
     "text": [
      "請問你是否喜歡偵探小說?\n"
     ]
    }
   ],
   "source": [
    "#Ch3_4_1a\n",
    "from bs4 import BeautifulSoup \n",
    "\n",
    "with open(\"Example.html\", \"r\", encoding=\"utf8\") as fp:\n",
    "    soup = BeautifulSoup(fp, \"lxml\")\n",
    "# 使用id屬性搜尋<div>標籤\n",
    "tag_div = soup.find(id=\"q2\")\n",
    "tag_a = tag_div.find(\"a\") \n",
    "print(tag_a.string)\n",
    "\n",
    "\n"
   ]
  },
  {
   "cell_type": "code",
   "execution_count": 3,
   "metadata": {},
   "outputs": [
    {
     "name": "stdout",
     "output_type": "stream",
     "text": [
      "10\n",
      "40\n"
     ]
    }
   ],
   "source": [
    "#Ch3_4_1b\n",
    "from bs4 import BeautifulSoup\n",
    "\n",
    "with open(\"Example.html\", \"r\", encoding=\"utf8\") as fp:\n",
    "    soup = BeautifulSoup(fp, \"lxml\")\n",
    "# 使用class屬性搜尋<li>標籤, 和之下的<span>標籤\n",
    "tag_li = soup.find(attrs={\"class\": \"response\"})\n",
    "tag_span = tag_li.find(\"span\")\n",
    "print(tag_span.string)\n",
    "# 搜尋第2題的第1個<li>標籤下的<span>標籤\n",
    "tag_div = soup.find(id=\"q2\")\n",
    "tag_li = tag_div.find(class_=\"response\")\n",
    "tag_span = tag_li.find(\"span\")\n",
    "print(tag_span.string)\n",
    "\n"
   ]
  },
  {
   "cell_type": "code",
   "execution_count": 4,
   "metadata": {},
   "outputs": [
    {
     "name": "stdout",
     "output_type": "stream",
     "text": [
      "def@example.com\n"
     ]
    }
   ],
   "source": [
    "#Ch3_4_1c\n",
    "from bs4 import BeautifulSoup \n",
    "\n",
    "with open(\"Example.html\", \"r\", encoding=\"utf8\") as fp:\n",
    "    soup = BeautifulSoup(fp, \"lxml\")\n",
    "# 使用HTML5的data-屬性搜尋<div>標籤\n",
    "tag_div = soup.find(attrs={\"data-custom\": \"important\"})\n",
    "print(tag_div.string)\n",
    "\n",
    "\n"
   ]
  },
  {
   "cell_type": "code",
   "execution_count": 5,
   "metadata": {},
   "outputs": [
    {
     "name": "stdout",
     "output_type": "stream",
     "text": [
      "請問你的性別?\n",
      "10\n",
      "<class 'bs4.element.NavigableString'>\n",
      "span\n",
      "男-\n"
     ]
    }
   ],
   "source": [
    "#Ch3_4_1d\n",
    "from bs4 import BeautifulSoup \n",
    "\n",
    "with open(\"Example.html\", \"r\", encoding=\"utf8\") as fp:\n",
    "    soup = BeautifulSoup(fp, \"lxml\")\n",
    "# 使用文字內容來搜尋標籤\n",
    "tag_str = soup.find(text=\"請問你的性別?\")\n",
    "print(tag_str)\n",
    "tag_str = soup.find(text=\"10\")\n",
    "print(tag_str)\n",
    "print(type(tag_str))        # NavigableString型態\n",
    "print(tag_str.parent.name)  # 父標籤名稱\n",
    "tag_str = soup.find(text=\"男-\")\n",
    "print(tag_str)"
   ]
  },
  {
   "cell_type": "code",
   "execution_count": 6,
   "metadata": {},
   "outputs": [
    {
     "name": "stdout",
     "output_type": "stream",
     "text": [
      "<div class=\"question\">電子郵件清單資訊: </div>\n",
      "<p class=\"question\">\n",
      "<a href=\"http://example.com/q1\">請問你的性別?</a></p>\n"
     ]
    }
   ],
   "source": [
    "#Ch3_4_1e\n",
    "from bs4 import BeautifulSoup \n",
    "\n",
    "with open(\"Example.html\", \"r\", encoding=\"utf8\") as fp:\n",
    "    soup = BeautifulSoup(fp, \"lxml\")\n",
    "# 使用多條件來搜尋HTML標籤\n",
    "tag_div = soup.find(\"div\", class_=\"question\")\n",
    "print(tag_div)\n",
    "tag_p = soup.find(\"p\", class_=\"question\")\n",
    "print(tag_p)\n",
    "\n"
   ]
  },
  {
   "cell_type": "code",
   "execution_count": 7,
   "metadata": {},
   "outputs": [
    {
     "name": "stdout",
     "output_type": "stream",
     "text": [
      "<a href=\"http://example.com/q2\">請問你是否喜歡偵探小說?</a>\n"
     ]
    }
   ],
   "source": [
    "#Ch3_4_1f\n",
    "from bs4 import BeautifulSoup \n",
    "\n",
    "with open(\"Example.html\", \"r\", encoding=\"utf8\") as fp:\n",
    "    soup = BeautifulSoup(fp, \"lxml\")\n",
    "# 使用函數建立搜尋條件\n",
    "def is_secondary_question(tag):\n",
    "    return tag.has_attr(\"href\") and \\\n",
    "           tag.get(\"href\") == \"http://example.com/q2\"\n",
    "\n",
    "tag_a = soup.find(is_secondary_question)\n",
    "print(tag_a)\n",
    "\n",
    "\n"
   ]
  },
  {
   "cell_type": "code",
   "execution_count": 8,
   "metadata": {},
   "outputs": [
    {
     "name": "stdout",
     "output_type": "stream",
     "text": [
      "[<p class=\"question\">\n",
      "<a href=\"http://example.com/q1\">請問你的性別?</a></p>, <p class=\"question\">\n",
      "<a href=\"http://example.com/q2\">請問你是否喜歡偵探小說?</a></p>, <p class=\"question\">\n",
      "<a href=\"http://example.com/q3\">請問你是否會程式設計?</a></p>]\n",
      "請問你的性別?\n",
      "請問你是否喜歡偵探小說?\n",
      "請問你是否會程式設計?\n"
     ]
    }
   ],
   "source": [
    "#Ch3_4_2\n",
    "from bs4 import BeautifulSoup \n",
    "\n",
    "with open(\"Example.html\", \"r\", encoding=\"utf8\") as fp:\n",
    "    soup = BeautifulSoup(fp, \"lxml\")\n",
    "# 找出所有問卷的題目清單\n",
    "tag_list = soup.find_all(\"p\", class_=\"question\")\n",
    "print(tag_list)\n",
    "\n",
    "for question in tag_list:\n",
    "    print(question.a.string)\n"
   ]
  },
  {
   "cell_type": "code",
   "execution_count": 9,
   "metadata": {},
   "outputs": [
    {
     "name": "stdout",
     "output_type": "stream",
     "text": [
      "[<p class=\"question\">\n",
      "<a href=\"http://example.com/q1\">請問你的性別?</a></p>, <p class=\"question\">\n",
      "<a href=\"http://example.com/q2\">請問你是否喜歡偵探小說?</a></p>]\n",
      "請問你的性別?\n",
      "請問你是否喜歡偵探小說?\n"
     ]
    }
   ],
   "source": [
    "#Ch3_4_2a\n",
    "from bs4 import BeautifulSoup \n",
    "\n",
    "with open(\"Example.html\", \"r\", encoding=\"utf8\") as fp:\n",
    "    soup = BeautifulSoup(fp, \"lxml\")\n",
    "# 找出前2個問卷的題目清單\n",
    "tag_list = soup.find_all(\"p\", class_=\"question\", limit=2)\n",
    "print(tag_list)\n",
    "\n",
    "for question in tag_list:\n",
    "    print(question.a.string)\n"
   ]
  },
  {
   "cell_type": "code",
   "execution_count": 10,
   "metadata": {},
   "outputs": [
    {
     "name": "stdout",
     "output_type": "stream",
     "text": [
      "[<p class=\"question\">\n",
      "<a href=\"http://example.com/q2\">請問你是否喜歡偵探小說?</a></p>, <a href=\"http://example.com/q2\">請問你是否喜歡偵探小說?</a>, <ul class=\"answer\">\n",
      "<li class=\"response\">喜歡-<span>40</span></li>\n",
      "<li class=\"response selected\">普通-<span>20</span></li>\n",
      "<li class=\"response\">不喜歡-<span>0</span></li>\n",
      "</ul>, <li class=\"response\">喜歡-<span>40</span></li>, <span>40</span>, <li class=\"response selected\">普通-<span>20</span></li>, <span>20</span>, <li class=\"response\">不喜歡-<span>0</span></li>, <span>0</span>]\n"
     ]
    }
   ],
   "source": [
    "#Ch3_4_2b\n",
    "from bs4 import BeautifulSoup \n",
    "\n",
    "with open(\"Example.html\", \"r\", encoding=\"utf8\") as fp:\n",
    "    soup = BeautifulSoup(fp, \"lxml\")\n",
    "\n",
    "tag_div = soup.find(\"div\", id=\"q2\")\n",
    "# 找出所有標籤清單\n",
    "tag_all = tag_div.find_all(True)\n",
    "print(tag_all)\n",
    "\n"
   ]
  },
  {
   "cell_type": "code",
   "execution_count": 11,
   "metadata": {},
   "outputs": [
    {
     "name": "stdout",
     "output_type": "stream",
     "text": [
      "['\\n', '\\n', '請問你是否喜歡偵探小說?', '\\n', '\\n', '喜歡-', '40', '\\n', '普通-', '20', '\\n', '不喜歡-', '0', '\\n', '\\n']\n",
      "['40', '20']\n"
     ]
    }
   ],
   "source": [
    "#Ch3_4_2c\n",
    "from bs4 import BeautifulSoup \n",
    "\n",
    "with open(\"Example.html\", \"r\", encoding=\"utf8\") as fp:\n",
    "    soup = BeautifulSoup(fp, \"lxml\")\n",
    "\n",
    "tag_div = soup.find(\"div\", id=\"q2\")\n",
    "# 找出所有文字內容清單\n",
    "tag_str_list = tag_div.find_all(text=True)\n",
    "print(tag_str_list)\n",
    "# 找出指定的文字內容清單\n",
    "tag_str_list = tag_div.find_all(text=[\"20\", \"40\"])\n",
    "print(tag_str_list)\n",
    "\n"
   ]
  },
  {
   "cell_type": "code",
   "execution_count": 12,
   "metadata": {},
   "outputs": [
    {
     "name": "stdout",
     "output_type": "stream",
     "text": [
      "[<p class=\"question\">\n",
      "<a href=\"http://example.com/q2\">請問你是否喜歡偵探小說?</a></p>, <span>40</span>, <span>20</span>, <span>0</span>]\n",
      "[<p class=\"question\">\n",
      "<a href=\"http://example.com/q2\">請問你是否喜歡偵探小說?</a></p>, <li class=\"response selected\">普通-<span>20</span></li>]\n"
     ]
    }
   ],
   "source": [
    "#Ch3_4_2d\n",
    "from bs4 import BeautifulSoup \n",
    "\n",
    "with open(\"Example.html\", \"r\", encoding=\"utf8\") as fp:\n",
    "    soup = BeautifulSoup(fp, \"lxml\")\n",
    "\n",
    "tag_div = soup.find(\"div\", id=\"q2\")\n",
    "# 找出所有<p>和<span>標籤\n",
    "tag_list = tag_div.find_all([\"p\", \"span\"])\n",
    "print(tag_list)\n",
    "# 找出class屬性值question或selected的所有標籤\n",
    "tag_list = tag_div.find_all(class_=[\"question\", \"selected\"])\n",
    "print(tag_list)\n",
    "\n"
   ]
  },
  {
   "cell_type": "code",
   "execution_count": 13,
   "metadata": {},
   "outputs": [
    {
     "name": "stdout",
     "output_type": "stream",
     "text": [
      "[<li class=\"response\">喜歡-<span>40</span></li>, <li class=\"response selected\">普通-<span>20</span></li>, <li class=\"response\">不喜歡-<span>0</span></li>]\n",
      "[]\n"
     ]
    }
   ],
   "source": [
    "#Ch3_4_2e\n",
    "from bs4 import BeautifulSoup \n",
    "\n",
    "with open(\"Example.html\", \"r\", encoding=\"utf8\") as fp:\n",
    "    soup = BeautifulSoup(fp, \"lxml\")\n",
    "\n",
    "tag_div = soup.find(\"div\", id=\"q2\")\n",
    "# 找出所有<li>子孫標籤\n",
    "tag_list = tag_div.find_all(\"li\")\n",
    "print(tag_list)\n",
    "# 沒有使用遞迴來找出所有<li>標籤\n",
    "tag_list = tag_div.find_all(\"li\", recursive=False)\n",
    "print(tag_list)\n",
    "\n"
   ]
  },
  {
   "cell_type": "code",
   "execution_count": 14,
   "metadata": {},
   "outputs": [
    {
     "name": "stdout",
     "output_type": "stream",
     "text": [
      "男-\n",
      "['男-', '女-', '喜歡-', '普通-', '不喜歡-', '會-', '不會-']\n"
     ]
    }
   ],
   "source": [
    "#Ch3_5_2\n",
    "import re\n",
    "from bs4 import BeautifulSoup \n",
    "\n",
    "with open(\"Example.html\", \"r\", encoding=\"utf8\") as fp:\n",
    "    soup = BeautifulSoup(fp, \"lxml\")\n",
    "# 使用正規運算式搜尋文字內容\n",
    "regexp = re.compile(\"男-\")\n",
    "tag_str = soup.find(text=regexp)\n",
    "print(tag_str)\n",
    "regexp = re.compile(\"\\w+-\")\n",
    "tag_list = soup.find_all(text=regexp)\n",
    "print(tag_list)"
   ]
  },
  {
   "cell_type": "code",
   "execution_count": 15,
   "metadata": {},
   "outputs": [
    {
     "name": "stdout",
     "output_type": "stream",
     "text": [
      "\n",
      "    abc@example.com\n",
      "    \n",
      "---------------------\n",
      "['\\n    abc@example.com\\n    ', 'def@example.com', 'ghi@example.com']\n"
     ]
    }
   ],
   "source": [
    "#Ch3_5_2a\n",
    "import re\n",
    "from bs4 import BeautifulSoup \n",
    "\n",
    "with open(\"Example.html\", \"r\", encoding=\"utf8\") as fp:\n",
    "    soup = BeautifulSoup(fp, \"lxml\")\n",
    "# 使用正規運算式搜尋電子郵件地址\n",
    "email_regexp = re.compile(\"\\w+@\\w+\\.\\w+\")\n",
    "tag_str = soup.find(text=email_regexp)\n",
    "print(tag_str)\n",
    "print(\"---------------------\")\n",
    "tag_list = soup.find_all(text=email_regexp)\n",
    "print(tag_list)"
   ]
  },
  {
   "cell_type": "code",
   "execution_count": 16,
   "metadata": {},
   "outputs": [
    {
     "name": "stdout",
     "output_type": "stream",
     "text": [
      "<a href=\"http://example.com/q1\">請問你的性別?</a>\n",
      "---------------------\n",
      "[<a href=\"http://example.com/q1\">請問你的性別?</a>, <a href=\"http://example.com/q2\">請問你是否喜歡偵探小說?</a>, <a href=\"http://example.com/q3\">請問你是否會程式設計?</a>]\n"
     ]
    }
   ],
   "source": [
    "#Ch3_5_2b\n",
    "import re\n",
    "from bs4 import BeautifulSoup \n",
    "\n",
    "with open(\"Example.html\", \"r\", encoding=\"utf8\") as fp:\n",
    "    soup = BeautifulSoup(fp, \"lxml\")\n",
    "# 使用正規運算式搜尋URL網址\n",
    "url_regexp = re.compile(\"^http:\")\n",
    "tag_href = soup.find(href=url_regexp)\n",
    "print(tag_href)\n",
    "print(\"---------------------\")\n",
    "tag_list = soup.find_all(href=url_regexp)\n",
    "print(tag_list)"
   ]
  },
  {
   "cell_type": "code",
   "execution_count": null,
   "metadata": {},
   "outputs": [],
   "source": []
  }
 ],
 "metadata": {
  "kernelspec": {
   "display_name": "Python 3",
   "language": "python",
   "name": "python3"
  },
  "language_info": {
   "codemirror_mode": {
    "name": "ipython",
    "version": 3
   },
   "file_extension": ".py",
   "mimetype": "text/x-python",
   "name": "python",
   "nbconvert_exporter": "python",
   "pygments_lexer": "ipython3",
   "version": "3.7.1"
  }
 },
 "nbformat": 4,
 "nbformat_minor": 2
}
