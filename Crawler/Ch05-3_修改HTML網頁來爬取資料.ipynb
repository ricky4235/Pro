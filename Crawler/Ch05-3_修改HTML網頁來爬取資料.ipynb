{
 "cells": [
  {
   "cell_type": "markdown",
   "metadata": {},
   "source": [
    "因為HTML網頁的標籤元素可能不完整或沒有資料，為了順利擷取資料，有時需要修改HTML標籤和屬性<br>\n",
    "注意！我們修改的是BeautifulSoup建立的物件樹，並不會勾改原始網頁"
   ]
  },
  {
   "cell_type": "markdown",
   "metadata": {},
   "source": [
    "# 更改標籤名稱和屬性"
   ]
  },
  {
   "cell_type": "code",
   "execution_count": 15,
   "metadata": {},
   "outputs": [
    {
     "name": "stdout",
     "output_type": "stream",
     "text": [
      "<p class=\"question\" id=\"name\">Joe</p>\n",
      "<p id=\"name\">Joe</p>\n"
     ]
    }
   ],
   "source": [
    "#Ch5_3\n",
    "from bs4 import BeautifulSoup \n",
    "\n",
    "soup = BeautifulSoup(\"<b class='score'>Joe</b>\", \"lxml\")    \n",
    "tag = soup.b\n",
    "tag.name = \"p\"\n",
    "tag[\"class\"] = \"question\"\n",
    "tag[\"id\"] = \"name\"\n",
    "print(tag)\n",
    "del tag[\"class\"]\n",
    "print(tag)   "
   ]
  },
  {
   "cell_type": "markdown",
   "metadata": {},
   "source": [
    "# 修改標籤的文字內容"
   ]
  },
  {
   "cell_type": "code",
   "execution_count": 16,
   "metadata": {},
   "outputs": [
    {
     "name": "stdout",
     "output_type": "stream",
     "text": [
      "<b class=\"score\">Mary</b>\n"
     ]
    }
   ],
   "source": [
    "#Ch5_3a\n",
    "from bs4 import BeautifulSoup \n",
    "\n",
    "soup = BeautifulSoup(\"<b class='score'>Joe</b>\", \"lxml\")    \n",
    "tag = soup.b\n",
    "tag.string = \"Mary\"\n",
    "print(tag)\n",
    "  "
   ]
  },
  {
   "cell_type": "markdown",
   "metadata": {},
   "source": [
    "# 新增HTML標籤和文字內容"
   ]
  },
  {
   "cell_type": "code",
   "execution_count": 17,
   "metadata": {},
   "outputs": [
    {
     "name": "stdout",
     "output_type": "stream",
     "text": [
      "<b>Joe</b>\n",
      "<b>Joe Chen</b>\n",
      "<b>Joe Chen<a href=\"http://www.example.com\"></a></b>\n"
     ]
    }
   ],
   "source": [
    "#Ch5_3b\n",
    "from bs4 import BeautifulSoup\n",
    "from bs4.element import NavigableString \n",
    "\n",
    "soup = BeautifulSoup(\"<b></b>\", \"lxml\")    \n",
    "tag = soup.b\n",
    "tag.append(\"Joe\") #新增標籤內容\n",
    "print(tag)\n",
    "new_str = NavigableString(\" Chen\") #建立NavigableString物件來新增文字內容\n",
    "tag.append(new_str)\n",
    "print(tag)\n",
    "new_tag = soup.new_tag(\"a\", href=\"http://www.example.com\") #new_tag()函數新增標籤\n",
    "tag.append(new_tag)\n",
    "print(tag)"
   ]
  },
  {
   "cell_type": "markdown",
   "metadata": {},
   "source": [
    "# 插入標籤和清除標籤內容"
   ]
  },
  {
   "cell_type": "code",
   "execution_count": 18,
   "metadata": {},
   "outputs": [
    {
     "name": "stdout",
     "output_type": "stream",
     "text": [
      "<p><i>Two</i><b>One</b></p>\n",
      "<p><i>Two</i><b>One</b>Three</p>\n",
      "<p><i>Two</i><b></b>Three</p>\n"
     ]
    }
   ],
   "source": [
    "#Ch5_3c\n",
    "from bs4 import BeautifulSoup \n",
    "\n",
    "soup = BeautifulSoup(\"<p><b>One</b></p>\", \"lxml\")  \n",
    "tag = soup.b  \n",
    "new_tag = soup.new_tag(\"i\")  #建立<i>標籤\n",
    "new_tag.string = \"Two\"  #在<i>標籤內新增Two字串\n",
    "tag.insert_before(new_tag)  #將新標籤<i>插入在<b>標籤之前\n",
    "print(soup.p)\n",
    "new_string = soup.new_string(\"Three\") #新增文字內容Three\n",
    "tag.insert_after(new_string)  #將文字Three插入在<b>標籤之後\n",
    "print(soup.p)\n",
    "tag.clear() #清除<b>標籤的文字內容，也就是One\n",
    "print(soup.p)"
   ]
  },
  {
   "cell_type": "markdown",
   "metadata": {},
   "source": [
    "# 取代標籤"
   ]
  },
  {
   "cell_type": "code",
   "execution_count": 19,
   "metadata": {},
   "outputs": [
    {
     "name": "stdout",
     "output_type": "stream",
     "text": [
      "<p><i>Two</i></p>\n"
     ]
    }
   ],
   "source": [
    "#Ch5_3d\n",
    "from bs4 import BeautifulSoup \n",
    "\n",
    "soup = BeautifulSoup(\"<p><b>One</b></p>\", \"lxml\")  \n",
    "tag = soup.b  \n",
    "new_tag = soup.new_tag(\"i\")\n",
    "new_tag.string = \"Two\"\n",
    "tag.replace_with(new_tag)\n",
    "print(soup.p)\n",
    "  "
   ]
  },
  {
   "cell_type": "code",
   "execution_count": null,
   "metadata": {},
   "outputs": [],
   "source": []
  }
 ],
 "metadata": {
  "kernelspec": {
   "display_name": "Python 3",
   "language": "python",
   "name": "python3"
  },
  "language_info": {
   "codemirror_mode": {
    "name": "ipython",
    "version": 3
   },
   "file_extension": ".py",
   "mimetype": "text/x-python",
   "name": "python",
   "nbconvert_exporter": "python",
   "pygments_lexer": "ipython3",
   "version": "3.7.1"
  }
 },
 "nbformat": 4,
 "nbformat_minor": 2
}
