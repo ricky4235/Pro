{
 "cells": [
  {
   "cell_type": "code",
   "execution_count": null,
   "metadata": {},
   "outputs": [],
   "source": [
    "原文網址:\n",
    "https://tlyu0419.github.io/2019/10/30/%E5%A6%82%E4%BD%95%E9%80%8F%E9%81%8E%E7%B6%B2%E8%B7%AF%E7%88%AC%E8%9F%B2%E6%8A%93%E5%8F%96%E4%B8%AD%E6%99%82%E9%9B%BB%E5%AD%90%E5%A0%B1%E6%96%B0%E8%81%9E/#more"
   ]
  },
  {
   "cell_type": "markdown",
   "metadata": {
    "colab_type": "text",
    "id": "h_jBeBxQKC8l"
   },
   "source": [
    "# 載入使用套件"
   ]
  },
  {
   "cell_type": "code",
   "execution_count": 10,
   "metadata": {
    "colab": {
     "base_uri": "https://localhost:8080/",
     "height": 204
    },
    "colab_type": "code",
    "id": "x0ZPnkI0KCML",
    "outputId": "6a551dc3-cb59-4091-a753-658bb6961e7e"
   },
   "outputs": [
    {
     "name": "stdout",
     "output_type": "stream",
     "text": [
      "Requirement already satisfied: tomorrow in c:\\users\\11004076\\anaconda3\\lib\\site-packages (0.2.4)\n",
      "Requirement already satisfied: futures>=2.2.0 in c:\\users\\11004076\\anaconda3\\lib\\site-packages (from tomorrow) (3.1.1)\n"
     ]
    }
   ],
   "source": [
    "!pip install tomorrow"
   ]
  },
  {
   "cell_type": "code",
   "execution_count": 4,
   "metadata": {
    "colab": {},
    "colab_type": "code",
    "id": "JNFFavnzJwMi"
   },
   "outputs": [],
   "source": [
    "# 爬蟲類套件\n",
    "import requests\n",
    "import json\n",
    "from bs4 import BeautifulSoup\n",
    "# 加入使用者資訊(如使用什麼瀏覽器、作業系統...等資訊)模擬真實瀏覽網頁的情況\n",
    "headers = {'User-Agent': 'Mozilla/5.0 (Windows NT 10.0; Win64; x64) AppleWebKit/537.36 (KHTML, like Gecko) Chrome/73.0.3683.103 Safari/537.36'}\n",
    "#from tomorrow import threads  #錯誤\n",
    "# 資料整理類套件\n",
    "import pandas as pd\n",
    "import re\n",
    "from datetime import datetime\n",
    "\n",
    "# 其他\n",
    "import os"
   ]
  },
  {
   "cell_type": "markdown",
   "metadata": {
    "colab_type": "text",
    "id": "-aYp3KczKQjL"
   },
   "source": [
    "# 擷取一篇新聞"
   ]
  },
  {
   "cell_type": "code",
   "execution_count": 1,
   "metadata": {
    "colab": {},
    "colab_type": "code",
    "id": "y5aNFIOUKKJG"
   },
   "outputs": [],
   "source": [
    "def GetNews_chinatimes(response):\n",
    "    soup = BeautifulSoup(response.text)\n",
    "    url = soup.find('link')['href']\n",
    "    ndf = pd.DataFrame(data = [{'TITLE':soup.find('h1', attrs={'class':'article-title'}).text,\n",
    "                                'TIME':datetime.strptime(soup.find('meta', attrs={'property':'article:published_time'})['content'],'%Y-%m-%dT%H:%M:%S+08:00'),\n",
    "                                'CATEGORY':soup.find('meta',attrs={'property':'article:section'})['content'],\n",
    "                                'DESCRIPTION':soup.find('meta',attrs={'name':'description'})['content'],\n",
    "                                'CONTENT':'\\n'.join(i.text for i in soup.find('div',attrs={'class':'article-body'}).find_all('p')),\n",
    "                                'KEYWORDS':soup.find('meta',{'name':'news_keywords'})['content'],\n",
    "                                'FROM':soup.find('meta',{'name':'publisher'})['content'],\n",
    "                                'LINK':soup.find('meta', {'property':'og:url'})['content']}],\n",
    "                       columns = ['TITLE', 'TIME', 'CATEGORY', 'DESCRIPTION', 'CONTENT','KEYWORDS', 'FROM', 'LINK']) \n",
    "    return ndf"
   ]
  },
  {
   "cell_type": "code",
   "execution_count": 5,
   "metadata": {
    "colab": {
     "base_uri": "https://localhost:8080/",
     "height": 97
    },
    "colab_type": "code",
    "id": "hHJKzFHH1thB",
    "outputId": "c9cc19ab-0757-4ce1-9a6d-af3cec459f5c"
   },
   "outputs": [
    {
     "data": {
      "text/html": [
       "<div>\n",
       "<style scoped>\n",
       "    .dataframe tbody tr th:only-of-type {\n",
       "        vertical-align: middle;\n",
       "    }\n",
       "\n",
       "    .dataframe tbody tr th {\n",
       "        vertical-align: top;\n",
       "    }\n",
       "\n",
       "    .dataframe thead th {\n",
       "        text-align: right;\n",
       "    }\n",
       "</style>\n",
       "<table border=\"1\" class=\"dataframe\">\n",
       "  <thead>\n",
       "    <tr style=\"text-align: right;\">\n",
       "      <th></th>\n",
       "      <th>TITLE</th>\n",
       "      <th>TIME</th>\n",
       "      <th>CATEGORY</th>\n",
       "      <th>DESCRIPTION</th>\n",
       "      <th>CONTENT</th>\n",
       "      <th>KEYWORDS</th>\n",
       "      <th>FROM</th>\n",
       "      <th>LINK</th>\n",
       "    </tr>\n",
       "  </thead>\n",
       "  <tbody>\n",
       "    <tr>\n",
       "      <th>0</th>\n",
       "      <td>直球對決 韓接招青年辣提問！可以討厭我 但請聽我的政策</td>\n",
       "      <td>2019-10-28 04:10:19</td>\n",
       "      <td>政治要聞</td>\n",
       "      <td>國民黨總統參選人韓國瑜昨晚在台北舉辦青年論壇，標榜「走出同溫層」，果然在場青年提問辛辣，毫不...</td>\n",
       "      <td>國民黨總統參選人韓國瑜昨晚在台北舉辦青年論壇，標榜「走出同溫層」，果然在場青年提問辛辣，毫不...</td>\n",
       "      <td>韓國瑜,國民黨,2020大選</td>\n",
       "      <td>中時電子報</td>\n",
       "      <td>https://www.chinatimes.com/newspapers/20191028...</td>\n",
       "    </tr>\n",
       "  </tbody>\n",
       "</table>\n",
       "</div>"
      ],
      "text/plain": [
       "                         TITLE                TIME CATEGORY  \\\n",
       "0  直球對決 韓接招青年辣提問！可以討厭我 但請聽我的政策 2019-10-28 04:10:19     政治要聞   \n",
       "\n",
       "                                         DESCRIPTION  \\\n",
       "0  國民黨總統參選人韓國瑜昨晚在台北舉辦青年論壇，標榜「走出同溫層」，果然在場青年提問辛辣，毫不...   \n",
       "\n",
       "                                             CONTENT        KEYWORDS   FROM  \\\n",
       "0  國民黨總統參選人韓國瑜昨晚在台北舉辦青年論壇，標榜「走出同溫層」，果然在場青年提問辛辣，毫不...  韓國瑜,國民黨,2020大選  中時電子報   \n",
       "\n",
       "                                                LINK  \n",
       "0  https://www.chinatimes.com/newspapers/20191028...  "
      ]
     },
     "execution_count": 5,
     "metadata": {},
     "output_type": "execute_result"
    }
   ],
   "source": [
    "url = 'https://www.chinatimes.com/newspapers/20191028000424-260118?chdtv'\n",
    "resp = requests.get(url)\n",
    "GetNews_chinatimes(resp)"
   ]
  },
  {
   "cell_type": "markdown",
   "metadata": {
    "colab_type": "text",
    "id": "5gkA6KoWasNL"
   },
   "source": [
    "# 擷取特定關鍵詞新聞的連結清單"
   ]
  },
  {
   "cell_type": "code",
   "execution_count": 21,
   "metadata": {
    "colab": {},
    "colab_type": "code",
    "id": "QvlG2w58eYLV"
   },
   "outputs": [],
   "source": [
    "def GetLinks_chinatimes(response):\n",
    "    links = []\n",
    "    soup = BeautifulSoup(response.text)\n",
    "    for i in soup.find_all('h3'):\n",
    "        url = i.find('a')['href']\n",
    "        links.append(url)\n",
    "    return links"
   ]
  },
  {
   "cell_type": "code",
   "execution_count": 23,
   "metadata": {
    "colab": {
     "base_uri": "https://localhost:8080/",
     "height": 357
    },
    "colab_type": "code",
    "id": "OWPYMTjySBbI",
    "outputId": "cbe19ace-253d-46cf-fa42-6420dcac43a9"
   },
   "outputs": [
    {
     "data": {
      "text/plain": [
       "['https://www.chinatimes.com/newspapers/20191210000755-260109',\n",
       " 'https://www.chinatimes.com/realtimenews/20191210000009-260408',\n",
       " 'https://www.chinatimes.com/realtimenews/20191209000917-260408',\n",
       " 'https://www.chinatimes.com/opinion/20191209003325-262104',\n",
       " 'https://www.chinatimes.com/realtimenews/20191209000995-260408',\n",
       " 'https://www.chinatimes.com/realtimenews/20191209001331-260408',\n",
       " 'https://www.chinatimes.com/realtimenews/20191208002943-260407',\n",
       " 'https://www.chinatimes.com/newspapers/20191208000097-260301',\n",
       " 'https://www.chinatimes.com/realtimenews/20191207003114-260408',\n",
       " 'https://www.chinatimes.com/realtimenews/20191207001601-260409',\n",
       " 'https://www.chinatimes.com/realtimenews/20191207002044-260409',\n",
       " 'https://www.chinatimes.com/realtimenews/20191207000016-260408',\n",
       " 'https://www.chinatimes.com/realtimenews/20191206002037-260408',\n",
       " 'https://www.chinatimes.com/realtimenews/20191205001064-260408',\n",
       " 'https://www.chinatimes.com/realtimenews/20191205004939-260408',\n",
       " 'https://www.chinatimes.com/opinion/20191205004630-262110',\n",
       " 'https://www.chinatimes.com/realtimenews/20191205001988-260410',\n",
       " 'https://www.chinatimes.com/realtimenews/20191205003364-260408',\n",
       " 'https://www.chinatimes.com/realtimenews/20191205001178-260408',\n",
       " 'https://www.chinatimes.com/realtimenews/20191205003647-260408']"
      ]
     },
     "execution_count": 23,
     "metadata": {},
     "output_type": "execute_result"
    }
   ],
   "source": [
    "url = 'https://www.chinatimes.com/search/英國'\n",
    "resp = requests.get(url)\n",
    "GetLinks_chinatimes(resp)"
   ]
  },
  {
   "cell_type": "code",
   "execution_count": null,
   "metadata": {
    "colab_type": "text",
    "id": "o8XdW5NYe9A6"
   },
   "outputs": [],
   "source": [
    "## 開啟多線程功能\n",
    "* 只要組合以上兩個函數，其實就已經可以實現自動化的爬蟲作業了，具體方式其實就是逐一的把新聞連結清單放入 for 迴圈中，並透過 GetNews_chinatimes 函數解析新聞就可以了\n",
    "* 這樣m的方式在少量資料的時候還可以，但當我們需要抓上千、萬篇新聞時，「逐一」這件事請就顯得非常沒有效率。那有什麼辦法解決呢? 答案是我們可以運用多核心多線程的功能同時抓取多篇新聞內容，只需要運用 tomorrow 套件就能讓開啟多線程變得非常簡單，使用方式如下"
   ]
  },
  {
   "cell_type": "code",
   "execution_count": null,
   "metadata": {},
   "outputs": [],
   "source": [
    "使用提醒：\n",
    "\n",
    "* threadms 數開得太高有可能會導致被網站封鎖 IP 而禁止連線。\n",
    "* 具體要設定多少 threads 數才不會被鎖?這需要慢慢嘗試過後能才知道，每個網站的反爬蟲機制不太一致。\n",
    "* 建議在抓資料時使用手機分享的網路，因為被封鎖 IP 狀況發生時只需要開啟飛航模式再關閉，就會替換成新 IP 而解除封鎖囉!"
   ]
  },
  {
   "cell_type": "code",
   "execution_count": 0,
   "metadata": {
    "colab": {},
    "colab_type": "code",
    "id": "_n-Hv-bv2L0l"
   },
   "outputs": [],
   "source": [
    "@threads(100)\n",
    "def MultiThread_Crawl(url):\n",
    "    try:\n",
    "        return requests.get(url, headers=headers)\n",
    "    except:\n",
    "        pass"
   ]
  },
  {
   "cell_type": "markdown",
   "metadata": {
    "colab_type": "text",
    "id": "DCxH7U2ke2dy"
   },
   "source": [
    "# 組合應用"
   ]
  },
  {
   "cell_type": "code",
   "execution_count": 0,
   "metadata": {
    "colab": {},
    "colab_type": "code",
    "id": "RX92OY-rURhz"
   },
   "outputs": [],
   "source": [
    "def CrawlNews_chinatimes(keywords, pages):\n",
    "    # 截取多個分頁的新聞連結\n",
    "    links = []\n",
    "    for i in range(pages):\n",
    "        url = 'https://www.chinatimes.com/search/{}?page={}'.format(keywords, i+1)\n",
    "        resp = requests.get(url)\n",
    "        links += GetLinks_chinatimes(resp)   \n",
    "    print('There are {} links in pages.'.format(len(links)))\n",
    "\n",
    "    # 多線程爬蟲\n",
    "    responses = [MultiThread_Crawl(link) for link in links]\n",
    "\n",
    "    # 整理成DataFrame\n",
    "    list_of_dataframes = []\n",
    "    for response in responses:\n",
    "        try:\n",
    "            ndf = GetNews_chinatimes(response)\n",
    "            list_of_dataframes.append(ndf)\n",
    "        except:\n",
    "            pass\n",
    "    df = pd.concat(list_of_dataframes, ignore_index=True)\n",
    "    print('There are {} News in DataFrame.'.format(len(df)))\n",
    "    return df"
   ]
  },
  {
   "cell_type": "code",
   "execution_count": 0,
   "metadata": {
    "colab": {
     "base_uri": "https://localhost:8080/",
     "height": 85
    },
    "colab_type": "code",
    "id": "4Y0jC0WKhUTL",
    "outputId": "a654004b-d477-417c-f096-051e3544b267"
   },
   "outputs": [
    {
     "name": "stdout",
     "output_type": "stream",
     "text": [
      "There are 200 links in pages.\n",
      "There are 200 News in DataFrame.\n",
      "CPU times: user 8.82 s, sys: 410 ms, total: 9.23 s\n",
      "Wall time: 17.4 s\n"
     ]
    }
   ],
   "source": [
    "%%time\n",
    "# 可以自行替換查詢的關鍵字，另外需要更多新聞的人也可以把 pages 的數值調高)\n",
    "df = CrawlNews_chinatimes(keywords='美國', pages=10)"
   ]
  },
  {
   "cell_type": "code",
   "execution_count": 0,
   "metadata": {
    "colab": {
     "base_uri": "https://localhost:8080/",
     "height": 759
    },
    "colab_type": "code",
    "id": "0677OyIujarK",
    "outputId": "4d9fb3e5-5c4a-438a-ed5e-5c99a0cd5844"
   },
   "outputs": [
    {
     "data": {
      "text/html": [
       "<div>\n",
       "<style scoped>\n",
       "    .dataframe tbody tr th:only-of-type {\n",
       "        vertical-align: middle;\n",
       "    }\n",
       "\n",
       "    .dataframe tbody tr th {\n",
       "        vertical-align: top;\n",
       "    }\n",
       "\n",
       "    .dataframe thead th {\n",
       "        text-align: right;\n",
       "    }\n",
       "</style>\n",
       "<table border=\"1\" class=\"dataframe\">\n",
       "  <thead>\n",
       "    <tr style=\"text-align: right;\">\n",
       "      <th></th>\n",
       "      <th>TITLE</th>\n",
       "      <th>TIME</th>\n",
       "      <th>CATEGORY</th>\n",
       "      <th>DESCRIPTION</th>\n",
       "      <th>CONTENT</th>\n",
       "      <th>KEYWORDS</th>\n",
       "      <th>FROM</th>\n",
       "      <th>LINK</th>\n",
       "    </tr>\n",
       "  </thead>\n",
       "  <tbody>\n",
       "    <tr>\n",
       "      <th>0</th>\n",
       "      <td>美國多重收益平衡基金 抗震</td>\n",
       "      <td>2019-10-30 04:10:12</td>\n",
       "      <td>投資理財</td>\n",
       "      <td>全球投資環境歷經2017年到2018年的穩健復甦後，2019年經濟成長出現雜音，從美國聯準會...</td>\n",
       "      <td>全球投資環境歷經2017年到2018年的穩健復甦後，2019年經濟成長出現雜音，從美國聯準會...</td>\n",
       "      <td>投資,降息,美國</td>\n",
       "      <td>中時電子報</td>\n",
       "      <td>https://www.chinatimes.com/newspapers/20191030...</td>\n",
       "    </tr>\n",
       "    <tr>\n",
       "      <th>1</th>\n",
       "      <td>成大鏈結美國新創團隊</td>\n",
       "      <td>2019-10-30 04:10:08</td>\n",
       "      <td>產業．科技</td>\n",
       "      <td>國立成功大學23日在美國波士頓與跨國創投公司EBO Global Innovation Ca...</td>\n",
       "      <td>國立成功大學23日在美國波士頓與跨國創投公司EBO Global Innovation Ca...</td>\n",
       "      <td>美國,創投</td>\n",
       "      <td>中時電子報</td>\n",
       "      <td>https://www.chinatimes.com/newspapers/20191030...</td>\n",
       "    </tr>\n",
       "    <tr>\n",
       "      <th>2</th>\n",
       "      <td>美國NAE院士蕭美琛 北科大首位女名譽博士</td>\n",
       "      <td>2019-10-30 04:10:16</td>\n",
       "      <td>產業特刊</td>\n",
       "      <td>臺北科大創校108周年校慶26日在該校盛大舉行，北科大校友、美國國家工程學院（NAE）新科院...</td>\n",
       "      <td>臺北科大創校108周年校慶26日在該校盛大舉行，北科大校友、美國國家工程學院（NAE）新科院...</td>\n",
       "      <td>美國</td>\n",
       "      <td>中時電子報</td>\n",
       "      <td>https://www.chinatimes.com/newspapers/20191030...</td>\n",
       "    </tr>\n",
       "    <tr>\n",
       "      <th>3</th>\n",
       "      <td>分析師預估 美國第3季GDP成長1.6％</td>\n",
       "      <td>2019-10-30 13:26:23</td>\n",
       "      <td>國際</td>\n",
       "      <td>路透報導，美國經濟在第3季進一步趨緩，主要受到消費者支出溫和與企業投資衰退所累，促使聯準會可...</td>\n",
       "      <td>路透報導，美國經濟在第3季進一步趨緩，主要受到消費者支出溫和與企業投資衰退所累，促使聯準會可...</td>\n",
       "      <td>美國,gdp,經濟,降息,fed</td>\n",
       "      <td>中時電子報</td>\n",
       "      <td>https://www.chinatimes.com/realtimenews/201910...</td>\n",
       "    </tr>\n",
       "    <tr>\n",
       "      <th>4</th>\n",
       "      <td>無色覺醒》賴岳謙：美國執意敵視中國！中國將成美國惡夢！</td>\n",
       "      <td>2019-10-30 08:30:00</td>\n",
       "      <td>無色覺醒</td>\n",
       "      <td>歡迎收看《無色覺醒》第462集播出，由主講人賴岳謙為觀眾分析：「美國執意敵視中國！中國將成美...</td>\n",
       "      <td>歡迎收看《無色覺醒》第462集播出，由主講人賴岳謙為觀眾分析：「美國執意敵視中國！中國將成美...</td>\n",
       "      <td>無色覺醒,賴岳謙,中時電子報</td>\n",
       "      <td>中時電子報</td>\n",
       "      <td>https://www.chinatimes.com/opinion/20191030000...</td>\n",
       "    </tr>\n",
       "    <tr>\n",
       "      <th>...</th>\n",
       "      <td>...</td>\n",
       "      <td>...</td>\n",
       "      <td>...</td>\n",
       "      <td>...</td>\n",
       "      <td>...</td>\n",
       "      <td>...</td>\n",
       "      <td>...</td>\n",
       "      <td>...</td>\n",
       "    </tr>\n",
       "    <tr>\n",
       "      <th>195</th>\n",
       "      <td>庫德族悲歌給台灣的啟示</td>\n",
       "      <td>2019-10-24 04:10:00</td>\n",
       "      <td>論壇廣場</td>\n",
       "      <td>分布在土耳其、敘利亞、伊朗、伊拉克邊境交界處的庫德族，自第一次大戰以來，便存有獨立建國的理想...</td>\n",
       "      <td>分布在土耳其、敘利亞、伊朗、伊拉克邊境交界處的庫德族，自第一次大戰以來，便存有獨立建國的理想...</td>\n",
       "      <td>敘利亞,美國,庫德族</td>\n",
       "      <td>中時電子報</td>\n",
       "      <td>https://www.chinatimes.com/newspapers/20191024...</td>\n",
       "    </tr>\n",
       "    <tr>\n",
       "      <th>196</th>\n",
       "      <td>陸外交部籲美 停止「限制兩國科研交流」的作為</td>\n",
       "      <td>2019-10-24 21:28:00</td>\n",
       "      <td>財經</td>\n",
       "      <td>美國智庫戰略與國際問題研究中心發布了《戰略競爭時代的科研合作》報告，報告指出，美國以國家安全...</td>\n",
       "      <td>美國智庫戰略與國際問題研究中心發布了《戰略競爭時代的科研合作》報告，報告指出，美國以國家安全...</td>\n",
       "      <td>合作,國家,美國,科學,研究</td>\n",
       "      <td>中時電子報</td>\n",
       "      <td>https://www.chinatimes.com/realtimenews/201910...</td>\n",
       "    </tr>\n",
       "    <tr>\n",
       "      <th>197</th>\n",
       "      <td>土耳其同意永久停火 川普宣布撤銷制裁</td>\n",
       "      <td>2019-10-24 08:20:47</td>\n",
       "      <td>財經</td>\n",
       "      <td>美國總統川普23日宣布，土耳其當局已停止在敘利亞的攻擊行動並願意「永久停火」，因此美國將取消...</td>\n",
       "      <td>美國總統川普23日宣布，土耳其當局已停止在敘利亞的攻擊行動並願意「永久停火」，因此美國將取消...</td>\n",
       "      <td>制裁,美國,土耳其,川普,停火</td>\n",
       "      <td>中時電子報</td>\n",
       "      <td>https://www.chinatimes.com/realtimenews/201910...</td>\n",
       "    </tr>\n",
       "    <tr>\n",
       "      <th>198</th>\n",
       "      <td>淨進口降至新低 油價走高</td>\n",
       "      <td>2019-10-24 18:53:58</td>\n",
       "      <td>財經</td>\n",
       "      <td>上周美國原油進口每日下降43.8萬桶，同時出口每日增加43.5萬桶，使得淨進口降至每日217...</td>\n",
       "      <td>上周美國原油進口每日下降43.8萬桶，同時出口每日增加43.5萬桶，使得淨進口降至每日217...</td>\n",
       "      <td>美國,原油,進口,央行,歷史</td>\n",
       "      <td>中時電子報</td>\n",
       "      <td>https://www.chinatimes.com/realtimenews/201910...</td>\n",
       "    </tr>\n",
       "    <tr>\n",
       "      <th>199</th>\n",
       "      <td>土耳其承諾在敘北永久停火  川普宣布解除制裁</td>\n",
       "      <td>2019-10-24 08:26:57</td>\n",
       "      <td>國際</td>\n",
       "      <td>美國總統川普今天表示，土耳其承諾將在敘利亞北部永久停火，因此他已指示取消因為土耳其揮軍敘北實...</td>\n",
       "      <td>美國總統川普今天表示，土耳其承諾將在敘利亞北部永久停火，因此他已指示取消因為土耳其揮軍敘北實...</td>\n",
       "      <td>土耳其,美國,川普,敘利亞,中東</td>\n",
       "      <td>中時電子報</td>\n",
       "      <td>https://www.chinatimes.com/realtimenews/201910...</td>\n",
       "    </tr>\n",
       "  </tbody>\n",
       "</table>\n",
       "<p>200 rows × 8 columns</p>\n",
       "</div>"
      ],
      "text/plain": [
       "                           TITLE  ...                                               LINK\n",
       "0                  美國多重收益平衡基金 抗震  ...  https://www.chinatimes.com/newspapers/20191030...\n",
       "1                     成大鏈結美國新創團隊  ...  https://www.chinatimes.com/newspapers/20191030...\n",
       "2          美國NAE院士蕭美琛 北科大首位女名譽博士  ...  https://www.chinatimes.com/newspapers/20191030...\n",
       "3           分析師預估 美國第3季GDP成長1.6％  ...  https://www.chinatimes.com/realtimenews/201910...\n",
       "4    無色覺醒》賴岳謙：美國執意敵視中國！中國將成美國惡夢！  ...  https://www.chinatimes.com/opinion/20191030000...\n",
       "..                           ...  ...                                                ...\n",
       "195                  庫德族悲歌給台灣的啟示  ...  https://www.chinatimes.com/newspapers/20191024...\n",
       "196       陸外交部籲美 停止「限制兩國科研交流」的作為  ...  https://www.chinatimes.com/realtimenews/201910...\n",
       "197           土耳其同意永久停火 川普宣布撤銷制裁  ...  https://www.chinatimes.com/realtimenews/201910...\n",
       "198                 淨進口降至新低 油價走高  ...  https://www.chinatimes.com/realtimenews/201910...\n",
       "199       土耳其承諾在敘北永久停火  川普宣布解除制裁  ...  https://www.chinatimes.com/realtimenews/201910...\n",
       "\n",
       "[200 rows x 8 columns]"
      ]
     },
     "execution_count": 20,
     "metadata": {
      "tags": []
     },
     "output_type": "execute_result"
    }
   ],
   "source": [
    "df"
   ]
  },
  {
   "cell_type": "markdown",
   "metadata": {
    "colab_type": "text",
    "id": "9-MIO4qUKyHh"
   },
   "source": [
    "# 儲存結果"
   ]
  },
  {
   "cell_type": "markdown",
   "metadata": {
    "colab_type": "text",
    "id": "1ZLwjZ39kF_K"
   },
   "source": [
    "## 串接 Google Drive 空間"
   ]
  },
  {
   "cell_type": "code",
   "execution_count": 0,
   "metadata": {
    "colab": {
     "base_uri": "https://localhost:8080/",
     "height": 34
    },
    "colab_type": "code",
    "id": "fpLQ0x6lKwT3",
    "outputId": "ef1c88c2-01f6-443b-9a7a-6334ea29b622"
   },
   "outputs": [
    {
     "name": "stdout",
     "output_type": "stream",
     "text": [
      "Drive already mounted at /content/drive; to attempt to forcibly remount, call drive.mount(\"/content/drive\", force_remount=True).\n"
     ]
    }
   ],
   "source": [
    "from google.colab import drive\n",
    "drive.mount('/content/drive')"
   ]
  },
  {
   "cell_type": "markdown",
   "metadata": {
    "colab_type": "text",
    "id": "vMkE2evVMCba"
   },
   "source": [
    "## 保存資料\n",
    "- 資料會保存在 Google Drive 上 Colab Notebooks/WebCrawler/TW_News/News 的資料夾空間中"
   ]
  },
  {
   "cell_type": "code",
   "execution_count": 0,
   "metadata": {
    "colab": {},
    "colab_type": "code",
    "id": "reaH-2LhLKk7"
   },
   "outputs": [],
   "source": [
    "import os\n",
    "path = '/content/drive/My Drive/Colab Notebooks/WebCrawler/TW_News/News'\n",
    "# 如果不存在這個資料夾就新建這個資料夾\n",
    "if not os.path.exists(path):\n",
    "    os.makedirs(path)\n",
    "df.to_excel(path + '/News_chinatimes.xlsx')"
   ]
  }
 ],
 "metadata": {
  "colab": {
   "collapsed_sections": [],
   "name": "中時電子報新聞爬蟲.ipynb",
   "provenance": []
  },
  "kernelspec": {
   "display_name": "Python 3",
   "language": "python",
   "name": "python3"
  },
  "language_info": {
   "codemirror_mode": {
    "name": "ipython",
    "version": 3
   },
   "file_extension": ".py",
   "mimetype": "text/x-python",
   "name": "python",
   "nbconvert_exporter": "python",
   "pygments_lexer": "ipython3",
   "version": "3.7.1"
  }
 },
 "nbformat": 4,
 "nbformat_minor": 1
}
