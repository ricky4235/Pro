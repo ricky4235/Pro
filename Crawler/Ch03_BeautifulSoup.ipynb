{
 "cells": [
  {
   "cell_type": "markdown",
   "metadata": {},
   "source": [
    "# Ch03_BeautifulSoup\n",
    "是一個Python包，功能包括解析HTML、XML文件、修復含有未閉合標籤等錯誤的文件（此種文件常被稱為tag soup）。<br>\n",
    "這個擴充包為待解析的頁面建立一棵樹，以便提取其中的資料，這在網路資料採集時非常有用。"
   ]
  },
  {
   "cell_type": "markdown",
   "metadata": {},
   "source": [
    "# BeautifulSoup的物件"
   ]
  },
  {
   "cell_type": "code",
   "execution_count": 4,
   "metadata": {},
   "outputs": [
    {
     "name": "stdout",
     "output_type": "stream",
     "text": [
      "<class 'bs4.element.Tag'>\n",
      "div\n",
      "msg\n",
      "['body', 'strikeout', 'a', 'bc', 'd', 'e']\n",
      "{'id': 'msg', 'class': ['body', 'strikeout', 'a', 'bc', 'd', 'e']}\n"
     ]
    }
   ],
   "source": [
    "from bs4 import BeautifulSoup \n",
    "\n",
    "html_str = \"<div id='msg' class='body strikeout a bc d e'>Hello World!</div>\"\n",
    "soup = BeautifulSoup(html_str, \"lxml\")  #常用的解析器有三種：\"lxml\",\"html5lib\",\"html.parser\"，官方建議使用解析速度較快的\"lxml\"\n",
    "tag = soup.div       # 取得<div>標籤物件\n",
    "print(type(tag))     # Tag型態\n",
    "print(tag.name)      # 標籤名稱\n",
    "print(tag[\"id\"])     # 標籤屬性\n",
    "print(tag[\"class\"])  # 多重值屬性的值清單\n",
    "print(tag.attrs)     # 標籤所有屬性值的字典"
   ]
  },
  {
   "cell_type": "markdown",
   "metadata": {},
   "source": [
    "# string物件"
   ]
  },
  {
   "cell_type": "code",
   "execution_count": 2,
   "metadata": {},
   "outputs": [
    {
     "name": "stdout",
     "output_type": "stream",
     "text": [
      "Hello World!\n",
      "<class 'bs4.element.NavigableString'>\n"
     ]
    }
   ],
   "source": [
    "from bs4 import BeautifulSoup \n",
    "\n",
    "html_str = \"<div id='msg' class='body strikeout'>Hello World!</div>\"\n",
    "soup = BeautifulSoup(html_str, \"lxml\") #剖析成樹狀資料\n",
    "tag = soup.div      #定位資料至標籤<div>，\n",
    "print(tag.string)        # 印出標籤中字串\n",
    "print(type(tag.string))  # NavigableString型別"
   ]
  },
  {
   "cell_type": "markdown",
   "metadata": {},
   "source": [
    "# text屬性 & get_text()函數\n",
    "標籤內容有子標籤時，string屬性無法成功取得標籤內容，需要使用text屬性或get_text()函數："
   ]
  },
  {
   "cell_type": "code",
   "execution_count": 4,
   "metadata": {},
   "outputs": [
    {
     "name": "stdout",
     "output_type": "stream",
     "text": [
      "None\n",
      "Hello World!  Final Test \n",
      "<class 'str'>\n",
      "Hello World!  Final Test \n",
      "Hello World! - Final Test \n",
      "Hello World!-Final Test\n"
     ]
    }
   ],
   "source": [
    "from bs4 import BeautifulSoup \n",
    "\n",
    "html_str = \"<div id='msg'>Hello World! <p> Final Test <p></div>\"\n",
    "soup = BeautifulSoup(html_str, \"lxml\")\n",
    "tag = soup.div\n",
    "print(tag.string)        # 標籤內容有子標籤時，string屬性無法成功取得標籤內容\n",
    "print(tag.text)          # text屬性\n",
    "print(type(tag.text)) \n",
    "print(tag.get_text())    # get_text()函數\n",
    "print(tag.get_text(\"-\")) # get_text()函數還可指定參數的分隔字元\n",
    "print(tag.get_text(\"-\", strip=True)) #刪除空白字元"
   ]
  },
  {
   "cell_type": "markdown",
   "metadata": {},
   "source": [
    "# comment物件\n",
    "可以取得HTML網頁的註解文字"
   ]
  },
  {
   "cell_type": "code",
   "execution_count": 5,
   "metadata": {},
   "outputs": [
    {
     "name": "stdout",
     "output_type": "stream",
     "text": [
      " 註解文字 \n",
      "<class 'bs4.element.Comment'>\n"
     ]
    }
   ],
   "source": [
    "from bs4 import BeautifulSoup \n",
    "\n",
    "html_str = \"<p><!-- 註解文字 --></p>\"\n",
    "soup = BeautifulSoup(html_str, \"lxml\")\n",
    "comment = soup.p.string\n",
    "print(comment)\n",
    "print(type(comment))   # Comment型態"
   ]
  },
  {
   "cell_type": "code",
   "execution_count": 1,
   "metadata": {},
   "outputs": [
    {
     "name": "stdout",
     "output_type": "stream",
     "text": [
      "<html><body><p>Hello World!</p></body></html>\n"
     ]
    }
   ],
   "source": [
    "#Ch3_2_1\n",
    "from bs4 import BeautifulSoup \n",
    "\n",
    "html_str = \"<p>Hello World!</p>\"\n",
    "soup = BeautifulSoup(html_str, \"lxml\")\n",
    "print(soup)"
   ]
  },
  {
   "cell_type": "code",
   "execution_count": 2,
   "metadata": {},
   "outputs": [
    {
     "name": "stdout",
     "output_type": "stream",
     "text": [
      "<html><body><h2>HTTP Server Error 503</h2><p> No available server to handle this request </p></body></html>\n"
     ]
    }
   ],
   "source": [
    "#Ch3_2_1a\n",
    "import requests \n",
    "from bs4 import BeautifulSoup\n",
    "\n",
    "r = requests.get(\"http://hueyanchen.myweb.hinet.net\")\n",
    "r.encoding = \"utf8\"\n",
    "soup = BeautifulSoup(r.text, \"lxml\")\n",
    "print(soup)"
   ]
  },
  {
   "cell_type": "code",
   "execution_count": 3,
   "metadata": {},
   "outputs": [
    {
     "name": "stdout",
     "output_type": "stream",
     "text": [
      "<html>\n",
      "<head>\n",
      "<title>\n",
      "   Example Domain\n",
      "  </title>\n",
      "<meta charset=\"utf-8\"/>\n",
      "<meta content=\"text/html; charset=utf-8\" http-equiv=\"Content-type\"/>\n",
      "<meta content=\"width=device-width, initial-scale=1\" name=\"viewport\"/>\n",
      "<style type=\"text/css\">\n",
      "   body {\n",
      "        background-color: #f0f0f2;\n",
      "        margin: 0;\n",
      "        padding: 0;\n",
      "        font-family: \"Open Sans\", \"Helvetica Neue\", Helvetica, Arial, sans-serif;\n",
      "        \n",
      "    }\n",
      "    div {\n",
      "        width: 600px;\n",
      "        margin: 5em auto;\n",
      "        padding: 50px;\n",
      "        background-color: #fff;\n",
      "        border-radius: 1em;\n",
      "    }\n",
      "    a:link, a:visited {\n",
      "        color: #38488f;\n",
      "        text-decoration: none;\n",
      "    }\n",
      "    @media (max-width: 700px) {\n",
      "        body {\n",
      "            background-color: #fff;\n",
      "        }\n",
      "        div {\n",
      "            width: auto;\n",
      "            margin: 0 auto;\n",
      "            border-radius: 0;\n",
      "            padding: 1em;\n",
      "        }\n",
      "    }\n",
      "  </style>\n",
      "</head>\n",
      "<body>\n",
      "<div>\n",
      "<h1>\n",
      "    Example Domain\n",
      "   </h1>\n",
      "<p>\n",
      "    This domain is established to be used for illustrative examples in documents. You may use this\n",
      "    domain in examples without prior coordination or asking for permission.\n",
      "   </p>\n",
      "<p>\n",
      "<a href=\"http://www.iana.org/domains/example\">\n",
      "     More information...\n",
      "    </a>\n",
      "</p>\n",
      "</div>\n",
      "</body>\n",
      "</html>\n"
     ]
    }
   ],
   "source": [
    "#Ch3_2_1b\n",
    "from bs4 import BeautifulSoup \n",
    "\n",
    "with open(\"index.html\", \"r\", encoding=\"utf8\") as fp:\n",
    "    soup = BeautifulSoup(fp, \"lxml\")\n",
    "    print(soup)\n"
   ]
  },
  {
   "cell_type": "code",
   "execution_count": 5,
   "metadata": {},
   "outputs": [
    {
     "name": "stdout",
     "output_type": "stream",
     "text": [
      "<html>\n",
      " <head>\n",
      "  <script src=\"/_myweb/hiad/new-inner.js\" type=\"text/javascript\">\n",
      "  </script>\n",
      "  <meta charset=\"utf-8\"/>\n",
      "  <title>\n",
      "   測試的HTML5網頁\n",
      "  </title>\n",
      " </head>\n",
      " <body>\n",
      "  <h3>\n",
      "   從網路取得資料\n",
      "  </h3>\n",
      "  <hr/>\n",
      "  <div>\n",
      "   <p>\n",
      "    使用Requests套件送出HTTP請求\n",
      "   </p>\n",
      "  </div>\n",
      " </body>\n",
      "</html>\n"
     ]
    }
   ],
   "source": [
    "#Ch3_2_2\n",
    "from bs4 import BeautifulSoup\n",
    "\n",
    "with open(\"test.txt\", \"r\", encoding=\"utf8\") as fp:\n",
    "    soup = BeautifulSoup(fp, \"lxml\")\n",
    "    print(soup.prettify())"
   ]
  },
  {
   "cell_type": "code",
   "execution_count": 6,
   "metadata": {},
   "outputs": [
    {
     "name": "stdout",
     "output_type": "stream",
     "text": [
      "寫入檔案test2.txt...\n"
     ]
    }
   ],
   "source": [
    "#Ch3_2_2a\n",
    "import requests\n",
    "from bs4 import BeautifulSoup\n",
    "\n",
    "r = requests.get(\"http://hueyanchen.myweb.hinet.net/test.html\")\n",
    "r.encoding = \"utf-8\"\n",
    "soup = BeautifulSoup(r.text, \"lxml\")\n",
    "\n",
    "fp = open(\"test2.txt\", \"w\", encoding=\"utf8\")\n",
    "fp.write(soup.prettify())\n",
    "print(\"寫入檔案test2.txt...\")\n",
    "fp.close()"
   ]
  },
  {
   "cell_type": "code",
   "execution_count": 7,
   "metadata": {
    "scrolled": true
   },
   "outputs": [
    {
     "name": "stdout",
     "output_type": "stream",
     "text": [
      "<class 'bs4.element.Tag'>\n",
      "div\n",
      "msg\n",
      "['body', 'strikeout']\n",
      "{'id': 'msg', 'class': ['body', 'strikeout']}\n"
     ]
    }
   ],
   "source": [
    "#Ch3_2_3\n",
    "from bs4 import BeautifulSoup \n",
    "\n",
    "html_str = \"<div id='msg' class='body strikeout'>Hello World!</div>\"\n",
    "soup = BeautifulSoup(html_str, \"lxml\")\n",
    "tag = soup.div\n",
    "print(type(tag))     # Tag型態\n",
    "print(tag.name)      # 標籤名稱\n",
    "print(tag[\"id\"])     # 標籤屬性\n",
    "print(tag[\"class\"])  # 多重值屬性的值清單\n",
    "print(tag.attrs)     # 標籤所有屬性值的字典\n",
    "\n"
   ]
  },
  {
   "cell_type": "code",
   "execution_count": 8,
   "metadata": {},
   "outputs": [
    {
     "name": "stdout",
     "output_type": "stream",
     "text": [
      "Hello World!\n",
      "<class 'bs4.element.NavigableString'>\n"
     ]
    }
   ],
   "source": [
    "#Ch3_2_3a\n",
    "from bs4 import BeautifulSoup \n",
    "\n",
    "html_str = \"<div id='msg' class='body strikeout'>Hello World!</div>\"\n",
    "soup = BeautifulSoup(html_str, \"lxml\")\n",
    "tag = soup.div\n",
    "print(tag.string)        # 標籤內容\n",
    "print(type(tag.string))  # NavigableString型別"
   ]
  },
  {
   "cell_type": "code",
   "execution_count": 9,
   "metadata": {},
   "outputs": [
    {
     "name": "stdout",
     "output_type": "stream",
     "text": [
      "None\n",
      "Hello World!  Final Test \n",
      "<class 'str'>\n",
      "Hello World!  Final Test \n",
      "Hello World! - Final Test \n",
      "Hello World!-Final Test\n"
     ]
    }
   ],
   "source": [
    "#Ch3_2_3b\n",
    "from bs4 import BeautifulSoup \n",
    "\n",
    "html_str = \"<div id='msg'>Hello World! <p> Final Test <p></div>\"\n",
    "soup = BeautifulSoup(html_str, \"lxml\")\n",
    "tag = soup.div\n",
    "print(tag.string)        # string屬性\n",
    "print(tag.text)          # text屬性\n",
    "print(type(tag.text)) \n",
    "print(tag.get_text())    # get_text()函數\n",
    "print(tag.get_text(\"-\"))\n",
    "print(tag.get_text(\"-\", strip=True))"
   ]
  },
  {
   "cell_type": "code",
   "execution_count": 10,
   "metadata": {},
   "outputs": [
    {
     "name": "stdout",
     "output_type": "stream",
     "text": [
      "[document]\n",
      "<class 'bs4.BeautifulSoup'>\n"
     ]
    }
   ],
   "source": [
    "#Ch3_2_3c\n",
    "from bs4 import BeautifulSoup \n",
    "\n",
    "html_str = \"<div id='msg'>Hello World!</div>\"\n",
    "soup = BeautifulSoup(html_str, \"lxml\")\n",
    "tag = soup.div\n",
    "print(soup.name)\n",
    "print(type(soup))   # BeautifulSoup型態\n",
    "\n"
   ]
  },
  {
   "cell_type": "code",
   "execution_count": 11,
   "metadata": {},
   "outputs": [
    {
     "name": "stdout",
     "output_type": "stream",
     "text": [
      " 註解文字 \n",
      "<class 'bs4.element.Comment'>\n"
     ]
    }
   ],
   "source": [
    "#Ch3_2_3d\n",
    "from bs4 import BeautifulSoup \n",
    "\n",
    "html_str = \"<p><!-- 註解文字 --></p>\"\n",
    "soup = BeautifulSoup(html_str, \"lxml\")\n",
    "comment = soup.p.string\n",
    "print(comment)\n",
    "print(type(comment))   # Comment型態\n",
    "\n"
   ]
  },
  {
   "cell_type": "code",
   "execution_count": 12,
   "metadata": {},
   "outputs": [
    {
     "name": "stdout",
     "output_type": "stream",
     "text": [
      "<!DOCTYPE html>\n",
      "<html lang=\"big5\">\n",
      "<head>\n",
      "<meta charset=\"utf-8\"/>\n",
      "<title>測試資料擷取的HTML網頁</title>\n",
      "</head>\n",
      "<body>\n",
      "<div class=\"surveys\" id=\"surveys\">\n",
      "<div class=\"survey\" id=\"q1\">\n",
      "<p class=\"question\">\n",
      "<a href=\"http://example.com/q1\">請問你的性別?</a></p>\n",
      "<ul class=\"answer\">\n",
      "<li class=\"response\">男-<span>10</span></li>\n",
      "<li class=\"response selected\">女-<span>20</span></li>\n",
      "</ul>\n",
      "</div>\n",
      "<div class=\"survey\" id=\"q2\">\n",
      "<p class=\"question\">\n",
      "<a href=\"http://example.com/q2\">請問你是否喜歡偵探小說?</a></p>\n",
      "<ul class=\"answer\">\n",
      "<li class=\"response\">喜歡-<span>40</span></li>\n",
      "<li class=\"response selected\">普通-<span>20</span></li>\n",
      "<li class=\"response\">不喜歡-<span>0</span></li>\n",
      "</ul>\n",
      "</div>\n",
      "<div class=\"survey\" id=\"q3\">\n",
      "<p class=\"question\">\n",
      "<a href=\"http://example.com/q3\">請問你是否會程式設計?</a></p>\n",
      "<ul class=\"answer\">\n",
      "<li class=\"response selected\">會-<span>30</span></li>\n",
      "<li class=\"response\">不會-<span>6</span></li>\n",
      "</ul>\n",
      "</div>\n",
      "</div>\n",
      "<div class=\"emails\" id=\"emails\">\n",
      "<div class=\"question\">電子郵件清單資訊: </div>\n",
      "    abc@example.com\n",
      "    <div class=\"survey\" data-custom=\"important\">def@example.com</div>\n",
      "<span class=\"survey\" id=\"email\">ghi@example.com</span></div>\n",
      "</body>\n",
      "</html>\n"
     ]
    }
   ],
   "source": [
    "#Ch3_3_1\n",
    "from bs4 import BeautifulSoup \n",
    "\n",
    "with open(\"Example.html\", \"r\", encoding=\"utf8\") as fp:\n",
    "    soup = BeautifulSoup(fp, \"lxml\")\n",
    "\n",
    "print(soup)"
   ]
  }
 ],
 "metadata": {
  "kernelspec": {
   "display_name": "Python 3",
   "language": "python",
   "name": "python3"
  },
  "language_info": {
   "codemirror_mode": {
    "name": "ipython",
    "version": 3
   },
   "file_extension": ".py",
   "mimetype": "text/x-python",
   "name": "python",
   "nbconvert_exporter": "python",
   "pygments_lexer": "ipython3",
   "version": "3.7.1"
  }
 },
 "nbformat": 4,
 "nbformat_minor": 2
}
