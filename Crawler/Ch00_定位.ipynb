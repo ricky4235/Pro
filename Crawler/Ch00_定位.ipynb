{
 "cells": [
  {
   "cell_type": "markdown",
   "metadata": {},
   "source": [
    "# 如何定位網頁資料\n",
    "https://medium.com/datainpoint/%E5%A6%82%E4%BD%95%E7%8D%B2%E5%8F%96%E8%B3%87%E6%96%99-%E6%93%B7%E5%8F%96%E7%B6%B2%E9%A0%81%E5%85%A7%E5%AE%B9-8d8d4cefe82e\n",
    "\n",
    "定位網頁中特定資料的位址，就像是在地圖上標記一般，我們需要景點或者建築物的位址，<br>\n",
    "可以是詳細地址，亦或者是精準的經緯度。而在網頁中有非常多方法能夠表示出資料位址，<br>\n",
    "常見的像是使用：<br>\n",
    "\n",
    "### •html 的標籤名稱<br>\n",
    "### •html 標籤中給予的 id<br>\n",
    "### •html 標籤中給予的 class<br>\n",
    "### •資料所在的 CSS 選擇器（CSS Selector）<br>\n",
    "### •資料所在的 XPath<br>"
   ]
  },
  {
   "cell_type": "markdown",
   "metadata": {},
   "source": [
    "考量多數資料科學愛好者皆不是網頁工程師背景，<br>\n",
    "透過 Chrome 瀏覽器的外掛來取得資料所在的 CSS 選擇器或者 XPath 是快速入門的好方法，<br>\n",
    "也是本篇文章推薦的做法；對於使用 HTML 標籤名稱、id 與 class 來取得資料所在有興趣的資料科學愛好者，<br>\n",
    "可以另外花時間學習 HTML 與 CSS 的相關知識。<br>"
   ]
  },
  {
   "cell_type": "markdown",
   "metadata": {},
   "source": [
    "# 使用 Selector Gadget\n",
    "1. 點選 Selector Gadget 的外掛圖示 <br>\n",
    "2. 留意 Selector Gadget 的 CSS 選擇器 <br>\n",
    "3. 移動滑鼠到想要定位的元素 <br>\n",
    "4. 在想要定位的評分上面點選左鍵，留意此時的 CSS 選擇器位址定位為 span， <br>\n",
    "網頁上有很多的資料都同時被選擇到（以黃底標記），Clear 後面數字表示有多少個元素被選擇到 <br>\n",
    "5. 接著移動滑鼠點選不要選擇的元素（改以紅底標記），並同時注意 CSS 選擇器位址（.ratingValue span）與 Clear 後面數字（3） <br>\n",
    "6. 繼續移動滑鼠點選不要選擇的元素（改以紅底標記），注意 CSS 選擇器位址（strong span）與 Clear 後面數字（1）， <br>\n",
    "這時表示我們已經成功定義到評分的 CSS 選擇器：strong span <br>\n",
    "7. 要重新選擇別的定位，需要按Clear，或是關掉Selector Gadget，再重開，否則會一直重複第一個選的"
   ]
  },
  {
   "cell_type": "markdown",
   "metadata": {},
   "source": [
    "# 使用 XPath Helper\n",
    "\n",
    "1. 點選 XPath Helper 的外掛圖示 <br>\n",
    "2. 留意 XPath Helper 介面左邊的 XPath 與右邊被定位到的資料 <br>\n",
    "3. 按住 shift 鍵移動滑鼠到想要定位的元素 <br>\n",
    "4. 試著縮減 XPath，從最前面開始刪減，試著刪減到最少，但右方的欄位持續保持我們想要的東西 <br>\n",
    "，最後剩下的就是我們要的XPath (記住:最前面要保留兩個\"//\") <br>\n",
    "5. 小技巧:再按住shift譬如說要選搜尋後的網頁主題和網址，往兩者中間移動，再往右移一點，及可選到包含主題和網址的範圍"
   ]
  },
  {
   "cell_type": "markdown",
   "metadata": {},
   "source": [
    "### Selector Gadget 和 XPath Helper\n",
    "使用改念剛好相反 <br>\n",
    "前者是先選到很多，用再點一次的方式(變紅色)，讓選取範圍變少 <br>\n",
    "後者是先選取單一個，再把前面慢慢刪掉，讓選取範圍變多 <br>\n",
    "\n",
    "另外也可以用輸入路徑的貼回查找， <br>\n",
    "前者輸入完要按enter，後者則會直接顯示"
   ]
  },
  {
   "cell_type": "code",
   "execution_count": null,
   "metadata": {},
   "outputs": [],
   "source": []
  }
 ],
 "metadata": {
  "kernelspec": {
   "display_name": "Python 3",
   "language": "python",
   "name": "python3"
  },
  "language_info": {
   "codemirror_mode": {
    "name": "ipython",
    "version": 3
   },
   "file_extension": ".py",
   "mimetype": "text/x-python",
   "name": "python",
   "nbconvert_exporter": "python",
   "pygments_lexer": "ipython3",
   "version": "3.7.1"
  }
 },
 "nbformat": 4,
 "nbformat_minor": 2
}
