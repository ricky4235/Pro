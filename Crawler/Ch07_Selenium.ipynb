{
 "cells": [
  {
   "cell_type": "markdown",
   "metadata": {},
   "source": [
    "# 使用設定\n",
    "### a. 檢查更新及查看目前的瀏覽器版本\n",
    "1. 在電腦上開啟 Chrome。\n",
    "2. 按一下右上方的「更多」圖示\n",
    "3. 依序按一下 [說明] 下一步 [關於 Google Chrome]。\n",
    "   Google Chrome 標題下方顯示的一連串數字就是目前的版本號碼。當您開啟這個頁面時，Chrome 就會自動檢查更新。\n",
    "   如要安裝可用的更新，請按一下 [重新啟動]。\n",
    "\n",
    "### b. 接著，必須根據您想啟用的瀏覽器、作業系統，下載各自對應的WebDriver，\n",
    "為了避免版本不符的問題，建議下載最新的版本，同時也將瀏覽器更新到最新的版本。\n",
    "\n",
    "載點: firefox: geckodriver:https://github.com/mozilla/geckodriver/releases  <br>\n",
    "      chrome: chromedriver:https://chromedriver.chromium.org/downloads\n",
    "\n",
    "下載之後，你必須\n",
    "\n",
    "(1) 將WebDriver放到你的環境目錄底下，或是\n",
    "\n",
    "(2) 運行時指定driver的路徑。\n",
    "\n",
    "由於執行selenium時，會開啟這個執行檔，因此必須設定好路徑。\n",
    "    \n",
    "### c. 安裝Selenium\n",
    "輸入pip install selenium"
   ]
  },
  {
   "cell_type": "markdown",
   "metadata": {},
   "source": [
    "# 動態網頁\n",
    "動態網頁是指網站會因使用者的互動、時間或各種參數來決定回應的網頁內容。<br>\n",
    "Selenium可以幫助我們爬取動態網頁內容。<br>\n",
    "動態內容是指使用JavaScript程式碼產生的HTML網頁內容，這些網頁在檢視原始碼時，會看不到對應的HTML標籤。<br>\n",
    "所以無法使用BeautifulSoup或lxml來爬取資料。<br>"
   ]
  },
  {
   "cell_type": "markdown",
   "metadata": {},
   "source": [
    "# 關於 Selenium\n",
    "* Selenium原為網頁測試工具，但由於可以直接以程式碼操控瀏覽器的特性，使其成為網路爬蟲必備的工具之一。\n",
    "* 啟用selenium之後，你指定的瀏覽器就會開啟，並依照你所編寫的指令依序執行，所有網頁的操作，\n",
    "* 包含: 輸入帳號、密碼、點選按鈕、滾動頁面、變化視窗等，都可以使用程式碼進行。\n",
    "* 由於是真正的瀏覽器在運作，絕大多數的網站都可以輕鬆的突破，但也因此導致運行速度極慢、占用較高的電腦效能。\n",
    "* 一般還是會先嘗試使用requests獲取網頁原始碼，但如果實在無法突破對方網站伺服器的阻隔時，就可以改用selenium試試看。\n",
    "* 被運用於解決擷取網站資料所碰到的問題，例如面對到需要登入、填寫表單或者點選按鈕後才會顯示出資料的網站。\n",
    "* Python 可以透過 Selenium WebDriver 呼叫瀏覽器驅動程式，再由瀏覽器驅動程式去呼叫瀏覽器。\n",
    "* Selenium WebDriver 對 Google Chrome 與 Mozilla Firefox 兩個主流瀏覽器的支援最好\n",
    "* 為了確保使用上不會碰到問題，建議都使用最新版的瀏覽器、瀏覽器驅動程式與模組。\n",
    "* selenium支援多種程式語言，包含Java、JavaScript、Python等"
   ]
  },
  {
   "cell_type": "markdown",
   "metadata": {},
   "source": [
    "# WebDriver簡介\n",
    "\n",
    "selenium從2.0開始集成了webdriver的API,提供了更簡單,更簡潔的程式設計介面。<br>\n",
    "selenium webdriver的目標是提供一個設計良好的面向物件的API,提供了更好的支援進行web-app測試。<br>\n",
    "從這篇部落格開始,將學習使用如何使用python呼叫webdriver框架對瀏覽器進行一系列的操作"
   ]
  },
  {
   "cell_type": "code",
   "execution_count": 2,
   "metadata": {},
   "outputs": [],
   "source": [
    "from selenium import webdriver\n",
    "\n",
    "driver = webdriver.Chrome()\n",
    "driver.get(\"https://freelancerlife.info/\") #前往這個網址\n",
    "driver.close()"
   ]
  },
  {
   "cell_type": "code",
   "execution_count": 2,
   "metadata": {},
   "outputs": [],
   "source": [
    "#Ch7_3\n",
    "from selenium import webdriver\n",
    "import time\n",
    "\n",
    "driver = webdriver.Chrome(\"./chromedriver\") #chrome(\"驅動程式路徑\"):啟動chrom瀏覽器\n",
    "time.sleep(5)  #暫停五秒後\n",
    "driver.quit()  #關閉瀏覽器"
   ]
  },
  {
   "cell_type": "code",
   "execution_count": 3,
   "metadata": {},
   "outputs": [
    {
     "name": "stdout",
     "output_type": "stream",
     "text": [
      "Example Domain\n",
      "<html><head>\n",
      "    <title>Example Domain</title>\n",
      "\n",
      "    <meta charset=\"utf-8\">\n",
      "    <meta http-equiv=\"Content-type\" content=\"text/html; charset=utf-8\">\n",
      "    <meta name=\"viewport\" content=\"width=device-width, initial-scale=1\">\n",
      "    <style type=\"text/css\">\n",
      "    body {\n",
      "        background-color: #f0f0f2;\n",
      "        margin: 0;\n",
      "        padding: 0;\n",
      "        font-family: \"Open Sans\", \"Helvetica Neue\", Helvetica, Arial, sans-serif;\n",
      "        \n",
      "    }\n",
      "    div {\n",
      "        width: 600px;\n",
      "        margin: 5em auto;\n",
      "        padding: 50px;\n",
      "        background-color: #fff;\n",
      "        border-radius: 1em;\n",
      "    }\n",
      "    a:link, a:visited {\n",
      "        color: #38488f;\n",
      "        text-decoration: none;\n",
      "    }\n",
      "    @media (max-width: 700px) {\n",
      "        body {\n",
      "            background-color: #fff;\n",
      "        }\n",
      "        div {\n",
      "            width: auto;\n",
      "            margin: 0 auto;\n",
      "            border-radius: 0;\n",
      "            padding: 1em;\n",
      "        }\n",
      "    }\n",
      "    </style>    \n",
      "</head>\n",
      "\n",
      "<body>\n",
      "<div>\n",
      "    <h1>Example Domain</h1>\n",
      "    <p>This domain is established to be used for illustrative examples in documents. You may use this\n",
      "    domain in examples without prior coordination or asking for permission.</p>\n",
      "    <p><a href=\"http://www.iana.org/domains/example\">More information...</a></p>\n",
      "</div>\n",
      "\n",
      "\n",
      "</body></html>\n"
     ]
    }
   ],
   "source": [
    "#Ch7_3a\n",
    "from selenium import webdriver\n",
    "\n",
    "driver = webdriver.Chrome(\"./chromedriver\")  \n",
    "driver.implicitly_wait(10)   #隱含等待十秒，以便等待瀏覽器成功載入\n",
    "driver.get(\"http://example.com\") #取得該網站的原始碼\n",
    "print(driver.title)\n",
    "html = driver.page_source\n",
    "print(html)\n",
    "driver.quit()"
   ]
  },
  {
   "cell_type": "code",
   "execution_count": 7,
   "metadata": {},
   "outputs": [
    {
     "name": "stdout",
     "output_type": "stream",
     "text": [
      "Example Domain\n",
      "寫入檔案index.html...\n"
     ]
    }
   ],
   "source": [
    "#Ch7_3b : 剖析儲存成HTML網頁檔案\n",
    "\n",
    "from selenium import webdriver\n",
    "from bs4 import BeautifulSoup\n",
    "\n",
    "driver = webdriver.Chrome(\"./chromedriver\")\n",
    "driver.implicitly_wait(10)\n",
    "driver.get(\"http://example.com\")\n",
    "print(driver.title)\n",
    "\n",
    "soup = BeautifulSoup(driver.page_source, \"lxml\") #剖析網站\n",
    "fp = open(\"index.html\", \"w\", encoding=\"utf8\") #存成檔案\n",
    "fp.write(soup.prettify())\n",
    "print(\"寫入檔案index.html...\")\n",
    "fp.close()\n",
    "driver.quit()"
   ]
  },
  {
   "cell_type": "code",
   "execution_count": 8,
   "metadata": {},
   "outputs": [
    {
     "name": "stdout",
     "output_type": "stream",
     "text": [
      "Example Domain\n",
      "This domain is established to be used for illustrative examples in documents. You may use this domain in examples without prior coordination or asking for permission.\n"
     ]
    }
   ],
   "source": [
    "#Ch7_3c : 使用Selenium定位網頁資料\n",
    "\n",
    "from selenium import webdriver\n",
    "\n",
    "driver = webdriver.Chrome(\"./chromedriver\")\n",
    "driver.implicitly_wait(10)\n",
    "driver.get(\"http://example.com\")\n",
    "\n",
    "# 使用Selenium的定位函數\n",
    "h1 = driver.find_element_by_tag_name(\"h1\")\n",
    "print(h1.text)\n",
    "p = driver.find_element_by_tag_name(\"p\")\n",
    "print(p.text)\n",
    "driver.quit()"
   ]
  },
  {
   "cell_type": "code",
   "execution_count": 7,
   "metadata": {
    "scrolled": false
   },
   "outputs": [
    {
     "name": "stdout",
     "output_type": "stream",
     "text": [
      "Example Domain\n",
      "This domain is established to be used for illustrative examples in documents. You may use this\n",
      "    domain in examples without prior coordination or asking for permission.\n"
     ]
    }
   ],
   "source": [
    "#Ch7_3d : 使用Beautiful Soup定位HTML網頁\n",
    "#雖然動態網頁不能直接用 BS，但可以先透過Selenium取得HTML後，搭配 BS來剖析和擷取資料\n",
    "\n",
    "from selenium import webdriver\n",
    "from bs4 import BeautifulSoup\n",
    "\n",
    "driver = webdriver.Chrome(\"./chromedriver\")\n",
    "driver.implicitly_wait(10)\n",
    "driver.get(\"http://example.com\")\n",
    "\n",
    "# 使用Beautiful Soup剖析HTML網頁\n",
    "soup = BeautifulSoup(driver.page_source, \"lxml\")\n",
    "tag_h1 = soup.find(\"h1\") \n",
    "print(tag_h1.string)\n",
    "tag_p = soup.find(\"p\") \n",
    "print(tag_p.string)\n",
    "driver.quit()"
   ]
  },
  {
   "cell_type": "markdown",
   "metadata": {},
   "source": [
    "# Selenium 網頁資料定位函數\n",
    "find_element_by_??( ) : 取回符合的第一筆<br>\n",
    "find_elements_by_??( ) : 取回符合的所有筆"
   ]
  },
  {
   "cell_type": "code",
   "execution_count": 3,
   "metadata": {},
   "outputs": [
    {
     "ename": "AttributeError",
     "evalue": "'NoneType' object has no attribute 'tag_name'",
     "output_type": "error",
     "traceback": [
      "\u001b[1;31m---------------------------------------------------------------------------\u001b[0m",
      "\u001b[1;31mAttributeError\u001b[0m                            Traceback (most recent call last)",
      "\u001b[1;32m<ipython-input-3-6a42db33c6e6>\u001b[0m in \u001b[0;36m<module>\u001b[1;34m\u001b[0m\n\u001b[0;32m      8\u001b[0m \u001b[0mdriver\u001b[0m\u001b[1;33m.\u001b[0m\u001b[0mget\u001b[0m\u001b[1;33m(\u001b[0m\u001b[0mhtml_path\u001b[0m\u001b[1;33m)\u001b[0m\u001b[1;33m\u001b[0m\u001b[1;33m\u001b[0m\u001b[0m\n\u001b[0;32m      9\u001b[0m \u001b[0mform\u001b[0m \u001b[1;33m=\u001b[0m \u001b[0mdriver\u001b[0m\u001b[1;33m.\u001b[0m\u001b[0mfind_element_by_id\u001b[0m\u001b[1;33m(\u001b[0m\u001b[1;34m\"loginForm\"\u001b[0m\u001b[1;33m)\u001b[0m\u001b[1;33m\u001b[0m\u001b[1;33m\u001b[0m\u001b[0m\n\u001b[1;32m---> 10\u001b[1;33m \u001b[0mprint\u001b[0m\u001b[1;33m(\u001b[0m\u001b[0mform\u001b[0m\u001b[1;33m.\u001b[0m\u001b[0mtag_name\u001b[0m\u001b[1;33m)\u001b[0m\u001b[1;33m\u001b[0m\u001b[1;33m\u001b[0m\u001b[0m\n\u001b[0m\u001b[0;32m     11\u001b[0m \u001b[0mprint\u001b[0m\u001b[1;33m(\u001b[0m\u001b[0mform\u001b[0m\u001b[1;33m.\u001b[0m\u001b[0mget_attribute\u001b[0m\u001b[1;33m(\u001b[0m\u001b[1;34m\"id\"\u001b[0m\u001b[1;33m)\u001b[0m\u001b[1;33m)\u001b[0m\u001b[1;33m\u001b[0m\u001b[1;33m\u001b[0m\u001b[0m\n\u001b[0;32m     12\u001b[0m \u001b[0mdriver\u001b[0m\u001b[1;33m.\u001b[0m\u001b[0mquit\u001b[0m\u001b[1;33m(\u001b[0m\u001b[1;33m)\u001b[0m\u001b[1;33m\u001b[0m\u001b[1;33m\u001b[0m\u001b[0m\n",
      "\u001b[1;31mAttributeError\u001b[0m: 'NoneType' object has no attribute 'tag_name'"
     ]
    }
   ],
   "source": [
    "#Ch7_4_2\n",
    "from selenium import webdriver\n",
    "import os  #為處理作業系統相關及目錄路徑的模組 (module)\n",
    "\n",
    "driver = webdriver.Chrome(\"./chromedriver\")\n",
    "html_path = \"file:///\" +os.path.abspath(\"Ch7_4.html\")   #os.path.abspath()返回絕對路徑\n",
    "driver.implicitly_wait(10)\n",
    "driver.get(html_path)\n",
    "form = driver.find_element_by_id(\"loginForm\")\n",
    "print(form.tag_name)\n",
    "print(form.get_attribute(\"id\"))\n",
    "driver.quit()"
   ]
  },
  {
   "cell_type": "code",
   "execution_count": 12,
   "metadata": {},
   "outputs": [
    {
     "name": "stdout",
     "output_type": "stream",
     "text": [
      "input\n",
      "text\n",
      "submit\n",
      "button\n"
     ]
    }
   ],
   "source": [
    "#Ch7_4_2a\n",
    "from selenium import webdriver\n",
    "import os\n",
    "\n",
    "driver = webdriver.Chrome(\"./chromedriver\")\n",
    "html_path = \"file:///\" +os.path.abspath(\"Ch7_4.html\")\n",
    "driver.implicitly_wait(10)\n",
    "driver.get(html_path)\n",
    "user = driver.find_element_by_name(\"username\")\n",
    "print(user.tag_name)\n",
    "print(user.get_attribute(\"type\"))\n",
    "eles = driver.find_elements_by_name(\"continue\")\n",
    "for ele in eles:\n",
    "    print(ele.get_attribute(\"type\"))\n",
    "driver.quit()"
   ]
  },
  {
   "cell_type": "code",
   "execution_count": 13,
   "metadata": {},
   "outputs": [
    {
     "name": "stdout",
     "output_type": "stream",
     "text": [
      "form\n",
      "form\n",
      "form\n",
      "text\n",
      "text\n",
      "text\n",
      "button\n",
      "button\n"
     ]
    }
   ],
   "source": [
    "#Ch7_4_2b : 使用xpath定位\n",
    "from selenium import webdriver\n",
    "import os\n",
    "\n",
    "driver = webdriver.Chrome(\"./chromedriver\")\n",
    "html_path = \"file:///\" +os.path.abspath(\"Ch7_4.html\")\n",
    "driver.implicitly_wait(10)\n",
    "driver.get(html_path)\n",
    "# 定位<form>標籤\n",
    "form1 = driver.find_element_by_xpath(\"/html/body/form[1]\")\n",
    "print(form1.tag_name)\n",
    "form2 = driver.find_element_by_xpath(\"//form[1]\")\n",
    "print(form2.tag_name)\n",
    "form3 = driver.find_element_by_xpath(\"//form[@id='loginForm']\")\n",
    "print(form3.tag_name)\n",
    "# 定位密碼欄位\n",
    "pwd1 = driver.find_element_by_xpath(\"//form/input[2][@name='password']\")\n",
    "print(pwd1.get_attribute(\"type\"))\n",
    "pwd2 = driver.find_element_by_xpath(\"//form[@id='loginForm']/input[2]\")\n",
    "print(pwd2.get_attribute(\"type\"))\n",
    "pwd3 = driver.find_element_by_xpath(\"//input[@name='password']\")\n",
    "print(pwd3.get_attribute(\"type\"))\n",
    "# 定位清除按鈕\n",
    "clear1 = driver.find_element_by_xpath(\"//input[@name='continue'][@type='button']\")\n",
    "print(clear1.get_attribute(\"type\"))\n",
    "clear2 = driver.find_element_by_xpath(\"//form[@id='loginForm']/input[4]\")\n",
    "print(clear2.get_attribute(\"type\"))\n",
    "driver.quit()"
   ]
  },
  {
   "cell_type": "code",
   "execution_count": 14,
   "metadata": {},
   "outputs": [
    {
     "name": "stdout",
     "output_type": "stream",
     "text": [
      "Continue\n",
      "Continue\n",
      "取消\n",
      "取消\n"
     ]
    }
   ],
   "source": [
    "#Ch7_4_2c : 使用超連結文字定位\n",
    "from selenium import webdriver\n",
    "import os\n",
    "\n",
    "driver = webdriver.Chrome(\"./chromedriver\")\n",
    "html_path = \"file:///\" +os.path.abspath(\"Ch7_4.html\")\n",
    "driver.implicitly_wait(10)\n",
    "driver.get(html_path)\n",
    "link1 = driver.find_element_by_link_text('Continue')\n",
    "print(link1.text)\n",
    "link2 = driver.find_element_by_partial_link_text('Conti')\n",
    "print(link2.text)\n",
    "link3 = driver.find_element_by_link_text('取消')\n",
    "print(link3.text)\n",
    "link4 = driver.find_element_by_partial_link_text('取')\n",
    "print(link4.text)\n",
    "driver.quit()"
   ]
  },
  {
   "cell_type": "code",
   "execution_count": 15,
   "metadata": {},
   "outputs": [
    {
     "name": "stdout",
     "output_type": "stream",
     "text": [
      "請輸入名稱和密碼登入網站...\n",
      "確認執行登入操作?\n"
     ]
    }
   ],
   "source": [
    "#Ch7_4_2d \n",
    "from selenium import webdriver\n",
    "import os\n",
    "\n",
    "driver = webdriver.Chrome(\"./chromedriver\")\n",
    "html_path = \"file:///\" +os.path.abspath(\"Ch7_4.html\")\n",
    "driver.implicitly_wait(10)\n",
    "driver.get(html_path)\n",
    "h3 = driver.find_element_by_tag_name(\"h3\")\n",
    "print(h3.text)\n",
    "p = driver.find_element_by_tag_name(\"p\")\n",
    "print(p.text)\n",
    "driver.quit()"
   ]
  },
  {
   "cell_type": "code",
   "execution_count": 16,
   "metadata": {},
   "outputs": [
    {
     "name": "stdout",
     "output_type": "stream",
     "text": [
      "請輸入名稱和密碼登入網站...\n"
     ]
    }
   ],
   "source": [
    "#Ch7_4_2e :使用class屬性定位\n",
    "from selenium import webdriver\n",
    "import os\n",
    "\n",
    "driver = webdriver.Chrome(\"./chromedriver\")\n",
    "html_path = \"file:///\" +os.path.abspath(\"Ch7_4.html\")\n",
    "driver.implicitly_wait(10)\n",
    "driver.get(html_path)\n",
    "content = driver.find_element_by_class_name(\"content\")\n",
    "print(content.text)\n",
    "driver.quit()"
   ]
  },
  {
   "cell_type": "code",
   "execution_count": 17,
   "metadata": {},
   "outputs": [
    {
     "name": "stdout",
     "output_type": "stream",
     "text": [
      "請輸入名稱和密碼登入網站...\n",
      "確認執行登入操作?\n"
     ]
    }
   ],
   "source": [
    "#Ch7_4_2f :使用CSS選擇器定位\n",
    "from selenium import webdriver\n",
    "import os\n",
    "\n",
    "driver = webdriver.Chrome(\"./chromedriver\")\n",
    "html_path = \"file:///\" +os.path.abspath(\"Ch7_4.html\")\n",
    "driver.implicitly_wait(10)\n",
    "driver.get(html_path)\n",
    "content = driver.find_element_by_css_selector(\"h3.content\")\n",
    "print(content.text)\n",
    "p = driver.find_element_by_css_selector(\"p\")\n",
    "print(p.text)\n",
    "driver.quit()"
   ]
  },
  {
   "cell_type": "code",
   "execution_count": 1,
   "metadata": {
    "scrolled": true
   },
   "outputs": [
    {
     "ename": "AttributeError",
     "evalue": "'NoneType' object has no attribute 'text'",
     "output_type": "error",
     "traceback": [
      "\u001b[1;31m---------------------------------------------------------------------------\u001b[0m",
      "\u001b[1;31mAttributeError\u001b[0m                            Traceback (most recent call last)",
      "\u001b[1;32m<ipython-input-1-60626bb77c76>\u001b[0m in \u001b[0;36m<module>\u001b[1;34m\u001b[0m\n\u001b[0;32m     11\u001b[0m \u001b[1;32mtry\u001b[0m\u001b[1;33m:\u001b[0m\u001b[1;33m\u001b[0m\u001b[1;33m\u001b[0m\u001b[0m\n\u001b[0;32m     12\u001b[0m     \u001b[0mcontent\u001b[0m \u001b[1;33m=\u001b[0m \u001b[0mdriver\u001b[0m\u001b[1;33m.\u001b[0m\u001b[0mfind_element_by_css_selector\u001b[0m\u001b[1;33m(\u001b[0m\u001b[1;34m\"h2.content\"\u001b[0m\u001b[1;33m)\u001b[0m\u001b[1;33m\u001b[0m\u001b[1;33m\u001b[0m\u001b[0m\n\u001b[1;32m---> 13\u001b[1;33m     \u001b[0mprint\u001b[0m\u001b[1;33m(\u001b[0m\u001b[0mcontent\u001b[0m\u001b[1;33m.\u001b[0m\u001b[0mtext\u001b[0m\u001b[1;33m)\u001b[0m\u001b[1;33m\u001b[0m\u001b[1;33m\u001b[0m\u001b[0m\n\u001b[0m\u001b[0;32m     14\u001b[0m \u001b[1;32mexcept\u001b[0m \u001b[0mNoSuchElementException\u001b[0m\u001b[1;33m:\u001b[0m\u001b[1;33m\u001b[0m\u001b[1;33m\u001b[0m\u001b[0m\n\u001b[0;32m     15\u001b[0m     \u001b[0mprint\u001b[0m\u001b[1;33m(\u001b[0m\u001b[1;34m\"選取的元素不存在...\"\u001b[0m\u001b[1;33m)\u001b[0m\u001b[1;33m\u001b[0m\u001b[1;33m\u001b[0m\u001b[0m\n",
      "\u001b[1;31mAttributeError\u001b[0m: 'NoneType' object has no attribute 'text'"
     ]
    }
   ],
   "source": [
    "#Ch7_4_3 : 元素不存在的例外處理\n",
    "\n",
    "from selenium import webdriver\n",
    "from selenium.common.exceptions import NoSuchElementException\n",
    "import os\n",
    "\n",
    "driver = webdriver.Chrome(\"./chromedriver\")\n",
    "html_path = \"file:///\" +os.path.abspath(\"Ch7_4.html\")\n",
    "driver.implicitly_wait(10)\n",
    "driver.get(html_path)\n",
    "try:\n",
    "    content = driver.find_element_by_css_selector(\"h2.content\")\n",
    "    print(content.text)\n",
    "except NoSuchElementException:\n",
    "    print(\"選取的元素不存在...\")\n",
    "driver.quit()"
   ]
  },
  {
   "cell_type": "markdown",
   "metadata": {},
   "source": [
    "# 與HTML表單進行互動\n",
    "使用程式碼來模擬使用者與網站進行互動的過程"
   ]
  },
  {
   "cell_type": "markdown",
   "metadata": {},
   "source": [
    "### Keys - 鍵盤操作\n",
    "\n",
    "提供了比較完整的鍵盤操作，在使用的模擬鍵盤操作之前需要我們導入<br>\n",
    "from selenium.webdriver.common.keys import Keys即可，<br>\n",
    "然後就可以來模擬鍵盤操作。<br>\n",
    "\n",
    "send_keys(Keys.CONTROL,‘a‘) 　　#全選（Ctrl+A）<br>\n",
    "\n",
    "send_keys(Keys.CONTROL,‘c‘) 　　#復制（Ctrl+C）<br>\n",
    "\n",
    "send_keys(Keys.CONTROL,‘x‘) 　　#剪切（Ctrl+X）<br>\n",
    "\n",
    "send_keys(Keys.CONTROL,‘v‘) 　　#粘貼（Ctrl+V）<br>\n",
    "\n",
    "回車鍵 Keys.ENTER<br>\n",
    "刪除鍵 Keys.BACK_SPACE<br>\n",
    "空格鍵 Keys.SPACE<br>\n",
    "制表鍵 Keys.TAB<br>\n",
    "回退鍵 Keys.ESCAPE<br>\n",
    "刷新鍵 Keys.F5<br>"
   ]
  },
  {
   "cell_type": "code",
   "execution_count": 43,
   "metadata": {},
   "outputs": [
    {
     "name": "stdout",
     "output_type": "stream",
     "text": [
      "XPath - 維基百科，自由的百科全書 - Wikipedia\n",
      "https://zh.wikipedia.org/zh-tw/XPath\n",
      "XPath - 維基百科，自由的百科全書 - Wikipedia\n",
      "https://zh.wikipedia.org/zh-tw/XPath\n",
      "什麼是XPath - 菜鳥工程師肉豬\n",
      "https://matthung0807.blogspot.com/2017/12/xpath.html\n",
      "Nightwatch101 #6：使用Xpath 定位網頁元素| Summer。桑莫 ...\n",
      "https://cythilya.github.io/2017/12/16/nightwatch-xpath/\n",
      "XPath Syntax - W3Schools\n",
      "https://www.w3schools.com/xml/xpath_syntax.asp\n",
      "XPath Tutorial - W3Schools\n",
      "https://www.w3schools.com/xml/xpath_intro.asp\n",
      "XPath 语法 - w3school 在线教程\n",
      "http://www.w3school.com.cn/xpath/xpath_syntax.asp\n",
      "Nightwatch101 #6：使用Xpath 定位網頁元素- iT 邦幫忙::一起 ...\n",
      "https://ithelp.ithome.com.tw/articles/10191811\n",
      "[料理佳餚] XPath 常用的範例| 軟體主廚的程式料理廚房- 點部落\n",
      "https://dotblogs.com.tw/supershowwei/2018/09/03/145254\n",
      "XPath 教程| 菜鸟教程\n",
      "http://www.runoob.com/xpath/xpath-tutorial.html\n",
      "XPathNavigator.Select Method (System.Xml.XPath) | Microsoft ...\n",
      "https://docs.microsoft.com/zh-tw/dotnet/api/system.xml.xpath.xpathnavigator.select\n"
     ]
    }
   ],
   "source": [
    "#Ch7_5_1 : 與Google搜尋表單進行互動\n",
    "\n",
    "from selenium import webdriver\n",
    "from selenium.webdriver.common.keys import Keys  #導入鍵盤操作模組\n",
    "\n",
    "driver = webdriver.Chrome(\"./chromedriver\")\n",
    "driver.implicitly_wait(10)\n",
    "url = \"https://www.google.com\"\n",
    "driver.get(url)\n",
    "\n",
    "\n",
    "keyword = driver.find_element_by_css_selector(\"input.gLFyf.gsfi\")  #利用css_selector定位到網頁的搜尋欄\n",
    "keyword.send_keys(\"XPath\")     #在搜尋欄輸入\"XPath\"\n",
    "#鍵盤操作\n",
    "keyword.send_keys(Keys.ENTER); #輸入完按 ENTER\n",
    "\n",
    "items = driver.find_elements_by_xpath(\"//div[@class='r']\")\n",
    "\n",
    "for item in items:\n",
    "    h3 = item.find_element_by_tag_name(\"h3\")\n",
    "    print(h3.text)\n",
    "    a = item.find_element_by_tag_name(\"a\")   \n",
    "    print(a.get_attribute(\"href\"))\n",
    "    \n",
    "driver.quit()"
   ]
  },
  {
   "cell_type": "code",
   "execution_count": 45,
   "metadata": {},
   "outputs": [
    {
     "name": "stdout",
     "output_type": "stream",
     "text": [
      "XPath - 維基百科，自由的百科全書 - Wikipedia\n",
      "https://zh.wikipedia.org/zh-tw/XPath\n",
      "XPath - 維基百科，自由的百科全書 - Wikipedia\n",
      "https://zh.wikipedia.org/zh-tw/XPath\n",
      "什麼是XPath - 菜鳥工程師肉豬\n",
      "https://matthung0807.blogspot.com/2017/12/xpath.html\n",
      "Nightwatch101 #6：使用Xpath 定位網頁元素| Summer。桑莫 ...\n",
      "https://cythilya.github.io/2017/12/16/nightwatch-xpath/\n",
      "XPath Syntax - W3Schools\n",
      "https://www.w3schools.com/xml/xpath_syntax.asp\n",
      "XPath Tutorial - W3Schools\n",
      "https://www.w3schools.com/xml/xpath_intro.asp\n",
      "XPath 语法 - w3school 在线教程\n",
      "http://www.w3school.com.cn/xpath/xpath_syntax.asp\n",
      "Nightwatch101 #6：使用Xpath 定位網頁元素- iT 邦幫忙::一起 ...\n",
      "https://ithelp.ithome.com.tw/articles/10191811\n",
      "[料理佳餚] XPath 常用的範例| 軟體主廚的程式料理廚房- 點部落\n",
      "https://dotblogs.com.tw/supershowwei/2018/09/03/145254\n",
      "XPath 教程| 菜鸟教程\n",
      "http://www.runoob.com/xpath/xpath-tutorial.html\n",
      "XPathNavigator.Select Method (System.Xml.XPath) | Microsoft ...\n",
      "https://docs.microsoft.com/zh-tw/dotnet/api/system.xml.xpath.xpathnavigator.select\n"
     ]
    }
   ],
   "source": [
    "#Ch7_5_1a : \n",
    "from selenium import webdriver\n",
    "\n",
    "driver = webdriver.Chrome(\"./chromedriver\")\n",
    "driver.implicitly_wait(10)\n",
    "url = \"https://www.google.com\"\n",
    "driver.get(url)\n",
    "\n",
    "keyword = driver.find_element_by_css_selector(\"input.gLFyf.gsfi\")\n",
    "keyword.send_keys(\"XPath\")\n",
    "button = driver.find_element_by_css_selector(\"input[type='submit']\")  #定位到\"搜尋\"鍵\n",
    "button.click()  #點選\"搜尋\"鍵\n",
    "\n",
    "items = driver.find_elements_by_xpath(\"//div[@class='r']\")\n",
    "\n",
    "for item in items:\n",
    "    h3 = item.find_element_by_tag_name(\"h3\")\n",
    "    print(h3.text)\n",
    "    a = item.find_element_by_tag_name(\"a\")   \n",
    "    print(a.get_attribute(\"href\"))\n",
    "    \n",
    "driver.quit()"
   ]
  },
  {
   "cell_type": "code",
   "execution_count": 41,
   "metadata": {},
   "outputs": [
    {
     "name": "stdout",
     "output_type": "stream",
     "text": [
      "Blog\n",
      "https://github.blog/\n",
      "About\n",
      "https://github.com/about\n",
      "Shop\n",
      "https://shop.github.com/\n",
      "Contact GitHub\n",
      "https://github.com/contact\n",
      "Pricing\n",
      "https://github.com/pricing\n",
      "API\n",
      "https://developer.github.com/\n",
      "Training\n",
      "https://training.github.com/\n",
      "Status\n",
      "https://githubstatus.com/\n",
      "Security\n",
      "https://help.github.com/articles/github-security/\n",
      "Terms\n",
      "https://github.com/site/terms\n",
      "Privacy\n",
      "https://github.com/site/privacy\n",
      "Help\n",
      "https://help.github.com/\n"
     ]
    }
   ],
   "source": [
    "#Ch7_5_2 :登入GitHub\n",
    "\n",
    "from selenium import webdriver\n",
    "\n",
    "driver = webdriver.Chrome(\"./chromedriver\")\n",
    "driver.implicitly_wait(10)\n",
    "url = \"https://github.com/login\"\n",
    "driver.get(url)\n",
    "\n",
    "username = \"ricky1229x@gmail.com\"\n",
    "password = \"rw423577\"\n",
    "user = driver.find_element_by_css_selector(\"#login_field\")  #定位\"Username or email address\"輸入區\n",
    "user.send_keys(username)   #將前面輸入的帳號send出\n",
    "pwd = driver.find_element_by_css_selector(\"#password\")      #定位\"Password\"輸入區\n",
    "pwd.send_keys(password)    #將前面輸入的密碼send出\n",
    "button = driver.find_element_by_css_selector(\"input.btn.btn-primary.btn-block\")  #定位\"sign in\"鍵\n",
    "button.click()             #點擊\"sign in\"鍵\n",
    "\n",
    "items = driver.find_elements_by_xpath(\"//a[@class='link-gray']\")  #定位網站最下方的資訊連結\n",
    "\n",
    "for item in items:\n",
    "    print(item.text)\n",
    "    print(item.get_attribute(\"href\"))\n",
    "    \n",
    "driver.quit()"
   ]
  },
  {
   "cell_type": "markdown",
   "metadata": {},
   "source": [
    "### ActionChains(動作鏈) - 滑鼠操作\n",
    "https://huilansame.github.io/huilansame.github.io/archivers/mouse-and-keyboard-actionchains\n",
    "\n",
    "提供了許多滑鼠操作的方法,這些操作方法都封裝在ActionChains類中,包括滑鼠右擊、雙擊、懸停和滑鼠拖動等功能<br>\n",
    "from selenium.webdriver.common.action_chains import ActionChains<br>\n",
    "當你調用ActionChains的方法時，不會立即執行，而是會將所有的操作按順序存放在一個隊列裡，<br>\n",
    "當你調用perform()方法時，隊列中的時間會依次執行。<br>\n",
    "\n",
    "context_click():點選滑鼠右鍵<br>\n",
    "\n",
    "double_click():雙擊滑鼠<br>\n",
    "\n",
    "drag_and_drop():拖動滑鼠<br>\n",
    "\n",
    "move_to_element():滑鼠懸停<br>"
   ]
  },
  {
   "cell_type": "code",
   "execution_count": 47,
   "metadata": {},
   "outputs": [],
   "source": [
    "#Ch7_5_3 : 滑鼠操作 - 分步寫法\n",
    "from selenium import webdriver\n",
    "from selenium.webdriver.common.action_chains import ActionChains  #導入鍵盤操作模組\n",
    "import time\n",
    "\n",
    "driver = webdriver.Chrome(\"./chromedriver\")\n",
    "driver.implicitly_wait(10)\n",
    "url = \"https://www.python.org/\"\n",
    "driver.get(url)\n",
    "\n",
    "menu = driver.find_element_by_css_selector(\"#about\")   #定位到\"about\"\n",
    "item = driver.find_element_by_css_selector(\"#about>ul>li.tier-2.element-1\")   #定位到\"about\"之下的\"applications\"\n",
    "\n",
    "#滑鼠操作 - 分步寫法\n",
    "actions = ActionChains(driver) \n",
    "actions.move_to_element(menu)  #滑鼠懸停在\"about\"，下拉式選單即會出現\n",
    "actions.click(item)            #點擊\"applications\"\n",
    "actions.perform()              #調用ActionChains的方法時，不會立即執行，使用perform()方法時，才會依次執行\n",
    "time.sleep(5)  #暫停五秒後\n",
    "driver.quit()  #關閉瀏覽器"
   ]
  },
  {
   "cell_type": "code",
   "execution_count": 48,
   "metadata": {},
   "outputs": [],
   "source": [
    "#Ch7_5_3a : 滑鼠操作 - 鏈式寫法\n",
    "from selenium import webdriver\n",
    "from selenium.webdriver.common.action_chains import ActionChains\n",
    "import time\n",
    "\n",
    "driver = webdriver.Chrome(\"./chromedriver\")\n",
    "driver.implicitly_wait(10)\n",
    "url = \"https://www.python.org/\"\n",
    "driver.get(url)\n",
    "\n",
    "menu = driver.find_element_by_css_selector(\"#about\")\n",
    "item = driver.find_element_by_css_selector(\"#about>ul>li.tier-2.element-1\")\n",
    "\n",
    "#滑鼠操作 - 鏈式寫法\n",
    "ActionChains(driver).move_to_element(menu).click(item).perform()                                              \n",
    "\n",
    "time.sleep(5)\n",
    "driver.quit()"
   ]
  },
  {
   "cell_type": "code",
   "execution_count": 51,
   "metadata": {},
   "outputs": [
    {
     "name": "stdout",
     "output_type": "stream",
     "text": [
      "探索課程 - Hahow 好學校\n",
      "寫入檔案hahow.html...\n"
     ]
    }
   ],
   "source": [
    "#Ch7_6_1 : 寫入檔案\n",
    "\n",
    "from selenium import webdriver\n",
    "from bs4 import BeautifulSoup\n",
    "\n",
    "driver = webdriver.Chrome(\"./chromedriver\")\n",
    "driver.implicitly_wait(10)\n",
    "driver.get(\"https://hahow.in/courses\")\n",
    "print(driver.title)\n",
    "\n",
    "soup = BeautifulSoup(driver.page_source, \"lxml\")\n",
    "fp = open(\"hahow.html\", \"w\", encoding=\"utf8\")\n",
    "fp.write(soup.prettify())   #prettify()將soup這個物件美化，soup就是的html_doc解析的結果\n",
    "print(\"寫入檔案hahow.html...\")\n",
    "\n",
    "fp.close()\n",
    "driver.quit()"
   ]
  },
  {
   "cell_type": "code",
   "execution_count": 25,
   "metadata": {},
   "outputs": [
    {
     "name": "stdout",
     "output_type": "stream",
     "text": [
      "創作你的療癒香草茶！百種風味搭配邏輯\n",
      "托福口說拿分 4 原則｜發音、表達一把罩\n",
      "LOGO 必修課：發展品牌識別的第一步\n",
      "Excel VBA 金融資料抓取 | 打造股票研究系統\n",
      "Python 工作簿：解決 88 個習題\n",
      "開啟你的 AI 技能 —— 無痛入門 NLP\n",
      "日本求職全攻略，開啟你海外求職第一步\n",
      "3D 列印實戰：產品設計開發與打樣\n",
      "AI 行銷學：用 Python 機器學習創造商業新價值\n",
      "戶外攝影實戰：用鏡頭看見台灣\n",
      "從生活小物到街景，用鋼筆速寫在日子裡旅行\n",
      "illustrator 入門：從形狀到美麗的向量插畫\n",
      "小資族 ETF 狠會賺投資法\n",
      "不用動腦的攝影課-七堂課拍出有質感的照片\n",
      "英雄之旅：自己的故事，別當配角\n",
      "AutoLisp - 紮實入門與實例應用\n",
      "GA 從零上手！數位時代必學的數據行銷秘笈\n",
      "真空烹調在家做，科學方法學舒肥\n",
      "區塊鏈應用敲門磚：行動支付到商業案例\n",
      "開啟程式設計之門 - C++ 核心課程\n",
      "R語言和文字探勘 - 洞悉巨量文字的商業價值\n",
      "網路行銷新手入門，打造品牌電商 (上)\n",
      "職場必備的批判思考力：創意力篇\n",
      "品牌力革命：運動品牌塑造心法\n"
     ]
    }
   ],
   "source": [
    "#Ch7_6_1a : \n",
    "from selenium import webdriver\n",
    "\n",
    "driver = webdriver.Chrome(\"./chromedriver\")\n",
    "driver.implicitly_wait(10)\n",
    "url = \"https://hahow.in/courses\"\n",
    "driver.get(url)\n",
    "\n",
    "items = driver.find_elements_by_css_selector(\"h4.title\")\n",
    "                                            \n",
    "for item in items:\n",
    "    print(item.text)                    \n",
    "\n",
    "driver.quit()"
   ]
  },
  {
   "cell_type": "code",
   "execution_count": 26,
   "metadata": {},
   "outputs": [
    {
     "name": "stdout",
     "output_type": "stream",
     "text": [
      "儲存頁面: 1\n",
      "儲存頁面: 2\n",
      "儲存頁面: 3\n",
      "儲存頁面: 4\n",
      "儲存頁面: 5\n",
      "儲存頁面: 6\n",
      "儲存頁面: 7\n",
      "儲存頁面: 8\n",
      "儲存頁面: 9\n",
      "儲存頁面: 10\n",
      "儲存頁面: 11\n"
     ]
    }
   ],
   "source": [
    "#Ch7_6_2 : 爬取NBA球員數據，並換頁分別匯出csv檔案(使用Pandas)\n",
    "from selenium import webdriver\n",
    "from bs4 import BeautifulSoup\n",
    "import pandas as pd\n",
    "import time\n",
    "\n",
    "driver = webdriver.Chrome(\"./chromedriver\")\n",
    "driver.implicitly_wait(10)\n",
    "driver.get(\"http://stats.nba.com/players/traditional/?sort=PTS&dir=-1\")\n",
    "\n",
    "pages_remaining = True\n",
    "page_num = 1                  #從第一頁起\n",
    "while pages_remaining:\n",
    "    # 使用Beautiful Soup剖析HTML網頁\n",
    "    soup = BeautifulSoup(driver.page_source, \"lxml\")\n",
    "    #確定只有一個內容可以用select_one()，和find()一樣\n",
    "    table = soup.select_one(\"body > main > div.stats-container__inner > div > div.row > div > div > nba-stat-table > div.nba-stat-table > div.nba-stat-table__overflow > table\") \n",
    "    \n",
    "    df = pd.read_html(str(table))\n",
    "    # print(df[0].to_csv())\n",
    "    df[0].to_csv(\"ALL_players_stats\" + str(page_num) + \".csv\")\n",
    "    print(\"儲存頁面:\", page_num)\n",
    "    try:\n",
    "        # 自動按下一頁按鈕\n",
    "        next_link = driver.find_element_by_xpath('/html/body/main/div[2]/div/div[2]/div/div/nba-stat-table/div[3]/div/div/a[2]')\n",
    "        next_link.click()\n",
    "        time.sleep(5)\n",
    "        if page_num < 11:\n",
    "            page_num = page_num + 1\n",
    "        else:\n",
    "            pages_remaining = False\n",
    "    except Exception:\n",
    "        pages_remaining = False  \n",
    "        \n",
    "driver.close()"
   ]
  },
  {
   "cell_type": "code",
   "execution_count": 3,
   "metadata": {},
   "outputs": [
    {
     "ename": "WebDriverException",
     "evalue": "Message: 'PATHTOYOURCHROMEDRIVER' executable needs to be in PATH. Please see https://sites.google.com/a/chromium.org/chromedriver/home\n",
     "output_type": "error",
     "traceback": [
      "\u001b[1;31m---------------------------------------------------------------------------\u001b[0m",
      "\u001b[1;31mFileNotFoundError\u001b[0m                         Traceback (most recent call last)",
      "\u001b[1;32m~\\Anaconda3\\lib\\site-packages\\selenium\\webdriver\\common\\service.py\u001b[0m in \u001b[0;36mstart\u001b[1;34m(self)\u001b[0m\n\u001b[0;32m     75\u001b[0m                                             \u001b[0mstderr\u001b[0m\u001b[1;33m=\u001b[0m\u001b[0mself\u001b[0m\u001b[1;33m.\u001b[0m\u001b[0mlog_file\u001b[0m\u001b[1;33m,\u001b[0m\u001b[1;33m\u001b[0m\u001b[1;33m\u001b[0m\u001b[0m\n\u001b[1;32m---> 76\u001b[1;33m                                             stdin=PIPE)\n\u001b[0m\u001b[0;32m     77\u001b[0m         \u001b[1;32mexcept\u001b[0m \u001b[0mTypeError\u001b[0m\u001b[1;33m:\u001b[0m\u001b[1;33m\u001b[0m\u001b[1;33m\u001b[0m\u001b[0m\n",
      "\u001b[1;32m~\\Anaconda3\\lib\\subprocess.py\u001b[0m in \u001b[0;36m__init__\u001b[1;34m(self, args, bufsize, executable, stdin, stdout, stderr, preexec_fn, close_fds, shell, cwd, env, universal_newlines, startupinfo, creationflags, restore_signals, start_new_session, pass_fds, encoding, errors, text)\u001b[0m\n\u001b[0;32m    768\u001b[0m                                 \u001b[0merrread\u001b[0m\u001b[1;33m,\u001b[0m \u001b[0merrwrite\u001b[0m\u001b[1;33m,\u001b[0m\u001b[1;33m\u001b[0m\u001b[1;33m\u001b[0m\u001b[0m\n\u001b[1;32m--> 769\u001b[1;33m                                 restore_signals, start_new_session)\n\u001b[0m\u001b[0;32m    770\u001b[0m         \u001b[1;32mexcept\u001b[0m\u001b[1;33m:\u001b[0m\u001b[1;33m\u001b[0m\u001b[1;33m\u001b[0m\u001b[0m\n",
      "\u001b[1;32m~\\Anaconda3\\lib\\subprocess.py\u001b[0m in \u001b[0;36m_execute_child\u001b[1;34m(self, args, executable, preexec_fn, close_fds, pass_fds, cwd, env, startupinfo, creationflags, shell, p2cread, p2cwrite, c2pread, c2pwrite, errread, errwrite, unused_restore_signals, unused_start_new_session)\u001b[0m\n\u001b[0;32m   1171\u001b[0m                                          \u001b[0mos\u001b[0m\u001b[1;33m.\u001b[0m\u001b[0mfspath\u001b[0m\u001b[1;33m(\u001b[0m\u001b[0mcwd\u001b[0m\u001b[1;33m)\u001b[0m \u001b[1;32mif\u001b[0m \u001b[0mcwd\u001b[0m \u001b[1;32mis\u001b[0m \u001b[1;32mnot\u001b[0m \u001b[1;32mNone\u001b[0m \u001b[1;32melse\u001b[0m \u001b[1;32mNone\u001b[0m\u001b[1;33m,\u001b[0m\u001b[1;33m\u001b[0m\u001b[1;33m\u001b[0m\u001b[0m\n\u001b[1;32m-> 1172\u001b[1;33m                                          startupinfo)\n\u001b[0m\u001b[0;32m   1173\u001b[0m             \u001b[1;32mfinally\u001b[0m\u001b[1;33m:\u001b[0m\u001b[1;33m\u001b[0m\u001b[1;33m\u001b[0m\u001b[0m\n",
      "\u001b[1;31mFileNotFoundError\u001b[0m: [WinError 2] 系統找不到指定的檔案。",
      "\nDuring handling of the above exception, another exception occurred:\n",
      "\u001b[1;31mWebDriverException\u001b[0m                        Traceback (most recent call last)",
      "\u001b[1;32m<ipython-input-3-ed601ff50b0a>\u001b[0m in \u001b[0;36m<module>\u001b[1;34m\u001b[0m\n\u001b[0;32m     60\u001b[0m     \u001b[1;32mreturn\u001b[0m \u001b[0mmovies\u001b[0m\u001b[1;33m\u001b[0m\u001b[1;33m\u001b[0m\u001b[0m\n\u001b[0;32m     61\u001b[0m \u001b[1;33m\u001b[0m\u001b[0m\n\u001b[1;32m---> 62\u001b[1;33m \u001b[0mget_movies\u001b[0m\u001b[1;33m(\u001b[0m\u001b[1;34m\"Avengers: Endgame\"\u001b[0m\u001b[1;33m,\u001b[0m \u001b[1;34m\"Captain Marvel\"\u001b[0m\u001b[1;33m)\u001b[0m\u001b[1;33m\u001b[0m\u001b[1;33m\u001b[0m\u001b[0m\n\u001b[0m",
      "\u001b[1;32m<ipython-input-3-ed601ff50b0a>\u001b[0m in \u001b[0;36mget_movies\u001b[1;34m(*args)\u001b[0m\n\u001b[0;32m     31\u001b[0m     \u001b[0mimdb_home\u001b[0m \u001b[1;33m=\u001b[0m \u001b[1;34m\"https://www.imdb.com/\"\u001b[0m\u001b[1;33m\u001b[0m\u001b[1;33m\u001b[0m\u001b[0m\n\u001b[0;32m     32\u001b[0m     \u001b[1;31m#driver = webdriver.Firefox(executable_path=\"PATHTOYOURGECKODRIVER\") # Use Firefox\u001b[0m\u001b[1;33m\u001b[0m\u001b[1;33m\u001b[0m\u001b[1;33m\u001b[0m\u001b[0m\n\u001b[1;32m---> 33\u001b[1;33m     \u001b[0mdriver\u001b[0m \u001b[1;33m=\u001b[0m \u001b[0mwebdriver\u001b[0m\u001b[1;33m.\u001b[0m\u001b[0mChrome\u001b[0m\u001b[1;33m(\u001b[0m\u001b[0mexecutable_path\u001b[0m\u001b[1;33m=\u001b[0m\u001b[1;34m\"PATHTOYOURCHROMEDRIVER\"\u001b[0m\u001b[1;33m)\u001b[0m \u001b[1;31m# Use Chrome\u001b[0m\u001b[1;33m\u001b[0m\u001b[1;33m\u001b[0m\u001b[0m\n\u001b[0m\u001b[0;32m     34\u001b[0m     \u001b[0mmovies\u001b[0m \u001b[1;33m=\u001b[0m \u001b[0mdict\u001b[0m\u001b[1;33m(\u001b[0m\u001b[1;33m)\u001b[0m\u001b[1;33m\u001b[0m\u001b[1;33m\u001b[0m\u001b[0m\n\u001b[0;32m     35\u001b[0m     \u001b[1;32mfor\u001b[0m \u001b[0mmovie_title\u001b[0m \u001b[1;32min\u001b[0m \u001b[0margs\u001b[0m\u001b[1;33m:\u001b[0m\u001b[1;33m\u001b[0m\u001b[1;33m\u001b[0m\u001b[0m\n",
      "\u001b[1;32m~\\Anaconda3\\lib\\site-packages\\selenium\\webdriver\\chrome\\webdriver.py\u001b[0m in \u001b[0;36m__init__\u001b[1;34m(self, executable_path, port, options, service_args, desired_capabilities, service_log_path, chrome_options, keep_alive)\u001b[0m\n\u001b[0;32m     71\u001b[0m             \u001b[0mservice_args\u001b[0m\u001b[1;33m=\u001b[0m\u001b[0mservice_args\u001b[0m\u001b[1;33m,\u001b[0m\u001b[1;33m\u001b[0m\u001b[1;33m\u001b[0m\u001b[0m\n\u001b[0;32m     72\u001b[0m             log_path=service_log_path)\n\u001b[1;32m---> 73\u001b[1;33m         \u001b[0mself\u001b[0m\u001b[1;33m.\u001b[0m\u001b[0mservice\u001b[0m\u001b[1;33m.\u001b[0m\u001b[0mstart\u001b[0m\u001b[1;33m(\u001b[0m\u001b[1;33m)\u001b[0m\u001b[1;33m\u001b[0m\u001b[1;33m\u001b[0m\u001b[0m\n\u001b[0m\u001b[0;32m     74\u001b[0m \u001b[1;33m\u001b[0m\u001b[0m\n\u001b[0;32m     75\u001b[0m         \u001b[1;32mtry\u001b[0m\u001b[1;33m:\u001b[0m\u001b[1;33m\u001b[0m\u001b[1;33m\u001b[0m\u001b[0m\n",
      "\u001b[1;32m~\\Anaconda3\\lib\\site-packages\\selenium\\webdriver\\common\\service.py\u001b[0m in \u001b[0;36mstart\u001b[1;34m(self)\u001b[0m\n\u001b[0;32m     81\u001b[0m                 raise WebDriverException(\n\u001b[0;32m     82\u001b[0m                     \"'%s' executable needs to be in PATH. %s\" % (\n\u001b[1;32m---> 83\u001b[1;33m                         os.path.basename(self.path), self.start_error_message)\n\u001b[0m\u001b[0;32m     84\u001b[0m                 )\n\u001b[0;32m     85\u001b[0m             \u001b[1;32melif\u001b[0m \u001b[0merr\u001b[0m\u001b[1;33m.\u001b[0m\u001b[0merrno\u001b[0m \u001b[1;33m==\u001b[0m \u001b[0merrno\u001b[0m\u001b[1;33m.\u001b[0m\u001b[0mEACCES\u001b[0m\u001b[1;33m:\u001b[0m\u001b[1;33m\u001b[0m\u001b[1;33m\u001b[0m\u001b[0m\n",
      "\u001b[1;31mWebDriverException\u001b[0m: Message: 'PATHTOYOURCHROMEDRIVER' executable needs to be in PATH. Please see https://sites.google.com/a/chromium.org/chromedriver/home\n"
     ]
    }
   ],
   "source": [
    "#網路範例 : https://medium.com/datainpoint/python-essentials-web-scraping-with-selenium-638175f839ee\n",
    "from pyquery import PyQuery as pq\n",
    "from selenium import webdriver\n",
    "from random import randint\n",
    "import time\n",
    "\n",
    "def get_movie_info(movie_url):\n",
    "    \"\"\"\n",
    "    Get movie info from certain IMDB url\n",
    "    \"\"\"\n",
    "    d = pq(movie_url)\n",
    "    movie_rating = float(d(\"strong span\").text())\n",
    "    movie_genre = [x.text() for x in d(\".subtext a\").items()]\n",
    "    movie_release_date = movie_genre.pop()\n",
    "    movie_poster = d(\".poster img\").attr('src')\n",
    "    movie_cast = [x.text() for x in d(\".primary_photo+ td a\").items()]\n",
    "\n",
    "    # 回傳資訊\n",
    "    movie_info = {\n",
    "        \"movieRating\": movie_rating,\n",
    "        \"movieReleaseDate\": movie_release_date,\n",
    "        \"movieGenre\": movie_genre,\n",
    "        \"moviePosterLink\": movie_poster,\n",
    "        \"movieCast\": movie_cast\n",
    "    }\n",
    "    return movie_info\n",
    "\n",
    "def get_movies(*args):\n",
    "    \"\"\"\n",
    "    Get multiple movies' info from movie titles\n",
    "    \"\"\"\n",
    "    imdb_home = \"https://www.imdb.com/\"\n",
    "    #driver = webdriver.Firefox(executable_path=\"PATHTOYOURGECKODRIVER\") # Use Firefox\n",
    "    driver = webdriver.Chrome(executable_path=\"PATHTOYOURCHROMEDRIVER\") # Use Chrome\n",
    "    movies = dict()\n",
    "    for movie_title in args:\n",
    "        # 前往 IMDB 首頁\n",
    "        driver.get(imdb_home)\n",
    "        # 定位搜尋欄位\n",
    "        search_elem = driver.find_element_by_xpath(\"//input[@id='navbar-query']\")\n",
    "        # 輸入電影名稱\n",
    "        search_elem.send_keys(movie_title)\n",
    "        # 定位搜尋按鈕\n",
    "        submit_elem = driver.find_element_by_xpath(\"//div[@class='magnifyingglass navbarSprite']\")\n",
    "        # 按下搜尋按鈕\n",
    "        submit_elem.click()\n",
    "        # 限縮搜尋結果為「電影」類\n",
    "        category_movie_elem = driver.find_element_by_xpath(\"//ul[@class='findTitleSubfilterList']/li[1]/a\")\n",
    "        # 按下限縮搜尋結果\n",
    "        category_movie_elem.click()\n",
    "        # 定位搜尋結果連結\n",
    "        first_result_elem = driver.find_element_by_xpath(\"//tr[@class='findResult odd'][1]/td[@class='result_text']/a\")\n",
    "        # 按下搜尋結果連結\n",
    "        first_result_elem.click()\n",
    "        # 呼叫 get_movie_info()\n",
    "        current_url = driver.current_url\n",
    "        movie_info = get_movie_info(current_url)\n",
    "        movies[movie_title] = movie_info\n",
    "        time.sleep(randint(3, 8))\n",
    "    driver.close()\n",
    "    return movies\n",
    "\n",
    "get_movies(\"Avengers: Endgame\", \"Captain Marvel\")"
   ]
  },
  {
   "cell_type": "code",
   "execution_count": null,
   "metadata": {},
   "outputs": [],
   "source": []
  }
 ],
 "metadata": {
  "kernelspec": {
   "display_name": "Python 3",
   "language": "python",
   "name": "python3"
  },
  "language_info": {
   "codemirror_mode": {
    "name": "ipython",
    "version": 3
   },
   "file_extension": ".py",
   "mimetype": "text/x-python",
   "name": "python",
   "nbconvert_exporter": "python",
   "pygments_lexer": "ipython3",
   "version": "3.7.1"
  }
 },
 "nbformat": 4,
 "nbformat_minor": 2
}
