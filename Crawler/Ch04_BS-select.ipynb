{
 "cells": [
  {
   "cell_type": "markdown",
   "metadata": {},
   "source": [
    "# select()\n",
    "select()也就是CSS選擇器，若有寫過css就能夠理解怎麼去解析它，<br>\n",
    ".&#的用法就是css在用的寫法。其實select()就跟find_all()是一樣的，只是內容的寫法不同<br>\n",
    "類名前加.，id名前加#"
   ]
  },
  {
   "cell_type": "code",
   "execution_count": 2,
   "metadata": {},
   "outputs": [
    {
     "name": "stdout",
     "output_type": "stream",
     "text": [
      "[<div class=\"lily\" id=\"ben\">一二三</div>, <div class=\"lily\" id=\"ben\">四五六</div>]\n",
      "<div class=\"lily\" id=\"ben\">一二三</div>\n",
      "[<div class=\"lily\" id=\"ben\">一二三</div>, <div class=\"lily\" id=\"ben\">四五六</div>]\n",
      "[<div class=\"lily\" id=\"ben\">一二三</div>]\n"
     ]
    }
   ],
   "source": [
    "from bs4 import BeautifulSoup\n",
    "\n",
    "html ='''\n",
    "<head>hello python</head>\n",
    "<body>\n",
    "    <div class='ming'>\n",
    "        <div class='lily' id='ben'>一二三</div>\n",
    "        <div class='lily' id='ben'>四五六</div>\n",
    "        <a href = 'www.mingmig.com'>我的網址</a>\n",
    "        <a href = 'www.mingmig.com'>我的網址</a>\n",
    "    </div>\n",
    "    \n",
    "</body>\n",
    "''' \n",
    "soup = BeautifulSoup(html, 'lxml')\n",
    "s = soup.select('div .lily')           #select的寫法和find有區別，select是標簽和class都在一個字符串裏，find是兩個字符串，用逗號隔開\n",
    "f = soup.find('div',class_ = 'lily')   #find只取第一個值，返回的是字符串\n",
    "fa = soup.find_all('div',class_ = 'lily')              #find_all是全部的值和select一樣，是一個列表\n",
    "fal = soup.find_all('div',class_ = 'lily',limit=1)     #find_all是全部的值和select一樣，是一個列表,加limit屬性後只返回第一個\n",
    "print(s)\n",
    "print(f)\n",
    "print(fa)\n",
    "print(fal)"
   ]
  },
  {
   "cell_type": "markdown",
   "metadata": {},
   "source": [
    "### （1）通過標籤名查找：<'a'>"
   ]
  },
  {
   "cell_type": "code",
   "execution_count": 20,
   "metadata": {},
   "outputs": [
    {
     "name": "stdout",
     "output_type": "stream",
     "text": [
      "[<a href=\"www.mingmig.com\">我的網址</a>, <a href=\"www.mingmig.com\">我的網址</a>]\n"
     ]
    }
   ],
   "source": [
    "print(soup.select('a'))"
   ]
  },
  {
   "cell_type": "markdown",
   "metadata": {},
   "source": [
    "### （2）通過類名查找：\".\""
   ]
  },
  {
   "cell_type": "code",
   "execution_count": 21,
   "metadata": {},
   "outputs": [
    {
     "name": "stdout",
     "output_type": "stream",
     "text": [
      "[<div class=\"lily\" id=\"ben\">一二三</div>, <div class=\"lily\" id=\"ben\">四五六</div>]\n"
     ]
    }
   ],
   "source": [
    "print(soup.select('.lily'))"
   ]
  },
  {
   "cell_type": "markdown",
   "metadata": {},
   "source": [
    "### （3）通過 id 名查找：\"#\""
   ]
  },
  {
   "cell_type": "code",
   "execution_count": 13,
   "metadata": {},
   "outputs": [
    {
     "name": "stdout",
     "output_type": "stream",
     "text": [
      "[<div class=\"lily\" id=\"ben\">一二三</div>, <div class=\"lily\" id=\"ben\">四五六</div>]\n"
     ]
    }
   ],
   "source": [
    "print(soup.select('#ben'))  "
   ]
  },
  {
   "cell_type": "markdown",
   "metadata": {},
   "source": [
    "### （4）組合查找：二者需要用空格分開"
   ]
  },
  {
   "cell_type": "code",
   "execution_count": 3,
   "metadata": {},
   "outputs": [
    {
     "name": "stdout",
     "output_type": "stream",
     "text": [
      "[<div class=\"lily\" id=\"ben\">一二三</div>, <div class=\"lily\" id=\"ben\">四五六</div>]\n"
     ]
    }
   ],
   "source": [
    "print(soup.select('div #ben'))   #二者需要用空格分開"
   ]
  },
  {
   "cell_type": "markdown",
   "metadata": {},
   "source": [
    "### （5）屬性查找：[ ]"
   ]
  },
  {
   "cell_type": "code",
   "execution_count": 18,
   "metadata": {},
   "outputs": [
    {
     "name": "stdout",
     "output_type": "stream",
     "text": [
      "[<a href=\"www.mingmig.com\">我的網址</a>, <a href=\"www.mingmig.com\">我的網址</a>]\n"
     ]
    }
   ],
   "source": [
    "print(soup.select('a[href=\"www.mingmig.com\"]'))  \n",
    "#查找時還可以加入屬性元素，屬性需要用中括號括起來，注意屬性和標籤屬於同一節點，所以中間不能加空格，否則會無法匹配到。"
   ]
  },
  {
   "cell_type": "code",
   "execution_count": 36,
   "metadata": {
    "scrolled": true
   },
   "outputs": [
    {
     "name": "stdout",
     "output_type": "stream",
     "text": [
      "[<a href=\"www.mingmig.com\">我的網址</a>, <a href=\"www.mingmig.com\">我的網址</a>]\n"
     ]
    }
   ],
   "source": [
    "print(soup.select('div a[href=\"www.mingmig.com\"]'))  \n",
    "#同樣，屬性仍然可以與上述查找方式組合，不在同一節點的空格隔開，同一節點的不加空格"
   ]
  },
  {
   "cell_type": "markdown",
   "metadata": {},
   "source": [
    "### (6) 獲取內容"
   ]
  },
  {
   "cell_type": "code",
   "execution_count": 5,
   "metadata": {
    "scrolled": true
   },
   "outputs": [
    {
     "name": "stdout",
     "output_type": "stream",
     "text": [
      "\n",
      "一二三\n",
      "四五六\n",
      "我的網址\n",
      "我的網址\n",
      "\n"
     ]
    }
   ],
   "source": [
    "#以上的 select 方法返回的結果都是列表形式，可以遍歷形式輸出，然後用 get_text() 方法來獲取它的內容。\n",
    "print(soup.select('div')[0].get_text())"
   ]
  },
  {
   "cell_type": "markdown",
   "metadata": {},
   "source": [
    "## 下面是一些常用的選擇器範例。\n",
    "\n",
    "* 選擇所有標籤：*  <br>\n",
    "* 選擇<'a'>標籤：a <br>\n",
    "* 選擇所有class ='lily'的元素：.lily <br>\n",
    "* 選擇class='lily' 的<'div'>標籤：div.lily <br>\n",
    "* 選擇id ='ben'的<'div'>標籤：#ben \n",
    "* 選擇父元素為<'div'>標籤的所有<'a'>子標籤：div > a <br>\n",
    "* 選擇<'div'>標籤內部的所有<'a'>標籤：一個空白 <br>\n",
    "* 選擇標題屬性為“Home”的所有<'a'>標籤：a [title = Home] <br>"
   ]
  },
  {
   "cell_type": "code",
   "execution_count": null,
   "metadata": {},
   "outputs": [],
   "source": [
    "print(soup.select('*'))  #選擇所有標籤：*"
   ]
  },
  {
   "cell_type": "code",
   "execution_count": 49,
   "metadata": {},
   "outputs": [
    {
     "name": "stdout",
     "output_type": "stream",
     "text": [
      "[<a href=\"www.mingmig.com\">我的網址</a>, <a href=\"www.mingmig.com\">我的網址</a>]\n"
     ]
    }
   ],
   "source": [
    "print(soup.select('a'))  #選擇<a>標籤：a"
   ]
  },
  {
   "cell_type": "code",
   "execution_count": 50,
   "metadata": {},
   "outputs": [
    {
     "name": "stdout",
     "output_type": "stream",
     "text": [
      "[<div class=\"lily\" id=\"ben\">一二三</div>, <div class=\"lily\" id=\"ben\">四五六</div>]\n"
     ]
    }
   ],
   "source": [
    "print(soup.select('.lily'))  #選擇所有class ='lily'的元素：.lily"
   ]
  },
  {
   "cell_type": "code",
   "execution_count": 52,
   "metadata": {},
   "outputs": [
    {
     "name": "stdout",
     "output_type": "stream",
     "text": [
      "[<div class=\"lily\" id=\"ben\">一二三</div>, <div class=\"lily\" id=\"ben\">四五六</div>]\n"
     ]
    }
   ],
   "source": [
    "print(soup.select('div.lily'))  #選擇class='lily' 的<div>標籤：div.lily"
   ]
  },
  {
   "cell_type": "code",
   "execution_count": 53,
   "metadata": {},
   "outputs": [
    {
     "name": "stdout",
     "output_type": "stream",
     "text": [
      "[<div class=\"lily\" id=\"ben\">一二三</div>, <div class=\"lily\" id=\"ben\">四五六</div>]\n"
     ]
    }
   ],
   "source": [
    "print(soup.select('#ben'))  #選擇id ='ben'的<div>標籤：#ben"
   ]
  },
  {
   "cell_type": "code",
   "execution_count": 58,
   "metadata": {},
   "outputs": [
    {
     "name": "stdout",
     "output_type": "stream",
     "text": [
      "[<a href=\"www.mingmig.com\">我的網址</a>, <a href=\"www.mingmig.com\">我的網址</a>]\n"
     ]
    }
   ],
   "source": [
    "print(soup.select('div > a'))  #選擇父元素為<div>標籤的所有<a>子標籤：div > a"
   ]
  },
  {
   "cell_type": "code",
   "execution_count": 59,
   "metadata": {},
   "outputs": [
    {
     "name": "stdout",
     "output_type": "stream",
     "text": [
      "[<a href=\"www.mingmig.com\">我的網址</a>, <a href=\"www.mingmig.com\">我的網址</a>]\n"
     ]
    }
   ],
   "source": [
    "print(soup.select('div a'))  #選擇<div>標籤內部的所有<a>標籤：一個空白"
   ]
  },
  {
   "cell_type": "code",
   "execution_count": 2,
   "metadata": {},
   "outputs": [
    {
     "name": "stdout",
     "output_type": "stream",
     "text": [
      "10\n",
      "測試資料擷取的HTML網頁\n",
      "<div class=\"survey\" id=\"q3\">\n",
      "<p class=\"question\">\n",
      "<a href=\"http://example.com/q3\">請問你是否會程式設計?</a></p>\n",
      "<ul class=\"answer\">\n",
      "<li class=\"response selected\">會-<span>30</span></li>\n",
      "<li class=\"response\">不會-<span>6</span></li>\n",
      "</ul>\n",
      "</div>\n"
     ]
    }
   ],
   "source": [
    "#Ch4_5\n",
    "from bs4 import BeautifulSoup \n",
    "\n",
    "with open(\"Example.html\", \"r\", encoding=\"utf8\") as fp:\n",
    "    soup = BeautifulSoup(fp, \"lxml\")\n",
    "# 找出指定CSS選擇器字串的內容, <title>標籤和第3個<div>標籤\n",
    "tag_item = soup.select(\"#q1 > ul > li:nth-of-type(1) > span\")\n",
    "print(tag_item[0].string)\n",
    "tag_title = soup.select(\"title\")\n",
    "print(tag_title[0].string)\n",
    "tag_first_div = soup.find(\"div\")\n",
    "tag_div = tag_first_div.select(\"div:nth-of-type(3)\")\n",
    "print(tag_div[0])"
   ]
  },
  {
   "cell_type": "code",
   "execution_count": 4,
   "metadata": {},
   "outputs": [
    {
     "name": "stdout",
     "output_type": "stream",
     "text": [
      "測試資料擷取的HTML網頁\n",
      "[<a href=\"http://example.com/q1\">請問你的性別?</a>, <a href=\"http://example.com/q2\">請問你是否喜歡偵探小說?</a>, <a href=\"http://example.com/q3\">請問你是否會程式設計?</a>]\n"
     ]
    }
   ],
   "source": [
    "#Ch4_5a\n",
    "from bs4 import BeautifulSoup \n",
    "\n",
    "with open(\"Example.html\", \"r\", encoding=\"utf8\") as fp:\n",
    "    soup = BeautifulSoup(fp, \"lxml\")\n",
    "# 找出<title>標籤, 和<div>標籤下的所有<a>標籤\n",
    "tag_title = soup.select(\"html head title\")\n",
    "print(tag_title[0].string)    \n",
    "tag_a = soup.select(\"body div a\")\n",
    "print(tag_a)"
   ]
  },
  {
   "cell_type": "code",
   "execution_count": 5,
   "metadata": {},
   "outputs": [
    {
     "name": "stdout",
     "output_type": "stream",
     "text": [
      "[<a href=\"http://example.com/q1\">請問你的性別?</a>, <a href=\"http://example.com/q2\">請問你是否喜歡偵探小說?</a>, <a href=\"http://example.com/q3\">請問你是否會程式設計?</a>]\n",
      "[<li class=\"response selected\">女-<span>20</span></li>, <li class=\"response selected\">普通-<span>20</span></li>, <li class=\"response\">不會-<span>6</span></li>]\n",
      "[<span class=\"survey\" id=\"email\">ghi@example.com</span>]\n"
     ]
    }
   ],
   "source": [
    "#Ch4_5b\n",
    "from bs4 import BeautifulSoup \n",
    "\n",
    "with open(\"Example.html\", \"r\", encoding=\"utf8\") as fp:\n",
    "    soup = BeautifulSoup(fp, \"lxml\")\n",
    "# 找出指定標籤下的直接子標籤\n",
    "tag_a = soup.select(\"p > a\")\n",
    "print(tag_a)  \n",
    "tag_li = soup.select(\"ul > li:nth-of-type(2)\")\n",
    "print(tag_li)\n",
    "tag_span = soup.select(\"div > #email\")\n",
    "print(tag_span)  \n"
   ]
  },
  {
   "cell_type": "code",
   "execution_count": 6,
   "metadata": {},
   "outputs": [
    {
     "name": "stdout",
     "output_type": "stream",
     "text": [
      "請問你的性別?\n",
      "-----------\n",
      "請問你是否喜歡偵探小說?\n",
      "請問你是否會程式設計?\n",
      "-----------\n",
      "請問你是否喜歡偵探小說?\n"
     ]
    }
   ],
   "source": [
    "#Ch4_5c\n",
    "from bs4 import BeautifulSoup \n",
    "\n",
    "with open(\"Example.html\", \"r\", encoding=\"utf8\") as fp:\n",
    "    soup = BeautifulSoup(fp, \"lxml\")\n",
    "# 找出兄弟標籤\n",
    "tag_div = soup.find(id=\"q1\")\n",
    "print(tag_div.p.a.string)\n",
    "print(\"-----------\")\n",
    "tag_div = soup.select(\"#q1 ~ .survey\")\n",
    "for item in tag_div:            \n",
    "    print(item.p.a.string)  \n",
    "print(\"-----------\")\n",
    "tag_div = soup.select(\"#q1 + .survey\")\n",
    "for item in tag_div:            \n",
    "    print(item.p.a.string)   "
   ]
  },
  {
   "cell_type": "code",
   "execution_count": 7,
   "metadata": {},
   "outputs": [
    {
     "name": "stdout",
     "output_type": "stream",
     "text": [
      "請問你的性別?\n",
      "ghi@example.com\n",
      "請問你的性別?\n",
      "請問你是否喜歡偵探小說?\n",
      "-----------\n",
      "http://example.com/q1\n",
      "http://example.com/q2\n",
      "http://example.com/q3\n",
      "<li class=\"response selected\">女-<span>20</span></li>\n",
      "<li class=\"response selected\">普通-<span>20</span></li>\n",
      "<li class=\"response selected\">會-<span>30</span></li>\n"
     ]
    }
   ],
   "source": [
    "#Ch4_5d\n",
    "from bs4 import BeautifulSoup\n",
    "\n",
    "with open(\"Example.html\", \"r\", encoding=\"utf8\") as fp:\n",
    "    soup = BeautifulSoup(fp, \"lxml\")\n",
    "# 找出class和id屬性值的標籤\n",
    "tag_div = soup.select(\"#q1\")\n",
    "print(tag_div[0].p.a.string)\n",
    "tag_span = soup.select(\"span#email\")\n",
    "print(tag_span[0].string)\n",
    "tag_div = soup.select(\"#q1, #q2\")  # 多個id屬性\n",
    "for item in tag_div:\n",
    "    print(item.p.a.string)\n",
    "print(\"-----------\")\n",
    "tag_div = soup.find(\"div\")  # 第1個<div>標籤\n",
    "tag_p = tag_div.select(\".question\")   \n",
    "for item in tag_p:\n",
    "    print(item.a[\"href\"])\n",
    "tag_li = soup.select(\"[class~=selected]\")\n",
    "for item in tag_li:\n",
    "    print(item)"
   ]
  },
  {
   "cell_type": "code",
   "execution_count": 8,
   "metadata": {},
   "outputs": [
    {
     "name": "stdout",
     "output_type": "stream",
     "text": [
      "[<a href=\"http://example.com/q1\">請問你的性別?</a>, <a href=\"http://example.com/q2\">請問你是否喜歡偵探小說?</a>, <a href=\"http://example.com/q3\">請問你是否會程式設計?</a>]\n",
      "[<a href=\"http://example.com/q2\">請問你是否喜歡偵探小說?</a>]\n",
      "[<a href=\"http://example.com/q1\">請問你的性別?</a>, <a href=\"http://example.com/q2\">請問你是否喜歡偵探小說?</a>, <a href=\"http://example.com/q3\">請問你是否會程式設計?</a>]\n",
      "[<a href=\"http://example.com/q3\">請問你是否會程式設計?</a>]\n",
      "[<a href=\"http://example.com/q1\">請問你的性別?</a>, <a href=\"http://example.com/q2\">請問你是否喜歡偵探小說?</a>, <a href=\"http://example.com/q3\">請問你是否會程式設計?</a>]\n"
     ]
    }
   ],
   "source": [
    "#Ch4_5e\n",
    "from bs4 import BeautifulSoup\n",
    "\n",
    "with open(\"Example.html\", \"r\", encoding=\"utf8\") as fp:\n",
    "    soup = BeautifulSoup(fp, \"lxml\")\n",
    "# 找出特定屬性值的標籤\n",
    "tag_a = soup.select(\"a[href]\")\n",
    "print(tag_a)\n",
    "tag_a = soup.select(\"a[href='http://example.com/q2']\")\n",
    "print(tag_a)\n",
    "tag_a = soup.select(\"a[href^='http://example.com']\")\n",
    "print(tag_a)\n",
    "tag_a = soup.select(\"a[href$='q3']\")\n",
    "print(tag_a)\n",
    "tag_a = soup.select(\"a[href*='q']\")\n",
    "print(tag_a)"
   ]
  },
  {
   "cell_type": "code",
   "execution_count": 9,
   "metadata": {},
   "outputs": [
    {
     "name": "stdout",
     "output_type": "stream",
     "text": [
      "<a href=\"http://example.com/q1\">請問你的性別?</a>\n"
     ]
    }
   ],
   "source": [
    "#Ch4_5f\n",
    "from bs4 import BeautifulSoup \n",
    "\n",
    "with open(\"Example.html\", \"r\", encoding=\"utf8\") as fp:\n",
    "    soup = BeautifulSoup(fp, \"lxml\")\n",
    "# 使用select_one()方法搜尋標籤\n",
    "tag_a = soup.select_one(\"a[href]\")\n",
    "print(tag_a)\n"
   ]
  },
  {
   "cell_type": "code",
   "execution_count": null,
   "metadata": {},
   "outputs": [],
   "source": []
  },
  {
   "cell_type": "code",
   "execution_count": null,
   "metadata": {},
   "outputs": [],
   "source": []
  }
 ],
 "metadata": {
  "kernelspec": {
   "display_name": "Python 3",
   "language": "python",
   "name": "python3"
  },
  "language_info": {
   "codemirror_mode": {
    "name": "ipython",
    "version": 3
   },
   "file_extension": ".py",
   "mimetype": "text/x-python",
   "name": "python",
   "nbconvert_exporter": "python",
   "pygments_lexer": "ipython3",
   "version": "3.7.1"
  }
 },
 "nbformat": 4,
 "nbformat_minor": 2
}
