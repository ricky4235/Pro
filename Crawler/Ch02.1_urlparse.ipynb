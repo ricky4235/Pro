{
 "cells": [
  {
   "cell_type": "code",
   "execution_count": null,
   "metadata": {},
   "outputs": [],
   "source": [
    "將URL解析為六個部分，返回一個名為tuple的6項。每個元組項目都是一個字符串，可能為空。"
   ]
  },
  {
   "cell_type": "markdown",
   "metadata": {},
   "source": [
    "# urlparse"
   ]
  },
  {
   "cell_type": "code",
   "execution_count": 1,
   "metadata": {},
   "outputs": [
    {
     "data": {
      "text/plain": [
       "ParseResult(scheme='http', netloc='www.cwi.nl:80', path='/%7Eguido/Python.html', params='', query='', fragment='')"
      ]
     },
     "execution_count": 1,
     "metadata": {},
     "output_type": "execute_result"
    }
   ],
   "source": [
    "from urllib.parse import urlparse\n",
    "o = urlparse('http://www.cwi.nl:80/%7Eguido/Python.html')\n",
    "o"
   ]
  },
  {
   "cell_type": "code",
   "execution_count": null,
   "metadata": {},
   "outputs": [],
   "source": [
    "ParseResult(scheme='URL方案說明符', netloc='網絡位置部分', path='/分層路徑',\n",
    "            params='最後路徑元素的參數', query='查詢組件', fragment='片段識別', \n",
    "            username='用戶名' , password='密碼', hostname='主機名（小寫）', port='端口號為整數（如果存在）')"
   ]
  },
  {
   "cell_type": "code",
   "execution_count": 2,
   "metadata": {},
   "outputs": [
    {
     "data": {
      "text/plain": [
       "'http'"
      ]
     },
     "execution_count": 2,
     "metadata": {},
     "output_type": "execute_result"
    }
   ],
   "source": [
    "o.scheme"
   ]
  },
  {
   "cell_type": "code",
   "execution_count": 3,
   "metadata": {},
   "outputs": [
    {
     "data": {
      "text/plain": [
       "80"
      ]
     },
     "execution_count": 3,
     "metadata": {},
     "output_type": "execute_result"
    }
   ],
   "source": [
    "o.port"
   ]
  },
  {
   "cell_type": "code",
   "execution_count": 4,
   "metadata": {},
   "outputs": [
    {
     "data": {
      "text/plain": [
       "'http://www.cwi.nl:80/%7Eguido/Python.html'"
      ]
     },
     "execution_count": 4,
     "metadata": {},
     "output_type": "execute_result"
    }
   ],
   "source": [
    "o.geturl()"
   ]
  },
  {
   "cell_type": "code",
   "execution_count": 5,
   "metadata": {},
   "outputs": [
    {
     "data": {
      "text/plain": [
       "ParseResult(scheme='https', netloc='m.tokopedia.com', path='/search', params='', query='q=mouse%20genius&source=universe&st=product', fragment='')"
      ]
     },
     "execution_count": 5,
     "metadata": {},
     "output_type": "execute_result"
    }
   ],
   "source": [
    "o = urlparse('https://m.tokopedia.com/search?q=mouse%20genius&source=universe&st=product')\n",
    "o"
   ]
  },
  {
   "cell_type": "code",
   "execution_count": 8,
   "metadata": {
    "scrolled": true
   },
   "outputs": [
    {
     "data": {
      "text/plain": [
       "ParseResult(scheme='httpxx', netloc='m.tokopedia.com', path='/search', params='', query='q=mouse%20genius&source=universe&st=product', fragment='')"
      ]
     },
     "execution_count": 8,
     "metadata": {},
     "output_type": "execute_result"
    }
   ],
   "source": [
    "o._replace(scheme='httpxx')"
   ]
  },
  {
   "cell_type": "markdown",
   "metadata": {},
   "source": [
    "# urljoin"
   ]
  },
  {
   "cell_type": "code",
   "execution_count": 10,
   "metadata": {},
   "outputs": [
    {
     "data": {
      "text/plain": [
       "'http://www.cwi.nl/%7Eguido/FAQ.html'"
      ]
     },
     "execution_count": 10,
     "metadata": {},
     "output_type": "execute_result"
    }
   ],
   "source": [
    "from urllib.parse import urljoin\n",
    "urljoin('http://www.cwi.nl/%7Eguido/Python.html', 'FAQ.html')"
   ]
  },
  {
   "cell_type": "code",
   "execution_count": 1,
   "metadata": {},
   "outputs": [
    {
     "name": "stdout",
     "output_type": "stream",
     "text": [
      "http://www.majortests.com/word-lists/world-list-01.html\n",
      "http://www.majortests.com/word-lists/world-list-02.html\n",
      "http://www.majortests.com/word-lists/world-list-03.html\n",
      "http://www.majortests.com/word-lists/world-list-04.html\n"
     ]
    }
   ],
   "source": [
    "#Ch9_1e : \n",
    "from urllib.parse import urljoin\n",
    "\n",
    "URL = \"http://www.majortests.com/word-lists/word-list-01.html\"\n",
    "PTT = \"https://wwww.ptt.cc/bbs/movie/index.html\"\n",
    "\n",
    "catalog = [\"movie\", \"NBA\", \"Gossiping\"]\n",
    "\n",
    "for i in range(1, 5):\n",
    "    url = urljoin(URL, \"world-list-0{0}.html\".format(i)) \n",
    "    print(url)"
   ]
  },
  {
   "cell_type": "code",
   "execution_count": 2,
   "metadata": {},
   "outputs": [
    {
     "name": "stdout",
     "output_type": "stream",
     "text": [
      "https://wwww.ptt.cc/bbs/movie/index.html\n",
      "https://wwww.ptt.cc/bbs/NBA/index.html\n",
      "https://wwww.ptt.cc/bbs/Gossiping/index.html\n"
     ]
    }
   ],
   "source": [
    "for item in catalog:\n",
    "    url = urljoin(PTT, \"../{0}/index.html\".format(item))\n",
    "    print(url)"
   ]
  },
  {
   "cell_type": "code",
   "execution_count": null,
   "metadata": {},
   "outputs": [],
   "source": [
    "https://www.flipkart.com/laptop-accessories/mouse/pr?sid=6bo,ai3,2ay&otracker=nmenu_sub_Electronics_0_Mouse\n",
    "https://www.flipkart.com/laptop-accessories/mouse/pr?sid=6bo%2Cai3%2C2ay&otracker=nmenu_sub_Electronics_0_Mouse&p%5B%5D=facets.brand%255B%255D%3DLogitech\n",
    "https://www.flipkart.com/laptop-accessories/mouse/pr?sid=6bo%2Cai3%2C2ay&otracker=nmenu_sub_Electronics_0_Mouse&p%5B%5D=facets.brand%255B%255D%3DHP"
   ]
  },
  {
   "cell_type": "code",
   "execution_count": null,
   "metadata": {},
   "outputs": [],
   "source": [
    "https://www.flipkart.com/laptop-accessories/keyboards/pr?sid=6bo,ai3,3oe&otracker=categorytree\n",
    "https://www.flipkart.com/laptop-accessories/keyboards/pr?sid=6bo%2Cai3%2C3oe&otracker=categorytree&p%5B%5D=facets.brand%255B%255D%3DLogitech\n",
    "https://www.flipkart.com/laptop-accessories/keyboards/pr?sid=6bo%2Cai3%2C3oe&otracker=categorytree&p%5B%5D=facets.brand%255B%255D%3DHP"
   ]
  },
  {
   "cell_type": "code",
   "execution_count": null,
   "metadata": {},
   "outputs": [],
   "source": [
    "from urllib.parse import urljoin\n",
    "res = requests.get(f'https://search.taobao.tw/catalog/?_keyori=ss&ajax=true&from=input&page={i}&q=iphone')"
   ]
  },
  {
   "cell_type": "code",
   "execution_count": null,
   "metadata": {},
   "outputs": [],
   "source": []
  }
 ],
 "metadata": {
  "kernelspec": {
   "display_name": "Python 3",
   "language": "python",
   "name": "python3"
  },
  "language_info": {
   "codemirror_mode": {
    "name": "ipython",
    "version": 3
   },
   "file_extension": ".py",
   "mimetype": "text/x-python",
   "name": "python",
   "nbconvert_exporter": "python",
   "pygments_lexer": "ipython3",
   "version": "3.7.1"
  }
 },
 "nbformat": 4,
 "nbformat_minor": 2
}
