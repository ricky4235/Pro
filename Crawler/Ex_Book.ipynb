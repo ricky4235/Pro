{
 "cells": [
  {
   "cell_type": "markdown",
   "metadata": {},
   "source": [
    "# 電子書網頁標題翻頁爬蟲"
   ]
  },
  {
   "cell_type": "code",
   "execution_count": null,
   "metadata": {},
   "outputs": [],
   "source": [
    "import requests\n",
    "from bs4 import BeautifulSoup\n",
    "for i in range(1,50): #第1頁到第49頁\n",
    "    i=str(i)          #轉成字串\n",
    "    url=\"http://www.allitebooks.org/page/\"+i\n",
    "    print(url)\n",
    "    resp = requests.get(url)\n",
    "    soup = BeautifulSoup(resp.text, 'lxml')\n",
    "    titles = soup.find_all('h2')\n",
    "    for t in titles:\n",
    "        print(t.string)"
   ]
  },
  {
   "cell_type": "markdown",
   "metadata": {},
   "source": [
    "# 爬取博客來圖書資訊"
   ]
  },
  {
   "cell_type": "code",
   "execution_count": null,
   "metadata": {},
   "outputs": [],
   "source": [
    "#Ch9_2(books_crawler.py)-爬取博客來圖書資訊\n",
    "import time\n",
    "import requests\n",
    "import csv\n",
    "from bs4 import BeautifulSoup\n",
    "\n",
    "# 目標URL網址\n",
    "URL = \"http://search.books.com.tw/search/query/key/{0}/cat/all\"\n",
    "\n",
    "def generate_search_url(url, keyword): #參數基底為URL和關鍵字\n",
    "    url = url.format(keyword) #呼叫format函數建立搜尋圖書關鍵字的網址\n",
    "    \n",
    "    return url\n",
    "\n",
    "def get_resource(url):\n",
    "    headers = {\"user-agent\": \"Mozilla/5.0 (Windows NT 10.0; Win64; x64)\"\n",
    "               \"AppleWebKit/537.36 (KHTML, like Gecko)\"\n",
    "               \"Chrome/63.0.3239.132 Safari/537.36\"}\n",
    "    return requests.get(url, headers=headers)\n",
    "\n",
    "\n",
    "def parse_html(r):\n",
    "    if r.status_code == requests.codes.ok:\n",
    "        r.encoding = \"utf8\"\n",
    "        soup = BeautifulSoup(r.text, \"lxml\")        \n",
    "    else:\n",
    "        print(\"HTTP請求錯誤...\" + url)\n",
    "        soup = None\n",
    "    \n",
    "    return soup    \n",
    "\n",
    "#取得ISBN(國際標準書號)\n",
    "def get_ISBN(url):\n",
    "    soup = parse_html(get_resource(\"http:\" + url))\n",
    "    if soup != None:\n",
    "        #try/elas:取得圖書的ISBN，如果找到就回傳ISBN碼，沒找到就回傳0000，剖析失敗則回傳1111\n",
    "        try:\n",
    "           isbn = soup.find(itemprop=\"productID\")[\"content\"][5:]\n",
    "        except:\n",
    "           isbn = \"0000\"\n",
    "    else:\n",
    "        isbn = \"1111\"\n",
    "    return isbn\n",
    "\n",
    "def save_to_csv(items, file):\n",
    "    with open(file, 'w+', newline='') as fp:\n",
    "        writer = csv.writer(fp)\n",
    "        for item in items:\n",
    "            writer.writerow(item)\n",
    "            \n",
    "def web_scraping_bot(url):\n",
    "    booklist = [[\"書名\",\"ISBN\",\"網址\",\"書價\"]]\n",
    "    print(\"抓取網路資料中...\")\n",
    "    soup = parse_html(get_resource(url))  #因為此爬蟲程式需要從多頁網頁取得資料，所以判斷HTTP請求是否成功移至parse_html函數\n",
    "    if soup != None:\n",
    "        # print(soup)\n",
    "        tag_item = soup.find_all(class_=\"item\") #取出所有圖書清單的HTML標籤\n",
    "        for item in tag_item: #使用for迴圈一一爬取每一本圖書資料\n",
    "            book = []\n",
    "            book.append(item.find(\"img\")[\"alt\"])\n",
    "            book.append(get_ISBN(item.find(\"a\")[\"href\"]))\n",
    "            book.append(\"http:\" + item.find(\"a\")[\"href\"])\n",
    "            price = item.find(class_=\"price\").find_all(\"b\")\n",
    "            if len(price) == 1: #判斷定價是否存在(因為可能有定價或優惠價)\n",
    "                book.append(price[0].string)\n",
    "            else:\n",
    "                book.append(price[1].string)\n",
    "            booklist.append(book) #在取得圖書資訊book清單後，呼叫append函數新增至booklist巢狀清單\n",
    "            print(\"等待2秒鐘...\")\n",
    "            time.sleep(2) \n",
    "\n",
    "    return booklist\n",
    "\n",
    "if __name__ == '__main__':\n",
    "    url = generate_search_url(URL, \"演算法\")\n",
    "    print(url)\n",
    "    booklist = web_scraping_bot(url)\n",
    "    for item in booklist:\n",
    "        print(item)\n",
    "    save_to_csv(booklist, \"booklist.csv\")\n"
   ]
  }
 ],
 "metadata": {
  "kernelspec": {
   "display_name": "Python 3",
   "language": "python",
   "name": "python3"
  },
  "language_info": {
   "codemirror_mode": {
    "name": "ipython",
    "version": 3
   },
   "file_extension": ".py",
   "mimetype": "text/x-python",
   "name": "python",
   "nbconvert_exporter": "python",
   "pygments_lexer": "ipython3",
   "version": "3.7.1"
  }
 },
 "nbformat": 4,
 "nbformat_minor": 2
}
