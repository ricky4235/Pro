{
 "cells": [
  {
   "cell_type": "code",
   "execution_count": null,
   "metadata": {},
   "outputs": [],
   "source": [
    "Ch02_HTTP"
   ]
  },
  {
   "cell_type": "markdown",
   "metadata": {},
   "source": [
    "# GET 請求(HTTP請求)"
   ]
  },
  {
   "cell_type": "code",
   "execution_count": 1,
   "metadata": {},
   "outputs": [
    {
     "name": "stdout",
     "output_type": "stream",
     "text": [
      "200\n",
      "OK\n",
      "{\n",
      "  \"args\": {}, \n",
      "  \"headers\": {\n",
      "    \"Accept\": \"*/*\", \n",
      "    \"Accept-Encoding\": \"gzip, deflate\", \n",
      "    \"Host\": \"httpbin.org\", \n",
      "    \"User-Agent\": \"python-requests/2.19.1\"\n",
      "  }, \n",
      "  \"origin\": \"36.231.64.45, 36.231.64.45\", \n",
      "  \"url\": \"https://httpbin.org/get\"\n",
      "}\n",
      "\n"
     ]
    }
   ],
   "source": [
    "import requests  # 引入 requests 模組\n",
    "\n",
    "r = requests.get('http://httpbin.org/get')   # 使用 GET 方式下載普通網頁(送出HTTP請求)\n",
    "\n",
    "print(r.status_code)  # 伺服器回應的狀態碼(取得HTTP回應)\n",
    "#如果顯示 200 就代表沒問題。我們也可以利用以下這個判斷式來檢查狀態碼：\n",
    "\n",
    "if r.status_code == requests.codes.ok:  # 檢查狀態碼是否 OK\n",
    "  print(\"OK\")\n",
    "\n",
    "print(r.text)  # 輸出網頁 HTML 原始碼"
   ]
  },
  {
   "cell_type": "markdown",
   "metadata": {},
   "source": [
    "# HTTP回應"
   ]
  },
  {
   "cell_type": "code",
   "execution_count": 5,
   "metadata": {},
   "outputs": [
    {
     "name": "stdout",
     "output_type": "stream",
     "text": [
      "{\n",
      "  \"args\": {}, \n",
      "  \"headers\": {\n",
      "    \"Accept\": \"*/*\", \n",
      "    \"Accept-Encoding\": \"gzip, deflate\", \n",
      "    \"Host\": \"httpbin.org\", \n",
      "    \"User-Agent\": \"python-requests/2.21.0\"\n",
      "  }, \n",
      "  \"origin\": \"1.163.204.60, 1.163.204.60\", \n",
      "  \"url\": \"https://httpbin.org/get\"\n",
      "}\n",
      "\n",
      "----------------------\n",
      "b'{\\n  \"args\": {}, \\n  \"headers\": {\\n    \"Accept\": \"*/*\", \\n    \"Accept-Encoding\": \"gzip, deflate\", \\n    \"Host\": \"httpbin.org\", \\n    \"User-Agent\": \"python-requests/2.21.0\"\\n  }, \\n  \"origin\": \"1.163.204.60, 1.163.204.60\", \\n  \"url\": \"https://httpbin.org/get\"\\n}\\n'\n",
      "----------------------\n",
      "<urllib3.response.HTTPResponse object at 0x0000000005BA8780>\n",
      "b'\\x1f\\x8b\\x08\\x00\\x00\\x00\\x00\\x00\\x00\\x03M\\x8eM\\x0e\\x82'\n"
     ]
    }
   ],
   "source": [
    "import requests\n",
    "\n",
    "r = requests.get(\"http://httpbin.org/get\")  #送出HTTP請求\n",
    "r.encoding = 'utf-8'                             #取得HTTP回應\n",
    "print(r.text)       #HTTP回應的內容：HTML標籤字串\n",
    "print(\"----------------------\")\n",
    "\n",
    "r = requests.get(\"http://httpbin.org/get\")\n",
    "r.encoding = 'utf-8'\n",
    "print(r.content)    #HTTP回應的內容：沒有解碼的元祖資料，二進位的內容\n",
    "print(\"----------------------\")\n",
    "\n",
    "r = requests.get(\"http://httpbin.org/get\", stream=True)\n",
    "r.encoding = 'utf-8'\n",
    "print(r.raw)        #HTTP回應的內容：伺服器回應的原始Socket回應\n",
    "print(r.raw.read(15))"
   ]
  },
  {
   "cell_type": "markdown",
   "metadata": {},
   "source": [
    "# 增加 URL 查詢參數\n",
    "許多的 GET 請求都會在 URL 中夾帶簡短的查詢參數\n",
    "（例如搜尋關鍵字等），這種狀況可以這樣寫："
   ]
  },
  {
   "cell_type": "code",
   "execution_count": 3,
   "metadata": {},
   "outputs": [
    {
     "name": "stdout",
     "output_type": "stream",
     "text": [
      "http://httpbin.org/get?key1=value1&key2=value2\n"
     ]
    }
   ],
   "source": [
    "# 查詢參數\n",
    "my_params = {'key1': 'value1', 'key2': 'value2'}\n",
    "\n",
    "# 將查詢參數加入 GET 請求中\n",
    "r = requests.get('http://httpbin.org/get', params = my_params)\n",
    "# 觀察 URL\n",
    "print(r.url)\n",
    "#雖然我們也可以自己產生這段 URL，然後直接指定給 requests，不過自己處理的話，\n",
    "#還必須注意編碼問題（尤其是有中文字的情況），所以建議還是交給 requests 統一處理比較省事。"
   ]
  },
  {
   "cell_type": "markdown",
   "metadata": {},
   "source": [
    "# 設定headers\n",
    "1. 為什麼要設定headers?<br>\n",
    "爬蟲結果出現urllib2.HTTPError: HTTP Error 403: Forbidden錯誤是由於網站禁止爬蟲，可以在請求加上頭信息，偽裝成瀏覽器訪問<br>\n",
    "headers是解決requests請求反爬的方法之一，相當於我們進去這個網頁的伺服器本身，假裝自己本身在爬取資料。<br>\n",
    "2. headers在哪裡找？<br>\n",
    "谷歌或者火狐瀏覽器，在網頁面上點選右鍵，–>檢查–>需要按(Fn+)F5刷新出網頁來–>點擊第一個請求，查看headers<br>\n",
    "3. headers中有很多內容，主要常用的就是user-agent 和 host，他們是以鍵對的形式展現出來，<br>\n",
    "如果user-agent以字典鍵對形式作為headers的內容，就可以反爬成功，就不需要其他鍵對；否則，需要加入headers下的更多鍵對形式。<br>"
   ]
  },
  {
   "cell_type": "code",
   "execution_count": 19,
   "metadata": {},
   "outputs": [
    {
     "name": "stdout",
     "output_type": "stream",
     "text": [
      "<html lang=\"en\">\n",
      "\n",
      "<head>\n",
      "    <meta charset=\"UTF-8\">\n",
      "    <meta name=\"viewport\" content=\"width=device-width, initial-scale=1.0\">\n",
      "    <meta http-equiv=\"X-UA-Compatible\" content=\"ie=edge\">\n",
      "    <title> 美食, 餐厅餐饮, 团购,生活,优惠券-大众点评网</title>\n",
      "        <link rel=\"icon\" href=\"//www.dpfile.com/app/pc-common/dp_favicon.ico\" type=\"image/x-icon\">\n",
      "    <link rel=\"shortcut icon\" href=\"//www.dpfile.com/app/pc-common/dp_favicon.ico\" type=\"image/x-icon\">\n",
      "    <link rel=\"stylesheet\" type=\"text/css\" href=\"//www.dpfile.com/app/pc-common/index.min.css\">\n",
      "    <link rel=\"stylesheet\" href=\"//www.dpfile.com/app/dpindex-new-static/static/new_404_pc.min.css\" type=\"text/css\"/>    <!--2. 引入页头模块 js  -->\n",
      "    <script type=\"text/javascript\">\n",
      "        window._DP_HeaderData = {\n",
      "            'cityId': '1',  \n",
      "            'cityCName': '', \n",
      "            'cityEnName': '', \n",
      "            'pageType': 'index', \n",
      "            'userId': '',   \n",
      "            'userName':'',   \n",
      "            'dpId': '',      \n",
      "            'uesrLng': '0.0', \n",
      "            'userLan': '0.0', \n",
      "            'clientIp': '' \n",
      "        }\n",
      "    </script>\n",
      "    <script type=\"text/javascript\">\n",
      "        (function (win, doc, ns) { var cacheFunName = '_MeiTuanALogObject'; win[cacheFunName] = ns; if (!win[ns]) { var _LX = function () { _LX.q.push(arguments); return _LX; }; _LX.q = _LX.q || []; _LX.l = +new Date(); win[ns] = _LX; } })(window, document, 'LXAnalytics');\n",
      "    </script>\n",
      "    <script src=\"//analytics.meituan.net/analytics.js\" type=\"text/javascript\" charset=\"utf-8\" async defer></script>\n",
      "</head>\n",
      "<div class=\"header-container\">\n",
      "    <div id=\"top-nav\" class=\"top-nav\">\n",
      "\n",
      "    </div>\n",
      "    <div id=\"logo-input\" class=\"logo-input\">\n",
      "        <div class=\"logo-input-container clearfix\">\n",
      "            <a title=\"大众点评网\" href=\"/\" class=\"logo\"></a>\n",
      "\n",
      "            <div class=\"search-box\">\n",
      "                <div class=\"search-bar \">\n",
      "\t\t\t<span class=\"search-container clearfix\">\n",
      "\t\t\t\t<i class=\"i-search\"></i>\n",
      "\t\t    </span>\n",
      "                    <p class=\"hot-search J-hot-search\">\n",
      "\n",
      "                    </p>\n",
      "                </div>\n",
      "            </div>\n",
      "            <div class=\"qrcode-container\">\n",
      "                <i class=\"close\"></i>\n",
      "                <div class=\"qrcode\">\n",
      "                    <p class=\"qrcode-text\">手机点评</p>\n",
      "                    <div class=\"qrcode-img\"></div>\n",
      "                </div>\n",
      "            </div>\n",
      "        </div>\n",
      "    </div>\n",
      "\n",
      "    <div class=\"cate-container\">\n",
      "        <div class=\"nav-header\">\n",
      "            <div class=\"navbar\">\n",
      "                <a href=\"//www.dianping.com\"><span class=\"cate-item all-cate\">全部分类</span></a>\n",
      "                <a target=\"_blank\" class=\"cate-item other-cate\" href=\"//t.dianping.com/shanghai\">团购</a>\n",
      "                <a target=\"_blank\" class=\"cate-item other-cate\" href=\"//s.dianping.com/event/shanghai\">霸王餐</a>\n",
      "                <i class = \"hot-icon\"></i>\n",
      "                <a target=\"_blank\" class=\"cate-item other-cate\" href=\"//s.dianping.com/shanghai/group?utm_source=dp_pc_other\">社区论坛</a>\n",
      "            </div>\n",
      "        </div>\n",
      "        <div class=\"gradient\"></div>\n",
      "\n",
      "    </div>\n",
      "\n",
      "</div>\n",
      "<div class=\"not-found\">\n",
      "    <div class=\"not-found-content\">\n",
      "        <div class=\"img-not-found\"></div>\n",
      "        <div class=\"not-found-right\">\n",
      "            <p class=\"not-found-words\">抱歉！页面无法访问......</p>\n",
      "            <p class=\"not-found-words1\">错误信息：</p>\n",
      "            <p class=\"not-found-words1\">    currentDate:2019-10-15 15:53:11</p>\n",
      "            <p class=\"not-found-words1\">    userIp:1.163.204.60</p>\n",
      "            <p class=\"not-found-words1\">    userAgent:python-requests/2.21.0</p>\n",
      "            <a class=\"back-to-home\" href=\"://www.dianping.com\">\n",
      "                <button type=\"button\">去大众点评首页</button>\n",
      "            </a>\n",
      "        </div>\n",
      "    </div>\n",
      "</div>\n",
      "\n",
      "<div class=\"footer-container\">\n",
      "    <div id=\"channel-footer\" class=\"channel-footer\">\n",
      "        <p class=\"links\"> <a target=\"_blank\" href=\"http://www.dianping.com/help/center/rule?name=about1\" rel=\"nofollow\">关于大众点评</a>| <a target=\"_blank\" href=\"https://dpapp-appeal.meituan.com/#/shopCreditRegulationPC\" rel=\"nofollow\">诚信公约</a>| <a target=\"_blank\" href=\"//www.dianping.com/help\" rel=\"nofollow\">网站帮助</a>| <a target=\"_blank\" href=\"http://www.dianping.com/sitemap/c1c10\">网站地图</a>| <a target=\"_blank\" href=\"//www.dianping.com/business/\" rel=\"nofollow\">推广服务</a>| <a target=\"_blank\" href=\"http://www.dianping.com/help/center/rule?name=media1\" rel=\"nofollow\">媒体报道</a>| <a target=\"_blank\" href=\"http://careers.dianping.com\" rel=\"nofollow\">人才招聘</a>|\n",
      "             <span class=\"links-container\"> <a class=\"ext-links\" href=\"javascript:void(0);\" rel=\"nofollow\">最新咨询</a>| </span> <a target=\"_blank\" href=\"http://www.dianping.com/forum\" rel=\"nofollow\">站务论坛</a>| <a target=\"_blank\" href=\"http://www.dianping.com/help/center/rule?name=about4\" rel=\"nofollow\">联系我们</a>| <a target=\"_blank\" href=\"http://developer.dianping.com\" rel=\"nofollow\">开发者</a>| <a target=\"_blank\" href=\"https://developer.meituan.com/?applyFrom=dianping_c_pc_busines\" rel=\"nofollow\">聚宝盆餐饮开放平台</a> </p>\n",
      "        <div class=\"ext-container Hide\">\n",
      "            <div class=\"link-items Hide\">\n",
      "                <a target=\"_blank\" href=\"http://www.dianping.com/wedding/wenda\"><span>结婚问答</span></a>\n",
      "                <a target=\"_blank\" href=\"http://www.dianping.com/home/wenda\"><span>家装问答</span></a>\n",
      "                <a target=\"_blank\" href=\"http://www.dianping.com/home-tuku\"><span>家装图库</span></a>\n",
      "                <a target=\"_blank\" href=\"//m.dianping.com/home-tuku\"><span>家装图库手机版</span></a>\n",
      "                <a target=\"_blank\" href=\"http://www.dianping.com/wedding\"><span>结婚资讯</span></a>\n",
      "                <a target=\"_blank\" href=\"http://www.dianping.com/plastic/item\"><span>整形项目大全</span></a>\n",
      "                <a target=\"_blank\" href=\"http://www.dianping.com/plastic/wenda\"><span>丽人问答</span></a>\n",
      "                <a target=\"_blank\" href=\"http://www.dianping.com/movie\"><span>点评电影</span></a>\n",
      "                <a target=\"_blank\" href=\"http://www.dianping.com/baby/wenda\"><span>育儿问答</span></a>\n",
      "            </div>\n",
      "        </div>\n",
      "        <p class=\"rights\"> <span style=\"margin-right:10px;\">&copy;2003-2018 dianping.com, All Rights Reserved.</span> <span>本站发布的所有内容，未经许可，不得转载，详见 <a rel=\"nofollow\" class=\"G\" href=\"//www.dianping.com/help/center/rule?name=base2\">《知识产权声明》</a>。 </span> </p>\n",
      "    </div>\n",
      "    <script> (function(){var h=navigator.userAgent;var i=navigator.appName;var b=i.indexOf(\"Microsoft Internet Explorer\")!==-1;if(!b){return false}var d=/MSIE (\\d+).0/g;var e=d.exec(h);if(e&&e.length&&e[1]<9){var j='<div class=\"browser-overlay\"></div><div id=\"browser-ie-con\" class=\"browser-ie-con\"><div id=\"browser-close\" class=\"close\">×</div><div class=\"browser-download chrome\"><a href=\"//www.google.cn/chrome/browser/desktop/index.html?utm_dp\" target=\"_black\" title=\"chrome\"></a></div><div class=\"browser-download firefox\"><a href=\"//www.firefox.com.cn/download/?utm_dp\" target=\"_black\" title=\"firefox\"></a></div></div>';var f=document.createElement(\"div\");f.id=\"browser-update-ie\";f.className=\"browser-update-ie\";f.innerHTML=j;document.body.appendChild(f);var a=document.documentElement.clientWidth||document.body.clientWidth;var c=document.getElementById(\"browser-ie-con\").offsetWidth;var g=(a-c)/2;document.getElementById(\"browser-ie-con\").style.left=g+\"px\";document.getElementById(\"browser-close\").attachEvent(\"onclick\",function(){document.getElementById(\"browser-update-ie\").style.display=\"none\"},false)}})(); </script>\n",
      "</div>\n",
      "<!DOCTYPE html>\n",
      "<html lang=\"en\">\n",
      "    <head>\n",
      "        <meta charset=\"UTF-8\">\n",
      "        <meta name=\"sogou_site_verification\" content=\"qxQgbwO3cZ\"/>\n",
      "        <meta name=\"shenma-site-verification\" content=\"688cc4e286b23880eb0eaec7476aecbe_1492066611\"/>\n",
      "        <meta http-equiv=\"X-UA-Compatible\" content=\"IE=edge\"/>\n",
      "\n",
      "        <title>新北美食_生活_团购_旅游_电影_优惠券 - 大众点评网</title>\n",
      "        <script>\n",
      "            var _start = +new Date();\n",
      "        </script>\n",
      "        <meta name=\"keyword\" content=\"新北点评, 新北团购, 新北美食, 新北优惠券, 新北生活服务,  新北餐厅,  新北电影票\" />\n",
      "        <meta name=\"description\" content=\"推荐 新北吃喝玩乐优惠信息，提供美食餐厅、酒店旅游、电影票、家居装修、美容美发、运动健身等各类生活服务，通过海量真实消费评论的聚合，帮您选到满意商家。\" />        \n",
      "        <!--网页标题左侧显示-->\n",
      "        <link rel=\"icon\"  type=\"image/x-icon\"  href=\"//www.dpfile.com/app/pc-common/dp_favicon.a4af753914321c8e82e402e2b4be01d7.ico\">\n",
      "        <!--收藏夹显示图标-->\n",
      "        <link rel=\"shortcut icon\" type=\"image/x-icon\" href=\"//www.dpfile.com/app/pc-common/dp_favicon.a4af753914321c8e82e402e2b4be01d7.ico\" >\n",
      "        <link rel=\"stylesheet\" type=\"text/css\" href=\"//www.dpfile.com/app/pc-common/index.min.85b02c8327e457441e43e57b63092649.css\">\n",
      "        <!-- 注入页头需要的参数  -->\n",
      "        <script type=\"text/javascript\">\n",
      "            window._DP_HeaderData = {\n",
      "                'cityId': '2340',  // 城市id , 必须，默认: '1'\n",
      "                'cityCName': '新北', // 城市中文名, 必须, 默认:上海\n",
      "                'cityEnName': 'newtaipei', // 城市英文名，默认：shanghai\n",
      "                'pageType': 'index', // 页面类型，枚举类型 'index' || 'search', 必须， 默认：'index'\n",
      "                    'userId': '',   // 用户id， 若用户已经登录，必须传，未登录时，可不传此参数，或者传空字符串''，默认:'', 未登录状态\n",
      "                    'userName': '',\n",
      "                'ipCityCName': '', // ip定位城市中文名\n",
      "                'ipCityEName': '', // ip定位城市英文名\n",
      "                'seo': 'false', // seo流量标示\n",
      "            }\n",
      "        </script>\n",
      "        <!--灵犀web4.0打点配置-->\n",
      "        <meta name=\"lx:category\" content=\"dianping_nova\">\n",
      "        <meta name=\"lx:appnm\" content=\"dp_pc\">\n",
      "        <meta name=\"lx:autopv\" content=\"off\" />\n",
      "        <!-- 配置 DNS 预解析 -->\n",
      "        <link rel=\"dns-prefetch\" href=\"//analytics.meituan.net\" />\n",
      "        <script type=\"text/javascript\">\n",
      "            !(function (win, doc, ns) {\n",
      "                var cacheFunName = '_MeiTuanALogObject';\n",
      "                win[cacheFunName] = ns;\n",
      "                if (!win[ns]) {\n",
      "                    var _LX = function () {\n",
      "                        _LX.q.push(arguments);\n",
      "                        return _LX;\n",
      "                    };\n",
      "                    _LX.q = _LX.q || [];\n",
      "                    _LX.l = +new Date();\n",
      "                    win[ns] = _LX;\n",
      "                }\n",
      "            })(window, document, 'LXAnalytics');\n",
      "\n",
      "            ;(function(){\n",
      "                var environment = null; // 设置环境信息\n",
      "                /**\n",
      "                 * 设置业务变量说明 valLab\n",
      "                 * 自定义业务扩展变量名称: user_id -> 用户id\n",
      "                 * 自定义业务扩展变量名称: city_id -> 城市\n",
      "                 */\n",
      "                var valLab = {\n",
      "                    \"city_id\": window._DP_HeaderData.cityId,\n",
      "                    \"user_id\": window._DP_HeaderData.userId\n",
      "                };\n",
      "                var cid = 'c_ywm5nx3j' // xxx为具体的cid编号，\n",
      "                LXAnalytics('pageView',valLab, environment, cid);\n",
      "            })();\n",
      "        </script>\n",
      "        <script src=\"//analytics.meituan.net/analytics.js\" type=\"text/javascript\" charset=\"utf-8\" async defer></script>\n",
      "        <script type=\"text/javascript\">\n",
      "            \"use strict\";!function(){var a=arguments.length>0&&void 0!==arguments[0]?arguments[0]:\"_Owl_\",i=window,t={page:!0,resource:!0,js:!0};i[a]||(i[a]={isRunning:!1,isReady:!1,preTasks:[],config:t,dataSet:[],use:function(a,t){this.isReady&&i.Owl&&i.Owl[a](t),this.preTasks.push({api:a,data:[t]})},add:function(a){this.dataSet.push(a)},run:function(a){var t=this;if(!this.isRunning){this.isRunning=!0;var e=a||this.config;if(!1!==e.js){var n=i.onerror;i.onerror=function(){this.isReady||this.add({type:\"jsError\",data:arguments}),n&&n.apply(i,arguments)}.bind(this)}var r=i.addEventListener||i.attachEvent;!1!==e.page&&r(\"load\",function(){if(!t.isReady){var a=i.performance&&i.performance.timing;t.add({type:\"pageTime\",data:[a]})}}),!1!==e.resource&&(r(\"error\",function(a){t.isReady||t.add({type:\"resError\",data:[a]})},!0),r(\"load\",function(a){t.isReady||t.add({type:\"resTime\",data:[a]})}))}}})}();\n",
      "            //默认配置启动全部监控，业务可根据需要手动关闭其中任一种类的监控,_Owl_为全局变量\n",
      "            _Owl_.run({\n",
      "                page: true, //页面性能采集\n",
      "                js: true, //JS全局错误采集\n",
      "                resource: true //资源加载错误、性能采集\n",
      "            })\n",
      "        </script>\n",
      "        <script type=\"text/javascript\">\n",
      "            if (window.location.search.indexOf(\"__mock_kodo=1\") != -1) {\n",
      "                var pre = \"http://preview.www.dpfile.com\";\n",
      "                if (window.location.protocol == \"https:\") {\n",
      "                    pre = \"https://www.dpfile.com\";\n",
      "                }\n",
      "                document.write(\"<script src='\" + pre + \"/app/dp-parrot-mocker/parrot.js' type='text/javascript' charset='utf-8'><\\/script>\");\n",
      "            }\n",
      "        </script>\n",
      "        <script crossorigin=\"anonymous\" src=\"//www.dpfile.com/app/owl/static/owl_1.5.16.js\"></script>\n",
      "        <script>\n",
      "            var devMode = location.href.indexOf('.51ping.com') !== -1\n",
      "            Owl.start({\n",
      "                devMode: devMode,\n",
      "                project: 'pc-new',\n",
      "                pageUrl: location.origin + location.pathname,\n",
      "                page: {\n",
      "                    sample: devMode ? 1 : 0.1,\n",
      "                    auto: false\n",
      "                }\n",
      "            })\n",
      "            //owl加载时间\n",
      "            Owl.addPoint({\n",
      "                position: 0,\n",
      "                duration: +new Date() - _start\n",
      "            })\n",
      "        </script>\n",
      "<link rel=\"stylesheet\" href=\"//www.dpfile.com/app/dpindex-new-static/static/index.min.7c92737ce9b0f64d89b3eeb7fc3ff2d6.css\" type=\"text/css\"/>    </head>\n",
      "    <body>\n",
      "        <div id=\"index-main\">\n",
      "            <!--页头部分-->\n",
      "            <div class=\"header-container\" id=\"header-container\">\n",
      "            <div id=\"top-nav\" class=\"top-nav\"> <div class=\"top-nav-container clearfix\"> <div class=\"group mini-logo Hide\"> <a rel=\"nofollow\" target=\"_blank\" class=\"item\" href=\"http://www.dianping.com\"><i class=\"icon-logo\"></i>大众点评首页</a> </div> <div class=\"group quick-menu \"> <a rel=\"nofollow\" class=\"item write-dp\" href=\"http://www.dianping.com/addreview/list\">写点评</a> <span class=\"seprate\">|</span> <span class=\"login-container J-login-container\"> <a rel=\"nofollow\" class=\"item \" href=\"http://account.dianping.com/login\" data-click-name=\"login\">你好，请登录</a> <a rel=\"nofollow\" class=\"item login\" href=\"https://account.dianping.com/reg\" data-click-name=\"reg\">免费注册</a> </span> <span class=\"seprate\">|</span> <a rel=\"nofollow\" href=\"http://www.dianping.com/member/myinfo\" class=\"item J-my-center-trigger\">个人中心<i class=\"icon i-arrow\"></i></a> <span class=\"seprate\">|</span> <a target=\"_blank\" class=\"item J-shop-serve-trigger\">商户服务<i class=\"icon i-arrow\"></i></a> <span class=\"seprate\">|</span> <a target=\"_blank\" class=\"item J-help-trigger\">帮助中心<i class=\"icon i-arrow\"></i></a> <span class=\"seprate\">|</span> <a target=\"_blank\" class=\"item J-brower-trigger Hide\">最近浏览<i class=\"icon i-arrow\"></i></a> <a target=\"_blank\" class=\"item J-site-trigger\">网站导航<i class=\"icon i-arrow\"></i></a> </div> <div class=\"panel my-center J-my-center-target Hide\"> </div> <div class=\"panel my-center J-shop-serve-target Hide\"> <a rel=\"nofollow\" target=\"_blank\" href=\"https://e.dianping.com/\" data-click-name=\"shop-center\">商户中心</a> <a rel=\"nofollow\" target=\"_blank\" href=\"https://e.dianping.com/claimcpc/page/index?source=dp\" data-click-name=\"shop-coop\">商户合作</a> <a rel=\"nofollow\" target=\"_blank\" href=\"http://paidui.meituan.com/?activity_code=165_00143139\" data-click-name=\"paidui\">免费使用美团排队</a> <a rel=\"nofollow\" target=\"_blank\" href=\"https://daili.meituan.com/?comeFrom=dpwebMenu\" data-click-name=\"daili\">招募餐饮代理</a> <a rel=\"nofollow\" target=\"_blank\" href=\"https://daili.meituan.com/dz-zhaoshang\" data-click-name=\"apollo\">招募非餐饮代理</a> </div> <div class=\"panel my-center J-help-target Hide\"> <a rel=\"nofollow\" target=\"_blank\" href=\"https://rules-center.meituan.com?from=dianpingPC\" data-click-name=\"useragreement\">平台规则</a> <a rel=\"nofollow\" target=\"_blank\" href=\"http://kf.dianping.com\" data-click-name=\"kf\">联系客服</a> </div> <div class=\"panel site-nav J-site-target Hide\"> </div> </div> </div> <div id=\"logo-input\" class=\"logo-input\"> <div class=\"logo-input-container clearfix\"> <a title=\"大众点评网\" href=\"/\" class=\"logo\"></a> <a target=\"_blank\" class=\"city J-city\"><span class=\"map-icon\"></span><span>新北</span><i class=\"icon i-arrow\"></i></a> <div class=\"city-list J-city-list Hide\"> <div class=\"group clearfix\"> <h3 class=\"title\">国内城市</h3> <div> <a href=\"//www.dianping.com/shanghai\" class=\"city-item\">上海</a> <a href=\"//www.dianping.com/beijing\" class=\"city-item\">北京</a> <a href=\"//www.dianping.com/guangzhou\" class=\"city-item\">广州</a> <a href=\"//www.dianping.com/shenzhen\" class=\"city-item\">深圳</a> <a href=\"//www.dianping.com/tianjin\" class=\"city-item\">天津</a> <a href=\"//www.dianping.com/hangzhou\" class=\"city-item\">杭州</a> <a href=\"//www.dianping.com/nanjing\" class=\"city-item\">南京</a> <a href=\"//www.dianping.com/suzhou\" class=\"city-item\">苏州</a> <a href=\"//www.dianping.com/chengdu\" class=\"city-item\">成都</a> <a href=\"//www.dianping.com/wuhan\" class=\"city-item\">武汉</a> <a href=\"//www.dianping.com/chongqing\" class=\"city-item\">重庆</a> <a href=\"//www.dianping.com/xian\" class=\"city-item\">西安</a> </div> </div> <div class=\"group clearfix\"> <h3 class=\"title\">国外城市</h3> <div> <a href=\"//www.dianping.com/tokyo\" class=\"city-item\">东京</a> <a href=\"//www.dianping.com/seoul\" class=\"city-item\">首尔</a> <a href=\"//www.dianping.com/bangkok\" class=\"city-item\">曼谷</a> <a href=\"//www.dianping.com/paris\" class=\"city-item\">巴黎</a> </div> </div> <a class=\"all\" href=\"//www.dianping.com/citylist\">更多城市 ></a> </div> <div class=\"search-box\"> <div class=\"search-bar \"> <span class=\"search-container clearfix\"> <i class=\"i-search\"></i> <span> <input id=\"J-search-input\" class=\"J-search-input\" x-webkit-speech=\"\" x-webkit-grammar=\"builtin:translate\" data-s-pattern=\"https://www.dianping.com/search/keyword/{0}/{1}_\" data-s-epattern=\"https://www.dianping.com/newtaipei/{0}\" data-s-cateid=\"0\" data-s-cityid=\"1\" type=\"text\" placeholder=\"搜索商户名、地址、菜名、外卖等\" autocomplete=\"off\" /> </span> <span class=\"search-bnt-panel\"> <a target=\"_blank\" class=\"search-btn J-search-btn\" id=\"J-all-btn\" data-s-chanid=\"0\">搜索</a> </span> </span> <p class=\"hot-search J-hot-search\"> </p> </div> </div> </div> </div> <div class=\"cate-container\"> <div class=\"nav-header\"> <div class=\"navbar\"> <span class=\"cate-item all-cate\">全部分类</span> <a target=\"_blank\" class=\"cate-item other-cate\" href=\"http://s.dianping.com/event/newtaipei\" data-click-title=\"row-nav\" data-click-name=\"霸王餐\">霸王餐</a> <i class = \"hot-icon\"></i> <a target=\"_blank\" class=\"cate-item other-cate\" href=\"http://s.dianping.com/newtaipei/group?utm_source=dp_pc_index\" data-click-title=\"row-nav\" data-click-name=\"社区论坛\">社区论坛</a> <a target=\"_blank\" class=\"cate-item other-cate\" href=\"https://reserve.dianping.com/pc/poi/list\" data-click-title=\"row-nav\" data-click-name=\"预约订座\">预约订座</a> </div> </div> <div class=\"gradient\"></div> <div id=\"cate-index\" class=\"cate-index\"> <div class=\"navwrap\"> <div id=\"nav\" > <div class=\"cate-nav J-cate-nav Hidden\"> <ul class=\"first-cate J-primary-menu\"> <li class=\"first-item\"> <div class=\"primary-container\"> <span class=\"span-container\"> <a target=\"_blank\" class=\"index-title\" href=\"http://www.dianping.com/newtaipei/food\" data-category=\"index.food\" data-click-title=\"first\" data-click-name=\"food\">美食</a> <a target=\"_blank\" class=\"index-item\" href=\"http://www.dianping.com/newtaipei/ch10/g110\" data-category=\"index.food\" data-click-title=\"second\" data-click-name=\"g110\"><span>火锅</span></a> <a target=\"_blank\" class=\"index-item\" href=\"http://www.dianping.com/search/keyword/2340/10_%E8%81%9A%E9%A4%90/o2\" data-category=\"index.food\" data-click-title=\"second\" data-click-name=\"o2\"><span>人气聚餐</span></a> </span> </div> <div class=\"sec-cate Hide\" data-category=\"cate.index.food\" > <div class=\"groups\"> <div class=\"group\"> <div class=\"sec-title\"> <span class=\"channel-title\" href=\"http://www.dianping.com/newtaipei/food\">菜系</span> <a target=\"_blank\" class=\"more-cate\" href=\"http://www.dianping.com/newtaipei/food\" data-category=\"index.food\" data-click-name=\"more\">更多<i class=\"icon-right icon-right-hover\"></i></a> </div> <div class=\"sec-items\"> <a target=\"_blank\" class=\"second-item\" href=\"http://www.dianping.com/newtaipei/ch10/g110\" data-category=\"index.food\" data-click-name=\"g110\">火锅</a> <a target=\"_blank\" class=\"second-item\" href=\"http://www.dianping.com/newtaipei/ch10/g101\" data-category=\"index.food\" data-click-name=\"g101\">本帮江浙菜</a> <a target=\"_blank\" class=\"second-item\" href=\"http://www.dianping.com/newtaipei/ch10/g113\" data-category=\"index.food\" data-click-name=\"g113\">日本菜</a> <a target=\"_blank\" class=\"second-item\" href=\"http://www.dianping.com/newtaipei/ch10/g117\" data-category=\"index.food\" data-click-name=\"g117\">面包甜点</a> <a target=\"_blank\" class=\"second-item\" href=\"http://www.dianping.com/newtaipei/ch10/g132\" data-category=\"index.food\" data-click-name=\"g132\">咖啡厅</a> <a target=\"_blank\" class=\"second-item\" href=\"http://www.dianping.com/newtaipei/ch10/g111\" data-category=\"index.food\" data-click-name=\"g111\">自助餐</a> <a target=\"_blank\" class=\"second-item\" href=\"http://www.dianping.com/newtaipei/ch10/g112\" data-category=\"index.food\" data-click-name=\"g112\">小吃快餐</a> <a target=\"_blank\" class=\"second-item\" href=\"http://www.dianping.com/newtaipei/ch10/g116\" data-category=\"index.food\" data-click-name=\"g116\">西餐</a> <a target=\"_blank\" class=\"second-item\" href=\"http://www.dianping.com/newtaipei/ch10/g114\" data-category=\"index.food\" data-click-name=\"g114\">韩国料理</a> <a target=\"_blank\" class=\"second-item\" href=\"http://www.dianping.com/newtaipei/ch10/g103\" data-category=\"index.food\" data-click-name=\"g103\">粤菜</a> <a target=\"_blank\" class=\"second-item\" href=\"http://www.dianping.com/newtaipei/ch10/g508\" data-category=\"index.food\" data-click-name=\"g508\">烧烤</a> <a target=\"_blank\" class=\"second-item\" href=\"http://www.dianping.com/newtaipei/ch10/g115\" data-category=\"index.food\" data-click-name=\"g115\">东南亚菜</a> <a target=\"_blank\" class=\"second-item\" href=\"http://www.dianping.com/newtaipei/ch10/g102\" data-category=\"index.food\" data-click-name=\"g102\">川菜</a> <a target=\"_blank\" class=\"second-item\" href=\"http://www.dianping.com/newtaipei/ch10/g109\" data-category=\"index.food\" data-click-name=\"g109\">素菜</a> <a target=\"_blank\" class=\"second-item\" href=\"http://www.dianping.com/newtaipei/ch10/g106\" data-category=\"index.food\" data-click-name=\"g106\">东北菜</a> <a target=\"_blank\" class=\"second-item\" href=\"http://www.dianping.com/newtaipei/ch10/g104\" data-category=\"index.food\" data-click-name=\"g104\">湘菜</a> <a target=\"_blank\" class=\"second-item\" href=\"http://www.dianping.com/newtaipei/ch10/g248\" data-category=\"index.food\" data-click-name=\"g248\">云南菜</a> <a target=\"_blank\" class=\"second-item\" href=\"http://www.dianping.com/newtaipei/ch10/g3243\" data-category=\"index.food\" data-click-name=\"g3243\">新疆菜</a> <a target=\"_blank\" class=\"second-item\" href=\"http://www.dianping.com/newtaipei/ch10/g251\" data-category=\"index.food\" data-click-name=\"g251\">海鲜</a> <a target=\"_blank\" class=\"second-item\" href=\"http://www.dianping.com/newtaipei/ch10/g26481\" data-category=\"index.food\" data-click-name=\"g26481\">西北菜</a> <a target=\"_blank\" class=\"second-item\" href=\"http://www.dianping.com/newtaipei/ch10/g203\" data-category=\"index.food\" data-click-name=\"g203\">蟹宴</a> <a target=\"_blank\" class=\"second-item\" href=\"http://www.dianping.com/newtaipei/ch10/g107\" data-category=\"index.food\" data-click-name=\"g107\">台湾菜</a> <a target=\"_blank\" class=\"second-item\" href=\"http://www.dianping.com/newtaipei/ch10/g105\" data-category=\"index.food\" data-click-name=\"g105\">贵州菜</a> <a target=\"_blank\" class=\"second-item\" href=\"http://www.dianping.com/newtaipei/ch10/g215\" data-category=\"index.food\" data-click-name=\"g215\">面馆</a> <a target=\"_blank\" class=\"second-item\" href=\"http://www.dianping.com/newtaipei/ch10/g219\" data-category=\"index.food\" data-click-name=\"g219\">小龙虾</a> <a target=\"_blank\" class=\"second-item\" href=\"http://www.dianping.com/newtaipei/ch10/g247\" data-category=\"index.food\" data-click-name=\"g247\">江西菜</a> <a target=\"_blank\" class=\"second-item\" href=\"http://www.dianping.com/newtaipei/ch10/g1783\" data-category=\"index.food\" data-click-name=\"g1783\">家常菜</a> <a target=\"_blank\" class=\"second-item\" href=\"http://www.dianping.com/newtaipei/ch10/g118\" data-category=\"index.food\" data-click-name=\"g118\">其他</a> </div> </div> <div class=\"group\"> <div class=\"sec-title\"> <span class=\"channel-title\" href=\"\">热门推荐</span> </div> <div class=\"sec-items\"> <a target=\"_blank\" class=\"second-item\" href=\"http://www.dianping.com/search/keyword/2340/0_%E5%88%BA%E8%BA%AB\" data-category=\"index.food\" data-click-name=\"0_%E5%88%BA%E8%BA%AB\">刺身</a> <a target=\"_blank\" class=\"second-item\" href=\"http://www.dianping.com/search/keyword/2340/0_%E7%BA%A2%E7%83%A7%E8%82%89\" data-category=\"index.food\" data-click-name=\"0_%E7%BA%A2%E7%83%A7%E8%82%89\">红烧肉</a> <a target=\"_blank\" class=\"second-item\" href=\"http://www.dianping.com/search/keyword/2340/0_%E7%89%9B%E6%8E%92\" data-category=\"index.food\" data-click-name=\"0_%E7%89%9B%E6%8E%92\">牛排</a> <a target=\"_blank\" class=\"second-item\" href=\"http://www.dianping.com/search/keyword/2340/0_%E7%83%A4%E9%B1%BC\" data-category=\"index.food\" data-click-name=\"0_%E7%83%A4%E9%B1%BC\">烤鱼</a> <a target=\"_blank\" class=\"second-item\" href=\"http://www.dianping.com/search/keyword/2340/0_%E4%B8%89%E6%96%87%E9%B1%BC\" data-category=\"index.food\" data-click-name=\"0_%E4%B8%89%E6%96%87%E9%B1%BC\">三文鱼</a> <a target=\"_blank\" class=\"second-item\" href=\"http://www.dianping.com/search/keyword/2340/0_%E6%84%8F%E5%A4%A7%E5%88%A9%E9%9D%A2\" data-category=\"index.food\" data-click-name=\"0_%E6%84%8F%E5%A4%A7%E5%88%A9%E9%9D%A2\">意大利面</a> </div> </div> </div> </div> </li> <li class=\"first-item\"> <div class=\"primary-container\"> <span class=\"span-container\"> <a target=\"_blank\" class=\"index-title\" href=\"http://www.dianping.com/newtaipei/life\" data-category=\"index.life\" data-click-title=\"first\" data-click-name=\"life\">休闲娱乐</a> <a target=\"_blank\" class=\"index-item\" href=\"http://www.dianping.com/newtaipei/ch30/g141\" data-category=\"index.life\" data-click-title=\"second\" data-click-name=\"g141\"><span>足疗</span></a> <a target=\"_blank\" class=\"index-item\" href=\"http://www.dianping.com/newtaipei/ch15/g135\" data-category=\"index.life\" data-click-title=\"second\" data-click-name=\"g135\"><span>KTV</span></a> </span> </div> <div class=\"sec-cate Hide\" data-category=\"cate.index.life\" > <div class=\"groups\"> <div class=\"group\"> <div class=\"sec-title\"> <span class=\"channel-title\" href=\"\">足疗洗浴</span> </div> <div class=\"sec-items\"> <a target=\"_blank\" class=\"second-item\" href=\"http://www.dianping.com/newtaipei/ch30/g141\" data-category=\"index.life\" data-click-name=\"g141\">足疗按摩</a> <a target=\"_blank\" class=\"second-item\" href=\"http://www.dianping.com/newtaipei/ch30/g140\" data-category=\"index.life\" data-click-name=\"g140\">洗浴/汗蒸</a> </div> </div> <div class=\"group\"> <div class=\"sec-title\"> <span class=\"channel-title\" href=\"\">玩乐</span> </div> <div class=\"sec-items\"> <a target=\"_blank\" class=\"second-item\" href=\"http://www.dianping.com/newtaipei/ch15/g135\" data-category=\"index.life\" data-click-name=\"g135\">KTV</a> <a target=\"_blank\" class=\"second-item\" href=\"http://www.dianping.com/newtaipei/ch30/g133\" data-category=\"index.life\" data-click-name=\"g133\">酒吧</a> <a target=\"_blank\" class=\"second-item\" href=\"http://www.dianping.com/newtaipei/ch30/g2754\" data-category=\"index.life\" data-click-name=\"g2754\">密室逃脱</a> <a target=\"_blank\" class=\"second-item\" href=\"http://www.dianping.com/newtaipei/ch30/g20040\" data-category=\"index.life\" data-click-name=\"g20040\">轰趴馆</a> <a target=\"_blank\" class=\"second-item\" href=\"http://www.dianping.com/newtaipei/ch30/g134\" data-category=\"index.life\" data-click-name=\"g134\">茶馆</a> <a target=\"_blank\" class=\"second-item\" href=\"http://www.dianping.com/newtaipei/ch30/g20041\" data-category=\"index.life\" data-click-name=\"g20041\">私人影院</a> <a target=\"_blank\" class=\"second-item\" href=\"http://www.dianping.com/newtaipei/ch30/g20042\" data-category=\"index.life\" data-click-name=\"g20042\">网吧网咖</a> <a target=\"_blank\" class=\"second-item\" href=\"http://www.dianping.com/newtaipei/ch30/g144\" data-category=\"index.life\" data-click-name=\"g144\">DIY手工坊</a> <a target=\"_blank\" class=\"second-item\" href=\"http://www.dianping.com/newtaipei/ch30/g20038\" data-category=\"index.life\" data-click-name=\"g20038\">采摘/农家乐</a> <a target=\"_blank\" class=\"second-item\" href=\"http://www.dianping.com/newtaipei/ch30/g142\" data-category=\"index.life\" data-click-name=\"g142\">文化艺术</a> <a target=\"_blank\" class=\"second-item\" href=\"http://www.dianping.com/newtaipei/ch30/g137\" data-category=\"index.life\" data-click-name=\"g137\">游乐游艺</a> <a target=\"_blank\" class=\"second-item\" href=\"http://www.dianping.com/newtaipei/ch30/g33857\" data-category=\"index.life\" data-click-name=\"g33857\">VR</a> <a target=\"_blank\" class=\"second-item\" href=\"http://www.dianping.com/newtaipei/ch30/g6694\" data-category=\"index.life\" data-click-name=\"g6694\">桌游</a> <a target=\"_blank\" class=\"second-item\" href=\"http://www.dianping.com/newtaipei/ch30/g34089\" data-category=\"index.life\" data-click-name=\"g34089\">团建拓展</a> <a target=\"_blank\" class=\"second-item\" href=\"http://www.dianping.com/newtaipei/ch30/g32732\" data-category=\"index.life\" data-click-name=\"g32732\">棋牌室</a> <a target=\"_blank\" class=\"second-item\" href=\"http://www.dianping.com/newtaipei/ch30/g156\" data-category=\"index.life\" data-click-name=\"g156\">桌球馆</a> </div> </div> </div> </div> </li> <li class=\"first-item\"> <div class=\"primary-container\"> <span class=\"span-container\"> <a target=\"_blank\" class=\"index-title\" href=\"http://www.dianping.com/newtaipei/wedding\" data-category=\"index.wedding\" data-click-title=\"first\" data-click-name=\"wedding\">结婚</a> <a target=\"_blank\" class=\"index-item\" href=\"http://www.dianping.com/newtaipei/ch55/g163\" data-category=\"index.wedding\" data-click-title=\"second\" data-click-name=\"g163\"><span>婚纱摄影</span></a> <a target=\"_blank\" class=\"index-item\" href=\"http://www.dianping.com/newtaipei/ch55/g167\" data-category=\"index.wedding\" data-click-title=\"second\" data-click-name=\"g167\"><span>婚礼策划</span></a> </span> </div> <div class=\"sec-cate Hide\" data-category=\"cate.index.wedding\" > <div class=\"groups\"> <div class=\"group\"> <div class=\"sec-title\"> <span class=\"channel-title\" href=\"http://www.dianping.com/newtaipei/wedding\">结婚</span> <a target=\"_blank\" class=\"more-cate\" href=\"http://www.dianping.com/newtaipei/wedding\" data-category=\"index.wedding\" data-click-name=\"more\">更多<i class=\"icon-right icon-right-hover\"></i></a> </div> <div class=\"sec-items\"> <a target=\"_blank\" class=\"second-item\" href=\"http://www.dianping.com/newtaipei/ch55/g163\" data-category=\"index.wedding\" data-click-name=\"g163\">婚纱摄影</a> <a target=\"_blank\" class=\"second-item\" href=\"http://www.dianping.com/jiehun/lvpai?cityId=2340\" data-category=\"index.wedding\" data-click-name=\"lvpai?cityId=2340\">旅拍</a> <a target=\"_blank\" class=\"second-item\" href=\"http://www.dianping.com/wedding/hunyan?cityId=2340\" data-category=\"index.wedding\" data-click-name=\"hunyan?cityId=2340\">婚宴</a> <a target=\"_blank\" class=\"second-item\" href=\"http://www.dianping.com/newtaipei/ch55/g167\" data-category=\"index.wedding\" data-click-name=\"g167\">婚礼策划</a> <a target=\"_blank\" class=\"second-item\" href=\"http://www.dianping.com/newtaipei/ch55/g162\" data-category=\"index.wedding\" data-click-name=\"g162\">婚纱礼服</a> <a target=\"_blank\" class=\"second-item\" href=\"http://www.dianping.com/newtaipei/ch55/g25412\" data-category=\"index.wedding\" data-click-name=\"g25412\">西服定制</a> <a target=\"_blank\" class=\"second-item\" href=\"http://www.dianping.com/newtaipei/ch55/g191\" data-category=\"index.wedding\" data-click-name=\"g191\">婚戒首饰</a> <a target=\"_blank\" class=\"second-item\" href=\"http://www.dianping.com/newtaipei/ch55/g166\" data-category=\"index.wedding\" data-click-name=\"g166\">彩妆造型</a> <a target=\"_blank\" class=\"second-item\" href=\"http://www.dianping.com/newtaipei/ch55/g164\" data-category=\"index.wedding\" data-click-name=\"g164\">司仪主持</a> <a target=\"_blank\" class=\"second-item\" href=\"http://www.dianping.com/newtaipei/ch55/g185\" data-category=\"index.wedding\" data-click-name=\"g185\">婚礼跟拍</a> <a target=\"_blank\" class=\"second-item\" href=\"http://www.dianping.com/newtaipei/ch55/g186\" data-category=\"index.wedding\" data-click-name=\"g186\">婚车租赁</a> <a target=\"_blank\" class=\"second-item\" href=\"http://www.dianping.com/newtaipei/ch55/g192\" data-category=\"index.wedding\" data-click-name=\"g192\">婚礼小商品</a> <a target=\"_blank\" class=\"second-item\" href=\"http://www.dianping.com/newtaipei/ch55/g6700\" data-category=\"index.wedding\" data-click-name=\"g6700\">个性写真</a> <a target=\"_blank\" class=\"second-item\" href=\"http://www.dianping.com/newtaipei/ch55/g6844\" data-category=\"index.wedding\" data-click-name=\"g6844\">更多婚礼服务</a> <a target=\"_blank\" class=\"second-item\" href=\"http://www.dianping.com/newtaipei/ch55/g25410\" data-category=\"index.wedding\" data-click-name=\"g25410\">婚房装修</a> </div> </div> </div> </div> </li> <li class=\"first-item\"> <div class=\"primary-container\"> <span class=\"span-container\"> <a target=\"_blank\" class=\"index-title\" href=\"http://www.dianping.com/newtaipei/movie\" data-category=\"index.movie\" data-click-title=\"first\" data-click-name=\"movie\">电影演出赛事</a> <a target=\"_blank\" class=\"index-item\" href=\"http://www.dianping.com/newtaipei/ch25/g136\" data-category=\"index.movie\" data-click-title=\"second\" data-click-name=\"g136\"><span>电影院</span></a> <a target=\"_blank\" class=\"index-item\" href=\"http://www.dianping.com/newtaipei/ch25/g25461\" data-category=\"index.movie\" data-click-title=\"second\" data-click-name=\"g25461\"><span>演出场馆</span></a> </span> </div> <div class=\"sec-cate Hide\" data-category=\"cate.index.movie\" > <div class=\"groups\"> <div class=\"group\"> <div class=\"sec-title\"> <span class=\"channel-title\" href=\"\">电影</span> </div> <div class=\"sec-items\"> <a target=\"_blank\" class=\"second-item\" href=\"http://www.dianping.com/newtaipei/ch30/g136\" data-category=\"index.movie\" data-click-name=\"g136\">电影院</a> </div> </div> <div class=\"group\"> <div class=\"sec-title\"> <span class=\"channel-title\" href=\"\">演出赛事</span> </div> <div class=\"sec-items\"> <a target=\"_blank\" class=\"second-item\" href=\"http://www.dianping.com/newtaipei/ch25/g25461\" data-category=\"index.movie\" data-click-name=\"g25461\">演出场馆</a> <a target=\"_blank\" class=\"second-item\" href=\"http://www.dianping.com/newtaipei/ch25/g33877\" data-category=\"index.movie\" data-click-name=\"g33877\">剧场/影院</a> <a target=\"_blank\" class=\"second-item\" href=\"http://www.dianping.com/newtaipei/ch25/g33878\" data-category=\"index.movie\" data-click-name=\"g33878\">音乐厅/礼堂</a> <a target=\"_blank\" class=\"second-item\" href=\"http://www.dianping.com/newtaipei/ch25/g33879\" data-category=\"index.movie\" data-click-name=\"g33879\">艺术中心/文化广场</a> <a target=\"_blank\" class=\"second-item\" href=\"http://www.dianping.com/newtaipei/ch25/g33880\" data-category=\"index.movie\" data-click-name=\"g33880\">热门演出</a> <a target=\"_blank\" class=\"second-item\" href=\"http://www.dianping.com/newtaipei/ch25/g33881\" data-category=\"index.movie\" data-click-name=\"g33881\">赛事展览</a> <a target=\"_blank\" class=\"second-item\" href=\"http://www.dianping.com/newtaipei/ch25/g33882\" data-category=\"index.movie\" data-click-name=\"g33882\">其他电影演出赛事</a> </div> </div> </div> </div> </li> <li class=\"first-item\"> <div class=\"primary-container\"> <span class=\"span-container\"> <a target=\"_blank\" class=\"index-title\" href=\"http://www.dianping.com/newtaipei/beauty\" data-category=\"index.beauty\" data-click-title=\"first\" data-click-name=\"beauty\">丽人</a> <a target=\"_blank\" class=\"index-item\" href=\"http://www.dianping.com/newtaipei/ch50/g157\" data-category=\"index.beauty\" data-click-title=\"second\" data-click-name=\"g157\"><span>美发</span></a> <a target=\"_blank\" class=\"index-item\" href=\"http://www.dianping.com/newtaipei/ch50/g183\" data-category=\"index.beauty\" data-click-title=\"second\" data-click-name=\"g183\"><span>医学美容</span></a> </span> </div> <div class=\"sec-cate Hide\" data-category=\"cate.index.beauty\" > <div class=\"groups\"> <div class=\"group\"> <div class=\"sec-title\"> <span class=\"channel-title\" href=\"http://www.dianping.com/newtaipei/beauty\">丽人</span> <a target=\"_blank\" class=\"more-cate\" href=\"http://www.dianping.com/newtaipei/beauty\" data-category=\"index.beauty\" data-click-name=\"more\">更多<i class=\"icon-right icon-right-hover\"></i></a> </div> <div class=\"sec-items\"> <a target=\"_blank\" class=\"second-item\" href=\"http://www.dianping.com/newtaipei/ch50/g157\" data-category=\"index.beauty\" data-click-name=\"g157\">美发</a> <a target=\"_blank\" class=\"second-item\" href=\"http://www.dianping.com/newtaipei/ch50/g33761\" data-category=\"index.beauty\" data-click-name=\"g33761\">美甲美睫</a> <a target=\"_blank\" class=\"second-item\" href=\"http://www.dianping.com/newtaipei/ch50/g158\" data-category=\"index.beauty\" data-click-name=\"g158\">美容／SPA</a> <a target=\"_blank\" class=\"second-item\" href=\"http://www.dianping.com/newtaipei/ch50/g34281\" data-category=\"index.beauty\" data-click-name=\"g34281\">养发</a> <a target=\"_blank\" class=\"second-item\" href=\"http://www.dianping.com/newtaipei/ch50/g159\" data-category=\"index.beauty\" data-click-name=\"g159\">瘦身纤体</a> <a target=\"_blank\" class=\"second-item\" href=\"http://www.dianping.com/newtaipei/ch50/g148\" data-category=\"index.beauty\" data-click-name=\"g148\">瑜伽</a> <a target=\"_blank\" class=\"second-item\" href=\"http://www.dianping.com/newtaipei/ch50/g149\" data-category=\"index.beauty\" data-click-name=\"g149\">舞蹈</a> <a target=\"_blank\" class=\"second-item\" href=\"http://www.dianping.com/newtaipei/ch50/g2898\" data-category=\"index.beauty\" data-click-name=\"g2898\">韩式定妆</a> <a target=\"_blank\" class=\"second-item\" href=\"http://www.dianping.com/newtaipei/ch50/g2572\" data-category=\"index.beauty\" data-click-name=\"g2572\">祛痘</a> <a target=\"_blank\" class=\"second-item\" href=\"http://www.dianping.com/newtaipei/ch50/g493\" data-category=\"index.beauty\" data-click-name=\"g493\">纹身</a> <a target=\"_blank\" class=\"second-item\" href=\"http://www.dianping.com/newtaipei/ch50/g123\" data-category=\"index.beauty\" data-click-name=\"g123\">化妆品</a> <a target=\"_blank\" class=\"second-item\" href=\"http://www.dianping.com/newtaipei/ch50/g2790\" data-category=\"index.beauty\" data-click-name=\"g2790\">产后塑形</a> </div> </div> <div class=\"group\"> <div class=\"sec-title\"> <span class=\"channel-title\" href=\"http://www.dianping.com/newtaipei/ch50/g183\">医学美容</span> <a target=\"_blank\" class=\"more-cate\" href=\"http://www.dianping.com/newtaipei/ch50/g183\" data-category=\"index.beauty\" data-click-name=\"more\">更多<i class=\"icon-right icon-right-hover\"></i></a> </div> <div class=\"sec-items\"> <a target=\"_blank\" class=\"second-item\" href=\"http://www.dianping.com/search/keyword/2340/50_%E6%B0%B4%E5%85%89%E9%92%88\" data-category=\"index.beauty\" data-click-name=\"50_%E6%B0%B4%E5%85%89%E9%92%88\">水光针</a> <a target=\"_blank\" class=\"second-item\" href=\"http://www.dianping.com/search/keyword/2340/50_%E7%98%A6%E8%84%B8%E9%92%88\" data-category=\"index.beauty\" data-click-name=\"50_%E7%98%A6%E8%84%B8%E9%92%88\">瘦脸针</a> <a target=\"_blank\" class=\"second-item\" href=\"http://www.dianping.com/search/keyword/2340/50_%E6%8A%97%E8%A1%B0%E8%80%81\" data-category=\"index.beauty\" data-click-name=\"50_%E6%8A%97%E8%A1%B0%E8%80%81\">抗衰老</a> <a target=\"_blank\" class=\"second-item\" href=\"http://www.dianping.com/search/keyword/2340/50_%E5%8F%8C%E7%9C%BC%E7%9A%AE\" data-category=\"index.beauty\" data-click-name=\"50_%E5%8F%8C%E7%9C%BC%E7%9A%AE\">双眼皮</a> <a target=\"_blank\" class=\"second-item\" href=\"http://www.dianping.com/search/keyword/2340/50_%E7%8E%BB%E5%B0%BF%E9%85%B8\" data-category=\"index.beauty\" data-click-name=\"50_%E7%8E%BB%E5%B0%BF%E9%85%B8\">玻尿酸</a> <a target=\"_blank\" class=\"second-item\" href=\"http://www.dianping.com/search/keyword/2340/50_%E7%BE%8E%E7%99%BD%E5%AB%A9%E8%82%A4\" data-category=\"index.beauty\" data-click-name=\"50_%E7%BE%8E%E7%99%BD%E5%AB%A9%E8%82%A4\">美白嫩肤</a> <a target=\"_blank\" class=\"second-item\" href=\"http://www.dianping.com/search/keyword/2340/50_%E8%82%89%E6%AF%92%E7%B4%A0\" data-category=\"index.beauty\" data-click-name=\"50_%E8%82%89%E6%AF%92%E7%B4%A0\">肉毒素</a> <a target=\"_blank\" class=\"second-item\" href=\"http://www.dianping.com/search/keyword/2340/50_%E7%99%BD%E7%93%B7%E5%A8%83%E5%A8%83\" data-category=\"index.beauty\" data-click-name=\"50_%E7%99%BD%E7%93%B7%E5%A8%83%E5%A8%83\">白瓷娃娃</a> <a target=\"_blank\" class=\"second-item\" href=\"http://www.dianping.com/search/keyword/2340/50_%E9%9A%86%E9%BC%BB\" data-category=\"index.beauty\" data-click-name=\"50_%E9%9A%86%E9%BC%BB\">隆鼻</a> <a target=\"_blank\" class=\"second-item\" href=\"http://www.dianping.com/search/keyword/2340/50_%E8%B6%85%E5%A3%B0%E5%88%80\" data-category=\"index.beauty\" data-click-name=\"50_%E8%B6%85%E5%A3%B0%E5%88%80\">超声刀</a> <a target=\"_blank\" class=\"second-item\" href=\"http://www.dianping.com/search/keyword/2340/50_%E5%86%B7%E5%86%BB%E6%BA%B6%E8%84%82\" data-category=\"index.beauty\" data-click-name=\"50_%E5%86%B7%E5%86%BB%E6%BA%B6%E8%84%82\">冷冻溶脂</a> <a target=\"_blank\" class=\"second-item\" href=\"http://www.dianping.com/search/keyword/2340/50_%E8%87%AA%E4%BD%93%E8%84%82%E8%82%AA%E5%A1%AB%E5%85%85\" data-category=\"index.beauty\" data-click-name=\"50_%E8%87%AA%E4%BD%93%E8%84%82%E8%82%AA%E5%A1%AB%E5%85%85\">自体脂肪填充</a> <a target=\"_blank\" class=\"second-item\" href=\"http://www.dianping.com/search/keyword/2340/50_%E6%BF%80%E5%85%89%E6%BA%B6%E8%84%82\" data-category=\"index.beauty\" data-click-name=\"50_%E6%BF%80%E5%85%89%E6%BA%B6%E8%84%82\">激光溶脂</a> <a target=\"_blank\" class=\"second-item\" href=\"http://www.dianping.com/search/keyword/2340/50_%E9%BB%91%E8%84%B8%E5%A8%83%E5%A8%83\" data-category=\"index.beauty\" data-click-name=\"50_%E9%BB%91%E8%84%B8%E5%A8%83%E5%A8%83\">黑脸娃娃</a> <a target=\"_blank\" class=\"second-item\" href=\"http://www.dianping.com/search/keyword/2340/50_%E7%83%AD%E7%8E%9B%E5%90%89\" data-category=\"index.beauty\" data-click-name=\"50_%E7%83%AD%E7%8E%9B%E5%90%89\">热玛吉</a> <a target=\"_blank\" class=\"second-item\" href=\"http://www.dianping.com/search/keyword/2340/50_%E5%BC%80%E7%9C%BC%E8%A7%92\" data-category=\"index.beauty\" data-click-name=\"50_%E5%BC%80%E7%9C%BC%E8%A7%92\">开眼角</a> </div> </div> </div> </div> </li> <li class=\"first-item\"> <div class=\"primary-container\"> <span class=\"span-container\"> <a target=\"_blank\" class=\"index-title\" href=\"http://www.dianping.com/newtaipei/hotel\" data-category=\"index.hotel\" data-click-title=\"first\" data-click-name=\"hotel\">酒店</a> <a target=\"_blank\" class=\"index-item\" href=\"http://www.dianping.com/newtaipei/hotel/g3020\" data-category=\"index.hotel\" data-click-title=\"second\" data-click-name=\"g3020\"><span>五星/豪华</span></a> <a target=\"_blank\" class=\"index-item\" href=\"http://www.dianping.com/newtaipei/hotel/g171\" data-category=\"index.hotel\" data-click-title=\"second\" data-click-name=\"g171\"><span>经济连锁</span></a> </span> </div> <div class=\"sec-cate Hide\" data-category=\"cate.index.hotel\" > <div class=\"groups\"> <div class=\"group\"> <div class=\"sec-title\"> <span class=\"channel-title\" href=\"http://www.dianping.com/newtaipei/hotel/g33830n10\">高端酒店</span> <a target=\"_blank\" class=\"more-cate\" href=\"http://www.dianping.com/newtaipei/hotel/g33830n10\" data-category=\"index.hotel\" data-click-name=\"more\">更多<i class=\"icon-right icon-right-hover\"></i></a> </div> <div class=\"sec-items\"> <a target=\"_blank\" class=\"second-item\" href=\"http://www.dianping.com/newtaipei/hotel/g3020\" data-category=\"index.hotel\" data-click-name=\"g3020\">五星级/豪华型</a> <a target=\"_blank\" class=\"second-item\" href=\"http://www.dianping.com/newtaipei/hotel/g3022\" data-category=\"index.hotel\" data-click-name=\"g3022\">四星级/高档型</a> </div> </div> <div class=\"group\"> <div class=\"sec-title\"> <span class=\"channel-title\" href=\"http://www.dianping.com/newtaipei/hotel/g33837n10\">性价比</span> <a target=\"_blank\" class=\"more-cate\" href=\"http://www.dianping.com/newtaipei/hotel/g33837n10\" data-category=\"index.hotel\" data-click-name=\"more\">更多<i class=\"icon-right icon-right-hover\"></i></a> </div> <div class=\"sec-items\"> <a target=\"_blank\" class=\"second-item\" href=\"http://www.dianping.com/newtaipei/hotel/g3024\" data-category=\"index.hotel\" data-click-name=\"g3024\">三星级/舒适型</a> <a target=\"_blank\" class=\"second-item\" href=\"http://www.dianping.com/newtaipei/hotel/g171\" data-category=\"index.hotel\" data-click-name=\"g171\">经济连锁</a> </div> </div> <div class=\"group\"> <div class=\"sec-title\"> <span class=\"channel-title\" href=\"http://www.dianping.com/newtaipei/hotel/g33839n10\">特色酒店</span> <a target=\"_blank\" class=\"more-cate\" href=\"http://www.dianping.com/newtaipei/hotel/g33839n10\" data-category=\"index.hotel\" data-click-name=\"more\">更多<i class=\"icon-right icon-right-hover\"></i></a> </div> <div class=\"sec-items\"> <a target=\"_blank\" class=\"second-item\" href=\"http://www.dianping.com/newtaipei/hotel/g33840n10\" data-category=\"index.hotel\" data-click-name=\"g33840n10\">情侣酒店</a> <a target=\"_blank\" class=\"second-item\" href=\"http://www.dianping.com/newtaipei/hotel/g172\" data-category=\"index.hotel\" data-click-name=\"g172\">青年旅社</a> <a target=\"_blank\" class=\"second-item\" href=\"http://www.dianping.com/newtaipei/hotel/g25842\" data-category=\"index.hotel\" data-click-name=\"g25842\">客栈</a> </div> </div> </div> </div> </li> <li class=\"first-item\"> <div class=\"primary-container\"> <span class=\"span-container\"> <a target=\"_blank\" class=\"index-title\" href=\"http://www.dianping.com/newtaipei/baby\" data-category=\"index.baby\" data-click-title=\"first\" data-click-name=\"baby\">亲子</a> <a target=\"_blank\" class=\"index-item\" href=\"http://www.dianping.com/newtaipei/ch70/g193\" data-category=\"index.baby\" data-click-title=\"second\" data-click-name=\"g193\"><span>亲子摄影</span></a> <a target=\"_blank\" class=\"index-item\" href=\"http://www.dianping.com/newtaipei/ch70/g27761\" data-category=\"index.baby\" data-click-title=\"second\" data-click-name=\"g27761\"><span>早教中心</span></a> </span> </div> <div class=\"sec-cate Hide\" data-category=\"cate.index.baby\" > <div class=\"groups\"> <div class=\"group\"> <div class=\"sec-title\"> <span class=\"channel-title\" href=\"http://www.dianping.com/newtaipei/ch70/g193\">亲子摄影</span> <a target=\"_blank\" class=\"more-cate\" href=\"http://www.dianping.com/newtaipei/ch70/g193\" data-category=\"index.baby\" data-click-name=\"more\">更多<i class=\"icon-right icon-right-hover\"></i></a> </div> <div class=\"sec-items\"> <a target=\"_blank\" class=\"second-item\" href=\"http://www.dianping.com/newtaipei/ch70/g27813\" data-category=\"index.baby\" data-click-name=\"g27813\">儿童摄影</a> <a target=\"_blank\" class=\"second-item\" href=\"http://www.dianping.com/newtaipei/ch70/g27814\" data-category=\"index.baby\" data-click-name=\"g27814\">孕妇写真</a> <a target=\"_blank\" class=\"second-item\" href=\"http://www.dianping.com/newtaipei/ch70/g33793\" data-category=\"index.baby\" data-click-name=\"g33793\">满月照</a> <a target=\"_blank\" class=\"second-item\" href=\"http://www.dianping.com/newtaipei/ch70/g33794\" data-category=\"index.baby\" data-click-name=\"g33794\">百天照</a> <a target=\"_blank\" class=\"second-item\" href=\"http://www.dianping.com/newtaipei/ch70/g33792\" data-category=\"index.baby\" data-click-name=\"g33792\">上门拍</a> <a target=\"_blank\" class=\"second-item\" href=\"http://www.dianping.com/newtaipei/ch70/g2782\" data-category=\"index.baby\" data-click-name=\"g2782\">全家福</a> </div> </div> <div class=\"group\"> <div class=\"sec-title\"> <span class=\"channel-title\" href=\"http://www.dianping.com/newtaipei/ch70/g33803\">亲子游乐</span> <a target=\"_blank\" class=\"more-cate\" href=\"http://www.dianping.com/newtaipei/ch70/g33803\" data-category=\"index.baby\" data-click-name=\"more\">更多<i class=\"icon-right icon-right-hover\"></i></a> </div> <div class=\"sec-items\"> <a target=\"_blank\" class=\"second-item\" href=\"http://www.dianping.com/newtaipei/ch70/g33803\" data-category=\"index.baby\" data-click-name=\"g33803\">儿童乐园</a> <a target=\"_blank\" class=\"second-item\" href=\"http://www.dianping.com/newtaipei/ch70/g27767\" data-category=\"index.baby\" data-click-name=\"g27767\">婴儿游泳</a> <a target=\"_blank\" class=\"second-item\" href=\"http://www.dianping.com/newtaipei/ch70/g34146\" data-category=\"index.baby\" data-click-name=\"g34146\">亲子活动</a> <a target=\"_blank\" class=\"second-item\" href=\"http://www.dianping.com/newtaipei/ch70/g34148\" data-category=\"index.baby\" data-click-name=\"g34148\">亲子会所</a> <a target=\"_blank\" class=\"second-item\" href=\"http://www.dianping.com/newtaipei/ch70/g34147\" data-category=\"index.baby\" data-click-name=\"g34147\">儿童运动馆</a> </div> </div> <div class=\"group\"> <div class=\"sec-title\"> <span class=\"channel-title\" href=\"http://www.dianping.com/newtaipei/ch70/g188\">幼儿教育</span> <a target=\"_blank\" class=\"more-cate\" href=\"http://www.dianping.com/newtaipei/ch70/g188\" data-category=\"index.baby\" data-click-name=\"more\">更多<i class=\"icon-right icon-right-hover\"></i></a> </div> <div class=\"sec-items\"> <a target=\"_blank\" class=\"second-item\" href=\"http://www.dianping.com/newtaipei/ch70/g27761\" data-category=\"index.baby\" data-click-name=\"g27761\">早教中心</a> <a target=\"_blank\" class=\"second-item\" href=\"http://www.dianping.com/newtaipei/ch70/g27762\" data-category=\"index.baby\" data-click-name=\"g27762\">幼儿外语</a> <a target=\"_blank\" class=\"second-item\" href=\"http://www.dianping.com/newtaipei/ch70/g27763\" data-category=\"index.baby\" data-click-name=\"g27763\">幼儿才艺</a> <a target=\"_blank\" class=\"second-item\" href=\"http://www.dianping.com/newtaipei/ch70/g189\" data-category=\"index.baby\" data-click-name=\"g189\">幼儿园</a> <a target=\"_blank\" class=\"second-item\" href=\"http://www.dianping.com/newtaipei/ch70/g20009\" data-category=\"index.baby\" data-click-name=\"g20009\">托班/托儿所</a> </div> </div> <div class=\"group\"> <div class=\"sec-title\"> <span class=\"channel-title\" href=\"http://www.dianping.com/newtaipei/ch70/g258\">孕产护理</span> <a target=\"_blank\" class=\"more-cate\" href=\"http://www.dianping.com/newtaipei/ch70/g258\" data-category=\"index.baby\" data-click-name=\"more\">更多<i class=\"icon-right icon-right-hover\"></i></a> </div> <div class=\"sec-items\"> <a target=\"_blank\" class=\"second-item\" href=\"http://www.dianping.com/newtaipei/ch70/g2784\" data-category=\"index.baby\" data-click-name=\"g2784\">月子会所</a> <a target=\"_blank\" class=\"second-item\" href=\"http://www.dianping.com/newtaipei/ch70/g2786\" data-category=\"index.baby\" data-click-name=\"g2786\">月嫂</a> <a target=\"_blank\" class=\"second-item\" href=\"http://www.dianping.com/newtaipei/ch70/g2996\" data-category=\"index.baby\" data-click-name=\"g2996\">开奶催乳</a> </div> </div> </div> </div> </li> <li class=\"first-item\"> <div class=\"primary-container\"> <span class=\"span-container\"> <a target=\"_blank\" class=\"index-title\" href=\"http://www.dianping.com/newtaipei/ch35\" data-category=\"index.view\" data-click-title=\"first\" data-click-name=\"ch35\">周边游</a> <a target=\"_blank\" class=\"index-item\" href=\"http://www.dianping.com/newtaipei/ch35/g33831\" data-category=\"index.view\" data-click-title=\"second\" data-click-name=\"g33831\"><span>景点</span></a> <a target=\"_blank\" class=\"index-item\" href=\"http://www.dianping.com/newtaipei/ch35/g2916\" data-category=\"index.view\" data-click-title=\"second\" data-click-name=\"g2916\"><span>水上娱乐</span></a> <a target=\"_blank\" class=\"index-item\" href=\"http://www.dianping.com/newtaipei/35\" data-category=\"index.view\" data-click-title=\"second\" data-click-name=\"35\"><span>周边游</span></a> <a target=\"_blank\" class=\"index-item\" href=\"http://www.dianping.com/newtaipei/ch35/g33831\" data-category=\"index.view\" data-click-title=\"second\" data-click-name=\"g33831\"><span>景点</span></a> <a target=\"_blank\" class=\"index-item\" href=\"http://www.dianping.com/newtaipei/ch35/g2916\" data-category=\"index.view\" data-click-title=\"second\" data-click-name=\"g2916\"><span>水上娱乐</span></a> <a target=\"_blank\" class=\"index-item\" href=\"http://www.dianping.com/newtaipei/ch35/g2926\" data-category=\"index.view\" data-click-title=\"second\" data-click-name=\"g2926\"><span>展馆展览</span></a> <a target=\"_blank\" class=\"index-item\" href=\"http://www.dianping.com/newtaipei/ch35/g2834\" data-category=\"index.view\" data-click-title=\"second\" data-click-name=\"g2834\"><span>动植物园</span></a> <a target=\"_blank\" class=\"index-item\" href=\"http://www.dianping.com/newtaipei/ch35/g5672\" data-category=\"index.view\" data-click-title=\"second\" data-click-name=\"g5672\"><span>温泉</span></a> <a target=\"_blank\" class=\"index-item\" href=\"http://www.dianping.com/newtaipei/ch35/g27852\" data-category=\"index.view\" data-click-title=\"second\" data-click-name=\"g27852\"><span>滑雪</span></a> </span> </div> <div class=\"sec-cate Hide\" data-category=\"cate.index.view\" > <div class=\"groups\"> <div class=\"group\"> <div class=\"sec-title\"> <span class=\"channel-title\" href=\"\">周边玩乐</span> </div> <div class=\"sec-items\"> <a target=\"_blank\" class=\"second-item\" href=\"http://www.dianping.com/newtaipei/ch35/g2926\" data-category=\"index.view\" data-click-name=\"g2926\">展馆展览</a> <a target=\"_blank\" class=\"second-item\" href=\"http://www.dianping.com/newtaipei/ch35/g20038\" data-category=\"index.view\" data-click-name=\"g20038\">采摘/农家乐</a> <a target=\"_blank\" class=\"second-item\" href=\"http://www.dianping.com/newtaipei/ch35/g5672\" data-category=\"index.view\" data-click-name=\"g5672\">温泉</a> <a target=\"_blank\" class=\"second-item\" href=\"http://www.dianping.com/newtaipei/ch35/g2834\" data-category=\"index.view\" data-click-name=\"g2834\">动植物园</a> <a target=\"_blank\" class=\"second-item\" href=\"http://www.dianping.com/newtaipei/ch35/g2916\" data-category=\"index.view\" data-click-name=\"g2916\">水上娱乐</a> <a target=\"_blank\" class=\"second-item\" href=\"http://www.dianping.com/newtaipei/ch35/g27852\" data-category=\"index.view\" data-click-name=\"g27852\">滑雪</a> <a target=\"_blank\" class=\"second-item\" href=\"http://www.dianping.com/newtaipei/ch35/g33831\" data-category=\"index.view\" data-click-name=\"g33831\">景点</a> <a target=\"_blank\" class=\"second-item\" href=\"http://www.dianping.com/newtaipei/ch35/g33832\" data-category=\"index.view\" data-click-name=\"g33832\">旅游其他</a> </div> </div> </div> </div> </li> <li class=\"first-item\"> <div class=\"primary-container\"> <span class=\"span-container\"> <a target=\"_blank\" class=\"index-title\" href=\"http://www.dianping.com/newtaipei/sports\" data-category=\"index.sports\" data-click-title=\"first\" data-click-name=\"sports\">运动健身</a> <a target=\"_blank\" class=\"index-item\" href=\"http://www.dianping.com/newtaipei/ch45/g147\" data-category=\"index.sports\" data-click-title=\"second\" data-click-name=\"g147\"><span>健身中心</span></a> </span> </div> <div class=\"sec-cate Hide\" data-category=\"cate.index.sports\" > <div class=\"groups\"> <div class=\"group\"> <div class=\"sec-title\"> <span class=\"channel-title\" href=\"\">专业健身</span> </div> <div class=\"sec-items\"> <a target=\"_blank\" class=\"second-item\" href=\"http://www.dianping.com/newtaipei/ch45/g147\" data-category=\"index.sports\" data-click-name=\"g147\">健身中心</a> <a target=\"_blank\" class=\"second-item\" href=\"http://www.dianping.com/newtaipei/ch45/g6701\" data-category=\"index.sports\" data-click-name=\"g6701\">武术场馆</a> <a target=\"_blank\" class=\"second-item\" href=\"http://www.dianping.com/newtaipei/ch45/g151\" data-category=\"index.sports\" data-click-name=\"g151\">游泳馆</a> </div> </div> <div class=\"group\"> <div class=\"sec-title\"> <span class=\"channel-title\" href=\"\">休闲运动</span> </div> <div class=\"sec-items\"> <a target=\"_blank\" class=\"second-item\" href=\"http://www.dianping.com/newtaipei/ch45/g152\" data-category=\"index.sports\" data-click-name=\"g152\">羽毛球馆</a> <a target=\"_blank\" class=\"second-item\" href=\"http://www.dianping.com/newtaipei/ch45/g6713\" data-category=\"index.sports\" data-click-name=\"g6713\">溜冰场</a> <a target=\"_blank\" class=\"second-item\" href=\"http://www.dianping.com/newtaipei/ch45/g6709\" data-category=\"index.sports\" data-click-name=\"g6709\">射箭馆</a> <a target=\"_blank\" class=\"second-item\" href=\"http://www.dianping.com/newtaipei/ch45/g146\" data-category=\"index.sports\" data-click-name=\"g146\">篮球场</a> <a target=\"_blank\" class=\"second-item\" href=\"http://www.dianping.com/newtaipei/ch45/g156\" data-category=\"index.sports\" data-click-name=\"g156\">桌球馆</a> <a target=\"_blank\" class=\"second-item\" href=\"http://www.dianping.com/newtaipei/ch45/g153\" data-category=\"index.sports\" data-click-name=\"g153\">网球场</a> <a target=\"_blank\" class=\"second-item\" href=\"http://www.dianping.com/newtaipei/ch45/g6708\" data-category=\"index.sports\" data-click-name=\"g6708\">攀岩馆</a> <a target=\"_blank\" class=\"second-item\" href=\"http://www.dianping.com/newtaipei/ch45/g6712\" data-category=\"index.sports\" data-click-name=\"g6712\">乒乓球馆</a> <a target=\"_blank\" class=\"second-item\" href=\"http://www.dianping.com/newtaipei/ch45/g6702\" data-category=\"index.sports\" data-click-name=\"g6702\">足球场</a> <a target=\"_blank\" class=\"second-item\" href=\"http://www.dianping.com/newtaipei/ch45/g154\" data-category=\"index.sports\" data-click-name=\"g154\">高尔夫场</a> <a target=\"_blank\" class=\"second-item\" href=\"http://www.dianping.com/newtaipei/ch45/g155\" data-category=\"index.sports\" data-click-name=\"g155\">保龄球馆</a> <a target=\"_blank\" class=\"second-item\" href=\"http://www.dianping.com/newtaipei/ch45/g150\" data-category=\"index.sports\" data-click-name=\"g150\">体育场馆</a> <a target=\"_blank\" class=\"second-item\" href=\"http://www.dianping.com/newtaipei/ch45/g6706\" data-category=\"index.sports\" data-click-name=\"g6706\">壁球馆</a> <a target=\"_blank\" class=\"second-item\" href=\"http://www.dianping.com/newtaipei/ch45/g145\" data-category=\"index.sports\" data-click-name=\"g145\">更多运动</a> </div> </div> </div> </div> </li> <li class=\"first-item\"> <div class=\"primary-container\"> <span class=\"span-container\"> <a target=\"_blank\" class=\"index-title\" href=\"http://www.dianping.com/newtaipei/shopping\" data-category=\"index.shopping\" data-click-title=\"first\" data-click-name=\"shopping\">购物</a> <a target=\"_blank\" class=\"index-item\" href=\"http://www.dianping.com/newtaipei/ch20/g119\" data-category=\"index.shopping\" data-click-title=\"second\" data-click-name=\"g119\"><span>综合商场</span></a> <a target=\"_blank\" class=\"index-item\" href=\"http://www.dianping.com/newtaipei/ch20/g120\" data-category=\"index.shopping\" data-click-title=\"second\" data-click-name=\"g120\"><span>服饰鞋包</span></a> <a target=\"_blank\" class=\"index-item\" href=\"http://www.dianping.com/newtaipei/ch20/g121\" data-category=\"index.shopping\" data-click-title=\"second\" data-click-name=\"g121\"><span>运动户外</span></a> </span> </div> <div class=\"sec-cate Hide\" data-category=\"cate.index.shopping\" > <div class=\"groups\"> <div class=\"group\"> <div class=\"sec-title\"> <span class=\"channel-title\" href=\"http://www.dianping.com/newtaipei/shopping\">购物</span> <a target=\"_blank\" class=\"more-cate\" href=\"http://www.dianping.com/newtaipei/shopping\" data-category=\"index.shopping\" data-click-name=\"more\">更多<i class=\"icon-right icon-right-hover\"></i></a> </div> <div class=\"sec-items\"> <a target=\"_blank\" class=\"second-item\" href=\"http://www.dianping.com/newtaipei/ch50/g119\" data-category=\"index.shopping\" data-click-name=\"g119\">综合商场</a> <a target=\"_blank\" class=\"second-item\" href=\"http://www.dianping.com/newtaipei/ch20/g120\" data-category=\"index.shopping\" data-click-name=\"g120\">服饰鞋包</a> <a target=\"_blank\" class=\"second-item\" href=\"http://www.dianping.com/newtaipei/ch20/g121\" data-category=\"index.shopping\" data-click-name=\"g121\">运动户外</a> <a target=\"_blank\" class=\"second-item\" href=\"http://www.dianping.com/newtaipei/ch20/g191\" data-category=\"index.shopping\" data-click-name=\"g191\">珠宝饰品</a> </div> </div> </div> </div> </li> <li class=\"first-item\"> <div class=\"primary-container\"> <span class=\"span-container\"> <a target=\"_blank\" class=\"index-title\" href=\"http://www.dianping.com/newtaipei/home\" data-category=\"index.home\" data-click-title=\"first\" data-click-name=\"home\">家装</a> <a target=\"_blank\" class=\"index-item\" href=\"http://www.dianping.com/newtaipei/ch90/g25475\" data-category=\"index.home\" data-click-title=\"second\" data-click-name=\"g25475\"><span>装修设计</span></a> <a target=\"_blank\" class=\"index-item\" href=\"http://www.dianping.com/newtaipei/ch90/g34035\" data-category=\"index.home\" data-click-title=\"second\" data-click-name=\"g34035\"><span>定制家居</span></a> </span> </div> <div class=\"sec-cate Hide\" data-category=\"cate.index.home\" > <div class=\"groups\"> <div class=\"group\"> <div class=\"sec-title\"> <span class=\"channel-title\" href=\"http://www.dianping.com/newtaipei/ch90/g25475\">装修设计</span> <a target=\"_blank\" class=\"more-cate\" href=\"http://www.dianping.com/newtaipei/ch90/g25475\" data-category=\"index.home\" data-click-name=\"more\">更多<i class=\"icon-right icon-right-hover\"></i></a> </div> <div class=\"sec-items\"> <a target=\"_blank\" class=\"second-item\" href=\"http://www.dianping.com/newtaipei/ch90/g25475\" data-category=\"index.home\" data-click-name=\"g25475\">装修公司</a> <a target=\"_blank\" class=\"second-item\" href=\"http://www.dianping.com/home-tuku\" data-category=\"index.home\" data-click-name=\"home-tuku\">装修美图</a> <a target=\"_blank\" class=\"second-item\" href=\"http://www.dianping.com/homenews/67\" data-category=\"index.home\" data-click-name=\"67\">装修资讯</a> </div> </div> <div class=\"group\"> <div class=\"sec-title\"> <span class=\"channel-title\" href=\"http://www.dianping.com/newtaipei/ch90/g34035\">定制家居</span> <a target=\"_blank\" class=\"more-cate\" href=\"http://www.dianping.com/newtaipei/ch90/g34035\" data-category=\"index.home\" data-click-name=\"more\">更多<i class=\"icon-right icon-right-hover\"></i></a> </div> <div class=\"sec-items\"> <a target=\"_blank\" class=\"second-item\" href=\"http://www.dianping.com/newtaipei/ch90/g34036\" data-category=\"index.home\" data-click-name=\"g34036\">全屋定制</a> <a target=\"_blank\" class=\"second-item\" href=\"http://www.dianping.com/newtaipei/ch90/g34038\" data-category=\"index.home\" data-click-name=\"g34038\">家具定制</a> <a target=\"_blank\" class=\"second-item\" href=\"http://www.dianping.com/newtaipei/ch90/g33866\" data-category=\"index.home\" data-click-name=\"g33866\">橱柜</a> </div> </div> <div class=\"group\"> <div class=\"sec-title\"> <span class=\"channel-title\" href=\"http://www.dianping.com/newtaipei/ch90/g6826\">装修建材</span> <a target=\"_blank\" class=\"more-cate\" href=\"http://www.dianping.com/newtaipei/ch90/g6826\" data-category=\"index.home\" data-click-name=\"more\">更多<i class=\"icon-right icon-right-hover\"></i></a> </div> <div class=\"sec-items\"> <a target=\"_blank\" class=\"second-item\" href=\"http://www.dianping.com/newtaipei/ch90/g33870\" data-category=\"index.home\" data-click-name=\"g33870\">地板</a> <a target=\"_blank\" class=\"second-item\" href=\"http://www.dianping.com/newtaipei/ch90/g33864\" data-category=\"index.home\" data-click-name=\"g33864\">瓷砖石材</a> <a target=\"_blank\" class=\"second-item\" href=\"http://www.dianping.com/newtaipei/ch90/g33867\" data-category=\"index.home\" data-click-name=\"g33867\">厨卫洁具</a> <a target=\"_blank\" class=\"second-item\" href=\"http://www.dianping.com/newtaipei/ch90/g33876\" data-category=\"index.home\" data-click-name=\"g33876\">灯饰照明</a> <a target=\"_blank\" class=\"second-item\" href=\"http://www.dianping.com/newtaipei/ch90/g33863\" data-category=\"index.home\" data-click-name=\"g33863\">油漆涂料</a> <a target=\"_blank\" class=\"second-item\" href=\"http://www.dianping.com/newtaipei/ch90/g33868\" data-category=\"index.home\" data-click-name=\"g33868\">集成吊顶</a> </div> </div> <div class=\"group\"> <div class=\"sec-title\"> <span class=\"channel-title\" href=\"http://www.dianping.com/newtaipei/ch90/g32702\">家具家居</span> <a target=\"_blank\" class=\"more-cate\" href=\"http://www.dianping.com/newtaipei/ch90/g32702\" data-category=\"index.home\" data-click-name=\"more\">更多<i class=\"icon-right icon-right-hover\"></i></a> </div> <div class=\"sec-items\"> <a target=\"_blank\" class=\"second-item\" href=\"http://www.dianping.com/newtaipei/ch90/g6827\" data-category=\"index.home\" data-click-name=\"g6827\">成品家具</a> <a target=\"_blank\" class=\"second-item\" href=\"http://www.dianping.com/newtaipei/ch90/g6829\" data-category=\"index.home\" data-click-name=\"g6829\">床品家纺</a> <a target=\"_blank\" class=\"second-item\" href=\"http://www.dianping.com/newtaipei/ch90/g34037\" data-category=\"index.home\" data-click-name=\"g34037\">窗帘</a> <a target=\"_blank\" class=\"second-item\" href=\"http://www.dianping.com/newtaipei/ch90/g33887\" data-category=\"index.home\" data-click-name=\"g33887\">家饰餐厨</a> <a target=\"_blank\" class=\"second-item\" href=\"http://www.dianping.com/newtaipei/ch90/g20023\" data-category=\"index.home\" data-click-name=\"g20023\">智能家居</a> <a target=\"_blank\" class=\"second-item\" href=\"http://www.dianping.com/newtaipei/ch90/g32705\" data-category=\"index.home\" data-click-name=\"g32705\">家用电器</a> </div> </div> <div class=\"group\"> <div class=\"sec-title\"> <span class=\"channel-title\" href=\"http://www.dianping.com/newtaipei/ch90/g32704\">家装卖场</span> <a target=\"_blank\" class=\"more-cate\" href=\"http://www.dianping.com/newtaipei/ch90/g32704\" data-category=\"index.home\" data-click-name=\"more\">更多<i class=\"icon-right icon-right-hover\"></i></a> </div> <div class=\"sec-items\"> <a target=\"_blank\" class=\"second-item\" href=\"http://www.dianping.com/newtaipei/ch90/g33891\" data-category=\"index.home\" data-click-name=\"g33891\">建材卖场</a> <a target=\"_blank\" class=\"second-item\" href=\"http://www.dianping.com/newtaipei/ch90/g33890\" data-category=\"index.home\" data-click-name=\"g33890\">家居卖场</a> <a target=\"_blank\" class=\"second-item\" href=\"http://www.dianping.com/newtaipei/ch90/g33889\" data-category=\"index.home\" data-click-name=\"g33889\">灯饰卖场</a> </div> </div> </div> </div> </li> <li class=\"first-item\"> <div class=\"primary-container\"> <span class=\"span-container\"> <a target=\"_blank\" class=\"index-title\" href=\"http://www.dianping.com/newtaipei/education\" data-category=\"index.education\" data-click-title=\"first\" data-click-name=\"education\">学习培训</a> <a target=\"_blank\" class=\"index-item\" href=\"http://www.dianping.com/newtaipei/ch75/g2872\" data-category=\"index.education\" data-click-title=\"second\" data-click-name=\"g2872\"><span>外语</span></a> <a target=\"_blank\" class=\"index-item\" href=\"http://www.dianping.com/newtaipei/ch75/g2873\" data-category=\"index.education\" data-click-title=\"second\" data-click-name=\"g2873\"><span>音乐</span></a> </span> </div> <div class=\"sec-cate Hide\" data-category=\"cate.index.education\" > <div class=\"groups\"> <div class=\"group\"> <div class=\"sec-title\"> <span class=\"channel-title\" href=\"\">外语留学</span> </div> <div class=\"sec-items\"> <a target=\"_blank\" class=\"second-item\" href=\"http://www.dianping.com/newtaipei/ch75/g3030\" data-category=\"index.education\" data-click-name=\"g3030\">英语</a> <a target=\"_blank\" class=\"second-item\" href=\"http://www.dianping.com/newtaipei/ch75/g3032\" data-category=\"index.education\" data-click-name=\"g3032\">日语</a> <a target=\"_blank\" class=\"second-item\" href=\"http://www.dianping.com/newtaipei/ch75/g3034\" data-category=\"index.education\" data-click-name=\"g3034\">韩语</a> <a target=\"_blank\" class=\"second-item\" href=\"http://www.dianping.com/newtaipei/ch75/g33946\" data-category=\"index.education\" data-click-name=\"g33946\">雅思托福</a> <a target=\"_blank\" class=\"second-item\" href=\"http://www.dianping.com/newtaipei/ch75/g33945\" data-category=\"index.education\" data-click-name=\"g33945\">留学申请</a> <a target=\"_blank\" class=\"second-item\" href=\"http://www.dianping.com/1/ch75/g3040\" data-category=\"index.education\" data-click-name=\"g3040\">其他外语</a> </div> </div> <div class=\"group\"> <div class=\"sec-title\"> <span class=\"channel-title\" href=\"\">艺术兴趣</span> </div> <div class=\"sec-items\"> <a target=\"_blank\" class=\"second-item\" href=\"http://www.dianping.com/newtaipei/ch75/g2874\" data-category=\"index.education\" data-click-name=\"g2874\">绘画</a> <a target=\"_blank\" class=\"second-item\" href=\"http://www.dianping.com/newtaipei/ch75/g3041\" data-category=\"index.education\" data-click-name=\"g3041\">西洋乐器</a> <a target=\"_blank\" class=\"second-item\" href=\"http://www.dianping.com/newtaipei/ch75/g33757\" data-category=\"index.education\" data-click-name=\"g33757\">书法</a> <a target=\"_blank\" class=\"second-item\" href=\"http://www.dianping.com/newtaipei/ch75/g3048\" data-category=\"index.education\" data-click-name=\"g3048\">乐理声乐</a> <a target=\"_blank\" class=\"second-item\" href=\"http://www.dianping.com/newtaipei/ch75/g34094\" data-category=\"index.education\" data-click-name=\"g34094\">民族乐器</a> <a target=\"_blank\" class=\"second-item\" href=\"http://www.dianping.com/newtaipei/ch75/g2878\" data-category=\"index.education\" data-click-name=\"g2878\">兴趣生活</a> <a target=\"_blank\" class=\"second-item\" href=\"http://www.dianping.com/newtaipei/ch75/g33898\" data-category=\"index.education\" data-click-name=\"g33898\">花艺</a> </div> </div> <div class=\"group\"> <div class=\"sec-title\"> <span class=\"channel-title\" href=\"\">职业技术</span> </div> <div class=\"sec-items\"> <a target=\"_blank\" class=\"second-item\" href=\"http://www.dianping.com/newtaipei/ch75/g179\" data-category=\"index.education\" data-click-name=\"g179\">驾校</a> <a target=\"_blank\" class=\"second-item\" href=\"http://www.dianping.com/newtaipei/ch75/g3057\" data-category=\"index.education\" data-click-name=\"g3057\">美容化妆</a> <a target=\"_blank\" class=\"second-item\" href=\"http://www.dianping.com/newtaipei/ch75/g3058\" data-category=\"index.education\" data-click-name=\"g3058\">会计</a> <a target=\"_blank\" class=\"second-item\" href=\"http://www.dianping.com/newtaipei/ch75/g3060\" data-category=\"index.education\" data-click-name=\"g3060\">厨艺</a> <a target=\"_blank\" class=\"second-item\" href=\"http://www.dianping.com/newtaipei/ch75/g3059\" data-category=\"index.education\" data-click-name=\"g3059\">IT</a> <a target=\"_blank\" class=\"second-item\" href=\"http://www.dianping.com/newtaipei/ch75/g3062\" data-category=\"index.education\" data-click-name=\"g3062\">其他职业技术</a> </div> </div> <div class=\"group\"> <div class=\"sec-title\"> <span class=\"channel-title\" href=\"\">升学辅导</span> </div> <div class=\"sec-items\"> <a target=\"_blank\" class=\"second-item\" href=\"http://www.dianping.com/newtaipei/ch75/g2876\" data-category=\"index.education\" data-click-name=\"g2876\">全部升学辅导</a> <a target=\"_blank\" class=\"second-item\" href=\"http://www.dianping.com/newtaipei/ch75/g33828\" data-category=\"index.education\" data-click-name=\"g33828\">艺考</a> </div> </div> </div> </div> </li> <li class=\"first-item\"> <div class=\"primary-container\"> <span class=\"span-container\"> <a target=\"_blank\" class=\"index-title\" href=\"http://www.dianping.com/newtaipei/other\" data-category=\"index.other\" data-click-title=\"first\" data-click-name=\"other\">生活服务</a> <a target=\"_blank\" class=\"index-item\" href=\"http://www.dianping.com/newtaipei/ch80/g3064\" data-category=\"index.other\" data-click-title=\"second\" data-click-name=\"g3064\"><span>快照</span></a> <a target=\"_blank\" class=\"index-item\" href=\"http://www.dianping.com/newtaipei/ch80/g195\" data-category=\"index.other\" data-click-title=\"second\" data-click-name=\"g195\"><span>家政</span></a> </span> </div> <div class=\"sec-cate Hide\" data-category=\"cate.index.other\" > <div class=\"groups\"> <div class=\"group\"> <div class=\"sec-title\"> <span class=\"channel-title\" href=\"\">生活服务</span> </div> <div class=\"sec-items\"> <a target=\"_blank\" class=\"second-item\" href=\"http://www.dianping.com/newtaipei/ch80/g3064\" data-category=\"index.other\" data-click-name=\"g3064\">快照冲印</a> <a target=\"_blank\" class=\"second-item\" href=\"http://www.dianping.com/newtaipei/ch80/g3066\" data-category=\"index.other\" data-click-name=\"g3066\">文印图文</a> <a target=\"_blank\" class=\"second-item\" href=\"http://www.dianping.com/newtaipei/ch80/g33986\" data-category=\"index.other\" data-click-name=\"g33986\">搬家运输</a> <a target=\"_blank\" class=\"second-item\" href=\"http://www.dianping.com/newtaipei/ch80/g2928\" data-category=\"index.other\" data-click-name=\"g2928\">生活配送</a> <a target=\"_blank\" class=\"second-item\" href=\"http://www.dianping.com/newtaipei/ch80/g195\" data-category=\"index.other\" data-click-name=\"g195\">家政服务</a> <a target=\"_blank\" class=\"second-item\" href=\"http://www.dianping.com/newtaipei/ch80/g33762\" data-category=\"index.other\" data-click-name=\"g33762\">洗涤护理</a> <a target=\"_blank\" class=\"second-item\" href=\"http://www.dianping.com/newtaipei/ch80/g33974\" data-category=\"index.other\" data-click-name=\"g33974\">生活缴费</a> <a target=\"_blank\" class=\"second-item\" href=\"http://www.dianping.com/newtaipei/ch80/g33975\" data-category=\"index.other\" data-click-name=\"g33975\">社区服务</a> <a target=\"_blank\" class=\"second-item\" href=\"http://www.dianping.com/newtaipei/ch80/g34023\" data-category=\"index.other\" data-click-name=\"g34023\">成人用品</a> </div> </div> <div class=\"group\"> <div class=\"sec-title\"> <span class=\"channel-title\" href=\"\">维修回收</span> </div> <div class=\"sec-items\"> <a target=\"_blank\" class=\"second-item\" href=\"http://www.dianping.com/newtaipei/ch80/g33976\" data-category=\"index.other\" data-click-name=\"g33976\">家电数码维修</a> <a target=\"_blank\" class=\"second-item\" href=\"http://www.dianping.com/newtaipei/ch80/g26117\" data-category=\"index.other\" data-click-name=\"g26117\">居家维修</a> <a target=\"_blank\" class=\"second-item\" href=\"http://www.dianping.com/newtaipei/ch80/g2930\" data-category=\"index.other\" data-click-name=\"g2930\">回收</a> </div> </div> <div class=\"group\"> <div class=\"sec-title\"> <span class=\"channel-title\" href=\"\">周边设施</span> </div> <div class=\"sec-items\"> <a target=\"_blank\" class=\"second-item\" href=\"http://www.dianping.com/newtaipei/ch80/g835\" data-category=\"index.other\" data-click-name=\"g835\">通信营业厅</a> <a target=\"_blank\" class=\"second-item\" href=\"http://www.dianping.com/newtaipei/ch80/g980\" data-category=\"index.other\" data-click-name=\"g980\">售票点</a> <a target=\"_blank\" class=\"second-item\" href=\"http://www.dianping.com/newtaipei/ch80/g3012\" data-category=\"index.other\" data-click-name=\"g3012\">银行</a> <a target=\"_blank\" class=\"second-item\" href=\"http://www.dianping.com/newtaipei/ch80/g6823\" data-category=\"index.other\" data-click-name=\"g6823\">交通</a> <a target=\"_blank\" class=\"second-item\" href=\"http://www.dianping.com/newtaipei/ch80/g836\" data-category=\"index.other\" data-click-name=\"g836\">房屋地产</a> <a target=\"_blank\" class=\"second-item\" href=\"http://www.dianping.com/newtaipei/ch80/g3082\" data-category=\"index.other\" data-click-name=\"g3082\">政府机构</a> <a target=\"_blank\" class=\"second-item\" href=\"http://www.dianping.com/newtaipei/ch80/g33994\" data-category=\"index.other\" data-click-name=\"g33994\">丧葬</a> </div> </div> <div class=\"group\"> <div class=\"sec-title\"> <span class=\"channel-title\" href=\"\">商业服务</span> </div> <div class=\"sec-items\"> <a target=\"_blank\" class=\"second-item\" href=\"http://www.dianping.com/newtaipei/ch80/g33959\" data-category=\"index.other\" data-click-name=\"g33959\">律师服务</a> <a target=\"_blank\" class=\"second-item\" href=\"http://www.dianping.com/newtaipei/ch80/g33963\" data-category=\"index.other\" data-click-name=\"g33963\">财务服务</a> <a target=\"_blank\" class=\"second-item\" href=\"http://www.dianping.com/newtaipei/ch80/g34003\" data-category=\"index.other\" data-click-name=\"g34003\">金融</a> <a target=\"_blank\" class=\"second-item\" href=\"http://www.dianping.com/newtaipei/ch80/g33965\" data-category=\"index.other\" data-click-name=\"g33965\">文化传媒</a> </div> </div> </div> </div> </li> <li class=\"first-item\"> <div class=\"primary-container\"> <span class=\"span-container\"> <a target=\"_blank\" class=\"index-title\" href=\"http://www.dianping.com/newtaipei/medical\" data-category=\"index.medical\" data-click-title=\"first\" data-click-name=\"medical\">医疗健康</a> <a target=\"_blank\" class=\"index-item\" href=\"http://www.dianping.com/newtaipei/ch85/g182\" data-category=\"index.medical\" data-click-title=\"second\" data-click-name=\"g182\"><span>齿科</span></a> <a target=\"_blank\" class=\"index-item\" href=\"http://www.dianping.com/newtaipei/ch85/g612\" data-category=\"index.medical\" data-click-title=\"second\" data-click-name=\"g612\"><span>体检中心</span></a> </span> </div> <div class=\"sec-cate Hide\" data-category=\"cate.index.medical\" > <div class=\"groups\"> <div class=\"group\"> <div class=\"sec-title\"> <span class=\"channel-title\" href=\"\">医疗健康</span> </div> <div class=\"sec-items\"> <a target=\"_blank\" class=\"second-item\" href=\"http://www.dianping.com/newtaipei/ch85/g182\" data-category=\"index.medical\" data-click-name=\"g182\">口腔齿科</a> <a target=\"_blank\" class=\"second-item\" href=\"http://www.dianping.com/newtaipei/ch85/g612\" data-category=\"index.medical\" data-click-name=\"g612\">体检中心</a> <a target=\"_blank\" class=\"second-item\" href=\"http://www.dianping.com/newtaipei/ch85/g181\" data-category=\"index.medical\" data-click-name=\"g181\">医院</a> <a target=\"_blank\" class=\"second-item\" href=\"http://www.dianping.com/newtaipei/ch85/g235\" data-category=\"index.medical\" data-click-name=\"g235\">药店</a> <a target=\"_blank\" class=\"second-item\" href=\"http://www.dianping.com/newtaipei/ch85/g2914\" data-category=\"index.medical\" data-click-name=\"g2914\">中医</a> <a target=\"_blank\" class=\"second-item\" href=\"http://www.dianping.com/newtaipei/ch85/g25148\" data-category=\"index.medical\" data-click-name=\"g25148\">宠物医院</a> <a target=\"_blank\" class=\"second-item\" href=\"http://www.dianping.com/newtaipei/ch85/g183\" data-category=\"index.medical\" data-click-name=\"g183\">整形</a> <a target=\"_blank\" class=\"second-item\" href=\"http://www.dianping.com/newtaipei/ch85/g257\" data-category=\"index.medical\" data-click-name=\"g257\">妇幼医院</a> <a target=\"_blank\" class=\"second-item\" href=\"http://www.dianping.com/newtaipei/ch85/g2912\" data-category=\"index.medical\" data-click-name=\"g2912\">其他医疗</a> </div> </div> </div> </div> </li> <li class=\"first-item\"> <div class=\"primary-container\"> <span class=\"span-container\"> <a target=\"_blank\" class=\"index-title\" href=\"http://www.dianping.com/newtaipei/car\" data-category=\"index.car\" data-click-title=\"first\" data-click-name=\"car\">爱车</a> <a target=\"_blank\" class=\"index-item\" href=\"http://www.dianping.com/newtaipei/ch65/g34072\" data-category=\"index.car\" data-click-title=\"second\" data-click-name=\"g34072\"><span>美容洗车</span></a> <a target=\"_blank\" class=\"index-item\" href=\"http://www.dianping.com/newtaipei/ch65/g176\" data-category=\"index.car\" data-click-title=\"second\" data-click-name=\"g176\"><span>维修保养</span></a> </span> </div> <div class=\"sec-cate Hide\" data-category=\"cate.index.car\" > <div class=\"groups\"> <div class=\"group\"> <div class=\"sec-title\"> <span class=\"channel-title\" href=\"http://www.dianping.com/newtaipei/car\">爱车</span> <a target=\"_blank\" class=\"more-cate\" href=\"http://www.dianping.com/newtaipei/car\" data-category=\"index.car\" data-click-name=\"more\">更多<i class=\"icon-right icon-right-hover\"></i></a> </div> <div class=\"sec-items\"> <a target=\"_blank\" class=\"second-item\" href=\"http://www.dianping.com/newtaipei/ch65/g34072\" data-category=\"index.car\" data-click-name=\"g34072\">美容洗车</a> <a target=\"_blank\" class=\"second-item\" href=\"http://www.dianping.com/newtaipei/ch65/g176\" data-category=\"index.car\" data-click-name=\"g176\">维修保养</a> <a target=\"_blank\" class=\"second-item\" href=\"http://www.dianping.com/newtaipei/ch65/g34076\" data-category=\"index.car\" data-click-name=\"g34076\">摩托车</a> <a target=\"_blank\" class=\"second-item\" href=\"http://www.dianping.com/newtaipei/ch65/g236\" data-category=\"index.car\" data-click-name=\"g236\">加油站</a> <a target=\"_blank\" class=\"second-item\" href=\"http://www.dianping.com/newtaipei/ch65/g180\" data-category=\"index.car\" data-click-name=\"g180\">停车场</a> <a target=\"_blank\" class=\"second-item\" href=\"http://www.dianping.com/newtaipei/ch65/g178\" data-category=\"index.car\" data-click-name=\"g178\">汽车租赁</a> <a target=\"_blank\" class=\"second-item\" href=\"http://www.dianping.com/newtaipei/ch65/g34084\" data-category=\"index.car\" data-click-name=\"g34084\">4S店／汽车销售</a> <a target=\"_blank\" class=\"second-item\" href=\"http://www.dianping.com/newtaipei/ch65/g177\" data-category=\"index.car\" data-click-name=\"g177\">配件／车饰</a> <a target=\"_blank\" class=\"second-item\" href=\"http://www.dianping.com/newtaipei/ch65/g33764\" data-category=\"index.car\" data-click-name=\"g33764\">交警队</a> <a target=\"_blank\" class=\"second-item\" href=\"http://www.dianping.com/newtaipei/ch65/g259\" data-category=\"index.car\" data-click-name=\"g259\">汽车保险</a> <a target=\"_blank\" class=\"second-item\" href=\"http://www.dianping.com/newtaipei/ch65/g33763\" data-category=\"index.car\" data-click-name=\"g33763\">年检站</a> </div> </div> </div> </div> </li> <li class=\"first-item\"> <div class=\"primary-container\"> <span class=\"span-container\"> <a target=\"_blank\" class=\"index-title\" href=\"http://www.dianping.com/newtaipei/pet\" data-category=\"index.pet\" data-click-title=\"first\" data-click-name=\"pet\">宠物</a> <a target=\"_blank\" class=\"index-item\" href=\"http://www.dianping.com/newtaipei/ch95/g25147\" data-category=\"index.pet\" data-click-title=\"second\" data-click-name=\"g25147\"><span>宠物店</span></a> <a target=\"_blank\" class=\"index-item\" href=\"http://www.dianping.com/newtaipei/ch95/g25148\" data-category=\"index.pet\" data-click-title=\"second\" data-click-name=\"g25148\"><span>宠物医院</span></a> </span> </div> <div class=\"sec-cate Hide\" data-category=\"cate.index.pet\" > <div class=\"groups\"> <div class=\"group\"> <div class=\"sec-title\"> <span class=\"channel-title\" href=\"http://www.dianping.com/newtaipei/pet\">宠物</span> <a target=\"_blank\" class=\"more-cate\" href=\"http://www.dianping.com/newtaipei/pet\" data-category=\"index.pet\" data-click-name=\"more\">更多<i class=\"icon-right icon-right-hover\"></i></a> </div> <div class=\"sec-items\"> <a target=\"_blank\" class=\"second-item\" href=\"http://www.dianping.com/newtaipei/ch95/g25147\" data-category=\"index.pet\" data-click-name=\"g25147\">宠物店</a> <a target=\"_blank\" class=\"second-item\" href=\"http://www.dianping.com/newtaipei/ch95/g25148\" data-category=\"index.pet\" data-click-name=\"g25148\">宠物医院</a> </div> </div> </div> </div> </li> </ul> </div> </div> </div> </div> <div class=\"fixed-card J-goverment\"></div> </div>\n",
      "            </div>\n",
      "            <!--首页主要的分类信息及用户信息-->\n",
      "            <div id=\"main-index\" class=\"main-index\">\n",
      "                <!--图片轮播-->\n",
      "<!--图片轮播-->\n",
      "<div id=\"pic-nav\" class=\"pic-nav\">\n",
      "\n",
      "    <ul id=\"pic-nav-ul\" class=\"pic-nav-ul\">\n",
      "            <li class=\"pic-item\">\n",
      "            <a href=\"javascript:;\" class=\"pic-target\">\n",
      "                <img src=\"https://p0.meituan.net/display/7b662e8a743bea27e9bd83465ec74579100132.jpg\" alt=\"默认图链接\">\n",
      "            </a>\n",
      "        </li>\n",
      "    </ul>\n",
      "</div>                <!--热门商区地铁-->\n",
      "<!--热门分类商区地铁-->\n",
      "<div id=\"cata-hot\" class=\"cata-hot cata-hot-single\">\n",
      "    <div class=\"cata-hot-detail cata-hot-info\" data-click-name=\"全部\" data-click-title=\"热门分类\">\n",
      "        <div class=\"hot-title\"><a href=\"//www.dianping.com/shopall/2340/0\" target=\"_blank\" class=\"hot-title-link\" data-click-name=\"热门分类标题\" data-click-title=\"标题\"\n",
      "        >热门分类</a></div>\n",
      "        <ul class=\"cata-hot-detail-item\">\n",
      "            <li class=\"hot-item hot-item-0\"><a href=\"//www.dianping.com/newtaipei/ch10/g215\" target=\"_blank\" data-click-title=\"类目\" data-click-name=面条>面条</a></li>\n",
      "            <li class=\"hot-item hot-item-1\"><a href=\"//www.dianping.com/newtaipei/ch10/g2806\" target=\"_blank\" data-click-title=\"类目\" data-click-name=希腊菜>希腊菜</a></li>\n",
      "            <li class=\"hot-item hot-item-2\"><a href=\"//www.dianping.com/newtaipei/ch10/g2861\" target=\"_blank\" data-click-title=\"类目\" data-click-name=水果生鲜>水果生鲜</a></li>\n",
      "            <li class=\"hot-item hot-item-3\"><a href=\"//www.dianping.com/newtaipei/ch10/g6756\" target=\"_blank\" data-click-title=\"类目\" data-click-name=美国菜>美国菜</a></li>\n",
      "            <li class=\"hot-item hot-item-4\"><a href=\"//www.dianping.com/newtaipei/ch10/g24889\" target=\"_blank\" data-click-title=\"类目\" data-click-name=中餐>中餐</a></li>\n",
      "            <li class=\"hot-item hot-item-5\"><a href=\"//www.dianping.com/newtaipei/ch10/g33893\" target=\"_blank\" data-click-title=\"类目\" data-click-name=汉堡>汉堡</a></li>\n",
      "            <li class=\"hot-item hot-item-6\"><a href=\"//www.dianping.com/newtaipei/ch10/g33894\" target=\"_blank\" data-click-title=\"类目\" data-click-name=奶茶/果汁>奶茶/果汁</a></li>\n",
      "            <li class=\"hot-item hot-item-7\"><a href=\"//www.dianping.com/newtaipei/ch10/g33895\" target=\"_blank\" data-click-title=\"类目\" data-click-name=饮料冰品>饮料冰品</a></li>\n",
      "            <li class=\"hot-item hot-item-8\"><a href=\"//www.dianping.com/newtaipei/ch10/g33932\" target=\"_blank\" data-click-title=\"类目\" data-click-name=牛肉面>牛肉面</a></li>\n",
      "            <li class=\"hot-item hot-item-9\"><a href=\"//www.dianping.com/newtaipei/ch10/g33933\" target=\"_blank\" data-click-title=\"类目\" data-click-name=卤肉饭>卤肉饭</a></li>\n",
      "            <li class=\"hot-item hot-item-10\"><a href=\"//www.dianping.com/newtaipei/ch10/g33934\" target=\"_blank\" data-click-title=\"类目\" data-click-name=炸鸡>炸鸡</a></li>\n",
      "            <li class=\"hot-item hot-item-11\"><a href=\"//www.dianping.com/newtaipei/ch10/g33935\" target=\"_blank\" data-click-title=\"类目\" data-click-name=榴莲>榴莲</a></li>\n",
      "            <li class=\"hot-item hot-item-12\"><a href=\"//www.dianping.com/newtaipei/ch10/g33942\" target=\"_blank\" data-click-title=\"类目\" data-click-name=意大利面>意大利面</a></li>\n",
      "            <li class=\"hot-item hot-item-13\"><a href=\"//www.dianping.com/newtaipei/ch10/g34041\" target=\"_blank\" data-click-title=\"类目\" data-click-name=日式铁板烧>日式铁板烧</a></li>\n",
      "            <li class=\"hot-item hot-item-14\"><a href=\"//www.dianping.com/newtaipei/ch10/g34205\" target=\"_blank\" data-click-title=\"类目\" data-click-name=亚洲菜>亚洲菜</a></li>\n",
      "            <li class=\"hot-item hot-item-15\"><a href=\"//www.dianping.com/newtaipei/ch10/g34214\" target=\"_blank\" data-click-title=\"类目\" data-click-name=美食广场>美食广场</a></li>\n",
      "        </ul>\n",
      "    </div>\n",
      "</div>                <!--用户信息区域-->\n",
      "                <div id=\"userinfo-vip\" class=\"userinfo-vip\">\n",
      "<!--用户信息区域-->\n",
      "<div id=\"userinfo\" class=\"user-info-con\">\n",
      "    <div class=\"userinfo\">\n",
      "        <div class=\"user-pic\">\n",
      "            <a class=\"user-link\" href=\"javascript:;\" data-click-name=\"用户头像\" target=\"_blank\">\n",
      "                <img src=\"//p1.meituan.net/mobilem/ff63f017a1363c29eef79f32cd39a46e5120.png\" alt=\"用户头像\" class=\"user\">\n",
      "            </a>\n",
      "        </div>\n",
      "        <div class=\"hello-user\">\n",
      "            <span class=\"hi\">Hi，</span>\n",
      "            <span class=\"hello\">你好</span>\n",
      "        </div>\n",
      "        <div class=\"use-day\">登录大众点评，发现品质生活</div>\n",
      "        <div class=\"user-opt\">\n",
      "            <div class=\"user-opt-nologin\" data-click-name=\"未登录\">\n",
      "                <a href=\"//account.dianping.com/login\" class=\"opt-btn login\">登录</a>\n",
      "                <a href=\"//account.dianping.com/reg\" class=\"opt-btn regsiter\">注册</a>\n",
      "            </div>\n",
      "            <div class=\"user-opt-login Hide\" data-click-name=\"登录\">\n",
      "                <a class=\"info-detail review-hold\" href=\"//www.dianping.com/addreview/list\" target=\"_blank\" data-click-name=\"待点评\">\n",
      "                    <div class=\"info-desc\">待点评</div>\n",
      "                    <div class=\"info-count\">0</div>\n",
      "                </a>\n",
      "                <a class=\"info-detail collect\" href=\"\" target=\"_blank\" data-click-name=\"收藏\">\n",
      "                    <div class=\"info-desc\">收藏</div>\n",
      "                    <div class=\"info-count\">0</div>\n",
      "                </a>\n",
      "                <a class=\"info-detail coupon\" href=\"//t.dianping.com/account/coupons\" target=\"_blank\" data-click-name=\"团购券\">\n",
      "                    <div class=\"info-desc\">团购券</div>\n",
      "                    <div class=\"info-count\">0</div>\n",
      "                </a>\n",
      "            </div>\n",
      "        </div>\n",
      "    </div>\n",
      "</div><!--热帖/vip之星/部落-->\n",
      "<div id=\"vip-info\" class=\"vip-info\">\n",
      "    <div class=\"vip-info-title\">\n",
      "        <a href=\"//s.dianping.com/\" class=\"info-title current hot-post-title\" data-info=\"hot-post\" target=\"_blank\" data-click-title=\"post\">\n",
      "            <div class=\"info-title-pic post-pic\"></div><div class=\"vip-info-con\">热帖</div>\n",
      "        </a>\n",
      "        <a href=\"//www.dianping.com/memberlist/star/1909/2340\" class=\"info-title vip-star-title\" data-info=\"vip-star\" target=\"_blank\" data-click-title=\"vip-rank\">\n",
      "            <div class=\"info-title-pic vip-pic\"></div><div class=\"vip-info-con\">VIP排行</div>\n",
      "        </a>\n",
      "        <a href=\"//s.dianping.com/\" class=\"info-title tribe-title\" data-info=\"tribe\" target=\"_blank\" data-click-title=\"tribe\">\n",
      "            <div class=\"info-title-pic tribe-pic\"></div><div class=\"vip-info-con\">部落</div>\n",
      "        </a>\n",
      "    </div>\n",
      "\n",
      "    <div class=\"info-detail hot-post\">\n",
      "            <a class=\"post-item\" target=\"_blank\" href=\"http://s.dianping.com/topic/33259672\">香港好吃不贵的面馆大集合</a>\n",
      "            <a class=\"post-item\" target=\"_blank\" href=\"http://s.dianping.com/topic/33642702\">看《偶像练习生》pick赢好礼</a>\n",
      "            <a class=\"post-item\" target=\"_blank\" href=\"http://s.dianping.com/topic/33702339\">《神秘巨星》平凡中的伟大</a>\n",
      "            <a class=\"post-item\" target=\"_blank\" href=\"http://s.dianping.com/topic/33646076\">令强迫症舒爽的镜面鸡蛋羹</a>\n",
      "    </div>\n",
      "\n",
      "    <div class=\"info-detail vip-star Hide\">\n",
      "            <div class=\"no-vip-info\">暂无内容</div>\n",
      "    </div>\n",
      "\n",
      "    <div class=\"info-detail tribe Hide\">\n",
      "            <div class=\"tribe-item\">\n",
      "                <a href=\"//s.dianping.com/kitchen\" class=\"tribe-pic\" target=\"_blank\">\n",
      "                    <img src=\"http://p0.meituan.net/gpa/569c4bbdbc5018ff24dba55e95f4b32736995.jpg\" alt=\"美食厨房DIY\">\n",
      "                </a>\n",
      "                <div class=\"tribe-detail\">\n",
      "                    <a href=\"//s.dianping.com/kitchen\" class=\"tribe-name\" target=\"_blank\"><span>美食厨房DIY</span></a>\n",
      "                    <div class=\"tribe-p\">成员:84370</div>\n",
      "                </div>\n",
      "                <div class=\"vip-overlay Hide\">\n",
      "                    <a class=\"vip-overlay-link\" href=\"//s.dianping.com/kitchen\" target=\"_blank\"></a>\n",
      "                </div>\n",
      "            </div>\n",
      "            <div class=\"tribe-item\">\n",
      "                <a href=\"//s.dianping.com/buyaoqian\" class=\"tribe-pic\" target=\"_blank\">\n",
      "                    <img src=\"http://p1.meituan.net/gpa/cb23edc005acde50b860c407d6d1729412708.jpg\" alt=\"免费赠品\">\n",
      "                </a>\n",
      "                <div class=\"tribe-detail\">\n",
      "                    <a href=\"//s.dianping.com/buyaoqian\" class=\"tribe-name\" target=\"_blank\"><span>免费赠品</span></a>\n",
      "                    <div class=\"tribe-p\">成员:158815</div>\n",
      "                </div>\n",
      "                <div class=\"vip-overlay Hide\">\n",
      "                    <a class=\"vip-overlay-link\" href=\"//s.dianping.com/buyaoqian\" target=\"_blank\"></a>\n",
      "                </div>\n",
      "            </div>\n",
      "    </div>\n",
      "</div><!--点评头条，没有头条则展示二维码&ndash;&gt;-->\n",
      "<div id=\"index-headline\" class=\"index-headline\">\n",
      "            <!-- 二维码 -->\n",
      "        <div class=\"qr-code\">\n",
      "            <div class=\"qr-con\">\n",
      "                <img class=\"qr-img\" src=\"//p0.meituan.net/mobilem/2e60ff2116c2ae119032e2687a02693c11264.png\" alt=\"点评二维码\">\n",
      "            </div>\n",
      "            <div class=\"qr-hui\">\n",
      "                <div class=\"qr-hui-desc desc-hui\">专享优惠</div>\n",
      "                <div class=\"qr-hui-desc desc-coupon\">专享优惠</div>\n",
      "            </div>\n",
      "        </div>\n",
      "\n",
      "</div>                </div>\n",
      "                <div id=\"cata-detail\" class=\"cata-detail\">\n",
      "                    <!-- 美食，休闲娱乐 -->\n",
      "                    <!-- cata-part-single -->\n",
      "                        <div id=\"cata-part-one\" class=\"cata-part cata-part-one cata-part-double cata-poi\">\n",
      "                            <!--美食-->\n",
      "<div id=\"cata-food-index\" class=\"cata-index cata-food-index\" data-category=\"food\">\n",
      "    <div class=\"cata-title\">\n",
      "        <div class=\"cata-index-pic title-pic-food\"></div>\n",
      "        <div class=\"title-dec\">美食</div>\n",
      "        <div class=\"cata-tag\">\n",
      "                    <a href=\"//www.dianping.com/newtaipei/ch10/g112\" target=\"_blank\" data-category=\"food\" data-click-name=小吃快餐>\n",
      "                        <span class=\"tag-item\">小吃快餐</span>\n",
      "                    </a>\n",
      "                    <a href=\"//www.dianping.com/newtaipei/ch10/g24889\" target=\"_blank\" data-category=\"food\" data-click-name=中餐>\n",
      "                        <span class=\"tag-item\">中餐</span>\n",
      "                    </a>\n",
      "                    <a href=\"//www.dianping.com/newtaipei/ch10/g117\" target=\"_blank\" data-category=\"food\" data-click-name=面包甜点>\n",
      "                        <span class=\"tag-item\">面包甜点</span>\n",
      "                    </a>\n",
      "        </div>\n",
      "        <a href=\"//www.dianping.com/newtaipei/food\" target=\"_blank\" class=\"view-more\" data-category=\"food\" data-click-title=\"全部按钮\" data-click-name=\"全部\">\n",
      "            <span class=\"more-desc\">全部</span>\n",
      "            <span class=\"arrow-right\"></span>\n",
      "        </a>\n",
      "    </div>\n",
      "    <div class=\"cata-con\">\n",
      "            <div class=\"cata-shop-item\">\n",
      "                <div class=\"shop-item\">\n",
      "                    <a href=\"//www.dianping.com/shop/8759470\" target=\"_blank\" class=\"shop-img shop-item-pic\" data-category=\"food\" data-click-title=\"图片\" data-click-name=\"商家图片1\" data-shopid=\"8759470\">\n",
      "                            <img lazy-src=\"https://qcloud.dpfile.com/pc/3QxurMV0xMXTXuqEbqwpm5x7PRdKHGl8xHh8AiI-t0OmG6xupccLopIlJ_cA-p1skkCBOWO5rApRy3gE6VS0Vg.jpg\" src=\"//p1.meituan.net/gpa/8a011aaa356dc5cba2537cdd4400f1c09816.jpg\" alt=\"商户图片\">\n",
      "                        <div class=\"pic-overlay\"></div>\n",
      "                    </a>\n",
      "                    <div class=\"shop-info tag-no\">\n",
      "                        <a href=\"//www.dianping.com/shop/8759470\" target=\"_blank\" class=\"shop-name\" data-category=\"food\" data-click-title=\"标题\" data-click-name=\"商家名称1\" data-shopid=\"8759470\">\n",
      "                            <span class=\"name-desc\">福哥牛肉面</span>\n",
      "                        </a>\n",
      "                        <div class=\"star-info\">\n",
      "                            <span class=\"star star-45\"></span>\n",
      "                            <span class=\"comment\">156条点评</span>\n",
      "                        </div>\n",
      "                        <div class=\"area-info\">\n",
      "                                <span class=\"region-name\">瑞芳站</span>\n",
      "                                <span class=\"maincate-name\">中餐</span>\n",
      "\n",
      "                        </div>\n",
      "                        <div class=\"avg\">\n",
      "                                <span>¥22/人</span>\n",
      "                        </div>\n",
      "                    </div>\n",
      "                </div>\n",
      "            </div>\n",
      "            <div class=\"cata-shop-item\">\n",
      "                <div class=\"shop-item\">\n",
      "                    <a href=\"//www.dianping.com/shop/8758492\" target=\"_blank\" class=\"shop-img shop-item-pic\" data-category=\"food\" data-click-title=\"图片\" data-click-name=\"商家图片2\" data-shopid=\"8758492\">\n",
      "                            <img lazy-src=\"https://qcloud.dpfile.com/pc/nvPVAju1FA7I661HQJVJw8EkfmVmHlSKOX1xsT5MzUtVPhQDVYdojQLar3PBTXefkkCBOWO5rApRy3gE6VS0Vg.jpg\" src=\"//p1.meituan.net/gpa/8a011aaa356dc5cba2537cdd4400f1c09816.jpg\" alt=\"商户图片\">\n",
      "                        <div class=\"pic-overlay\"></div>\n",
      "                    </a>\n",
      "                    <div class=\"shop-info tag-no\">\n",
      "                        <a href=\"//www.dianping.com/shop/8758492\" target=\"_blank\" class=\"shop-name\" data-category=\"food\" data-click-title=\"标题\" data-click-name=\"商家名称2\" data-shopid=\"8758492\">\n",
      "                            <span class=\"name-desc\">百叶温州大馄饨</span>\n",
      "                        </a>\n",
      "                        <div class=\"star-info\">\n",
      "                            <span class=\"star star-40\"></span>\n",
      "                            <span class=\"comment\">216条点评</span>\n",
      "                        </div>\n",
      "                        <div class=\"area-info\">\n",
      "                                <span class=\"region-name\">淡水</span>\n",
      "                                <span class=\"maincate-name\">中餐</span>\n",
      "\n",
      "                        </div>\n",
      "                        <div class=\"avg\">\n",
      "                                <span>¥40/人</span>\n",
      "                        </div>\n",
      "                    </div>\n",
      "                </div>\n",
      "            </div>\n",
      "            <div class=\"cata-shop-item\">\n",
      "                <div class=\"shop-item\">\n",
      "                    <a href=\"//www.dianping.com/shop/6294759\" target=\"_blank\" class=\"shop-img shop-item-pic\" data-category=\"food\" data-click-title=\"图片\" data-click-name=\"商家图片3\" data-shopid=\"6294759\">\n",
      "                            <img lazy-src=\"http://p0.meituan.net/apiback/4a56586d70364d97db0e47e08fed46e8124252.jpg%40340w_192h_1e_1l%7Cwatermark%3D0\" src=\"//p1.meituan.net/gpa/8a011aaa356dc5cba2537cdd4400f1c09816.jpg\" alt=\"商户图片\">\n",
      "                        <div class=\"pic-overlay\"></div>\n",
      "                    </a>\n",
      "                    <div class=\"shop-info tag-no\">\n",
      "                        <a href=\"//www.dianping.com/shop/6294759\" target=\"_blank\" class=\"shop-name\" data-category=\"food\" data-click-title=\"标题\" data-click-name=\"商家名称3\" data-shopid=\"6294759\">\n",
      "                            <span class=\"name-desc\">阿兰草仔粿</span>\n",
      "                        </a>\n",
      "                        <div class=\"star-info\">\n",
      "                            <span class=\"star star-40\"></span>\n",
      "                            <span class=\"comment\">210条点评</span>\n",
      "                        </div>\n",
      "                        <div class=\"area-info\">\n",
      "                                <span class=\"region-name\">九份/金瓜石</span>\n",
      "                                <span class=\"maincate-name\">小吃快餐</span>\n",
      "\n",
      "                        </div>\n",
      "                        <div class=\"avg\">\n",
      "                                <span>¥9/人</span>\n",
      "                        </div>\n",
      "                    </div>\n",
      "                </div>\n",
      "            </div>\n",
      "            <div class=\"cata-shop-item\">\n",
      "                <div class=\"shop-item\">\n",
      "                    <a href=\"//www.dianping.com/shop/6210863\" target=\"_blank\" class=\"shop-img shop-item-pic\" data-category=\"food\" data-click-title=\"图片\" data-click-name=\"商家图片4\" data-shopid=\"6210863\">\n",
      "                            <img lazy-src=\"https://qcloud.dpfile.com/pc/tsV8ncXKD8j7mHcTaX-SXTTimvOXSbsak-2SWjTIhiFihA1cfh9Rjk42NGRSVoNdkkCBOWO5rApRy3gE6VS0Vg.jpg\" src=\"//p1.meituan.net/gpa/8a011aaa356dc5cba2537cdd4400f1c09816.jpg\" alt=\"商户图片\">\n",
      "                        <div class=\"pic-overlay\"></div>\n",
      "                    </a>\n",
      "                    <div class=\"shop-info tag-no\">\n",
      "                        <a href=\"//www.dianping.com/shop/6210863\" target=\"_blank\" class=\"shop-name\" data-category=\"food\" data-click-title=\"标题\" data-click-name=\"商家名称4\" data-shopid=\"6210863\">\n",
      "                            <span class=\"name-desc\">麻吉奶奶鲜奶麻糬</span>\n",
      "                        </a>\n",
      "                        <div class=\"star-info\">\n",
      "                            <span class=\"star star-50\"></span>\n",
      "                            <span class=\"comment\">877条点评</span>\n",
      "                        </div>\n",
      "                        <div class=\"area-info\">\n",
      "                                <span class=\"region-name\">淡水</span>\n",
      "                                <span class=\"maincate-name\">面包甜点</span>\n",
      "\n",
      "                        </div>\n",
      "                        <div class=\"avg\">\n",
      "                                <span>¥24/人</span>\n",
      "                        </div>\n",
      "                    </div>\n",
      "                </div>\n",
      "            </div>\n",
      "            <div class=\"cata-shop-item\">\n",
      "                <div class=\"shop-item\">\n",
      "                    <a href=\"//www.dianping.com/shop/58435017\" target=\"_blank\" class=\"shop-img shop-item-pic\" data-category=\"food\" data-click-title=\"图片\" data-click-name=\"商家图片5\" data-shopid=\"58435017\">\n",
      "                            <img lazy-src=\"https://qcloud.dpfile.com/pc/8qurwZkKODq3wYb_IL4JE7VN3nZxTZpfw4UZRfFogWz7P6Rjs5cPxAt31EWJPA1JkkCBOWO5rApRy3gE6VS0Vg.jpg\" src=\"//p1.meituan.net/gpa/8a011aaa356dc5cba2537cdd4400f1c09816.jpg\" alt=\"商户图片\">\n",
      "                        <div class=\"pic-overlay\"></div>\n",
      "                    </a>\n",
      "                    <div class=\"shop-info tag-no\">\n",
      "                        <a href=\"//www.dianping.com/shop/58435017\" target=\"_blank\" class=\"shop-name\" data-category=\"food\" data-click-title=\"标题\" data-click-name=\"商家名称5\" data-shopid=\"58435017\">\n",
      "                            <span class=\"name-desc\">九份阿柑姨</span>\n",
      "                        </a>\n",
      "                        <div class=\"star-info\">\n",
      "                            <span class=\"star star-50\"></span>\n",
      "                            <span class=\"comment\">1101条点评</span>\n",
      "                        </div>\n",
      "                        <div class=\"area-info\">\n",
      "                                <span class=\"region-name\">九份/金瓜石</span>\n",
      "                                <span class=\"maincate-name\">面包甜点</span>\n",
      "\n",
      "                        </div>\n",
      "                        <div class=\"avg\">\n",
      "                                <span>¥12/人</span>\n",
      "                        </div>\n",
      "                    </div>\n",
      "                </div>\n",
      "            </div>\n",
      "            <div class=\"cata-shop-item\">\n",
      "                <div class=\"shop-item\">\n",
      "                    <a href=\"//www.dianping.com/shop/3292630\" target=\"_blank\" class=\"shop-img shop-item-pic\" data-category=\"food\" data-click-title=\"图片\" data-click-name=\"商家图片6\" data-shopid=\"3292630\">\n",
      "                            <img lazy-src=\"https://qcloud.dpfile.com/pc/4Aj_Z6nDv6TGqi5aYZZsGvWCe0qxv0VYLW9vKkqWZ3fqWnR14JeRdjPwjiCtiyQfkkCBOWO5rApRy3gE6VS0Vg.jpg\" src=\"//p1.meituan.net/gpa/8a011aaa356dc5cba2537cdd4400f1c09816.jpg\" alt=\"商户图片\">\n",
      "                        <div class=\"pic-overlay\"></div>\n",
      "                    </a>\n",
      "                    <div class=\"shop-info tag-no\">\n",
      "                        <a href=\"//www.dianping.com/shop/3292630\" target=\"_blank\" class=\"shop-name\" data-category=\"food\" data-click-title=\"标题\" data-click-name=\"商家名称6\" data-shopid=\"3292630\">\n",
      "                            <span class=\"name-desc\">赖阿婆芋圆</span>\n",
      "                        </a>\n",
      "                        <div class=\"star-info\">\n",
      "                            <span class=\"star star-45\"></span>\n",
      "                            <span class=\"comment\">2031条点评</span>\n",
      "                        </div>\n",
      "                        <div class=\"area-info\">\n",
      "                                <span class=\"region-name\">九份/金瓜石</span>\n",
      "                                <span class=\"maincate-name\">面包甜点</span>\n",
      "\n",
      "                        </div>\n",
      "                        <div class=\"avg\">\n",
      "                                <span>¥11/人</span>\n",
      "                        </div>\n",
      "                    </div>\n",
      "                </div>\n",
      "            </div>\n",
      "    </div>\n",
      "</div>\n",
      "                            <!--休闲娱乐-->\n",
      "<div id=\"cata-entertainment-index\" class=\"cata-index  cata-entertainment-index\" data-category=\"entertainment\">\n",
      "    <div class=\"cata-title\">\n",
      "        <div class=\"cata-index-pic title-pic-ktv\"></div>\n",
      "        <div class=\"title-dec\">休闲娱乐</div>\n",
      "        <div class=\"cata-tag\">\n",
      "                    <a href=\"//www.dianping.com/newtaipei/ch30/g2936\" target=\"_blank\" data-category=\"entertainment\" data-click-name=SPA养生>\n",
      "                        <span class=\"tag-item\">SPA养生</span>\n",
      "                    </a>\n",
      "                    <a href=\"//www.dianping.com/newtaipei/ch30/g157\" target=\"_blank\" data-category=\"entertainment\" data-click-name=美发>\n",
      "                        <span class=\"tag-item\">美发</span>\n",
      "                    </a>\n",
      "                    <a href=\"//www.dianping.com/newtaipei/ch30/g34026\" target=\"_blank\" data-category=\"entertainment\" data-click-name=体育活动>\n",
      "                        <span class=\"tag-item\">体育活动</span>\n",
      "                    </a>\n",
      "        </div>\n",
      "        <a href=\"//www.dianping.com/newtaipei/life\" target=\"_blank\" class=\"view-more\" data-category=\"entertainment\" data-click-title=\"全部按钮\" data-click-name=\"全部\">\n",
      "            <span class=\"more-desc\">全部</span>\n",
      "            <span class=\"arrow-right\"></span>\n",
      "        </a>\n",
      "    </div>\n",
      "    <div class=\"cata-con\">\n",
      "            <div class=\"cata-shop-item\">\n",
      "                <div class=\"shop-item\" >\n",
      "                    <a href=\"//www.dianping.com/shop/6113051\" target=\"_blank\" class=\"shop-img shop-item-pic\" data-category=\"entertainment\" data-click-title=\"图片\" data-click-name=\"商家图片1\" data-shopid=\"6113051\">\n",
      "                            <img lazy-src=\"https://qcloud.dpfile.com/pc/ysh45RRIKNzQl9D0OpGmZl7xWRxWaqUsqU1-6hZ2u8iRWqmnXvZVjVxSEREj8-lSkkCBOWO5rApRy3gE6VS0Vg.jpg\" src=\"//p1.meituan.net/gpa/8a011aaa356dc5cba2537cdd4400f1c09816.jpg\" alt=\"商户图片\">\n",
      "                        <div class=\"pic-overlay\"></div>\n",
      "                    </a>\n",
      "                    <div class=\"shop-info tag-no\">\n",
      "                        <a href=\"//www.dianping.com/shop/6113051\" target=\"_blank\" class=\"shop-name\"data-category=\"entertainment\" data-click-title=\"标题\" data-click-name=\"商家名称1\" data-shopid=\"6113051\">\n",
      "                            <span class=\"name-desc\">平溪放天灯</span>\n",
      "                        </a>\n",
      "                        <div class=\"star-info\">\n",
      "                            <span class=\"star star-50\"></span>\n",
      "                            <span class=\"comment\">119条点评</span>\n",
      "                        </div>\n",
      "                        <div class=\"area-info\">\n",
      "                                <span class=\"region-name\">十分</span>\n",
      "                                <span class=\"maincate-name\">更多当地玩乐</span>\n",
      "\n",
      "                        </div>\n",
      "                        <div class=\"avg\">\n",
      "                                <span>¥32/人</span>\n",
      "                        </div>\n",
      "                    </div>\n",
      "                </div>\n",
      "            </div>\n",
      "            <div class=\"cata-shop-item\">\n",
      "                <div class=\"shop-item\" >\n",
      "                    <a href=\"//www.dianping.com/shop/1946127545\" target=\"_blank\" class=\"shop-img shop-item-pic\" data-category=\"entertainment\" data-click-title=\"图片\" data-click-name=\"商家图片2\" data-shopid=\"1946127545\">\n",
      "                            <img lazy-src=\"https://qcloud.dpfile.com/pc/BVgMexeUddjjjelrgF8KHF3aDu8AYL_a2rrEk8griLdTl97GVIp43WBYmtvxJ-gQkkCBOWO5rApRy3gE6VS0Vg.jpg\" src=\"//p1.meituan.net/gpa/8a011aaa356dc5cba2537cdd4400f1c09816.jpg\" alt=\"商户图片\">\n",
      "                        <div class=\"pic-overlay\"></div>\n",
      "                    </a>\n",
      "                    <div class=\"shop-info tag-no\">\n",
      "                        <a href=\"//www.dianping.com/shop/1946127545\" target=\"_blank\" class=\"shop-name\"data-category=\"entertainment\" data-click-title=\"标题\" data-click-name=\"商家名称2\" data-shopid=\"1946127545\">\n",
      "                            <span class=\"name-desc\">知足SPA泰式養生館</span>\n",
      "                        </a>\n",
      "                        <div class=\"star-info\">\n",
      "                            <span class=\"star star-45\"></span>\n",
      "                            <span class=\"comment\">8条点评</span>\n",
      "                        </div>\n",
      "                        <div class=\"area-info\">\n",
      "                                <span class=\"region-name\">新庄</span>\n",
      "                                <span class=\"maincate-name\">SPA养生</span>\n",
      "\n",
      "                        </div>\n",
      "                        <div class=\"avg\">\n",
      "                        </div>\n",
      "                    </div>\n",
      "                </div>\n",
      "            </div>\n",
      "            <div class=\"cata-shop-item\">\n",
      "                <div class=\"shop-item\" >\n",
      "                    <a href=\"//www.dianping.com/shop/112148181\" target=\"_blank\" class=\"shop-img shop-item-pic\" data-category=\"entertainment\" data-click-title=\"图片\" data-click-name=\"商家图片3\" data-shopid=\"112148181\">\n",
      "                            <img lazy-src=\"https://qcloud.dpfile.com/pc/44I1N46L4myIPn02PkmjEL4CRFi7NAw1JyYaWWb_u1p_7n40QNp_wEmH_3JhQ3mFkkCBOWO5rApRy3gE6VS0Vg.jpg\" src=\"//p1.meituan.net/gpa/8a011aaa356dc5cba2537cdd4400f1c09816.jpg\" alt=\"商户图片\">\n",
      "                        <div class=\"pic-overlay\"></div>\n",
      "                    </a>\n",
      "                    <div class=\"shop-info tag-no\">\n",
      "                        <a href=\"//www.dianping.com/shop/112148181\" target=\"_blank\" class=\"shop-name\"data-category=\"entertainment\" data-click-title=\"标题\" data-click-name=\"商家名称3\" data-shopid=\"112148181\">\n",
      "                            <span class=\"name-desc\">幸福天灯</span>\n",
      "                        </a>\n",
      "                        <div class=\"star-info\">\n",
      "                            <span class=\"star star-45\"></span>\n",
      "                            <span class=\"comment\">9条点评</span>\n",
      "                        </div>\n",
      "                        <div class=\"area-info\">\n",
      "                                <span class=\"region-name\">十分</span>\n",
      "                                <span class=\"maincate-name\">特色体验</span>\n",
      "\n",
      "                        </div>\n",
      "                        <div class=\"avg\">\n",
      "                        </div>\n",
      "                    </div>\n",
      "                </div>\n",
      "            </div>\n",
      "            <div class=\"cata-shop-item\">\n",
      "                <div class=\"shop-item\" >\n",
      "                    <a href=\"//www.dianping.com/shop/23345162\" target=\"_blank\" class=\"shop-img shop-item-pic\" data-category=\"entertainment\" data-click-title=\"图片\" data-click-name=\"商家图片4\" data-shopid=\"23345162\">\n",
      "                            <img lazy-src=\"https://qcloud.dpfile.com/pc/ex2mtLJCeTNEeoXNFacsvOrQUi3Fy_F_T2-jbM42A6AuCFiWcQfbxU-9gwpShUGqkkCBOWO5rApRy3gE6VS0Vg.jpg\" src=\"//p1.meituan.net/gpa/8a011aaa356dc5cba2537cdd4400f1c09816.jpg\" alt=\"商户图片\">\n",
      "                        <div class=\"pic-overlay\"></div>\n",
      "                    </a>\n",
      "                    <div class=\"shop-info tag-no\">\n",
      "                        <a href=\"//www.dianping.com/shop/23345162\" target=\"_blank\" class=\"shop-name\"data-category=\"entertainment\" data-click-title=\"标题\" data-click-name=\"商家名称4\" data-shopid=\"23345162\">\n",
      "                            <span class=\"name-desc\">诺亞文創</span>\n",
      "                        </a>\n",
      "                        <div class=\"star-info\">\n",
      "                            <span class=\"star star-45\"></span>\n",
      "                            <span class=\"comment\">6条点评</span>\n",
      "                        </div>\n",
      "                        <div class=\"area-info\">\n",
      "                                <span class=\"region-name\">新庄</span>\n",
      "                                <span class=\"maincate-name\">更多当地玩乐</span>\n",
      "\n",
      "                        </div>\n",
      "                        <div class=\"avg\">\n",
      "                                <span>¥14360/人</span>\n",
      "                        </div>\n",
      "                    </div>\n",
      "                </div>\n",
      "            </div>\n",
      "            <div class=\"cata-shop-item\">\n",
      "                <div class=\"shop-item\" >\n",
      "                    <a href=\"//www.dianping.com/shop/8778183\" target=\"_blank\" class=\"shop-img shop-item-pic\" data-category=\"entertainment\" data-click-title=\"图片\" data-click-name=\"商家图片5\" data-shopid=\"8778183\">\n",
      "                            <img lazy-src=\"https://qcloud.dpfile.com/pc/YGDB4FYjpy65HBR5xTWo-DYMGyoY3xWH8by06wTMzKrF7n5l0XR1XkmuZb2jTEclkkCBOWO5rApRy3gE6VS0Vg.jpg\" src=\"//p1.meituan.net/gpa/8a011aaa356dc5cba2537cdd4400f1c09816.jpg\" alt=\"商户图片\">\n",
      "                        <div class=\"pic-overlay\"></div>\n",
      "                    </a>\n",
      "                    <div class=\"shop-info tag-no\">\n",
      "                        <a href=\"//www.dianping.com/shop/8778183\" target=\"_blank\" class=\"shop-name\"data-category=\"entertainment\" data-click-title=\"标题\" data-click-name=\"商家名称5\" data-shopid=\"8778183\">\n",
      "                            <span class=\"name-desc\">阿妈的天灯</span>\n",
      "                        </a>\n",
      "                        <div class=\"star-info\">\n",
      "                            <span class=\"star star-45\"></span>\n",
      "                            <span class=\"comment\">12条点评</span>\n",
      "                        </div>\n",
      "                        <div class=\"area-info\">\n",
      "                                <span class=\"region-name\">十分</span>\n",
      "                                <span class=\"maincate-name\">更多当地玩乐</span>\n",
      "\n",
      "                        </div>\n",
      "                        <div class=\"avg\">\n",
      "                        </div>\n",
      "                    </div>\n",
      "                </div>\n",
      "            </div>\n",
      "            <div class=\"cata-shop-item\">\n",
      "                <div class=\"shop-item\" >\n",
      "                    <a href=\"//www.dianping.com/shop/75630446\" target=\"_blank\" class=\"shop-img shop-item-pic\" data-category=\"entertainment\" data-click-title=\"图片\" data-click-name=\"商家图片6\" data-shopid=\"75630446\">\n",
      "                            <img lazy-src=\"https://qcloud.dpfile.com/pc/nAUTOWs5UOLXcmLK8o58lQKSrY7RPGtEw5Q8k8lOUpGRXUYnpnzvdjV8PCsbFFJAkkCBOWO5rApRy3gE6VS0Vg.jpg\" src=\"//p1.meituan.net/gpa/8a011aaa356dc5cba2537cdd4400f1c09816.jpg\" alt=\"商户图片\">\n",
      "                        <div class=\"pic-overlay\"></div>\n",
      "                    </a>\n",
      "                    <div class=\"shop-info tag-no\">\n",
      "                        <a href=\"//www.dianping.com/shop/75630446\" target=\"_blank\" class=\"shop-name\"data-category=\"entertainment\" data-click-title=\"标题\" data-click-name=\"商家名称6\" data-shopid=\"75630446\">\n",
      "                            <span class=\"name-desc\">板桥大远百威秀影城</span>\n",
      "                        </a>\n",
      "                        <div class=\"star-info\">\n",
      "                            <span class=\"star star-40\"></span>\n",
      "                            <span class=\"comment\">6条点评</span>\n",
      "                        </div>\n",
      "                        <div class=\"area-info\">\n",
      "                                <span class=\"region-name\">板桥/府中商圈</span>\n",
      "                                <span class=\"maincate-name\">电影院</span>\n",
      "\n",
      "                        </div>\n",
      "                        <div class=\"avg\">\n",
      "                        </div>\n",
      "                    </div>\n",
      "                </div>\n",
      "            </div>\n",
      "    </div>\n",
      "</div>\n",
      "                        </div>\n",
      "\n",
      "                    <!-- 美食，休闲娱乐结束-->\n",
      "                    <!--结婚-->\n",
      "\n",
      "\n",
      "                    <!-- 结婚结束 -->\n",
      "                    <!--丽人亲子-->\n",
      "                    <!-- 丽人亲子结束 -->\n",
      "                    <!--家装-->\n",
      "                    <!-- 家装结束 -->\n",
      "                    <!--教育模块-->\n",
      "                    <!--教育模块结束-->\n",
      "                    <!--生活服务模块-->\n",
      "\n",
      "                    <!--生活服务模块结束-->\n",
      "                    <!--旅游景点模块-->\n",
      "<div id=\"travel-scene-cata\" class=\"last-four-cata cata-poi\" data-category=\"scene\">\n",
      "    <div class=\"top-bar clearfix\">\n",
      "        <div class=\"title-img scene-logo\"></div>\n",
      "        <div class=\"title-text\">旅游景点</div>\n",
      "        <div class=\"cata-tag\">\n",
      "                        <a href=\"//www.dianping.com/newtaipei/ch35/g32745\" target=\"_blank\" data-category=\"scene\" data-click-name=自然风光>\n",
      "                    <span class=\"tag-item\">自然风光</span>\n",
      "                </a>\n",
      "                <a href=\"//www.dianping.com/newtaipei/ch35/g2901\" target=\"_blank\" data-category=\"scene\" data-click-name=历史古迹>\n",
      "                    <span class=\"tag-item\">历史古迹</span>\n",
      "                </a>\n",
      "                <a href=\"//www.dianping.com/newtaipei/ch35/g138\" target=\"_blank\" data-category=\"scene\" data-click-name=公园>\n",
      "                    <span class=\"tag-item\">公园</span>\n",
      "                </a>\n",
      "        </div>\n",
      "        <div class=\"operation\">\n",
      "            <a class=\"all\" href=\"//www.dianping.com/newtaipei/view\" target=\"_blank\" data-category=\"scene\" data-click-title=\"全部按钮\" data-click-name=\"全部\">\n",
      "                <span class=\"more-desc\">全部</span>\n",
      "                <span class=\"arrow-right\"></span>\n",
      "            </a>\n",
      "        </div>\n",
      "    </div>\n",
      "    <div class=\"bottom-list scene-list\">\n",
      "\n",
      "    </div>\n",
      "</div>\n",
      "                    <!--旅游景点模块结束-->\n",
      "                    <!--旅游酒店模块-->\n",
      "\n",
      "                    <!--旅游酒店模块结束-->\n",
      "                </div>\n",
      "                <div id=\"cata-nav\" class=\"cata-nav\">\n",
      "                    <div class=\"cata-nav-detail cata-part-one-nav \" data-nav=\"cata-part-one\">\n",
      "                        <a href=\"javascript:;\" name=\"cata-part-one\" data-click-name=\"吃喝玩乐\">吃喝玩乐</a>\n",
      "                    </div>\n",
      "\n",
      "\n",
      "\n",
      "                    <div class=\"cata-nav-detail cata-part-four-nav house-nav-detail nav-single\" data-nav=\"cata-part-four\">\n",
      "                        <a href=\"javascript:;\" name=\"cata-part-four\" data-click-name=\"家装\">家装</a>\n",
      "                    </div>\n",
      "\n",
      "\n",
      "\n",
      "                    <div class=\"cata-nav-detail service-cata-nav service-nav-detail\" data-nav=\"service-cata\">\n",
      "                        <a href=\"javascript:;\" name=\"service-cata\" data-click-name=\"生活服务\">生活服务</a>\n",
      "                    </div>\n",
      "\n",
      "                    <div class=\"cata-nav-detail travel-scene-cata-nav travel-nav-detail\" data-nav=\"travel-scene-cata\">\n",
      "                        <a href=\"javascript:;\" name=\"travel-scene-cata\" data-click-name=\"旅游景点\">旅游景点</a>\n",
      "                    </div>\n",
      "\n",
      "\n",
      "                     <div class=\"cata-nav-detail top-nav-detail nav-end\" data-nav=\"header-container\">\n",
      "                        <a href=\"javascript:;\" name=\"header-container\" data-click-name=\"顶部\">顶部</a>\n",
      "                     </div>\n",
      "                </div>\n",
      "            </div>\n",
      "            <!--页尾部分-->\n",
      "            <div class=\"footer-container\">\n",
      "            <div id=\"index-footer\" class=\"index-footer\"> <div class=\"footer-links clearfix\"> <div class=\"links-item\"> <p class=\"link-title\">商务合作</p> <ul class=\"link-panel\"> <li class=\"link-li\"><a target=\"_blank\" href=\"//daili.meituan.com/?comeFrom=dpwebMenu\">餐饮代理商招募</a></li> <li class=\"link-li\"><a target=\"_blank\" href=\"//b.dianping.com\">商企通</a></li> <li class=\"link-li\"><a target=\"_blank\" href=\"//developer.meituan.com/?applyFrom=dianping_c_pc_home\">聚宝盆商业开放平台</a></li> <li class=\"link-li\"><a target=\"_blank\" href=\"//pc.meituan.com/?activity_code=20_00039034\">申请扫码点餐</a></li> <li class=\"link-li\"><a target=\"_blank\" href=\"https://zf.meituan.com?partnerSource=9\">美团收单代理商招募</a></li> <li class=\"link-li\"><a target=\"_blank\" href=\"https://store.meituan.com/distribution/broadcast?channel=02\">美团收银分销商招募</a></li> <li class=\"link-li\"><a rel=\"nofollow\" target=\"_blank\" href=\"http://dpurl.cn/n/lKA3w\">美团外卖代理商招募</a></li> <li class=\"link-li\"><a target=\"_blank\" href=\"//open.dianping.com\">北极星商业开放平台</a></li> <li class=\"link-li\"><a target=\"_blank\" href=\"//paidui.meituan.com/?activity_code=166_00143140\">免费使用美团排队</a></li> </ul> </div> <div class=\"links-item\"> <p class=\"link-title\">公司信息</p> <ul class=\"link-panel\"> <li class=\"link-li\"><a target=\"_blank\" href=\"//www.dianping.com/help/center/rule?name=media1\">媒体报道</a></li> <li class=\"link-li\"><a target=\"_blank\" href=\"https://about.meituan.com/\">关于我们</a></li> <li class=\"link-li\"><a target=\"_blank\" href=\"https://about.meituan.com/investor.html\">投资者关系</a></li> <li class=\"link-li\"><a target=\"_blank\" href=\"//www.dianping.com/help/center/rule?name=about4\">联系我们</a></li> <li class=\"link-li\"><a target=\"_blank\" href=\"https://dpapp-appeal.meituan.com/#/shopCreditRegulationPC\">商户诚信公约</a></li> <li class=\"link-li\"><a target=\"_blank\" href=\"//join.dianping.com\">招聘</a></li> <li class=\"link-li\"><a target=\"_blank\" href=\"//www.dianping.com/help/center/rule?name=operate3\">餐饮安全管理办法</a></li> </ul> </div> <div class=\"links-item\"> <p class=\"link-title\">用户帮助</p> <ul class=\"link-panel\"> <li class=\"link-li\"><a target=\"_blank\" href=\"//www.dianping.com/help\">帮助</a></li> <li class=\"link-li\"><a target=\"_blank\" href=\"//s.dianping.com/forum\">站务论坛</a></li> </ul> </div> <div class=\"links-item\"> <p class=\"link-title\">应用下载</p> <ul class=\"link-panel clearfix\"> <a target=\"_blank\" href=\"\"> <li class=\"qrcode-img\"><i class=\"app-qrcode\"></i> <p>扫码下载大众点评APP</p> </li> </a> </ul> </div> </div> <div class=\"footer-declare\"> <div> <p class=\"company-desc\"> <span class=\"all-right\">©2003-2019 dianping.com, All Rights Reserved.</span> <span>本站发布的所有内容，未经许可，不得转载，详见 <a target=\"_blank\" rel=\"nofollow\" class=\"a-link\" href=\"//www.dianping.com/help/center/rule?name=base2\">《知识产权声明》</a> <a target=\"_blank\" rel=\"nofollow\" class=\"a-link\" href=\"//www.dianping.com/help/center/rule?name=base5\">《用户使用协议》</a> </span> </p> <p class=\"company-desc\"> <span>增值电信业务经营许可证：</span> <a target=\"_blank\" class=\"a-link\" href=\"http://beian.miit.gov.cn\" rel=\"nofollow\" target=\"_blank\">沪B2-20040012</a> <span class=\"all-right\">|</span> <span>互联网药品信息服务资格：(沪)-经营性-2017-0007</span> </p> </div> <div class=\"address\"> <p class=\"company-desc\"> <span>网络文化经营许可证： <a target=\"_blank\" rel=\"nofollow\" class=\"a-link\" href=\"//www.dpfile.com/app/dianping-license/license.png\">沪网文[2017]2375-139号</a> </span> <span class=\"all-right\">|</span> <span>用户举报热线：10100011</span> </p> </div> <p class=\"certify\"> <a target=\"_blank\" target=\"_blank\" rel=\"nofollow\" href=\"http://www.shjbzx.cn\"> <i alt=\"违规信息举报\" class=\"certify-img wgxxjb\"></i> </a> <a target=\"_blank\" target=\"_blank\" rel=\"nofollow\" href=\"http://report.12377.cn:13225/toreportinputNormal_anis.do\"> <i alt=\"有害信息举报\" class=\"certify-img yhxxjb\"></i> </a> <a target=\"_blank\" target=\"_blank\" rel=\"nofollow\" href=\"http://www.zx110.org/\"> <i alt=\"网络社会征信网\" class=\"certify-img shzx\"></i> </a> <a target=\"_blank\" target=\"_blank\" rel=\"nofollow\" href=\"http://218.242.124.22:8081/businessCheck/verifKey.do?showType=extShow&serial=9031000020190116155727000003538798-SAIC_SHOW_310000-20190415191341394045&signData=MEUCIQDHbLKtSajmE1I/iMLqlo3StbaIJlNCcROAGo4KAnNudQIgEpJfeGu7w5l/XMK7H/5/Ekv7NsyTOzCt17+5QcHtVLA=\"> <i alt=\"上海工商\" class=\"certify-img gongshang\"></i> </a> <a target=\"_blank\" target=\"_blank\" rel=\"nofollow\" href=\"https://ss.knet.cn/verifyseal.dll?sn=e13112611010043591jyx3000000&amp;ct=df&amp;pa=0.6434873733669519\"> <i alt=\"可信网站\" class=\"certify-img kxwz\"></i> </a> <a target=\"_blank\" target=\"_blank\" rel=\"nofollow\" href=\"http://www.itrust.org.cn/yz/pjwx.asp?wm=1754770773\"> <i alt=\"AAA认证\" class=\"certify-img renzheng\"></i> </a> <a target=\"_blank\" target=\"_blank\" rel=\"nofollow\" href=\"https://search.szfw.org/cert/l/CX20130122002127002203\"> <i alt=\"诚信网站\" class=\"certify-img cxwz\"></i> </a> <a target=\"_blank\" target=\"_blank\" rel=\"nofollow\" href=\"//www.beian.gov.cn/portal/registerSystemInfo?recordcode=31010502000052\"> <i alt=\"沪公网安备\" class=\"certify-img police\"></i> </a> <a target=\"_blank\" target=\"_blank\" rel=\"nofollow\" href=\"http://h5.dianping.com/app/app-pc-weiquan-page/index.html\"> <i alt=\"消费维权\" class=\"certify-img xfwq\"></i> </a> <i alt=\"网络文化\" class=\"certify-img wlwh\"></i> <a target=\"_blank\" target=\"_blank\" rel=\"nofollow\" href=\"https://newsxmwb.xinmin.cn/special/mljbzsjs/index.html\"> <img alt=\"网络知识举报竞赛\" class=\"certify-img fzp\" src=\"http://p0.meituan.net/scarlett/c80f5d3f14c43db2d733a155110d27ad5539.png\"> </a> </p> </div> </div>\n",
      "            </div>\n",
      "        </div>\n",
      "        <script>\n",
      "            function isIE(){\n",
      "                var UA = navigator.userAgent;\n",
      "                var browserName = navigator.appName;\n",
      "                // edge appName 为 Netscape\n",
      "                var isIE = browserName.indexOf('Microsoft Internet Explorer') !== -1;\n",
      "                // 非IE浏览器则不考虑\n",
      "                if (!isIE) return false;\n",
      "                // IE8&IE8以下弹框\n",
      "                var ieStr = /MSIE (\\d+).0/g;\n",
      "                // 检索IE版本\n",
      "                var IEVersion = ieStr.exec(UA);\n",
      "                if (IEVersion && IEVersion.length && IEVersion[1] < 9) {\n",
      "                    var IEPopHtml = '<div class=\"browser-overlay\"></div><div id=\"browser-ie-con\" class=\"browser-ie-con\"><div id=\"browser-close\" class=\"close\">×</div><div class=\"browser-download chrome\"><a href=\"//www.google.cn/chrome/browser/desktop/index.html?utm_dp\" target=\"_black\" title=\"chrome\"></a></div><div class=\"browser-download firefox\"><a href=\"//www.firefox.com.cn/download/?utm_dp\" target=\"_black\" title=\"firefox\"></a></div></div>';\n",
      "                    // 插入DOM\n",
      "                    var _browser = document.createElement('div');\n",
      "                    _browser.id = 'browser-update-ie';\n",
      "                    _browser.className = 'browser-update-ie';\n",
      "                    _browser.innerHTML = IEPopHtml;\n",
      "                    document.getElementById('index-main').appendChild(_browser);\n",
      "                    // $('#index-main').append(IEPopHtml)\n",
      "                    var windowWidth = document.documentElement.clientWidth || document.body.clientWidth;\n",
      "                    var mainWidth = document.getElementById('browser-ie-con').offsetWidth;\n",
      "                    var popLeft = (windowWidth - mainWidth) / 2;\n",
      "                    document.getElementById('browser-ie-con').style.left = popLeft + 'px';\n",
      "                    // 绑定事件\n",
      "                    document.getElementById('browser-close').attachEvent('onclick', function() {\n",
      "                        document.getElementById('browser-update-ie').style.display = 'none'\n",
      "                    }, false)\n",
      "                }\n",
      "            }\n",
      "            isIE()\n",
      "        </script>\n",
      "        <script type=\"text/javascript\" src=\"//www.dpfile.com/app/pc-common/index.min.cf1d136de8d4fce341c884cd0aaeddb3.js\"></script>\n",
      "<script src=\"//www.dpfile.com/app/dpindex-new-static/static/manifest.min.1dab276e13d21945db73cdbfb72451ae.js\" type=\"text/javascript\"></script><script src=\"//www.dpfile.com/app/dpindex-new-static/static/common.min.3c92ff2244d5b49602ee14219b6bdd6c.js\" type=\"text/javascript\"></script><script src=\"//www.dpfile.com/app/dpindex-new-static/static/index.min.96f7e63079f55cf9f1fead9e2c675537.js\" type=\"text/javascript\"></script>        <script crossorigin=\"anonymous\" src=\"//www.dpfile.com/app/owl/static/owl.min.4405bcf10750807575e84b461351fed0.js\"></script>\n",
      "        <script>\n",
      "            Owl.start({\n",
      "                // 建议使用前端项目名，package.json或者f2eci.json中的name\n",
      "                project: 'pc-new',\n",
      "                /* 强烈建议业务进行配置，有利于数据的聚合\n",
      "                 * 当前页面所属的页面URL，默认会使用window.location.href\n",
      "                 * 建议不要直接使用location.href,\n",
      "                 * 可以是非URL，比如'toutiao-detail'\n",
      "                 */\n",
      "                pageUrl: 'pc-index-new'\n",
      "            })\n",
      "        </script>\n",
      "        <script>\n",
      "            var rohrdata = \"\";\n",
      "            var Rohr_Opt = new Object;\n",
      "            Rohr_Opt.Flag = 100070;\n",
      "            Rohr_Opt.LogVal = \"rohrdata\";\n",
      "        </script>\n",
      "        <script defer src=\"https://s0.meituan.net/mx/rohr/rohr.min.js\"></script>\n",
      "    </body>\n",
      "</html>\n",
      "\n"
     ]
    }
   ],
   "source": [
    "import requests\n",
    "res=requests.get(\"http://www.dianping.com/\")\n",
    "print(res.text)\n",
    "#輸出會出現：抱歉！頁面無法訪問....這就是限制爬蟲了\n",
    "\n",
    "#解決方法：加入headers，在requests.get（headers=headers）裡面，新增headers\n",
    "#構建headers\n",
    "\n",
    "import requests\n",
    "headers={\n",
    "\"Host\": \"www.dianping.com\",\n",
    "\"User-Agent\":\"Mozilla/5.0 (Windows NT 6.1; WOW64) AppleWebKit/537.36 (KHTML, like Gecko)\n",
    "\"Chrome/65.0.3325.146 Safari/537.36\"\n",
    "}\n",
    "res=requests.get(\"http://www.dianping.com/\",headers=headers)\n",
    "print(res.text)"
   ]
  },
  {
   "cell_type": "code",
   "execution_count": 6,
   "metadata": {},
   "outputs": [],
   "source": [
    "my_headers = {'user-agent': 'my-app/0.0.1'}  # 自訂表頭\n",
    "\n",
    "r = requests.get('http://httpbin.org/get', headers = my_headers)  # 將自訂表頭加入 GET 請求中"
   ]
  },
  {
   "cell_type": "markdown",
   "metadata": {},
   "source": [
    "# 帳號密碼登入\n",
    "若遇到需要帳號與密碼登入後才能看的網頁（HTTP 基本認證），可以使用 auth 參數指定帳號與密碼："
   ]
  },
  {
   "cell_type": "code",
   "execution_count": 7,
   "metadata": {},
   "outputs": [],
   "source": [
    "r = requests.get('https://api.github.com/user', auth=('user', 'pass'))"
   ]
  },
  {
   "cell_type": "markdown",
   "metadata": {},
   "source": [
    "# POST 請求\n",
    "POST 請求也是很常用的 HTTP 請求，只要是網頁中有讓使用者填入資料的表單，大部分都會需要用 POST 請求來處理，以下是一個簡單的範例："
   ]
  },
  {
   "cell_type": "code",
   "execution_count": 1,
   "metadata": {},
   "outputs": [
    {
     "ename": "NameError",
     "evalue": "name 'requests' is not defined",
     "output_type": "error",
     "traceback": [
      "\u001b[1;31m---------------------------------------------------------------------------\u001b[0m",
      "\u001b[1;31mNameError\u001b[0m                                 Traceback (most recent call last)",
      "\u001b[1;32m<ipython-input-1-c28d155a3cbb>\u001b[0m in \u001b[0;36m<module>\u001b[1;34m\u001b[0m\n\u001b[0;32m      1\u001b[0m \u001b[0mmy_data\u001b[0m \u001b[1;33m=\u001b[0m \u001b[1;33m{\u001b[0m\u001b[1;34m'key1'\u001b[0m\u001b[1;33m:\u001b[0m \u001b[1;34m'value1'\u001b[0m\u001b[1;33m,\u001b[0m \u001b[1;34m'key2'\u001b[0m\u001b[1;33m:\u001b[0m \u001b[1;34m'value2'\u001b[0m\u001b[1;33m}\u001b[0m  \u001b[1;31m# 資料\u001b[0m\u001b[1;33m\u001b[0m\u001b[1;33m\u001b[0m\u001b[0m\n\u001b[0;32m      2\u001b[0m \u001b[1;33m\u001b[0m\u001b[0m\n\u001b[1;32m----> 3\u001b[1;33m \u001b[0mr\u001b[0m \u001b[1;33m=\u001b[0m \u001b[0mrequests\u001b[0m\u001b[1;33m.\u001b[0m\u001b[0mpost\u001b[0m\u001b[1;33m(\u001b[0m\u001b[1;34m'http://httpbin.org/post'\u001b[0m\u001b[1;33m,\u001b[0m \u001b[0mdata\u001b[0m \u001b[1;33m=\u001b[0m \u001b[0mmy_data\u001b[0m\u001b[1;33m)\u001b[0m  \u001b[1;31m# 將資料加入 POST 請求中\u001b[0m\u001b[1;33m\u001b[0m\u001b[1;33m\u001b[0m\u001b[0m\n\u001b[0m\u001b[0;32m      4\u001b[0m \u001b[1;33m\u001b[0m\u001b[0m\n\u001b[0;32m      5\u001b[0m \u001b[1;31m#若有遇到重複鍵值（key）的 HTML 表單欄位，可以這樣處理：\u001b[0m\u001b[1;33m\u001b[0m\u001b[1;33m\u001b[0m\u001b[1;33m\u001b[0m\u001b[0m\n",
      "\u001b[1;31mNameError\u001b[0m: name 'requests' is not defined"
     ]
    }
   ],
   "source": [
    "my_data = {'key1': 'value1', 'key2': 'value2'}  # 資料\n",
    "\n",
    "r = requests.post('http://httpbin.org/post', data = my_data)  # 將資料加入 POST 請求中\n",
    "\n",
    "#若有遇到重複鍵值（key）的 HTML 表單欄位，可以這樣處理：\n",
    "\n",
    "my_data = (('key1', 'value1'), ('key1', 'value2'))  # 具有重複鍵值的資料\n",
    "\n",
    "r = requests.post('http://httpbin.org/post', data = my_data)  # 將資料加入 POST 請求中"
   ]
  },
  {
   "cell_type": "markdown",
   "metadata": {},
   "source": [
    "# HTTP Method：表單中的 GET 與 POST 有什麼差別？"
   ]
  },
  {
   "cell_type": "markdown",
   "metadata": {},
   "source": [
    "### HTTP對應寄信概念\n",
    "* 如果 HTTP 代表現在我們現實生活中寄信的機制，那麼信封的\"撰寫格式\"就是 HTTP。\n",
    "* 我們姑且將信封外的內容稱為 http-header，信封內的書信稱為 message-body，\n",
    "* 那麼 HTTP Method 就是你要告訴郵差的寄信規則。\n",
    "* GET 如同是明信片一樣，你可以把要傳遞的資訊寫在信封(http-header)上，寫滿為止，價格比較便宜。\n",
    "* POST 就是信封內有裝信件的寄送方式（信封有內容物），不但信封可以寫東西，信封內 (message-body) 還可以置入你想要寄送的資料或檔案，價格較貴。"
   ]
  },
  {
   "cell_type": "markdown",
   "metadata": {},
   "source": [
    "### GET 傳送資料範例："
   ]
  },
  {
   "cell_type": "code",
   "execution_count": null,
   "metadata": {},
   "outputs": [],
   "source": [
    "<form method=\"get\" action=\"\">\n",
    "<input type=\"text\" name=\"id\" />\n",
    "<input type=\"submit\" />\n",
    "</form>"
   ]
  },
  {
   "cell_type": "code",
   "execution_count": null,
   "metadata": {},
   "outputs": [],
   "source": [
    "當表單 Submit 之後瀏覽器的網址就變成 \"http://xxx.toright.com/?id=010101\"，\n",
    "瀏覽器會自動將表單內容轉為 Query String 加在 URL 進行連線。\n",
    "這時後來看一下 HTTP Request 封包的內容："
   ]
  },
  {
   "cell_type": "code",
   "execution_count": null,
   "metadata": {},
   "outputs": [],
   "source": [
    "GET /?id=010101 HTTP/1.1\n",
    "Host: xxx.toright.com\n",
    "User-Agent: Mozilla/5.0 (Windows; U; Windows NT 5.1; zh-TW; rv:1.9.2.13) Gecko/20101203 Firefox/3.6.13 GTB7.1 ( .NET CLR 3.5.30729)\n",
    "Accept: text/html,application/xhtml+xml,application/xml;q=0.9,*/*;q=0.8\n",
    "Accept-Language: zh-tw,en-us;q=0.7,en;q=0.3\n",
    "Accept-Encoding: gzip,deflate\n",
    "Accept-Charset: UTF-8,*\n",
    "Keep-Alive: 115\n",
    "Connection: keep-alive"
   ]
  },
  {
   "cell_type": "code",
   "execution_count": null,
   "metadata": {},
   "outputs": [],
   "source": [
    "在 HTTP GET Method 中是不允許在 message-body 中傳遞資料的，因為是 GET 嘛，就是要取資料的意思。\n",
    "從瀏覽器的網址列就可以看見我們表單要傳送的資料，若是要傳送密碼豈不是\"一覽無遺\".......這就是大家常提到安全性問題。"
   ]
  },
  {
   "cell_type": "markdown",
   "metadata": {},
   "source": [
    "### POST 傳送資料範例："
   ]
  },
  {
   "cell_type": "code",
   "execution_count": null,
   "metadata": {},
   "outputs": [],
   "source": [
    "<form method=\"post\" action=\"\">\n",
    "<input type=\"text\" name=\"id\" />\n",
    "<input type=\"submit\" />\n",
    "</form>"
   ]
  },
  {
   "cell_type": "code",
   "execution_count": null,
   "metadata": {},
   "outputs": [],
   "source": [
    "網址列沒有變化，那我們來看一下 HTTP Request 封包的內容：\n",
    "原來 POST 是將表單資料放在 message-body 進行傳送，在不偷看封包的情況下似乎安全一些些"
   ]
  },
  {
   "cell_type": "code",
   "execution_count": null,
   "metadata": {},
   "outputs": [],
   "source": [
    "POST / HTTP/1.1\n",
    "Host: xxx.toright.com\n",
    "User-Agent: Mozilla/5.0 (Windows; U; Windows NT 5.1; zh-TW; rv:1.9.2.13) Gecko/20101203 Firefox/3.6.13 GTB7.1 ( .NET CLR 3.5.30729)\n",
    "Accept: text/html,application/xhtml+xml,application/xml;q=0.9,*/*;q=0.8\n",
    "Accept-Language: zh-tw,en-us;q=0.7,en;q=0.3\n",
    "Accept-Encoding: gzip,deflate\n",
    "Accept-Charset: UTF-8,*\n",
    "Keep-Alive: 115\n",
    "Connection: keep-alive\n",
    " \n",
    "Content-Type: application/x-www-form-urlencoded\n",
    "</code><code>Content-Length: 9\n",
    "id=010101"
   ]
  },
  {
   "cell_type": "code",
   "execution_count": null,
   "metadata": {},
   "outputs": [],
   "source": []
  },
  {
   "cell_type": "markdown",
   "metadata": {},
   "source": [
    "# 上傳檔案\n",
    "若要上傳檔案，也可以使用 POST 請求來處理，這是一個上傳 Word 文件的範例："
   ]
  },
  {
   "cell_type": "code",
   "execution_count": 8,
   "metadata": {},
   "outputs": [
    {
     "ename": "FileNotFoundError",
     "evalue": "[Errno 2] No such file or directory: 'my_file.docx'",
     "output_type": "error",
     "traceback": [
      "\u001b[1;31m---------------------------------------------------------------------------\u001b[0m",
      "\u001b[1;31mFileNotFoundError\u001b[0m                         Traceback (most recent call last)",
      "\u001b[1;32m<ipython-input-8-870ab24ce695>\u001b[0m in \u001b[0;36m<module>\u001b[1;34m\u001b[0m\n\u001b[1;32m----> 1\u001b[1;33m \u001b[0mmy_files\u001b[0m \u001b[1;33m=\u001b[0m \u001b[1;33m{\u001b[0m\u001b[1;34m'my_filename'\u001b[0m\u001b[1;33m:\u001b[0m \u001b[0mopen\u001b[0m\u001b[1;33m(\u001b[0m\u001b[1;34m'my_file.docx'\u001b[0m\u001b[1;33m,\u001b[0m \u001b[1;34m'rb'\u001b[0m\u001b[1;33m)\u001b[0m\u001b[1;33m}\u001b[0m  \u001b[1;31m# 要上傳的檔案\u001b[0m\u001b[1;33m\u001b[0m\u001b[1;33m\u001b[0m\u001b[0m\n\u001b[0m\u001b[0;32m      2\u001b[0m \u001b[1;33m\u001b[0m\u001b[0m\n\u001b[0;32m      3\u001b[0m \u001b[0mr\u001b[0m \u001b[1;33m=\u001b[0m \u001b[0mrequests\u001b[0m\u001b[1;33m.\u001b[0m\u001b[0mpost\u001b[0m\u001b[1;33m(\u001b[0m\u001b[1;34m'http://httpbin.org/post'\u001b[0m\u001b[1;33m,\u001b[0m \u001b[0mfiles\u001b[0m \u001b[1;33m=\u001b[0m \u001b[0mmy_files\u001b[0m\u001b[1;33m)\u001b[0m  \u001b[1;31m# 將檔案加入 POST 請求中\u001b[0m\u001b[1;33m\u001b[0m\u001b[1;33m\u001b[0m\u001b[0m\n",
      "\u001b[1;31mFileNotFoundError\u001b[0m: [Errno 2] No such file or directory: 'my_file.docx'"
     ]
    }
   ],
   "source": [
    "my_files = {'my_filename': open('my_file.docx', 'rb')}  # 要上傳的檔案\n",
    "\n",
    "r = requests.post('http://httpbin.org/post', files = my_files)  # 將檔案加入 POST 請求中"
   ]
  },
  {
   "cell_type": "markdown",
   "metadata": {},
   "source": [
    "# Cookie\n",
    "如果伺服器傳回的網頁資料中含有 cookies，requests 也可以輕鬆取出 cookies 的資料："
   ]
  },
  {
   "cell_type": "code",
   "execution_count": 9,
   "metadata": {},
   "outputs": [
    {
     "ename": "ConnectionError",
     "evalue": "HTTPConnectionPool(host='my.server.com', port=80): Max retries exceeded with url: /has/cookies (Caused by NewConnectionError('<urllib3.connection.HTTPConnection object at 0x00000000061F9DA0>: Failed to establish a new connection: [Errno 11004] getaddrinfo failed'))",
     "output_type": "error",
     "traceback": [
      "\u001b[1;31m---------------------------------------------------------------------------\u001b[0m",
      "\u001b[1;31mgaierror\u001b[0m                                  Traceback (most recent call last)",
      "\u001b[1;32m~\\Anaconda3\\lib\\site-packages\\urllib3\\connection.py\u001b[0m in \u001b[0;36m_new_conn\u001b[1;34m(self)\u001b[0m\n\u001b[0;32m    158\u001b[0m             conn = connection.create_connection(\n\u001b[1;32m--> 159\u001b[1;33m                 (self._dns_host, self.port), self.timeout, **extra_kw)\n\u001b[0m\u001b[0;32m    160\u001b[0m \u001b[1;33m\u001b[0m\u001b[0m\n",
      "\u001b[1;32m~\\Anaconda3\\lib\\site-packages\\urllib3\\util\\connection.py\u001b[0m in \u001b[0;36mcreate_connection\u001b[1;34m(address, timeout, source_address, socket_options)\u001b[0m\n\u001b[0;32m     56\u001b[0m \u001b[1;33m\u001b[0m\u001b[0m\n\u001b[1;32m---> 57\u001b[1;33m     \u001b[1;32mfor\u001b[0m \u001b[0mres\u001b[0m \u001b[1;32min\u001b[0m \u001b[0msocket\u001b[0m\u001b[1;33m.\u001b[0m\u001b[0mgetaddrinfo\u001b[0m\u001b[1;33m(\u001b[0m\u001b[0mhost\u001b[0m\u001b[1;33m,\u001b[0m \u001b[0mport\u001b[0m\u001b[1;33m,\u001b[0m \u001b[0mfamily\u001b[0m\u001b[1;33m,\u001b[0m \u001b[0msocket\u001b[0m\u001b[1;33m.\u001b[0m\u001b[0mSOCK_STREAM\u001b[0m\u001b[1;33m)\u001b[0m\u001b[1;33m:\u001b[0m\u001b[1;33m\u001b[0m\u001b[1;33m\u001b[0m\u001b[0m\n\u001b[0m\u001b[0;32m     58\u001b[0m         \u001b[0maf\u001b[0m\u001b[1;33m,\u001b[0m \u001b[0msocktype\u001b[0m\u001b[1;33m,\u001b[0m \u001b[0mproto\u001b[0m\u001b[1;33m,\u001b[0m \u001b[0mcanonname\u001b[0m\u001b[1;33m,\u001b[0m \u001b[0msa\u001b[0m \u001b[1;33m=\u001b[0m \u001b[0mres\u001b[0m\u001b[1;33m\u001b[0m\u001b[1;33m\u001b[0m\u001b[0m\n",
      "\u001b[1;32m~\\Anaconda3\\lib\\socket.py\u001b[0m in \u001b[0;36mgetaddrinfo\u001b[1;34m(host, port, family, type, proto, flags)\u001b[0m\n\u001b[0;32m    747\u001b[0m     \u001b[0maddrlist\u001b[0m \u001b[1;33m=\u001b[0m \u001b[1;33m[\u001b[0m\u001b[1;33m]\u001b[0m\u001b[1;33m\u001b[0m\u001b[1;33m\u001b[0m\u001b[0m\n\u001b[1;32m--> 748\u001b[1;33m     \u001b[1;32mfor\u001b[0m \u001b[0mres\u001b[0m \u001b[1;32min\u001b[0m \u001b[0m_socket\u001b[0m\u001b[1;33m.\u001b[0m\u001b[0mgetaddrinfo\u001b[0m\u001b[1;33m(\u001b[0m\u001b[0mhost\u001b[0m\u001b[1;33m,\u001b[0m \u001b[0mport\u001b[0m\u001b[1;33m,\u001b[0m \u001b[0mfamily\u001b[0m\u001b[1;33m,\u001b[0m \u001b[0mtype\u001b[0m\u001b[1;33m,\u001b[0m \u001b[0mproto\u001b[0m\u001b[1;33m,\u001b[0m \u001b[0mflags\u001b[0m\u001b[1;33m)\u001b[0m\u001b[1;33m:\u001b[0m\u001b[1;33m\u001b[0m\u001b[1;33m\u001b[0m\u001b[0m\n\u001b[0m\u001b[0;32m    749\u001b[0m         \u001b[0maf\u001b[0m\u001b[1;33m,\u001b[0m \u001b[0msocktype\u001b[0m\u001b[1;33m,\u001b[0m \u001b[0mproto\u001b[0m\u001b[1;33m,\u001b[0m \u001b[0mcanonname\u001b[0m\u001b[1;33m,\u001b[0m \u001b[0msa\u001b[0m \u001b[1;33m=\u001b[0m \u001b[0mres\u001b[0m\u001b[1;33m\u001b[0m\u001b[1;33m\u001b[0m\u001b[0m\n",
      "\u001b[1;31mgaierror\u001b[0m: [Errno 11004] getaddrinfo failed",
      "\nDuring handling of the above exception, another exception occurred:\n",
      "\u001b[1;31mNewConnectionError\u001b[0m                        Traceback (most recent call last)",
      "\u001b[1;32m~\\Anaconda3\\lib\\site-packages\\urllib3\\connectionpool.py\u001b[0m in \u001b[0;36murlopen\u001b[1;34m(self, method, url, body, headers, retries, redirect, assert_same_host, timeout, pool_timeout, release_conn, chunked, body_pos, **response_kw)\u001b[0m\n\u001b[0;32m    599\u001b[0m                                                   \u001b[0mbody\u001b[0m\u001b[1;33m=\u001b[0m\u001b[0mbody\u001b[0m\u001b[1;33m,\u001b[0m \u001b[0mheaders\u001b[0m\u001b[1;33m=\u001b[0m\u001b[0mheaders\u001b[0m\u001b[1;33m,\u001b[0m\u001b[1;33m\u001b[0m\u001b[1;33m\u001b[0m\u001b[0m\n\u001b[1;32m--> 600\u001b[1;33m                                                   chunked=chunked)\n\u001b[0m\u001b[0;32m    601\u001b[0m \u001b[1;33m\u001b[0m\u001b[0m\n",
      "\u001b[1;32m~\\Anaconda3\\lib\\site-packages\\urllib3\\connectionpool.py\u001b[0m in \u001b[0;36m_make_request\u001b[1;34m(self, conn, method, url, timeout, chunked, **httplib_request_kw)\u001b[0m\n\u001b[0;32m    353\u001b[0m         \u001b[1;32melse\u001b[0m\u001b[1;33m:\u001b[0m\u001b[1;33m\u001b[0m\u001b[1;33m\u001b[0m\u001b[0m\n\u001b[1;32m--> 354\u001b[1;33m             \u001b[0mconn\u001b[0m\u001b[1;33m.\u001b[0m\u001b[0mrequest\u001b[0m\u001b[1;33m(\u001b[0m\u001b[0mmethod\u001b[0m\u001b[1;33m,\u001b[0m \u001b[0murl\u001b[0m\u001b[1;33m,\u001b[0m \u001b[1;33m**\u001b[0m\u001b[0mhttplib_request_kw\u001b[0m\u001b[1;33m)\u001b[0m\u001b[1;33m\u001b[0m\u001b[1;33m\u001b[0m\u001b[0m\n\u001b[0m\u001b[0;32m    355\u001b[0m \u001b[1;33m\u001b[0m\u001b[0m\n",
      "\u001b[1;32m~\\Anaconda3\\lib\\http\\client.py\u001b[0m in \u001b[0;36mrequest\u001b[1;34m(self, method, url, body, headers, encode_chunked)\u001b[0m\n\u001b[0;32m   1228\u001b[0m         \u001b[1;34m\"\"\"Send a complete request to the server.\"\"\"\u001b[0m\u001b[1;33m\u001b[0m\u001b[1;33m\u001b[0m\u001b[0m\n\u001b[1;32m-> 1229\u001b[1;33m         \u001b[0mself\u001b[0m\u001b[1;33m.\u001b[0m\u001b[0m_send_request\u001b[0m\u001b[1;33m(\u001b[0m\u001b[0mmethod\u001b[0m\u001b[1;33m,\u001b[0m \u001b[0murl\u001b[0m\u001b[1;33m,\u001b[0m \u001b[0mbody\u001b[0m\u001b[1;33m,\u001b[0m \u001b[0mheaders\u001b[0m\u001b[1;33m,\u001b[0m \u001b[0mencode_chunked\u001b[0m\u001b[1;33m)\u001b[0m\u001b[1;33m\u001b[0m\u001b[1;33m\u001b[0m\u001b[0m\n\u001b[0m\u001b[0;32m   1230\u001b[0m \u001b[1;33m\u001b[0m\u001b[0m\n",
      "\u001b[1;32m~\\Anaconda3\\lib\\http\\client.py\u001b[0m in \u001b[0;36m_send_request\u001b[1;34m(self, method, url, body, headers, encode_chunked)\u001b[0m\n\u001b[0;32m   1274\u001b[0m             \u001b[0mbody\u001b[0m \u001b[1;33m=\u001b[0m \u001b[0m_encode\u001b[0m\u001b[1;33m(\u001b[0m\u001b[0mbody\u001b[0m\u001b[1;33m,\u001b[0m \u001b[1;34m'body'\u001b[0m\u001b[1;33m)\u001b[0m\u001b[1;33m\u001b[0m\u001b[1;33m\u001b[0m\u001b[0m\n\u001b[1;32m-> 1275\u001b[1;33m         \u001b[0mself\u001b[0m\u001b[1;33m.\u001b[0m\u001b[0mendheaders\u001b[0m\u001b[1;33m(\u001b[0m\u001b[0mbody\u001b[0m\u001b[1;33m,\u001b[0m \u001b[0mencode_chunked\u001b[0m\u001b[1;33m=\u001b[0m\u001b[0mencode_chunked\u001b[0m\u001b[1;33m)\u001b[0m\u001b[1;33m\u001b[0m\u001b[1;33m\u001b[0m\u001b[0m\n\u001b[0m\u001b[0;32m   1276\u001b[0m \u001b[1;33m\u001b[0m\u001b[0m\n",
      "\u001b[1;32m~\\Anaconda3\\lib\\http\\client.py\u001b[0m in \u001b[0;36mendheaders\u001b[1;34m(self, message_body, encode_chunked)\u001b[0m\n\u001b[0;32m   1223\u001b[0m             \u001b[1;32mraise\u001b[0m \u001b[0mCannotSendHeader\u001b[0m\u001b[1;33m(\u001b[0m\u001b[1;33m)\u001b[0m\u001b[1;33m\u001b[0m\u001b[1;33m\u001b[0m\u001b[0m\n\u001b[1;32m-> 1224\u001b[1;33m         \u001b[0mself\u001b[0m\u001b[1;33m.\u001b[0m\u001b[0m_send_output\u001b[0m\u001b[1;33m(\u001b[0m\u001b[0mmessage_body\u001b[0m\u001b[1;33m,\u001b[0m \u001b[0mencode_chunked\u001b[0m\u001b[1;33m=\u001b[0m\u001b[0mencode_chunked\u001b[0m\u001b[1;33m)\u001b[0m\u001b[1;33m\u001b[0m\u001b[1;33m\u001b[0m\u001b[0m\n\u001b[0m\u001b[0;32m   1225\u001b[0m \u001b[1;33m\u001b[0m\u001b[0m\n",
      "\u001b[1;32m~\\Anaconda3\\lib\\http\\client.py\u001b[0m in \u001b[0;36m_send_output\u001b[1;34m(self, message_body, encode_chunked)\u001b[0m\n\u001b[0;32m   1015\u001b[0m         \u001b[1;32mdel\u001b[0m \u001b[0mself\u001b[0m\u001b[1;33m.\u001b[0m\u001b[0m_buffer\u001b[0m\u001b[1;33m[\u001b[0m\u001b[1;33m:\u001b[0m\u001b[1;33m]\u001b[0m\u001b[1;33m\u001b[0m\u001b[1;33m\u001b[0m\u001b[0m\n\u001b[1;32m-> 1016\u001b[1;33m         \u001b[0mself\u001b[0m\u001b[1;33m.\u001b[0m\u001b[0msend\u001b[0m\u001b[1;33m(\u001b[0m\u001b[0mmsg\u001b[0m\u001b[1;33m)\u001b[0m\u001b[1;33m\u001b[0m\u001b[1;33m\u001b[0m\u001b[0m\n\u001b[0m\u001b[0;32m   1017\u001b[0m \u001b[1;33m\u001b[0m\u001b[0m\n",
      "\u001b[1;32m~\\Anaconda3\\lib\\http\\client.py\u001b[0m in \u001b[0;36msend\u001b[1;34m(self, data)\u001b[0m\n\u001b[0;32m    955\u001b[0m             \u001b[1;32mif\u001b[0m \u001b[0mself\u001b[0m\u001b[1;33m.\u001b[0m\u001b[0mauto_open\u001b[0m\u001b[1;33m:\u001b[0m\u001b[1;33m\u001b[0m\u001b[1;33m\u001b[0m\u001b[0m\n\u001b[1;32m--> 956\u001b[1;33m                 \u001b[0mself\u001b[0m\u001b[1;33m.\u001b[0m\u001b[0mconnect\u001b[0m\u001b[1;33m(\u001b[0m\u001b[1;33m)\u001b[0m\u001b[1;33m\u001b[0m\u001b[1;33m\u001b[0m\u001b[0m\n\u001b[0m\u001b[0;32m    957\u001b[0m             \u001b[1;32melse\u001b[0m\u001b[1;33m:\u001b[0m\u001b[1;33m\u001b[0m\u001b[1;33m\u001b[0m\u001b[0m\n",
      "\u001b[1;32m~\\Anaconda3\\lib\\site-packages\\urllib3\\connection.py\u001b[0m in \u001b[0;36mconnect\u001b[1;34m(self)\u001b[0m\n\u001b[0;32m    180\u001b[0m     \u001b[1;32mdef\u001b[0m \u001b[0mconnect\u001b[0m\u001b[1;33m(\u001b[0m\u001b[0mself\u001b[0m\u001b[1;33m)\u001b[0m\u001b[1;33m:\u001b[0m\u001b[1;33m\u001b[0m\u001b[1;33m\u001b[0m\u001b[0m\n\u001b[1;32m--> 181\u001b[1;33m         \u001b[0mconn\u001b[0m \u001b[1;33m=\u001b[0m \u001b[0mself\u001b[0m\u001b[1;33m.\u001b[0m\u001b[0m_new_conn\u001b[0m\u001b[1;33m(\u001b[0m\u001b[1;33m)\u001b[0m\u001b[1;33m\u001b[0m\u001b[1;33m\u001b[0m\u001b[0m\n\u001b[0m\u001b[0;32m    182\u001b[0m         \u001b[0mself\u001b[0m\u001b[1;33m.\u001b[0m\u001b[0m_prepare_conn\u001b[0m\u001b[1;33m(\u001b[0m\u001b[0mconn\u001b[0m\u001b[1;33m)\u001b[0m\u001b[1;33m\u001b[0m\u001b[1;33m\u001b[0m\u001b[0m\n",
      "\u001b[1;32m~\\Anaconda3\\lib\\site-packages\\urllib3\\connection.py\u001b[0m in \u001b[0;36m_new_conn\u001b[1;34m(self)\u001b[0m\n\u001b[0;32m    167\u001b[0m             raise NewConnectionError(\n\u001b[1;32m--> 168\u001b[1;33m                 self, \"Failed to establish a new connection: %s\" % e)\n\u001b[0m\u001b[0;32m    169\u001b[0m \u001b[1;33m\u001b[0m\u001b[0m\n",
      "\u001b[1;31mNewConnectionError\u001b[0m: <urllib3.connection.HTTPConnection object at 0x00000000061F9DA0>: Failed to establish a new connection: [Errno 11004] getaddrinfo failed",
      "\nDuring handling of the above exception, another exception occurred:\n",
      "\u001b[1;31mMaxRetryError\u001b[0m                             Traceback (most recent call last)",
      "\u001b[1;32m~\\Anaconda3\\lib\\site-packages\\requests\\adapters.py\u001b[0m in \u001b[0;36msend\u001b[1;34m(self, request, stream, timeout, verify, cert, proxies)\u001b[0m\n\u001b[0;32m    448\u001b[0m                     \u001b[0mretries\u001b[0m\u001b[1;33m=\u001b[0m\u001b[0mself\u001b[0m\u001b[1;33m.\u001b[0m\u001b[0mmax_retries\u001b[0m\u001b[1;33m,\u001b[0m\u001b[1;33m\u001b[0m\u001b[1;33m\u001b[0m\u001b[0m\n\u001b[1;32m--> 449\u001b[1;33m                     \u001b[0mtimeout\u001b[0m\u001b[1;33m=\u001b[0m\u001b[0mtimeout\u001b[0m\u001b[1;33m\u001b[0m\u001b[1;33m\u001b[0m\u001b[0m\n\u001b[0m\u001b[0;32m    450\u001b[0m                 )\n",
      "\u001b[1;32m~\\Anaconda3\\lib\\site-packages\\urllib3\\connectionpool.py\u001b[0m in \u001b[0;36murlopen\u001b[1;34m(self, method, url, body, headers, retries, redirect, assert_same_host, timeout, pool_timeout, release_conn, chunked, body_pos, **response_kw)\u001b[0m\n\u001b[0;32m    637\u001b[0m             retries = retries.increment(method, url, error=e, _pool=self,\n\u001b[1;32m--> 638\u001b[1;33m                                         _stacktrace=sys.exc_info()[2])\n\u001b[0m\u001b[0;32m    639\u001b[0m             \u001b[0mretries\u001b[0m\u001b[1;33m.\u001b[0m\u001b[0msleep\u001b[0m\u001b[1;33m(\u001b[0m\u001b[1;33m)\u001b[0m\u001b[1;33m\u001b[0m\u001b[1;33m\u001b[0m\u001b[0m\n",
      "\u001b[1;32m~\\Anaconda3\\lib\\site-packages\\urllib3\\util\\retry.py\u001b[0m in \u001b[0;36mincrement\u001b[1;34m(self, method, url, response, error, _pool, _stacktrace)\u001b[0m\n\u001b[0;32m    397\u001b[0m         \u001b[1;32mif\u001b[0m \u001b[0mnew_retry\u001b[0m\u001b[1;33m.\u001b[0m\u001b[0mis_exhausted\u001b[0m\u001b[1;33m(\u001b[0m\u001b[1;33m)\u001b[0m\u001b[1;33m:\u001b[0m\u001b[1;33m\u001b[0m\u001b[1;33m\u001b[0m\u001b[0m\n\u001b[1;32m--> 398\u001b[1;33m             \u001b[1;32mraise\u001b[0m \u001b[0mMaxRetryError\u001b[0m\u001b[1;33m(\u001b[0m\u001b[0m_pool\u001b[0m\u001b[1;33m,\u001b[0m \u001b[0murl\u001b[0m\u001b[1;33m,\u001b[0m \u001b[0merror\u001b[0m \u001b[1;32mor\u001b[0m \u001b[0mResponseError\u001b[0m\u001b[1;33m(\u001b[0m\u001b[0mcause\u001b[0m\u001b[1;33m)\u001b[0m\u001b[1;33m)\u001b[0m\u001b[1;33m\u001b[0m\u001b[1;33m\u001b[0m\u001b[0m\n\u001b[0m\u001b[0;32m    399\u001b[0m \u001b[1;33m\u001b[0m\u001b[0m\n",
      "\u001b[1;31mMaxRetryError\u001b[0m: HTTPConnectionPool(host='my.server.com', port=80): Max retries exceeded with url: /has/cookies (Caused by NewConnectionError('<urllib3.connection.HTTPConnection object at 0x00000000061F9DA0>: Failed to establish a new connection: [Errno 11004] getaddrinfo failed'))",
      "\nDuring handling of the above exception, another exception occurred:\n",
      "\u001b[1;31mConnectionError\u001b[0m                           Traceback (most recent call last)",
      "\u001b[1;32m<ipython-input-9-7539486ed54c>\u001b[0m in \u001b[0;36m<module>\u001b[1;34m\u001b[0m\n\u001b[1;32m----> 1\u001b[1;33m \u001b[0mr\u001b[0m \u001b[1;33m=\u001b[0m \u001b[0mrequests\u001b[0m\u001b[1;33m.\u001b[0m\u001b[0mget\u001b[0m\u001b[1;33m(\u001b[0m\u001b[1;34m\"http://my.server.com/has/cookies\"\u001b[0m\u001b[1;33m)\u001b[0m  \u001b[1;31m# 含有 cookie 的內容\u001b[0m\u001b[1;33m\u001b[0m\u001b[1;33m\u001b[0m\u001b[0m\n\u001b[0m\u001b[0;32m      2\u001b[0m \u001b[1;33m\u001b[0m\u001b[0m\n\u001b[0;32m      3\u001b[0m \u001b[0mprint\u001b[0m\u001b[1;33m(\u001b[0m\u001b[0mr\u001b[0m\u001b[1;33m.\u001b[0m\u001b[0mcookies\u001b[0m\u001b[1;33m[\u001b[0m\u001b[1;34m'my_cookie_name'\u001b[0m\u001b[1;33m]\u001b[0m\u001b[1;33m)\u001b[0m  \u001b[1;31m# 取出 cookie\u001b[0m\u001b[1;33m\u001b[0m\u001b[1;33m\u001b[0m\u001b[0m\n\u001b[0;32m      4\u001b[0m \u001b[1;33m\u001b[0m\u001b[0m\n\u001b[0;32m      5\u001b[0m \u001b[1;31m#若要將自己設定的 cookies 放進 GET 請求中送給伺服器，可以這樣寫：\u001b[0m\u001b[1;33m\u001b[0m\u001b[1;33m\u001b[0m\u001b[1;33m\u001b[0m\u001b[0m\n",
      "\u001b[1;32m~\\Anaconda3\\lib\\site-packages\\requests\\api.py\u001b[0m in \u001b[0;36mget\u001b[1;34m(url, params, **kwargs)\u001b[0m\n\u001b[0;32m     73\u001b[0m \u001b[1;33m\u001b[0m\u001b[0m\n\u001b[0;32m     74\u001b[0m     \u001b[0mkwargs\u001b[0m\u001b[1;33m.\u001b[0m\u001b[0msetdefault\u001b[0m\u001b[1;33m(\u001b[0m\u001b[1;34m'allow_redirects'\u001b[0m\u001b[1;33m,\u001b[0m \u001b[1;32mTrue\u001b[0m\u001b[1;33m)\u001b[0m\u001b[1;33m\u001b[0m\u001b[1;33m\u001b[0m\u001b[0m\n\u001b[1;32m---> 75\u001b[1;33m     \u001b[1;32mreturn\u001b[0m \u001b[0mrequest\u001b[0m\u001b[1;33m(\u001b[0m\u001b[1;34m'get'\u001b[0m\u001b[1;33m,\u001b[0m \u001b[0murl\u001b[0m\u001b[1;33m,\u001b[0m \u001b[0mparams\u001b[0m\u001b[1;33m=\u001b[0m\u001b[0mparams\u001b[0m\u001b[1;33m,\u001b[0m \u001b[1;33m**\u001b[0m\u001b[0mkwargs\u001b[0m\u001b[1;33m)\u001b[0m\u001b[1;33m\u001b[0m\u001b[1;33m\u001b[0m\u001b[0m\n\u001b[0m\u001b[0;32m     76\u001b[0m \u001b[1;33m\u001b[0m\u001b[0m\n\u001b[0;32m     77\u001b[0m \u001b[1;33m\u001b[0m\u001b[0m\n",
      "\u001b[1;32m~\\Anaconda3\\lib\\site-packages\\requests\\api.py\u001b[0m in \u001b[0;36mrequest\u001b[1;34m(method, url, **kwargs)\u001b[0m\n\u001b[0;32m     58\u001b[0m     \u001b[1;31m# cases, and look like a memory leak in others.\u001b[0m\u001b[1;33m\u001b[0m\u001b[1;33m\u001b[0m\u001b[1;33m\u001b[0m\u001b[0m\n\u001b[0;32m     59\u001b[0m     \u001b[1;32mwith\u001b[0m \u001b[0msessions\u001b[0m\u001b[1;33m.\u001b[0m\u001b[0mSession\u001b[0m\u001b[1;33m(\u001b[0m\u001b[1;33m)\u001b[0m \u001b[1;32mas\u001b[0m \u001b[0msession\u001b[0m\u001b[1;33m:\u001b[0m\u001b[1;33m\u001b[0m\u001b[1;33m\u001b[0m\u001b[0m\n\u001b[1;32m---> 60\u001b[1;33m         \u001b[1;32mreturn\u001b[0m \u001b[0msession\u001b[0m\u001b[1;33m.\u001b[0m\u001b[0mrequest\u001b[0m\u001b[1;33m(\u001b[0m\u001b[0mmethod\u001b[0m\u001b[1;33m=\u001b[0m\u001b[0mmethod\u001b[0m\u001b[1;33m,\u001b[0m \u001b[0murl\u001b[0m\u001b[1;33m=\u001b[0m\u001b[0murl\u001b[0m\u001b[1;33m,\u001b[0m \u001b[1;33m**\u001b[0m\u001b[0mkwargs\u001b[0m\u001b[1;33m)\u001b[0m\u001b[1;33m\u001b[0m\u001b[1;33m\u001b[0m\u001b[0m\n\u001b[0m\u001b[0;32m     61\u001b[0m \u001b[1;33m\u001b[0m\u001b[0m\n\u001b[0;32m     62\u001b[0m \u001b[1;33m\u001b[0m\u001b[0m\n",
      "\u001b[1;32m~\\Anaconda3\\lib\\site-packages\\requests\\sessions.py\u001b[0m in \u001b[0;36mrequest\u001b[1;34m(self, method, url, params, data, headers, cookies, files, auth, timeout, allow_redirects, proxies, hooks, stream, verify, cert, json)\u001b[0m\n\u001b[0;32m    531\u001b[0m         }\n\u001b[0;32m    532\u001b[0m         \u001b[0msend_kwargs\u001b[0m\u001b[1;33m.\u001b[0m\u001b[0mupdate\u001b[0m\u001b[1;33m(\u001b[0m\u001b[0msettings\u001b[0m\u001b[1;33m)\u001b[0m\u001b[1;33m\u001b[0m\u001b[1;33m\u001b[0m\u001b[0m\n\u001b[1;32m--> 533\u001b[1;33m         \u001b[0mresp\u001b[0m \u001b[1;33m=\u001b[0m \u001b[0mself\u001b[0m\u001b[1;33m.\u001b[0m\u001b[0msend\u001b[0m\u001b[1;33m(\u001b[0m\u001b[0mprep\u001b[0m\u001b[1;33m,\u001b[0m \u001b[1;33m**\u001b[0m\u001b[0msend_kwargs\u001b[0m\u001b[1;33m)\u001b[0m\u001b[1;33m\u001b[0m\u001b[1;33m\u001b[0m\u001b[0m\n\u001b[0m\u001b[0;32m    534\u001b[0m \u001b[1;33m\u001b[0m\u001b[0m\n\u001b[0;32m    535\u001b[0m         \u001b[1;32mreturn\u001b[0m \u001b[0mresp\u001b[0m\u001b[1;33m\u001b[0m\u001b[1;33m\u001b[0m\u001b[0m\n",
      "\u001b[1;32m~\\Anaconda3\\lib\\site-packages\\requests\\sessions.py\u001b[0m in \u001b[0;36msend\u001b[1;34m(self, request, **kwargs)\u001b[0m\n\u001b[0;32m    644\u001b[0m \u001b[1;33m\u001b[0m\u001b[0m\n\u001b[0;32m    645\u001b[0m         \u001b[1;31m# Send the request\u001b[0m\u001b[1;33m\u001b[0m\u001b[1;33m\u001b[0m\u001b[1;33m\u001b[0m\u001b[0m\n\u001b[1;32m--> 646\u001b[1;33m         \u001b[0mr\u001b[0m \u001b[1;33m=\u001b[0m \u001b[0madapter\u001b[0m\u001b[1;33m.\u001b[0m\u001b[0msend\u001b[0m\u001b[1;33m(\u001b[0m\u001b[0mrequest\u001b[0m\u001b[1;33m,\u001b[0m \u001b[1;33m**\u001b[0m\u001b[0mkwargs\u001b[0m\u001b[1;33m)\u001b[0m\u001b[1;33m\u001b[0m\u001b[1;33m\u001b[0m\u001b[0m\n\u001b[0m\u001b[0;32m    647\u001b[0m \u001b[1;33m\u001b[0m\u001b[0m\n\u001b[0;32m    648\u001b[0m         \u001b[1;31m# Total elapsed time of the request (approximately)\u001b[0m\u001b[1;33m\u001b[0m\u001b[1;33m\u001b[0m\u001b[1;33m\u001b[0m\u001b[0m\n",
      "\u001b[1;32m~\\Anaconda3\\lib\\site-packages\\requests\\adapters.py\u001b[0m in \u001b[0;36msend\u001b[1;34m(self, request, stream, timeout, verify, cert, proxies)\u001b[0m\n\u001b[0;32m    514\u001b[0m                 \u001b[1;32mraise\u001b[0m \u001b[0mSSLError\u001b[0m\u001b[1;33m(\u001b[0m\u001b[0me\u001b[0m\u001b[1;33m,\u001b[0m \u001b[0mrequest\u001b[0m\u001b[1;33m=\u001b[0m\u001b[0mrequest\u001b[0m\u001b[1;33m)\u001b[0m\u001b[1;33m\u001b[0m\u001b[1;33m\u001b[0m\u001b[0m\n\u001b[0;32m    515\u001b[0m \u001b[1;33m\u001b[0m\u001b[0m\n\u001b[1;32m--> 516\u001b[1;33m             \u001b[1;32mraise\u001b[0m \u001b[0mConnectionError\u001b[0m\u001b[1;33m(\u001b[0m\u001b[0me\u001b[0m\u001b[1;33m,\u001b[0m \u001b[0mrequest\u001b[0m\u001b[1;33m=\u001b[0m\u001b[0mrequest\u001b[0m\u001b[1;33m)\u001b[0m\u001b[1;33m\u001b[0m\u001b[1;33m\u001b[0m\u001b[0m\n\u001b[0m\u001b[0;32m    517\u001b[0m \u001b[1;33m\u001b[0m\u001b[0m\n\u001b[0;32m    518\u001b[0m         \u001b[1;32mexcept\u001b[0m \u001b[0mClosedPoolError\u001b[0m \u001b[1;32mas\u001b[0m \u001b[0me\u001b[0m\u001b[1;33m:\u001b[0m\u001b[1;33m\u001b[0m\u001b[1;33m\u001b[0m\u001b[0m\n",
      "\u001b[1;31mConnectionError\u001b[0m: HTTPConnectionPool(host='my.server.com', port=80): Max retries exceeded with url: /has/cookies (Caused by NewConnectionError('<urllib3.connection.HTTPConnection object at 0x00000000061F9DA0>: Failed to establish a new connection: [Errno 11004] getaddrinfo failed'))"
     ]
    }
   ],
   "source": [
    "r = requests.get(\"http://my.server.com/has/cookies\")  # 含有 cookie 的內容\n",
    "\n",
    "print(r.cookies['my_cookie_name'])  # 取出 cookie\n",
    "\n",
    "#若要將自己設定的 cookies 放進 GET 請求中送給伺服器，可以這樣寫：\n",
    "\n",
    "my_cookies = dict(my_cookie_name='G. T. Wang')  # 設定 cookie\n",
    "\n",
    "r = requests.get(\"http://httpbin.org/cookies\", cookies = my_cookies)  # 將 cookie 加入 GET 請求"
   ]
  },
  {
   "cell_type": "markdown",
   "metadata": {},
   "source": [
    "# 常見問題"
   ]
  },
  {
   "cell_type": "markdown",
   "metadata": {},
   "source": [
    "等待逾時\n",
    "requests 預設會一直等待直到伺服器完成回應為止，如果想改變等待逾時設定，可以用 timeout 設定（單位為秒）："
   ]
  },
  {
   "cell_type": "code",
   "execution_count": 11,
   "metadata": {},
   "outputs": [
    {
     "data": {
      "text/plain": [
       "<Response [200]>"
      ]
     },
     "execution_count": 11,
     "metadata": {},
     "output_type": "execute_result"
    }
   ],
   "source": [
    "requests.get('http://github.com/', timeout = 3)  # 等待 3 秒無回應則放棄"
   ]
  },
  {
   "cell_type": "markdown",
   "metadata": {},
   "source": [
    "不合格憑證\n",
    "當我們在自架網頁伺服器進行測試時，HTTPS 時常會有憑證不合格的問題，當 requests 遇到這種伺服器就容易會出現 requests.exceptions.SSLError 這樣的錯誤，解決的方式就是加上 verify=False，關閉 requests 的憑證檢查功能："
   ]
  },
  {
   "cell_type": "code",
   "execution_count": 12,
   "metadata": {},
   "outputs": [
    {
     "ename": "ConnectionError",
     "evalue": "HTTPSConnectionPool(host='my.server.com', port=443): Max retries exceeded with url: / (Caused by NewConnectionError('<urllib3.connection.VerifiedHTTPSConnection object at 0x00000000054BB5F8>: Failed to establish a new connection: [Errno 11004] getaddrinfo failed'))",
     "output_type": "error",
     "traceback": [
      "\u001b[1;31m---------------------------------------------------------------------------\u001b[0m",
      "\u001b[1;31mgaierror\u001b[0m                                  Traceback (most recent call last)",
      "\u001b[1;32m~\\Anaconda3\\lib\\site-packages\\urllib3\\connection.py\u001b[0m in \u001b[0;36m_new_conn\u001b[1;34m(self)\u001b[0m\n\u001b[0;32m    158\u001b[0m             conn = connection.create_connection(\n\u001b[1;32m--> 159\u001b[1;33m                 (self._dns_host, self.port), self.timeout, **extra_kw)\n\u001b[0m\u001b[0;32m    160\u001b[0m \u001b[1;33m\u001b[0m\u001b[0m\n",
      "\u001b[1;32m~\\Anaconda3\\lib\\site-packages\\urllib3\\util\\connection.py\u001b[0m in \u001b[0;36mcreate_connection\u001b[1;34m(address, timeout, source_address, socket_options)\u001b[0m\n\u001b[0;32m     56\u001b[0m \u001b[1;33m\u001b[0m\u001b[0m\n\u001b[1;32m---> 57\u001b[1;33m     \u001b[1;32mfor\u001b[0m \u001b[0mres\u001b[0m \u001b[1;32min\u001b[0m \u001b[0msocket\u001b[0m\u001b[1;33m.\u001b[0m\u001b[0mgetaddrinfo\u001b[0m\u001b[1;33m(\u001b[0m\u001b[0mhost\u001b[0m\u001b[1;33m,\u001b[0m \u001b[0mport\u001b[0m\u001b[1;33m,\u001b[0m \u001b[0mfamily\u001b[0m\u001b[1;33m,\u001b[0m \u001b[0msocket\u001b[0m\u001b[1;33m.\u001b[0m\u001b[0mSOCK_STREAM\u001b[0m\u001b[1;33m)\u001b[0m\u001b[1;33m:\u001b[0m\u001b[1;33m\u001b[0m\u001b[1;33m\u001b[0m\u001b[0m\n\u001b[0m\u001b[0;32m     58\u001b[0m         \u001b[0maf\u001b[0m\u001b[1;33m,\u001b[0m \u001b[0msocktype\u001b[0m\u001b[1;33m,\u001b[0m \u001b[0mproto\u001b[0m\u001b[1;33m,\u001b[0m \u001b[0mcanonname\u001b[0m\u001b[1;33m,\u001b[0m \u001b[0msa\u001b[0m \u001b[1;33m=\u001b[0m \u001b[0mres\u001b[0m\u001b[1;33m\u001b[0m\u001b[1;33m\u001b[0m\u001b[0m\n",
      "\u001b[1;32m~\\Anaconda3\\lib\\socket.py\u001b[0m in \u001b[0;36mgetaddrinfo\u001b[1;34m(host, port, family, type, proto, flags)\u001b[0m\n\u001b[0;32m    747\u001b[0m     \u001b[0maddrlist\u001b[0m \u001b[1;33m=\u001b[0m \u001b[1;33m[\u001b[0m\u001b[1;33m]\u001b[0m\u001b[1;33m\u001b[0m\u001b[1;33m\u001b[0m\u001b[0m\n\u001b[1;32m--> 748\u001b[1;33m     \u001b[1;32mfor\u001b[0m \u001b[0mres\u001b[0m \u001b[1;32min\u001b[0m \u001b[0m_socket\u001b[0m\u001b[1;33m.\u001b[0m\u001b[0mgetaddrinfo\u001b[0m\u001b[1;33m(\u001b[0m\u001b[0mhost\u001b[0m\u001b[1;33m,\u001b[0m \u001b[0mport\u001b[0m\u001b[1;33m,\u001b[0m \u001b[0mfamily\u001b[0m\u001b[1;33m,\u001b[0m \u001b[0mtype\u001b[0m\u001b[1;33m,\u001b[0m \u001b[0mproto\u001b[0m\u001b[1;33m,\u001b[0m \u001b[0mflags\u001b[0m\u001b[1;33m)\u001b[0m\u001b[1;33m:\u001b[0m\u001b[1;33m\u001b[0m\u001b[1;33m\u001b[0m\u001b[0m\n\u001b[0m\u001b[0;32m    749\u001b[0m         \u001b[0maf\u001b[0m\u001b[1;33m,\u001b[0m \u001b[0msocktype\u001b[0m\u001b[1;33m,\u001b[0m \u001b[0mproto\u001b[0m\u001b[1;33m,\u001b[0m \u001b[0mcanonname\u001b[0m\u001b[1;33m,\u001b[0m \u001b[0msa\u001b[0m \u001b[1;33m=\u001b[0m \u001b[0mres\u001b[0m\u001b[1;33m\u001b[0m\u001b[1;33m\u001b[0m\u001b[0m\n",
      "\u001b[1;31mgaierror\u001b[0m: [Errno 11004] getaddrinfo failed",
      "\nDuring handling of the above exception, another exception occurred:\n",
      "\u001b[1;31mNewConnectionError\u001b[0m                        Traceback (most recent call last)",
      "\u001b[1;32m~\\Anaconda3\\lib\\site-packages\\urllib3\\connectionpool.py\u001b[0m in \u001b[0;36murlopen\u001b[1;34m(self, method, url, body, headers, retries, redirect, assert_same_host, timeout, pool_timeout, release_conn, chunked, body_pos, **response_kw)\u001b[0m\n\u001b[0;32m    599\u001b[0m                                                   \u001b[0mbody\u001b[0m\u001b[1;33m=\u001b[0m\u001b[0mbody\u001b[0m\u001b[1;33m,\u001b[0m \u001b[0mheaders\u001b[0m\u001b[1;33m=\u001b[0m\u001b[0mheaders\u001b[0m\u001b[1;33m,\u001b[0m\u001b[1;33m\u001b[0m\u001b[1;33m\u001b[0m\u001b[0m\n\u001b[1;32m--> 600\u001b[1;33m                                                   chunked=chunked)\n\u001b[0m\u001b[0;32m    601\u001b[0m \u001b[1;33m\u001b[0m\u001b[0m\n",
      "\u001b[1;32m~\\Anaconda3\\lib\\site-packages\\urllib3\\connectionpool.py\u001b[0m in \u001b[0;36m_make_request\u001b[1;34m(self, conn, method, url, timeout, chunked, **httplib_request_kw)\u001b[0m\n\u001b[0;32m    342\u001b[0m         \u001b[1;32mtry\u001b[0m\u001b[1;33m:\u001b[0m\u001b[1;33m\u001b[0m\u001b[1;33m\u001b[0m\u001b[0m\n\u001b[1;32m--> 343\u001b[1;33m             \u001b[0mself\u001b[0m\u001b[1;33m.\u001b[0m\u001b[0m_validate_conn\u001b[0m\u001b[1;33m(\u001b[0m\u001b[0mconn\u001b[0m\u001b[1;33m)\u001b[0m\u001b[1;33m\u001b[0m\u001b[1;33m\u001b[0m\u001b[0m\n\u001b[0m\u001b[0;32m    344\u001b[0m         \u001b[1;32mexcept\u001b[0m \u001b[1;33m(\u001b[0m\u001b[0mSocketTimeout\u001b[0m\u001b[1;33m,\u001b[0m \u001b[0mBaseSSLError\u001b[0m\u001b[1;33m)\u001b[0m \u001b[1;32mas\u001b[0m \u001b[0me\u001b[0m\u001b[1;33m:\u001b[0m\u001b[1;33m\u001b[0m\u001b[1;33m\u001b[0m\u001b[0m\n",
      "\u001b[1;32m~\\Anaconda3\\lib\\site-packages\\urllib3\\connectionpool.py\u001b[0m in \u001b[0;36m_validate_conn\u001b[1;34m(self, conn)\u001b[0m\n\u001b[0;32m    838\u001b[0m         \u001b[1;32mif\u001b[0m \u001b[1;32mnot\u001b[0m \u001b[0mgetattr\u001b[0m\u001b[1;33m(\u001b[0m\u001b[0mconn\u001b[0m\u001b[1;33m,\u001b[0m \u001b[1;34m'sock'\u001b[0m\u001b[1;33m,\u001b[0m \u001b[1;32mNone\u001b[0m\u001b[1;33m)\u001b[0m\u001b[1;33m:\u001b[0m  \u001b[1;31m# AppEngine might not have  `.sock`\u001b[0m\u001b[1;33m\u001b[0m\u001b[1;33m\u001b[0m\u001b[0m\n\u001b[1;32m--> 839\u001b[1;33m             \u001b[0mconn\u001b[0m\u001b[1;33m.\u001b[0m\u001b[0mconnect\u001b[0m\u001b[1;33m(\u001b[0m\u001b[1;33m)\u001b[0m\u001b[1;33m\u001b[0m\u001b[1;33m\u001b[0m\u001b[0m\n\u001b[0m\u001b[0;32m    840\u001b[0m \u001b[1;33m\u001b[0m\u001b[0m\n",
      "\u001b[1;32m~\\Anaconda3\\lib\\site-packages\\urllib3\\connection.py\u001b[0m in \u001b[0;36mconnect\u001b[1;34m(self)\u001b[0m\n\u001b[0;32m    300\u001b[0m         \u001b[1;31m# Add certificate verification\u001b[0m\u001b[1;33m\u001b[0m\u001b[1;33m\u001b[0m\u001b[1;33m\u001b[0m\u001b[0m\n\u001b[1;32m--> 301\u001b[1;33m         \u001b[0mconn\u001b[0m \u001b[1;33m=\u001b[0m \u001b[0mself\u001b[0m\u001b[1;33m.\u001b[0m\u001b[0m_new_conn\u001b[0m\u001b[1;33m(\u001b[0m\u001b[1;33m)\u001b[0m\u001b[1;33m\u001b[0m\u001b[1;33m\u001b[0m\u001b[0m\n\u001b[0m\u001b[0;32m    302\u001b[0m         \u001b[0mhostname\u001b[0m \u001b[1;33m=\u001b[0m \u001b[0mself\u001b[0m\u001b[1;33m.\u001b[0m\u001b[0mhost\u001b[0m\u001b[1;33m\u001b[0m\u001b[1;33m\u001b[0m\u001b[0m\n",
      "\u001b[1;32m~\\Anaconda3\\lib\\site-packages\\urllib3\\connection.py\u001b[0m in \u001b[0;36m_new_conn\u001b[1;34m(self)\u001b[0m\n\u001b[0;32m    167\u001b[0m             raise NewConnectionError(\n\u001b[1;32m--> 168\u001b[1;33m                 self, \"Failed to establish a new connection: %s\" % e)\n\u001b[0m\u001b[0;32m    169\u001b[0m \u001b[1;33m\u001b[0m\u001b[0m\n",
      "\u001b[1;31mNewConnectionError\u001b[0m: <urllib3.connection.VerifiedHTTPSConnection object at 0x00000000054BB5F8>: Failed to establish a new connection: [Errno 11004] getaddrinfo failed",
      "\nDuring handling of the above exception, another exception occurred:\n",
      "\u001b[1;31mMaxRetryError\u001b[0m                             Traceback (most recent call last)",
      "\u001b[1;32m~\\Anaconda3\\lib\\site-packages\\requests\\adapters.py\u001b[0m in \u001b[0;36msend\u001b[1;34m(self, request, stream, timeout, verify, cert, proxies)\u001b[0m\n\u001b[0;32m    448\u001b[0m                     \u001b[0mretries\u001b[0m\u001b[1;33m=\u001b[0m\u001b[0mself\u001b[0m\u001b[1;33m.\u001b[0m\u001b[0mmax_retries\u001b[0m\u001b[1;33m,\u001b[0m\u001b[1;33m\u001b[0m\u001b[1;33m\u001b[0m\u001b[0m\n\u001b[1;32m--> 449\u001b[1;33m                     \u001b[0mtimeout\u001b[0m\u001b[1;33m=\u001b[0m\u001b[0mtimeout\u001b[0m\u001b[1;33m\u001b[0m\u001b[1;33m\u001b[0m\u001b[0m\n\u001b[0m\u001b[0;32m    450\u001b[0m                 )\n",
      "\u001b[1;32m~\\Anaconda3\\lib\\site-packages\\urllib3\\connectionpool.py\u001b[0m in \u001b[0;36murlopen\u001b[1;34m(self, method, url, body, headers, retries, redirect, assert_same_host, timeout, pool_timeout, release_conn, chunked, body_pos, **response_kw)\u001b[0m\n\u001b[0;32m    637\u001b[0m             retries = retries.increment(method, url, error=e, _pool=self,\n\u001b[1;32m--> 638\u001b[1;33m                                         _stacktrace=sys.exc_info()[2])\n\u001b[0m\u001b[0;32m    639\u001b[0m             \u001b[0mretries\u001b[0m\u001b[1;33m.\u001b[0m\u001b[0msleep\u001b[0m\u001b[1;33m(\u001b[0m\u001b[1;33m)\u001b[0m\u001b[1;33m\u001b[0m\u001b[1;33m\u001b[0m\u001b[0m\n",
      "\u001b[1;32m~\\Anaconda3\\lib\\site-packages\\urllib3\\util\\retry.py\u001b[0m in \u001b[0;36mincrement\u001b[1;34m(self, method, url, response, error, _pool, _stacktrace)\u001b[0m\n\u001b[0;32m    397\u001b[0m         \u001b[1;32mif\u001b[0m \u001b[0mnew_retry\u001b[0m\u001b[1;33m.\u001b[0m\u001b[0mis_exhausted\u001b[0m\u001b[1;33m(\u001b[0m\u001b[1;33m)\u001b[0m\u001b[1;33m:\u001b[0m\u001b[1;33m\u001b[0m\u001b[1;33m\u001b[0m\u001b[0m\n\u001b[1;32m--> 398\u001b[1;33m             \u001b[1;32mraise\u001b[0m \u001b[0mMaxRetryError\u001b[0m\u001b[1;33m(\u001b[0m\u001b[0m_pool\u001b[0m\u001b[1;33m,\u001b[0m \u001b[0murl\u001b[0m\u001b[1;33m,\u001b[0m \u001b[0merror\u001b[0m \u001b[1;32mor\u001b[0m \u001b[0mResponseError\u001b[0m\u001b[1;33m(\u001b[0m\u001b[0mcause\u001b[0m\u001b[1;33m)\u001b[0m\u001b[1;33m)\u001b[0m\u001b[1;33m\u001b[0m\u001b[1;33m\u001b[0m\u001b[0m\n\u001b[0m\u001b[0;32m    399\u001b[0m \u001b[1;33m\u001b[0m\u001b[0m\n",
      "\u001b[1;31mMaxRetryError\u001b[0m: HTTPSConnectionPool(host='my.server.com', port=443): Max retries exceeded with url: / (Caused by NewConnectionError('<urllib3.connection.VerifiedHTTPSConnection object at 0x00000000054BB5F8>: Failed to establish a new connection: [Errno 11004] getaddrinfo failed'))",
      "\nDuring handling of the above exception, another exception occurred:\n",
      "\u001b[1;31mConnectionError\u001b[0m                           Traceback (most recent call last)",
      "\u001b[1;32m<ipython-input-12-c73f81e0496d>\u001b[0m in \u001b[0;36m<module>\u001b[1;34m\u001b[0m\n\u001b[1;32m----> 1\u001b[1;33m \u001b[0mr\u001b[0m \u001b[1;33m=\u001b[0m \u001b[0mrequests\u001b[0m\u001b[1;33m.\u001b[0m\u001b[0mget\u001b[0m\u001b[1;33m(\u001b[0m\u001b[1;34m'https://my.server.com/'\u001b[0m\u001b[1;33m,\u001b[0m \u001b[0mverify\u001b[0m \u001b[1;33m=\u001b[0m \u001b[1;32mFalse\u001b[0m\u001b[1;33m)\u001b[0m  \u001b[1;31m# 關閉憑證檢查\u001b[0m\u001b[1;33m\u001b[0m\u001b[1;33m\u001b[0m\u001b[0m\n\u001b[0m",
      "\u001b[1;32m~\\Anaconda3\\lib\\site-packages\\requests\\api.py\u001b[0m in \u001b[0;36mget\u001b[1;34m(url, params, **kwargs)\u001b[0m\n\u001b[0;32m     73\u001b[0m \u001b[1;33m\u001b[0m\u001b[0m\n\u001b[0;32m     74\u001b[0m     \u001b[0mkwargs\u001b[0m\u001b[1;33m.\u001b[0m\u001b[0msetdefault\u001b[0m\u001b[1;33m(\u001b[0m\u001b[1;34m'allow_redirects'\u001b[0m\u001b[1;33m,\u001b[0m \u001b[1;32mTrue\u001b[0m\u001b[1;33m)\u001b[0m\u001b[1;33m\u001b[0m\u001b[1;33m\u001b[0m\u001b[0m\n\u001b[1;32m---> 75\u001b[1;33m     \u001b[1;32mreturn\u001b[0m \u001b[0mrequest\u001b[0m\u001b[1;33m(\u001b[0m\u001b[1;34m'get'\u001b[0m\u001b[1;33m,\u001b[0m \u001b[0murl\u001b[0m\u001b[1;33m,\u001b[0m \u001b[0mparams\u001b[0m\u001b[1;33m=\u001b[0m\u001b[0mparams\u001b[0m\u001b[1;33m,\u001b[0m \u001b[1;33m**\u001b[0m\u001b[0mkwargs\u001b[0m\u001b[1;33m)\u001b[0m\u001b[1;33m\u001b[0m\u001b[1;33m\u001b[0m\u001b[0m\n\u001b[0m\u001b[0;32m     76\u001b[0m \u001b[1;33m\u001b[0m\u001b[0m\n\u001b[0;32m     77\u001b[0m \u001b[1;33m\u001b[0m\u001b[0m\n",
      "\u001b[1;32m~\\Anaconda3\\lib\\site-packages\\requests\\api.py\u001b[0m in \u001b[0;36mrequest\u001b[1;34m(method, url, **kwargs)\u001b[0m\n\u001b[0;32m     58\u001b[0m     \u001b[1;31m# cases, and look like a memory leak in others.\u001b[0m\u001b[1;33m\u001b[0m\u001b[1;33m\u001b[0m\u001b[1;33m\u001b[0m\u001b[0m\n\u001b[0;32m     59\u001b[0m     \u001b[1;32mwith\u001b[0m \u001b[0msessions\u001b[0m\u001b[1;33m.\u001b[0m\u001b[0mSession\u001b[0m\u001b[1;33m(\u001b[0m\u001b[1;33m)\u001b[0m \u001b[1;32mas\u001b[0m \u001b[0msession\u001b[0m\u001b[1;33m:\u001b[0m\u001b[1;33m\u001b[0m\u001b[1;33m\u001b[0m\u001b[0m\n\u001b[1;32m---> 60\u001b[1;33m         \u001b[1;32mreturn\u001b[0m \u001b[0msession\u001b[0m\u001b[1;33m.\u001b[0m\u001b[0mrequest\u001b[0m\u001b[1;33m(\u001b[0m\u001b[0mmethod\u001b[0m\u001b[1;33m=\u001b[0m\u001b[0mmethod\u001b[0m\u001b[1;33m,\u001b[0m \u001b[0murl\u001b[0m\u001b[1;33m=\u001b[0m\u001b[0murl\u001b[0m\u001b[1;33m,\u001b[0m \u001b[1;33m**\u001b[0m\u001b[0mkwargs\u001b[0m\u001b[1;33m)\u001b[0m\u001b[1;33m\u001b[0m\u001b[1;33m\u001b[0m\u001b[0m\n\u001b[0m\u001b[0;32m     61\u001b[0m \u001b[1;33m\u001b[0m\u001b[0m\n\u001b[0;32m     62\u001b[0m \u001b[1;33m\u001b[0m\u001b[0m\n",
      "\u001b[1;32m~\\Anaconda3\\lib\\site-packages\\requests\\sessions.py\u001b[0m in \u001b[0;36mrequest\u001b[1;34m(self, method, url, params, data, headers, cookies, files, auth, timeout, allow_redirects, proxies, hooks, stream, verify, cert, json)\u001b[0m\n\u001b[0;32m    531\u001b[0m         }\n\u001b[0;32m    532\u001b[0m         \u001b[0msend_kwargs\u001b[0m\u001b[1;33m.\u001b[0m\u001b[0mupdate\u001b[0m\u001b[1;33m(\u001b[0m\u001b[0msettings\u001b[0m\u001b[1;33m)\u001b[0m\u001b[1;33m\u001b[0m\u001b[1;33m\u001b[0m\u001b[0m\n\u001b[1;32m--> 533\u001b[1;33m         \u001b[0mresp\u001b[0m \u001b[1;33m=\u001b[0m \u001b[0mself\u001b[0m\u001b[1;33m.\u001b[0m\u001b[0msend\u001b[0m\u001b[1;33m(\u001b[0m\u001b[0mprep\u001b[0m\u001b[1;33m,\u001b[0m \u001b[1;33m**\u001b[0m\u001b[0msend_kwargs\u001b[0m\u001b[1;33m)\u001b[0m\u001b[1;33m\u001b[0m\u001b[1;33m\u001b[0m\u001b[0m\n\u001b[0m\u001b[0;32m    534\u001b[0m \u001b[1;33m\u001b[0m\u001b[0m\n\u001b[0;32m    535\u001b[0m         \u001b[1;32mreturn\u001b[0m \u001b[0mresp\u001b[0m\u001b[1;33m\u001b[0m\u001b[1;33m\u001b[0m\u001b[0m\n",
      "\u001b[1;32m~\\Anaconda3\\lib\\site-packages\\requests\\sessions.py\u001b[0m in \u001b[0;36msend\u001b[1;34m(self, request, **kwargs)\u001b[0m\n\u001b[0;32m    644\u001b[0m \u001b[1;33m\u001b[0m\u001b[0m\n\u001b[0;32m    645\u001b[0m         \u001b[1;31m# Send the request\u001b[0m\u001b[1;33m\u001b[0m\u001b[1;33m\u001b[0m\u001b[1;33m\u001b[0m\u001b[0m\n\u001b[1;32m--> 646\u001b[1;33m         \u001b[0mr\u001b[0m \u001b[1;33m=\u001b[0m \u001b[0madapter\u001b[0m\u001b[1;33m.\u001b[0m\u001b[0msend\u001b[0m\u001b[1;33m(\u001b[0m\u001b[0mrequest\u001b[0m\u001b[1;33m,\u001b[0m \u001b[1;33m**\u001b[0m\u001b[0mkwargs\u001b[0m\u001b[1;33m)\u001b[0m\u001b[1;33m\u001b[0m\u001b[1;33m\u001b[0m\u001b[0m\n\u001b[0m\u001b[0;32m    647\u001b[0m \u001b[1;33m\u001b[0m\u001b[0m\n\u001b[0;32m    648\u001b[0m         \u001b[1;31m# Total elapsed time of the request (approximately)\u001b[0m\u001b[1;33m\u001b[0m\u001b[1;33m\u001b[0m\u001b[1;33m\u001b[0m\u001b[0m\n",
      "\u001b[1;32m~\\Anaconda3\\lib\\site-packages\\requests\\adapters.py\u001b[0m in \u001b[0;36msend\u001b[1;34m(self, request, stream, timeout, verify, cert, proxies)\u001b[0m\n\u001b[0;32m    514\u001b[0m                 \u001b[1;32mraise\u001b[0m \u001b[0mSSLError\u001b[0m\u001b[1;33m(\u001b[0m\u001b[0me\u001b[0m\u001b[1;33m,\u001b[0m \u001b[0mrequest\u001b[0m\u001b[1;33m=\u001b[0m\u001b[0mrequest\u001b[0m\u001b[1;33m)\u001b[0m\u001b[1;33m\u001b[0m\u001b[1;33m\u001b[0m\u001b[0m\n\u001b[0;32m    515\u001b[0m \u001b[1;33m\u001b[0m\u001b[0m\n\u001b[1;32m--> 516\u001b[1;33m             \u001b[1;32mraise\u001b[0m \u001b[0mConnectionError\u001b[0m\u001b[1;33m(\u001b[0m\u001b[0me\u001b[0m\u001b[1;33m,\u001b[0m \u001b[0mrequest\u001b[0m\u001b[1;33m=\u001b[0m\u001b[0mrequest\u001b[0m\u001b[1;33m)\u001b[0m\u001b[1;33m\u001b[0m\u001b[1;33m\u001b[0m\u001b[0m\n\u001b[0m\u001b[0;32m    517\u001b[0m \u001b[1;33m\u001b[0m\u001b[0m\n\u001b[0;32m    518\u001b[0m         \u001b[1;32mexcept\u001b[0m \u001b[0mClosedPoolError\u001b[0m \u001b[1;32mas\u001b[0m \u001b[0me\u001b[0m\u001b[1;33m:\u001b[0m\u001b[1;33m\u001b[0m\u001b[1;33m\u001b[0m\u001b[0m\n",
      "\u001b[1;31mConnectionError\u001b[0m: HTTPSConnectionPool(host='my.server.com', port=443): Max retries exceeded with url: / (Caused by NewConnectionError('<urllib3.connection.VerifiedHTTPSConnection object at 0x00000000054BB5F8>: Failed to establish a new connection: [Errno 11004] getaddrinfo failed'))"
     ]
    }
   ],
   "source": [
    "r = requests.get('https://my.server.com/', verify = False)  # 關閉憑證檢查"
   ]
  },
  {
   "cell_type": "code",
   "execution_count": 1,
   "metadata": {},
   "outputs": [
    {
     "name": "stdout",
     "output_type": "stream",
     "text": [
      "200\n"
     ]
    }
   ],
   "source": [
    "#Ch2_2_1\n",
    "import requests \n",
    "\n",
    "r = requests.get(\"http://www.google.com\")\n",
    "print(r.status_code)"
   ]
  },
  {
   "cell_type": "code",
   "execution_count": 2,
   "metadata": {},
   "outputs": [
    {
     "name": "stdout",
     "output_type": "stream",
     "text": [
      "請求成功...\n"
     ]
    }
   ],
   "source": [
    "#Ch2_2_1a\n",
    "import requests \n",
    "\n",
    "r = requests.get(\"http://www.google.com\")\n",
    "if r.status_code == 200:\n",
    "    print(\"請求成功...\")\n",
    "else:\n",
    "    print(\"請求失敗...\")\n",
    "     "
   ]
  },
  {
   "cell_type": "code",
   "execution_count": 3,
   "metadata": {},
   "outputs": [
    {
     "name": "stdout",
     "output_type": "stream",
     "text": [
      "http://httpbin.org/get?name=%E9%99%B3%E6%9C%83%E5%AE%89&score=95\n"
     ]
    }
   ],
   "source": [
    "#Ch2_2_1b\n",
    "import requests \n",
    "\n",
    "url_params = {'name': '陳會安', 'score': 95}\n",
    "r = requests.get(\"http://httpbin.org/get\", params=url_params)\n",
    "print(r.url)"
   ]
  },
  {
   "cell_type": "code",
   "execution_count": 4,
   "metadata": {},
   "outputs": [
    {
     "name": "stdout",
     "output_type": "stream",
     "text": [
      "{\n",
      "  \"args\": {\n",
      "    \"name\": \"\\u9673\\u6703\\u5b89\", \n",
      "    \"score\": \"95\"\n",
      "  }, \n",
      "  \"headers\": {\n",
      "    \"Accept\": \"*/*\", \n",
      "    \"Accept-Encoding\": \"gzip, deflate\", \n",
      "    \"Host\": \"httpbin.org\", \n",
      "    \"User-Agent\": \"python-requests/2.21.0\"\n",
      "  }, \n",
      "  \"origin\": \"36.226.61.147, 36.226.61.147\", \n",
      "  \"url\": \"https://httpbin.org/get?name=\\u9673\\u6703\\u5b89&score=95\"\n",
      "}\n",
      "\n"
     ]
    }
   ],
   "source": [
    "#Ch2_2_1c\n",
    "import requests \n",
    "\n",
    "data = {'name': '陳會安', 'score': 95}\n",
    "r = requests.get(\"http://httpbin.org/get\", params=data)\n",
    "print(r.text)"
   ]
  },
  {
   "cell_type": "code",
   "execution_count": 2,
   "metadata": {},
   "outputs": [
    {
     "name": "stdout",
     "output_type": "stream",
     "text": [
      "{\n",
      "  \"args\": {}, \n",
      "  \"data\": \"\", \n",
      "  \"files\": {}, \n",
      "  \"form\": {\n",
      "    \"name\": \"\\u9673\\u6703\\u5b89\", \n",
      "    \"number\": \"37\", \n",
      "    \"score\": \"95\"\n",
      "  }, \n",
      "  \"headers\": {\n",
      "    \"Accept\": \"*/*\", \n",
      "    \"Accept-Encoding\": \"gzip, deflate\", \n",
      "    \"Content-Length\": \"51\", \n",
      "    \"Content-Type\": \"application/x-www-form-urlencoded\", \n",
      "    \"Host\": \"httpbin.org\", \n",
      "    \"User-Agent\": \"python-requests/2.21.0\"\n",
      "  }, \n",
      "  \"json\": null, \n",
      "  \"origin\": \"1.163.204.60, 1.163.204.60\", \n",
      "  \"url\": \"https://httpbin.org/post\"\n",
      "}\n",
      "\n"
     ]
    }
   ],
   "source": [
    "#Ch2_2_2\n",
    "import requests \n",
    "\n",
    "post_data = {'name': '陳會安', 'score': 95, 'number': 37}\n",
    "r = requests.post(\"http://httpbin.org/post\", data=post_data)\n",
    "print(r.text)"
   ]
  },
  {
   "cell_type": "code",
   "execution_count": 6,
   "metadata": {},
   "outputs": [
    {
     "name": "stdout",
     "output_type": "stream",
     "text": [
      "<html><body><h2>HTTP Server Error 503</h2><p> No available server to handle this request </p></body></html>\n",
      "None\n",
      "<html><body><h2>HTTP Server Error 503</h2><p> No available server to handle this request </p></body></html>\n",
      "utf-8\n"
     ]
    }
   ],
   "source": [
    "#Ch2_3_1\n",
    "import requests\n",
    "\n",
    "r = requests.get(\"http://hueyanchen.myweb.hinet.net/test.html\")\n",
    "\n",
    "print(r.text)\n",
    "print(r.encoding)\n",
    "\n",
    "r = requests.get(\"http://hueyanchen.myweb.hinet.net/test.html\")\n",
    "r.encoding = 'utf-8'\n",
    "\n",
    "print(r.text)\n",
    "print(r.encoding)"
   ]
  },
  {
   "cell_type": "code",
   "execution_count": 7,
   "metadata": {},
   "outputs": [
    {
     "name": "stdout",
     "output_type": "stream",
     "text": [
      "<html><body><h2>HTTP Server Error 503</h2><p> No available server to handle this request </p></body></html>\n",
      "----------------------\n",
      "b'<html><body><h2>HTTP Server Error 503</h2><p> No available server to handle this request </p></body></html>'\n",
      "----------------------\n",
      "<urllib3.response.HTTPResponse object at 0x0000000005D35630>\n",
      "b'<html><body><h2'\n"
     ]
    }
   ],
   "source": [
    "#Ch2_3_1a\n",
    "import requests\n",
    "\n",
    "r = requests.get(\"http://hueyanchen.myweb.hinet.net/test.html\")\n",
    "r.encoding = 'utf-8'\n",
    "print(r.text)\n",
    "print(\"----------------------\")\n",
    "\n",
    "r = requests.get(\"http://hueyanchen.myweb.hinet.net/test.html\")\n",
    "r.encoding = 'utf-8'\n",
    "print(r.content)\n",
    "print(\"----------------------\")\n",
    "\n",
    "r = requests.get(\"http://hueyanchen.myweb.hinet.net/test.html\", stream=True)\n",
    "r.encoding = 'utf-8'\n",
    "print(r.raw)\n",
    "print(r.raw.read(15))\n",
    "\n"
   ]
  },
  {
   "cell_type": "code",
   "execution_count": 8,
   "metadata": {},
   "outputs": [
    {
     "name": "stdout",
     "output_type": "stream",
     "text": [
      "{\n",
      "  \"user-agent\": \"python-requests/2.21.0\"\n",
      "}\n",
      "\n",
      "<class 'str'>\n",
      "----------------------\n",
      "{'user-agent': 'python-requests/2.21.0'}\n",
      "<class 'dict'>\n"
     ]
    }
   ],
   "source": [
    "#Ch2_3_1b\n",
    "import requests \n",
    "\n",
    "r = requests.get(\"http://httpbin.org/user-agent\")\n",
    "print(r.text)\n",
    "print(type(r.text))\n",
    "print(\"----------------------\")\n",
    "print(r.json())\n",
    "print(type(r.json()))\n",
    "\n",
    "\n"
   ]
  },
  {
   "cell_type": "code",
   "execution_count": 9,
   "metadata": {},
   "outputs": [
    {
     "name": "stdout",
     "output_type": "stream",
     "text": [
      "200\n",
      "True\n",
      "404\n",
      "False\n",
      "200\n",
      "True\n"
     ]
    }
   ],
   "source": [
    "#Ch2_3_2\n",
    "import requests \n",
    "\n",
    "r = requests.get(\"http://www.google.com\")\n",
    "print(r.status_code)\n",
    "print(r.status_code == requests.codes.ok)\n",
    "\n",
    "r = requests.get(\"http://www.google.com/404\")\n",
    "print(r.status_code)\n",
    "print(r.status_code == requests.codes.ok)\n",
    "\n",
    "r = requests.get(\"http://www.google.com\")\n",
    "print(r.status_code)\n",
    "print(r.status_code == requests.codes.all_good)"
   ]
  },
  {
   "cell_type": "code",
   "execution_count": 10,
   "metadata": {},
   "outputs": [
    {
     "name": "stdout",
     "output_type": "stream",
     "text": [
      "404\n",
      "False\n"
     ]
    },
    {
     "ename": "HTTPError",
     "evalue": "404 Client Error: Not Found for url: http://www.google.com/404",
     "output_type": "error",
     "traceback": [
      "\u001b[1;31m---------------------------------------------------------------------------\u001b[0m",
      "\u001b[1;31mHTTPError\u001b[0m                                 Traceback (most recent call last)",
      "\u001b[1;32m<ipython-input-10-9cd54debf0e1>\u001b[0m in \u001b[0;36m<module>\u001b[1;34m\u001b[0m\n\u001b[0;32m      6\u001b[0m \u001b[0mprint\u001b[0m\u001b[1;33m(\u001b[0m\u001b[0mr\u001b[0m\u001b[1;33m.\u001b[0m\u001b[0mstatus_code\u001b[0m \u001b[1;33m==\u001b[0m \u001b[0mrequests\u001b[0m\u001b[1;33m.\u001b[0m\u001b[0mcodes\u001b[0m\u001b[1;33m.\u001b[0m\u001b[0mok\u001b[0m\u001b[1;33m)\u001b[0m\u001b[1;33m\u001b[0m\u001b[1;33m\u001b[0m\u001b[0m\n\u001b[0;32m      7\u001b[0m \u001b[1;33m\u001b[0m\u001b[0m\n\u001b[1;32m----> 8\u001b[1;33m \u001b[0mprint\u001b[0m\u001b[1;33m(\u001b[0m\u001b[0mr\u001b[0m\u001b[1;33m.\u001b[0m\u001b[0mraise_for_status\u001b[0m\u001b[1;33m(\u001b[0m\u001b[1;33m)\u001b[0m\u001b[1;33m)\u001b[0m\u001b[1;33m\u001b[0m\u001b[1;33m\u001b[0m\u001b[0m\n\u001b[0m",
      "\u001b[1;32m~\\Anaconda3\\lib\\site-packages\\requests\\models.py\u001b[0m in \u001b[0;36mraise_for_status\u001b[1;34m(self)\u001b[0m\n\u001b[0;32m    938\u001b[0m \u001b[1;33m\u001b[0m\u001b[0m\n\u001b[0;32m    939\u001b[0m         \u001b[1;32mif\u001b[0m \u001b[0mhttp_error_msg\u001b[0m\u001b[1;33m:\u001b[0m\u001b[1;33m\u001b[0m\u001b[1;33m\u001b[0m\u001b[0m\n\u001b[1;32m--> 940\u001b[1;33m             \u001b[1;32mraise\u001b[0m \u001b[0mHTTPError\u001b[0m\u001b[1;33m(\u001b[0m\u001b[0mhttp_error_msg\u001b[0m\u001b[1;33m,\u001b[0m \u001b[0mresponse\u001b[0m\u001b[1;33m=\u001b[0m\u001b[0mself\u001b[0m\u001b[1;33m)\u001b[0m\u001b[1;33m\u001b[0m\u001b[1;33m\u001b[0m\u001b[0m\n\u001b[0m\u001b[0;32m    941\u001b[0m \u001b[1;33m\u001b[0m\u001b[0m\n\u001b[0;32m    942\u001b[0m     \u001b[1;32mdef\u001b[0m \u001b[0mclose\u001b[0m\u001b[1;33m(\u001b[0m\u001b[0mself\u001b[0m\u001b[1;33m)\u001b[0m\u001b[1;33m:\u001b[0m\u001b[1;33m\u001b[0m\u001b[1;33m\u001b[0m\u001b[0m\n",
      "\u001b[1;31mHTTPError\u001b[0m: 404 Client Error: Not Found for url: http://www.google.com/404"
     ]
    }
   ],
   "source": [
    "#Ch2_3_2a\n",
    "import requests \n",
    "\n",
    "r = requests.get(\"http://www.google.com/404\")\n",
    "print(r.status_code)\n",
    "print(r.status_code == requests.codes.ok)\n",
    "\n",
    "print(r.raise_for_status())"
   ]
  },
  {
   "cell_type": "code",
   "execution_count": 11,
   "metadata": {},
   "outputs": [
    {
     "name": "stdout",
     "output_type": "stream",
     "text": [
      "text/html; charset=ISO-8859-1\n",
      "5148\n",
      "Wed, 25 Sep 2019 07:56:35 GMT\n",
      "gws\n"
     ]
    }
   ],
   "source": [
    "#Ch2_3_3\n",
    "import requests \n",
    "\n",
    "r = requests.get(\"http://www.google.com\")\n",
    "\n",
    "print(r.headers['Content-Type'])\n",
    "print(r.headers['Content-Length'])\n",
    "print(r.headers['Date'])\n",
    "print(r.headers['Server'])"
   ]
  },
  {
   "cell_type": "code",
   "execution_count": 12,
   "metadata": {},
   "outputs": [
    {
     "name": "stdout",
     "output_type": "stream",
     "text": [
      "text/html; charset=ISO-8859-1\n",
      "5138\n",
      "Wed, 25 Sep 2019 07:56:41 GMT\n",
      "gws\n"
     ]
    }
   ],
   "source": [
    "#Ch2_3_3a\n",
    "import requests \n",
    "\n",
    "r = requests.get(\"http://www.google.com\")\n",
    "\n",
    "print(r.headers.get('Content-Type'))\n",
    "print(r.headers.get('Content-Length'))\n",
    "print(r.headers.get('Date'))\n",
    "print(r.headers.get('Server'))"
   ]
  },
  {
   "cell_type": "code",
   "execution_count": 13,
   "metadata": {},
   "outputs": [
    {
     "name": "stdout",
     "output_type": "stream",
     "text": [
      "{\n",
      "  \"cookies\": {\n",
      "    \"name\": \"Joe Chen\"\n",
      "  }\n",
      "}\n",
      "\n"
     ]
    }
   ],
   "source": [
    "#Ch2_4_1\n",
    "import requests \n",
    "\n",
    "url = \"http://httpbin.org/cookies\"\n",
    "\n",
    "cookies = dict(name='Joe Chen')\n",
    "r = requests.get(url, cookies=cookies)\n",
    "print(r.text)\n"
   ]
  },
  {
   "cell_type": "code",
   "execution_count": 14,
   "metadata": {},
   "outputs": [
    {
     "name": "stdout",
     "output_type": "stream",
     "text": [
      "{\n",
      "  \"user-agent\": \"python-requests/2.21.0\"\n",
      "}\n",
      "\n",
      "----------------------\n",
      "{\n",
      "  \"user-agent\": \"Mozilla/5.0 (Windows NT 10.0; Win64; x64) AppleWebKit/537.36 (KHTML, like Gecko) Chrome/63.0.3239.132 Safari/537.36\"\n",
      "}\n",
      "\n"
     ]
    }
   ],
   "source": [
    "#Ch2_4_2\n",
    "import requests \n",
    "\n",
    "url = \"http://httpbin.org/user-agent\"\n",
    "\n",
    "r = requests.get(url)\n",
    "print(r.text)\n",
    "print(\"----------------------\")\n",
    "\n",
    "url_headers = {'user-agent': 'Mozilla/5.0 (Windows NT 10.0; Win64; x64) AppleWebKit/537.36 (KHTML, like Gecko) Chrome/63.0.3239.132 Safari/537.36'}\n",
    "r = requests.get(url, headers=url_headers)\n",
    "print(r.text)\n"
   ]
  },
  {
   "cell_type": "code",
   "execution_count": 15,
   "metadata": {},
   "outputs": [
    {
     "name": "stdout",
     "output_type": "stream",
     "text": [
      "{'kind': 'books#volumes', 'totalItems': 464, 'items': [{'kind': 'books#volume', 'id': 'DIWnDwAAQBAJ', 'etag': 'Rgy0kbG6rjk', 'selfLink': 'https://www.googleapis.com/books/v1/volumes/DIWnDwAAQBAJ', 'volumeInfo': {'title': 'Python入門教室：8堂基礎課程+程式範例練習，一次學會Python的原理概念、基本語法、實作應用', 'authors': ['大澤文孝(Fumitaka Osawa)'], 'publisher': '臉譜', 'publishedDate': '2019-08-01', 'description': '————————超人氣暢銷書《演算法圖鑑》、《深度學習入門教室》系列作———————— 熱門程式語言第1名，日本暢銷Python學習入門書！ 邊做邊學，實際操作練習，享受程式設計的樂趣！ ★ 全彩圖文解說，給程式設計新手的最佳指南！ ★ 遊戲製作．GUI設計．模組活用，可從網頁下載範例！ ★ 解說書寫格式，詳述顯示文字、數值、空白、縮排的基本規則！ ★ 剖析組成程式的6大元素，逐步建構基本語法並善用函式！ ★ 學習使用Python顯示視窗的方法，建立圖形介面設計遊戲的外觀！ 【AI時代必學的基礎工具，第一次設計程式就上手！】 以往的程式設計，只是輕鬆當成興趣即可開始，但這十年間逐漸變得複雜。「程式設計真有趣！如果能讓更多人開始接觸程式設計就好了！」要感受程式設計的有趣之處，最重要的是能夠立刻動手試試，而且能立即看到結果。 最符合這項要件的，就是近年來熱門程式語言第一名「Python」。 使用Python，只需要輸入指令就能立刻執行。可用來擴充Python、稱為「模組」的功能非常豐富，對於視窗的顯示和製作PDF等，也能以很簡短的程式實現。 本書活用Python這樣的優點，簡單易懂地說明它的基本語法之後，檢視「製作猜數字遊戲」、「在視窗中移動圓形、矩形和三角形」、「使用PDF製作橫布條」等實際範例，逐步學習。 【豐富圖解一目瞭然，「匯入方式」、「書寫格式」、「運作處理機制」實際演練！】 閱讀本書時，可下載取得範例程式，一邊動手練習，一邊看著實際運作的畫面來學習。 此外，書中利用各式各樣的範例激發好奇心，鼓勵讀者發揮想像力，嘗試改良程式，進一步加深理解。舉例來說，對於影像辨識和人工智慧等等，也能以Python進行程式設計。 本書的目標是希望成為學習者開始進行程式設計的契機，感受程式設計的樂趣，打好紮實的基礎，開啟美好充實的程式設計生活。 【本書的架構】 ▌ 第1章：說明程式的作用，製作程式需要什麼、該學些什麼，精闢列舉正確操作的祕訣。 ▌ 第2章：說明執行Python程式的軟體安裝方法，了解執行指令和避免出現錯誤的基本知識。 ▌ 第3章：說明使用Python撰寫程式須遵守的規定，學習文字、數值、空白的用法等基本規則。 ▌ 第4章：學習程式語言裡的基本功能，整理說明實際應用的部分，藉由將這些功能組合起來，逐步製作出程式。 ▌ 第5章：製作「Hit & Blow」猜數字遊戲，從簡單的地方開始打好基礎，掌握應用的訣竅。 ▌ 第6章：藉由以視窗呈現「Hit & Blow」猜數字遊戲，讓它成為圖形化的成品，更像個遊戲。 ▌ 第7章：一邊撰寫於畫面上移動圓形的程式，漸進學習「類別」與「物件」的基本知識。 ▌ 第8章：學習使用PDF製作「橫布條」的方法，總複習學習成果，使用擴充模組挑戰實用的程式設計。 出版社 臉譜 (城邦)', 'readingModes': {'text': True, 'image': True}, 'maturityRating': 'NOT_MATURE', 'allowAnonLogging': True, 'contentVersion': '1.1.1.0.preview.3', 'panelizationSummary': {'containsEpubBubbles': False, 'containsImageBubbles': False}, 'imageLinks': {'smallThumbnail': 'http://books.google.com/books/content?id=DIWnDwAAQBAJ&printsec=frontcover&img=1&zoom=5&edge=curl&source=gbs_api', 'thumbnail': 'http://books.google.com/books/content?id=DIWnDwAAQBAJ&printsec=frontcover&img=1&zoom=1&edge=curl&source=gbs_api'}, 'previewLink': 'http://books.google.com.tw/books?id=DIWnDwAAQBAJ&printsec=frontcover&dq=Python&hl=&cd=1&source=gbs_api', 'infoLink': 'https://play.google.com/store/books/details?id=DIWnDwAAQBAJ&source=gbs_api', 'canonicalVolumeLink': 'https://play.google.com/store/books/details?id=DIWnDwAAQBAJ'}, 'saleInfo': {'country': 'TW', 'listPrice': {'amount': 406.0, 'currencyCode': 'TWD'}, 'retailPrice': {'amount': 276.0, 'currencyCode': 'TWD'}, 'buyLink': 'https://play.google.com/store/books/details?id=DIWnDwAAQBAJ&rdid=book-DIWnDwAAQBAJ&rdot=1&source=gbs_api', 'offers': [{'finskyOfferType': 1, 'listPrice': {'amountInMicros': 406000000.0, 'currencyCode': 'TWD'}, 'retailPrice': {'amountInMicros': 276000000.0, 'currencyCode': 'TWD'}}]}, 'accessInfo': {'country': 'TW', 'epub': {'isAvailable': True, 'acsTokenLink': 'http://books.google.com.tw/books/download/Python%E5%85%A5%E9%96%80%E6%95%99%E5%AE%A4_8%E5%A0%82%E5%9F%BA%E7%A4%8E%E8%AA%B2%E7%A8%8B+%E7%A8%8B-sample-epub.acsm?id=DIWnDwAAQBAJ&format=epub&output=acs4_fulfillment_token&dl_type=sample&source=gbs_api'}, 'pdf': {'isAvailable': True, 'acsTokenLink': 'http://books.google.com.tw/books/download/Python%E5%85%A5%E9%96%80%E6%95%99%E5%AE%A4_8%E5%A0%82%E5%9F%BA%E7%A4%8E%E8%AA%B2%E7%A8%8B+%E7%A8%8B-sample-pdf.acsm?id=DIWnDwAAQBAJ&format=pdf&output=acs4_fulfillment_token&dl_type=sample&source=gbs_api'}, 'accessViewStatus': 'SAMPLE'}, 'searchInfo': {'textSnippet': '————————超人氣暢銷書《演算法圖鑑》、《深度學習入門教室》系列作———————— 熱門程式語言第1名，日本暢銷Python學習入門書！ ...'}}, {'kind': 'books#volume', 'id': 'sa6aDwAAQBAJ', 'etag': 'AQkPBFh9qvg', 'selfLink': 'https://www.googleapis.com/books/v1/volumes/sa6aDwAAQBAJ', 'volumeInfo': {'title': 'Python基礎必修課(含MTA Python微軟國際認證模擬試題)(電子書)', 'authors': ['蔡文龍/張志成/何嘉益/張力元 編著  / 吳明哲 策劃'], 'publisher': '碁峰資訊股份有限公司', 'publishedDate': '2019-04-12', 'description': '語法解析->範例說明 ->程式設計 ->MTA詳解+APCS觀念題 ．微軟最有價值專家(MVP)與資深教師共同執筆 由MVP與科技大學教授程式設計教師共同編著，針對初學習程式設計所編寫的入門教材，適合無程式基礎以及想要學習Python的初學者，同時也是適合教師教授程式設計與訓練學生運算思維的好教材。 ．循序漸進，無痛上手 內容兼具理論與實務，由書中範例說明，問題分析、程式架構，訓練初學者邏輯思考、解決問題的能力，使初學者輕鬆邁入Python程式設計的殿堂。 ．豐富內容與實務應用 涵蓋Python開發環境建置、變數與資料型別、輸出入函式、選擇結構、重複結構、串列與集合、排序與搜尋、函式、遞迴、字典、套件使用、檔案與例外處理，數據圖表設計、視窗應用程式開發，網頁爬蟲實戰…等。為初學者建立前進大數據、機器學習與人工智慧的基礎。 ．MTA認證與APCS觀念訓練 內文講解融入MTA Python與APCS觀念題與解題技巧，同時書末整理MTA Python程式設計核心能力國際認證(MTA 98-381 Introduction to Programming Using Python)模擬試題，讓初學者程式設計訓練更加札實，同時也是教師訓練學生考取MTA Python國際認證的最佳教材。 #碁峰資訊 GOTOP', 'readingModes': {'text': False, 'image': True}, 'maturityRating': 'NOT_MATURE', 'allowAnonLogging': True, 'contentVersion': 'preview-1.0.0', 'panelizationSummary': {'containsEpubBubbles': False, 'containsImageBubbles': False}, 'imageLinks': {'smallThumbnail': 'http://books.google.com/books/content?id=sa6aDwAAQBAJ&printsec=frontcover&img=1&zoom=5&edge=curl&source=gbs_api', 'thumbnail': 'http://books.google.com/books/content?id=sa6aDwAAQBAJ&printsec=frontcover&img=1&zoom=1&edge=curl&source=gbs_api'}, 'previewLink': 'http://books.google.com.tw/books?id=sa6aDwAAQBAJ&printsec=frontcover&dq=Python&hl=&cd=2&source=gbs_api', 'infoLink': 'https://play.google.com/store/books/details?id=sa6aDwAAQBAJ&source=gbs_api', 'canonicalVolumeLink': 'https://play.google.com/store/books/details?id=sa6aDwAAQBAJ'}, 'saleInfo': {'country': 'TW', 'listPrice': {'amount': 450.0, 'currencyCode': 'TWD'}, 'retailPrice': {'amount': 306.0, 'currencyCode': 'TWD'}, 'buyLink': 'https://play.google.com/store/books/details?id=sa6aDwAAQBAJ&rdid=book-sa6aDwAAQBAJ&rdot=1&source=gbs_api', 'offers': [{'finskyOfferType': 1, 'listPrice': {'amountInMicros': 450000000.0, 'currencyCode': 'TWD'}, 'retailPrice': {'amountInMicros': 306000000.0, 'currencyCode': 'TWD'}}]}, 'accessInfo': {'country': 'TW', 'epub': {'isAvailable': False}, 'pdf': {'isAvailable': True, 'acsTokenLink': 'http://books.google.com.tw/books/download/Python%E5%9F%BA%E7%A4%8E%E5%BF%85%E4%BF%AE%E8%AA%B2_%E5%90%ABMTA_Python%E5%BE%AE-sample-pdf.acsm?id=sa6aDwAAQBAJ&format=pdf&output=acs4_fulfillment_token&dl_type=sample&source=gbs_api'}, 'accessViewStatus': 'SAMPLE'}, 'searchInfo': {'textSnippet': '語法解析-&gt;範例說明 -&gt;程式設計 -&gt;MTA詳解+APCS觀念題 ．微軟最有價值專家(MVP)與資深教師共同執筆 ...'}}, {'kind': 'books#volume', 'id': 'cZKmDwAAQBAJ', 'etag': 'kSSXPg4IRaY', 'selfLink': 'https://www.googleapis.com/books/v1/volumes/cZKmDwAAQBAJ', 'volumeInfo': {'title': 'Python初學特訓班(第三版)：從快速入門到主流應用全面實戰(電子書)', 'authors': ['鄧文淵 總監製/文淵閣工作室 編著'], 'publisher': '碁峰資訊股份有限公司', 'publishedDate': '2019-04-22', 'description': '蟬聯網路書店暢銷排行榜超過100週的Python學習新經典！ 超過萬名讀者見證與近100位老師滿意的Python書籍 榮登各大通路電腦暢銷書/海外指名授權圖書 從Python快速入門到主流應用全面實戰！ 解決初學痛點，避免開發地雷， 融入熱門主題技術， 從220個範例徹底掌握Python全面應用精髓！ Python可說是當今最熱門的程式語言，從網頁資料擷取、網站自動化測試、大數據分析、物聯網、機器學習，到駭客攻擊工具等主流議題，Python都占據了重要的地位。 本書以初學者的視角規劃學習地圖，並提供熱門主題實戰。從環境、語法、模組套件到主流技術應用，直接從實例學，讓學習者輕鬆入門，並能結合目前最受重視的實務運用，體驗Python最全面的應用魅力。 切入關鍵技術領域，快速入門與實戰！ 體驗Python的開發無極限！ ■快速佈署Python開發環境，熟悉編輯器與執行方式。 ■詳細說明Python語法，由結構、變數、資料型態、運算式及判斷式進行學習引導，再深入迴圈、串列、元組、字典與函式等基礎且重要的內容。 ■詳述近50種實用的Python模組套件，如：random、os、os.path、sys、shutil、glob、locale、ast、sqlite3、urlparse、requests、re、bs4、BeautifulSoup、urlopen、hashlib、selenium、time、matplotlib、pyplot、bokeh.plotting、json、facebook、pytube、tkinter、django、linebotapi、pandas、opencv、numpy、PIL.Image、functools、math、operator、subprocess、firebase、docx、pygame、win32com、win32com.client、areapackage.myClass、calculate、pyfirmata、Arduino、pyserial…等，分析使用方式與注意事項，並以實例演練。 ■範例導引式學習，從小範例到專題應用實例。全新修訂並擴增實作內容，從11個專案實戰貼近實務需求，即學即用即上手。 ■全面深入不同領域的應用主題，包括大數據擷取分析、網路爬蟲、公開資料應用、行動資料庫應用、資訊圖表繪製、PM2.5即時監測、自動化測試、Facebook貼文與照片下載、Office文件處理、YouTube影片下載、影音檔案控制、臉部影像辨識與驗證碼圖片破解、API應用、GUI使用者介面、大量檔案搜尋、批次檔案管理、執行排程、多媒體播放器，以及互動遊戲開發…等，將Python結合主流且新穎的應用，立即升級開發功力。 ■因應軟硬整合與物聯網應用的需求，納入Python與Arduino進行連結互動的範例，進而能運用相同的方式應用到其他的硬體與感測器。 ■新增重點技術，以及 LINE Bot聊天機器人的製作 與 自動化訂票程式 的開發專案，並學會打包專案執行檔，根據需求打造屬於自己的模組，跨入客製化強大功能的層級，提升專案開發效率。 ■針對重點內容與專題提供影音輔助教學，迅速提升學習效率。 #碁峰資訊 GOTOP', 'readingModes': {'text': False, 'image': True}, 'maturityRating': 'NOT_MATURE', 'allowAnonLogging': True, 'contentVersion': 'preview-1.0.0', 'panelizationSummary': {'containsEpubBubbles': False, 'containsImageBubbles': False}, 'imageLinks': {'smallThumbnail': 'http://books.google.com/books/content?id=cZKmDwAAQBAJ&printsec=frontcover&img=1&zoom=5&edge=curl&source=gbs_api', 'thumbnail': 'http://books.google.com/books/content?id=cZKmDwAAQBAJ&printsec=frontcover&img=1&zoom=1&edge=curl&source=gbs_api'}, 'previewLink': 'http://books.google.com.tw/books?id=cZKmDwAAQBAJ&printsec=frontcover&dq=Python&hl=&cd=3&source=gbs_api', 'infoLink': 'https://play.google.com/store/books/details?id=cZKmDwAAQBAJ&source=gbs_api', 'canonicalVolumeLink': 'https://play.google.com/store/books/details?id=cZKmDwAAQBAJ'}, 'saleInfo': {'country': 'TW', 'listPrice': {'amount': 480.0, 'currencyCode': 'TWD'}, 'retailPrice': {'amount': 326.0, 'currencyCode': 'TWD'}, 'buyLink': 'https://play.google.com/store/books/details?id=cZKmDwAAQBAJ&rdid=book-cZKmDwAAQBAJ&rdot=1&source=gbs_api', 'offers': [{'finskyOfferType': 1, 'listPrice': {'amountInMicros': 480000000.0, 'currencyCode': 'TWD'}, 'retailPrice': {'amountInMicros': 326000000.0, 'currencyCode': 'TWD'}}]}, 'accessInfo': {'country': 'TW', 'epub': {'isAvailable': False}, 'pdf': {'isAvailable': True, 'acsTokenLink': 'http://books.google.com.tw/books/download/Python%E5%88%9D%E5%AD%B8%E7%89%B9%E8%A8%93%E7%8F%AD_%E7%AC%AC%E4%B8%89%E7%89%88_%E5%BE%9E%E5%BF%AB-sample-pdf.acsm?id=cZKmDwAAQBAJ&format=pdf&output=acs4_fulfillment_token&dl_type=sample&source=gbs_api'}, 'accessViewStatus': 'SAMPLE'}, 'searchInfo': {'textSnippet': '蟬聯網路書店暢銷排行榜超過100週的Python學習新經典！ 超過萬名讀者見證與近100位老師滿意的Python書籍 榮登各大通路電腦暢銷書/海外指名授權圖書 ...'}}, {'kind': 'books#volume', 'id': '3q2gDwAAQBAJ', 'etag': 'VIsBvP5tU8I', 'selfLink': 'https://www.googleapis.com/books/v1/volumes/3q2gDwAAQBAJ', 'volumeInfo': {'title': 'Python零基礎入門班(第二版)：一次打好程式設計、運算思維與邏輯訓練基本功！(電子書)', 'authors': ['鄧文淵 總監製/文淵閣工作室 編著'], 'publisher': '碁峰資訊股份有限公司', 'publishedDate': '2019-03-21', 'description': 'Python正宗入門NO.1 一本引領數以千計讀者一探Python世界、 讓老師用了再用的暢銷基礎經典！ 大數據時代、新課綱世代 跨入程式語言，鍛鍊邏輯思維 就從Python開始學！ Python是目前最熱門的程式語言，執行功能強大，但語法卻簡潔優雅、易於學習，更方便應用在許多專案實作上。它也沒有複雜的結構，程式易讀，且易於維護。 Python的應用範圍相當廣泛，無論是資訊蒐集、大數據分析、機器學習、網站建置，甚至是遊戲開發等，都能看到它的身影。本書以零基礎學習者的視角進行規劃，從最基本的認識程式語言與環境架設切入，再進到程式設計流程的完整學習，輔以觀念圖解、表格歸納，以及流程圖，深入淺出一窺Python程式語言與設計的奧妙！ 要懂Python 就要這樣真正的入門 徹底掌握程式語言與設計的核心！ ■適合無程式設計經驗或想打好Python基礎者，從中了解運算思維精神，扎根程式設計學習，培養邏輯運算能力。循序漸進的內容涵蓋：認識運算思維、程式語言與設計、環境建置、變數、運算式、判斷式、迴圈、串列與元組、字典、函式與模組、演算法，以及檔案與例外處理…等，讓初學者無痛學習，輕鬆打好基本功。 ■精心設計100題實作範例，輔以120題綜合演練，從做中學，快速學會每個學習重點，並能應用於實際專題中。範例大小適合讀者平時的學習，或每週固定時數的教學課程。 ■融入精采的情境實例，貼近生活應用，也讓練習更有趣，如：數學運算、密碼判斷、成績評等、電影分級、百貨公司折扣戰、數字比大小、薪資計算表、成績單與業績報表列印、日期時間格式與溫度轉換、擲骰子遊戲、大樂透抽獎、搜尋中獎者、彩券對獎，以及血型個性、四季天氣、成績輸入、產品銷售、電費、世大運獎牌數與家庭支出查詢…等運用。 ■更新檔案管理、模組應用與例外處理內容，讓開發更加得心應手搭配書籍內容快速吸收，讓學習更完整。 ★「Python特訓班」暢銷經典系列四本書，簡介如下： ■「Python零基礎入門班」 本書適用無程式設計經驗，想打好程式語言基礎者，內容為程式觀念的建立與重要語法的學習+實用小範例，可一步一步紮實打好基本功。 ■「Python初學特訓班」 本書適用初學Python，想一次就從基礎跨入專案開發者，內容為基礎語法+專案實例，以快速具備Python開發力。 ■「Python大數據特訓班：資料自動化收集、整理、分析、儲存與應用實戰」 本書適用想完整學習Python資料處理三大觀念與技術「擷取分析、視覺化呈現與儲存應用」者，內容全面深入不同應用面向，如：網路爬蟲、資料正規化/視覺化/儲存與讀取…等，並以國內熱門實例進行大數據專案實作。 ■「Python架站特訓班：Django最強實戰」 本書適用想直接打造超強互動網站者，內容涵蓋正規化網站開發流程，結合資料庫，並透由主題範例實戰，架構出專業實用的網站。 只學一本，就具備Python開發力，完整學習，功力加倍更無敵! #碁峰資訊 GOTOP .', 'readingModes': {'text': False, 'image': True}, 'maturityRating': 'NOT_MATURE', 'allowAnonLogging': True, 'contentVersion': 'preview-1.0.0', 'panelizationSummary': {'containsEpubBubbles': False, 'containsImageBubbles': False}, 'imageLinks': {'smallThumbnail': 'http://books.google.com/books/content?id=3q2gDwAAQBAJ&printsec=frontcover&img=1&zoom=5&edge=curl&source=gbs_api', 'thumbnail': 'http://books.google.com/books/content?id=3q2gDwAAQBAJ&printsec=frontcover&img=1&zoom=1&edge=curl&source=gbs_api'}, 'previewLink': 'http://books.google.com.tw/books?id=3q2gDwAAQBAJ&printsec=frontcover&dq=Python&hl=&cd=4&source=gbs_api', 'infoLink': 'https://play.google.com/store/books/details?id=3q2gDwAAQBAJ&source=gbs_api', 'canonicalVolumeLink': 'https://play.google.com/store/books/details?id=3q2gDwAAQBAJ'}, 'saleInfo': {'country': 'TW', 'listPrice': {'amount': 390.0, 'currencyCode': 'TWD'}, 'retailPrice': {'amount': 265.0, 'currencyCode': 'TWD'}, 'buyLink': 'https://play.google.com/store/books/details?id=3q2gDwAAQBAJ&rdid=book-3q2gDwAAQBAJ&rdot=1&source=gbs_api', 'offers': [{'finskyOfferType': 1, 'listPrice': {'amountInMicros': 390000000.0, 'currencyCode': 'TWD'}, 'retailPrice': {'amountInMicros': 265000000.0, 'currencyCode': 'TWD'}}]}, 'accessInfo': {'country': 'TW', 'epub': {'isAvailable': False}, 'pdf': {'isAvailable': True, 'acsTokenLink': 'http://books.google.com.tw/books/download/Python%E9%9B%B6%E5%9F%BA%E7%A4%8E%E5%85%A5%E9%96%80%E7%8F%AD_%E7%AC%AC%E4%BA%8C%E7%89%88_%E4%B8%80-sample-pdf.acsm?id=3q2gDwAAQBAJ&format=pdf&output=acs4_fulfillment_token&dl_type=sample&source=gbs_api'}, 'accessViewStatus': 'SAMPLE'}, 'searchInfo': {'textSnippet': 'Python正宗入門NO.1 一本引領數以千計讀者一探Python世界、 讓老師用了再用的暢銷基礎經典！ 大數據時代、新課綱世代 跨入程式語言，鍛鍊邏輯思維 就從Python開始學！ ...'}}, {'kind': 'books#volume', 'id': 'mCrrCAAAQBAJ', 'etag': 'xpaF7nZyVs0', 'selfLink': 'https://www.googleapis.com/books/v1/volumes/mCrrCAAAQBAJ', 'volumeInfo': {'title': 'Python Scripting for Computational Science', 'authors': ['Hans Petter Langtangen'], 'publisher': 'Springer Science & Business Media', 'publishedDate': '2013-03-14', 'description': 'Scripting with Python makes you productive and increases the reliability of your scientific work. Here, the author teaches you how to develop tailored, flexible, and efficient working environments built from small programs (scripts) written in Python. The focus is on examples and applications of relevance to computational science: gluing existing applications and tools, e.g. for automating simulation, data analysis, and visualization; steering simulations and computational experiments; equipping programs with graphical user interfaces; making computational Web services; creating interactive interfaces with a Maple/Matlab-like syntax to numerical applications in C/C++ or Fortran; and building flexible object-oriented programming interfaces to existing C/C++ or Fortran libraries.', 'readingModes': {'text': False, 'image': True}, 'maturityRating': 'NOT_MATURE', 'allowAnonLogging': False, 'contentVersion': 'preview-1.0.0', 'panelizationSummary': {'containsEpubBubbles': False, 'containsImageBubbles': False}, 'imageLinks': {'smallThumbnail': 'http://books.google.com/books/content?id=mCrrCAAAQBAJ&printsec=frontcover&img=1&zoom=5&edge=curl&source=gbs_api', 'thumbnail': 'http://books.google.com/books/content?id=mCrrCAAAQBAJ&printsec=frontcover&img=1&zoom=1&edge=curl&source=gbs_api'}, 'previewLink': 'http://books.google.com.tw/books?id=mCrrCAAAQBAJ&printsec=frontcover&dq=Python&hl=&cd=5&source=gbs_api', 'infoLink': 'https://play.google.com/store/books/details?id=mCrrCAAAQBAJ&source=gbs_api', 'canonicalVolumeLink': 'https://play.google.com/store/books/details?id=mCrrCAAAQBAJ'}, 'saleInfo': {'country': 'TW', 'listPrice': {'amount': 2559.0, 'currencyCode': 'TWD'}, 'retailPrice': {'amount': 1791.0, 'currencyCode': 'TWD'}, 'buyLink': 'https://play.google.com/store/books/details?id=mCrrCAAAQBAJ&rdid=book-mCrrCAAAQBAJ&rdot=1&source=gbs_api', 'offers': [{'finskyOfferType': 1, 'listPrice': {'amountInMicros': 2559000000.0, 'currencyCode': 'TWD'}, 'retailPrice': {'amountInMicros': 1791000000.0, 'currencyCode': 'TWD'}}]}, 'accessInfo': {'country': 'TW', 'epub': {'isAvailable': False}, 'pdf': {'isAvailable': True, 'acsTokenLink': 'http://books.google.com.tw/books/download/Python_Scripting_for_Computational_Scien-sample-pdf.acsm?id=mCrrCAAAQBAJ&format=pdf&output=acs4_fulfillment_token&dl_type=sample&source=gbs_api'}, 'accessViewStatus': 'SAMPLE'}, 'searchInfo': {'textSnippet': 'Scripting with Python makes you productive and increases the reliability of your scientific work.'}}]}\n"
     ]
    }
   ],
   "source": [
    "#Ch2_4_3\n",
    "import requests \n",
    "\n",
    "url = \"https://www.googleapis.com/books/v1/volumes\"\n",
    "\n",
    "url_params = {'q': 'Python',\n",
    "              'maxResults': 5, \n",
    "              'projection': 'lite'}\n",
    "r = requests.get(url, params=url_params)\n",
    "print(r.json())"
   ]
  },
  {
   "cell_type": "code",
   "execution_count": 16,
   "metadata": {},
   "outputs": [
    {
     "name": "stdout",
     "output_type": "stream",
     "text": [
      "HTTP請求錯誤...\n"
     ]
    }
   ],
   "source": [
    "#Ch2_4_4\n",
    "import requests \n",
    "\n",
    "url = \"https://api.github.com/user\"\n",
    "\n",
    "r = requests.get(url, auth=('hueyan@ms2.hinet.net', '********'))\n",
    "if r.status_code == requests.codes.ok:\n",
    "    print(r.headers['Content-Type'])\n",
    "    print(r.json())\n",
    "else:\n",
    "    print(\"HTTP請求錯誤...\")"
   ]
  },
  {
   "cell_type": "code",
   "execution_count": 17,
   "metadata": {},
   "outputs": [
    {
     "name": "stdout",
     "output_type": "stream",
     "text": [
      "錯誤: HTTP請求已經超過時間...\n",
      "HTTPConnectionPool(host='www.google.com', port=80): Read timed out. (read timeout=0.03)\n"
     ]
    }
   ],
   "source": [
    "#Ch2_4_5\n",
    "import requests \n",
    "\n",
    "try:\n",
    "    r = requests.get(\"http://www.google.com\", timeout=0.03)\n",
    "    print(r.text)\n",
    "except requests.exceptions.Timeout as ex:\n",
    "    print(\"錯誤: HTTP請求已經超過時間...\\n\" + str(ex))\n",
    "    \n"
   ]
  },
  {
   "cell_type": "code",
   "execution_count": 18,
   "metadata": {},
   "outputs": [
    {
     "name": "stdout",
     "output_type": "stream",
     "text": [
      "Http請求錯誤: 404 Client Error: Not Found for url: http://www.google.com/404\n"
     ]
    }
   ],
   "source": [
    "#Ch2_5_1\n",
    "import requests \n",
    "\n",
    "url = 'http://www.google.com/404'\n",
    "\n",
    "try:\n",
    "    r = requests.get(url, timeout=3)\n",
    "    r.raise_for_status()\n",
    "except requests.exceptions.RequestException as ex1:\n",
    "    print(\"Http請求錯誤: \" + str(ex1))\n",
    "except requests.exceptions.HTTPError as ex2:\n",
    "    print(\"Http回應錯誤: \" + str(ex2))\n",
    "except requests.exceptions.ConnectionError as ex3:\n",
    "    print(\"網路連線錯誤: \" + str(ex3))\n",
    "except requests.exceptions.Timeout as ex4:\n",
    "    print(\"Timeout錯誤: \" + str(ex4))     \n"
   ]
  },
  {
   "cell_type": "code",
   "execution_count": 19,
   "metadata": {},
   "outputs": [
    {
     "name": "stdout",
     "output_type": "stream",
     "text": [
      "寫入檔案test.txt...\n"
     ]
    }
   ],
   "source": [
    "#Ch2_5_2\n",
    "import requests\n",
    "\n",
    "r = requests.get(\"http://hueyanchen.myweb.hinet.net/test.html\")\n",
    "r.encoding = \"utf-8\"\n",
    "\n",
    "fp = open(\"test.txt\", \"w\", encoding=\"utf8\")\n",
    "fp.write(r.text)\n",
    "print(\"寫入檔案test.txt...\")\n",
    "fp.close()\n",
    "\n"
   ]
  },
  {
   "cell_type": "code",
   "execution_count": 20,
   "metadata": {},
   "outputs": [
    {
     "name": "stdout",
     "output_type": "stream",
     "text": [
      "檔案內容:\n",
      "<html><body><h2>HTTP Server Error 503</h2><p> No available server to handle this request </p></body></html>\n"
     ]
    }
   ],
   "source": [
    "#Ch2_5_2a\n",
    "fp = open(\"test.txt\", \"r\", encoding=\"utf8\")\n",
    "str = fp.read()\n",
    "print(\"檔案內容:\")\n",
    "print(str)\n",
    "\n",
    "\n"
   ]
  },
  {
   "cell_type": "code",
   "execution_count": 21,
   "metadata": {},
   "outputs": [
    {
     "name": "stdout",
     "output_type": "stream",
     "text": [
      "檔案內容:\n",
      "<html><body><h2>HTTP Server Error 503</h2><p> No available server to handle this request </p></body></html>\n"
     ]
    }
   ],
   "source": [
    "#Ch2_5_2b\n",
    "with open(\"test.txt\", \"r\", encoding=\"utf8\") as fp:\n",
    "    str = fp.read()\n",
    "    print(\"檔案內容:\")\n",
    "    print(str)\n",
    "\n",
    "\n"
   ]
  },
  {
   "cell_type": "code",
   "execution_count": 22,
   "metadata": {},
   "outputs": [
    {
     "name": "stdout",
     "output_type": "stream",
     "text": [
      "<html><body><h2>HTTP Server Error 503</h2><p> No available server to handle this request </p></body></html>"
     ]
    }
   ],
   "source": [
    "#Ch2_5_2c\n",
    "with open(\"test.txt\", \"r\", encoding=\"utf8\") as fp:\n",
    "    list1 = fp.readlines()\n",
    "    for line in list1:\n",
    "        print(line, end=\"\")"
   ]
  },
  {
   "cell_type": "code",
   "execution_count": null,
   "metadata": {},
   "outputs": [],
   "source": []
  }
 ],
 "metadata": {
  "kernelspec": {
   "display_name": "Python 3",
   "language": "python",
   "name": "python3"
  },
  "language_info": {
   "codemirror_mode": {
    "name": "ipython",
    "version": 3
   },
   "file_extension": ".py",
   "mimetype": "text/x-python",
   "name": "python",
   "nbconvert_exporter": "python",
   "pygments_lexer": "ipython3",
   "version": "3.7.1"
  }
 },
 "nbformat": 4,
 "nbformat_minor": 2
}
