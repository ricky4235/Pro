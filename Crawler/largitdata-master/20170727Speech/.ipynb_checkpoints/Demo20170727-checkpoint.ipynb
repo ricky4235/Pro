{
 "cells": [
  {
   "cell_type": "markdown",
   "metadata": {},
   "source": [
    "## 591 網路爬蟲"
   ]
  },
  {
   "cell_type": "code",
   "execution_count": 2,
   "metadata": {
    "collapsed": false,
    "scrolled": true
   },
   "outputs": [],
   "source": [
    "import requests\n",
    "headers = {\n",
    " 'User-Agent':'Mozilla/5.0 (Windows NT 6.1; Win64; x64) AppleWebKit/537.36 (KHTML, like Gecko) Chrome/59.0.3071.115 Safari/537.36'   \n",
    "}\n",
    "res = requests.get('https://rent.591.com.tw/home/search/rsList?is_new_list=1&type=1&kind=1&searchtype=1&region=1&section=5', headers = headers)\n",
    "jd = res.json()"
   ]
  },
  {
   "cell_type": "markdown",
   "metadata": {},
   "source": [
    "## 使用Pandas 整理資料"
   ]
  },
  {
   "cell_type": "code",
   "execution_count": 3,
   "metadata": {
    "collapsed": false
   },
   "outputs": [
    {
     "data": {
      "text/html": [
       "<div>\n",
       "<table border=\"1\" class=\"dataframe\">\n",
       "  <thead>\n",
       "    <tr style=\"text-align: right;\">\n",
       "      <th></th>\n",
       "      <th>addInfo</th>\n",
       "      <th>addition2</th>\n",
       "      <th>addition3</th>\n",
       "      <th>addition4</th>\n",
       "      <th>addr_number_name</th>\n",
       "      <th>address</th>\n",
       "      <th>address_img</th>\n",
       "      <th>address_img_title</th>\n",
       "      <th>alley_name</th>\n",
       "      <th>allfloor</th>\n",
       "      <th>...</th>\n",
       "      <th>storeprice</th>\n",
       "      <th>street_name</th>\n",
       "      <th>streetid</th>\n",
       "      <th>type</th>\n",
       "      <th>unit</th>\n",
       "      <th>updatetime</th>\n",
       "      <th>user_id</th>\n",
       "      <th>vipBorder</th>\n",
       "      <th>vipimg</th>\n",
       "      <th>vipstyle</th>\n",
       "    </tr>\n",
       "  </thead>\n",
       "  <tbody>\n",
       "    <tr>\n",
       "      <th>0</th>\n",
       "      <td></td>\n",
       "      <td>0</td>\n",
       "      <td>0</td>\n",
       "      <td>1</td>\n",
       "      <td></td>\n",
       "      <td>忠孝東路三段217巷忠孝復..</td>\n",
       "      <td>忠孝復興站忠孝東路三房兩廳華廈附傢俱</td>\n",
       "      <td>忠孝復興站忠孝東路三房兩廳華廈附傢俱</td>\n",
       "      <td>217巷</td>\n",
       "      <td>7</td>\n",
       "      <td>...</td>\n",
       "      <td>0</td>\n",
       "      <td>忠孝東路三段</td>\n",
       "      <td>25636</td>\n",
       "      <td>1</td>\n",
       "      <td>元/月</td>\n",
       "      <td>1500890064</td>\n",
       "      <td>2153882</td>\n",
       "      <td>vipStyle</td>\n",
       "      <td></td>\n",
       "      <td>isvip</td>\n",
       "    </tr>\n",
       "    <tr>\n",
       "      <th>1</th>\n",
       "      <td></td>\n",
       "      <td>0</td>\n",
       "      <td>0</td>\n",
       "      <td>1</td>\n",
       "      <td></td>\n",
       "      <td>復興南路一段市民大..</td>\n",
       "      <td>市民大道微風SOGO忠孝東路</td>\n",
       "      <td>市民大道微風SOGO忠孝東路</td>\n",
       "      <td></td>\n",
       "      <td>7</td>\n",
       "      <td>...</td>\n",
       "      <td>0</td>\n",
       "      <td>復興南路一段</td>\n",
       "      <td>25660</td>\n",
       "      <td>1</td>\n",
       "      <td>元/月</td>\n",
       "      <td>1500973928</td>\n",
       "      <td>2099380</td>\n",
       "      <td>vipStyle</td>\n",
       "      <td></td>\n",
       "      <td>isvip</td>\n",
       "    </tr>\n",
       "    <tr>\n",
       "      <th>2</th>\n",
       "      <td></td>\n",
       "      <td>0</td>\n",
       "      <td>0</td>\n",
       "      <td>1</td>\n",
       "      <td></td>\n",
       "      <td>仁愛路三段123巷仁..</td>\n",
       "      <td>仁愛復興南路忠孝SOGO</td>\n",
       "      <td>仁愛復興南路忠孝SOGO</td>\n",
       "      <td>123巷</td>\n",
       "      <td>7</td>\n",
       "      <td>...</td>\n",
       "      <td>0</td>\n",
       "      <td>仁愛路三段</td>\n",
       "      <td>25616</td>\n",
       "      <td>1</td>\n",
       "      <td>元/月</td>\n",
       "      <td>1500972331</td>\n",
       "      <td>2099380</td>\n",
       "      <td>vipStyle</td>\n",
       "      <td></td>\n",
       "      <td>isvip</td>\n",
       "    </tr>\n",
       "    <tr>\n",
       "      <th>3</th>\n",
       "      <td></td>\n",
       "      <td>0</td>\n",
       "      <td>0</td>\n",
       "      <td>1</td>\n",
       "      <td></td>\n",
       "      <td>樂業街2房1廳基隆路二段..</td>\n",
       "      <td>2房1廳基隆路二段六张犁站民生國小遼寧夜</td>\n",
       "      <td>2房1廳基隆路二段六张犁站民生國小遼寧夜</td>\n",
       "      <td></td>\n",
       "      <td>4</td>\n",
       "      <td>...</td>\n",
       "      <td>0</td>\n",
       "      <td>樂業街</td>\n",
       "      <td>25674</td>\n",
       "      <td>1</td>\n",
       "      <td>元/月</td>\n",
       "      <td>1501133737</td>\n",
       "      <td>2099368</td>\n",
       "      <td>vipStyle</td>\n",
       "      <td></td>\n",
       "      <td>isvip</td>\n",
       "    </tr>\n",
       "    <tr>\n",
       "      <th>4</th>\n",
       "      <td></td>\n",
       "      <td>0</td>\n",
       "      <td>0</td>\n",
       "      <td>1</td>\n",
       "      <td></td>\n",
       "      <td>四維路52巷大安捷運300公..</td>\n",
       "      <td>大安捷運300公尺全新飯店裝潢2房1廳</td>\n",
       "      <td>大安捷運300公尺全新飯店裝潢2房1廳</td>\n",
       "      <td>52巷</td>\n",
       "      <td>5</td>\n",
       "      <td>...</td>\n",
       "      <td>0</td>\n",
       "      <td>四維路</td>\n",
       "      <td>25619</td>\n",
       "      <td>1</td>\n",
       "      <td>元/月</td>\n",
       "      <td>1500189761</td>\n",
       "      <td>289326</td>\n",
       "      <td>vipStyle</td>\n",
       "      <td></td>\n",
       "      <td>isvip</td>\n",
       "    </tr>\n",
       "  </tbody>\n",
       "</table>\n",
       "<p>5 rows × 88 columns</p>\n",
       "</div>"
      ],
      "text/plain": [
       "  addInfo  addition2  addition3  addition4 addr_number_name           address  \\\n",
       "0                  0          0          1                    忠孝東路三段217巷忠孝復..   \n",
       "1                  0          0          1                        復興南路一段市民大..   \n",
       "2                  0          0          1                       仁愛路三段123巷仁..   \n",
       "3                  0          0          1                     樂業街2房1廳基隆路二段..   \n",
       "4                  0          0          1                   四維路52巷大安捷運300公..   \n",
       "\n",
       "            address_img     address_img_title alley_name  allfloor    ...     \\\n",
       "0    忠孝復興站忠孝東路三房兩廳華廈附傢俱    忠孝復興站忠孝東路三房兩廳華廈附傢俱       217巷         7    ...      \n",
       "1        市民大道微風SOGO忠孝東路        市民大道微風SOGO忠孝東路                    7    ...      \n",
       "2          仁愛復興南路忠孝SOGO          仁愛復興南路忠孝SOGO       123巷         7    ...      \n",
       "3  2房1廳基隆路二段六张犁站民生國小遼寧夜  2房1廳基隆路二段六张犁站民生國小遼寧夜                    4    ...      \n",
       "4   大安捷運300公尺全新飯店裝潢2房1廳   大安捷運300公尺全新飯店裝潢2房1廳        52巷         5    ...      \n",
       "\n",
       "  storeprice  street_name streetid  type  unit  updatetime  user_id  \\\n",
       "0          0       忠孝東路三段    25636     1   元/月  1500890064  2153882   \n",
       "1          0       復興南路一段    25660     1   元/月  1500973928  2099380   \n",
       "2          0        仁愛路三段    25616     1   元/月  1500972331  2099380   \n",
       "3          0          樂業街    25674     1   元/月  1501133737  2099368   \n",
       "4          0          四維路    25619     1   元/月  1500189761   289326   \n",
       "\n",
       "   vipBorder vipimg  vipstyle  \n",
       "0   vipStyle            isvip  \n",
       "1   vipStyle            isvip  \n",
       "2   vipStyle            isvip  \n",
       "3   vipStyle            isvip  \n",
       "4   vipStyle            isvip  \n",
       "\n",
       "[5 rows x 88 columns]"
      ]
     },
     "execution_count": 3,
     "metadata": {},
     "output_type": "execute_result"
    }
   ],
   "source": [
    "import pandas\n",
    "df = pandas.DataFrame(jd['data']['data'])\n",
    "df.head()"
   ]
  },
  {
   "cell_type": "markdown",
   "metadata": {},
   "source": [
    "## 使用pandas 清理資料"
   ]
  },
  {
   "cell_type": "code",
   "execution_count": 4,
   "metadata": {
    "collapsed": false
   },
   "outputs": [
    {
     "data": {
      "text/html": [
       "<div>\n",
       "<table border=\"1\" class=\"dataframe\">\n",
       "  <thead>\n",
       "    <tr style=\"text-align: right;\">\n",
       "      <th></th>\n",
       "      <th>address</th>\n",
       "      <th>floor</th>\n",
       "      <th>allfloor</th>\n",
       "      <th>layout</th>\n",
       "      <th>area</th>\n",
       "      <th>price</th>\n",
       "      <th>browsenum_all</th>\n",
       "    </tr>\n",
       "  </thead>\n",
       "  <tbody>\n",
       "    <tr>\n",
       "      <th>0</th>\n",
       "      <td>忠孝東路三段217巷忠孝復..</td>\n",
       "      <td>3</td>\n",
       "      <td>7</td>\n",
       "      <td>3房2廳2衛</td>\n",
       "      <td>39.0</td>\n",
       "      <td>40,000</td>\n",
       "      <td>780</td>\n",
       "    </tr>\n",
       "    <tr>\n",
       "      <th>1</th>\n",
       "      <td>復興南路一段市民大..</td>\n",
       "      <td>4</td>\n",
       "      <td>7</td>\n",
       "      <td>2房1廳1衛</td>\n",
       "      <td>20.0</td>\n",
       "      <td>32,002</td>\n",
       "      <td>324</td>\n",
       "    </tr>\n",
       "    <tr>\n",
       "      <th>2</th>\n",
       "      <td>仁愛路三段123巷仁..</td>\n",
       "      <td>5</td>\n",
       "      <td>7</td>\n",
       "      <td>2房1廳1衛</td>\n",
       "      <td>21.0</td>\n",
       "      <td>29,036</td>\n",
       "      <td>602</td>\n",
       "    </tr>\n",
       "    <tr>\n",
       "      <th>3</th>\n",
       "      <td>樂業街2房1廳基隆路二段..</td>\n",
       "      <td>2</td>\n",
       "      <td>4</td>\n",
       "      <td>2房1廳1衛</td>\n",
       "      <td>20.0</td>\n",
       "      <td>26,006</td>\n",
       "      <td>53</td>\n",
       "    </tr>\n",
       "    <tr>\n",
       "      <th>4</th>\n",
       "      <td>四維路52巷大安捷運300公..</td>\n",
       "      <td>4</td>\n",
       "      <td>5</td>\n",
       "      <td>2房1廳1衛</td>\n",
       "      <td>22.0</td>\n",
       "      <td>34,000</td>\n",
       "      <td>5932</td>\n",
       "    </tr>\n",
       "  </tbody>\n",
       "</table>\n",
       "</div>"
      ],
      "text/plain": [
       "            address  floor  allfloor  layout  area   price  browsenum_all\n",
       "0   忠孝東路三段217巷忠孝復..      3         7  3房2廳2衛  39.0  40,000            780\n",
       "1       復興南路一段市民大..      4         7  2房1廳1衛  20.0  32,002            324\n",
       "2      仁愛路三段123巷仁..      5         7  2房1廳1衛  21.0  29,036            602\n",
       "3    樂業街2房1廳基隆路二段..      2         4  2房1廳1衛  20.0  26,006             53\n",
       "4  四維路52巷大安捷運300公..      4         5  2房1廳1衛  22.0  34,000           5932"
      ]
     },
     "execution_count": 4,
     "metadata": {},
     "output_type": "execute_result"
    }
   ],
   "source": [
    "df = df[['address', 'floor', 'allfloor', 'layout', 'area', 'price','browsenum_all']]\n",
    "df.head()"
   ]
  },
  {
   "cell_type": "code",
   "execution_count": 5,
   "metadata": {
    "collapsed": false
   },
   "outputs": [
    {
     "name": "stdout",
     "output_type": "stream",
     "text": [
      "<class 'pandas.core.frame.DataFrame'>\n",
      "RangeIndex: 30 entries, 0 to 29\n",
      "Data columns (total 7 columns):\n",
      "address          30 non-null object\n",
      "floor            30 non-null int64\n",
      "allfloor         30 non-null int64\n",
      "layout           30 non-null object\n",
      "area             30 non-null float64\n",
      "price            30 non-null object\n",
      "browsenum_all    30 non-null int64\n",
      "dtypes: float64(1), int64(3), object(3)\n",
      "memory usage: 1.7+ KB\n"
     ]
    }
   ],
   "source": [
    "df.info()"
   ]
  },
  {
   "cell_type": "code",
   "execution_count": 6,
   "metadata": {
    "collapsed": false
   },
   "outputs": [
    {
     "name": "stderr",
     "output_type": "stream",
     "text": [
      "C:\\ProgramData\\Anaconda3\\lib\\site-packages\\ipykernel\\__main__.py:1: FutureWarning: currently extract(expand=None) means expand=False (return Index/Series/DataFrame) but in a future version of pandas this will be changed to expand=True (return DataFrame)\n",
      "  if __name__ == '__main__':\n"
     ]
    }
   ],
   "source": [
    "df[['layout_bedroom', 'layout_livingroom', 'layout_bathroom']] = df['layout'].str.extract('(\\d+)房(\\d+)廳(\\d+)衛')"
   ]
  },
  {
   "cell_type": "code",
   "execution_count": 7,
   "metadata": {
    "collapsed": false
   },
   "outputs": [],
   "source": [
    "df['price'] = df['price'].map(lambda e : int(''.join(e.split(','))) )"
   ]
  },
  {
   "cell_type": "code",
   "execution_count": 8,
   "metadata": {
    "collapsed": false
   },
   "outputs": [
    {
     "data": {
      "text/html": [
       "<div>\n",
       "<table border=\"1\" class=\"dataframe\">\n",
       "  <thead>\n",
       "    <tr style=\"text-align: right;\">\n",
       "      <th></th>\n",
       "      <th>address</th>\n",
       "      <th>floor</th>\n",
       "      <th>allfloor</th>\n",
       "      <th>layout</th>\n",
       "      <th>area</th>\n",
       "      <th>price</th>\n",
       "      <th>browsenum_all</th>\n",
       "      <th>layout_bedroom</th>\n",
       "      <th>layout_livingroom</th>\n",
       "      <th>layout_bathroom</th>\n",
       "    </tr>\n",
       "  </thead>\n",
       "  <tbody>\n",
       "    <tr>\n",
       "      <th>0</th>\n",
       "      <td>忠孝東路三段217巷忠孝復..</td>\n",
       "      <td>3</td>\n",
       "      <td>7</td>\n",
       "      <td>3房2廳2衛</td>\n",
       "      <td>39.0</td>\n",
       "      <td>40000</td>\n",
       "      <td>780</td>\n",
       "      <td>3</td>\n",
       "      <td>2</td>\n",
       "      <td>2</td>\n",
       "    </tr>\n",
       "    <tr>\n",
       "      <th>1</th>\n",
       "      <td>復興南路一段市民大..</td>\n",
       "      <td>4</td>\n",
       "      <td>7</td>\n",
       "      <td>2房1廳1衛</td>\n",
       "      <td>20.0</td>\n",
       "      <td>32002</td>\n",
       "      <td>324</td>\n",
       "      <td>2</td>\n",
       "      <td>1</td>\n",
       "      <td>1</td>\n",
       "    </tr>\n",
       "    <tr>\n",
       "      <th>2</th>\n",
       "      <td>仁愛路三段123巷仁..</td>\n",
       "      <td>5</td>\n",
       "      <td>7</td>\n",
       "      <td>2房1廳1衛</td>\n",
       "      <td>21.0</td>\n",
       "      <td>29036</td>\n",
       "      <td>602</td>\n",
       "      <td>2</td>\n",
       "      <td>1</td>\n",
       "      <td>1</td>\n",
       "    </tr>\n",
       "    <tr>\n",
       "      <th>3</th>\n",
       "      <td>樂業街2房1廳基隆路二段..</td>\n",
       "      <td>2</td>\n",
       "      <td>4</td>\n",
       "      <td>2房1廳1衛</td>\n",
       "      <td>20.0</td>\n",
       "      <td>26006</td>\n",
       "      <td>53</td>\n",
       "      <td>2</td>\n",
       "      <td>1</td>\n",
       "      <td>1</td>\n",
       "    </tr>\n",
       "    <tr>\n",
       "      <th>4</th>\n",
       "      <td>四維路52巷大安捷運300公..</td>\n",
       "      <td>4</td>\n",
       "      <td>5</td>\n",
       "      <td>2房1廳1衛</td>\n",
       "      <td>22.0</td>\n",
       "      <td>34000</td>\n",
       "      <td>5932</td>\n",
       "      <td>2</td>\n",
       "      <td>1</td>\n",
       "      <td>1</td>\n",
       "    </tr>\n",
       "  </tbody>\n",
       "</table>\n",
       "</div>"
      ],
      "text/plain": [
       "            address  floor  allfloor  layout  area  price  browsenum_all  \\\n",
       "0   忠孝東路三段217巷忠孝復..      3         7  3房2廳2衛  39.0  40000            780   \n",
       "1       復興南路一段市民大..      4         7  2房1廳1衛  20.0  32002            324   \n",
       "2      仁愛路三段123巷仁..      5         7  2房1廳1衛  21.0  29036            602   \n",
       "3    樂業街2房1廳基隆路二段..      2         4  2房1廳1衛  20.0  26006             53   \n",
       "4  四維路52巷大安捷運300公..      4         5  2房1廳1衛  22.0  34000           5932   \n",
       "\n",
       "  layout_bedroom layout_livingroom layout_bathroom  \n",
       "0              3                 2               2  \n",
       "1              2                 1               1  \n",
       "2              2                 1               1  \n",
       "3              2                 1               1  \n",
       "4              2                 1               1  "
      ]
     },
     "execution_count": 8,
     "metadata": {},
     "output_type": "execute_result"
    }
   ],
   "source": [
    "df.head()"
   ]
  },
  {
   "cell_type": "markdown",
   "metadata": {},
   "source": [
    "## 將資料儲存至Excel"
   ]
  },
  {
   "cell_type": "code",
   "execution_count": 9,
   "metadata": {
    "collapsed": true
   },
   "outputs": [],
   "source": [
    "df.to_excel('rent591.xlsx')"
   ]
  },
  {
   "cell_type": "markdown",
   "metadata": {},
   "source": [
    "## 將資料儲存至SQLite"
   ]
  },
  {
   "cell_type": "code",
   "execution_count": 10,
   "metadata": {
    "collapsed": false
   },
   "outputs": [
    {
     "ename": "ValueError",
     "evalue": "Table 'renthouse591' already exists.",
     "output_type": "error",
     "traceback": [
      "\u001b[0;31m---------------------------------------------------------------------------\u001b[0m",
      "\u001b[0;31mValueError\u001b[0m                                Traceback (most recent call last)",
      "\u001b[0;32m<ipython-input-10-ed1e4e556638>\u001b[0m in \u001b[0;36m<module>\u001b[0;34m()\u001b[0m\n\u001b[1;32m      1\u001b[0m \u001b[1;32mimport\u001b[0m \u001b[0msqlite3\u001b[0m\u001b[1;33m\u001b[0m\u001b[0m\n\u001b[1;32m      2\u001b[0m \u001b[1;32mwith\u001b[0m \u001b[0msqlite3\u001b[0m\u001b[1;33m.\u001b[0m\u001b[0mconnect\u001b[0m\u001b[1;33m(\u001b[0m\u001b[1;34m'renthouse.sqlite'\u001b[0m\u001b[1;33m)\u001b[0m \u001b[1;32mas\u001b[0m \u001b[0mdb\u001b[0m\u001b[1;33m:\u001b[0m\u001b[1;33m\u001b[0m\u001b[0m\n\u001b[0;32m----> 3\u001b[0;31m     \u001b[0mdf\u001b[0m\u001b[1;33m.\u001b[0m\u001b[0mto_sql\u001b[0m\u001b[1;33m(\u001b[0m\u001b[1;34m'renthouse591'\u001b[0m\u001b[1;33m,\u001b[0m \u001b[0mcon\u001b[0m\u001b[1;33m=\u001b[0m\u001b[0mdb\u001b[0m\u001b[1;33m)\u001b[0m\u001b[1;33m\u001b[0m\u001b[0m\n\u001b[0m",
      "\u001b[0;32mC:\\ProgramData\\Anaconda3\\lib\\site-packages\\pandas\\core\\generic.py\u001b[0m in \u001b[0;36mto_sql\u001b[0;34m(self, name, con, flavor, schema, if_exists, index, index_label, chunksize, dtype)\u001b[0m\n\u001b[1;32m   1199\u001b[0m         sql.to_sql(self, name, con, flavor=flavor, schema=schema,\n\u001b[1;32m   1200\u001b[0m                    \u001b[0mif_exists\u001b[0m\u001b[1;33m=\u001b[0m\u001b[0mif_exists\u001b[0m\u001b[1;33m,\u001b[0m \u001b[0mindex\u001b[0m\u001b[1;33m=\u001b[0m\u001b[0mindex\u001b[0m\u001b[1;33m,\u001b[0m \u001b[0mindex_label\u001b[0m\u001b[1;33m=\u001b[0m\u001b[0mindex_label\u001b[0m\u001b[1;33m,\u001b[0m\u001b[1;33m\u001b[0m\u001b[0m\n\u001b[0;32m-> 1201\u001b[0;31m                    chunksize=chunksize, dtype=dtype)\n\u001b[0m\u001b[1;32m   1202\u001b[0m \u001b[1;33m\u001b[0m\u001b[0m\n\u001b[1;32m   1203\u001b[0m     \u001b[1;32mdef\u001b[0m \u001b[0mto_pickle\u001b[0m\u001b[1;33m(\u001b[0m\u001b[0mself\u001b[0m\u001b[1;33m,\u001b[0m \u001b[0mpath\u001b[0m\u001b[1;33m)\u001b[0m\u001b[1;33m:\u001b[0m\u001b[1;33m\u001b[0m\u001b[0m\n",
      "\u001b[0;32mC:\\ProgramData\\Anaconda3\\lib\\site-packages\\pandas\\io\\sql.py\u001b[0m in \u001b[0;36mto_sql\u001b[0;34m(frame, name, con, flavor, schema, if_exists, index, index_label, chunksize, dtype)\u001b[0m\n\u001b[1;32m    468\u001b[0m     pandas_sql.to_sql(frame, name, if_exists=if_exists, index=index,\n\u001b[1;32m    469\u001b[0m                       \u001b[0mindex_label\u001b[0m\u001b[1;33m=\u001b[0m\u001b[0mindex_label\u001b[0m\u001b[1;33m,\u001b[0m \u001b[0mschema\u001b[0m\u001b[1;33m=\u001b[0m\u001b[0mschema\u001b[0m\u001b[1;33m,\u001b[0m\u001b[1;33m\u001b[0m\u001b[0m\n\u001b[0;32m--> 470\u001b[0;31m                       chunksize=chunksize, dtype=dtype)\n\u001b[0m\u001b[1;32m    471\u001b[0m \u001b[1;33m\u001b[0m\u001b[0m\n\u001b[1;32m    472\u001b[0m \u001b[1;33m\u001b[0m\u001b[0m\n",
      "\u001b[0;32mC:\\ProgramData\\Anaconda3\\lib\\site-packages\\pandas\\io\\sql.py\u001b[0m in \u001b[0;36mto_sql\u001b[0;34m(self, frame, name, if_exists, index, index_label, schema, chunksize, dtype)\u001b[0m\n\u001b[1;32m   1500\u001b[0m                             \u001b[0mif_exists\u001b[0m\u001b[1;33m=\u001b[0m\u001b[0mif_exists\u001b[0m\u001b[1;33m,\u001b[0m \u001b[0mindex_label\u001b[0m\u001b[1;33m=\u001b[0m\u001b[0mindex_label\u001b[0m\u001b[1;33m,\u001b[0m\u001b[1;33m\u001b[0m\u001b[0m\n\u001b[1;32m   1501\u001b[0m                             dtype=dtype)\n\u001b[0;32m-> 1502\u001b[0;31m         \u001b[0mtable\u001b[0m\u001b[1;33m.\u001b[0m\u001b[0mcreate\u001b[0m\u001b[1;33m(\u001b[0m\u001b[1;33m)\u001b[0m\u001b[1;33m\u001b[0m\u001b[0m\n\u001b[0m\u001b[1;32m   1503\u001b[0m         \u001b[0mtable\u001b[0m\u001b[1;33m.\u001b[0m\u001b[0minsert\u001b[0m\u001b[1;33m(\u001b[0m\u001b[0mchunksize\u001b[0m\u001b[1;33m)\u001b[0m\u001b[1;33m\u001b[0m\u001b[0m\n\u001b[1;32m   1504\u001b[0m \u001b[1;33m\u001b[0m\u001b[0m\n",
      "\u001b[0;32mC:\\ProgramData\\Anaconda3\\lib\\site-packages\\pandas\\io\\sql.py\u001b[0m in \u001b[0;36mcreate\u001b[0;34m(self)\u001b[0m\n\u001b[1;32m    584\u001b[0m         \u001b[1;32mif\u001b[0m \u001b[0mself\u001b[0m\u001b[1;33m.\u001b[0m\u001b[0mexists\u001b[0m\u001b[1;33m(\u001b[0m\u001b[1;33m)\u001b[0m\u001b[1;33m:\u001b[0m\u001b[1;33m\u001b[0m\u001b[0m\n\u001b[1;32m    585\u001b[0m             \u001b[1;32mif\u001b[0m \u001b[0mself\u001b[0m\u001b[1;33m.\u001b[0m\u001b[0mif_exists\u001b[0m \u001b[1;33m==\u001b[0m \u001b[1;34m'fail'\u001b[0m\u001b[1;33m:\u001b[0m\u001b[1;33m\u001b[0m\u001b[0m\n\u001b[0;32m--> 586\u001b[0;31m                 \u001b[1;32mraise\u001b[0m \u001b[0mValueError\u001b[0m\u001b[1;33m(\u001b[0m\u001b[1;34m\"Table '%s' already exists.\"\u001b[0m \u001b[1;33m%\u001b[0m \u001b[0mself\u001b[0m\u001b[1;33m.\u001b[0m\u001b[0mname\u001b[0m\u001b[1;33m)\u001b[0m\u001b[1;33m\u001b[0m\u001b[0m\n\u001b[0m\u001b[1;32m    587\u001b[0m             \u001b[1;32melif\u001b[0m \u001b[0mself\u001b[0m\u001b[1;33m.\u001b[0m\u001b[0mif_exists\u001b[0m \u001b[1;33m==\u001b[0m \u001b[1;34m'replace'\u001b[0m\u001b[1;33m:\u001b[0m\u001b[1;33m\u001b[0m\u001b[0m\n\u001b[1;32m    588\u001b[0m                 \u001b[0mself\u001b[0m\u001b[1;33m.\u001b[0m\u001b[0mpd_sql\u001b[0m\u001b[1;33m.\u001b[0m\u001b[0mdrop_table\u001b[0m\u001b[1;33m(\u001b[0m\u001b[0mself\u001b[0m\u001b[1;33m.\u001b[0m\u001b[0mname\u001b[0m\u001b[1;33m,\u001b[0m \u001b[0mself\u001b[0m\u001b[1;33m.\u001b[0m\u001b[0mschema\u001b[0m\u001b[1;33m)\u001b[0m\u001b[1;33m\u001b[0m\u001b[0m\n",
      "\u001b[0;31mValueError\u001b[0m: Table 'renthouse591' already exists."
     ]
    }
   ],
   "source": [
    "import sqlite3\n",
    "with sqlite3.connect('renthouse.sqlite') as db:\n",
    "    df.to_sql('renthouse591', con=db, if_exists='replace')"
   ]
  },
  {
   "cell_type": "markdown",
   "metadata": {},
   "source": [
    "## 從SQLIte 讀取資料"
   ]
  },
  {
   "cell_type": "code",
   "execution_count": null,
   "metadata": {
    "collapsed": false
   },
   "outputs": [],
   "source": [
    "import sqlite3\n",
    "with sqlite3.connect('renthouse.sqlite') as db:\n",
    "    df2 = pandas.read_sql_query('select address, browsenum_all from renthouse591 limit 3', con = db)\n",
    "df2.head()"
   ]
  },
  {
   "cell_type": "code",
   "execution_count": null,
   "metadata": {
    "collapsed": false
   },
   "outputs": [],
   "source": [
    "df"
   ]
  }
 ],
 "metadata": {
  "kernelspec": {
   "display_name": "Python 3",
   "language": "python",
   "name": "python3"
  },
  "language_info": {
   "codemirror_mode": {
    "name": "ipython",
    "version": 3
   },
   "file_extension": ".py",
   "mimetype": "text/x-python",
   "name": "python",
   "nbconvert_exporter": "python",
   "pygments_lexer": "ipython3",
   "version": "3.6.0"
  }
 },
 "nbformat": 4,
 "nbformat_minor": 2
}
