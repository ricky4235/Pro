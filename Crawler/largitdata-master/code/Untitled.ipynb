{
 "cells": [
  {
   "cell_type": "code",
   "execution_count": 2,
   "metadata": {},
   "outputs": [
    {
     "data": {
      "text/plain": [
       "[<Element 'a' class=('product-list-item',) data-app='go-product' href='/product/info/171110560318#ref=d_category_327_list_1' target='_blank'>,\n",
       " <Element 'a' class=('product-list-item',) data-app='go-product' href='/product/info/171017374825#ref=d_category_327_list_2' target='_blank'>,\n",
       " <Element 'a' class=('product-list-item',) data-app='go-product' href='/product/info/160803815605#ref=d_category_327_list_3' target='_blank'>,\n",
       " <Element 'a' class=('product-list-item',) data-app='go-product' href='/product/info/171123038939#ref=d_category_327_list_4' target='_blank'>,\n",
       " <Element 'a' class=('product-list-item',) data-app='go-product' href='/product/info/180713490953#ref=d_category_327_list_5' target='_blank'>,\n",
       " <Element 'a' class=('product-list-item',) data-app='go-product' href='/product/info/171121549028#ref=d_category_327_list_6' target='_blank'>,\n",
       " <Element 'a' class=('product-list-item',) data-app='go-product' href='/product/info/170904915739#ref=d_category_327_list_7' target='_blank'>,\n",
       " <Element 'a' class=('product-list-item',) data-app='go-product' href='/product/info/170804025979#ref=d_category_327_list_8' target='_blank'>,\n",
       " <Element 'a' class=('product-list-item',) data-app='go-product' href='/product/info/180812032390#ref=d_category_327_list_9' target='_blank'>,\n",
       " <Element 'a' class=('product-list-item',) data-app='go-product' href='/product/info/180412079692#ref=d_category_327_list_10' target='_blank'>,\n",
       " <Element 'a' class=('product-list-item',) data-app='go-product' href='/product/info/180319727479#ref=d_category_327_list_11' target='_blank'>,\n",
       " <Element 'a' class=('product-list-item',) data-app='go-product' href='/product/info/171129985157#ref=d_category_327_list_12' target='_blank'>,\n",
       " <Element 'a' class=('product-list-item',) data-app='go-product' href='/product/info/180830936058#ref=d_category_327_list_13' target='_blank'>,\n",
       " <Element 'a' class=('product-list-item',) data-app='go-product' href='/product/info/171211723688#ref=d_category_327_list_14' target='_blank'>,\n",
       " <Element 'a' class=('product-list-item',) data-app='go-product' href='/product/info/180227532461#ref=d_category_327_list_15' target='_blank'>,\n",
       " <Element 'a' class=('product-list-item',) data-app='go-product' href='/product/info/161129374107#ref=d_category_327_list_16' target='_blank'>,\n",
       " <Element 'a' class=('product-list-item',) data-app='go-product' href='/product/info/180420669552#ref=d_category_327_list_17' target='_blank'>,\n",
       " <Element 'a' class=('product-list-item',) data-app='go-product' href='/product/info/171123817354#ref=d_category_327_list_18' target='_blank'>,\n",
       " <Element 'a' class=('product-list-item',) data-app='go-product' href='/product/info/171222909114#ref=d_category_327_list_19' target='_blank'>,\n",
       " <Element 'a' class=('product-list-item',) data-app='go-product' href='/product/info/181022235393#ref=d_category_327_list_20' target='_blank'>,\n",
       " <Element 'a' class=('product-list-item',) data-app='go-product' href='/product/info/161116672594#ref=d_category_327_list_21' target='_blank'>,\n",
       " <Element 'a' class=('product-list-item',) data-app='go-product' href='/product/info/171019525742#ref=d_category_327_list_22' target='_blank'>,\n",
       " <Element 'a' class=('product-list-item',) data-app='go-product' href='/product/info/160831523802#ref=d_category_327_list_23' target='_blank'>,\n",
       " <Element 'a' class=('product-list-item',) data-app='go-product' href='/product/info/171016219467#ref=d_category_327_list_24' target='_blank'>,\n",
       " <Element 'a' class=('product-list-item',) data-app='go-product' href='/product/info/180328501473#ref=d_category_327_list_25' target='_blank'>,\n",
       " <Element 'a' class=('product-list-item',) data-app='go-product' href='/product/info/180202736725#ref=d_category_327_list_26' target='_blank'>,\n",
       " <Element 'a' class=('product-list-item',) data-app='go-product' href='/product/info/181005230135#ref=d_category_327_list_27' target='_blank'>,\n",
       " <Element 'a' class=('product-list-item',) data-app='go-product' href='/product/info/181105377515#ref=d_category_327_list_28' target='_blank'>,\n",
       " <Element 'a' class=('product-list-item',) data-app='go-product' href='/product/info/180502349395#ref=d_category_327_list_29' target='_blank'>,\n",
       " <Element 'a' class=('product-list-item',) data-app='go-product' href='/product/info/181004934591#ref=d_category_327_list_30' target='_blank'>,\n",
       " <Element 'a' class=('product-list-item',) data-app='go-product' href='/product/info/170821256726#ref=d_category_327_list_31' target='_blank'>,\n",
       " <Element 'a' class=('product-list-item',) data-app='go-product' href='/product/info/180822185737#ref=d_category_327_list_32' target='_blank'>,\n",
       " <Element 'a' class=('product-list-item',) data-app='go-product' href='/product/info/181206183620#ref=d_category_327_list_33' target='_blank'>,\n",
       " <Element 'a' class=('product-list-item',) data-app='go-product' href='/product/info/170728706185#ref=d_category_327_list_34' target='_blank'>,\n",
       " <Element 'a' class=('product-list-item',) data-app='go-product' href='/product/info/180927920257#ref=d_category_327_list_35' target='_blank'>,\n",
       " <Element 'a' class=('product-list-item',) data-app='go-product' href='/product/info/171222248769#ref=d_category_327_list_36' target='_blank'>,\n",
       " <Element 'a' class=('product-list-item',) data-app='go-product' href='/product/info/180817787611#ref=d_category_327_list_37' target='_blank'>,\n",
       " <Element 'a' class=('product-list-item',) data-app='go-product' href='/product/info/170728380553#ref=d_category_327_list_38' target='_blank'>,\n",
       " <Element 'a' class=('product-list-item',) data-app='go-product' href='/product/info/180926520487#ref=d_category_327_list_39' target='_blank'>,\n",
       " <Element 'a' class=('product-list-item',) data-app='go-product' href='/product/info/170728713552#ref=d_category_327_list_40' target='_blank'>,\n",
       " <Element 'a' class=('product-list-item',) data-app='go-product' href='/product/info/180927763049#ref=d_category_327_list_41' target='_blank'>,\n",
       " <Element 'a' class=('product-list-item',) data-app='go-product' href='/product/info/181126272428#ref=d_category_327_list_42' target='_blank'>,\n",
       " <Element 'a' class=('product-list-item',) data-app='go-product' href='/product/info/180907070682#ref=d_category_327_list_43' target='_blank'>,\n",
       " <Element 'a' class=('product-list-item',) data-app='go-product' href='/product/info/180716415751#ref=d_category_327_list_44' target='_blank'>,\n",
       " <Element 'a' class=('product-list-item',) data-app='go-product' href='/product/info/181211089811#ref=d_category_327_list_45' target='_blank'>,\n",
       " <Element 'a' class=('product-list-item',) data-app='go-product' href='/product/info/171213650897#ref=d_category_327_list_46' target='_blank'>,\n",
       " <Element 'a' class=('product-list-item',) data-app='go-product' href='/product/info/170728604391#ref=d_category_327_list_47' target='_blank'>,\n",
       " <Element 'a' class=('product-list-item',) data-app='go-product' href='/product/info/180316249665#ref=d_category_327_list_48' target='_blank'>,\n",
       " <Element 'a' class=('product-list-item',) data-app='go-product' href='/product/info/181113234175#ref=d_category_327_list_49' target='_blank'>,\n",
       " <Element 'a' class=('product-list-item',) data-app='go-product' href='/product/info/181130354116#ref=d_category_327_list_50' target='_blank'>,\n",
       " <Element 'a' class=('product-list-item',) data-app='go-product' href='/product/info/171201266197#ref=d_category_327_list_51' target='_blank'>,\n",
       " <Element 'a' class=('product-list-item',) data-app='go-product' href='/product/info/181003483193#ref=d_category_327_list_52' target='_blank'>,\n",
       " <Element 'a' class=('product-list-item',) data-app='go-product' href='/product/info/181012535974#ref=d_category_327_list_53' target='_blank'>,\n",
       " <Element 'a' class=('product-list-item',) data-app='go-product' href='/product/info/181012659095#ref=d_category_327_list_54' target='_blank'>,\n",
       " <Element 'a' class=('product-list-item',) data-app='go-product' href='/product/info/181106598475#ref=d_category_327_list_55' target='_blank'>,\n",
       " <Element 'a' class=('product-list-item',) data-app='go-product' href='/product/info/181120588306#ref=d_category_327_list_56' target='_blank'>,\n",
       " <Element 'a' class=('product-list-item',) data-app='go-product' href='/product/info/181107972530#ref=d_category_327_list_57' target='_blank'>,\n",
       " <Element 'a' class=('product-list-item',) data-app='go-product' href='/product/info/171213567750#ref=d_category_327_list_58' target='_blank'>,\n",
       " <Element 'a' class=('product-list-item',) data-app='go-product' href='/product/info/181102797012#ref=d_category_327_list_59' target='_blank'>,\n",
       " <Element 'a' class=('product-list-item',) data-app='go-product' href='/product/info/181017257196#ref=d_category_327_list_60' target='_blank'>,\n",
       " <Element 'a' class=('product-list-item',) data-app='go-product' href='/product/info/181204936842#ref=d_category_327_list_61' target='_blank'>]"
      ]
     },
     "execution_count": 2,
     "metadata": {},
     "output_type": "execute_result"
    }
   ],
   "source": [
    "# 載入相關套件\n",
    "import requests\n",
    "from requests_html import HTML\n",
    "import pandas as pd\n",
    "import re\n",
    "\n",
    "# 輸入爬蟲網址與使用者資訊\n",
    "url = 'https://www.pcone.com.tw/product/'\n",
    "# 男生服飾\n",
    "info = '327' \n",
    "\n",
    "# 加入使用者資訊(如使用什麼瀏覽器、作業系統...等資訊)模擬真實瀏覽網頁的情況\n",
    "headers = {'User-Agent': 'Mozilla/5.0 (Macintosh; Intel Mac OS X 10_11_5) AppleWebKit/537.36 (KHTML, like Gecko) Chrome/50.0.2661.102 Safari/537.36'}\n",
    "\n",
    "# 檢視是否成功抓到資料\n",
    "resp = requests.get(url + info, headers=headers)  \n",
    "html = HTML(html=resp.text)\n",
    "a = html.find('a.product-list-item')\n",
    "a"
   ]
  },
  {
   "cell_type": "code",
   "execution_count": 6,
   "metadata": {},
   "outputs": [
    {
     "data": {
      "text/plain": [
       "<HTML url='https://example.org/'>"
      ]
     },
     "execution_count": 6,
     "metadata": {},
     "output_type": "execute_result"
    }
   ],
   "source": [
    "# 挑選第一筆資料作為範例\n",
    "resp = requests.get('https://www.pcone.com.tw/' + a[0].attrs['href'], headers=headers)\n",
    "html = HTML(html=resp.text)\n",
    "html\n"
   ]
  },
  {
   "cell_type": "code",
   "execution_count": null,
   "metadata": {},
   "outputs": [],
   "source": [
    "# 店家名稱\n",
    "html.find('a.store-name',first = True).text\n",
    "# 店家商品數量\n",
    "html.find('div.store-val',first = False)[0].attrs['data-val']\n",
    "# 店家評價\n",
    "html.find('div.store-val',first = False)[1].attrs['data-val']\n",
    "# 店家出貨天數\n",
    "html.find('div.store-val',first = False)[2].attrs['data-val']\n",
    "# 店家回覆率\n",
    "html.find('div.store-val',first = False)[3].attrs['data-val']\n",
    "# 產品名稱\n",
    "html.find('h1.product-name',first = True).text\n",
    "# 特價\n",
    "html.find('span.bind-lowest-price.discount',first = True).text\n",
    "# 原價\n",
    "html.find('span.original',first = True).text\n",
    "# 折數\n",
    "html.find('span.bind-discount-number.discount-number',first = True).text\n",
    "# 商品評分\n",
    "html.find('span.count > span',first = False)[0].text\n",
    "# 評價人數\n",
    "html.find('span.count > span',first = False)[1].text\n",
    "# 收藏人數\n",
    "html.find('div.count',first = False)[0].text\n",
    "# 提問人數\n",
    "html.find('div.count',first = False)[1].text\n",
    "# 商品分類\n",
    "html.find('div.breadcrumbs-set',first = True).text\n",
    "# 商品標籤\n",
    "html.find('div.tags',first = True).text\n",
    "# 商品連結\n",
    "'https://www.pcone.com.tw' + a[0].attrs['href']"
   ]
  }
 ],
 "metadata": {
  "kernelspec": {
   "display_name": "Python 3",
   "language": "python",
   "name": "python3"
  },
  "language_info": {
   "codemirror_mode": {
    "name": "ipython",
    "version": 3
   },
   "file_extension": ".py",
   "mimetype": "text/x-python",
   "name": "python",
   "nbconvert_exporter": "python",
   "pygments_lexer": "ipython3",
   "version": "3.7.1"
  }
 },
 "nbformat": 4,
 "nbformat_minor": 2
}
