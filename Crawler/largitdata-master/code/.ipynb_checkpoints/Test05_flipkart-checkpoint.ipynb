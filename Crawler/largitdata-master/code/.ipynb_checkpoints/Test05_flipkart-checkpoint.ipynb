{
 "cells": [
  {
   "cell_type": "code",
   "execution_count": null,
   "metadata": {},
   "outputs": [],
   "source": [
    "import requests\n",
    "from bs4 import BeautifulSoup\n",
    "import time\n",
    "import csv\n",
    "import pandas as pd\n",
    "import numpy as np\n",
    "import matplotlib.pyplot as plt\n",
    "\n",
    "url = 'https://www.amazon.com/s?k={0}&page={1}&qid=1583476177&ref=sr_pg_{1}'  #{0}:format後的第一個位置、{1}:第二個\n",
    "\n",
    "\n",
    "res = requests.get(url)\n",
    "soup = BeautifulSoup(res.text, 'lxml') #常用的解析器有三種：\"lxml\",\"html5lib\",\"html.parser\"，官方建議使用解析速度較快的\"lxml\"\n",
    "soup\n",
    "\n",
    "tags = soup.find('div', attrs={'class':'_1HmYoV _35HD7C', 'style':'flex-grow:1;overflow:auto'}).find_all('div', '_3liAhj')\n",
    "\n",
    "goods = []\n",
    "for tag in tags:\n",
    "    try:\n",
    "        name = tag.find('a', '_2cLu-l').text\n",
    "    except:\n",
    "        name = None\n",
    "    try:\n",
    "        star = tag.find('div', 'hGSR34').text\n",
    "    except:\n",
    "        star = None\n",
    "    try:\n",
    "        reviews = tag.find('span', '_38sUEc').text\n",
    "    except:\n",
    "        reviews = None\n",
    "    try:\n",
    "        price = tag.find('div', '_1vC4OE').text\n",
    "    except:\n",
    "        price = None\n",
    "    try:\n",
    "        Original_price = tag.find('div', '_3auQ3N').text\n",
    "    except:\n",
    "        Original_price = None\n",
    "    try:\n",
    "        reviews = tag.find('div', 'VGWI6T').text\n",
    "    except:\n",
    "        reviews = None\n",
    "\n",
    "    good = [name, star, reviews, price, Original_price, reviews]\n",
    "    goods.append(good)\n",
    "\n",
    "df = pd.DataFrame(goods)\n",
    "df.columns = [['name', 'star', 'reviews', 'price', 'Original_price', 'reviews']]\n",
    "df"
   ]
  }
 ],
 "metadata": {
  "kernelspec": {
   "display_name": "Python 3",
   "language": "python",
   "name": "python3"
  },
  "language_info": {
   "codemirror_mode": {
    "name": "ipython",
    "version": 3
   },
   "file_extension": ".py",
   "mimetype": "text/x-python",
   "name": "python",
   "nbconvert_exporter": "python",
   "pygments_lexer": "ipython3",
   "version": "3.7.1"
  }
 },
 "nbformat": 4,
 "nbformat_minor": 2
}
