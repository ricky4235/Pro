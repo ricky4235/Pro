{
 "cells": [
  {
   "cell_type": "code",
   "execution_count": 7,
   "metadata": {},
   "outputs": [],
   "source": [
    "from selenium import webdriver\n",
    "driver = webdriver.Chrome('./chromedriver')\n",
    "driver.get('https://www.google.com')"
   ]
  },
  {
   "cell_type": "code",
   "execution_count": 8,
   "metadata": {},
   "outputs": [],
   "source": [
    "q  = driver.find_element_by_name('q')\n",
    "q.send_keys('大數軟體')"
   ]
  },
  {
   "cell_type": "code",
   "execution_count": 9,
   "metadata": {},
   "outputs": [],
   "source": [
    "from selenium.webdriver.common.keys import Keys\n",
    "q.send_keys(Keys.RETURN)"
   ]
  },
  {
   "cell_type": "code",
   "execution_count": 10,
   "metadata": {},
   "outputs": [],
   "source": [
    "from bs4 import BeautifulSoup\n",
    "soup = BeautifulSoup(driver.page_source, 'lxml')"
   ]
  },
  {
   "cell_type": "code",
   "execution_count": 13,
   "metadata": {},
   "outputs": [
    {
     "name": "stdout",
     "output_type": "stream",
     "text": [
      "LargitData 大數軟體有限公司InfoMiner 即時輿情分析平台\n",
      "大數軟體有限公司<工作與薪資福利簡介>  104人力銀行\n",
      "大數軟體有限公司- YouTube\n",
      "大數軟體LargitData - 優質新創人才招募中\n",
      "LargitData - 大數軟體- 首頁| Facebook\n",
      "大數軟體有限公司| Garage+\n",
      "丘祐瑋看好趨勢當台灣網路輿情界專家| 大數| 尋找隱形冠軍 ...\n",
      "大數軟體有限公司【工作職缺及徵才簡介】1111人力銀行\n",
      "大數軟體有限公司｜ MeetHub - MeetHub｜創業社群交流平台\n"
     ]
    }
   ],
   "source": [
    "for ele in soup.select('.S3Uucc'):\n",
    "    print(ele.text)"
   ]
  },
  {
   "cell_type": "code",
   "execution_count": 15,
   "metadata": {},
   "outputs": [],
   "source": [
    "driver.find_element_by_link_text('下一頁').click()"
   ]
  },
  {
   "cell_type": "code",
   "execution_count": 17,
   "metadata": {},
   "outputs": [
    {
     "name": "stdout",
     "output_type": "stream",
     "text": [
      "大數軟體有限公司得標案件- 開放政府標案\n",
      "大數軟體有限公司- 台灣雲端物聯網產業協會\n",
      "PowerPoint 簡報 - 跨域數位人才加速躍升計畫\n",
      "【爭取政府補助個人50%中】Python資料分析與機器學習實戰_ ...\n",
      "搜尋【大數軟體】 | Shopping Design\n",
      "臺南市政府民政局-決標公告[標案案號]31070007[標案名稱]107 ...\n",
      "大數軟體有限公司- 台北電子商務, 地址:台北市中山區南京東路 ...\n",
      "丘祐瑋-Python網路爬蟲技術實作課程| 三星統計\n",
      "【14天解完新手村任務】我的爬蟲初心者心得- Alan Syue - Medium\n",
      "資料爬取實習生| 好人網\n",
      "大數軟體有限公司得標案件- 開放政府標案\n",
      "大數軟體有限公司- 台灣雲端物聯網產業協會\n",
      "PowerPoint 簡報 - 跨域數位人才加速躍升計畫\n",
      "【爭取政府補助個人50%中】Python資料分析與機器學習實戰_ ...\n",
      "搜尋【大數軟體】 | Shopping Design\n",
      "臺南市政府民政局-決標公告[標案案號]31070007[標案名稱]107 ...\n",
      "大數軟體有限公司- 台北電子商務, 地址:台北市中山區南京東路 ...\n",
      "丘祐瑋-Python網路爬蟲技術實作課程| 三星統計\n",
      "【14天解完新手村任務】我的爬蟲初心者心得- Alan Syue - Medium\n",
      "資料爬取實習生| 好人網\n",
      "大數軟體有限公司得標案件- 開放政府標案\n",
      "大數軟體有限公司- 台灣雲端物聯網產業協會\n",
      "PowerPoint 簡報 - 跨域數位人才加速躍升計畫\n",
      "【爭取政府補助個人50%中】Python資料分析與機器學習實戰_ ...\n",
      "搜尋【大數軟體】 | Shopping Design\n",
      "臺南市政府民政局-決標公告[標案案號]31070007[標案名稱]107 ...\n",
      "大數軟體有限公司- 台北電子商務, 地址:台北市中山區南京東路 ...\n",
      "丘祐瑋-Python網路爬蟲技術實作課程| 三星統計\n",
      "【14天解完新手村任務】我的爬蟲初心者心得- Alan Syue - Medium\n",
      "資料爬取實習生| 好人網\n"
     ]
    }
   ],
   "source": [
    "import time\n",
    "for p in range(3):\n",
    "    driver.find_element_by_link_text('下一頁').click()\n",
    "    soup = BeautifulSoup(driver.page_source, 'lxml')\n",
    "    for ele in soup.select('.S3Uucc'):\n",
    "        print(ele.text)\n",
    "    time.sleep(1)"
   ]
  },
  {
   "cell_type": "code",
   "execution_count": null,
   "metadata": {},
   "outputs": [],
   "source": []
  }
 ],
 "metadata": {
  "kernelspec": {
   "display_name": "Python 3",
   "language": "python",
   "name": "python3"
  },
  "language_info": {
   "codemirror_mode": {
    "name": "ipython",
    "version": 3
   },
   "file_extension": ".py",
   "mimetype": "text/x-python",
   "name": "python",
   "nbconvert_exporter": "python",
   "pygments_lexer": "ipython3",
   "version": "3.7.1"
  }
 },
 "nbformat": 4,
 "nbformat_minor": 2
}
