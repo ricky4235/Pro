{
 "cells": [
  {
   "cell_type": "markdown",
   "metadata": {},
   "source": [
    "## 網路爬蟲範例"
   ]
  },
  {
   "cell_type": "code",
   "execution_count": null,
   "metadata": {
    "collapsed": true
   },
   "outputs": [],
   "source": [
    "import requests\n",
    "from bs4 import BeautifulSoup \n",
    "res = requests.get('http://esf.sh.fang.com/')\n",
    "res.encoding = 'GB2312'\n",
    "soup = BeautifulSoup(res.text, 'html.parser')\n",
    "for house in soup.select('.houseList .info.rel'):\n",
    "    title = house.select('a')[0].text.strip()\n",
    "    price = house.select('.price')[0].text.strip()\n",
    "    print(title, price)"
   ]
  },
  {
   "cell_type": "markdown",
   "metadata": {},
   "source": [
    "## 使用Pandas 整理資料"
   ]
  },
  {
   "cell_type": "code",
   "execution_count": null,
   "metadata": {
    "collapsed": true
   },
   "outputs": [],
   "source": [
    "import pandas\n",
    "ary = []\n",
    "for house in soup.select('.houseList .info.rel'):\n",
    "    title = house.select('a')[0].text.strip()\n",
    "    price = house.select('.price')[0].text.strip()\n",
    "    ary.append({'title':title, 'price':price})\n",
    "df = pandas.DataFrame(ary)\n",
    "df.to_excel('house.xlsx')"
   ]
  },
  {
   "cell_type": "markdown",
   "metadata": {},
   "source": [
    "## 將資料存進資料庫"
   ]
  },
  {
   "cell_type": "code",
   "execution_count": null,
   "metadata": {
    "collapsed": true
   },
   "outputs": [],
   "source": [
    "#將資料存進SQLIte\n",
    "import sqlite3 \n",
    "with sqlite3.connect('house.sqlite') as db:\n",
    "    df.to_sql('house', con = db)"
   ]
  },
  {
   "cell_type": "code",
   "execution_count": null,
   "metadata": {
    "collapsed": true
   },
   "outputs": [],
   "source": [
    "#從SQLite 讀取資料\n",
    "with sqlite3.connect('house.sqlite') as db:\n",
    "    df2 = pandas.read_sql_query('select * from house', con = db)\n",
    "df2.head()"
   ]
  },
  {
   "cell_type": "markdown",
   "metadata": {},
   "source": [
    "## 讀取訓練資料集"
   ]
  },
  {
   "cell_type": "code",
   "execution_count": 1,
   "metadata": {
    "collapsed": false,
    "scrolled": true
   },
   "outputs": [
    {
     "data": {
      "text/plain": [
       "Index(['Unnamed: 0', 'Creditability', 'Account.Balance',\n",
       "       'Duration.of.Credit..month.', 'Payment.Status.of.Previous.Credit',\n",
       "       'Purpose', 'Credit.Amount', 'Value.Savings.Stocks',\n",
       "       'Length.of.current.employment', 'Instalment.per.cent',\n",
       "       'Sex...Marital.Status', 'Guarantors', 'Duration.in.Current.address',\n",
       "       'Most.valuable.available.asset', 'Age..years.', 'Concurrent.Credits',\n",
       "       'Type.of.apartment', 'No.of.Credits.at.this.Bank', 'Occupation',\n",
       "       'No.of.dependents', 'Telephone', 'Foreign.Worker'],\n",
       "      dtype='object')"
      ]
     },
     "execution_count": 1,
     "metadata": {},
     "output_type": "execute_result"
    }
   ],
   "source": [
    "import pandas as pd\n",
    "trainset = pd.read_csv('Training50.csv')\n",
    "trainset.columns"
   ]
  },
  {
   "cell_type": "code",
   "execution_count": 2,
   "metadata": {
    "collapsed": false
   },
   "outputs": [
    {
     "data": {
      "text/plain": [
       "False"
      ]
     },
     "execution_count": 2,
     "metadata": {},
     "output_type": "execute_result"
    }
   ],
   "source": [
    "trainset.isnull().values.any()"
   ]
  },
  {
   "cell_type": "code",
   "execution_count": 3,
   "metadata": {
    "collapsed": false
   },
   "outputs": [
    {
     "data": {
      "text/html": [
       "<div>\n",
       "<table border=\"1\" class=\"dataframe\">\n",
       "  <thead>\n",
       "    <tr style=\"text-align: right;\">\n",
       "      <th></th>\n",
       "      <th>Unnamed: 0</th>\n",
       "      <th>Creditability</th>\n",
       "      <th>Account.Balance</th>\n",
       "      <th>Duration.of.Credit..month.</th>\n",
       "      <th>Payment.Status.of.Previous.Credit</th>\n",
       "      <th>Purpose</th>\n",
       "      <th>Credit.Amount</th>\n",
       "      <th>Value.Savings.Stocks</th>\n",
       "      <th>Length.of.current.employment</th>\n",
       "      <th>Instalment.per.cent</th>\n",
       "      <th>...</th>\n",
       "      <th>Duration.in.Current.address</th>\n",
       "      <th>Most.valuable.available.asset</th>\n",
       "      <th>Age..years.</th>\n",
       "      <th>Concurrent.Credits</th>\n",
       "      <th>Type.of.apartment</th>\n",
       "      <th>No.of.Credits.at.this.Bank</th>\n",
       "      <th>Occupation</th>\n",
       "      <th>No.of.dependents</th>\n",
       "      <th>Telephone</th>\n",
       "      <th>Foreign.Worker</th>\n",
       "    </tr>\n",
       "  </thead>\n",
       "  <tbody>\n",
       "    <tr>\n",
       "      <th>0</th>\n",
       "      <td>497</td>\n",
       "      <td>1</td>\n",
       "      <td>3</td>\n",
       "      <td>6</td>\n",
       "      <td>2</td>\n",
       "      <td>3</td>\n",
       "      <td>2108</td>\n",
       "      <td>1</td>\n",
       "      <td>3</td>\n",
       "      <td>2</td>\n",
       "      <td>...</td>\n",
       "      <td>2</td>\n",
       "      <td>1</td>\n",
       "      <td>29</td>\n",
       "      <td>2</td>\n",
       "      <td>1</td>\n",
       "      <td>1</td>\n",
       "      <td>1</td>\n",
       "      <td>1</td>\n",
       "      <td>1</td>\n",
       "      <td>1</td>\n",
       "    </tr>\n",
       "    <tr>\n",
       "      <th>1</th>\n",
       "      <td>756</td>\n",
       "      <td>0</td>\n",
       "      <td>1</td>\n",
       "      <td>15</td>\n",
       "      <td>1</td>\n",
       "      <td>4</td>\n",
       "      <td>950</td>\n",
       "      <td>1</td>\n",
       "      <td>4</td>\n",
       "      <td>4</td>\n",
       "      <td>...</td>\n",
       "      <td>3</td>\n",
       "      <td>3</td>\n",
       "      <td>33</td>\n",
       "      <td>2</td>\n",
       "      <td>1</td>\n",
       "      <td>2</td>\n",
       "      <td>1</td>\n",
       "      <td>2</td>\n",
       "      <td>1</td>\n",
       "      <td>1</td>\n",
       "    </tr>\n",
       "    <tr>\n",
       "      <th>2</th>\n",
       "      <td>580</td>\n",
       "      <td>0</td>\n",
       "      <td>1</td>\n",
       "      <td>42</td>\n",
       "      <td>2</td>\n",
       "      <td>3</td>\n",
       "      <td>7174</td>\n",
       "      <td>4</td>\n",
       "      <td>3</td>\n",
       "      <td>4</td>\n",
       "      <td>...</td>\n",
       "      <td>3</td>\n",
       "      <td>3</td>\n",
       "      <td>30</td>\n",
       "      <td>2</td>\n",
       "      <td>2</td>\n",
       "      <td>1</td>\n",
       "      <td>1</td>\n",
       "      <td>1</td>\n",
       "      <td>2</td>\n",
       "      <td>1</td>\n",
       "    </tr>\n",
       "    <tr>\n",
       "      <th>3</th>\n",
       "      <td>833</td>\n",
       "      <td>0</td>\n",
       "      <td>3</td>\n",
       "      <td>36</td>\n",
       "      <td>3</td>\n",
       "      <td>4</td>\n",
       "      <td>7980</td>\n",
       "      <td>4</td>\n",
       "      <td>1</td>\n",
       "      <td>4</td>\n",
       "      <td>...</td>\n",
       "      <td>4</td>\n",
       "      <td>3</td>\n",
       "      <td>27</td>\n",
       "      <td>2</td>\n",
       "      <td>1</td>\n",
       "      <td>2</td>\n",
       "      <td>1</td>\n",
       "      <td>1</td>\n",
       "      <td>2</td>\n",
       "      <td>1</td>\n",
       "    </tr>\n",
       "    <tr>\n",
       "      <th>4</th>\n",
       "      <td>602</td>\n",
       "      <td>1</td>\n",
       "      <td>3</td>\n",
       "      <td>24</td>\n",
       "      <td>3</td>\n",
       "      <td>2</td>\n",
       "      <td>2028</td>\n",
       "      <td>1</td>\n",
       "      <td>3</td>\n",
       "      <td>2</td>\n",
       "      <td>...</td>\n",
       "      <td>2</td>\n",
       "      <td>2</td>\n",
       "      <td>30</td>\n",
       "      <td>2</td>\n",
       "      <td>2</td>\n",
       "      <td>2</td>\n",
       "      <td>1</td>\n",
       "      <td>1</td>\n",
       "      <td>1</td>\n",
       "      <td>1</td>\n",
       "    </tr>\n",
       "  </tbody>\n",
       "</table>\n",
       "<p>5 rows × 22 columns</p>\n",
       "</div>"
      ],
      "text/plain": [
       "   Unnamed: 0  Creditability  Account.Balance  Duration.of.Credit..month.  \\\n",
       "0         497              1                3                           6   \n",
       "1         756              0                1                          15   \n",
       "2         580              0                1                          42   \n",
       "3         833              0                3                          36   \n",
       "4         602              1                3                          24   \n",
       "\n",
       "   Payment.Status.of.Previous.Credit  Purpose  Credit.Amount  \\\n",
       "0                                  2        3           2108   \n",
       "1                                  1        4            950   \n",
       "2                                  2        3           7174   \n",
       "3                                  3        4           7980   \n",
       "4                                  3        2           2028   \n",
       "\n",
       "   Value.Savings.Stocks  Length.of.current.employment  Instalment.per.cent  \\\n",
       "0                     1                             3                    2   \n",
       "1                     1                             4                    4   \n",
       "2                     4                             3                    4   \n",
       "3                     4                             1                    4   \n",
       "4                     1                             3                    2   \n",
       "\n",
       "        ...        Duration.in.Current.address  Most.valuable.available.asset  \\\n",
       "0       ...                                  2                              1   \n",
       "1       ...                                  3                              3   \n",
       "2       ...                                  3                              3   \n",
       "3       ...                                  4                              3   \n",
       "4       ...                                  2                              2   \n",
       "\n",
       "   Age..years.  Concurrent.Credits  Type.of.apartment  \\\n",
       "0           29                   2                  1   \n",
       "1           33                   2                  1   \n",
       "2           30                   2                  2   \n",
       "3           27                   2                  1   \n",
       "4           30                   2                  2   \n",
       "\n",
       "   No.of.Credits.at.this.Bank  Occupation  No.of.dependents  Telephone  \\\n",
       "0                           1           1                 1          1   \n",
       "1                           2           1                 2          1   \n",
       "2                           1           1                 1          2   \n",
       "3                           2           1                 1          2   \n",
       "4                           2           1                 1          1   \n",
       "\n",
       "   Foreign.Worker  \n",
       "0               1  \n",
       "1               1  \n",
       "2               1  \n",
       "3               1  \n",
       "4               1  \n",
       "\n",
       "[5 rows x 22 columns]"
      ]
     },
     "execution_count": 3,
     "metadata": {},
     "output_type": "execute_result"
    }
   ],
   "source": [
    "trainset.head()"
   ]
  },
  {
   "cell_type": "code",
   "execution_count": 4,
   "metadata": {
    "collapsed": false
   },
   "outputs": [],
   "source": [
    "cat_var = [u'Account.Balance', u'Payment.Status.of.Previous.Credit',\n",
    "       u'Purpose', u'Value.Savings.Stocks',\n",
    "       u'Length.of.current.employment', u'Instalment.per.cent',\n",
    "       u'Sex...Marital.Status', u'Guarantors', u'Duration.in.Current.address',\n",
    "       u'Most.valuable.available.asset', u'Concurrent.Credits',\n",
    "       u'Type.of.apartment', u'No.of.Credits.at.this.Bank', u'Occupation',\n",
    "       u'No.of.dependents', u'Telephone', u'Foreign.Worker']\n",
    "\n",
    "num_var = [u'Duration.of.Credit..month.', u'Credit.Amount', u'Age..years.']"
   ]
  },
  {
   "cell_type": "code",
   "execution_count": 5,
   "metadata": {
    "collapsed": false
   },
   "outputs": [],
   "source": [
    "train_df = trainset['Creditability']\n",
    "\n",
    "for var in cat_var:\n",
    "    train_df = pd.concat([train_df,pd.get_dummies(trainset[var])],axis=1)\n",
    "\n",
    "train_df = pd.concat([train_df,trainset[num_var]],axis=1)"
   ]
  },
  {
   "cell_type": "markdown",
   "metadata": {},
   "source": [
    "## 讀取測試資料集"
   ]
  },
  {
   "cell_type": "code",
   "execution_count": 6,
   "metadata": {
    "collapsed": false
   },
   "outputs": [
    {
     "data": {
      "text/plain": [
       "Index(['Unnamed: 0', 'Creditability', 'Account.Balance',\n",
       "       'Duration.of.Credit..month.', 'Payment.Status.of.Previous.Credit',\n",
       "       'Purpose', 'Credit.Amount', 'Value.Savings.Stocks',\n",
       "       'Length.of.current.employment', 'Instalment.per.cent',\n",
       "       'Sex...Marital.Status', 'Guarantors', 'Duration.in.Current.address',\n",
       "       'Most.valuable.available.asset', 'Age..years.', 'Concurrent.Credits',\n",
       "       'Type.of.apartment', 'No.of.Credits.at.this.Bank', 'Occupation',\n",
       "       'No.of.dependents', 'Telephone', 'Foreign.Worker'],\n",
       "      dtype='object')"
      ]
     },
     "execution_count": 6,
     "metadata": {},
     "output_type": "execute_result"
    }
   ],
   "source": [
    "import pandas as pd\n",
    "testset = pd.read_csv('Test50.csv')\n",
    "testset.columns"
   ]
  },
  {
   "cell_type": "code",
   "execution_count": 7,
   "metadata": {
    "collapsed": true
   },
   "outputs": [],
   "source": [
    "testset = pd.read_csv('Test50.csv')"
   ]
  },
  {
   "cell_type": "code",
   "execution_count": 8,
   "metadata": {
    "collapsed": true
   },
   "outputs": [],
   "source": [
    "cat_var = [u'Account.Balance', u'Payment.Status.of.Previous.Credit',\n",
    "       u'Purpose', u'Value.Savings.Stocks',\n",
    "       u'Length.of.current.employment', u'Instalment.per.cent',\n",
    "       u'Sex...Marital.Status', u'Guarantors', u'Duration.in.Current.address',\n",
    "       u'Most.valuable.available.asset', u'Concurrent.Credits',\n",
    "       u'Type.of.apartment', u'No.of.Credits.at.this.Bank', u'Occupation',\n",
    "       u'No.of.dependents', u'Telephone', u'Foreign.Worker']\n",
    "\n",
    "num_var = [u'Duration.of.Credit..month.', u'Credit.Amount', u'Age..years.']"
   ]
  },
  {
   "cell_type": "code",
   "execution_count": 9,
   "metadata": {
    "collapsed": false
   },
   "outputs": [],
   "source": [
    "test_df = testset['Creditability']\n",
    "\n",
    "for var in cat_var:\n",
    "    test_df = pd.concat([test_df,pd.get_dummies(testset[var])],axis=1)\n",
    "\n",
    "test_df = pd.concat([test_df,trainset[num_var]],axis=1)"
   ]
  },
  {
   "cell_type": "code",
   "execution_count": 10,
   "metadata": {
    "collapsed": false
   },
   "outputs": [
    {
     "data": {
      "text/plain": [
       "0    1\n",
       "1    0\n",
       "2    0\n",
       "3    0\n",
       "4    1\n",
       "Name: Creditability, dtype: int64"
      ]
     },
     "execution_count": 10,
     "metadata": {},
     "output_type": "execute_result"
    }
   ],
   "source": [
    "train_df['Creditability'].head()"
   ]
  },
  {
   "cell_type": "markdown",
   "metadata": {},
   "source": [
    "## 建立多個模型"
   ]
  },
  {
   "cell_type": "code",
   "execution_count": 11,
   "metadata": {
    "collapsed": false
   },
   "outputs": [],
   "source": [
    "from sklearn.linear_model import LogisticRegression\n",
    "from sklearn.ensemble import RandomForestClassifier, GradientBoostingClassifier\n",
    "from sklearn.naive_bayes import GaussianNB\n",
    "from sklearn.neighbors import KNeighborsClassifier\n",
    "\n",
    "models = []\n",
    "models.append(LogisticRegression())\n",
    "models.append(RandomForestClassifier(n_estimators=100, criterion='entropy'))\n",
    "models.append(GradientBoostingClassifier(max_depth =4))\n",
    "models.append(GaussianNB())\n",
    "\n",
    "for model in models:\n",
    "    model.fit(train_df.drop('Creditability', axis=1), train_df['Creditability'])"
   ]
  },
  {
   "cell_type": "markdown",
   "metadata": {},
   "source": [
    "## 繪製ROC Curve"
   ]
  },
  {
   "cell_type": "code",
   "execution_count": 12,
   "metadata": {
    "collapsed": false
   },
   "outputs": [
    {
     "name": "stdout",
     "output_type": "stream",
     "text": [
      "Populating the interactive namespace from numpy and matplotlib\n"
     ]
    },
    {
     "name": "stderr",
     "output_type": "stream",
     "text": [
      "C:\\ProgramData\\Anaconda3\\lib\\site-packages\\IPython\\core\\magics\\pylab.py:161: UserWarning: pylab import has clobbered these variables: ['var']\n",
      "`%matplotlib` prevents importing * from pylab and numpy\n",
      "  \"\\n`%matplotlib` prevents importing * from pylab and numpy\"\n"
     ]
    },
    {
     "data": {
      "image/png": "[encoded data removed]",
      "text/plain": [
       "<matplotlib.figure.Figure at 0x9f21c50>"
      ]
     },
     "metadata": {},
     "output_type": "display_data"
    }
   ],
   "source": [
    "%pylab inline\n",
    "from sklearn.metrics import roc_curve, auc\n",
    "import matplotlib.pyplot as plt\n",
    "%matplotlib inline\n",
    "\n",
    "def roc_comparison(models, X_train, X_test, y_train, y_test):\n",
    "    plt.figure(figsize=(10, 10)) \n",
    "    for model in models:\n",
    "        pred_scr = model.predict_proba(X_test)[:, 1]\n",
    "        fpr, tpr, thresholds = roc_curve(y_test, pred_scr)\n",
    "        roc_auc =  auc(fpr, tpr)\n",
    "        md = str(model)\n",
    "        md = md[:md.find('(')]\n",
    "        plt.plot(fpr, tpr, label='ROC fold %s (auc = %0.2f)' % (md, roc_auc))\n",
    "        \n",
    "\n",
    "    plt.plot([0, 1], [0, 1], '--', color=(0.6, 0.6, 0.6))\n",
    "    plt.xlim([0, 1])\n",
    "    plt.ylim([0, 1])\n",
    "    plt.xlabel('False Positive Rate')\n",
    "    plt.ylabel('True Positive Rate')\n",
    "    plt.title('Receiver operating characteristic example')\n",
    "    plt.legend(loc=\"lower right\")\n",
    "    plt.show()\n",
    "    \n",
    "roc_comparison(models, train_df.drop('Creditability', axis=1), test_df.drop('Creditability', axis=1), train_df['Creditability'], test_df['Creditability'])"
   ]
  },
  {
   "cell_type": "code",
   "execution_count": 13,
   "metadata": {
    "collapsed": false
   },
   "outputs": [
    {
     "data": {
      "text/plain": [
       "LogisticRegression(C=1.0, class_weight=None, dual=False, fit_intercept=True,\n",
       "          intercept_scaling=1, max_iter=100, multi_class='ovr', n_jobs=1,\n",
       "          penalty='l2', random_state=None, solver='liblinear', tol=0.0001,\n",
       "          verbose=0, warm_start=False)"
      ]
     },
     "execution_count": 13,
     "metadata": {},
     "output_type": "execute_result"
    }
   ],
   "source": [
    "models[0]"
   ]
  },
  {
   "cell_type": "markdown",
   "metadata": {},
   "source": [
    "## 儲存模型"
   ]
  },
  {
   "cell_type": "code",
   "execution_count": 15,
   "metadata": {
    "collapsed": false
   },
   "outputs": [],
   "source": [
    "from sklearn.externals import joblib\n",
    "joblib.dump(models[0], 'lg.pkl') \n",
    "\n",
    "clf = joblib.load('lg.pkl') "
   ]
  }
 ],
 "metadata": {
  "kernelspec": {
   "display_name": "Python 3",
   "language": "python",
   "name": "python3"
  },
  "language_info": {
   "codemirror_mode": {
    "name": "ipython",
    "version": 3
   },
   "file_extension": ".py",
   "mimetype": "text/x-python",
   "name": "python",
   "nbconvert_exporter": "python",
   "pygments_lexer": "ipython3",
   "version": "3.6.0"
  }
 },
 "nbformat": 4,
 "nbformat_minor": 0
}
