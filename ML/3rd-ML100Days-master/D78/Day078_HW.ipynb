{
 "cells": [
  {
   "cell_type": "markdown",
   "metadata": {},
   "source": [
    "## Work\n",
    "1. 請嘗試將 preproc_x 替換成以每筆資料的 min/max 進行標準化至 -1 ~ 1 間，再進行訓練\n",
    "2. 請嘗試將 mlp 疊更深 (e.g 5~10 層)，進行訓練後觀察 learning curve 的走勢\n",
    "3. (optional) 請改用 GPU 進行訓練 (如果你有 GPU 的話)，比較使用 CPU 與 GPU 的訓練速度"
   ]
  },
  {
   "cell_type": "code",
   "execution_count": 1,
   "metadata": {},
   "outputs": [],
   "source": [
    "## \n",
    "\"\"\"\n",
    "Your code here (optional)\n",
    "確認硬體資源\n",
    "\"\"\"\n"
   ]
  },
  {
   "cell_type": "code",
   "execution_count": 1,
   "metadata": {},
   "outputs": [
    {
     "name": "stderr",
     "output_type": "stream",
     "text": [
      "Using TensorFlow backend.\n"
     ]
    }
   ],
   "source": [
    "import os\n",
    "import keras\n",
    "\n",
    "# 請嘗試設定 GPU：os.environ\n"
   ]
  },
  {
   "cell_type": "code",
   "execution_count": 2,
   "metadata": {},
   "outputs": [
    {
     "name": "stdout",
     "output_type": "stream",
     "text": [
      "Downloading data from https://www.cs.toronto.edu/~kriz/cifar-10-python.tar.gz\n",
      "170500096/170498071 [==============================] - 32s 0us/step\n"
     ]
    }
   ],
   "source": [
    "train, test = keras.datasets.cifar10.load_data()"
   ]
  },
  {
   "cell_type": "code",
   "execution_count": 3,
   "metadata": {},
   "outputs": [],
   "source": [
    "## 資料前處理\n",
    "\"\"\"\n",
    "Your code here\n",
    "\"\"\"\n",
    "def preproc_x(x, flatten=True):\n",
    "    x = x / 255.\n",
    "    if flatten:\n",
    "        x = x.reshape((len(x), -1))\n",
    "    return x\n",
    "\n",
    "def preproc_y(y, num_classes=10):\n",
    "    if y.shape[-1] == 1:\n",
    "        y = keras.utils.to_categorical(y, num_classes)\n",
    "    return y  "
   ]
  },
  {
   "cell_type": "code",
   "execution_count": 7,
   "metadata": {},
   "outputs": [],
   "source": [
    "x_train, y_train = train\n",
    "x_test, y_test = test\n",
    "\n",
    "# Preproc the inputs\n",
    "x_train = preproc_x(x_train)\n",
    "x_test = preproc_x(x_test)\n",
    "\n",
    "# Preprc the outputs\n",
    "y_train = preproc_y(y_train)\n",
    "y_test = preproc_y(y_test)"
   ]
  },
  {
   "cell_type": "code",
   "execution_count": 8,
   "metadata": {},
   "outputs": [
    {
     "name": "stdout",
     "output_type": "stream",
     "text": [
      "_________________________________________________________________\n",
      "Layer (type)                 Output Shape              Param #   \n",
      "=================================================================\n",
      "input_2 (InputLayer)         (None, 3072)              0         \n",
      "_________________________________________________________________\n",
      "hidden_layer1 (Dense)        (None, 512)               1573376   \n",
      "_________________________________________________________________\n",
      "hidden_layer2 (Dense)        (None, 256)               131328    \n",
      "_________________________________________________________________\n",
      "hidden_layer3 (Dense)        (None, 128)               32896     \n",
      "_________________________________________________________________\n",
      "output (Dense)               (None, 10)                1290      \n",
      "=================================================================\n",
      "Total params: 1,738,890\n",
      "Trainable params: 1,738,890\n",
      "Non-trainable params: 0\n",
      "_________________________________________________________________\n"
     ]
    }
   ],
   "source": [
    "\"\"\"Code Here\n",
    "建立你的神經網路\n",
    "\"\"\"\n",
    "def build_mlp(input_shape, output_units=10, num_neurons=[512, 256, 128]):\n",
    "    input_layer = keras.layers.Input(input_shape)\n",
    "    \n",
    "    for i, n_units in enumerate(num_neurons):\n",
    "        if i == 0:\n",
    "            x = keras.layers.Dense(units=n_units, activation=\"relu\", name=\"hidden_layer\"+str(i+1))(input_layer)\n",
    "        else:\n",
    "            x = keras.layers.Dense(units=n_units, activation=\"relu\", name=\"hidden_layer\"+str(i+1))(x)\n",
    "    \n",
    "    out = keras.layers.Dense(units=output_units, activation=\"softmax\", name=\"output\")(x)\n",
    "    \n",
    "    model = keras.models.Model(inputs=[input_layer], outputs=[out])\n",
    "    return model\n",
    "\n",
    "model = build_mlp(input_shape=x_train.shape[1:])\n",
    "model.summary()"
   ]
  },
  {
   "cell_type": "code",
   "execution_count": 9,
   "metadata": {},
   "outputs": [],
   "source": [
    "## 超參數設定\n",
    "LEARNING_RATE = 0.001\n",
    "EPOCHS = 100\n",
    "BATCH_SIZE = 256"
   ]
  },
  {
   "cell_type": "code",
   "execution_count": 10,
   "metadata": {},
   "outputs": [],
   "source": [
    "optimizer = keras.optimizers.Adam(lr=LEARNING_RATE)\n",
    "model.compile(loss=\"categorical_crossentropy\", metrics=[\"accuracy\"], optimizer=optimizer)"
   ]
  },
  {
   "cell_type": "code",
   "execution_count": 11,
   "metadata": {},
   "outputs": [
    {
     "name": "stdout",
     "output_type": "stream",
     "text": [
      "Train on 50000 samples, validate on 10000 samples\n",
      "Epoch 1/100\n",
      "50000/50000 [==============================] - 13s 270us/step - loss: 1.9272 - acc: 0.3031 - val_loss: 1.7853 - val_acc: 0.3696\n",
      "Epoch 2/100\n",
      "50000/50000 [==============================] - 4s 73us/step - loss: 1.7024 - acc: 0.3897 - val_loss: 1.6565 - val_acc: 0.4173\n",
      "Epoch 3/100\n",
      "50000/50000 [==============================] - 4s 73us/step - loss: 1.6174 - acc: 0.4199 - val_loss: 1.6286 - val_acc: 0.4224\n",
      "Epoch 4/100\n",
      "50000/50000 [==============================] - 4s 73us/step - loss: 1.5478 - acc: 0.4488 - val_loss: 1.5406 - val_acc: 0.4494\n",
      "Epoch 5/100\n",
      "50000/50000 [==============================] - 4s 73us/step - loss: 1.4959 - acc: 0.4653 - val_loss: 1.4755 - val_acc: 0.4744\n",
      "Epoch 6/100\n",
      "50000/50000 [==============================] - 4s 74us/step - loss: 1.4626 - acc: 0.4797 - val_loss: 1.4539 - val_acc: 0.4832\n",
      "Epoch 7/100\n",
      "50000/50000 [==============================] - 4s 73us/step - loss: 1.4212 - acc: 0.4913 - val_loss: 1.4495 - val_acc: 0.4809\n",
      "Epoch 8/100\n",
      "50000/50000 [==============================] - 4s 73us/step - loss: 1.3902 - acc: 0.5050 - val_loss: 1.4502 - val_acc: 0.4921\n",
      "Epoch 9/100\n",
      "50000/50000 [==============================] - 4s 74us/step - loss: 1.3670 - acc: 0.5134 - val_loss: 1.4230 - val_acc: 0.4951\n",
      "Epoch 10/100\n",
      "50000/50000 [==============================] - 4s 73us/step - loss: 1.3388 - acc: 0.5229 - val_loss: 1.4715 - val_acc: 0.4755\n",
      "Epoch 11/100\n",
      "50000/50000 [==============================] - 4s 76us/step - loss: 1.3237 - acc: 0.5291 - val_loss: 1.4184 - val_acc: 0.5013\n",
      "Epoch 12/100\n",
      "50000/50000 [==============================] - 4s 76us/step - loss: 1.2998 - acc: 0.5378 - val_loss: 1.4235 - val_acc: 0.4989\n",
      "Epoch 13/100\n",
      "50000/50000 [==============================] - 4s 74us/step - loss: 1.2834 - acc: 0.5408 - val_loss: 1.4419 - val_acc: 0.4915\n",
      "Epoch 14/100\n",
      "50000/50000 [==============================] - 4s 74us/step - loss: 1.2474 - acc: 0.5556 - val_loss: 1.3686 - val_acc: 0.5166\n",
      "Epoch 15/100\n",
      "50000/50000 [==============================] - 4s 74us/step - loss: 1.2322 - acc: 0.5601 - val_loss: 1.4113 - val_acc: 0.4994\n",
      "Epoch 16/100\n",
      "50000/50000 [==============================] - 4s 74us/step - loss: 1.2108 - acc: 0.5709 - val_loss: 1.3650 - val_acc: 0.5249\n",
      "Epoch 17/100\n",
      "50000/50000 [==============================] - 4s 74us/step - loss: 1.1879 - acc: 0.5774 - val_loss: 1.3522 - val_acc: 0.5261\n",
      "Epoch 18/100\n",
      "50000/50000 [==============================] - 4s 74us/step - loss: 1.1640 - acc: 0.5871 - val_loss: 1.3734 - val_acc: 0.5211\n",
      "Epoch 19/100\n",
      "50000/50000 [==============================] - 4s 73us/step - loss: 1.1523 - acc: 0.5898 - val_loss: 1.3698 - val_acc: 0.5245\n",
      "Epoch 20/100\n",
      "50000/50000 [==============================] - 4s 73us/step - loss: 1.1324 - acc: 0.5964 - val_loss: 1.3908 - val_acc: 0.5172\n",
      "Epoch 21/100\n",
      "50000/50000 [==============================] - 4s 73us/step - loss: 1.1090 - acc: 0.6029 - val_loss: 1.4124 - val_acc: 0.5153\n",
      "Epoch 22/100\n",
      "50000/50000 [==============================] - 4s 73us/step - loss: 1.0885 - acc: 0.6116 - val_loss: 1.3593 - val_acc: 0.5334\n",
      "Epoch 23/100\n",
      "50000/50000 [==============================] - 4s 74us/step - loss: 1.0658 - acc: 0.6229 - val_loss: 1.3894 - val_acc: 0.5217\n",
      "Epoch 24/100\n",
      "50000/50000 [==============================] - 4s 74us/step - loss: 1.0524 - acc: 0.6255 - val_loss: 1.3612 - val_acc: 0.5328\n",
      "Epoch 25/100\n",
      "50000/50000 [==============================] - 4s 75us/step - loss: 1.0339 - acc: 0.6340 - val_loss: 1.4075 - val_acc: 0.5176\n",
      "Epoch 26/100\n",
      "50000/50000 [==============================] - 4s 73us/step - loss: 1.0227 - acc: 0.6352 - val_loss: 1.3867 - val_acc: 0.5270\n",
      "Epoch 27/100\n",
      "50000/50000 [==============================] - 4s 73us/step - loss: 0.9895 - acc: 0.6460 - val_loss: 1.4359 - val_acc: 0.5182\n",
      "Epoch 28/100\n",
      "50000/50000 [==============================] - 4s 73us/step - loss: 0.9808 - acc: 0.6489 - val_loss: 1.3998 - val_acc: 0.5293\n",
      "Epoch 29/100\n",
      "50000/50000 [==============================] - 4s 73us/step - loss: 0.9590 - acc: 0.6569 - val_loss: 1.4156 - val_acc: 0.5296\n",
      "Epoch 30/100\n",
      "50000/50000 [==============================] - 4s 73us/step - loss: 0.9447 - acc: 0.6619 - val_loss: 1.4656 - val_acc: 0.5141\n",
      "Epoch 31/100\n",
      "50000/50000 [==============================] - 4s 73us/step - loss: 0.9237 - acc: 0.6706 - val_loss: 1.4551 - val_acc: 0.5312\n",
      "Epoch 32/100\n",
      "50000/50000 [==============================] - 4s 74us/step - loss: 0.9093 - acc: 0.6737 - val_loss: 1.4492 - val_acc: 0.5266\n",
      "Epoch 33/100\n",
      "50000/50000 [==============================] - 4s 75us/step - loss: 0.8921 - acc: 0.6820 - val_loss: 1.4436 - val_acc: 0.5279\n",
      "Epoch 34/100\n",
      "50000/50000 [==============================] - 4s 74us/step - loss: 0.8755 - acc: 0.6877 - val_loss: 1.4529 - val_acc: 0.5286\n",
      "Epoch 35/100\n",
      "50000/50000 [==============================] - 4s 74us/step - loss: 0.8561 - acc: 0.6929 - val_loss: 1.5180 - val_acc: 0.5156\n",
      "Epoch 36/100\n",
      "50000/50000 [==============================] - 4s 74us/step - loss: 0.8448 - acc: 0.6968 - val_loss: 1.5166 - val_acc: 0.5201\n",
      "Epoch 37/100\n",
      "50000/50000 [==============================] - 4s 74us/step - loss: 0.8284 - acc: 0.7031 - val_loss: 1.5230 - val_acc: 0.5225\n",
      "Epoch 38/100\n",
      "50000/50000 [==============================] - 4s 73us/step - loss: 0.7941 - acc: 0.7194 - val_loss: 1.5512 - val_acc: 0.5282\n",
      "Epoch 39/100\n",
      "50000/50000 [==============================] - 4s 74us/step - loss: 0.7927 - acc: 0.7164 - val_loss: 1.5605 - val_acc: 0.5239\n",
      "Epoch 40/100\n",
      "50000/50000 [==============================] - 4s 74us/step - loss: 0.7788 - acc: 0.7227 - val_loss: 1.5862 - val_acc: 0.5260\n",
      "Epoch 41/100\n",
      "50000/50000 [==============================] - 4s 74us/step - loss: 0.7692 - acc: 0.7246 - val_loss: 1.5908 - val_acc: 0.5189\n",
      "Epoch 42/100\n",
      "50000/50000 [==============================] - 4s 73us/step - loss: 0.7447 - acc: 0.7330 - val_loss: 1.5845 - val_acc: 0.5246\n",
      "Epoch 43/100\n",
      "50000/50000 [==============================] - 4s 82us/step - loss: 0.7172 - acc: 0.7436 - val_loss: 1.6469 - val_acc: 0.5205\n",
      "Epoch 44/100\n",
      "50000/50000 [==============================] - 4s 73us/step - loss: 0.7216 - acc: 0.7434 - val_loss: 1.6757 - val_acc: 0.5177\n",
      "Epoch 45/100\n",
      "50000/50000 [==============================] - 4s 74us/step - loss: 0.7034 - acc: 0.7485 - val_loss: 1.7067 - val_acc: 0.5195\n",
      "Epoch 46/100\n",
      "50000/50000 [==============================] - 4s 74us/step - loss: 0.6992 - acc: 0.7499 - val_loss: 1.7506 - val_acc: 0.5139\n",
      "Epoch 47/100\n",
      "50000/50000 [==============================] - 4s 73us/step - loss: 0.6810 - acc: 0.7548 - val_loss: 1.6901 - val_acc: 0.5191\n",
      "Epoch 48/100\n",
      "50000/50000 [==============================] - 4s 73us/step - loss: 0.6727 - acc: 0.7583 - val_loss: 1.7478 - val_acc: 0.5146\n",
      "Epoch 49/100\n",
      "50000/50000 [==============================] - 4s 73us/step - loss: 0.6405 - acc: 0.7717 - val_loss: 1.7607 - val_acc: 0.5142\n",
      "Epoch 50/100\n",
      "50000/50000 [==============================] - 4s 73us/step - loss: 0.6361 - acc: 0.7715 - val_loss: 1.8117 - val_acc: 0.5199\n",
      "Epoch 51/100\n",
      "50000/50000 [==============================] - 4s 73us/step - loss: 0.6341 - acc: 0.7716 - val_loss: 1.8181 - val_acc: 0.5107\n",
      "Epoch 52/100\n",
      "50000/50000 [==============================] - 4s 74us/step - loss: 0.6203 - acc: 0.7787 - val_loss: 1.8763 - val_acc: 0.5045\n",
      "Epoch 53/100\n",
      "50000/50000 [==============================] - 4s 73us/step - loss: 0.6219 - acc: 0.7764 - val_loss: 1.8744 - val_acc: 0.5145\n",
      "Epoch 54/100\n",
      "50000/50000 [==============================] - 4s 74us/step - loss: 0.5939 - acc: 0.7861 - val_loss: 1.8374 - val_acc: 0.5193\n",
      "Epoch 55/100\n",
      "50000/50000 [==============================] - 4s 76us/step - loss: 0.5703 - acc: 0.7943 - val_loss: 1.9118 - val_acc: 0.5097\n",
      "Epoch 56/100\n",
      "50000/50000 [==============================] - 4s 77us/step - loss: 0.5756 - acc: 0.7935 - val_loss: 1.9715 - val_acc: 0.5130\n",
      "Epoch 57/100\n",
      "50000/50000 [==============================] - 4s 75us/step - loss: 0.5474 - acc: 0.8043 - val_loss: 1.9700 - val_acc: 0.5107\n",
      "Epoch 58/100\n",
      "50000/50000 [==============================] - 4s 75us/step - loss: 0.5423 - acc: 0.8055 - val_loss: 1.9998 - val_acc: 0.5098\n",
      "Epoch 59/100\n"
     ]
    },
    {
     "name": "stdout",
     "output_type": "stream",
     "text": [
      "50000/50000 [==============================] - 4s 75us/step - loss: 0.5417 - acc: 0.8053 - val_loss: 2.0032 - val_acc: 0.5167\n",
      "Epoch 60/100\n",
      "50000/50000 [==============================] - 4s 74us/step - loss: 0.5453 - acc: 0.8046 - val_loss: 2.0364 - val_acc: 0.5087\n",
      "Epoch 61/100\n",
      "50000/50000 [==============================] - 4s 74us/step - loss: 0.5171 - acc: 0.8147 - val_loss: 2.0492 - val_acc: 0.5136\n",
      "Epoch 62/100\n",
      "50000/50000 [==============================] - 4s 75us/step - loss: 0.5092 - acc: 0.8168 - val_loss: 2.0925 - val_acc: 0.5101\n",
      "Epoch 63/100\n",
      "50000/50000 [==============================] - 4s 76us/step - loss: 0.5008 - acc: 0.8187 - val_loss: 2.0748 - val_acc: 0.5177\n",
      "Epoch 64/100\n",
      "50000/50000 [==============================] - 4s 75us/step - loss: 0.4997 - acc: 0.8191 - val_loss: 2.1133 - val_acc: 0.5073\n",
      "Epoch 65/100\n",
      "50000/50000 [==============================] - 4s 74us/step - loss: 0.4816 - acc: 0.8278 - val_loss: 2.1705 - val_acc: 0.5104\n",
      "Epoch 66/100\n",
      "50000/50000 [==============================] - 4s 74us/step - loss: 0.4652 - acc: 0.8336 - val_loss: 2.2110 - val_acc: 0.5093\n",
      "Epoch 67/100\n",
      "50000/50000 [==============================] - 4s 74us/step - loss: 0.5036 - acc: 0.8194 - val_loss: 2.2302 - val_acc: 0.5019\n",
      "Epoch 68/100\n",
      "50000/50000 [==============================] - 4s 74us/step - loss: 0.4556 - acc: 0.8374 - val_loss: 2.2744 - val_acc: 0.5060\n",
      "Epoch 69/100\n",
      "50000/50000 [==============================] - 4s 73us/step - loss: 0.4473 - acc: 0.8381 - val_loss: 2.2410 - val_acc: 0.5104\n",
      "Epoch 70/100\n",
      "50000/50000 [==============================] - 4s 74us/step - loss: 0.4551 - acc: 0.8356 - val_loss: 2.3000 - val_acc: 0.5096\n",
      "Epoch 71/100\n",
      "50000/50000 [==============================] - 4s 73us/step - loss: 0.4268 - acc: 0.8487 - val_loss: 2.3230 - val_acc: 0.5067\n",
      "Epoch 72/100\n",
      "50000/50000 [==============================] - 4s 73us/step - loss: 0.4243 - acc: 0.8467 - val_loss: 2.3379 - val_acc: 0.5041\n",
      "Epoch 73/100\n",
      "50000/50000 [==============================] - 4s 73us/step - loss: 0.4224 - acc: 0.8488 - val_loss: 2.4259 - val_acc: 0.5038\n",
      "Epoch 74/100\n",
      "50000/50000 [==============================] - 4s 74us/step - loss: 0.4114 - acc: 0.8524 - val_loss: 2.4661 - val_acc: 0.5070\n",
      "Epoch 75/100\n",
      "50000/50000 [==============================] - 4s 73us/step - loss: 0.4186 - acc: 0.8492 - val_loss: 2.4984 - val_acc: 0.5022\n",
      "Epoch 76/100\n",
      "50000/50000 [==============================] - 4s 74us/step - loss: 0.4007 - acc: 0.8570 - val_loss: 2.5011 - val_acc: 0.5010\n",
      "Epoch 77/100\n",
      "50000/50000 [==============================] - 4s 73us/step - loss: 0.4118 - acc: 0.8514 - val_loss: 2.5365 - val_acc: 0.5021\n",
      "Epoch 78/100\n",
      "50000/50000 [==============================] - 4s 73us/step - loss: 0.3924 - acc: 0.8605 - val_loss: 2.4570 - val_acc: 0.5122\n",
      "Epoch 79/100\n",
      "50000/50000 [==============================] - 4s 73us/step - loss: 0.3911 - acc: 0.8577 - val_loss: 2.5093 - val_acc: 0.5045\n",
      "Epoch 80/100\n",
      "50000/50000 [==============================] - 4s 74us/step - loss: 0.3893 - acc: 0.8598 - val_loss: 2.5278 - val_acc: 0.5084\n",
      "Epoch 81/100\n",
      "50000/50000 [==============================] - 4s 74us/step - loss: 0.3563 - acc: 0.8731 - val_loss: 2.6059 - val_acc: 0.5041\n",
      "Epoch 82/100\n",
      "50000/50000 [==============================] - 4s 73us/step - loss: 0.3667 - acc: 0.8684 - val_loss: 2.6003 - val_acc: 0.5051\n",
      "Epoch 83/100\n",
      "50000/50000 [==============================] - 4s 74us/step - loss: 0.3619 - acc: 0.8699 - val_loss: 2.6017 - val_acc: 0.5075\n",
      "Epoch 84/100\n",
      "50000/50000 [==============================] - 4s 75us/step - loss: 0.3580 - acc: 0.8718 - val_loss: 2.6708 - val_acc: 0.5002\n",
      "Epoch 85/100\n",
      "50000/50000 [==============================] - 4s 73us/step - loss: 0.3456 - acc: 0.8754 - val_loss: 2.6899 - val_acc: 0.5037\n",
      "Epoch 86/100\n",
      "50000/50000 [==============================] - 4s 73us/step - loss: 0.3660 - acc: 0.8670 - val_loss: 2.7782 - val_acc: 0.4910\n",
      "Epoch 87/100\n",
      "50000/50000 [==============================] - 4s 74us/step - loss: 0.3274 - acc: 0.8815 - val_loss: 2.7995 - val_acc: 0.5089\n",
      "Epoch 88/100\n",
      "50000/50000 [==============================] - 4s 73us/step - loss: 0.3381 - acc: 0.8788 - val_loss: 2.8214 - val_acc: 0.4942\n",
      "Epoch 89/100\n",
      "50000/50000 [==============================] - 4s 73us/step - loss: 0.3250 - acc: 0.8827 - val_loss: 2.8239 - val_acc: 0.4972\n",
      "Epoch 90/100\n",
      "50000/50000 [==============================] - 4s 74us/step - loss: 0.3485 - acc: 0.8739 - val_loss: 2.8373 - val_acc: 0.4957\n",
      "Epoch 91/100\n",
      "50000/50000 [==============================] - 4s 73us/step - loss: 0.3247 - acc: 0.8827 - val_loss: 2.8889 - val_acc: 0.4947\n",
      "Epoch 92/100\n",
      "50000/50000 [==============================] - 4s 74us/step - loss: 0.3036 - acc: 0.8901 - val_loss: 2.9531 - val_acc: 0.5031\n",
      "Epoch 93/100\n",
      "50000/50000 [==============================] - 4s 73us/step - loss: 0.3208 - acc: 0.8847 - val_loss: 2.8572 - val_acc: 0.4952\n",
      "Epoch 94/100\n",
      "50000/50000 [==============================] - 4s 73us/step - loss: 0.3359 - acc: 0.8785 - val_loss: 2.9486 - val_acc: 0.4977\n",
      "Epoch 95/100\n",
      "50000/50000 [==============================] - 4s 73us/step - loss: 0.3154 - acc: 0.8872 - val_loss: 2.8867 - val_acc: 0.4989\n",
      "Epoch 96/100\n",
      "50000/50000 [==============================] - 4s 73us/step - loss: 0.2945 - acc: 0.8938 - val_loss: 3.0431 - val_acc: 0.5014\n",
      "Epoch 97/100\n",
      "50000/50000 [==============================] - 4s 74us/step - loss: 0.2811 - acc: 0.8997 - val_loss: 2.9960 - val_acc: 0.5044\n",
      "Epoch 98/100\n",
      "50000/50000 [==============================] - 4s 74us/step - loss: 0.3027 - acc: 0.8916 - val_loss: 2.9767 - val_acc: 0.4992\n",
      "Epoch 99/100\n",
      "50000/50000 [==============================] - 4s 73us/step - loss: 0.3061 - acc: 0.8890 - val_loss: 3.0254 - val_acc: 0.5040\n",
      "Epoch 100/100\n",
      "50000/50000 [==============================] - 4s 73us/step - loss: 0.3126 - acc: 0.8849 - val_loss: 3.0232 - val_acc: 0.5041\n"
     ]
    },
    {
     "data": {
      "text/plain": [
       "<keras.callbacks.History at 0xcf15d68>"
      ]
     },
     "execution_count": 11,
     "metadata": {},
     "output_type": "execute_result"
    }
   ],
   "source": [
    "model.fit(x_train, y_train, \n",
    "          epochs=EPOCHS, \n",
    "          batch_size=BATCH_SIZE, \n",
    "          validation_data=(x_test, y_test), \n",
    "          shuffle=True)"
   ]
  },
  {
   "cell_type": "code",
   "execution_count": 14,
   "metadata": {},
   "outputs": [
    {
     "data": {
      "image/png": "[encoded data removed]",
      "text/plain": [
       "<Figure size 432x288 with 1 Axes>"
      ]
     },
     "metadata": {
      "needs_background": "light"
     },
     "output_type": "display_data"
    },
    {
     "data": {
      "image/png": "[encoded data removed]",
      "text/plain": [
       "<Figure size 432x288 with 1 Axes>"
      ]
     },
     "metadata": {
      "needs_background": "light"
     },
     "output_type": "display_data"
    }
   ],
   "source": [
    "import matplotlib.pyplot as plt\n",
    "\n",
    "\n",
    "train_loss = model.history.history[\"loss\"]\n",
    "valid_loss = model.history.history[\"val_loss\"]\n",
    "\n",
    "train_acc = model.history.history[\"acc\"]\n",
    "valid_acc = model.history.history[\"val_acc\"]\n",
    "\n",
    "plt.plot(range(len(train_loss)), train_loss, label=\"train loss\")\n",
    "plt.plot(range(len(valid_loss)), valid_loss, label=\"valid loss\")\n",
    "plt.legend()\n",
    "plt.title(\"Loss\")\n",
    "plt.show()\n",
    "\n",
    "plt.plot(range(len(train_acc)), train_acc, label=\"train accuracy\")\n",
    "plt.plot(range(len(valid_acc)), valid_acc, label=\"valid accuracy\")\n",
    "plt.legend()\n",
    "plt.title(\"Accuracy\")\n",
    "plt.show()"
   ]
  },
  {
   "cell_type": "code",
   "execution_count": null,
   "metadata": {},
   "outputs": [],
   "source": []
  }
 ],
 "metadata": {
  "kernelspec": {
   "display_name": "Python 3",
   "language": "python",
   "name": "python3"
  },
  "language_info": {
   "codemirror_mode": {
    "name": "ipython",
    "version": 3
   },
   "file_extension": ".py",
   "mimetype": "text/x-python",
   "name": "python",
   "nbconvert_exporter": "python",
   "pygments_lexer": "ipython3",
   "version": "3.5.6"
  }
 },
 "nbformat": 4,
 "nbformat_minor": 2
}
