{
 "cells": [
  {
   "cell_type": "markdown",
   "metadata": {},
   "source": [
    "## 範例重點\n",
    "* 學會從 Keras 內建函式取得資料\n",
    "* 能夠建立簡易的深度學習模型\n",
    "* 觀察並了解 Overfit 現象"
   ]
  },
  {
   "cell_type": "code",
   "execution_count": 1,
   "metadata": {},
   "outputs": [
    {
     "name": "stderr",
     "output_type": "stream",
     "text": [
      "Using TensorFlow backend.\n"
     ]
    }
   ],
   "source": [
    "import os\n",
    "import keras\n",
    "\n",
    "# 本範例不需使用 GPU, 將 GPU 設定為 \"無\"\n",
    "os.environ[\"CUDA_VISIBLE_DEVICES\"] = \"\""
   ]
  },
  {
   "cell_type": "code",
   "execution_count": 2,
   "metadata": {},
   "outputs": [],
   "source": [
    "# 從 Keras 的內建功能中，取得 train 與 test 資料集\n",
    "train, test = keras.datasets.cifar10.load_data()"
   ]
  },
  {
   "cell_type": "code",
   "execution_count": 3,
   "metadata": {},
   "outputs": [],
   "source": [
    "# 將 X 與 Y 獨立放進變數\n",
    "x_train, y_train = train\n",
    "x_test, y_test = test\n",
    "# 資料前處理 - 標準化\n",
    "x_train = x_train / 255.\n",
    "x_test = x_test / 255.\n",
    "\n",
    "# 將資料從圖形 (RGB) 轉為向量 (Single Vector)\n",
    "x_train = x_train.reshape((len(x_train), -1))\n",
    "x_test = x_test.reshape((len(x_test), -1))\n",
    "\n",
    "# 將目標轉為 one-hot encoding\n",
    "y_train = keras.utils.to_categorical(y_train, num_classes=10)\n",
    "y_test = keras.utils.to_categorical(y_test, num_classes=10)"
   ]
  },
  {
   "cell_type": "code",
   "execution_count": 4,
   "metadata": {},
   "outputs": [],
   "source": [
    "# 建立一個有三層隱藏層之神經網路\n",
    "def build_mlp():\n",
    "    input_layer = keras.layers.Input([x_train.shape[-1]])\n",
    "    x = keras.layers.Dense(units=512, activation=\"relu\")(input_layer)\n",
    "    x = keras.layers.Dense(units=256, activation=\"relu\")(x)\n",
    "    x = keras.layers.Dense(units=128, activation=\"relu\")(x)\n",
    "    out = keras.layers.Dense(units=10, activation=\"softmax\")(x)\n",
    "    \n",
    "    model = keras.models.Model(inputs=[input_layer], outputs=[out])\n",
    "    return model"
   ]
  },
  {
   "cell_type": "code",
   "execution_count": 5,
   "metadata": {},
   "outputs": [
    {
     "name": "stdout",
     "output_type": "stream",
     "text": [
      "WARNING:tensorflow:From D:\\Anaconda3\\envs\\t\\lib\\site-packages\\tensorflow\\python\\framework\\op_def_library.py:263: colocate_with (from tensorflow.python.framework.ops) is deprecated and will be removed in a future version.\n",
      "Instructions for updating:\n",
      "Colocations handled automatically by placer.\n",
      "_________________________________________________________________\n",
      "Layer (type)                 Output Shape              Param #   \n",
      "=================================================================\n",
      "input_1 (InputLayer)         (None, 3072)              0         \n",
      "_________________________________________________________________\n",
      "dense_1 (Dense)              (None, 512)               1573376   \n",
      "_________________________________________________________________\n",
      "dense_2 (Dense)              (None, 256)               131328    \n",
      "_________________________________________________________________\n",
      "dense_3 (Dense)              (None, 128)               32896     \n",
      "_________________________________________________________________\n",
      "dense_4 (Dense)              (None, 10)                1290      \n",
      "=================================================================\n",
      "Total params: 1,738,890\n",
      "Trainable params: 1,738,890\n",
      "Non-trainable params: 0\n",
      "_________________________________________________________________\n"
     ]
    }
   ],
   "source": [
    "model = build_mlp()\n",
    "# 用 Keras 內建方法檢視模型各層參數量\n",
    "model.summary()\n",
    "\n",
    "optimizer = keras.optimizers.Adam(lr=0.001)\n",
    "model.compile(loss=\"categorical_crossentropy\", metrics=[\"accuracy\"], optimizer=optimizer)"
   ]
  },
  {
   "cell_type": "code",
   "execution_count": 6,
   "metadata": {},
   "outputs": [
    {
     "name": "stdout",
     "output_type": "stream",
     "text": [
      "WARNING:tensorflow:From D:\\Anaconda3\\envs\\t\\lib\\site-packages\\tensorflow\\python\\ops\\math_ops.py:3066: to_int32 (from tensorflow.python.ops.math_ops) is deprecated and will be removed in a future version.\n",
      "Instructions for updating:\n",
      "Use tf.cast instead.\n",
      "Train on 50000 samples, validate on 10000 samples\n",
      "Epoch 1/100\n",
      "50000/50000 [==============================] - 18s 357us/step - loss: 1.9492 - acc: 0.2974 - val_loss: 1.7543 - val_acc: 0.3839\n",
      "Epoch 2/100\n",
      "50000/50000 [==============================] - 16s 326us/step - loss: 1.7239 - acc: 0.3855 - val_loss: 1.6702 - val_acc: 0.4021\n",
      "Epoch 3/100\n",
      "50000/50000 [==============================] - 17s 333us/step - loss: 1.6147 - acc: 0.4235 - val_loss: 1.5737 - val_acc: 0.4435\n",
      "Epoch 4/100\n",
      "50000/50000 [==============================] - 17s 347us/step - loss: 1.5658 - acc: 0.4409 - val_loss: 1.5782 - val_acc: 0.4390\n",
      "Epoch 5/100\n",
      "50000/50000 [==============================] - 16s 321us/step - loss: 1.5133 - acc: 0.4589 - val_loss: 1.5198 - val_acc: 0.4630\n",
      "Epoch 6/100\n",
      "50000/50000 [==============================] - 15s 308us/step - loss: 1.4788 - acc: 0.4725 - val_loss: 1.5270 - val_acc: 0.4563\n",
      "Epoch 7/100\n",
      "50000/50000 [==============================] - 15s 310us/step - loss: 1.4401 - acc: 0.4876 - val_loss: 1.4872 - val_acc: 0.4723\n",
      "Epoch 8/100\n",
      "50000/50000 [==============================] - 16s 315us/step - loss: 1.4109 - acc: 0.4979 - val_loss: 1.4762 - val_acc: 0.4829\n",
      "Epoch 9/100\n",
      "50000/50000 [==============================] - 15s 309us/step - loss: 1.3830 - acc: 0.5071 - val_loss: 1.4366 - val_acc: 0.4879\n",
      "Epoch 10/100\n",
      "50000/50000 [==============================] - 15s 310us/step - loss: 1.3471 - acc: 0.5204 - val_loss: 1.4168 - val_acc: 0.4994\n",
      "Epoch 11/100\n",
      "50000/50000 [==============================] - 16s 315us/step - loss: 1.3384 - acc: 0.5237 - val_loss: 1.4310 - val_acc: 0.5049\n",
      "Epoch 12/100\n",
      "50000/50000 [==============================] - 16s 312us/step - loss: 1.3056 - acc: 0.5341 - val_loss: 1.4173 - val_acc: 0.5003\n",
      "Epoch 13/100\n",
      "50000/50000 [==============================] - 16s 311us/step - loss: 1.2782 - acc: 0.5457 - val_loss: 1.4091 - val_acc: 0.5024\n",
      "Epoch 14/100\n",
      "50000/50000 [==============================] - 16s 313us/step - loss: 1.2534 - acc: 0.5567 - val_loss: 1.4202 - val_acc: 0.4948\n",
      "Epoch 15/100\n",
      "50000/50000 [==============================] - 16s 313us/step - loss: 1.2463 - acc: 0.5580 - val_loss: 1.3870 - val_acc: 0.5053\n",
      "Epoch 16/100\n",
      "50000/50000 [==============================] - 16s 315us/step - loss: 1.2149 - acc: 0.5676 - val_loss: 1.3887 - val_acc: 0.5199\n",
      "Epoch 17/100\n",
      "50000/50000 [==============================] - 16s 314us/step - loss: 1.1895 - acc: 0.5761 - val_loss: 1.3576 - val_acc: 0.5244\n",
      "Epoch 18/100\n",
      "50000/50000 [==============================] - 16s 313us/step - loss: 1.1647 - acc: 0.5835 - val_loss: 1.3650 - val_acc: 0.5170\n",
      "Epoch 19/100\n",
      "50000/50000 [==============================] - 16s 313us/step - loss: 1.1434 - acc: 0.5931 - val_loss: 1.4192 - val_acc: 0.5087\n",
      "Epoch 20/100\n",
      "50000/50000 [==============================] - 16s 315us/step - loss: 1.1335 - acc: 0.5978 - val_loss: 1.3757 - val_acc: 0.5209\n",
      "Epoch 21/100\n",
      "50000/50000 [==============================] - 16s 315us/step - loss: 1.1139 - acc: 0.6027 - val_loss: 1.3571 - val_acc: 0.5220\n",
      "Epoch 22/100\n",
      "50000/50000 [==============================] - 16s 313us/step - loss: 1.0784 - acc: 0.6171 - val_loss: 1.3640 - val_acc: 0.5273\n",
      "Epoch 23/100\n",
      "50000/50000 [==============================] - 16s 318us/step - loss: 1.0732 - acc: 0.6187 - val_loss: 1.3632 - val_acc: 0.5354\n",
      "Epoch 24/100\n",
      "50000/50000 [==============================] - 16s 313us/step - loss: 1.0420 - acc: 0.6290 - val_loss: 1.3859 - val_acc: 0.5249\n",
      "Epoch 25/100\n",
      "50000/50000 [==============================] - 16s 312us/step - loss: 1.0265 - acc: 0.6355 - val_loss: 1.3724 - val_acc: 0.5239\n",
      "Epoch 26/100\n",
      "50000/50000 [==============================] - 16s 317us/step - loss: 1.0083 - acc: 0.6411 - val_loss: 1.4294 - val_acc: 0.5158\n",
      "Epoch 27/100\n",
      "50000/50000 [==============================] - 16s 317us/step - loss: 0.9907 - acc: 0.6456 - val_loss: 1.3858 - val_acc: 0.5219\n",
      "Epoch 28/100\n",
      "50000/50000 [==============================] - 16s 315us/step - loss: 0.9652 - acc: 0.6575 - val_loss: 1.4260 - val_acc: 0.5224\n",
      "Epoch 29/100\n",
      "50000/50000 [==============================] - 16s 315us/step - loss: 0.9622 - acc: 0.6577 - val_loss: 1.3882 - val_acc: 0.5293\n",
      "Epoch 30/100\n",
      "50000/50000 [==============================] - 16s 315us/step - loss: 0.9371 - acc: 0.6664 - val_loss: 1.4476 - val_acc: 0.5155\n",
      "Epoch 31/100\n",
      "50000/50000 [==============================] - 16s 319us/step - loss: 0.9109 - acc: 0.6749 - val_loss: 1.4605 - val_acc: 0.5187\n",
      "Epoch 32/100\n",
      "50000/50000 [==============================] - 16s 315us/step - loss: 0.9012 - acc: 0.6785 - val_loss: 1.4559 - val_acc: 0.5224\n",
      "Epoch 33/100\n",
      "50000/50000 [==============================] - 16s 313us/step - loss: 0.8889 - acc: 0.6811 - val_loss: 1.5042 - val_acc: 0.5146\n",
      "Epoch 34/100\n",
      "50000/50000 [==============================] - 16s 322us/step - loss: 0.8702 - acc: 0.6883 - val_loss: 1.5121 - val_acc: 0.5122\n",
      "Epoch 35/100\n",
      "50000/50000 [==============================] - 16s 322us/step - loss: 0.8466 - acc: 0.6988 - val_loss: 1.5252 - val_acc: 0.5160\n",
      "Epoch 36/100\n",
      "50000/50000 [==============================] - 16s 315us/step - loss: 0.8271 - acc: 0.7048 - val_loss: 1.5141 - val_acc: 0.5248\n",
      "Epoch 37/100\n",
      "50000/50000 [==============================] - 16s 318us/step - loss: 0.8183 - acc: 0.7097 - val_loss: 1.5288 - val_acc: 0.5257\n",
      "Epoch 38/100\n",
      "50000/50000 [==============================] - 16s 319us/step - loss: 0.8006 - acc: 0.7178 - val_loss: 1.5927 - val_acc: 0.5178\n",
      "Epoch 39/100\n",
      "50000/50000 [==============================] - 16s 317us/step - loss: 0.7938 - acc: 0.7170 - val_loss: 1.5515 - val_acc: 0.5190\n",
      "Epoch 40/100\n",
      "50000/50000 [==============================] - 16s 316us/step - loss: 0.7767 - acc: 0.7216 - val_loss: 1.6281 - val_acc: 0.5133\n",
      "Epoch 41/100\n",
      "50000/50000 [==============================] - 16s 320us/step - loss: 0.7593 - acc: 0.7286 - val_loss: 1.6257 - val_acc: 0.5087\n",
      "Epoch 42/100\n",
      "50000/50000 [==============================] - 16s 316us/step - loss: 0.7378 - acc: 0.7359 - val_loss: 1.6466 - val_acc: 0.5169\n",
      "Epoch 43/100\n",
      "50000/50000 [==============================] - 16s 317us/step - loss: 0.7290 - acc: 0.7385 - val_loss: 1.6068 - val_acc: 0.5210\n",
      "Epoch 44/100\n",
      "50000/50000 [==============================] - 16s 319us/step - loss: 0.7076 - acc: 0.7497 - val_loss: 1.6416 - val_acc: 0.5206\n",
      "Epoch 45/100\n",
      "50000/50000 [==============================] - 16s 319us/step - loss: 0.6974 - acc: 0.7498 - val_loss: 1.6556 - val_acc: 0.5187\n",
      "Epoch 46/100\n",
      "50000/50000 [==============================] - 16s 321us/step - loss: 0.6855 - acc: 0.7543 - val_loss: 1.7102 - val_acc: 0.5226\n",
      "Epoch 47/100\n",
      "50000/50000 [==============================] - 16s 322us/step - loss: 0.6654 - acc: 0.7622 - val_loss: 1.7306 - val_acc: 0.5181\n",
      "Epoch 48/100\n",
      "50000/50000 [==============================] - 16s 319us/step - loss: 0.6560 - acc: 0.7655 - val_loss: 1.7514 - val_acc: 0.5066\n",
      "Epoch 49/100\n",
      "50000/50000 [==============================] - 16s 320us/step - loss: 0.6376 - acc: 0.7734 - val_loss: 1.7180 - val_acc: 0.5241\n",
      "Epoch 50/100\n",
      "50000/50000 [==============================] - 16s 327us/step - loss: 0.6351 - acc: 0.7725 - val_loss: 1.7823 - val_acc: 0.5173\n",
      "Epoch 51/100\n",
      "50000/50000 [==============================] - 16s 319us/step - loss: 0.6143 - acc: 0.7809 - val_loss: 1.8026 - val_acc: 0.5207\n",
      "Epoch 52/100\n",
      "50000/50000 [==============================] - 16s 319us/step - loss: 0.5993 - acc: 0.7849 - val_loss: 1.8774 - val_acc: 0.5152\n",
      "Epoch 53/100\n",
      "50000/50000 [==============================] - 16s 324us/step - loss: 0.5900 - acc: 0.7899 - val_loss: 1.8713 - val_acc: 0.5148\n",
      "Epoch 54/100\n",
      "50000/50000 [==============================] - 16s 320us/step - loss: 0.5822 - acc: 0.7914 - val_loss: 1.9067 - val_acc: 0.5105\n",
      "Epoch 55/100\n",
      "50000/50000 [==============================] - 16s 324us/step - loss: 0.5550 - acc: 0.8009 - val_loss: 1.9752 - val_acc: 0.5103\n",
      "Epoch 56/100\n",
      "50000/50000 [==============================] - 16s 324us/step - loss: 0.5603 - acc: 0.8000 - val_loss: 2.0401 - val_acc: 0.5032\n",
      "Epoch 57/100\n"
     ]
    },
    {
     "name": "stdout",
     "output_type": "stream",
     "text": [
      "50000/50000 [==============================] - 16s 311us/step - loss: 0.5552 - acc: 0.7996 - val_loss: 2.0319 - val_acc: 0.5032\n",
      "Epoch 58/100\n",
      "50000/50000 [==============================] - 16s 313us/step - loss: 0.5459 - acc: 0.8057 - val_loss: 1.9634 - val_acc: 0.5129\n",
      "Epoch 59/100\n",
      "50000/50000 [==============================] - 16s 314us/step - loss: 0.5207 - acc: 0.8131 - val_loss: 2.0048 - val_acc: 0.5141\n",
      "Epoch 60/100\n",
      "50000/50000 [==============================] - 16s 313us/step - loss: 0.5119 - acc: 0.8154 - val_loss: 2.1297 - val_acc: 0.5016\n",
      "Epoch 61/100\n",
      "50000/50000 [==============================] - 16s 313us/step - loss: 0.5062 - acc: 0.8184 - val_loss: 2.1265 - val_acc: 0.5102\n",
      "Epoch 62/100\n",
      "50000/50000 [==============================] - 16s 313us/step - loss: 0.5049 - acc: 0.8191 - val_loss: 2.1348 - val_acc: 0.5122\n",
      "Epoch 63/100\n",
      "50000/50000 [==============================] - 15s 309us/step - loss: 0.4837 - acc: 0.8272 - val_loss: 2.1952 - val_acc: 0.5035\n",
      "Epoch 64/100\n",
      "50000/50000 [==============================] - 15s 309us/step - loss: 0.4898 - acc: 0.8242 - val_loss: 2.1446 - val_acc: 0.5086\n",
      "Epoch 65/100\n",
      "50000/50000 [==============================] - 15s 309us/step - loss: 0.4679 - acc: 0.8318 - val_loss: 2.1730 - val_acc: 0.5134\n",
      "Epoch 66/100\n",
      "50000/50000 [==============================] - 16s 313us/step - loss: 0.4564 - acc: 0.8360 - val_loss: 2.2929 - val_acc: 0.5028\n",
      "Epoch 67/100\n",
      "50000/50000 [==============================] - 15s 308us/step - loss: 0.4521 - acc: 0.8379 - val_loss: 2.2571 - val_acc: 0.5061\n",
      "Epoch 68/100\n",
      "50000/50000 [==============================] - 16s 314us/step - loss: 0.4444 - acc: 0.8407 - val_loss: 2.3319 - val_acc: 0.4902\n",
      "Epoch 69/100\n",
      "50000/50000 [==============================] - 15s 310us/step - loss: 0.4361 - acc: 0.8429 - val_loss: 2.3116 - val_acc: 0.5046\n",
      "Epoch 70/100\n",
      "50000/50000 [==============================] - 15s 310us/step - loss: 0.4025 - acc: 0.8551 - val_loss: 2.4660 - val_acc: 0.4976\n",
      "Epoch 71/100\n",
      "50000/50000 [==============================] - 16s 310us/step - loss: 0.4330 - acc: 0.8449 - val_loss: 2.4245 - val_acc: 0.5027\n",
      "Epoch 72/100\n",
      "50000/50000 [==============================] - 16s 310us/step - loss: 0.4091 - acc: 0.8527 - val_loss: 2.3217 - val_acc: 0.5088\n",
      "Epoch 73/100\n",
      "50000/50000 [==============================] - 15s 307us/step - loss: 0.4079 - acc: 0.8530 - val_loss: 2.5128 - val_acc: 0.5014\n",
      "Epoch 74/100\n",
      "50000/50000 [==============================] - 16s 311us/step - loss: 0.4067 - acc: 0.8536 - val_loss: 2.4756 - val_acc: 0.5037\n",
      "Epoch 75/100\n",
      "50000/50000 [==============================] - 15s 310us/step - loss: 0.4085 - acc: 0.8539 - val_loss: 2.4980 - val_acc: 0.5028\n",
      "Epoch 76/100\n",
      "50000/50000 [==============================] - 15s 308us/step - loss: 0.3983 - acc: 0.8556 - val_loss: 2.4482 - val_acc: 0.5072\n",
      "Epoch 77/100\n",
      "50000/50000 [==============================] - 15s 308us/step - loss: 0.3834 - acc: 0.8624 - val_loss: 2.4521 - val_acc: 0.5030\n",
      "Epoch 78/100\n",
      "50000/50000 [==============================] - 16s 313us/step - loss: 0.3731 - acc: 0.8665 - val_loss: 2.6144 - val_acc: 0.4995\n",
      "Epoch 79/100\n",
      "50000/50000 [==============================] - 15s 308us/step - loss: 0.3558 - acc: 0.8718 - val_loss: 2.6649 - val_acc: 0.4906\n",
      "Epoch 80/100\n",
      "50000/50000 [==============================] - 15s 308us/step - loss: 0.3527 - acc: 0.8724 - val_loss: 2.6338 - val_acc: 0.5002\n",
      "Epoch 81/100\n",
      "50000/50000 [==============================] - 16s 324us/step - loss: 0.3547 - acc: 0.8728 - val_loss: 2.6208 - val_acc: 0.4981\n",
      "Epoch 82/100\n",
      "50000/50000 [==============================] - 16s 313us/step - loss: 0.3516 - acc: 0.8739 - val_loss: 2.6687 - val_acc: 0.5017\n",
      "Epoch 83/100\n",
      "50000/50000 [==============================] - 15s 309us/step - loss: 0.3679 - acc: 0.8665 - val_loss: 2.6762 - val_acc: 0.5032\n",
      "Epoch 84/100\n",
      "50000/50000 [==============================] - 16s 313us/step - loss: 0.3204 - acc: 0.8863 - val_loss: 2.7357 - val_acc: 0.4987\n",
      "Epoch 85/100\n",
      "50000/50000 [==============================] - 16s 311us/step - loss: 0.3229 - acc: 0.8826 - val_loss: 2.7657 - val_acc: 0.4928\n",
      "Epoch 86/100\n",
      "50000/50000 [==============================] - 15s 310us/step - loss: 0.3226 - acc: 0.8840 - val_loss: 2.7690 - val_acc: 0.5066\n",
      "Epoch 87/100\n",
      "50000/50000 [==============================] - 16s 312us/step - loss: 0.3353 - acc: 0.8799 - val_loss: 2.7596 - val_acc: 0.5064\n",
      "Epoch 88/100\n",
      "50000/50000 [==============================] - 15s 310us/step - loss: 0.3341 - acc: 0.8802 - val_loss: 2.8288 - val_acc: 0.4951\n",
      "Epoch 89/100\n",
      "50000/50000 [==============================] - 16s 311us/step - loss: 0.3347 - acc: 0.8789 - val_loss: 2.8175 - val_acc: 0.4981\n",
      "Epoch 90/100\n",
      "50000/50000 [==============================] - 16s 312us/step - loss: 0.3158 - acc: 0.8851 - val_loss: 2.9077 - val_acc: 0.4929\n",
      "Epoch 91/100\n",
      "50000/50000 [==============================] - 15s 309us/step - loss: 0.3096 - acc: 0.8885 - val_loss: 2.9079 - val_acc: 0.4996\n",
      "Epoch 92/100\n",
      "50000/50000 [==============================] - 16s 312us/step - loss: 0.3024 - acc: 0.8902 - val_loss: 2.9294 - val_acc: 0.4999\n",
      "Epoch 93/100\n",
      "50000/50000 [==============================] - 16s 311us/step - loss: 0.3069 - acc: 0.8902 - val_loss: 2.9763 - val_acc: 0.4959\n",
      "Epoch 94/100\n",
      "50000/50000 [==============================] - 16s 310us/step - loss: 0.3137 - acc: 0.8859 - val_loss: 2.9635 - val_acc: 0.4983\n",
      "Epoch 95/100\n",
      "50000/50000 [==============================] - 15s 309us/step - loss: 0.2997 - acc: 0.8925 - val_loss: 2.9873 - val_acc: 0.4997\n",
      "Epoch 96/100\n",
      "50000/50000 [==============================] - 15s 309us/step - loss: 0.2826 - acc: 0.8988 - val_loss: 2.9722 - val_acc: 0.5080\n",
      "Epoch 97/100\n",
      "50000/50000 [==============================] - 16s 311us/step - loss: 0.2720 - acc: 0.9027 - val_loss: 2.9860 - val_acc: 0.4987\n",
      "Epoch 98/100\n",
      "50000/50000 [==============================] - 15s 310us/step - loss: 0.2723 - acc: 0.9017 - val_loss: 3.1183 - val_acc: 0.4969\n",
      "Epoch 99/100\n",
      "50000/50000 [==============================] - 15s 310us/step - loss: 0.3006 - acc: 0.8920 - val_loss: 3.0587 - val_acc: 0.4976\n",
      "Epoch 100/100\n",
      "50000/50000 [==============================] - 16s 314us/step - loss: 0.2786 - acc: 0.9003 - val_loss: 3.0516 - val_acc: 0.5071\n"
     ]
    },
    {
     "data": {
      "text/plain": [
       "<keras.callbacks.History at 0x16b1d208>"
      ]
     },
     "execution_count": 6,
     "metadata": {},
     "output_type": "execute_result"
    }
   ],
   "source": [
    "# 訓練模型並檢視驗證集的結果\n",
    "model.fit(x_train, y_train, \n",
    "          epochs=100, \n",
    "          batch_size=256, \n",
    "          validation_data=(x_test, y_test), \n",
    "          shuffle=True)"
   ]
  },
  {
   "cell_type": "code",
   "execution_count": 8,
   "metadata": {},
   "outputs": [
    {
     "data": {
      "image/png": "[encoded data removed]",
      "text/plain": [
       "<Figure size 432x288 with 1 Axes>"
      ]
     },
     "metadata": {
      "needs_background": "light"
     },
     "output_type": "display_data"
    },
    {
     "data": {
      "image/png": "[encoded data removed]",
      "text/plain": [
       "<Figure size 432x288 with 1 Axes>"
      ]
     },
     "metadata": {
      "needs_background": "light"
     },
     "output_type": "display_data"
    }
   ],
   "source": [
    "# 以視覺畫方式檢視訓練過程\n",
    "import matplotlib.pyplot as plt\n",
    "train_loss = model.history.history[\"loss\"]\n",
    "valid_loss = model.history.history[\"val_loss\"]\n",
    "\n",
    "train_acc = model.history.history[\"acc\"]\n",
    "valid_acc = model.history.history[\"val_acc\"]\n",
    "\n",
    "plt.plot(range(len(train_loss)), train_loss, label=\"train loss\")\n",
    "plt.plot(range(len(valid_loss)), valid_loss, label=\"valid loss\")\n",
    "plt.legend()\n",
    "plt.title(\"Loss\")\n",
    "plt.show()\n",
    "\n",
    "plt.plot(range(len(train_acc)), train_acc, label=\"train accuracy\")\n",
    "plt.plot(range(len(valid_acc)), valid_acc, label=\"valid accuracy\")\n",
    "plt.legend()\n",
    "plt.title(\"Accuracy\")\n",
    "plt.show()"
   ]
  },
  {
   "cell_type": "markdown",
   "metadata": {},
   "source": [
    "## 作業\n",
    "1. 請將 Epoch 加到 500 個，並觀察 learning curve 的走勢\n",
    "2. 請將 Optimizer 換成 SGD，並觀察 learning curve 的走勢"
   ]
  }
 ],
 "metadata": {
  "kernelspec": {
   "display_name": "Python 3",
   "language": "python",
   "name": "python3"
  },
  "language_info": {
   "codemirror_mode": {
    "name": "ipython",
    "version": 3
   },
   "file_extension": ".py",
   "mimetype": "text/x-python",
   "name": "python",
   "nbconvert_exporter": "python",
   "pygments_lexer": "ipython3",
   "version": "3.7.5"
  }
 },
 "nbformat": 4,
 "nbformat_minor": 2
}
