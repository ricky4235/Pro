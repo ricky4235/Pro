{
 "cells": [
  {
   "cell_type": "markdown",
   "metadata": {},
   "source": [
    "## 範例重點\n",
    "* 學習如何在 keras 中加入自定義的 callbacks\n",
    "* 知道 callback function 可以動作的時機"
   ]
  },
  {
   "cell_type": "code",
   "execution_count": 1,
   "metadata": {},
   "outputs": [
    {
     "name": "stderr",
     "output_type": "stream",
     "text": [
      "/home/seanyu/.conda/envs/tf18_keras/lib/python3.6/site-packages/h5py/__init__.py:36: FutureWarning: Conversion of the second argument of issubdtype from `float` to `np.floating` is deprecated. In future, it will be treated as `np.float64 == np.dtype(float).type`.\n",
      "  from ._conv import register_converters as _register_converters\n",
      "Using TensorFlow backend.\n"
     ]
    }
   ],
   "source": [
    "import os\n",
    "import keras\n",
    "\n",
    "# 本範例不需使用 GPU, 將 GPU 設定為 \"無\"\n",
    "os.environ[\"CUDA_VISIBLE_DEVICES\"] = \"\""
   ]
  },
  {
   "cell_type": "code",
   "execution_count": 2,
   "metadata": {},
   "outputs": [],
   "source": [
    "train, test = keras.datasets.cifar10.load_data()"
   ]
  },
  {
   "cell_type": "code",
   "execution_count": 3,
   "metadata": {},
   "outputs": [],
   "source": [
    "## 資料前處理\n",
    "def preproc_x(x, flatten=True):\n",
    "    x = x / 255.\n",
    "    if flatten:\n",
    "        x = x.reshape((len(x), -1))\n",
    "    return x\n",
    "\n",
    "def preproc_y(y, num_classes=10):\n",
    "    if y.shape[-1] == 1:\n",
    "        y = keras.utils.to_categorical(y, num_classes)\n",
    "    return y    "
   ]
  },
  {
   "cell_type": "code",
   "execution_count": 4,
   "metadata": {},
   "outputs": [],
   "source": [
    "x_train, y_train = train\n",
    "x_test, y_test = test\n",
    "\n",
    "# 資料前處理 - X 標準化\n",
    "x_train = preproc_x(x_train)\n",
    "x_test = preproc_x(x_test)\n",
    "\n",
    "# 資料前處理 -Y 轉成 onehot\n",
    "y_train = preproc_y(y_train)\n",
    "y_test = preproc_y(y_test)"
   ]
  },
  {
   "cell_type": "code",
   "execution_count": 5,
   "metadata": {},
   "outputs": [],
   "source": [
    "from keras.layers import BatchNormalization\n",
    "\n",
    "\"\"\"\n",
    "建立神經網路，並加入 BN layer\n",
    "\"\"\"\n",
    "def build_mlp(input_shape, output_units=10, num_neurons=[512, 256, 128]):\n",
    "    input_layer = keras.layers.Input(input_shape)\n",
    "    \n",
    "    for i, n_units in enumerate(num_neurons):\n",
    "        if i == 0:\n",
    "            x = keras.layers.Dense(units=n_units, \n",
    "                                   activation=\"relu\", \n",
    "                                   name=\"hidden_layer\"+str(i+1))(input_layer)\n",
    "            x = BatchNormalization()(x)\n",
    "        else:\n",
    "            x = keras.layers.Dense(units=n_units, \n",
    "                                   activation=\"relu\", \n",
    "                                   name=\"hidden_layer\"+str(i+1))(x)\n",
    "            x = BatchNormalization()(x)\n",
    "    \n",
    "    out = keras.layers.Dense(units=output_units, activation=\"softmax\", name=\"output\")(x)\n",
    "    \n",
    "    model = keras.models.Model(inputs=[input_layer], outputs=[out])\n",
    "    return model"
   ]
  },
  {
   "cell_type": "code",
   "execution_count": 6,
   "metadata": {},
   "outputs": [],
   "source": [
    "## 超參數設定\n",
    "LEARNING_RATE = 1e-3\n",
    "EPOCHS = 50\n",
    "BATCH_SIZE = 1024\n",
    "MOMENTUM = 0.95"
   ]
  },
  {
   "cell_type": "code",
   "execution_count": 7,
   "metadata": {},
   "outputs": [],
   "source": [
    "\"\"\"\n",
    "# 載入 Callbacks，撰寫一個 f1 score 的 callback function\n",
    "\"\"\"\n",
    "\n",
    "from keras.callbacks import Callback\n",
    "from sklearn.metrics import f1_score\n",
    "\n",
    "class f1sc(Callback):\n",
    "    def on_train_begin(self, epoch, logs = {}):\n",
    "        logs = logs or {}\n",
    "        record_items = [\"val_auc\", \"val_f1sc\", \"val_fp\", \"val_fn\", \"val_tp\", \"val_tn\"]\n",
    "        for i in record_items:\n",
    "            if i not in self.params['metrics']:\n",
    "                self.params['metrics'].append(i)\n",
    "    \n",
    "    def on_epoch_end(self, epoch, logs = {}, thres=0.5):\n",
    "        logs = logs or {}\n",
    "        y_true = self.validation_data[1].argmax(axis = 1)\n",
    "        y_pred = self.model.predict(self.validation_data[0])\n",
    "        y_pred = (y_pred[:, 1] >= thres) * 1\n",
    "        \n",
    "        logs[\"val_f1sc\"] = f1_score(y_true = y_true, y_pred = y_pred, average=\"weighted\")\n",
    "        \n",
    "log_f1sc = f1sc()"
   ]
  },
  {
   "cell_type": "code",
   "execution_count": 8,
   "metadata": {
    "scrolled": true
   },
   "outputs": [
    {
     "name": "stdout",
     "output_type": "stream",
     "text": [
      "_________________________________________________________________\n",
      "Layer (type)                 Output Shape              Param #   \n",
      "=================================================================\n",
      "input_1 (InputLayer)         (None, 3072)              0         \n",
      "_________________________________________________________________\n",
      "hidden_layer1 (Dense)        (None, 512)               1573376   \n",
      "_________________________________________________________________\n",
      "batch_normalization_1 (Batch (None, 512)               2048      \n",
      "_________________________________________________________________\n",
      "hidden_layer2 (Dense)        (None, 256)               131328    \n",
      "_________________________________________________________________\n",
      "batch_normalization_2 (Batch (None, 256)               1024      \n",
      "_________________________________________________________________\n",
      "hidden_layer3 (Dense)        (None, 128)               32896     \n",
      "_________________________________________________________________\n",
      "batch_normalization_3 (Batch (None, 128)               512       \n",
      "_________________________________________________________________\n",
      "output (Dense)               (None, 10)                1290      \n",
      "=================================================================\n",
      "Total params: 1,742,474\n",
      "Trainable params: 1,740,682\n",
      "Non-trainable params: 1,792\n",
      "_________________________________________________________________\n",
      "Train on 50000 samples, validate on 10000 samples\n",
      "Epoch 1/50\n",
      "50000/50000 [==============================] - 4s 82us/step - loss: 2.2134 - acc: 0.2684 - val_loss: 2.1423 - val_acc: 0.3194\n",
      "Epoch 2/50\n",
      " 2048/50000 [>.............................] - ETA: 3s - loss: 1.8053 - acc: 0.3706"
     ]
    },
    {
     "name": "stderr",
     "output_type": "stream",
     "text": [
      "/home/seanyu/.conda/envs/tf18_keras/lib/python3.6/site-packages/sklearn/metrics/classification.py:1135: UndefinedMetricWarning: F-score is ill-defined and being set to 0.0 in labels with no predicted samples.\n",
      "  'precision', 'predicted', average, warn_for)\n"
     ]
    },
    {
     "name": "stdout",
     "output_type": "stream",
     "text": [
      "50000/50000 [==============================] - 3s 66us/step - loss: 1.7367 - acc: 0.3947 - val_loss: 1.7779 - val_acc: 0.3894\n",
      "Epoch 3/50\n",
      "50000/50000 [==============================] - 3s 60us/step - loss: 1.6108 - acc: 0.4350 - val_loss: 1.7013 - val_acc: 0.4109\n",
      "Epoch 4/50\n",
      "50000/50000 [==============================] - 3s 68us/step - loss: 1.5362 - acc: 0.4622 - val_loss: 1.6348 - val_acc: 0.4249\n",
      "Epoch 5/50\n",
      "50000/50000 [==============================] - 3s 58us/step - loss: 1.4805 - acc: 0.4814 - val_loss: 1.5938 - val_acc: 0.4442\n",
      "Epoch 6/50\n",
      "50000/50000 [==============================] - 3s 56us/step - loss: 1.4351 - acc: 0.4987 - val_loss: 1.5637 - val_acc: 0.4490\n",
      "Epoch 7/50\n",
      "50000/50000 [==============================] - 3s 61us/step - loss: 1.3945 - acc: 0.5131 - val_loss: 1.5474 - val_acc: 0.4600\n",
      "Epoch 8/50\n",
      "50000/50000 [==============================] - 3s 59us/step - loss: 1.3577 - acc: 0.5257 - val_loss: 1.5314 - val_acc: 0.4564\n",
      "Epoch 9/50\n",
      "50000/50000 [==============================] - 3s 56us/step - loss: 1.3267 - acc: 0.5368 - val_loss: 1.5104 - val_acc: 0.4698\n",
      "Epoch 10/50\n",
      "50000/50000 [==============================] - 3s 55us/step - loss: 1.2947 - acc: 0.5469 - val_loss: 1.5066 - val_acc: 0.4682\n",
      "Epoch 11/50\n",
      "50000/50000 [==============================] - 3s 56us/step - loss: 1.2659 - acc: 0.5587 - val_loss: 1.4950 - val_acc: 0.4770\n",
      "Epoch 12/50\n",
      "50000/50000 [==============================] - 3s 56us/step - loss: 1.2369 - acc: 0.5698 - val_loss: 1.4841 - val_acc: 0.4776\n",
      "Epoch 13/50\n",
      "50000/50000 [==============================] - 3s 58us/step - loss: 1.2100 - acc: 0.5818 - val_loss: 1.4883 - val_acc: 0.4790\n",
      "Epoch 14/50\n",
      "50000/50000 [==============================] - 3s 56us/step - loss: 1.1855 - acc: 0.5881 - val_loss: 1.4936 - val_acc: 0.4714\n",
      "Epoch 15/50\n",
      "50000/50000 [==============================] - 3s 54us/step - loss: 1.1611 - acc: 0.5971 - val_loss: 1.4694 - val_acc: 0.4845\n",
      "Epoch 16/50\n",
      "50000/50000 [==============================] - 3s 55us/step - loss: 1.1352 - acc: 0.6089 - val_loss: 1.4640 - val_acc: 0.4868\n",
      "Epoch 17/50\n",
      "50000/50000 [==============================] - 3s 55us/step - loss: 1.1137 - acc: 0.6165 - val_loss: 1.4611 - val_acc: 0.4927\n",
      "Epoch 18/50\n",
      "50000/50000 [==============================] - 3s 58us/step - loss: 1.0901 - acc: 0.6261 - val_loss: 1.4707 - val_acc: 0.4894\n",
      "Epoch 19/50\n",
      "50000/50000 [==============================] - 3s 57us/step - loss: 1.0686 - acc: 0.6361 - val_loss: 1.4747 - val_acc: 0.4837\n",
      "Epoch 20/50\n",
      "50000/50000 [==============================] - 3s 55us/step - loss: 1.0446 - acc: 0.6442 - val_loss: 1.4678 - val_acc: 0.4883\n",
      "Epoch 21/50\n",
      "50000/50000 [==============================] - 3s 63us/step - loss: 1.0248 - acc: 0.6517 - val_loss: 1.4677 - val_acc: 0.4930\n",
      "Epoch 22/50\n",
      "50000/50000 [==============================] - 3s 58us/step - loss: 1.0019 - acc: 0.6603 - val_loss: 1.4654 - val_acc: 0.4952\n",
      "Epoch 23/50\n",
      "50000/50000 [==============================] - 3s 58us/step - loss: 0.9812 - acc: 0.6684 - val_loss: 1.4737 - val_acc: 0.4922\n",
      "Epoch 24/50\n",
      "50000/50000 [==============================] - 3s 55us/step - loss: 0.9616 - acc: 0.6780 - val_loss: 1.4841 - val_acc: 0.4836\n",
      "Epoch 25/50\n",
      "50000/50000 [==============================] - 3s 52us/step - loss: 0.9414 - acc: 0.6863 - val_loss: 1.4699 - val_acc: 0.4931\n",
      "Epoch 26/50\n",
      "50000/50000 [==============================] - 3s 54us/step - loss: 0.9182 - acc: 0.6946 - val_loss: 1.4772 - val_acc: 0.4965\n",
      "Epoch 27/50\n",
      "50000/50000 [==============================] - 3s 55us/step - loss: 0.8996 - acc: 0.7015 - val_loss: 1.4773 - val_acc: 0.4934\n",
      "Epoch 28/50\n",
      "50000/50000 [==============================] - 3s 56us/step - loss: 0.8803 - acc: 0.7086 - val_loss: 1.4823 - val_acc: 0.4965\n",
      "Epoch 29/50\n",
      "50000/50000 [==============================] - 3s 63us/step - loss: 0.8599 - acc: 0.7170 - val_loss: 1.4915 - val_acc: 0.4969\n",
      "Epoch 30/50\n",
      "50000/50000 [==============================] - 3s 55us/step - loss: 0.8393 - acc: 0.7266 - val_loss: 1.4982 - val_acc: 0.4984\n",
      "Epoch 31/50\n",
      "50000/50000 [==============================] - 3s 54us/step - loss: 0.8188 - acc: 0.7346 - val_loss: 1.4957 - val_acc: 0.4944\n",
      "Epoch 32/50\n",
      "50000/50000 [==============================] - 3s 55us/step - loss: 0.8029 - acc: 0.7404 - val_loss: 1.5081 - val_acc: 0.4955\n",
      "Epoch 33/50\n",
      "50000/50000 [==============================] - 3s 53us/step - loss: 0.7831 - acc: 0.7484 - val_loss: 1.5159 - val_acc: 0.4961\n",
      "Epoch 34/50\n",
      "50000/50000 [==============================] - 3s 54us/step - loss: 0.7635 - acc: 0.7559 - val_loss: 1.5187 - val_acc: 0.4918\n",
      "Epoch 35/50\n",
      "50000/50000 [==============================] - 3s 54us/step - loss: 0.7444 - acc: 0.7621 - val_loss: 1.5299 - val_acc: 0.4934\n",
      "Epoch 36/50\n",
      "50000/50000 [==============================] - 3s 54us/step - loss: 0.7265 - acc: 0.7706 - val_loss: 1.5433 - val_acc: 0.5026\n",
      "Epoch 37/50\n",
      "50000/50000 [==============================] - 3s 55us/step - loss: 0.7071 - acc: 0.7783 - val_loss: 1.5468 - val_acc: 0.4969\n",
      "Epoch 38/50\n",
      "50000/50000 [==============================] - 3s 61us/step - loss: 0.6909 - acc: 0.7832 - val_loss: 1.5545 - val_acc: 0.4882\n",
      "Epoch 39/50\n",
      "50000/50000 [==============================] - 3s 58us/step - loss: 0.6696 - acc: 0.7925 - val_loss: 1.5666 - val_acc: 0.4895\n",
      "Epoch 40/50\n",
      "50000/50000 [==============================] - 3s 54us/step - loss: 0.6555 - acc: 0.7984 - val_loss: 1.5809 - val_acc: 0.4940\n",
      "Epoch 41/50\n",
      "50000/50000 [==============================] - 3s 57us/step - loss: 0.6366 - acc: 0.8043 - val_loss: 1.5877 - val_acc: 0.4946\n",
      "Epoch 42/50\n",
      "50000/50000 [==============================] - 3s 57us/step - loss: 0.6188 - acc: 0.8122 - val_loss: 1.5990 - val_acc: 0.4890\n",
      "Epoch 43/50\n",
      "50000/50000 [==============================] - 3s 56us/step - loss: 0.6001 - acc: 0.8211 - val_loss: 1.6219 - val_acc: 0.4904\n",
      "Epoch 44/50\n",
      "50000/50000 [==============================] - 3s 54us/step - loss: 0.5838 - acc: 0.8270 - val_loss: 1.6197 - val_acc: 0.4904\n",
      "Epoch 45/50\n",
      "50000/50000 [==============================] - 3s 57us/step - loss: 0.5655 - acc: 0.8327 - val_loss: 1.6447 - val_acc: 0.4866\n",
      "Epoch 46/50\n",
      "50000/50000 [==============================] - 3s 58us/step - loss: 0.5471 - acc: 0.8419 - val_loss: 1.6529 - val_acc: 0.4856\n",
      "Epoch 47/50\n",
      "50000/50000 [==============================] - 3s 58us/step - loss: 0.5341 - acc: 0.8439 - val_loss: 1.6647 - val_acc: 0.4853\n",
      "Epoch 48/50\n",
      "50000/50000 [==============================] - 3s 56us/step - loss: 0.5176 - acc: 0.8530 - val_loss: 1.6730 - val_acc: 0.4889\n",
      "Epoch 49/50\n",
      "50000/50000 [==============================] - 3s 57us/step - loss: 0.5002 - acc: 0.8595 - val_loss: 1.6821 - val_acc: 0.4859\n",
      "Epoch 50/50\n",
      "50000/50000 [==============================] - 3s 54us/step - loss: 0.4819 - acc: 0.8676 - val_loss: 1.7014 - val_acc: 0.4885\n"
     ]
    }
   ],
   "source": [
    "model = build_mlp(input_shape=x_train.shape[1:])\n",
    "model.summary()\n",
    "optimizer = keras.optimizers.SGD(lr=LEARNING_RATE, nesterov=True, momentum=MOMENTUM)\n",
    "model.compile(loss=\"categorical_crossentropy\", metrics=[\"accuracy\"], optimizer=optimizer)\n",
    "\n",
    "model.fit(x_train, y_train, \n",
    "          epochs=EPOCHS, \n",
    "          batch_size=BATCH_SIZE, \n",
    "          validation_data=(x_test, y_test), \n",
    "          shuffle=True,\n",
    "          callbacks=[log_f1sc]\n",
    "         )\n",
    "\n",
    "# Collect results\n",
    "train_loss = model.history.history[\"loss\"]\n",
    "valid_loss = model.history.history[\"val_loss\"]\n",
    "train_acc = model.history.history[\"acc\"]\n",
    "valid_acc = model.history.history[\"val_acc\"]\n",
    "\n",
    "# 在訓練後，將 f1sc 紀錄調出\n",
    "valid_f1sc = model.history.history['val_f1sc']"
   ]
  },
  {
   "cell_type": "code",
   "execution_count": 1,
   "metadata": {},
   "outputs": [
    {
     "ename": "NameError",
     "evalue": "name 'train_loss' is not defined",
     "output_type": "error",
     "traceback": [
      "\u001b[1;31m---------------------------------------------------------------------------\u001b[0m",
      "\u001b[1;31mNameError\u001b[0m                                 Traceback (most recent call last)",
      "\u001b[1;32m<ipython-input-1-2993d775ea0d>\u001b[0m in \u001b[0;36m<module>\u001b[1;34m\u001b[0m\n\u001b[0;32m      2\u001b[0m \u001b[0mget_ipython\u001b[0m\u001b[1;33m(\u001b[0m\u001b[1;33m)\u001b[0m\u001b[1;33m.\u001b[0m\u001b[0mrun_line_magic\u001b[0m\u001b[1;33m(\u001b[0m\u001b[1;34m'matplotlib'\u001b[0m\u001b[1;33m,\u001b[0m \u001b[1;34m'inline'\u001b[0m\u001b[1;33m)\u001b[0m\u001b[1;33m\u001b[0m\u001b[1;33m\u001b[0m\u001b[0m\n\u001b[0;32m      3\u001b[0m \u001b[1;33m\u001b[0m\u001b[0m\n\u001b[1;32m----> 4\u001b[1;33m \u001b[0mplt\u001b[0m\u001b[1;33m.\u001b[0m\u001b[0mplot\u001b[0m\u001b[1;33m(\u001b[0m\u001b[0mrange\u001b[0m\u001b[1;33m(\u001b[0m\u001b[0mlen\u001b[0m\u001b[1;33m(\u001b[0m\u001b[0mtrain_loss\u001b[0m\u001b[1;33m)\u001b[0m\u001b[1;33m)\u001b[0m\u001b[1;33m,\u001b[0m \u001b[0mtrain_loss\u001b[0m\u001b[1;33m,\u001b[0m \u001b[0mlabel\u001b[0m\u001b[1;33m=\u001b[0m\u001b[1;34m\"train loss\"\u001b[0m\u001b[1;33m)\u001b[0m\u001b[1;33m\u001b[0m\u001b[1;33m\u001b[0m\u001b[0m\n\u001b[0m\u001b[0;32m      5\u001b[0m \u001b[0mplt\u001b[0m\u001b[1;33m.\u001b[0m\u001b[0mplot\u001b[0m\u001b[1;33m(\u001b[0m\u001b[0mrange\u001b[0m\u001b[1;33m(\u001b[0m\u001b[0mlen\u001b[0m\u001b[1;33m(\u001b[0m\u001b[0mvalid_loss\u001b[0m\u001b[1;33m)\u001b[0m\u001b[1;33m)\u001b[0m\u001b[1;33m,\u001b[0m \u001b[0mvalid_loss\u001b[0m\u001b[1;33m,\u001b[0m \u001b[0mlabel\u001b[0m\u001b[1;33m=\u001b[0m\u001b[1;34m\"valid loss\"\u001b[0m\u001b[1;33m)\u001b[0m\u001b[1;33m\u001b[0m\u001b[1;33m\u001b[0m\u001b[0m\n\u001b[0;32m      6\u001b[0m \u001b[0mplt\u001b[0m\u001b[1;33m.\u001b[0m\u001b[0mlegend\u001b[0m\u001b[1;33m(\u001b[0m\u001b[1;33m)\u001b[0m\u001b[1;33m\u001b[0m\u001b[1;33m\u001b[0m\u001b[0m\n",
      "\u001b[1;31mNameError\u001b[0m: name 'train_loss' is not defined"
     ]
    }
   ],
   "source": [
    "import matplotlib.pyplot as plt\n",
    "%matplotlib inline\n",
    "\n",
    "plt.plot(range(len(train_loss)), train_loss, label=\"train loss\")\n",
    "plt.plot(range(len(valid_loss)), valid_loss, label=\"valid loss\")\n",
    "plt.legend()\n",
    "plt.title(\"Loss\")\n",
    "plt.show()\n",
    "\n",
    "plt.plot(range(len(train_acc)), train_acc, label=\"train accuracy\")\n",
    "plt.plot(range(len(valid_acc)), valid_acc, label=\"valid accuracy\")\n",
    "plt.legend()\n",
    "plt.title(\"Accuracy\")\n",
    "plt.show()\n",
    "\n",
    "plt.plot(range(len(valid_f1sc)), valid_f1sc, label=\"valid f1-score\")\n",
    "plt.legend()\n",
    "plt.title(\"F1-score\")\n",
    "plt.show()\n"
   ]
  },
  {
   "cell_type": "markdown",
   "metadata": {},
   "source": [
    "## Work\n",
    "1. 請嘗試寫一個 callback 用來記錄各類別在訓練過程中，對驗證集的 True Positive 與 True Negative"
   ]
  }
 ],
 "metadata": {
  "kernelspec": {
   "display_name": "Python 3",
   "language": "python",
   "name": "python3"
  },
  "language_info": {
   "codemirror_mode": {
    "name": "ipython",
    "version": 3
   },
   "file_extension": ".py",
   "mimetype": "text/x-python",
   "name": "python",
   "nbconvert_exporter": "python",
   "pygments_lexer": "ipython3",
   "version": "3.7.5"
  }
 },
 "nbformat": 4,
 "nbformat_minor": 2
}
