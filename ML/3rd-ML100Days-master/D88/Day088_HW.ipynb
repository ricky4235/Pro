{
 "cells": [
  {
   "cell_type": "markdown",
   "metadata": {},
   "source": [
    "## Work\n",
    "1. 請嘗試寫一個 callback 用來記錄各類別在訓練過程中，對驗證集的 True Positive 與 True Negative"
   ]
  },
  {
   "cell_type": "code",
   "execution_count": 3,
   "metadata": {},
   "outputs": [],
   "source": [
    "import os\n",
    "import keras\n",
    "import tensorflow as tf\n",
    "# Disable GPU\n",
    "os.environ[\"CUDA_VISIBLE_DEVICES\"] = \"0\"\n",
    "\n",
    "config = tf.ConfigProto(allow_soft_placement=True)\n",
    "\n",
    "#最多占gpu资源的70%\n",
    "gpu_options = tf.GPUOptions(per_process_gpu_memory_fraction=0.7)\n",
    "\n",
    "#开始不会给tensorflow全部gpu资源 而是按需增加\n",
    "config.gpu_options.allow_growth = True\n",
    "sess = tf.Session(config=config)"
   ]
  },
  {
   "cell_type": "code",
   "execution_count": 4,
   "metadata": {},
   "outputs": [],
   "source": [
    "train, test = keras.datasets.cifar10.load_data()"
   ]
  },
  {
   "cell_type": "code",
   "execution_count": 5,
   "metadata": {},
   "outputs": [],
   "source": [
    "## 資料前處理\n",
    "def preproc_x(x, flatten=True):\n",
    "    x = x / 255.\n",
    "    if flatten:\n",
    "        x = x.reshape((len(x), -1))\n",
    "    return x\n",
    "\n",
    "def preproc_y(y, num_classes=10):\n",
    "    if y.shape[-1] == 1:\n",
    "        y = keras.utils.to_categorical(y, num_classes)\n",
    "    return y    "
   ]
  },
  {
   "cell_type": "code",
   "execution_count": 55,
   "metadata": {},
   "outputs": [
    {
     "name": "stdout",
     "output_type": "stream",
     "text": [
      "(50000, 10)\n",
      "(10000, 10)\n"
     ]
    }
   ],
   "source": [
    "x_train, y_train = train\n",
    "x_test, y_test = test\n",
    "\n",
    "# Preproc the inputs\n",
    "x_train = preproc_x(x_train)\n",
    "x_test = preproc_x(x_test)\n",
    "\n",
    "# Preprc the outputs\n",
    "y_train = preproc_y(y_train)\n",
    "y_test = preproc_y(y_test)\n",
    "\n",
    "print(y_train.shape)\n",
    "print(y_test.shape)"
   ]
  },
  {
   "cell_type": "code",
   "execution_count": 7,
   "metadata": {},
   "outputs": [],
   "source": [
    "from keras.layers import BatchNormalization\n",
    "\n",
    "\"\"\"\n",
    "建立神經網路，並加入 BN layer\n",
    "\"\"\"\n",
    "def build_mlp(input_shape, output_units=10, num_neurons=[512, 256, 128]):\n",
    "    input_layer = keras.layers.Input(input_shape)\n",
    "    \n",
    "    for i, n_units in enumerate(num_neurons):\n",
    "        if i == 0:\n",
    "            x = keras.layers.Dense(units=n_units, \n",
    "                                   activation=\"relu\", \n",
    "                                   name=\"hidden_layer\"+str(i+1))(input_layer)\n",
    "            x = BatchNormalization()(x)\n",
    "        else:\n",
    "            x = keras.layers.Dense(units=n_units, \n",
    "                                   activation=\"relu\", \n",
    "                                   name=\"hidden_layer\"+str(i+1))(x)\n",
    "            x = BatchNormalization()(x)\n",
    "    \n",
    "    out = keras.layers.Dense(units=output_units, activation=\"softmax\", name=\"output\")(x)\n",
    "    \n",
    "    model = keras.models.Model(inputs=[input_layer], outputs=[out])\n",
    "    return model"
   ]
  },
  {
   "cell_type": "code",
   "execution_count": 8,
   "metadata": {},
   "outputs": [],
   "source": [
    "## 超參數設定\n",
    "LEARNING_RATE = 1e-3\n",
    "EPOCHS = 25\n",
    "BATCH_SIZE = 1024\n",
    "MOMENTUM = 0.95"
   ]
  },
  {
   "cell_type": "code",
   "execution_count": 97,
   "metadata": {},
   "outputs": [],
   "source": [
    "# 載入 Callbacks\n",
    "from keras.callbacks import Callback\n",
    "from sklearn.metrics import confusion_matrix\n",
    "import numpy as np\n",
    "\n",
    "    \n",
    "# Record_fp_tp\n",
    "class Record_tp_tn(Callback):\n",
    "    \"\"\"Code Here\n",
    "    撰寫一個紀錄 ture positive 與 true negative 數量的 callbacks    \n",
    "    \"\"\"\n",
    "    def on_train_begin(self, epoch, logs = {}, thres=0.5):\n",
    "        logs = logs or {}\n",
    "        record_items = [\"val_auc\", \"val_f1sc\", \"val_fp\", \"val_fn\", \"val_tp\", \"val_tn\"]\n",
    "        for i in record_items:\n",
    "            if i not in self.params['metrics']:\n",
    "                self.params['metrics'].append(i)\n",
    "    \n",
    "    def on_epoch_end(self, epoch, logs = {}, thres=0.5):\n",
    "        logs = logs or {}\n",
    "#         y_pred = np.round(np.asarray(self.model.predict(self.validation_data[0])))\n",
    "#        y_pred = list (map(boolMap,self.model.predict([self.validation_data[0],self.validation_data[1]])))\n",
    "        x_test = self.validation_data[0]\n",
    "        y_test = np.round(self.validation_data[1].argmax(axis = 1))\n",
    "        print(x_test.shape)\n",
    "        print(y_test.shape)\n",
    "        y_pred = np.round(self.model.predict(x_test).argmax(axis = 1))\n",
    "        print(y_pred.shape)\n",
    "        #cm = confusion_matrix(np.round(y_test), np.round(y_pred))\n",
    "        #print(cm)\n",
    "        \n",
    "        logs[\"val_tp\"] = np.sum(np.logical_and(y_pred == 1, y_test == 1))\n",
    "        logs[\"val_tn\"] = np.sum(np.logical_and(y_pred == 0, y_test == 0))\n",
    "        \n",
    "#         logs[\"valid_tp\"] = confusion_matrix[0.0]\n",
    "#         logs[\"valid_tn\"] = confusion_matrix[1.1]\n",
    "\n",
    "        \n",
    "rec_tptn = Record_tp_tn()"
   ]
  },
  {
   "cell_type": "code",
   "execution_count": 98,
   "metadata": {
    "scrolled": true
   },
   "outputs": [
    {
     "name": "stdout",
     "output_type": "stream",
     "text": [
      "_________________________________________________________________\n",
      "Layer (type)                 Output Shape              Param #   \n",
      "=================================================================\n",
      "input_41 (InputLayer)        (None, 3072)              0         \n",
      "_________________________________________________________________\n",
      "hidden_layer1 (Dense)        (None, 512)               1573376   \n",
      "_________________________________________________________________\n",
      "batch_normalization_121 (Bat (None, 512)               2048      \n",
      "_________________________________________________________________\n",
      "hidden_layer2 (Dense)        (None, 256)               131328    \n",
      "_________________________________________________________________\n",
      "batch_normalization_122 (Bat (None, 256)               1024      \n",
      "_________________________________________________________________\n",
      "hidden_layer3 (Dense)        (None, 128)               32896     \n",
      "_________________________________________________________________\n",
      "batch_normalization_123 (Bat (None, 128)               512       \n",
      "_________________________________________________________________\n",
      "output (Dense)               (None, 10)                1290      \n",
      "=================================================================\n",
      "Total params: 1,742,474\n",
      "Trainable params: 1,740,682\n",
      "Non-trainable params: 1,792\n",
      "_________________________________________________________________\n",
      "Train on 50000 samples, validate on 10000 samples\n",
      "Epoch 1/25\n",
      "50000/50000 [==============================] - 8s 161us/step - loss: 2.1849 - acc: 0.2746 - val_loss: 2.2163 - val_acc: 0.3037\n",
      "(10000, 3072)\n",
      "(10000,)\n",
      "(10000,)\n",
      "Epoch 2/25\n",
      "50000/50000 [==============================] - 3s 50us/step - loss: 1.7246 - acc: 0.3982 - val_loss: 1.7920 - val_acc: 0.3903\n",
      "(10000, 3072)\n",
      "(10000,)\n",
      "(10000,)\n",
      "Epoch 3/25\n",
      "50000/50000 [==============================] - 3s 50us/step - loss: 1.6021 - acc: 0.4391 - val_loss: 1.6550 - val_acc: 0.4169\n",
      "(10000, 3072)\n",
      "(10000,)\n",
      "(10000,)\n",
      "Epoch 4/25\n",
      "50000/50000 [==============================] - 3s 50us/step - loss: 1.5303 - acc: 0.4635 - val_loss: 1.6498 - val_acc: 0.4189\n",
      "(10000, 3072)\n",
      "(10000,)\n",
      "(10000,)\n",
      "Epoch 5/25\n",
      "50000/50000 [==============================] - 3s 52us/step - loss: 1.4758 - acc: 0.4842 - val_loss: 1.5980 - val_acc: 0.4372\n",
      "(10000, 3072)\n",
      "(10000,)\n",
      "(10000,)\n",
      "Epoch 6/25\n",
      "50000/50000 [==============================] - 3s 51us/step - loss: 1.4324 - acc: 0.4986 - val_loss: 1.5743 - val_acc: 0.4455\n",
      "(10000, 3072)\n",
      "(10000,)\n",
      "(10000,)\n",
      "Epoch 7/25\n",
      "50000/50000 [==============================] - 3s 52us/step - loss: 1.3946 - acc: 0.5131 - val_loss: 1.5565 - val_acc: 0.4505\n",
      "(10000, 3072)\n",
      "(10000,)\n",
      "(10000,)\n",
      "Epoch 8/25\n",
      "50000/50000 [==============================] - 3s 52us/step - loss: 1.3582 - acc: 0.5239 - val_loss: 1.5404 - val_acc: 0.4591\n",
      "(10000, 3072)\n",
      "(10000,)\n",
      "(10000,)\n",
      "Epoch 9/25\n",
      "50000/50000 [==============================] - 3s 52us/step - loss: 1.3255 - acc: 0.5378 - val_loss: 1.5306 - val_acc: 0.4625\n",
      "(10000, 3072)\n",
      "(10000,)\n",
      "(10000,)\n",
      "Epoch 10/25\n",
      "50000/50000 [==============================] - 3s 51us/step - loss: 1.2980 - acc: 0.5492 - val_loss: 1.5092 - val_acc: 0.4666\n",
      "(10000, 3072)\n",
      "(10000,)\n",
      "(10000,)\n",
      "Epoch 11/25\n",
      "50000/50000 [==============================] - 3s 54us/step - loss: 1.2672 - acc: 0.5597 - val_loss: 1.5063 - val_acc: 0.4713\n",
      "(10000, 3072)\n",
      "(10000,)\n",
      "(10000,)\n",
      "Epoch 12/25\n",
      "50000/50000 [==============================] - 3s 53us/step - loss: 1.2425 - acc: 0.5671 - val_loss: 1.5065 - val_acc: 0.4700\n",
      "(10000, 3072)\n",
      "(10000,)\n",
      "(10000,)\n",
      "Epoch 13/25\n",
      "50000/50000 [==============================] - 3s 53us/step - loss: 1.2167 - acc: 0.5790 - val_loss: 1.4902 - val_acc: 0.4774\n",
      "(10000, 3072)\n",
      "(10000,)\n",
      "(10000,)\n",
      "Epoch 14/25\n",
      "50000/50000 [==============================] - 3s 52us/step - loss: 1.1924 - acc: 0.5888 - val_loss: 1.4851 - val_acc: 0.4777\n",
      "(10000, 3072)\n",
      "(10000,)\n",
      "(10000,)\n",
      "Epoch 15/25\n",
      "50000/50000 [==============================] - 3s 55us/step - loss: 1.1675 - acc: 0.5949 - val_loss: 1.4808 - val_acc: 0.4768\n",
      "(10000, 3072)\n",
      "(10000,)\n",
      "(10000,)\n",
      "Epoch 16/25\n",
      "50000/50000 [==============================] - 3s 55us/step - loss: 1.1452 - acc: 0.6023 - val_loss: 1.4662 - val_acc: 0.4831\n",
      "(10000, 3072)\n",
      "(10000,)\n",
      "(10000,)\n",
      "Epoch 17/25\n",
      "50000/50000 [==============================] - 3s 53us/step - loss: 1.1226 - acc: 0.6115 - val_loss: 1.4838 - val_acc: 0.4786\n",
      "(10000, 3072)\n",
      "(10000,)\n",
      "(10000,)\n",
      "Epoch 18/25\n",
      "50000/50000 [==============================] - 3s 53us/step - loss: 1.0988 - acc: 0.6213 - val_loss: 1.4710 - val_acc: 0.4816\n",
      "(10000, 3072)\n",
      "(10000,)\n",
      "(10000,)\n",
      "Epoch 19/25\n",
      "50000/50000 [==============================] - 3s 55us/step - loss: 1.0776 - acc: 0.6310 - val_loss: 1.4655 - val_acc: 0.4887\n",
      "(10000, 3072)\n",
      "(10000,)\n",
      "(10000,)\n",
      "Epoch 20/25\n",
      "50000/50000 [==============================] - 3s 51us/step - loss: 1.0562 - acc: 0.6389 - val_loss: 1.4714 - val_acc: 0.4880A: 1s - loss:\n",
      "(10000, 3072)\n",
      "(10000,)\n",
      "(10000,)\n",
      "Epoch 21/25\n",
      "50000/50000 [==============================] - 3s 52us/step - loss: 1.0353 - acc: 0.6463 - val_loss: 1.4729 - val_acc: 0.4912\n",
      "(10000, 3072)\n",
      "(10000,)\n",
      "(10000,)\n",
      "Epoch 22/25\n",
      "50000/50000 [==============================] - 3s 51us/step - loss: 1.0124 - acc: 0.6549 - val_loss: 1.4920 - val_acc: 0.4834\n",
      "(10000, 3072)\n",
      "(10000,)\n",
      "(10000,)\n",
      "Epoch 23/25\n",
      "50000/50000 [==============================] - 3s 56us/step - loss: 0.9925 - acc: 0.6613 - val_loss: 1.4712 - val_acc: 0.4892\n",
      "(10000, 3072)\n",
      "(10000,)\n",
      "(10000,)\n",
      "Epoch 24/25\n",
      "50000/50000 [==============================] - 3s 51us/step - loss: 0.9730 - acc: 0.6725 - val_loss: 1.4686 - val_acc: 0.4906\n",
      "(10000, 3072)\n",
      "(10000,)\n",
      "(10000,)\n",
      "Epoch 25/25\n",
      "50000/50000 [==============================] - 3s 52us/step - loss: 0.9523 - acc: 0.6782 - val_loss: 1.5068 - val_acc: 0.4901\n",
      "(10000, 3072)\n",
      "(10000,)\n",
      "(10000,)\n"
     ]
    }
   ],
   "source": [
    "model = build_mlp(input_shape=x_train.shape[1:])\n",
    "model.summary()\n",
    "optimizer = keras.optimizers.SGD(lr=LEARNING_RATE, nesterov=True, momentum=MOMENTUM)\n",
    "model.compile(loss=\"categorical_crossentropy\", metrics=[\"accuracy\"], optimizer=optimizer)\n",
    "\n",
    "\"\"\"Code Here\n",
    "將 callbacks 放入模型訓練流程中\n",
    "\"\"\"\n",
    "model.fit(x_train, y_train, \n",
    "          epochs=EPOCHS, \n",
    "          batch_size=BATCH_SIZE,\n",
    "          validation_data=(x_test, y_test), \n",
    "          shuffle=True,\n",
    "          callbacks=[rec_tptn]\n",
    "         )\n",
    "\n",
    "# Collect results\n",
    "train_loss = model.history.history[\"loss\"]\n",
    "valid_loss = model.history.history[\"val_loss\"]\n",
    "train_acc = model.history.history[\"acc\"]\n",
    "valid_acc = model.history.history[\"val_acc\"]\n",
    "\n",
    "\"\"\"Code Here\n",
    "將 tp/tn 從訓練完的模型中取出\n",
    "\"\"\"\n",
    "valid_tp = model.history.history[\"val_tp\"]\n",
    "valid_tn = model.history.history[\"val_tn\"]"
   ]
  },
  {
   "cell_type": "code",
   "execution_count": 103,
   "metadata": {},
   "outputs": [
    {
     "data": {
      "image/png": "[encoded data removed]",
      "text/plain": [
       "<Figure size 432x288 with 1 Axes>"
      ]
     },
     "metadata": {
      "needs_background": "light"
     },
     "output_type": "display_data"
    },
    {
     "data": {
      "image/png": "[encoded data removed]",
      "text/plain": [
       "<Figure size 432x288 with 1 Axes>"
      ]
     },
     "metadata": {
      "needs_background": "light"
     },
     "output_type": "display_data"
    },
    {
     "data": {
      "image/png": "[encoded data removed]",
      "text/plain": [
       "<Figure size 432x288 with 1 Axes>"
      ]
     },
     "metadata": {
      "needs_background": "light"
     },
     "output_type": "display_data"
    }
   ],
   "source": [
    "import matplotlib.pyplot as plt\n",
    "%matplotlib inline\n",
    "\n",
    "plt.plot(range(len(train_loss)), train_loss, label=\"train loss\")\n",
    "plt.plot(range(len(valid_loss)), valid_loss, label=\"valid loss\")\n",
    "plt.legend()\n",
    "plt.title(\"Loss\")\n",
    "plt.show()\n",
    "\n",
    "plt.plot(range(len(train_acc)), train_acc, label=\"train accuracy\")\n",
    "plt.plot(range(len(valid_acc)), valid_acc, label=\"valid accuracy\")\n",
    "plt.legend()\n",
    "plt.title(\"Accuracy\")\n",
    "plt.show()\n",
    "\n",
    "\n",
    "\n",
    "valid_all = np.array(valid_tp)+np.array(valid_tn)\n",
    "\n",
    "plt.plot(range(len(valid_tp)), valid_tp, label=\"valid tp\", color=\"navy\")\n",
    "plt.plot(range(len(valid_tn)), valid_tn, label=\"valid tn\", color=\"red\")\n",
    "plt.plot(range(len(valid_all)), valid_all, label=\"all\", color=\"g\")\n",
    "plt.legend()\n",
    "plt.title(\"True positives and True Negatives\")\n",
    "plt.show()\n"
   ]
  },
  {
   "cell_type": "code",
   "execution_count": null,
   "metadata": {},
   "outputs": [],
   "source": []
  }
 ],
 "metadata": {
  "kernelspec": {
   "display_name": "Python 3",
   "language": "python",
   "name": "python3"
  },
  "language_info": {
   "codemirror_mode": {
    "name": "ipython",
    "version": 3
   },
   "file_extension": ".py",
   "mimetype": "text/x-python",
   "name": "python",
   "nbconvert_exporter": "python",
   "pygments_lexer": "ipython3",
   "version": "3.7.5"
  }
 },
 "nbformat": 4,
 "nbformat_minor": 2
}
