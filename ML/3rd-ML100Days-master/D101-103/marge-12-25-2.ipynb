{
 "cells": [
  {
   "cell_type": "code",
   "execution_count": 1,
   "metadata": {},
   "outputs": [],
   "source": [
    "import pandas as pd"
   ]
  },
  {
   "cell_type": "code",
   "execution_count": 2,
   "metadata": {},
   "outputs": [],
   "source": [
    "# 資料路徑\n",
    "DATASET_PATH  = 'E:/git/3rd-ML100Days/D101-103/'"
   ]
  },
  {
   "cell_type": "code",
   "execution_count": 3,
   "metadata": {},
   "outputs": [],
   "source": [
    "NASNetLarge = pd.read_csv(DATASET_PATH+'NASNetLarge-pre-12-24.csv')"
   ]
  },
  {
   "cell_type": "code",
   "execution_count": 4,
   "metadata": {},
   "outputs": [],
   "source": [
    "model_2 = pd.read_csv(DATASET_PATH+'Xception_model_12_25-1_pre.csv')"
   ]
  },
  {
   "cell_type": "code",
   "execution_count": 5,
   "metadata": {},
   "outputs": [],
   "source": [
    "df_all = pd.merge(NASNetLarge, model_2, how='inner', on='id')"
   ]
  },
  {
   "cell_type": "code",
   "execution_count": 6,
   "metadata": {},
   "outputs": [],
   "source": [
    "model_3 = pd.read_csv(DATASET_PATH+'InceptionV3-pre-12-24-3.csv')"
   ]
  },
  {
   "cell_type": "code",
   "execution_count": 10,
   "metadata": {},
   "outputs": [
    {
     "ename": "TypeError",
     "evalue": "merge() got multiple values for argument 'how'",
     "output_type": "error",
     "traceback": [
      "\u001b[1;31m---------------------------------------------------------------------------\u001b[0m",
      "\u001b[1;31mTypeError\u001b[0m                                 Traceback (most recent call last)",
      "\u001b[1;32m<ipython-input-10-a9e0aa5712e8>\u001b[0m in \u001b[0;36m<module>\u001b[1;34m\u001b[0m\n\u001b[1;32m----> 1\u001b[1;33m \u001b[0mdf_all\u001b[0m \u001b[1;33m=\u001b[0m \u001b[0mpd\u001b[0m\u001b[1;33m.\u001b[0m\u001b[0mmerge\u001b[0m\u001b[1;33m(\u001b[0m\u001b[0mNASNetLarge\u001b[0m\u001b[1;33m,\u001b[0m \u001b[0mmodel_2\u001b[0m\u001b[1;33m,\u001b[0m\u001b[0mmodel_3\u001b[0m\u001b[1;33m,\u001b[0m \u001b[0mhow\u001b[0m\u001b[1;33m=\u001b[0m\u001b[1;34m'inner'\u001b[0m\u001b[1;33m,\u001b[0m \u001b[0mon\u001b[0m\u001b[1;33m=\u001b[0m\u001b[1;34m'id'\u001b[0m\u001b[1;33m)\u001b[0m\u001b[1;33m\u001b[0m\u001b[1;33m\u001b[0m\u001b[0m\n\u001b[0m",
      "\u001b[1;31mTypeError\u001b[0m: merge() got multiple values for argument 'how'"
     ]
    }
   ],
   "source": [
    "df_all = pd.merge(model_2, model_3, how='inner', on='id')"
   ]
  },
  {
   "cell_type": "code",
   "execution_count": 11,
   "metadata": {},
   "outputs": [
    {
     "data": {
      "text/html": [
       "<div>\n",
       "<style scoped>\n",
       "    .dataframe tbody tr th:only-of-type {\n",
       "        vertical-align: middle;\n",
       "    }\n",
       "\n",
       "    .dataframe tbody tr th {\n",
       "        vertical-align: top;\n",
       "    }\n",
       "\n",
       "    .dataframe thead th {\n",
       "        text-align: right;\n",
       "    }\n",
       "</style>\n",
       "<table border=\"1\" class=\"dataframe\">\n",
       "  <thead>\n",
       "    <tr style=\"text-align: right;\">\n",
       "      <th></th>\n",
       "      <th>id</th>\n",
       "      <th>daisys_x</th>\n",
       "      <th>dandelions_x</th>\n",
       "      <th>roses_x</th>\n",
       "      <th>sunflowers_x</th>\n",
       "      <th>tulips_x</th>\n",
       "      <th>flower_class</th>\n",
       "      <th>daisys_y</th>\n",
       "      <th>dandelions_y</th>\n",
       "      <th>roses_y</th>\n",
       "      <th>sunflowers_y</th>\n",
       "      <th>tulips_y</th>\n",
       "      <th>daisys</th>\n",
       "      <th>dandelions</th>\n",
       "      <th>roses</th>\n",
       "      <th>sunflowers</th>\n",
       "      <th>tulips</th>\n",
       "    </tr>\n",
       "  </thead>\n",
       "  <tbody>\n",
       "    <tr>\n",
       "      <th>0</th>\n",
       "      <td>0028624c49b3e0610ff9f1d111f5d532</td>\n",
       "      <td>0.001325</td>\n",
       "      <td>1.130563e-05</td>\n",
       "      <td>9.983783e-01</td>\n",
       "      <td>1.584273e-05</td>\n",
       "      <td>0.000270</td>\n",
       "      <td>2</td>\n",
       "      <td>2.394070e-35</td>\n",
       "      <td>5.026096e-29</td>\n",
       "      <td>1.000000e+00</td>\n",
       "      <td>9.040489e-23</td>\n",
       "      <td>1.136384e-19</td>\n",
       "      <td>0.000045</td>\n",
       "      <td>0.000048</td>\n",
       "      <td>0.991421</td>\n",
       "      <td>0.000051</td>\n",
       "      <td>0.008436</td>\n",
       "    </tr>\n",
       "    <tr>\n",
       "      <th>1</th>\n",
       "      <td>002c30700185b7971369258b438070d5</td>\n",
       "      <td>0.000001</td>\n",
       "      <td>2.693699e-08</td>\n",
       "      <td>4.099620e-08</td>\n",
       "      <td>9.263110e-08</td>\n",
       "      <td>0.999998</td>\n",
       "      <td>4</td>\n",
       "      <td>0.000000e+00</td>\n",
       "      <td>0.000000e+00</td>\n",
       "      <td>0.000000e+00</td>\n",
       "      <td>0.000000e+00</td>\n",
       "      <td>1.000000e+00</td>\n",
       "      <td>0.000155</td>\n",
       "      <td>0.000026</td>\n",
       "      <td>0.002472</td>\n",
       "      <td>0.000003</td>\n",
       "      <td>0.997344</td>\n",
       "    </tr>\n",
       "    <tr>\n",
       "      <th>2</th>\n",
       "      <td>00852f4f666acecd0c0d140365b42efd</td>\n",
       "      <td>0.000007</td>\n",
       "      <td>3.967508e-06</td>\n",
       "      <td>9.996108e-01</td>\n",
       "      <td>1.684739e-06</td>\n",
       "      <td>0.000377</td>\n",
       "      <td>2</td>\n",
       "      <td>1.486434e-15</td>\n",
       "      <td>8.501844e-17</td>\n",
       "      <td>9.911346e-01</td>\n",
       "      <td>3.862377e-11</td>\n",
       "      <td>8.865295e-03</td>\n",
       "      <td>0.001513</td>\n",
       "      <td>0.000267</td>\n",
       "      <td>0.916839</td>\n",
       "      <td>0.074380</td>\n",
       "      <td>0.007002</td>\n",
       "    </tr>\n",
       "    <tr>\n",
       "      <th>3</th>\n",
       "      <td>00c08828fce04e360c732cac01edad9e</td>\n",
       "      <td>0.000093</td>\n",
       "      <td>1.016766e-07</td>\n",
       "      <td>4.369829e-06</td>\n",
       "      <td>4.492535e-05</td>\n",
       "      <td>0.999857</td>\n",
       "      <td>4</td>\n",
       "      <td>1.068493e-17</td>\n",
       "      <td>9.584993e-11</td>\n",
       "      <td>6.188249e-20</td>\n",
       "      <td>2.400493e-17</td>\n",
       "      <td>1.000000e+00</td>\n",
       "      <td>0.000267</td>\n",
       "      <td>0.000102</td>\n",
       "      <td>0.000500</td>\n",
       "      <td>0.000344</td>\n",
       "      <td>0.998786</td>\n",
       "    </tr>\n",
       "    <tr>\n",
       "      <th>4</th>\n",
       "      <td>00d366e7877b6a78b104b57d67b60e6b</td>\n",
       "      <td>0.007823</td>\n",
       "      <td>1.017901e-02</td>\n",
       "      <td>1.239580e-03</td>\n",
       "      <td>3.386749e-02</td>\n",
       "      <td>0.946890</td>\n",
       "      <td>4</td>\n",
       "      <td>8.008352e-25</td>\n",
       "      <td>6.130677e-11</td>\n",
       "      <td>6.454307e-27</td>\n",
       "      <td>3.718305e-20</td>\n",
       "      <td>1.000000e+00</td>\n",
       "      <td>0.030513</td>\n",
       "      <td>0.184569</td>\n",
       "      <td>0.231546</td>\n",
       "      <td>0.009968</td>\n",
       "      <td>0.543404</td>\n",
       "    </tr>\n",
       "  </tbody>\n",
       "</table>\n",
       "</div>"
      ],
      "text/plain": [
       "                                 id  daisys_x  dandelions_x       roses_x  \\\n",
       "0  0028624c49b3e0610ff9f1d111f5d532  0.001325  1.130563e-05  9.983783e-01   \n",
       "1  002c30700185b7971369258b438070d5  0.000001  2.693699e-08  4.099620e-08   \n",
       "2  00852f4f666acecd0c0d140365b42efd  0.000007  3.967508e-06  9.996108e-01   \n",
       "3  00c08828fce04e360c732cac01edad9e  0.000093  1.016766e-07  4.369829e-06   \n",
       "4  00d366e7877b6a78b104b57d67b60e6b  0.007823  1.017901e-02  1.239580e-03   \n",
       "\n",
       "   sunflowers_x  tulips_x  flower_class      daisys_y  dandelions_y  \\\n",
       "0  1.584273e-05  0.000270             2  2.394070e-35  5.026096e-29   \n",
       "1  9.263110e-08  0.999998             4  0.000000e+00  0.000000e+00   \n",
       "2  1.684739e-06  0.000377             2  1.486434e-15  8.501844e-17   \n",
       "3  4.492535e-05  0.999857             4  1.068493e-17  9.584993e-11   \n",
       "4  3.386749e-02  0.946890             4  8.008352e-25  6.130677e-11   \n",
       "\n",
       "        roses_y  sunflowers_y      tulips_y    daisys  dandelions     roses  \\\n",
       "0  1.000000e+00  9.040489e-23  1.136384e-19  0.000045    0.000048  0.991421   \n",
       "1  0.000000e+00  0.000000e+00  1.000000e+00  0.000155    0.000026  0.002472   \n",
       "2  9.911346e-01  3.862377e-11  8.865295e-03  0.001513    0.000267  0.916839   \n",
       "3  6.188249e-20  2.400493e-17  1.000000e+00  0.000267    0.000102  0.000500   \n",
       "4  6.454307e-27  3.718305e-20  1.000000e+00  0.030513    0.184569  0.231546   \n",
       "\n",
       "   sunflowers    tulips  \n",
       "0    0.000051  0.008436  \n",
       "1    0.000003  0.997344  \n",
       "2    0.074380  0.007002  \n",
       "3    0.000344  0.998786  \n",
       "4    0.009968  0.543404  "
      ]
     },
     "execution_count": 11,
     "metadata": {},
     "output_type": "execute_result"
    }
   ],
   "source": [
    "df_all.head()"
   ]
  },
  {
   "cell_type": "code",
   "execution_count": 12,
   "metadata": {},
   "outputs": [],
   "source": [
    "# print (df_all['daisys_x']*0.9+df_all['daisys_y']*0.1)\n",
    "#print (df_all[['id', 'daisys_x']])\n",
    "int_a = 0.7\n",
    "\n",
    "int_b = 0.2\n",
    "\n",
    "int_c = 1-int_a-int_b\n",
    "\n",
    "\n",
    "df_new = pd.DataFrame()\n",
    "# df_new['id']=df_all['id']\n",
    "# df_new['daisys'] = df_all['daisys_x']*int_a+df_all['daisys_y']*int_b\n",
    "# df_new['dandelions'] = df_all['dandelions_x']*int_a+df_all['dandelions_y']*int_b\n",
    "# df_new['roses'] = df_all['roses_x']*int_a+df_all['roses_y']*int_b\n",
    "# df_new['sunflowers'] = df_all['sunflowers_x']*int_a+df_all['sunflowers_y']*int_b\n",
    "# df_new['tulips'] = df_all['tulips_x']*int_a+df_all['tulips_y']*int_b\n",
    "\n",
    "df_new['id']=df_all['id']\n",
    "df_new['daisys'] = df_all['daisys_x']*int_a+df_all['daisys_y']*int_b+df_all['daisys']*int_c\n",
    "df_new['dandelions'] = df_all['dandelions_x']*int_a+df_all['dandelions_y']*int_b+df_all['dandelions']*int_c\n",
    "df_new['roses'] = df_all['roses_x']*int_a+df_all['roses_y']*int_b+df_all['roses']*int_c\n",
    "df_new['sunflowers'] = df_all['sunflowers_x']*int_a+df_all['sunflowers_y']*int_b+df_all['sunflowers']*int_c\n",
    "df_new['tulips'] = df_all['tulips_x']*int_a+df_all['tulips_y']*int_b+df_all['tulips']*int_c\n",
    "\n",
    "\n",
    "\n"
   ]
  },
  {
   "cell_type": "code",
   "execution_count": 13,
   "metadata": {},
   "outputs": [
    {
     "name": "stderr",
     "output_type": "stream",
     "text": [
      "d:\\Anaconda3\\envs\\tensorflow-gpu-3.7\\lib\\site-packages\\ipykernel_launcher.py:8: FutureWarning: Method .as_matrix will be removed in a future version. Use .values instead.\n",
      "  \n"
     ]
    }
   ],
   "source": [
    "NEW_CVS_NAME = 'n7x2v1_M-12-25.csv'\n",
    "\n",
    "df_new.set_index('id')\n",
    "\n",
    "ids =[]\n",
    "rf_pred =[]\n",
    "for index, row in df_new.iterrows():\n",
    "    a = row[['daisys','dandelions','roses','sunflowers','tulips']].as_matrix()\n",
    "    result = a.argmax()\n",
    "#     print (row['id'])\n",
    "    ids.append(row['id'])\n",
    "    rf_pred.append(result)\n",
    "    \n",
    "sub = pd.DataFrame({'id': ids, 'flower_class': rf_pred})\n",
    "sub.to_csv(NEW_CVS_NAME, index=False)    \n"
   ]
  },
  {
   "cell_type": "code",
   "execution_count": 14,
   "metadata": {},
   "outputs": [
    {
     "data": {
      "text/plain": [
       "flower_class\n",
       "0    368\n",
       "1    467\n",
       "2    356\n",
       "3    347\n",
       "4    462\n",
       "dtype: int64"
      ]
     },
     "execution_count": 14,
     "metadata": {},
     "output_type": "execute_result"
    }
   ],
   "source": [
    " sub.groupby(\"flower_class\").size()"
   ]
  },
  {
   "cell_type": "code",
   "execution_count": 15,
   "metadata": {},
   "outputs": [],
   "source": [
    "m_new = pd.read_csv(NEW_CVS_NAME)"
   ]
  },
  {
   "cell_type": "code",
   "execution_count": 17,
   "metadata": {},
   "outputs": [
    {
     "data": {
      "text/plain": [
       "flower_class\n",
       "0    368\n",
       "1    467\n",
       "2    356\n",
       "3    347\n",
       "4    462\n",
       "dtype: int64"
      ]
     },
     "execution_count": 17,
     "metadata": {},
     "output_type": "execute_result"
    }
   ],
   "source": [
    "m_new.groupby(\"flower_class\").size()"
   ]
  },
  {
   "cell_type": "code",
   "execution_count": 20,
   "metadata": {},
   "outputs": [
    {
     "name": "stderr",
     "output_type": "stream",
     "text": [
      "d:\\Anaconda3\\envs\\tensorflow-gpu-3.7\\lib\\site-packages\\ipykernel_launcher.py:4: FutureWarning: Method .as_matrix will be removed in a future version. Use .values instead.\n",
      "  after removing the cwd from sys.path.\n"
     ]
    }
   ],
   "source": [
    "ids =[]\n",
    "rf_pred =[]\n",
    "for index, row in NASNetLarge.iterrows():\n",
    "    a = row[['daisys','dandelions','roses','sunflowers','tulips']].as_matrix()\n",
    "    result = a.argmax()\n",
    "#     print (row['id'])\n",
    "    ids.append(row['id'])\n",
    "    rf_pred.append(result)\n",
    "    \n",
    "sub_nas = pd.DataFrame({'id': ids, 'flower_class': rf_pred})\n"
   ]
  },
  {
   "cell_type": "code",
   "execution_count": 21,
   "metadata": {},
   "outputs": [
    {
     "data": {
      "text/plain": [
       "flower_class\n",
       "0    370\n",
       "1    473\n",
       "2    351\n",
       "3    345\n",
       "4    461\n",
       "dtype: int64"
      ]
     },
     "execution_count": 21,
     "metadata": {},
     "output_type": "execute_result"
    }
   ],
   "source": [
    " sub_nas.groupby(\"flower_class\").size()"
   ]
  },
  {
   "cell_type": "code",
   "execution_count": null,
   "metadata": {},
   "outputs": [],
   "source": []
  }
 ],
 "metadata": {
  "kernelspec": {
   "display_name": "Python 3",
   "language": "python",
   "name": "python3"
  },
  "language_info": {
   "codemirror_mode": {
    "name": "ipython",
    "version": 3
   },
   "file_extension": ".py",
   "mimetype": "text/x-python",
   "name": "python",
   "nbconvert_exporter": "python",
   "pygments_lexer": "ipython3",
   "version": "3.7.5"
  }
 },
 "nbformat": 4,
 "nbformat_minor": 2
}
