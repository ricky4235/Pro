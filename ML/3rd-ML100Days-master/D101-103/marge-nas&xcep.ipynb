{
 "cells": [
  {
   "cell_type": "code",
   "execution_count": 1,
   "metadata": {},
   "outputs": [],
   "source": [
    "import pandas as pd"
   ]
  },
  {
   "cell_type": "code",
   "execution_count": 2,
   "metadata": {},
   "outputs": [],
   "source": [
    "# 資料路徑\n",
    "DATASET_PATH  = 'E:/git/3rd-ML100Days/D101-103/'"
   ]
  },
  {
   "cell_type": "code",
   "execution_count": 3,
   "metadata": {},
   "outputs": [],
   "source": [
    "NASNetLarge = pd.read_csv(DATASET_PATH+'NASNetLarge-pre-12-24.csv')"
   ]
  },
  {
   "cell_type": "code",
   "execution_count": 4,
   "metadata": {},
   "outputs": [
    {
     "data": {
      "text/html": [
       "<div>\n",
       "<style scoped>\n",
       "    .dataframe tbody tr th:only-of-type {\n",
       "        vertical-align: middle;\n",
       "    }\n",
       "\n",
       "    .dataframe tbody tr th {\n",
       "        vertical-align: top;\n",
       "    }\n",
       "\n",
       "    .dataframe thead th {\n",
       "        text-align: right;\n",
       "    }\n",
       "</style>\n",
       "<table border=\"1\" class=\"dataframe\">\n",
       "  <thead>\n",
       "    <tr style=\"text-align: right;\">\n",
       "      <th></th>\n",
       "      <th>id</th>\n",
       "      <th>daisys</th>\n",
       "      <th>dandelions</th>\n",
       "      <th>roses</th>\n",
       "      <th>sunflowers</th>\n",
       "      <th>tulips</th>\n",
       "    </tr>\n",
       "  </thead>\n",
       "  <tbody>\n",
       "    <tr>\n",
       "      <th>0</th>\n",
       "      <td>0028624c49b3e0610ff9f1d111f5d532</td>\n",
       "      <td>0.001325</td>\n",
       "      <td>1.130563e-05</td>\n",
       "      <td>9.983783e-01</td>\n",
       "      <td>1.584273e-05</td>\n",
       "      <td>0.000270</td>\n",
       "    </tr>\n",
       "    <tr>\n",
       "      <th>1</th>\n",
       "      <td>002c30700185b7971369258b438070d5</td>\n",
       "      <td>0.000001</td>\n",
       "      <td>2.693699e-08</td>\n",
       "      <td>4.099620e-08</td>\n",
       "      <td>9.263110e-08</td>\n",
       "      <td>0.999998</td>\n",
       "    </tr>\n",
       "    <tr>\n",
       "      <th>2</th>\n",
       "      <td>00852f4f666acecd0c0d140365b42efd</td>\n",
       "      <td>0.000007</td>\n",
       "      <td>3.967508e-06</td>\n",
       "      <td>9.996108e-01</td>\n",
       "      <td>1.684739e-06</td>\n",
       "      <td>0.000377</td>\n",
       "    </tr>\n",
       "    <tr>\n",
       "      <th>3</th>\n",
       "      <td>00c08828fce04e360c732cac01edad9e</td>\n",
       "      <td>0.000093</td>\n",
       "      <td>1.016766e-07</td>\n",
       "      <td>4.369829e-06</td>\n",
       "      <td>4.492535e-05</td>\n",
       "      <td>0.999857</td>\n",
       "    </tr>\n",
       "    <tr>\n",
       "      <th>4</th>\n",
       "      <td>00d366e7877b6a78b104b57d67b60e6b</td>\n",
       "      <td>0.007823</td>\n",
       "      <td>1.017901e-02</td>\n",
       "      <td>1.239580e-03</td>\n",
       "      <td>3.386749e-02</td>\n",
       "      <td>0.946890</td>\n",
       "    </tr>\n",
       "  </tbody>\n",
       "</table>\n",
       "</div>"
      ],
      "text/plain": [
       "                                 id    daisys    dandelions         roses  \\\n",
       "0  0028624c49b3e0610ff9f1d111f5d532  0.001325  1.130563e-05  9.983783e-01   \n",
       "1  002c30700185b7971369258b438070d5  0.000001  2.693699e-08  4.099620e-08   \n",
       "2  00852f4f666acecd0c0d140365b42efd  0.000007  3.967508e-06  9.996108e-01   \n",
       "3  00c08828fce04e360c732cac01edad9e  0.000093  1.016766e-07  4.369829e-06   \n",
       "4  00d366e7877b6a78b104b57d67b60e6b  0.007823  1.017901e-02  1.239580e-03   \n",
       "\n",
       "     sunflowers    tulips  \n",
       "0  1.584273e-05  0.000270  \n",
       "1  9.263110e-08  0.999998  \n",
       "2  1.684739e-06  0.000377  \n",
       "3  4.492535e-05  0.999857  \n",
       "4  3.386749e-02  0.946890  "
      ]
     },
     "execution_count": 4,
     "metadata": {},
     "output_type": "execute_result"
    }
   ],
   "source": [
    "NASNetLarge.head()"
   ]
  },
  {
   "cell_type": "code",
   "execution_count": 7,
   "metadata": {},
   "outputs": [
    {
     "name": "stdout",
     "output_type": "stream",
     "text": [
      "0       1.324761e-03\n",
      "1       1.494962e-06\n",
      "2       6.627631e-06\n",
      "3       9.346197e-05\n",
      "4       7.823443e-03\n",
      "            ...     \n",
      "1995    3.032600e-08\n",
      "1996    1.745922e-05\n",
      "1997    9.478146e-01\n",
      "1998    1.166906e-02\n",
      "1999    4.609772e-04\n",
      "Name: daisys, Length: 2000, dtype: float64\n"
     ]
    }
   ],
   "source": [
    "print (NASNetLarge['daisys'])"
   ]
  },
  {
   "cell_type": "code",
   "execution_count": 7,
   "metadata": {},
   "outputs": [],
   "source": [
    "model_2 = pd.read_csv(DATASET_PATH+'Xception_model_12_25-1_pre.csv')"
   ]
  },
  {
   "cell_type": "code",
   "execution_count": 8,
   "metadata": {},
   "outputs": [
    {
     "data": {
      "text/html": [
       "<div>\n",
       "<style scoped>\n",
       "    .dataframe tbody tr th:only-of-type {\n",
       "        vertical-align: middle;\n",
       "    }\n",
       "\n",
       "    .dataframe tbody tr th {\n",
       "        vertical-align: top;\n",
       "    }\n",
       "\n",
       "    .dataframe thead th {\n",
       "        text-align: right;\n",
       "    }\n",
       "</style>\n",
       "<table border=\"1\" class=\"dataframe\">\n",
       "  <thead>\n",
       "    <tr style=\"text-align: right;\">\n",
       "      <th></th>\n",
       "      <th>id</th>\n",
       "      <th>flower_class</th>\n",
       "      <th>daisys</th>\n",
       "      <th>dandelions</th>\n",
       "      <th>roses</th>\n",
       "      <th>sunflowers</th>\n",
       "      <th>tulips</th>\n",
       "    </tr>\n",
       "  </thead>\n",
       "  <tbody>\n",
       "    <tr>\n",
       "      <th>0</th>\n",
       "      <td>0028624c49b3e0610ff9f1d111f5d532</td>\n",
       "      <td>2</td>\n",
       "      <td>2.394070e-35</td>\n",
       "      <td>5.026096e-29</td>\n",
       "      <td>1.000000e+00</td>\n",
       "      <td>9.040489e-23</td>\n",
       "      <td>1.136384e-19</td>\n",
       "    </tr>\n",
       "    <tr>\n",
       "      <th>1</th>\n",
       "      <td>002c30700185b7971369258b438070d5</td>\n",
       "      <td>4</td>\n",
       "      <td>0.000000e+00</td>\n",
       "      <td>0.000000e+00</td>\n",
       "      <td>0.000000e+00</td>\n",
       "      <td>0.000000e+00</td>\n",
       "      <td>1.000000e+00</td>\n",
       "    </tr>\n",
       "    <tr>\n",
       "      <th>2</th>\n",
       "      <td>00852f4f666acecd0c0d140365b42efd</td>\n",
       "      <td>2</td>\n",
       "      <td>1.486434e-15</td>\n",
       "      <td>8.501844e-17</td>\n",
       "      <td>9.911346e-01</td>\n",
       "      <td>3.862377e-11</td>\n",
       "      <td>8.865295e-03</td>\n",
       "    </tr>\n",
       "    <tr>\n",
       "      <th>3</th>\n",
       "      <td>00c08828fce04e360c732cac01edad9e</td>\n",
       "      <td>4</td>\n",
       "      <td>1.068493e-17</td>\n",
       "      <td>9.584993e-11</td>\n",
       "      <td>6.188249e-20</td>\n",
       "      <td>2.400493e-17</td>\n",
       "      <td>1.000000e+00</td>\n",
       "    </tr>\n",
       "    <tr>\n",
       "      <th>4</th>\n",
       "      <td>00d366e7877b6a78b104b57d67b60e6b</td>\n",
       "      <td>4</td>\n",
       "      <td>8.008352e-25</td>\n",
       "      <td>6.130677e-11</td>\n",
       "      <td>6.454307e-27</td>\n",
       "      <td>3.718305e-20</td>\n",
       "      <td>1.000000e+00</td>\n",
       "    </tr>\n",
       "  </tbody>\n",
       "</table>\n",
       "</div>"
      ],
      "text/plain": [
       "                                 id  flower_class        daisys    dandelions  \\\n",
       "0  0028624c49b3e0610ff9f1d111f5d532             2  2.394070e-35  5.026096e-29   \n",
       "1  002c30700185b7971369258b438070d5             4  0.000000e+00  0.000000e+00   \n",
       "2  00852f4f666acecd0c0d140365b42efd             2  1.486434e-15  8.501844e-17   \n",
       "3  00c08828fce04e360c732cac01edad9e             4  1.068493e-17  9.584993e-11   \n",
       "4  00d366e7877b6a78b104b57d67b60e6b             4  8.008352e-25  6.130677e-11   \n",
       "\n",
       "          roses    sunflowers        tulips  \n",
       "0  1.000000e+00  9.040489e-23  1.136384e-19  \n",
       "1  0.000000e+00  0.000000e+00  1.000000e+00  \n",
       "2  9.911346e-01  3.862377e-11  8.865295e-03  \n",
       "3  6.188249e-20  2.400493e-17  1.000000e+00  \n",
       "4  6.454307e-27  3.718305e-20  1.000000e+00  "
      ]
     },
     "execution_count": 8,
     "metadata": {},
     "output_type": "execute_result"
    }
   ],
   "source": [
    "model_2.head()"
   ]
  },
  {
   "cell_type": "code",
   "execution_count": 9,
   "metadata": {},
   "outputs": [],
   "source": [
    "df_all = pd.merge(NASNetLarge, model_2, how='inner', on='id')"
   ]
  },
  {
   "cell_type": "code",
   "execution_count": 10,
   "metadata": {},
   "outputs": [
    {
     "data": {
      "text/html": [
       "<div>\n",
       "<style scoped>\n",
       "    .dataframe tbody tr th:only-of-type {\n",
       "        vertical-align: middle;\n",
       "    }\n",
       "\n",
       "    .dataframe tbody tr th {\n",
       "        vertical-align: top;\n",
       "    }\n",
       "\n",
       "    .dataframe thead th {\n",
       "        text-align: right;\n",
       "    }\n",
       "</style>\n",
       "<table border=\"1\" class=\"dataframe\">\n",
       "  <thead>\n",
       "    <tr style=\"text-align: right;\">\n",
       "      <th></th>\n",
       "      <th>id</th>\n",
       "      <th>daisys_x</th>\n",
       "      <th>dandelions_x</th>\n",
       "      <th>roses_x</th>\n",
       "      <th>sunflowers_x</th>\n",
       "      <th>tulips_x</th>\n",
       "      <th>flower_class</th>\n",
       "      <th>daisys_y</th>\n",
       "      <th>dandelions_y</th>\n",
       "      <th>roses_y</th>\n",
       "      <th>sunflowers_y</th>\n",
       "      <th>tulips_y</th>\n",
       "    </tr>\n",
       "  </thead>\n",
       "  <tbody>\n",
       "    <tr>\n",
       "      <th>0</th>\n",
       "      <td>0028624c49b3e0610ff9f1d111f5d532</td>\n",
       "      <td>0.001325</td>\n",
       "      <td>1.130563e-05</td>\n",
       "      <td>9.983783e-01</td>\n",
       "      <td>1.584273e-05</td>\n",
       "      <td>0.000270</td>\n",
       "      <td>2</td>\n",
       "      <td>2.394070e-35</td>\n",
       "      <td>5.026096e-29</td>\n",
       "      <td>1.000000e+00</td>\n",
       "      <td>9.040489e-23</td>\n",
       "      <td>1.136384e-19</td>\n",
       "    </tr>\n",
       "    <tr>\n",
       "      <th>1</th>\n",
       "      <td>002c30700185b7971369258b438070d5</td>\n",
       "      <td>0.000001</td>\n",
       "      <td>2.693699e-08</td>\n",
       "      <td>4.099620e-08</td>\n",
       "      <td>9.263110e-08</td>\n",
       "      <td>0.999998</td>\n",
       "      <td>4</td>\n",
       "      <td>0.000000e+00</td>\n",
       "      <td>0.000000e+00</td>\n",
       "      <td>0.000000e+00</td>\n",
       "      <td>0.000000e+00</td>\n",
       "      <td>1.000000e+00</td>\n",
       "    </tr>\n",
       "    <tr>\n",
       "      <th>2</th>\n",
       "      <td>00852f4f666acecd0c0d140365b42efd</td>\n",
       "      <td>0.000007</td>\n",
       "      <td>3.967508e-06</td>\n",
       "      <td>9.996108e-01</td>\n",
       "      <td>1.684739e-06</td>\n",
       "      <td>0.000377</td>\n",
       "      <td>2</td>\n",
       "      <td>1.486434e-15</td>\n",
       "      <td>8.501844e-17</td>\n",
       "      <td>9.911346e-01</td>\n",
       "      <td>3.862377e-11</td>\n",
       "      <td>8.865295e-03</td>\n",
       "    </tr>\n",
       "    <tr>\n",
       "      <th>3</th>\n",
       "      <td>00c08828fce04e360c732cac01edad9e</td>\n",
       "      <td>0.000093</td>\n",
       "      <td>1.016766e-07</td>\n",
       "      <td>4.369829e-06</td>\n",
       "      <td>4.492535e-05</td>\n",
       "      <td>0.999857</td>\n",
       "      <td>4</td>\n",
       "      <td>1.068493e-17</td>\n",
       "      <td>9.584993e-11</td>\n",
       "      <td>6.188249e-20</td>\n",
       "      <td>2.400493e-17</td>\n",
       "      <td>1.000000e+00</td>\n",
       "    </tr>\n",
       "    <tr>\n",
       "      <th>4</th>\n",
       "      <td>00d366e7877b6a78b104b57d67b60e6b</td>\n",
       "      <td>0.007823</td>\n",
       "      <td>1.017901e-02</td>\n",
       "      <td>1.239580e-03</td>\n",
       "      <td>3.386749e-02</td>\n",
       "      <td>0.946890</td>\n",
       "      <td>4</td>\n",
       "      <td>8.008352e-25</td>\n",
       "      <td>6.130677e-11</td>\n",
       "      <td>6.454307e-27</td>\n",
       "      <td>3.718305e-20</td>\n",
       "      <td>1.000000e+00</td>\n",
       "    </tr>\n",
       "  </tbody>\n",
       "</table>\n",
       "</div>"
      ],
      "text/plain": [
       "                                 id  daisys_x  dandelions_x       roses_x  \\\n",
       "0  0028624c49b3e0610ff9f1d111f5d532  0.001325  1.130563e-05  9.983783e-01   \n",
       "1  002c30700185b7971369258b438070d5  0.000001  2.693699e-08  4.099620e-08   \n",
       "2  00852f4f666acecd0c0d140365b42efd  0.000007  3.967508e-06  9.996108e-01   \n",
       "3  00c08828fce04e360c732cac01edad9e  0.000093  1.016766e-07  4.369829e-06   \n",
       "4  00d366e7877b6a78b104b57d67b60e6b  0.007823  1.017901e-02  1.239580e-03   \n",
       "\n",
       "   sunflowers_x  tulips_x  flower_class      daisys_y  dandelions_y  \\\n",
       "0  1.584273e-05  0.000270             2  2.394070e-35  5.026096e-29   \n",
       "1  9.263110e-08  0.999998             4  0.000000e+00  0.000000e+00   \n",
       "2  1.684739e-06  0.000377             2  1.486434e-15  8.501844e-17   \n",
       "3  4.492535e-05  0.999857             4  1.068493e-17  9.584993e-11   \n",
       "4  3.386749e-02  0.946890             4  8.008352e-25  6.130677e-11   \n",
       "\n",
       "        roses_y  sunflowers_y      tulips_y  \n",
       "0  1.000000e+00  9.040489e-23  1.136384e-19  \n",
       "1  0.000000e+00  0.000000e+00  1.000000e+00  \n",
       "2  9.911346e-01  3.862377e-11  8.865295e-03  \n",
       "3  6.188249e-20  2.400493e-17  1.000000e+00  \n",
       "4  6.454307e-27  3.718305e-20  1.000000e+00  "
      ]
     },
     "execution_count": 10,
     "metadata": {},
     "output_type": "execute_result"
    }
   ],
   "source": [
    "df_all.head()"
   ]
  },
  {
   "cell_type": "code",
   "execution_count": 11,
   "metadata": {},
   "outputs": [],
   "source": [
    "# print (df_all['daisys_x']*0.9+df_all['daisys_y']*0.1)\n",
    "#print (df_all[['id', 'daisys_x']])\n",
    "int_a = 0.8\n",
    "\n",
    "int_b = 1-int_a\n",
    "\n",
    "\n",
    "df_new = pd.DataFrame()\n",
    "df_new['id']=df_all['id']\n",
    "df_new['daisys'] = df_all['daisys_x']*int_a+df_all['daisys_y']*int_b\n",
    "df_new['dandelions'] = df_all['dandelions_x']*int_a+df_all['dandelions_y']*int_b\n",
    "df_new['roses'] = df_all['roses_x']*int_a+df_all['roses_y']*int_b\n",
    "df_new['sunflowers'] = df_all['sunflowers_x']*int_a+df_all['sunflowers_y']*int_b\n",
    "df_new['tulips'] = df_all['tulips_x']*int_a+df_all['tulips_y']*int_b\n",
    "\n",
    "\n",
    "\n",
    "\n",
    "\n"
   ]
  },
  {
   "cell_type": "code",
   "execution_count": 16,
   "metadata": {},
   "outputs": [
    {
     "name": "stderr",
     "output_type": "stream",
     "text": [
      "d:\\Anaconda3\\envs\\tensorflow-gpu-3.7\\lib\\site-packages\\ipykernel_launcher.py:8: FutureWarning: Method .as_matrix will be removed in a future version. Use .values instead.\n",
      "  \n"
     ]
    }
   ],
   "source": [
    "NEW_CVS_NAME = 'n8x2_M-12-25.csv'\n",
    "\n",
    "df_new.set_index('id')\n",
    "\n",
    "ids =[]\n",
    "rf_pred =[]\n",
    "for index, row in df_new.iterrows():\n",
    "    a = row[['daisys','dandelions','roses','sunflowers','tulips']].as_matrix()\n",
    "    result = a.argmax()\n",
    "#     print (row['id'])\n",
    "    ids.append(row['id'])\n",
    "    rf_pred.append(result)\n",
    "    \n",
    "sub = pd.DataFrame({'id': ids, 'flower_class': rf_pred})\n",
    "sub.to_csv(NEW_CVS_NAME, index=False)    \n"
   ]
  },
  {
   "cell_type": "code",
   "execution_count": 17,
   "metadata": {},
   "outputs": [
    {
     "data": {
      "text/plain": [
       "flower_class\n",
       "0    368\n",
       "1    469\n",
       "2    357\n",
       "3    346\n",
       "4    460\n",
       "dtype: int64"
      ]
     },
     "execution_count": 17,
     "metadata": {},
     "output_type": "execute_result"
    }
   ],
   "source": [
    " sub.groupby(\"flower_class\").size()"
   ]
  },
  {
   "cell_type": "code",
   "execution_count": 18,
   "metadata": {},
   "outputs": [],
   "source": [
    "n8x2 = pd.read_csv(NEW_CVS_NAME)"
   ]
  },
  {
   "cell_type": "code",
   "execution_count": 19,
   "metadata": {},
   "outputs": [
    {
     "data": {
      "text/plain": [
       "flower_class\n",
       "0    368\n",
       "1    469\n",
       "2    357\n",
       "3    346\n",
       "4    460\n",
       "dtype: int64"
      ]
     },
     "execution_count": 19,
     "metadata": {},
     "output_type": "execute_result"
    }
   ],
   "source": [
    "n8x2.groupby(\"flower_class\").size()"
   ]
  },
  {
   "cell_type": "code",
   "execution_count": 20,
   "metadata": {},
   "outputs": [
    {
     "name": "stderr",
     "output_type": "stream",
     "text": [
      "d:\\Anaconda3\\envs\\tensorflow-gpu-3.7\\lib\\site-packages\\ipykernel_launcher.py:4: FutureWarning: Method .as_matrix will be removed in a future version. Use .values instead.\n",
      "  after removing the cwd from sys.path.\n"
     ]
    }
   ],
   "source": [
    "ids =[]\n",
    "rf_pred =[]\n",
    "for index, row in NASNetLarge.iterrows():\n",
    "    a = row[['daisys','dandelions','roses','sunflowers','tulips']].as_matrix()\n",
    "    result = a.argmax()\n",
    "#     print (row['id'])\n",
    "    ids.append(row['id'])\n",
    "    rf_pred.append(result)\n",
    "    \n",
    "sub_nas = pd.DataFrame({'id': ids, 'flower_class': rf_pred})\n"
   ]
  },
  {
   "cell_type": "code",
   "execution_count": 21,
   "metadata": {},
   "outputs": [
    {
     "data": {
      "text/plain": [
       "flower_class\n",
       "0    370\n",
       "1    473\n",
       "2    351\n",
       "3    345\n",
       "4    461\n",
       "dtype: int64"
      ]
     },
     "execution_count": 21,
     "metadata": {},
     "output_type": "execute_result"
    }
   ],
   "source": [
    " sub_nas.groupby(\"flower_class\").size()"
   ]
  },
  {
   "cell_type": "code",
   "execution_count": null,
   "metadata": {},
   "outputs": [],
   "source": []
  }
 ],
 "metadata": {
  "kernelspec": {
   "display_name": "Python 3",
   "language": "python",
   "name": "python3"
  },
  "language_info": {
   "codemirror_mode": {
    "name": "ipython",
    "version": 3
   },
   "file_extension": ".py",
   "mimetype": "text/x-python",
   "name": "python",
   "nbconvert_exporter": "python",
   "pygments_lexer": "ipython3",
   "version": "3.7.5"
  }
 },
 "nbformat": 4,
 "nbformat_minor": 2
}
