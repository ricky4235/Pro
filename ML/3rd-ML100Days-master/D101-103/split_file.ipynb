{
 "cells": [
  {
   "cell_type": "code",
   "execution_count": 1,
   "metadata": {},
   "outputs": [],
   "source": [
    "import os\n",
    "import random\n",
    "import shutil"
   ]
  },
  {
   "cell_type": "code",
   "execution_count": 2,
   "metadata": {},
   "outputs": [],
   "source": [
    "\n",
    "dirs = ['daisy','dandelion','rose','sunflower','tulip']\n",
    "\n",
    "TRAIN_PATH  = 'E:/git/3rd-ML100Days/D101-103/test/train/'\n",
    "\n",
    "VALID_PATH  = 'E:/git/3rd-ML100Days/D101-103/test/valid/'\n",
    "\n",
    "#print (os.listdir(DATASET_PATH))\n",
    "\n",
    "\n",
    "\n",
    "\n",
    "for dir in dirs:\n",
    "    temp_vaild_path = VALID_PATH+dir\n",
    "    temp_train_path = TRAIN_PATH+dir\n",
    "    os.mkdir(temp_vaild_path)\n",
    "    train_files = random.sample(os.listdir(temp_train_path),100)\n",
    "    for file in train_files:\n",
    "        shutil.move(temp_train_path+'/'+file, temp_vaild_path+'/'+file)\n",
    "\n",
    "\n",
    "\n",
    "\n"
   ]
  },
  {
   "cell_type": "code",
   "execution_count": null,
   "metadata": {},
   "outputs": [],
   "source": []
  }
 ],
 "metadata": {
  "kernelspec": {
   "display_name": "Python 3",
   "language": "python",
   "name": "python3"
  },
  "language_info": {
   "codemirror_mode": {
    "name": "ipython",
    "version": 3
   },
   "file_extension": ".py",
   "mimetype": "text/x-python",
   "name": "python",
   "nbconvert_exporter": "python",
   "pygments_lexer": "ipython3",
   "version": "3.7.5"
  }
 },
 "nbformat": 4,
 "nbformat_minor": 2
}
