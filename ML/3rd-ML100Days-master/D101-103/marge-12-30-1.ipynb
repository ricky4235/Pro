{
 "cells": [
  {
   "cell_type": "code",
   "execution_count": 1,
   "metadata": {},
   "outputs": [],
   "source": [
    "import pandas as pd"
   ]
  },
  {
   "cell_type": "code",
   "execution_count": 5,
   "metadata": {},
   "outputs": [
    {
     "data": {
      "text/plain": [
       "flower_class\n",
       "0    368\n",
       "1    466\n",
       "2    370\n",
       "3    342\n",
       "4    454\n",
       "dtype: int64"
      ]
     },
     "execution_count": 5,
     "metadata": {},
     "output_type": "execute_result"
    }
   ],
   "source": [
    "# 資料路徑\n",
    "DATASET_PATH  = 'E:/git/3rd-ML100Days/D101-103/'\n",
    "\n",
    "# NEW_CVS_NAME = 'marge-12-30-1'\n",
    "# var_w = [1.5 , 2 , 1 , 4 , 1 , 0.5 ]\n",
    "\n",
    "\n",
    "sub.groupby(\"flower_class\").size() \n",
    "#0.948"
   ]
  },
  {
   "cell_type": "code",
   "execution_count": 9,
   "metadata": {},
   "outputs": [
    {
     "data": {
      "text/plain": [
       "flower_class\n",
       "0    369\n",
       "1    463\n",
       "2    371\n",
       "3    346\n",
       "4    451\n",
       "dtype: int64"
      ]
     },
     "execution_count": 9,
     "metadata": {},
     "output_type": "execute_result"
    }
   ],
   "source": [
    "NEW_CVS_NAME = 'marge-12-30-2'\n",
    "var_w = [0 , 2 , 1 , 4 , 2 , 1]\n",
    "sub.groupby(\"flower_class\").size() \n",
    "#0.948"
   ]
  },
  {
   "cell_type": "code",
   "execution_count": 14,
   "metadata": {},
   "outputs": [
    {
     "data": {
      "text/plain": [
       "flower_class\n",
       "0    365\n",
       "1    467\n",
       "2    375\n",
       "3    344\n",
       "4    449\n",
       "dtype: int64"
      ]
     },
     "execution_count": 14,
     "metadata": {},
     "output_type": "execute_result"
    }
   ],
   "source": [
    "NEW_CVS_NAME = 'marge-12-30-3'\n",
    "var_w = [2 , 2 , 1 , 4 , 0 , 1]\n",
    "sub.groupby(\"flower_class\").size() \n",
    "\n",
    "# 0    367\n",
    "# 1    468\n",
    "# 2    373\n",
    "# 3    341\n",
    "# 4    451\n",
    "#0.947"
   ]
  },
  {
   "cell_type": "code",
   "execution_count": 21,
   "metadata": {},
   "outputs": [
    {
     "data": {
      "text/plain": [
       "flower_class\n",
       "0    362\n",
       "1    451\n",
       "2    369\n",
       "3    364\n",
       "4    454\n",
       "dtype: int64"
      ]
     },
     "execution_count": 21,
     "metadata": {},
     "output_type": "execute_result"
    }
   ],
   "source": [
    "NEW_CVS_NAME = 'marge-12-30-4'\n",
    "var_w = [0 , 1 , 1 , 7 , 1 , 0]\n",
    "sub.groupby(\"flower_class\").size() \n",
    "#0.932"
   ]
  },
  {
   "cell_type": "code",
   "execution_count": 27,
   "metadata": {},
   "outputs": [
    {
     "data": {
      "text/plain": [
       "flower_class\n",
       "0    364\n",
       "1    465\n",
       "2    369\n",
       "3    346\n",
       "4    456\n",
       "dtype: int64"
      ]
     },
     "execution_count": 27,
     "metadata": {},
     "output_type": "execute_result"
    }
   ],
   "source": [
    "NEW_CVS_NAME = 'marge-12-30-5'\n",
    "var_w = [1 , 1 , 1 , 4 , 2 , 1]\n",
    "sub.groupby(\"flower_class\").size() \n",
    "#0.951"
   ]
  },
  {
   "cell_type": "code",
   "execution_count": 31,
   "metadata": {},
   "outputs": [
    {
     "data": {
      "text/plain": [
       "flower_class\n",
       "0    365\n",
       "1    464\n",
       "2    370\n",
       "3    347\n",
       "4    454\n",
       "dtype: int64"
      ]
     },
     "execution_count": 31,
     "metadata": {},
     "output_type": "execute_result"
    }
   ],
   "source": [
    "NEW_CVS_NAME = 'marge-12-30-6'\n",
    "var_w = [1 , 1.5 , 1 , 4 , 1.5 , 1]\n",
    "sub.groupby(\"flower_class\").size() "
   ]
  },
  {
   "cell_type": "code",
   "execution_count": 36,
   "metadata": {},
   "outputs": [
    {
     "data": {
      "text/plain": [
       "flower_class\n",
       "0    365\n",
       "1    465\n",
       "2    372\n",
       "3    344\n",
       "4    454\n",
       "dtype: int64"
      ]
     },
     "execution_count": 36,
     "metadata": {},
     "output_type": "execute_result"
    }
   ],
   "source": [
    "NEW_CVS_NAME = 'marge-12-30-7'\n",
    "var_w = [1 , 1.5 , 1.5 , 3.5 , 1.5 , 1]\n",
    "sub.groupby(\"flower_class\").size() "
   ]
  },
  {
   "cell_type": "code",
   "execution_count": 41,
   "metadata": {},
   "outputs": [
    {
     "data": {
      "text/plain": [
       "flower_class\n",
       "0    364\n",
       "1    468\n",
       "2    374\n",
       "3    345\n",
       "4    449\n",
       "dtype: int64"
      ]
     },
     "execution_count": 41,
     "metadata": {},
     "output_type": "execute_result"
    }
   ],
   "source": [
    "NEW_CVS_NAME = 'marge-12-30-8'\n",
    "var_w = [1 , 1.5 , 1.5 , 3.0 , 1.5 , 1.5]\n",
    "sub.groupby(\"flower_class\").size() "
   ]
  },
  {
   "cell_type": "code",
   "execution_count": 46,
   "metadata": {},
   "outputs": [
    {
     "data": {
      "text/plain": [
       "flower_class\n",
       "0    364\n",
       "1    465\n",
       "2    374\n",
       "3    348\n",
       "4    449\n",
       "dtype: int64"
      ]
     },
     "execution_count": 46,
     "metadata": {},
     "output_type": "execute_result"
    }
   ],
   "source": [
    "NEW_CVS_NAME = 'marge-12-30-9'\n",
    "var_w = [1 , 1.5 , 1.5 , 3.5 , 1.0 , 1.5]\n",
    "sub.groupby(\"flower_class\").size() "
   ]
  },
  {
   "cell_type": "code",
   "execution_count": 57,
   "metadata": {},
   "outputs": [
    {
     "data": {
      "text/plain": [
       "flower_class\n",
       "0    364\n",
       "1    466\n",
       "2    368\n",
       "3    344\n",
       "4    458\n",
       "dtype: int64"
      ]
     },
     "execution_count": 57,
     "metadata": {},
     "output_type": "execute_result"
    }
   ],
   "source": [
    "NEW_CVS_NAME = 'marge-12-30-10'\n",
    "var_w = [1.2 , 1.2 , 1.2 , 3 , 2.2 , 1.2]\n",
    "sub.groupby(\"flower_class\").size() "
   ]
  },
  {
   "cell_type": "code",
   "execution_count": 55,
   "metadata": {},
   "outputs": [
    {
     "name": "stdout",
     "output_type": "stream",
     "text": [
      "10.0\n"
     ]
    }
   ],
   "source": [
    "ccc=0\n",
    "for c in var_w:\n",
    "    ccc=ccc+c\n",
    "print(ccc) "
   ]
  },
  {
   "cell_type": "code",
   "execution_count": 56,
   "metadata": {},
   "outputs": [
    {
     "name": "stderr",
     "output_type": "stream",
     "text": [
      "d:\\Anaconda3\\envs\\tensorflow-gpu-3.7\\lib\\site-packages\\ipykernel_launcher.py:47: FutureWarning: Method .as_matrix will be removed in a future version. Use .values instead.\n"
     ]
    },
    {
     "data": {
      "text/plain": [
       "flower_class\n",
       "0    364\n",
       "1    466\n",
       "2    368\n",
       "3    344\n",
       "4    458\n",
       "dtype: int64"
      ]
     },
     "execution_count": 56,
     "metadata": {},
     "output_type": "execute_result"
    }
   ],
   "source": [
    "model_1=pd.read_csv(DATASET_PATH+'NASNetLarge-pre-12-24.csv')\n",
    "model_1 = model_1.sort_values(by = 'id',ascending=True)\n",
    "model_1.head()\n",
    "model_2 = pd.read_csv(DATASET_PATH+'Xception_model_12_25-1_pre.csv')\n",
    "model_2 = model_2.sort_values(by = 'id',ascending=True)\n",
    "model_2.head()\n",
    "model_3 = pd.read_csv(DATASET_PATH+'DenseNet201_model_12_26-1-val_acc_0.92_pre.csv')\n",
    "model_3 = model_3.sort_values(by = 'id',ascending=True)\n",
    "model_3.head()\n",
    "model_4 = pd.read_csv(DATASET_PATH+'InceptionResNetV2_model_12_26-1checkpoint-16e-val_acc_0.96_pre.csv')\n",
    "model_4 = model_4.sort_values(by = 'id',ascending=True)\n",
    "model_4.head()\n",
    "model_5 = pd.read_csv(DATASET_PATH+'NASNetLarge_model_12_27-1_pre.csv')\n",
    "model_5 = model_5.sort_values(by = 'id',ascending=True)\n",
    "model_5.head()\n",
    "model_6 = pd.read_csv(DATASET_PATH+'ResNet50_model_12_26-1checkpoint-15e-val_acc_0.90_pre.csv')\n",
    "model_6 = model_6.sort_values(by = 'id',ascending=True)\n",
    "\n",
    "\n",
    "\n",
    "\n",
    "df_new = pd.DataFrame()\n",
    "var_models = [model_1,model_2,model_3,model_4,model_5,model_6]\n",
    "df_new['id']=model_1['id']\n",
    "df_new['daisys'] = 0\n",
    "df_new['dandelions'] = 0\n",
    "df_new['roses'] = 0\n",
    "df_new['sunflowers'] =0\n",
    "df_new['tulips'] = 0\n",
    "\n",
    "\n",
    "for idx,tmp_model in enumerate(var_models):\n",
    "    df_new['daisys'] = df_new['daisys'] + tmp_model['daisys'] * var_w[idx]\n",
    "    df_new['dandelions'] = df_new['dandelions'] + tmp_model['dandelions'] * var_w[idx]\n",
    "    df_new['roses'] = df_new['roses'] + tmp_model['roses'] * var_w[idx]\n",
    "    df_new['sunflowers'] = df_new['sunflowers'] + tmp_model['sunflowers'] * var_w[idx]\n",
    "    df_new['tulips'] = df_new['tulips'] + tmp_model['tulips'] * var_w[idx]\n",
    "\n",
    "df_new.head()\n",
    "\n",
    "\n",
    "df_new.set_index('id')\n",
    "\n",
    "ids =[]\n",
    "rf_pred =[]\n",
    "for index, row in df_new.iterrows():\n",
    "    a = row[['daisys','dandelions','roses','sunflowers','tulips']].as_matrix()\n",
    "    result = a.argmax()\n",
    "#     print (row['id'])\n",
    "    ids.append(row['id'])\n",
    "    rf_pred.append(result)\n",
    "    \n",
    "sub = pd.DataFrame({'id': ids, 'flower_class': rf_pred})\n",
    "sub.groupby(\"flower_class\").size() "
   ]
  },
  {
   "cell_type": "code",
   "execution_count": 58,
   "metadata": {},
   "outputs": [],
   "source": [
    "sub.to_csv(NEW_CVS_NAME, index=False)   "
   ]
  },
  {
   "cell_type": "code",
   "execution_count": null,
   "metadata": {},
   "outputs": [],
   "source": []
  }
 ],
 "metadata": {
  "kernelspec": {
   "display_name": "Python 3",
   "language": "python",
   "name": "python3"
  },
  "language_info": {
   "codemirror_mode": {
    "name": "ipython",
    "version": 3
   },
   "file_extension": ".py",
   "mimetype": "text/x-python",
   "name": "python",
   "nbconvert_exporter": "python",
   "pygments_lexer": "ipython3",
   "version": "3.7.5"
  }
 },
 "nbformat": 4,
 "nbformat_minor": 2
}
