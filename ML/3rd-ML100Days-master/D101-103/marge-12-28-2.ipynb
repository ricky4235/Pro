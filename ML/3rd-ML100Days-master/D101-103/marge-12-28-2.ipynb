{
 "cells": [
  {
   "cell_type": "code",
   "execution_count": 13,
   "metadata": {},
   "outputs": [],
   "source": [
    "import pandas as pd"
   ]
  },
  {
   "cell_type": "code",
   "execution_count": 11,
   "metadata": {},
   "outputs": [
    {
     "name": "stdout",
     "output_type": "stream",
     "text": [
      "10.0\n"
     ]
    }
   ],
   "source": [
    "# 資料路徑\n",
    "DATASET_PATH  = 'E:/git/3rd-ML100Days/D101-103/'\n",
    "\n",
    "NEW_CVS_NAME = '12-28_6-model-2'\n",
    "var_w = [2 , 2 , 1.5 , 2 , 1 , 1.5 ]\n",
    "\n",
    "ccc=0\n",
    "for c in var_w:\n",
    "    ccc=ccc+c\n",
    "print(ccc) "
   ]
  },
  {
   "cell_type": "code",
   "execution_count": 15,
   "metadata": {},
   "outputs": [
    {
     "name": "stderr",
     "output_type": "stream",
     "text": [
      "d:\\Anaconda3\\envs\\tensorflow-gpu-3.7\\lib\\site-packages\\ipykernel_launcher.py:48: FutureWarning: Method .as_matrix will be removed in a future version. Use .values instead.\n"
     ]
    },
    {
     "data": {
      "text/plain": [
       "flower_class\n",
       "0    365\n",
       "1    469\n",
       "2    374\n",
       "3    344\n",
       "4    448\n",
       "dtype: int64"
      ]
     },
     "execution_count": 15,
     "metadata": {},
     "output_type": "execute_result"
    }
   ],
   "source": [
    "model_1=pd.read_csv(DATASET_PATH+'NASNetLarge-pre-12-24.csv')\n",
    "model_1 = model_1.sort_values(by = 'id',ascending=True)\n",
    "model_1.head()\n",
    "model_2 = pd.read_csv(DATASET_PATH+'Xception_model_12_25-1_pre.csv')\n",
    "model_2 = model_2.sort_values(by = 'id',ascending=True)\n",
    "model_2.head()\n",
    "model_3 = pd.read_csv(DATASET_PATH+'DenseNet201_model_12_26-1-val_acc_0.92_pre.csv')\n",
    "model_3 = model_3.sort_values(by = 'id',ascending=True)\n",
    "model_3.head()\n",
    "model_4 = pd.read_csv(DATASET_PATH+'InceptionResNetV2_model_12_26-1checkpoint-16e-val_acc_0.96_pre.csv')\n",
    "model_4 = model_4.sort_values(by = 'id',ascending=True)\n",
    "model_4.head()\n",
    "model_5 = pd.read_csv(DATASET_PATH+'NASNetLarge_model_12_27-1_pre.csv')\n",
    "model_5 = model_5.sort_values(by = 'id',ascending=True)\n",
    "model_5.head()\n",
    "\n",
    "model_6 = pd.read_csv(DATASET_PATH+'ResNet50_model_12_26-1checkpoint-15e-val_acc_0.90_pre.csv')\n",
    "model_6 = model_6.sort_values(by = 'id',ascending=True)\n",
    "model_6.head()\n",
    "\n",
    "\n",
    "df_new = pd.DataFrame()\n",
    "var_models = [model_1,model_2,model_3,model_4,model_5,model_6]\n",
    "\n",
    "df_new['id']=model_1['id']\n",
    "df_new['daisys'] = 0\n",
    "df_new['dandelions'] = 0\n",
    "df_new['roses'] = 0\n",
    "df_new['sunflowers'] =0\n",
    "df_new['tulips'] = 0\n",
    "\n",
    "\n",
    "for idx,tmp_model in enumerate(var_models):\n",
    "    df_new['daisys'] = df_new['daisys'] + tmp_model['daisys'] * var_w[idx]\n",
    "    df_new['dandelions'] = df_new['dandelions'] + tmp_model['dandelions'] * var_w[idx]\n",
    "    df_new['roses'] = df_new['roses'] + tmp_model['roses'] * var_w[idx]\n",
    "    df_new['sunflowers'] = df_new['sunflowers'] + tmp_model['sunflowers'] * var_w[idx]\n",
    "    df_new['tulips'] = df_new['tulips'] + tmp_model['tulips'] * var_w[idx]\n",
    "\n",
    "df_new.head()\n",
    "\n",
    "\n",
    "df_new.set_index('id')\n",
    "\n",
    "ids =[]\n",
    "rf_pred =[]\n",
    "for index, row in df_new.iterrows():\n",
    "    a = row[['daisys','dandelions','roses','sunflowers','tulips']].as_matrix()\n",
    "    result = a.argmax()\n",
    "#     print (row['id'])\n",
    "    ids.append(row['id'])\n",
    "    rf_pred.append(result)\n",
    "    \n",
    "sub = pd.DataFrame({'id': ids, 'flower_class': rf_pred})\n",
    "sub.groupby(\"flower_class\").size() "
   ]
  },
  {
   "cell_type": "code",
   "execution_count": 16,
   "metadata": {},
   "outputs": [],
   "source": [
    "sub.to_csv(NEW_CVS_NAME, index=False)   "
   ]
  },
  {
   "cell_type": "code",
   "execution_count": null,
   "metadata": {},
   "outputs": [],
   "source": []
  }
 ],
 "metadata": {
  "kernelspec": {
   "display_name": "Python 3",
   "language": "python",
   "name": "python3"
  },
  "language_info": {
   "codemirror_mode": {
    "name": "ipython",
    "version": 3
   },
   "file_extension": ".py",
   "mimetype": "text/x-python",
   "name": "python",
   "nbconvert_exporter": "python",
   "pygments_lexer": "ipython3",
   "version": "3.7.5"
  }
 },
 "nbformat": 4,
 "nbformat_minor": 2
}
