{
 "cells": [
  {
   "cell_type": "markdown",
   "metadata": {},
   "source": [
    "# 3.13 丢弃法\n",
    "\n",
    "除了前一节介绍的权重衰减以外，深度学习模型常常使用丢弃法（dropout）[1] 来应对过拟合问题。丢弃法有一些不同的变体。本节中提到的丢弃法特指倒置丢弃法（inverted dropout）。\n",
    "\n",
    "## 3.13.1 方法\n",
    "\n",
    "回忆一下，3.8节（多层感知机）的图3.3描述了一个单隐藏层的多层感知机。其中输入个数为4，隐藏单元个数为5，且隐藏单元$h_i$（$i=1, \\ldots, 5$）的计算表达式为\n",
    "\n",
    "$$\n",
    "h_i = \\phi\\left(x_1 w_{1i} + x_2 w_{2i} + x_3 w_{3i} + x_4 w_{4i} + b_i\\right)\n",
    "$$\n",
    "\n",
    "这里$\\phi$是激活函数，$x_1, \\ldots, x_4$是输入，隐藏单元$i$的权重参数为$w_{1i}, \\ldots, w_{4i}$，偏差参数为$b_i$。当对该隐藏层使用丢弃法时，该层的隐藏单元将有一定概率被丢弃掉。设丢弃概率为$p$，那么有$p$的概率$h_i$会被清零，有$1-p$的概率$h_i$会除以$1-p$做拉伸。丢弃概率是丢弃法的超参数。具体来说，设随机变量$\\xi_i$为0和1的概率分别为$p$和$1-p$。使用丢弃法时我们计算新的隐藏单元$h_i'$\n",
    "\n",
    "$$\n",
    "h_i' = \\frac{\\xi_i}{1-p} h_i\n",
    "$$\n",
    "\n",
    "由于$E(\\xi_i) = 1-p$，因此\n",
    "\n",
    "$$\n",
    "E(h_i') = \\frac{E(\\xi_i)}{1-p}h_i = h_i\n",
    "$$\n",
    "\n",
    "即**丢弃法不改变其输入的期望值**。让我们对图3.3中的隐藏层使用丢弃法，一种可能的结果如图3.5所示，其中$h_2$和$h_5$被清零。这时输出值的计算不再依赖$h_2$和$h_5$，在反向传播时，与这两个隐藏单元相关的权重的梯度均为0。由于在训练中隐藏层神经元的丢弃是随机的，即$h_1, \\ldots, h_5$都有可能被清零，输出层的计算无法过度依赖$h_1, \\ldots, h_5$中的任一个，从而在训练模型时起到正则化的作用，并可以用来应对过拟合。在测试模型时，我们为了拿到更加确定性的结果，一般不使用丢弃法。\n",
    "\n",
    "<div align=center>\n",
    "<img width=\"350\" src=\"../img/chapter03/3.13_dropout.svg\"/>\n",
    "</div>\n",
    "<div align=center> 图3.5 隐藏层使用了丢弃法的多层感知机</div>\n",
    "\n",
    "## 3.13.2 从零开始实现\n",
    "\n",
    "根据丢弃法的定义，我们可以很容易地实现它。下面的`dropout`函数将以`drop_prob`的概率丢弃`X`中的元素。"
   ]
  },
  {
   "cell_type": "code",
   "execution_count": 48,
   "metadata": {
    "ExecuteTime": {
     "end_time": "2020-05-18T16:18:09.593107Z",
     "start_time": "2020-05-18T16:18:09.588121Z"
    }
   },
   "outputs": [],
   "source": [
    "import tensorflow as tf\n",
    "import numpy as np\n",
    "from tensorflow import keras, nn, losses\n",
    "from tensorflow.keras.layers import Dropout, Flatten, Dense\n",
    "\n",
    "def dropout(X, drop_prob):\n",
    "    assert 0 <= drop_prob <=1 \n",
    "    keep_prob = 1- drop_prob\n",
    "    \n",
    "    if keep_prob == 0:\n",
    "        return tf.zeros_like(X)\n",
    "    #初始mask为一个bool型数组，故需要强制类型转换\n",
    "    mask = tf.random.uniform(shape=X.shape, minval=0, maxval=1) < keep_prob\n",
    "    return tf.cast(mask, dtype=tf.float32) * tf.cast(X, dtype=tf.float32) / keep_prob\n"
   ]
  },
  {
   "cell_type": "markdown",
   "metadata": {},
   "source": [
    "我们运行几个例子来测试一下`dropout`函数。其中丢弃概率分别为0、0.5和1。"
   ]
  },
  {
   "cell_type": "code",
   "execution_count": 4,
   "metadata": {
    "ExecuteTime": {
     "end_time": "2020-05-18T15:30:07.091577Z",
     "start_time": "2020-05-18T15:30:07.065646Z"
    }
   },
   "outputs": [
    {
     "data": {
      "text/plain": [
       "<tf.Tensor: shape=(2, 8), dtype=float32, numpy=\n",
       "array([[ 0.,  1.,  2.,  3.,  4.,  5.,  6.,  7.],\n",
       "       [ 8.,  9., 10., 11., 12., 13., 14., 15.]], dtype=float32)>"
      ]
     },
     "execution_count": 4,
     "metadata": {},
     "output_type": "execute_result"
    }
   ],
   "source": [
    "X = tf.reshape(tf.range(0, 16), shape=(2, 8))\n",
    "dropout(X, 0)"
   ]
  },
  {
   "cell_type": "code",
   "execution_count": 5,
   "metadata": {
    "ExecuteTime": {
     "end_time": "2020-05-18T15:30:37.522840Z",
     "start_time": "2020-05-18T15:30:37.517825Z"
    }
   },
   "outputs": [
    {
     "data": {
      "text/plain": [
       "<tf.Tensor: shape=(2, 8), dtype=float32, numpy=\n",
       "array([[ 0.,  0.,  4.,  0.,  0.,  0.,  0.,  0.],\n",
       "       [16., 18.,  0., 22., 24.,  0.,  0.,  0.]], dtype=float32)>"
      ]
     },
     "execution_count": 5,
     "metadata": {},
     "output_type": "execute_result"
    }
   ],
   "source": [
    "X = tf.reshape(tf.range(0, 16), shape=(2, 8))\n",
    "dropout(X, 0.5)"
   ]
  },
  {
   "cell_type": "code",
   "execution_count": 6,
   "metadata": {
    "ExecuteTime": {
     "end_time": "2020-05-18T15:30:43.220975Z",
     "start_time": "2020-05-18T15:30:43.181046Z"
    }
   },
   "outputs": [
    {
     "data": {
      "text/plain": [
       "<tf.Tensor: shape=(2, 8), dtype=int32, numpy=\n",
       "array([[0, 0, 0, 0, 0, 0, 0, 0],\n",
       "       [0, 0, 0, 0, 0, 0, 0, 0]])>"
      ]
     },
     "execution_count": 6,
     "metadata": {},
     "output_type": "execute_result"
    }
   ],
   "source": [
    "X = tf.reshape(tf.range(0, 16), shape=(2, 8))\n",
    "dropout(X, 1)"
   ]
  },
  {
   "cell_type": "markdown",
   "metadata": {},
   "source": [
    "### 3.13.2.1 定义模型参数\n",
    "\n",
    "实验中，我们依然使用3.6节（softmax回归的从零开始实现）中介绍的Fashion-MNIST数据集。我们将定义一个包含两个隐藏层的多层感知机，其中两个隐藏层的输出个数都是256。"
   ]
  },
  {
   "cell_type": "code",
   "execution_count": 49,
   "metadata": {
    "ExecuteTime": {
     "end_time": "2020-05-18T16:18:11.520169Z",
     "start_time": "2020-05-18T16:18:11.480277Z"
    }
   },
   "outputs": [],
   "source": [
    "num_inputs, num_outputs, num_hiddens1, num_hiddens2 = 784, 10, 256, 256\n",
    "W1 = tf.Variable(tf.random.normal(stddev=0.01, shape=(num_inputs, num_hiddens1)))\n",
    "b1 = tf.Variable(tf.zeros(num_hiddens1))\n",
    "W2 = tf.Variable(tf.random.normal(stddev=0.1, shape=(num_hiddens1, num_hiddens2)))\n",
    "b2 = tf.Variable(tf.zeros(num_hiddens2))\n",
    "W3 = tf.Variable(tf.random.truncated_normal(stddev=0.01, shape=(num_hiddens2, num_outputs)))\n",
    "b3 = tf.Variable(tf.zeros(num_outputs))\n",
    "\n",
    "params = [W1, b1, W2, b2, W3, b3]\n"
   ]
  },
  {
   "cell_type": "markdown",
   "metadata": {},
   "source": [
    "### 3.13.2.2 定义模型\n",
    "\n",
    "下面定义的模型将全连接层和激活函数ReLU串起来，并对每个激活函数的输出使用丢弃法。我们可以分别设置各个层的丢弃概率。通常的建议是把靠近输入层的丢弃概率设得小一点。在这个实验中，我们把第一个隐藏层的丢弃概率设为0.2，把第二个隐藏层的丢弃概率设为0.5。我们可以通过参数`is_training`函数来判断运行模式为训练还是测试，并只需在训练模式下使用丢弃法。"
   ]
  },
  {
   "cell_type": "code",
   "execution_count": 50,
   "metadata": {
    "ExecuteTime": {
     "end_time": "2020-05-18T16:18:12.246229Z",
     "start_time": "2020-05-18T16:18:12.241243Z"
    }
   },
   "outputs": [],
   "source": [
    "drop_prob1, drop_prob2 = 0.2, 0.5\n",
    "\n",
    "def net(X, is_training=False):\n",
    "    X = tf.reshape(X, shape=(-1, num_inputs))\n",
    "    H1 = tf.nn.relu(tf.matmul(X, W1) + b1)\n",
    "    if is_training:# 只在训练模型时使用丢弃法\n",
    "        H1 = dropout(H1, drop_prob1)  # 在第一层全连接后添加丢弃层\n",
    "    H2 = nn.relu(tf.matmul(H1, W2) + b2)\n",
    "    if is_training:\n",
    "        H2 = dropout(H2, drop_prob2)  # 在第二层全连接后添加丢弃层\n",
    "    return tf.math.softmax(tf.matmul(H2, W3) + b3)"
   ]
  },
  {
   "cell_type": "markdown",
   "metadata": {},
   "source": [
    "### 3.13.2.3 训练和测试模型\n",
    "\n",
    "这部分与之前多层感知机的训练和测试类似。"
   ]
  },
  {
   "cell_type": "code",
   "execution_count": 51,
   "metadata": {
    "ExecuteTime": {
     "end_time": "2020-05-18T16:18:15.145599Z",
     "start_time": "2020-05-18T16:18:15.136623Z"
    }
   },
   "outputs": [],
   "source": [
    "from tensorflow.keras.datasets import fashion_mnist\n",
    "\n",
    "\n",
    "def evaluate_accuracy(data_iter, net):\n",
    "    acc_sum, n = 0.0, 0\n",
    "    for _, (X, y) in enumerate(data_iter):\n",
    "        y = tf.cast(y, tf.int64)\n",
    "        acc_sum += np.sum(tf.cast(tf.argmax(net(X), axis=1), dtype=tf.int64) == y)\n",
    "        n += y.shape[0]\n",
    "        \n",
    "    return acc_sum / n\n",
    "\n",
    "def train_ch3(net, train_iter, test_iter, loss, num_epochs, batch_size,\n",
    "              params=None, lr=None, trainer=None):\n",
    "    global sample_grads\n",
    "    for epoch in range(num_epochs):\n",
    "        train_l_sum, train_acc_sum, n = 0.0, 0.0, 0\n",
    "        for X, y in train_iter:\n",
    "            with tf.GradientTape() as tape:\n",
    "                y_hat = net(X, is_training=True)\n",
    "                l = loss(y_hat, tf.one_hot(y, depth=10, axis=-1, dtype=tf.float32))\n",
    "            \n",
    "            grads = tape.gradient(l, params)\n",
    "            if trainer is None:\n",
    "                \n",
    "                sample_grads = grads\n",
    "                params[0].assign_sub(grads[0] * lr)\n",
    "                params[1].assign_sub(grads[1] * lr)\n",
    "            else:\n",
    "                trainer.apply_gradients(zip(grads, params))  # “softmax回归的简洁实现”一节将用到\n",
    "\n",
    "            y = tf.cast(y, dtype=tf.float32)\n",
    "            train_l_sum += l.numpy()\n",
    "            train_acc_sum += tf.reduce_sum(tf.cast(tf.argmax(y_hat, axis=1) == tf.cast(y, dtype=tf.int64), dtype=tf.int64)).numpy()\n",
    "            n += y.shape[0]\n",
    "        test_acc = evaluate_accuracy(test_iter, net)\n",
    "        print('epoch %d, loss %.4f, train acc %.3f, test acc %.3f'\n",
    "              % (epoch + 1, train_l_sum / n, train_acc_sum / n, test_acc))"
   ]
  },
  {
   "cell_type": "code",
   "execution_count": 52,
   "metadata": {
    "ExecuteTime": {
     "end_time": "2020-05-18T16:18:27.848821Z",
     "start_time": "2020-05-18T16:18:16.083018Z"
    },
    "scrolled": true
   },
   "outputs": [
    {
     "name": "stdout",
     "output_type": "stream",
     "text": [
      "epoch 1, loss 0.0375, train acc 0.535, test acc 0.666\n",
      "epoch 2, loss 0.0264, train acc 0.650, test acc 0.688\n",
      "epoch 3, loss 0.0237, train acc 0.688, test acc 0.726\n",
      "epoch 4, loss 0.0218, train acc 0.714, test acc 0.740\n",
      "epoch 5, loss 0.0207, train acc 0.725, test acc 0.749\n"
     ]
    }
   ],
   "source": [
    "num_epochs, lr, batch_size = 5, 0.5, 256\n",
    "(x_train, y_train), (x_test, y_test) = fashion_mnist.load_data()\n",
    "x_train = tf.cast(x_train, tf.float32) / 255 #在进行矩阵相乘时需要float型，故强制类型转换为float型\n",
    "x_test = tf.cast(x_test,tf.float32) / 255 \n",
    "train_iter = tf.data.Dataset.from_tensor_slices((x_train, y_train)).batch(batch_size)\n",
    "test_iter = tf.data.Dataset.from_tensor_slices((x_test, y_test)).batch(batch_size)\n",
    "\n",
    "# tf.losses.CategoricalCrossentropy() 已经除以了 batch_size SUM_OVER_BATCH_SIZE\n",
    "loss = tf.losses.CategoricalCrossentropy()\n",
    "train_ch3(net, train_iter, test_iter, loss, num_epochs, batch_size,\n",
    "              params, lr)"
   ]
  },
  {
   "cell_type": "markdown",
   "metadata": {},
   "source": [
    "## 3.13.3 简洁实现\n",
    "\n",
    "在Tensorflow2.0中，我们只需要在全连接层后添加`Dropout`层并指定丢弃概率。在训练模型时，`Dropout`层将以指定的丢弃概率随机丢弃上一层的输出元素；在测试模型时（即`model.eval()`后），`Dropout`层并不发挥作用。"
   ]
  },
  {
   "cell_type": "code",
   "execution_count": 53,
   "metadata": {
    "ExecuteTime": {
     "end_time": "2020-05-18T16:20:27.599807Z",
     "start_time": "2020-05-18T16:20:27.221342Z"
    }
   },
   "outputs": [],
   "source": [
    "model = keras.Sequential([\n",
    "    keras.layers.Flatten(input_shape=(28, 28)),\n",
    "    keras.layers.Dense(256,activation='relu'),\n",
    "    Dropout(0.2),\n",
    "    keras.layers.Dense(256,activation='relu'),\n",
    "    Dropout(0.5),\n",
    "    keras.layers.Dense(10,activation=tf.nn.softmax)\n",
    "])\n",
    "\n"
   ]
  },
  {
   "cell_type": "code",
   "execution_count": 54,
   "metadata": {
    "ExecuteTime": {
     "end_time": "2020-05-18T16:20:45.943881Z",
     "start_time": "2020-05-18T16:20:39.048836Z"
    }
   },
   "outputs": [
    {
     "name": "stdout",
     "output_type": "stream",
     "text": [
      "Train on 60000 samples, validate on 10000 samples\n",
      "Epoch 1/5\n",
      "60000/60000 [==============================] - 2s 33us/sample - loss: 0.6659 - accuracy: 0.7630 - val_loss: 0.4495 - val_accuracy: 0.8344\n",
      "Epoch 2/5\n",
      "60000/60000 [==============================] - 1s 18us/sample - loss: 0.4358 - accuracy: 0.8440 - val_loss: 0.4157 - val_accuracy: 0.8464\n",
      "Epoch 3/5\n",
      "60000/60000 [==============================] - 1s 17us/sample - loss: 0.3925 - accuracy: 0.8578 - val_loss: 0.3839 - val_accuracy: 0.8647\n",
      "Epoch 4/5\n",
      "60000/60000 [==============================] - 1s 18us/sample - loss: 0.3645 - accuracy: 0.8676 - val_loss: 0.3719 - val_accuracy: 0.8633\n",
      "Epoch 5/5\n",
      "60000/60000 [==============================] - 1s 17us/sample - loss: 0.3440 - accuracy: 0.8737 - val_loss: 0.3562 - val_accuracy: 0.8728\n"
     ]
    },
    {
     "data": {
      "text/plain": [
       "<tensorflow.python.keras.callbacks.History at 0x1e81a1f92b0>"
      ]
     },
     "execution_count": 54,
     "metadata": {},
     "output_type": "execute_result"
    }
   ],
   "source": [
    "model.compile(optimizer=tf.keras.optimizers.Adam(),\n",
    "              loss = 'sparse_categorical_crossentropy',\n",
    "              metrics=['accuracy'])\n",
    "model.fit(x_train,y_train,epochs=5,batch_size=256,validation_data=(x_test, y_test),\n",
    "                    validation_freq=1)"
   ]
  },
  {
   "cell_type": "code",
   "execution_count": null,
   "metadata": {},
   "outputs": [],
   "source": []
  }
 ],
 "metadata": {
  "kernelspec": {
   "display_name": "Python 3",
   "language": "python",
   "name": "python3"
  },
  "language_info": {
   "codemirror_mode": {
    "name": "ipython",
    "version": 3
   },
   "file_extension": ".py",
   "mimetype": "text/x-python",
   "name": "python",
   "nbconvert_exporter": "python",
   "pygments_lexer": "ipython3",
   "version": "3.6.5"
  },
  "toc": {
   "base_numbering": 1,
   "nav_menu": {},
   "number_sections": true,
   "sideBar": true,
   "skip_h1_title": true,
   "title_cell": "Table of Contents",
   "title_sidebar": "Contents",
   "toc_cell": false,
   "toc_position": {},
   "toc_section_display": true,
   "toc_window_display": false
  },
  "varInspector": {
   "cols": {
    "lenName": 16,
    "lenType": 16,
    "lenVar": 40
   },
   "kernels_config": {
    "python": {
     "delete_cmd_postfix": "",
     "delete_cmd_prefix": "del ",
     "library": "var_list.py",
     "varRefreshCmd": "print(var_dic_list())"
    },
    "r": {
     "delete_cmd_postfix": ") ",
     "delete_cmd_prefix": "rm(",
     "library": "var_list.r",
     "varRefreshCmd": "cat(var_dic_list()) "
    }
   },
   "types_to_exclude": [
    "module",
    "function",
    "builtin_function_or_method",
    "instance",
    "_Feature"
   ],
   "window_display": false
  }
 },
 "nbformat": 4,
 "nbformat_minor": 4
}
