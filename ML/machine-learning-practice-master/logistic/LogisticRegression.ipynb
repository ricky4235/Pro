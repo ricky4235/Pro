{
 "cells": [
  {
   "cell_type": "markdown",
   "metadata": {},
   "source": [
    "# 逻辑斯蒂回归\n",
    "\n",
    "参考：https://github.com/fengdu78/lihang-code\n",
    "\n",
    "逻辑斯谛回归(LR)是经典的分类方法\n",
    "\n",
    "1．逻辑斯谛回归模型是由以下条件概率分布表示的分类模型。逻辑斯谛回归模型可以用于二类或多类分类。\n",
    "\n",
    "$$P(Y=k | x)=\\frac{\\exp \\left(w_{k} \\cdot x\\right)}{1+\\sum_{k=1}^{K-1} \\exp \\left(w_{k} \\cdot x\\right)}, \\quad k=1,2, \\cdots, K-1$$\n",
    "\n",
    "$$P(Y=K | x)=\\frac{1}{1+\\sum_{k=1}^{K-1} \\exp \\left(w_{k} \\cdot x\\right)}$$\n",
    "这里，$x$为输入特征，$w$为特征的权值。\n",
    "\n",
    "逻辑斯谛回归模型源自逻辑斯谛分布，其分布函数$F(x)$是$S$形函数。逻辑斯谛回归模型是由输入的线性函数表示的输出的对数几率模型。\n",
    "\n",
    "2．最大熵模型是由以下条件概率分布表示的分类模型。最大熵模型也可以用于二类或多类分类。\n",
    "\n",
    "$$P_{w}(y | x)=\\frac{1}{Z_{w}(x)} \\exp \\left(\\sum_{i=1}^{n} w_{i} f_{i}(x, y)\\right)$$\n",
    "$$Z_{w}(x)=\\sum_{y} \\exp \\left(\\sum_{i=1}^{n} w_{i} f_{i}(x, y)\\right)$$\n",
    "\n",
    "其中，$Z_w(x)$是规范化因子，$f_i$为特征函数，$w_i$为特征的权值。\n",
    "\n",
    "3．最大熵模型可以由最大熵原理推导得出。最大熵原理是概率模型学习或估计的一个准则。最大熵原理认为在所有可能的概率模型（分布）的集合中，熵最大的模型是最好的模型。\n",
    "\n",
    "最大熵原理应用到分类模型的学习中，有以下约束最优化问题：\n",
    "\n",
    "$$\\min -H(P)=\\sum_{x, y} \\tilde{P}(x) P(y | x) \\log P(y | x)$$\n",
    "\n",
    "$$s.t.  \\quad P\\left(f_{i}\\right)-\\tilde{P}\\left(f_{i}\\right)=0, \\quad i=1,2, \\cdots, n$$\n",
    " \n",
    " $$\\sum_{y} P(y | x)=1$$\n",
    " \n",
    "求解此最优化问题的对偶问题得到最大熵模型。\n",
    "\n",
    "4．逻辑斯谛回归模型与最大熵模型都属于对数线性模型。\n",
    "\n",
    "5．逻辑斯谛回归模型及最大熵模型学习一般采用极大似然估计，或正则化的极大似然估计。逻辑斯谛回归模型及最大熵模型学习可以形式化为无约束最优化问题。求解该最优化问题的算法有改进的迭代尺度法、梯度下降法、拟牛顿法。\n"
   ]
  },
  {
   "cell_type": "markdown",
   "metadata": {},
   "source": [
    "\n",
    "回归模型：$f(x) = \\frac{1}{1+e^{-wx}}$\n",
    "\n",
    "其中wx线性函数：$wx =w_0\\cdot x_0 + w_1\\cdot x_1 + w_2\\cdot x_2 +...+w_n\\cdot x_n,(x_0=1)$\n"
   ]
  },
  {
   "cell_type": "code",
   "execution_count": 13,
   "metadata": {
    "ExecuteTime": {
     "end_time": "2019-10-30T12:33:54.783250Z",
     "start_time": "2019-10-30T12:33:53.450260Z"
    }
   },
   "outputs": [],
   "source": [
    "from math import exp\n",
    "import numpy as np\n",
    "import pandas as pd\n",
    "import matplotlib.pyplot as plt\n",
    "%matplotlib inline\n",
    "\n",
    "from sklearn.datasets import load_iris\n",
    "from sklearn.model_selection import train_test_split"
   ]
  },
  {
   "cell_type": "markdown",
   "metadata": {},
   "source": [
    "## 获取训练数据"
   ]
  },
  {
   "cell_type": "code",
   "execution_count": 14,
   "metadata": {
    "ExecuteTime": {
     "end_time": "2019-10-30T12:33:54.794221Z",
     "start_time": "2019-10-30T12:33:54.789234Z"
    }
   },
   "outputs": [],
   "source": [
    "def create_data():\n",
    "    iris = load_iris()\n",
    "    df = pd.DataFrame(iris.data, columns=iris.feature_names)\n",
    "    df['label'] = iris.target\n",
    "    df.columns = ['sepal length', 'sepal width', 'petal length', 'petal width', 'label']\n",
    "    # 取100行数据，sepal length , sepal width 和 label 列\n",
    "    data = np.array(df.iloc[:100, [0,1,-1]])\n",
    "    # print(data)\n",
    "    return data[:,:2], data[:,-1]"
   ]
  },
  {
   "cell_type": "code",
   "execution_count": 51,
   "metadata": {
    "ExecuteTime": {
     "end_time": "2019-10-30T12:44:11.103756Z",
     "start_time": "2019-10-30T12:44:11.098770Z"
    }
   },
   "outputs": [],
   "source": [
    "# 获取数据和标签\n",
    "X, y = create_data()\n",
    "# 使用 sklearn 的train_test_split方法，对数据进行随机划分\n",
    "X_train, X_test, y_train, y_test = train_test_split(X, y, test_size=0.3)"
   ]
  },
  {
   "cell_type": "code",
   "execution_count": 52,
   "metadata": {
    "ExecuteTime": {
     "end_time": "2019-10-30T12:44:11.646492Z",
     "start_time": "2019-10-30T12:44:11.642502Z"
    }
   },
   "outputs": [
    {
     "name": "stdout",
     "output_type": "stream",
     "text": [
      "[[6.1 3. ]\n",
      " [5.1 3.3]\n",
      " [4.7 3.2]\n",
      " [5.1 3.4]\n",
      " [5.7 2.8]]\n"
     ]
    }
   ],
   "source": [
    "print(X_train[:5])"
   ]
  },
  {
   "cell_type": "markdown",
   "metadata": {},
   "source": [
    "## LogisticRegression 模型"
   ]
  },
  {
   "cell_type": "code",
   "execution_count": 60,
   "metadata": {
    "ExecuteTime": {
     "end_time": "2019-10-30T12:53:56.317182Z",
     "start_time": "2019-10-30T12:53:56.306211Z"
    }
   },
   "outputs": [],
   "source": [
    "class LogisticRegressionClassifier():\n",
    "    def __init__(self, max_iter=200, learning_rate=0.01):\n",
    "        self.max_iter = max_iter\n",
    "        self.learning_rate = learning_rate\n",
    "        \n",
    "    def sigmoid(seld, x):\n",
    "        return 1 / (1 + exp(-x))\n",
    "    \n",
    "    def data_matrix(self, X):\n",
    "        \"\"\"\n",
    "        给训练鼠每一行增加一列 1\n",
    "        :param X: 训练数据\n",
    "        \"\"\"\n",
    "        data_mat = []\n",
    "        for d in X:\n",
    "            data_mat.append([1.0, *d])\n",
    "        return np.array(data_mat)\n",
    "    \n",
    "    def fit(self, X, y):\n",
    "        # 增加第一列全1\n",
    "        data_mat = self.data_matrix(X)\n",
    "        self.weights = np.zeros(len(data_mat[0]), dtype=np.float32)\n",
    "        \n",
    "        for iter_ in range(self.max_iter):\n",
    "            for i in range(len(X)):\n",
    "                # 随机梯度下降\n",
    "                # 统计学习方法中 对 6.1.3 对数似然函数求导为 xi * yi - (exp(w * xi) * xi) / (1 + exp(w * xi))\n",
    "                # 似然函数最大，梯度下降变为梯度上升\n",
    "                xi = data_mat[i]\n",
    "                yi = y[i]\n",
    "                wx = np.dot(xi, self.weights)\n",
    "                self.weights += self.learning_rate * (xi * yi - (exp(wx) * xi) / (1 + exp(wx)))\n",
    "                \n",
    "                # 梯度求导方法也可以使用下面的方式, 没有做 exp 变换，求导所得\n",
    "#                 result = self.sigmoid(np.dot(data_mat[i], self.weights))\n",
    "#                 error = y[i] - result\n",
    "#                 self.weights += self.learning_rate * error * [data_mat[i]\n",
    "        print('LogisticRegression Model(learning_rate={},max_iter={})'.format(\n",
    "        self.learning_rate, self.max_iter))\n",
    "    def predict(self, test_data):\n",
    "        \"\"\"\n",
    "        根据测试集返回预测结果\n",
    "        :param test_data:\n",
    "        :return: array\n",
    "        \"\"\"\n",
    "        all_prob = self.predict_prob(test_data)\n",
    "        result_label = [1 if i > 0.5 else 0 for i in all_prob]\n",
    "        \n",
    "        return result_label\n",
    "        \n",
    "    def predict_prob(self, test_data):\n",
    "        \"\"\"\n",
    "        根据测试集返回预测概率\n",
    "        :param test_data:\n",
    "        :return: array\n",
    "        \"\"\"\n",
    "        all_prob = np.zeros(len(test_data))\n",
    "        test_data = self.data_matrix(test_data)\n",
    "        \n",
    "        for i in range(len(test_data)):\n",
    "            all_prob[i] = self.sigmoid(np.dot(self.weights, test_data[i]))\n",
    "            \n",
    "        return all_prob\n",
    "    \n",
    "    def score(self, test_data, test_label):\n",
    "        \"\"\"\n",
    "        :param test_data: 测试数据\n",
    "        :param test_label: 测试数据标签\n",
    "        :return:\n",
    "        \"\"\"\n",
    "        predict_label = self.predict(test_data)\n",
    "\n",
    "        error_cnt = 0\n",
    "        for k in range(len(predict_label)):\n",
    "            # 记录误分类数\n",
    "            if predict_label[k] != test_label[k]:\n",
    "                error_cnt += 1\n",
    "        # 正确率 = 1 - 错误分类样本数 / 总样本数\n",
    "        print('accuracy: ', 1 - error_cnt / len(predict_label))"
   ]
  },
  {
   "cell_type": "code",
   "execution_count": 61,
   "metadata": {
    "ExecuteTime": {
     "end_time": "2019-10-30T12:53:57.455218Z",
     "start_time": "2019-10-30T12:53:57.342484Z"
    }
   },
   "outputs": [
    {
     "name": "stdout",
     "output_type": "stream",
     "text": [
      "LogisticRegression Model(learning_rate=0.01,max_iter=200)\n"
     ]
    }
   ],
   "source": [
    "lr_clf = LogisticRegressionClassifier()\n",
    "lr_clf.fit(X_train, y_train)"
   ]
  },
  {
   "cell_type": "code",
   "execution_count": 62,
   "metadata": {
    "ExecuteTime": {
     "end_time": "2019-10-30T12:53:58.155633Z",
     "start_time": "2019-10-30T12:53:58.152603Z"
    }
   },
   "outputs": [
    {
     "name": "stdout",
     "output_type": "stream",
     "text": [
      "accuracy:  1.0\n"
     ]
    }
   ],
   "source": [
    "lr_clf.score(X_test, y_test)"
   ]
  },
  {
   "cell_type": "markdown",
   "metadata": {},
   "source": [
    "## 画图展示训练结果"
   ]
  },
  {
   "cell_type": "code",
   "execution_count": 66,
   "metadata": {
    "ExecuteTime": {
     "end_time": "2019-10-30T13:02:19.575928Z",
     "start_time": "2019-10-30T13:02:19.424728Z"
    },
    "scrolled": true
   },
   "outputs": [
    {
     "data": {
      "text/plain": [
       "<matplotlib.legend.Legend at 0x11d9b762f98>"
      ]
     },
     "execution_count": 66,
     "metadata": {},
     "output_type": "execute_result"
    },
    {
     "data": {
      "image/png": "[encoded data removed]",
      "text/plain": [
       "<Figure size 432x288 with 1 Axes>"
      ]
     },
     "metadata": {
      "needs_background": "light"
     },
     "output_type": "display_data"
    }
   ],
   "source": [
    "x_ponits = np.arange(4, 8)\n",
    "# x1 取 x_ponits 时， x2 的值\n",
    "y_ = -(lr_clf.weights[1]*x_ponits + lr_clf.weights[0])/lr_clf.weights[2]\n",
    "plt.plot(x_ponits, y_)\n",
    "\n",
    "#lr_clf.show_graph()\n",
    "plt.scatter(X[:50,0],X[:50,1], label='0')\n",
    "plt.scatter(X[50:,0],X[50:,1], label='1')\n",
    "plt.legend()"
   ]
  },
  {
   "cell_type": "code",
   "execution_count": null,
   "metadata": {},
   "outputs": [],
   "source": []
  }
 ],
 "metadata": {
  "kernelspec": {
   "display_name": "Python 3",
   "language": "python",
   "name": "python3"
  },
  "language_info": {
   "codemirror_mode": {
    "name": "ipython",
    "version": 3
   },
   "file_extension": ".py",
   "mimetype": "text/x-python",
   "name": "python",
   "nbconvert_exporter": "python",
   "pygments_lexer": "ipython3",
   "version": "3.7.3"
  },
  "toc": {
   "base_numbering": 1,
   "nav_menu": {},
   "number_sections": true,
   "sideBar": true,
   "skip_h1_title": true,
   "title_cell": "Table of Contents",
   "title_sidebar": "Contents",
   "toc_cell": false,
   "toc_position": {},
   "toc_section_display": true,
   "toc_window_display": false
  },
  "varInspector": {
   "cols": {
    "lenName": 16,
    "lenType": 16,
    "lenVar": 40
   },
   "kernels_config": {
    "python": {
     "delete_cmd_postfix": "",
     "delete_cmd_prefix": "del ",
     "library": "var_list.py",
     "varRefreshCmd": "print(var_dic_list())"
    },
    "r": {
     "delete_cmd_postfix": ") ",
     "delete_cmd_prefix": "rm(",
     "library": "var_list.r",
     "varRefreshCmd": "cat(var_dic_list()) "
    }
   },
   "types_to_exclude": [
    "module",
    "function",
    "builtin_function_or_method",
    "instance",
    "_Feature"
   ],
   "window_display": false
  }
 },
 "nbformat": 4,
 "nbformat_minor": 2
}
