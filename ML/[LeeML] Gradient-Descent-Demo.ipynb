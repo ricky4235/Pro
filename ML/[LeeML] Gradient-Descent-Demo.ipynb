{
 "cells": [
  {
   "cell_type": "code",
   "execution_count": null,
   "metadata": {},
   "outputs": [],
   "source": [
    "[LeeML] Gradient-Descent-Demo"
   ]
  },
  {
   "cell_type": "markdown",
   "metadata": {},
   "source": [
    "# Regression：linear model\n",
    "这里采用最简单的linear model：**y_data=b+w*x_data**\n",
    "\n",
    "我们要用gradient descent把b和w找出来\n",
    "\n",
    "当然这个问题有closed-form solution，这个b和w有更简单的方法可以找出来；那我们假装不知道这件事，我们练习用gradient descent把b和w找出来"
   ]
  },
  {
   "cell_type": "markdown",
   "metadata": {},
   "source": [
    "#### 数据准备："
   ]
  },
  {
   "cell_type": "code",
   "execution_count": 1,
   "metadata": {},
   "outputs": [],
   "source": [
    "# 假设x_data和y_data都有10笔，分别代表宝可梦进化前后的cp值\n",
    "x_data=[338.,333.,328.,207.,226.,25.,179.,60.,208.,606.]\n",
    "y_data=[640.,633.,619.,393.,428.,27.,193.,66.,226.,1591.]\n",
    "# 这里采用最简单的linear model：y_data=b+w*x_data\n",
    "# 我们要用gradient descent把b和w找出来"
   ]
  },
  {
   "cell_type": "markdown",
   "metadata": {},
   "source": [
    "#### 计算梯度微分的函数getGrad()"
   ]
  },
  {
   "cell_type": "code",
   "execution_count": 2,
   "metadata": {},
   "outputs": [],
   "source": [
    "# 计算梯度微分的函数getGrad()\n",
    "def getGrad(b,w):\n",
    "    # initial b_grad and w_grad\n",
    "    b_grad=0.0\n",
    "    w_grad=0.0\n",
    "    for i in range(10):\n",
    "        b_grad+=(-2.0)*(y_data[i]-(b+w*x_data[i]))\n",
    "        w_grad+=(-2.0*x_data[i])*(y_data[i]-(b+w*x_data[i]))\n",
    "    return (b_grad,w_grad)"
   ]
  },
  {
   "cell_type": "code",
   "execution_count": 3,
   "metadata": {},
   "outputs": [
    {
     "ename": "NameError",
     "evalue": "name 'b_grad' is not defined",
     "output_type": "error",
     "traceback": [
      "\u001b[1;31m---------------------------------------------------------------------------\u001b[0m",
      "\u001b[1;31mNameError\u001b[0m                                 Traceback (most recent call last)",
      "\u001b[1;32m<ipython-input-3-f6aa24c17b11>\u001b[0m in \u001b[0;36m<module>\u001b[1;34m\u001b[0m\n\u001b[1;32m----> 1\u001b[1;33m \u001b[0mb_grad\u001b[0m\u001b[1;33m\u001b[0m\u001b[1;33m\u001b[0m\u001b[0m\n\u001b[0m",
      "\u001b[1;31mNameError\u001b[0m: name 'b_grad' is not defined"
     ]
    }
   ],
   "source": [
    "getGrad(b,w)"
   ]
  },
  {
   "cell_type": "markdown",
   "metadata": {},
   "source": [
    "### 1、自己写的版本\n",
    "当两个微分值b_grad和w_grad都为0时，gradient descent停止，b和w的值就是我们要找的最终参数"
   ]
  },
  {
   "cell_type": "code",
   "execution_count": 4,
   "metadata": {},
   "outputs": [
    {
     "name": "stdout",
     "output_type": "stream",
     "text": [
      "the function will be y_data=-inf+nan*x_data\n",
      "the average error is nan\n"
     ]
    }
   ],
   "source": [
    "# 这是我自己写的版本，事实证明结果很糟糕。。。\n",
    "# y_data=b+w*x_data\n",
    "# 首先，这里没有用到高次项，仅是一个简单的linear model，因此不需要regularization版本的loss function\n",
    "# 我们只需要随机初始化一个b和w，然后用b_grad和w_grad记录下每一次iteration的微分值；\n",
    "# 不断循环更新b和w直至两个微分值b_grad和w_grad都为0，此时gradient descent停止，b和w的值就是我们要找的最终参数\n",
    "\n",
    "b=-120 # initial b\n",
    "w=-4 # initial w\n",
    "lr=0.00001 # learning rate\n",
    "b_grad=0.0\n",
    "w_grad=0.0\n",
    "(b_grad,w_grad)=getGrad(b,w)\n",
    "\n",
    "while(abs(b_grad)>0.00001 or abs(w_grad)>0.00001):\n",
    "    #print(\"b: \"+str(b)+\"\\t\\t\\t w: \"+str(w)+\"\\n\"+\"b_grad: \"+str(b_grad)+\"\\t\\t\\t w_grad: \"+str(w_grad)+\"\\n\")\n",
    "    b-=lr*b_grad\n",
    "    w-=lr*w_grad\n",
    "    (b_grad,w_grad)=getGrad(b,w)\n",
    "\n",
    "print(\"the function will be y_data=\"+str(b)+\"+\"+str(w)+\"*x_data\")\n",
    "\n",
    "error=0.0\n",
    "for i in range(10):\n",
    "    error+=abs(y_data[i]-(b+w*x_data[i]))\n",
    "average_error=error/10\n",
    "print(\"the average error is \"+str(average_error))"
   ]
  },
  {
   "cell_type": "markdown",
   "metadata": {},
   "source": [
    "上面的数据输出处于隐藏状态，点击即可显示"
   ]
  },
  {
   "cell_type": "markdown",
   "metadata": {},
   "source": [
    "### 2、这里使用李宏毅老师的demo尝试"
   ]
  },
  {
   "cell_type": "markdown",
   "metadata": {},
   "source": [
    "#### 引入需要的库"
   ]
  },
  {
   "cell_type": "code",
   "execution_count": 5,
   "metadata": {
    "scrolled": true
   },
   "outputs": [
    {
     "name": "stderr",
     "output_type": "stream",
     "text": [
      "C:\\Users\\11004076\\Anaconda3\\lib\\site-packages\\ipykernel_launcher.py:3: UserWarning: \n",
      "This call to matplotlib.use() has no effect because the backend has already\n",
      "been chosen; matplotlib.use() must be called *before* pylab, matplotlib.pyplot,\n",
      "or matplotlib.backends is imported for the first time.\n",
      "\n",
      "The backend was *originally* set to 'module://ipykernel.pylab.backend_inline' by the following code:\n",
      "  File \"C:\\Users\\11004076\\Anaconda3\\lib\\runpy.py\", line 193, in _run_module_as_main\n",
      "    \"__main__\", mod_spec)\n",
      "  File \"C:\\Users\\11004076\\Anaconda3\\lib\\runpy.py\", line 85, in _run_code\n",
      "    exec(code, run_globals)\n",
      "  File \"C:\\Users\\11004076\\Anaconda3\\lib\\site-packages\\ipykernel_launcher.py\", line 16, in <module>\n",
      "    app.launch_new_instance()\n",
      "  File \"C:\\Users\\11004076\\Anaconda3\\lib\\site-packages\\traitlets\\config\\application.py\", line 658, in launch_instance\n",
      "    app.start()\n",
      "  File \"C:\\Users\\11004076\\Anaconda3\\lib\\site-packages\\ipykernel\\kernelapp.py\", line 505, in start\n",
      "    self.io_loop.start()\n",
      "  File \"C:\\Users\\11004076\\Anaconda3\\lib\\site-packages\\tornado\\platform\\asyncio.py\", line 132, in start\n",
      "    self.asyncio_loop.run_forever()\n",
      "  File \"C:\\Users\\11004076\\Anaconda3\\lib\\asyncio\\base_events.py\", line 528, in run_forever\n",
      "    self._run_once()\n",
      "  File \"C:\\Users\\11004076\\Anaconda3\\lib\\asyncio\\base_events.py\", line 1764, in _run_once\n",
      "    handle._run()\n",
      "  File \"C:\\Users\\11004076\\Anaconda3\\lib\\asyncio\\events.py\", line 88, in _run\n",
      "    self._context.run(self._callback, *self._args)\n",
      "  File \"C:\\Users\\11004076\\Anaconda3\\lib\\site-packages\\tornado\\ioloop.py\", line 758, in _run_callback\n",
      "    ret = callback()\n",
      "  File \"C:\\Users\\11004076\\Anaconda3\\lib\\site-packages\\tornado\\stack_context.py\", line 300, in null_wrapper\n",
      "    return fn(*args, **kwargs)\n",
      "  File \"C:\\Users\\11004076\\Anaconda3\\lib\\site-packages\\tornado\\gen.py\", line 1233, in inner\n",
      "    self.run()\n",
      "  File \"C:\\Users\\11004076\\Anaconda3\\lib\\site-packages\\tornado\\gen.py\", line 1147, in run\n",
      "    yielded = self.gen.send(value)\n",
      "  File \"C:\\Users\\11004076\\Anaconda3\\lib\\site-packages\\ipykernel\\kernelbase.py\", line 357, in process_one\n",
      "    yield gen.maybe_future(dispatch(*args))\n",
      "  File \"C:\\Users\\11004076\\Anaconda3\\lib\\site-packages\\tornado\\gen.py\", line 326, in wrapper\n",
      "    yielded = next(result)\n",
      "  File \"C:\\Users\\11004076\\Anaconda3\\lib\\site-packages\\ipykernel\\kernelbase.py\", line 267, in dispatch_shell\n",
      "    yield gen.maybe_future(handler(stream, idents, msg))\n",
      "  File \"C:\\Users\\11004076\\Anaconda3\\lib\\site-packages\\tornado\\gen.py\", line 326, in wrapper\n",
      "    yielded = next(result)\n",
      "  File \"C:\\Users\\11004076\\Anaconda3\\lib\\site-packages\\ipykernel\\kernelbase.py\", line 534, in execute_request\n",
      "    user_expressions, allow_stdin,\n",
      "  File \"C:\\Users\\11004076\\Anaconda3\\lib\\site-packages\\tornado\\gen.py\", line 326, in wrapper\n",
      "    yielded = next(result)\n",
      "  File \"C:\\Users\\11004076\\Anaconda3\\lib\\site-packages\\ipykernel\\ipkernel.py\", line 294, in do_execute\n",
      "    res = shell.run_cell(code, store_history=store_history, silent=silent)\n",
      "  File \"C:\\Users\\11004076\\Anaconda3\\lib\\site-packages\\ipykernel\\zmqshell.py\", line 536, in run_cell\n",
      "    return super(ZMQInteractiveShell, self).run_cell(*args, **kwargs)\n",
      "  File \"C:\\Users\\11004076\\Anaconda3\\lib\\site-packages\\IPython\\core\\interactiveshell.py\", line 2819, in run_cell\n",
      "    raw_cell, store_history, silent, shell_futures)\n",
      "  File \"C:\\Users\\11004076\\Anaconda3\\lib\\site-packages\\IPython\\core\\interactiveshell.py\", line 2845, in _run_cell\n",
      "    return runner(coro)\n",
      "  File \"C:\\Users\\11004076\\Anaconda3\\lib\\site-packages\\IPython\\core\\async_helpers.py\", line 67, in _pseudo_sync_runner\n",
      "    coro.send(None)\n",
      "  File \"C:\\Users\\11004076\\Anaconda3\\lib\\site-packages\\IPython\\core\\interactiveshell.py\", line 3020, in run_cell_async\n",
      "    interactivity=interactivity, compiler=compiler, result=result)\n",
      "  File \"C:\\Users\\11004076\\Anaconda3\\lib\\site-packages\\IPython\\core\\interactiveshell.py\", line 3185, in run_ast_nodes\n",
      "    if (yield from self.run_code(code, result)):\n",
      "  File \"C:\\Users\\11004076\\Anaconda3\\lib\\site-packages\\IPython\\core\\interactiveshell.py\", line 3267, in run_code\n",
      "    exec(code_obj, self.user_global_ns, self.user_ns)\n",
      "  File \"<ipython-input-5-24011242ae70>\", line 2, in <module>\n",
      "    import matplotlib.pyplot as plt\n",
      "  File \"C:\\Users\\11004076\\Anaconda3\\lib\\site-packages\\matplotlib\\pyplot.py\", line 71, in <module>\n",
      "    from matplotlib.backends import pylab_setup\n",
      "  File \"C:\\Users\\11004076\\Anaconda3\\lib\\site-packages\\matplotlib\\backends\\__init__.py\", line 16, in <module>\n",
      "    line for line in traceback.format_stack()\n",
      "\n",
      "\n",
      "  This is separate from the ipykernel package so we can avoid doing imports until\n"
     ]
    }
   ],
   "source": [
    "import matplotlib\n",
    "import matplotlib.pyplot as plt\n",
    "matplotlib.use('Agg')\n",
    "%matplotlib inline \n",
    "import random as random\n",
    "import numpy as np\n",
    "import csv"
   ]
  },
  {
   "cell_type": "markdown",
   "metadata": {},
   "source": [
    "#### 准备好b、w、loss的图像数据"
   ]
  },
  {
   "cell_type": "code",
   "execution_count": 7,
   "metadata": {},
   "outputs": [],
   "source": [
    "# 生成一组b和w的数据图，方便给gradient descent的过程做标记\n",
    "x = np.arange(-200,-100,1) # bias\n",
    "y = np.arange(-5,5,0.1) # weight\n",
    "Z = np.zeros((len(x),len(y))) # color\n",
    "X,Y = np.meshgrid(x,y)\n",
    "for i in range(len(x)):\n",
    "    for j in range(len(y)):\n",
    "        b = x[i]\n",
    "        w = y[j]\n",
    "        \n",
    "        # Z[j][i]存储的是loss\n",
    "        Z[j][i] = 0\n",
    "        for n in range(len(x_data)):\n",
    "            Z[j][i] = Z[j][i] + (y_data[n] - (b + w * x_data[n]))**2\n",
    "        Z[j][i] = Z[j][i]/len(x_data)"
   ]
  },
  {
   "cell_type": "markdown",
   "metadata": {},
   "source": [
    "#### 规定迭代次数和learning rate，进行第一次尝试\n",
    "距离最优解还有一段距离"
   ]
  },
  {
   "cell_type": "code",
   "execution_count": 8,
   "metadata": {},
   "outputs": [
    {
     "data": {
      "image/png": "[encoded data removed]",
      "text/plain": [
       "<Figure size 432x288 with 1 Axes>"
      ]
     },
     "metadata": {
      "needs_background": "light"
     },
     "output_type": "display_data"
    }
   ],
   "source": [
    "# y_data = b + w * x_data\n",
    "b = -120 # initial b\n",
    "w = -4 # initial w\n",
    "lr = 0.0000001 # learning rate\n",
    "iteration = 100000 # 这里直接规定了迭代次数，而不是一直运行到b_grad和w_grad都为0(事实证明这样做不太可行)\n",
    "\n",
    "# store initial values for plotting，我们想要最终把数据描绘在图上，因此存储过程数据\n",
    "b_history = [b]\n",
    "w_history = [w]\n",
    "\n",
    "# iterations\n",
    "for i in range(iteration):\n",
    "    \n",
    "    # get new b_grad and w_grad\n",
    "    b_grad,w_grad=getGrad(b,w)\n",
    "    \n",
    "    # update b and w\n",
    "    b -= lr * b_grad\n",
    "    w -= lr * w_grad\n",
    "    \n",
    "    #store parameters for plotting\n",
    "    b_history.append(b)\n",
    "    w_history.append(w)\n",
    "\n",
    "# plot the figure\n",
    "plt.contourf(x,y,Z,50,alpha=0.5,cmap=plt.get_cmap('jet'))\n",
    "plt.plot([-188.4],[2.67],'x',ms=12,markeredgewidth=3,color='orange')\n",
    "plt.plot(b_history,w_history,'o-',ms=3,lw=1.5,color='black')\n",
    "plt.xlim(-200,-100)\n",
    "plt.ylim(-5,5)\n",
    "plt.xlabel(r'$b$',fontsize=16)\n",
    "plt.ylabel(r'$w$',fontsize=16)\n",
    "plt.show()"
   ]
  },
  {
   "cell_type": "markdown",
   "metadata": {},
   "source": [
    "#### 把learning rate增大10倍尝试\n",
    "发现经过100000次的update以后，我们的参数相比之前与最终目标更接近了，但是这里有一个剧烈的震荡现象发生"
   ]
  },
  {
   "cell_type": "code",
   "execution_count": 9,
   "metadata": {},
   "outputs": [
    {
     "data": {
      "image/png": "[encoded data removed]",
      "text/plain": [
       "<Figure size 432x288 with 1 Axes>"
      ]
     },
     "metadata": {
      "needs_background": "light"
     },
     "output_type": "display_data"
    }
   ],
   "source": [
    "# 上图中，gradient descent最终停止的地方里最优解还差很远，\n",
    "# 由于我们是规定了iteration次数的，因此原因应该是learning rate不够大，这里把它放大10倍\n",
    "\n",
    "# y_data = b + w * x_data\n",
    "b = -120 # initial b\n",
    "w = -4 # initial w\n",
    "lr = 0.000001 # learning rate 放大10倍\n",
    "iteration = 100000 # 这里直接规定了迭代次数，而不是一直运行到b_grad和w_grad都为0(事实证明这样做不太可行)\n",
    "\n",
    "# store initial values for plotting，我们想要最终把数据描绘在图上，因此存储过程数据\n",
    "b_history = [b]\n",
    "w_history = [w]\n",
    "\n",
    "# iterations\n",
    "for i in range(iteration):\n",
    "    \n",
    "    # get new b_grad and w_grad\n",
    "    b_grad,w_grad=getGrad(b,w)\n",
    "    \n",
    "    # update b and w\n",
    "    b -= lr * b_grad\n",
    "    w -= lr * w_grad\n",
    "    \n",
    "    #store parameters for plotting\n",
    "    b_history.append(b)\n",
    "    w_history.append(w)\n",
    "\n",
    "# plot the figure\n",
    "plt.contourf(x,y,Z,50,alpha=0.5,cmap=plt.get_cmap('jet'))\n",
    "plt.plot([-188.4],[2.67],'x',ms=12,markeredgewidth=3,color='orange')\n",
    "plt.plot(b_history,w_history,'o-',ms=3,lw=1.5,color='black')\n",
    "plt.xlim(-200,-100)\n",
    "plt.ylim(-5,5)\n",
    "plt.xlabel(r'$b$',fontsize=16)\n",
    "plt.ylabel(r'$w$',fontsize=16)\n",
    "plt.show()"
   ]
  },
  {
   "cell_type": "markdown",
   "metadata": {},
   "source": [
    "#### 把learning rate再增大10倍\n",
    "发现此时learning rate太大了，参数一update，就远远超出图中标注的范围了\n",
    "\n",
    "所以我们会发现一个很严重的问题，如果learning rate变小一点，他距离最佳解还是会具有一段距离；但是如果learning rate放大，它就会直接超出范围了"
   ]
  },
  {
   "cell_type": "code",
   "execution_count": 10,
   "metadata": {},
   "outputs": [
    {
     "data": {
      "image/png": "[encoded data removed]",
      "text/plain": [
       "<Figure size 432x288 with 1 Axes>"
      ]
     },
     "metadata": {
      "needs_background": "light"
     },
     "output_type": "display_data"
    }
   ],
   "source": [
    "# 上图中，gradient descent最终停止的地方里最优解还是有一点远，\n",
    "# 由于我们是规定了iteration次数的，因此原因应该是learning rate还是不够大，这里再把它放大10倍\n",
    "\n",
    "# y_data = b + w * x_data\n",
    "b = -120 # initial b\n",
    "w = -4 # initial w\n",
    "lr = 0.00001 # learning rate 放大10倍\n",
    "iteration = 100000 # 这里直接规定了迭代次数，而不是一直运行到b_grad和w_grad都为0(事实证明这样做不太可行)\n",
    "\n",
    "# store initial values for plotting，我们想要最终把数据描绘在图上，因此存储过程数据\n",
    "b_history = [b]\n",
    "w_history = [w]\n",
    "\n",
    "# iterations\n",
    "for i in range(iteration):\n",
    "    \n",
    "    # get new b_grad and w_grad\n",
    "    b_grad,w_grad=getGrad(b,w)\n",
    "    \n",
    "    # update b and w\n",
    "    b -= lr * b_grad\n",
    "    w -= lr * w_grad\n",
    "    \n",
    "    #store parameters for plotting\n",
    "    b_history.append(b)\n",
    "    w_history.append(w)\n",
    "\n",
    "# plot the figure\n",
    "plt.contourf(x,y,Z,50,alpha=0.5,cmap=plt.get_cmap('jet'))\n",
    "plt.plot([-188.4],[2.67],'x',ms=12,markeredgewidth=3,color='orange')\n",
    "plt.plot(b_history,w_history,'o-',ms=3,lw=1.5,color='black')\n",
    "plt.xlim(-200,-100)\n",
    "plt.ylim(-5,5)\n",
    "plt.xlabel(r'$b$',fontsize=16)\n",
    "plt.ylabel(r'$w$',fontsize=16)\n",
    "plt.show()"
   ]
  },
  {
   "cell_type": "markdown",
   "metadata": {},
   "source": [
    "#### 这个问题明明很简单，可是只有两个参数b和w，gradient descent搞半天都搞不定，那以后做neural network有数百万个参数的时候，要怎么办呢\n",
    "这个就是**一室不治何以国家为**的概念"
   ]
  },
  {
   "cell_type": "markdown",
   "metadata": {},
   "source": [
    "#### 于是这里就要放大招了！！！——Adagrad\n",
    "我们给b和w客制化的learning rate，让它们两个的learning rate不一样"
   ]
  },
  {
   "cell_type": "code",
   "execution_count": 11,
   "metadata": {},
   "outputs": [
    {
     "name": "stdout",
     "output_type": "stream",
     "text": [
      "the function will be y_data=-188.3668387495323+2.6692640713379903*x_data\n",
      "error 0 is: 73.84441736270833 \n",
      "error 1 is: 67.4980970060185 \n",
      "error 2 is: 68.15177664932844 \n",
      "error 3 is: 28.8291759825683 \n",
      "error 4 is: 13.113158627146447 \n",
      "error 5 is: 148.63523696608252 \n",
      "error 6 is: 96.43143001996799 \n",
      "error 7 is: 94.21099446925288 \n",
      "error 8 is: 140.84008808876973 \n",
      "error 9 is: 161.7928115187101 \n",
      "the average error is 89.33471866905532\n"
     ]
    },
    {
     "data": {
      "image/png": "[encoded data removed]",
      "text/plain": [
       "<Figure size 432x288 with 1 Axes>"
      ]
     },
     "metadata": {
      "needs_background": "light"
     },
     "output_type": "display_data"
    }
   ],
   "source": [
    "# 这里给b和w不同的learning rate \n",
    "\n",
    "# y_data = b + w * x_data\n",
    "b = -120 # initial b\n",
    "w = -4 # initial w\n",
    "lr = 1 # learning rate 放大10倍\n",
    "iteration = 100000 # 这里直接规定了迭代次数，而不是一直运行到b_grad和w_grad都为0(事实证明这样做不太可行)\n",
    "\n",
    "# store initial values for plotting，我们想要最终把数据描绘在图上，因此存储过程数据\n",
    "b_history = [b]\n",
    "w_history = [w]\n",
    "\n",
    "lr_b = 0\n",
    "lr_w = 0\n",
    "\n",
    "# iterations\n",
    "for i in range(iteration):\n",
    "    \n",
    "    # get new b_grad and w_grad\n",
    "    b_grad,w_grad=getGrad(b,w)\n",
    "    \n",
    "    # get the different learning rate for b and w\n",
    "    lr_b = lr_b + b_grad ** 2\n",
    "    lr_w = lr_w + w_grad ** 2\n",
    "    \n",
    "    # 这一招叫做adagrad，之后会详加解释\n",
    "    # update b and w with new learning rate\n",
    "    b -= lr / np.sqrt(lr_b) * b_grad\n",
    "    w -= lr / np.sqrt(lr_w) * w_grad\n",
    "    \n",
    "    #store parameters for plotting\n",
    "    b_history.append(b)\n",
    "    w_history.append(w)\n",
    "    \n",
    "    # output the b w b_grad w_grad\n",
    "    # print(\"b: \"+str(b)+\"\\t\\t\\t w: \"+str(w)+\"\\n\"+\"b_grad: \"+str(b_grad)+\"\\t\\t w_grad: \"+str(w_grad)+\"\\n\")\n",
    "    \n",
    "# output the final function and its error\n",
    "print(\"the function will be y_data=\"+str(b)+\"+\"+str(w)+\"*x_data\")\n",
    "error=0.0\n",
    "for i in range(10):\n",
    "    print(\"error \"+str(i)+\" is: \"+str(np.abs(y_data[i]-(b+w*x_data[i])))+\" \")\n",
    "    error+=np.abs(y_data[i]-(b+w*x_data[i]))\n",
    "average_error=error/10\n",
    "print(\"the average error is \"+str(average_error))\n",
    "\n",
    "# plot the figure\n",
    "plt.contourf(x,y,Z,50,alpha=0.5,cmap=plt.get_cmap('jet'))\n",
    "plt.plot([-188.4],[2.67],'x',ms=12,markeredgewidth=3,color='orange')\n",
    "plt.plot(b_history,w_history,'o-',ms=3,lw=1.5,color='black')\n",
    "plt.xlim(-200,-100)\n",
    "plt.ylim(-5,5)\n",
    "plt.xlabel(r'$b$',fontsize=16)\n",
    "plt.ylabel(r'$w$',fontsize=16)\n",
    "plt.show()"
   ]
  },
  {
   "cell_type": "markdown",
   "metadata": {},
   "source": [
    "#### 有了新的learning rate以后，从初始值到终点，我们在100000次iteration之内就可以顺利地完成了"
   ]
  },
  {
   "cell_type": "code",
   "execution_count": null,
   "metadata": {},
   "outputs": [],
   "source": []
  }
 ],
 "metadata": {
  "kernelspec": {
   "display_name": "Python 3",
   "language": "python",
   "name": "python3"
  },
  "language_info": {
   "codemirror_mode": {
    "name": "ipython",
    "version": 3
   },
   "file_extension": ".py",
   "mimetype": "text/x-python",
   "name": "python",
   "nbconvert_exporter": "python",
   "pygments_lexer": "ipython3",
   "version": "3.7.1"
  }
 },
 "nbformat": 4,
 "nbformat_minor": 2
}
