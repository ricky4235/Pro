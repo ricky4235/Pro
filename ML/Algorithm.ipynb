{
 "cells": [
  {
   "cell_type": "code",
   "execution_count": null,
   "metadata": {},
   "outputs": [],
   "source": [
    "演算法"
   ]
  },
  {
   "cell_type": "code",
   "execution_count": null,
   "metadata": {},
   "outputs": [],
   "source": [
    "演算法的簡單定義式：輸入 + 演算法 = 輸出"
   ]
  },
  {
   "cell_type": "code",
   "execution_count": null,
   "metadata": {},
   "outputs": [],
   "source": [
    "假設我們輸入一個 2 還有一個 3，如果想要得到 6，我們需要在中間加上一個演算法「乘號 X」，讓 2 x 3 = 6。\n",
    "我今天輸入一顆橘子，想要得到一杯橘子汁，中間可能經過果汁機，或是經過憤怒的手。只要最後可以順利得到橘子汁，中間的過程就可以稱為它的演算法。"
   ]
  },
  {
   "cell_type": "code",
   "execution_count": null,
   "metadata": {},
   "outputs": [],
   "source": [
    "我們再接觸程式時常聽到「演算法」的這個詞，通常是指把這些步驟具體寫成程式，用來達成特定目的的過程。"
   ]
  },
  {
   "cell_type": "code",
   "execution_count": null,
   "metadata": {},
   "outputs": [],
   "source": [
    "Facebook News Feed 例子"
   ]
  },
  {
   "cell_type": "code",
   "execution_count": null,
   "metadata": {},
   "outputs": [],
   "source": [
    "新聞源的目標"
   ]
  },
  {
   "cell_type": "code",
   "execution_count": null,
   "metadata": {},
   "outputs": [],
   "source": [
    "* FB的目標是選擇最相關和最具吸引力的故事，以顯示在新聞源中。它希望從數千個潛在故事中選擇最佳內容，並將其放在您實際瀏覽的前幾十個廣告位中。\n",
    "* FB將您喜歡的故事，評論，共享，點擊和花費時間的閱讀排在優先位置，我們將其稱為“互動”。\n",
    "* FB還運行在線調查和離線焦點小組，以獲取有關人們認為應該出現的故事的更多反饋。\n",
    "* 內容越引人入勝，您返回到Facebook的次數就越多，它可以更好地完成與人聯繫的任務，同時也可以從News Feed中顯示的廣告中獲利。"
   ]
  },
  {
   "cell_type": "code",
   "execution_count": null,
   "metadata": {},
   "outputs": [],
   "source": [
    "影響您所見內容的主要因素\n",
    "Facebook的算法如何選擇以什麼順序出現？"
   ]
  },
  {
   "cell_type": "code",
   "execution_count": null,
   "metadata": {},
   "outputs": [],
   "source": [
    "它為每個故事分配一個個性化的相關性分數，該分數對於每個看到該故事的人都是不同的，並且將最相關的故事放在第一位。\n",
    "該算法考慮了數千種不同的信號。以下四個主要因素決定了故事的個性化相關性得分，並因此決定了該用戶的可見性。\n",
    "* 誰發布的帖子 –過去您與帖子作者互動的次數越多，越容易顯示\n",
    "* 其他人如何參與該帖子 -該文章的熱度\n",
    "* 它是什麼類型的帖子 –您通常與某類帖子互動較多，ex:視頻、新聞...\n",
    "* 時間 –故事發布的時間越近，您看到它的可能性就越大，但是，Fb也會檢測到您上次檢查登入時間，如果您沒有看到它們，則它們的排名會更高"
   ]
  },
  {
   "cell_type": "code",
   "execution_count": null,
   "metadata": {},
   "outputs": [],
   "source": [
    "執行時間 vs 步驟次數"
   ]
  },
  {
   "cell_type": "code",
   "execution_count": null,
   "metadata": {},
   "outputs": [],
   "source": [
    "x = 10\n",
    "for i from 1 to x:\n",
    "    print(\"你好！\")"
   ]
  },
  {
   "cell_type": "code",
   "execution_count": null,
   "metadata": {},
   "outputs": [],
   "source": [
    "在 for 後面的迴圈中，輸出”你好！”這個動作被執行從 x = 1 到 x = 10 總共 10 次，因此這個 for 迴圈總共的步驟次數就是 10。但也別忘了，第一行 x = 10 也是一個步驟，所以上面的三行程式碼總共的步驟次數 = 11。"
   ]
  },
  {
   "cell_type": "code",
   "execution_count": null,
   "metadata": {},
   "outputs": [],
   "source": [
    "演算法重要觀念：演算法有多快不是以秒衡量，而是以步驟次數"
   ]
  },
  {
   "cell_type": "code",
   "execution_count": null,
   "metadata": {},
   "outputs": [],
   "source": [
    "因為執行時間會因不同裝置而有效能差異"
   ]
  }
 ],
 "metadata": {
  "kernelspec": {
   "display_name": "Python 3",
   "language": "python",
   "name": "python3"
  },
  "language_info": {
   "codemirror_mode": {
    "name": "ipython",
    "version": 3
   },
   "file_extension": ".py",
   "mimetype": "text/x-python",
   "name": "python",
   "nbconvert_exporter": "python",
   "pygments_lexer": "ipython3",
   "version": "3.7.1"
  }
 },
 "nbformat": 4,
 "nbformat_minor": 2
}
